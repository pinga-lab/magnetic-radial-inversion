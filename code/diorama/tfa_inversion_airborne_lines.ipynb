{
 "cells": [
  {
   "cell_type": "markdown",
   "metadata": {},
   "source": [
    "# Diorama TFA inversion"
   ]
  },
  {
   "cell_type": "code",
   "execution_count": 1,
   "metadata": {},
   "outputs": [
    {
     "name": "stderr",
     "output_type": "stream",
     "text": [
      "C:\\Users\\bes064\\AppData\\Local\\Continuum\\anaconda2\\lib\\site-packages\\fatiando\\vis\\mpl.py:76: UserWarning: This module will be removed in v0.6. We recommend the use of matplotlib.pyplot module directly. Some of the fatiando specific functions will remain.\n",
      "  \"specific functions will remain.\")\n",
      "C:\\Users\\bes064\\AppData\\Local\\Continuum\\anaconda2\\lib\\site-packages\\fatiando\\vis\\myv.py:51: UserWarning: This module will be removed in v0.7.\n",
      "  warnings.warn(\"This module will be removed in v0.7.\")\n"
     ]
    }
   ],
   "source": [
    "import numpy as np\n",
    "import matplotlib.pyplot as plt\n",
    "import cPickle as pickle\n",
    "import os\n",
    "import pandas as pd\n",
    "\n",
    "from fatiando import utils\n",
    "from fatiando.gravmag import polyprism\n",
    "from fatiando.mesher import PolygonalPrism\n",
    "from fatiando.vis import mpl, myv\n",
    "from matplotlib import colors, ticker, cm\n",
    "from IPython.display import Image as img\n",
    "from matplotlib.mlab import normpdf"
   ]
  },
  {
   "cell_type": "markdown",
   "metadata": {},
   "source": [
    "### Auxiliary functions"
   ]
  },
  {
   "cell_type": "code",
   "execution_count": 2,
   "metadata": {
    "collapsed": true
   },
   "outputs": [],
   "source": [
    "import sys\n",
    "sys.path.insert(0, '../../code')\n",
    "\n",
    "import mag_polyprism_functions as mfun\n",
    "import mag_sphere_functions as msf"
   ]
  },
  {
   "cell_type": "markdown",
   "metadata": {},
   "source": [
    "# Input"
   ]
  },
  {
   "cell_type": "markdown",
   "metadata": {},
   "source": [
    "### Importing Diorama TFA data"
   ]
  },
  {
   "cell_type": "raw",
   "metadata": {},
   "source": [
    "data = pd.read_csv('diorama_decimated_tfa.txt', skipinitialspace=True, delim_whitespace=True)"
   ]
  },
  {
   "cell_type": "raw",
   "metadata": {},
   "source": [
    "xp = data['X'].get_values()\n",
    "yp = data['Y'].get_values()\n",
    "zp = - data['GPSALT'].get_values()\n",
    "dobs = data['MAGIGRF'].get_values()"
   ]
  },
  {
   "cell_type": "markdown",
   "metadata": {},
   "source": [
    "### Importing Diorama upward TFA data"
   ]
  },
  {
   "cell_type": "code",
   "execution_count": 3,
   "metadata": {},
   "outputs": [],
   "source": [
    "with open('diorama_eqlayer/direction_inc-71_dec-23_h200m/diorama_eqlayer_depth200m.pickle') as w:\n",
    "        di = pickle.load(w)"
   ]
  },
  {
   "cell_type": "code",
   "execution_count": 4,
   "metadata": {},
   "outputs": [],
   "source": [
    "xp = di['x']\n",
    "yp = di['y']\n",
    "zp = di['z']\n",
    "dobs = di['upward']"
   ]
  },
  {
   "cell_type": "code",
   "execution_count": 5,
   "metadata": {},
   "outputs": [
    {
     "data": {
      "text/plain": [
       "array([-1100., -1100., -1100., ..., -1100., -1100., -1100.])"
      ]
     },
     "execution_count": 5,
     "metadata": {},
     "output_type": "execute_result"
    }
   ],
   "source": [
    "zp"
   ]
  },
  {
   "cell_type": "markdown",
   "metadata": {},
   "source": [
    "### Importing Diorama TFA data (Clive)"
   ]
  },
  {
   "cell_type": "raw",
   "metadata": {},
   "source": [
    "data = pd.read_csv('Diorama.csv', skipinitialspace=True, delimiter=',')"
   ]
  },
  {
   "cell_type": "raw",
   "metadata": {},
   "source": [
    "xp = data['Y'].get_values()\n",
    "yp = data['X'].get_values()\n",
    "zp = - data['GPSALT'].get_values()\n",
    "dobs = data['mag_res'].get_values()"
   ]
  },
  {
   "cell_type": "markdown",
   "metadata": {},
   "source": [
    "### Importing Diorama upward TFA data (Clive)"
   ]
  },
  {
   "cell_type": "raw",
   "metadata": {},
   "source": [
    "with open('diorama_eqlayer/direction_inc-43_dec-3_h200m/diorama_eqlayer_depth200m.pickle') as w:\n",
    "        di = pickle.load(w)"
   ]
  },
  {
   "cell_type": "raw",
   "metadata": {},
   "source": [
    "xp = di['x']\n",
    "yp = di['y']\n",
    "zp = di['z']\n",
    "dobs = di['upward']"
   ]
  },
  {
   "cell_type": "markdown",
   "metadata": {},
   "source": [
    "### Parameters for inversion"
   ]
  },
  {
   "cell_type": "code",
   "execution_count": 6,
   "metadata": {},
   "outputs": [],
   "source": [
    "# output of inversion\n",
    "inversion = dict()"
   ]
  },
  {
   "cell_type": "code",
   "execution_count": 7,
   "metadata": {},
   "outputs": [],
   "source": [
    "inversion['xp'] = xp\n",
    "inversion['yp'] = yp\n",
    "inversion['zp'] = zp\n",
    "inversion['observed_data'] = dobs\n",
    "N = xp.size"
   ]
  },
  {
   "cell_type": "code",
   "execution_count": 8,
   "metadata": {
    "collapsed": false
   },
   "outputs": [],
   "source": [
    "#initial estimate\n",
    "M = 30 # number of vertices per prism\n",
    "L = 10 # number of prisms\n",
    "P = L*(M+2) + 1 # number of parameters\n",
    "\n",
    "# daiana\n",
    "incs = -71.41751# - 10.\n",
    "decs = -23.39541# - 10.\n",
    "intensity = 15.# + 1.\n",
    "\n",
    "# andré\n",
    "#incs = -59.\n",
    "#decs = -114.5\n",
    "#intensity = 12.\n",
    "\n",
    "#clive\n",
    "#incs = -43.\n",
    "#decs = -3.\n",
    "\n",
    "#figura\n",
    "z0 = 350. - 350.\n",
    "dz = 850.\n",
    "r = 100.\n",
    "props = {'magnetization': utils.ang2vec(\n",
    "        intensity, incs, decs)}\n",
    "\n",
    "rin = np.zeros(M) + r\n",
    "m0 = np.hstack((rin, np.array([8212500., 478200.])))\n",
    "m0 = np.resize(m0, P - 1) # inicial parameters vector\n",
    "m0 = np.hstack((m0, dz))\n",
    "model0 = mfun.param2polyprism(m0, M, L, z0, props) # list of classes of prisms\n",
    "\n",
    "# main field\n",
    "inc = -19.5\n",
    "dec = -18.\n",
    "\n",
    "# predict data\n",
    "d0 = polyprism.tf(xp, yp, zp, model0, inc, dec)"
   ]
  },
  {
   "cell_type": "code",
   "execution_count": 9,
   "metadata": {},
   "outputs": [],
   "source": [
    "# limits for parameters in meters\n",
    "rmin = 50.\n",
    "rmax = 3000.\n",
    "x0min = 8212500.\n",
    "x0max = 8213500.\n",
    "y0min = 478000.\n",
    "y0max = 479000.\n",
    "dzmin = 10.\n",
    "dzmax = 1000.\n",
    "\n",
    "mmin, mmax = mfun.build_range_param(M, L, rmin, rmax, x0min, x0max, y0min, y0max, dzmin, dzmax)"
   ]
  },
  {
   "cell_type": "code",
   "execution_count": 10,
   "metadata": {},
   "outputs": [],
   "source": [
    "# variation for derivatives\n",
    "deltax = 0.01*np.max(x0max)\n",
    "deltay = 0.01*np.max(y0max)\n",
    "deltar = 0.01*np.max(rmax)\n",
    "deltaz = 0.01*np.max(dzmax)\n",
    "delta = np.array([deltax, deltay, deltar, deltaz])"
   ]
  },
  {
   "cell_type": "code",
   "execution_count": 11,
   "metadata": {},
   "outputs": [],
   "source": [
    "m_out = np.zeros(M + 2)  # outcropping body parameters"
   ]
  },
  {
   "cell_type": "code",
   "execution_count": 12,
   "metadata": {},
   "outputs": [
    {
     "data": {
      "image/png": "[encoded data removed]",
      "text/plain": [
       "<matplotlib.figure.Figure at 0x513e240>"
      ]
     },
     "metadata": {
      "needs_background": "light"
     },
     "output_type": "display_data"
    }
   ],
   "source": [
    "plt.figure(figsize=(10,7))\n",
    "plt.title('Predict TFA', fontsize=20)\n",
    "plt.tricontourf(yp, xp, d0, 20, cmap='jet').ax.tick_params(labelsize=12)\n",
    "plt.xlabel('$y$(km)', fontsize=18)\n",
    "plt.ylabel('$x$(km)', fontsize=18)\n",
    "clb = plt.colorbar(pad=0.025, aspect=40, shrink=1)\n",
    "clb.ax.tick_params(labelsize=13)\n",
    "#source = mpl.polygon(kimberlite_model['prisms'][0], '.-k', xy2ne=True)\n",
    "estimate = mpl.polygon(model0[0], '.-r', xy2ne=True)\n",
    "#source.set_label('Outcropping polygon')\n",
    "estimate.set_label('Initial estimate')\n",
    "clb.ax.set_title('nT')\n",
    "mpl.m2km()\n",
    "plt.legend(loc=0, fontsize=12, shadow=bool, framealpha=1)\n",
    "#plt.savefig(mypath+'diorama_tfa_pred_data_true_inital.png', dpi=300)\n",
    "plt.show()\n",
    "\n",
    "#img(filename=mypath+'diorama_tfa_pred_data_true_inital.png', width=1000, height=1200)"
   ]
  },
  {
   "cell_type": "markdown",
   "metadata": {},
   "source": [
    "### Regularization parameters"
   ]
  },
  {
   "cell_type": "code",
   "execution_count": 13,
   "metadata": {
    "collapsed": true
   },
   "outputs": [],
   "source": [
    "#lamb = th*0.01 # Marquadt's parameter\n",
    "lamb = 1000.0\n",
    "dlamb = 10.      # step for Marquadt's parameter\n",
    "\n",
    "a1 = 0.00001   # adjacent radial distances within each prism\n",
    "a2 = 0.00001 # vertically adjacent radial distances\n",
    "a3 = 0.    # outcropping cross-section\n",
    "a4 = 0.     # outcropping origin\n",
    "a5 = 0.0001     # vertically adjacent origins\n",
    "a6 = 0.0000001   # zero order Tikhonov on adjacent radial distances\n",
    "a7 = 0.0001     # zero order Tikhonov on thickness of each prism"
   ]
  },
  {
   "cell_type": "code",
   "execution_count": 14,
   "metadata": {},
   "outputs": [],
   "source": [
    "alpha = np.array([a1, a2, a3, a4, a5, a6, a7])"
   ]
  },
  {
   "cell_type": "code",
   "execution_count": 15,
   "metadata": {},
   "outputs": [],
   "source": [
    "itmax = 100\n",
    "itmax_marq = 15\n",
    "tol = 1.0e-4     # tolerance"
   ]
  },
  {
   "cell_type": "markdown",
   "metadata": {},
   "source": [
    "### Inversion"
   ]
  },
  {
   "cell_type": "code",
   "execution_count": 16,
   "metadata": {},
   "outputs": [
    {
     "name": "stdout",
     "output_type": "stream",
     "text": [
      "it:  0   it_marq:  0   lambda: 1e+03   misfit: 9.09350e+05\n",
      "it:  0   it_marq:  1   lambda: 1e+04   misfit: 2.10770e+04\n",
      "it:  1   it_marq:  0   lambda: 1e+03   misfit: 1.52265e+04\n",
      "it:  2   it_marq:  0   lambda: 1e+02   misfit: 2.66905e+04\n",
      "it:  2   it_marq:  1   lambda: 1e+03   misfit: 1.40488e+04\n",
      "it:  3   it_marq:  0   lambda: 1e+02   misfit: 4.53861e+03\n",
      "it:  4   it_marq:  0   lambda: 1e+01   misfit: 1.54063e+03\n",
      "it:  5   it_marq:  0   lambda: 1e+00   misfit: 2.13585e+03\n",
      "it:  5   it_marq:  1   lambda: 1e+01   misfit: 9.86238e+02\n",
      "it:  6   it_marq:  0   lambda: 1e+00   misfit: 1.54472e+03\n",
      "it:  6   it_marq:  1   lambda: 1e+01   misfit: 6.52881e+02\n",
      "it:  7   it_marq:  0   lambda: 1e+00   misfit: 3.23493e+03\n",
      "it:  7   it_marq:  1   lambda: 1e+01   misfit: 5.43439e+02\n",
      "it:  8   it_marq:  0   lambda: 1e+00   misfit: 5.69992e+03\n",
      "it:  8   it_marq:  1   lambda: 1e+01   misfit: 5.00994e+02\n",
      "it:  9   it_marq:  0   lambda: 1e+00   misfit: 5.82973e+03\n",
      "it:  9   it_marq:  1   lambda: 1e+01   misfit: 4.80992e+02\n",
      "it: 10   it_marq:  0   lambda: 1e+00   misfit: 5.76565e+03\n",
      "it: 10   it_marq:  1   lambda: 1e+01   misfit: 1.23707e+03\n",
      "it: 10   it_marq:  2   lambda: 1e+02   misfit: 4.58935e+02\n",
      "it: 11   it_marq:  0   lambda: 1e+01   misfit: 3.88496e+03\n",
      "it: 11   it_marq:  1   lambda: 1e+02   misfit: 4.49741e+02\n",
      "it: 12   it_marq:  0   lambda: 1e+01   misfit: 3.84453e+03\n",
      "it: 12   it_marq:  1   lambda: 1e+02   misfit: 4.44861e+02\n",
      "it: 13   it_marq:  0   lambda: 1e+01   misfit: 3.84949e+03\n",
      "it: 13   it_marq:  1   lambda: 1e+02   misfit: 4.41698e+02\n",
      "it: 14   it_marq:  0   lambda: 1e+01   misfit: 3.83435e+03\n",
      "it: 14   it_marq:  1   lambda: 1e+02   misfit: 4.40109e+02\n",
      "it: 15   it_marq:  0   lambda: 1e+01   misfit: 2.72507e+03\n",
      "it: 15   it_marq:  1   lambda: 1e+02   misfit: 4.37590e+02\n",
      "it: 16   it_marq:  0   lambda: 1e+01   misfit: 2.79231e+03\n",
      "it: 16   it_marq:  1   lambda: 1e+02   misfit: 4.35637e+02\n",
      "it: 17   it_marq:  0   lambda: 1e+01   misfit: 2.81395e+03\n",
      "it: 17   it_marq:  1   lambda: 1e+02   misfit: 4.33970e+02\n",
      "it: 18   it_marq:  0   lambda: 1e+01   misfit: 2.81812e+03\n",
      "it: 18   it_marq:  1   lambda: 1e+02   misfit: 4.36288e+02\n",
      "it: 18   it_marq:  2   lambda: 1e+03   misfit: 4.33680e+02\n",
      "it: 19   it_marq:  0   lambda: 1e+02   misfit: 5.16767e+02\n",
      "it: 19   it_marq:  1   lambda: 1e+03   misfit: 4.33413e+02\n",
      "it: 20   it_marq:  0   lambda: 1e+02   misfit: 6.04549e+02\n",
      "it: 20   it_marq:  1   lambda: 1e+03   misfit: 4.33164e+02\n",
      "it: 21   it_marq:  0   lambda: 1e+02   misfit: 6.03752e+02\n",
      "it: 21   it_marq:  1   lambda: 1e+03   misfit: 4.32932e+02\n",
      "it: 22   it_marq:  0   lambda: 1e+02   misfit: 1.12253e+03\n",
      "it: 22   it_marq:  1   lambda: 1e+03   misfit: 4.32711e+02\n",
      "it: 23   it_marq:  0   lambda: 1e+02   misfit: 9.66542e+02\n",
      "it: 23   it_marq:  1   lambda: 1e+03   misfit: 4.32502e+02\n",
      "it: 24   it_marq:  0   lambda: 1e+02   misfit: 2.35169e+03\n",
      "it: 24   it_marq:  1   lambda: 1e+03   misfit: 4.32300e+02\n",
      "it: 25   it_marq:  0   lambda: 1e+02   misfit: 2.38284e+03\n",
      "it: 25   it_marq:  1   lambda: 1e+03   misfit: 4.32107e+02\n",
      "it: 26   it_marq:  0   lambda: 1e+02   misfit: 2.42303e+03\n",
      "it: 26   it_marq:  1   lambda: 1e+03   misfit: 4.31919e+02\n",
      "it: 27   it_marq:  0   lambda: 1e+02   misfit: 2.42202e+03\n",
      "it: 27   it_marq:  1   lambda: 1e+03   misfit: 4.31738e+02\n",
      "it: 28   it_marq:  0   lambda: 1e+02   misfit: 2.42087e+03\n",
      "it: 28   it_marq:  1   lambda: 1e+03   misfit: 4.31561e+02\n",
      "it: 29   it_marq:  0   lambda: 1e+02   misfit: 2.42012e+03\n",
      "it: 29   it_marq:  1   lambda: 1e+03   misfit: 4.31390e+02\n",
      "it: 30   it_marq:  0   lambda: 1e+02   misfit: 2.41928e+03\n",
      "it: 30   it_marq:  1   lambda: 1e+03   misfit: 4.31222e+02\n",
      "it: 31   it_marq:  0   lambda: 1e+02   misfit: 2.41871e+03\n",
      "it: 31   it_marq:  1   lambda: 1e+03   misfit: 4.31057e+02\n",
      "it: 32   it_marq:  0   lambda: 1e+02   misfit: 2.41812e+03\n",
      "it: 32   it_marq:  1   lambda: 1e+03   misfit: 4.30894e+02\n",
      "it: 33   it_marq:  0   lambda: 1e+02   misfit: 2.41771e+03\n",
      "it: 33   it_marq:  1   lambda: 1e+03   misfit: 4.30734e+02\n",
      "it: 34   it_marq:  0   lambda: 1e+02   misfit: 2.41727e+03\n",
      "it: 34   it_marq:  1   lambda: 1e+03   misfit: 4.30575e+02\n",
      "it: 35   it_marq:  0   lambda: 1e+02   misfit: 2.41692e+03\n",
      "it: 35   it_marq:  1   lambda: 1e+03   misfit: 4.30420e+02\n",
      "it: 36   it_marq:  0   lambda: 1e+02   misfit: 2.41657e+03\n",
      "it: 36   it_marq:  1   lambda: 1e+03   misfit: 4.30265e+02\n",
      "it: 37   it_marq:  0   lambda: 1e+02   misfit: 2.41624e+03\n",
      "it: 37   it_marq:  1   lambda: 1e+03   misfit: 4.30113e+02\n",
      "it: 38   it_marq:  0   lambda: 1e+02   misfit: 2.41591e+03\n",
      "it: 38   it_marq:  1   lambda: 1e+03   misfit: 4.29962e+02\n",
      "it: 39   it_marq:  0   lambda: 1e+02   misfit: 2.41559e+03\n",
      "it: 39   it_marq:  1   lambda: 1e+03   misfit: 4.29813e+02\n",
      "it: 40   it_marq:  0   lambda: 1e+02   misfit: 2.41527e+03\n",
      "it: 40   it_marq:  1   lambda: 1e+03   misfit: 4.29769e+02\n",
      "it: 41   it_marq:  0   lambda: 1e+02   misfit: 2.04361e+03\n",
      "it: 41   it_marq:  1   lambda: 1e+03   misfit: 4.29522e+02\n",
      "it: 42   it_marq:  0   lambda: 1e+02   misfit: 2.41464e+03\n",
      "it: 42   it_marq:  1   lambda: 1e+03   misfit: 4.49640e+02\n",
      "it: 42   it_marq:  2   lambda: 1e+04   misfit: 4.29502e+02\n"
     ]
    }
   ],
   "source": [
    "d_fit, m_est, model_est, phi_list, model_list, res_list = mfun.levmarq_tf(xp, yp, zp, m0, M, L, delta, itmax,\n",
    "                                                    itmax_marq, lamb, dlamb, tol,\n",
    "                                                    mmin, mmax, m_out, dobs, inc, dec,\n",
    "                                                    props, alpha, z0, dz)"
   ]
  },
  {
   "cell_type": "code",
   "execution_count": 17,
   "metadata": {},
   "outputs": [],
   "source": [
    "inversion['inc_dec'] = [incs, decs]\n",
    "inversion['z0'] = z0\n",
    "inversion['initial_dz'] = dz\n",
    "inversion['intial_r'] = r\n",
    "inversion['initial_estimate'] = model0\n",
    "inversion['initial_data'] = d0\n",
    "inversion['limits'] = [rmin, rmax, x0min, x0max, y0min, y0max, dzmin, dzmax]\n",
    "inversion['regularization'] = alpha\n",
    "inversion['tol'] = tol\n",
    "inversion['main_field'] = [inc, dec]"
   ]
  },
  {
   "cell_type": "raw",
   "metadata": {},
   "source": [
    "mypath = 'tfa_inversion/inc%d_dec%d_r%d_int%d_z0%d_dz%d' % (incs, decs, rin[0], np.linalg.norm(props['magnetization']), z0, dz)\n",
    "if not os.path.isdir(mypath):\n",
    "   os.makedirs(mypath)"
   ]
  },
  {
   "cell_type": "code",
   "execution_count": 18,
   "metadata": {},
   "outputs": [],
   "source": [
    "mypath = 'tfa_inversion/upward_inc%d_dec%d_r%d_int%d_z0%d_dz%d' % (incs, decs, rin[0], np.linalg.norm(props['magnetization']), z0, dz)\n",
    "if not os.path.isdir(mypath):\n",
    "   os.makedirs(mypath)"
   ]
  },
  {
   "cell_type": "code",
   "execution_count": 19,
   "metadata": {},
   "outputs": [],
   "source": [
    "inversion['data_fit'] = d_fit\n",
    "inversion['estimate'] = m_est\n",
    "inversion['prisms'] = model_est\n",
    "inversion['objective'] = phi_list\n",
    "inversion['residual'] = dobs - d_fit"
   ]
  },
  {
   "cell_type": "code",
   "execution_count": 20,
   "metadata": {},
   "outputs": [],
   "source": [
    "file_name = mypath+'/inversion.pickle'\n",
    "with open(file_name, 'w') as f:\n",
    "    pickle.dump(inversion, f)"
   ]
  },
  {
   "cell_type": "code",
   "execution_count": null,
   "metadata": {},
   "outputs": [],
   "source": []
  },
  {
   "cell_type": "code",
   "execution_count": 21,
   "metadata": {},
   "outputs": [
    {
     "data": {
      "text/plain": [
       "9.2602856832154377"
      ]
     },
     "execution_count": 21,
     "metadata": {},
     "output_type": "execute_result"
    }
   ],
   "source": [
    "100*np.std(dobs-d_fit)/np.std(dobs)"
   ]
  },
  {
   "cell_type": "code",
   "execution_count": null,
   "metadata": {},
   "outputs": [],
   "source": []
  }
 ],
 "metadata": {
  "kernelspec": {
   "display_name": "Python 2",
   "language": "python",
   "name": "python2"
  },
  "language_info": {
   "codemirror_mode": {
    "name": "ipython",
    "version": 2
   },
   "file_extension": ".py",
   "mimetype": "text/x-python",
   "name": "python",
   "nbconvert_exporter": "python",
   "pygments_lexer": "ipython2",
   "version": "2.7.15"
  }
 },
 "nbformat": 4,
 "nbformat_minor": 2
}
