{
 "cells": [
  {
   "cell_type": "markdown",
   "metadata": {},
   "source": [
    "# Diorama TFA inversion"
   ]
  },
  {
   "cell_type": "code",
   "execution_count": 25,
   "metadata": {},
   "outputs": [],
   "source": [
    "import numpy as np\n",
    "import matplotlib.pyplot as plt\n",
    "import cPickle as pickle\n",
    "import os\n",
    "import pandas as pd\n",
    "\n",
    "from fatiando import utils\n",
    "from fatiando.gravmag import polyprism\n",
    "from fatiando.mesher import PolygonalPrism\n",
    "from fatiando.vis import mpl, myv\n",
    "from matplotlib import colors, ticker, cm\n",
    "from IPython.display import Image as img\n",
    "from matplotlib.mlab import normpdf"
   ]
  },
  {
   "cell_type": "markdown",
   "metadata": {},
   "source": [
    "### Auxiliary functions"
   ]
  },
  {
   "cell_type": "code",
   "execution_count": 26,
   "metadata": {
    "collapsed": true
   },
   "outputs": [],
   "source": [
    "import sys\n",
    "sys.path.insert(0, '../../code')\n",
    "\n",
    "import mag_polyprism_functions as mfun\n",
    "import mag_sphere_functions as msf"
   ]
  },
  {
   "cell_type": "markdown",
   "metadata": {},
   "source": [
    "# Input"
   ]
  },
  {
   "cell_type": "markdown",
   "metadata": {},
   "source": [
    "### Importing Diorama TFA data"
   ]
  },
  {
   "cell_type": "code",
   "execution_count": 27,
   "metadata": {},
   "outputs": [],
   "source": [
    "data = pd.read_csv('diorama_decimated_tfa.txt', skipinitialspace=True, delim_whitespace=True)"
   ]
  },
  {
   "cell_type": "code",
   "execution_count": 28,
   "metadata": {},
   "outputs": [],
   "source": [
    "xp = data['X'].get_values()\n",
    "yp = data['Y'].get_values()\n",
    "zp = - data['GPSALT'].get_values()\n",
    "dobs = data['MAGIGRF'].get_values()"
   ]
  },
  {
   "cell_type": "markdown",
   "metadata": {},
   "source": [
    "### Importing Diorama upward TFA data"
   ]
  },
  {
   "cell_type": "raw",
   "metadata": {},
   "source": [
    "with open('diorama_eqlayer/direction_inc-71_dec-23_h200m/diorama_eqlayer_depth200m.pickle') as w:\n",
    "        di = pickle.load(w)"
   ]
  },
  {
   "cell_type": "raw",
   "metadata": {},
   "source": [
    "xp = di['x']\n",
    "yp = di['y']\n",
    "zp = di['z']\n",
    "dobs = di['upward']"
   ]
  },
  {
   "cell_type": "markdown",
   "metadata": {},
   "source": [
    "### Parameters for inversion"
   ]
  },
  {
   "cell_type": "code",
   "execution_count": 29,
   "metadata": {},
   "outputs": [],
   "source": [
    "# output of inversion\n",
    "inversion = dict()"
   ]
  },
  {
   "cell_type": "code",
   "execution_count": 30,
   "metadata": {},
   "outputs": [],
   "source": [
    "inversion['xp'] = xp\n",
    "inversion['yp'] = yp\n",
    "inversion['zp'] = zp\n",
    "inversion['observed_data'] = dobs\n",
    "N = xp.size"
   ]
  },
  {
   "cell_type": "code",
   "execution_count": 31,
   "metadata": {
    "collapsed": false
   },
   "outputs": [],
   "source": [
    "#initial estimate\n",
    "M = 30 # number of vertices per prism\n",
    "L = 10 # number of prisms\n",
    "P = L*(M+2) + 1 # number of parameters\n",
    "\n",
    "# daiana\n",
    "incs = -71.41751# - 10.\n",
    "decs = -23.39541# - 10.\n",
    "intensity = 15.# + 1.\n",
    "\n",
    "# andré\n",
    "#incs = -59.\n",
    "#decs = -114.5\n",
    "#intensity = 12.\n",
    "\n",
    "#figura\n",
    "z0 = 350. - 300.\n",
    "dz = 800.\n",
    "r = 100.\n",
    "props = {'magnetization': utils.ang2vec(\n",
    "        intensity, incs, decs)}\n",
    "\n",
    "rin = np.zeros(M) + r\n",
    "m0 = np.hstack((rin, np.array([8212500., 478200.])))\n",
    "m0 = np.resize(m0, P - 1) # inicial parameters vector\n",
    "m0 = np.hstack((m0, dz))\n",
    "model0 = mfun.param2polyprism(m0, M, L, z0, props) # list of classes of prisms\n",
    "\n",
    "# main field\n",
    "inc = -19.5\n",
    "dec = -18.5\n",
    "\n",
    "# predict data\n",
    "d0 = polyprism.tf(xp, yp, zp, model0, inc, dec)"
   ]
  },
  {
   "cell_type": "code",
   "execution_count": 32,
   "metadata": {},
   "outputs": [],
   "source": [
    "# limits for parameters in meters\n",
    "rmin = 50.\n",
    "rmax = 3000.\n",
    "x0min = 8212500.\n",
    "x0max = 8213500.\n",
    "y0min = 478000.\n",
    "y0max = 479000.\n",
    "dzmin = 10.\n",
    "dzmax = 1000.\n",
    "\n",
    "mmin, mmax = mfun.build_range_param(M, L, rmin, rmax, x0min, x0max, y0min, y0max, dzmin, dzmax)"
   ]
  },
  {
   "cell_type": "code",
   "execution_count": 33,
   "metadata": {},
   "outputs": [],
   "source": [
    "# variation for derivatives\n",
    "deltax = 0.01*np.max(x0max)\n",
    "deltay = 0.01*np.max(y0max)\n",
    "deltar = 0.01*np.max(rmax)\n",
    "deltaz = 0.01*np.max(dzmax)\n",
    "delta = np.array([deltax, deltay, deltar, deltaz])"
   ]
  },
  {
   "cell_type": "code",
   "execution_count": 34,
   "metadata": {},
   "outputs": [],
   "source": [
    "m_out = np.zeros(M + 2)  # outcropping body parameters"
   ]
  },
  {
   "cell_type": "code",
   "execution_count": 35,
   "metadata": {},
   "outputs": [
    {
     "data": {
      "image/png": "[encoded data removed]",
      "text/plain": [
       "<matplotlib.figure.Figure at 0x5522048>"
      ]
     },
     "metadata": {
      "needs_background": "light"
     },
     "output_type": "display_data"
    }
   ],
   "source": [
    "plt.figure(figsize=(10,7))\n",
    "plt.title('Predict TFA', fontsize=20)\n",
    "plt.tricontourf(yp, xp, d0, 20, cmap='jet').ax.tick_params(labelsize=12)\n",
    "plt.xlabel('$y$(km)', fontsize=18)\n",
    "plt.ylabel('$x$(km)', fontsize=18)\n",
    "clb = plt.colorbar(pad=0.025, aspect=40, shrink=1)\n",
    "clb.ax.tick_params(labelsize=13)\n",
    "#source = mpl.polygon(kimberlite_model['prisms'][0], '.-k', xy2ne=True)\n",
    "estimate = mpl.polygon(model0[0], '.-r', xy2ne=True)\n",
    "#source.set_label('Outcropping polygon')\n",
    "estimate.set_label('Initial estimate')\n",
    "clb.ax.set_title('nT')\n",
    "mpl.m2km()\n",
    "plt.legend(loc=0, fontsize=12, shadow=bool, framealpha=1)\n",
    "#plt.savefig(mypath+'diorama_tfa_pred_data_true_inital.png', dpi=300)\n",
    "plt.show()\n",
    "\n",
    "#img(filename=mypath+'diorama_tfa_pred_data_true_inital.png', width=1000, height=1200)"
   ]
  },
  {
   "cell_type": "markdown",
   "metadata": {},
   "source": [
    "### Regularization parameters"
   ]
  },
  {
   "cell_type": "code",
   "execution_count": 36,
   "metadata": {
    "collapsed": true
   },
   "outputs": [],
   "source": [
    "#lamb = th*0.01 # Marquadt's parameter\n",
    "lamb = 1000.0\n",
    "dlamb = 10.      # step for Marquadt's parameter\n",
    "\n",
    "a1 = 0.00001   # adjacent radial distances within each prism\n",
    "a2 = 0.00001 # vertically adjacent radial distances\n",
    "a3 = 0.    # outcropping cross-section\n",
    "a4 = 0.     # outcropping origin\n",
    "a5 = 0.0001     # vertically adjacent origins\n",
    "a6 = 0.000001   # zero order Tikhonov on adjacent radial distances\n",
    "a7 = 0.0001     # zero order Tikhonov on thickness of each prism"
   ]
  },
  {
   "cell_type": "code",
   "execution_count": 37,
   "metadata": {},
   "outputs": [],
   "source": [
    "alpha = np.array([a1, a2, a3, a4, a5, a6, a7])"
   ]
  },
  {
   "cell_type": "code",
   "execution_count": 38,
   "metadata": {},
   "outputs": [],
   "source": [
    "itmax = 100\n",
    "itmax_marq = 15\n",
    "tol = 1.0e-4     # tolerance"
   ]
  },
  {
   "cell_type": "markdown",
   "metadata": {},
   "source": [
    "### Inversion"
   ]
  },
  {
   "cell_type": "code",
   "execution_count": 39,
   "metadata": {},
   "outputs": [
    {
     "name": "stdout",
     "output_type": "stream",
     "text": [
      "it:  0   it_marq:  0   lambda: 1e+03   misfit: 1.92494e+06\n",
      "it:  0   it_marq:  1   lambda: 1e+04   misfit: 4.07189e+05\n",
      "it:  1   it_marq:  0   lambda: 1e+03   misfit: 3.40365e+05\n",
      "it:  2   it_marq:  0   lambda: 1e+02   misfit: 2.32512e+05\n",
      "it:  3   it_marq:  0   lambda: 1e+01   misfit: 9.33088e+04\n",
      "it:  4   it_marq:  0   lambda: 1e+00   misfit: 2.00338e+05\n",
      "it:  4   it_marq:  1   lambda: 1e+01   misfit: 9.53213e+04\n",
      "it:  4   it_marq:  2   lambda: 1e+02   misfit: 1.02422e+05\n",
      "it:  4   it_marq:  3   lambda: 1e+03   misfit: 1.25702e+05\n",
      "it:  4   it_marq:  4   lambda: 1e+04   misfit: 1.24475e+05\n",
      "it:  4   it_marq:  5   lambda: 1e+05   misfit: 9.26602e+04\n",
      "it:  5   it_marq:  0   lambda: 1e+04   misfit: 9.26474e+04\n",
      "it:  6   it_marq:  0   lambda: 1e+03   misfit: 9.24986e+04\n",
      "it:  7   it_marq:  0   lambda: 1e+02   misfit: 9.15124e+04\n",
      "it:  8   it_marq:  0   lambda: 1e+01   misfit: 9.01320e+04\n",
      "it:  9   it_marq:  0   lambda: 1e+00   misfit: 1.90205e+05\n",
      "it:  9   it_marq:  1   lambda: 1e+01   misfit: 8.90147e+04\n",
      "it: 10   it_marq:  0   lambda: 1e+00   misfit: 1.50789e+05\n",
      "it: 10   it_marq:  1   lambda: 1e+01   misfit: 8.88440e+04\n",
      "it: 11   it_marq:  0   lambda: 1e+00   misfit: 2.16945e+05\n",
      "it: 11   it_marq:  1   lambda: 1e+01   misfit: 8.82908e+04\n",
      "it: 12   it_marq:  0   lambda: 1e+00   misfit: 1.75322e+05\n",
      "it: 12   it_marq:  1   lambda: 1e+01   misfit: 8.84294e+04\n",
      "it: 12   it_marq:  2   lambda: 1e+02   misfit: 9.04190e+04\n",
      "it: 12   it_marq:  3   lambda: 1e+03   misfit: 1.17422e+05\n",
      "it: 12   it_marq:  4   lambda: 1e+04   misfit: 1.04558e+05\n",
      "it: 12   it_marq:  5   lambda: 1e+05   misfit: 1.03988e+05\n",
      "it: 12   it_marq:  6   lambda: 1e+06   misfit: 1.03811e+05\n",
      "it: 12   it_marq:  7   lambda: 1e+07   misfit: 8.81977e+04\n",
      "it: 13   it_marq:  0   lambda: 1e+06   misfit: 8.81974e+04\n"
     ]
    }
   ],
   "source": [
    "d_fit, m_est, model_est, phi_list, model_list, res_list = mfun.levmarq_tf(xp, yp, zp, m0, M, L, delta, itmax,\n",
    "                                                    itmax_marq, lamb, dlamb, tol,\n",
    "                                                    mmin, mmax, m_out, dobs, inc, dec,\n",
    "                                                    props, alpha, z0, dz)"
   ]
  },
  {
   "cell_type": "code",
   "execution_count": 40,
   "metadata": {},
   "outputs": [],
   "source": [
    "inversion['inc_dec'] = [incs, decs]\n",
    "inversion['z0'] = z0\n",
    "inversion['initial_dz'] = dz\n",
    "inversion['intial_r'] = r\n",
    "inversion['initial_estimate'] = model0\n",
    "inversion['initial_data'] = d0\n",
    "inversion['limits'] = [rmin, rmax, x0min, x0max, y0min, y0max, dzmin, dzmax]\n",
    "inversion['regularization'] = alpha\n",
    "inversion['tol'] = tol\n",
    "inversion['main_field'] = [inc, dec]"
   ]
  },
  {
   "cell_type": "code",
   "execution_count": 41,
   "metadata": {},
   "outputs": [],
   "source": [
    "mypath = 'tfa_inversion/inc%d_dec%d_r%d_int%d_z0%d_dz%d' % (incs, decs, rin[0], np.linalg.norm(props['magnetization']), z0, dz)\n",
    "if not os.path.isdir(mypath):\n",
    "   os.makedirs(mypath)"
   ]
  },
  {
   "cell_type": "raw",
   "metadata": {},
   "source": [
    "mypath = 'tfa_inversion/upward_inc%d_dec%d_r%d_int%d_z0%d_dz%d' % (incs, decs, rin[0], np.linalg.norm(props['magnetization']), z0, dz)\n",
    "if not os.path.isdir(mypath):\n",
    "   os.makedirs(mypath)"
   ]
  },
  {
   "cell_type": "code",
   "execution_count": 42,
   "metadata": {},
   "outputs": [],
   "source": [
    "inversion['data_fit'] = d_fit\n",
    "inversion['estimate'] = m_est\n",
    "inversion['prisms'] = model_est\n",
    "inversion['objective'] = phi_list\n",
    "inversion['residual'] = dobs - d_fit"
   ]
  },
  {
   "cell_type": "code",
   "execution_count": 43,
   "metadata": {},
   "outputs": [],
   "source": [
    "file_name = mypath+'/inversion.pickle'\n",
    "with open(file_name, 'w') as f:\n",
    "    pickle.dump(inversion, f)"
   ]
  }
 ],
 "metadata": {
  "kernelspec": {
   "display_name": "Python 2",
   "language": "python",
   "name": "python2"
  },
  "language_info": {
   "codemirror_mode": {
    "name": "ipython",
    "version": 2
   },
   "file_extension": ".py",
   "mimetype": "text/x-python",
   "name": "python",
   "nbconvert_exporter": "python",
   "pygments_lexer": "ipython2",
   "version": "2.7.15"
  }
 },
 "nbformat": 4,
 "nbformat_minor": 2
}
