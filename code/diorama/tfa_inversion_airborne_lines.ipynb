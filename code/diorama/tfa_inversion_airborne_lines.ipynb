{
 "cells": [
  {
   "cell_type": "markdown",
   "metadata": {},
   "source": [
    "# Diorama TFA inversion"
   ]
  },
  {
   "cell_type": "code",
   "execution_count": 48,
   "metadata": {},
   "outputs": [],
   "source": [
    "import numpy as np\n",
    "import matplotlib.pyplot as plt\n",
    "import cPickle as pickle\n",
    "import os\n",
    "import pandas as pd\n",
    "\n",
    "from fatiando import utils\n",
    "from fatiando.gravmag import polyprism\n",
    "from fatiando.mesher import PolygonalPrism\n",
    "from fatiando.vis import mpl, myv\n",
    "from matplotlib import colors, ticker, cm\n",
    "from IPython.display import Image as img\n",
    "from matplotlib.mlab import normpdf"
   ]
  },
  {
   "cell_type": "markdown",
   "metadata": {},
   "source": [
    "### Auxiliary functions"
   ]
  },
  {
   "cell_type": "code",
   "execution_count": 49,
   "metadata": {
    "collapsed": true
   },
   "outputs": [],
   "source": [
    "import sys\n",
    "sys.path.insert(0, '../../code')\n",
    "\n",
    "import mag_polyprism_functions as mfun\n",
    "import mag_sphere_functions as msf"
   ]
  },
  {
   "cell_type": "markdown",
   "metadata": {},
   "source": [
    "# Input"
   ]
  },
  {
   "cell_type": "markdown",
   "metadata": {},
   "source": [
    "### Importing Diorama TFA data"
   ]
  },
  {
   "cell_type": "code",
   "execution_count": 50,
   "metadata": {},
   "outputs": [],
   "source": [
    "data = pd.read_csv('diorama_decimated_tfa.txt', skipinitialspace=True, delim_whitespace=True)"
   ]
  },
  {
   "cell_type": "code",
   "execution_count": 51,
   "metadata": {},
   "outputs": [],
   "source": [
    "xp = data['X'].get_values()\n",
    "yp = data['Y'].get_values()\n",
    "zp = - data['GPSALT'].get_values()\n",
    "dobs = data['MAGIGRF'].get_values()"
   ]
  },
  {
   "cell_type": "code",
   "execution_count": 52,
   "metadata": {},
   "outputs": [
    {
     "data": {
      "text/plain": [
       "-16.194986"
      ]
     },
     "execution_count": 52,
     "metadata": {},
     "output_type": "execute_result"
    }
   ],
   "source": [
    "np.min(data['LAT'])"
   ]
  },
  {
   "cell_type": "markdown",
   "metadata": {},
   "source": [
    "### Importing Diorama upward TFA data"
   ]
  },
  {
   "cell_type": "raw",
   "metadata": {},
   "source": [
    "with open('diorama_eqlayer/direction_inc-71_dec-23_h200m/diorama_eqlayer_depth200m.pickle') as w:\n",
    "        di = pickle.load(w)"
   ]
  },
  {
   "cell_type": "raw",
   "metadata": {},
   "source": [
    "xp = di['x']\n",
    "yp = di['y']\n",
    "zp = di['z']\n",
    "dobs = di['upward']"
   ]
  },
  {
   "cell_type": "markdown",
   "metadata": {},
   "source": [
    "### Importing Diorama TFA data (Clive)"
   ]
  },
  {
   "cell_type": "raw",
   "metadata": {},
   "source": [
    "data = pd.read_csv('Diorama.csv', skipinitialspace=True, delimiter=',')"
   ]
  },
  {
   "cell_type": "raw",
   "metadata": {},
   "source": [
    "xp = data['Y'].get_values()\n",
    "yp = data['X'].get_values()\n",
    "zp = - data['GPSALT'].get_values()\n",
    "dobs = data['mag_res'].get_values()"
   ]
  },
  {
   "cell_type": "raw",
   "metadata": {},
   "source": [
    "plt.figure(figsize=(10,7))\n",
    "plt.title('Predict TFA', fontsize=20)\n",
    "plt.tricontourf(yp, xp, dobs, 20, cmap='jet').ax.tick_params(labelsize=12)\n",
    "plt.xlabel('$y$(km)', fontsize=18)\n",
    "plt.ylabel('$x$(km)', fontsize=18)\n",
    "clb = plt.colorbar(pad=0.025, aspect=40, shrink=1)\n",
    "clb.ax.tick_params(labelsize=13)\n",
    "plt.plot(yp,xp, 'ok', markersize=1)\n",
    "#source = mpl.polygon(kimberlite_model['prisms'][0], '.-k', xy2ne=True)\n",
    "#estimate = mpl.polygon(model0[0], '.-r', xy2ne=True)\n",
    "#source.set_label('Outcropping polygon')\n",
    "#estimate.set_label('Initial estimate')\n",
    "clb.ax.set_title('nT')\n",
    "mpl.m2km()\n",
    "#plt.legend(loc=0, fontsize=12, shadow=bool, framealpha=1)\n",
    "#plt.savefig(mypath+'diorama_tfa_pred_data_true_inital.png', dpi=300)\n",
    "plt.show()\n",
    "\n",
    "#img(filename=mypath+'diorama_tfa_pred_data_true_inital.png', width=1000, height=1200)"
   ]
  },
  {
   "cell_type": "code",
   "execution_count": 53,
   "metadata": {},
   "outputs": [
    {
     "name": "stdout",
     "output_type": "stream",
     "text": [
      "8217768.29 8209474.45 -432.48 -805.59\n"
     ]
    }
   ],
   "source": [
    "print np.max(xp), np.min(xp), np.max(zp), np.min(zp)"
   ]
  },
  {
   "cell_type": "markdown",
   "metadata": {},
   "source": [
    "### Importing Diorama upward TFA data (Clive)"
   ]
  },
  {
   "cell_type": "raw",
   "metadata": {},
   "source": [
    "with open('diorama_eqlayer/direction_inc-43_dec-3_h200m/diorama_eqlayer_depth200m.pickle') as w:\n",
    "        di = pickle.load(w)"
   ]
  },
  {
   "cell_type": "raw",
   "metadata": {},
   "source": [
    "xp = di['x']\n",
    "yp = di['y']\n",
    "zp = di['z']\n",
    "dobs = di['upward']"
   ]
  },
  {
   "cell_type": "markdown",
   "metadata": {},
   "source": [
    "### Parameters for inversion"
   ]
  },
  {
   "cell_type": "code",
   "execution_count": 54,
   "metadata": {},
   "outputs": [],
   "source": [
    "# output of inversion\n",
    "inversion = dict()"
   ]
  },
  {
   "cell_type": "raw",
   "metadata": {},
   "source": [
    "inversion['xp'] = xp\n",
    "inversion['yp'] = yp\n",
    "inversion['zp'] = zp\n",
    "inversion['observed_data'] = dobs\n",
    "N = xp.size"
   ]
  },
  {
   "cell_type": "code",
   "execution_count": 93,
   "metadata": {
    "collapsed": false
   },
   "outputs": [],
   "source": [
    "#initial estimate\n",
    "M = 30 # number of vertices per prism\n",
    "L = 10 # number of prisms\n",
    "P = L*(M+2) + 1 # number of parameters\n",
    "\n",
    "# daiana\n",
    "#incs = -71.# - 10.\n",
    "#decs = -23.# - 10.\n",
    "#intensity = 8.# + 1.\n",
    "\n",
    "# zhang\n",
    "incs = -50.# - 10.\n",
    "decs = 9.# - 10.\n",
    "intensity = 20.# + 1.\n",
    "\n",
    "# andré\n",
    "#incs = -59.\n",
    "#decs = -114.5\n",
    "#intensity = 12.\n",
    "\n",
    "#clive\n",
    "#incs = -43.\n",
    "#decs = -3.\n",
    "\n",
    "#figura\n",
    "z0 = -100.\n",
    "dz = 850.\n",
    "r = 1000.\n",
    "props = {'magnetization': utils.ang2vec(\n",
    "        intensity, incs, decs)}\n",
    "\n",
    "rin = np.zeros(M) + r\n",
    "m0 = np.hstack((rin, np.array([8212500., 478200.])))\n",
    "m0 = np.resize(m0, P - 1) # inicial parameters vector\n",
    "m0 = np.hstack((m0, dz))\n",
    "model0 = mfun.param2polyprism(m0, M, L, z0, props) # list of classes of prisms\n",
    "\n",
    "# main field\n",
    "inc = -19.5\n",
    "dec = -18.\n",
    "\n",
    "# predict data\n",
    "d0 = polyprism.tf(xp, yp, zp, model0, inc, dec)"
   ]
  },
  {
   "cell_type": "code",
   "execution_count": 94,
   "metadata": {},
   "outputs": [],
   "source": [
    "# limits for parameters in meters\n",
    "rmin = 50.\n",
    "rmax = 3000.\n",
    "x0min = 8212500.\n",
    "x0max = 8213500.\n",
    "y0min = 478000.\n",
    "y0max = 479000.\n",
    "dzmin = 10.\n",
    "dzmax = 1000.\n",
    "\n",
    "mmin, mmax = mfun.build_range_param(M, L, rmin, rmax, x0min, x0max, y0min, y0max, dzmin, dzmax)"
   ]
  },
  {
   "cell_type": "code",
   "execution_count": 95,
   "metadata": {},
   "outputs": [],
   "source": [
    "# variation for derivatives\n",
    "deltax = 0.01*np.max(1000.)\n",
    "deltay = 0.01*np.max(1000.)\n",
    "deltar = 0.01*np.max(1000.)\n",
    "deltaz = 0.01*np.max(100.)\n",
    "delta = np.array([deltax, deltay, deltar, deltaz])"
   ]
  },
  {
   "cell_type": "code",
   "execution_count": 96,
   "metadata": {},
   "outputs": [],
   "source": [
    "m_out = np.zeros(M + 2)  # outcropping body parameters"
   ]
  },
  {
   "cell_type": "code",
   "execution_count": 97,
   "metadata": {},
   "outputs": [
    {
     "data": {
      "image/png": "[encoded data removed]",
      "text/plain": [
       "<Figure size 288x360 with 2 Axes>"
      ]
     },
     "metadata": {
      "needs_background": "light"
     },
     "output_type": "display_data"
    }
   ],
   "source": [
    "plt.figure(figsize=(4,5))\n",
    "plt.title('Predict TFA', fontsize=20)\n",
    "plt.tricontourf(yp, xp, dobs, 20, cmap='jet').ax.tick_params(labelsize=12)\n",
    "plt.xlabel('$y$(km)', fontsize=18)\n",
    "plt.ylabel('$x$(km)', fontsize=18)\n",
    "clb = plt.colorbar(pad=0.025, aspect=40, shrink=1)\n",
    "clb.ax.tick_params(labelsize=13)\n",
    "#source = mpl.polygon(kimberlite_model['prisms'][0], '.-k', xy2ne=True)\n",
    "estimate = mpl.polygon(model0[0], '.-r', xy2ne=True)\n",
    "#source.set_label('Outcropping polygon')\n",
    "estimate.set_label('Initial estimate')\n",
    "clb.ax.set_title('nT')\n",
    "mpl.m2km()\n",
    "plt.legend(loc=0, fontsize=12, shadow=bool, framealpha=1)\n",
    "#plt.savefig(mypath+'diorama_tfa_pred_data_true_inital.png', dpi=300)\n",
    "plt.show()\n",
    "\n",
    "#img(filename=mypath+'diorama_tfa_pred_data_true_inital.png', width=1000, height=1200)"
   ]
  },
  {
   "cell_type": "code",
   "execution_count": 98,
   "metadata": {},
   "outputs": [
    {
     "data": {
      "image/png": "[encoded data removed]",
      "text/plain": [
       "<Figure size 288x360 with 2 Axes>"
      ]
     },
     "metadata": {
      "needs_background": "light"
     },
     "output_type": "display_data"
    }
   ],
   "source": [
    "plt.figure(figsize=(4,5))\n",
    "plt.title('Predict TFA', fontsize=20)\n",
    "plt.tricontourf(yp, xp, d0, 20, cmap='jet').ax.tick_params(labelsize=12)\n",
    "plt.xlabel('$y$(km)', fontsize=18)\n",
    "plt.ylabel('$x$(km)', fontsize=18)\n",
    "clb = plt.colorbar(pad=0.025, aspect=40, shrink=1)\n",
    "clb.ax.tick_params(labelsize=13)\n",
    "#source = mpl.polygon(kimberlite_model['prisms'][0], '.-k', xy2ne=True)\n",
    "estimate = mpl.polygon(model0[0], '.-r', xy2ne=True)\n",
    "#source.set_label('Outcropping polygon')\n",
    "estimate.set_label('Initial estimate')\n",
    "clb.ax.set_title('nT')\n",
    "mpl.m2km()\n",
    "plt.legend(loc=0, fontsize=12, shadow=bool, framealpha=1)\n",
    "#plt.savefig(mypath+'diorama_tfa_pred_data_true_inital.png', dpi=300)\n",
    "plt.show()\n",
    "\n",
    "#img(filename=mypath+'diorama_tfa_pred_data_true_inital.png', width=1000, height=1200)"
   ]
  },
  {
   "cell_type": "markdown",
   "metadata": {},
   "source": [
    "### Regularization parameters"
   ]
  },
  {
   "cell_type": "code",
   "execution_count": 99,
   "metadata": {
    "collapsed": true
   },
   "outputs": [],
   "source": [
    "#lamb = th*0.01 # Marquadt's parameter\n",
    "lamb = 1000.0\n",
    "dlamb = 10.      # step for Marquadt's parameter\n",
    "\n",
    "a1 = 0.0001   # adjacent radial distances within each prism\n",
    "a2 = 0.0001 # vertically adjacent radial distances\n",
    "a3 = 0.    # outcropping cross-section\n",
    "a4 = 0.     # outcropping origin\n",
    "a5 = 0.0001     # vertically adjacent origins\n",
    "a6 = 0.000001   # zero order Tikhonov on adjacent radial distances\n",
    "a7 = 0.00001     # zero order Tikhonov on thickness of each prism"
   ]
  },
  {
   "cell_type": "code",
   "execution_count": 100,
   "metadata": {},
   "outputs": [],
   "source": [
    "alpha = np.array([a1, a2, a3, a4, a5, a6, a7])"
   ]
  },
  {
   "cell_type": "code",
   "execution_count": 101,
   "metadata": {},
   "outputs": [],
   "source": [
    "itmax = 30\n",
    "itmax_marq = 15\n",
    "tol = 1.0e-4     # tolerance"
   ]
  },
  {
   "cell_type": "markdown",
   "metadata": {},
   "source": [
    "### Inversion"
   ]
  },
  {
   "cell_type": "code",
   "execution_count": 102,
   "metadata": {},
   "outputs": [
    {
     "name": "stdout",
     "output_type": "stream",
     "text": [
      "it:  0   it_marq:  0   lambda: 1e+03   init obj.: 2.01067e+05  fin obj.: 1.88143e+05\n",
      "it:  1   it_marq:  0   lambda: 1e+02   init obj.: 1.88143e+05  fin obj.: 1.42525e+05\n",
      "it:  2   it_marq:  0   lambda: 1e+01   init obj.: 1.42525e+05  fin obj.: 9.09239e+04\n",
      "it:  3   it_marq:  0   lambda: 1e+00   init obj.: 9.09239e+04  fin obj.: 8.40905e+04\n",
      "it:  4   it_marq:  0   lambda: 1e-01   init obj.: 8.40905e+04  fin obj.: 5.90071e+05\n",
      "it:  4   it_marq:  1   lambda: 1e+00   init obj.: 8.40905e+04  fin obj.: 1.12665e+06\n",
      "it:  4   it_marq:  2   lambda: 1e+01   init obj.: 8.40905e+04  fin obj.: 7.01358e+05\n",
      "it:  4   it_marq:  3   lambda: 1e+02   init obj.: 8.40905e+04  fin obj.: 7.58117e+04\n",
      "it:  5   it_marq:  0   lambda: 1e+01   init obj.: 7.58117e+04  fin obj.: 6.07625e+04\n",
      "it:  6   it_marq:  0   lambda: 1e+00   init obj.: 6.07625e+04  fin obj.: 1.12213e+05\n",
      "it:  6   it_marq:  1   lambda: 1e+01   init obj.: 6.07625e+04  fin obj.: 5.73344e+04\n",
      "it:  7   it_marq:  0   lambda: 1e+00   init obj.: 5.73344e+04  fin obj.: 8.16705e+04\n",
      "it:  7   it_marq:  1   lambda: 1e+01   init obj.: 5.73344e+04  fin obj.: 5.62887e+04\n",
      "it:  8   it_marq:  0   lambda: 1e+00   init obj.: 5.62887e+04  fin obj.: 1.08341e+05\n",
      "it:  8   it_marq:  1   lambda: 1e+01   init obj.: 5.62887e+04  fin obj.: 5.57052e+04\n",
      "it:  9   it_marq:  0   lambda: 1e+00   init obj.: 5.57052e+04  fin obj.: 1.61700e+05\n",
      "it:  9   it_marq:  1   lambda: 1e+01   init obj.: 5.57052e+04  fin obj.: 5.52332e+04\n",
      "it: 10   it_marq:  0   lambda: 1e+00   init obj.: 5.52332e+04  fin obj.: 1.58559e+05\n",
      "it: 10   it_marq:  1   lambda: 1e+01   init obj.: 5.52332e+04  fin obj.: 5.47606e+04\n",
      "it: 11   it_marq:  0   lambda: 1e+00   init obj.: 5.47606e+04  fin obj.: 1.58249e+05\n",
      "it: 11   it_marq:  1   lambda: 1e+01   init obj.: 5.47606e+04  fin obj.: 5.42873e+04\n",
      "it: 12   it_marq:  0   lambda: 1e+00   init obj.: 5.42873e+04  fin obj.: 2.54932e+05\n",
      "it: 12   it_marq:  1   lambda: 1e+01   init obj.: 5.42873e+04  fin obj.: 5.38718e+04\n",
      "it: 13   it_marq:  0   lambda: 1e+00   init obj.: 5.38718e+04  fin obj.: 3.08508e+05\n",
      "it: 13   it_marq:  1   lambda: 1e+01   init obj.: 5.38718e+04  fin obj.: 5.35630e+04\n",
      "it: 14   it_marq:  0   lambda: 1e+00   init obj.: 5.35630e+04  fin obj.: 3.86633e+05\n",
      "it: 14   it_marq:  1   lambda: 1e+01   init obj.: 5.35630e+04  fin obj.: 5.34594e+04\n",
      "it: 15   it_marq:  0   lambda: 1e+00   init obj.: 5.34594e+04  fin obj.: 4.17674e+05\n",
      "it: 15   it_marq:  1   lambda: 1e+01   init obj.: 5.34594e+04  fin obj.: 5.30131e+04\n",
      "it: 16   it_marq:  0   lambda: 1e+00   init obj.: 5.30131e+04  fin obj.: 4.52690e+05\n",
      "it: 16   it_marq:  1   lambda: 1e+01   init obj.: 5.30131e+04  fin obj.: 5.29129e+04\n",
      "it: 17   it_marq:  0   lambda: 1e+00   init obj.: 5.29129e+04  fin obj.: 4.71439e+05\n",
      "it: 17   it_marq:  1   lambda: 1e+01   init obj.: 5.29129e+04  fin obj.: 5.24842e+04\n",
      "it: 18   it_marq:  0   lambda: 1e+00   init obj.: 5.24842e+04  fin obj.: 4.98293e+05\n",
      "it: 18   it_marq:  1   lambda: 1e+01   init obj.: 5.24842e+04  fin obj.: 5.76994e+04\n",
      "it: 18   it_marq:  2   lambda: 1e+02   init obj.: 5.24842e+04  fin obj.: 5.09283e+05\n",
      "it: 18   it_marq:  3   lambda: 1e+03   init obj.: 5.24842e+04  fin obj.: 3.09826e+05\n",
      "it: 18   it_marq:  4   lambda: 1e+04   init obj.: 5.24842e+04  fin obj.: 4.97855e+04\n",
      "it: 19   it_marq:  0   lambda: 1e+03   init obj.: 4.97855e+04  fin obj.: 4.92875e+04\n",
      "it: 20   it_marq:  0   lambda: 1e+02   init obj.: 4.92875e+04  fin obj.: 4.93079e+04\n",
      "it: 20   it_marq:  1   lambda: 1e+03   init obj.: 4.92875e+04  fin obj.: 4.92718e+04\n",
      "it: 21   it_marq:  0   lambda: 1e+02   init obj.: 4.92718e+04  fin obj.: 4.93004e+04\n",
      "it: 21   it_marq:  1   lambda: 1e+03   init obj.: 4.92718e+04  fin obj.: 4.92571e+04\n",
      "it: 22   it_marq:  0   lambda: 1e+02   init obj.: 4.92571e+04  fin obj.: 4.92678e+04\n",
      "it: 22   it_marq:  1   lambda: 1e+03   init obj.: 4.92571e+04  fin obj.: 4.92432e+04\n",
      "it: 23   it_marq:  0   lambda: 1e+02   init obj.: 4.92432e+04  fin obj.: 4.92186e+04\n",
      "it: 24   it_marq:  0   lambda: 1e+01   init obj.: 4.92186e+04  fin obj.: 5.24219e+04\n",
      "it: 24   it_marq:  1   lambda: 1e+02   init obj.: 4.92186e+04  fin obj.: 4.91706e+04\n",
      "it: 25   it_marq:  0   lambda: 1e+01   init obj.: 4.91706e+04  fin obj.: 5.24009e+04\n",
      "it: 25   it_marq:  1   lambda: 1e+02   init obj.: 4.91706e+04  fin obj.: 4.91291e+04\n",
      "it: 26   it_marq:  0   lambda: 1e+01   init obj.: 4.91291e+04  fin obj.: 5.23725e+04\n",
      "it: 26   it_marq:  1   lambda: 1e+02   init obj.: 4.91291e+04  fin obj.: 4.90910e+04\n",
      "it: 27   it_marq:  0   lambda: 1e+01   init obj.: 4.90910e+04  fin obj.: 5.23405e+04\n",
      "it: 27   it_marq:  1   lambda: 1e+02   init obj.: 4.90910e+04  fin obj.: 4.90548e+04\n",
      "it: 28   it_marq:  0   lambda: 1e+01   init obj.: 4.90548e+04  fin obj.: 5.24944e+04\n",
      "it: 28   it_marq:  1   lambda: 1e+02   init obj.: 4.90548e+04  fin obj.: 4.90199e+04\n",
      "it: 29   it_marq:  0   lambda: 1e+01   init obj.: 4.90199e+04  fin obj.: 5.24604e+04\n",
      "it: 29   it_marq:  1   lambda: 1e+02   init obj.: 4.90199e+04  fin obj.: 4.89858e+04\n",
      "it: 30   it_marq:  0   lambda: 1e+01   init obj.: 4.89858e+04  fin obj.: 5.24256e+04\n",
      "it: 30   it_marq:  1   lambda: 1e+02   init obj.: 4.89858e+04  fin obj.: 4.89524e+04\n",
      "it: 31   it_marq:  0   lambda: 1e+01   init obj.: 4.89524e+04  fin obj.: 5.23879e+04\n",
      "it: 31   it_marq:  1   lambda: 1e+02   init obj.: 4.89524e+04  fin obj.: 4.89198e+04\n",
      "it: 32   it_marq:  0   lambda: 1e+01   init obj.: 4.89198e+04  fin obj.: 5.23476e+04\n",
      "it: 32   it_marq:  1   lambda: 1e+02   init obj.: 4.89198e+04  fin obj.: 4.88882e+04\n",
      "it: 33   it_marq:  0   lambda: 1e+01   init obj.: 4.88882e+04  fin obj.: 5.23067e+04\n",
      "it: 33   it_marq:  1   lambda: 1e+02   init obj.: 4.88882e+04  fin obj.: 4.88583e+04\n",
      "it: 34   it_marq:  0   lambda: 1e+01   init obj.: 4.88583e+04  fin obj.: 5.22652e+04\n",
      "it: 34   it_marq:  1   lambda: 1e+02   init obj.: 4.88583e+04  fin obj.: 4.88316e+04\n",
      "it: 35   it_marq:  0   lambda: 1e+01   init obj.: 4.88316e+04  fin obj.: 5.22242e+04\n",
      "it: 35   it_marq:  1   lambda: 1e+02   init obj.: 4.88316e+04  fin obj.: 4.88077e+04\n",
      "it: 36   it_marq:  0   lambda: 1e+01   init obj.: 4.88077e+04  fin obj.: 5.21834e+04\n",
      "it: 36   it_marq:  1   lambda: 1e+02   init obj.: 4.88077e+04  fin obj.: 4.87844e+04\n",
      "it: 37   it_marq:  0   lambda: 1e+01   init obj.: 4.87844e+04  fin obj.: 5.21433e+04\n",
      "it: 37   it_marq:  1   lambda: 1e+02   init obj.: 4.87844e+04  fin obj.: 4.87616e+04\n",
      "it: 38   it_marq:  0   lambda: 1e+01   init obj.: 4.87616e+04  fin obj.: 5.21039e+04\n",
      "it: 38   it_marq:  1   lambda: 1e+02   init obj.: 4.87616e+04  fin obj.: 4.87395e+04\n",
      "it: 39   it_marq:  0   lambda: 1e+01   init obj.: 4.87395e+04  fin obj.: 5.20652e+04\n",
      "it: 39   it_marq:  1   lambda: 1e+02   init obj.: 4.87395e+04  fin obj.: 4.87178e+04\n",
      "it: 40   it_marq:  0   lambda: 1e+01   init obj.: 4.87178e+04  fin obj.: 5.20272e+04\n",
      "it: 40   it_marq:  1   lambda: 1e+02   init obj.: 4.87178e+04  fin obj.: 4.86968e+04\n",
      "it: 41   it_marq:  0   lambda: 1e+01   init obj.: 4.86968e+04  fin obj.: 5.20679e+04\n",
      "it: 41   it_marq:  1   lambda: 1e+02   init obj.: 4.86968e+04  fin obj.: 4.86763e+04\n",
      "it: 42   it_marq:  0   lambda: 1e+01   init obj.: 4.86763e+04  fin obj.: 5.22798e+04\n",
      "it: 42   it_marq:  1   lambda: 1e+02   init obj.: 4.86763e+04  fin obj.: 4.86564e+04\n",
      "it: 43   it_marq:  0   lambda: 1e+01   init obj.: 4.86564e+04  fin obj.: 5.22461e+04\n",
      "it: 43   it_marq:  1   lambda: 1e+02   init obj.: 4.86564e+04  fin obj.: 4.86372e+04\n",
      "it: 44   it_marq:  0   lambda: 1e+01   init obj.: 4.86372e+04  fin obj.: 5.22166e+04\n",
      "it: 44   it_marq:  1   lambda: 1e+02   init obj.: 4.86372e+04  fin obj.: 4.86186e+04\n",
      "it: 45   it_marq:  0   lambda: 1e+01   init obj.: 4.86186e+04  fin obj.: 5.21972e+04\n",
      "it: 45   it_marq:  1   lambda: 1e+02   init obj.: 4.86186e+04  fin obj.: 4.86008e+04\n",
      "it: 46   it_marq:  0   lambda: 1e+01   init obj.: 4.86008e+04  fin obj.: 5.22179e+04\n",
      "it: 46   it_marq:  1   lambda: 1e+02   init obj.: 4.86008e+04  fin obj.: 4.85838e+04\n",
      "it: 47   it_marq:  0   lambda: 1e+01   init obj.: 4.85838e+04  fin obj.: 5.24961e+04\n",
      "it: 47   it_marq:  1   lambda: 1e+02   init obj.: 4.85838e+04  fin obj.: 4.85682e+04\n",
      "it: 48   it_marq:  0   lambda: 1e+01   init obj.: 4.85682e+04  fin obj.: 5.26054e+04\n",
      "it: 48   it_marq:  1   lambda: 1e+02   init obj.: 4.85682e+04  fin obj.: 4.85546e+04\n",
      "it: 49   it_marq:  0   lambda: 1e+01   init obj.: 4.85546e+04  fin obj.: 5.25774e+04\n",
      "it: 49   it_marq:  1   lambda: 1e+02   init obj.: 4.85546e+04  fin obj.: 4.85418e+04\n",
      "it: 50   it_marq:  0   lambda: 1e+01   init obj.: 4.85418e+04  fin obj.: 5.25496e+04\n",
      "it: 50   it_marq:  1   lambda: 1e+02   init obj.: 4.85418e+04  fin obj.: 4.85295e+04\n",
      "it: 51   it_marq:  0   lambda: 1e+01   init obj.: 4.85295e+04  fin obj.: 5.25221e+04\n",
      "it: 51   it_marq:  1   lambda: 1e+02   init obj.: 4.85295e+04  fin obj.: 4.85175e+04\n",
      "it: 52   it_marq:  0   lambda: 1e+01   init obj.: 4.85175e+04  fin obj.: 5.24947e+04\n",
      "it: 52   it_marq:  1   lambda: 1e+02   init obj.: 4.85175e+04  fin obj.: 4.85058e+04\n",
      "it: 53   it_marq:  0   lambda: 1e+01   init obj.: 4.85058e+04  fin obj.: 5.24677e+04\n",
      "it: 53   it_marq:  1   lambda: 1e+02   init obj.: 4.85058e+04  fin obj.: 4.84945e+04\n",
      "it: 54   it_marq:  0   lambda: 1e+01   init obj.: 4.84945e+04  fin obj.: 5.24409e+04\n",
      "it: 54   it_marq:  1   lambda: 1e+02   init obj.: 4.84945e+04  fin obj.: 4.84836e+04\n",
      "it: 55   it_marq:  0   lambda: 1e+01   init obj.: 4.84836e+04  fin obj.: 5.30880e+04\n",
      "it: 55   it_marq:  1   lambda: 1e+02   init obj.: 4.84836e+04  fin obj.: 4.84730e+04\n",
      "it: 56   it_marq:  0   lambda: 1e+01   init obj.: 4.84730e+04  fin obj.: 5.32086e+04\n",
      "it: 56   it_marq:  1   lambda: 1e+02   init obj.: 4.84730e+04  fin obj.: 4.84627e+04\n",
      "it: 57   it_marq:  0   lambda: 1e+01   init obj.: 4.84627e+04  fin obj.: 5.31817e+04\n",
      "it: 57   it_marq:  1   lambda: 1e+02   init obj.: 4.84627e+04  fin obj.: 4.84527e+04\n",
      "it: 58   it_marq:  0   lambda: 1e+01   init obj.: 4.84527e+04  fin obj.: 6.98349e+04\n",
      "it: 58   it_marq:  1   lambda: 1e+02   init obj.: 4.84527e+04  fin obj.: 4.84431e+04\n",
      "it: 59   it_marq:  0   lambda: 1e+01   init obj.: 4.84431e+04  fin obj.: 8.74424e+04\n",
      "it: 59   it_marq:  1   lambda: 1e+02   init obj.: 4.84431e+04  fin obj.: 4.84338e+04\n",
      "it: 60   it_marq:  0   lambda: 1e+01   init obj.: 4.84338e+04  fin obj.: 1.06575e+05\n",
      "it: 60   it_marq:  1   lambda: 1e+02   init obj.: 4.84338e+04  fin obj.: 4.84247e+04\n",
      "it: 61   it_marq:  0   lambda: 1e+01   init obj.: 4.84247e+04  fin obj.: 1.26210e+05\n",
      "it: 61   it_marq:  1   lambda: 1e+02   init obj.: 4.84247e+04  fin obj.: 4.84159e+04\n",
      "it: 62   it_marq:  0   lambda: 1e+01   init obj.: 4.84159e+04  fin obj.: 1.38663e+05\n",
      "it: 62   it_marq:  1   lambda: 1e+02   init obj.: 4.84159e+04  fin obj.: 4.84074e+04\n",
      "it: 63   it_marq:  0   lambda: 1e+01   init obj.: 4.84074e+04  fin obj.: 1.56865e+05\n",
      "it: 63   it_marq:  1   lambda: 1e+02   init obj.: 4.84074e+04  fin obj.: 4.83992e+04\n",
      "it: 64   it_marq:  0   lambda: 1e+01   init obj.: 4.83992e+04  fin obj.: 1.70344e+05\n",
      "it: 64   it_marq:  1   lambda: 1e+02   init obj.: 4.83992e+04  fin obj.: 4.83912e+04\n",
      "it: 65   it_marq:  0   lambda: 1e+01   init obj.: 4.83912e+04  fin obj.: 1.77294e+05\n",
      "it: 65   it_marq:  1   lambda: 1e+02   init obj.: 4.83912e+04  fin obj.: 4.83835e+04\n",
      "it: 66   it_marq:  0   lambda: 1e+01   init obj.: 4.83835e+04  fin obj.: 1.91505e+05\n",
      "it: 66   it_marq:  1   lambda: 1e+02   init obj.: 4.83835e+04  fin obj.: 4.83760e+04\n",
      "it: 67   it_marq:  0   lambda: 1e+01   init obj.: 4.83760e+04  fin obj.: 1.97718e+05\n",
      "it: 67   it_marq:  1   lambda: 1e+02   init obj.: 4.83760e+04  fin obj.: 4.83688e+04\n",
      "it: 68   it_marq:  0   lambda: 1e+01   init obj.: 4.83688e+04  fin obj.: 2.07621e+05\n",
      "it: 68   it_marq:  1   lambda: 1e+02   init obj.: 4.83688e+04  fin obj.: 4.83618e+04\n",
      "it: 69   it_marq:  0   lambda: 1e+01   init obj.: 4.83618e+04  fin obj.: 2.13050e+05\n",
      "it: 69   it_marq:  1   lambda: 1e+02   init obj.: 4.83618e+04  fin obj.: 4.83549e+04\n",
      "it: 70   it_marq:  0   lambda: 1e+01   init obj.: 4.83549e+04  fin obj.: 2.23263e+05\n",
      "it: 70   it_marq:  1   lambda: 1e+02   init obj.: 4.83549e+04  fin obj.: 4.83483e+04\n",
      "it: 71   it_marq:  0   lambda: 1e+01   init obj.: 4.83483e+04  fin obj.: 2.32380e+05\n",
      "it: 71   it_marq:  1   lambda: 1e+02   init obj.: 4.83483e+04  fin obj.: 4.83419e+04\n",
      "it: 72   it_marq:  0   lambda: 1e+01   init obj.: 4.83419e+04  fin obj.: 2.50487e+05\n",
      "it: 72   it_marq:  1   lambda: 1e+02   init obj.: 4.83419e+04  fin obj.: 4.83357e+04\n",
      "it: 73   it_marq:  0   lambda: 1e+01   init obj.: 4.83357e+04  fin obj.: 2.49726e+05\n",
      "it: 73   it_marq:  1   lambda: 1e+02   init obj.: 4.83357e+04  fin obj.: 4.83296e+04\n",
      "it: 74   it_marq:  0   lambda: 1e+01   init obj.: 4.83296e+04  fin obj.: 2.49147e+05\n",
      "it: 74   it_marq:  1   lambda: 1e+02   init obj.: 4.83296e+04  fin obj.: 4.83238e+04\n",
      "it: 75   it_marq:  0   lambda: 1e+01   init obj.: 4.83238e+04  fin obj.: 2.48649e+05\n",
      "it: 75   it_marq:  1   lambda: 1e+02   init obj.: 4.83238e+04  fin obj.: 4.83181e+04\n",
      "it: 76   it_marq:  0   lambda: 1e+01   init obj.: 4.83181e+04  fin obj.: 2.48279e+05\n",
      "it: 76   it_marq:  1   lambda: 1e+02   init obj.: 4.83181e+04  fin obj.: 4.83125e+04\n",
      "it: 77   it_marq:  0   lambda: 1e+01   init obj.: 4.83125e+04  fin obj.: 2.47958e+05\n",
      "it: 77   it_marq:  1   lambda: 1e+02   init obj.: 4.83125e+04  fin obj.: 4.83071e+04\n",
      "it: 78   it_marq:  0   lambda: 1e+01   init obj.: 4.83071e+04  fin obj.: 2.47724e+05\n",
      "it: 78   it_marq:  1   lambda: 1e+02   init obj.: 4.83071e+04  fin obj.: 4.83019e+04\n",
      "it: 79   it_marq:  0   lambda: 1e+01   init obj.: 4.83019e+04  fin obj.: 2.47519e+05\n",
      "it: 79   it_marq:  1   lambda: 1e+02   init obj.: 4.83019e+04  fin obj.: 4.82968e+04\n",
      "it: 80   it_marq:  0   lambda: 1e+01   init obj.: 4.82968e+04  fin obj.: 2.45284e+05\n",
      "it: 80   it_marq:  1   lambda: 1e+02   init obj.: 4.82968e+04  fin obj.: 4.82919e+04\n",
      "it: 81   it_marq:  0   lambda: 1e+01   init obj.: 4.82919e+04  fin obj.: 2.45144e+05\n",
      "it: 81   it_marq:  1   lambda: 1e+02   init obj.: 4.82919e+04  fin obj.: 4.82870e+04\n",
      "it: 82   it_marq:  0   lambda: 1e+01   init obj.: 4.82870e+04  fin obj.: 2.45053e+05\n",
      "it: 82   it_marq:  1   lambda: 1e+02   init obj.: 4.82870e+04  fin obj.: 4.82823e+04\n"
     ]
    }
   ],
   "source": [
    "d_fit, m_est, model_est, phi_list, model_list, res_list = mfun.levmarq_tf(xp, yp, zp, m0, M, L, delta, itmax,\n",
    "                                                    itmax_marq, lamb, dlamb, tol,\n",
    "                                                    mmin, mmax, m_out, dobs, inc, dec,\n",
    "                                                    props, alpha, z0, dz)"
   ]
  },
  {
   "cell_type": "code",
   "execution_count": null,
   "metadata": {},
   "outputs": [],
   "source": [
    "inversion['inc_dec'] = [incs, decs]\n",
    "inversion['z0'] = z0\n",
    "inversion['initial_dz'] = dz\n",
    "inversion['intial_r'] = r\n",
    "inversion['initial_estimate'] = model0\n",
    "inversion['initial_data'] = d0\n",
    "inversion['limits'] = [rmin, rmax, x0min, x0max, y0min, y0max, dzmin, dzmax]\n",
    "inversion['regularization'] = alpha\n",
    "inversion['tol'] = tol\n",
    "inversion['main_field'] = [inc, dec]"
   ]
  },
  {
   "cell_type": "code",
   "execution_count": null,
   "metadata": {},
   "outputs": [],
   "source": [
    "mypath = 'tfa_inversion/inc%d_dec%d_r%d_int%d_z0%d_dz%d' % (incs, decs, rin[0], np.linalg.norm(props['magnetization']), z0, dz)\n",
    "if not os.path.isdir(mypath):\n",
    "   os.makedirs(mypath)"
   ]
  },
  {
   "cell_type": "raw",
   "metadata": {},
   "source": [
    "mypath = 'tfa_inversion/upward_inc%d_dec%d_r%d_int%d_z0%d_dz%d' % (incs, decs, rin[0], np.linalg.norm(props['magnetization']), z0, dz)\n",
    "if not os.path.isdir(mypath):\n",
    "   os.makedirs(mypath)"
   ]
  },
  {
   "cell_type": "code",
   "execution_count": null,
   "metadata": {},
   "outputs": [],
   "source": [
    "inversion['data_fit'] = d_fit\n",
    "inversion['estimate'] = m_est\n",
    "inversion['prisms'] = model_est\n",
    "inversion['objective'] = phi_list\n",
    "inversion['residual'] = dobs - d_fit"
   ]
  },
  {
   "cell_type": "code",
   "execution_count": null,
   "metadata": {},
   "outputs": [],
   "source": [
    "file_name = mypath+'/inversion.pickle'\n",
    "with open(file_name, 'w') as f:\n",
    "    pickle.dump(inversion, f)"
   ]
  },
  {
   "cell_type": "code",
   "execution_count": null,
   "metadata": {},
   "outputs": [],
   "source": []
  },
  {
   "cell_type": "code",
   "execution_count": null,
   "metadata": {},
   "outputs": [],
   "source": [
    "100*np.std(dobs-d_fit)/np.std(dobs)"
   ]
  },
  {
   "cell_type": "code",
   "execution_count": null,
   "metadata": {},
   "outputs": [],
   "source": []
  }
 ],
 "metadata": {
  "kernelspec": {
   "display_name": "Python 2",
   "language": "python",
   "name": "python2"
  },
  "language_info": {
   "codemirror_mode": {
    "name": "ipython",
    "version": 2
   },
   "file_extension": ".py",
   "mimetype": "text/x-python",
   "name": "python",
   "nbconvert_exporter": "python",
   "pygments_lexer": "ipython2",
   "version": "2.7.16"
  }
 },
 "nbformat": 4,
 "nbformat_minor": 2
}
