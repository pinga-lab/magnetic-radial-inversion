{
 "cells": [
  {
   "cell_type": "markdown",
   "metadata": {},
   "source": [
    "# Diorama TFA inversion"
   ]
  },
  {
   "cell_type": "code",
   "execution_count": 154,
   "metadata": {},
   "outputs": [],
   "source": [
    "import numpy as np\n",
    "import matplotlib.pyplot as plt\n",
    "import cPickle as pickle\n",
    "import os\n",
    "import pandas as pd\n",
    "\n",
    "from fatiando import utils\n",
    "from fatiando.gravmag import polyprism\n",
    "from fatiando.mesher import PolygonalPrism\n",
    "from fatiando.vis import mpl, myv\n",
    "from matplotlib import colors, ticker, cm\n",
    "from IPython.display import Image as img\n",
    "from matplotlib.mlab import normpdf"
   ]
  },
  {
   "cell_type": "markdown",
   "metadata": {},
   "source": [
    "### Auxiliary functions"
   ]
  },
  {
   "cell_type": "code",
   "execution_count": 155,
   "metadata": {
    "collapsed": true
   },
   "outputs": [],
   "source": [
    "import sys\n",
    "sys.path.insert(0, '../../code')\n",
    "\n",
    "import mag_polyprism_functions as mfun\n",
    "import mag_sphere_functions as msf"
   ]
  },
  {
   "cell_type": "markdown",
   "metadata": {},
   "source": [
    "# Input"
   ]
  },
  {
   "cell_type": "markdown",
   "metadata": {},
   "source": [
    "### Importing Diorama TFA data"
   ]
  },
  {
   "cell_type": "code",
   "execution_count": 156,
   "metadata": {},
   "outputs": [],
   "source": [
    "data = pd.read_csv('diorama_decimated_tfa_residual.txt', skipinitialspace=True, delim_whitespace=True)"
   ]
  },
  {
   "cell_type": "code",
   "execution_count": 157,
   "metadata": {},
   "outputs": [],
   "source": [
    "xp = data['X'].get_values()\n",
    "yp = data['Y'].get_values()\n",
    "zp = - data['GPSALT'].get_values()\n",
    "dobs = data['mag_res1'].get_values()"
   ]
  },
  {
   "cell_type": "markdown",
   "metadata": {},
   "source": [
    "### Importing Diorama upward TFA data"
   ]
  },
  {
   "cell_type": "raw",
   "metadata": {},
   "source": [
    "with open('diorama_eqlayer/direction_inc-71_dec-23_h200m/diorama_eqlayer_depth200m.pickle') as w:\n",
    "        di = pickle.load(w)"
   ]
  },
  {
   "cell_type": "raw",
   "metadata": {},
   "source": [
    "xp = di['x']\n",
    "yp = di['y']\n",
    "zp = di['z']\n",
    "dobs = di['upward']"
   ]
  },
  {
   "cell_type": "markdown",
   "metadata": {},
   "source": [
    "### Importing Diorama TFA data (Clive)"
   ]
  },
  {
   "cell_type": "raw",
   "metadata": {},
   "source": [
    "data = pd.read_csv('Diorama.csv', skipinitialspace=True, delimiter=',')"
   ]
  },
  {
   "cell_type": "raw",
   "metadata": {},
   "source": [
    "xp = data['Y'].get_values()\n",
    "yp = data['X'].get_values()\n",
    "zp = - data['GPSALT'].get_values()\n",
    "dobs = data['mag_res'].get_values()"
   ]
  },
  {
   "cell_type": "raw",
   "metadata": {},
   "source": [
    "plt.figure(figsize=(10,7))\n",
    "plt.title('Predict TFA', fontsize=20)\n",
    "plt.tricontourf(yp, xp, dobs, 20, cmap='jet').ax.tick_params(labelsize=12)\n",
    "plt.xlabel('$y$(km)', fontsize=18)\n",
    "plt.ylabel('$x$(km)', fontsize=18)\n",
    "clb = plt.colorbar(pad=0.025, aspect=40, shrink=1)\n",
    "clb.ax.tick_params(labelsize=13)\n",
    "plt.plot(yp,xp, 'ok', markersize=1)\n",
    "#source = mpl.polygon(kimberlite_model['prisms'][0], '.-k', xy2ne=True)\n",
    "#estimate = mpl.polygon(model0[0], '.-r', xy2ne=True)\n",
    "#source.set_label('Outcropping polygon')\n",
    "#estimate.set_label('Initial estimate')\n",
    "clb.ax.set_title('nT')\n",
    "mpl.m2km()\n",
    "#plt.legend(loc=0, fontsize=12, shadow=bool, framealpha=1)\n",
    "#plt.savefig(mypath+'diorama_tfa_pred_data_true_inital.png', dpi=300)\n",
    "plt.show()\n",
    "\n",
    "#img(filename=mypath+'diorama_tfa_pred_data_true_inital.png', width=1000, height=1200)"
   ]
  },
  {
   "cell_type": "code",
   "execution_count": 158,
   "metadata": {},
   "outputs": [
    {
     "name": "stdout",
     "output_type": "stream",
     "text": [
      "8215560.07 8210031.26 -438.96 -643.59\n"
     ]
    }
   ],
   "source": [
    "print np.max(xp), np.min(xp), np.max(zp), np.min(zp)"
   ]
  },
  {
   "cell_type": "markdown",
   "metadata": {},
   "source": [
    "### Importing Diorama upward TFA data (Clive)"
   ]
  },
  {
   "cell_type": "raw",
   "metadata": {},
   "source": [
    "with open('diorama_eqlayer/direction_inc-43_dec-3_h200m/diorama_eqlayer_depth200m.pickle') as w:\n",
    "        di = pickle.load(w)"
   ]
  },
  {
   "cell_type": "raw",
   "metadata": {},
   "source": [
    "xp = di['x']\n",
    "yp = di['y']\n",
    "zp = di['z']\n",
    "dobs = di['upward']"
   ]
  },
  {
   "cell_type": "markdown",
   "metadata": {},
   "source": [
    "### Parameters for inversion"
   ]
  },
  {
   "cell_type": "code",
   "execution_count": 159,
   "metadata": {},
   "outputs": [],
   "source": [
    "# output of inversion\n",
    "inversion = dict()"
   ]
  },
  {
   "cell_type": "raw",
   "metadata": {},
   "source": [
    "inversion['xp'] = xp\n",
    "inversion['yp'] = yp\n",
    "inversion['zp'] = zp\n",
    "inversion['observed_data'] = dobs\n",
    "N = xp.size"
   ]
  },
  {
   "cell_type": "code",
   "execution_count": 160,
   "metadata": {
    "collapsed": false
   },
   "outputs": [],
   "source": [
    "#initial estimate\n",
    "M = 30 # number of vertices per prism\n",
    "L = 10 # number of prisms\n",
    "P = L*(M+2) + 1 # number of parameters\n",
    "\n",
    "# daiana\n",
    "#incs = -71.# - 10.\n",
    "#decs = -23.# - 10.\n",
    "#intensity = 20.# + 1.\n",
    "\n",
    "# zhang\n",
    "incs = -46.# - 10.\n",
    "decs = 24.# - 10.\n",
    "intensity = 25.# + 1.\n",
    "\n",
    "# andré\n",
    "#incs = -59.\n",
    "#decs = -114.5\n",
    "#intensity = 12.\n",
    "\n",
    "#clive\n",
    "#incs = -43.\n",
    "#decs = -3.\n",
    "\n",
    "#figura\n",
    "z0 = 0.\n",
    "dz = 850.\n",
    "r = 500.\n",
    "props = {'magnetization': utils.ang2vec(\n",
    "        intensity, incs, decs)}\n",
    "\n",
    "rin = np.zeros(M) + r\n",
    "m0 = np.hstack((rin, np.array([8212500., 478200.])))\n",
    "m0 = np.resize(m0, P - 1) # inicial parameters vector\n",
    "m0 = np.hstack((m0, dz))\n",
    "model0 = mfun.param2polyprism(m0, M, L, z0, props) # list of classes of prisms\n",
    "\n",
    "# main field\n",
    "inc = -19.5\n",
    "dec = -18.\n",
    "\n",
    "# predict data\n",
    "d0 = polyprism.tf(xp, yp, zp, model0, inc, dec)"
   ]
  },
  {
   "cell_type": "code",
   "execution_count": 161,
   "metadata": {},
   "outputs": [],
   "source": [
    "# limits for parameters in meters\n",
    "rmin = 50.\n",
    "rmax = 3000.\n",
    "x0min = 8212500.\n",
    "x0max = 8213500.\n",
    "y0min = 478000.\n",
    "y0max = 479000.\n",
    "dzmin = 10.\n",
    "dzmax = 1000.\n",
    "\n",
    "mmin, mmax = mfun.build_range_param(M, L, rmin, rmax, x0min, x0max, y0min, y0max, dzmin, dzmax)"
   ]
  },
  {
   "cell_type": "code",
   "execution_count": 162,
   "metadata": {},
   "outputs": [],
   "source": [
    "# variation for derivatives\n",
    "deltax = 0.01*np.max(x0max)\n",
    "deltay = 0.01*np.max(y0max)\n",
    "deltar = 0.01*np.max(rmax)\n",
    "deltaz = 0.01*np.max(dzmax)\n",
    "delta = np.array([deltax, deltay, deltar, deltaz])"
   ]
  },
  {
   "cell_type": "code",
   "execution_count": 163,
   "metadata": {},
   "outputs": [],
   "source": [
    "m_out = np.zeros(M + 2)  # outcropping body parameters"
   ]
  },
  {
   "cell_type": "code",
   "execution_count": 164,
   "metadata": {},
   "outputs": [
    {
     "data": {
      "image/png": "[encoded data removed]",
      "text/plain": [
       "<matplotlib.figure.Figure at 0xbfef4e0>"
      ]
     },
     "metadata": {
      "needs_background": "light"
     },
     "output_type": "display_data"
    }
   ],
   "source": [
    "plt.figure(figsize=(4,5))\n",
    "plt.title('Predict TFA', fontsize=20)\n",
    "plt.tricontourf(yp, xp, dobs, 20, cmap='jet').ax.tick_params(labelsize=12)\n",
    "plt.xlabel('$y$(km)', fontsize=18)\n",
    "plt.ylabel('$x$(km)', fontsize=18)\n",
    "clb = plt.colorbar(pad=0.025, aspect=40, shrink=1)\n",
    "clb.ax.tick_params(labelsize=13)\n",
    "#source = mpl.polygon(kimberlite_model['prisms'][0], '.-k', xy2ne=True)\n",
    "estimate = mpl.polygon(model0[0], '.-r', xy2ne=True)\n",
    "#source.set_label('Outcropping polygon')\n",
    "estimate.set_label('Initial estimate')\n",
    "clb.ax.set_title('nT')\n",
    "mpl.m2km()\n",
    "plt.legend(loc=0, fontsize=12, shadow=bool, framealpha=1)\n",
    "#plt.savefig(mypath+'diorama_tfa_pred_data_true_inital.png', dpi=300)\n",
    "plt.show()\n",
    "\n",
    "#img(filename=mypath+'diorama_tfa_pred_data_true_inital.png', width=1000, height=1200)"
   ]
  },
  {
   "cell_type": "code",
   "execution_count": 165,
   "metadata": {},
   "outputs": [
    {
     "data": {
      "image/png": "[encoded data removed]",
      "text/plain": [
       "<matplotlib.figure.Figure at 0x9e2ff98>"
      ]
     },
     "metadata": {
      "needs_background": "light"
     },
     "output_type": "display_data"
    }
   ],
   "source": [
    "plt.figure(figsize=(4,5))\n",
    "plt.title('Predict TFA', fontsize=20)\n",
    "plt.tricontourf(yp, xp, d0, 20, cmap='jet').ax.tick_params(labelsize=12)\n",
    "plt.xlabel('$y$(km)', fontsize=18)\n",
    "plt.ylabel('$x$(km)', fontsize=18)\n",
    "clb = plt.colorbar(pad=0.025, aspect=40, shrink=1)\n",
    "clb.ax.tick_params(labelsize=13)\n",
    "#source = mpl.polygon(kimberlite_model['prisms'][0], '.-k', xy2ne=True)\n",
    "estimate = mpl.polygon(model0[0], '.-r', xy2ne=True)\n",
    "#source.set_label('Outcropping polygon')\n",
    "estimate.set_label('Initial estimate')\n",
    "clb.ax.set_title('nT')\n",
    "mpl.m2km()\n",
    "plt.legend(loc=0, fontsize=12, shadow=bool, framealpha=1)\n",
    "#plt.savefig(mypath+'diorama_tfa_pred_data_true_inital.png', dpi=300)\n",
    "plt.show()\n",
    "\n",
    "#img(filename=mypath+'diorama_tfa_pred_data_true_inital.png', width=1000, height=1200)"
   ]
  },
  {
   "cell_type": "markdown",
   "metadata": {},
   "source": [
    "### Regularization parameters"
   ]
  },
  {
   "cell_type": "code",
   "execution_count": 166,
   "metadata": {
    "collapsed": true
   },
   "outputs": [],
   "source": [
    "#lamb = th*0.01 # Marquadt's parameter\n",
    "lamb = 1000.0\n",
    "dlamb = 10.      # step for Marquadt's parameter\n",
    "\n",
    "a1 = 0.0001   # adjacent radial distances within each prism\n",
    "a2 = 0.0001 # vertically adjacent radial distances\n",
    "a3 = 0.    # outcropping cross-section\n",
    "a4 = 0.     # outcropping origin\n",
    "a5 = 0.0001     # vertically adjacent origins\n",
    "a6 = 0.000001   # zero order Tikhonov on adjacent radial distances\n",
    "a7 = 0.00001     # zero order Tikhonov on thickness of each prism"
   ]
  },
  {
   "cell_type": "code",
   "execution_count": 167,
   "metadata": {},
   "outputs": [],
   "source": [
    "alpha = np.array([a1, a2, a3, a4, a5, a6, a7])"
   ]
  },
  {
   "cell_type": "code",
   "execution_count": 168,
   "metadata": {},
   "outputs": [],
   "source": [
    "itmax = 100\n",
    "itmax_marq = 15\n",
    "tol = 1.0e-4     # tolerance"
   ]
  },
  {
   "cell_type": "markdown",
   "metadata": {},
   "source": [
    "### Inversion"
   ]
  },
  {
   "cell_type": "code",
   "execution_count": 169,
   "metadata": {},
   "outputs": [
    {
     "name": "stdout",
     "output_type": "stream",
     "text": [
      "it:  0   it_marq:  0   lambda: 1e+03   misfit: 4.49002e+05\n",
      "it:  1   it_marq:  0   lambda: 1e+02   misfit: 3.68319e+05\n",
      "it:  2   it_marq:  0   lambda: 1e+01   misfit: 3.00487e+05\n",
      "it:  3   it_marq:  0   lambda: 1e+00   misfit: 3.19597e+05\n",
      "it:  3   it_marq:  1   lambda: 1e+01   misfit: 2.34113e+05\n",
      "it:  4   it_marq:  0   lambda: 1e+00   misfit: 2.44021e+05\n",
      "it:  4   it_marq:  1   lambda: 1e+01   misfit: 2.09712e+05\n",
      "it:  5   it_marq:  0   lambda: 1e+00   misfit: 4.45723e+05\n",
      "it:  5   it_marq:  1   lambda: 1e+01   misfit: 2.39740e+05\n",
      "it:  5   it_marq:  2   lambda: 1e+02   misfit: 2.05063e+05\n",
      "it:  6   it_marq:  0   lambda: 1e+01   misfit: 2.39375e+05\n",
      "it:  6   it_marq:  1   lambda: 1e+02   misfit: 2.02318e+05\n",
      "it:  7   it_marq:  0   lambda: 1e+01   misfit: 2.40842e+05\n",
      "it:  7   it_marq:  1   lambda: 1e+02   misfit: 2.00466e+05\n",
      "it:  8   it_marq:  0   lambda: 1e+01   misfit: 2.50731e+05\n",
      "it:  8   it_marq:  1   lambda: 1e+02   misfit: 1.99075e+05\n",
      "it:  9   it_marq:  0   lambda: 1e+01   misfit: 2.68621e+05\n",
      "it:  9   it_marq:  1   lambda: 1e+02   misfit: 1.97986e+05\n",
      "it: 10   it_marq:  0   lambda: 1e+01   misfit: 2.77464e+05\n",
      "it: 10   it_marq:  1   lambda: 1e+02   misfit: 1.97102e+05\n",
      "it: 11   it_marq:  0   lambda: 1e+01   misfit: 2.71134e+05\n",
      "it: 11   it_marq:  1   lambda: 1e+02   misfit: 1.96362e+05\n",
      "it: 12   it_marq:  0   lambda: 1e+01   misfit: 2.59026e+05\n",
      "it: 12   it_marq:  1   lambda: 1e+02   misfit: 1.95722e+05\n",
      "it: 13   it_marq:  0   lambda: 1e+01   misfit: 2.49833e+05\n",
      "it: 13   it_marq:  1   lambda: 1e+02   misfit: 1.95159e+05\n",
      "it: 14   it_marq:  0   lambda: 1e+01   misfit: 2.44699e+05\n",
      "it: 14   it_marq:  1   lambda: 1e+02   misfit: 1.94657e+05\n",
      "it: 15   it_marq:  0   lambda: 1e+01   misfit: 2.42117e+05\n",
      "it: 15   it_marq:  1   lambda: 1e+02   misfit: 1.94200e+05\n",
      "it: 16   it_marq:  0   lambda: 1e+01   misfit: 2.40862e+05\n",
      "it: 16   it_marq:  1   lambda: 1e+02   misfit: 1.93783e+05\n",
      "it: 17   it_marq:  0   lambda: 1e+01   misfit: 2.40279e+05\n",
      "it: 17   it_marq:  1   lambda: 1e+02   misfit: 1.93401e+05\n",
      "it: 18   it_marq:  0   lambda: 1e+01   misfit: 2.40062e+05\n",
      "it: 18   it_marq:  1   lambda: 1e+02   misfit: 1.93047e+05\n",
      "it: 19   it_marq:  0   lambda: 1e+01   misfit: 2.40061e+05\n",
      "it: 19   it_marq:  1   lambda: 1e+02   misfit: 1.92719e+05\n",
      "it: 20   it_marq:  0   lambda: 1e+01   misfit: 1.95488e+05\n",
      "it: 20   it_marq:  1   lambda: 1e+02   misfit: 1.92414e+05\n",
      "it: 21   it_marq:  0   lambda: 1e+01   misfit: 1.94898e+05\n",
      "it: 21   it_marq:  1   lambda: 1e+02   misfit: 1.92129e+05\n",
      "it: 22   it_marq:  0   lambda: 1e+01   misfit: 1.94415e+05\n",
      "it: 22   it_marq:  1   lambda: 1e+02   misfit: 1.91862e+05\n",
      "it: 23   it_marq:  0   lambda: 1e+01   misfit: 1.94007e+05\n",
      "it: 23   it_marq:  1   lambda: 1e+02   misfit: 1.91614e+05\n",
      "it: 24   it_marq:  0   lambda: 1e+01   misfit: 1.93646e+05\n",
      "it: 24   it_marq:  1   lambda: 1e+02   misfit: 1.91379e+05\n",
      "it: 25   it_marq:  0   lambda: 1e+01   misfit: 1.93332e+05\n",
      "it: 25   it_marq:  1   lambda: 1e+02   misfit: 1.91159e+05\n",
      "it: 26   it_marq:  0   lambda: 1e+01   misfit: 1.93047e+05\n",
      "it: 26   it_marq:  1   lambda: 1e+02   misfit: 1.90952e+05\n",
      "it: 27   it_marq:  0   lambda: 1e+01   misfit: 1.92784e+05\n",
      "it: 27   it_marq:  1   lambda: 1e+02   misfit: 1.90757e+05\n",
      "it: 28   it_marq:  0   lambda: 1e+01   misfit: 1.92543e+05\n",
      "it: 28   it_marq:  1   lambda: 1e+02   misfit: 1.90573e+05\n",
      "it: 29   it_marq:  0   lambda: 1e+01   misfit: 1.92322e+05\n",
      "it: 29   it_marq:  1   lambda: 1e+02   misfit: 1.90400e+05\n",
      "it: 30   it_marq:  0   lambda: 1e+01   misfit: 1.92114e+05\n",
      "it: 30   it_marq:  1   lambda: 1e+02   misfit: 1.90236e+05\n",
      "it: 31   it_marq:  0   lambda: 1e+01   misfit: 1.91921e+05\n",
      "it: 31   it_marq:  1   lambda: 1e+02   misfit: 1.90081e+05\n",
      "it: 32   it_marq:  0   lambda: 1e+01   misfit: 1.91739e+05\n",
      "it: 32   it_marq:  1   lambda: 1e+02   misfit: 1.89935e+05\n",
      "it: 33   it_marq:  0   lambda: 1e+01   misfit: 1.91565e+05\n",
      "it: 33   it_marq:  1   lambda: 1e+02   misfit: 1.89797e+05\n",
      "it: 34   it_marq:  0   lambda: 1e+01   misfit: 1.91402e+05\n",
      "it: 34   it_marq:  1   lambda: 1e+02   misfit: 1.89666e+05\n",
      "it: 35   it_marq:  0   lambda: 1e+01   misfit: 1.91248e+05\n",
      "it: 35   it_marq:  1   lambda: 1e+02   misfit: 1.89544e+05\n",
      "it: 36   it_marq:  0   lambda: 1e+01   misfit: 1.91101e+05\n",
      "it: 36   it_marq:  1   lambda: 1e+02   misfit: 1.89428e+05\n",
      "it: 37   it_marq:  0   lambda: 1e+01   misfit: 1.90963e+05\n",
      "it: 37   it_marq:  1   lambda: 1e+02   misfit: 1.89318e+05\n",
      "it: 38   it_marq:  0   lambda: 1e+01   misfit: 1.90832e+05\n",
      "it: 38   it_marq:  1   lambda: 1e+02   misfit: 1.89215e+05\n",
      "it: 39   it_marq:  0   lambda: 1e+01   misfit: 1.90707e+05\n",
      "it: 39   it_marq:  1   lambda: 1e+02   misfit: 1.89118e+05\n",
      "it: 40   it_marq:  0   lambda: 1e+01   misfit: 1.90589e+05\n",
      "it: 40   it_marq:  1   lambda: 1e+02   misfit: 1.89028e+05\n",
      "it: 41   it_marq:  0   lambda: 1e+01   misfit: 1.90478e+05\n",
      "it: 41   it_marq:  1   lambda: 1e+02   misfit: 1.88943e+05\n",
      "it: 42   it_marq:  0   lambda: 1e+01   misfit: 1.90374e+05\n",
      "it: 42   it_marq:  1   lambda: 1e+02   misfit: 1.88864e+05\n",
      "it: 43   it_marq:  0   lambda: 1e+01   misfit: 1.90278e+05\n",
      "it: 43   it_marq:  1   lambda: 1e+02   misfit: 1.88791e+05\n",
      "it: 44   it_marq:  0   lambda: 1e+01   misfit: 1.90187e+05\n",
      "it: 44   it_marq:  1   lambda: 1e+02   misfit: 1.88724e+05\n",
      "it: 45   it_marq:  0   lambda: 1e+01   misfit: 1.90103e+05\n",
      "it: 45   it_marq:  1   lambda: 1e+02   misfit: 1.88662e+05\n",
      "it: 46   it_marq:  0   lambda: 1e+01   misfit: 1.90026e+05\n",
      "it: 46   it_marq:  1   lambda: 1e+02   misfit: 1.88606e+05\n",
      "it: 47   it_marq:  0   lambda: 1e+01   misfit: 1.89956e+05\n",
      "it: 47   it_marq:  1   lambda: 1e+02   misfit: 1.88555e+05\n",
      "it: 48   it_marq:  0   lambda: 1e+01   misfit: 1.89894e+05\n",
      "it: 48   it_marq:  1   lambda: 1e+02   misfit: 1.88510e+05\n",
      "it: 49   it_marq:  0   lambda: 1e+01   misfit: 1.89839e+05\n",
      "it: 49   it_marq:  1   lambda: 1e+02   misfit: 1.88471e+05\n",
      "it: 50   it_marq:  0   lambda: 1e+01   misfit: 1.89793e+05\n",
      "it: 50   it_marq:  1   lambda: 1e+02   misfit: 1.88438e+05\n",
      "it: 51   it_marq:  0   lambda: 1e+01   misfit: 1.89754e+05\n",
      "it: 51   it_marq:  1   lambda: 1e+02   misfit: 1.88410e+05\n",
      "it: 52   it_marq:  0   lambda: 1e+01   misfit: 1.89723e+05\n",
      "it: 52   it_marq:  1   lambda: 1e+02   misfit: 1.88388e+05\n",
      "it: 53   it_marq:  0   lambda: 1e+01   misfit: 1.89700e+05\n",
      "it: 53   it_marq:  1   lambda: 1e+02   misfit: 1.88373e+05\n"
     ]
    }
   ],
   "source": [
    "d_fit, m_est, model_est, phi_list, model_list, res_list = mfun.levmarq_tf(xp, yp, zp, m0, M, L, delta, itmax,\n",
    "                                                    itmax_marq, lamb, dlamb, tol,\n",
    "                                                    mmin, mmax, m_out, dobs, inc, dec,\n",
    "                                                    props, alpha, z0, dz)"
   ]
  },
  {
   "cell_type": "code",
   "execution_count": 170,
   "metadata": {},
   "outputs": [],
   "source": [
    "inversion['inc_dec'] = [incs, decs]\n",
    "inversion['z0'] = z0\n",
    "inversion['initial_dz'] = dz\n",
    "inversion['intial_r'] = r\n",
    "inversion['initial_estimate'] = model0\n",
    "inversion['initial_data'] = d0\n",
    "inversion['limits'] = [rmin, rmax, x0min, x0max, y0min, y0max, dzmin, dzmax]\n",
    "inversion['regularization'] = alpha\n",
    "inversion['tol'] = tol\n",
    "inversion['main_field'] = [inc, dec]"
   ]
  },
  {
   "cell_type": "code",
   "execution_count": 171,
   "metadata": {},
   "outputs": [],
   "source": [
    "mypath = 'tfa_inversion/inc%d_dec%d_r%d_int%d_z0%d_dz%d' % (incs, decs, rin[0], np.linalg.norm(props['magnetization']), z0, dz)\n",
    "if not os.path.isdir(mypath):\n",
    "   os.makedirs(mypath)"
   ]
  },
  {
   "cell_type": "raw",
   "metadata": {},
   "source": [
    "mypath = 'tfa_inversion/upward_inc%d_dec%d_r%d_int%d_z0%d_dz%d' % (incs, decs, rin[0], np.linalg.norm(props['magnetization']), z0, dz)\n",
    "if not os.path.isdir(mypath):\n",
    "   os.makedirs(mypath)"
   ]
  },
  {
   "cell_type": "code",
   "execution_count": 172,
   "metadata": {},
   "outputs": [],
   "source": [
    "inversion['data_fit'] = d_fit\n",
    "inversion['estimate'] = m_est\n",
    "inversion['prisms'] = model_est\n",
    "inversion['objective'] = phi_list\n",
    "inversion['residual'] = dobs - d_fit"
   ]
  },
  {
   "cell_type": "code",
   "execution_count": 173,
   "metadata": {},
   "outputs": [],
   "source": [
    "file_name = mypath+'/inversion.pickle'\n",
    "with open(file_name, 'w') as f:\n",
    "    pickle.dump(inversion, f)"
   ]
  },
  {
   "cell_type": "code",
   "execution_count": null,
   "metadata": {},
   "outputs": [],
   "source": []
  },
  {
   "cell_type": "code",
   "execution_count": 174,
   "metadata": {},
   "outputs": [
    {
     "data": {
      "text/plain": [
       "39.55735246883075"
      ]
     },
     "execution_count": 174,
     "metadata": {},
     "output_type": "execute_result"
    }
   ],
   "source": [
    "100*np.std(dobs-d_fit)/np.std(dobs)"
   ]
  },
  {
   "cell_type": "code",
   "execution_count": null,
   "metadata": {},
   "outputs": [],
   "source": []
  }
 ],
 "metadata": {
  "kernelspec": {
   "display_name": "Python 2",
   "language": "python",
   "name": "python2"
  },
  "language_info": {
   "codemirror_mode": {
    "name": "ipython",
    "version": 2
   },
   "file_extension": ".py",
   "mimetype": "text/x-python",
   "name": "python",
   "nbconvert_exporter": "python",
   "pygments_lexer": "ipython2",
   "version": "2.7.15"
  }
 },
 "nbformat": 4,
 "nbformat_minor": 2
}
