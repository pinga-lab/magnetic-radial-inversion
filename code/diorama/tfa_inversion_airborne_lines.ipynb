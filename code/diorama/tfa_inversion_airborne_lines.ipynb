{
 "cells": [
  {
   "cell_type": "markdown",
   "metadata": {},
   "source": [
    "# Diorama TFA inversion"
   ]
  },
  {
   "cell_type": "code",
   "execution_count": 244,
   "metadata": {},
   "outputs": [],
   "source": [
    "import numpy as np\n",
    "import matplotlib.pyplot as plt\n",
    "import cPickle as pickle\n",
    "import os\n",
    "import pandas as pd\n",
    "\n",
    "from fatiando import utils\n",
    "from fatiando.gravmag import polyprism\n",
    "from fatiando.mesher import PolygonalPrism\n",
    "from fatiando.vis import mpl, myv\n",
    "from matplotlib import colors, ticker, cm\n",
    "from IPython.display import Image as img\n",
    "from matplotlib.mlab import normpdf"
   ]
  },
  {
   "cell_type": "markdown",
   "metadata": {},
   "source": [
    "### Auxiliary functions"
   ]
  },
  {
   "cell_type": "code",
   "execution_count": 245,
   "metadata": {
    "collapsed": true
   },
   "outputs": [],
   "source": [
    "import sys\n",
    "sys.path.insert(0, '../../code')\n",
    "\n",
    "import mag_polyprism_functions as mfun\n",
    "import mag_sphere_functions as msf"
   ]
  },
  {
   "cell_type": "markdown",
   "metadata": {},
   "source": [
    "# Input"
   ]
  },
  {
   "cell_type": "markdown",
   "metadata": {},
   "source": [
    "### Importing Diorama TFA data"
   ]
  },
  {
   "cell_type": "raw",
   "metadata": {},
   "source": [
    "data = pd.read_csv('diorama_decimated_tfa.txt', skipinitialspace=True, delim_whitespace=True)"
   ]
  },
  {
   "cell_type": "raw",
   "metadata": {},
   "source": [
    "xp = data['X'].get_values()\n",
    "yp = data['Y'].get_values()\n",
    "zp = np.zeros(xp.size) - 100.\n",
    "dobs = data['MAGIGRF'].get_values()"
   ]
  },
  {
   "cell_type": "markdown",
   "metadata": {},
   "source": [
    "### Importing Diorama upward TFA data"
   ]
  },
  {
   "cell_type": "code",
   "execution_count": 246,
   "metadata": {},
   "outputs": [],
   "source": [
    "with open('diorama_eqlayer/direction_inc-71_dec-23_h200m/diorama_eqlayer_depth200m.pickle') as w:\n",
    "        di = pickle.load(w)"
   ]
  },
  {
   "cell_type": "code",
   "execution_count": 247,
   "metadata": {},
   "outputs": [],
   "source": [
    "xp = di['x']\n",
    "yp = di['y']\n",
    "zp = di['z']\n",
    "dobs = di['upward']"
   ]
  },
  {
   "cell_type": "markdown",
   "metadata": {},
   "source": [
    "### Parameters for inversion"
   ]
  },
  {
   "cell_type": "code",
   "execution_count": 248,
   "metadata": {},
   "outputs": [],
   "source": [
    "# output of inversion\n",
    "inversion = dict()"
   ]
  },
  {
   "cell_type": "code",
   "execution_count": 249,
   "metadata": {},
   "outputs": [],
   "source": [
    "inversion['xp'] = xp\n",
    "inversion['yp'] = yp\n",
    "inversion['zp'] = zp\n",
    "inversion['observed_data'] = dobs\n",
    "N = xp.size"
   ]
  },
  {
   "cell_type": "code",
   "execution_count": 250,
   "metadata": {
    "collapsed": false
   },
   "outputs": [],
   "source": [
    "#initial estimate\n",
    "M = 30 # number of vertices per prism\n",
    "L = 10 # number of prisms\n",
    "P = L*(M+2) + 1 # number of parameters\n",
    "\n",
    "# daiana\n",
    "incs = -71.41751# - 10.\n",
    "decs = -23.39541# - 10.\n",
    "intensity = 15.# + 1.\n",
    "\n",
    "# andré\n",
    "#incs = -59.\n",
    "#decs = -114.5\n",
    "#intensity = 12.\n",
    "\n",
    "#figura\n",
    "z0 = 350. - 300.\n",
    "dz = 750.\n",
    "r = 100.\n",
    "props = {'magnetization': utils.ang2vec(\n",
    "        intensity, incs, decs)}\n",
    "\n",
    "rin = np.zeros(M) + r\n",
    "m0 = np.hstack((rin, np.array([8212500., 478200.])))\n",
    "m0 = np.resize(m0, P - 1) # inicial parameters vector\n",
    "m0 = np.hstack((m0, dz))\n",
    "model0 = mfun.param2polyprism(m0, M, L, z0, props) # list of classes of prisms\n",
    "\n",
    "# main field\n",
    "inc = -19.5\n",
    "dec = -18.5\n",
    "\n",
    "# predict data\n",
    "d0 = polyprism.tf(xp, yp, zp, model0, inc, dec)"
   ]
  },
  {
   "cell_type": "code",
   "execution_count": 251,
   "metadata": {},
   "outputs": [],
   "source": [
    "# limits for parameters in meters\n",
    "rmin = 50.\n",
    "rmax = 3000.\n",
    "x0min = 8212500.\n",
    "x0max = 8213500.\n",
    "y0min = 478000.\n",
    "y0max = 479000.\n",
    "dzmin = 10.\n",
    "dzmax = 1000.\n",
    "\n",
    "mmin, mmax = mfun.build_range_param(M, L, rmin, rmax, x0min, x0max, y0min, y0max, dzmin, dzmax)"
   ]
  },
  {
   "cell_type": "code",
   "execution_count": 252,
   "metadata": {},
   "outputs": [],
   "source": [
    "# variation for derivatives\n",
    "deltax = 0.01*np.max(x0max)\n",
    "deltay = 0.01*np.max(y0max)\n",
    "deltar = 0.01*np.max(rmax)\n",
    "deltaz = 0.01*np.max(dzmax)\n",
    "delta = np.array([deltax, deltay, deltar, deltaz])"
   ]
  },
  {
   "cell_type": "code",
   "execution_count": 253,
   "metadata": {},
   "outputs": [],
   "source": [
    "m_out = np.zeros(M + 2)  # outcropping body parameters"
   ]
  },
  {
   "cell_type": "code",
   "execution_count": 254,
   "metadata": {},
   "outputs": [
    {
     "data": {
      "image/png": "[encoded data removed]",
      "text/plain": [
       "<matplotlib.figure.Figure at 0xaba52b0>"
      ]
     },
     "metadata": {
      "needs_background": "light"
     },
     "output_type": "display_data"
    }
   ],
   "source": [
    "plt.figure(figsize=(10,7))\n",
    "plt.title('Predict TFA', fontsize=20)\n",
    "plt.tricontourf(yp, xp, d0, 20, cmap='jet').ax.tick_params(labelsize=12)\n",
    "plt.xlabel('$y$(km)', fontsize=18)\n",
    "plt.ylabel('$x$(km)', fontsize=18)\n",
    "clb = plt.colorbar(pad=0.025, aspect=40, shrink=1)\n",
    "clb.ax.tick_params(labelsize=13)\n",
    "#source = mpl.polygon(kimberlite_model['prisms'][0], '.-k', xy2ne=True)\n",
    "estimate = mpl.polygon(model0[0], '.-r', xy2ne=True)\n",
    "#source.set_label('Outcropping polygon')\n",
    "estimate.set_label('Initial estimate')\n",
    "clb.ax.set_title('nT')\n",
    "mpl.m2km()\n",
    "plt.legend(loc=0, fontsize=12, shadow=bool, framealpha=1)\n",
    "#plt.savefig(mypath+'diorama_tfa_pred_data_true_inital.png', dpi=300)\n",
    "plt.show()\n",
    "\n",
    "#img(filename=mypath+'diorama_tfa_pred_data_true_inital.png', width=1000, height=1200)"
   ]
  },
  {
   "cell_type": "markdown",
   "metadata": {},
   "source": [
    "### Regularization parameters"
   ]
  },
  {
   "cell_type": "code",
   "execution_count": 255,
   "metadata": {
    "collapsed": true
   },
   "outputs": [],
   "source": [
    "#lamb = th*0.01 # Marquadt's parameter\n",
    "lamb = 1000.0\n",
    "dlamb = 10.      # step for Marquadt's parameter\n",
    "\n",
    "a1 = 0.00001   # adjacent radial distances within each prism\n",
    "a2 = 0.00001 # vertically adjacent radial distances\n",
    "a3 = 0.    # outcropping cross-section\n",
    "a4 = 0.     # outcropping origin\n",
    "a5 = 0.0001     # vertically adjacent origins\n",
    "a6 = 0.000001   # zero order Tikhonov on adjacent radial distances\n",
    "a7 = 0.0001     # zero order Tikhonov on thickness of each prism"
   ]
  },
  {
   "cell_type": "code",
   "execution_count": 256,
   "metadata": {},
   "outputs": [],
   "source": [
    "alpha = np.array([a1, a2, a3, a4, a5, a6, a7])"
   ]
  },
  {
   "cell_type": "code",
   "execution_count": 257,
   "metadata": {},
   "outputs": [],
   "source": [
    "itmax = 100\n",
    "itmax_marq = 15\n",
    "tol = 1.0e-4     # tolerance"
   ]
  },
  {
   "cell_type": "markdown",
   "metadata": {},
   "source": [
    "### Inversion"
   ]
  },
  {
   "cell_type": "code",
   "execution_count": 258,
   "metadata": {},
   "outputs": [
    {
     "name": "stdout",
     "output_type": "stream",
     "text": [
      "it:  0   it_marq:  0   lambda: 1e+03   misfit: 1.00449e+06\n",
      "it:  0   it_marq:  1   lambda: 1e+04   misfit: 2.49412e+04\n",
      "it:  1   it_marq:  0   lambda: 1e+03   misfit: 1.82250e+04\n",
      "it:  2   it_marq:  0   lambda: 1e+02   misfit: 2.62502e+04\n",
      "it:  2   it_marq:  1   lambda: 1e+03   misfit: 1.70595e+04\n",
      "it:  3   it_marq:  0   lambda: 1e+02   misfit: 5.87020e+03\n",
      "it:  4   it_marq:  0   lambda: 1e+01   misfit: 2.16559e+03\n",
      "it:  5   it_marq:  0   lambda: 1e+00   misfit: 2.90523e+03\n",
      "it:  5   it_marq:  1   lambda: 1e+01   misfit: 1.23139e+03\n",
      "it:  6   it_marq:  0   lambda: 1e+00   misfit: 4.20949e+03\n",
      "it:  6   it_marq:  1   lambda: 1e+01   misfit: 9.01601e+02\n",
      "it:  7   it_marq:  0   lambda: 1e+00   misfit: 1.05013e+04\n",
      "it:  7   it_marq:  1   lambda: 1e+01   misfit: 7.82914e+02\n",
      "it:  8   it_marq:  0   lambda: 1e+00   misfit: 1.03747e+04\n",
      "it:  8   it_marq:  1   lambda: 1e+01   misfit: 7.29957e+02\n",
      "it:  9   it_marq:  0   lambda: 1e+00   misfit: 9.97812e+03\n",
      "it:  9   it_marq:  1   lambda: 1e+01   misfit: 7.00473e+02\n",
      "it: 10   it_marq:  0   lambda: 1e+00   misfit: 8.49365e+03\n",
      "it: 10   it_marq:  1   lambda: 1e+01   misfit: 6.89566e+02\n",
      "it: 11   it_marq:  0   lambda: 1e+00   misfit: 2.97044e+03\n",
      "it: 11   it_marq:  1   lambda: 1e+01   misfit: 6.89811e+02\n",
      "it: 11   it_marq:  2   lambda: 1e+02   misfit: 6.29926e+02\n",
      "it: 12   it_marq:  0   lambda: 1e+01   misfit: 5.59111e+03\n",
      "it: 12   it_marq:  1   lambda: 1e+02   misfit: 6.09466e+02\n",
      "it: 13   it_marq:  0   lambda: 1e+01   misfit: 5.50759e+03\n",
      "it: 13   it_marq:  1   lambda: 1e+02   misfit: 5.98847e+02\n",
      "it: 14   it_marq:  0   lambda: 1e+01   misfit: 5.45763e+03\n",
      "it: 14   it_marq:  1   lambda: 1e+02   misfit: 5.92317e+02\n",
      "it: 15   it_marq:  0   lambda: 1e+01   misfit: 5.42686e+03\n",
      "it: 15   it_marq:  1   lambda: 1e+02   misfit: 5.87686e+02\n",
      "it: 16   it_marq:  0   lambda: 1e+01   misfit: 5.40708e+03\n",
      "it: 16   it_marq:  1   lambda: 1e+02   misfit: 5.84048e+02\n",
      "it: 17   it_marq:  0   lambda: 1e+01   misfit: 5.39298e+03\n",
      "it: 17   it_marq:  1   lambda: 1e+02   misfit: 5.81032e+02\n",
      "it: 18   it_marq:  0   lambda: 1e+01   misfit: 5.38182e+03\n",
      "it: 18   it_marq:  1   lambda: 1e+02   misfit: 5.78354e+02\n",
      "it: 19   it_marq:  0   lambda: 1e+01   misfit: 5.37269e+03\n",
      "it: 19   it_marq:  1   lambda: 1e+02   misfit: 5.75902e+02\n",
      "it: 20   it_marq:  0   lambda: 1e+01   misfit: 5.36544e+03\n",
      "it: 20   it_marq:  1   lambda: 1e+02   misfit: 5.73607e+02\n",
      "it: 21   it_marq:  0   lambda: 1e+01   misfit: 5.35956e+03\n",
      "it: 21   it_marq:  1   lambda: 1e+02   misfit: 5.71413e+02\n",
      "it: 22   it_marq:  0   lambda: 1e+01   misfit: 5.35444e+03\n",
      "it: 22   it_marq:  1   lambda: 1e+02   misfit: 5.69281e+02\n",
      "it: 23   it_marq:  0   lambda: 1e+01   misfit: 5.35029e+03\n",
      "it: 23   it_marq:  1   lambda: 1e+02   misfit: 5.67212e+02\n",
      "it: 24   it_marq:  0   lambda: 1e+01   misfit: 5.34754e+03\n",
      "it: 24   it_marq:  1   lambda: 1e+02   misfit: 5.65199e+02\n",
      "it: 25   it_marq:  0   lambda: 1e+01   misfit: 5.34627e+03\n",
      "it: 25   it_marq:  1   lambda: 1e+02   misfit: 5.63200e+02\n",
      "it: 26   it_marq:  0   lambda: 1e+01   misfit: 5.34590e+03\n",
      "it: 26   it_marq:  1   lambda: 1e+02   misfit: 5.61222e+02\n",
      "it: 27   it_marq:  0   lambda: 1e+01   misfit: 5.34704e+03\n",
      "it: 27   it_marq:  1   lambda: 1e+02   misfit: 5.59292e+02\n",
      "it: 28   it_marq:  0   lambda: 1e+01   misfit: 5.55041e+03\n",
      "it: 28   it_marq:  1   lambda: 1e+02   misfit: 5.57405e+02\n",
      "it: 29   it_marq:  0   lambda: 1e+01   misfit: 9.65749e+03\n",
      "it: 29   it_marq:  1   lambda: 1e+02   misfit: 5.55512e+02\n",
      "it: 30   it_marq:  0   lambda: 1e+01   misfit: 9.64109e+03\n",
      "it: 30   it_marq:  1   lambda: 1e+02   misfit: 5.53618e+02\n",
      "it: 31   it_marq:  0   lambda: 1e+01   misfit: 9.62484e+03\n",
      "it: 31   it_marq:  1   lambda: 1e+02   misfit: 5.51747e+02\n",
      "it: 32   it_marq:  0   lambda: 1e+01   misfit: 9.60936e+03\n",
      "it: 32   it_marq:  1   lambda: 1e+02   misfit: 5.49893e+02\n",
      "it: 33   it_marq:  0   lambda: 1e+01   misfit: 9.59587e+03\n",
      "it: 33   it_marq:  1   lambda: 1e+02   misfit: 5.48035e+02\n",
      "it: 34   it_marq:  0   lambda: 1e+01   misfit: 9.58661e+03\n",
      "it: 34   it_marq:  1   lambda: 1e+02   misfit: 5.46192e+02\n",
      "it: 35   it_marq:  0   lambda: 1e+01   misfit: 9.59861e+03\n",
      "it: 35   it_marq:  1   lambda: 1e+02   misfit: 5.44397e+02\n",
      "it: 36   it_marq:  0   lambda: 1e+01   misfit: 1.64082e+04\n",
      "it: 36   it_marq:  1   lambda: 1e+02   misfit: 5.42652e+02\n",
      "it: 37   it_marq:  0   lambda: 1e+01   misfit: 1.72410e+04\n",
      "it: 37   it_marq:  1   lambda: 1e+02   misfit: 5.40935e+02\n",
      "it: 38   it_marq:  0   lambda: 1e+01   misfit: 1.83336e+04\n",
      "it: 38   it_marq:  1   lambda: 1e+02   misfit: 5.39225e+02\n",
      "it: 39   it_marq:  0   lambda: 1e+01   misfit: 2.81617e+04\n",
      "it: 39   it_marq:  1   lambda: 1e+02   misfit: 5.37501e+02\n",
      "it: 40   it_marq:  0   lambda: 1e+01   misfit: 2.81285e+04\n",
      "it: 40   it_marq:  1   lambda: 1e+02   misfit: 5.35759e+02\n",
      "it: 41   it_marq:  0   lambda: 1e+01   misfit: 2.80954e+04\n",
      "it: 41   it_marq:  1   lambda: 1e+02   misfit: 5.34002e+02\n",
      "it: 42   it_marq:  0   lambda: 1e+01   misfit: 2.80626e+04\n",
      "it: 42   it_marq:  1   lambda: 1e+02   misfit: 5.32238e+02\n",
      "it: 43   it_marq:  0   lambda: 1e+01   misfit: 2.80299e+04\n",
      "it: 43   it_marq:  1   lambda: 1e+02   misfit: 5.30472e+02\n",
      "it: 44   it_marq:  0   lambda: 1e+01   misfit: 2.79975e+04\n",
      "it: 44   it_marq:  1   lambda: 1e+02   misfit: 5.28717e+02\n",
      "it: 45   it_marq:  0   lambda: 1e+01   misfit: 2.79656e+04\n",
      "it: 45   it_marq:  1   lambda: 1e+02   misfit: 5.27001e+02\n",
      "it: 46   it_marq:  0   lambda: 1e+01   misfit: 2.79332e+04\n",
      "it: 46   it_marq:  1   lambda: 1e+02   misfit: 5.25325e+02\n",
      "it: 47   it_marq:  0   lambda: 1e+01   misfit: 2.79009e+04\n",
      "it: 47   it_marq:  1   lambda: 1e+02   misfit: 5.23666e+02\n",
      "it: 48   it_marq:  0   lambda: 1e+01   misfit: 2.78686e+04\n",
      "it: 48   it_marq:  1   lambda: 1e+02   misfit: 5.22039e+02\n",
      "it: 49   it_marq:  0   lambda: 1e+01   misfit: 2.78358e+04\n",
      "it: 49   it_marq:  1   lambda: 1e+02   misfit: 5.20463e+02\n",
      "it: 50   it_marq:  0   lambda: 1e+01   misfit: 2.78049e+04\n",
      "it: 50   it_marq:  1   lambda: 1e+02   misfit: 5.18913e+02\n",
      "it: 51   it_marq:  0   lambda: 1e+01   misfit: 2.77802e+04\n",
      "it: 51   it_marq:  1   lambda: 1e+02   misfit: 5.17403e+02\n",
      "it: 52   it_marq:  0   lambda: 1e+01   misfit: 2.78141e+04\n",
      "it: 52   it_marq:  1   lambda: 1e+02   misfit: 5.15931e+02\n",
      "it: 53   it_marq:  0   lambda: 1e+01   misfit: 4.11533e+04\n",
      "it: 53   it_marq:  1   lambda: 1e+02   misfit: 5.14480e+02\n",
      "it: 54   it_marq:  0   lambda: 1e+01   misfit: 4.11172e+04\n",
      "it: 54   it_marq:  1   lambda: 1e+02   misfit: 5.13042e+02\n",
      "it: 55   it_marq:  0   lambda: 1e+01   misfit: 4.10809e+04\n",
      "it: 55   it_marq:  1   lambda: 1e+02   misfit: 5.11639e+02\n",
      "it: 56   it_marq:  0   lambda: 1e+01   misfit: 4.10440e+04\n",
      "it: 56   it_marq:  1   lambda: 1e+02   misfit: 5.10285e+02\n",
      "it: 57   it_marq:  0   lambda: 1e+01   misfit: 4.10067e+04\n",
      "it: 57   it_marq:  1   lambda: 1e+02   misfit: 5.08922e+02\n",
      "it: 58   it_marq:  0   lambda: 1e+01   misfit: 4.09689e+04\n",
      "it: 58   it_marq:  1   lambda: 1e+02   misfit: 5.07541e+02\n",
      "it: 59   it_marq:  0   lambda: 1e+01   misfit: 4.09319e+04\n",
      "it: 59   it_marq:  1   lambda: 1e+02   misfit: 5.06152e+02\n",
      "it: 60   it_marq:  0   lambda: 1e+01   misfit: 4.08962e+04\n",
      "it: 60   it_marq:  1   lambda: 1e+02   misfit: 5.04768e+02\n",
      "it: 61   it_marq:  0   lambda: 1e+01   misfit: 4.08614e+04\n",
      "it: 61   it_marq:  1   lambda: 1e+02   misfit: 5.03403e+02\n",
      "it: 62   it_marq:  0   lambda: 1e+01   misfit: 4.08277e+04\n",
      "it: 62   it_marq:  1   lambda: 1e+02   misfit: 5.02092e+02\n",
      "it: 63   it_marq:  0   lambda: 1e+01   misfit: 4.07955e+04\n",
      "it: 63   it_marq:  1   lambda: 1e+02   misfit: 5.00847e+02\n",
      "it: 64   it_marq:  0   lambda: 1e+01   misfit: 4.07638e+04\n",
      "it: 64   it_marq:  1   lambda: 1e+02   misfit: 4.99657e+02\n",
      "it: 65   it_marq:  0   lambda: 1e+01   misfit: 4.07337e+04\n",
      "it: 65   it_marq:  1   lambda: 1e+02   misfit: 4.98491e+02\n",
      "it: 66   it_marq:  0   lambda: 1e+01   misfit: 4.07085e+04\n",
      "it: 66   it_marq:  1   lambda: 1e+02   misfit: 4.97332e+02\n",
      "it: 67   it_marq:  0   lambda: 1e+01   misfit: 4.07002e+04\n",
      "it: 67   it_marq:  1   lambda: 1e+02   misfit: 4.96180e+02\n",
      "it: 68   it_marq:  0   lambda: 1e+01   misfit: 4.08126e+04\n",
      "it: 68   it_marq:  1   lambda: 1e+02   misfit: 4.95004e+02\n",
      "it: 69   it_marq:  0   lambda: 1e+01   misfit: 5.11948e+04\n",
      "it: 69   it_marq:  1   lambda: 1e+02   misfit: 4.93821e+02\n",
      "it: 70   it_marq:  0   lambda: 1e+01   misfit: 5.63008e+04\n",
      "it: 70   it_marq:  1   lambda: 1e+02   misfit: 4.92645e+02\n",
      "it: 71   it_marq:  0   lambda: 1e+01   misfit: 5.62585e+04\n",
      "it: 71   it_marq:  1   lambda: 1e+02   misfit: 4.91483e+02\n",
      "it: 72   it_marq:  0   lambda: 1e+01   misfit: 5.62148e+04\n",
      "it: 72   it_marq:  1   lambda: 1e+02   misfit: 4.90331e+02\n",
      "it: 73   it_marq:  0   lambda: 1e+01   misfit: 5.61694e+04\n",
      "it: 73   it_marq:  1   lambda: 1e+02   misfit: 4.89157e+02\n",
      "it: 74   it_marq:  0   lambda: 1e+01   misfit: 5.61232e+04\n",
      "it: 74   it_marq:  1   lambda: 1e+02   misfit: 4.87966e+02\n",
      "it: 75   it_marq:  0   lambda: 1e+01   misfit: 5.60771e+04\n",
      "it: 75   it_marq:  1   lambda: 1e+02   misfit: 4.86770e+02\n",
      "it: 76   it_marq:  0   lambda: 1e+01   misfit: 5.60313e+04\n",
      "it: 76   it_marq:  1   lambda: 1e+02   misfit: 4.85582e+02\n",
      "it: 77   it_marq:  0   lambda: 1e+01   misfit: 5.59870e+04\n",
      "it: 77   it_marq:  1   lambda: 1e+02   misfit: 4.84421e+02\n",
      "it: 78   it_marq:  0   lambda: 1e+01   misfit: 5.59457e+04\n",
      "it: 78   it_marq:  1   lambda: 1e+02   misfit: 4.83314e+02\n",
      "it: 79   it_marq:  0   lambda: 1e+01   misfit: 5.59277e+04\n",
      "it: 79   it_marq:  1   lambda: 1e+02   misfit: 4.82245e+02\n",
      "it: 80   it_marq:  0   lambda: 1e+01   misfit: 7.42611e+04\n",
      "it: 80   it_marq:  1   lambda: 1e+02   misfit: 4.81210e+02\n",
      "it: 81   it_marq:  0   lambda: 1e+01   misfit: 7.42184e+04\n",
      "it: 81   it_marq:  1   lambda: 1e+02   misfit: 4.80233e+02\n",
      "it: 82   it_marq:  0   lambda: 1e+01   misfit: 7.41785e+04\n",
      "it: 82   it_marq:  1   lambda: 1e+02   misfit: 4.79338e+02\n",
      "it: 83   it_marq:  0   lambda: 1e+01   misfit: 7.41425e+04\n",
      "it: 83   it_marq:  1   lambda: 1e+02   misfit: 4.78520e+02\n",
      "it: 84   it_marq:  0   lambda: 1e+01   misfit: 7.41075e+04\n",
      "it: 84   it_marq:  1   lambda: 1e+02   misfit: 4.77824e+02\n",
      "it: 85   it_marq:  0   lambda: 1e+01   misfit: 7.40713e+04\n",
      "it: 85   it_marq:  1   lambda: 1e+02   misfit: 4.77181e+02\n",
      "it: 86   it_marq:  0   lambda: 1e+01   misfit: 7.40299e+04\n",
      "it: 86   it_marq:  1   lambda: 1e+02   misfit: 4.76574e+02\n",
      "it: 87   it_marq:  0   lambda: 1e+01   misfit: 7.39713e+04\n",
      "it: 87   it_marq:  1   lambda: 1e+02   misfit: 4.75985e+02\n",
      "it: 88   it_marq:  0   lambda: 1e+01   misfit: 7.39073e+04\n",
      "it: 88   it_marq:  1   lambda: 1e+02   misfit: 4.75368e+02\n",
      "it: 89   it_marq:  0   lambda: 1e+01   misfit: 7.38433e+04\n",
      "it: 89   it_marq:  1   lambda: 1e+02   misfit: 4.74726e+02\n",
      "it: 90   it_marq:  0   lambda: 1e+01   misfit: 7.37890e+04\n",
      "it: 90   it_marq:  1   lambda: 1e+02   misfit: 4.74066e+02\n",
      "it: 91   it_marq:  0   lambda: 1e+01   misfit: 7.37501e+04\n",
      "it: 91   it_marq:  1   lambda: 1e+02   misfit: 4.73390e+02\n",
      "it: 92   it_marq:  0   lambda: 1e+01   misfit: 7.37247e+04\n",
      "it: 92   it_marq:  1   lambda: 1e+02   misfit: 4.72702e+02\n",
      "it: 93   it_marq:  0   lambda: 1e+01   misfit: 7.37044e+04\n",
      "it: 93   it_marq:  1   lambda: 1e+02   misfit: 4.72008e+02\n",
      "it: 94   it_marq:  0   lambda: 1e+01   misfit: 7.36804e+04\n",
      "it: 94   it_marq:  1   lambda: 1e+02   misfit: 4.71309e+02\n",
      "it: 95   it_marq:  0   lambda: 1e+01   misfit: 7.36496e+04\n",
      "it: 95   it_marq:  1   lambda: 1e+02   misfit: 4.70598e+02\n",
      "it: 96   it_marq:  0   lambda: 1e+01   misfit: 7.36126e+04\n",
      "it: 96   it_marq:  1   lambda: 1e+02   misfit: 4.69876e+02\n",
      "it: 97   it_marq:  0   lambda: 1e+01   misfit: 7.35707e+04\n",
      "it: 97   it_marq:  1   lambda: 1e+02   misfit: 4.69144e+02\n",
      "it: 98   it_marq:  0   lambda: 1e+01   misfit: 7.35273e+04\n",
      "it: 98   it_marq:  1   lambda: 1e+02   misfit: 4.68404e+02\n",
      "it: 99   it_marq:  0   lambda: 1e+01   misfit: 7.34838e+04\n",
      "it: 99   it_marq:  1   lambda: 1e+02   misfit: 4.67660e+02\n"
     ]
    }
   ],
   "source": [
    "d_fit, m_est, model_est, phi_list, model_list, res_list = mfun.levmarq_tf(xp, yp, zp, m0, M, L, delta, itmax,\n",
    "                                                    itmax_marq, lamb, dlamb, tol,\n",
    "                                                    mmin, mmax, m_out, dobs, inc, dec,\n",
    "                                                    props, alpha, z0, dz)"
   ]
  },
  {
   "cell_type": "code",
   "execution_count": 259,
   "metadata": {},
   "outputs": [],
   "source": [
    "inversion['inc_dec'] = [incs, decs]\n",
    "inversion['z0'] = z0\n",
    "inversion['initial_dz'] = dz\n",
    "inversion['intial_r'] = r\n",
    "inversion['initial_estimate'] = model0\n",
    "inversion['initial_data'] = d0\n",
    "inversion['limits'] = [rmin, rmax, x0min, x0max, y0min, y0max, dzmin, dzmax]\n",
    "inversion['regularization'] = alpha\n",
    "inversion['tol'] = tol\n",
    "inversion['main_field'] = [inc, dec]"
   ]
  },
  {
   "cell_type": "raw",
   "metadata": {},
   "source": [
    "mypath = 'tfa_inversion/inc%d_dec%d_r%d_int%d_z0%d_dz%d' % (incs, decs, rin[0], np.linalg.norm(props['magnetization']), z0, dz)\n",
    "if not os.path.isdir(mypath):\n",
    "   os.makedirs(mypath)"
   ]
  },
  {
   "cell_type": "code",
   "execution_count": 260,
   "metadata": {},
   "outputs": [],
   "source": [
    "mypath = 'tfa_inversion/upward_inc%d_dec%d_r%d_int%d_z0%d_dz%d' % (incs, decs, rin[0], np.linalg.norm(props['magnetization']), z0, dz)\n",
    "if not os.path.isdir(mypath):\n",
    "   os.makedirs(mypath)"
   ]
  },
  {
   "cell_type": "code",
   "execution_count": 261,
   "metadata": {},
   "outputs": [],
   "source": [
    "inversion['data_fit'] = d_fit\n",
    "inversion['estimate'] = m_est\n",
    "inversion['prisms'] = model_est\n",
    "inversion['objective'] = phi_list\n",
    "inversion['residual'] = dobs - d_fit"
   ]
  },
  {
   "cell_type": "code",
   "execution_count": 262,
   "metadata": {},
   "outputs": [],
   "source": [
    "file_name = mypath+'/inversion.pickle'\n",
    "with open(file_name, 'w') as f:\n",
    "    pickle.dump(inversion, f)"
   ]
  }
 ],
 "metadata": {
  "kernelspec": {
   "display_name": "Python 2",
   "language": "python",
   "name": "python2"
  },
  "language_info": {
   "codemirror_mode": {
    "name": "ipython",
    "version": 2
   },
   "file_extension": ".py",
   "mimetype": "text/x-python",
   "name": "python",
   "nbconvert_exporter": "python",
   "pygments_lexer": "ipython2",
   "version": "2.7.15"
  }
 },
 "nbformat": 4,
 "nbformat_minor": 2
}
