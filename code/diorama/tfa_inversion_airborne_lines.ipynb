{
 "cells": [
  {
   "cell_type": "markdown",
   "metadata": {},
   "source": [
    "# Diorama TFA inversion"
   ]
  },
  {
   "cell_type": "code",
   "execution_count": 44,
   "metadata": {},
   "outputs": [],
   "source": [
    "import numpy as np\n",
    "import matplotlib.pyplot as plt\n",
    "import cPickle as pickle\n",
    "import os\n",
    "import pandas as pd\n",
    "\n",
    "from fatiando import utils\n",
    "from fatiando.gravmag import polyprism\n",
    "from fatiando.mesher import PolygonalPrism\n",
    "from fatiando.vis import mpl, myv\n",
    "from matplotlib import colors, ticker, cm\n",
    "from IPython.display import Image as img\n",
    "from matplotlib.mlab import normpdf"
   ]
  },
  {
   "cell_type": "markdown",
   "metadata": {},
   "source": [
    "### Auxiliary functions"
   ]
  },
  {
   "cell_type": "code",
   "execution_count": 45,
   "metadata": {
    "collapsed": true
   },
   "outputs": [],
   "source": [
    "import sys\n",
    "sys.path.insert(0, '../../code')\n",
    "\n",
    "import mag_polyprism_functions as mfun\n",
    "import mag_sphere_functions as msf"
   ]
  },
  {
   "cell_type": "markdown",
   "metadata": {},
   "source": [
    "# Input"
   ]
  },
  {
   "cell_type": "markdown",
   "metadata": {},
   "source": [
    "### Importing Diorama TFA data"
   ]
  },
  {
   "cell_type": "raw",
   "metadata": {},
   "source": [
    "data = pd.read_csv('diorama_decimated_tfa_residual.txt', skipinitialspace=True, delim_whitespace=True)"
   ]
  },
  {
   "cell_type": "raw",
   "metadata": {},
   "source": [
    "xp = data['X'].get_values()\n",
    "yp = data['Y'].get_values()\n",
    "zp = - data['GPSALT'].get_values()\n",
    "dobs = data['MAGIGRF'].get_values()"
   ]
  },
  {
   "cell_type": "markdown",
   "metadata": {},
   "source": [
    "### Importing Diorama upward TFA data"
   ]
  },
  {
   "cell_type": "code",
   "execution_count": 46,
   "metadata": {},
   "outputs": [],
   "source": [
    "with open('diorama_eqlayer/direction_inc-71_dec-23_h200m/diorama_eqlayer_depth200m.pickle') as w:\n",
    "        di = pickle.load(w)"
   ]
  },
  {
   "cell_type": "code",
   "execution_count": 47,
   "metadata": {},
   "outputs": [],
   "source": [
    "xp = di['x']\n",
    "yp = di['y']\n",
    "zp = di['z']\n",
    "dobs = di['upward']"
   ]
  },
  {
   "cell_type": "markdown",
   "metadata": {},
   "source": [
    "### Importing Diorama TFA data (Clive)"
   ]
  },
  {
   "cell_type": "raw",
   "metadata": {},
   "source": [
    "data = pd.read_csv('Diorama.csv', skipinitialspace=True, delimiter=',')"
   ]
  },
  {
   "cell_type": "raw",
   "metadata": {},
   "source": [
    "xp = data['Y'].get_values()\n",
    "yp = data['X'].get_values()\n",
    "zp = - data['GPSALT'].get_values()\n",
    "dobs = data['mag_res'].get_values()"
   ]
  },
  {
   "cell_type": "markdown",
   "metadata": {},
   "source": [
    "### Importing Diorama upward TFA data (Clive)"
   ]
  },
  {
   "cell_type": "raw",
   "metadata": {},
   "source": [
    "with open('diorama_eqlayer/direction_inc-43_dec-3_h200m/diorama_eqlayer_depth200m.pickle') as w:\n",
    "        di = pickle.load(w)"
   ]
  },
  {
   "cell_type": "raw",
   "metadata": {},
   "source": [
    "xp = di['x']\n",
    "yp = di['y']\n",
    "zp = di['z']\n",
    "dobs = di['upward']"
   ]
  },
  {
   "cell_type": "markdown",
   "metadata": {},
   "source": [
    "### Parameters for inversion"
   ]
  },
  {
   "cell_type": "code",
   "execution_count": 48,
   "metadata": {},
   "outputs": [],
   "source": [
    "# output of inversion\n",
    "inversion = dict()"
   ]
  },
  {
   "cell_type": "code",
   "execution_count": 49,
   "metadata": {},
   "outputs": [],
   "source": [
    "inversion['xp'] = xp\n",
    "inversion['yp'] = yp\n",
    "inversion['zp'] = zp\n",
    "inversion['observed_data'] = dobs\n",
    "N = xp.size"
   ]
  },
  {
   "cell_type": "code",
   "execution_count": 50,
   "metadata": {
    "collapsed": false
   },
   "outputs": [],
   "source": [
    "#initial estimate\n",
    "M = 30 # number of vertices per prism\n",
    "L = 10 # number of prisms\n",
    "P = L*(M+2) + 1 # number of parameters\n",
    "\n",
    "# daiana\n",
    "incs = -71.41751# - 10.\n",
    "decs = -23.39541# - 10.\n",
    "intensity = 15.# + 1.\n",
    "\n",
    "# andré\n",
    "#incs = -59.\n",
    "#decs = -114.5\n",
    "#intensity = 12.\n",
    "\n",
    "#clive\n",
    "#incs = -43.\n",
    "#decs = -3.\n",
    "\n",
    "#figura\n",
    "z0 = 350. - 350.\n",
    "dz = 850.\n",
    "r = 100.\n",
    "props = {'magnetization': utils.ang2vec(\n",
    "        intensity, incs, decs)}\n",
    "\n",
    "rin = np.zeros(M) + r\n",
    "m0 = np.hstack((rin, np.array([8212500., 478200.])))\n",
    "m0 = np.resize(m0, P - 1) # inicial parameters vector\n",
    "m0 = np.hstack((m0, dz))\n",
    "model0 = mfun.param2polyprism(m0, M, L, z0, props) # list of classes of prisms\n",
    "\n",
    "# main field\n",
    "inc = -19.5\n",
    "dec = -18.\n",
    "\n",
    "# predict data\n",
    "d0 = polyprism.tf(xp, yp, zp, model0, inc, dec)"
   ]
  },
  {
   "cell_type": "code",
   "execution_count": 51,
   "metadata": {},
   "outputs": [],
   "source": [
    "# limits for parameters in meters\n",
    "rmin = 50.\n",
    "rmax = 3000.\n",
    "x0min = 8212500.\n",
    "x0max = 8213500.\n",
    "y0min = 478000.\n",
    "y0max = 479000.\n",
    "dzmin = 10.\n",
    "dzmax = 1000.\n",
    "\n",
    "mmin, mmax = mfun.build_range_param(M, L, rmin, rmax, x0min, x0max, y0min, y0max, dzmin, dzmax)"
   ]
  },
  {
   "cell_type": "code",
   "execution_count": 52,
   "metadata": {},
   "outputs": [],
   "source": [
    "# variation for derivatives\n",
    "deltax = 0.01*np.max(x0max)\n",
    "deltay = 0.01*np.max(y0max)\n",
    "deltar = 0.01*np.max(rmax)\n",
    "deltaz = 0.01*np.max(dzmax)\n",
    "delta = np.array([deltax, deltay, deltar, deltaz])"
   ]
  },
  {
   "cell_type": "code",
   "execution_count": 53,
   "metadata": {},
   "outputs": [],
   "source": [
    "m_out = np.zeros(M + 2)  # outcropping body parameters"
   ]
  },
  {
   "cell_type": "code",
   "execution_count": 54,
   "metadata": {},
   "outputs": [
    {
     "data": {
      "image/png": "[encoded data removed]",
      "text/plain": [
       "<matplotlib.figure.Figure at 0x5224fd0>"
      ]
     },
     "metadata": {
      "needs_background": "light"
     },
     "output_type": "display_data"
    }
   ],
   "source": [
    "plt.figure(figsize=(10,7))\n",
    "plt.title('Predict TFA', fontsize=20)\n",
    "plt.tricontourf(yp, xp, d0, 20, cmap='jet').ax.tick_params(labelsize=12)\n",
    "plt.xlabel('$y$(km)', fontsize=18)\n",
    "plt.ylabel('$x$(km)', fontsize=18)\n",
    "clb = plt.colorbar(pad=0.025, aspect=40, shrink=1)\n",
    "clb.ax.tick_params(labelsize=13)\n",
    "#source = mpl.polygon(kimberlite_model['prisms'][0], '.-k', xy2ne=True)\n",
    "estimate = mpl.polygon(model0[0], '.-r', xy2ne=True)\n",
    "#source.set_label('Outcropping polygon')\n",
    "estimate.set_label('Initial estimate')\n",
    "clb.ax.set_title('nT')\n",
    "mpl.m2km()\n",
    "plt.legend(loc=0, fontsize=12, shadow=bool, framealpha=1)\n",
    "#plt.savefig(mypath+'diorama_tfa_pred_data_true_inital.png', dpi=300)\n",
    "plt.show()\n",
    "\n",
    "#img(filename=mypath+'diorama_tfa_pred_data_true_inital.png', width=1000, height=1200)"
   ]
  },
  {
   "cell_type": "markdown",
   "metadata": {},
   "source": [
    "### Regularization parameters"
   ]
  },
  {
   "cell_type": "code",
   "execution_count": 55,
   "metadata": {
    "collapsed": true
   },
   "outputs": [],
   "source": [
    "#lamb = th*0.01 # Marquadt's parameter\n",
    "lamb = 1000.0\n",
    "dlamb = 10.      # step for Marquadt's parameter\n",
    "\n",
    "a1 = 0.00001   # adjacent radial distances within each prism\n",
    "a2 = 0.00001 # vertically adjacent radial distances\n",
    "a3 = 0.    # outcropping cross-section\n",
    "a4 = 0.     # outcropping origin\n",
    "a5 = 0.0001     # vertically adjacent origins\n",
    "a6 = 0.0000001   # zero order Tikhonov on adjacent radial distances\n",
    "a7 = 0.0001     # zero order Tikhonov on thickness of each prism"
   ]
  },
  {
   "cell_type": "code",
   "execution_count": 36,
   "metadata": {},
   "outputs": [],
   "source": [
    "alpha = np.array([a1, a2, a3, a4, a5, a6, a7])"
   ]
  },
  {
   "cell_type": "code",
   "execution_count": 37,
   "metadata": {},
   "outputs": [],
   "source": [
    "itmax = 100\n",
    "itmax_marq = 15\n",
    "tol = 1.0e-4     # tolerance"
   ]
  },
  {
   "cell_type": "markdown",
   "metadata": {},
   "source": [
    "### Inversion"
   ]
  },
  {
   "cell_type": "code",
   "execution_count": 38,
   "metadata": {},
   "outputs": [
    {
     "name": "stdout",
     "output_type": "stream",
     "text": [
      "it:  0   it_marq:  0   lambda: 1e+03   misfit: 3.15277e+04\n",
      "it:  1   it_marq:  0   lambda: 1e+02   misfit: 1.90143e+04\n",
      "it:  2   it_marq:  0   lambda: 1e+01   misfit: 1.47917e+04\n",
      "it:  3   it_marq:  0   lambda: 1e+00   misfit: 8.68392e+03\n",
      "it:  4   it_marq:  0   lambda: 1e-01   misfit: 4.09108e+04\n",
      "it:  4   it_marq:  1   lambda: 1e+00   misfit: 5.56032e+03\n",
      "it:  5   it_marq:  0   lambda: 1e-01   misfit: 4.19150e+04\n",
      "it:  5   it_marq:  1   lambda: 1e+00   misfit: 4.50289e+04\n",
      "it:  5   it_marq:  2   lambda: 1e+01   misfit: 2.50100e+03\n",
      "it:  6   it_marq:  0   lambda: 1e+00   misfit: 2.04266e+05\n",
      "it:  6   it_marq:  1   lambda: 1e+01   misfit: 1.46080e+05\n",
      "it:  6   it_marq:  2   lambda: 1e+02   misfit: 1.30563e+03\n",
      "it:  7   it_marq:  0   lambda: 1e+01   misfit: 3.07889e+05\n",
      "it:  7   it_marq:  1   lambda: 1e+02   misfit: 3.10218e+05\n",
      "it:  7   it_marq:  2   lambda: 1e+03   misfit: 2.68563e+05\n",
      "it:  7   it_marq:  3   lambda: 1e+04   misfit: 2.56189e+05\n",
      "it:  7   it_marq:  4   lambda: 1e+05   misfit: 2.83575e+04\n",
      "it:  7   it_marq:  5   lambda: 1e+06   misfit: 1.19058e+03\n",
      "it:  8   it_marq:  0   lambda: 1e+05   misfit: 1.18928e+03\n",
      "it:  9   it_marq:  0   lambda: 1e+04   misfit: 1.16804e+03\n",
      "it: 10   it_marq:  0   lambda: 1e+03   misfit: 9.57152e+02\n",
      "it: 11   it_marq:  0   lambda: 1e+02   misfit: 8.31943e+02\n",
      "it: 12   it_marq:  0   lambda: 1e+01   misfit: 7.21516e+02\n",
      "it: 13   it_marq:  0   lambda: 1e+00   misfit: 9.42976e+03\n",
      "it: 13   it_marq:  1   lambda: 1e+01   misfit: 6.70567e+02\n",
      "it: 14   it_marq:  0   lambda: 1e+00   misfit: 3.90826e+04\n",
      "it: 14   it_marq:  1   lambda: 1e+01   misfit: 6.34768e+02\n",
      "it: 15   it_marq:  0   lambda: 1e+00   misfit: 3.48748e+04\n",
      "it: 15   it_marq:  1   lambda: 1e+01   misfit: 6.13287e+02\n",
      "it: 16   it_marq:  0   lambda: 1e+00   misfit: 3.12495e+04\n",
      "it: 16   it_marq:  1   lambda: 1e+01   misfit: 5.94911e+02\n",
      "it: 17   it_marq:  0   lambda: 1e+00   misfit: 3.06619e+04\n",
      "it: 17   it_marq:  1   lambda: 1e+01   misfit: 5.79562e+02\n",
      "it: 18   it_marq:  0   lambda: 1e+00   misfit: 3.14924e+04\n",
      "it: 18   it_marq:  1   lambda: 1e+01   misfit: 5.67031e+02\n",
      "it: 19   it_marq:  0   lambda: 1e+00   misfit: 3.25409e+04\n",
      "it: 19   it_marq:  1   lambda: 1e+01   misfit: 5.55921e+02\n",
      "it: 20   it_marq:  0   lambda: 1e+00   misfit: 3.25239e+04\n",
      "it: 20   it_marq:  1   lambda: 1e+01   misfit: 5.45389e+02\n",
      "it: 21   it_marq:  0   lambda: 1e+00   misfit: 3.91500e+04\n",
      "it: 21   it_marq:  1   lambda: 1e+01   misfit: 5.35742e+02\n",
      "it: 22   it_marq:  0   lambda: 1e+00   misfit: 4.21305e+04\n",
      "it: 22   it_marq:  1   lambda: 1e+01   misfit: 5.26591e+02\n",
      "it: 23   it_marq:  0   lambda: 1e+00   misfit: 4.33006e+04\n",
      "it: 23   it_marq:  1   lambda: 1e+01   misfit: 5.11190e+02\n",
      "it: 24   it_marq:  0   lambda: 1e+00   misfit: 4.82289e+04\n",
      "it: 24   it_marq:  1   lambda: 1e+01   misfit: 5.02321e+02\n",
      "it: 25   it_marq:  0   lambda: 1e+00   misfit: 5.65091e+04\n",
      "it: 25   it_marq:  1   lambda: 1e+01   misfit: 4.93630e+02\n",
      "it: 26   it_marq:  0   lambda: 1e+00   misfit: 5.63273e+04\n",
      "it: 26   it_marq:  1   lambda: 1e+01   misfit: 4.87050e+02\n",
      "it: 27   it_marq:  0   lambda: 1e+00   misfit: 5.65850e+04\n",
      "it: 27   it_marq:  1   lambda: 1e+01   misfit: 4.82806e+02\n",
      "it: 28   it_marq:  0   lambda: 1e+00   misfit: 6.77432e+04\n",
      "it: 28   it_marq:  1   lambda: 1e+01   misfit: 4.80385e+02\n",
      "it: 29   it_marq:  0   lambda: 1e+00   misfit: 6.49480e+04\n",
      "it: 29   it_marq:  1   lambda: 1e+01   misfit: 4.78509e+02\n",
      "it: 30   it_marq:  0   lambda: 1e+00   misfit: 5.25244e+04\n",
      "it: 30   it_marq:  1   lambda: 1e+01   misfit: 4.76920e+02\n",
      "it: 31   it_marq:  0   lambda: 1e+00   misfit: 5.26379e+04\n",
      "it: 31   it_marq:  1   lambda: 1e+01   misfit: 4.75665e+02\n",
      "it: 32   it_marq:  0   lambda: 1e+00   misfit: 4.09843e+04\n",
      "it: 32   it_marq:  1   lambda: 1e+01   misfit: 4.74468e+02\n",
      "it: 33   it_marq:  0   lambda: 1e+00   misfit: 3.65610e+04\n",
      "it: 33   it_marq:  1   lambda: 1e+01   misfit: 4.73025e+02\n",
      "it: 34   it_marq:  0   lambda: 1e+00   misfit: 2.54712e+04\n",
      "it: 34   it_marq:  1   lambda: 1e+01   misfit: 4.71487e+02\n",
      "it: 35   it_marq:  0   lambda: 1e+00   misfit: 1.53456e+04\n",
      "it: 35   it_marq:  1   lambda: 1e+01   misfit: 4.46451e+02\n",
      "it: 36   it_marq:  0   lambda: 1e+00   misfit: 2.81721e+03\n",
      "it: 36   it_marq:  1   lambda: 1e+01   misfit: 7.67895e+04\n",
      "it: 36   it_marq:  2   lambda: 1e+02   misfit: 7.25039e+04\n",
      "it: 36   it_marq:  3   lambda: 1e+03   misfit: 7.07605e+04\n",
      "it: 36   it_marq:  4   lambda: 1e+04   misfit: 4.64849e+04\n",
      "it: 36   it_marq:  5   lambda: 1e+05   misfit: 4.45119e+02\n",
      "it: 37   it_marq:  0   lambda: 1e+04   misfit: 4.44958e+02\n",
      "it: 38   it_marq:  0   lambda: 1e+03   misfit: 4.42976e+02\n",
      "it: 39   it_marq:  0   lambda: 1e+02   misfit: 4.37142e+02\n",
      "it: 40   it_marq:  0   lambda: 1e+01   misfit: 4.27091e+02\n",
      "it: 41   it_marq:  0   lambda: 1e+00   misfit: 1.50080e+03\n",
      "it: 41   it_marq:  1   lambda: 1e+01   misfit: 4.23074e+02\n",
      "it: 42   it_marq:  0   lambda: 1e+00   misfit: 2.60267e+03\n",
      "it: 42   it_marq:  1   lambda: 1e+01   misfit: 4.22808e+02\n",
      "it: 43   it_marq:  0   lambda: 1e+00   misfit: 2.96524e+03\n",
      "it: 43   it_marq:  1   lambda: 1e+01   misfit: 4.22759e+02\n",
      "it: 44   it_marq:  0   lambda: 1e+00   misfit: 2.99754e+03\n",
      "it: 44   it_marq:  1   lambda: 1e+01   misfit: 4.23408e+02\n",
      "it: 44   it_marq:  2   lambda: 1e+02   misfit: 4.36397e+02\n",
      "it: 44   it_marq:  3   lambda: 1e+03   misfit: 1.11165e+03\n",
      "it: 44   it_marq:  4   lambda: 1e+04   misfit: 5.02902e+02\n",
      "it: 44   it_marq:  5   lambda: 1e+05   misfit: 5.02279e+02\n",
      "it: 44   it_marq:  6   lambda: 1e+06   misfit: 5.02231e+02\n",
      "it: 44   it_marq:  7   lambda: 1e+07   misfit: 5.02223e+02\n",
      "it: 44   it_marq:  8   lambda: 1e+08   misfit: 4.22779e+02\n",
      "it: 44   it_marq:  9   lambda: 1e+09   misfit: 4.22790e+02\n",
      "it: 44   it_marq: 10   lambda: 1e+10   misfit: 4.22790e+02\n",
      "it: 44   it_marq: 11   lambda: 1e+11   misfit: 4.22790e+02\n",
      "it: 44   it_marq: 12   lambda: 1e+12   misfit: 4.22790e+02\n",
      "it: 44   it_marq: 13   lambda: 1e+13   misfit: 4.22790e+02\n",
      "it: 44   it_marq: 14   lambda: 1e+14   misfit: 4.22790e+02\n"
     ]
    }
   ],
   "source": [
    "d_fit, m_est, model_est, phi_list, model_list, res_list = mfun.levmarq_tf(xp, yp, zp, m0, M, L, delta, itmax,\n",
    "                                                    itmax_marq, lamb, dlamb, tol,\n",
    "                                                    mmin, mmax, m_out, dobs, inc, dec,\n",
    "                                                    props, alpha, z0, dz)"
   ]
  },
  {
   "cell_type": "code",
   "execution_count": 39,
   "metadata": {},
   "outputs": [],
   "source": [
    "inversion['inc_dec'] = [incs, decs]\n",
    "inversion['z0'] = z0\n",
    "inversion['initial_dz'] = dz\n",
    "inversion['intial_r'] = r\n",
    "inversion['initial_estimate'] = model0\n",
    "inversion['initial_data'] = d0\n",
    "inversion['limits'] = [rmin, rmax, x0min, x0max, y0min, y0max, dzmin, dzmax]\n",
    "inversion['regularization'] = alpha\n",
    "inversion['tol'] = tol\n",
    "inversion['main_field'] = [inc, dec]"
   ]
  },
  {
   "cell_type": "raw",
   "metadata": {},
   "source": [
    "mypath = 'tfa_inversion/inc%d_dec%d_r%d_int%d_z0%d_dz%d' % (incs, decs, rin[0], np.linalg.norm(props['magnetization']), z0, dz)\n",
    "if not os.path.isdir(mypath):\n",
    "   os.makedirs(mypath)"
   ]
  },
  {
   "cell_type": "code",
   "execution_count": 40,
   "metadata": {},
   "outputs": [],
   "source": [
    "mypath = 'tfa_inversion/upward_inc%d_dec%d_r%d_int%d_z0%d_dz%d' % (incs, decs, rin[0], np.linalg.norm(props['magnetization']), z0, dz)\n",
    "if not os.path.isdir(mypath):\n",
    "   os.makedirs(mypath)"
   ]
  },
  {
   "cell_type": "code",
   "execution_count": 41,
   "metadata": {},
   "outputs": [],
   "source": [
    "inversion['data_fit'] = d_fit\n",
    "inversion['estimate'] = m_est\n",
    "inversion['prisms'] = model_est\n",
    "inversion['objective'] = phi_list\n",
    "inversion['residual'] = dobs - d_fit"
   ]
  },
  {
   "cell_type": "code",
   "execution_count": 42,
   "metadata": {},
   "outputs": [],
   "source": [
    "file_name = mypath+'/inversion.pickle'\n",
    "with open(file_name, 'w') as f:\n",
    "    pickle.dump(inversion, f)"
   ]
  },
  {
   "cell_type": "code",
   "execution_count": null,
   "metadata": {},
   "outputs": [],
   "source": []
  },
  {
   "cell_type": "code",
   "execution_count": 43,
   "metadata": {},
   "outputs": [
    {
     "data": {
      "text/plain": [
       "9.2712507235399375"
      ]
     },
     "execution_count": 43,
     "metadata": {},
     "output_type": "execute_result"
    }
   ],
   "source": [
    "100*np.std(dobs-d_fit)/np.std(dobs)"
   ]
  },
  {
   "cell_type": "code",
   "execution_count": null,
   "metadata": {},
   "outputs": [],
   "source": []
  }
 ],
 "metadata": {
  "kernelspec": {
   "display_name": "Python 2",
   "language": "python",
   "name": "python2"
  },
  "language_info": {
   "codemirror_mode": {
    "name": "ipython",
    "version": 2
   },
   "file_extension": ".py",
   "mimetype": "text/x-python",
   "name": "python",
   "nbconvert_exporter": "python",
   "pygments_lexer": "ipython2",
   "version": "2.7.15"
  }
 },
 "nbformat": 4,
 "nbformat_minor": 2
}
