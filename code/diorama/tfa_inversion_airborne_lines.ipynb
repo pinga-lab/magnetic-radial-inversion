{
 "cells": [
  {
   "cell_type": "markdown",
   "metadata": {},
   "source": [
    "# Diorama TFA inversion"
   ]
  },
  {
   "cell_type": "code",
   "execution_count": 424,
   "metadata": {},
   "outputs": [],
   "source": [
    "import numpy as np\n",
    "import matplotlib.pyplot as plt\n",
    "import cPickle as pickle\n",
    "import os\n",
    "import pandas as pd\n",
    "\n",
    "from fatiando import utils\n",
    "from fatiando.gravmag import polyprism\n",
    "from fatiando.mesher import PolygonalPrism\n",
    "from fatiando.vis import mpl, myv\n",
    "from matplotlib import colors, ticker, cm\n",
    "from IPython.display import Image as img\n",
    "from matplotlib.mlab import normpdf"
   ]
  },
  {
   "cell_type": "markdown",
   "metadata": {},
   "source": [
    "### Auxiliary functions"
   ]
  },
  {
   "cell_type": "code",
   "execution_count": 425,
   "metadata": {
    "collapsed": true
   },
   "outputs": [],
   "source": [
    "import sys\n",
    "sys.path.insert(0, '../../code')\n",
    "\n",
    "import mag_polyprism_functions as mfun\n",
    "import mag_sphere_functions as msf"
   ]
  },
  {
   "cell_type": "markdown",
   "metadata": {},
   "source": [
    "# Input"
   ]
  },
  {
   "cell_type": "markdown",
   "metadata": {},
   "source": [
    "### Importing Diorama TFA data"
   ]
  },
  {
   "cell_type": "code",
   "execution_count": 426,
   "metadata": {},
   "outputs": [],
   "source": [
    "data = pd.read_csv('diorama_decimated_tfa.txt', skipinitialspace=True, delim_whitespace=True)"
   ]
  },
  {
   "cell_type": "code",
   "execution_count": 427,
   "metadata": {},
   "outputs": [],
   "source": [
    "xp = data['X'].get_values()\n",
    "yp = data['Y'].get_values()\n",
    "zp = np.zeros(xp.size) - 100.\n",
    "dobs = data['MAGIGRF'].get_values()"
   ]
  },
  {
   "cell_type": "markdown",
   "metadata": {},
   "source": [
    "### Importing Diorama upward TFA data"
   ]
  },
  {
   "cell_type": "raw",
   "metadata": {},
   "source": [
    "with open('diorama_eqlayer/direction_inc-71_dec-23_h200m/diorama_eqlayer_depth200m.pickle') as w:\n",
    "        di = pickle.load(w)"
   ]
  },
  {
   "cell_type": "raw",
   "metadata": {},
   "source": [
    "xp = di['x']\n",
    "yp = di['y']\n",
    "zp = di['z']\n",
    "dobs = di['upward']"
   ]
  },
  {
   "cell_type": "markdown",
   "metadata": {},
   "source": [
    "### Parameters for inversion"
   ]
  },
  {
   "cell_type": "code",
   "execution_count": 428,
   "metadata": {},
   "outputs": [],
   "source": [
    "# output of inversion\n",
    "inversion = dict()"
   ]
  },
  {
   "cell_type": "code",
   "execution_count": 429,
   "metadata": {},
   "outputs": [],
   "source": [
    "inversion['xp'] = xp\n",
    "inversion['yp'] = yp\n",
    "inversion['zp'] = zp\n",
    "inversion['observed_data'] = dobs\n",
    "N = xp.size"
   ]
  },
  {
   "cell_type": "code",
   "execution_count": 430,
   "metadata": {
    "collapsed": false
   },
   "outputs": [],
   "source": [
    "#initial estimate\n",
    "M = 20 # number of vertices per prism\n",
    "L = 10 # number of prisms\n",
    "P = L*(M+2) + 1 # number of parameters\n",
    "\n",
    "# daiana\n",
    "incs = -71.41751# - 10.\n",
    "decs = -23.39541# - 10.\n",
    "intensity = 15.# + 1.\n",
    "\n",
    "# andré\n",
    "#incs = -59.\n",
    "#decs = -114.5\n",
    "#intensity = 12.\n",
    "\n",
    "#figura\n",
    "z0 = 350. - 300.\n",
    "dz = 800.\n",
    "r = 500.\n",
    "props = {'magnetization': utils.ang2vec(\n",
    "        intensity, incs, decs)}\n",
    "\n",
    "rin = np.zeros(M) + r\n",
    "m0 = np.hstack((rin, np.array([8212500., 478200.])))\n",
    "m0 = np.resize(m0, P - 1) # inicial parameters vector\n",
    "m0 = np.hstack((m0, dz))\n",
    "model0 = mfun.param2polyprism(m0, M, L, z0, props) # list of classes of prisms\n",
    "\n",
    "# main field\n",
    "inc = -19.5\n",
    "dec = -18.5\n",
    "\n",
    "# predict data\n",
    "d0 = polyprism.tf(xp, yp, zp, model0, inc, dec)"
   ]
  },
  {
   "cell_type": "code",
   "execution_count": 431,
   "metadata": {},
   "outputs": [],
   "source": [
    "# limits for parameters in meters\n",
    "rmin = 50.\n",
    "rmax = 3000.\n",
    "x0min = 8212500.\n",
    "x0max = 8213500.\n",
    "y0min = 478000.\n",
    "y0max = 479000.\n",
    "dzmin = 10.\n",
    "dzmax = 1000.\n",
    "\n",
    "mmin, mmax = mfun.build_range_param(M, L, rmin, rmax, x0min, x0max, y0min, y0max, dzmin, dzmax)"
   ]
  },
  {
   "cell_type": "code",
   "execution_count": 432,
   "metadata": {},
   "outputs": [],
   "source": [
    "# variation for derivatives\n",
    "deltax = 0.01*np.max(x0max)\n",
    "deltay = 0.01*np.max(y0max)\n",
    "deltar = 0.01*np.max(rmax)\n",
    "deltaz = 0.01*np.max(dzmax)\n",
    "delta = np.array([deltax, deltay, deltar, deltaz])"
   ]
  },
  {
   "cell_type": "code",
   "execution_count": 433,
   "metadata": {},
   "outputs": [],
   "source": [
    "m_out = np.zeros(M + 2)  # outcropping body parameters"
   ]
  },
  {
   "cell_type": "code",
   "execution_count": 434,
   "metadata": {},
   "outputs": [
    {
     "data": {
      "image/png": "[encoded data removed]",
      "text/plain": [
       "<Figure size 720x504 with 2 Axes>"
      ]
     },
     "metadata": {
      "needs_background": "light"
     },
     "output_type": "display_data"
    }
   ],
   "source": [
    "plt.figure(figsize=(10,7))\n",
    "plt.title('Predict TFA', fontsize=20)\n",
    "plt.tricontourf(yp, xp, d0, 20, cmap='jet').ax.tick_params(labelsize=12)\n",
    "plt.xlabel('$y$(km)', fontsize=18)\n",
    "plt.ylabel('$x$(km)', fontsize=18)\n",
    "clb = plt.colorbar(pad=0.025, aspect=40, shrink=1)\n",
    "clb.ax.tick_params(labelsize=13)\n",
    "#source = mpl.polygon(kimberlite_model['prisms'][0], '.-k', xy2ne=True)\n",
    "estimate = mpl.polygon(model0[0], '.-r', xy2ne=True)\n",
    "#source.set_label('Outcropping polygon')\n",
    "estimate.set_label('Initial estimate')\n",
    "clb.ax.set_title('nT')\n",
    "mpl.m2km()\n",
    "plt.legend(loc=0, fontsize=12, shadow=bool, framealpha=1)\n",
    "#plt.savefig(mypath+'diorama_tfa_pred_data_true_inital.png', dpi=300)\n",
    "plt.show()\n",
    "\n",
    "#img(filename=mypath+'diorama_tfa_pred_data_true_inital.png', width=1000, height=1200)"
   ]
  },
  {
   "cell_type": "markdown",
   "metadata": {},
   "source": [
    "### Regularization parameters"
   ]
  },
  {
   "cell_type": "code",
   "execution_count": 435,
   "metadata": {
    "collapsed": true
   },
   "outputs": [],
   "source": [
    "#lamb = th*0.01 # Marquadt's parameter\n",
    "lamb = 1000.0\n",
    "dlamb = 10.      # step for Marquadt's parameter\n",
    "\n",
    "a1 = 0.001   # adjacent radial distances within each prism\n",
    "a2 = 0.001 # vertically adjacent radial distances\n",
    "a3 = 0.    # outcropping cross-section\n",
    "a4 = 0.     # outcropping origin\n",
    "a5 = 0.001     # vertically adjacent origins\n",
    "a6 = 0.00001   # zero order Tikhonov on adjacent radial distances\n",
    "a7 = 0.01     # zero order Tikhonov on thickness of each prism"
   ]
  },
  {
   "cell_type": "code",
   "execution_count": 436,
   "metadata": {},
   "outputs": [],
   "source": [
    "alpha = np.array([a1, a2, a3, a4, a5, a6, a7])"
   ]
  },
  {
   "cell_type": "code",
   "execution_count": 437,
   "metadata": {},
   "outputs": [],
   "source": [
    "itmax = 100\n",
    "itmax_marq = 15\n",
    "tol = 1.0e-4     # stop criterion"
   ]
  },
  {
   "cell_type": "markdown",
   "metadata": {},
   "source": [
    "### Inversion"
   ]
  },
  {
   "cell_type": "code",
   "execution_count": 438,
   "metadata": {},
   "outputs": [
    {
     "name": "stdout",
     "output_type": "stream",
     "text": [
      "it:  0   it_marq:  0   lambda: 1e+03   misfit: 2.83673e+05\n",
      "it:  1   it_marq:  0   lambda: 1e+02   misfit: 1.81274e+05\n",
      "it:  2   it_marq:  0   lambda: 1e+01   misfit: 1.01764e+05\n",
      "it:  3   it_marq:  0   lambda: 1e+00   misfit: 7.04052e+04\n",
      "it:  4   it_marq:  0   lambda: 1e-01   misfit: 9.91624e+04\n",
      "it:  4   it_marq:  1   lambda: 1e+00   misfit: 5.63378e+04\n",
      "it:  5   it_marq:  0   lambda: 1e-01   misfit: 7.60773e+04\n",
      "it:  5   it_marq:  1   lambda: 1e+00   misfit: 5.49845e+04\n",
      "it:  6   it_marq:  0   lambda: 1e-01   misfit: 7.39912e+04\n",
      "it:  6   it_marq:  1   lambda: 1e+00   misfit: 4.77578e+04\n",
      "it:  7   it_marq:  0   lambda: 1e-01   misfit: 9.38950e+04\n",
      "it:  7   it_marq:  1   lambda: 1e+00   misfit: 9.30819e+04\n",
      "it:  7   it_marq:  2   lambda: 1e+01   misfit: 1.18131e+05\n",
      "it:  7   it_marq:  3   lambda: 1e+02   misfit: 1.27439e+05\n",
      "it:  7   it_marq:  4   lambda: 1e+03   misfit: 4.83494e+04\n",
      "it:  7   it_marq:  5   lambda: 1e+04   misfit: 4.77231e+04\n",
      "it:  8   it_marq:  0   lambda: 1e+03   misfit: 4.76902e+04\n",
      "it:  9   it_marq:  0   lambda: 1e+02   misfit: 4.73456e+04\n",
      "it: 10   it_marq:  0   lambda: 1e+01   misfit: 4.51681e+04\n",
      "it: 11   it_marq:  0   lambda: 1e+00   misfit: 4.40063e+04\n",
      "it: 12   it_marq:  0   lambda: 1e-01   misfit: 7.04244e+04\n",
      "it: 12   it_marq:  1   lambda: 1e+00   misfit: 4.51268e+04\n",
      "it: 12   it_marq:  2   lambda: 1e+01   misfit: 4.29541e+04\n",
      "it: 13   it_marq:  0   lambda: 1e+00   misfit: 4.31236e+04\n",
      "it: 13   it_marq:  1   lambda: 1e+01   misfit: 4.18854e+04\n",
      "it: 14   it_marq:  0   lambda: 1e+00   misfit: 4.25970e+04\n",
      "it: 14   it_marq:  1   lambda: 1e+01   misfit: 4.10648e+04\n",
      "it: 15   it_marq:  0   lambda: 1e+00   misfit: 4.21957e+04\n",
      "it: 15   it_marq:  1   lambda: 1e+01   misfit: 4.04260e+04\n",
      "it: 16   it_marq:  0   lambda: 1e+00   misfit: 4.18640e+04\n",
      "it: 16   it_marq:  1   lambda: 1e+01   misfit: 3.99509e+04\n",
      "it: 17   it_marq:  0   lambda: 1e+00   misfit: 4.15589e+04\n",
      "it: 17   it_marq:  1   lambda: 1e+01   misfit: 3.95779e+04\n",
      "it: 18   it_marq:  0   lambda: 1e+00   misfit: 4.16135e+04\n",
      "it: 18   it_marq:  1   lambda: 1e+01   misfit: 3.92579e+04\n",
      "it: 19   it_marq:  0   lambda: 1e+00   misfit: 4.16455e+04\n",
      "it: 19   it_marq:  1   lambda: 1e+01   misfit: 3.89749e+04\n",
      "it: 20   it_marq:  0   lambda: 1e+00   misfit: 4.13679e+04\n",
      "it: 20   it_marq:  1   lambda: 1e+01   misfit: 3.87174e+04\n",
      "it: 21   it_marq:  0   lambda: 1e+00   misfit: 4.11215e+04\n",
      "it: 21   it_marq:  1   lambda: 1e+01   misfit: 3.84834e+04\n",
      "it: 22   it_marq:  0   lambda: 1e+00   misfit: 4.12063e+04\n",
      "it: 22   it_marq:  1   lambda: 1e+01   misfit: 3.82759e+04\n",
      "it: 23   it_marq:  0   lambda: 1e+00   misfit: 4.11113e+04\n",
      "it: 23   it_marq:  1   lambda: 1e+01   misfit: 3.80848e+04\n",
      "it: 24   it_marq:  0   lambda: 1e+00   misfit: 4.14100e+04\n",
      "it: 24   it_marq:  1   lambda: 1e+01   misfit: 3.78991e+04\n",
      "it: 25   it_marq:  0   lambda: 1e+00   misfit: 4.12046e+04\n",
      "it: 25   it_marq:  1   lambda: 1e+01   misfit: 3.77165e+04\n",
      "it: 26   it_marq:  0   lambda: 1e+00   misfit: 4.10096e+04\n",
      "it: 26   it_marq:  1   lambda: 1e+01   misfit: 3.75349e+04\n",
      "it: 27   it_marq:  0   lambda: 1e+00   misfit: 4.08345e+04\n",
      "it: 27   it_marq:  1   lambda: 1e+01   misfit: 3.73522e+04\n",
      "it: 28   it_marq:  0   lambda: 1e+00   misfit: 4.06962e+04\n",
      "it: 28   it_marq:  1   lambda: 1e+01   misfit: 3.71717e+04\n",
      "it: 29   it_marq:  0   lambda: 1e+00   misfit: 4.06301e+04\n",
      "it: 29   it_marq:  1   lambda: 1e+01   misfit: 3.70016e+04\n",
      "it: 30   it_marq:  0   lambda: 1e+00   misfit: 4.07561e+04\n",
      "it: 30   it_marq:  1   lambda: 1e+01   misfit: 3.68604e+04\n",
      "it: 31   it_marq:  0   lambda: 1e+00   misfit: 4.14623e+04\n",
      "it: 31   it_marq:  1   lambda: 1e+01   misfit: 3.67712e+04\n",
      "it: 32   it_marq:  0   lambda: 1e+00   misfit: 4.15172e+04\n",
      "it: 32   it_marq:  1   lambda: 1e+01   misfit: 3.66995e+04\n",
      "it: 33   it_marq:  0   lambda: 1e+00   misfit: 4.15094e+04\n",
      "it: 33   it_marq:  1   lambda: 1e+01   misfit: 3.66322e+04\n",
      "it: 34   it_marq:  0   lambda: 1e+00   misfit: 4.21274e+04\n",
      "it: 34   it_marq:  1   lambda: 1e+01   misfit: 3.65694e+04\n",
      "it: 35   it_marq:  0   lambda: 1e+00   misfit: 4.39106e+04\n",
      "it: 35   it_marq:  1   lambda: 1e+01   misfit: 3.65110e+04\n",
      "it: 36   it_marq:  0   lambda: 1e+00   misfit: 4.41753e+04\n",
      "it: 36   it_marq:  1   lambda: 1e+01   misfit: 3.64568e+04\n",
      "it: 37   it_marq:  0   lambda: 1e+00   misfit: 4.40816e+04\n",
      "it: 37   it_marq:  1   lambda: 1e+01   misfit: 3.64069e+04\n",
      "it: 38   it_marq:  0   lambda: 1e+00   misfit: 4.39909e+04\n",
      "it: 38   it_marq:  1   lambda: 1e+01   misfit: 3.63609e+04\n",
      "it: 39   it_marq:  0   lambda: 1e+00   misfit: 4.39293e+04\n",
      "it: 39   it_marq:  1   lambda: 1e+01   misfit: 3.63175e+04\n",
      "it: 40   it_marq:  0   lambda: 1e+00   misfit: 4.38555e+04\n",
      "it: 40   it_marq:  1   lambda: 1e+01   misfit: 3.62771e+04\n",
      "it: 41   it_marq:  0   lambda: 1e+00   misfit: 4.37817e+04\n",
      "it: 41   it_marq:  1   lambda: 1e+01   misfit: 3.62397e+04\n",
      "it: 42   it_marq:  0   lambda: 1e+00   misfit: 4.37086e+04\n",
      "it: 42   it_marq:  1   lambda: 1e+01   misfit: 3.62047e+04\n",
      "it: 43   it_marq:  0   lambda: 1e+00   misfit: 4.36371e+04\n",
      "it: 43   it_marq:  1   lambda: 1e+01   misfit: 3.61725e+04\n",
      "it: 44   it_marq:  0   lambda: 1e+00   misfit: 4.35670e+04\n",
      "it: 44   it_marq:  1   lambda: 1e+01   misfit: 3.61431e+04\n",
      "it: 45   it_marq:  0   lambda: 1e+00   misfit: 4.34981e+04\n",
      "it: 45   it_marq:  1   lambda: 1e+01   misfit: 3.61151e+04\n",
      "it: 46   it_marq:  0   lambda: 1e+00   misfit: 4.34315e+04\n",
      "it: 46   it_marq:  1   lambda: 1e+01   misfit: 3.60874e+04\n",
      "it: 47   it_marq:  0   lambda: 1e+00   misfit: 4.33667e+04\n",
      "it: 47   it_marq:  1   lambda: 1e+01   misfit: 3.60579e+04\n",
      "it: 48   it_marq:  0   lambda: 1e+00   misfit: 4.33050e+04\n",
      "it: 48   it_marq:  1   lambda: 1e+01   misfit: 3.60273e+04\n",
      "it: 49   it_marq:  0   lambda: 1e+00   misfit: 4.32477e+04\n",
      "it: 49   it_marq:  1   lambda: 1e+01   misfit: 3.59987e+04\n",
      "it: 50   it_marq:  0   lambda: 1e+00   misfit: 4.31921e+04\n",
      "it: 50   it_marq:  1   lambda: 1e+01   misfit: 3.59724e+04\n",
      "it: 51   it_marq:  0   lambda: 1e+00   misfit: 4.31378e+04\n",
      "it: 51   it_marq:  1   lambda: 1e+01   misfit: 3.59472e+04\n",
      "it: 52   it_marq:  0   lambda: 1e+00   misfit: 4.30855e+04\n",
      "it: 52   it_marq:  1   lambda: 1e+01   misfit: 3.59219e+04\n",
      "it: 53   it_marq:  0   lambda: 1e+00   misfit: 4.30350e+04\n",
      "it: 53   it_marq:  1   lambda: 1e+01   misfit: 3.58981e+04\n",
      "it: 54   it_marq:  0   lambda: 1e+00   misfit: 4.58889e+04\n",
      "it: 54   it_marq:  1   lambda: 1e+01   misfit: 3.58763e+04\n",
      "it: 55   it_marq:  0   lambda: 1e+00   misfit: 4.63008e+04\n",
      "it: 55   it_marq:  1   lambda: 1e+01   misfit: 3.58565e+04\n",
      "it: 56   it_marq:  0   lambda: 1e+00   misfit: 4.62558e+04\n",
      "it: 56   it_marq:  1   lambda: 1e+01   misfit: 3.58391e+04\n",
      "it: 57   it_marq:  0   lambda: 1e+00   misfit: 4.62134e+04\n",
      "it: 57   it_marq:  1   lambda: 1e+01   misfit: 3.58237e+04\n",
      "it: 58   it_marq:  0   lambda: 1e+00   misfit: 4.61699e+04\n",
      "it: 58   it_marq:  1   lambda: 1e+01   misfit: 3.58114e+04\n",
      "it: 59   it_marq:  0   lambda: 1e+00   misfit: 4.61221e+04\n",
      "it: 59   it_marq:  1   lambda: 1e+01   misfit: 3.58017e+04\n",
      "it: 60   it_marq:  0   lambda: 1e+00   misfit: 4.60741e+04\n",
      "it: 60   it_marq:  1   lambda: 1e+01   misfit: 3.57939e+04\n",
      "it: 61   it_marq:  0   lambda: 1e+00   misfit: 4.60282e+04\n",
      "it: 61   it_marq:  1   lambda: 1e+01   misfit: 3.57878e+04\n",
      "it: 62   it_marq:  0   lambda: 1e+00   misfit: 4.59842e+04\n",
      "it: 62   it_marq:  1   lambda: 1e+01   misfit: 3.57830e+04\n",
      "it: 63   it_marq:  0   lambda: 1e+00   misfit: 4.59421e+04\n",
      "it: 63   it_marq:  1   lambda: 1e+01   misfit: 3.57788e+04\n",
      "it: 64   it_marq:  0   lambda: 1e+00   misfit: 4.59024e+04\n",
      "it: 64   it_marq:  1   lambda: 1e+01   misfit: 3.57741e+04\n",
      "it: 65   it_marq:  0   lambda: 1e+00   misfit: 4.58652e+04\n",
      "it: 65   it_marq:  1   lambda: 1e+01   misfit: 3.57708e+04\n"
     ]
    }
   ],
   "source": [
    "d_fit, m_est, model_est, phi_list, model_list, res_list = mfun.levmarq_tf(xp, yp, zp, m0, M, L, delta, itmax,\n",
    "                                                    itmax_marq, lamb, dlamb, tol,\n",
    "                                                    mmin, mmax, m_out, dobs, inc, dec,\n",
    "                                                    props, alpha, z0, dz)"
   ]
  },
  {
   "cell_type": "code",
   "execution_count": 439,
   "metadata": {},
   "outputs": [],
   "source": [
    "inversion['inc_dec'] = [incs, decs]\n",
    "inversion['z0'] = z0\n",
    "inversion['initial_dz'] = dz\n",
    "inversion['intial_r'] = r\n",
    "inversion['initial_estimate'] = model0\n",
    "inversion['initial_data'] = d0\n",
    "inversion['limits'] = [rmin, rmax, x0min, x0max, y0min, y0max, dzmin, dzmax]\n",
    "inversion['regularization'] = alpha\n",
    "inversion['tol'] = tol\n",
    "inversion['main_field'] = [inc, dec]"
   ]
  },
  {
   "cell_type": "code",
   "execution_count": 440,
   "metadata": {},
   "outputs": [],
   "source": [
    "mypath = 'tfa_inversion/inc%d_dec%d_r%d_int%d_z0%d_dz%d' % (incs, decs, rin[0], np.linalg.norm(props['magnetization']), z0, dz)\n",
    "if not os.path.isdir(mypath):\n",
    "   os.makedirs(mypath)"
   ]
  },
  {
   "cell_type": "raw",
   "metadata": {},
   "source": [
    "mypath = 'tfa_inversion/upward_inc%d_dec%d_r%d_int%d_z0%d_dz%d' % (incs, decs, rin[0], np.linalg.norm(props['magnetization']), z0, dz)\n",
    "if not os.path.isdir(mypath):\n",
    "   os.makedirs(mypath)"
   ]
  },
  {
   "cell_type": "code",
   "execution_count": 441,
   "metadata": {},
   "outputs": [],
   "source": [
    "inversion['data_fit'] = d_fit\n",
    "inversion['estimate'] = m_est\n",
    "inversion['prisms'] = model_est\n",
    "inversion['objective'] = phi_list\n",
    "inversion['residual'] = dobs - d_fit"
   ]
  },
  {
   "cell_type": "code",
   "execution_count": 442,
   "metadata": {},
   "outputs": [],
   "source": [
    "file_name = mypath+'/inversion.pickle'\n",
    "with open(file_name, 'w') as f:\n",
    "    pickle.dump(inversion, f)"
   ]
  }
 ],
 "metadata": {
  "kernelspec": {
   "display_name": "Python 2",
   "language": "python",
   "name": "python2"
  },
  "language_info": {
   "codemirror_mode": {
    "name": "ipython",
    "version": 2
   },
   "file_extension": ".py",
   "mimetype": "text/x-python",
   "name": "python",
   "nbconvert_exporter": "python",
   "pygments_lexer": "ipython2",
   "version": "2.7.15"
  }
 },
 "nbformat": 4,
 "nbformat_minor": 2
}
