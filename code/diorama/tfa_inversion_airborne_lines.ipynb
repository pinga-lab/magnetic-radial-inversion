{
 "cells": [
  {
   "cell_type": "markdown",
   "metadata": {},
   "source": [
    "# Diorama TFA inversion"
   ]
  },
  {
   "cell_type": "code",
   "execution_count": 20,
   "metadata": {},
   "outputs": [],
   "source": [
    "import numpy as np\n",
    "import matplotlib.pyplot as plt\n",
    "import cPickle as pickle\n",
    "import os\n",
    "import pandas as pd\n",
    "\n",
    "from fatiando import utils\n",
    "from fatiando.gravmag import polyprism\n",
    "from fatiando.mesher import PolygonalPrism\n",
    "from fatiando.vis import mpl, myv\n",
    "from matplotlib import colors, ticker, cm\n",
    "from IPython.display import Image as img\n",
    "from matplotlib.mlab import normpdf"
   ]
  },
  {
   "cell_type": "markdown",
   "metadata": {},
   "source": [
    "### Auxiliary functions"
   ]
  },
  {
   "cell_type": "code",
   "execution_count": 21,
   "metadata": {
    "collapsed": true
   },
   "outputs": [],
   "source": [
    "import sys\n",
    "sys.path.insert(0, '../../code')\n",
    "\n",
    "import mag_polyprism_functions as mfun\n",
    "import mag_sphere_functions as msf"
   ]
  },
  {
   "cell_type": "markdown",
   "metadata": {},
   "source": [
    "# Input"
   ]
  },
  {
   "cell_type": "markdown",
   "metadata": {},
   "source": [
    "### Importing Diorama TFA data"
   ]
  },
  {
   "cell_type": "raw",
   "metadata": {},
   "source": [
    "data = pd.read_csv('diorama_decimated_tfa.txt', skipinitialspace=True, delim_whitespace=True)"
   ]
  },
  {
   "cell_type": "raw",
   "metadata": {},
   "source": [
    "xp = data['X'].get_values()\n",
    "yp = data['Y'].get_values()\n",
    "zp = np.zeros(xp.size) - 100.\n",
    "dobs = data['MAGIGRF'].get_values()"
   ]
  },
  {
   "cell_type": "markdown",
   "metadata": {},
   "source": [
    "### Importing Diorama upward TFA data"
   ]
  },
  {
   "cell_type": "code",
   "execution_count": 22,
   "metadata": {},
   "outputs": [],
   "source": [
    "with open('diorama_eqlayer/direction_inc-71_dec-23_h200m/diorama_eqlayer_depth200m.pickle') as w:\n",
    "        di = pickle.load(w)"
   ]
  },
  {
   "cell_type": "code",
   "execution_count": 23,
   "metadata": {},
   "outputs": [],
   "source": [
    "xp = di['x']\n",
    "yp = di['y']\n",
    "zp = di['z']\n",
    "dobs = di['upward']"
   ]
  },
  {
   "cell_type": "markdown",
   "metadata": {},
   "source": [
    "### Parameters for inversion"
   ]
  },
  {
   "cell_type": "code",
   "execution_count": 24,
   "metadata": {},
   "outputs": [],
   "source": [
    "# output of inversion\n",
    "inversion = dict()"
   ]
  },
  {
   "cell_type": "code",
   "execution_count": 25,
   "metadata": {},
   "outputs": [],
   "source": [
    "inversion['xp'] = xp\n",
    "inversion['yp'] = yp\n",
    "inversion['zp'] = zp\n",
    "inversion['observed_data'] = dobs\n",
    "N = xp.size"
   ]
  },
  {
   "cell_type": "code",
   "execution_count": 26,
   "metadata": {
    "collapsed": false
   },
   "outputs": [],
   "source": [
    "#initial estimate\n",
    "M = 30 # number of vertices per prism\n",
    "L = 10 # number of prisms\n",
    "P = L*(M+2) + 1 # number of parameters\n",
    "\n",
    "# daiana\n",
    "incs = -71.41751# - 10.\n",
    "decs = -23.39541# - 10.\n",
    "intensity = 15.# + 1.\n",
    "\n",
    "# andré\n",
    "#incs = -59.\n",
    "#decs = -114.5\n",
    "#intensity = 12.\n",
    "\n",
    "#figura\n",
    "z0 = 350. - 300.\n",
    "dz = 800.\n",
    "r = 100.\n",
    "props = {'magnetization': utils.ang2vec(\n",
    "        intensity, incs, decs)}\n",
    "\n",
    "rin = np.zeros(M) + r\n",
    "m0 = np.hstack((rin, np.array([8212500., 478200.])))\n",
    "m0 = np.resize(m0, P - 1) # inicial parameters vector\n",
    "m0 = np.hstack((m0, dz))\n",
    "model0 = mfun.param2polyprism(m0, M, L, z0, props) # list of classes of prisms\n",
    "\n",
    "# main field\n",
    "inc = -19.5\n",
    "dec = -18.5\n",
    "\n",
    "# predict data\n",
    "d0 = polyprism.tf(xp, yp, zp, model0, inc, dec)"
   ]
  },
  {
   "cell_type": "code",
   "execution_count": 27,
   "metadata": {},
   "outputs": [],
   "source": [
    "# limits for parameters in meters\n",
    "rmin = 50.\n",
    "rmax = 3000.\n",
    "x0min = 8212500.\n",
    "x0max = 8213500.\n",
    "y0min = 478000.\n",
    "y0max = 479000.\n",
    "dzmin = 10.\n",
    "dzmax = 1000.\n",
    "\n",
    "mmin, mmax = mfun.build_range_param(M, L, rmin, rmax, x0min, x0max, y0min, y0max, dzmin, dzmax)"
   ]
  },
  {
   "cell_type": "code",
   "execution_count": 28,
   "metadata": {},
   "outputs": [],
   "source": [
    "# variation for derivatives\n",
    "deltax = 0.01*np.max(x0max)\n",
    "deltay = 0.01*np.max(y0max)\n",
    "deltar = 0.01*np.max(rmax)\n",
    "deltaz = 0.01*np.max(dzmax)\n",
    "delta = np.array([deltax, deltay, deltar, deltaz])"
   ]
  },
  {
   "cell_type": "code",
   "execution_count": 29,
   "metadata": {},
   "outputs": [],
   "source": [
    "m_out = np.zeros(M + 2)  # outcropping body parameters"
   ]
  },
  {
   "cell_type": "code",
   "execution_count": 30,
   "metadata": {},
   "outputs": [
    {
     "data": {
      "image/png": "[encoded data removed]",
      "text/plain": [
       "<matplotlib.figure.Figure at 0x52bdc50>"
      ]
     },
     "metadata": {
      "needs_background": "light"
     },
     "output_type": "display_data"
    }
   ],
   "source": [
    "plt.figure(figsize=(10,7))\n",
    "plt.title('Predict TFA', fontsize=20)\n",
    "plt.tricontourf(yp, xp, d0, 20, cmap='jet').ax.tick_params(labelsize=12)\n",
    "plt.xlabel('$y$(km)', fontsize=18)\n",
    "plt.ylabel('$x$(km)', fontsize=18)\n",
    "clb = plt.colorbar(pad=0.025, aspect=40, shrink=1)\n",
    "clb.ax.tick_params(labelsize=13)\n",
    "#source = mpl.polygon(kimberlite_model['prisms'][0], '.-k', xy2ne=True)\n",
    "estimate = mpl.polygon(model0[0], '.-r', xy2ne=True)\n",
    "#source.set_label('Outcropping polygon')\n",
    "estimate.set_label('Initial estimate')\n",
    "clb.ax.set_title('nT')\n",
    "mpl.m2km()\n",
    "plt.legend(loc=0, fontsize=12, shadow=bool, framealpha=1)\n",
    "#plt.savefig(mypath+'diorama_tfa_pred_data_true_inital.png', dpi=300)\n",
    "plt.show()\n",
    "\n",
    "#img(filename=mypath+'diorama_tfa_pred_data_true_inital.png', width=1000, height=1200)"
   ]
  },
  {
   "cell_type": "markdown",
   "metadata": {},
   "source": [
    "### Regularization parameters"
   ]
  },
  {
   "cell_type": "code",
   "execution_count": 31,
   "metadata": {
    "collapsed": true
   },
   "outputs": [],
   "source": [
    "#lamb = th*0.01 # Marquadt's parameter\n",
    "lamb = 1000.0\n",
    "dlamb = 10.      # step for Marquadt's parameter\n",
    "\n",
    "a1 = 0.00001   # adjacent radial distances within each prism\n",
    "a2 = 0.00001 # vertically adjacent radial distances\n",
    "a3 = 0.    # outcropping cross-section\n",
    "a4 = 0.     # outcropping origin\n",
    "a5 = 0.0001     # vertically adjacent origins\n",
    "a6 = 0.000001   # zero order Tikhonov on adjacent radial distances\n",
    "a7 = 0.0001     # zero order Tikhonov on thickness of each prism"
   ]
  },
  {
   "cell_type": "code",
   "execution_count": 32,
   "metadata": {},
   "outputs": [],
   "source": [
    "alpha = np.array([a1, a2, a3, a4, a5, a6, a7])"
   ]
  },
  {
   "cell_type": "code",
   "execution_count": 33,
   "metadata": {},
   "outputs": [],
   "source": [
    "itmax = 100\n",
    "itmax_marq = 15\n",
    "tol = 1.0e-4     # tolerance"
   ]
  },
  {
   "cell_type": "markdown",
   "metadata": {},
   "source": [
    "### Inversion"
   ]
  },
  {
   "cell_type": "code",
   "execution_count": 34,
   "metadata": {},
   "outputs": [
    {
     "name": "stdout",
     "output_type": "stream",
     "text": [
      "it:  0   it_marq:  0   lambda: 1e+03   misfit: 9.85915e+05\n",
      "it:  0   it_marq:  1   lambda: 1e+04   misfit: 2.63478e+04\n",
      "it:  1   it_marq:  0   lambda: 1e+03   misfit: 1.94026e+04\n",
      "it:  2   it_marq:  0   lambda: 1e+02   misfit: 2.71037e+04\n",
      "it:  2   it_marq:  1   lambda: 1e+03   misfit: 1.82364e+04\n",
      "it:  3   it_marq:  0   lambda: 1e+02   misfit: 6.03191e+03\n",
      "it:  4   it_marq:  0   lambda: 1e+01   misfit: 2.06660e+03\n",
      "it:  5   it_marq:  0   lambda: 1e+00   misfit: 2.95930e+03\n",
      "it:  5   it_marq:  1   lambda: 1e+01   misfit: 1.36633e+03\n",
      "it:  6   it_marq:  0   lambda: 1e+00   misfit: 4.34981e+03\n",
      "it:  6   it_marq:  1   lambda: 1e+01   misfit: 9.43985e+02\n",
      "it:  7   it_marq:  0   lambda: 1e+00   misfit: 6.77361e+03\n",
      "it:  7   it_marq:  1   lambda: 1e+01   misfit: 7.94747e+02\n",
      "it:  8   it_marq:  0   lambda: 1e+00   misfit: 7.03616e+03\n",
      "it:  8   it_marq:  1   lambda: 1e+01   misfit: 7.28773e+02\n",
      "it:  9   it_marq:  0   lambda: 1e+00   misfit: 6.69058e+03\n",
      "it:  9   it_marq:  1   lambda: 1e+01   misfit: 1.57577e+03\n",
      "it:  9   it_marq:  2   lambda: 1e+02   misfit: 6.82216e+02\n",
      "it: 10   it_marq:  0   lambda: 1e+01   misfit: 4.39731e+03\n",
      "it: 10   it_marq:  1   lambda: 1e+02   misfit: 6.62821e+02\n",
      "it: 11   it_marq:  0   lambda: 1e+01   misfit: 4.32635e+03\n",
      "it: 11   it_marq:  1   lambda: 1e+02   misfit: 6.52699e+02\n",
      "it: 12   it_marq:  0   lambda: 1e+01   misfit: 5.38446e+03\n",
      "it: 12   it_marq:  1   lambda: 1e+02   misfit: 6.46038e+02\n",
      "it: 13   it_marq:  0   lambda: 1e+01   misfit: 5.58328e+03\n",
      "it: 13   it_marq:  1   lambda: 1e+02   misfit: 6.41088e+02\n",
      "it: 14   it_marq:  0   lambda: 1e+01   misfit: 4.26875e+03\n",
      "it: 14   it_marq:  1   lambda: 1e+02   misfit: 6.36518e+02\n",
      "it: 15   it_marq:  0   lambda: 1e+01   misfit: 4.24635e+03\n",
      "it: 15   it_marq:  1   lambda: 1e+02   misfit: 6.32537e+02\n",
      "it: 16   it_marq:  0   lambda: 1e+01   misfit: 4.17543e+03\n",
      "it: 16   it_marq:  1   lambda: 1e+02   misfit: 6.28920e+02\n",
      "it: 17   it_marq:  0   lambda: 1e+01   misfit: 4.09244e+03\n",
      "it: 17   it_marq:  1   lambda: 1e+02   misfit: 6.25572e+02\n",
      "it: 18   it_marq:  0   lambda: 1e+01   misfit: 4.06406e+03\n",
      "it: 18   it_marq:  1   lambda: 1e+02   misfit: 6.22398e+02\n",
      "it: 19   it_marq:  0   lambda: 1e+01   misfit: 3.84402e+03\n",
      "it: 19   it_marq:  1   lambda: 1e+02   misfit: 6.19336e+02\n",
      "it: 20   it_marq:  0   lambda: 1e+01   misfit: 3.87613e+03\n",
      "it: 20   it_marq:  1   lambda: 1e+02   misfit: 6.16376e+02\n",
      "it: 21   it_marq:  0   lambda: 1e+01   misfit: 3.79253e+03\n",
      "it: 21   it_marq:  1   lambda: 1e+02   misfit: 6.13495e+02\n",
      "it: 22   it_marq:  0   lambda: 1e+01   misfit: 3.67310e+03\n",
      "it: 22   it_marq:  1   lambda: 1e+02   misfit: 6.10692e+02\n",
      "it: 23   it_marq:  0   lambda: 1e+01   misfit: 3.59179e+03\n",
      "it: 23   it_marq:  1   lambda: 1e+02   misfit: 6.07979e+02\n",
      "it: 24   it_marq:  0   lambda: 1e+01   misfit: 3.53489e+03\n",
      "it: 24   it_marq:  1   lambda: 1e+02   misfit: 6.05315e+02\n",
      "it: 25   it_marq:  0   lambda: 1e+01   misfit: 3.49387e+03\n",
      "it: 25   it_marq:  1   lambda: 1e+02   misfit: 6.02684e+02\n",
      "it: 26   it_marq:  0   lambda: 1e+01   misfit: 3.46264e+03\n",
      "it: 26   it_marq:  1   lambda: 1e+02   misfit: 6.00105e+02\n",
      "it: 27   it_marq:  0   lambda: 1e+01   misfit: 3.43701e+03\n",
      "it: 27   it_marq:  1   lambda: 1e+02   misfit: 5.97602e+02\n",
      "it: 28   it_marq:  0   lambda: 1e+01   misfit: 3.41457e+03\n",
      "it: 28   it_marq:  1   lambda: 1e+02   misfit: 5.95150e+02\n",
      "it: 29   it_marq:  0   lambda: 1e+01   misfit: 3.39359e+03\n",
      "it: 29   it_marq:  1   lambda: 1e+02   misfit: 5.92720e+02\n",
      "it: 30   it_marq:  0   lambda: 1e+01   misfit: 3.37169e+03\n",
      "it: 30   it_marq:  1   lambda: 1e+02   misfit: 5.90312e+02\n",
      "it: 31   it_marq:  0   lambda: 1e+01   misfit: 3.35184e+03\n",
      "it: 31   it_marq:  1   lambda: 1e+02   misfit: 5.87937e+02\n",
      "it: 32   it_marq:  0   lambda: 1e+01   misfit: 3.33504e+03\n",
      "it: 32   it_marq:  1   lambda: 1e+02   misfit: 5.85633e+02\n",
      "it: 33   it_marq:  0   lambda: 1e+01   misfit: 3.32038e+03\n",
      "it: 33   it_marq:  1   lambda: 1e+02   misfit: 5.83447e+02\n",
      "it: 34   it_marq:  0   lambda: 1e+01   misfit: 3.30749e+03\n",
      "it: 34   it_marq:  1   lambda: 1e+02   misfit: 5.81352e+02\n",
      "it: 35   it_marq:  0   lambda: 1e+01   misfit: 3.15069e+03\n",
      "it: 35   it_marq:  1   lambda: 1e+02   misfit: 5.79327e+02\n",
      "it: 36   it_marq:  0   lambda: 1e+01   misfit: 3.13226e+03\n",
      "it: 36   it_marq:  1   lambda: 1e+02   misfit: 5.77337e+02\n",
      "it: 37   it_marq:  0   lambda: 1e+01   misfit: 3.12538e+03\n",
      "it: 37   it_marq:  1   lambda: 1e+02   misfit: 5.75381e+02\n",
      "it: 38   it_marq:  0   lambda: 1e+01   misfit: 3.11887e+03\n",
      "it: 38   it_marq:  1   lambda: 1e+02   misfit: 5.73431e+02\n",
      "it: 39   it_marq:  0   lambda: 1e+01   misfit: 3.11373e+03\n",
      "it: 39   it_marq:  1   lambda: 1e+02   misfit: 5.71488e+02\n",
      "it: 40   it_marq:  0   lambda: 1e+01   misfit: 3.31873e+03\n",
      "it: 40   it_marq:  1   lambda: 1e+02   misfit: 5.69554e+02\n",
      "it: 41   it_marq:  0   lambda: 1e+01   misfit: 3.31377e+03\n",
      "it: 41   it_marq:  1   lambda: 1e+02   misfit: 5.67629e+02\n",
      "it: 42   it_marq:  0   lambda: 1e+01   misfit: 3.30965e+03\n",
      "it: 42   it_marq:  1   lambda: 1e+02   misfit: 5.65722e+02\n",
      "it: 43   it_marq:  0   lambda: 1e+01   misfit: 3.30643e+03\n",
      "it: 43   it_marq:  1   lambda: 1e+02   misfit: 5.63853e+02\n",
      "it: 44   it_marq:  0   lambda: 1e+01   misfit: 3.30457e+03\n",
      "it: 44   it_marq:  1   lambda: 1e+02   misfit: 5.62036e+02\n",
      "it: 45   it_marq:  0   lambda: 1e+01   misfit: 3.30496e+03\n",
      "it: 45   it_marq:  1   lambda: 1e+02   misfit: 5.60231e+02\n",
      "it: 46   it_marq:  0   lambda: 1e+01   misfit: 3.30850e+03\n",
      "it: 46   it_marq:  1   lambda: 1e+02   misfit: 5.58434e+02\n",
      "it: 47   it_marq:  0   lambda: 1e+01   misfit: 3.38262e+03\n",
      "it: 47   it_marq:  1   lambda: 1e+02   misfit: 5.56654e+02\n",
      "it: 48   it_marq:  0   lambda: 1e+01   misfit: 3.20226e+03\n",
      "it: 48   it_marq:  1   lambda: 1e+02   misfit: 5.54889e+02\n",
      "it: 49   it_marq:  0   lambda: 1e+01   misfit: 2.94415e+03\n",
      "it: 49   it_marq:  1   lambda: 1e+02   misfit: 5.53147e+02\n",
      "it: 50   it_marq:  0   lambda: 1e+01   misfit: 2.79307e+03\n",
      "it: 50   it_marq:  1   lambda: 1e+02   misfit: 5.51432e+02\n",
      "it: 51   it_marq:  0   lambda: 1e+01   misfit: 3.06287e+03\n",
      "it: 51   it_marq:  1   lambda: 1e+02   misfit: 5.49742e+02\n",
      "it: 52   it_marq:  0   lambda: 1e+01   misfit: 6.33473e+03\n",
      "it: 52   it_marq:  1   lambda: 1e+02   misfit: 5.48090e+02\n",
      "it: 53   it_marq:  0   lambda: 1e+01   misfit: 6.13758e+03\n",
      "it: 53   it_marq:  1   lambda: 1e+02   misfit: 5.46454e+02\n",
      "it: 54   it_marq:  0   lambda: 1e+01   misfit: 6.14725e+03\n",
      "it: 54   it_marq:  1   lambda: 1e+02   misfit: 5.44823e+02\n",
      "it: 55   it_marq:  0   lambda: 1e+01   misfit: 6.15939e+03\n",
      "it: 55   it_marq:  1   lambda: 1e+02   misfit: 5.43219e+02\n",
      "it: 56   it_marq:  0   lambda: 1e+01   misfit: 6.16920e+03\n",
      "it: 56   it_marq:  1   lambda: 1e+02   misfit: 5.41628e+02\n",
      "it: 57   it_marq:  0   lambda: 1e+01   misfit: 6.16628e+03\n",
      "it: 57   it_marq:  1   lambda: 1e+02   misfit: 5.40038e+02\n",
      "it: 58   it_marq:  0   lambda: 1e+01   misfit: 6.17696e+03\n",
      "it: 58   it_marq:  1   lambda: 1e+02   misfit: 5.38453e+02\n",
      "it: 59   it_marq:  0   lambda: 1e+01   misfit: 6.19030e+03\n",
      "it: 59   it_marq:  1   lambda: 1e+02   misfit: 5.36892e+02\n",
      "it: 60   it_marq:  0   lambda: 1e+01   misfit: 6.24977e+03\n",
      "it: 60   it_marq:  1   lambda: 1e+02   misfit: 5.35374e+02\n",
      "it: 61   it_marq:  0   lambda: 1e+01   misfit: 2.61475e+04\n",
      "it: 61   it_marq:  1   lambda: 1e+02   misfit: 5.33872e+02\n",
      "it: 62   it_marq:  0   lambda: 1e+01   misfit: 1.47582e+04\n",
      "it: 62   it_marq:  1   lambda: 1e+02   misfit: 5.32370e+02\n",
      "it: 63   it_marq:  0   lambda: 1e+01   misfit: 1.47566e+04\n",
      "it: 63   it_marq:  1   lambda: 1e+02   misfit: 5.30868e+02\n",
      "it: 64   it_marq:  0   lambda: 1e+01   misfit: 1.47590e+04\n",
      "it: 64   it_marq:  1   lambda: 1e+02   misfit: 5.29373e+02\n",
      "it: 65   it_marq:  0   lambda: 1e+01   misfit: 1.47685e+04\n",
      "it: 65   it_marq:  1   lambda: 1e+02   misfit: 5.27905e+02\n",
      "it: 66   it_marq:  0   lambda: 1e+01   misfit: 1.47797e+04\n",
      "it: 66   it_marq:  1   lambda: 1e+02   misfit: 5.26486e+02\n",
      "it: 67   it_marq:  0   lambda: 1e+01   misfit: 1.47867e+04\n",
      "it: 67   it_marq:  1   lambda: 1e+02   misfit: 5.25124e+02\n",
      "it: 68   it_marq:  0   lambda: 1e+01   misfit: 1.47893e+04\n",
      "it: 68   it_marq:  1   lambda: 1e+02   misfit: 5.23803e+02\n",
      "it: 69   it_marq:  0   lambda: 1e+01   misfit: 1.47650e+04\n",
      "it: 69   it_marq:  1   lambda: 1e+02   misfit: 5.22537e+02\n",
      "it: 70   it_marq:  0   lambda: 1e+01   misfit: 1.46307e+04\n",
      "it: 70   it_marq:  1   lambda: 1e+02   misfit: 5.21281e+02\n",
      "it: 71   it_marq:  0   lambda: 1e+01   misfit: 1.40339e+04\n",
      "it: 71   it_marq:  1   lambda: 1e+02   misfit: 5.20008e+02\n",
      "it: 72   it_marq:  0   lambda: 1e+01   misfit: 1.25937e+04\n",
      "it: 72   it_marq:  1   lambda: 1e+02   misfit: 5.18721e+02\n",
      "it: 73   it_marq:  0   lambda: 1e+01   misfit: 1.09459e+04\n",
      "it: 73   it_marq:  1   lambda: 1e+02   misfit: 5.17425e+02\n",
      "it: 74   it_marq:  0   lambda: 1e+01   misfit: 9.82152e+03\n",
      "it: 74   it_marq:  1   lambda: 1e+02   misfit: 5.16127e+02\n",
      "it: 75   it_marq:  0   lambda: 1e+01   misfit: 9.11478e+03\n",
      "it: 75   it_marq:  1   lambda: 1e+02   misfit: 5.14828e+02\n",
      "it: 76   it_marq:  0   lambda: 1e+01   misfit: 8.49454e+03\n",
      "it: 76   it_marq:  1   lambda: 1e+02   misfit: 5.13531e+02\n",
      "it: 77   it_marq:  0   lambda: 1e+01   misfit: 7.64469e+03\n",
      "it: 77   it_marq:  1   lambda: 1e+02   misfit: 5.12248e+02\n",
      "it: 78   it_marq:  0   lambda: 1e+01   misfit: 7.02765e+03\n",
      "it: 78   it_marq:  1   lambda: 1e+02   misfit: 5.10968e+02\n",
      "it: 79   it_marq:  0   lambda: 1e+01   misfit: 6.86147e+03\n",
      "it: 79   it_marq:  1   lambda: 1e+02   misfit: 5.09698e+02\n",
      "it: 80   it_marq:  0   lambda: 1e+01   misfit: 6.81387e+03\n",
      "it: 80   it_marq:  1   lambda: 1e+02   misfit: 5.08465e+02\n",
      "it: 81   it_marq:  0   lambda: 1e+01   misfit: 6.79711e+03\n",
      "it: 81   it_marq:  1   lambda: 1e+02   misfit: 5.07273e+02\n",
      "it: 82   it_marq:  0   lambda: 1e+01   misfit: 6.79767e+03\n",
      "it: 82   it_marq:  1   lambda: 1e+02   misfit: 5.06088e+02\n",
      "it: 83   it_marq:  0   lambda: 1e+01   misfit: 6.81053e+03\n",
      "it: 83   it_marq:  1   lambda: 1e+02   misfit: 5.04909e+02\n",
      "it: 84   it_marq:  0   lambda: 1e+01   misfit: 6.81732e+03\n",
      "it: 84   it_marq:  1   lambda: 1e+02   misfit: 5.03734e+02\n",
      "it: 85   it_marq:  0   lambda: 1e+01   misfit: 6.81190e+03\n",
      "it: 85   it_marq:  1   lambda: 1e+02   misfit: 5.02558e+02\n",
      "it: 86   it_marq:  0   lambda: 1e+01   misfit: 6.80726e+03\n",
      "it: 86   it_marq:  1   lambda: 1e+02   misfit: 5.01378e+02\n",
      "it: 87   it_marq:  0   lambda: 1e+01   misfit: 6.81114e+03\n",
      "it: 87   it_marq:  1   lambda: 1e+02   misfit: 5.00200e+02\n",
      "it: 88   it_marq:  0   lambda: 1e+01   misfit: 7.02899e+03\n",
      "it: 88   it_marq:  1   lambda: 1e+02   misfit: 4.99025e+02\n",
      "it: 89   it_marq:  0   lambda: 1e+01   misfit: 1.61008e+04\n",
      "it: 89   it_marq:  1   lambda: 1e+02   misfit: 4.97835e+02\n",
      "it: 90   it_marq:  0   lambda: 1e+01   misfit: 1.60946e+04\n",
      "it: 90   it_marq:  1   lambda: 1e+02   misfit: 4.96649e+02\n",
      "it: 91   it_marq:  0   lambda: 1e+01   misfit: 1.60915e+04\n",
      "it: 91   it_marq:  1   lambda: 1e+02   misfit: 4.95457e+02\n",
      "it: 92   it_marq:  0   lambda: 1e+01   misfit: 1.60922e+04\n",
      "it: 92   it_marq:  1   lambda: 1e+02   misfit: 4.94276e+02\n",
      "it: 93   it_marq:  0   lambda: 1e+01   misfit: 1.60945e+04\n",
      "it: 93   it_marq:  1   lambda: 1e+02   misfit: 4.93115e+02\n",
      "it: 94   it_marq:  0   lambda: 1e+01   misfit: 1.60951e+04\n",
      "it: 94   it_marq:  1   lambda: 1e+02   misfit: 4.91987e+02\n",
      "it: 95   it_marq:  0   lambda: 1e+01   misfit: 1.60907e+04\n",
      "it: 95   it_marq:  1   lambda: 1e+02   misfit: 4.90895e+02\n",
      "it: 96   it_marq:  0   lambda: 1e+01   misfit: 1.60820e+04\n",
      "it: 96   it_marq:  1   lambda: 1e+02   misfit: 4.89838e+02\n",
      "it: 97   it_marq:  0   lambda: 1e+01   misfit: 1.60729e+04\n",
      "it: 97   it_marq:  1   lambda: 1e+02   misfit: 4.88801e+02\n",
      "it: 98   it_marq:  0   lambda: 1e+01   misfit: 1.60649e+04\n",
      "it: 98   it_marq:  1   lambda: 1e+02   misfit: 4.87789e+02\n",
      "it: 99   it_marq:  0   lambda: 1e+01   misfit: 1.60574e+04\n",
      "it: 99   it_marq:  1   lambda: 1e+02   misfit: 4.86806e+02\n"
     ]
    }
   ],
   "source": [
    "d_fit, m_est, model_est, phi_list, model_list, res_list = mfun.levmarq_tf(xp, yp, zp, m0, M, L, delta, itmax,\n",
    "                                                    itmax_marq, lamb, dlamb, tol,\n",
    "                                                    mmin, mmax, m_out, dobs, inc, dec,\n",
    "                                                    props, alpha, z0, dz)"
   ]
  },
  {
   "cell_type": "code",
   "execution_count": 35,
   "metadata": {},
   "outputs": [],
   "source": [
    "inversion['inc_dec'] = [incs, decs]\n",
    "inversion['z0'] = z0\n",
    "inversion['initial_dz'] = dz\n",
    "inversion['intial_r'] = r\n",
    "inversion['initial_estimate'] = model0\n",
    "inversion['initial_data'] = d0\n",
    "inversion['limits'] = [rmin, rmax, x0min, x0max, y0min, y0max, dzmin, dzmax]\n",
    "inversion['regularization'] = alpha\n",
    "inversion['tol'] = tol\n",
    "inversion['main_field'] = [inc, dec]"
   ]
  },
  {
   "cell_type": "raw",
   "metadata": {},
   "source": [
    "mypath = 'tfa_inversion/inc%d_dec%d_r%d_int%d_z0%d_dz%d' % (incs, decs, rin[0], np.linalg.norm(props['magnetization']), z0, dz)\n",
    "if not os.path.isdir(mypath):\n",
    "   os.makedirs(mypath)"
   ]
  },
  {
   "cell_type": "code",
   "execution_count": 36,
   "metadata": {},
   "outputs": [],
   "source": [
    "mypath = 'tfa_inversion/upward_inc%d_dec%d_r%d_int%d_z0%d_dz%d' % (incs, decs, rin[0], np.linalg.norm(props['magnetization']), z0, dz)\n",
    "if not os.path.isdir(mypath):\n",
    "   os.makedirs(mypath)"
   ]
  },
  {
   "cell_type": "code",
   "execution_count": 37,
   "metadata": {},
   "outputs": [],
   "source": [
    "inversion['data_fit'] = d_fit\n",
    "inversion['estimate'] = m_est\n",
    "inversion['prisms'] = model_est\n",
    "inversion['objective'] = phi_list\n",
    "inversion['residual'] = dobs - d_fit"
   ]
  },
  {
   "cell_type": "code",
   "execution_count": 38,
   "metadata": {},
   "outputs": [],
   "source": [
    "file_name = mypath+'/inversion.pickle'\n",
    "with open(file_name, 'w') as f:\n",
    "    pickle.dump(inversion, f)"
   ]
  }
 ],
 "metadata": {
  "kernelspec": {
   "display_name": "Python 2",
   "language": "python",
   "name": "python2"
  },
  "language_info": {
   "codemirror_mode": {
    "name": "ipython",
    "version": 2
   },
   "file_extension": ".py",
   "mimetype": "text/x-python",
   "name": "python",
   "nbconvert_exporter": "python",
   "pygments_lexer": "ipython2",
   "version": "2.7.15"
  }
 },
 "nbformat": 4,
 "nbformat_minor": 2
}
