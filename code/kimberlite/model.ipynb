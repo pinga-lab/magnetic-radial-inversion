{
 "cells": [
  {
   "cell_type": "markdown",
   "metadata": {},
   "source": [
    "# Synthetic kimberlitic model"
   ]
  },
  {
   "cell_type": "markdown",
   "metadata": {},
   "source": [
    "This notebook creates a model simulating a kimberlite with magnetization using the poligonal prisms from fatiando and save its parameters in an outer file."
   ]
  },
  {
   "cell_type": "code",
   "execution_count": 1,
   "metadata": {},
   "outputs": [
    {
     "name": "stderr",
     "output_type": "stream",
     "text": [
      "C:\\Users\\bes064\\AppData\\Local\\Continuum\\anaconda2\\lib\\site-packages\\fatiando\\vis\\myv.py:51: UserWarning: This module will be removed in v0.7.\n",
      "  warnings.warn(\"This module will be removed in v0.7.\")\n"
     ]
    }
   ],
   "source": [
    "import numpy as np\n",
    "import matplotlib.pyplot as plt\n",
    "import cPickle as pickle\n",
    "\n",
    "from fatiando import utils\n",
    "from fatiando.gridder import regular\n",
    "from fatiando.vis import myv\n",
    "from matplotlib import colors, ticker, cm\n",
    "from IPython.display import Image as img"
   ]
  },
  {
   "cell_type": "markdown",
   "metadata": {},
   "source": [
    "### Auxiliary functions"
   ]
  },
  {
   "cell_type": "code",
   "execution_count": 2,
   "metadata": {},
   "outputs": [
    {
     "name": "stderr",
     "output_type": "stream",
     "text": [
      "C:\\Users\\bes064\\AppData\\Local\\Continuum\\anaconda2\\lib\\site-packages\\fatiando\\vis\\mpl.py:76: UserWarning: This module will be removed in v0.6. We recommend the use of matplotlib.pyplot module directly. Some of the fatiando specific functions will remain.\n",
      "  \"specific functions will remain.\")\n"
     ]
    }
   ],
   "source": [
    "import sys\n",
    "sys.path.insert(0, '../../code')\n",
    "\n",
    "import mag_polyprism_functions as mfun"
   ]
  },
  {
   "cell_type": "markdown",
   "metadata": {},
   "source": [
    "### Creating the model"
   ]
  },
  {
   "cell_type": "code",
   "execution_count": 3,
   "metadata": {
    "collapsed": true
   },
   "outputs": [],
   "source": [
    "model = dict()"
   ]
  },
  {
   "cell_type": "code",
   "execution_count": 4,
   "metadata": {},
   "outputs": [],
   "source": [
    "# model parameters\n",
    "model['M'] = 20 # number of vertices per prism\n",
    "model['L'] = 8 # number of prisms\n",
    "model['P'] = model['L']*(model['M']+2) # number of parameters\n",
    "\n",
    "model['z0'] = 50.    # depth of the top the shallowest prism\n",
    "model['dz'] = 150.    # thickness of each prism\n",
    "\n",
    "model['inc'] = 50.  # inclination\n",
    "model['dec'] = -15.   # declination\n",
    "model['intensity'] = 5. # intensity\n",
    "\n",
    "model['props']={'magnetization': utils.ang2vec(\n",
    "    model['intensity'], model['inc'], model['dec'])} # physical property: magnetization\n",
    "\n",
    "#ri = np.linspace(1000., 200., model['M']*model['L']) # radial distance for each vertice\n",
    "#rand = np.random.uniform(0.8, 1., model['M']*model['L'])\n",
    "#r = ri*rand\n",
    "\n",
    "r = np.zeros(model['M']) + 40.\n",
    "\n",
    "# Cartesian coordinates of the origin of each prism\n",
    "x0 = np.zeros(model['L']) \n",
    "y0 = np.zeros(model['L'])\n",
    "\n",
    "l = []   # list of parameters of the prisms\n",
    "\n",
    "#for i in range(model['L']):\n",
    "#    l.append([r[model['M']*i:model['M']*(i+1)], x0[i]+100., y0[i]+100.,\n",
    "#              model['z0'] + model['dz']*i,\n",
    "#              model['z0'] + model['dz']*(i + 1), model['props']])\n",
    "\n",
    "for i in range(model['L']):\n",
    "    l.append([r*(16.-1.5*i), x0[i], y0[i], model['z0'] + model['dz']*i,\\\n",
    "          model['z0'] + model['dz']*(i + 1), model['props']])\n",
    "\n",
    "model['prisms'] = mfun.pol2cart(l, model['M'], model['L'])\n",
    "model['param_vec'] = mfun.param_vec(l, model['M'], model['L'])"
   ]
  },
  {
   "cell_type": "markdown",
   "metadata": {},
   "source": [
    "### Model ploting"
   ]
  },
  {
   "cell_type": "code",
   "execution_count": null,
   "metadata": {},
   "outputs": [],
   "source": [
    "bounds = [-700., 700., -700., 700., -100., 1350.]\n",
    "\n",
    "red, green, blue = (1, 0, 0), (0, 1, 0), (0, 0, 1)\n",
    "white, black = (1, 1, 1), (0, 0, 0),\n",
    "\n",
    "# Show the model\n",
    "scene = myv.figure()\n",
    "myv.polyprisms(model['prisms'], 'magnetization', opacity=1., color=blue)\n",
    "\n",
    "ax = myv.axes(myv.outline(bounds), ranges=[i * 0.001 for i in bounds])\n",
    "ax.axes.x_label, ax.axes.y_label, ax.axes.z_label = 'x (km)', 'y (km)', 'z (km)'\n",
    "ax.axes.font_factor = 1.65\n",
    "scene.scene.camera.position = [-0.089204656936016313, -0.066107174155361687, -0.04083578885723696]\n",
    "scene.scene.camera.focal_point = [1.1820671636724554e-16, 1.3134079596360617e-17, -1.9701119394540926e-17]\n",
    "scene.scene.camera.view_angle = 30.0\n",
    "scene.scene.camera.view_up = [0.24683390337942718, 0.24593292331329802, -0.93733132955911114]\n",
    "scene.scene.camera.clipping_range = [0.057117737884348194, 0.1956040854922288]\n",
    "scene.scene.camera.compute_view_plane_normal()\n",
    "\n",
    "myv.wall_bottom(ax.axes.bounds, opacity=0.2)\n",
    "myv.wall_north(ax.axes.bounds)\n",
    "\n",
    "myv.savefig('data/kimberlite_true.png')\n",
    "myv.show()\n",
    "img(filename='data/kimberlite_true.png')"
   ]
  },
  {
   "cell_type": "markdown",
   "metadata": {},
   "source": [
    "### Saving in an outer file"
   ]
  },
  {
   "cell_type": "code",
   "execution_count": null,
   "metadata": {
    "collapsed": true
   },
   "outputs": [],
   "source": [
    "file_name = 'data/model.pickle'\n",
    "with open(file_name, 'w') as f:\n",
    "    pickle.dump(model, f)"
   ]
  },
  {
   "cell_type": "code",
   "execution_count": null,
   "metadata": {},
   "outputs": [],
   "source": []
  }
 ],
 "metadata": {
  "kernelspec": {
   "display_name": "Python 2",
   "language": "python",
   "name": "python2"
  },
  "language_info": {
   "codemirror_mode": {
    "name": "ipython",
    "version": 2
   },
   "file_extension": ".py",
   "mimetype": "text/x-python",
   "name": "python",
   "nbconvert_exporter": "python",
   "pygments_lexer": "ipython2",
   "version": "2.7.15"
  }
 },
 "nbformat": 4,
 "nbformat_minor": 2
}
