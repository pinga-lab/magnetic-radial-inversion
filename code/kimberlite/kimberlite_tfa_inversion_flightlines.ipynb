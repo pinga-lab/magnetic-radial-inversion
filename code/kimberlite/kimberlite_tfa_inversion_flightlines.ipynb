{
 "cells": [
  {
   "cell_type": "markdown",
   "metadata": {},
   "source": [
    "# Kimberlite TFA Inversion"
   ]
  },
  {
   "cell_type": "markdown",
   "metadata": {},
   "source": [
    "This notebook performs the inversion using Levenberg-Marquadt's algorithm of total field anomaly (TFA) data on a regular grid of a synthetic kimberlitic model."
   ]
  },
  {
   "cell_type": "code",
   "execution_count": 1,
   "metadata": {
    "collapsed": false
   },
   "outputs": [
    {
     "name": "stderr",
     "output_type": "stream",
     "text": [
      "C:\\Users\\bes064\\AppData\\Local\\Continuum\\anaconda2\\lib\\site-packages\\fatiando\\vis\\mpl.py:76: UserWarning: This module will be removed in v0.6. We recommend the use of matplotlib.pyplot module directly. Some of the fatiando specific functions will remain.\n",
      "  \"specific functions will remain.\")\n",
      "C:\\Users\\bes064\\AppData\\Local\\Continuum\\anaconda2\\lib\\site-packages\\fatiando\\vis\\myv.py:51: UserWarning: This module will be removed in v0.7.\n",
      "  warnings.warn(\"This module will be removed in v0.7.\")\n"
     ]
    }
   ],
   "source": [
    "import numpy as np\n",
    "import matplotlib.pyplot as plt\n",
    "import cPickle as pickle\n",
    "import os\n",
    "\n",
    "from fatiando import utils\n",
    "from fatiando.gravmag import polyprism\n",
    "from fatiando.mesher import PolygonalPrism\n",
    "from fatiando.vis import mpl, myv\n",
    "from matplotlib import colors, ticker, cm\n",
    "from IPython.display import Image as img\n",
    "from matplotlib.mlab import normpdf"
   ]
  },
  {
   "cell_type": "markdown",
   "metadata": {},
   "source": [
    "### Auxiliary functions"
   ]
  },
  {
   "cell_type": "code",
   "execution_count": 2,
   "metadata": {
    "collapsed": true
   },
   "outputs": [],
   "source": [
    "import sys\n",
    "sys.path.insert(0, '../../code')\n",
    "\n",
    "import mag_polyprism_functions as mfun"
   ]
  },
  {
   "cell_type": "markdown",
   "metadata": {},
   "source": [
    "# Input"
   ]
  },
  {
   "cell_type": "markdown",
   "metadata": {},
   "source": [
    "### Importing model parameters"
   ]
  },
  {
   "cell_type": "code",
   "execution_count": 7,
   "metadata": {},
   "outputs": [],
   "source": [
    "model = 'kimberlite_data/kimberlite_model.pickle'\n",
    "grid = '../grids/flightlines_grid_1300pts_16km2.pickle'\n",
    "#grid = '../grids/regular_grid_50x50_16km2.pickle'\n",
    "data = 'kimberlite_data/regular_grid_50x50_16km2/tfa_data.pickle'"
   ]
  },
  {
   "cell_type": "code",
   "execution_count": 3,
   "metadata": {
    "collapsed": false
   },
   "outputs": [],
   "source": [
    "with open('kimberlite_data/kimberlite_model.pickle') as w:\n",
    "        kimberlite_model = pickle.load(w)"
   ]
  },
  {
   "cell_type": "markdown",
   "metadata": {},
   "source": [
    "### Observation points and observed data"
   ]
  },
  {
   "cell_type": "code",
   "execution_count": 5,
   "metadata": {
    "collapsed": true
   },
   "outputs": [],
   "source": [
    "with open('../grids/regular_grid.pickle') as w:\n",
    "        regular_grid = pickle.load(w)"
   ]
  },
  {
   "cell_type": "code",
   "execution_count": 6,
   "metadata": {
    "collapsed": true
   },
   "outputs": [],
   "source": [
    "with open('kimberlite_data/kimberlite_data.pickle') as w:\n",
    "        kimberlite_data = pickle.load(w)"
   ]
  },
  {
   "cell_type": "code",
   "execution_count": 8,
   "metadata": {},
   "outputs": [],
   "source": [
    "# observed data and observation points\n",
    "dobs = kimberlite_data['tfa_obs']\n",
    "xp = regular_grid['xp']\n",
    "yp = regular_grid['yp']\n",
    "zp = regular_grid['zp']\n",
    "N = regular_grid['N']"
   ]
  },
  {
   "cell_type": "markdown",
   "metadata": {},
   "source": [
    "### Parameters of the initial model"
   ]
  },
  {
   "cell_type": "code",
   "execution_count": 9,
   "metadata": {
    "collapsed": false
   },
   "outputs": [],
   "source": [
    "M = 15 # number of vertices per prism\n",
    "L = 5 # number of prisms\n",
    "P = L*(M+2) + 1 # number of parameters\n",
    "\n",
    "# magnetization direction\n",
    "incs = kimberlite_model['inc']\n",
    "decs = kimberlite_model['dec']\n",
    "\n",
    "# depth to the top, thickness and radius\n",
    "z0 = kimberlite_model['z0']\n",
    "dz = 250.\n",
    "r = 800.\n",
    "\n",
    "# total magnetization\n",
    "props = {'magnetization': utils.ang2vec(\n",
    "        kimberlite_model['intensity'], incs, decs)}\n",
    "rin = np.zeros(M) + r\n",
    "m0 = np.hstack((rin, np.zeros(2)))\n",
    "m0 = np.resize(m0, P - 1) \n",
    "m0 = np.hstack((m0, dz)) # inicial parameters vector\n",
    "model0 = mfun.param2polyprism(m0, M, L, z0, props) # list of classes of prisms\n",
    "\n",
    "# main field\n",
    "inc, dec = kimberlite_data['main_field']\n",
    "\n",
    "# predict data\n",
    "d0 = polyprism.tf(xp, yp, zp, model0, inc, dec)"
   ]
  },
  {
   "cell_type": "markdown",
   "metadata": {},
   "source": [
    "### Limits"
   ]
  },
  {
   "cell_type": "code",
   "execution_count": 10,
   "metadata": {
    "collapsed": false
   },
   "outputs": [],
   "source": [
    "# limits for parameters in meters\n",
    "rmin = 10.\n",
    "rmax = 1300.\n",
    "x0min = -1300.\n",
    "x0max = 1300.\n",
    "y0min = -1300.\n",
    "y0max = 1300.\n",
    "dzmin = 10.\n",
    "dzmax = 300.\n",
    "\n",
    "mmin, mmax = mfun.build_range_param(M, L, rmin, rmax, x0min, x0max, y0min, y0max, dzmin, dzmax)"
   ]
  },
  {
   "cell_type": "markdown",
   "metadata": {},
   "source": [
    "### Variation"
   ]
  },
  {
   "cell_type": "code",
   "execution_count": 11,
   "metadata": {
    "collapsed": false
   },
   "outputs": [],
   "source": [
    "# variation for derivatives\n",
    "deltax = 0.01*np.max(x0max)\n",
    "deltay = 0.01*np.max(y0max)\n",
    "deltar = 0.01*np.max(rmax)\n",
    "deltaz = 0.01*np.max(dzmax)"
   ]
  },
  {
   "cell_type": "markdown",
   "metadata": {},
   "source": [
    "### Outcropping parameters"
   ]
  },
  {
   "cell_type": "code",
   "execution_count": 12,
   "metadata": {
    "collapsed": false
   },
   "outputs": [],
   "source": [
    "# outcropping body parameters\n",
    "m_out = np.zeros(M + 2)\n",
    "#m_out = kimberlite_model['param_vec'][:M+2]"
   ]
  },
  {
   "cell_type": "markdown",
   "metadata": {},
   "source": [
    "### Folder to save the results"
   ]
  },
  {
   "cell_type": "code",
   "execution_count": 13,
   "metadata": {},
   "outputs": [],
   "source": [
    "if incs == kimberlite_model['inc'] and decs == kimberlite_model['dec']:\n",
    "    mypath = 'tfa_inversion/true_direction_flightlines/r%d_int%d_z0%d_dz%d' % (rin[0], np.linalg.norm(props['magnetization']), z0, dz)\n",
    "    if not os.path.isdir(mypath):\n",
    "       os.makedirs(mypath)\n",
    "else:\n",
    "    mypath = 'tfa_inversion/wrong_direction_flightlines/inc%d_dec%d_r%d_int%d_z0%d_dz%d' % (incs, decs, rin[0], np.linalg.norm(props['magnetization']), z0, dz)\n",
    "    if not os.path.isdir(mypath):\n",
    "       os.makedirs(mypath)"
   ]
  },
  {
   "cell_type": "code",
   "execution_count": 14,
   "metadata": {},
   "outputs": [],
   "source": [
    "# output of inversion\n",
    "kimberlite_inversion = dict()"
   ]
  },
  {
   "cell_type": "markdown",
   "metadata": {},
   "source": [
    "### Regularization parameters"
   ]
  },
  {
   "cell_type": "code",
   "execution_count": 15,
   "metadata": {
    "collapsed": true
   },
   "outputs": [],
   "source": [
    "#lamb = th*0.01 # Marquadt's parameter\n",
    "lamb = 1000.\n",
    "dlamb = 10.      # step for Marquadt's parameter\n",
    "\n",
    "a1 = 0.0001  # adjacent radial distances within each prism\n",
    "a2 = 0.0001   # vertically adjacent radial distances\n",
    "a3 = 0.     # outcropping cross-section\n",
    "a4 = 0.     # outcropping origin\n",
    "a5 = 0.0001     # vertically adjacent origins\n",
    "a6 = 0.00008   # zero order Tikhonov on adjacent radial distances\n",
    "a7 = 0.000001     # zero order Tikhonov on thickness of each prism"
   ]
  },
  {
   "cell_type": "code",
   "execution_count": 16,
   "metadata": {},
   "outputs": [],
   "source": [
    "delta = np.array([deltax, deltay, deltar, deltaz])\n",
    "alpha = np.array([a1, a2, a3, a4, a5, a6, a7])"
   ]
  },
  {
   "cell_type": "code",
   "execution_count": 17,
   "metadata": {},
   "outputs": [],
   "source": [
    "itmax = 30\n",
    "itmax_marq = 10\n",
    "tol = 1.0e-5     # stop criterion"
   ]
  },
  {
   "cell_type": "code",
   "execution_count": 18,
   "metadata": {},
   "outputs": [],
   "source": [
    "kimberlite_inversion['x'] = xp\n",
    "kimberlite_inversion['y'] = yp\n",
    "kimberlite_inversion['z'] = zp\n",
    "kimberlite_inversion['observed_data'] = dobs"
   ]
  },
  {
   "cell_type": "code",
   "execution_count": 19,
   "metadata": {},
   "outputs": [],
   "source": [
    "kimberlite_inversion['inc_dec'] = [incs, decs]\n",
    "kimberlite_inversion['z0'] = z0\n",
    "kimberlite_inversion['initial_dz'] = dz\n",
    "kimberlite_inversion['intial_r'] = r\n",
    "kimberlite_inversion['initial_estimate'] = model0\n",
    "kimberlite_inversion['initial_data'] = d0\n",
    "kimberlite_inversion['limits'] = [rmin, rmax, x0min, x0max, y0min, y0max, dzmin, dzmax]\n",
    "kimberlite_inversion['tol'] = tol\n",
    "kimberlite_inversion['main_field'] = [kimberlite_data['main_field'][0], kimberlite_data['main_field'][1]]"
   ]
  },
  {
   "cell_type": "markdown",
   "metadata": {},
   "source": [
    "### Inversion"
   ]
  },
  {
   "cell_type": "code",
   "execution_count": 20,
   "metadata": {},
   "outputs": [
    {
     "name": "stdout",
     "output_type": "stream",
     "text": [
      "it:  0   it_marq:  0   lambda: 1e+03   misfit: 2.90875e+03\n",
      "it:  1   it_marq:  0   lambda: 1e+02   misfit: 2.28879e+03\n",
      "it:  2   it_marq:  0   lambda: 1e+01   misfit: 9.77926e+02\n",
      "it:  3   it_marq:  0   lambda: 1e+00   misfit: 2.20761e+02\n",
      "it:  4   it_marq:  0   lambda: 1e-01   misfit: 1.35313e+03\n",
      "it:  4   it_marq:  1   lambda: 1e+00   misfit: 1.09166e+03\n",
      "it:  4   it_marq:  2   lambda: 1e+01   misfit: 1.29141e+02\n",
      "it:  5   it_marq:  0   lambda: 1e+00   misfit: 3.27771e+02\n",
      "it:  5   it_marq:  1   lambda: 1e+01   misfit: 8.66482e+01\n",
      "it:  6   it_marq:  0   lambda: 1e+00   misfit: 8.14431e+02\n",
      "it:  6   it_marq:  1   lambda: 1e+01   misfit: 5.77674e+01\n",
      "it:  7   it_marq:  0   lambda: 1e+00   misfit: 3.12986e+01\n",
      "it:  8   it_marq:  0   lambda: 1e-01   misfit: 1.01368e+03\n",
      "it:  8   it_marq:  1   lambda: 1e+00   misfit: 9.36671e+02\n",
      "it:  8   it_marq:  2   lambda: 1e+01   misfit: 8.77199e+02\n",
      "it:  8   it_marq:  3   lambda: 1e+02   misfit: 8.09509e+02\n",
      "it:  8   it_marq:  4   lambda: 1e+03   misfit: 1.23805e+02\n",
      "it:  8   it_marq:  5   lambda: 1e+04   misfit: 3.11240e+01\n",
      "it:  9   it_marq:  0   lambda: 1e+03   misfit: 3.04243e+01\n",
      "it: 10   it_marq:  0   lambda: 1e+02   misfit: 2.43963e+01\n",
      "it: 11   it_marq:  0   lambda: 1e+01   misfit: 3.71971e+01\n",
      "it: 11   it_marq:  1   lambda: 1e+02   misfit: 1.90325e+01\n",
      "it: 12   it_marq:  0   lambda: 1e+01   misfit: 7.44782e+00\n",
      "it: 13   it_marq:  0   lambda: 1e+00   misfit: 3.43968e+00\n",
      "it: 14   it_marq:  0   lambda: 1e-01   misfit: 2.40648e+00\n",
      "it: 15   it_marq:  0   lambda: 1e-02   misfit: 2.86378e+00\n",
      "it: 15   it_marq:  1   lambda: 1e-01   misfit: 2.36020e+00\n",
      "it: 16   it_marq:  0   lambda: 1e-02   misfit: 2.62208e+00\n",
      "it: 16   it_marq:  1   lambda: 1e-01   misfit: 2.13214e+00\n",
      "it: 17   it_marq:  0   lambda: 1e-02   misfit: 2.44183e+00\n",
      "it: 17   it_marq:  1   lambda: 1e-01   misfit: 2.02113e+00\n",
      "it: 18   it_marq:  0   lambda: 1e-02   misfit: 2.31364e+00\n",
      "it: 18   it_marq:  1   lambda: 1e-01   misfit: 1.95505e+00\n",
      "it: 19   it_marq:  0   lambda: 1e-02   misfit: 2.21960e+00\n",
      "it: 19   it_marq:  1   lambda: 1e-01   misfit: 1.91091e+00\n",
      "it: 20   it_marq:  0   lambda: 1e-02   misfit: 2.14745e+00\n",
      "it: 20   it_marq:  1   lambda: 1e-01   misfit: 1.87861e+00\n",
      "it: 21   it_marq:  0   lambda: 1e-02   misfit: 2.09008e+00\n",
      "it: 21   it_marq:  1   lambda: 1e-01   misfit: 1.85355e+00\n",
      "it: 22   it_marq:  0   lambda: 1e-02   misfit: 2.04317e+00\n",
      "it: 22   it_marq:  1   lambda: 1e-01   misfit: 1.83337e+00\n",
      "it: 23   it_marq:  0   lambda: 1e-02   misfit: 2.00398e+00\n",
      "it: 23   it_marq:  1   lambda: 1e-01   misfit: 1.81674e+00\n",
      "it: 24   it_marq:  0   lambda: 1e-02   misfit: 1.97078e+00\n",
      "it: 24   it_marq:  1   lambda: 1e-01   misfit: 1.80285e+00\n",
      "it: 25   it_marq:  0   lambda: 1e-02   misfit: 1.94243e+00\n",
      "it: 25   it_marq:  1   lambda: 1e-01   misfit: 1.79118e+00\n",
      "it: 26   it_marq:  0   lambda: 1e-02   misfit: 1.91813e+00\n",
      "it: 26   it_marq:  1   lambda: 1e-01   misfit: 1.78135e+00\n",
      "it: 27   it_marq:  0   lambda: 1e-02   misfit: 1.89733e+00\n",
      "it: 27   it_marq:  1   lambda: 1e-01   misfit: 1.77310e+00\n",
      "it: 28   it_marq:  0   lambda: 1e-02   misfit: 1.87959e+00\n",
      "it: 28   it_marq:  1   lambda: 1e-01   misfit: 1.76622e+00\n",
      "it: 29   it_marq:  0   lambda: 1e-02   misfit: 1.86455e+00\n",
      "it: 29   it_marq:  1   lambda: 1e-01   misfit: 1.76054e+00\n"
     ]
    }
   ],
   "source": [
    "d_fit, m_est, model_est, phi_list = mfun.levmarq_tf(\n",
    "    xp, yp, zp, m0, M, L, delta,\n",
    "    itmax, itmax_marq, lamb,\n",
    "    dlamb, tol, mmin, mmax,\n",
    "    m_out, dobs, inc, dec,\n",
    "    props, alpha, z0, dz\n",
    ")"
   ]
  },
  {
   "cell_type": "markdown",
   "metadata": {},
   "source": [
    "# Results"
   ]
  },
  {
   "cell_type": "code",
   "execution_count": 21,
   "metadata": {},
   "outputs": [],
   "source": [
    "kimberlite_inversion['data_fit'] = d_fit\n",
    "kimberlite_inversion['estimate'] = m_est\n",
    "kimberlite_inversion['prisms'] = model_est\n",
    "kimberlite_inversion['objective'] = phi_list\n",
    "kimberlite_inversion['residual'] = dobs - d_fit"
   ]
  },
  {
   "cell_type": "code",
   "execution_count": 24,
   "metadata": {},
   "outputs": [],
   "source": [
    "file_name = mypath+'/inversion.pickle'\n",
    "with open(file_name, 'w') as f:\n",
    "    pickle.dump(kimberlite_inversion, f)"
   ]
  },
  {
   "cell_type": "raw",
   "metadata": {},
   "source": [
    "file_name"
   ]
  },
  {
   "cell_type": "code",
   "execution_count": null,
   "metadata": {},
   "outputs": [],
   "source": []
  }
 ],
 "metadata": {
  "anaconda-cloud": {},
  "kernelspec": {
   "display_name": "Python 2",
   "language": "python",
   "name": "python2"
  },
  "language_info": {
   "codemirror_mode": {
    "name": "ipython",
    "version": 2
   },
   "file_extension": ".py",
   "mimetype": "text/x-python",
   "name": "python",
   "nbconvert_exporter": "python",
   "pygments_lexer": "ipython2",
   "version": "2.7.15"
  }
 },
 "nbformat": 4,
 "nbformat_minor": 2
}
