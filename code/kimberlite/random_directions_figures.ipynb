{
 "cells": [
  {
   "cell_type": "markdown",
   "metadata": {},
   "source": [
    "# Plot of solutions"
   ]
  },
  {
   "cell_type": "code",
   "execution_count": 196,
   "metadata": {},
   "outputs": [],
   "source": [
    "import matplotlib as mpb\n",
    "\n",
    "# show all the matplotlib backends \n",
    "mpb.rcsetup.all_backends \n",
    "\n",
    "# force matplotlib to use the 'Qt5Agg' backend \n",
    "mpb.use(arg='Qt5Agg', force=True)"
   ]
  },
  {
   "cell_type": "code",
   "execution_count": 197,
   "metadata": {},
   "outputs": [],
   "source": [
    "import numpy as np\n",
    "from mpl_toolkits.mplot3d.art3d import Poly3DCollection\n",
    "import matplotlib.pyplot as plt\n",
    "import cPickle as pickle\n",
    "import scipy.stats as sp\n",
    "\n",
    "from mpl_toolkits.axes_grid1.inset_locator import inset_axes"
   ]
  },
  {
   "cell_type": "code",
   "execution_count": 198,
   "metadata": {
    "collapsed": true
   },
   "outputs": [],
   "source": [
    "import sys\n",
    "sys.path.insert(0, '../../code')\n",
    "\n",
    "import mag_polyprism_functions as mfun"
   ]
  },
  {
   "cell_type": "code",
   "execution_count": 199,
   "metadata": {},
   "outputs": [],
   "source": [
    "results_dir = 'data/flightlines_grid_2100pts_100k/both_inversion/num15_d30/inversion_Apr-12-2020.pickle'\n",
    "directions_dir = 'data/flightlines_grid_2100pts_100k/both_inversion/num15_d30/directions.pickle'"
   ]
  },
  {
   "cell_type": "code",
   "execution_count": 200,
   "metadata": {
    "collapsed": true
   },
   "outputs": [],
   "source": [
    "with open(results_dir) as w:\n",
    "        inversion = pickle.load(w)"
   ]
  },
  {
   "cell_type": "code",
   "execution_count": 201,
   "metadata": {},
   "outputs": [],
   "source": [
    "with open('data/model.pickle') as w:\n",
    "        model = pickle.load(w)"
   ]
  },
  {
   "cell_type": "code",
   "execution_count": 202,
   "metadata": {},
   "outputs": [],
   "source": [
    "with open(directions_dir) as w:\n",
    "        rd = pickle.load(w)"
   ]
  },
  {
   "cell_type": "code",
   "execution_count": 203,
   "metadata": {},
   "outputs": [],
   "source": [
    "y = inversion['y']\n",
    "x = inversion['x']"
   ]
  },
  {
   "cell_type": "code",
   "execution_count": 204,
   "metadata": {},
   "outputs": [],
   "source": [
    "verts_true = mfun.plot_prisms(model['prisms'], scale=0.001)"
   ]
  },
  {
   "cell_type": "code",
   "execution_count": 205,
   "metadata": {},
   "outputs": [],
   "source": [
    "k = 1\n",
    "for a, t, i, d in zip(inversion['amf_results'], inversion['tfa_results'],\n",
    "                      rd['directions'][0], rd['directions'][1]):\n",
    "    angle = np.rad2deg(np.arccos(\n",
    "        np.dot(model['props']['magnetization'],\n",
    "               a[2][0][0].props['magnetization'])/model['intensity']**2.))\n",
    "    fig = plt.figure(figsize=(10,9))\n",
    "    fig.suptitle('Wrong Inc: %.2f$^\\circ$    Dec: %.2f$^\\circ$  \\n    True Inc: %.2f$^\\circ$    Dec: %.2f$^\\circ$ \\n    Diff Inc: %.2f$^\\circ$    Dec: %.2f$^\\circ$    Angle: %.2f$^\\circ$'\n",
    "                 % (i, d, model['inc'], model['dec'],i - model['inc'],d - model['dec'],angle), fontsize=14)\n",
    "\n",
    "    # initial approximate\n",
    "    ax = plt.subplot(2,2,1, projection='3d')\n",
    "\n",
    "    verts_amf = mfun.plot_prisms(a[2][-1], scale=0.001)\n",
    "    verts_tfa = mfun.plot_prisms(t[2][-1], scale=0.001)\n",
    "\n",
    "    # plot sides\n",
    "    ax.add_collection3d(Poly3DCollection(verts_tfa, alpha=0.3, \n",
    "     facecolor='r', linewidths=0.5, edgecolors='k'))\n",
    "    ax.add_collection3d(Poly3DCollection(verts_true, alpha=0.3, \n",
    "     facecolor='b', linewidths=0.5, edgecolors='k'))\n",
    "\n",
    "    ax.set_xlim(-2.5, 2.5, 100)\n",
    "    ax.set_ylim(-2.5, 2.5, 100)\n",
    "    ax.set_zlim(1.8, -0.1, 100)\n",
    "    ax.tick_params(labelsize= 10)\n",
    "    ax.set_ylabel('y (km)', fontsize= 14)\n",
    "    ax.set_xlabel('x (km)', fontsize= 14)\n",
    "    ax.set_zlabel('z (km)', fontsize= 14)\n",
    "    ax.view_init(0, 30)\n",
    "    #ax.text2D(-0.1, 0.1, '(b)', fontsize= 15)\n",
    "\n",
    "    # residual data and histogram\n",
    "    ax=plt.subplot(2,2,2)\n",
    "    #plt.title('Residual', fontsize=20)\n",
    "    plt.tricontourf(y, x, t[3], 20,\n",
    "                    cmap='RdBu_r', vmin=np.min(t[3]),\n",
    "                    vmax=np.min(t[3])*(-1)).ax.tick_params(labelsize=12)\n",
    "    plt.xlabel('$y$(m)', fontsize=14)\n",
    "    plt.ylabel('$x$(m)', fontsize=14)\n",
    "    clb = plt.colorbar(pad=0.01, aspect=20, shrink=1)\n",
    "    clb.ax.set_title('nT', pad=-275)\n",
    "    mpl.m2km()\n",
    "    clb.ax.tick_params(labelsize=13)\n",
    "    inset = inset_axes(ax, width=\"40%\", height=\"30%\", loc=1, borderpad=0.7)\n",
    "    mean = np.mean(t[3])\n",
    "    std = np.std(t[3])\n",
    "    nbins=30\n",
    "    n, bins, patches = plt.hist(t[3],bins=nbins, normed=True, facecolor='blue')\n",
    "    props = dict(boxstyle='round', facecolor='wheat', alpha=0.5)\n",
    "    inset.text(0.6, 0.95, \"$\\mu$ = {:.2f}\\n$\\sigma$ = {:.2f}\".format(mean, std),\n",
    "                    transform=inset.transAxes, fontsize=6,\n",
    "                va='top', ha='left', bbox=props)\n",
    "    gauss = sp.norm.pdf(bins, mean, std)\n",
    "    plt.plot(bins, gauss, 'k--', linewidth=1., label='Gaussian')\n",
    "    #ax.text(-6500, 5500, '(a)', fontsize= 15)\n",
    "\n",
    "    # inverse model view 1\n",
    "    ax = plt.subplot(2,2,3, projection='3d')\n",
    "\n",
    "    # plot sides\n",
    "    ax.add_collection3d(Poly3DCollection(verts_amf, alpha=0.3, \n",
    "     facecolor='r', linewidths=0.5, edgecolors='k'))\n",
    "    ax.add_collection3d(Poly3DCollection(verts_true, alpha=0.3, \n",
    "     facecolor='b', linewidths=0.5, edgecolors='k'))\n",
    "\n",
    "    ax.set_xlim(-2.5, 2.5, 100)\n",
    "    ax.set_ylim(-2.5, 2.5, 100)\n",
    "    ax.set_zlim(1.8, -0.1, 100)\n",
    "    ax.tick_params(labelsize= 10)\n",
    "    ax.set_ylabel('y (km)', fontsize= 14)\n",
    "    ax.set_xlabel('x (km)', fontsize= 14)\n",
    "    ax.set_zlabel('z (km)', fontsize= 14)\n",
    "    ax.view_init(0, 30)\n",
    "    #ax.text2D(-0.12, 0.07, '(c)', fontsize= 15)\n",
    "\n",
    "    # residual data and histogram\n",
    "    ax=plt.subplot(2,2,4)\n",
    "    #plt.title('Residual', fontsize=20)\n",
    "    plt.tricontourf(y, x, a[3], 20,\n",
    "                    cmap='RdBu_r', vmin=np.min(a[3]),\n",
    "                    vmax=np.min(a[3])*(-1)).ax.tick_params(labelsize=12)\n",
    "    plt.xlabel('$y$(m)', fontsize=14)\n",
    "    plt.ylabel('$x$(m)', fontsize=14)\n",
    "    clb = plt.colorbar(pad=0.01, aspect=20, shrink=1)\n",
    "    clb.ax.set_title('nT', pad=-275)\n",
    "    mpl.m2km()\n",
    "    clb.ax.tick_params(labelsize=13)\n",
    "    inset = inset_axes(ax, width=\"40%\", height=\"30%\", loc=1, borderpad=0.7)\n",
    "    mean = np.mean(a[3])\n",
    "    std = np.std(a[3])\n",
    "    nbins=30\n",
    "    n, bins, patches = plt.hist(a[3],bins=nbins, normed=True, facecolor='blue')\n",
    "    props = dict(boxstyle='round', facecolor='wheat', alpha=0.5)\n",
    "    inset.text(0.6, 0.95, \"$\\mu$ = {:.2f}\\n$\\sigma$ = {:.2f}\".format(mean, std),\n",
    "                    transform=inset.transAxes, fontsize=6,\n",
    "                va='top', ha='left', bbox=props)\n",
    "    gauss = sp.norm.pdf(bins, mean, std)\n",
    "    plt.plot(bins, gauss, 'k--', linewidth=1., label='Gaussian')\n",
    "    #ax.text(-6500, 5500, '(a)', fontsize= 15)\n",
    "    \n",
    "    plt.savefig(directions_dir[:-17]+'stereo%d.png' % (k), dpi=300, bbox_inches=\"tight\")\n",
    "    k += 1\n",
    "    plt.show()"
   ]
  },
  {
   "cell_type": "code",
   "execution_count": null,
   "metadata": {},
   "outputs": [],
   "source": []
  },
  {
   "cell_type": "code",
   "execution_count": null,
   "metadata": {},
   "outputs": [],
   "source": []
  }
 ],
 "metadata": {
  "kernelspec": {
   "display_name": "Python 2",
   "language": "python",
   "name": "python2"
  },
  "language_info": {
   "codemirror_mode": {
    "name": "ipython",
    "version": 2
   },
   "file_extension": ".py",
   "mimetype": "text/x-python",
   "name": "python",
   "nbconvert_exporter": "python",
   "pygments_lexer": "ipython2",
   "version": "2.7.16"
  }
 },
 "nbformat": 4,
 "nbformat_minor": 2
}
