{
 "cells": [
  {
   "cell_type": "markdown",
   "metadata": {},
   "source": [
    "# Synthetic kimberlitic model"
   ]
  },
  {
   "cell_type": "markdown",
   "metadata": {},
   "source": [
    "This notebook creates a model simulating a kimberlite with magnetization using the poligonal prisms from fatiando and save its parameters in an outer file."
   ]
  },
  {
   "cell_type": "code",
   "execution_count": 1,
   "metadata": {
    "collapsed": false
   },
   "outputs": [
    {
     "name": "stderr",
     "output_type": "stream",
     "text": [
      "/home/leonardo/anaconda2/lib/python2.7/site-packages/fatiando/vis/myv.py:51: UserWarning: This module will be removed in v0.7.\n",
      "  warnings.warn(\"This module will be removed in v0.7.\")\n"
     ]
    }
   ],
   "source": [
    "import numpy as np\n",
    "import matplotlib.pyplot as plt\n",
    "import cPickle as pickle\n",
    "\n",
    "from fatiando import utils\n",
    "from fatiando.gridder import regular\n",
    "from fatiando.vis import myv\n",
    "from matplotlib import colors, ticker, cm\n",
    "from IPython.display import Image as img"
   ]
  },
  {
   "cell_type": "markdown",
   "metadata": {},
   "source": [
    "### Auxiliary functions"
   ]
  },
  {
   "cell_type": "code",
   "execution_count": 2,
   "metadata": {
    "collapsed": false
   },
   "outputs": [
    {
     "name": "stderr",
     "output_type": "stream",
     "text": [
      "/home/leonardo/anaconda2/lib/python2.7/site-packages/fatiando/vis/mpl.py:76: UserWarning: This module will be removed in v0.6. We recommend the use of matplotlib.pyplot module directly. Some of the fatiando specific functions will remain.\n",
      "  \"specific functions will remain.\")\n"
     ]
    }
   ],
   "source": [
    "import sys\n",
    "sys.path.insert(0, '../../code')\n",
    "\n",
    "import mag_polyprism_functions as mfun"
   ]
  },
  {
   "cell_type": "markdown",
   "metadata": {},
   "source": [
    "### Creating the model"
   ]
  },
  {
   "cell_type": "code",
   "execution_count": 3,
   "metadata": {
    "collapsed": true
   },
   "outputs": [],
   "source": [
    "kimberlite_model = dict()"
   ]
  },
  {
   "cell_type": "code",
   "execution_count": 4,
   "metadata": {
    "collapsed": false
   },
   "outputs": [],
   "source": [
    "# model parameters\n",
    "kimberlite_model['M'] = 20 # number of vertices per prism\n",
    "kimberlite_model['L'] = 8 # number of prisms\n",
    "kimberlite_model['P'] = kimberlite_model['L']*(kimberlite_model['M']+2) # number of parameters\n",
    "\n",
    "kimberlite_model['z0'] = 50.    # depth of the top the shallowest prism\n",
    "kimberlite_model['dz'] = 100.    # thickness of each prism\n",
    "\n",
    "kimberlite_model['inc'] = -21.5  # inclination\n",
    "kimberlite_model['dec'] = -21.5   # declination\n",
    "kimberlite_model['intensity'] = 1. # intensity\n",
    "\n",
    "kimberlite_model['props']={'magnetization': utils.ang2vec(\n",
    "    kimberlite_model['intensity'], kimberlite_model['inc'], kimberlite_model['dec'])} # physical property: magnetization\n",
    "\n",
    "#ri = np.linspace(1000., 200., kimberlite_model['M']*kimberlite_model['L']) # radial distance for each vertice\n",
    "#rand = np.random.uniform(0.8, 1., kimberlite_model['M']*kimberlite_model['L'])\n",
    "#r = ri*rand\n",
    "\n",
    "r = np.zeros(kimberlite_model['M']) + 40.\n",
    "\n",
    "# Cartesian coordinates of the origin of each prism\n",
    "x0 = np.zeros(kimberlite_model['L']) \n",
    "y0 = np.zeros(kimberlite_model['L'])\n",
    "\n",
    "l = []   # list of parameters of the prisms\n",
    "\n",
    "#for i in range(kimberlite_model['L']):\n",
    "#    l.append([r[kimberlite_model['M']*i:kimberlite_model['M']*(i+1)], x0[i]+100., y0[i]+100.,\n",
    "#              kimberlite_model['z0'] + kimberlite_model['dz']*i,\n",
    "#              kimberlite_model['z0'] + kimberlite_model['dz']*(i + 1), kimberlite_model['props']])\n",
    "\n",
    "for i in range(kimberlite_model['L']):\n",
    "    l.append([r*(10.-1.*i), x0[i], y0[i], kimberlite_model['z0'] + kimberlite_model['dz']*i,\\\n",
    "          kimberlite_model['z0'] + kimberlite_model['dz']*(i + 1), kimberlite_model['props']])\n",
    "\n",
    "kimberlite_model['prisms'] = mfun.pol2cart(l, kimberlite_model['M'], kimberlite_model['L'])\n",
    "kimberlite_model['param_vec'] = mfun.param_vec(l, kimberlite_model['M'], kimberlite_model['L'])"
   ]
  },
  {
   "cell_type": "markdown",
   "metadata": {},
   "source": [
    "### Model ploting"
   ]
  },
  {
   "cell_type": "code",
   "execution_count": 7,
   "metadata": {
    "collapsed": false
   },
   "outputs": [
    {
     "data": {
      "image/png": "[encoded data removed]",
      "text/plain": [
       "<IPython.core.display.Image object>"
      ]
     },
     "execution_count": 7,
     "metadata": {},
     "output_type": "execute_result"
    }
   ],
   "source": [
    "bounds = [-700., 700., -700., 700., -100., 850.]\n",
    "\n",
    "red, green, blue = (1, 0, 0), (0, 1, 0), (0, 0, 1)\n",
    "white, black = (1, 1, 1), (0, 0, 0),\n",
    "\n",
    "# Show the model\n",
    "scene = myv.figure()\n",
    "myv.polyprisms(kimberlite_model['prisms'], 'magnetization', opacity=1., color=blue)\n",
    "\n",
    "ax = myv.axes(myv.outline(bounds), ranges=[i * 0.001 for i in bounds])\n",
    "ax.axes.x_label, ax.axes.y_label, ax.axes.z_label = 'x (km)', 'y (km)', 'z (km)'\n",
    "ax.axes.font_factor = 1.65\n",
    "scene.scene.camera.position = [-0.089204656936016313, -0.066107174155361687, -0.04083578885723696]\n",
    "scene.scene.camera.focal_point = [1.1820671636724554e-16, 1.3134079596360617e-17, -1.9701119394540926e-17]\n",
    "scene.scene.camera.view_angle = 30.0\n",
    "scene.scene.camera.view_up = [0.24683390337942718, 0.24593292331329802, -0.93733132955911114]\n",
    "scene.scene.camera.clipping_range = [0.057117737884348194, 0.1956040854922288]\n",
    "scene.scene.camera.compute_view_plane_normal()\n",
    "\n",
    "myv.wall_bottom(ax.axes.bounds, opacity=0.2)\n",
    "myv.wall_north(ax.axes.bounds)\n",
    "\n",
    "myv.savefig('../../synthetic_data/kimberlite/kimberlite_true.png')\n",
    "myv.show()\n",
    "img(filename='../../synthetic_data/kimberlite/kimberlite_true.png')"
   ]
  },
  {
   "cell_type": "markdown",
   "metadata": {},
   "source": [
    "### Saving in an outer file"
   ]
  },
  {
   "cell_type": "code",
   "execution_count": 6,
   "metadata": {
    "collapsed": true
   },
   "outputs": [],
   "source": [
    "file_name = '../../synthetic_data/kimberlite/kimberlite_model.pickle'\n",
    "with open(file_name, 'w') as f:\n",
    "    pickle.dump(kimberlite_model, f)"
   ]
  }
 ],
 "metadata": {
  "kernelspec": {
   "display_name": "Python 2",
   "language": "python",
   "name": "python2"
  },
  "language_info": {
   "codemirror_mode": {
    "name": "ipython",
    "version": 2
   },
   "file_extension": ".py",
   "mimetype": "text/x-python",
   "name": "python",
   "nbconvert_exporter": "python",
   "pygments_lexer": "ipython2",
   "version": "2.7.13"
  }
 },
 "nbformat": 4,
 "nbformat_minor": 2
}
