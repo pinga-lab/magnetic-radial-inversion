{
 "cells": [
  {
   "cell_type": "markdown",
   "metadata": {},
   "source": [
    "# Kimberlite TFA Inversion"
   ]
  },
  {
   "cell_type": "markdown",
   "metadata": {},
   "source": [
    "This notebook performs the inversion using Levenberg-Marquadt's algorithm of total field anomaly (TFA) data on a regular grid of a synthetic kimberlitic model."
   ]
  },
  {
   "cell_type": "code",
   "execution_count": 1,
   "metadata": {},
   "outputs": [
    {
     "name": "stderr",
     "output_type": "stream",
     "text": [
      "/home/leo/anaconda2/lib/python2.7/site-packages/fatiando/vis/mpl.py:76: UserWarning: This module will be removed in v0.6. We recommend the use of matplotlib.pyplot module directly. Some of the fatiando specific functions will remain.\n",
      "  \"specific functions will remain.\")\n",
      "/home/leo/anaconda2/lib/python2.7/site-packages/fatiando/vis/myv.py:51: UserWarning: This module will be removed in v0.7.\n",
      "  warnings.warn(\"This module will be removed in v0.7.\")\n"
     ]
    }
   ],
   "source": [
    "import numpy as np\n",
    "import matplotlib.pyplot as plt\n",
    "import cPickle as pickle\n",
    "import os\n",
    "\n",
    "from fatiando import utils\n",
    "from fatiando.gravmag import polyprism\n",
    "from fatiando.mesher import PolygonalPrism\n",
    "from fatiando.vis import mpl, myv\n",
    "from matplotlib import colors, ticker, cm\n",
    "from IPython.display import Image as img\n",
    "from matplotlib.mlab import normpdf"
   ]
  },
  {
   "cell_type": "markdown",
   "metadata": {},
   "source": [
    "### Auxiliary functions"
   ]
  },
  {
   "cell_type": "code",
   "execution_count": 2,
   "metadata": {
    "collapsed": true
   },
   "outputs": [],
   "source": [
    "import sys\n",
    "sys.path.insert(0, '../../code')\n",
    "\n",
    "import mag_polyprism_functions as mfun"
   ]
  },
  {
   "cell_type": "markdown",
   "metadata": {},
   "source": [
    "# Input"
   ]
  },
  {
   "cell_type": "markdown",
   "metadata": {},
   "source": [
    "### Importing model parameters"
   ]
  },
  {
   "cell_type": "code",
   "execution_count": 3,
   "metadata": {},
   "outputs": [],
   "source": [
    "model_dir = 'data/model.pickle'\n",
    "grid_dir = '../grids/flightlines_grid_2100pts_100km2_-150m.pickle'\n",
    "data_dir = 'data/flightlines_grid_2100pts_100k/data.pickle'"
   ]
  },
  {
   "cell_type": "code",
   "execution_count": 4,
   "metadata": {},
   "outputs": [],
   "source": [
    "with open(model_dir) as w:\n",
    "        model = pickle.load(w)"
   ]
  },
  {
   "cell_type": "markdown",
   "metadata": {},
   "source": [
    "### Observation points and observed data"
   ]
  },
  {
   "cell_type": "code",
   "execution_count": 5,
   "metadata": {
    "collapsed": true
   },
   "outputs": [],
   "source": [
    "with open(grid_dir) as w:\n",
    "        grid = pickle.load(w)"
   ]
  },
  {
   "cell_type": "code",
   "execution_count": 6,
   "metadata": {
    "collapsed": true
   },
   "outputs": [],
   "source": [
    "with open(data_dir) as w:\n",
    "        data = pickle.load(w)"
   ]
  },
  {
   "cell_type": "code",
   "execution_count": 7,
   "metadata": {},
   "outputs": [],
   "source": [
    "# observed data and observation points\n",
    "dobs = data['tfa_obs']\n",
    "xp = grid['x']\n",
    "yp = grid['y']\n",
    "zp = grid['z']\n",
    "N = grid['N']"
   ]
  },
  {
   "cell_type": "markdown",
   "metadata": {},
   "source": [
    "### Parameters of the initial model"
   ]
  },
  {
   "cell_type": "code",
   "execution_count": 8,
   "metadata": {},
   "outputs": [],
   "source": [
    "M = 20 # number of vertices per prism\n",
    "L = 4 # number of prisms\n",
    "P = L*(M+2) + 1 # number of parameters\n",
    "\n",
    "# magnetization direction\n",
    "incs = model['inc']\n",
    "decs = model['dec']\n",
    "\n",
    "# depth to the top, thickness and radius\n",
    "z0 = model['z0']\n",
    "dz = 500.\n",
    "r = 500.\n",
    "\n",
    "# total magnetization\n",
    "intensity = model['intensity']\n",
    "props = {'magnetization': utils.ang2vec(\n",
    "        intensity, incs, decs)}\n",
    "rin = np.zeros(M) + r\n",
    "m0 = np.hstack((rin, np.zeros(2)))\n",
    "m0 = np.resize(m0, P - 1) \n",
    "m0 = np.hstack((m0, dz)) # inicial parameters vector\n",
    "model0 = mfun.param2polyprism(m0, M, L, z0, props) # list of classes of prisms\n",
    "\n",
    "# main field\n",
    "inc, dec = data['main_field']\n",
    "\n",
    "# predict data\n",
    "d0 = polyprism.tf(xp, yp, zp, model0, inc, dec)"
   ]
  },
  {
   "cell_type": "markdown",
   "metadata": {},
   "source": [
    "### Limits"
   ]
  },
  {
   "cell_type": "code",
   "execution_count": 9,
   "metadata": {},
   "outputs": [],
   "source": [
    "# limits for parameters in meters\n",
    "rmin = 10.\n",
    "rmax = 3000.\n",
    "x0min = -1000.\n",
    "x0max = 1000.\n",
    "y0min = -1000.\n",
    "y0max = 1000.\n",
    "dzmin = 10.\n",
    "dzmax = 1000.\n",
    "\n",
    "mmin, mmax = mfun.build_range_param(M, L, rmin, rmax, x0min, x0max, y0min, y0max, dzmin, dzmax)"
   ]
  },
  {
   "cell_type": "markdown",
   "metadata": {},
   "source": [
    "### Variation"
   ]
  },
  {
   "cell_type": "code",
   "execution_count": 10,
   "metadata": {},
   "outputs": [],
   "source": [
    "# variation for derivatives\n",
    "deltax = 0.01*np.max(x0max)\n",
    "deltay = 0.01*np.max(y0max)\n",
    "deltar = 0.01*np.max(rmax)\n",
    "deltaz = 0.01*np.max(dzmax)"
   ]
  },
  {
   "cell_type": "markdown",
   "metadata": {},
   "source": [
    "### Outcropping parameters"
   ]
  },
  {
   "cell_type": "code",
   "execution_count": 11,
   "metadata": {},
   "outputs": [],
   "source": [
    "# outcropping body parameters\n",
    "m_out = np.zeros(M + 2)\n",
    "#m_out = model['param_vec'][:M+2]"
   ]
  },
  {
   "cell_type": "markdown",
   "metadata": {},
   "source": [
    "### Folder to save the results"
   ]
  },
  {
   "cell_type": "code",
   "execution_count": 12,
   "metadata": {},
   "outputs": [],
   "source": [
    "mypath = data_dir[:-11]+'tfa_inversion/inc%d_dec%d_r%d_int%d_z0%d_dz%d' % (incs, decs, rin[0], np.linalg.norm(props['magnetization']), z0, dz)\n",
    "if not os.path.isdir(mypath):\n",
    "    os.makedirs(mypath)"
   ]
  },
  {
   "cell_type": "code",
   "execution_count": 13,
   "metadata": {},
   "outputs": [],
   "source": [
    "# output of inversion\n",
    "inversion = dict()"
   ]
  },
  {
   "cell_type": "markdown",
   "metadata": {},
   "source": [
    "### Regularization parameters"
   ]
  },
  {
   "cell_type": "code",
   "execution_count": 14,
   "metadata": {
    "collapsed": true
   },
   "outputs": [],
   "source": [
    "#lamb = th*0.01 # Marquadt's parameter\n",
    "lamb = 10.\n",
    "dlamb = 10.      # step for Marquadt's parameter\n",
    "\n",
    "a1 = 0.001  # adjacent radial distances within each prism\n",
    "a2 = 0.001   # vertically adjacent radial distances\n",
    "a3 = 0.     # outcropping cross-section\n",
    "a4 = 0.     # outcropping origin\n",
    "a5 = 0.001     # vertically adjacent origins\n",
    "a6 = 0.000001   # zero order Tikhonov on adjacent radial distances\n",
    "a7 = 0.0001     # zero order Tikhonov on thickness of each prism"
   ]
  },
  {
   "cell_type": "code",
   "execution_count": 15,
   "metadata": {},
   "outputs": [],
   "source": [
    "delta = np.array([deltax, deltay, deltar, deltaz])\n",
    "alpha = np.array([a1, a2, a3, a4, a5, a6, a7])"
   ]
  },
  {
   "cell_type": "code",
   "execution_count": 16,
   "metadata": {},
   "outputs": [],
   "source": [
    "itmax = 30\n",
    "itmax_marq = 10\n",
    "tol = 1.0e-4     # stop criterion"
   ]
  },
  {
   "cell_type": "code",
   "execution_count": 17,
   "metadata": {},
   "outputs": [],
   "source": [
    "inversion['x'] = xp\n",
    "inversion['y'] = yp\n",
    "inversion['z'] = zp\n",
    "inversion['observed_data'] = dobs"
   ]
  },
  {
   "cell_type": "code",
   "execution_count": 18,
   "metadata": {},
   "outputs": [],
   "source": [
    "inversion['inc_dec'] = [incs, decs]\n",
    "inversion['z0'] = z0\n",
    "inversion['initial_dz'] = dz\n",
    "inversion['intial_r'] = r\n",
    "inversion['initial_estimate'] = model0\n",
    "inversion['initial_data'] = d0\n",
    "inversion['limits'] = [rmin, rmax, x0min, x0max, y0min, y0max, dzmin, dzmax]\n",
    "inversion['regularization'] = alpha\n",
    "inversion['tol'] = tol\n",
    "inversion['main_field'] = [data['main_field'][0], data['main_field'][1]]"
   ]
  },
  {
   "cell_type": "markdown",
   "metadata": {},
   "source": [
    "### Inversion"
   ]
  },
  {
   "cell_type": "code",
   "execution_count": 19,
   "metadata": {},
   "outputs": [
    {
     "name": "stdout",
     "output_type": "stream",
     "text": [
      "it:  0   it_marq:  0   lambda: 1e+01   misfit: 1.71176e+05\n",
      "it:  1   it_marq:  0   lambda: 1e+00   misfit: 1.63049e+05\n",
      "it:  2   it_marq:  0   lambda: 1e-01   misfit: 2.06407e+05\n",
      "it:  2   it_marq:  1   lambda: 1e+00   misfit: 1.56848e+05\n",
      "it:  3   it_marq:  0   lambda: 1e-01   misfit: 1.96887e+05\n",
      "it:  3   it_marq:  1   lambda: 1e+00   misfit: 1.48145e+05\n",
      "it:  4   it_marq:  0   lambda: 1e-01   misfit: 2.82549e+05\n",
      "it:  4   it_marq:  1   lambda: 1e+00   misfit: 1.74751e+05\n",
      "it:  4   it_marq:  2   lambda: 1e+01   misfit: 1.53806e+05\n",
      "it:  4   it_marq:  3   lambda: 1e+02   misfit: 1.81381e+05\n",
      "it:  4   it_marq:  4   lambda: 1e+03   misfit: 1.15231e+05\n",
      "it:  5   it_marq:  0   lambda: 1e+02   misfit: 1.09517e+05\n",
      "it:  6   it_marq:  0   lambda: 1e+01   misfit: 6.66527e+04\n",
      "it:  7   it_marq:  0   lambda: 1e+00   misfit: 8.40708e+04\n",
      "it:  7   it_marq:  1   lambda: 1e+01   misfit: 6.33595e+04\n",
      "it:  8   it_marq:  0   lambda: 1e+00   misfit: 6.33965e+04\n",
      "it:  8   it_marq:  1   lambda: 1e+01   misfit: 5.38947e+04\n",
      "it:  9   it_marq:  0   lambda: 1e+00   misfit: 7.74675e+04\n",
      "it:  9   it_marq:  1   lambda: 1e+01   misfit: 5.77234e+04\n",
      "it:  9   it_marq:  2   lambda: 1e+02   misfit: 5.77758e+04\n",
      "it:  9   it_marq:  3   lambda: 1e+03   misfit: 5.79057e+04\n",
      "it:  9   it_marq:  4   lambda: 1e+04   misfit: 5.37256e+04\n",
      "it: 10   it_marq:  0   lambda: 1e+03   misfit: 5.36139e+04\n",
      "it: 11   it_marq:  0   lambda: 1e+02   misfit: 5.25329e+04\n",
      "it: 12   it_marq:  0   lambda: 1e+01   misfit: 4.55458e+04\n",
      "it: 13   it_marq:  0   lambda: 1e+00   misfit: 5.39031e+04\n",
      "it: 13   it_marq:  1   lambda: 1e+01   misfit: 4.30554e+04\n",
      "it: 14   it_marq:  0   lambda: 1e+00   misfit: 5.38803e+04\n",
      "it: 14   it_marq:  1   lambda: 1e+01   misfit: 4.11248e+04\n",
      "it: 15   it_marq:  0   lambda: 1e+00   misfit: 5.62677e+04\n",
      "it: 15   it_marq:  1   lambda: 1e+01   misfit: 4.02331e+04\n",
      "it: 16   it_marq:  0   lambda: 1e+00   misfit: 5.98687e+04\n",
      "it: 16   it_marq:  1   lambda: 1e+01   misfit: 3.93505e+04\n",
      "it: 17   it_marq:  0   lambda: 1e+00   misfit: 6.49055e+04\n",
      "it: 17   it_marq:  1   lambda: 1e+01   misfit: 3.88436e+04\n",
      "it: 18   it_marq:  0   lambda: 1e+00   misfit: 7.44841e+04\n",
      "it: 18   it_marq:  1   lambda: 1e+01   misfit: 4.06728e+04\n",
      "it: 18   it_marq:  2   lambda: 1e+02   misfit: 3.93698e+04\n",
      "it: 18   it_marq:  3   lambda: 1e+03   misfit: 3.93100e+04\n",
      "it: 18   it_marq:  4   lambda: 1e+04   misfit: 3.93049e+04\n",
      "it: 18   it_marq:  5   lambda: 1e+05   misfit: 3.93045e+04\n",
      "it: 18   it_marq:  6   lambda: 1e+06   misfit: 3.93044e+04\n",
      "it: 18   it_marq:  7   lambda: 1e+07   misfit: 3.93044e+04\n",
      "it: 18   it_marq:  8   lambda: 1e+08   misfit: 3.93044e+04\n",
      "it: 18   it_marq:  9   lambda: 1e+09   misfit: 3.93044e+04\n",
      "it: 19   it_marq:  0   lambda: 1e+10   misfit: 3.93039e+04\n",
      "it: 19   it_marq:  1   lambda: 1e+11   misfit: 3.93039e+04\n",
      "it: 19   it_marq:  2   lambda: 1e+12   misfit: 3.93039e+04\n",
      "it: 19   it_marq:  3   lambda: 1e+13   misfit: 3.93039e+04\n",
      "it: 19   it_marq:  4   lambda: 1e+14   misfit: 3.93039e+04\n",
      "it: 19   it_marq:  5   lambda: 1e+15   misfit: 3.93039e+04\n",
      "it: 19   it_marq:  6   lambda: 1e+16   misfit: 3.93039e+04\n",
      "it: 19   it_marq:  7   lambda: 1e+17   misfit: 3.93039e+04\n",
      "it: 19   it_marq:  8   lambda: 1e+18   misfit: 3.93039e+04\n",
      "it: 19   it_marq:  9   lambda: 1e+19   misfit: 3.93039e+04\n",
      "it: 20   it_marq:  0   lambda: 1e+20   misfit: 3.93035e+04\n",
      "it: 20   it_marq:  1   lambda: 1e+21   misfit: 3.93035e+04\n",
      "it: 20   it_marq:  2   lambda: 1e+22   misfit: 3.93035e+04\n",
      "it: 20   it_marq:  3   lambda: 1e+23   misfit: 3.93035e+04\n",
      "it: 20   it_marq:  4   lambda: 1e+24   misfit: 3.93035e+04\n",
      "it: 20   it_marq:  5   lambda: 1e+25   misfit: 3.93035e+04\n",
      "it: 20   it_marq:  6   lambda: 1e+26   misfit: 3.93035e+04\n",
      "it: 20   it_marq:  7   lambda: 1e+27   misfit: 3.93035e+04\n",
      "it: 20   it_marq:  8   lambda: 1e+28   misfit: 3.93035e+04\n",
      "it: 20   it_marq:  9   lambda: 1e+29   misfit: 3.93035e+04\n",
      "it: 21   it_marq:  0   lambda: 1e+30   misfit: 3.93030e+04\n",
      "it: 21   it_marq:  1   lambda: 1e+31   misfit: 3.93030e+04\n",
      "it: 21   it_marq:  2   lambda: 1e+32   misfit: 3.93030e+04\n",
      "it: 21   it_marq:  3   lambda: 1e+33   misfit: 3.93030e+04\n",
      "it: 21   it_marq:  4   lambda: 1e+34   misfit: 3.93030e+04\n",
      "it: 21   it_marq:  5   lambda: 1e+35   misfit: 3.93030e+04\n",
      "it: 21   it_marq:  6   lambda: 1e+36   misfit: 3.93030e+04\n",
      "it: 21   it_marq:  7   lambda: 1e+37   misfit: 3.93030e+04\n",
      "it: 21   it_marq:  8   lambda: 1e+38   misfit: 3.93030e+04\n",
      "it: 21   it_marq:  9   lambda: 1e+39   misfit: 3.93030e+04\n",
      "it: 22   it_marq:  0   lambda: 1e+40   misfit: 3.93026e+04\n",
      "it: 22   it_marq:  1   lambda: 1e+41   misfit: 3.93026e+04\n",
      "it: 22   it_marq:  2   lambda: 1e+42   misfit: 3.93026e+04\n",
      "it: 22   it_marq:  3   lambda: 1e+43   misfit: 3.93026e+04\n",
      "it: 22   it_marq:  4   lambda: 1e+44   misfit: 3.93026e+04\n",
      "it: 22   it_marq:  5   lambda: 1e+45   misfit: 3.93026e+04\n",
      "it: 22   it_marq:  6   lambda: 1e+46   misfit: 3.93026e+04\n",
      "it: 22   it_marq:  7   lambda: 1e+47   misfit: 3.93026e+04\n",
      "it: 22   it_marq:  8   lambda: 1e+48   misfit: 3.93026e+04\n",
      "it: 22   it_marq:  9   lambda: 1e+49   misfit: 3.93026e+04\n",
      "it: 23   it_marq:  0   lambda: 1e+50   misfit: 3.93021e+04\n",
      "it: 23   it_marq:  1   lambda: 1e+51   misfit: 3.93021e+04\n",
      "it: 23   it_marq:  2   lambda: 1e+52   misfit: 3.93021e+04\n",
      "it: 23   it_marq:  3   lambda: 1e+53   misfit: 3.93021e+04\n",
      "it: 23   it_marq:  4   lambda: 1e+54   misfit: 3.93021e+04\n",
      "it: 23   it_marq:  5   lambda: 1e+55   misfit: 3.93021e+04\n",
      "it: 23   it_marq:  6   lambda: 1e+56   misfit: 3.93021e+04\n",
      "it: 23   it_marq:  7   lambda: 1e+57   misfit: 3.93021e+04\n",
      "it: 23   it_marq:  8   lambda: 1e+58   misfit: 3.93021e+04\n",
      "it: 23   it_marq:  9   lambda: 1e+59   misfit: 3.93021e+04\n",
      "it: 24   it_marq:  0   lambda: 1e+60   misfit: 3.93017e+04\n",
      "it: 24   it_marq:  1   lambda: 1e+61   misfit: 3.93017e+04\n",
      "it: 24   it_marq:  2   lambda: 1e+62   misfit: 3.93017e+04\n",
      "it: 24   it_marq:  3   lambda: 1e+63   misfit: 3.93017e+04\n",
      "it: 24   it_marq:  4   lambda: 1e+64   misfit: 3.93017e+04\n",
      "it: 24   it_marq:  5   lambda: 1e+65   misfit: 3.93017e+04\n",
      "it: 24   it_marq:  6   lambda: 1e+66   misfit: 3.93017e+04\n",
      "it: 24   it_marq:  7   lambda: 1e+67   misfit: 3.93017e+04\n",
      "it: 24   it_marq:  8   lambda: 1e+68   misfit: 3.93017e+04\n",
      "it: 24   it_marq:  9   lambda: 1e+69   misfit: 3.93017e+04\n",
      "it: 25   it_marq:  0   lambda: 1e+70   misfit: 3.93012e+04\n",
      "it: 25   it_marq:  1   lambda: 1e+71   misfit: 3.93012e+04\n",
      "it: 25   it_marq:  2   lambda: 1e+72   misfit: 3.93012e+04\n",
      "it: 25   it_marq:  3   lambda: 1e+73   misfit: 3.93012e+04\n",
      "it: 25   it_marq:  4   lambda: 1e+74   misfit: 3.93012e+04\n",
      "it: 25   it_marq:  5   lambda: 1e+75   misfit: 3.93012e+04\n",
      "it: 25   it_marq:  6   lambda: 1e+76   misfit: 3.93012e+04\n",
      "it: 25   it_marq:  7   lambda: 1e+77   misfit: 3.93012e+04\n",
      "it: 25   it_marq:  8   lambda: 1e+78   misfit: 3.93012e+04\n",
      "it: 25   it_marq:  9   lambda: 1e+79   misfit: 3.93012e+04\n",
      "it: 26   it_marq:  0   lambda: 1e+80   misfit: 3.93008e+04\n",
      "it: 26   it_marq:  1   lambda: 1e+81   misfit: 3.93008e+04\n",
      "it: 26   it_marq:  2   lambda: 1e+82   misfit: 3.93008e+04\n",
      "it: 26   it_marq:  3   lambda: 1e+83   misfit: 3.93008e+04\n",
      "it: 26   it_marq:  4   lambda: 1e+84   misfit: 3.93008e+04\n",
      "it: 26   it_marq:  5   lambda: 1e+85   misfit: 3.93008e+04\n",
      "it: 26   it_marq:  6   lambda: 1e+86   misfit: 3.93008e+04\n",
      "it: 26   it_marq:  7   lambda: 1e+87   misfit: 3.93008e+04\n",
      "it: 26   it_marq:  8   lambda: 1e+88   misfit: 3.93008e+04\n",
      "it: 26   it_marq:  9   lambda: 1e+89   misfit: 3.93008e+04\n",
      "it: 27   it_marq:  0   lambda: 1e+90   misfit: 3.93003e+04\n",
      "it: 27   it_marq:  1   lambda: 1e+91   misfit: 3.93003e+04\n",
      "it: 27   it_marq:  2   lambda: 1e+92   misfit: 3.93003e+04\n",
      "it: 27   it_marq:  3   lambda: 1e+93   misfit: 3.93003e+04\n",
      "it: 27   it_marq:  4   lambda: 1e+94   misfit: 3.93003e+04\n",
      "it: 27   it_marq:  5   lambda: 1e+95   misfit: 3.93003e+04\n",
      "it: 27   it_marq:  6   lambda: 1e+96   misfit: 3.93003e+04\n",
      "it: 27   it_marq:  7   lambda: 1e+97   misfit: 3.93003e+04\n",
      "it: 27   it_marq:  8   lambda: 1e+98   misfit: 3.93003e+04\n",
      "it: 27   it_marq:  9   lambda: 1e+99   misfit: 3.93003e+04\n",
      "it: 28   it_marq:  0   lambda: 1e+100   misfit: 3.92999e+04\n",
      "it: 28   it_marq:  1   lambda: 1e+101   misfit: 3.92999e+04\n",
      "it: 28   it_marq:  2   lambda: 1e+102   misfit: 3.92999e+04\n",
      "it: 28   it_marq:  3   lambda: 1e+103   misfit: 3.92999e+04\n",
      "it: 28   it_marq:  4   lambda: 1e+104   misfit: 3.92999e+04\n",
      "it: 28   it_marq:  5   lambda: 1e+105   misfit: 3.92999e+04\n",
      "it: 28   it_marq:  6   lambda: 1e+106   misfit: 3.92999e+04\n",
      "it: 28   it_marq:  7   lambda: 1e+107   misfit: 3.92999e+04\n",
      "it: 28   it_marq:  8   lambda: 1e+108   misfit: 3.92999e+04\n",
      "it: 28   it_marq:  9   lambda: 1e+109   misfit: 3.92999e+04\n",
      "it: 29   it_marq:  0   lambda: 1e+110   misfit: 3.92994e+04\n",
      "it: 29   it_marq:  1   lambda: 1e+111   misfit: 3.92994e+04\n",
      "it: 29   it_marq:  2   lambda: 1e+112   misfit: 3.92994e+04\n",
      "it: 29   it_marq:  3   lambda: 1e+113   misfit: 3.92994e+04\n",
      "it: 29   it_marq:  4   lambda: 1e+114   misfit: 3.92994e+04\n",
      "it: 29   it_marq:  5   lambda: 1e+115   misfit: 3.92994e+04\n",
      "it: 29   it_marq:  6   lambda: 1e+116   misfit: 3.92994e+04\n",
      "it: 29   it_marq:  7   lambda: 1e+117   misfit: 3.92994e+04\n",
      "it: 29   it_marq:  8   lambda: 1e+118   misfit: 3.92994e+04\n",
      "it: 29   it_marq:  9   lambda: 1e+119   misfit: 3.92994e+04\n"
     ]
    }
   ],
   "source": [
    "d_fit, m_est, model_est, phi_list, model_list, res_list = mfun.levmarq_tf(\n",
    "    xp, yp, zp, m0, M, L, delta,\n",
    "    itmax, itmax_marq, lamb,\n",
    "    dlamb, tol, mmin, mmax,\n",
    "    m_out, dobs, inc, dec,\n",
    "    props, alpha, z0, dz\n",
    ")"
   ]
  },
  {
   "cell_type": "markdown",
   "metadata": {},
   "source": [
    "# Results"
   ]
  },
  {
   "cell_type": "code",
   "execution_count": 20,
   "metadata": {},
   "outputs": [],
   "source": [
    "inversion['data_fit'] = d_fit\n",
    "inversion['estimate'] = m_est\n",
    "inversion['prisms'] = model_est\n",
    "inversion['estimated_models'] = model_list\n",
    "inversion['objective'] = phi_list\n",
    "inversion['residual'] = dobs - d_fit\n",
    "inversion['residual_list'] = res_list"
   ]
  },
  {
   "cell_type": "code",
   "execution_count": 21,
   "metadata": {},
   "outputs": [],
   "source": [
    "file_name = mypath+'/inversion.pickle'\n",
    "with open(file_name, 'w') as f:\n",
    "    pickle.dump(inversion, f)"
   ]
  }
 ],
 "metadata": {
  "anaconda-cloud": {},
  "kernelspec": {
   "display_name": "Python 2",
   "language": "python",
   "name": "python2"
  },
  "language_info": {
   "codemirror_mode": {
    "name": "ipython",
    "version": 2
   },
   "file_extension": ".py",
   "mimetype": "text/x-python",
   "name": "python",
   "nbconvert_exporter": "python",
   "pygments_lexer": "ipython2",
   "version": "2.7.16"
  }
 },
 "nbformat": 4,
 "nbformat_minor": 2
}
