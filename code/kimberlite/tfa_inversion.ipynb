{
 "cells": [
  {
   "cell_type": "markdown",
   "metadata": {},
   "source": [
    "# Kimberlite TFA Inversion"
   ]
  },
  {
   "cell_type": "markdown",
   "metadata": {},
   "source": [
    "This notebook performs the inversion using Levenberg-Marquadt's algorithm of total field anomaly (TFA) data on a regular grid of a synthetic kimberlitic model."
   ]
  },
  {
   "cell_type": "code",
   "execution_count": 377,
   "metadata": {},
   "outputs": [],
   "source": [
    "import numpy as np\n",
    "import matplotlib.pyplot as plt\n",
    "import cPickle as pickle\n",
    "import os\n",
    "\n",
    "from fatiando import utils\n",
    "from fatiando.gravmag import polyprism\n",
    "from fatiando.mesher import PolygonalPrism\n",
    "from fatiando.vis import mpl, myv\n",
    "from matplotlib import colors, ticker, cm\n",
    "from IPython.display import Image as img\n",
    "from matplotlib.mlab import normpdf"
   ]
  },
  {
   "cell_type": "markdown",
   "metadata": {},
   "source": [
    "### Auxiliary functions"
   ]
  },
  {
   "cell_type": "code",
   "execution_count": 378,
   "metadata": {
    "collapsed": true
   },
   "outputs": [],
   "source": [
    "import sys\n",
    "sys.path.insert(0, '../../code')\n",
    "\n",
    "import mag_polyprism_functions as mfun"
   ]
  },
  {
   "cell_type": "markdown",
   "metadata": {},
   "source": [
    "# Input"
   ]
  },
  {
   "cell_type": "markdown",
   "metadata": {},
   "source": [
    "### Importing model parameters"
   ]
  },
  {
   "cell_type": "code",
   "execution_count": 379,
   "metadata": {},
   "outputs": [],
   "source": [
    "model_dir = 'data/model.pickle'\n",
    "grid_dir = '../grids/flightlines_grid_2100pts_100km2_-150m.pickle'\n",
    "data_dir = 'data/flightlines_grid_2100pts_100k/data.pickle'"
   ]
  },
  {
   "cell_type": "code",
   "execution_count": 380,
   "metadata": {},
   "outputs": [],
   "source": [
    "with open(model_dir) as w:\n",
    "        model = pickle.load(w)"
   ]
  },
  {
   "cell_type": "markdown",
   "metadata": {},
   "source": [
    "### Observation points and observed data"
   ]
  },
  {
   "cell_type": "code",
   "execution_count": 381,
   "metadata": {
    "collapsed": true
   },
   "outputs": [],
   "source": [
    "with open(grid_dir) as w:\n",
    "        grid = pickle.load(w)"
   ]
  },
  {
   "cell_type": "code",
   "execution_count": 382,
   "metadata": {
    "collapsed": true
   },
   "outputs": [],
   "source": [
    "with open(data_dir) as w:\n",
    "        data = pickle.load(w)"
   ]
  },
  {
   "cell_type": "code",
   "execution_count": 383,
   "metadata": {},
   "outputs": [],
   "source": [
    "# observed data and observation points\n",
    "dobs = data['tfa_obs']\n",
    "xp = grid['x']\n",
    "yp = grid['y']\n",
    "zp = grid['z']\n",
    "N = grid['N']"
   ]
  },
  {
   "cell_type": "markdown",
   "metadata": {},
   "source": [
    "### Parameters of the initial model"
   ]
  },
  {
   "cell_type": "code",
   "execution_count": 384,
   "metadata": {},
   "outputs": [],
   "source": [
    "M = 20 # number of vertices per prism\n",
    "L = 5 # number of prisms\n",
    "P = L*(M+2) + 1 # number of parameters\n",
    "\n",
    "# magnetization direction\n",
    "incs = model['inc']\n",
    "decs = model['dec']\n",
    "\n",
    "# depth to the top, thickness and radius\n",
    "z0 = model['z0']\n",
    "dz = 350.\n",
    "r = 2000.\n",
    "\n",
    "# total magnetization\n",
    "intensity = model['intensity']\n",
    "props = {'magnetization': utils.ang2vec(\n",
    "        intensity, incs, decs)}\n",
    "rin = np.zeros(M) + r\n",
    "m0 = np.hstack((rin, np.zeros(2)))\n",
    "m0 = np.resize(m0, P - 1) \n",
    "m0 = np.hstack((m0, dz)) # inicial parameters vector\n",
    "model0 = mfun.param2polyprism(m0, M, L, z0, props) # list of classes of prisms\n",
    "\n",
    "# main field\n",
    "inc, dec = data['main_field']\n",
    "\n",
    "# predict data\n",
    "d0 = polyprism.tf(xp, yp, zp, model0, inc, dec)"
   ]
  },
  {
   "cell_type": "markdown",
   "metadata": {},
   "source": [
    "### Limits"
   ]
  },
  {
   "cell_type": "code",
   "execution_count": 385,
   "metadata": {},
   "outputs": [],
   "source": [
    "# limits for parameters in meters\n",
    "rmin = 10.\n",
    "rmax = 3000.\n",
    "x0min = -1000.\n",
    "x0max = 1000.\n",
    "y0min = -1000.\n",
    "y0max = 1000.\n",
    "dzmin = 10.\n",
    "dzmax = 1000.\n",
    "\n",
    "mmin, mmax = mfun.build_range_param(M, L, rmin, rmax, x0min, x0max, y0min, y0max, dzmin, dzmax)"
   ]
  },
  {
   "cell_type": "markdown",
   "metadata": {},
   "source": [
    "### Variation"
   ]
  },
  {
   "cell_type": "code",
   "execution_count": 386,
   "metadata": {},
   "outputs": [],
   "source": [
    "# variation for derivatives\n",
    "deltax = 0.01*np.max(x0max)\n",
    "deltay = 0.01*np.max(y0max)\n",
    "deltar = 0.01*np.max(rmax)\n",
    "deltaz = 0.01*np.max(dzmax)"
   ]
  },
  {
   "cell_type": "markdown",
   "metadata": {},
   "source": [
    "### Outcropping parameters"
   ]
  },
  {
   "cell_type": "code",
   "execution_count": 387,
   "metadata": {},
   "outputs": [],
   "source": [
    "# outcropping body parameters\n",
    "#m_out = np.zeros(M + 2)\n",
    "m_out = model['param_vec'][:M+2]"
   ]
  },
  {
   "cell_type": "markdown",
   "metadata": {},
   "source": [
    "### Folder to save the results"
   ]
  },
  {
   "cell_type": "code",
   "execution_count": 388,
   "metadata": {},
   "outputs": [],
   "source": [
    "mypath = data_dir[:-11]+'tfa_inversion/inc%d_dec%d_r%d_int%d_z0%d_dz%d' % (incs, decs, rin[0], np.linalg.norm(props['magnetization']), z0, dz)\n",
    "if not os.path.isdir(mypath):\n",
    "    os.makedirs(mypath)"
   ]
  },
  {
   "cell_type": "code",
   "execution_count": 389,
   "metadata": {},
   "outputs": [],
   "source": [
    "# output of inversion\n",
    "inversion = dict()"
   ]
  },
  {
   "cell_type": "markdown",
   "metadata": {},
   "source": [
    "### Regularization parameters"
   ]
  },
  {
   "cell_type": "code",
   "execution_count": 390,
   "metadata": {
    "collapsed": true
   },
   "outputs": [],
   "source": [
    "#lamb = th*0.01 # Marquadt's parameter\n",
    "lamb = 10.1\n",
    "dlamb = 10.      # step for Marquadt's parameter\n",
    "\n",
    "a1 = 0.0001  # adjacent radial distances within each prism\n",
    "a2 = 0.0003   # vertically adjacent radial distances\n",
    "a3 = 0.     # outcropping cross-section\n",
    "a4 = 0.     # outcropping origin\n",
    "a5 = 0.0001     # vertically adjacent origins\n",
    "a6 = 0.000001   # zero order Tikhonov on adjacent radial distances\n",
    "a7 = 0.0001     # zero order Tikhonov on thickness of each prism"
   ]
  },
  {
   "cell_type": "code",
   "execution_count": 391,
   "metadata": {},
   "outputs": [],
   "source": [
    "delta = np.array([deltax, deltay, deltar, deltaz])\n",
    "alpha = np.array([a1, a2, a3, a4, a5, a6, a7])"
   ]
  },
  {
   "cell_type": "code",
   "execution_count": 392,
   "metadata": {},
   "outputs": [],
   "source": [
    "itmax = 30\n",
    "itmax_marq = 10\n",
    "tol = 1.0e-4     # stop criterion"
   ]
  },
  {
   "cell_type": "code",
   "execution_count": 393,
   "metadata": {},
   "outputs": [],
   "source": [
    "inversion['x'] = xp\n",
    "inversion['y'] = yp\n",
    "inversion['z'] = zp\n",
    "inversion['observed_data'] = dobs"
   ]
  },
  {
   "cell_type": "code",
   "execution_count": 394,
   "metadata": {},
   "outputs": [],
   "source": [
    "inversion['inc_dec'] = [incs, decs]\n",
    "inversion['z0'] = z0\n",
    "inversion['initial_dz'] = dz\n",
    "inversion['intial_r'] = r\n",
    "inversion['initial_estimate'] = model0\n",
    "inversion['initial_data'] = d0\n",
    "inversion['limits'] = [rmin, rmax, x0min, x0max, y0min, y0max, dzmin, dzmax]\n",
    "inversion['regularization'] = alpha\n",
    "inversion['tol'] = tol\n",
    "inversion['main_field'] = [data['main_field'][0], data['main_field'][1]]"
   ]
  },
  {
   "cell_type": "markdown",
   "metadata": {},
   "source": [
    "### Inversion"
   ]
  },
  {
   "cell_type": "code",
   "execution_count": 395,
   "metadata": {},
   "outputs": [
    {
     "name": "stdout",
     "output_type": "stream",
     "text": [
      "it:  0   it_marq:  0   lambda: 1e+01   misfit: 4.83042e+04\n",
      "it:  1   it_marq:  0   lambda: 1e+00   misfit: 9.16138e+03\n",
      "it:  2   it_marq:  0   lambda: 1e-01   misfit: 7.15729e+02\n",
      "it:  3   it_marq:  0   lambda: 1e-02   misfit: 3.34201e+03\n",
      "it:  3   it_marq:  1   lambda: 1e-01   misfit: 1.70353e+03\n",
      "it:  3   it_marq:  2   lambda: 1e+00   misfit: 5.28080e+02\n",
      "it:  4   it_marq:  0   lambda: 1e-01   misfit: 1.41954e+03\n",
      "it:  4   it_marq:  1   lambda: 1e+00   misfit: 4.05469e+02\n",
      "it:  5   it_marq:  0   lambda: 1e-01   misfit: 1.17234e+03\n",
      "it:  5   it_marq:  1   lambda: 1e+00   misfit: 3.41245e+02\n",
      "it:  6   it_marq:  0   lambda: 1e-01   misfit: 1.01697e+03\n",
      "it:  6   it_marq:  1   lambda: 1e+00   misfit: 3.05400e+02\n",
      "it:  7   it_marq:  0   lambda: 1e-01   misfit: 9.08753e+02\n",
      "it:  7   it_marq:  1   lambda: 1e+00   misfit: 2.81416e+02\n",
      "it:  8   it_marq:  0   lambda: 1e-01   misfit: 8.24128e+02\n",
      "it:  8   it_marq:  1   lambda: 1e+00   misfit: 2.62916e+02\n",
      "it:  9   it_marq:  0   lambda: 1e-01   misfit: 7.53289e+02\n",
      "it:  9   it_marq:  1   lambda: 1e+00   misfit: 2.47379e+02\n",
      "it: 10   it_marq:  0   lambda: 1e-01   misfit: 6.92004e+02\n",
      "it: 10   it_marq:  1   lambda: 1e+00   misfit: 2.33718e+02\n",
      "it: 11   it_marq:  0   lambda: 1e-01   misfit: 6.38135e+02\n",
      "it: 11   it_marq:  1   lambda: 1e+00   misfit: 2.21399e+02\n",
      "it: 12   it_marq:  0   lambda: 1e-01   misfit: 5.90361e+02\n",
      "it: 12   it_marq:  1   lambda: 1e+00   misfit: 2.10128e+02\n",
      "it: 13   it_marq:  0   lambda: 1e-01   misfit: 5.47733e+02\n",
      "it: 13   it_marq:  1   lambda: 1e+00   misfit: 1.99721e+02\n",
      "it: 14   it_marq:  0   lambda: 1e-01   misfit: 5.09514e+02\n",
      "it: 14   it_marq:  1   lambda: 1e+00   misfit: 1.90060e+02\n",
      "it: 15   it_marq:  0   lambda: 1e-01   misfit: 4.75111e+02\n",
      "it: 15   it_marq:  1   lambda: 1e+00   misfit: 1.81064e+02\n",
      "it: 16   it_marq:  0   lambda: 1e-01   misfit: 4.44039e+02\n",
      "it: 16   it_marq:  1   lambda: 1e+00   misfit: 1.72673e+02\n",
      "it: 17   it_marq:  0   lambda: 1e-01   misfit: 4.15893e+02\n",
      "it: 17   it_marq:  1   lambda: 1e+00   misfit: 1.64843e+02\n",
      "it: 18   it_marq:  0   lambda: 1e-01   misfit: 3.90336e+02\n",
      "it: 18   it_marq:  1   lambda: 1e+00   misfit: 1.57536e+02\n",
      "it: 19   it_marq:  0   lambda: 1e-01   misfit: 3.67086e+02\n",
      "it: 19   it_marq:  1   lambda: 1e+00   misfit: 1.50718e+02\n",
      "it: 20   it_marq:  0   lambda: 1e-01   misfit: 3.45904e+02\n",
      "it: 20   it_marq:  1   lambda: 1e+00   misfit: 1.44360e+02\n",
      "it: 21   it_marq:  0   lambda: 1e-01   misfit: 3.26590e+02\n",
      "it: 21   it_marq:  1   lambda: 1e+00   misfit: 1.38432e+02\n",
      "it: 22   it_marq:  0   lambda: 1e-01   misfit: 3.08979e+02\n",
      "it: 22   it_marq:  1   lambda: 1e+00   misfit: 1.32909e+02\n",
      "it: 23   it_marq:  0   lambda: 1e-01   misfit: 2.92930e+02\n",
      "it: 23   it_marq:  1   lambda: 1e+00   misfit: 1.27766e+02\n",
      "it: 24   it_marq:  0   lambda: 1e-01   misfit: 2.78327e+02\n",
      "it: 24   it_marq:  1   lambda: 1e+00   misfit: 1.22984e+02\n",
      "it: 25   it_marq:  0   lambda: 1e-01   misfit: 2.65077e+02\n",
      "it: 25   it_marq:  1   lambda: 1e+00   misfit: 1.18541e+02\n",
      "it: 26   it_marq:  0   lambda: 1e-01   misfit: 2.53100e+02\n",
      "it: 26   it_marq:  1   lambda: 1e+00   misfit: 1.14423e+02\n",
      "it: 27   it_marq:  0   lambda: 1e-01   misfit: 2.42339e+02\n",
      "it: 27   it_marq:  1   lambda: 1e+00   misfit: 1.10616e+02\n",
      "it: 28   it_marq:  0   lambda: 1e-01   misfit: 2.32746e+02\n",
      "it: 28   it_marq:  1   lambda: 1e+00   misfit: 1.07110e+02\n",
      "it: 29   it_marq:  0   lambda: 1e-01   misfit: 2.24293e+02\n",
      "it: 29   it_marq:  1   lambda: 1e+00   misfit: 1.03896e+02\n"
     ]
    }
   ],
   "source": [
    "d_fit, m_est, model_est, phi_list, model_list, res_list = mfun.levmarq_tf(\n",
    "    xp, yp, zp, m0, M, L, delta,\n",
    "    itmax, itmax_marq, lamb,\n",
    "    dlamb, tol, mmin, mmax,\n",
    "    m_out, dobs, inc, dec,\n",
    "    props, alpha, z0, dz\n",
    ")"
   ]
  },
  {
   "cell_type": "markdown",
   "metadata": {},
   "source": [
    "# Results"
   ]
  },
  {
   "cell_type": "code",
   "execution_count": 396,
   "metadata": {},
   "outputs": [],
   "source": [
    "inversion['data_fit'] = d_fit\n",
    "inversion['estimate'] = m_est\n",
    "inversion['prisms'] = model_est\n",
    "inversion['estimated_models'] = model_list\n",
    "inversion['objective'] = phi_list\n",
    "inversion['residual'] = dobs - d_fit\n",
    "inversion['residual_list'] = res_list"
   ]
  },
  {
   "cell_type": "code",
   "execution_count": 397,
   "metadata": {},
   "outputs": [],
   "source": [
    "file_name = mypath+'/inversion.pickle'\n",
    "with open(file_name, 'w') as f:\n",
    "    pickle.dump(inversion, f)"
   ]
  }
 ],
 "metadata": {
  "anaconda-cloud": {},
  "kernelspec": {
   "display_name": "Python 2",
   "language": "python",
   "name": "python2"
  },
  "language_info": {
   "codemirror_mode": {
    "name": "ipython",
    "version": 2
   },
   "file_extension": ".py",
   "mimetype": "text/x-python",
   "name": "python",
   "nbconvert_exporter": "python",
   "pygments_lexer": "ipython2",
   "version": "2.7.16"
  }
 },
 "nbformat": 4,
 "nbformat_minor": 2
}
