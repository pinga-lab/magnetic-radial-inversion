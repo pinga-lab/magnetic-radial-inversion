{
 "cells": [
  {
   "cell_type": "markdown",
   "metadata": {},
   "source": [
    "# Kimberlite TFA Inversion"
   ]
  },
  {
   "cell_type": "markdown",
   "metadata": {},
   "source": [
    "This notebook performs the inversion using Levenberg-Marquadt's algorithm of total field anomaly (TFA) data on a regular grid of a synthetic kimberlitic model."
   ]
  },
  {
   "cell_type": "code",
   "execution_count": 190,
   "metadata": {
    "collapsed": false
   },
   "outputs": [],
   "source": [
    "import numpy as np\n",
    "import matplotlib.pyplot as plt\n",
    "import cPickle as pickle\n",
    "import os\n",
    "\n",
    "from fatiando import utils\n",
    "from fatiando.gravmag import polyprism\n",
    "from fatiando.mesher import PolygonalPrism\n",
    "from fatiando.vis import mpl, myv\n",
    "from matplotlib import colors, ticker, cm\n",
    "from IPython.display import Image as img\n",
    "from matplotlib.mlab import normpdf"
   ]
  },
  {
   "cell_type": "markdown",
   "metadata": {},
   "source": [
    "### Auxiliary functions"
   ]
  },
  {
   "cell_type": "code",
   "execution_count": 191,
   "metadata": {
    "collapsed": true
   },
   "outputs": [],
   "source": [
    "import sys\n",
    "sys.path.insert(0, '../../code')\n",
    "\n",
    "import mag_polyprism_functions as mfun"
   ]
  },
  {
   "cell_type": "markdown",
   "metadata": {},
   "source": [
    "# Input"
   ]
  },
  {
   "cell_type": "markdown",
   "metadata": {},
   "source": [
    "### Importing model parameters"
   ]
  },
  {
   "cell_type": "code",
   "execution_count": 192,
   "metadata": {},
   "outputs": [],
   "source": [
    "model_dir = 'kimberlite_data/kimberlite_model.pickle'\n",
    "grid_dir = '../grids/flightlines_grid_1100pts_16km2_-150m.pickle'\n",
    "#grid = '../grids/regular_grid_50x50_16km2.pickle'\n",
    "#data = 'kimberlite_data/regular_grid_50x50_16km2/data.pickle'\n",
    "data_dir = 'kimberlite_data/flightlines_grid_1100pts_16km/data.pickle'"
   ]
  },
  {
   "cell_type": "code",
   "execution_count": 193,
   "metadata": {
    "collapsed": false
   },
   "outputs": [],
   "source": [
    "with open(model_dir) as w:\n",
    "        model = pickle.load(w)"
   ]
  },
  {
   "cell_type": "markdown",
   "metadata": {},
   "source": [
    "### Observation points and observed data"
   ]
  },
  {
   "cell_type": "code",
   "execution_count": 194,
   "metadata": {
    "collapsed": true
   },
   "outputs": [],
   "source": [
    "with open(grid_dir) as w:\n",
    "        grid = pickle.load(w)"
   ]
  },
  {
   "cell_type": "code",
   "execution_count": 195,
   "metadata": {
    "collapsed": true
   },
   "outputs": [],
   "source": [
    "with open(data_dir) as w:\n",
    "        data = pickle.load(w)"
   ]
  },
  {
   "cell_type": "code",
   "execution_count": 196,
   "metadata": {},
   "outputs": [],
   "source": [
    "# observed data and observation points\n",
    "dobs = data['tfa_obs']\n",
    "xp = grid['x']\n",
    "yp = grid['y']\n",
    "zp = grid['z']\n",
    "N = grid['N']"
   ]
  },
  {
   "cell_type": "markdown",
   "metadata": {},
   "source": [
    "### Parameters of the initial model"
   ]
  },
  {
   "cell_type": "code",
   "execution_count": 197,
   "metadata": {
    "collapsed": false
   },
   "outputs": [],
   "source": [
    "M = 15 # number of vertices per prism\n",
    "L = 6 # number of prisms\n",
    "P = L*(M+2) + 1 # number of parameters\n",
    "\n",
    "# magnetization direction\n",
    "incs = model['inc'] + 5.\n",
    "decs = model['dec'] + 5.\n",
    "\n",
    "# depth to the top, thickness and radius\n",
    "z0 = model['z0']\n",
    "#z0 = 150.\n",
    "dz = 300.\n",
    "r = 800.\n",
    "\n",
    "# total magnetization\n",
    "props = {'magnetization': utils.ang2vec(\n",
    "        model['intensity']+3., incs, decs)}\n",
    "rin = np.zeros(M) + r\n",
    "m0 = np.hstack((rin, np.zeros(2)))\n",
    "m0 = np.resize(m0, P - 1) \n",
    "m0 = np.hstack((m0, dz)) # inicial parameters vector\n",
    "model0 = mfun.param2polyprism(m0, M, L, z0, props) # list of classes of prisms\n",
    "\n",
    "# main field\n",
    "inc, dec = data['main_field']\n",
    "\n",
    "# predict data\n",
    "d0 = polyprism.tf(xp, yp, zp, model0, inc, dec)"
   ]
  },
  {
   "cell_type": "markdown",
   "metadata": {},
   "source": [
    "### Limits"
   ]
  },
  {
   "cell_type": "code",
   "execution_count": 198,
   "metadata": {
    "collapsed": false
   },
   "outputs": [],
   "source": [
    "# limits for parameters in meters\n",
    "rmin = 10.\n",
    "rmax = 1000.\n",
    "x0min = -1000.\n",
    "x0max = 1000.\n",
    "y0min = -1000.\n",
    "y0max = 1000.\n",
    "dzmin = 10.\n",
    "dzmax = 400.\n",
    "\n",
    "mmin, mmax = mfun.build_range_param(M, L, rmin, rmax, x0min, x0max, y0min, y0max, dzmin, dzmax)"
   ]
  },
  {
   "cell_type": "markdown",
   "metadata": {},
   "source": [
    "### Variation"
   ]
  },
  {
   "cell_type": "code",
   "execution_count": 199,
   "metadata": {
    "collapsed": false
   },
   "outputs": [],
   "source": [
    "# variation for derivatives\n",
    "deltax = 0.01*np.max(x0max)\n",
    "deltay = 0.01*np.max(y0max)\n",
    "deltar = 0.01*np.max(rmax)\n",
    "deltaz = 0.01*np.max(dzmax)"
   ]
  },
  {
   "cell_type": "markdown",
   "metadata": {},
   "source": [
    "### Outcropping parameters"
   ]
  },
  {
   "cell_type": "code",
   "execution_count": 200,
   "metadata": {
    "collapsed": false
   },
   "outputs": [],
   "source": [
    "# outcropping body parameters\n",
    "m_out = np.zeros(M + 2)\n",
    "#m_out = model['param_vec'][:M+2]"
   ]
  },
  {
   "cell_type": "markdown",
   "metadata": {},
   "source": [
    "### Folder to save the results"
   ]
  },
  {
   "cell_type": "code",
   "execution_count": 201,
   "metadata": {},
   "outputs": [],
   "source": [
    "if grid[9:20] == 'flightlines':\n",
    "    if incs == model['inc'] and decs == model['dec']:\n",
    "        mypath = 'tfa_inversion/true_direction_flightlines/r%d_int%d_z0%d_dz%d' % (rin[0], np.linalg.norm(props['magnetization']), z0, dz)\n",
    "        if not os.path.isdir(mypath):\n",
    "           os.makedirs(mypath)\n",
    "    else:\n",
    "        mypath = 'tfa_inversion/wrong_direction_flightlines/inc%d_dec%d_r%d_int%d_z0%d_dz%d' % (incs, decs, rin[0], np.linalg.norm(props['magnetization']), z0, dz)\n",
    "        if not os.path.isdir(mypath):\n",
    "           os.makedirs(mypath)\n",
    "else:\n",
    "    if incs == model['inc'] and decs == model['dec']:\n",
    "        mypath = 'tfa_inversion/true_direction_regular/r%d_int%d_z0%d_dz%d' % (rin[0], np.linalg.norm(props['magnetization']), z0, dz)\n",
    "        if not os.path.isdir(mypath):\n",
    "           os.makedirs(mypath)\n",
    "    else:\n",
    "        mypath = 'tfa_inversion/wrong_direction_regular/inc%d_dec%d_r%d_int%d_z0%d_dz%d' % (incs, decs, rin[0], np.linalg.norm(props['magnetization']), z0, dz)\n",
    "        if not os.path.isdir(mypath):\n",
    "           os.makedirs(mypath)"
   ]
  },
  {
   "cell_type": "code",
   "execution_count": 202,
   "metadata": {},
   "outputs": [],
   "source": [
    "# output of inversion\n",
    "kimberlite_inversion = dict()"
   ]
  },
  {
   "cell_type": "markdown",
   "metadata": {},
   "source": [
    "### Regularization parameters"
   ]
  },
  {
   "cell_type": "code",
   "execution_count": 203,
   "metadata": {
    "collapsed": true
   },
   "outputs": [],
   "source": [
    "#lamb = th*0.01 # Marquadt's parameter\n",
    "lamb = 1000.\n",
    "dlamb = 10.      # step for Marquadt's parameter\n",
    "\n",
    "a1 = 0.002  # adjacent radial distances within each prism\n",
    "a2 = 0.001   # vertically adjacent radial distances\n",
    "a3 = 0.     # outcropping cross-section\n",
    "a4 = 0.     # outcropping origin\n",
    "a5 = 0.5     # vertically adjacent origins\n",
    "a6 = 0.0001   # zero order Tikhonov on adjacent radial distances\n",
    "a7 = 0.0001     # zero order Tikhonov on thickness of each prism"
   ]
  },
  {
   "cell_type": "code",
   "execution_count": 204,
   "metadata": {},
   "outputs": [],
   "source": [
    "delta = np.array([deltax, deltay, deltar, deltaz])\n",
    "alpha = np.array([a1, a2, a3, a4, a5, a6, a7])"
   ]
  },
  {
   "cell_type": "code",
   "execution_count": 205,
   "metadata": {},
   "outputs": [],
   "source": [
    "itmax = 30\n",
    "itmax_marq = 10\n",
    "tol = 1.0e-5     # stop criterion"
   ]
  },
  {
   "cell_type": "code",
   "execution_count": 206,
   "metadata": {},
   "outputs": [],
   "source": [
    "kimberlite_inversion['x'] = xp\n",
    "kimberlite_inversion['y'] = yp\n",
    "kimberlite_inversion['z'] = zp\n",
    "kimberlite_inversion['observed_data'] = dobs"
   ]
  },
  {
   "cell_type": "code",
   "execution_count": 207,
   "metadata": {},
   "outputs": [],
   "source": [
    "kimberlite_inversion['inc_dec'] = [incs, decs]\n",
    "kimberlite_inversion['z0'] = z0\n",
    "kimberlite_inversion['initial_dz'] = dz\n",
    "kimberlite_inversion['intial_r'] = r\n",
    "kimberlite_inversion['initial_estimate'] = model0\n",
    "kimberlite_inversion['initial_data'] = d0\n",
    "kimberlite_inversion['limits'] = [rmin, rmax, x0min, x0max, y0min, y0max, dzmin, dzmax]\n",
    "kimberlite_inversion['regularization'] = alpha\n",
    "kimberlite_inversion['tol'] = tol\n",
    "kimberlite_inversion['main_field'] = [data['main_field'][0], data['main_field'][1]]"
   ]
  },
  {
   "cell_type": "markdown",
   "metadata": {},
   "source": [
    "### Inversion"
   ]
  },
  {
   "cell_type": "code",
   "execution_count": 208,
   "metadata": {},
   "outputs": [
    {
     "name": "stdout",
     "output_type": "stream",
     "text": [
      "it:  0   it_marq:  0   lambda: 1e+03   misfit: 2.11126e+05\n",
      "it:  1   it_marq:  0   lambda: 1e+02   misfit: 1.60172e+05\n",
      "it:  2   it_marq:  0   lambda: 1e+01   misfit: 5.31831e+04\n",
      "it:  3   it_marq:  0   lambda: 1e+00   misfit: 1.74827e+04\n",
      "it:  4   it_marq:  0   lambda: 1e-01   misfit: 5.32648e+03\n",
      "it:  5   it_marq:  0   lambda: 1e-02   misfit: 2.48830e+03\n",
      "it:  6   it_marq:  0   lambda: 1e-03   misfit: 1.58280e+03\n",
      "it:  7   it_marq:  0   lambda: 1e-04   misfit: 5.19017e+04\n",
      "it:  7   it_marq:  1   lambda: 1e-03   misfit: 1.18331e+03\n",
      "it:  8   it_marq:  0   lambda: 1e-04   misfit: 5.23189e+04\n",
      "it:  8   it_marq:  1   lambda: 1e-03   misfit: 5.23194e+04\n",
      "it:  8   it_marq:  2   lambda: 1e-02   misfit: 7.87993e+02\n",
      "it:  9   it_marq:  0   lambda: 1e-03   misfit: 5.26201e+04\n",
      "it:  9   it_marq:  1   lambda: 1e-02   misfit: 5.24152e+04\n",
      "it:  9   it_marq:  2   lambda: 1e-01   misfit: 5.24145e+04\n",
      "it:  9   it_marq:  3   lambda: 1e+00   misfit: 7.53947e+02\n",
      "it: 10   it_marq:  0   lambda: 1e-01   misfit: 6.24157e+03\n",
      "it: 10   it_marq:  1   lambda: 1e+00   misfit: 4.26299e+04\n",
      "it: 10   it_marq:  2   lambda: 1e+01   misfit: 3.93996e+04\n",
      "it: 10   it_marq:  3   lambda: 1e+02   misfit: 4.91131e+04\n",
      "it: 10   it_marq:  4   lambda: 1e+03   misfit: 5.00980e+04\n",
      "it: 10   it_marq:  5   lambda: 1e+04   misfit: 1.55571e+03\n",
      "it: 10   it_marq:  6   lambda: 1e+05   misfit: 1.56517e+03\n",
      "it: 10   it_marq:  7   lambda: 1e+06   misfit: 1.56536e+03\n",
      "it: 10   it_marq:  8   lambda: 1e+07   misfit: 1.35492e+03\n",
      "it: 10   it_marq:  9   lambda: 1e+08   misfit: 1.24216e+03\n",
      "it: 11   it_marq:  0   lambda: 1e+09   misfit: 1.24299e+03\n",
      "it: 11   it_marq:  1   lambda: 1e+10   misfit: 1.24299e+03\n",
      "it: 11   it_marq:  2   lambda: 1e+11   misfit: 1.24299e+03\n",
      "it: 11   it_marq:  3   lambda: 1e+12   misfit: 1.24299e+03\n",
      "it: 11   it_marq:  4   lambda: 1e+13   misfit: 1.24299e+03\n",
      "it: 11   it_marq:  5   lambda: 1e+14   misfit: 1.24299e+03\n",
      "it: 11   it_marq:  6   lambda: 1e+15   misfit: 1.24299e+03\n",
      "it: 11   it_marq:  7   lambda: 1e+16   misfit: 1.24299e+03\n",
      "it: 11   it_marq:  8   lambda: 1e+17   misfit: 1.24299e+03\n",
      "it: 11   it_marq:  9   lambda: 1e+18   misfit: 1.24299e+03\n",
      "it: 12   it_marq:  0   lambda: 1e+19   misfit: 1.24303e+03\n",
      "it: 12   it_marq:  1   lambda: 1e+20   misfit: 1.24303e+03\n",
      "it: 12   it_marq:  2   lambda: 1e+21   misfit: 1.24303e+03\n",
      "it: 12   it_marq:  3   lambda: 1e+22   misfit: 1.24303e+03\n",
      "it: 12   it_marq:  4   lambda: 1e+23   misfit: 1.24303e+03\n",
      "it: 12   it_marq:  5   lambda: 1e+24   misfit: 1.24303e+03\n",
      "it: 12   it_marq:  6   lambda: 1e+25   misfit: 1.24303e+03\n",
      "it: 12   it_marq:  7   lambda: 1e+26   misfit: 1.24303e+03\n",
      "it: 12   it_marq:  8   lambda: 1e+27   misfit: 1.24303e+03\n",
      "it: 12   it_marq:  9   lambda: 1e+28   misfit: 1.24303e+03\n",
      "it: 13   it_marq:  0   lambda: 1e+29   misfit: 1.24306e+03\n",
      "it: 13   it_marq:  1   lambda: 1e+30   misfit: 1.24306e+03\n",
      "it: 13   it_marq:  2   lambda: 1e+31   misfit: 1.24306e+03\n",
      "it: 13   it_marq:  3   lambda: 1e+32   misfit: 1.24306e+03\n",
      "it: 13   it_marq:  4   lambda: 1e+33   misfit: 1.24306e+03\n",
      "it: 13   it_marq:  5   lambda: 1e+34   misfit: 1.24306e+03\n",
      "it: 13   it_marq:  6   lambda: 1e+35   misfit: 1.24306e+03\n",
      "it: 13   it_marq:  7   lambda: 1e+36   misfit: 1.24306e+03\n",
      "it: 13   it_marq:  8   lambda: 1e+37   misfit: 1.24306e+03\n",
      "it: 13   it_marq:  9   lambda: 1e+38   misfit: 1.24306e+03\n",
      "it: 14   it_marq:  0   lambda: 1e+39   misfit: 1.24309e+03\n",
      "it: 14   it_marq:  1   lambda: 1e+40   misfit: 1.24309e+03\n",
      "it: 14   it_marq:  2   lambda: 1e+41   misfit: 1.24309e+03\n",
      "it: 14   it_marq:  3   lambda: 1e+42   misfit: 1.24309e+03\n",
      "it: 14   it_marq:  4   lambda: 1e+43   misfit: 1.24309e+03\n",
      "it: 14   it_marq:  5   lambda: 1e+44   misfit: 1.24309e+03\n",
      "it: 14   it_marq:  6   lambda: 1e+45   misfit: 1.24309e+03\n",
      "it: 14   it_marq:  7   lambda: 1e+46   misfit: 1.24309e+03\n",
      "it: 14   it_marq:  8   lambda: 1e+47   misfit: 1.24309e+03\n",
      "it: 14   it_marq:  9   lambda: 1e+48   misfit: 1.24309e+03\n",
      "it: 15   it_marq:  0   lambda: 1e+49   misfit: 1.24312e+03\n",
      "it: 15   it_marq:  1   lambda: 1e+50   misfit: 1.24312e+03\n",
      "it: 15   it_marq:  2   lambda: 1e+51   misfit: 1.24312e+03\n",
      "it: 15   it_marq:  3   lambda: 1e+52   misfit: 1.24312e+03\n",
      "it: 15   it_marq:  4   lambda: 1e+53   misfit: 1.24312e+03\n",
      "it: 15   it_marq:  5   lambda: 1e+54   misfit: 1.24312e+03\n",
      "it: 15   it_marq:  6   lambda: 1e+55   misfit: 1.24312e+03\n",
      "it: 15   it_marq:  7   lambda: 1e+56   misfit: 1.24312e+03\n",
      "it: 15   it_marq:  8   lambda: 1e+57   misfit: 1.24312e+03\n",
      "it: 15   it_marq:  9   lambda: 1e+58   misfit: 1.24312e+03\n",
      "it: 16   it_marq:  0   lambda: 1e+59   misfit: 1.24316e+03\n",
      "it: 16   it_marq:  1   lambda: 1e+60   misfit: 1.24316e+03\n",
      "it: 16   it_marq:  2   lambda: 1e+61   misfit: 1.24316e+03\n",
      "it: 16   it_marq:  3   lambda: 1e+62   misfit: 1.24316e+03\n",
      "it: 16   it_marq:  4   lambda: 1e+63   misfit: 1.24316e+03\n",
      "it: 16   it_marq:  5   lambda: 1e+64   misfit: 1.24316e+03\n",
      "it: 16   it_marq:  6   lambda: 1e+65   misfit: 1.24316e+03\n",
      "it: 16   it_marq:  7   lambda: 1e+66   misfit: 1.24316e+03\n",
      "it: 16   it_marq:  8   lambda: 1e+67   misfit: 1.24316e+03\n",
      "it: 16   it_marq:  9   lambda: 1e+68   misfit: 1.24316e+03\n",
      "it: 17   it_marq:  0   lambda: 1e+69   misfit: 1.24319e+03\n",
      "it: 17   it_marq:  1   lambda: 1e+70   misfit: 1.24319e+03\n",
      "it: 17   it_marq:  2   lambda: 1e+71   misfit: 1.24319e+03\n",
      "it: 17   it_marq:  3   lambda: 1e+72   misfit: 1.24319e+03\n",
      "it: 17   it_marq:  4   lambda: 1e+73   misfit: 1.24319e+03\n",
      "it: 17   it_marq:  5   lambda: 1e+74   misfit: 1.24319e+03\n",
      "it: 17   it_marq:  6   lambda: 1e+75   misfit: 1.24319e+03\n",
      "it: 17   it_marq:  7   lambda: 1e+76   misfit: 1.24319e+03\n",
      "it: 17   it_marq:  8   lambda: 1e+77   misfit: 1.24319e+03\n",
      "it: 17   it_marq:  9   lambda: 1e+78   misfit: 1.24319e+03\n",
      "it: 18   it_marq:  0   lambda: 1e+79   misfit: 1.24322e+03\n",
      "it: 18   it_marq:  1   lambda: 1e+80   misfit: 1.24322e+03\n",
      "it: 18   it_marq:  2   lambda: 1e+81   misfit: 1.24322e+03\n",
      "it: 18   it_marq:  3   lambda: 1e+82   misfit: 1.24322e+03\n",
      "it: 18   it_marq:  4   lambda: 1e+83   misfit: 1.24322e+03\n",
      "it: 18   it_marq:  5   lambda: 1e+84   misfit: 1.24322e+03\n",
      "it: 18   it_marq:  6   lambda: 1e+85   misfit: 1.24322e+03\n",
      "it: 18   it_marq:  7   lambda: 1e+86   misfit: 1.24322e+03\n",
      "it: 18   it_marq:  8   lambda: 1e+87   misfit: 1.24322e+03\n",
      "it: 18   it_marq:  9   lambda: 1e+88   misfit: 1.24322e+03\n",
      "it: 19   it_marq:  0   lambda: 1e+89   misfit: 1.24326e+03\n",
      "it: 19   it_marq:  1   lambda: 1e+90   misfit: 1.24326e+03\n",
      "it: 19   it_marq:  2   lambda: 1e+91   misfit: 1.24326e+03\n",
      "it: 19   it_marq:  3   lambda: 1e+92   misfit: 1.24326e+03\n",
      "it: 19   it_marq:  4   lambda: 1e+93   misfit: 1.24326e+03\n",
      "it: 19   it_marq:  5   lambda: 1e+94   misfit: 1.24326e+03\n",
      "it: 19   it_marq:  6   lambda: 1e+95   misfit: 1.24326e+03\n",
      "it: 19   it_marq:  7   lambda: 1e+96   misfit: 1.24326e+03\n",
      "it: 19   it_marq:  8   lambda: 1e+97   misfit: 1.24326e+03\n",
      "it: 19   it_marq:  9   lambda: 1e+98   misfit: 1.24326e+03\n",
      "it: 20   it_marq:  0   lambda: 1e+99   misfit: 1.24329e+03\n",
      "it: 20   it_marq:  1   lambda: 1e+100   misfit: 1.24329e+03\n",
      "it: 20   it_marq:  2   lambda: 1e+101   misfit: 1.24329e+03\n",
      "it: 20   it_marq:  3   lambda: 1e+102   misfit: 1.24329e+03\n",
      "it: 20   it_marq:  4   lambda: 1e+103   misfit: 1.24329e+03\n",
      "it: 20   it_marq:  5   lambda: 1e+104   misfit: 1.24329e+03\n",
      "it: 20   it_marq:  6   lambda: 1e+105   misfit: 1.24329e+03\n",
      "it: 20   it_marq:  7   lambda: 1e+106   misfit: 1.24329e+03\n",
      "it: 20   it_marq:  8   lambda: 1e+107   misfit: 1.24329e+03\n",
      "it: 20   it_marq:  9   lambda: 1e+108   misfit: 1.24329e+03\n",
      "it: 21   it_marq:  0   lambda: 1e+109   misfit: 1.24332e+03\n",
      "it: 21   it_marq:  1   lambda: 1e+110   misfit: 1.24332e+03\n",
      "it: 21   it_marq:  2   lambda: 1e+111   misfit: 1.24332e+03\n",
      "it: 21   it_marq:  3   lambda: 1e+112   misfit: 1.24332e+03\n",
      "it: 21   it_marq:  4   lambda: 1e+113   misfit: 1.24332e+03\n",
      "it: 21   it_marq:  5   lambda: 1e+114   misfit: 1.24332e+03\n",
      "it: 21   it_marq:  6   lambda: 1e+115   misfit: 1.24332e+03\n",
      "it: 21   it_marq:  7   lambda: 1e+116   misfit: 1.24332e+03\n",
      "it: 21   it_marq:  8   lambda: 1e+117   misfit: 1.24332e+03\n",
      "it: 21   it_marq:  9   lambda: 1e+118   misfit: 1.24332e+03\n",
      "it: 22   it_marq:  0   lambda: 1e+119   misfit: 1.24336e+03\n",
      "it: 22   it_marq:  1   lambda: 1e+120   misfit: 1.24336e+03\n",
      "it: 22   it_marq:  2   lambda: 1e+121   misfit: 1.24336e+03\n",
      "it: 22   it_marq:  3   lambda: 1e+122   misfit: 1.24336e+03\n",
      "it: 22   it_marq:  4   lambda: 1e+123   misfit: 1.24336e+03\n",
      "it: 22   it_marq:  5   lambda: 1e+124   misfit: 1.24336e+03\n",
      "it: 22   it_marq:  6   lambda: 1e+125   misfit: 1.24336e+03\n",
      "it: 22   it_marq:  7   lambda: 1e+126   misfit: 1.24336e+03\n",
      "it: 22   it_marq:  8   lambda: 1e+127   misfit: 1.24336e+03\n",
      "it: 22   it_marq:  9   lambda: 1e+128   misfit: 1.24336e+03\n",
      "it: 23   it_marq:  0   lambda: 1e+129   misfit: 1.24339e+03\n",
      "it: 23   it_marq:  1   lambda: 1e+130   misfit: 1.24339e+03\n",
      "it: 23   it_marq:  2   lambda: 1e+131   misfit: 1.24339e+03\n",
      "it: 23   it_marq:  3   lambda: 1e+132   misfit: 1.24339e+03\n",
      "it: 23   it_marq:  4   lambda: 1e+133   misfit: 1.24339e+03\n",
      "it: 23   it_marq:  5   lambda: 1e+134   misfit: 1.24339e+03\n",
      "it: 23   it_marq:  6   lambda: 1e+135   misfit: 1.24339e+03\n",
      "it: 23   it_marq:  7   lambda: 1e+136   misfit: 1.24339e+03\n",
      "it: 23   it_marq:  8   lambda: 1e+137   misfit: 1.24339e+03\n",
      "it: 23   it_marq:  9   lambda: 1e+138   misfit: 1.24339e+03\n",
      "it: 24   it_marq:  0   lambda: 1e+139   misfit: 1.24342e+03\n",
      "it: 24   it_marq:  1   lambda: 1e+140   misfit: 1.24342e+03\n",
      "it: 24   it_marq:  2   lambda: 1e+141   misfit: 1.24342e+03\n",
      "it: 24   it_marq:  3   lambda: 1e+142   misfit: 1.24342e+03\n",
      "it: 24   it_marq:  4   lambda: 1e+143   misfit: 1.24342e+03\n",
      "it: 24   it_marq:  5   lambda: 1e+144   misfit: 1.24342e+03\n",
      "it: 24   it_marq:  6   lambda: 1e+145   misfit: 1.24342e+03\n",
      "it: 24   it_marq:  7   lambda: 1e+146   misfit: 1.24342e+03\n",
      "it: 24   it_marq:  8   lambda: 1e+147   misfit: 1.24342e+03\n",
      "it: 24   it_marq:  9   lambda: 1e+148   misfit: 1.24342e+03\n",
      "it: 25   it_marq:  0   lambda: 1e+149   misfit: 1.24346e+03\n",
      "it: 25   it_marq:  1   lambda: 1e+150   misfit: 1.24346e+03\n",
      "it: 25   it_marq:  2   lambda: 1e+151   misfit: 1.24346e+03\n",
      "it: 25   it_marq:  3   lambda: 1e+152   misfit: 1.24346e+03\n",
      "it: 25   it_marq:  4   lambda: 1e+153   misfit: 1.24346e+03\n",
      "it: 25   it_marq:  5   lambda: 1e+154   misfit: 1.24346e+03\n",
      "it: 25   it_marq:  6   lambda: 1e+155   misfit: 1.24346e+03\n",
      "it: 25   it_marq:  7   lambda: 1e+156   misfit: 1.24346e+03\n",
      "it: 25   it_marq:  8   lambda: 1e+157   misfit: 1.24346e+03\n",
      "it: 25   it_marq:  9   lambda: 1e+158   misfit: 1.24346e+03\n",
      "it: 26   it_marq:  0   lambda: 1e+159   misfit: 1.24349e+03\n",
      "it: 26   it_marq:  1   lambda: 1e+160   misfit: 1.24349e+03\n",
      "it: 26   it_marq:  2   lambda: 1e+161   misfit: 1.24349e+03\n",
      "it: 26   it_marq:  3   lambda: 1e+162   misfit: 1.24349e+03\n",
      "it: 26   it_marq:  4   lambda: 1e+163   misfit: 1.24349e+03\n",
      "it: 26   it_marq:  5   lambda: 1e+164   misfit: 1.24349e+03\n",
      "it: 26   it_marq:  6   lambda: 1e+165   misfit: 1.24349e+03\n",
      "it: 26   it_marq:  7   lambda: 1e+166   misfit: 1.24349e+03\n",
      "it: 26   it_marq:  8   lambda: 1e+167   misfit: 1.24349e+03\n",
      "it: 26   it_marq:  9   lambda: 1e+168   misfit: 1.24349e+03\n",
      "it: 27   it_marq:  0   lambda: 1e+169   misfit: 1.24352e+03\n",
      "it: 27   it_marq:  1   lambda: 1e+170   misfit: 1.24352e+03\n",
      "it: 27   it_marq:  2   lambda: 1e+171   misfit: 1.24352e+03\n",
      "it: 27   it_marq:  3   lambda: 1e+172   misfit: 1.24352e+03\n",
      "it: 27   it_marq:  4   lambda: 1e+173   misfit: 1.24352e+03\n",
      "it: 27   it_marq:  5   lambda: 1e+174   misfit: 1.24352e+03\n",
      "it: 27   it_marq:  6   lambda: 1e+175   misfit: 1.24352e+03\n",
      "it: 27   it_marq:  7   lambda: 1e+176   misfit: 1.24352e+03\n",
      "it: 27   it_marq:  8   lambda: 1e+177   misfit: 1.24352e+03\n",
      "it: 27   it_marq:  9   lambda: 1e+178   misfit: 1.24352e+03\n",
      "it: 28   it_marq:  0   lambda: 1e+179   misfit: 1.24356e+03\n",
      "it: 28   it_marq:  1   lambda: 1e+180   misfit: 1.24356e+03\n",
      "it: 28   it_marq:  2   lambda: 1e+181   misfit: 1.24356e+03\n",
      "it: 28   it_marq:  3   lambda: 1e+182   misfit: 1.24356e+03\n",
      "it: 28   it_marq:  4   lambda: 1e+183   misfit: 1.24356e+03\n",
      "it: 28   it_marq:  5   lambda: 1e+184   misfit: 1.24356e+03\n",
      "it: 28   it_marq:  6   lambda: 1e+185   misfit: 1.24356e+03\n",
      "it: 28   it_marq:  7   lambda: 1e+186   misfit: 1.24356e+03\n",
      "it: 28   it_marq:  8   lambda: 1e+187   misfit: 1.24356e+03\n",
      "it: 28   it_marq:  9   lambda: 1e+188   misfit: 1.24356e+03\n",
      "it: 29   it_marq:  0   lambda: 1e+189   misfit: 1.24359e+03\n",
      "it: 29   it_marq:  1   lambda: 1e+190   misfit: 1.24359e+03\n",
      "it: 29   it_marq:  2   lambda: 1e+191   misfit: 1.24359e+03\n",
      "it: 29   it_marq:  3   lambda: 1e+192   misfit: 1.24359e+03\n",
      "it: 29   it_marq:  4   lambda: 1e+193   misfit: 1.24359e+03\n",
      "it: 29   it_marq:  5   lambda: 1e+194   misfit: 1.24359e+03\n",
      "it: 29   it_marq:  6   lambda: 1e+195   misfit: 1.24359e+03\n",
      "it: 29   it_marq:  7   lambda: 1e+196   misfit: 1.24359e+03\n",
      "it: 29   it_marq:  8   lambda: 1e+197   misfit: 1.24359e+03\n",
      "it: 29   it_marq:  9   lambda: 1e+198   misfit: 1.24359e+03\n"
     ]
    }
   ],
   "source": [
    "d_fit, m_est, model_est, phi_list = mfun.levmarq_tf(\n",
    "    xp, yp, zp, m0, M, L, delta,\n",
    "    itmax, itmax_marq, lamb,\n",
    "    dlamb, tol, mmin, mmax,\n",
    "    m_out, dobs, inc, dec,\n",
    "    props, alpha, z0, dz\n",
    ")"
   ]
  },
  {
   "cell_type": "markdown",
   "metadata": {},
   "source": [
    "# Results"
   ]
  },
  {
   "cell_type": "code",
   "execution_count": 209,
   "metadata": {},
   "outputs": [],
   "source": [
    "kimberlite_inversion['data_fit'] = d_fit\n",
    "kimberlite_inversion['estimate'] = m_est\n",
    "kimberlite_inversion['prisms'] = model_est\n",
    "kimberlite_inversion['objective'] = phi_list\n",
    "kimberlite_inversion['residual'] = dobs - d_fit"
   ]
  },
  {
   "cell_type": "code",
   "execution_count": 210,
   "metadata": {},
   "outputs": [],
   "source": [
    "file_name = mypath+'/inversion.pickle'\n",
    "with open(file_name, 'w') as f:\n",
    "    pickle.dump(kimberlite_inversion, f)"
   ]
  }
 ],
 "metadata": {
  "anaconda-cloud": {},
  "kernelspec": {
   "display_name": "Python 2",
   "language": "python",
   "name": "python2"
  },
  "language_info": {
   "codemirror_mode": {
    "name": "ipython",
    "version": 2
   },
   "file_extension": ".py",
   "mimetype": "text/x-python",
   "name": "python",
   "nbconvert_exporter": "python",
   "pygments_lexer": "ipython2",
   "version": "2.7.15"
  }
 },
 "nbformat": 4,
 "nbformat_minor": 2
}
