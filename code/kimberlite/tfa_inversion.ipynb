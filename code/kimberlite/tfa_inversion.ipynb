{
 "cells": [
  {
   "cell_type": "markdown",
   "metadata": {},
   "source": [
    "# Kimberlite TFA Inversion"
   ]
  },
  {
   "cell_type": "markdown",
   "metadata": {},
   "source": [
    "This notebook performs the inversion using Levenberg-Marquadt's algorithm of total field anomaly (TFA) data on a regular grid of a synthetic kimberlitic model."
   ]
  },
  {
   "cell_type": "code",
   "execution_count": 237,
   "metadata": {
    "collapsed": false
   },
   "outputs": [],
   "source": [
    "import numpy as np\n",
    "import matplotlib.pyplot as plt\n",
    "import cPickle as pickle\n",
    "import os\n",
    "\n",
    "from fatiando import utils\n",
    "from fatiando.gravmag import polyprism\n",
    "from fatiando.mesher import PolygonalPrism\n",
    "from fatiando.vis import mpl, myv\n",
    "from matplotlib import colors, ticker, cm\n",
    "from IPython.display import Image as img\n",
    "from matplotlib.mlab import normpdf"
   ]
  },
  {
   "cell_type": "markdown",
   "metadata": {},
   "source": [
    "### Auxiliary functions"
   ]
  },
  {
   "cell_type": "code",
   "execution_count": 238,
   "metadata": {
    "collapsed": true
   },
   "outputs": [],
   "source": [
    "import sys\n",
    "sys.path.insert(0, '../../code')\n",
    "\n",
    "import mag_polyprism_functions as mfun"
   ]
  },
  {
   "cell_type": "markdown",
   "metadata": {},
   "source": [
    "# Input"
   ]
  },
  {
   "cell_type": "markdown",
   "metadata": {},
   "source": [
    "### Importing model parameters"
   ]
  },
  {
   "cell_type": "code",
   "execution_count": 239,
   "metadata": {},
   "outputs": [],
   "source": [
    "model_dir = 'kimberlite_data/kimberlite_model.pickle'\n",
    "grid_dir = '../grids/flightlines_grid_1600pts_16km2_-150m.pickle'\n",
    "#grid = '../grids/regular_grid_50x50_16km2.pickle'\n",
    "#data = 'kimberlite_data/regular_grid_50x50_16km2/data.pickle'\n",
    "data_dir = 'kimberlite_data/flightlines_grid_1600pts_16km/data.pickle'"
   ]
  },
  {
   "cell_type": "code",
   "execution_count": 240,
   "metadata": {},
   "outputs": [
    {
     "data": {
      "text/plain": [
       "'kimberlite_data/flightlines_grid_1600pts_16km/'"
      ]
     },
     "execution_count": 240,
     "metadata": {},
     "output_type": "execute_result"
    }
   ],
   "source": [
    "data_dir[:-11]"
   ]
  },
  {
   "cell_type": "code",
   "execution_count": 241,
   "metadata": {
    "collapsed": false
   },
   "outputs": [],
   "source": [
    "with open(model_dir) as w:\n",
    "        model = pickle.load(w)"
   ]
  },
  {
   "cell_type": "markdown",
   "metadata": {},
   "source": [
    "### Observation points and observed data"
   ]
  },
  {
   "cell_type": "code",
   "execution_count": 242,
   "metadata": {
    "collapsed": true
   },
   "outputs": [],
   "source": [
    "with open(grid_dir) as w:\n",
    "        grid = pickle.load(w)"
   ]
  },
  {
   "cell_type": "code",
   "execution_count": 243,
   "metadata": {
    "collapsed": true
   },
   "outputs": [],
   "source": [
    "with open(data_dir) as w:\n",
    "        data = pickle.load(w)"
   ]
  },
  {
   "cell_type": "code",
   "execution_count": 244,
   "metadata": {},
   "outputs": [],
   "source": [
    "# observed data and observation points\n",
    "dobs = data['tfa_obs']\n",
    "xp = grid['x']\n",
    "yp = grid['y']\n",
    "zp = grid['z']\n",
    "N = grid['N']"
   ]
  },
  {
   "cell_type": "markdown",
   "metadata": {},
   "source": [
    "### Parameters of the initial model"
   ]
  },
  {
   "cell_type": "code",
   "execution_count": 245,
   "metadata": {
    "collapsed": false
   },
   "outputs": [],
   "source": [
    "M = 15 # number of vertices per prism\n",
    "L = 6 # number of prisms\n",
    "P = L*(M+2) + 1 # number of parameters\n",
    "\n",
    "# magnetization direction\n",
    "incs = model['inc']\n",
    "decs = model['dec']\n",
    "\n",
    "# depth to the top, thickness and radius\n",
    "z0 = model['z0']\n",
    "#z0 = 150.\n",
    "dz = 220.\n",
    "r = 700.\n",
    "\n",
    "# total magnetization\n",
    "props = {'magnetization': utils.ang2vec(\n",
    "        model['intensity'], incs, decs)}\n",
    "rin = np.zeros(M) + r\n",
    "m0 = np.hstack((rin, np.zeros(2)))\n",
    "m0 = np.resize(m0, P - 1) \n",
    "m0 = np.hstack((m0, dz)) # inicial parameters vector\n",
    "model0 = mfun.param2polyprism(m0, M, L, z0, props) # list of classes of prisms\n",
    "\n",
    "# main field\n",
    "inc, dec = data['main_field']\n",
    "\n",
    "# predict data\n",
    "d0 = polyprism.tf(xp, yp, zp, model0, inc, dec)"
   ]
  },
  {
   "cell_type": "markdown",
   "metadata": {},
   "source": [
    "### Limits"
   ]
  },
  {
   "cell_type": "code",
   "execution_count": 246,
   "metadata": {
    "collapsed": false
   },
   "outputs": [],
   "source": [
    "# limits for parameters in meters\n",
    "rmin = 10.\n",
    "rmax = 1000.\n",
    "x0min = -1000.\n",
    "x0max = 1000.\n",
    "y0min = -1000.\n",
    "y0max = 1000.\n",
    "dzmin = 10.\n",
    "dzmax = 400.\n",
    "\n",
    "mmin, mmax = mfun.build_range_param(M, L, rmin, rmax, x0min, x0max, y0min, y0max, dzmin, dzmax)"
   ]
  },
  {
   "cell_type": "markdown",
   "metadata": {},
   "source": [
    "### Variation"
   ]
  },
  {
   "cell_type": "code",
   "execution_count": 247,
   "metadata": {
    "collapsed": false
   },
   "outputs": [],
   "source": [
    "# variation for derivatives\n",
    "deltax = 0.01*np.max(x0max)\n",
    "deltay = 0.01*np.max(y0max)\n",
    "deltar = 0.01*np.max(rmax)\n",
    "deltaz = 0.01*np.max(dzmax)"
   ]
  },
  {
   "cell_type": "markdown",
   "metadata": {},
   "source": [
    "### Outcropping parameters"
   ]
  },
  {
   "cell_type": "code",
   "execution_count": 248,
   "metadata": {
    "collapsed": false
   },
   "outputs": [],
   "source": [
    "# outcropping body parameters\n",
    "m_out = np.zeros(M + 2)\n",
    "#m_out = model['param_vec'][:M+2]"
   ]
  },
  {
   "cell_type": "markdown",
   "metadata": {},
   "source": [
    "### Folder to save the results"
   ]
  },
  {
   "cell_type": "code",
   "execution_count": 249,
   "metadata": {},
   "outputs": [],
   "source": [
    "if grid_dir[9:20] == 'flightlines':\n",
    "    if incs == model['inc'] and decs == model['dec']:\n",
    "        mypath = data_dir[:-11]+'tfa_inversion/true_direction_flightlines/r%d_int%d_z0%d_dz%d' % (rin[0], np.linalg.norm(props['magnetization']), z0, dz)\n",
    "        if not os.path.isdir(mypath):\n",
    "           os.makedirs(mypath)\n",
    "    else:\n",
    "        mypath = data_dir[:-11]+'tfa_inversion/wrong_direction_flightlines/inc%d_dec%d_r%d_int%d_z0%d_dz%d' % (incs, decs, rin[0], np.linalg.norm(props['magnetization']), z0, dz)\n",
    "        if not os.path.isdir(mypath):\n",
    "           os.makedirs(mypath)\n",
    "else:\n",
    "    if incs == model['inc'] and decs == model['dec']:\n",
    "        mypath = data_dir[:-11]+'tfa_inversion/true_direction_regular/r%d_int%d_z0%d_dz%d' % (rin[0], np.linalg.norm(props['magnetization']), z0, dz)\n",
    "        if not os.path.isdir(mypath):\n",
    "           os.makedirs(mypath)\n",
    "    else:\n",
    "        mypath = data_dir[:-11]+'tfa_inversion/wrong_direction_regular/inc%d_dec%d_r%d_int%d_z0%d_dz%d' % (incs, decs, rin[0], np.linalg.norm(props['magnetization']), z0, dz)\n",
    "        if not os.path.isdir(mypath):\n",
    "           os.makedirs(mypath)"
   ]
  },
  {
   "cell_type": "code",
   "execution_count": 250,
   "metadata": {},
   "outputs": [],
   "source": [
    "# output of inversion\n",
    "kimberlite_inversion = dict()"
   ]
  },
  {
   "cell_type": "markdown",
   "metadata": {},
   "source": [
    "### Regularization parameters"
   ]
  },
  {
   "cell_type": "code",
   "execution_count": 251,
   "metadata": {
    "collapsed": true
   },
   "outputs": [],
   "source": [
    "#lamb = th*0.01 # Marquadt's parameter\n",
    "lamb = 1000.\n",
    "dlamb = 10.      # step for Marquadt's parameter\n",
    "\n",
    "a1 = 0.0006  # adjacent radial distances within each prism\n",
    "a2 = 0.0006   # vertically adjacent radial distances\n",
    "a3 = 0.     # outcropping cross-section\n",
    "a4 = 0.     # outcropping origin\n",
    "a5 = 0.009     # vertically adjacent origins\n",
    "a6 = 0.00001   # zero order Tikhonov on adjacent radial distances\n",
    "a7 = 0.0001     # zero order Tikhonov on thickness of each prism"
   ]
  },
  {
   "cell_type": "code",
   "execution_count": 252,
   "metadata": {},
   "outputs": [],
   "source": [
    "delta = np.array([deltax, deltay, deltar, deltaz])\n",
    "alpha = np.array([a1, a2, a3, a4, a5, a6, a7])"
   ]
  },
  {
   "cell_type": "code",
   "execution_count": 253,
   "metadata": {},
   "outputs": [],
   "source": [
    "itmax = 150\n",
    "itmax_marq = 10\n",
    "tol = 1.0e-5     # stop criterion"
   ]
  },
  {
   "cell_type": "code",
   "execution_count": 254,
   "metadata": {},
   "outputs": [],
   "source": [
    "kimberlite_inversion['x'] = xp\n",
    "kimberlite_inversion['y'] = yp\n",
    "kimberlite_inversion['z'] = zp\n",
    "kimberlite_inversion['observed_data'] = dobs"
   ]
  },
  {
   "cell_type": "code",
   "execution_count": 255,
   "metadata": {},
   "outputs": [],
   "source": [
    "kimberlite_inversion['inc_dec'] = [incs, decs]\n",
    "kimberlite_inversion['z0'] = z0\n",
    "kimberlite_inversion['initial_dz'] = dz\n",
    "kimberlite_inversion['intial_r'] = r\n",
    "kimberlite_inversion['initial_estimate'] = model0\n",
    "kimberlite_inversion['initial_data'] = d0\n",
    "kimberlite_inversion['limits'] = [rmin, rmax, x0min, x0max, y0min, y0max, dzmin, dzmax]\n",
    "kimberlite_inversion['regularization'] = alpha\n",
    "kimberlite_inversion['tol'] = tol\n",
    "kimberlite_inversion['main_field'] = [data['main_field'][0], data['main_field'][1]]"
   ]
  },
  {
   "cell_type": "markdown",
   "metadata": {},
   "source": [
    "### Inversion"
   ]
  },
  {
   "cell_type": "code",
   "execution_count": 256,
   "metadata": {},
   "outputs": [
    {
     "name": "stdout",
     "output_type": "stream",
     "text": [
      "it:  0   it_marq:  0   lambda: 1e+03   misfit: 1.64518e+04\n",
      "it:  1   it_marq:  0   lambda: 1e+02   misfit: 1.12773e+04\n",
      "it:  2   it_marq:  0   lambda: 1e+01   misfit: 2.20703e+03\n",
      "it:  3   it_marq:  0   lambda: 1e+00   misfit: 1.15781e+02\n",
      "it:  4   it_marq:  0   lambda: 1e-01   misfit: 1.23893e+01\n",
      "it:  5   it_marq:  0   lambda: 1e-02   misfit: 1.88499e+01\n",
      "it:  5   it_marq:  1   lambda: 1e-01   misfit: 1.25627e+01\n",
      "it:  5   it_marq:  2   lambda: 1e+00   misfit: 7.55093e+00\n",
      "it:  6   it_marq:  0   lambda: 1e-01   misfit: 1.07079e+01\n",
      "it:  6   it_marq:  1   lambda: 1e+00   misfit: 6.71644e+00\n",
      "it:  7   it_marq:  0   lambda: 1e-01   misfit: 9.60969e+00\n",
      "it:  7   it_marq:  1   lambda: 1e+00   misfit: 6.35478e+00\n",
      "it:  8   it_marq:  0   lambda: 1e-01   misfit: 8.86449e+00\n",
      "it:  8   it_marq:  1   lambda: 1e+00   misfit: 6.15410e+00\n",
      "it:  9   it_marq:  0   lambda: 1e-01   misfit: 8.32556e+00\n",
      "it:  9   it_marq:  1   lambda: 1e+00   misfit: 6.03246e+00\n",
      "it: 10   it_marq:  0   lambda: 1e-01   misfit: 7.92247e+00\n",
      "it: 10   it_marq:  1   lambda: 1e+00   misfit: 5.95588e+00\n",
      "it: 11   it_marq:  0   lambda: 1e-01   misfit: 7.61397e+00\n",
      "it: 11   it_marq:  1   lambda: 1e+00   misfit: 5.90668e+00\n",
      "it: 12   it_marq:  0   lambda: 1e-01   misfit: 7.37347e+00\n",
      "it: 12   it_marq:  1   lambda: 1e+00   misfit: 5.87464e+00\n",
      "it: 13   it_marq:  0   lambda: 1e-01   misfit: 7.18291e+00\n",
      "it: 13   it_marq:  1   lambda: 1e+00   misfit: 5.85353e+00\n",
      "it: 14   it_marq:  0   lambda: 1e-01   misfit: 7.02967e+00\n",
      "it: 14   it_marq:  1   lambda: 1e+00   misfit: 5.83942e+00\n",
      "it: 15   it_marq:  0   lambda: 1e-01   misfit: 6.90474e+00\n",
      "it: 15   it_marq:  1   lambda: 1e+00   misfit: 5.82981e+00\n",
      "it: 16   it_marq:  0   lambda: 1e-01   misfit: 6.80156e+00\n",
      "it: 16   it_marq:  1   lambda: 1e+00   misfit: 5.82304e+00\n",
      "it: 17   it_marq:  0   lambda: 1e-01   misfit: 6.71529e+00\n",
      "it: 17   it_marq:  1   lambda: 1e+00   misfit: 5.81806e+00\n",
      "it: 18   it_marq:  0   lambda: 1e-01   misfit: 6.64231e+00\n",
      "it: 18   it_marq:  1   lambda: 1e+00   misfit: 5.81413e+00\n",
      "it: 19   it_marq:  0   lambda: 1e-01   misfit: 6.57986e+00\n",
      "it: 19   it_marq:  1   lambda: 1e+00   misfit: 5.81078e+00\n",
      "it: 20   it_marq:  0   lambda: 1e-01   misfit: 6.52583e+00\n",
      "it: 20   it_marq:  1   lambda: 1e+00   misfit: 5.80770e+00\n",
      "it: 21   it_marq:  0   lambda: 1e-01   misfit: 6.47861e+00\n",
      "it: 21   it_marq:  1   lambda: 1e+00   misfit: 5.80468e+00\n",
      "it: 22   it_marq:  0   lambda: 1e-01   misfit: 6.43692e+00\n",
      "it: 22   it_marq:  1   lambda: 1e+00   misfit: 5.80158e+00\n",
      "it: 23   it_marq:  0   lambda: 1e-01   misfit: 6.39975e+00\n",
      "it: 23   it_marq:  1   lambda: 1e+00   misfit: 5.79833e+00\n",
      "it: 24   it_marq:  0   lambda: 1e-01   misfit: 6.36631e+00\n",
      "it: 24   it_marq:  1   lambda: 1e+00   misfit: 5.79487e+00\n",
      "it: 25   it_marq:  0   lambda: 1e-01   misfit: 6.33596e+00\n",
      "it: 25   it_marq:  1   lambda: 1e+00   misfit: 5.79118e+00\n",
      "it: 26   it_marq:  0   lambda: 1e-01   misfit: 6.30819e+00\n",
      "it: 26   it_marq:  1   lambda: 1e+00   misfit: 5.78724e+00\n",
      "it: 27   it_marq:  0   lambda: 1e-01   misfit: 6.28258e+00\n",
      "it: 27   it_marq:  1   lambda: 1e+00   misfit: 5.78305e+00\n",
      "it: 28   it_marq:  0   lambda: 1e-01   misfit: 6.25879e+00\n",
      "it: 28   it_marq:  1   lambda: 1e+00   misfit: 5.77862e+00\n",
      "it: 29   it_marq:  0   lambda: 1e-01   misfit: 6.23654e+00\n",
      "it: 29   it_marq:  1   lambda: 1e+00   misfit: 5.77395e+00\n",
      "it: 30   it_marq:  0   lambda: 1e-01   misfit: 6.21561e+00\n",
      "it: 30   it_marq:  1   lambda: 1e+00   misfit: 5.76905e+00\n",
      "it: 31   it_marq:  0   lambda: 1e-01   misfit: 6.19579e+00\n",
      "it: 31   it_marq:  1   lambda: 1e+00   misfit: 5.76395e+00\n",
      "it: 32   it_marq:  0   lambda: 1e-01   misfit: 6.17694e+00\n",
      "it: 32   it_marq:  1   lambda: 1e+00   misfit: 5.75864e+00\n",
      "it: 33   it_marq:  0   lambda: 1e-01   misfit: 6.15891e+00\n",
      "it: 33   it_marq:  1   lambda: 1e+00   misfit: 5.75315e+00\n",
      "it: 34   it_marq:  0   lambda: 1e-01   misfit: 6.14161e+00\n",
      "it: 34   it_marq:  1   lambda: 1e+00   misfit: 5.74748e+00\n",
      "it: 35   it_marq:  0   lambda: 1e-01   misfit: 6.12492e+00\n",
      "it: 35   it_marq:  1   lambda: 1e+00   misfit: 5.74165e+00\n",
      "it: 36   it_marq:  0   lambda: 1e-01   misfit: 6.10879e+00\n",
      "it: 36   it_marq:  1   lambda: 1e+00   misfit: 5.73567e+00\n",
      "it: 37   it_marq:  0   lambda: 1e-01   misfit: 6.09312e+00\n",
      "it: 37   it_marq:  1   lambda: 1e+00   misfit: 5.72955e+00\n",
      "it: 38   it_marq:  0   lambda: 1e-01   misfit: 6.07788e+00\n",
      "it: 38   it_marq:  1   lambda: 1e+00   misfit: 5.72329e+00\n",
      "it: 39   it_marq:  0   lambda: 1e-01   misfit: 6.06301e+00\n",
      "it: 39   it_marq:  1   lambda: 1e+00   misfit: 5.71691e+00\n",
      "it: 40   it_marq:  0   lambda: 1e-01   misfit: 6.04847e+00\n",
      "it: 40   it_marq:  1   lambda: 1e+00   misfit: 5.71042e+00\n",
      "it: 41   it_marq:  0   lambda: 1e-01   misfit: 6.03422e+00\n",
      "it: 41   it_marq:  1   lambda: 1e+00   misfit: 5.70382e+00\n",
      "it: 42   it_marq:  0   lambda: 1e-01   misfit: 6.02023e+00\n",
      "it: 42   it_marq:  1   lambda: 1e+00   misfit: 5.69713e+00\n",
      "it: 43   it_marq:  0   lambda: 1e-01   misfit: 6.00648e+00\n",
      "it: 43   it_marq:  1   lambda: 1e+00   misfit: 5.69033e+00\n",
      "it: 44   it_marq:  0   lambda: 1e-01   misfit: 5.99294e+00\n",
      "it: 44   it_marq:  1   lambda: 1e+00   misfit: 5.68345e+00\n",
      "it: 45   it_marq:  0   lambda: 1e-01   misfit: 5.97960e+00\n",
      "it: 45   it_marq:  1   lambda: 1e+00   misfit: 5.67649e+00\n",
      "it: 46   it_marq:  0   lambda: 1e-01   misfit: 5.96642e+00\n",
      "it: 46   it_marq:  1   lambda: 1e+00   misfit: 5.66945e+00\n",
      "it: 47   it_marq:  0   lambda: 1e-01   misfit: 5.95341e+00\n",
      "it: 47   it_marq:  1   lambda: 1e+00   misfit: 5.66234e+00\n",
      "it: 48   it_marq:  0   lambda: 1e-01   misfit: 5.94055e+00\n",
      "it: 48   it_marq:  1   lambda: 1e+00   misfit: 5.65515e+00\n",
      "it: 49   it_marq:  0   lambda: 1e-01   misfit: 5.92782e+00\n",
      "it: 49   it_marq:  1   lambda: 1e+00   misfit: 5.64790e+00\n",
      "it: 50   it_marq:  0   lambda: 1e-01   misfit: 5.91521e+00\n",
      "it: 50   it_marq:  1   lambda: 1e+00   misfit: 5.64060e+00\n",
      "it: 51   it_marq:  0   lambda: 1e-01   misfit: 5.90272e+00\n",
      "it: 51   it_marq:  1   lambda: 1e+00   misfit: 5.63323e+00\n",
      "it: 52   it_marq:  0   lambda: 1e-01   misfit: 5.89034e+00\n",
      "it: 52   it_marq:  1   lambda: 1e+00   misfit: 5.62581e+00\n",
      "it: 53   it_marq:  0   lambda: 1e-01   misfit: 5.87807e+00\n",
      "it: 53   it_marq:  1   lambda: 1e+00   misfit: 5.61833e+00\n",
      "it: 54   it_marq:  0   lambda: 1e-01   misfit: 5.86589e+00\n",
      "it: 54   it_marq:  1   lambda: 1e+00   misfit: 5.61081e+00\n",
      "it: 55   it_marq:  0   lambda: 1e-01   misfit: 5.85379e+00\n",
      "it: 55   it_marq:  1   lambda: 1e+00   misfit: 5.60324e+00\n",
      "it: 56   it_marq:  0   lambda: 1e-01   misfit: 5.84179e+00\n",
      "it: 56   it_marq:  1   lambda: 1e+00   misfit: 5.59563e+00\n",
      "it: 57   it_marq:  0   lambda: 1e-01   misfit: 5.82987e+00\n",
      "it: 57   it_marq:  1   lambda: 1e+00   misfit: 5.58797e+00\n",
      "it: 58   it_marq:  0   lambda: 1e-01   misfit: 5.81802e+00\n",
      "it: 58   it_marq:  1   lambda: 1e+00   misfit: 5.58028e+00\n",
      "it: 59   it_marq:  0   lambda: 1e-01   misfit: 5.80625e+00\n",
      "it: 59   it_marq:  1   lambda: 1e+00   misfit: 5.57255e+00\n",
      "it: 60   it_marq:  0   lambda: 1e-01   misfit: 5.79455e+00\n",
      "it: 60   it_marq:  1   lambda: 1e+00   misfit: 5.56478e+00\n",
      "it: 61   it_marq:  0   lambda: 1e-01   misfit: 5.78292e+00\n",
      "it: 61   it_marq:  1   lambda: 1e+00   misfit: 5.55698e+00\n",
      "it: 62   it_marq:  0   lambda: 1e-01   misfit: 5.77135e+00\n",
      "it: 62   it_marq:  1   lambda: 1e+00   misfit: 5.54915e+00\n",
      "it: 63   it_marq:  0   lambda: 1e-01   misfit: 5.75985e+00\n",
      "it: 63   it_marq:  1   lambda: 1e+00   misfit: 5.54129e+00\n",
      "it: 64   it_marq:  0   lambda: 1e-01   misfit: 5.74841e+00\n",
      "it: 64   it_marq:  1   lambda: 1e+00   misfit: 5.53340e+00\n",
      "it: 65   it_marq:  0   lambda: 1e-01   misfit: 5.73704e+00\n",
      "it: 65   it_marq:  1   lambda: 1e+00   misfit: 5.52548e+00\n",
      "it: 66   it_marq:  0   lambda: 1e-01   misfit: 5.72572e+00\n",
      "it: 66   it_marq:  1   lambda: 1e+00   misfit: 5.51754e+00\n",
      "it: 67   it_marq:  0   lambda: 1e-01   misfit: 5.71446e+00\n",
      "it: 67   it_marq:  1   lambda: 1e+00   misfit: 5.50958e+00\n",
      "it: 68   it_marq:  0   lambda: 1e-01   misfit: 5.70325e+00\n",
      "it: 68   it_marq:  1   lambda: 1e+00   misfit: 5.50159e+00\n",
      "it: 69   it_marq:  0   lambda: 1e-01   misfit: 5.69210e+00\n",
      "it: 69   it_marq:  1   lambda: 1e+00   misfit: 5.49359e+00\n",
      "it: 70   it_marq:  0   lambda: 1e-01   misfit: 5.68101e+00\n",
      "it: 70   it_marq:  1   lambda: 1e+00   misfit: 5.48556e+00\n",
      "it: 71   it_marq:  0   lambda: 1e-01   misfit: 5.66997e+00\n",
      "it: 71   it_marq:  1   lambda: 1e+00   misfit: 5.47752e+00\n",
      "it: 72   it_marq:  0   lambda: 1e-01   misfit: 5.65898e+00\n",
      "it: 72   it_marq:  1   lambda: 1e+00   misfit: 5.46946e+00\n",
      "it: 73   it_marq:  0   lambda: 1e-01   misfit: 5.64804e+00\n",
      "it: 73   it_marq:  1   lambda: 1e+00   misfit: 5.46139e+00\n",
      "it: 74   it_marq:  0   lambda: 1e-01   misfit: 5.63715e+00\n",
      "it: 74   it_marq:  1   lambda: 1e+00   misfit: 5.45330e+00\n",
      "it: 75   it_marq:  0   lambda: 1e-01   misfit: 5.62631e+00\n",
      "it: 75   it_marq:  1   lambda: 1e+00   misfit: 5.44520e+00\n",
      "it: 76   it_marq:  0   lambda: 1e-01   misfit: 5.61552e+00\n",
      "it: 76   it_marq:  1   lambda: 1e+00   misfit: 5.43709e+00\n",
      "it: 77   it_marq:  0   lambda: 1e-01   misfit: 5.60479e+00\n",
      "it: 77   it_marq:  1   lambda: 1e+00   misfit: 5.42898e+00\n",
      "it: 78   it_marq:  0   lambda: 1e-01   misfit: 5.59410e+00\n",
      "it: 78   it_marq:  1   lambda: 1e+00   misfit: 5.42085e+00\n",
      "it: 79   it_marq:  0   lambda: 1e-01   misfit: 5.58345e+00\n",
      "it: 79   it_marq:  1   lambda: 1e+00   misfit: 5.41271e+00\n",
      "it: 80   it_marq:  0   lambda: 1e-01   misfit: 5.57286e+00\n",
      "it: 80   it_marq:  1   lambda: 1e+00   misfit: 5.40457e+00\n",
      "it: 81   it_marq:  0   lambda: 1e-01   misfit: 5.56231e+00\n",
      "it: 81   it_marq:  1   lambda: 1e+00   misfit: 5.39643e+00\n",
      "it: 82   it_marq:  0   lambda: 1e-01   misfit: 5.55181e+00\n",
      "it: 82   it_marq:  1   lambda: 1e+00   misfit: 5.38827e+00\n",
      "it: 83   it_marq:  0   lambda: 1e-01   misfit: 5.54135e+00\n",
      "it: 83   it_marq:  1   lambda: 1e+00   misfit: 5.38012e+00\n",
      "it: 84   it_marq:  0   lambda: 1e-01   misfit: 5.53095e+00\n",
      "it: 84   it_marq:  1   lambda: 1e+00   misfit: 5.37196e+00\n",
      "it: 85   it_marq:  0   lambda: 1e-01   misfit: 5.52058e+00\n",
      "it: 85   it_marq:  1   lambda: 1e+00   misfit: 5.36381e+00\n",
      "it: 86   it_marq:  0   lambda: 1e-01   misfit: 5.51027e+00\n",
      "it: 86   it_marq:  1   lambda: 1e+00   misfit: 5.35565e+00\n",
      "it: 87   it_marq:  0   lambda: 1e-01   misfit: 5.50000e+00\n",
      "it: 87   it_marq:  1   lambda: 1e+00   misfit: 5.34749e+00\n",
      "it: 88   it_marq:  0   lambda: 1e-01   misfit: 5.48977e+00\n",
      "it: 88   it_marq:  1   lambda: 1e+00   misfit: 5.33934e+00\n",
      "it: 89   it_marq:  0   lambda: 1e-01   misfit: 5.47959e+00\n",
      "it: 89   it_marq:  1   lambda: 1e+00   misfit: 5.33119e+00\n",
      "it: 90   it_marq:  0   lambda: 1e-01   misfit: 5.46945e+00\n",
      "it: 90   it_marq:  1   lambda: 1e+00   misfit: 5.32304e+00\n",
      "it: 91   it_marq:  0   lambda: 1e-01   misfit: 5.45936e+00\n",
      "it: 91   it_marq:  1   lambda: 1e+00   misfit: 5.31489e+00\n",
      "it: 92   it_marq:  0   lambda: 1e-01   misfit: 5.44932e+00\n",
      "it: 92   it_marq:  1   lambda: 1e+00   misfit: 5.30675e+00\n",
      "it: 93   it_marq:  0   lambda: 1e-01   misfit: 5.43931e+00\n",
      "it: 93   it_marq:  1   lambda: 1e+00   misfit: 5.29862e+00\n",
      "it: 94   it_marq:  0   lambda: 1e-01   misfit: 5.42936e+00\n",
      "it: 94   it_marq:  1   lambda: 1e+00   misfit: 5.29049e+00\n",
      "it: 95   it_marq:  0   lambda: 1e-01   misfit: 5.41944e+00\n",
      "it: 95   it_marq:  1   lambda: 1e+00   misfit: 5.28237e+00\n",
      "it: 96   it_marq:  0   lambda: 1e-01   misfit: 5.40957e+00\n",
      "it: 96   it_marq:  1   lambda: 1e+00   misfit: 5.27426e+00\n",
      "it: 97   it_marq:  0   lambda: 1e-01   misfit: 5.39975e+00\n",
      "it: 97   it_marq:  1   lambda: 1e+00   misfit: 5.26616e+00\n",
      "it: 98   it_marq:  0   lambda: 1e-01   misfit: 5.38997e+00\n",
      "it: 98   it_marq:  1   lambda: 1e+00   misfit: 5.25807e+00\n",
      "it: 99   it_marq:  0   lambda: 1e-01   misfit: 5.38023e+00\n",
      "it: 99   it_marq:  1   lambda: 1e+00   misfit: 5.24999e+00\n",
      "it: 100   it_marq:  0   lambda: 1e-01   misfit: 5.37053e+00\n",
      "it: 100   it_marq:  1   lambda: 1e+00   misfit: 5.24192e+00\n",
      "it: 101   it_marq:  0   lambda: 1e-01   misfit: 5.36088e+00\n",
      "it: 101   it_marq:  1   lambda: 1e+00   misfit: 5.23386e+00\n",
      "it: 102   it_marq:  0   lambda: 1e-01   misfit: 5.35127e+00\n",
      "it: 102   it_marq:  1   lambda: 1e+00   misfit: 5.22581e+00\n",
      "it: 103   it_marq:  0   lambda: 1e-01   misfit: 5.34171e+00\n",
      "it: 103   it_marq:  1   lambda: 1e+00   misfit: 5.21778e+00\n",
      "it: 104   it_marq:  0   lambda: 1e-01   misfit: 5.33219e+00\n",
      "it: 104   it_marq:  1   lambda: 1e+00   misfit: 5.20976e+00\n",
      "it: 105   it_marq:  0   lambda: 1e-01   misfit: 5.32271e+00\n",
      "it: 105   it_marq:  1   lambda: 1e+00   misfit: 5.20176e+00\n",
      "it: 106   it_marq:  0   lambda: 1e-01   misfit: 5.31328e+00\n",
      "it: 106   it_marq:  1   lambda: 1e+00   misfit: 5.19377e+00\n",
      "it: 107   it_marq:  0   lambda: 1e-01   misfit: 5.30388e+00\n",
      "it: 107   it_marq:  1   lambda: 1e+00   misfit: 5.18580e+00\n",
      "it: 108   it_marq:  0   lambda: 1e-01   misfit: 5.29454e+00\n",
      "it: 108   it_marq:  1   lambda: 1e+00   misfit: 5.17784e+00\n",
      "it: 109   it_marq:  0   lambda: 1e-01   misfit: 5.28523e+00\n",
      "it: 109   it_marq:  1   lambda: 1e+00   misfit: 5.16990e+00\n",
      "it: 110   it_marq:  0   lambda: 1e-01   misfit: 5.27597e+00\n",
      "it: 110   it_marq:  1   lambda: 1e+00   misfit: 5.16198e+00\n",
      "it: 111   it_marq:  0   lambda: 1e-01   misfit: 5.26675e+00\n",
      "it: 111   it_marq:  1   lambda: 1e+00   misfit: 5.15407e+00\n",
      "it: 112   it_marq:  0   lambda: 1e-01   misfit: 5.25757e+00\n",
      "it: 112   it_marq:  1   lambda: 1e+00   misfit: 5.14619e+00\n",
      "it: 113   it_marq:  0   lambda: 1e-01   misfit: 5.24844e+00\n",
      "it: 113   it_marq:  1   lambda: 1e+00   misfit: 5.13832e+00\n",
      "it: 114   it_marq:  0   lambda: 1e-01   misfit: 5.23935e+00\n",
      "it: 114   it_marq:  1   lambda: 1e+00   misfit: 5.13047e+00\n",
      "it: 115   it_marq:  0   lambda: 1e-01   misfit: 5.23030e+00\n",
      "it: 115   it_marq:  1   lambda: 1e+00   misfit: 5.12264e+00\n",
      "it: 116   it_marq:  0   lambda: 1e-01   misfit: 5.22129e+00\n",
      "it: 116   it_marq:  1   lambda: 1e+00   misfit: 5.11483e+00\n",
      "it: 117   it_marq:  0   lambda: 1e-01   misfit: 5.21233e+00\n",
      "it: 117   it_marq:  1   lambda: 1e+00   misfit: 5.10704e+00\n",
      "it: 118   it_marq:  0   lambda: 1e-01   misfit: 5.20341e+00\n",
      "it: 118   it_marq:  1   lambda: 1e+00   misfit: 5.09928e+00\n",
      "it: 119   it_marq:  0   lambda: 1e-01   misfit: 5.19453e+00\n",
      "it: 119   it_marq:  1   lambda: 1e+00   misfit: 5.09153e+00\n",
      "it: 120   it_marq:  0   lambda: 1e-01   misfit: 5.18569e+00\n",
      "it: 120   it_marq:  1   lambda: 1e+00   misfit: 5.08381e+00\n",
      "it: 121   it_marq:  0   lambda: 1e-01   misfit: 5.17690e+00\n",
      "it: 121   it_marq:  1   lambda: 1e+00   misfit: 5.07610e+00\n",
      "it: 122   it_marq:  0   lambda: 1e-01   misfit: 5.16814e+00\n",
      "it: 122   it_marq:  1   lambda: 1e+00   misfit: 5.06842e+00\n",
      "it: 123   it_marq:  0   lambda: 1e-01   misfit: 5.15943e+00\n",
      "it: 123   it_marq:  1   lambda: 1e+00   misfit: 5.06077e+00\n",
      "it: 124   it_marq:  0   lambda: 1e-01   misfit: 5.15077e+00\n",
      "it: 124   it_marq:  1   lambda: 1e+00   misfit: 5.05314e+00\n",
      "it: 125   it_marq:  0   lambda: 1e-01   misfit: 5.14214e+00\n",
      "it: 125   it_marq:  1   lambda: 1e+00   misfit: 5.04553e+00\n",
      "it: 126   it_marq:  0   lambda: 1e-01   misfit: 5.13355e+00\n",
      "it: 126   it_marq:  1   lambda: 1e+00   misfit: 5.03794e+00\n",
      "it: 127   it_marq:  0   lambda: 1e-01   misfit: 5.12501e+00\n",
      "it: 127   it_marq:  1   lambda: 1e+00   misfit: 5.03038e+00\n",
      "it: 128   it_marq:  0   lambda: 1e-01   misfit: 5.11651e+00\n",
      "it: 128   it_marq:  1   lambda: 1e+00   misfit: 5.02284e+00\n",
      "it: 129   it_marq:  0   lambda: 1e-01   misfit: 5.10805e+00\n",
      "it: 129   it_marq:  1   lambda: 1e+00   misfit: 5.01533e+00\n",
      "it: 130   it_marq:  0   lambda: 1e-01   misfit: 5.09963e+00\n",
      "it: 130   it_marq:  1   lambda: 1e+00   misfit: 5.00784e+00\n",
      "it: 131   it_marq:  0   lambda: 1e-01   misfit: 5.09126e+00\n",
      "it: 131   it_marq:  1   lambda: 1e+00   misfit: 5.00038e+00\n",
      "it: 132   it_marq:  0   lambda: 1e-01   misfit: 5.08292e+00\n",
      "it: 132   it_marq:  1   lambda: 1e+00   misfit: 4.99295e+00\n",
      "it: 133   it_marq:  0   lambda: 1e-01   misfit: 5.07463e+00\n",
      "it: 133   it_marq:  1   lambda: 1e+00   misfit: 4.98554e+00\n",
      "it: 134   it_marq:  0   lambda: 1e-01   misfit: 5.06638e+00\n",
      "it: 134   it_marq:  1   lambda: 1e+00   misfit: 4.97815e+00\n",
      "it: 135   it_marq:  0   lambda: 1e-01   misfit: 5.05817e+00\n",
      "it: 135   it_marq:  1   lambda: 1e+00   misfit: 4.97079e+00\n",
      "it: 136   it_marq:  0   lambda: 1e-01   misfit: 5.05000e+00\n",
      "it: 136   it_marq:  1   lambda: 1e+00   misfit: 4.96346e+00\n",
      "it: 137   it_marq:  0   lambda: 1e-01   misfit: 5.04187e+00\n",
      "it: 137   it_marq:  1   lambda: 1e+00   misfit: 4.95616e+00\n",
      "it: 138   it_marq:  0   lambda: 1e-01   misfit: 5.03378e+00\n",
      "it: 138   it_marq:  1   lambda: 1e+00   misfit: 4.94888e+00\n",
      "it: 139   it_marq:  0   lambda: 1e-01   misfit: 5.02573e+00\n",
      "it: 139   it_marq:  1   lambda: 1e+00   misfit: 4.94163e+00\n",
      "it: 140   it_marq:  0   lambda: 1e-01   misfit: 5.01773e+00\n",
      "it: 140   it_marq:  1   lambda: 1e+00   misfit: 4.93441e+00\n",
      "it: 141   it_marq:  0   lambda: 1e-01   misfit: 5.00976e+00\n",
      "it: 141   it_marq:  1   lambda: 1e+00   misfit: 4.92721e+00\n",
      "it: 142   it_marq:  0   lambda: 1e-01   misfit: 5.00184e+00\n",
      "it: 142   it_marq:  1   lambda: 1e+00   misfit: 4.92004e+00\n",
      "it: 143   it_marq:  0   lambda: 1e-01   misfit: 4.99395e+00\n",
      "it: 143   it_marq:  1   lambda: 1e+00   misfit: 4.91290e+00\n",
      "it: 144   it_marq:  0   lambda: 1e-01   misfit: 4.98611e+00\n",
      "it: 144   it_marq:  1   lambda: 1e+00   misfit: 4.90579e+00\n",
      "it: 145   it_marq:  0   lambda: 1e-01   misfit: 4.97830e+00\n",
      "it: 145   it_marq:  1   lambda: 1e+00   misfit: 4.89871e+00\n",
      "it: 146   it_marq:  0   lambda: 1e-01   misfit: 4.97054e+00\n",
      "it: 146   it_marq:  1   lambda: 1e+00   misfit: 4.89165e+00\n",
      "it: 147   it_marq:  0   lambda: 1e-01   misfit: 4.96281e+00\n",
      "it: 147   it_marq:  1   lambda: 1e+00   misfit: 4.88462e+00\n",
      "it: 148   it_marq:  0   lambda: 1e-01   misfit: 4.95513e+00\n",
      "it: 148   it_marq:  1   lambda: 1e+00   misfit: 4.87762e+00\n",
      "it: 149   it_marq:  0   lambda: 1e-01   misfit: 4.94748e+00\n",
      "it: 149   it_marq:  1   lambda: 1e+00   misfit: 4.87065e+00\n"
     ]
    }
   ],
   "source": [
    "d_fit, m_est, model_est, phi_list = mfun.levmarq_tf(\n",
    "    xp, yp, zp, m0, M, L, delta,\n",
    "    itmax, itmax_marq, lamb,\n",
    "    dlamb, tol, mmin, mmax,\n",
    "    m_out, dobs, inc, dec,\n",
    "    props, alpha, z0, dz\n",
    ")"
   ]
  },
  {
   "cell_type": "markdown",
   "metadata": {},
   "source": [
    "# Results"
   ]
  },
  {
   "cell_type": "code",
   "execution_count": 257,
   "metadata": {},
   "outputs": [],
   "source": [
    "kimberlite_inversion['data_fit'] = d_fit\n",
    "kimberlite_inversion['estimate'] = m_est\n",
    "kimberlite_inversion['prisms'] = model_est\n",
    "kimberlite_inversion['objective'] = phi_list\n",
    "kimberlite_inversion['residual'] = dobs - d_fit"
   ]
  },
  {
   "cell_type": "code",
   "execution_count": 258,
   "metadata": {},
   "outputs": [],
   "source": [
    "file_name = mypath+'/inversion.pickle'\n",
    "with open(file_name, 'w') as f:\n",
    "    pickle.dump(kimberlite_inversion, f)"
   ]
  },
  {
   "cell_type": "code",
   "execution_count": 259,
   "metadata": {},
   "outputs": [
    {
     "data": {
      "image/png": "[encoded data removed]",
      "text/plain": [
       "<matplotlib.figure.Figure at 0x8876518>"
      ]
     },
     "metadata": {
      "needs_background": "light"
     },
     "output_type": "display_data"
    }
   ],
   "source": [
    "plt.figure(figsize=(10,7))\n",
    "plt.title('Observed TFA', fontsize=20)\n",
    "plt.tricontourf(yp, xp, dobs - d_fit, 20, cmap='RdBu_r').ax.tick_params(labelsize=12)\n",
    "plt.xlabel('$y$(m)', fontsize=18)\n",
    "plt.ylabel('$x$(m)', fontsize=18)\n",
    "plt.xlim(np.min(grid['x']), np.max(grid['x']))\n",
    "plt.ylim(np.min(grid['y']), np.max(grid['y']))\n",
    "clb = plt.colorbar(pad=0.025, aspect=40, shrink=1)\n",
    "clb.ax.tick_params(labelsize=13)\n",
    "clb.ax.set_title('nT')\n",
    "plt.show()"
   ]
  },
  {
   "cell_type": "code",
   "execution_count": null,
   "metadata": {},
   "outputs": [],
   "source": []
  }
 ],
 "metadata": {
  "anaconda-cloud": {},
  "kernelspec": {
   "display_name": "Python 2",
   "language": "python",
   "name": "python2"
  },
  "language_info": {
   "codemirror_mode": {
    "name": "ipython",
    "version": 2
   },
   "file_extension": ".py",
   "mimetype": "text/x-python",
   "name": "python",
   "nbconvert_exporter": "python",
   "pygments_lexer": "ipython2",
   "version": "2.7.15"
  }
 },
 "nbformat": 4,
 "nbformat_minor": 2
}
