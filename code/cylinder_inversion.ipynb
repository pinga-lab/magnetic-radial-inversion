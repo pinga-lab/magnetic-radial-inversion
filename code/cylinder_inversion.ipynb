{
 "cells": [
  {
   "cell_type": "markdown",
   "metadata": {},
   "source": [
    "# Roteiro Levenberg-Marquadt"
   ]
  },
  {
   "cell_type": "markdown",
   "metadata": {},
   "source": [
    "Esse código é um protótipo de função para a implementação do algoritmo de Levenberg-Marquadt, o qual é utilizado para estimar parâmetros não-lineares. "
   ]
  },
  {
   "cell_type": "markdown",
   "metadata": {},
   "source": [
    "\\begin{equation}\n",
    "\\Gamma (\\textbf{m}) = \\Psi (\\textbf{m}) + \\sum\\limits^{6}_{j=1}\\alpha_{j}\\varphi_{j}(\\textbf{m})\n",
    "\\end{equation}"
   ]
  },
  {
   "cell_type": "code",
   "execution_count": 1,
   "metadata": {
    "collapsed": true
   },
   "outputs": [],
   "source": [
    "%load_ext line_profiler"
   ]
  },
  {
   "cell_type": "code",
   "execution_count": 2,
   "metadata": {
    "collapsed": false
   },
   "outputs": [
    {
     "name": "stderr",
     "output_type": "stream",
     "text": [
      "/home/vital/anaconda2/lib/python2.7/site-packages/fatiando/vis/mpl.py:76: UserWarning: This module will be removed in v0.6. We recommend the use of matplotlib.pyplot module directly. Some of the fatiando specific functions will remain.\n",
      "  \"specific functions will remain.\")\n",
      "/home/vital/anaconda2/lib/python2.7/site-packages/fatiando/vis/myv.py:51: UserWarning: This module will be removed in v0.7.\n",
      "  warnings.warn(\"This module will be removed in v0.7.\")\n"
     ]
    }
   ],
   "source": [
    "import numpy as np\n",
    "import matplotlib.pyplot as plt\n",
    "import numpy.testing as npt\n",
    "import cPickle as pickle\n",
    "\n",
    "from fatiando.gridder import regular\n",
    "from copy import deepcopy\n",
    "from __future__ import division\n",
    "from fatiando import mesher, gridder, utils\n",
    "from fatiando.gravmag import polyprism\n",
    "from fatiando.mesher import PolygonalPrism\n",
    "from fatiando.gravmag import prism\n",
    "from fatiando.mesher import Prism\n",
    "from fatiando.vis import mpl, myv\n",
    "from fatiando.constants import CM, T2NT\n",
    "from matplotlib import colors, ticker, cm\n",
    "from IPython.display import Image as img\n",
    "import mag_polyprism_functions as mfun\n",
    "import polyprism_tests as tests\n",
    "#% matplotlib inline"
   ]
  },
  {
   "cell_type": "markdown",
   "metadata": {},
   "source": [
    "# Entrada"
   ]
  },
  {
   "cell_type": "markdown",
   "metadata": {},
   "source": [
    "### Gerando os parâmetros verdadeiros"
   ]
  },
  {
   "cell_type": "code",
   "execution_count": 3,
   "metadata": {
    "collapsed": true
   },
   "outputs": [],
   "source": [
    "with open('../data/cylinder_model.pickle') as w:\n",
    "        cylinder_model = pickle.load(w)\n",
    "        "
   ]
  },
  {
   "cell_type": "markdown",
   "metadata": {},
   "source": [
    "### Pontos de observação"
   ]
  },
  {
   "cell_type": "code",
   "execution_count": 4,
   "metadata": {
    "collapsed": true
   },
   "outputs": [],
   "source": [
    "with open('../data/regular_grid.pickle') as w:\n",
    "        regular_grid = pickle.load(w)\n",
    "        "
   ]
  },
  {
   "cell_type": "markdown",
   "metadata": {},
   "source": [
    "# Gerando os dados preditos"
   ]
  },
  {
   "cell_type": "code",
   "execution_count": 5,
   "metadata": {
    "collapsed": true
   },
   "outputs": [],
   "source": [
    "with open('../data/cylinder_data.pickle') as w:\n",
    "        cylinder_data = pickle.load(w)"
   ]
  },
  {
   "cell_type": "raw",
   "metadata": {},
   "source": [
    "bounds = [-3000., 3000., -3000., 3000., -1000.0, 4000.]\n",
    "\n",
    "red, green, blue = (1, 0, 0), (0, 1, 0), (0, 0, 1)\n",
    "white, black = (1, 1, 1), (0, 0, 0),\n",
    "\n",
    "# Show the model\n",
    "scene = myv.figure()\n",
    "myv.polyprisms(cylinder_model['prisms'], 'magnetization', opacity=1., color=blue)\n",
    "#myv.polyprisms(model_est, 'magnetization', opacity=.5, color=red)\n",
    "\n",
    "ax = myv.axes(myv.outline(bounds), ranges=[i * 0.001 for i in bounds])\n",
    "ax.axes.x_label, ax.axes.y_label, ax.axes.z_label = 'x (cm)', 'y (cm)', 'z (cm)'\n",
    "ax.axes.font_factor = 1.5\n",
    "scene.scene.camera.position = [-0.089204656936016313, -0.066107174155361687, -0.04083578885723696]\n",
    "scene.scene.camera.focal_point = [1.1820671636724554e-16, 1.3134079596360617e-17, -1.9701119394540926e-17]\n",
    "scene.scene.camera.view_angle = 30.0\n",
    "scene.scene.camera.view_up = [0.24683390337942718, 0.24593292331329802, -0.93733132955911114]\n",
    "scene.scene.camera.clipping_range = [0.057117737884348194, 0.1956040854922288]\n",
    "scene.scene.camera.compute_view_plane_normal()\n",
    "\n",
    "myv.wall_bottom(ax.axes.bounds, opacity=0.2)\n",
    "myv.wall_north(ax.axes.bounds)\n",
    "\n",
    "myv.savefig('bolacha_verd.png')\n",
    "myv.show()\n",
    "img(filename='bolacha_verd.png')"
   ]
  },
  {
   "cell_type": "markdown",
   "metadata": {},
   "source": [
    "### Parâmetros exigidos durante a inversão"
   ]
  },
  {
   "cell_type": "code",
   "execution_count": 6,
   "metadata": {
    "collapsed": true
   },
   "outputs": [],
   "source": [
    "a1 = 0.1   # adjacent radial distances within each prism\n",
    "a2 = 0.1    # vertically adjacent radial distances\n",
    "a3 = 0.     # outcropping cross-section\n",
    "a4 = 0.     # outcropping origin\n",
    "a5 = 0.1   # vertically adjacent origins\n",
    "a6 = 0.00000001   # zero order Tikhonov on adjacent radial distances"
   ]
  },
  {
   "cell_type": "code",
   "execution_count": 7,
   "metadata": {
    "collapsed": true
   },
   "outputs": [],
   "source": [
    "M = 10 # number of vertices per prism\n",
    "L = 3 # number of prisms\n",
    "P = L*(M+2) # number of parameters\n",
    "dz = 100.\n",
    "\n",
    "# limits for parameters in meters\n",
    "rmin = 10.\n",
    "rmax = 900.\n",
    "x0min = -1000.\n",
    "x0max = 1000.\n",
    "y0min = -1000.\n",
    "y0max = 1000.\n",
    "\n",
    "mmin, mmax = mfun.build_range_param(M, L, rmin, rmax, x0min, x0max, y0min, y0max)\n",
    "\n",
    "itmax = 30\n",
    "itmax_marq = 10\n",
    "epsilon = 1.0e-9     # convergence criterion\n",
    "gamma = 1.0e-7\n",
    "\n",
    "delta = 1. # increment of derivatives\n",
    "m_out = np.zeros(M + 2)  # outcropping body parameters\n",
    "\n",
    "inc = cylinder_model['inc']\n",
    "dec = cylinder_model['dec']\n",
    "dobs = cylinder_data['data_noise']\n",
    "xp = regular_grid['xp']\n",
    "yp = regular_grid['yp']\n",
    "zp = regular_grid['zp']\n",
    "N = regular_grid['N']\n",
    "\n",
    "rin = np.linspace(800.,850.,M)\n",
    "rin = np.hstack((rin, np.zeros(2)))\n",
    "m0 = np.resize(rin, P) # inicial parameters vector\n",
    "model0 = mfun.param2polyprism(m0, M, L, cylinder_model['z0'], dz, cylinder_model['props']) # list of classes of prisms\n",
    "d0 = polyprism.tf(xp, yp, zp, model0, inc, dec) # predict data\n",
    "res = dobs - d0"
   ]
  },
  {
   "cell_type": "code",
   "execution_count": 8,
   "metadata": {
    "collapsed": false
   },
   "outputs": [
    {
     "data": {
      "image/png": "[encoded data removed]",
      "text/plain": [
       "<matplotlib.figure.Figure at 0x7f785eda5690>"
      ]
     },
     "metadata": {},
     "output_type": "display_data"
    }
   ],
   "source": [
    "plt.title(\"Observed data (nT)\", fontsize = 18)\n",
    "plt.axis('scaled')\n",
    "nlevels = mpl.contourf(regular_grid['yp'], regular_grid['xp'], cylinder_data['data_noise'],\\\n",
    "                       regular_grid['shape'], 15, cmap='RdBu_r')\n",
    "plt.xlabel('East y (km)')\n",
    "plt.ylabel('North x (km)')\n",
    "plt.colorbar(pad=0.01, aspect=20, shrink=1.).set_label('nT')\n",
    "for p in cylinder_model['prisms']:\n",
    "    mpl.polygon(p, '.-b', xy2ne=True)\n",
    "for p in model0:\n",
    "    mpl.polygon(p, '.-r', xy2ne=True)\n",
    "mpl.m2km()\n",
    "plt.savefig('observed_data.png', dpi=300)\n",
    "plt.show()"
   ]
  },
  {
   "cell_type": "code",
   "execution_count": 9,
   "metadata": {
    "collapsed": false
   },
   "outputs": [],
   "source": [
    "G = mfun.Jacobian_tf(xp, yp, zp, model0, M, L, delta, delta, delta, inc, dec)\n",
    "H = 2*np.dot(G.T, G)/N\n",
    "th = np.trace(H)/P"
   ]
  },
  {
   "cell_type": "code",
   "execution_count": 10,
   "metadata": {
    "collapsed": true
   },
   "outputs": [],
   "source": [
    "%lprun -f mfun.Jacobian_tf mfun.Jacobian_tf(xp, yp, zp, model0, M, L, delta, delta, delta, inc, dec)"
   ]
  },
  {
   "cell_type": "code",
   "execution_count": 11,
   "metadata": {
    "collapsed": false
   },
   "outputs": [
    {
     "name": "stdout",
     "output_type": "stream",
     "text": [
      "0.00551840381382\n"
     ]
    }
   ],
   "source": [
    "print th"
   ]
  },
  {
   "cell_type": "code",
   "execution_count": 12,
   "metadata": {
    "collapsed": true
   },
   "outputs": [],
   "source": [
    "#lamb = th*0.01 # Marquadt's parameter\n",
    "lamb = 1.*th\n",
    "dlamb = 10.      # step for Marquadt's parameter\n",
    "\n",
    "alpha1, alpha2, alpha3, alpha4, alpha5, alpha6 = mfun.norm_regul_param(M, L, th, m_out, a1, a2, a3, a4, a5, a6)\n",
    "#alpha1, alpha2, alpha3, alpha4, alpha5, alpha6 = mfun.norm_regul_param(M, L, 1., m_out, a1, a2, a3, a4, a5, a6)\n"
   ]
  },
  {
   "cell_type": "code",
   "execution_count": 13,
   "metadata": {
    "collapsed": false
   },
   "outputs": [
    {
     "name": "stdout",
     "output_type": "stream",
     "text": [
      "9.1973396897e-06\n",
      "1.37960095346e-05\n",
      "0.0\n",
      "0.0\n",
      "0.000137960095346\n",
      "1.83946793794e-12\n"
     ]
    }
   ],
   "source": [
    "print alpha1\n",
    "print alpha2\n",
    "print alpha3\n",
    "print alpha4\n",
    "print alpha5\n",
    "print alpha6"
   ]
  },
  {
   "cell_type": "code",
   "execution_count": 14,
   "metadata": {
    "collapsed": false
   },
   "outputs": [
    {
     "name": "stdout",
     "output_type": "stream",
     "text": [
      "  0 3.65900e+03   0 6e-03\n",
      "  1 2.53643e+03   0 6e-04\n"
     ]
    },
    {
     "name": "stderr",
     "output_type": "stream",
     "text": [
      "mag_polyprism_functions.py:1540: RuntimeWarning: overflow encountered in exp\n",
      "  m = mmin + (mmax - mmin)/(1. + np.exp(-mt))\n"
     ]
    },
    {
     "name": "stdout",
     "output_type": "stream",
     "text": [
      "  2 3.40214e+03   0 6e-05\n",
      "  2 3.39860e+03   1 6e-04\n",
      "  2 3.63272e+03   2 6e-03\n",
      "  2 2.97700e+03   3 6e-02\n",
      "  2 2.32085e+03   4 6e-01\n",
      "  3 2.49447e+03   0 6e-02\n",
      "  3 2.11541e+03   1 6e-01\n",
      "  4 2.46212e+03   0 6e-02\n",
      "  4 1.94210e+03   1 6e-01\n",
      "  5 1.58070e+03   0 6e-02\n",
      "  6 2.51092e+03   0 6e-03\n",
      "  6 1.22711e+03   1 6e-02\n",
      "  7 3.02606e+03   0 6e-03\n",
      "  7 1.94400e+03   1 6e-02\n",
      "  7 1.16490e+03   2 6e-01\n",
      "  8 4.84016e+03   0 6e-02\n",
      "  8 2.20952e+03   1 6e-01\n",
      "  8 9.00587e+02   2 6e+00\n",
      "  9 1.24908e+03   0 6e-01\n",
      "  9 8.01599e+02   1 6e+00\n",
      " 10 1.16999e+03   0 6e-01\n",
      " 10 7.67601e+02   1 6e+00\n",
      " 11 1.00312e+03   0 6e-01\n",
      " 11 7.44544e+02   1 6e+00\n",
      " 12 9.39214e+02   0 6e-01\n",
      " 12 7.27359e+02   1 6e+00\n",
      " 13 8.87809e+02   0 6e-01\n",
      " 13 7.13215e+02   1 6e+00\n",
      " 14 8.40471e+02   0 6e-01\n",
      " 14 7.01661e+02   1 6e+00\n",
      " 15 8.21425e+02   0 6e-01\n",
      " 15 6.91402e+02   1 6e+00\n",
      " 16 7.86877e+02   0 6e-01\n",
      " 16 6.83118e+02   1 6e+00\n",
      " 17 7.80847e+02   0 6e-01\n",
      " 17 6.75239e+02   1 6e+00\n",
      " 18 7.54745e+02   0 6e-01\n",
      " 18 6.69090e+02   1 6e+00\n",
      " 19 7.55223e+02   0 6e-01\n",
      " 19 6.62835e+02   1 6e+00\n",
      " 20 7.34902e+02   0 6e-01\n",
      " 20 6.58196e+02   1 6e+00\n",
      " 21 7.39157e+02   0 6e-01\n",
      " 21 6.53136e+02   1 6e+00\n",
      " 22 7.23095e+02   0 6e-01\n",
      " 22 6.49645e+02   1 6e+00\n",
      " 23 7.29853e+02   0 6e-01\n",
      " 23 6.45518e+02   1 6e+00\n",
      " 24 7.17175e+02   0 6e-01\n",
      " 24 6.42952e+02   1 6e+00\n",
      " 25 7.25830e+02   0 6e-01\n",
      " 25 6.39591e+02   1 6e+00\n",
      " 26 7.16038e+02   0 6e-01\n",
      " 26 6.37810e+02   1 6e+00\n",
      " 27 7.26319e+02   0 6e-01\n",
      " 27 6.35106e+02   1 6e+00\n",
      " 28 7.19140e+02   0 6e-01\n",
      " 28 6.34014e+02   1 6e+00\n",
      " 29 7.30950e+02   0 6e-01\n",
      " 29 6.31895e+02   1 6e+00\n"
     ]
    }
   ],
   "source": [
    "phi0 = np.sum(res*res)/N\n",
    "phi0 += mfun.phi_1(M, L, m0, alpha1) + mfun.phi_2(M, L, m0, alpha2) + \\\n",
    "        mfun.phi_3(M, L, m0, m_out, alpha3) + mfun.phi_4(M, L, m0, m_out[-2:], alpha4) + \\\n",
    "        mfun.phi_5(M, L, m0, alpha5) + mfun.phi_6(M, L, m0, alpha6)\n",
    "phi_list = [phi0]\n",
    "    \n",
    "i,j = np.diag_indices(P)\n",
    "for it in range(itmax):\n",
    "    #bounds = [-3000., 3000., -3000., 3000., -1000.0, 4000.]\n",
    "\n",
    "    #red, green, blue = (1, 0, 0), (0, 1, 0), (0, 0, 1)\n",
    "    #white, black = (1, 1, 1), (0, 0, 0),\n",
    "    #scene = myv.figure()\n",
    "    #myv.polyprisms(cylinder_model['prisms'], 'magnetization', color=blue, linewidth=1., style='wireframe', opacity=.3)\n",
    "    #myv.polyprisms(model0, 'magnetization', color=red, linewidth=3.5)\n",
    "\n",
    "    #ax = myv.axes(myv.outline(bounds), ranges=[t * 0.001 for t in bounds])\n",
    "    #ax.axes.x_label, ax.axes.y_label, ax.axes.z_label = 'x (cm)', 'y (cm)', 'z (cm)'\n",
    "    #ax.axes.font_factor = 1.5\n",
    "    #scene.scene.camera.position = [-0.089204656936016313, -0.066107174155361687, -0.04083578885723696]\n",
    "    #scene.scene.camera.focal_point = [1.1820671636724554e-16, 1.3134079596360617e-17, -1.9701119394540926e-17]\n",
    "    #scene.scene.camera.view_angle = 30.0\n",
    "    #scene.scene.camera.view_up = [0.24683390337942718, 0.24593292331329802, -0.93733132955911114]\n",
    "    #scene.scene.camera.clipping_range = [0.057117737884348194, 0.1956040854922288]\n",
    "    #scene.scene.camera.compute_view_plane_normal()\n",
    "\n",
    "    #myv.wall_bottom(ax.axes.bounds, opacity=0.2)\n",
    "    #myv.wall_north(ax.axes.bounds)\n",
    "        \n",
    "    #myv.savefig('bolacha'+`it`+'.png')\n",
    "    \n",
    "    mt = mfun.trans_parameter2(m0, M, L, mmax, mmin)\n",
    "        \n",
    "    # Jacobian matrix\n",
    "    G = mfun.Jacobian_tf(xp, yp, zp, model0, M, L, delta, delta, delta, inc, dec)\n",
    "    \n",
    "    # Hessian matrix\n",
    "    H = 2.*np.dot(G.T, G)/N\n",
    "\n",
    "    #prec = np.diagonal(H).copy()\n",
    "    #mask = prec < 1e-10\n",
    "    #prec[mask] = 1e-10\n",
    "    #H[:,j] /= prec    \n",
    "\n",
    "    H = mfun.Hessian_phi_1(M, L, H, alpha1)\n",
    "    H = mfun.Hessian_phi_2(M, L, H, alpha2)\n",
    "    H = mfun.Hessian_phi_3(M, L, H, alpha3)\n",
    "    H = mfun.Hessian_phi_4(M, L, H, alpha4)\n",
    "    H = mfun.Hessian_phi_5(M, L, H, alpha5)\n",
    "    H = mfun.Hessian_phi_6(M, L, H, alpha6)\n",
    "    \n",
    "    # gradient vector\n",
    "    grad = -2.*np.dot(G.T, res)/N\n",
    "\n",
    "    grad = mfun.gradient_phi_1(M, L, grad, alpha1)\n",
    "    grad = mfun.gradient_phi_2(M, L, grad, alpha2)\n",
    "    grad = mfun.gradient_phi_3(M, L, grad, m_out, alpha3)\n",
    "    grad = mfun.gradient_phi_4(M, L, grad, m_out[-2:], alpha4)\n",
    "    grad = mfun.gradient_phi_5(M, L, grad, alpha5)\n",
    "    grad = mfun.gradient_phi_6(M, L, grad, alpha6)\n",
    "    \n",
    "    # positivity matrix diagonal\n",
    "    T = ((mmax - m0 + 1e-10)*(m0 - mmin + 1e-10))/(mmax - mmin)*np.identity(P)\n",
    "    \n",
    "    for it_marq in range(itmax_marq): \n",
    "\n",
    "        #S = H.copy()\n",
    "        #S = H[:,:]\n",
    "        #S[i,:] *= T\n",
    "        #S[i,j] += lamb\n",
    "\n",
    "        delta_mt = np.linalg.solve(H*T + lamb*np.identity(P), -grad)\n",
    "        #print np.min(delta_mt)\n",
    "        \n",
    "        # criar teste pra esta função\n",
    "        m_est = mfun.trans_inv_parameter2(mt + delta_mt, M, L, mmax, mmin)\n",
    "        #m_est = m0 + delta_mt\n",
    "\n",
    "        model_est = mfun.param2polyprism(m_est, M, L, cylinder_model['z0'], dz, cylinder_model['props'])\n",
    "\n",
    "        d_fit = polyprism.tf(xp, yp, zp, model_est, inc, dec)\n",
    "        res = dobs - d_fit\n",
    "        phi = np.sum(res*res)/N\n",
    "        phi += mfun.phi_1(M, L, m_est, alpha1) + mfun.phi_2(M, L, m_est, alpha2) + \\\n",
    "                mfun.phi_3(M, L, m_est, m_out, alpha3) + mfun.phi_4(M, L, m_est, m_out[-2:], alpha4) + \\\n",
    "                mfun.phi_5(M, L, m_est, alpha5) + mfun.phi_6(M, L, m_est, alpha6)\n",
    "        dphi = phi - phi0\n",
    "        \n",
    "        print '%3d %.5e %3d %.e' % (it, phi, it_marq, lamb)\n",
    "        \n",
    "        if (dphi > 0.):\n",
    "            lamb *= dlamb\n",
    "        else:\n",
    "            if lamb/dlamb < 1e-15:\n",
    "                lamb = 1e-15\n",
    "            else:\n",
    "                lamb /= dlamb\n",
    "            break\n",
    "            \n",
    "    if (abs(dphi/phi0) < epsilon):\n",
    "        break\n",
    "    else:\n",
    "        d0 = d_fit\n",
    "        m0 = m_est\n",
    "        model0 = model_est\n",
    "        phi0 = phi\n",
    "        phi_list.append(phi0)"
   ]
  },
  {
   "cell_type": "code",
   "execution_count": 15,
   "metadata": {
    "collapsed": false
   },
   "outputs": [],
   "source": [
    "for i, (mv, mm) in enumerate(zip(m0,mmin)):\n",
    "    if mv<=mm:\n",
    "        print '%.15e,%.e' % (mv,i)"
   ]
  },
  {
   "cell_type": "raw",
   "metadata": {},
   "source": [
    "plt.figure(figsize=(15,10))\n",
    "plt.subplot(1,3,1)\n",
    "plt.title(\"Fitted data (nT)\", fontsize = 18)\n",
    "plt.axis('scaled')\n",
    "nlevels = mpl.contourf(yp, xp, d0,regular_grid['shape'], 15, cmap='RdBu_r')\n",
    "plt.xlabel('East y (km)')\n",
    "plt.ylabel('North x (km)')\n",
    "plt.colorbar(pad=0.01, aspect=20, shrink=0.4).set_label('nT')\n",
    "mpl.m2km()\n",
    "plt.savefig('predicted_data.png')\n",
    "plt.show()"
   ]
  },
  {
   "cell_type": "code",
   "execution_count": 16,
   "metadata": {
    "collapsed": false
   },
   "outputs": [
    {
     "name": "stdout",
     "output_type": "stream",
     "text": [
      "[-0.02962302 -0.00989745  0.01698695  0.0418869   0.03348116  0.01667309\n",
      "  0.01213539 -0.02842757 -0.02102547 -0.0488164  -0.04251893  0.03789478\n",
      " -0.02155889 -0.010233    0.00056899  0.02291942  0.04019236  0.01161606\n",
      " -0.0436325  -0.02603431  0.01293387  0.02407471 -0.01092519  0.03399919\n",
      "  0.00027359 -0.0019477  -0.00020781  0.00949007  0.01511138 -0.0046739\n",
      "  0.00906893  0.00226672  0.00512156  0.01627394 -0.01746973  0.01299472]\n"
     ]
    }
   ],
   "source": [
    "print delta_mt"
   ]
  },
  {
   "cell_type": "code",
   "execution_count": 17,
   "metadata": {
    "collapsed": true
   },
   "outputs": [],
   "source": [
    "res_norm = (res - np.mean(res))/np.std(res)"
   ]
  },
  {
   "cell_type": "code",
   "execution_count": 18,
   "metadata": {
    "collapsed": false
   },
   "outputs": [
    {
     "data": {
      "text/plain": [
       "(1.7763568394002505e-17, 0.99999999999999978)"
      ]
     },
     "execution_count": 18,
     "metadata": {},
     "output_type": "execute_result"
    }
   ],
   "source": [
    "np.mean(res_norm), np.std(res_norm)"
   ]
  },
  {
   "cell_type": "code",
   "execution_count": 19,
   "metadata": {
    "collapsed": false
   },
   "outputs": [
    {
     "data": {
      "image/png": "[encoded data removed]",
      "text/plain": [
       "<matplotlib.figure.Figure at 0x7f78781e16d0>"
      ]
     },
     "metadata": {},
     "output_type": "display_data"
    }
   ],
   "source": [
    "#ddif = dobs - d0\n",
    "plt.figure(figsize=(15,5))\n",
    "plt.subplot(1,2,1)\n",
    "plt.title(\"Residual data (nT)\", fontsize = 18)\n",
    "plt.axis('scaled')\n",
    "nlevels = mpl.contourf(yp, xp, res_norm,regular_grid['shape'], 15, cmap='RdBu_r')\n",
    "plt.xlabel('East y (km)')\n",
    "plt.ylabel('North x (km)')\n",
    "plt.colorbar(pad=0.01, aspect=20, shrink=0.99).set_label('nT')\n",
    "for p in cylinder_model['prisms']:\n",
    "    mpl.polygon(p, '.-b', xy2ne=True)\n",
    "for p in model_est:\n",
    "    mpl.polygon(p, '.-r', xy2ne=True)\n",
    "mpl.m2km()\n",
    "#plt.savefig('residual_data.png', dpi=300)\n",
    "plt.subplot(1,2,2)\n",
    "#plt.axis('auto')\n",
    "plt.title('Histogram', fontsize = 18)\n",
    "plt.xlabel('$\\mu$ = %.7f  $\\sigma$ = %.7f' % (np.mean(res_norm), np.std(res_norm)), fontsize=20)\n",
    "nbins = int((np.max(res_norm) - np.min(res_norm)))\n",
    "plt.hist(res_norm,bins=nbins, normed=True)\n",
    "plt.ylim(0.,0.5)\n",
    "plt.xlim(-10., 10.)\n",
    "plt.savefig('fit_hist_cylinder.png', dpi=300)\n",
    "plt.show()"
   ]
  },
  {
   "cell_type": "code",
   "execution_count": null,
   "metadata": {
    "collapsed": true
   },
   "outputs": [],
   "source": []
  },
  {
   "cell_type": "code",
   "execution_count": null,
   "metadata": {
    "collapsed": false
   },
   "outputs": [
    {
     "data": {
      "image/png": "[encoded data removed]",
      "text/plain": [
       "<matplotlib.figure.Figure at 0x7f785f293790>"
      ]
     },
     "metadata": {},
     "output_type": "display_data"
    }
   ],
   "source": [
    "plt.title('Convergence', fontsize = 18)\n",
    "plt.xlabel('Iteration number')\n",
    "plt.ylabel('Phi value')\n",
    "plt.plot(phi_list)\n",
    "plt.savefig('convergence_cylinder.png', dpi=300)\n",
    "plt.show()"
   ]
  },
  {
   "cell_type": "code",
   "execution_count": null,
   "metadata": {
    "collapsed": false
   },
   "outputs": [],
   "source": [
    "bounds = [-800., 800., -800., 800., -100., 600.]\n",
    "\n",
    "red, green, blue = (1, 0, 0), (0, 1, 0), (0, 0, 1)\n",
    "white, black = (1, 1, 1), (0, 0, 0),\n",
    "\n",
    "# Show the model\n",
    "scene = myv.figure()\n",
    "myv.polyprisms(cylinder_model['prisms'], 'magnetization', color=blue, linewidth=1., opacity=.5)\n",
    "myv.polyprisms(model_est, 'magnetization', color=red, linewidth=1.)\n",
    "\n",
    "ax = myv.axes(myv.outline(bounds), ranges=[i * 0.001 for i in bounds])\n",
    "ax.axes.x_label, ax.axes.y_label, ax.axes.z_label = 'x (m)', 'y (m)', 'z (m)'\n",
    "ax.axes.font_factor = 1.5\n",
    "scene.scene.camera.position = [-0.089204656936016313, -0.066107174155361687, -0.04083578885723696]\n",
    "scene.scene.camera.focal_point = [1.1820671636724554e-16, 1.3134079596360617e-17, -1.9701119394540926e-17]\n",
    "scene.scene.camera.view_angle = 30.0\n",
    "scene.scene.camera.view_up = [0.24683390337942718, 0.24593292331329802, -0.93733132955911114]\n",
    "scene.scene.camera.clipping_range = [0.057117737884348194, 0.1956040854922288]\n",
    "scene.scene.camera.compute_view_plane_normal()\n",
    "\n",
    "myv.wall_bottom(ax.axes.bounds, opacity=0.2)\n",
    "myv.wall_north(ax.axes.bounds)\n",
    "myv.savefig('bolacha_cylinder.png')\n",
    "myv.show()\n",
    "\n",
    "img(filename='bolacha_cylinder.png')"
   ]
  },
  {
   "cell_type": "code",
   "execution_count": null,
   "metadata": {
    "collapsed": true
   },
   "outputs": [],
   "source": [
    "# limits for parameters in meters\n",
    "rmin = 10.\n",
    "rmax = 6000.\n",
    "x0min = -5000.\n",
    "x0max = 5000.\n",
    "y0min = -5000.\n",
    "y0max = 5000.\n",
    "\n",
    "mmin, mmax = mfun.build_range_param(M, L, rmin, rmax, x0min, x0max, y0min, y0max)"
   ]
  },
  {
   "cell_type": "code",
   "execution_count": null,
   "metadata": {
    "collapsed": true
   },
   "outputs": [],
   "source": [
    "print alpha6"
   ]
  },
  {
   "cell_type": "code",
   "execution_count": null,
   "metadata": {
    "collapsed": true
   },
   "outputs": [],
   "source": [
    "p = np.linspace(-5000., 5000.,P)\n",
    "pt = - np.log((x0max - p)/(p - x0min))"
   ]
  },
  {
   "cell_type": "code",
   "execution_count": null,
   "metadata": {
    "collapsed": true
   },
   "outputs": [],
   "source": [
    "print pt"
   ]
  },
  {
   "cell_type": "code",
   "execution_count": null,
   "metadata": {
    "collapsed": true
   },
   "outputs": [],
   "source": [
    "pi = x0min + (x0max - x0min)/(1+np.exp(-pt))"
   ]
  },
  {
   "cell_type": "code",
   "execution_count": null,
   "metadata": {
    "collapsed": false
   },
   "outputs": [],
   "source": [
    "plt.title('Barreira Logaritmica', fontsize = 18)\n",
    "plt.xlabel('Parametro', fontsize = 18)\n",
    "plt.ylabel('f(m)', fontsize = 18)\n",
    "plt.plot(pi,pt)\n",
    "plt.plot(np.zeros(P)+5000., pt, 'r--')\n",
    "plt.plot(np.zeros(P)-5000., pt, 'r--')\n",
    "plt.savefig('bar_t.png', dpi=300)\n",
    "plt.show()"
   ]
  },
  {
   "cell_type": "code",
   "execution_count": null,
   "metadata": {
    "collapsed": true
   },
   "outputs": [],
   "source": [
    "print pi"
   ]
  },
  {
   "cell_type": "code",
   "execution_count": null,
   "metadata": {
    "collapsed": false
   },
   "outputs": [],
   "source": [
    "plt.title('Barreira Logaritmica', fontsize = 18)\n",
    "plt.xlabel('Parametro transformado', fontsize=18)\n",
    "plt.ylabel('f(m) inv', fontsize=18)\n",
    "plt.plot(pt,p)\n",
    "plt.plot(pt, np.zeros(P)+5000., 'r--')\n",
    "plt.plot(pt, np.zeros(P)-5000., 'r--')\n",
    "plt.savefig('bar_ti.png', dpi=300)\n",
    "plt.show()"
   ]
  },
  {
   "cell_type": "code",
   "execution_count": null,
   "metadata": {
    "collapsed": false
   },
   "outputs": [],
   "source": [
    "c = mfun.Hessian_phi_6(3, 2, np.zeros((10,10)), 1.)"
   ]
  },
  {
   "cell_type": "code",
   "execution_count": null,
   "metadata": {
    "collapsed": false
   },
   "outputs": [],
   "source": [
    "c = np.dot(c,c)"
   ]
  },
  {
   "cell_type": "code",
   "execution_count": null,
   "metadata": {
    "collapsed": false
   },
   "outputs": [],
   "source": [
    "np.dot(c, np.ones(10))"
   ]
  },
  {
   "cell_type": "code",
   "execution_count": null,
   "metadata": {
    "collapsed": true
   },
   "outputs": [],
   "source": [
    "m = np.ones(15)"
   ]
  },
  {
   "cell_type": "code",
   "execution_count": null,
   "metadata": {
    "collapsed": false
   },
   "outputs": [],
   "source": [
    "P = 3*(3 + 2)\n",
    "\n",
    "m6 = m.copy()\n",
    "\n",
    "# extracting the non-zero diagonals\n",
    "d0 = mfun.diags_phi_6(3, 3, .5)\n",
    "\n",
    "# calculating the product between the diagonals and the slices of m\n",
    "m6 = m*d0\n",
    "print m6, m\n",
    "phi_6 = np.dot(m6, m)\n",
    "print phi_6"
   ]
  },
  {
   "cell_type": "markdown",
   "metadata": {},
   "source": [
    "# Algoritmo Levenberg-Marquadt"
   ]
  },
  {
   "cell_type": "markdown",
   "metadata": {},
   "source": [
    "1- Iteração $k=0$: chute inicial $\\mathbf{m}_0$ em que todos os elementos satisfaçam os vínculos de desigualdade e um valor real positivo grande para $\\lambda$"
   ]
  },
  {
   "cell_type": "markdown",
   "metadata": {},
   "source": [
    "2) Calcula os parâmetros transformados $\\breve{\\mathbf{m}}_k$"
   ]
  },
  {
   "cell_type": "markdown",
   "metadata": {},
   "source": [
    "Os parâmetros transformados são calculados a partir da equação:\n",
    "\n",
    "\\begin{equation}\n",
    "\\breve{m}_i = f(m_i) = - \\ln\\left(\\frac{m_{i\\, max} - m_i}{m_i - m_{i\\, min}}\\right)\n",
    "\\end{equation}"
   ]
  },
  {
   "cell_type": "markdown",
   "metadata": {},
   "source": [
    "A transformação inversa dos parâmetros é dada pela equação:\n",
    "\n",
    "\\begin{equation}\n",
    "m_i = f^{-1}(\\breve{m}_i) = m_{i\\, min} + \\left(\\frac{m_{i\\, max} - m_{i\\, min}}{1 + e^{-\\breve{m}_i}}\\right)\n",
    "\\end{equation}"
   ]
  },
  {
   "cell_type": "markdown",
   "metadata": {},
   "source": [
    "3) laço externo: calcula $\\nabla^2\\Gamma (\\hat{\\mathbf{m}}_k)$, $\\nabla\\Gamma (\\hat{\\mathbf{m}}_k)$ e $T(\\hat{\\mathbf{m}}_k)$:"
   ]
  },
  {
   "cell_type": "markdown",
   "metadata": {},
   "source": [
    "a) laço interno: calcula $\\Delta \\breve{\\mathbf{m}}_k$ solucionando o sistema linear abaixo\n",
    "\n",
    "\\begin{equation}\n",
    "\\left[\\nabla^2\\Gamma (\\hat{\\mathbf{m}}_k)\\mathbf{T}(\\hat{\\mathbf{m}}_k) + \\lambda \\mathbf{I} \\right] \\Delta\\breve{\\mathbf{m}}_k \\approx - \\nabla \\Gamma (\\hat{\\mathbf{m}}_k)\n",
    "\\end{equation}\n",
    "\n",
    "onde $\\mathbf{T}(\\hat{\\mathbf{m}}_k)$ é uma matriz diagonal\n",
    "\\begin{equation}\n",
    "[\\mathbf{T}(\\hat{\\mathbf{m}}_k)]_{ii} = \\frac{(m_{i\\, max} - m_i)(m_i - m_{i\\, min})}{(m_{i\\, max} - m_{i\\, min})}\n",
    "\\end{equation}"
   ]
  },
  {
   "cell_type": "markdown",
   "metadata": {},
   "source": [
    "b) calcula $\\breve{\\mathbf{m}}_{k+1} = \\breve{\\mathbf{m}}_k + \\Delta\\breve{\\mathbf{m}}_k$"
   ]
  },
  {
   "cell_type": "markdown",
   "metadata": {},
   "source": [
    "c) computa $\\hat{\\mathbf{m}}_{k+1}$"
   ]
  },
  {
   "cell_type": "markdown",
   "metadata": {},
   "source": [
    "d) Enquanto $\\Gamma (\\hat{\\mathbf{m}}_{k+1})<\\Gamma (\\hat{\\mathbf{m}}_k)$ \n",
    "\n",
    "   i $\\lambda = \\lambda\\cdot d\\lambda$\n",
    "\n",
    "   ii retorne para 3)a)"
   ]
  },
  {
   "cell_type": "markdown",
   "metadata": {},
   "source": [
    "e) $\\lambda = \\lambda/d\\lambda$"
   ]
  },
  {
   "cell_type": "markdown",
   "metadata": {},
   "source": [
    "4) Enquanto $\\Gamma (\\hat{\\mathbf{m}}_{k+1})<\\Gamma (\\hat{\\mathbf{m}}_k)$ e $\\frac{|\\Gamma (\\hat{\\mathbf{m}}_{k+1})- \\Gamma (\\hat{\\mathbf{m}}_k)|}{|\\Gamma (\\hat{\\mathbf{m}}_k)|}>\\varepsilon$\n",
    "\n",
    "a) $k=k+1$\n",
    "\n",
    "b) Retorne para etapa 2)"
   ]
  }
 ],
 "metadata": {
  "anaconda-cloud": {},
  "kernelspec": {
   "display_name": "Python 2",
   "language": "python",
   "name": "python2"
  },
  "language_info": {
   "codemirror_mode": {
    "name": "ipython",
    "version": 2
   },
   "file_extension": ".py",
   "mimetype": "text/x-python",
   "name": "python",
   "nbconvert_exporter": "python",
   "pygments_lexer": "ipython2",
   "version": "2.7.13"
  }
 },
 "nbformat": 4,
 "nbformat_minor": 1
}
