{
 "cells": [
  {
   "cell_type": "markdown",
   "metadata": {},
   "source": [
    "# Synthetic model of a ten polygonal close to a kimberlite with magnetization"
   ]
  },
  {
   "cell_type": "code",
   "execution_count": 21,
   "metadata": {
    "collapsed": false
   },
   "outputs": [],
   "source": [
    "import numpy as np\n",
    "import matplotlib.pyplot as plt\n",
    "import cPickle as pickle\n",
    "\n",
    "from copy import deepcopy\n",
    "from fatiando import utils\n",
    "from fatiando.mesher import PolygonalPrism\n",
    "from fatiando.vis import mpl, myv\n",
    "from matplotlib import colors, ticker, cm\n",
    "from IPython.display import Image as img\n",
    "import mag_polyprism_functions as mfun"
   ]
  },
  {
   "cell_type": "code",
   "execution_count": 22,
   "metadata": {
    "collapsed": true
   },
   "outputs": [],
   "source": [
    "kimb_model = dict()"
   ]
  },
  {
   "cell_type": "code",
   "execution_count": 23,
   "metadata": {
    "collapsed": false
   },
   "outputs": [],
   "source": [
    "kimb_model['M'] = 20 # number of vertices per prism\n",
    "kimb_model['L'] = 8 # number of prisms\n",
    "kimb_model['P'] = kimb_model['L']*(kimb_model['M']+2) # number of parameters\n",
    "\n",
    "kimb_model['z0'] = 50.    # depth of the top the shallowest prism\n",
    "kimb_model['dz'] = 60.    # thickness of each prism\n",
    "\n",
    "kimb_model['inc'] = -12.  # inclination\n",
    "kimb_model['dec'] = -48.   # declination\n",
    "kimb_model['intensity'] = 0.5 # intensity\n",
    "\n",
    "kimb_model['props']={'magnetization': utils.ang2vec(\n",
    "    kimb_model['intensity'], kimb_model['inc'], kimb_model['dec'])} # physical property: magnetization\n",
    "\n",
    "r = np.zeros(kimb_model['M']) + 50. # radial distance for each vertice\n",
    "\n",
    "# Cartesian coordinates of the origin of each prism\n",
    "x0 = np.zeros(kimb_model['L']) \n",
    "y0 = np.zeros(kimb_model['L'])\n",
    "\n",
    "l = []   # list of parameters of the prisms\n",
    "\n",
    "for i in range(kimb_model['L']):\n",
    "    l.append([r*(9.-0.8*i), x0[i]+100., y0[i]+100., kimb_model['z0'] + kimb_model['dz']*i,\\\n",
    "              kimb_model['z0'] + kimb_model['dz']*(i + 1), kimb_model['props']])\n",
    "    \n",
    "kimb_model['prisms'] = mfun.pol2cart(l, kimb_model['M'], kimb_model['L'])\n",
    "kimb_model['param_vec'] = mfun.param_vec(l, kimb_model['M'], kimb_model['L'])"
   ]
  },
  {
   "cell_type": "code",
   "execution_count": 24,
   "metadata": {
    "collapsed": true
   },
   "outputs": [],
   "source": [
    "file_name = '../data/kimb_model.pickle'\n",
    "with open(file_name, 'w') as f:\n",
    "    pickle.dump(kimb_model, f)"
   ]
  },
  {
   "cell_type": "code",
   "execution_count": null,
   "metadata": {
    "collapsed": true
   },
   "outputs": [],
   "source": []
  }
 ],
 "metadata": {
  "kernelspec": {
   "display_name": "Python 2",
   "language": "python",
   "name": "python2"
  },
  "language_info": {
   "codemirror_mode": {
    "name": "ipython",
    "version": 2
   },
   "file_extension": ".py",
   "mimetype": "text/x-python",
   "name": "python",
   "nbconvert_exporter": "python",
   "pygments_lexer": "ipython2",
   "version": "2.7.13"
  }
 },
 "nbformat": 4,
 "nbformat_minor": 2
}
