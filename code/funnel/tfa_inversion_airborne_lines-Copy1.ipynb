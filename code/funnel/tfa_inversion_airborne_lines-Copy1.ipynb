{
 "cells": [
  {
   "cell_type": "markdown",
   "metadata": {},
   "source": [
    "# Funnel TFA inversion"
   ]
  },
  {
   "cell_type": "code",
   "execution_count": 1,
   "metadata": {},
   "outputs": [
    {
     "name": "stderr",
     "output_type": "stream",
     "text": [
      "C:\\Users\\bes064\\AppData\\Local\\Continuum\\anaconda2\\lib\\site-packages\\fatiando\\vis\\mpl.py:76: UserWarning: This module will be removed in v0.6. We recommend the use of matplotlib.pyplot module directly. Some of the fatiando specific functions will remain.\n",
      "  \"specific functions will remain.\")\n",
      "C:\\Users\\bes064\\AppData\\Local\\Continuum\\anaconda2\\lib\\site-packages\\fatiando\\vis\\myv.py:51: UserWarning: This module will be removed in v0.7.\n",
      "  warnings.warn(\"This module will be removed in v0.7.\")\n"
     ]
    }
   ],
   "source": [
    "import numpy as np\n",
    "import matplotlib.pyplot as plt\n",
    "import cPickle as pickle\n",
    "import os\n",
    "import pandas as pd\n",
    "\n",
    "from fatiando import utils\n",
    "from fatiando.gravmag import polyprism\n",
    "from fatiando.mesher import PolygonalPrism\n",
    "from fatiando.vis import mpl, myv\n",
    "from matplotlib import colors, ticker, cm\n",
    "from IPython.display import Image as img\n",
    "from matplotlib.mlab import normpdf"
   ]
  },
  {
   "cell_type": "markdown",
   "metadata": {},
   "source": [
    "### Auxiliary functions"
   ]
  },
  {
   "cell_type": "code",
   "execution_count": 2,
   "metadata": {
    "collapsed": true
   },
   "outputs": [],
   "source": [
    "import sys\n",
    "sys.path.insert(0, '../../code')\n",
    "\n",
    "import mag_polyprism_functions as mfun\n",
    "import mag_sphere_functions as msf"
   ]
  },
  {
   "cell_type": "markdown",
   "metadata": {},
   "source": [
    "# Input"
   ]
  },
  {
   "cell_type": "markdown",
   "metadata": {},
   "source": [
    "### Importing Diorama TFA data"
   ]
  },
  {
   "cell_type": "code",
   "execution_count": 3,
   "metadata": {},
   "outputs": [],
   "source": [
    "data = pd.read_csv('funnel_magmod.csv')"
   ]
  },
  {
   "cell_type": "code",
   "execution_count": 4,
   "metadata": {},
   "outputs": [],
   "source": [
    "data = data.iloc[range(0, data.shape[0], 4)]"
   ]
  },
  {
   "cell_type": "code",
   "execution_count": 6,
   "metadata": {},
   "outputs": [],
   "source": [
    "xp = data['Y'].get_values()\n",
    "yp = data['X'].get_values()\n",
    "zp = np.zeros(xp.size)\n",
    "dobs = data['Bm'].get_values()# + np.random.normal(loc=0., scale=0.01*np.max(data['mag_res'].get_values()), size=xp.size)"
   ]
  },
  {
   "cell_type": "markdown",
   "metadata": {},
   "source": [
    "### Parameters for inversion"
   ]
  },
  {
   "cell_type": "code",
   "execution_count": 7,
   "metadata": {},
   "outputs": [],
   "source": [
    "# output of inversion\n",
    "inversion = dict()"
   ]
  },
  {
   "cell_type": "code",
   "execution_count": 8,
   "metadata": {},
   "outputs": [],
   "source": [
    "inversion['xp'] = xp\n",
    "inversion['yp'] = yp\n",
    "inversion['zp'] = zp\n",
    "inversion['observed_data'] = dobs\n",
    "N = xp.size"
   ]
  },
  {
   "cell_type": "code",
   "execution_count": 9,
   "metadata": {},
   "outputs": [
    {
     "data": {
      "text/plain": [
       "2066"
      ]
     },
     "execution_count": 9,
     "metadata": {},
     "output_type": "execute_result"
    }
   ],
   "source": [
    "xp.size"
   ]
  },
  {
   "cell_type": "raw",
   "metadata": {},
   "source": [
    "Strength\n",
    "\n",
    "50139.64\n",
    "\n",
    "inc\n",
    "\n",
    "-58.7193\n",
    "\n",
    "dec\n",
    "\n",
    "2.735915\n",
    "\n",
    " "
   ]
  },
  {
   "cell_type": "code",
   "execution_count": 10,
   "metadata": {
    "collapsed": false
   },
   "outputs": [],
   "source": [
    "#initial estimate\n",
    "M = 15 # number of vertices per prism\n",
    "L = 4 # number of prisms\n",
    "P = L*(M+2) + 1 # number of parameters\n",
    "\n",
    "# main field\n",
    "inc = -10.\n",
    "dec = -20.\n",
    "\n",
    "# magnetization\n",
    "incs = inc\n",
    "decs = dec\n",
    "intensity = 0.88*(25000./1256.)\n",
    "props = {'magnetization': utils.ang2vec(\n",
    "        intensity, incs, decs)}\n",
    "\n",
    "# geometric parameters\n",
    "z0 = 5.9\n",
    "dz = 1.5\n",
    "r = 4.\n",
    "\n",
    "rin = np.zeros(M) + r\n",
    "m0 = np.hstack((rin, np.array([-55., 17.])))\n",
    "m0 = np.resize(m0, P - 1) # inicial parameters vector\n",
    "m0 = np.hstack((m0, dz))\n",
    "model0 = mfun.param2polyprism(m0, M, L, z0, props) # list of classes of prisms\n",
    "\n",
    "# predict data\n",
    "d0 = polyprism.tf(xp, yp, zp, model0, inc, dec)"
   ]
  },
  {
   "cell_type": "code",
   "execution_count": 11,
   "metadata": {},
   "outputs": [],
   "source": [
    "# limits for parameters in meters\n",
    "rmin = 1.\n",
    "rmax = 7.\n",
    "x0min = -65.\n",
    "x0max = -45.\n",
    "y0min = 10.\n",
    "y0max = 20.\n",
    "dzmin = 0.1\n",
    "dzmax = 2.\n",
    "\n",
    "mmin, mmax = mfun.build_range_param(M, L, rmin, rmax, x0min, x0max, y0min, y0max, dzmin, dzmax)"
   ]
  },
  {
   "cell_type": "code",
   "execution_count": 12,
   "metadata": {},
   "outputs": [],
   "source": [
    "# variation for derivatives\n",
    "deltax = abs(0.01*np.max(x0max))\n",
    "deltay = abs(0.01*np.max(y0max))\n",
    "deltar = abs(0.01*np.max(rmax))\n",
    "deltaz = abs(0.01*np.max(dzmax))\n",
    "delta = np.array([deltax, deltay, deltar, deltaz])"
   ]
  },
  {
   "cell_type": "code",
   "execution_count": 13,
   "metadata": {},
   "outputs": [],
   "source": [
    "m_out = np.zeros(M + 2)  # outcropping body parameters"
   ]
  },
  {
   "cell_type": "code",
   "execution_count": 14,
   "metadata": {},
   "outputs": [
    {
     "data": {
      "image/png": "[encoded data removed]",
      "text/plain": [
       "<matplotlib.figure.Figure at 0xa319a58>"
      ]
     },
     "metadata": {
      "needs_background": "light"
     },
     "output_type": "display_data"
    }
   ],
   "source": [
    "plt.figure(figsize=(10,7))\n",
    "plt.title('Observed TFA', fontsize=20)\n",
    "plt.tricontourf(yp, xp, dobs, 20, cmap='jet').ax.tick_params(labelsize=12)\n",
    "plt.xlabel('$y$(km)', fontsize=18)\n",
    "plt.ylabel('$x$(km)', fontsize=18)\n",
    "clb = plt.colorbar(pad=0.025, aspect=40, shrink=1)\n",
    "clb.ax.tick_params(labelsize=13)\n",
    "#source = mpl.polygon(kimberlite_model['prisms'][0], '.-k', xy2ne=True)\n",
    "estimate = mpl.polygon(model0[0], '.-r', xy2ne=True)\n",
    "#source.set_label('Outcropping polygon')\n",
    "estimate.set_label('Initial estimate')\n",
    "clb.ax.set_title('nT')\n",
    "#mpl.m2km()\n",
    "plt.legend(loc=0, fontsize=12, shadow=bool, framealpha=1)\n",
    "#plt.savefig(mypath+'diorama_tfa_pred_data_true_inital.png', dpi=300)\n",
    "plt.show()"
   ]
  },
  {
   "cell_type": "code",
   "execution_count": 15,
   "metadata": {},
   "outputs": [
    {
     "data": {
      "image/png": "[encoded data removed]",
      "text/plain": [
       "<matplotlib.figure.Figure at 0xa40c048>"
      ]
     },
     "metadata": {
      "needs_background": "light"
     },
     "output_type": "display_data"
    }
   ],
   "source": [
    "plt.figure(figsize=(10,7))\n",
    "plt.title('Predict TFA', fontsize=20)\n",
    "plt.tricontourf(yp, xp, d0, 20, cmap='jet').ax.tick_params(labelsize=12)\n",
    "plt.xlabel('$y$(km)', fontsize=18)\n",
    "plt.ylabel('$x$(km)', fontsize=18)\n",
    "clb = plt.colorbar(pad=0.025, aspect=40, shrink=1)\n",
    "clb.ax.tick_params(labelsize=13)\n",
    "#source = mpl.polygon(kimberlite_model['prisms'][0], '.-k', xy2ne=True)\n",
    "estimate = mpl.polygon(model0[0], '.-r', xy2ne=True)\n",
    "#source.set_label('Outcropping polygon')\n",
    "estimate.set_label('Initial estimate')\n",
    "clb.ax.set_title('nT')\n",
    "#mpl.m2km()\n",
    "plt.legend(loc=0, fontsize=12, shadow=bool, framealpha=1)\n",
    "#plt.savefig(mypath+'diorama_tfa_pred_data_true_inital.png', dpi=300)\n",
    "plt.show()\n",
    "\n",
    "#img(filename=mypath+'diorama_tfa_pred_data_true_inital.png', width=1000, height=1200)"
   ]
  },
  {
   "cell_type": "markdown",
   "metadata": {},
   "source": [
    "### Regularization parameters"
   ]
  },
  {
   "cell_type": "code",
   "execution_count": 33,
   "metadata": {
    "collapsed": true
   },
   "outputs": [],
   "source": [
    "#lamb = th*0.01 # Marquadt's parameter\n",
    "lamb = 1000.0\n",
    "dlamb = 10.      # step for Marquadt's parameter\n",
    "\n",
    "a1 = 0.001  # adjacent radial distances within each prism\n",
    "a2 = 0.001 # vertically adjacent radial distances\n",
    "a3 = 0.    # outcropping cross-section\n",
    "a4 = 0.     # outcropping origin\n",
    "a5 = 0.08    # vertically adjacent origins\n",
    "a6 = 0.00001   # zero order Tikhonov on adjacent radial distances\n",
    "a7 = 0.003     # zero order Tikhonov on thickness of each prism"
   ]
  },
  {
   "cell_type": "code",
   "execution_count": 34,
   "metadata": {},
   "outputs": [],
   "source": [
    "alpha = np.array([a1, a2, a3, a4, a5, a6, a7])"
   ]
  },
  {
   "cell_type": "code",
   "execution_count": 35,
   "metadata": {},
   "outputs": [],
   "source": [
    "itmax = 15\n",
    "itmax_marq = 10\n",
    "tol = 1.0e-5     # stop criterion"
   ]
  },
  {
   "cell_type": "markdown",
   "metadata": {},
   "source": [
    "### Inversion"
   ]
  },
  {
   "cell_type": "code",
   "execution_count": 36,
   "metadata": {},
   "outputs": [
    {
     "name": "stdout",
     "output_type": "stream",
     "text": [
      "it:  0   it_marq:  0   lambda: 1e+03   misfit: 1.49938e+03\n",
      "it:  1   it_marq:  0   lambda: 1e+02   misfit: 9.61983e+02\n",
      "it:  2   it_marq:  0   lambda: 1e+01   misfit: 1.79984e+02\n",
      "it:  3   it_marq:  0   lambda: 1e+00   misfit: 1.10815e+02\n",
      "it:  4   it_marq:  0   lambda: 1e-01   misfit: 5.10078e+02\n",
      "it:  4   it_marq:  1   lambda: 1e+00   misfit: 7.57777e+01\n",
      "it:  5   it_marq:  0   lambda: 1e-01   misfit: 1.11289e+03\n",
      "it:  5   it_marq:  1   lambda: 1e+00   misfit: 1.49547e+02\n",
      "it:  5   it_marq:  2   lambda: 1e+01   misfit: 7.66800e+01\n",
      "it:  5   it_marq:  3   lambda: 1e+02   misfit: 7.44095e+01\n",
      "it:  6   it_marq:  0   lambda: 1e+01   misfit: 7.59996e+01\n",
      "it:  6   it_marq:  1   lambda: 1e+02   misfit: 7.38904e+01\n",
      "it:  7   it_marq:  0   lambda: 1e+01   misfit: 7.55975e+01\n",
      "it:  7   it_marq:  1   lambda: 1e+02   misfit: 7.38520e+01\n",
      "it:  8   it_marq:  0   lambda: 1e+01   misfit: 7.55610e+01\n",
      "it:  8   it_marq:  1   lambda: 1e+02   misfit: 7.34358e+01\n",
      "it:  9   it_marq:  0   lambda: 1e+01   misfit: 7.54197e+01\n",
      "it:  9   it_marq:  1   lambda: 1e+02   misfit: 7.39367e+01\n",
      "it:  9   it_marq:  2   lambda: 1e+03   misfit: 7.60245e+01\n",
      "it:  9   it_marq:  3   lambda: 1e+04   misfit: 7.64093e+01\n",
      "it:  9   it_marq:  4   lambda: 1e+05   misfit: 7.64532e+01\n",
      "it:  9   it_marq:  5   lambda: 1e+06   misfit: 7.64576e+01\n",
      "it:  9   it_marq:  6   lambda: 1e+07   misfit: 7.64581e+01\n",
      "it:  9   it_marq:  7   lambda: 1e+08   misfit: 7.64581e+01\n",
      "it:  9   it_marq:  8   lambda: 1e+09   misfit: 7.62119e+01\n",
      "it:  9   it_marq:  9   lambda: 1e+10   misfit: 7.57436e+01\n",
      "it: 10   it_marq:  0   lambda: 1e+11   misfit: 7.89061e+01\n",
      "it: 10   it_marq:  1   lambda: 1e+12   misfit: 7.89061e+01\n",
      "it: 10   it_marq:  2   lambda: 1e+13   misfit: 7.89061e+01\n",
      "it: 10   it_marq:  3   lambda: 1e+14   misfit: 7.89061e+01\n",
      "it: 10   it_marq:  4   lambda: 1e+15   misfit: 7.89061e+01\n",
      "it: 10   it_marq:  5   lambda: 1e+16   misfit: 7.89061e+01\n",
      "it: 10   it_marq:  6   lambda: 1e+17   misfit: 7.89061e+01\n",
      "it: 10   it_marq:  7   lambda: 1e+18   misfit: 7.89061e+01\n",
      "it: 10   it_marq:  8   lambda: 1e+19   misfit: 7.89061e+01\n",
      "it: 10   it_marq:  9   lambda: 1e+20   misfit: 7.89061e+01\n",
      "it: 11   it_marq:  0   lambda: 1e+21   misfit: 8.26966e+01\n",
      "it: 11   it_marq:  1   lambda: 1e+22   misfit: 8.26966e+01\n",
      "it: 11   it_marq:  2   lambda: 1e+23   misfit: 8.26966e+01\n",
      "it: 11   it_marq:  3   lambda: 1e+24   misfit: 8.26966e+01\n",
      "it: 11   it_marq:  4   lambda: 1e+25   misfit: 8.26966e+01\n",
      "it: 11   it_marq:  5   lambda: 1e+26   misfit: 8.26966e+01\n",
      "it: 11   it_marq:  6   lambda: 1e+27   misfit: 8.26966e+01\n",
      "it: 11   it_marq:  7   lambda: 1e+28   misfit: 8.26966e+01\n",
      "it: 11   it_marq:  8   lambda: 1e+29   misfit: 8.26966e+01\n",
      "it: 11   it_marq:  9   lambda: 1e+30   misfit: 8.26966e+01\n",
      "it: 12   it_marq:  0   lambda: 1e+31   misfit: 8.71136e+01\n",
      "it: 12   it_marq:  1   lambda: 1e+32   misfit: 8.71136e+01\n",
      "it: 12   it_marq:  2   lambda: 1e+33   misfit: 8.71136e+01\n",
      "it: 12   it_marq:  3   lambda: 1e+34   misfit: 8.71136e+01\n",
      "it: 12   it_marq:  4   lambda: 1e+35   misfit: 8.71136e+01\n",
      "it: 12   it_marq:  5   lambda: 1e+36   misfit: 8.71136e+01\n",
      "it: 12   it_marq:  6   lambda: 1e+37   misfit: 8.71136e+01\n",
      "it: 12   it_marq:  7   lambda: 1e+38   misfit: 8.71136e+01\n",
      "it: 12   it_marq:  8   lambda: 1e+39   misfit: 8.71136e+01\n",
      "it: 12   it_marq:  9   lambda: 1e+40   misfit: 8.71136e+01\n",
      "it: 13   it_marq:  0   lambda: 1e+41   misfit: 9.21559e+01\n",
      "it: 13   it_marq:  1   lambda: 1e+42   misfit: 9.21559e+01\n",
      "it: 13   it_marq:  2   lambda: 1e+43   misfit: 9.21559e+01\n",
      "it: 13   it_marq:  3   lambda: 1e+44   misfit: 9.21559e+01\n",
      "it: 13   it_marq:  4   lambda: 1e+45   misfit: 9.21559e+01\n",
      "it: 13   it_marq:  5   lambda: 1e+46   misfit: 9.21559e+01\n",
      "it: 13   it_marq:  6   lambda: 1e+47   misfit: 9.21559e+01\n",
      "it: 13   it_marq:  7   lambda: 1e+48   misfit: 9.21559e+01\n",
      "it: 13   it_marq:  8   lambda: 1e+49   misfit: 9.21559e+01\n",
      "it: 13   it_marq:  9   lambda: 1e+50   misfit: 9.21559e+01\n",
      "it: 14   it_marq:  0   lambda: 1e+51   misfit: 9.78225e+01\n",
      "it: 14   it_marq:  1   lambda: 1e+52   misfit: 9.78225e+01\n",
      "it: 14   it_marq:  2   lambda: 1e+53   misfit: 9.78225e+01\n",
      "it: 14   it_marq:  3   lambda: 1e+54   misfit: 9.78225e+01\n",
      "it: 14   it_marq:  4   lambda: 1e+55   misfit: 9.78225e+01\n",
      "it: 14   it_marq:  5   lambda: 1e+56   misfit: 9.78225e+01\n",
      "it: 14   it_marq:  6   lambda: 1e+57   misfit: 9.78225e+01\n",
      "it: 14   it_marq:  7   lambda: 1e+58   misfit: 9.78225e+01\n",
      "it: 14   it_marq:  8   lambda: 1e+59   misfit: 9.78225e+01\n",
      "it: 14   it_marq:  9   lambda: 1e+60   misfit: 9.78225e+01\n"
     ]
    }
   ],
   "source": [
    "d_fit, m_est, model_est, phi_list = mfun.levmarq_tf(xp, yp, zp, m0, M, L, delta, itmax,\n",
    "                                                    itmax_marq, lamb, dlamb, tol,\n",
    "                                                    mmin, mmax, m_out, dobs, inc, dec,\n",
    "                                                    props, alpha, z0, dz)"
   ]
  },
  {
   "cell_type": "code",
   "execution_count": 37,
   "metadata": {},
   "outputs": [],
   "source": [
    "inversion['inc_dec'] = [incs, decs]\n",
    "inversion['z0'] = z0\n",
    "inversion['initial_dz'] = dz\n",
    "inversion['intial_r'] = r\n",
    "inversion['initial_estimate'] = model0\n",
    "inversion['initial_data'] = d0\n",
    "inversion['limits'] = [rmin, rmax, x0min, x0max, y0min, y0max, dzmin, dzmax]\n",
    "inversion['regularization'] = alpha\n",
    "inversion['tol'] = tol\n",
    "inversion['main_field'] = [inc, dec]"
   ]
  },
  {
   "cell_type": "code",
   "execution_count": 38,
   "metadata": {},
   "outputs": [],
   "source": [
    "inversion['data_fit'] = d_fit\n",
    "inversion['estimate'] = m_est\n",
    "inversion['prisms'] = model_est\n",
    "inversion['objective'] = phi_list\n",
    "inversion['residual'] = dobs - d_fit"
   ]
  },
  {
   "cell_type": "code",
   "execution_count": 39,
   "metadata": {},
   "outputs": [
    {
     "data": {
      "image/png": "[encoded data removed]",
      "text/plain": [
       "<matplotlib.figure.Figure at 0xc2e2358>"
      ]
     },
     "metadata": {
      "needs_background": "light"
     },
     "output_type": "display_data"
    }
   ],
   "source": [
    "plt.figure(figsize=(10,7))\n",
    "plt.title('Residual TFA', fontsize=20)\n",
    "plt.tricontourf(yp, xp, dobs - d_fit, 20, cmap='jet').ax.tick_params(labelsize=12)\n",
    "plt.xlabel('$y$(cm)', fontsize=18)\n",
    "plt.ylabel('$x$(cm)', fontsize=18)\n",
    "clb = plt.colorbar(pad=0.025, aspect=40, shrink=1)\n",
    "clb.ax.tick_params(labelsize=13)\n",
    "#source = mpl.polygon(kimberlite_model['prisms'][0], '.-k', xy2ne=True)\n",
    "estimate = mpl.polygon(model_est[0], '.-r', xy2ne=True)\n",
    "#source.set_label('Outcropping polygon')\n",
    "#estimate.set_label('Initial estimate')\n",
    "clb.ax.set_title('nT')\n",
    "#mpl.m2km()\n",
    "#plt.legend(loc=0, fontsize=12, shadow=bool, framealpha=1)\n",
    "#plt.savefig(mypath+'diorama_tfa_pred_data_true_inital.png', dpi=300)\n",
    "plt.show()"
   ]
  },
  {
   "cell_type": "code",
   "execution_count": 40,
   "metadata": {},
   "outputs": [
    {
     "data": {
      "text/plain": [
       "12.193516891246725"
      ]
     },
     "execution_count": 40,
     "metadata": {},
     "output_type": "execute_result"
    }
   ],
   "source": [
    "m_est[-1]*8"
   ]
  },
  {
   "cell_type": "code",
   "execution_count": 41,
   "metadata": {},
   "outputs": [],
   "source": [
    "bounds = [-60., -50.,12., 22.,  3., \n",
    "          15.]\n",
    "\n",
    "red, green, blue = (1, 0, 0), (0, 1, 0), (0, 0, 1)\n",
    "white, black = (1, 1, 1), (0, 0, 0),\n",
    "\n",
    "# Show the model\n",
    "scene = myv.figure()\n",
    "#myv.polyprisms(kimberlite_model['prisms'], 'magnetization', color=blue, linewidth=1., opacity=.5, edges=False)\n",
    "myv.polyprisms(inversion['prisms'], 'magnetization', color=red, linewidth=1.)\n",
    "\n",
    "\n",
    "ax = myv.axes(myv.outline(bounds), ranges=bounds)\n",
    "ax.axes.x_label, ax.axes.y_label, ax.axes.z_label = 'x (km)', 'y (km)', 'z (km)'\n",
    "ax.axes.font_factor = 1.5\n",
    "scene.scene.camera.position = [-0.089204656936016313, -0.066107174155361687, -0.04083578885723696]\n",
    "scene.scene.camera.focal_point = [1.1820671636724554e-16, 1.3134079596360617e-17, -1.9701119394540926e-17]\n",
    "scene.scene.camera.view_angle = 30.0\n",
    "scene.scene.camera.view_up = [0.24683390337942718, 0.24593292331329802, -0.93733132955911114]\n",
    "scene.scene.camera.clipping_range = [0.057117737884348194, 0.1956040854922288]\n",
    "scene.scene.camera.compute_view_plane_normal()\n",
    "\n",
    "myv.wall_bottom(ax.axes.bounds, opacity=0.2)\n",
    "myv.wall_north(ax.axes.bounds)\n",
    "#myv.title('bolacha', color=(0, 0, 0), size=1.3, height=0.5)\n",
    "#myv.savefig(mypath+'diorama_tfa_bolacha1.png')\n",
    "myv.show()\n",
    "\n",
    "#img(filename='figs/kimberlite_tfa_td_bolacha1.png')"
   ]
  },
  {
   "cell_type": "raw",
   "metadata": {},
   "source": [
    "mypath = 'tfa_inversion/direction_inc%d_dec%d/r%d_int%d_z0%d_dz%d' % (incs, decs, rin[0], np.linalg.norm(props['magnetization']), z0, dz)\n",
    "if not os.path.isdir(mypath):\n",
    "   os.makedirs(mypath)"
   ]
  },
  {
   "cell_type": "raw",
   "metadata": {},
   "source": [
    "mypath = 'diorama_tfa_inversion/upward_direction_inc%d_dec%d/diorama_tfa_r%d_int%d_z0%d_dz%d' % (incs, decs, rin[0], np.linalg.norm(props['magnetization']), z0, dz)\n",
    "if not os.path.isdir(mypath):\n",
    "   os.makedirs(mypath)"
   ]
  },
  {
   "cell_type": "raw",
   "metadata": {},
   "source": [
    "file_name = mypath+'/inversion.pickle'\n",
    "with open(file_name, 'w') as f:\n",
    "    pickle.dump(inversion, f)"
   ]
  },
  {
   "cell_type": "code",
   "execution_count": null,
   "metadata": {},
   "outputs": [],
   "source": []
  }
 ],
 "metadata": {
  "kernelspec": {
   "display_name": "Python 2",
   "language": "python",
   "name": "python2"
  },
  "language_info": {
   "codemirror_mode": {
    "name": "ipython",
    "version": 2
   },
   "file_extension": ".py",
   "mimetype": "text/x-python",
   "name": "python",
   "nbconvert_exporter": "python",
   "pygments_lexer": "ipython2",
   "version": "2.7.15"
  }
 },
 "nbformat": 4,
 "nbformat_minor": 2
}
