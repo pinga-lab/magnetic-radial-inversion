{
 "cells": [
  {
   "cell_type": "markdown",
   "metadata": {},
   "source": [
    "# Plot of simple model solutions"
   ]
  },
  {
   "cell_type": "markdown",
   "metadata": {},
   "source": [
    "This notebook plots the solution figure for a specific solution from the set of results of the multiple inversion notebook for the data produced by the simple model."
   ]
  },
  {
   "cell_type": "code",
   "execution_count": 42,
   "metadata": {},
   "outputs": [],
   "source": [
    "import matplotlib as mpb\n",
    "\n",
    "# show the figures in windows\n",
    "\n",
    "# show all the matplotlib backends \n",
    "mpb.rcsetup.all_backends \n",
    "\n",
    "# force matplotlib to use the 'Qt5Agg' backend \n",
    "mpb.use(arg='Qt5Agg', force=True)"
   ]
  },
  {
   "cell_type": "code",
   "execution_count": 43,
   "metadata": {},
   "outputs": [],
   "source": [
    "import cPickle as pickle\n",
    "import matplotlib.pyplot as plt\n",
    "# importing my functions\n",
    "import sys\n",
    "sys.path.insert(0, '../../code')\n",
    "\n",
    "import mag_polyprism_functions as mfun"
   ]
  },
  {
   "cell_type": "code",
   "execution_count": 44,
   "metadata": {},
   "outputs": [],
   "source": [
    "# importing the pickle file of results\n",
    "resultpath = 'l2-tfa-inversion/multiple-54476/'\n",
    "\n",
    "with open(resultpath+'inversion.pickle') as w:\n",
    "        inversion = pickle.load(w)\n",
    "\n",
    "# importing the true model\n",
    "with open('model.pickle') as w:\n",
    "        model = pickle.load(w)"
   ]
  },
  {
   "cell_type": "code",
   "execution_count": 45,
   "metadata": {},
   "outputs": [
    {
     "data": {
      "text/plain": [
       "array([3.35104211e-08, 4.18880264e-07, 0.00000000e+00, 0.00000000e+00,\n",
       "       4.18880264e-06, 6.70208422e-10, 6.70208422e-07])"
      ]
     },
     "execution_count": 45,
     "metadata": {},
     "output_type": "execute_result"
    }
   ],
   "source": [
    "inversion['regularization']"
   ]
  },
  {
   "cell_type": "code",
   "execution_count": 46,
   "metadata": {},
   "outputs": [],
   "source": [
    "# directory to save the figures and filename\n",
    "#filename = '../../manuscript/figures/simple_results.png'\n",
    "filename = ''"
   ]
  },
  {
   "cell_type": "markdown",
   "metadata": {},
   "source": [
    "# Results"
   ]
  },
  {
   "cell_type": "code",
   "execution_count": 50,
   "metadata": {},
   "outputs": [],
   "source": [
    "mfun.plot_solution(inversion['x'], inversion['y'],\n",
    "                            inversion['z'], inversion['results'][9][3],\n",
    "                            inversion['results'][9][2][20],\n",
    "                            inversion['results'][9][2][0], (13, 10), 1200,\n",
    "                            (0.5, 0.95), [0, 50, 10, -70, 0, 130], [-2.5,2.5,-2.5,2.5],\n",
    "                            model['prisms'], filename)"
   ]
  },
  {
   "cell_type": "markdown",
   "metadata": {},
   "source": [
    "Application to the simple model data. (a) residual data given by the difference between the noise-corrupted data and the predicted data (not shown) produced by the estimated model. The inset in (a) shows the histogram of the residuals and the Gaussian curve (dashed line) (dashed line) whose mean and standard deviation are, respectively, $\\mu = -0.04$ nT and $\\sigma=7.21$ nT. (b) perspective view of the initial approximate (red prisms) and the true model (blue prisms). (c) and (d) comparison between the estimated source (red prisms) and the true model (blue prisms) in perspective views."
   ]
  },
  {
   "cell_type": "code",
   "execution_count": 37,
   "metadata": {},
   "outputs": [],
   "source": [
    "plt.figure(figsize=(6,5))\n",
    "plt.title('Convergence', fontsize = 18)\n",
    "plt.xlabel('Iteration number')\n",
    "legend = ['misfit', 'phi1', 'phi2', 'phi3', 'phi4', 'phi5', 'phi6', 'phi7']\n",
    "# for f, l in zip(inversion['results'][9][1][1:], legend[1:]):\n",
    "#    plt.plot(f, '-', label=l)\n",
    "plt.plot(inversion['results'][9][1][0], 'b-', label='objective function')\n",
    "plt.legend(loc=0, fontsize=12, shadow=bool, framealpha=1)\n",
    "\n",
    "#plt.savefig('simple-constraints.png', dpi=300, bbox_inches=\"tight\")\n",
    "plt.savefig('simple-convergence.png', dpi=300, bbox_inches=\"tight\")\n",
    "plt.show()\n",
    "\n",
    "#img(filename=mypath+'complex_tfa_convergence.png', width=400, height=400)"
   ]
  },
  {
   "cell_type": "code",
   "execution_count": 48,
   "metadata": {},
   "outputs": [
    {
     "name": "stdout",
     "output_type": "stream",
     "text": [
      "0 46468.57694453092 109443.11069107104 0.5754088434520157\n",
      "1 8508.243468280589 46468.57694453092 0.8169032919076304\n",
      "2 607.9991898136672 8508.243468280589 0.9285399868867956\n",
      "3 408.6779355601608 607.9991898136672 0.3278314471349742\n",
      "4 287.30070443672196 408.6779355601608 0.296999716799174\n",
      "5 230.88931503759918 287.30070443672196 0.19634963829873728\n",
      "6 201.70743804640102 230.88931503759918 0.1263890318460429\n",
      "7 182.69009885398057 201.70743804640102 0.09428179434833572\n",
      "8 168.2672854916015 182.69009885398057 0.07894688027897362\n",
      "9 156.36551465388942 168.2672854916015 0.07073134152571879\n",
      "10 146.1070309812842 156.36551465388942 0.06560579354924954\n",
      "11 137.06903152341442 146.1070309812842 0.0618587579062332\n",
      "12 129.01423374504768 137.06903152341442 0.058764534109886156\n",
      "13 121.78611439660236 129.01423374504768 0.05602575110223275\n",
      "14 115.26783831139778 121.78611439660236 0.05352232573885637\n",
      "15 109.3660532181751 115.26783831139778 0.05120062265138455\n",
      "16 104.00388365677195 109.3660532181751 0.04902956085199601\n",
      "17 99.11719372840881 104.00388365677195 0.0469856485791428\n",
      "18 94.65209160086961 99.11719372840881 0.045048714149172046\n",
      "19 90.56303396094137 94.65209160086961 0.04320092214307364\n",
      "20 86.81132025994232 90.56303396094137 0.04142654609624841\n",
      "21 83.36388631968919 86.81132025994232 0.03971180175500564\n",
      "22 80.1923390372431 83.36388631968919 0.03804461886869851\n",
      "23 77.27218578869275 80.1923390372431 0.03641436680371881\n",
      "24 74.58222033595953 77.27218578869275 0.03481156156355088\n",
      "25 72.10403444482112 74.58222033595953 0.033227569251428696\n",
      "26 69.82163102308135 72.10403444482112 0.03165430948924809\n",
      "27 67.72112018669185 69.82163102308135 0.030083955439183668\n",
      "28 65.79048427295957 67.72112018669185 0.028508623431064736\n",
      "29 64.01940160888935 65.79048427295957 0.026920042976460508\n"
     ]
    }
   ],
   "source": [
    "phi = inversion['results'][9][1][0]\n",
    "dphi = []\n",
    "for i in range(len(phi)-1):\n",
    "    dphi.append(abs(phi[i+1]-phi[i])/phi[i])\n",
    "    print i, phi[i+1], phi[i], dphi[i]"
   ]
  },
  {
   "cell_type": "code",
   "execution_count": 6,
   "metadata": {},
   "outputs": [
    {
     "data": {
      "text/plain": [
       "306.08456092578706"
      ]
     },
     "execution_count": 6,
     "metadata": {},
     "output_type": "execute_result"
    }
   ],
   "source": [
    "inversion['results'][9][0][-1]"
   ]
  },
  {
   "cell_type": "code",
   "execution_count": null,
   "metadata": {},
   "outputs": [],
   "source": []
  }
 ],
 "metadata": {
  "kernelspec": {
   "display_name": "Python 2",
   "language": "python",
   "name": "python2"
  },
  "language_info": {
   "codemirror_mode": {
    "name": "ipython",
    "version": 2
   },
   "file_extension": ".py",
   "mimetype": "text/x-python",
   "name": "python",
   "nbconvert_exporter": "python",
   "pygments_lexer": "ipython2",
   "version": "2.7.16"
  }
 },
 "nbformat": 4,
 "nbformat_minor": 2
}
