{
 "cells": [
  {
   "cell_type": "markdown",
   "metadata": {},
   "source": [
    "# Funnel TFA inversion"
   ]
  },
  {
   "cell_type": "code",
   "execution_count": 25,
   "metadata": {},
   "outputs": [],
   "source": [
    "import numpy as np\n",
    "import matplotlib.pyplot as plt\n",
    "import cPickle as pickle\n",
    "import os\n",
    "import pandas as pd\n",
    "\n",
    "from fatiando import utils\n",
    "from fatiando.gravmag import polyprism\n",
    "from fatiando.mesher import PolygonalPrism\n",
    "from fatiando.vis import mpl, myv\n",
    "from matplotlib import colors, ticker, cm\n",
    "from IPython.display import Image as img\n",
    "from matplotlib.mlab import normpdf"
   ]
  },
  {
   "cell_type": "markdown",
   "metadata": {},
   "source": [
    "### Auxiliary functions"
   ]
  },
  {
   "cell_type": "code",
   "execution_count": 26,
   "metadata": {
    "collapsed": true
   },
   "outputs": [],
   "source": [
    "import sys\n",
    "sys.path.insert(0, '../../code')\n",
    "\n",
    "import mag_polyprism_functions as mfun\n",
    "import mag_sphere_functions as msf"
   ]
  },
  {
   "cell_type": "markdown",
   "metadata": {},
   "source": [
    "# Input"
   ]
  },
  {
   "cell_type": "markdown",
   "metadata": {},
   "source": [
    "### Importing Diorama TFA data"
   ]
  },
  {
   "cell_type": "code",
   "execution_count": 27,
   "metadata": {},
   "outputs": [],
   "source": [
    "data = pd.read_csv('newfunnel_TMI.csv')"
   ]
  },
  {
   "cell_type": "raw",
   "metadata": {},
   "source": [
    "mask = (data['EAST'] <= 30.) & (data['EAST'] >= 2.) & (data['NRTH'] <= -30.) & (data['NRTH'] >= -90.)"
   ]
  },
  {
   "cell_type": "code",
   "execution_count": 28,
   "metadata": {},
   "outputs": [],
   "source": [
    "#data = data[mask].set_index([pd.Index(range(0, data[mask].shape[0]))])\n",
    "data = data.iloc[range(0, data.shape[0], 2)]\n",
    "data = data.set_index([pd.Index(range(0, data.shape[0]))])\n",
    "data.EAST = data.EAST.astype(float)"
   ]
  },
  {
   "cell_type": "code",
   "execution_count": 29,
   "metadata": {},
   "outputs": [],
   "source": [
    "xp = data['NRTH'].get_values()\n",
    "yp = data['EAST'].get_values()\n",
    "zp = np.zeros(xp.size)\n",
    "dobs = data['res_TMI'].get_values()# + np.random.normal(loc=0., scale=0.01*np.max(data['mag_res'].get_values()), size=xp.size)"
   ]
  },
  {
   "cell_type": "markdown",
   "metadata": {},
   "source": [
    "### Parameters for inversion"
   ]
  },
  {
   "cell_type": "code",
   "execution_count": 30,
   "metadata": {},
   "outputs": [],
   "source": [
    "# output of inversion\n",
    "inversion = dict()"
   ]
  },
  {
   "cell_type": "code",
   "execution_count": 31,
   "metadata": {},
   "outputs": [
    {
     "data": {
      "text/plain": [
       "2682"
      ]
     },
     "execution_count": 31,
     "metadata": {},
     "output_type": "execute_result"
    }
   ],
   "source": [
    "inversion['xp'] = xp\n",
    "inversion['yp'] = yp\n",
    "inversion['zp'] = zp\n",
    "inversion['observed_data'] = dobs\n",
    "N = xp.size\n",
    "N"
   ]
  },
  {
   "cell_type": "raw",
   "metadata": {},
   "source": [
    "Strength\n",
    "\n",
    "50139.64\n",
    "\n",
    "inc\n",
    "\n",
    "-58.7193\n",
    "\n",
    "dec\n",
    "\n",
    "2.735915\n",
    "\n",
    " "
   ]
  },
  {
   "cell_type": "code",
   "execution_count": 32,
   "metadata": {},
   "outputs": [
    {
     "data": {
      "text/plain": [
       "array([ 4.,  4.,  4., ..., 38., 38., 38.])"
      ]
     },
     "execution_count": 32,
     "metadata": {},
     "output_type": "execute_result"
    }
   ],
   "source": [
    "yp"
   ]
  },
  {
   "cell_type": "code",
   "execution_count": 33,
   "metadata": {
    "collapsed": false
   },
   "outputs": [],
   "source": [
    "#initial estimate\n",
    "M = 20 # number of vertices per prism\n",
    "L = 8 # number of prisms\n",
    "P = L*(M+2) + 1 # number of parameters\n",
    "\n",
    "# main field\n",
    "inc = -58.7193\n",
    "dec = 2.735915\n",
    "\n",
    "# magnetization\n",
    "incs = inc\n",
    "decs = dec\n",
    "#intensity = .199*(50000./1256.)\n",
    "intensity = 9.083\n",
    "props = {'magnetization': utils.ang2vec(\n",
    "        intensity, incs, decs)}\n",
    "\n",
    "# geometric parameters\n",
    "z0 = 5.8\n",
    "dz = .6\n",
    "r = 7.\n",
    "\n",
    "rin = np.zeros(M) + r\n",
    "m0 = np.hstack((rin, np.array([-58., 18.])))\n",
    "#for i in range(L-1):\n",
    "#    m0 = np.hstack((m0, rin - (i+1)*0.9, np.array([-58., 18.])))\n",
    "m0 = np.resize(m0, P - 1) # inicial parameters vector\n",
    "m0 = np.hstack((m0, dz))\n",
    "model0 = mfun.param2polyprism(m0, M, L, z0, props) # list of classes of prisms\n",
    "\n",
    "# predict data\n",
    "d0 = polyprism.tf(xp, yp, zp, model0, inc, dec)"
   ]
  },
  {
   "cell_type": "code",
   "execution_count": 34,
   "metadata": {},
   "outputs": [
    {
     "data": {
      "text/plain": [
       "array([-11.98903344, -12.44609703, -12.92391423, ...,   2.90174095,\n",
       "         2.83841672,   2.77464635])"
      ]
     },
     "execution_count": 34,
     "metadata": {},
     "output_type": "execute_result"
    }
   ],
   "source": [
    "d0"
   ]
  },
  {
   "cell_type": "code",
   "execution_count": 35,
   "metadata": {},
   "outputs": [],
   "source": [
    "# limits for parameters in meters\n",
    "rmin = .1\n",
    "rmax = 10.\n",
    "x0min = -80.\n",
    "x0max = -35.\n",
    "y0min = 10.\n",
    "y0max = 25.\n",
    "dzmin = 0.1\n",
    "dzmax = 5.\n",
    "\n",
    "mmin, mmax = mfun.build_range_param(M, L, rmin, rmax, x0min, x0max, y0min, y0max, dzmin, dzmax)"
   ]
  },
  {
   "cell_type": "code",
   "execution_count": 36,
   "metadata": {},
   "outputs": [],
   "source": [
    "# variation for derivatives\n",
    "deltax = abs(0.01*np.max(x0max))\n",
    "deltay = abs(0.01*np.max(y0max))\n",
    "deltar = abs(0.01*np.max(rmax))\n",
    "deltaz = abs(0.01*np.max(dzmax))\n",
    "delta = np.array([deltax, deltay, deltar, deltaz])"
   ]
  },
  {
   "cell_type": "code",
   "execution_count": 37,
   "metadata": {},
   "outputs": [],
   "source": [
    "m_out = np.zeros(M + 2)  # outcropping body parameters"
   ]
  },
  {
   "cell_type": "code",
   "execution_count": 38,
   "metadata": {},
   "outputs": [
    {
     "data": {
      "image/png": "[encoded data removed]",
      "text/plain": [
       "<Figure size 720x504 with 2 Axes>"
      ]
     },
     "metadata": {
      "needs_background": "light"
     },
     "output_type": "display_data"
    }
   ],
   "source": [
    "plt.figure(figsize=(10,7))\n",
    "plt.title('Observed TFA', fontsize=20)\n",
    "plt.tricontourf(yp, xp, dobs, 20, cmap='jet').ax.tick_params(labelsize=12)\n",
    "plt.xlabel('$y$(km)', fontsize=18)\n",
    "plt.ylabel('$x$(km)', fontsize=18)\n",
    "clb = plt.colorbar(pad=0.025, aspect=40, shrink=1)\n",
    "clb.ax.tick_params(labelsize=13)\n",
    "#source = mpl.polygon(kimberlite_model['prisms'][0], '.-k', xy2ne=True)\n",
    "estimate = mpl.polygon(model0[0], '.-r', xy2ne=True)\n",
    "#source.set_label('Outcropping polygon')\n",
    "estimate.set_label('Initial estimate')\n",
    "clb.ax.set_title('nT')\n",
    "#mpl.m2km()\n",
    "plt.legend(loc=0, fontsize=12, shadow=bool, framealpha=1)\n",
    "#plt.savefig(mypath+'diorama_tfa_pred_data_true_inital.png', dpi=300)\n",
    "plt.show()"
   ]
  },
  {
   "cell_type": "code",
   "execution_count": 39,
   "metadata": {},
   "outputs": [
    {
     "data": {
      "image/png": "[encoded data removed]",
      "text/plain": [
       "<Figure size 720x504 with 2 Axes>"
      ]
     },
     "metadata": {
      "needs_background": "light"
     },
     "output_type": "display_data"
    }
   ],
   "source": [
    "plt.figure(figsize=(10,7))\n",
    "plt.title('Predict TFA', fontsize=20)\n",
    "plt.tricontourf(yp, xp, d0, 20, cmap='jet').ax.tick_params(labelsize=12)\n",
    "plt.xlabel('$y$(km)', fontsize=18)\n",
    "plt.ylabel('$x$(km)', fontsize=18)\n",
    "clb = plt.colorbar(pad=0.025, aspect=40, shrink=1)\n",
    "clb.ax.tick_params(labelsize=13)\n",
    "#source = mpl.polygon(kimberlite_model['prisms'][0], '.-k', xy2ne=True)\n",
    "estimate = mpl.polygon(model0[0], '.-r', xy2ne=True)\n",
    "#source.set_label('Outcropping polygon')\n",
    "estimate.set_label('Initial estimate')\n",
    "clb.ax.set_title('nT')\n",
    "#mpl.m2km()\n",
    "plt.legend(loc=0, fontsize=12, shadow=bool, framealpha=1)\n",
    "#plt.savefig(mypath+'diorama_tfa_pred_data_true_inital.png', dpi=300)\n",
    "plt.show()\n",
    "\n",
    "#img(filename=mypath+'diorama_tfa_pred_data_true_inital.png', width=1000, height=1200)"
   ]
  },
  {
   "cell_type": "markdown",
   "metadata": {},
   "source": [
    "### Regularization parameters"
   ]
  },
  {
   "cell_type": "code",
   "execution_count": 40,
   "metadata": {
    "collapsed": true
   },
   "outputs": [],
   "source": [
    "#lamb = th*0.01 # Marquadt's parameter\n",
    "lamb = 1000.0\n",
    "dlamb = 10.      # step for Marquadt's parameter\n",
    "\n",
    "a1 = 0.000001  # adjacent radial distances within each prism\n",
    "a2 = 0.000001 # vertically adjacent radial distances\n",
    "a3 = 0.    # outcropping cross-section\n",
    "a4 = 0.     # outcropping origin\n",
    "a5 = 0.00005    # vertically adjacent origins\n",
    "a6 = 0.00000001   # zero order Tikhonov on adjacent radial distances\n",
    "a7 = 0.00001     # zero order Tikhonov on thickness of each prism"
   ]
  },
  {
   "cell_type": "code",
   "execution_count": 41,
   "metadata": {},
   "outputs": [],
   "source": [
    "alpha = np.array([a1, a2, a3, a4, a5, a6, a7])"
   ]
  },
  {
   "cell_type": "code",
   "execution_count": 42,
   "metadata": {},
   "outputs": [],
   "source": [
    "itmax = 30\n",
    "itmax_marq = 10\n",
    "tol = 1.0e-5     # stop criterion"
   ]
  },
  {
   "cell_type": "markdown",
   "metadata": {},
   "source": [
    "### Inversion"
   ]
  },
  {
   "cell_type": "code",
   "execution_count": 43,
   "metadata": {},
   "outputs": [
    {
     "name": "stdout",
     "output_type": "stream",
     "text": [
      "it:  0   it_marq:  0   lambda: 1e+03   misfit: 4.56661e+03\n",
      "it:  1   it_marq:  0   lambda: 1e+02   misfit: 2.85325e+03\n",
      "it:  2   it_marq:  0   lambda: 1e+01   misfit: 8.90864e+02\n",
      "it:  3   it_marq:  0   lambda: 1e+00   misfit: 9.95689e+02\n",
      "it:  3   it_marq:  1   lambda: 1e+01   misfit: 6.28911e+02\n",
      "it:  4   it_marq:  0   lambda: 1e+00   misfit: 1.12991e+03\n",
      "it:  4   it_marq:  1   lambda: 1e+01   misfit: 5.67947e+02\n",
      "it:  5   it_marq:  0   lambda: 1e+00   misfit: 1.17847e+03\n",
      "it:  5   it_marq:  1   lambda: 1e+01   misfit: 5.43824e+02\n",
      "it:  6   it_marq:  0   lambda: 1e+00   misfit: 1.21072e+03\n",
      "it:  6   it_marq:  1   lambda: 1e+01   misfit: 5.30282e+02\n",
      "it:  7   it_marq:  0   lambda: 1e+00   misfit: 1.23694e+03\n",
      "it:  7   it_marq:  1   lambda: 1e+01   misfit: 5.21713e+02\n",
      "it:  8   it_marq:  0   lambda: 1e+00   misfit: 1.25817e+03\n",
      "it:  8   it_marq:  1   lambda: 1e+01   misfit: 5.15700e+02\n",
      "it:  9   it_marq:  0   lambda: 1e+00   misfit: 1.27708e+03\n",
      "it:  9   it_marq:  1   lambda: 1e+01   misfit: 5.10215e+02\n",
      "it: 10   it_marq:  0   lambda: 1e+00   misfit: 1.30335e+03\n",
      "it: 10   it_marq:  1   lambda: 1e+01   misfit: 5.08575e+02\n",
      "it: 11   it_marq:  0   lambda: 1e+00   misfit: 1.31861e+03\n",
      "it: 11   it_marq:  1   lambda: 1e+01   misfit: 5.03957e+02\n",
      "it: 12   it_marq:  0   lambda: 1e+00   misfit: 1.35725e+03\n",
      "it: 12   it_marq:  1   lambda: 1e+01   misfit: 5.02472e+02\n",
      "it: 13   it_marq:  0   lambda: 1e+00   misfit: 1.59143e+03\n",
      "it: 13   it_marq:  1   lambda: 1e+01   misfit: 5.01359e+02\n",
      "it: 14   it_marq:  0   lambda: 1e+00   misfit: 1.62111e+03\n",
      "it: 14   it_marq:  1   lambda: 1e+01   misfit: 5.00957e+02\n",
      "it: 15   it_marq:  0   lambda: 1e+00   misfit: 1.68262e+03\n",
      "it: 15   it_marq:  1   lambda: 1e+01   misfit: 4.99603e+02\n",
      "it: 16   it_marq:  0   lambda: 1e+00   misfit: 1.93690e+03\n",
      "it: 16   it_marq:  1   lambda: 1e+01   misfit: 5.01725e+02\n",
      "it: 16   it_marq:  2   lambda: 1e+02   misfit: 4.92847e+02\n",
      "it: 17   it_marq:  0   lambda: 1e+01   misfit: 4.94965e+02\n",
      "it: 17   it_marq:  1   lambda: 1e+02   misfit: 4.92467e+02\n",
      "it: 18   it_marq:  0   lambda: 1e+01   misfit: 4.91513e+02\n",
      "it: 19   it_marq:  0   lambda: 1e+00   misfit: 1.72177e+03\n",
      "it: 19   it_marq:  1   lambda: 1e+01   misfit: 4.95929e+02\n",
      "it: 19   it_marq:  2   lambda: 1e+02   misfit: 4.88608e+02\n",
      "it: 20   it_marq:  0   lambda: 1e+01   misfit: 4.91067e+02\n",
      "it: 20   it_marq:  1   lambda: 1e+02   misfit: 4.90056e+02\n",
      "it: 20   it_marq:  2   lambda: 1e+03   misfit: 4.92940e+02\n",
      "it: 20   it_marq:  3   lambda: 1e+04   misfit: 4.93161e+02\n",
      "it: 20   it_marq:  4   lambda: 1e+05   misfit: 4.93206e+02\n",
      "it: 20   it_marq:  5   lambda: 1e+06   misfit: 4.93211e+02\n",
      "it: 20   it_marq:  6   lambda: 1e+07   misfit: 4.92988e+02\n",
      "it: 20   it_marq:  7   lambda: 1e+08   misfit: 4.92989e+02\n",
      "it: 20   it_marq:  8   lambda: 1e+09   misfit: 4.92989e+02\n",
      "it: 20   it_marq:  9   lambda: 1e+10   misfit: 4.92989e+02\n",
      "it: 21   it_marq:  0   lambda: 1e+11   misfit: 5.04830e+02\n",
      "it: 21   it_marq:  1   lambda: 1e+12   misfit: 5.04830e+02\n",
      "it: 21   it_marq:  2   lambda: 1e+13   misfit: 5.04830e+02\n",
      "it: 21   it_marq:  3   lambda: 1e+14   misfit: 5.04830e+02\n",
      "it: 21   it_marq:  4   lambda: 1e+15   misfit: 5.04830e+02\n",
      "it: 21   it_marq:  5   lambda: 1e+16   misfit: 5.04830e+02\n",
      "it: 21   it_marq:  6   lambda: 1e+17   misfit: 5.04830e+02\n",
      "it: 21   it_marq:  7   lambda: 1e+18   misfit: 5.04830e+02\n",
      "it: 21   it_marq:  8   lambda: 1e+19   misfit: 5.04830e+02\n",
      "it: 21   it_marq:  9   lambda: 1e+20   misfit: 5.04830e+02\n",
      "it: 22   it_marq:  0   lambda: 1e+21   misfit: 5.23933e+02\n",
      "it: 22   it_marq:  1   lambda: 1e+22   misfit: 5.23933e+02\n",
      "it: 22   it_marq:  2   lambda: 1e+23   misfit: 5.23933e+02\n",
      "it: 22   it_marq:  3   lambda: 1e+24   misfit: 5.23933e+02\n",
      "it: 22   it_marq:  4   lambda: 1e+25   misfit: 5.23933e+02\n",
      "it: 22   it_marq:  5   lambda: 1e+26   misfit: 5.23933e+02\n",
      "it: 22   it_marq:  6   lambda: 1e+27   misfit: 5.23933e+02\n",
      "it: 22   it_marq:  7   lambda: 1e+28   misfit: 5.23933e+02\n",
      "it: 22   it_marq:  8   lambda: 1e+29   misfit: 5.23933e+02\n",
      "it: 22   it_marq:  9   lambda: 1e+30   misfit: 5.23933e+02\n",
      "it: 23   it_marq:  0   lambda: 1e+31   misfit: 5.50101e+02\n",
      "it: 23   it_marq:  1   lambda: 1e+32   misfit: 5.50101e+02\n",
      "it: 23   it_marq:  2   lambda: 1e+33   misfit: 5.50101e+02\n",
      "it: 23   it_marq:  3   lambda: 1e+34   misfit: 5.50101e+02\n",
      "it: 23   it_marq:  4   lambda: 1e+35   misfit: 5.50101e+02\n",
      "it: 23   it_marq:  5   lambda: 1e+36   misfit: 5.50101e+02\n",
      "it: 23   it_marq:  6   lambda: 1e+37   misfit: 5.50101e+02\n",
      "it: 23   it_marq:  7   lambda: 1e+38   misfit: 5.50101e+02\n",
      "it: 23   it_marq:  8   lambda: 1e+39   misfit: 5.50101e+02\n",
      "it: 23   it_marq:  9   lambda: 1e+40   misfit: 5.50101e+02\n",
      "it: 24   it_marq:  0   lambda: 1e+41   misfit: 5.83147e+02\n",
      "it: 24   it_marq:  1   lambda: 1e+42   misfit: 5.83147e+02\n",
      "it: 24   it_marq:  2   lambda: 1e+43   misfit: 5.83147e+02\n",
      "it: 24   it_marq:  3   lambda: 1e+44   misfit: 5.83147e+02\n",
      "it: 24   it_marq:  4   lambda: 1e+45   misfit: 5.83147e+02\n",
      "it: 24   it_marq:  5   lambda: 1e+46   misfit: 5.83147e+02\n",
      "it: 24   it_marq:  6   lambda: 1e+47   misfit: 5.83147e+02\n",
      "it: 24   it_marq:  7   lambda: 1e+48   misfit: 5.83147e+02\n",
      "it: 24   it_marq:  8   lambda: 1e+49   misfit: 5.83147e+02\n",
      "it: 24   it_marq:  9   lambda: 1e+50   misfit: 5.83147e+02\n",
      "it: 25   it_marq:  0   lambda: 1e+51   misfit: 6.22888e+02\n",
      "it: 25   it_marq:  1   lambda: 1e+52   misfit: 6.22888e+02\n",
      "it: 25   it_marq:  2   lambda: 1e+53   misfit: 6.22888e+02\n",
      "it: 25   it_marq:  3   lambda: 1e+54   misfit: 6.22888e+02\n",
      "it: 25   it_marq:  4   lambda: 1e+55   misfit: 6.22888e+02\n",
      "it: 25   it_marq:  5   lambda: 1e+56   misfit: 6.22888e+02\n",
      "it: 25   it_marq:  6   lambda: 1e+57   misfit: 6.22888e+02\n",
      "it: 25   it_marq:  7   lambda: 1e+58   misfit: 6.22888e+02\n",
      "it: 25   it_marq:  8   lambda: 1e+59   misfit: 6.22888e+02\n",
      "it: 25   it_marq:  9   lambda: 1e+60   misfit: 6.22888e+02\n",
      "it: 26   it_marq:  0   lambda: 1e+61   misfit: 6.69144e+02\n",
      "it: 26   it_marq:  1   lambda: 1e+62   misfit: 6.69144e+02\n",
      "it: 26   it_marq:  2   lambda: 1e+63   misfit: 6.69144e+02\n",
      "it: 26   it_marq:  3   lambda: 1e+64   misfit: 6.69144e+02\n",
      "it: 26   it_marq:  4   lambda: 1e+65   misfit: 6.69144e+02\n",
      "it: 26   it_marq:  5   lambda: 1e+66   misfit: 6.69144e+02\n",
      "it: 26   it_marq:  6   lambda: 1e+67   misfit: 6.69144e+02\n",
      "it: 26   it_marq:  7   lambda: 1e+68   misfit: 6.69144e+02\n",
      "it: 26   it_marq:  8   lambda: 1e+69   misfit: 6.69144e+02\n",
      "it: 26   it_marq:  9   lambda: 1e+70   misfit: 6.69144e+02\n",
      "it: 27   it_marq:  0   lambda: 1e+71   misfit: 7.21746e+02\n",
      "it: 27   it_marq:  1   lambda: 1e+72   misfit: 7.21746e+02\n",
      "it: 27   it_marq:  2   lambda: 1e+73   misfit: 7.21746e+02\n",
      "it: 27   it_marq:  3   lambda: 1e+74   misfit: 7.21746e+02\n",
      "it: 27   it_marq:  4   lambda: 1e+75   misfit: 7.21746e+02\n",
      "it: 27   it_marq:  5   lambda: 1e+76   misfit: 7.21746e+02\n",
      "it: 27   it_marq:  6   lambda: 1e+77   misfit: 7.21746e+02\n",
      "it: 27   it_marq:  7   lambda: 1e+78   misfit: 7.21746e+02\n",
      "it: 27   it_marq:  8   lambda: 1e+79   misfit: 7.21746e+02\n",
      "it: 27   it_marq:  9   lambda: 1e+80   misfit: 7.21746e+02\n",
      "it: 28   it_marq:  0   lambda: 1e+81   misfit: 7.80524e+02\n",
      "it: 28   it_marq:  1   lambda: 1e+82   misfit: 7.80524e+02\n",
      "it: 28   it_marq:  2   lambda: 1e+83   misfit: 7.80524e+02\n",
      "it: 28   it_marq:  3   lambda: 1e+84   misfit: 7.80524e+02\n",
      "it: 28   it_marq:  4   lambda: 1e+85   misfit: 7.80524e+02\n",
      "it: 28   it_marq:  5   lambda: 1e+86   misfit: 7.80524e+02\n",
      "it: 28   it_marq:  6   lambda: 1e+87   misfit: 7.80524e+02\n",
      "it: 28   it_marq:  7   lambda: 1e+88   misfit: 7.80524e+02\n",
      "it: 28   it_marq:  8   lambda: 1e+89   misfit: 7.80524e+02\n",
      "it: 28   it_marq:  9   lambda: 1e+90   misfit: 7.80524e+02\n",
      "it: 29   it_marq:  0   lambda: 1e+91   misfit: 8.45317e+02\n",
      "it: 29   it_marq:  1   lambda: 1e+92   misfit: 8.45317e+02\n",
      "it: 29   it_marq:  2   lambda: 1e+93   misfit: 8.45317e+02\n",
      "it: 29   it_marq:  3   lambda: 1e+94   misfit: 8.45317e+02\n",
      "it: 29   it_marq:  4   lambda: 1e+95   misfit: 8.45317e+02\n",
      "it: 29   it_marq:  5   lambda: 1e+96   misfit: 8.45317e+02\n",
      "it: 29   it_marq:  6   lambda: 1e+97   misfit: 8.45317e+02\n",
      "it: 29   it_marq:  7   lambda: 1e+98   misfit: 8.45317e+02\n",
      "it: 29   it_marq:  8   lambda: 1e+99   misfit: 8.45317e+02\n",
      "it: 29   it_marq:  9   lambda: 1e+100   misfit: 8.45317e+02\n"
     ]
    }
   ],
   "source": [
    "d_fit, m_est, model_est, phi_list, model_list, res_list = mfun.levmarq_tf(xp, yp, zp, m0, M, L, delta, itmax,\n",
    "                                                    itmax_marq, lamb, dlamb, tol,\n",
    "                                                    mmin, mmax, m_out, dobs, inc, dec,\n",
    "                                                    props, alpha, z0, dz)"
   ]
  },
  {
   "cell_type": "code",
   "execution_count": 44,
   "metadata": {},
   "outputs": [],
   "source": [
    "inversion['inc_dec'] = [incs, decs]\n",
    "inversion['z0'] = z0\n",
    "inversion['initial_dz'] = dz\n",
    "inversion['intial_r'] = r\n",
    "inversion['initial_estimate'] = model0\n",
    "inversion['initial_data'] = d0\n",
    "inversion['limits'] = [rmin, rmax, x0min, x0max, y0min, y0max, dzmin, dzmax]\n",
    "inversion['regularization'] = alpha\n",
    "inversion['tol'] = tol\n",
    "inversion['main_field'] = [inc, dec]"
   ]
  },
  {
   "cell_type": "code",
   "execution_count": 45,
   "metadata": {},
   "outputs": [],
   "source": [
    "inversion['data_fit'] = d_fit\n",
    "inversion['estimate'] = m_est\n",
    "inversion['prisms'] = model_est\n",
    "inversion['objective'] = phi_list\n",
    "inversion['residual'] = dobs - d_fit"
   ]
  },
  {
   "cell_type": "code",
   "execution_count": 46,
   "metadata": {},
   "outputs": [
    {
     "data": {
      "image/png": "[encoded data removed]",
      "text/plain": [
       "<Figure size 720x504 with 2 Axes>"
      ]
     },
     "metadata": {
      "needs_background": "light"
     },
     "output_type": "display_data"
    }
   ],
   "source": [
    "plt.figure(figsize=(10,7))\n",
    "plt.title('Residual TFA', fontsize=20)\n",
    "plt.tricontourf(yp, xp, dobs - d_fit, 20, cmap='jet').ax.tick_params(labelsize=12)\n",
    "plt.xlabel('$y$(cm)', fontsize=18)\n",
    "plt.ylabel('$x$(cm)', fontsize=18)\n",
    "clb = plt.colorbar(pad=0.025, aspect=40, shrink=1)\n",
    "clb.ax.tick_params(labelsize=13)\n",
    "#source = mpl.polygon(kimberlite_model['prisms'][0], '.-k', xy2ne=True)\n",
    "#estimate = mpl.polygon(model_est[0], '.-r', xy2ne=True)\n",
    "#source.set_label('Outcropping polygon')\n",
    "#estimate.set_label('Initial estimate')\n",
    "clb.ax.set_title('nT')\n",
    "#mpl.m2km()\n",
    "#plt.legend(loc=0, fontsize=12, shadow=bool, framealpha=1)\n",
    "plt.savefig('funnel_residual.png', dpi=300)\n",
    "plt.show()"
   ]
  },
  {
   "cell_type": "code",
   "execution_count": 47,
   "metadata": {},
   "outputs": [
    {
     "data": {
      "text/plain": [
       "2.760746011054376"
      ]
     },
     "execution_count": 47,
     "metadata": {},
     "output_type": "execute_result"
    }
   ],
   "source": [
    "m_est[-1]*4"
   ]
  },
  {
   "cell_type": "code",
   "execution_count": 48,
   "metadata": {},
   "outputs": [],
   "source": [
    "bounds = [-70., -50.,10., 28.,  3., \n",
    "          15.]\n",
    "\n",
    "red, green, blue = (1, 0, 0), (0, 1, 0), (0, 0, 1)\n",
    "white, black = (1, 1, 1), (0, 0, 0),\n",
    "\n",
    "# Show the model\n",
    "scene = myv.figure()\n",
    "#myv.polyprisms(kimberlite_model['prisms'], 'magnetization', color=blue, linewidth=1., opacity=.5, edges=False)\n",
    "myv.polyprisms(inversion['prisms'], 'magnetization', color=red, linewidth=1.)\n",
    "\n",
    "\n",
    "ax = myv.axes(myv.outline(bounds), ranges=bounds)\n",
    "ax.axes.x_label, ax.axes.y_label, ax.axes.z_label = 'x (cm)', 'y (cm)', 'z (cm)'\n",
    "ax.axes.font_factor = 1.5\n",
    "scene.scene.camera.position = [-0.089204656936016313, -0.066107174155361687, -0.04083578885723696]\n",
    "scene.scene.camera.focal_point = [1.1820671636724554e-16, 1.3134079596360617e-17, -1.9701119394540926e-17]\n",
    "scene.scene.camera.view_angle = 30.0\n",
    "scene.scene.camera.view_up = [0.24683390337942718, 0.24593292331329802, -0.93733132955911114]\n",
    "scene.scene.camera.clipping_range = [0.057117737884348194, 0.1956040854922288]\n",
    "scene.scene.camera.compute_view_plane_normal()\n",
    "\n",
    "myv.wall_bottom(ax.axes.bounds, opacity=0.2)\n",
    "myv.wall_north(ax.axes.bounds)\n",
    "#myv.title('bolacha', color=(0, 0, 0), size=1.3, height=0.5)\n",
    "myv.savefig('funnel inverse_model.png')\n",
    "myv.show()\n",
    "\n",
    "#img(filename='figs/kimberlite_tfa_td_bolacha1.png')"
   ]
  },
  {
   "cell_type": "raw",
   "metadata": {},
   "source": [
    "mypath = 'tfa_inversion/direction_inc%d_dec%d/r%d_int%d_z0%d_dz%d' % (incs, decs, rin[0], np.linalg.norm(props['magnetization']), z0, dz)\n",
    "if not os.path.isdir(mypath):\n",
    "   os.makedirs(mypath)"
   ]
  },
  {
   "cell_type": "raw",
   "metadata": {},
   "source": [
    "mypath = 'diorama_tfa_inversion/upward_direction_inc%d_dec%d/diorama_tfa_r%d_int%d_z0%d_dz%d' % (incs, decs, rin[0], np.linalg.norm(props['magnetization']), z0, dz)\n",
    "if not os.path.isdir(mypath):\n",
    "   os.makedirs(mypath)"
   ]
  },
  {
   "cell_type": "raw",
   "metadata": {},
   "source": [
    "file_name = mypath+'/inversion.pickle'\n",
    "with open(file_name, 'w') as f:\n",
    "    pickle.dump(inversion, f)"
   ]
  },
  {
   "cell_type": "code",
   "execution_count": null,
   "metadata": {},
   "outputs": [],
   "source": []
  }
 ],
 "metadata": {
  "kernelspec": {
   "display_name": "Python 2",
   "language": "python",
   "name": "python2"
  },
  "language_info": {
   "codemirror_mode": {
    "name": "ipython",
    "version": 2
   },
   "file_extension": ".py",
   "mimetype": "text/x-python",
   "name": "python",
   "nbconvert_exporter": "python",
   "pygments_lexer": "ipython2",
   "version": "2.7.15"
  }
 },
 "nbformat": 4,
 "nbformat_minor": 2
}
