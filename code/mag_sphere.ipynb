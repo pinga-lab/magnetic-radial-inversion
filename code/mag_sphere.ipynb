{
 "cells": [
  {
   "cell_type": "markdown",
   "metadata": {},
   "source": [
    "# Magnetized Spheres"
   ]
  },
  {
   "cell_type": "markdown",
   "metadata": {},
   "source": [
    "This code calculates some magnetical problems with a spherical simetry."
   ]
  },
  {
   "cell_type": "code",
   "execution_count": null,
   "metadata": {
    "collapsed": false
   },
   "outputs": [],
   "source": [
    "import numpy as np\n",
    "import matplotlib.pyplot as plt\n",
    "from __future__ import division\n",
    "from fatiando import mesher, gridder, utils\n",
    "from fatiando.gravmag import sphere\n",
    "from fatiando.mesher import Sphere\n",
    "from fatiando.vis import mpl\n",
    "from fatiando.constants import CM, T2NT\n",
    "from matplotlib import colors, ticker, cm\n",
    "import mag_sphere_functions as mfun\n",
    "% matplotlib inline"
   ]
  },
  {
   "cell_type": "markdown",
   "metadata": {},
   "source": [
    "## Spheres"
   ]
  },
  {
   "cell_type": "code",
   "execution_count": null,
   "metadata": {
    "collapsed": true
   },
   "outputs": [],
   "source": [
    "inc, dec = -30, 50 # inclination and declination of regional field\n",
    "\n",
    "# creating the list of spheres\n",
    "props1 = {'magnetization':utils.ang2vec(5, inc, dec)} # defining induced magnetization\n",
    "props2 = {'magnetization': utils.ang2vec(10, 70, -50)} # defining remanent magnetization\n",
    "model = [\n",
    "    [10000, 12000, 600, 50,props1],\n",
    "    [10000, 20000, 600, 50,props1]] # list of sphere models [x0,y0,z0,R,props]\n",
    "\n",
    "# model for comparision with fatiando\n",
    "model_fat = [\n",
    "    Sphere(10000, 12000, 600, 50,\n",
    "          {'magnetization': utils.ang2vec(5, inc, dec)}),\n",
    "    Sphere(10000, 20000, 600, 50,\n",
    "          {'magnetization': utils.ang2vec(5, inc, dec)})] # input fatiando"
   ]
  },
  {
   "cell_type": "markdown",
   "metadata": {},
   "source": [
    "## Observation Points"
   ]
  },
  {
   "cell_type": "code",
   "execution_count": null,
   "metadata": {
    "collapsed": false
   },
   "outputs": [],
   "source": [
    "#area over which the data are calculated\n",
    "#x minimum, x maximum, y minimum and y maximum\n",
    "area = [0, 30000, 5000, 35000] \n",
    "\n",
    "#number of data along the y and x directions\n",
    "shape = (100,100)\n",
    "\n",
    "#total number of data\n",
    "N = shape[0]*shape[1]\n",
    "\n",
    "#coordinates x and y of the data\n",
    "x = np.linspace(area[0],area[1],shape[0]) # points in x\n",
    "y = np.linspace(area[2],area[3],shape[0]) # points in y\n",
    "xp,yp = np.meshgrid(x,y)    # creating mesh points\n",
    "xp = xp.ravel()\n",
    "yp = yp.ravel()\n",
    "\n",
    "#vertical coordinates of the data\n",
    "zp = -350. - 500.*utils.gaussian2d(xp, yp, 17000, 21000, 21000, 18500, angle=21)"
   ]
  },
  {
   "cell_type": "code",
   "execution_count": null,
   "metadata": {
    "collapsed": false
   },
   "outputs": [],
   "source": [
    "mpl.figure(figsize=(10,10))\n",
    "mpl.title(\"Relief (m)\")\n",
    "mpl.axis('scaled')\n",
    "mpl.contourf(yp, xp, zp,shape,30, cmap=mpl.cm.Greens_r)\n",
    "mpl.xlabel('East y (km)')\n",
    "mpl.ylabel('North x (km)')\n",
    "mpl.colorbar(pad=0.01, aspect=20, shrink=1.0).set_label('nT')\n",
    "mpl.m2km()\n",
    "mpl.show()"
   ]
  },
  {
   "cell_type": "markdown",
   "metadata": {},
   "source": [
    "### Result for magnetic induction of my function"
   ]
  },
  {
   "cell_type": "code",
   "execution_count": null,
   "metadata": {
    "collapsed": false
   },
   "outputs": [],
   "source": [
    "Bx = mfun.bx_sphere(xp,yp,zp,model)\n",
    "By = mfun.by_sphere(xp,yp,zp,model)\n",
    "Bz = mfun.bz_sphere(xp,yp,zp,model)"
   ]
  },
  {
   "cell_type": "markdown",
   "metadata": {},
   "source": [
    "### Result for magnetic induction from fatiando"
   ]
  },
  {
   "cell_type": "code",
   "execution_count": null,
   "metadata": {
    "collapsed": false
   },
   "outputs": [],
   "source": [
    "bx_fat = sphere.bx(xp,yp,zp,model_fat)\n",
    "by_fat = sphere.by(xp,yp,zp,model_fat)\n",
    "bz_fat = sphere.bz(xp,yp,zp,model_fat)"
   ]
  },
  {
   "cell_type": "markdown",
   "metadata": {},
   "source": [
    "### Comparison with fatiando"
   ]
  },
  {
   "cell_type": "code",
   "execution_count": null,
   "metadata": {
    "collapsed": false
   },
   "outputs": [],
   "source": [
    "np.allclose(Bx,bx_fat)"
   ]
  },
  {
   "cell_type": "code",
   "execution_count": null,
   "metadata": {
    "collapsed": false
   },
   "outputs": [],
   "source": [
    "np.allclose(By,by_fat)"
   ]
  },
  {
   "cell_type": "code",
   "execution_count": null,
   "metadata": {
    "collapsed": false
   },
   "outputs": [],
   "source": [
    "np.allclose(Bz,bz_fat)"
   ]
  },
  {
   "cell_type": "markdown",
   "metadata": {},
   "source": [
    "### Ploting results"
   ]
  },
  {
   "cell_type": "code",
   "execution_count": null,
   "metadata": {
    "collapsed": false
   },
   "outputs": [],
   "source": [
    "mpl.figure(figsize=(15,15))\n",
    "\n",
    "mpl.subplot(2,3,1)\n",
    "mpl.axis('scaled')\n",
    "mpl.title(\"Bx (nT)\")\n",
    "mpl.contourf(yp, xp, Bx,shape, 15)\n",
    "mpl.xlabel('East y (m)')\n",
    "mpl.ylabel('North x (m)')\n",
    "mpl.m2km()\n",
    "\n",
    "mpl.subplot(2,3,2)\n",
    "mpl.axis('scaled')\n",
    "mpl.title(\"By (nT)\")\n",
    "mpl.contourf(yp, xp, By,shape, 15)\n",
    "mpl.xlabel('East y (m)')\n",
    "mpl.ylabel('North x (m)')\n",
    "mpl.m2km()\n",
    "\n",
    "mpl.subplot(2,3,3)\n",
    "mpl.axis('scaled')\n",
    "mpl.title(\"Bz (nT)\")\n",
    "mpl.contourf(yp, xp, Bz,shape, 15)\n",
    "mpl.xlabel('East y (m)')\n",
    "mpl.ylabel('North x (m)')\n",
    "mpl.m2km()\n",
    "mpl.colorbar(pad=0.01, aspect=20, shrink=0.5).set_label('nT')\n",
    "\n",
    "\n",
    "mpl.subplot(2,3,4)\n",
    "mpl.axis('scaled')\n",
    "mpl.title(\"Bx_fat (nT)\")\n",
    "mpl.contourf(yp, xp, bx_fat,shape, 15)\n",
    "mpl.xlabel('East y (km)')\n",
    "mpl.ylabel('North x (km)')\n",
    "mpl.m2km()\n",
    "\n",
    "mpl.subplot(2,3,5)\n",
    "mpl.axis('scaled')\n",
    "mpl.title(\"By_fat (nT)\")\n",
    "mpl.contourf(yp, xp, by_fat,shape, 15)\n",
    "mpl.xlabel('East y (km)')\n",
    "mpl.ylabel('North x (km)')\n",
    "mpl.m2km()\n",
    "\n",
    "mpl.subplot(2,3,6)\n",
    "mpl.axis('scaled')\n",
    "mpl.title(\"Bz_fat (nT)\")\n",
    "mpl.contourf(yp, xp, bz_fat,shape, 15)\n",
    "mpl.xlabel('East y (km)')\n",
    "mpl.ylabel('North x (km)')\n",
    "mpl.m2km()\n",
    "mpl.colorbar(pad=0.01, aspect=20, shrink=0.5).set_label('nT')\n",
    "mpl.show()"
   ]
  },
  {
   "cell_type": "markdown",
   "metadata": {},
   "source": [
    "### Result for total field anomaly of my function"
   ]
  },
  {
   "cell_type": "code",
   "execution_count": null,
   "metadata": {
    "collapsed": true
   },
   "outputs": [],
   "source": [
    "tf = mfun.tf_sphere(xp,yp,zp,model,inc,dec)"
   ]
  },
  {
   "cell_type": "markdown",
   "metadata": {},
   "source": [
    "### Result for total field anomaly from fatiando"
   ]
  },
  {
   "cell_type": "code",
   "execution_count": null,
   "metadata": {
    "collapsed": false
   },
   "outputs": [],
   "source": [
    "tf_fat = sphere.tf(xp,yp,zp,model_fat,inc,dec)"
   ]
  },
  {
   "cell_type": "markdown",
   "metadata": {},
   "source": [
    "### Comparison with fatiando"
   ]
  },
  {
   "cell_type": "code",
   "execution_count": null,
   "metadata": {
    "collapsed": false
   },
   "outputs": [],
   "source": [
    "np.allclose(tf,tf_fat)"
   ]
  },
  {
   "cell_type": "markdown",
   "metadata": {},
   "source": [
    "### Ploting results"
   ]
  },
  {
   "cell_type": "code",
   "execution_count": null,
   "metadata": {
    "collapsed": false
   },
   "outputs": [],
   "source": [
    "mpl.figure(figsize=(10,10))\n",
    "mpl.axis('scaled')\n",
    "\n",
    "mpl.subplot(1,2,1)\n",
    "mpl.axis('scaled')\n",
    "mpl.title(\"TFA (nT)\")\n",
    "mpl.contourf(yp, xp, tf,shape, 15)\n",
    "mpl.xlabel('East y (km)')\n",
    "mpl.ylabel('North x (km)')\n",
    "mpl.m2km()\n",
    "\n",
    "mpl.subplot(1,2,2)\n",
    "mpl.axis('scaled')\n",
    "mpl.title(\"TFA_fat (nT)\")\n",
    "mpl.contourf(yp, xp, tf_fat,shape, 15)\n",
    "mpl.xlabel('East y (km)')\n",
    "mpl.ylabel('North x (km)')\n",
    "mpl.m2km()\n",
    "mpl.colorbar(pad=0.01, aspect=20, shrink=0.5).set_label('nT')\n",
    "mpl.show()"
   ]
  },
  {
   "cell_type": "markdown",
   "metadata": {},
   "source": [
    "### Creating a layer with shperes"
   ]
  },
  {
   "cell_type": "code",
   "execution_count": null,
   "metadata": {
    "collapsed": false
   },
   "outputs": [],
   "source": [
    "# creating a list of shperes below each observation points\n",
    "model_layer = []\n",
    "h = 100.                   # layer height\n",
    "for i in range(len(xp)):\n",
    "    model_layer.append([xp[i],yp[i],h,1.,props1])\n",
    "    \n",
    "    \n",
    "# creating a list of shperes below each observation points with remanent\n",
    "model_layer_remanent = []\n",
    "h = 100.                   # layer height\n",
    "for i in range(len(xp)):\n",
    "    model_layer_remanent.append([xp[i],yp[i],h,1.,props2])"
   ]
  },
  {
   "cell_type": "markdown",
   "metadata": {},
   "source": [
    "### Result for foward problem"
   ]
  },
  {
   "cell_type": "code",
   "execution_count": null,
   "metadata": {
    "collapsed": false
   },
   "outputs": [],
   "source": [
    "A,vp = mfun.sm_sphere(xp,yp,zp,model_layer,inc,dec)"
   ]
  },
  {
   "cell_type": "code",
   "execution_count": null,
   "metadata": {
    "collapsed": true
   },
   "outputs": [],
   "source": [
    "tf_layer_fd = np.dot(A,vp)"
   ]
  },
  {
   "cell_type": "markdown",
   "metadata": {},
   "source": [
    "### Comparison with TFA function"
   ]
  },
  {
   "cell_type": "code",
   "execution_count": null,
   "metadata": {
    "collapsed": false
   },
   "outputs": [],
   "source": [
    "tf_layer = mfun.tf_sphere(xp,yp,zp,model_layer,inc,dec)"
   ]
  },
  {
   "cell_type": "code",
   "execution_count": null,
   "metadata": {
    "collapsed": false
   },
   "outputs": [],
   "source": [
    "np.allclose(tf_layer,tf_layer_fd)"
   ]
  },
  {
   "cell_type": "code",
   "execution_count": null,
   "metadata": {
    "collapsed": false
   },
   "outputs": [],
   "source": [
    "mpl.figure(figsize=(10,10))\n",
    "mpl.subplot(1,2,1)\n",
    "mpl.title(\"TFA (nT)\")\n",
    "mpl.axis('scaled')\n",
    "mpl.contourf(yp, xp, tf_layer,shape, 15)\n",
    "mpl.xlabel('East y (km)')\n",
    "mpl.ylabel('North x (km)')\n",
    "mpl.m2km()\n",
    "mpl.subplot(1,2,2)\n",
    "mpl.title(\"TFA_fd (nT)\")\n",
    "mpl.axis('scaled')\n",
    "mpl.contourf(yp, xp, tf_layer_fd,shape, 15)\n",
    "mpl.xlabel('East y (km)')\n",
    "mpl.ylabel('North x (km)')\n",
    "mpl.m2km()\n",
    "mpl.colorbar(pad=0.01, aspect=20, shrink=0.4).set_label('nT')\n",
    "mpl.show()"
   ]
  }
 ],
 "metadata": {
  "kernelspec": {
   "display_name": "Python 2",
   "language": "python",
   "name": "python2"
  },
  "language_info": {
   "codemirror_mode": {
    "name": "ipython",
    "version": 2
   },
   "file_extension": ".py",
   "mimetype": "text/x-python",
   "name": "python",
   "nbconvert_exporter": "python",
   "pygments_lexer": "ipython2",
   "version": "2.7.11"
  }
 },
 "nbformat": 4,
 "nbformat_minor": 0
}
