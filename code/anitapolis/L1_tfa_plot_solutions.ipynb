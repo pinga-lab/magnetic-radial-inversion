{
 "cells": [
  {
   "cell_type": "markdown",
   "metadata": {},
   "source": [
    "# Plot of solutions"
   ]
  },
  {
   "cell_type": "markdown",
   "metadata": {},
   "source": [
    "This notebook plots the solution figure for a specific solution from the set of results of the multiple inversion notebook."
   ]
  },
  {
   "cell_type": "code",
   "execution_count": 78,
   "metadata": {},
   "outputs": [],
   "source": [
    "import matplotlib as mpb\n",
    "import numpy as np\n",
    "\n",
    "# show the figures in windows\n",
    "\n",
    "# show all the matplotlib backends \n",
    "mpb.rcsetup.all_backends \n",
    "\n",
    "# force matplotlib to use the 'Qt5Agg' backend \n",
    "mpb.use(arg='Qt5Agg', force=True)"
   ]
  },
  {
   "cell_type": "code",
   "execution_count": 79,
   "metadata": {},
   "outputs": [],
   "source": [
    "import cPickle as pickle\n",
    "\n",
    "# importing my functions\n",
    "import sys\n",
    "sys.path.insert(0, '../../code')\n",
    "\n",
    "import mag_polyprism_functions as mfun"
   ]
  },
  {
   "cell_type": "code",
   "execution_count": 80,
   "metadata": {},
   "outputs": [
    {
     "ename": "IOError",
     "evalue": "[Errno 2] Arquivo ou diretório inexistente: 'data/real_obs_pts/L1_tfa_inversion/upper_inter_body_90/multiple_int_min10_int_max19_z0_min0_z0_max360_r800_dz650_V20_L10Jul-07-2020/inversion.pickle'",
     "output_type": "error",
     "traceback": [
      "\u001b[0;31m---------------------------------------------------------------------------\u001b[0m",
      "\u001b[0;31mIOError\u001b[0m                                   Traceback (most recent call last)",
      "\u001b[0;32m<ipython-input-80-585867f034da>\u001b[0m in \u001b[0;36m<module>\u001b[0;34m()\u001b[0m\n\u001b[1;32m      2\u001b[0m \u001b[0mresult_path\u001b[0m \u001b[0;34m=\u001b[0m \u001b[0;34m'data/real_obs_pts/L1_tfa_inversion/upper_inter_body_90/multiple_int_min10_int_max19_z0_min0_z0_max360_r800_dz650_V20_L10Jul-07-2020/'\u001b[0m\u001b[0;34m\u001b[0m\u001b[0m\n\u001b[1;32m      3\u001b[0m \u001b[0;34m\u001b[0m\u001b[0m\n\u001b[0;32m----> 4\u001b[0;31m \u001b[0;32mwith\u001b[0m \u001b[0mopen\u001b[0m\u001b[0;34m(\u001b[0m\u001b[0mresult_path\u001b[0m\u001b[0;34m+\u001b[0m\u001b[0;34m'inversion.pickle'\u001b[0m\u001b[0;34m)\u001b[0m \u001b[0;32mas\u001b[0m \u001b[0mw\u001b[0m\u001b[0;34m:\u001b[0m\u001b[0;34m\u001b[0m\u001b[0m\n\u001b[0m\u001b[1;32m      5\u001b[0m         \u001b[0minversion\u001b[0m \u001b[0;34m=\u001b[0m \u001b[0mpickle\u001b[0m\u001b[0;34m.\u001b[0m\u001b[0mload\u001b[0m\u001b[0;34m(\u001b[0m\u001b[0mw\u001b[0m\u001b[0;34m)\u001b[0m\u001b[0;34m\u001b[0m\u001b[0m\n",
      "\u001b[0;31mIOError\u001b[0m: [Errno 2] Arquivo ou diretório inexistente: 'data/real_obs_pts/L1_tfa_inversion/upper_inter_body_90/multiple_int_min10_int_max19_z0_min0_z0_max360_r800_dz650_V20_L10Jul-07-2020/inversion.pickle'"
     ]
    }
   ],
   "source": [
    "# importing the pickle file of results\n",
    "result_path = 'L1_tfa_inversion/multiple_int_min1_int_max10_z0_min0_z0_max360_r700_dz630_V20_L6Jul-06-2020/'\n",
    "\n",
    "with open(result_path+'inversion.pickle') as w:\n",
    "        inversion = pickle.load(w)"
   ]
  },
  {
   "cell_type": "code",
   "execution_count": 81,
   "metadata": {},
   "outputs": [],
   "source": [
    "# directory to save the figures and filename\n",
    "filewhite = '.'\n",
    "filemagenta = '.'"
   ]
  },
  {
   "cell_type": "code",
   "execution_count": 75,
   "metadata": {},
   "outputs": [
    {
     "name": "stdout",
     "output_type": "stream",
     "text": [
      "12.220798994390195\n",
      "161.88625833351063\n"
     ]
    }
   ],
   "source": [
    "volume = 0.\n",
    "momentum = 0.\n",
    "for bolacha in inversion['results'][3][2][-1]:\n",
    "    area = mfun.area_polygon(bolacha.x, bolacha.y)\n",
    "    volume += area*(bolacha.z2 - bolacha.z1)\n",
    "    momentum += volume*np.linalg.norm(bolacha.props['magnetization'])\n",
    "    \n",
    "print volume/10.**9.\n",
    "print momentum/10.**9."
   ]
  },
  {
   "cell_type": "code",
   "execution_count": 76,
   "metadata": {},
   "outputs": [
    {
     "data": {
      "text/plain": [
       "array([1.e-04, 1.e-03, 0.e+00, 0.e+00, 1.e-04, 1.e-08, 1.e-05])"
      ]
     },
     "execution_count": 76,
     "metadata": {},
     "output_type": "execute_result"
    }
   ],
   "source": [
    "inversion['regularization']"
   ]
  },
  {
   "cell_type": "markdown",
   "metadata": {},
   "source": [
    "# Inversion 4 (white diamond)"
   ]
  },
  {
   "cell_type": "code",
   "execution_count": 77,
   "metadata": {},
   "outputs": [],
   "source": [
    "mfun.plot_real_solution_4figures(inversion['x'], inversion['y'],\n",
    "                            inversion['z'], inversion['results'][46][3],\n",
    "                            inversion['results'][46][2][-1],\n",
    "                            inversion['results'][46][2][0], filewhite)"
   ]
  },
  {
   "cell_type": "markdown",
   "metadata": {},
   "source": [
    "Application to the field data over the Anitápolis complex, Brazil. Estimated model with magnetic susceptibility value compatible with a priori information close to the study area, represented by the cyan diamond in the validation test. (a) Residuals between the observed data and the predicted data (not shown) produced by the estimated model. The inset shows the histogram of the residuals and a normal Gaussian curve (dashed line) with mean and standard deviation $\\mu = 0.91$ nT and $\\sigma = 6.95$ nT, respectively. The light-gray polygons represent the projection of the estimated model on the horizontal plane. (b) Perspective view of the initial approximate (red prisms). (c) and (d) Perspective views of the estimated model (red prisms)."
   ]
  },
  {
   "cell_type": "markdown",
   "metadata": {},
   "source": [
    "# Inversion 15 (magenta diamond)"
   ]
  },
  {
   "cell_type": "code",
   "execution_count": 8,
   "metadata": {},
   "outputs": [],
   "source": [
    "mfun.plot_real_solution_4figures(inversion['x'], inversion['y'],\n",
    "                            inversion['z'], inversion['results'][13][3],\n",
    "                            inversion['results'][13][2][-1],\n",
    "                            inversion['results'][13][2][0], filemagenta)"
   ]
  },
  {
   "cell_type": "markdown",
   "metadata": {},
   "source": [
    "Application to the field data over the Anitápolis complex, Brazil. Estimated model producing the lowest goal function value, represented by the magenta diamond in the validation test. (a) Residuals between the observed data and the predicted data (not shown) produced by the estimated model. The inset shows the histogram of the residuals and a normal Gaussian curve (dashed line) with mean and standard deviation $\\mu = -0.59$ nT and $\\sigma = 5.80$ nT, respectively.The light-gray polygons represent the projection of the estimated model on the horizontal plane. (b) Perspective view of the initial approximate (red prisms). (c) and (d) Perspective views of the estimated model (red prisms)."
   ]
  },
  {
   "cell_type": "code",
   "execution_count": 9,
   "metadata": {},
   "outputs": [
    {
     "name": "stdout",
     "output_type": "stream",
     "text": [
      "4.518131958886413\n",
      "284.8968379053491\n"
     ]
    }
   ],
   "source": [
    "volume = 0.\n",
    "momentum = 0.\n",
    "for bolacha in inversion['results'][13][2][-1]:\n",
    "    area = mfun.area_polygon(bolacha.x, bolacha.y)\n",
    "    volume += area*(bolacha.z2 - bolacha.z1)\n",
    "    momentum += volume*np.linalg.norm(bolacha.props['magnetization'])\n",
    "    \n",
    "print volume/10.**9.\n",
    "print momentum/10.**9."
   ]
  },
  {
   "cell_type": "code",
   "execution_count": 10,
   "metadata": {},
   "outputs": [
    {
     "data": {
      "text/plain": [
       "469.9100713955518"
      ]
     },
     "execution_count": 10,
     "metadata": {},
     "output_type": "execute_result"
    }
   ],
   "source": [
    "inversion['results'][13][0][-1]"
   ]
  },
  {
   "cell_type": "code",
   "execution_count": null,
   "metadata": {},
   "outputs": [],
   "source": []
  }
 ],
 "metadata": {
  "kernelspec": {
   "display_name": "Python 2",
   "language": "python",
   "name": "python2"
  },
  "language_info": {
   "codemirror_mode": {
    "name": "ipython",
    "version": 2
   },
   "file_extension": ".py",
   "mimetype": "text/x-python",
   "name": "python",
   "nbconvert_exporter": "python",
   "pygments_lexer": "ipython2",
   "version": "2.7.16"
  }
 },
 "nbformat": 4,
 "nbformat_minor": 2
}
