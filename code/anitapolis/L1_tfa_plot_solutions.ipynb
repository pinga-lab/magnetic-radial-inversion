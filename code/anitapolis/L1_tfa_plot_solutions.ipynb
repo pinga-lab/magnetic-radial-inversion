{
 "cells": [
  {
   "cell_type": "markdown",
   "metadata": {},
   "source": [
    "# Plot of solutions"
   ]
  },
  {
   "cell_type": "markdown",
   "metadata": {},
   "source": [
    "This notebook plots the solution figure for a specific solution from the set of results of the multiple inversion notebook."
   ]
  },
  {
   "cell_type": "code",
   "execution_count": 1,
   "metadata": {},
   "outputs": [],
   "source": [
    "import matplotlib as mpb\n",
    "import numpy as np\n",
    "\n",
    "# show the figures in windows\n",
    "\n",
    "# show all the matplotlib backends \n",
    "mpb.rcsetup.all_backends \n",
    "\n",
    "# force matplotlib to use the 'Qt5Agg' backend \n",
    "mpb.use(arg='Qt5Agg', force=True)"
   ]
  },
  {
   "cell_type": "code",
   "execution_count": 2,
   "metadata": {},
   "outputs": [
    {
     "name": "stderr",
     "output_type": "stream",
     "text": [
      "/home/leonardo/anaconda2/lib/python2.7/site-packages/fatiando/vis/mpl.py:76: UserWarning: This module will be removed in v0.6. We recommend the use of matplotlib.pyplot module directly. Some of the fatiando specific functions will remain.\n",
      "  \"specific functions will remain.\")\n"
     ]
    }
   ],
   "source": [
    "import cPickle as pickle\n",
    "\n",
    "# importing my functions\n",
    "import sys\n",
    "sys.path.insert(0, '../../code')\n",
    "\n",
    "import mag_polyprism_functions as mfun"
   ]
  },
  {
   "cell_type": "code",
   "execution_count": 3,
   "metadata": {},
   "outputs": [],
   "source": [
    "# importing the pickle file of results\n",
    "result_path = 'l1-tfa-inversion/multiple-reg-43485/'\n",
    "\n",
    "with open(result_path+'inversion.pickle') as w:\n",
    "        inversion = pickle.load(w)"
   ]
  },
  {
   "cell_type": "code",
   "execution_count": 4,
   "metadata": {},
   "outputs": [],
   "source": [
    "# directory to save the figures and filename\n",
    "#filewhite = ''\n",
    "filewhite = '../../l1-manuscript/figures/anitapolis-l1-white-diamond.png'\n",
    "#filemagenta = ''\n",
    "filemagenta = '../../l1-manuscript/figures/anitapolis-l1-magenta-diamond.png'"
   ]
  },
  {
   "cell_type": "code",
   "execution_count": 5,
   "metadata": {},
   "outputs": [
    {
     "name": "stdout",
     "output_type": "stream",
     "text": [
      "12.438473254451784\n",
      "291.5944258299561\n"
     ]
    }
   ],
   "source": [
    "volume = 0.\n",
    "momentum = 0.\n",
    "for bolacha in inversion['results'][3][2][-1]:\n",
    "    area = mfun.area_polygon(bolacha.x, bolacha.y)\n",
    "    volume += area*(bolacha.z2 - bolacha.z1)\n",
    "    momentum += volume*np.linalg.norm(bolacha.props['magnetization'])\n",
    "    \n",
    "print volume/10.**9.\n",
    "print momentum/10.**9."
   ]
  },
  {
   "cell_type": "code",
   "execution_count": 6,
   "metadata": {},
   "outputs": [
    {
     "data": {
      "text/plain": [
       "array([1.e-04, 1.e-03, 0.e+00, 0.e+00, 1.e-04, 1.e-08, 1.e-05])"
      ]
     },
     "execution_count": 6,
     "metadata": {},
     "output_type": "execute_result"
    }
   ],
   "source": [
    "inversion['regularization']"
   ]
  },
  {
   "cell_type": "markdown",
   "metadata": {},
   "source": [
    "# Inversion 4 (white diamond)"
   ]
  },
  {
   "cell_type": "code",
   "execution_count": 7,
   "metadata": {},
   "outputs": [],
   "source": [
    "mfun.plot_solution(\n",
    "    inversion['x'], inversion['y'],\n",
    "    inversion['z'], inversion['results'][35][3],\n",
    "    inversion['results'][35][2][-1],\n",
    "    inversion['results'][35][2][0],\n",
    "    [25, 115., 10, 50, 20, 160],\n",
    "    [6916., 6923., 685., 692.], [], filewhite, False, 1\n",
    ")"
   ]
  },
  {
   "cell_type": "markdown",
   "metadata": {},
   "source": [
    "Application to the field data over the Anitápolis complex, Brazil. Estimated model with magnetic susceptibility value compatible with a priori information close to the study area, represented by the cyan diamond in the validation test. (a) Residuals between the observed data and the predicted data (not shown) produced by the estimated model. The inset shows the histogram of the residuals and a normal Gaussian curve (dashed line) with mean and standard deviation $\\mu = 0.91$ nT and $\\sigma = 6.95$ nT, respectively. The light-gray polygons represent the projection of the estimated model on the horizontal plane. (b) Perspective view of the initial approximate (red prisms). (c) and (d) Perspective views of the estimated model (red prisms)."
   ]
  },
  {
   "cell_type": "markdown",
   "metadata": {},
   "source": [
    "# Inversion 15 (magenta diamond)"
   ]
  },
  {
   "cell_type": "code",
   "execution_count": 8,
   "metadata": {},
   "outputs": [],
   "source": [
    "mfun.plot_solution(\n",
    "    inversion['x'], inversion['y'],\n",
    "    inversion['z'], inversion['results'][24][3],\n",
    "    inversion['results'][24][2][-1],\n",
    "    inversion['results'][24][2][0],\n",
    "    [25, 115., 10, 50, 20, 160],\n",
    "    [6916., 6923., 685., 692.], [], filemagenta, False, 1\n",
    ")"
   ]
  },
  {
   "cell_type": "markdown",
   "metadata": {},
   "source": [
    "Application to the field data over the Anitápolis complex, Brazil. Estimated model producing the lowest goal function value, represented by the magenta diamond in the validation test. (a) Residuals between the observed data and the predicted data (not shown) produced by the estimated model. The inset shows the histogram of the residuals and a normal Gaussian curve (dashed line) with mean and standard deviation $\\mu = -0.59$ nT and $\\sigma = 5.80$ nT, respectively.The light-gray polygons represent the projection of the estimated model on the horizontal plane. (b) Perspective view of the initial approximate (red prisms). (c) and (d) Perspective views of the estimated model (red prisms)."
   ]
  },
  {
   "cell_type": "code",
   "execution_count": 9,
   "metadata": {},
   "outputs": [
    {
     "name": "stdout",
     "output_type": "stream",
     "text": [
      "11.47198522105064\n",
      "274.946400106827\n"
     ]
    }
   ],
   "source": [
    "volume = 0.\n",
    "momentum = 0.\n",
    "for bolacha in inversion['results'][13][2][-1]:\n",
    "    area = mfun.area_polygon(bolacha.x, bolacha.y)\n",
    "    volume += area*(bolacha.z2 - bolacha.z1)\n",
    "    momentum += volume*np.linalg.norm(bolacha.props['magnetization'])\n",
    "    \n",
    "print volume/10.**9.\n",
    "print momentum/10.**9."
   ]
  },
  {
   "cell_type": "code",
   "execution_count": 10,
   "metadata": {},
   "outputs": [
    {
     "data": {
      "text/plain": [
       "555.6921112514983"
      ]
     },
     "execution_count": 10,
     "metadata": {},
     "output_type": "execute_result"
    }
   ],
   "source": [
    "inversion['results'][13][0][-1]"
   ]
  },
  {
   "cell_type": "code",
   "execution_count": null,
   "metadata": {},
   "outputs": [],
   "source": []
  }
 ],
 "metadata": {
  "kernelspec": {
   "display_name": "Python 2",
   "language": "python",
   "name": "python2"
  },
  "language_info": {
   "codemirror_mode": {
    "name": "ipython",
    "version": 2
   },
   "file_extension": ".py",
   "mimetype": "text/x-python",
   "name": "python",
   "nbconvert_exporter": "python",
   "pygments_lexer": "ipython2",
   "version": "2.7.16"
  }
 },
 "nbformat": 4,
 "nbformat_minor": 2
}
