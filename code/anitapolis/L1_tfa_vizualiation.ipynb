{
 "cells": [
  {
   "cell_type": "markdown",
   "metadata": {},
   "source": [
    "# Visualization of inversion - complex data"
   ]
  },
  {
   "cell_type": "code",
   "execution_count": 1,
   "metadata": {},
   "outputs": [],
   "source": [
    "import matplotlib as mpb\n",
    "\n",
    "# show all the matplotlib backends \n",
    "mpb.rcsetup.all_backends \n",
    "\n",
    "# force matplotlib to use the 'Qt5Agg' backend \n",
    "mpb.use(arg='Qt5Agg', force=True)"
   ]
  },
  {
   "cell_type": "code",
   "execution_count": 2,
   "metadata": {},
   "outputs": [
    {
     "name": "stderr",
     "output_type": "stream",
     "text": [
      "/home/leonardo/anaconda2/lib/python2.7/site-packages/fatiando/vis/mpl.py:76: UserWarning: This module will be removed in v0.6. We recommend the use of matplotlib.pyplot module directly. Some of the fatiando specific functions will remain.\n",
      "  \"specific functions will remain.\")\n"
     ]
    }
   ],
   "source": [
    "import numpy as np\n",
    "import matplotlib.pyplot as plt\n",
    "import cPickle as pickle\n",
    "import os\n",
    "import scipy.stats as sp\n",
    "\n",
    "from fatiando.vis import mpl\n",
    "from mpl_toolkits.mplot3d import Axes3D\n",
    "from mpl_toolkits.mplot3d.art3d import Poly3DCollection\n",
    "from mpl_toolkits.axes_grid1.inset_locator import inset_axes"
   ]
  },
  {
   "cell_type": "code",
   "execution_count": 3,
   "metadata": {
    "collapsed": true
   },
   "outputs": [],
   "source": [
    "import sys\n",
    "sys.path.insert(0, '../../code')\n",
    "\n",
    "import mag_polyprism_functions as mfun"
   ]
  },
  {
   "cell_type": "code",
   "execution_count": 12,
   "metadata": {},
   "outputs": [],
   "source": [
    "mypath = 'l1-tfa-inversion/single-29-Jul-2020-09h:56m/'"
   ]
  },
  {
   "cell_type": "code",
   "execution_count": 13,
   "metadata": {
    "collapsed": true
   },
   "outputs": [],
   "source": [
    "with open(mypath+'inversion.pickle') as w:\n",
    "        inversion = pickle.load(w)"
   ]
  },
  {
   "cell_type": "code",
   "execution_count": 14,
   "metadata": {},
   "outputs": [],
   "source": [
    "plt.figure(figsize=(6,5))\n",
    "ax=mpl.subplot(1,1,1)\n",
    "#plt.title('Residual', fontsize=20)\n",
    "norm=mpb.colors.Normalize(vmin=-np.max(inversion['residual']), vmax=np.max(inversion['residual']))\n",
    "plt.tricontourf(inversion['y'], inversion['x'], inversion['residual'], 20, cmap='RdBu_r', norm=norm).ax.tick_params(labelsize=12)\n",
    "plt.xlabel('$y$(km)', fontsize=18)\n",
    "plt.ylabel('$x$(km)', fontsize=18)\n",
    "for prism_i in inversion['prisms']:\n",
    "        mpl.polygon(prism_i.topolygon(), linewidth=0, fill='k',\n",
    "                    alpha=0.2, xy2ne=True)\n",
    "#plt.xlim(np.min(inversion['x']), np.max(inversion['x']))\n",
    "#plt.ylim(np.min(inversion['y']), np.max(inversion['y']))\n",
    "clb = plt.colorbar(pad=0.01, aspect=20, shrink=1)\n",
    "mpl.m2km()\n",
    "clb.ax.set_title('nT')\n",
    "clb.ax.tick_params(labelsize=13)\n",
    "inset = inset_axes(ax, width=\"40%\", height=\"30%\", loc=1, borderpad=0.7)\n",
    "mean = np.mean(inversion['residual'])\n",
    "std = np.std(inversion['residual'])\n",
    "nbins=30\n",
    "n, bins, patches = plt.hist(inversion['residual'],bins=nbins, normed=True, facecolor='blue')\n",
    "props = dict(boxstyle='round', facecolor='wheat', alpha=0.5)\n",
    "inset.text(0.68, 0.95, \"$\\mu$ = {:.2f}\\n$\\sigma$ = {:.2f}\".format(mean, std),\n",
    "                transform=inset.transAxes, fontsize=7,\n",
    "            va='top', ha='left', bbox=props)\n",
    "gauss = sp.norm.pdf(bins, mean, std)\n",
    "plt.plot(bins, gauss, 'k--', linewidth=1., label='Gaussian')\n",
    "\n",
    "\n",
    "#plt.savefig(mypath+'complex_tfa_residual.png', dpi=300, bbox_inches=\"tight\")\n",
    "plt.show()\n",
    "#img(filename=mypath+'diorama_tfa_residual.png', width=1600, height=400)"
   ]
  },
  {
   "cell_type": "code",
   "execution_count": 8,
   "metadata": {},
   "outputs": [],
   "source": [
    "x = inversion['x']/1000.\n",
    "y = inversion['y']/1000.\n",
    "z = inversion['z']/1000.\n",
    "\n",
    "for i in range(len(inversion['prisms'])):\n",
    "    inversion['prisms'][i].x /= 1000.\n",
    "    inversion['prisms'][i].y /= 1000.\n",
    "    inversion['prisms'][i].z1 /= 1000.\n",
    "    inversion['prisms'][i].z2 /= 1000.\n",
    "    inversion['initial_estimate'][i].x /= 1000.\n",
    "    inversion['initial_estimate'][i].y /= 1000.\n",
    "    inversion['initial_estimate'][i].z1 /= 1000.\n",
    "    inversion['initial_estimate'][i].z2 /= 1000."
   ]
  },
  {
   "cell_type": "code",
   "execution_count": 9,
   "metadata": {},
   "outputs": [],
   "source": [
    "verts = mfun.plot_prisms(inversion['prisms'])\n",
    "verts_initial = mfun.plot_prisms(inversion['initial_estimate'])"
   ]
  },
  {
   "cell_type": "code",
   "execution_count": 10,
   "metadata": {},
   "outputs": [],
   "source": [
    "fig = plt.figure(figsize=(10,8))\n",
    "ax = fig.add_subplot(111, projection='3d')\n",
    "\n",
    "# plot sides\n",
    "ax.add_collection3d(Poly3DCollection(verts, alpha=.3, \n",
    " facecolor='r', linewidths=1.0, edgecolors='r'))\n",
    "\n",
    "ax.set_xlim(684, 694)\n",
    "ax.set_ylim(6916, 6926)\n",
    "ax.set_zlim(7, -1, 100)\n",
    "ax.tick_params(labelsize= 13, pad=8)\n",
    "ax.set_xlabel('Y (km)', fontsize= 17)\n",
    "ax.set_ylabel('X (km)', fontsize= 17)\n",
    "ax.set_zlabel('Z (km)', fontsize= 17)\n",
    "ax.yaxis.labelpad=13\n",
    "ax.zaxis.labelpad=13\n",
    "ax.xaxis.labelpad=13\n",
    "ax.view_init(10, 00)\n",
    "ax.autoscale_view()\n",
    "plt.show()"
   ]
  },
  {
   "cell_type": "code",
   "execution_count": 42,
   "metadata": {},
   "outputs": [
    {
     "data": {
      "text/plain": [
       "array([1.e-08, 1.e-08, 0.e+00, 0.e+00, 1.e-08, 1.e-08, 1.e-08])"
      ]
     },
     "execution_count": 42,
     "metadata": {},
     "output_type": "execute_result"
    }
   ],
   "source": [
    "inversion['regularization']"
   ]
  },
  {
   "cell_type": "code",
   "execution_count": 43,
   "metadata": {},
   "outputs": [],
   "source": [
    "plt.figure(figsize=(6,5))\n",
    "#plt.title('Observed TFA', fontsize=20)\n",
    "norm=mpb.colors.Normalize(vmin=np.min(inversion['observed_data']), vmax=np.min(inversion['observed_data'])*(-1))\n",
    "plt.tricontour(inversion['y'], inversion['x'], inversion['observed_data'], 20, linewidths=0.2, colors='k')\n",
    "plt.tricontourf(inversion['y'], inversion['x'], inversion['observed_data'], 20, cmap='RdBu_r', norm=norm).ax.tick_params(labelsize=12)\n",
    "#plt.plot(inversion['y'], inversion['x'], 'ko', markersize=1.)\n",
    "plt.xlabel('$y$(km)', fontsize=18)\n",
    "plt.ylabel('$x$(km)', fontsize=18)\n",
    "clb = plt.colorbar(pad=0.025, aspect=40, shrink=1)\n",
    "clb.ax.tick_params(labelsize=13)\n",
    "clb.ax.set_title('nT')\n",
    "#clines = plt.tricontour(yp, xp, dobs, 20, colors='k', linewidths=0.2)\n",
    "#plt.clabel(clines, fontsize=4, fmt='%3d')\n",
    "mpl.m2km()\n",
    "#plt.legend(loc=0, fontsize=12, shadow=bool, framealpha=1, edgecolor='black')\n",
    "plt.savefig(mypath+'complex_tfa_data.png', dpi=300, bbox_inches=\"tight\")\n",
    "plt.show()\n",
    "#img(filename=mypath+'complex_real_data.png', width=1000, height=1200)"
   ]
  },
  {
   "cell_type": "code",
   "execution_count": null,
   "metadata": {},
   "outputs": [],
   "source": [
    "inversion['regularization']"
   ]
  },
  {
   "cell_type": "code",
   "execution_count": null,
   "metadata": {},
   "outputs": [],
   "source": [
    "# plot\n",
    "plt.figure(figsize=(25,7))\n",
    "plt.subplot(1, 3, 1)\n",
    "plt.title('Predict', fontsize=20)\n",
    "norm=mpb.colors.Normalize(vmin=np.min(inversion['data_fit']), vmax=np.min(inversion['data_fit'])*(-1))\n",
    "plt.tricontourf(inversion['y'], inversion['x'], inversion['data_fit'],20, cmap='viridis', norm=norm).ax.tick_params(labelsize=12)\n",
    "plt.xlabel('$y$(m)', fontsize=18)\n",
    "plt.ylabel('$x$(m)', fontsize=18)\n",
    "clb = plt.colorbar(pad=0.01, aspect=20, shrink=1)\n",
    "clb.ax.tick_params(labelsize=13)\n",
    "clb.ax.set_title('nT')\n",
    "mpl.m2km()\n",
    "\n",
    "plt.subplot(1, 3, 2)\n",
    "plt.title('Observed', fontsize=20)\n",
    "norm=mpb.colors.Normalize(vmin=np.min(inversion['observed_data']), vmax=np.min(inversion['observed_data'])*(-1))\n",
    "plt.tricontourf(inversion['y'], inversion['x'], inversion['observed_data'], 20, cmap='viridis', norm=norm).ax.tick_params(labelsize=12)\n",
    "plt.xlabel('$y$(m)', fontsize=18)\n",
    "plt.ylabel('$x$(m)', fontsize=18)\n",
    "clb = plt.colorbar(pad=0.01, aspect=20, shrink=1)\n",
    "clb.ax.tick_params(labelsize=13)\n",
    "clb.ax.set_title('nT')\n",
    "mpl.m2km()\n",
    "\n",
    "plt.subplot(1, 3, 3)\n",
    "plt.title('Residual', fontsize=20)\n",
    "norm=mpb.colors.Normalize(vmin=np.min(inversion['residual']), vmax=np.min(inversion['residual'])*(-1))\n",
    "plt.tricontourf(inversion['y'], inversion['x'], inversion['residual'], 20, cmap='viridis', norm=norm).ax.tick_params(labelsize=12)\n",
    "plt.xlabel('$y$(m)', fontsize=18)\n",
    "plt.ylabel('$x$(m)', fontsize=18)\n",
    "clb = plt.colorbar(pad=0.01, aspect=20, shrink=1)\n",
    "clb.ax.set_title('nT')\n",
    "clb.ax.tick_params(labelsize=13)\n",
    "mpl.m2km()\n",
    "plt.savefig(mypath+'complex_tfa_fit.png', dpi=300, bbox_inches=\"tight\")\n",
    "plt.show()\n",
    "#img(filename=mypath+'complex_tfa_fit.png', width=1600, height=400)"
   ]
  },
  {
   "cell_type": "code",
   "execution_count": null,
   "metadata": {},
   "outputs": [],
   "source": [
    "plt.figure(figsize=(6,5))\n",
    "plt.title('Convergence', fontsize = 18)\n",
    "plt.xlabel('Iteration number')\n",
    "plt.plot(inversion['objective'], 'b-', label='Misfit value')\n",
    "plt.legend(loc=0, fontsize=12, shadow=bool, framealpha=1)\n",
    "\n",
    "plt.savefig(mypath+'complex_tfa_convergence.png', dpi=300, bbox_inches=\"tight\")\n",
    "plt.show()\n",
    "\n",
    "#img(filename=mypath+'complex_tfa_convergence.png', width=400, height=400)"
   ]
  },
  {
   "cell_type": "code",
   "execution_count": null,
   "metadata": {},
   "outputs": [],
   "source": [
    "inversion['regularization']"
   ]
  },
  {
   "cell_type": "code",
   "execution_count": null,
   "metadata": {},
   "outputs": [],
   "source": [
    "fig = plt.figure(figsize=(10,8))\n",
    "ax = fig.add_subplot(111, projection='3d')\n",
    "\n",
    "# plot sides\n",
    "ax.add_collection3d(Poly3DCollection(verts_true, \n",
    "alpha=0, facecolor='b', linewidths=1., edgecolors='b'))\n",
    "ax.add_collection3d(Poly3DCollection(verts, alpha=0.3, \n",
    " facecolor='r', linewidths=1.0, edgecolors='r'))\n",
    "\n",
    "ax.set_xlim(-3, 3, 100)\n",
    "ax.set_ylim(-3, 3, 100)\n",
    "ax.set_zlim(7, -1, 100)\n",
    "ax.tick_params(labelsize= 13, pad=8)\n",
    "ax.set_xlabel('Y (km)', fontsize= 17)\n",
    "ax.set_ylabel('X (km)', fontsize= 17)\n",
    "ax.set_zlabel('Z (km)', fontsize= 17)\n",
    "ax.set_xticklabels(np.linspace(-3, 3, 7))\n",
    "ax.set_yticklabels(np.linspace(-3, 3, 7))\n",
    "ax.set_zticklabels(np.linspace(-1, 7, 9))\n",
    "ax.yaxis.labelpad=13\n",
    "ax.zaxis.labelpad=13\n",
    "ax.xaxis.labelpad=13\n",
    "ax.view_init(0, -90)\n",
    "ax.autoscale_view()\n",
    "\n",
    "#norm=mpb.colors.Normalize(vmin=np.min(inversion['residual']), vmax=np.min(inversion['residual'])*(-1))\n",
    "#ax.tricontourf(inversion['y'], inversion['x'], inversion['residual'],\n",
    "#                zdir='z', offset=-1150, cmap='RdBu_r', norm=norm)\n",
    "\n",
    "plt.savefig(mypath+'complex_3d_estimate2.png', dpi=300, bbox_inches=\"tight\")\n",
    "plt.show()"
   ]
  },
  {
   "cell_type": "code",
   "execution_count": null,
   "metadata": {},
   "outputs": [],
   "source": [
    "fig = plt.figure(figsize=(10,8))\n",
    "ax = fig.add_subplot(111, projection='3d')\n",
    "\n",
    "# plot sides\n",
    "ax.add_collection3d(Poly3DCollection(verts_true, \n",
    "alpha=0, facecolor='b', linewidths=1., edgecolors='b'))\n",
    "ax.add_collection3d(Poly3DCollection(verts, alpha=0.3, \n",
    " facecolor='r', linewidths=1.0, edgecolors='r'))\n",
    "\n",
    "ax.set_xlim(-3, 3, 100)\n",
    "ax.set_ylim(-3, 3, 100)\n",
    "ax.set_zlim(7, -1, 100)\n",
    "ax.tick_params(labelsize= 13, pad=8)\n",
    "ax.set_xlabel('Y (km)', fontsize= 17)\n",
    "ax.set_ylabel('X (km)', fontsize= 17)\n",
    "ax.set_zlabel('Z (km)', fontsize= 17)\n",
    "ax.set_xticklabels(np.linspace(-3, 3, 7))\n",
    "ax.set_yticklabels(np.linspace(-3, 3, 7))\n",
    "ax.set_zticklabels(np.linspace(-1, 7, 9))\n",
    "ax.yaxis.labelpad=20\n",
    "ax.zaxis.labelpad=15\n",
    "ax.xaxis.labelpad=15\n",
    "\n",
    "ax.view_init(0, 45)\n",
    "ax.autoscale_view()\n",
    "\n",
    "#norm=mpb.colors.Normalize(vmin=np.min(inversion['residual']), vmax=np.min(inversion['residual'])*(-1))\n",
    "#ax.tricontourf(inversion['y'], inversion['x'], inversion['residual'],\n",
    "#                zdir='z', offset=-1150, cmap='RdBu_r', norm=norm)\n",
    "\n",
    "plt.savefig(mypath+'complex_3d_estimate3.png', dpi=300, bbox_inches=\"tight\")\n",
    "plt.show()"
   ]
  },
  {
   "cell_type": "code",
   "execution_count": null,
   "metadata": {},
   "outputs": [],
   "source": [
    "fig = plt.figure(figsize=(10,8))\n",
    "ax = fig.add_subplot(111, projection='3d')\n",
    "\n",
    "# plot sides\n",
    "ax.add_collection3d(Poly3DCollection(verts_true, \n",
    "alpha=0.4, facecolor='b', linewidths=1., edgecolors='b'))\n",
    "ax.add_collection3d(Poly3DCollection(verts_initial, alpha=0.3, \n",
    " facecolor='r', linewidths=1., edgecolors='r'))\n",
    "\n",
    "ax.set_xlim(-3, 3, 100)\n",
    "ax.set_ylim(-3, 3, 100)\n",
    "ax.set_zlim(7, -1, 100)\n",
    "ax.tick_params(labelsize= 13, pad=8)\n",
    "ax.set_xlabel('Y (km)', fontsize= 17)\n",
    "ax.set_ylabel('X (km)', fontsize= 17)\n",
    "ax.set_zlabel('Z (km)', fontsize= 17)\n",
    "ax.set_xticklabels(np.linspace(-3, 3, 7))\n",
    "ax.set_yticklabels(np.linspace(-3, 3, 7))\n",
    "ax.set_zticklabels(np.linspace(-1, 7, 9))\n",
    "ax.yaxis.labelpad=20\n",
    "ax.zaxis.labelpad=20\n",
    "ax.xaxis.labelpad=20\n",
    "\n",
    "ax.view_init(20, -80)\n",
    "\n",
    "#norm=mpb.colors.Normalize(vmin=np.min(inversion['residual']), vmax=np.min(inversion['residual'])*(-1))\n",
    "#ax.tricontourf(inversion['y'], inversion['x'], inversion['residual'],\n",
    "#                zdir='z', offset=-150, cmap='RdBu_r', norm=norm)\n",
    "\n",
    "plt.savefig(mypath+'complex_3d_ini_estimate.png', dpi=300, bbox_inches=\"tight\")\n",
    "plt.show()\n",
    "\n",
    "#img(filename=mypath+'kimberlite_3d_estimate.png', width=400, height=400)"
   ]
  },
  {
   "cell_type": "code",
   "execution_count": null,
   "metadata": {},
   "outputs": [],
   "source": [
    "# calculate the momentum\n",
    "\n",
    "volume = 0.\n",
    "momentum = 0.\n",
    "for bolacha in model['prisms']:\n",
    "    area = mfun.area_polygon(bolacha.x, bolacha.y)\n",
    "    volume += area*(bolacha.z2 - bolacha.z1)\n",
    "    momentum += volume*model['intensity']\n",
    "    \n",
    "momentum"
   ]
  },
  {
   "cell_type": "code",
   "execution_count": null,
   "metadata": {},
   "outputs": [],
   "source": [
    "volume = 0.\n",
    "momentum = 0.\n",
    "for bolacha in inversion['prisms']:\n",
    "    area = mfun.area_polygon(bolacha.x, bolacha.y)\n",
    "    volume += area*(bolacha.z2 - bolacha.z1)\n",
    "    momentum += volume*np.linalg.norm(bolacha.props['magnetization'])\n",
    "    \n",
    "momentum"
   ]
  },
  {
   "cell_type": "code",
   "execution_count": null,
   "metadata": {},
   "outputs": [],
   "source": []
  },
  {
   "cell_type": "code",
   "execution_count": null,
   "metadata": {},
   "outputs": [],
   "source": [
    "# calculate the momentum\n",
    "\n",
    "volume_true = 0.\n",
    "momentum_true = 0.\n",
    "for bolacha in model['prisms']:\n",
    "    area_true = mfun.area_polygon(bolacha.x, bolacha.y)\n",
    "    volume_true += area_true*(bolacha.z2 - bolacha.z1)\n",
    "    momentum_true += volume_true*model['intensity']\n",
    "    \n",
    "print volume_true/10.**9.    \n",
    "print momentum_true/10.**9."
   ]
  },
  {
   "cell_type": "code",
   "execution_count": null,
   "metadata": {},
   "outputs": [],
   "source": [
    "volume = 0.\n",
    "momentum = 0.\n",
    "for bolacha in inversion['prisms']:\n",
    "    area = mfun.area_polygon(bolacha.x, bolacha.y)\n",
    "    volume += area*(bolacha.z2 - bolacha.z1)\n",
    "    momentum += volume*np.linalg.norm(bolacha.props['magnetization'])\n",
    "    \n",
    "print volume/10.**9.\n",
    "print momentum/10.**9."
   ]
  },
  {
   "cell_type": "code",
   "execution_count": null,
   "metadata": {},
   "outputs": [],
   "source": [
    "(volume_true - volume)*100./volume_true"
   ]
  },
  {
   "cell_type": "code",
   "execution_count": null,
   "metadata": {},
   "outputs": [],
   "source": [
    "((momentum_true - momentum)*100./momentum_true)"
   ]
  },
  {
   "cell_type": "code",
   "execution_count": null,
   "metadata": {},
   "outputs": [],
   "source": [
    "inversion['estimate'][-1]*len(inversion['initial_estimate'])"
   ]
  },
  {
   "cell_type": "code",
   "execution_count": null,
   "metadata": {},
   "outputs": [],
   "source": [
    "model['dz']*model['L']"
   ]
  },
  {
   "cell_type": "code",
   "execution_count": null,
   "metadata": {},
   "outputs": [],
   "source": [
    "np.std(inversion['residual'])/np.std(inversion['observed_data'])*100"
   ]
  },
  {
   "cell_type": "code",
   "execution_count": null,
   "metadata": {},
   "outputs": [],
   "source": [
    "plt.figure(figsize=(10,9))\n",
    "\n",
    "# residual data and histogram\n",
    "ax=plt.subplot(2,2,1)\n",
    "#plt.title('Residual', fontsize=20)\n",
    "plt.tricontourf(inversion['y'], inversion['x'], inversion['residual'], 20,\n",
    "                cmap='RdBu_r', vmin=np.min(inversion['residual']),\n",
    "                vmax=np.min(inversion['residual'])*(-1)).ax.tick_params(labelsize=10)\n",
    "plt.xlabel('$y$(m)', fontsize=10)\n",
    "plt.ylabel('$x$(m)', fontsize=10)\n",
    "clb = plt.colorbar(pad=0.01, aspect=20, shrink=1)\n",
    "clb.ax.set_title('nT', pad=-310)\n",
    "mpl.m2km()\n",
    "clb.ax.tick_params(labelsize=13)\n",
    "inset = inset_axes(ax, width=\"40%\", height=\"30%\", loc=1, borderpad=0.7)\n",
    "mean = np.mean(inversion['residual'])\n",
    "std = np.std(inversion['residual'])\n",
    "nbins=30\n",
    "n, bins, patches = plt.hist(inversion['residual'],bins=nbins, normed=True, facecolor='blue')\n",
    "props = dict(boxstyle='round', facecolor='wheat', alpha=0.5)\n",
    "inset.text(0.1, 0.95, \"$\\mu$ = {:.2f}\\n$\\sigma$ = {:.2f}\".format(mean, std),\n",
    "                transform=inset.transAxes, fontsize=7,\n",
    "            va='top', ha='left', bbox=props)\n",
    "gauss = sp.norm.pdf(bins, mean, std)\n",
    "plt.plot(bins, gauss, 'k--', linewidth=1., label='Gaussian')\n",
    "ax.text(-6000, 5500, '(a)', fontsize= 15)\n",
    "\n",
    "# initial approximate\n",
    "ax = plt.subplot(2,2,2, projection='3d')\n",
    "\n",
    "# plot sides\n",
    "ax.add_collection3d(Poly3DCollection(verts_initial, alpha=0.3, \n",
    " facecolor='r', linewidths=0.5, edgecolors='k'))\n",
    "ax.add_collection3d(Poly3DCollection(verts_true, alpha=0.3, \n",
    " facecolor='b', linewidths=0.5, edgecolors='k'))\n",
    "\n",
    "ax.set_xlim(-3, 3, 100)\n",
    "ax.set_ylim(-3, 3, 100)\n",
    "ax.set_zlim(7, -1, 100)\n",
    "ax.tick_params(labelsize= 10)\n",
    "ax.set_ylabel('y (km)', fontsize= 14)\n",
    "ax.set_xlabel('x (km)', fontsize= 14)\n",
    "ax.set_zlabel('z (km)', fontsize= 14)\n",
    "ax.view_init(10, 50)\n",
    "ax.text2D(-0.1, 0.07, '(b)', fontsize= 15)\n",
    "\n",
    "# inverse model view 1\n",
    "ax = plt.subplot(2,2,3, projection='3d')\n",
    "\n",
    "# plot sides\n",
    "ax.add_collection3d(Poly3DCollection(verts, alpha=0.5, \n",
    " facecolor='r', linewidths=0.5, edgecolors='k'))\n",
    "ax.add_collection3d(Poly3DCollection(verts_true, alpha=0.1, \n",
    " facecolor='b', linewidths=0.5, edgecolors='k'))\n",
    "\n",
    "ax.set_xlim(-3, 3, 100)\n",
    "ax.set_ylim(-3, 3, 100)\n",
    "ax.set_zlim(7, -1, 100)\n",
    "ax.tick_params(labelsize= 10)\n",
    "ax.set_ylabel('y (km)', fontsize= 14)\n",
    "ax.set_xlabel('x (km)', fontsize= 14)\n",
    "ax.set_zlabel('z (km)', fontsize= 14)\n",
    "ax.view_init(0, 45)\n",
    "ax.text2D(-0.11, 0.07, '(c)', fontsize= 15)\n",
    "\n",
    "# inverse model view 2\n",
    "ax = plt.subplot(2,2,4, projection='3d')\n",
    "\n",
    "# plot sides\n",
    "ax.add_collection3d(Poly3DCollection(verts, alpha=0.5, \n",
    " facecolor='r', linewidths=0.5, edgecolors='k'))\n",
    "ax.add_collection3d(Poly3DCollection(verts_true, alpha=0.1, \n",
    " facecolor='b', linewidths=0.5, edgecolors='k'))\n",
    "\n",
    "ax.set_xlim(-3, 3, 100)\n",
    "ax.set_ylim(-3, 3, 100)\n",
    "ax.set_zlim(7, -1, 100)\n",
    "ax.tick_params(labelsize= 10)\n",
    "ax.set_ylabel('y (km)', fontsize= 14)\n",
    "ax.set_xlabel('x (km)', fontsize= 14)\n",
    "ax.set_zlabel('z (km)', fontsize= 14)\n",
    "ax.view_init(20, 135)\n",
    "ax.text2D(-0.1, 0.1, '(d)', fontsize= 15)\n",
    "\n",
    "plt.tight_layout()\n",
    "plt.savefig(mypath+'results.png', dpi=300, bbox_inches='tight')\n",
    "plt.show()"
   ]
  },
  {
   "cell_type": "code",
   "execution_count": null,
   "metadata": {},
   "outputs": [],
   "source": [
    "plt.figure(figsize=(10,9))\n",
    "\n",
    "# sinthetic data\n",
    "ax=plt.subplot(2,2,1)\n",
    "plt.tricontour(inversion['y'], inversion['x'], inversion['observed_data'], 20,\n",
    "                cmap='RdBu_r', linewidths=1)\n",
    "plt.tricontourf(inversion['y'], inversion['x'], inversion['observed_data'], 20,\n",
    "                cmap='RdBu_r', vmin=np.min(inversion['observed_data']),\n",
    "                vmax=-np.min(inversion['observed_data'])).ax.tick_params(labelsize=10)\n",
    "plt.xlabel('$y$(m)', fontsize=14)\n",
    "plt.ylabel('$x$(m)', fontsize=14)\n",
    "clb = plt.colorbar(pad=0.01, aspect=20, shrink=1)\n",
    "clb.ax.set_title('nT', pad=-315)\n",
    "yplot = []\n",
    "xplot = []\n",
    "for i in range(inversion['initial_estimate'][0].y.size):\n",
    "    yplot.append(inversion['initial_estimate'][0].y[i]*1000.)\n",
    "    xplot.append(inversion['initial_estimate'][0].x[i]*1000.)\n",
    "yplot.append(inversion['initial_estimate'][0].y[0]*1000.)\n",
    "xplot.append(inversion['initial_estimate'][0].x[0]*1000.)\n",
    "plt.plot(yplot, xplot, '.-r')\n",
    "mpl.m2km()\n",
    "clb.ax.tick_params(labelsize=13)\n",
    "plt.plot(inversion['y'], inversion['x'], 'k.', markersize=.25, label='Gaussian')\n",
    "plt.text(-5500, 3800, '(a)', fontsize= 15)\n",
    "\n",
    "# plot elevation\n",
    "ax=plt.subplot(2,2,2)\n",
    "plt.tricontourf(inversion['y'], inversion['x'], inversion['z'], 20,\n",
    "                cmap='inferno').ax.tick_params(labelsize=10)\n",
    "plt.xlabel('$y$(m)', fontsize=14)\n",
    "plt.ylabel('$x$(m)', fontsize=14)\n",
    "clb = plt.colorbar(pad=0.01, aspect=20, shrink=1)\n",
    "clb.ax.set_title('m', pad=-315)\n",
    "mpl.m2km()\n",
    "clb.ax.tick_params(labelsize=13)\n",
    "plt.plot(inversion['y'], inversion['x'], 'ko', markersize=.25, label='Gaussian')\n",
    "plt.text(-5500, 3800, '(b)', fontsize= 15)\n",
    "\n",
    "# true model\n",
    "ax = plt.subplot(2,2,3, projection='3d')\n",
    "ax.add_collection3d(Poly3DCollection(verts_true[:-17], alpha=0.3, \n",
    " facecolor='b', linewidths=0.5, edgecolors='k'))\n",
    "ax.add_collection3d(Poly3DCollection(verts_true[-17:], alpha=0.3, \n",
    " facecolor='g', linewidths=0.5, edgecolors='k'))\n",
    "\n",
    "ax.set_xlim(-2.5, 2.5, 100)\n",
    "ax.set_ylim(-2.5, 2.5, 100)\n",
    "ax.set_zlim(7, -0.2, 100)\n",
    "ax.tick_params(labelsize= 10)\n",
    "ax.set_ylabel('y (km)', fontsize= 14)\n",
    "ax.set_xlabel('x (km)', fontsize= 14)\n",
    "ax.set_zlabel('z (km)', fontsize= 14)\n",
    "ax.view_init(0, 45)\n",
    "ax.text2D(-0.1, 0.07, '(c)', fontsize= 15)\n",
    "\n",
    "# true model\n",
    "ax = plt.subplot(2,2,4, projection='3d')\n",
    "ax.add_collection3d(Poly3DCollection(verts_true[:-17], alpha=0.3, \n",
    " facecolor='b', linewidths=0.5, edgecolors='k'))\n",
    "ax.add_collection3d(Poly3DCollection(verts_true[-17:], alpha=0.3, \n",
    " facecolor='g', linewidths=0.5, edgecolors='k'))\n",
    "\n",
    "ax.set_xlim(-2.5, 2.5, 100)\n",
    "ax.set_ylim(-2.5, 2.5, 100)\n",
    "ax.set_zlim(7, -0.2, 100)\n",
    "ax.tick_params(labelsize= 10)\n",
    "ax.set_ylabel('y (km)', fontsize= 14)\n",
    "ax.set_xlabel('x (km)', fontsize= 14)\n",
    "ax.set_zlabel('z (km)', fontsize= 14)\n",
    "ax.view_init(20, 135)\n",
    "ax.text2D(-0.1, 0.07, '(d)', fontsize= 15)\n",
    "\n",
    "plt.tight_layout()\n",
    "\n",
    "plt.savefig(mypath+'model_data.png', dpi=300, bbox_inches='tight')\n",
    "\n",
    "plt.show()"
   ]
  },
  {
   "cell_type": "code",
   "execution_count": null,
   "metadata": {},
   "outputs": [],
   "source": []
  },
  {
   "cell_type": "code",
   "execution_count": null,
   "metadata": {},
   "outputs": [],
   "source": []
  },
  {
   "cell_type": "code",
   "execution_count": null,
   "metadata": {},
   "outputs": [],
   "source": []
  },
  {
   "cell_type": "code",
   "execution_count": null,
   "metadata": {},
   "outputs": [],
   "source": []
  }
 ],
 "metadata": {
  "kernelspec": {
   "display_name": "Python 2",
   "language": "python",
   "name": "python2"
  },
  "language_info": {
   "codemirror_mode": {
    "name": "ipython",
    "version": 2
   },
   "file_extension": ".py",
   "mimetype": "text/x-python",
   "name": "python",
   "nbconvert_exporter": "python",
   "pygments_lexer": "ipython2",
   "version": "2.7.16"
  }
 },
 "nbformat": 4,
 "nbformat_minor": 2
}
