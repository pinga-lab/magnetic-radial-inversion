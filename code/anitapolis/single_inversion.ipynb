{
 "cells": [
  {
   "cell_type": "markdown",
   "metadata": {},
   "source": [
    "# Santa Catarina TFA inversion"
   ]
  },
  {
   "cell_type": "code",
   "execution_count": 1,
   "metadata": {},
   "outputs": [
    {
     "name": "stderr",
     "output_type": "stream",
     "text": [
      "/home/leo/anaconda2/lib/python2.7/site-packages/fatiando/vis/mpl.py:76: UserWarning: This module will be removed in v0.6. We recommend the use of matplotlib.pyplot module directly. Some of the fatiando specific functions will remain.\n",
      "  \"specific functions will remain.\")\n",
      "/home/leo/anaconda2/lib/python2.7/site-packages/fatiando/vis/myv.py:51: UserWarning: This module will be removed in v0.7.\n",
      "  warnings.warn(\"This module will be removed in v0.7.\")\n"
     ]
    }
   ],
   "source": [
    "import numpy as np\n",
    "import matplotlib.pyplot as plt\n",
    "import cPickle as pickle\n",
    "import os\n",
    "import pandas as pd\n",
    "\n",
    "from fatiando import utils\n",
    "from fatiando.gravmag import polyprism\n",
    "from fatiando.mesher import PolygonalPrism\n",
    "from fatiando.vis import mpl, myv\n",
    "from matplotlib import colors, ticker, cm\n",
    "from IPython.display import Image as img\n",
    "from matplotlib.mlab import normpdf"
   ]
  },
  {
   "cell_type": "markdown",
   "metadata": {},
   "source": [
    "### Auxiliary functions"
   ]
  },
  {
   "cell_type": "code",
   "execution_count": 2,
   "metadata": {
    "collapsed": true
   },
   "outputs": [],
   "source": [
    "import sys\n",
    "sys.path.insert(0, '../../code')\n",
    "\n",
    "import mag_polyprism_functions as mfun"
   ]
  },
  {
   "cell_type": "markdown",
   "metadata": {},
   "source": [
    "# Input"
   ]
  },
  {
   "cell_type": "markdown",
   "metadata": {},
   "source": [
    "### Importing Diorama TFA data"
   ]
  },
  {
   "cell_type": "code",
   "execution_count": 3,
   "metadata": {},
   "outputs": [],
   "source": [
    "data = pd.read_csv('anitapolis_mag.txt', skipinitialspace=True, delim_whitespace=True)"
   ]
  },
  {
   "cell_type": "code",
   "execution_count": 4,
   "metadata": {},
   "outputs": [],
   "source": [
    "data['GPSALT'] = - data['GPSALT'] + 800"
   ]
  },
  {
   "cell_type": "code",
   "execution_count": 5,
   "metadata": {},
   "outputs": [],
   "source": [
    "mask = (data['GPSALT'].get_values()<0.)\n",
    "data = data[mask]"
   ]
  },
  {
   "cell_type": "code",
   "execution_count": 6,
   "metadata": {},
   "outputs": [],
   "source": [
    "xp = data['X'].get_values()\n",
    "yp = data['Y'].get_values()\n",
    "zp = data['GPSALT'].get_values()\n",
    "alt = data['ALTURA'].get_values()\n",
    "dobs = data['mag_res1'].get_values()"
   ]
  },
  {
   "cell_type": "markdown",
   "metadata": {},
   "source": [
    "### Parameters for inversion"
   ]
  },
  {
   "cell_type": "code",
   "execution_count": 7,
   "metadata": {},
   "outputs": [],
   "source": [
    "# output of inversion\n",
    "inversion = dict()"
   ]
  },
  {
   "cell_type": "code",
   "execution_count": 8,
   "metadata": {},
   "outputs": [],
   "source": [
    "N = xp.size"
   ]
  },
  {
   "cell_type": "code",
   "execution_count": 9,
   "metadata": {
    "collapsed": false
   },
   "outputs": [],
   "source": [
    "#initial estimate\n",
    "M = 20 # number of vertices per prism\n",
    "L = 6 # number of prisms\n",
    "P = L*(M+2) + 1 # number of parameters\n",
    "\n",
    "#figura\n",
    "incs = -21\n",
    "decs = -11.\n",
    "intensity = 15.\n",
    "\n",
    "#figura\n",
    "z0 = 0.\n",
    "dz = 630.\n",
    "r = 700.\n",
    "props = {'magnetization': utils.ang2vec(\n",
    "        intensity, incs, decs)}\n",
    "\n",
    "rin = np.zeros(M) + r\n",
    "m0 = np.hstack((rin, np.array([6921000., 688000.])))\n",
    "m0 = np.resize(m0, P - 1) # inicial parameters vector\n",
    "m0 = np.hstack((m0, dz))\n",
    "model0 = mfun.param2polyprism(m0, M, L, z0, props) # list of classes of prisms\n",
    "\n",
    "# main field\n",
    "inc = -37.05\n",
    "dec = -18.17\n",
    "\n",
    "# predict data\n",
    "d0 = polyprism.tf(xp, yp, zp, model0, inc, dec)"
   ]
  },
  {
   "cell_type": "code",
   "execution_count": 10,
   "metadata": {},
   "outputs": [],
   "source": [
    "# limits for parameters in meters\n",
    "rmin = 10.\n",
    "rmax = 1200.\n",
    "y0min = 687000.\n",
    "y0max = 699000.\n",
    "x0min = 6916000.\n",
    "x0max = 6923000.\n",
    "dzmin = 10.\n",
    "dzmax = 1000.\n",
    "\n",
    "mmin, mmax = mfun.build_range_param(M, L, rmin, rmax, x0min, x0max, y0min, y0max, dzmin, dzmax)"
   ]
  },
  {
   "cell_type": "code",
   "execution_count": 11,
   "metadata": {},
   "outputs": [],
   "source": [
    "# variation for derivatives\n",
    "deltax = 0.01*np.max(100.)\n",
    "deltay = 0.01*np.max(100.)\n",
    "deltar = 0.01*np.max(100.)\n",
    "deltaz = 0.01*np.max(100.)\n",
    "delta = np.array([deltax, deltay, deltar, deltaz])"
   ]
  },
  {
   "cell_type": "code",
   "execution_count": 12,
   "metadata": {},
   "outputs": [],
   "source": [
    "m_out = np.zeros(M + 2)  # outcropping body parameters"
   ]
  },
  {
   "cell_type": "markdown",
   "metadata": {},
   "source": [
    "### Regularization parameters"
   ]
  },
  {
   "cell_type": "code",
   "execution_count": 13,
   "metadata": {
    "collapsed": true
   },
   "outputs": [],
   "source": [
    "#lamb = th*0.01 # Marquadt's parameter\n",
    "lamb = 10.0\n",
    "dlamb = 10.      # step for Marquadt's parameter\n",
    "\n",
    "a1 = 1.0e-4  # adjacent radial distances within each prism\n",
    "a2 = 1.0e-3   # vertically adjacent radial distances\n",
    "a3 = 0.     # outcropping cross-section\n",
    "a4 = 0.     # outcropping origin\n",
    "a5 = 1.0e-4 # vertically adjacent origins\n",
    "a6 = 1.0e-8   # zero order Tikhonov on adjacent radial distances\n",
    "a7 = 1.0e-5     # zero order Tikhonov on thickness of each prism"
   ]
  },
  {
   "cell_type": "code",
   "execution_count": 14,
   "metadata": {},
   "outputs": [],
   "source": [
    "foldername = 'test'"
   ]
  },
  {
   "cell_type": "code",
   "execution_count": 15,
   "metadata": {},
   "outputs": [],
   "source": [
    "alpha = np.array([a1, a2, a3, a4, a5, a6, a7])"
   ]
  },
  {
   "cell_type": "code",
   "execution_count": 16,
   "metadata": {},
   "outputs": [],
   "source": [
    "itmax = 30\n",
    "itmax_marq = 10\n",
    "tol = 1.0e-4     # stop criterion"
   ]
  },
  {
   "cell_type": "markdown",
   "metadata": {},
   "source": [
    "### Inversion"
   ]
  },
  {
   "cell_type": "code",
   "execution_count": 17,
   "metadata": {},
   "outputs": [
    {
     "name": "stdout",
     "output_type": "stream",
     "text": [
      "it:  0   it_marq:  0   lambda: 1e+01   init obj.: 3.31542e+03  fin obj.: 1.33051e+03\n",
      "it:  1   it_marq:  0   lambda: 1e+00   init obj.: 1.33051e+03  fin obj.: 6.83517e+02\n",
      "it:  2   it_marq:  0   lambda: 1e-01   init obj.: 6.83517e+02  fin obj.: 8.72722e+02\n",
      "it:  2   it_marq:  1   lambda: 1e+00   init obj.: 6.83517e+02  fin obj.: 5.24479e+02\n",
      "it:  3   it_marq:  0   lambda: 1e-01   init obj.: 5.24479e+02  fin obj.: 6.70555e+02\n",
      "it:  3   it_marq:  1   lambda: 1e+00   init obj.: 5.24479e+02  fin obj.: 4.82526e+02\n",
      "it:  4   it_marq:  0   lambda: 1e-01   init obj.: 4.82526e+02  fin obj.: 6.40640e+02\n",
      "it:  4   it_marq:  1   lambda: 1e+00   init obj.: 4.82526e+02  fin obj.: 4.49219e+02\n",
      "it:  5   it_marq:  0   lambda: 1e-01   init obj.: 4.49219e+02  fin obj.: 6.26722e+02\n",
      "it:  5   it_marq:  1   lambda: 1e+00   init obj.: 4.49219e+02  fin obj.: 4.29344e+02\n",
      "it:  6   it_marq:  0   lambda: 1e-01   init obj.: 4.29344e+02  fin obj.: 6.17227e+02\n",
      "it:  6   it_marq:  1   lambda: 1e+00   init obj.: 4.29344e+02  fin obj.: 4.30642e+02\n",
      "it:  6   it_marq:  2   lambda: 1e+01   init obj.: 4.29344e+02  fin obj.: 4.11971e+02\n",
      "it:  7   it_marq:  0   lambda: 1e+00   init obj.: 4.11971e+02  fin obj.: 4.34087e+02\n",
      "it:  7   it_marq:  1   lambda: 1e+01   init obj.: 4.11971e+02  fin obj.: 4.04263e+02\n",
      "it:  8   it_marq:  0   lambda: 1e+00   init obj.: 4.04263e+02  fin obj.: 4.51455e+02\n",
      "it:  8   it_marq:  1   lambda: 1e+01   init obj.: 4.04263e+02  fin obj.: 3.99800e+02\n",
      "it:  9   it_marq:  0   lambda: 1e+00   init obj.: 3.99800e+02  fin obj.: 4.61716e+02\n",
      "it:  9   it_marq:  1   lambda: 1e+01   init obj.: 3.99800e+02  fin obj.: 3.96674e+02\n",
      "it: 10   it_marq:  0   lambda: 1e+00   init obj.: 3.96674e+02  fin obj.: 4.66826e+02\n",
      "it: 10   it_marq:  1   lambda: 1e+01   init obj.: 3.96674e+02  fin obj.: 3.94268e+02\n",
      "it: 11   it_marq:  0   lambda: 1e+00   init obj.: 3.94268e+02  fin obj.: 4.79897e+02\n",
      "it: 11   it_marq:  1   lambda: 1e+01   init obj.: 3.94268e+02  fin obj.: 3.92321e+02\n",
      "it: 12   it_marq:  0   lambda: 1e+00   init obj.: 3.92321e+02  fin obj.: 4.77770e+02\n",
      "it: 12   it_marq:  1   lambda: 1e+01   init obj.: 3.92321e+02  fin obj.: 3.90695e+02\n",
      "it: 13   it_marq:  0   lambda: 1e+00   init obj.: 3.90695e+02  fin obj.: 4.75498e+02\n",
      "it: 13   it_marq:  1   lambda: 1e+01   init obj.: 3.90695e+02  fin obj.: 3.89263e+02\n",
      "it: 14   it_marq:  0   lambda: 1e+00   init obj.: 3.89263e+02  fin obj.: 4.73352e+02\n",
      "it: 14   it_marq:  1   lambda: 1e+01   init obj.: 3.89263e+02  fin obj.: 3.87962e+02\n",
      "it: 15   it_marq:  0   lambda: 1e+00   init obj.: 3.87962e+02  fin obj.: 4.71320e+02\n",
      "it: 15   it_marq:  1   lambda: 1e+01   init obj.: 3.87962e+02  fin obj.: 3.86734e+02\n",
      "it: 16   it_marq:  0   lambda: 1e+00   init obj.: 3.86734e+02  fin obj.: 4.69398e+02\n",
      "it: 16   it_marq:  1   lambda: 1e+01   init obj.: 3.86734e+02  fin obj.: 3.85576e+02\n",
      "it: 17   it_marq:  0   lambda: 1e+00   init obj.: 3.85576e+02  fin obj.: 4.79601e+02\n",
      "it: 17   it_marq:  1   lambda: 1e+01   init obj.: 3.85576e+02  fin obj.: 3.84479e+02\n",
      "it: 18   it_marq:  0   lambda: 1e+00   init obj.: 3.84479e+02  fin obj.: 4.77781e+02\n",
      "it: 18   it_marq:  1   lambda: 1e+01   init obj.: 3.84479e+02  fin obj.: 3.83440e+02\n",
      "it: 19   it_marq:  0   lambda: 1e+00   init obj.: 3.83440e+02  fin obj.: 4.76055e+02\n",
      "it: 19   it_marq:  1   lambda: 1e+01   init obj.: 3.83440e+02  fin obj.: 3.82455e+02\n",
      "it: 20   it_marq:  0   lambda: 1e+00   init obj.: 3.82455e+02  fin obj.: 4.74406e+02\n",
      "it: 20   it_marq:  1   lambda: 1e+01   init obj.: 3.82455e+02  fin obj.: 3.81519e+02\n",
      "it: 21   it_marq:  0   lambda: 1e+00   init obj.: 3.81519e+02  fin obj.: 4.72812e+02\n",
      "it: 21   it_marq:  1   lambda: 1e+01   init obj.: 3.81519e+02  fin obj.: 3.80632e+02\n",
      "it: 22   it_marq:  0   lambda: 1e+00   init obj.: 3.80632e+02  fin obj.: 4.71253e+02\n",
      "it: 22   it_marq:  1   lambda: 1e+01   init obj.: 3.80632e+02  fin obj.: 3.79787e+02\n",
      "it: 23   it_marq:  0   lambda: 1e+00   init obj.: 3.79787e+02  fin obj.: 4.69724e+02\n",
      "it: 23   it_marq:  1   lambda: 1e+01   init obj.: 3.79787e+02  fin obj.: 3.78974e+02\n",
      "it: 24   it_marq:  0   lambda: 1e+00   init obj.: 3.78974e+02  fin obj.: 4.68248e+02\n",
      "it: 24   it_marq:  1   lambda: 1e+01   init obj.: 3.78974e+02  fin obj.: 3.78194e+02\n",
      "it: 25   it_marq:  0   lambda: 1e+00   init obj.: 3.78194e+02  fin obj.: 4.66820e+02\n",
      "it: 25   it_marq:  1   lambda: 1e+01   init obj.: 3.78194e+02  fin obj.: 3.77446e+02\n",
      "it: 26   it_marq:  0   lambda: 1e+00   init obj.: 3.77446e+02  fin obj.: 4.65452e+02\n",
      "it: 26   it_marq:  1   lambda: 1e+01   init obj.: 3.77446e+02  fin obj.: 3.76727e+02\n",
      "it: 27   it_marq:  0   lambda: 1e+00   init obj.: 3.76727e+02  fin obj.: 4.76399e+02\n",
      "it: 27   it_marq:  1   lambda: 1e+01   init obj.: 3.76727e+02  fin obj.: 3.76035e+02\n",
      "it: 28   it_marq:  0   lambda: 1e+00   init obj.: 3.76035e+02  fin obj.: 4.75041e+02\n",
      "it: 28   it_marq:  1   lambda: 1e+01   init obj.: 3.76035e+02  fin obj.: 3.75368e+02\n",
      "it: 29   it_marq:  0   lambda: 1e+00   init obj.: 3.75368e+02  fin obj.: 4.73727e+02\n",
      "it: 29   it_marq:  1   lambda: 1e+01   init obj.: 3.75368e+02  fin obj.: 3.74726e+02\n"
     ]
    }
   ],
   "source": [
    "d_fit, m_est, model_est, phi_list, model_list, res_list = mfun.levmarq_tf(xp, yp, zp, m0, M, L, delta, itmax,\n",
    "                                                    itmax_marq, lamb, dlamb, tol,\n",
    "                                                    mmin, mmax, m_out, dobs, inc, dec,\n",
    "                                                    props, alpha, z0, dz)"
   ]
  },
  {
   "cell_type": "code",
   "execution_count": 21,
   "metadata": {},
   "outputs": [],
   "source": [
    "# output of inversion\n",
    "inversion = dict()\n",
    "\n",
    "inversion['xp'] = xp\n",
    "inversion['yp'] = yp\n",
    "inversion['zp'] = zp\n",
    "inversion['observed_data'] = dobs\n",
    "inversion['inc_dec'] = [incs, decs]\n",
    "inversion['z0'] = z0\n",
    "inversion['initial_dz'] = dz\n",
    "inversion['intial_r'] = r\n",
    "inversion['initial_estimate'] = model0\n",
    "inversion['initial_data'] = d0\n",
    "inversion['limits'] = [rmin, rmax, x0min, x0max, y0min, y0max, dzmin, dzmax]\n",
    "inversion['regularization'] = np.array([a1, a2, a3, a4, a5, a6, a7])\n",
    "inversion['tol'] = tol\n",
    "inversion['main_field'] = [-21.5, -18.7]\n",
    "inversion['data_fit'] = d_fit\n",
    "inversion['estimate'] = m_est\n",
    "inversion['prisms'] = model_est\n",
    "inversion['estimated_models'] = model_list\n",
    "inversion['objective'] = phi_list\n",
    "inversion['residual'] = dobs - d_fit\n",
    "inversion['residual_list'] = res_list"
   ]
  },
  {
   "cell_type": "markdown",
   "metadata": {},
   "source": [
    "### Folder to save the results"
   ]
  },
  {
   "cell_type": "code",
   "execution_count": 22,
   "metadata": {},
   "outputs": [],
   "source": [
    "if foldername == '':\n",
    "    mypath = 'results/single-'+d4 #default folder name\n",
    "    if not os.path.isdir(mypath):\n",
    "       os.makedirs(mypath)\n",
    "else:\n",
    "    mypath = 'results/single-'+foldername #defined folder name\n",
    "    if not os.path.isdir(mypath):\n",
    "       os.makedirs(mypath)"
   ]
  },
  {
   "cell_type": "code",
   "execution_count": 23,
   "metadata": {},
   "outputs": [],
   "source": [
    "file_name = mypath+'/inversion.pickle'\n",
    "with open(file_name, 'w') as f:\n",
    "    pickle.dump(inversion, f)"
   ]
  }
 ],
 "metadata": {
  "kernelspec": {
   "display_name": "Python 2",
   "language": "python",
   "name": "python2"
  },
  "language_info": {
   "codemirror_mode": {
    "name": "ipython",
    "version": 2
   },
   "file_extension": ".py",
   "mimetype": "text/x-python",
   "name": "python",
   "nbconvert_exporter": "python",
   "pygments_lexer": "ipython2",
   "version": "2.7.16"
  }
 },
 "nbformat": 4,
 "nbformat_minor": 2
}
