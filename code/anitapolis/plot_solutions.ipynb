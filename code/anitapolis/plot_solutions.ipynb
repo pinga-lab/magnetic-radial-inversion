{
 "cells": [
  {
   "cell_type": "markdown",
   "metadata": {},
   "source": [
    "# Plot of solutions"
   ]
  },
  {
   "cell_type": "markdown",
   "metadata": {},
   "source": [
    "This notebook plots the solution figure for a specific solution from the set of results of the multiple inversion notebook."
   ]
  },
  {
   "cell_type": "code",
   "execution_count": 19,
   "metadata": {},
   "outputs": [],
   "source": [
    "import matplotlib as mpb\n",
    "import numpy as np\n",
    "\n",
    "# show the figures in windows\n",
    "\n",
    "# show all the matplotlib backends \n",
    "mpb.rcsetup.all_backends\n",
    "\n",
    "# force matplotlib to use the 'Qt5Agg' backend \n",
    "mpb.use(arg='Qt5Agg', force=True)"
   ]
  },
  {
   "cell_type": "code",
   "execution_count": 36,
   "metadata": {},
   "outputs": [],
   "source": [
    "import cPickle as pickle\n",
    "\n",
    "# importing my functions\n",
    "import sys\n",
    "sys.path.insert(0, '../../code')\n",
    "\n",
    "import mag_polyprism_functions as mfun"
   ]
  },
  {
   "cell_type": "code",
   "execution_count": 37,
   "metadata": {},
   "outputs": [],
   "source": [
    "# importing the pickle file of results\n",
    "result_path = 'l2-tfa-inversion/multiple-43485/'\n",
    "\n",
    "with open(result_path+'inversion.pickle') as w:\n",
    "        inversion = pickle.load(w)"
   ]
  },
  {
   "cell_type": "code",
   "execution_count": 38,
   "metadata": {},
   "outputs": [],
   "source": [
    "# directory to save the figures and filename\n",
    "filewhite = ''\n",
    "filemagenta = ''"
   ]
  },
  {
   "cell_type": "code",
   "execution_count": 39,
   "metadata": {},
   "outputs": [
    {
     "name": "stdout",
     "output_type": "stream",
     "text": [
      "9.957195370854492\n",
      "449.03854607343334\n"
     ]
    }
   ],
   "source": [
    "volume = 0.\n",
    "momentum = 0.\n",
    "for bolacha in inversion['results'][3][2][-1]:\n",
    "    area = mfun.area_polygon(bolacha.x, bolacha.y)\n",
    "    volume += area*(bolacha.z2 - bolacha.z1)\n",
    "    momentum += volume*np.linalg.norm(bolacha.props['magnetization'])\n",
    "    \n",
    "print volume/10.**9.\n",
    "print momentum/10.**9."
   ]
  },
  {
   "cell_type": "code",
   "execution_count": 40,
   "metadata": {},
   "outputs": [
    {
     "data": {
      "text/plain": [
       "766.0916267968859"
      ]
     },
     "execution_count": 40,
     "metadata": {},
     "output_type": "execute_result"
    }
   ],
   "source": [
    "inversion['results'][3][0][-1]"
   ]
  },
  {
   "cell_type": "code",
   "execution_count": 41,
   "metadata": {},
   "outputs": [
    {
     "data": {
      "text/plain": [
       "900.0"
      ]
     },
     "execution_count": 41,
     "metadata": {},
     "output_type": "execute_result"
    }
   ],
   "source": [
    "inversion['initial_dz']"
   ]
  },
  {
   "cell_type": "markdown",
   "metadata": {},
   "source": [
    "# Inversion 4 (white diamond)"
   ]
  },
  {
   "cell_type": "code",
   "execution_count": 42,
   "metadata": {},
   "outputs": [],
   "source": [
    "mfun.plot_solution(inversion['x'], inversion['y'],\n",
    "                            inversion['z'], inversion['results'][3][3],\n",
    "                            inversion['results'][3][2][-1],\n",
    "                            inversion['results'][3][2][0], \n",
    "               (13,10), 1200, (0.5, 0.365), [8,80,15,38,15,38],\n",
    "                   [6915,6922,685,692], [], filewhite)"
   ]
  },
  {
   "cell_type": "markdown",
   "metadata": {},
   "source": [
    "Application to the field data over the Anitápolis complex, Brazil. Estimated model with magnetic susceptibility value compatible with a priori information close to the study area, represented by the cyan diamond in the validation test. (a) Residuals between the observed data and the predicted data (not shown) produced by the estimated model. The inset shows the histogram of the residuals and a normal Gaussian curve (dashed line) with mean and standard deviation $\\mu = 0.91$ nT and $\\sigma = 6.95$ nT, respectively. The light-gray polygons represent the projection of the estimated model on the horizontal plane. (b) Perspective view of the initial approximate (red prisms). (c) and (d) Perspective views of the estimated model (red prisms)."
   ]
  },
  {
   "cell_type": "markdown",
   "metadata": {},
   "source": [
    "# Inversion 15 (magenta diamond)"
   ]
  },
  {
   "cell_type": "code",
   "execution_count": 28,
   "metadata": {},
   "outputs": [],
   "source": [
    "mfun.plot_solution(inversion['x'], inversion['y'],\n",
    "                            inversion['z'], inversion['results'][13][3],\n",
    "                            inversion['results'][13][2][-1],\n",
    "                            inversion['results'][13][2][0], \n",
    "               (4.33,4.33), 1200, (0.5, 0.95), [], [], [], filemagenta)"
   ]
  },
  {
   "cell_type": "markdown",
   "metadata": {},
   "source": [
    "Application to the field data over the Anitápolis complex, Brazil. Estimated model producing the lowest goal function value, represented by the magenta diamond in the validation test. (a) Residuals between the observed data and the predicted data (not shown) produced by the estimated model. The inset shows the histogram of the residuals and a normal Gaussian curve (dashed line) with mean and standard deviation $\\mu = -0.59$ nT and $\\sigma = 5.80$ nT, respectively.The light-gray polygons represent the projection of the estimated model on the horizontal plane. (b) Perspective view of the initial approximate (red prisms). (c) and (d) Perspective views of the estimated model (red prisms)."
   ]
  },
  {
   "cell_type": "code",
   "execution_count": null,
   "metadata": {},
   "outputs": [],
   "source": [
    "plt.figure(figsize=(6,5))\n",
    "plt.title('Convergence', fontsize = 18)\n",
    "plt.xlabel('Iteration number')\n",
    "legend = ['misfit', 'phi1', 'phi2', 'phi3', 'phi4', 'phi5', 'phi6', 'phi7']\n",
    "#for f, l in zip(inversion['results'][21][1][1:], legend[1:]):\n",
    "#    plt.plot(f, '-', label=l)\n",
    "plt.plot(inversion['results'][21][1][0], 'b-', label='objective function')\n",
    "plt.legend(loc=0, fontsize=12, shadow=bool, framealpha=1)\n",
    "\n",
    "#plt.savefig('field-constraints.png', dpi=300, bbox_inches=\"tight\")\n",
    "plt.savefig('field-convergence.png', dpi=300, bbox_inches=\"tight\")\n",
    "plt.show()\n",
    "\n",
    "#img(filename=mypath+'complex_tfa_convergence.png', width=400, height=400)"
   ]
  },
  {
   "cell_type": "code",
   "execution_count": 9,
   "metadata": {},
   "outputs": [
    {
     "name": "stdout",
     "output_type": "stream",
     "text": [
      "7.744211488089194e-09\n",
      "2.753190888064097e-07\n"
     ]
    }
   ],
   "source": [
    "volume = 0.\n",
    "momentum = 0.\n",
    "for bolacha in inversion['results'][13][2][-1]:\n",
    "    area = mfun.area_polygon(bolacha.x, bolacha.y)\n",
    "    volume += area*(bolacha.z2 - bolacha.z1)\n",
    "    momentum += volume*np.linalg.norm(bolacha.props['magnetization'])\n",
    "    \n",
    "print volume/10.**9.\n",
    "print momentum/10.**9."
   ]
  }
 ],
 "metadata": {
  "kernelspec": {
   "display_name": "Python 2",
   "language": "python",
   "name": "python2"
  },
  "language_info": {
   "codemirror_mode": {
    "name": "ipython",
    "version": 2
   },
   "file_extension": ".py",
   "mimetype": "text/x-python",
   "name": "python",
   "nbconvert_exporter": "python",
   "pygments_lexer": "ipython2",
   "version": "2.7.16"
  }
 },
 "nbformat": 4,
 "nbformat_minor": 2
}
