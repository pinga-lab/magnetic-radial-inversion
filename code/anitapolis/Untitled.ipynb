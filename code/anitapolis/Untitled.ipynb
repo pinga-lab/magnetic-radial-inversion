{
 "cells": [
  {
   "cell_type": "code",
   "execution_count": null,
   "metadata": {},
   "outputs": [],
   "source": [
    "import matplotlib as mpb\n",
    "import numpy as np\n",
    "import matplotlib.pyplot as plt\n",
    "from fatiando.vis import mpl\n",
    "from mpl_toolkits.mplot3d.art3d import Poly3DCollection"
   ]
  },
  {
   "cell_type": "code",
   "execution_count": 2,
   "metadata": {},
   "outputs": [],
   "source": [
    "import cPickle as pickle\n",
    "\n",
    "# importing my functions\n",
    "import sys\n",
    "sys.path.insert(0, '../../code')\n",
    "\n",
    "import mag_polyprism_functions as mfun"
   ]
  },
  {
   "cell_type": "code",
   "execution_count": 29,
   "metadata": {},
   "outputs": [],
   "source": [
    "# importing the pickle file of results\n",
    "resultpath = 'l2-tfa-inversion/multiple-l2-reg-43485/'\n",
    "\n",
    "with open(resultpath+'inversion.pickle') as w:\n",
    "        inversion = pickle.load(w)\n",
    "        \n",
    "with open('data.pickle') as w:\n",
    "        data = pickle.load(w)"
   ]
  },
  {
   "cell_type": "code",
   "execution_count": null,
   "metadata": {},
   "outputs": [],
   "source": [
    "plt.figure(figsize=(4.33,1.8))\n",
    "\n",
    "ax1 = plt.subplot(121)\n",
    "#plt.title('Observed TFA', fontsize=20)\n",
    "plt.tricontour(yp, xp, dobs, 20, linewidths=0.2, colors='k')\n",
    "plt.tricontourf(yp, xp, dobs, 20, cmap='RdBu_r', vmax=np.max(dobs), vmin=-np.max(dobs)).ax.tick_params(labelsize=6)\n",
    "plt.plot(yp, xp, '.k', markersize=.1)\n",
    "plt.xlabel('$y$(km)', fontsize=6)\n",
    "plt.ylabel('$x$(km)', fontsize=6)\n",
    "clb = plt.colorbar(pad=0.025, aspect=40, shrink=1)\n",
    "clb.ax.tick_params(labelsize=6)\n",
    "clb.ax.set_title('nT', pad=-104, fontsize=6)\n",
    "circle1 = plt.Circle((y0, x0), 700, color='r', linewidth=1., fill=False)\n",
    "ax1.add_artist(circle1)\n",
    "ax1.text(np.min(yp)-2000, np.max(xp)+800, '(a)', fontsize= 10)\n",
    "mpl.m2km()\n",
    "\n",
    "ax3 = plt.subplot(122)\n",
    "#plt.title('Residual TFA', fontsize=20)\n",
    "plt.plot(yp, xp, '.k', markersize=.1)\n",
    "plt.tricontour(yp, xp, rtp, 20, linewidths=0.2, colors='k')\n",
    "plt.tricontourf(yp, xp, rtp, 20, cmap='RdBu_r', vmax=np.max(rtp), vmin=-np.max(rtp)).ax.tick_params(labelsize=6)\n",
    "plt.xlabel('$y$(km)', fontsize=6)\n",
    "plt.ylabel('$x$(km)', fontsize=6)\n",
    "clb = plt.colorbar(pad=0.025, aspect=40, shrink=1)\n",
    "clb.ax.tick_params(labelsize=6)\n",
    "clb.ax.set_title('nT', pad=-104, fontsize=6)\n",
    "circle1 = plt.Circle((y0, x0), 700, color='r', linewidth=1., fill=False)\n",
    "ax3.add_artist(circle1)\n",
    "ax3.text(np.min(yp)-2000, np.max(xp)+800, '(b)', fontsize= 10)\n",
    "mpl.m2km()\n",
    "\n",
    "plt.subplots_adjust(wspace=.6)\n",
    "\n",
    "plt.savefig(filename, dpi=dpi, bbob_inches='tight')\n",
    "\n",
    "plt.show()"
   ]
  }
 ],
 "metadata": {
  "kernelspec": {
   "display_name": "Python 2",
   "language": "python",
   "name": "python2"
  },
  "language_info": {
   "codemirror_mode": {
    "name": "ipython",
    "version": 2
   },
   "file_extension": ".py",
   "mimetype": "text/x-python",
   "name": "python",
   "nbconvert_exporter": "python",
   "pygments_lexer": "ipython2",
   "version": "2.7.16"
  }
 },
 "nbformat": 4,
 "nbformat_minor": 2
}
