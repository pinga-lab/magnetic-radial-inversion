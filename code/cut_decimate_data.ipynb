{
 "cells": [
  {
   "cell_type": "code",
   "execution_count": 1,
   "metadata": {},
   "outputs": [],
   "source": [
    "import numpy as np\n",
    "import pandas as pd\n",
    "import matplotlib.pyplot as plt\n",
    "from matplotlib import colors, ticker, cm"
   ]
  },
  {
   "cell_type": "code",
   "execution_count": 2,
   "metadata": {},
   "outputs": [],
   "source": [
    "file = '../../../Documents/Dado-Real/Goias/AREA_I/GDB_XYZ/Mag.XYZ'\n",
    "#file = 'test_real_data.txt'\n",
    "names = ['Y','X','GPSALT','MAGRAW','MAGIGRF','IGRF','LONG','LAT']\n",
    "dataframe = 'diorama_dataframe_tfa_august.txt'\n",
    "decimated = 'diorama_decimated_tfa_august.txt'"
   ]
  },
  {
   "cell_type": "code",
   "execution_count": 3,
   "metadata": {},
   "outputs": [
    {
     "ename": "IOError",
     "evalue": "[Errno 2] No such file or directory: '../../../Documents/Dado-Real/Goias/AREA_I/GDB_XYZ/Mag.XYZ'",
     "output_type": "error",
     "traceback": [
      "\u001b[1;31m---------------------------------------------------------------------------\u001b[0m",
      "\u001b[1;31mIOError\u001b[0m                                   Traceback (most recent call last)",
      "\u001b[1;32m<ipython-input-3-86cb40215b77>\u001b[0m in \u001b[0;36m<module>\u001b[1;34m()\u001b[0m\n\u001b[0;32m      8\u001b[0m \u001b[0ml\u001b[0m \u001b[1;33m=\u001b[0m \u001b[1;33m[\u001b[0m\u001b[1;33m]\u001b[0m\u001b[1;33m\u001b[0m\u001b[0m\n\u001b[0;32m      9\u001b[0m \u001b[1;33m\u001b[0m\u001b[0m\n\u001b[1;32m---> 10\u001b[1;33m \u001b[1;32mwith\u001b[0m \u001b[0mopen\u001b[0m\u001b[1;33m(\u001b[0m\u001b[0mfile\u001b[0m\u001b[1;33m)\u001b[0m \u001b[1;32mas\u001b[0m \u001b[0minfile\u001b[0m\u001b[1;33m:\u001b[0m\u001b[1;33m\u001b[0m\u001b[0m\n\u001b[0m\u001b[0;32m     11\u001b[0m     \u001b[1;32mfor\u001b[0m \u001b[0mline\u001b[0m \u001b[1;32min\u001b[0m \u001b[0minfile\u001b[0m\u001b[1;33m:\u001b[0m\u001b[1;33m\u001b[0m\u001b[0m\n\u001b[0;32m     12\u001b[0m         \u001b[1;32mif\u001b[0m \u001b[0mline\u001b[0m\u001b[1;33m[\u001b[0m\u001b[1;33m:\u001b[0m\u001b[1;36m4\u001b[0m\u001b[1;33m]\u001b[0m\u001b[1;33m==\u001b[0m\u001b[1;34m'Line'\u001b[0m\u001b[1;33m:\u001b[0m\u001b[1;33m\u001b[0m\u001b[0m\n",
      "\u001b[1;31mIOError\u001b[0m: [Errno 2] No such file or directory: '../../../Documents/Dado-Real/Goias/AREA_I/GDB_XYZ/Mag.XYZ'"
     ]
    }
   ],
   "source": [
    "lat1=[]\n",
    "long1=[]\n",
    "y=[]\n",
    "x=[]\n",
    "d=[]\n",
    "igrf1=[]\n",
    "z = []\n",
    "l = []\n",
    "\n",
    "with open(file) as infile:\n",
    "    for line in infile:\n",
    "        if line[:4]=='Line':\n",
    "            number = line\n",
    "            pass\n",
    "        elif line[:3]=='/ -':\n",
    "            pass\n",
    "        elif line[135:136]=='*':\n",
    "            pass\t\n",
    "#       elif (line[63:66]=='-19' or line[63:66]=='-20') and (line[77:80]=='-51' or line[77:80]=='-52' or line[77:80]=='-53'):\n",
    "        elif (line[149:152]=='-51') and (line[161:164]=='-16'):\n",
    "            x.append(line[2:11])\n",
    "            y.append(line[13:23])\n",
    "            z.append(line[35:41])\n",
    "            lat1.append(line[161:171])\n",
    "            long1.append(line[149:159])\n",
    "            d.append(line[127:136])\n",
    "            igrf1.append(line[138:147])\n",
    "            l.append(number[6:11])\n",
    "            \n",
    "        elif line[0]=='T':\n",
    "            break"
   ]
  },
  {
   "cell_type": "code",
   "execution_count": null,
   "metadata": {},
   "outputs": [],
   "source": [
    "lat=filter(None,lat1)\n",
    "long=filter(None,long1)\n",
    "ycord=filter(None,y)\n",
    "xcord=filter(None,x)\n",
    "zcord=filter(None,z)\n",
    "data=filter(None,d)\n",
    "igrf=filter(None,igrf1)"
   ]
  },
  {
   "cell_type": "code",
   "execution_count": null,
   "metadata": {},
   "outputs": [],
   "source": [
    "out=np.array([xcord,ycord,zcord,long,lat,data,igrf])        \n",
    "out=out.T.astype(np.float)"
   ]
  },
  {
   "cell_type": "code",
   "execution_count": null,
   "metadata": {},
   "outputs": [],
   "source": [
    "dic={'Line':l, 'Y':out[:,0],'X':out[:,1],\n",
    "    'GPSALT':out[:,2],'LONG':out[:,3],\n",
    "    'LAT':out[:,4],'MAGIGRF':out[:,5],'IGRF':out[:,6]}"
   ]
  },
  {
   "cell_type": "code",
   "execution_count": null,
   "metadata": {},
   "outputs": [],
   "source": [
    "dataset = pd.DataFrame(dic)"
   ]
  },
  {
   "cell_type": "code",
   "execution_count": null,
   "metadata": {},
   "outputs": [],
   "source": [
    "mask = (dataset['LONG'] <= -51.180) & (dataset['LONG'] >= -51.226) & (dataset['LAT'] <= -16.14) & (dataset['LAT'] >= -16.190)\n",
    "dataset[mask].to_csv(dataframe, index=None, sep=' ', mode='w')"
   ]
  },
  {
   "cell_type": "code",
   "execution_count": null,
   "metadata": {},
   "outputs": [],
   "source": [
    "dataset[mask].iloc[range(0, dataset[mask].shape[0], 3)].to_csv(decimated, index=None, sep=' ', mode='w')"
   ]
  },
  {
   "cell_type": "code",
   "execution_count": null,
   "metadata": {},
   "outputs": [],
   "source": [
    "tfa_complete = pd.read_csv('diorama_dataframe_tfa_august.txt', skipinitialspace=True, delim_whitespace=True)\n",
    "tfa_decimated = pd.read_csv('diorama_decimated_tfa_august.txt', skipinitialspace=True, delim_whitespace=True)"
   ]
  },
  {
   "cell_type": "code",
   "execution_count": null,
   "metadata": {},
   "outputs": [],
   "source": [
    "yc = tfa_complete['Y'].get_values()\n",
    "xc = tfa_complete['X'].get_values()\n",
    "dc = tfa_complete['MAGIGRF'].get_values()\n",
    "lat = tfa_complete['LAT'].get_values()\n",
    "long = tfa_complete['LONG'].get_values()\n",
    "\n",
    "yd = tfa_decimated['Y'].get_values()\n",
    "xd = tfa_decimated['X'].get_values()\n",
    "dd = tfa_decimated['MAGIGRF'].get_values()"
   ]
  },
  {
   "cell_type": "code",
   "execution_count": null,
   "metadata": {},
   "outputs": [],
   "source": [
    "plt.figure(figsize=(10,7))\n",
    "plt.title('Observed TFA', fontsize=20)\n",
    "plt.tricontourf(long, lat, dc, 30, cmap='jet').ax.tick_params(labelsize=12)\n",
    "plt.xlabel('$y$(km)', fontsize=18)\n",
    "plt.ylabel('$x$(km)', fontsize=18)\n",
    "clb = plt.colorbar(pad=0.025, aspect=40, shrink=1)\n",
    "clb.ax.tick_params(labelsize=13)\n",
    "clb.ax.set_title('nT')\n",
    "plt.plot(long,lat, 'ok', markersize=1)\n",
    "#clines = plt.tricontour(yp, xp, dobs, 20, colors='k', linewidths=0.2)\n",
    "#plt.clabel(clines, fontsize=4, fmt='%3d')\n",
    "#mpl.m2km()\n",
    "plt.legend(loc=0, fontsize=12, shadow=bool, framealpha=1, edgecolor='black')\n",
    "#plt.savefig(mypath+'diorama_real_data.png', dpi=300)\n",
    "plt.show()\n",
    "#img(filename=mypath+'diorama_real_data.png', width=1000, height=1200)"
   ]
  },
  {
   "cell_type": "code",
   "execution_count": null,
   "metadata": {},
   "outputs": [],
   "source": [
    "fig, ax = plt.subplots(figsize=(10,7))\n",
    "plt.title('Observed TFA', fontsize=20)\n",
    "plt.tricontourf(yd, xd, dd, 20, cmap='jet').ax.tick_params(labelsize=12)\n",
    "plt.xlabel('$y$(km)', fontsize=18)\n",
    "plt.ylabel('$x$(km)', fontsize=18)\n",
    "clb = plt.colorbar(pad=0.025, aspect=40, shrink=1)\n",
    "clb.ax.tick_params(labelsize=13)\n",
    "clb.ax.set_title('nT')\n",
    "plt.plot(yd,xd, 'ok', markersize=1)\n",
    "circle = plt.Circle((478200., 8212800.), 2000., color='k', alpha=0.2)\n",
    "#clines = plt.tricontour(yp, xp, dobs, 20, colors='k', linewidths=0.2)\n",
    "#plt.clabel(clines, fontsize=4, fmt='%3d')\n",
    "#mpl.m2km()\n",
    "plt.legend(loc=0, fontsize=12, shadow=bool, framealpha=1, edgecolor='black')\n",
    "#plt.savefig(mypath+'diorama_real_data.png', dpi=300)\n",
    "ax.add_artist(circle)\n",
    "plt.show()\n",
    "#img(filename=mypath+'diorama_real_data.png', width=1000, height=1200)"
   ]
  },
  {
   "cell_type": "code",
   "execution_count": null,
   "metadata": {},
   "outputs": [],
   "source": [
    "dd"
   ]
  },
  {
   "cell_type": "code",
   "execution_count": null,
   "metadata": {},
   "outputs": [],
   "source": [
    "index = []\n",
    "with open(file, 'r') as f:\n",
    "    for i, line in enumerate(f):\n",
    "        if line[:4] == 'Line':\n",
    "            index.append(i)"
   ]
  },
  {
   "cell_type": "code",
   "execution_count": null,
   "metadata": {},
   "outputs": [],
   "source": [
    "data = open(dataframe, 'w+')\n",
    "deci = open(decimated, 'w+')\n",
    "with open (file,'r+') as f:\n",
    "    for i in range(len(index)-1):\n",
    "        n = index[i+1] - index[i] - 1\n",
    "        #print i, len(index), index[i+1], index[-1]\n",
    "        dataset = pd.read_csv(f, na_values='*',\n",
    "                nrows=n, usecols=(0,1,3,7,12,13,14,15), skiprows= index[0]+1,\n",
    "                names=names,skipinitialspace=True, delim_whitespace=True)\n",
    "        mask = (dataset['LONG'] <= -51.183) & (dataset['LONG'] >= -51.223) & (dataset['LAT'] <= -16.14) & (dataset['LAT'] >= -16.190)\n",
    "        dataset[mask].to_csv(data, header=None, index=None, sep=' ', mode='w+')\n",
    "        dataset[mask].iloc[range(0, dataset[mask].shape[0], 12)].to_csv(deci, index=None, header=None, sep=' ', mode='w+')"
   ]
  },
  {
   "cell_type": "code",
   "execution_count": null,
   "metadata": {},
   "outputs": [],
   "source": [
    "dc"
   ]
  },
  {
   "cell_type": "code",
   "execution_count": null,
   "metadata": {},
   "outputs": [],
   "source": []
  },
  {
   "cell_type": "code",
   "execution_count": null,
   "metadata": {},
   "outputs": [],
   "source": []
  }
 ],
 "metadata": {
  "kernelspec": {
   "display_name": "Python 2",
   "language": "python",
   "name": "python2"
  },
  "language_info": {
   "codemirror_mode": {
    "name": "ipython",
    "version": 2
   },
   "file_extension": ".py",
   "mimetype": "text/x-python",
   "name": "python",
   "nbconvert_exporter": "python",
   "pygments_lexer": "ipython2",
   "version": "2.7.15"
  }
 },
 "nbformat": 4,
 "nbformat_minor": 2
}
