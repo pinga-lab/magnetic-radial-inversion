{
 "cells": [
  {
   "cell_type": "markdown",
   "metadata": {},
   "source": [
    "# Diorama TFA inversion"
   ]
  },
  {
   "cell_type": "code",
   "execution_count": 1,
   "metadata": {},
   "outputs": [
    {
     "name": "stderr",
     "output_type": "stream",
     "text": [
      "/home/vital/anaconda2/lib/python2.7/site-packages/fatiando/vis/mpl.py:76: UserWarning: This module will be removed in v0.6. We recommend the use of matplotlib.pyplot module directly. Some of the fatiando specific functions will remain.\n",
      "  \"specific functions will remain.\")\n",
      "/home/vital/anaconda2/lib/python2.7/site-packages/fatiando/vis/myv.py:51: UserWarning: This module will be removed in v0.7.\n",
      "  warnings.warn(\"This module will be removed in v0.7.\")\n"
     ]
    }
   ],
   "source": [
    "import numpy as np\n",
    "import matplotlib.pyplot as plt\n",
    "import cPickle as pickle\n",
    "import os\n",
    "import pandas as pd\n",
    "\n",
    "from fatiando import utils\n",
    "from fatiando.gravmag import polyprism\n",
    "from fatiando.mesher import PolygonalPrism\n",
    "from fatiando.vis import mpl, myv\n",
    "from matplotlib import colors, ticker, cm\n",
    "from IPython.display import Image as img\n",
    "from matplotlib.mlab import normpdf"
   ]
  },
  {
   "cell_type": "markdown",
   "metadata": {},
   "source": [
    "### Auxiliary functions"
   ]
  },
  {
   "cell_type": "code",
   "execution_count": 2,
   "metadata": {
    "collapsed": true
   },
   "outputs": [],
   "source": [
    "import sys\n",
    "sys.path.insert(0, '../../code')\n",
    "\n",
    "import mag_polyprism_functions as mfun\n",
    "import mag_sphere_functions as msf"
   ]
  },
  {
   "cell_type": "markdown",
   "metadata": {},
   "source": [
    "# Input"
   ]
  },
  {
   "cell_type": "markdown",
   "metadata": {},
   "source": [
    "### Importing Diorama TFA data"
   ]
  },
  {
   "cell_type": "raw",
   "metadata": {},
   "source": [
    "data = pd.read_csv('diorama_decimated_tfa.txt', skipinitialspace=True, delim_whitespace=True)"
   ]
  },
  {
   "cell_type": "raw",
   "metadata": {},
   "source": [
    "xp = data['X'].get_values()\n",
    "yp = data['Y'].get_values()\n",
    "zp = np.zeros(xp.size) - 100.\n",
    "dobs = data['MAGIGRF'].get_values()"
   ]
  },
  {
   "cell_type": "markdown",
   "metadata": {},
   "source": [
    "### Importing Diorama upward TFA data"
   ]
  },
  {
   "cell_type": "code",
   "execution_count": 3,
   "metadata": {},
   "outputs": [],
   "source": [
    "with open('diorama_eqlayer/diorama_eqlayer_depth200m.pickle') as w:\n",
    "        di = pickle.load(w)"
   ]
  },
  {
   "cell_type": "code",
   "execution_count": 4,
   "metadata": {},
   "outputs": [],
   "source": [
    "xp = di['x']\n",
    "yp = di['y']\n",
    "zp = di['z']\n",
    "dobs = di['upward']"
   ]
  },
  {
   "cell_type": "markdown",
   "metadata": {},
   "source": [
    "### Parameters for inversion"
   ]
  },
  {
   "cell_type": "code",
   "execution_count": 5,
   "metadata": {},
   "outputs": [],
   "source": [
    "# output of inversion\n",
    "diorama_inversion = dict()"
   ]
  },
  {
   "cell_type": "code",
   "execution_count": 6,
   "metadata": {},
   "outputs": [],
   "source": [
    "diorama_inversion['xp'] = xp\n",
    "diorama_inversion['yp'] = yp\n",
    "diorama_inversion['zp'] = zp\n",
    "diorama_inversion['observed_data'] = dobs"
   ]
  },
  {
   "cell_type": "code",
   "execution_count": 7,
   "metadata": {
    "collapsed": false
   },
   "outputs": [],
   "source": [
    "#initial estimate\n",
    "M = 14 # number of vertices per prism\n",
    "L = 8 # number of prisms\n",
    "P = L*(M+2) + 1 # number of parameters\n",
    "\n",
    "# daiana\n",
    "incs = -71.41751\n",
    "decs = -23.39541\n",
    "\n",
    "# andré\n",
    "#incs = -59.\n",
    "#decs = -114.5\n",
    "\n",
    "#figura\n",
    "z0 = 50.\n",
    "dz = 700.\n",
    "r = 1000.\n",
    "props = {'magnetization': utils.ang2vec(\n",
    "        15., incs, decs)}\n",
    "N = xp.size\n",
    "\n",
    "\n",
    "rin = np.zeros(M) + r\n",
    "m0 = np.hstack((rin, np.array([8212500., 478200.])))\n",
    "m0 = np.resize(m0, P - 1) # inicial parameters vector\n",
    "m0 = np.hstack((m0, dz))\n",
    "model0 = mfun.param2polyprism(m0, M, L, z0, props) # list of classes of prisms\n",
    "\n",
    "# main field\n",
    "inc = -19.5\n",
    "dec = -18.5\n",
    "\n",
    "# predict data\n",
    "d0 = polyprism.tf(xp, yp, zp, model0, inc, dec)\n",
    "\n",
    "# limits for parameters in meters\n",
    "rmin = 50.\n",
    "rmax = 3000.\n",
    "x0min = 8212500.\n",
    "x0max = 8213500.\n",
    "y0min = 478000.\n",
    "y0max = 479000.\n",
    "dzmin = 10.\n",
    "dzmax = 1000.\n",
    "\n",
    "mmin, mmax = mfun.build_range_param(M, L, rmin, rmax, x0min, x0max, y0min, y0max, dzmin, dzmax)\n",
    "\n",
    "itmax = 30\n",
    "itmax_marq = 15\n",
    "tol = 1.0e-5     # stop criterion\n",
    "\n",
    "# increment for derivatives\n",
    "deltax = 0.01*np.max(x0max)\n",
    "deltay = 0.01*np.max(y0max)\n",
    "deltar = 0.01*np.max(rmax)\n",
    "deltaz = 0.01*np.max(dzmax)\n",
    "delta = np.array([deltax, deltay, deltar, deltaz])\n",
    "m_out = np.zeros(M + 2)  # outcropping body parameters"
   ]
  },
  {
   "cell_type": "code",
   "execution_count": 8,
   "metadata": {},
   "outputs": [
    {
     "data": {
      "image/png": "[encoded data removed]",
      "text/plain": [
       "<matplotlib.figure.Figure at 0x7fd016eb1050>"
      ]
     },
     "metadata": {},
     "output_type": "display_data"
    }
   ],
   "source": [
    "plt.figure(figsize=(10,7))\n",
    "plt.title('Predict TFA', fontsize=20)\n",
    "plt.tricontourf(yp, xp, d0, 20, cmap='jet').ax.tick_params(labelsize=12)\n",
    "plt.xlabel('$y$(km)', fontsize=18)\n",
    "plt.ylabel('$x$(km)', fontsize=18)\n",
    "clb = plt.colorbar(pad=0.025, aspect=40, shrink=1)\n",
    "clb.ax.tick_params(labelsize=13)\n",
    "#source = mpl.polygon(kimberlite_model['prisms'][0], '.-k', xy2ne=True)\n",
    "estimate = mpl.polygon(model0[0], '.-r', xy2ne=True)\n",
    "#source.set_label('Outcropping polygon')\n",
    "estimate.set_label('Initial estimate')\n",
    "clb.ax.set_title('nT')\n",
    "mpl.m2km()\n",
    "plt.legend(loc=0, fontsize=12, shadow=bool, framealpha=1, edgecolor='black')\n",
    "#plt.savefig(mypath+'diorama_tfa_pred_data_true_inital.png', dpi=300)\n",
    "plt.show()\n",
    "\n",
    "#img(filename=mypath+'diorama_tfa_pred_data_true_inital.png', width=1000, height=1200)"
   ]
  },
  {
   "cell_type": "code",
   "execution_count": 9,
   "metadata": {},
   "outputs": [],
   "source": [
    "diorama_inversion['inc_dec'] = [incs, decs]\n",
    "diorama_inversion['z0'] = z0\n",
    "diorama_inversion['initial_dz'] = dz\n",
    "diorama_inversion['intial_r'] = r\n",
    "diorama_inversion['initial_estimate'] = model0\n",
    "diorama_inversion['initial_data'] = d0\n",
    "diorama_inversion['limits'] = [rmin, rmax, x0min, x0max, y0min, y0max, dzmin, dzmax]\n",
    "diorama_inversion['tol'] = tol\n",
    "diorama_inversion['main_field'] = [inc, dec]"
   ]
  },
  {
   "cell_type": "markdown",
   "metadata": {},
   "source": [
    "### Regularization parameters"
   ]
  },
  {
   "cell_type": "code",
   "execution_count": 10,
   "metadata": {
    "collapsed": true
   },
   "outputs": [],
   "source": [
    "#lamb = th*0.01 # Marquadt's parameter\n",
    "lamb = 10.0\n",
    "dlamb = 10.      # step for Marquadt's parameter\n",
    "\n",
    "a1 = 0.001   # adjacent radial distances within each prism\n",
    "a2 = 0.0001 # vertically adjacent radial distances\n",
    "a3 = 0.    # outcropping cross-section\n",
    "a4 = 0.     # outcropping origin\n",
    "a5 = 0.0001     # vertically adjacent origins\n",
    "a6 = 0.00001   # zero order Tikhonov on adjacent radial distances\n",
    "a7 = 0.0001     # zero order Tikhonov on thickness of each prism"
   ]
  },
  {
   "cell_type": "code",
   "execution_count": 11,
   "metadata": {},
   "outputs": [],
   "source": [
    "alpha = np.array([a1, a2, a3, a4, a5, a6, a7])"
   ]
  },
  {
   "cell_type": "code",
   "execution_count": 12,
   "metadata": {},
   "outputs": [],
   "source": [
    "diorama_inversion['regularization'] = alpha"
   ]
  },
  {
   "cell_type": "markdown",
   "metadata": {},
   "source": [
    "### Inversion"
   ]
  },
  {
   "cell_type": "code",
   "execution_count": 13,
   "metadata": {},
   "outputs": [
    {
     "name": "stdout",
     "output_type": "stream",
     "text": [
      "it:  0   it_marq:  0   lambda: 1e+01   misfit: 8.00699e+03\n",
      "it:  1   it_marq:  0   lambda: 1e+00   misfit: 2.80689e+03\n",
      "it:  2   it_marq:  0   lambda: 1e-01   misfit: 3.42008e+03\n",
      "it:  2   it_marq:  1   lambda: 1e+00   misfit: 1.28101e+03\n",
      "it:  3   it_marq:  0   lambda: 1e-01   misfit: 1.77132e+03\n",
      "it:  3   it_marq:  1   lambda: 1e+00   misfit: 8.11273e+02\n",
      "it:  4   it_marq:  0   lambda: 1e-01   misfit: 1.15698e+03\n",
      "it:  4   it_marq:  1   lambda: 1e+00   misfit: 6.38841e+02\n",
      "it:  5   it_marq:  0   lambda: 1e-01   misfit: 9.47173e+02\n",
      "it:  5   it_marq:  1   lambda: 1e+00   misfit: 5.62986e+02\n",
      "it:  6   it_marq:  0   lambda: 1e-01   misfit: 1.26329e+03\n",
      "it:  6   it_marq:  1   lambda: 1e+00   misfit: 5.14172e+02\n",
      "it:  7   it_marq:  0   lambda: 1e-01   misfit: 1.22370e+03\n",
      "it:  7   it_marq:  1   lambda: 1e+00   misfit: 4.85502e+02\n",
      "it:  8   it_marq:  0   lambda: 1e-01   misfit: 1.17213e+03\n",
      "it:  8   it_marq:  1   lambda: 1e+00   misfit: 4.70109e+02\n",
      "it:  9   it_marq:  0   lambda: 1e-01   misfit: 1.14968e+04\n",
      "it:  9   it_marq:  1   lambda: 1e+00   misfit: 4.58811e+02\n",
      "it: 10   it_marq:  0   lambda: 1e-01   misfit: 1.14787e+04\n",
      "it: 10   it_marq:  1   lambda: 1e+00   misfit: 4.49905e+02\n",
      "it: 11   it_marq:  0   lambda: 1e-01   misfit: 1.14744e+04\n",
      "it: 11   it_marq:  1   lambda: 1e+00   misfit: 4.42868e+02\n",
      "it: 12   it_marq:  0   lambda: 1e-01   misfit: 1.14801e+04\n",
      "it: 12   it_marq:  1   lambda: 1e+00   misfit: 4.36809e+02\n",
      "it: 13   it_marq:  0   lambda: 1e-01   misfit: 1.20051e+04\n",
      "it: 13   it_marq:  1   lambda: 1e+00   misfit: 4.31067e+02\n",
      "it: 14   it_marq:  0   lambda: 1e-01   misfit: 1.19350e+04\n",
      "it: 14   it_marq:  1   lambda: 1e+00   misfit: 4.25826e+02\n",
      "it: 15   it_marq:  0   lambda: 1e-01   misfit: 1.19371e+04\n",
      "it: 15   it_marq:  1   lambda: 1e+00   misfit: 4.21033e+02\n",
      "it: 16   it_marq:  0   lambda: 1e-01   misfit: 1.15899e+04\n",
      "it: 16   it_marq:  1   lambda: 1e+00   misfit: 4.16993e+02\n",
      "it: 17   it_marq:  0   lambda: 1e-01   misfit: 1.16390e+04\n",
      "it: 17   it_marq:  1   lambda: 1e+00   misfit: 4.13870e+02\n",
      "it: 18   it_marq:  0   lambda: 1e-01   misfit: 1.17006e+04\n",
      "it: 18   it_marq:  1   lambda: 1e+00   misfit: 4.12472e+02\n",
      "it: 19   it_marq:  0   lambda: 1e-01   misfit: 1.13472e+04\n",
      "it: 19   it_marq:  1   lambda: 1e+00   misfit: 4.11777e+02\n",
      "it: 20   it_marq:  0   lambda: 1e-01   misfit: 1.40318e+03\n",
      "it: 20   it_marq:  1   lambda: 1e+00   misfit: 4.10861e+02\n",
      "it: 21   it_marq:  0   lambda: 1e-01   misfit: 1.74107e+03\n",
      "it: 21   it_marq:  1   lambda: 1e+00   misfit: 4.10960e+02\n",
      "it: 21   it_marq:  2   lambda: 1e+01   misfit: 4.21200e+02\n",
      "it: 21   it_marq:  3   lambda: 1e+02   misfit: 4.33106e+02\n",
      "it: 21   it_marq:  4   lambda: 1e+03   misfit: 4.10386e+02\n",
      "it: 22   it_marq:  0   lambda: 1e+02   misfit: 4.06787e+02\n",
      "it: 23   it_marq:  0   lambda: 1e+01   misfit: 3.97933e+02\n",
      "it: 24   it_marq:  0   lambda: 1e+00   misfit: 4.04628e+02\n",
      "it: 24   it_marq:  1   lambda: 1e+01   misfit: 3.93604e+02\n",
      "it: 25   it_marq:  0   lambda: 1e+00   misfit: 4.01521e+02\n",
      "it: 25   it_marq:  1   lambda: 1e+01   misfit: 3.90875e+02\n",
      "it: 26   it_marq:  0   lambda: 1e+00   misfit: 3.99285e+02\n",
      "it: 26   it_marq:  1   lambda: 1e+01   misfit: 3.88832e+02\n",
      "it: 27   it_marq:  0   lambda: 1e+00   misfit: 3.97585e+02\n",
      "it: 27   it_marq:  1   lambda: 1e+01   misfit: 3.87189e+02\n",
      "it: 28   it_marq:  0   lambda: 1e+00   misfit: 3.96201e+02\n",
      "it: 28   it_marq:  1   lambda: 1e+01   misfit: 3.85827e+02\n",
      "it: 29   it_marq:  0   lambda: 1e+00   misfit: 3.95117e+02\n",
      "it: 29   it_marq:  1   lambda: 1e+01   misfit: 3.84693e+02\n"
     ]
    }
   ],
   "source": [
    "d_fit, m_est, model_est, phi_list = mfun.levmarq_tf(xp, yp, zp, m0, M, L, delta, itmax,\n",
    "                                                    itmax_marq, lamb, dlamb, tol,\n",
    "                                                    mmin, mmax, m_out, dobs, inc, dec,\n",
    "                                                    props, alpha, z0, dz)"
   ]
  },
  {
   "cell_type": "raw",
   "metadata": {},
   "source": [
    "mypath = 'diorama_tfa_inversion/direction_inc%d_dec%d/diorama_tfa_r%d_int%d_z0%d_dz%d' % (incs, decs, rin[0], np.linalg.norm(props['magnetization']), z0, dz)\n",
    "if not os.path.isdir(mypath):\n",
    "   os.makedirs(mypath)"
   ]
  },
  {
   "cell_type": "code",
   "execution_count": 14,
   "metadata": {},
   "outputs": [],
   "source": [
    "mypath = 'diorama_tfa_inversion/upward_direction_inc%d_dec%d/diorama_tfa_r%d_int%d_z0%d_dz%d' % (incs, decs, rin[0], np.linalg.norm(props['magnetization']), z0, dz)\n",
    "if not os.path.isdir(mypath):\n",
    "   os.makedirs(mypath)"
   ]
  },
  {
   "cell_type": "code",
   "execution_count": 15,
   "metadata": {},
   "outputs": [],
   "source": [
    "diorama_inversion['data_fit'] = d_fit\n",
    "diorama_inversion['estimate'] = m_est\n",
    "diorama_inversion['prisms'] = model_est\n",
    "diorama_inversion['objective'] = phi_list\n",
    "diorama_inversion['residual'] = dobs - d_fit"
   ]
  },
  {
   "cell_type": "code",
   "execution_count": 16,
   "metadata": {},
   "outputs": [],
   "source": [
    "file_name = mypath+'/diorama_tfa_inversion_r%d_int%d_z0%d_dz%d.pickle' % (rin[0], np.linalg.norm(props['magnetization']), z0, dz)\n",
    "with open(file_name, 'w') as f:\n",
    "    pickle.dump(diorama_inversion, f)"
   ]
  },
  {
   "cell_type": "code",
   "execution_count": 17,
   "metadata": {},
   "outputs": [
    {
     "data": {
      "text/plain": [
       "1.7398368732641605e+308"
      ]
     },
     "execution_count": 17,
     "metadata": {},
     "output_type": "execute_result"
    }
   ],
   "source": [
    "np.exp(709.75)"
   ]
  },
  {
   "cell_type": "code",
   "execution_count": null,
   "metadata": {},
   "outputs": [],
   "source": []
  }
 ],
 "metadata": {
  "kernelspec": {
   "display_name": "Python 2",
   "language": "python",
   "name": "python2"
  },
  "language_info": {
   "codemirror_mode": {
    "name": "ipython",
    "version": 2
   },
   "file_extension": ".py",
   "mimetype": "text/x-python",
   "name": "python",
   "nbconvert_exporter": "python",
   "pygments_lexer": "ipython2",
   "version": "2.7.13"
  }
 },
 "nbformat": 4,
 "nbformat_minor": 2
}
