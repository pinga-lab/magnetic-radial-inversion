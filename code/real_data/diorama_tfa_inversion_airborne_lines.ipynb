{
 "cells": [
  {
   "cell_type": "markdown",
   "metadata": {},
   "source": [
    "# Diorama TFA inversion"
   ]
  },
  {
   "cell_type": "code",
   "execution_count": 1,
   "metadata": {},
   "outputs": [
    {
     "name": "stderr",
     "output_type": "stream",
     "text": [
      "/home/leonardo/anaconda2/lib/python2.7/site-packages/fatiando/vis/mpl.py:76: UserWarning: This module will be removed in v0.6. We recommend the use of matplotlib.pyplot module directly. Some of the fatiando specific functions will remain.\n",
      "  \"specific functions will remain.\")\n",
      "/home/leonardo/anaconda2/lib/python2.7/site-packages/fatiando/vis/myv.py:51: UserWarning: This module will be removed in v0.7.\n",
      "  warnings.warn(\"This module will be removed in v0.7.\")\n"
     ]
    }
   ],
   "source": [
    "import numpy as np\n",
    "import matplotlib.pyplot as plt\n",
    "import cPickle as pickle\n",
    "import os\n",
    "import pandas as pd\n",
    "\n",
    "from fatiando import utils\n",
    "from fatiando.gravmag import polyprism\n",
    "from fatiando.mesher import PolygonalPrism\n",
    "from fatiando.vis import mpl, myv\n",
    "from matplotlib import colors, ticker, cm\n",
    "from IPython.display import Image as img\n",
    "from matplotlib.mlab import normpdf"
   ]
  },
  {
   "cell_type": "markdown",
   "metadata": {},
   "source": [
    "### Auxiliary functions"
   ]
  },
  {
   "cell_type": "code",
   "execution_count": 2,
   "metadata": {
    "collapsed": true
   },
   "outputs": [],
   "source": [
    "import sys\n",
    "sys.path.insert(0, '../../code')\n",
    "\n",
    "import mag_polyprism_functions as mfun\n",
    "import mag_sphere_functions as msf"
   ]
  },
  {
   "cell_type": "markdown",
   "metadata": {},
   "source": [
    "# Input"
   ]
  },
  {
   "cell_type": "markdown",
   "metadata": {},
   "source": [
    "### Importing Diorama TFA data"
   ]
  },
  {
   "cell_type": "raw",
   "metadata": {},
   "source": [
    "data = pd.read_csv('diorama_decimated_tfa.txt', skipinitialspace=True, delim_whitespace=True)"
   ]
  },
  {
   "cell_type": "raw",
   "metadata": {},
   "source": [
    "xp = data['X'].get_values()\n",
    "yp = data['Y'].get_values()\n",
    "zp = np.zeros(xp.size) - 100.\n",
    "dobs = data['MAGIGRF'].get_values()"
   ]
  },
  {
   "cell_type": "markdown",
   "metadata": {},
   "source": [
    "### Importing Diorama upward TFA data"
   ]
  },
  {
   "cell_type": "code",
   "execution_count": 3,
   "metadata": {},
   "outputs": [],
   "source": [
    "with open('diorama_eqlayer/direction_inc-59_dec-114_h200m/diorama_eqlayer_depth200m.pickle') as w:\n",
    "        di = pickle.load(w)"
   ]
  },
  {
   "cell_type": "code",
   "execution_count": 55,
   "metadata": {},
   "outputs": [],
   "source": [
    "xp = di['x']\n",
    "yp = di['y']\n",
    "zp = di['z']\n",
    "dobs = di['upward']"
   ]
  },
  {
   "cell_type": "markdown",
   "metadata": {},
   "source": [
    "### Parameters for inversion"
   ]
  },
  {
   "cell_type": "code",
   "execution_count": 56,
   "metadata": {},
   "outputs": [],
   "source": [
    "# output of inversion\n",
    "diorama_inversion = dict()"
   ]
  },
  {
   "cell_type": "code",
   "execution_count": 57,
   "metadata": {},
   "outputs": [],
   "source": [
    "diorama_inversion['xp'] = xp\n",
    "diorama_inversion['yp'] = yp\n",
    "diorama_inversion['zp'] = zp\n",
    "diorama_inversion['observed_data'] = dobs"
   ]
  },
  {
   "cell_type": "code",
   "execution_count": 58,
   "metadata": {
    "collapsed": false
   },
   "outputs": [],
   "source": [
    "#initial estimate\n",
    "M = 14 # number of vertices per prism\n",
    "L = 13 # number of prisms\n",
    "P = L*(M+2) + 1 # number of parameters\n",
    "\n",
    "# daiana\n",
    "incs = -59.\n",
    "decs = -144.5\n",
    "\n",
    "# andré\n",
    "#incs = -59.\n",
    "#decs = -114.5\n",
    "\n",
    "#figura\n",
    "z0 = 350.\n",
    "dz = 450.\n",
    "r = 1000.\n",
    "props = {'magnetization': utils.ang2vec(\n",
    "        20., incs, decs)}\n",
    "N = xp.size\n",
    "\n",
    "\n",
    "rin = np.zeros(M) + r\n",
    "m0 = np.hstack((rin, np.array([8212500., 478200.])))\n",
    "m0 = np.resize(m0, P - 1) # inicial parameters vector\n",
    "m0 = np.hstack((m0, dz))\n",
    "model0 = mfun.param2polyprism(m0, M, L, z0, props) # list of classes of prisms\n",
    "\n",
    "# main field\n",
    "inc = -19.5\n",
    "dec = -18.5\n",
    "\n",
    "# predict data\n",
    "d0 = polyprism.tf(xp, yp, zp, model0, inc, dec)\n",
    "\n",
    "# limits for parameters in meters\n",
    "rmin = 50.\n",
    "rmax = 3000.\n",
    "x0min = 8212500.\n",
    "x0max = 8213500.\n",
    "y0min = 478000.\n",
    "y0max = 479000.\n",
    "dzmin = 10.\n",
    "dzmax = 1000.\n",
    "\n",
    "mmin, mmax = mfun.build_range_param(M, L, rmin, rmax, x0min, x0max, y0min, y0max, dzmin, dzmax)\n",
    "\n",
    "itmax = 30\n",
    "itmax_marq = 15\n",
    "tol = 1.0e-5     # stop criterion\n",
    "\n",
    "# increment for derivatives\n",
    "deltax = 0.01*np.max(x0max)\n",
    "deltay = 0.01*np.max(y0max)\n",
    "deltar = 0.01*np.max(rmax)\n",
    "deltaz = 0.01*np.max(dzmax)\n",
    "delta = np.array([deltax, deltay, deltar, deltaz])\n",
    "m_out = np.zeros(M + 2)  # outcropping body parameters"
   ]
  },
  {
   "cell_type": "code",
   "execution_count": 59,
   "metadata": {},
   "outputs": [
    {
     "data": {
      "image/png": "[encoded data removed]",
      "text/plain": [
       "<matplotlib.figure.Figure at 0x7f852aae2290>"
      ]
     },
     "metadata": {},
     "output_type": "display_data"
    }
   ],
   "source": [
    "plt.figure(figsize=(10,7))\n",
    "plt.title('Predict TFA', fontsize=20)\n",
    "plt.tricontourf(yp, xp, d0, 20, cmap='jet').ax.tick_params(labelsize=12)\n",
    "plt.xlabel('$y$(km)', fontsize=18)\n",
    "plt.ylabel('$x$(km)', fontsize=18)\n",
    "clb = plt.colorbar(pad=0.025, aspect=40, shrink=1)\n",
    "clb.ax.tick_params(labelsize=13)\n",
    "#source = mpl.polygon(kimberlite_model['prisms'][0], '.-k', xy2ne=True)\n",
    "estimate = mpl.polygon(model0[0], '.-r', xy2ne=True)\n",
    "#source.set_label('Outcropping polygon')\n",
    "estimate.set_label('Initial estimate')\n",
    "clb.ax.set_title('nT')\n",
    "mpl.m2km()\n",
    "plt.legend(loc=0, fontsize=12, shadow=bool, framealpha=1)\n",
    "#plt.savefig(mypath+'diorama_tfa_pred_data_true_inital.png', dpi=300)\n",
    "plt.show()\n",
    "\n",
    "#img(filename=mypath+'diorama_tfa_pred_data_true_inital.png', width=1000, height=1200)"
   ]
  },
  {
   "cell_type": "code",
   "execution_count": 60,
   "metadata": {},
   "outputs": [],
   "source": [
    "diorama_inversion['inc_dec'] = [incs, decs]\n",
    "diorama_inversion['z0'] = z0\n",
    "diorama_inversion['initial_dz'] = dz\n",
    "diorama_inversion['intial_r'] = r\n",
    "diorama_inversion['initial_estimate'] = model0\n",
    "diorama_inversion['initial_data'] = d0\n",
    "diorama_inversion['limits'] = [rmin, rmax, x0min, x0max, y0min, y0max, dzmin, dzmax]\n",
    "diorama_inversion['tol'] = tol\n",
    "diorama_inversion['main_field'] = [inc, dec]"
   ]
  },
  {
   "cell_type": "markdown",
   "metadata": {},
   "source": [
    "### Regularization parameters"
   ]
  },
  {
   "cell_type": "code",
   "execution_count": 61,
   "metadata": {
    "collapsed": true
   },
   "outputs": [],
   "source": [
    "#lamb = th*0.01 # Marquadt's parameter\n",
    "lamb = 10.0\n",
    "dlamb = 10.      # step for Marquadt's parameter\n",
    "\n",
    "a1 = 0.0001   # adjacent radial distances within each prism\n",
    "a2 = 0.0001 # vertically adjacent radial distances\n",
    "a3 = 0.    # outcropping cross-section\n",
    "a4 = 0.     # outcropping origin\n",
    "a5 = 0.001     # vertically adjacent origins\n",
    "a6 = 0.00001   # zero order Tikhonov on adjacent radial distances\n",
    "a7 = 0.00001     # zero order Tikhonov on thickness of each prism"
   ]
  },
  {
   "cell_type": "code",
   "execution_count": 62,
   "metadata": {},
   "outputs": [],
   "source": [
    "alpha = np.array([a1, a2, a3, a4, a5, a6, a7])"
   ]
  },
  {
   "cell_type": "code",
   "execution_count": 63,
   "metadata": {},
   "outputs": [],
   "source": [
    "diorama_inversion['regularization'] = alpha"
   ]
  },
  {
   "cell_type": "markdown",
   "metadata": {},
   "source": [
    "### Inversion"
   ]
  },
  {
   "cell_type": "code",
   "execution_count": 64,
   "metadata": {},
   "outputs": [
    {
     "name": "stdout",
     "output_type": "stream",
     "text": [
      "it:  0   it_marq:  0   lambda: 1e+01   misfit: 2.24558e+04\n",
      "it:  1   it_marq:  0   lambda: 1e+00   misfit: 1.26770e+04\n",
      "it:  2   it_marq:  0   lambda: 1e-01   misfit: 2.72940e+04\n",
      "it:  2   it_marq:  1   lambda: 1e+00   misfit: 8.77671e+03\n",
      "it:  3   it_marq:  0   lambda: 1e-01   misfit: 4.02615e+04\n",
      "it:  3   it_marq:  1   lambda: 1e+00   misfit: 6.95469e+03\n",
      "it:  4   it_marq:  0   lambda: 1e-01   misfit: 7.14700e+04\n",
      "it:  4   it_marq:  1   lambda: 1e+00   misfit: 5.90201e+03\n",
      "it:  5   it_marq:  0   lambda: 1e-01   misfit: 1.01495e+05\n",
      "it:  5   it_marq:  1   lambda: 1e+00   misfit: 5.07723e+03\n",
      "it:  6   it_marq:  0   lambda: 1e-01   misfit: 1.51561e+05\n",
      "it:  6   it_marq:  1   lambda: 1e+00   misfit: 4.64677e+03\n",
      "it:  7   it_marq:  0   lambda: 1e-01   misfit: 1.05229e+05\n",
      "it:  7   it_marq:  1   lambda: 1e+00   misfit: 4.55283e+03\n",
      "it:  8   it_marq:  0   lambda: 1e-01   misfit: 8.10648e+04\n",
      "it:  8   it_marq:  1   lambda: 1e+00   misfit: 5.68374e+03\n",
      "it:  8   it_marq:  2   lambda: 1e+01   misfit: 3.09531e+03\n",
      "it:  9   it_marq:  0   lambda: 1e+00   misfit: 9.77249e+03\n",
      "it:  9   it_marq:  1   lambda: 1e+01   misfit: 2.57487e+03\n",
      "it: 10   it_marq:  0   lambda: 1e+00   misfit: 2.83557e+04\n",
      "it: 10   it_marq:  1   lambda: 1e+01   misfit: 2.25156e+03\n",
      "it: 11   it_marq:  0   lambda: 1e+00   misfit: 3.63193e+04\n",
      "it: 11   it_marq:  1   lambda: 1e+01   misfit: 2.03300e+03\n",
      "it: 12   it_marq:  0   lambda: 1e+00   misfit: 5.65083e+04\n",
      "it: 12   it_marq:  1   lambda: 1e+01   misfit: 1.87487e+03\n",
      "it: 13   it_marq:  0   lambda: 1e+00   misfit: 6.58494e+04\n",
      "it: 13   it_marq:  1   lambda: 1e+01   misfit: 1.75675e+03\n",
      "it: 14   it_marq:  0   lambda: 1e+00   misfit: 8.49011e+04\n",
      "it: 14   it_marq:  1   lambda: 1e+01   misfit: 6.31837e+03\n",
      "it: 14   it_marq:  2   lambda: 1e+02   misfit: 1.67883e+03\n",
      "it: 15   it_marq:  0   lambda: 1e+01   misfit: 1.58663e+04\n",
      "it: 15   it_marq:  1   lambda: 1e+02   misfit: 1.61700e+03\n",
      "it: 16   it_marq:  0   lambda: 1e+01   misfit: 1.58668e+04\n",
      "it: 16   it_marq:  1   lambda: 1e+02   misfit: 1.56778e+03\n",
      "it: 17   it_marq:  0   lambda: 1e+01   misfit: 3.02000e+04\n",
      "it: 17   it_marq:  1   lambda: 1e+02   misfit: 1.52717e+03\n",
      "it: 18   it_marq:  0   lambda: 1e+01   misfit: 3.00547e+04\n",
      "it: 18   it_marq:  1   lambda: 1e+02   misfit: 1.49293e+03\n",
      "it: 19   it_marq:  0   lambda: 1e+01   misfit: 2.99199e+04\n",
      "it: 19   it_marq:  1   lambda: 1e+02   misfit: 1.46428e+03\n",
      "it: 20   it_marq:  0   lambda: 1e+01   misfit: 2.97970e+04\n",
      "it: 20   it_marq:  1   lambda: 1e+02   misfit: 1.44030e+03\n",
      "it: 21   it_marq:  0   lambda: 1e+01   misfit: 2.96881e+04\n",
      "it: 21   it_marq:  1   lambda: 1e+02   misfit: 1.42002e+03\n",
      "it: 22   it_marq:  0   lambda: 1e+01   misfit: 2.96118e+04\n",
      "it: 22   it_marq:  1   lambda: 1e+02   misfit: 1.40258e+03\n",
      "it: 23   it_marq:  0   lambda: 1e+01   misfit: 2.98384e+04\n",
      "it: 23   it_marq:  1   lambda: 1e+02   misfit: 1.38682e+03\n",
      "it: 24   it_marq:  0   lambda: 1e+01   misfit: 4.53135e+04\n",
      "it: 24   it_marq:  1   lambda: 1e+02   misfit: 1.37251e+03\n",
      "it: 25   it_marq:  0   lambda: 1e+01   misfit: 4.51691e+04\n",
      "it: 25   it_marq:  1   lambda: 1e+02   misfit: 1.35918e+03\n",
      "it: 26   it_marq:  0   lambda: 1e+01   misfit: 4.50274e+04\n",
      "it: 26   it_marq:  1   lambda: 1e+02   misfit: 1.34657e+03\n",
      "it: 27   it_marq:  0   lambda: 1e+01   misfit: 4.48882e+04\n",
      "it: 27   it_marq:  1   lambda: 1e+02   misfit: 1.33464e+03\n",
      "it: 28   it_marq:  0   lambda: 1e+01   misfit: 4.47522e+04\n",
      "it: 28   it_marq:  1   lambda: 1e+02   misfit: 1.32332e+03\n",
      "it: 29   it_marq:  0   lambda: 1e+01   misfit: 4.49178e+04\n",
      "it: 29   it_marq:  1   lambda: 1e+02   misfit: 1.31255e+03\n"
     ]
    }
   ],
   "source": [
    "d_fit, m_est, model_est, phi_list = mfun.levmarq_tf(xp, yp, zp, m0, M, L, delta, itmax,\n",
    "                                                    itmax_marq, lamb, dlamb, tol,\n",
    "                                                    mmin, mmax, m_out, dobs, inc, dec,\n",
    "                                                    props, alpha, z0, dz)"
   ]
  },
  {
   "cell_type": "raw",
   "metadata": {},
   "source": [
    "mypath = 'diorama_tfa_inversion/direction_inc%d_dec%d/diorama_tfa_r%d_int%d_z0%d_dz%d' % (incs, decs, rin[0], np.linalg.norm(props['magnetization']), z0, dz)\n",
    "if not os.path.isdir(mypath):\n",
    "   os.makedirs(mypath)"
   ]
  },
  {
   "cell_type": "code",
   "execution_count": 65,
   "metadata": {},
   "outputs": [],
   "source": [
    "mypath = 'diorama_tfa_inversion/upward_direction_inc%d_dec%d/diorama_tfa_r%d_int%d_z0%d_dz%d' % (incs, decs, rin[0], np.linalg.norm(props['magnetization']), z0, dz)\n",
    "if not os.path.isdir(mypath):\n",
    "   os.makedirs(mypath)"
   ]
  },
  {
   "cell_type": "code",
   "execution_count": 66,
   "metadata": {},
   "outputs": [],
   "source": [
    "diorama_inversion['data_fit'] = d_fit\n",
    "diorama_inversion['estimate'] = m_est\n",
    "diorama_inversion['prisms'] = model_est\n",
    "diorama_inversion['objective'] = phi_list\n",
    "diorama_inversion['residual'] = dobs - d_fit"
   ]
  },
  {
   "cell_type": "code",
   "execution_count": 67,
   "metadata": {},
   "outputs": [],
   "source": [
    "file_name = mypath+'/diorama_tfa_inversion_r%d_int%d_z0%d_dz%d.pickle' % (rin[0], np.linalg.norm(props['magnetization']), z0, dz)\n",
    "with open(file_name, 'w') as f:\n",
    "    pickle.dump(diorama_inversion, f)"
   ]
  },
  {
   "cell_type": "code",
   "execution_count": 68,
   "metadata": {},
   "outputs": [
    {
     "data": {
      "text/plain": [
       "1.7398368732641605e+308"
      ]
     },
     "execution_count": 68,
     "metadata": {},
     "output_type": "execute_result"
    }
   ],
   "source": [
    "np.exp(709.75)"
   ]
  },
  {
   "cell_type": "code",
   "execution_count": null,
   "metadata": {},
   "outputs": [],
   "source": []
  }
 ],
 "metadata": {
  "kernelspec": {
   "display_name": "Python 2",
   "language": "python",
   "name": "python2"
  },
  "language_info": {
   "codemirror_mode": {
    "name": "ipython",
    "version": 2
   },
   "file_extension": ".py",
   "mimetype": "text/x-python",
   "name": "python",
   "nbconvert_exporter": "python",
   "pygments_lexer": "ipython2",
   "version": "2.7.15"
  }
 },
 "nbformat": 4,
 "nbformat_minor": 2
}
