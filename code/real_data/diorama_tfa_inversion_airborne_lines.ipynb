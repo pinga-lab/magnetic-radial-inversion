{
 "cells": [
  {
   "cell_type": "markdown",
   "metadata": {},
   "source": [
    "# Diorama TFA inversion"
   ]
  },
  {
   "cell_type": "code",
   "execution_count": 1,
   "metadata": {},
   "outputs": [
    {
     "name": "stderr",
     "output_type": "stream",
     "text": [
      "/home/leonardo/anaconda2/lib/python2.7/site-packages/fatiando/vis/mpl.py:76: UserWarning: This module will be removed in v0.6. We recommend the use of matplotlib.pyplot module directly. Some of the fatiando specific functions will remain.\n",
      "  \"specific functions will remain.\")\n",
      "/home/leonardo/anaconda2/lib/python2.7/site-packages/fatiando/vis/myv.py:51: UserWarning: This module will be removed in v0.7.\n",
      "  warnings.warn(\"This module will be removed in v0.7.\")\n"
     ]
    }
   ],
   "source": [
    "import numpy as np\n",
    "import matplotlib.pyplot as plt\n",
    "import cPickle as pickle\n",
    "import os\n",
    "\n",
    "from fatiando import utils\n",
    "from fatiando.gravmag import polyprism\n",
    "from fatiando.mesher import PolygonalPrism\n",
    "from fatiando.vis import mpl, myv\n",
    "from matplotlib import colors, ticker, cm\n",
    "from IPython.display import Image as img\n",
    "from matplotlib.mlab import normpdf"
   ]
  },
  {
   "cell_type": "markdown",
   "metadata": {},
   "source": [
    "### Auxiliary functions"
   ]
  },
  {
   "cell_type": "code",
   "execution_count": 2,
   "metadata": {
    "collapsed": true
   },
   "outputs": [],
   "source": [
    "import sys\n",
    "sys.path.insert(0, '../../code')\n",
    "\n",
    "import mag_polyprism_functions as mfun\n",
    "import mag_sphere_functions as msf"
   ]
  },
  {
   "cell_type": "markdown",
   "metadata": {},
   "source": [
    "# Input"
   ]
  },
  {
   "cell_type": "markdown",
   "metadata": {},
   "source": [
    "### Importing Diorama TFA data"
   ]
  },
  {
   "cell_type": "code",
   "execution_count": 3,
   "metadata": {},
   "outputs": [],
   "source": [
    "xp, yp, zp, dobs = np.loadtxt('diorama_tfa.txt', usecols=(0,1,2,5), unpack=True)"
   ]
  },
  {
   "cell_type": "code",
   "execution_count": 4,
   "metadata": {},
   "outputs": [],
   "source": [
    "xp = xp[range(0,xp.size,11)]\n",
    "yp = yp[range(0,yp.size,11)]\n",
    "zp = zp[range(0,zp.size,11)]\n",
    "dobs = dobs[range(0,dobs.size,11)]"
   ]
  },
  {
   "cell_type": "markdown",
   "metadata": {},
   "source": [
    "### Parameters for inversion"
   ]
  },
  {
   "cell_type": "code",
   "execution_count": 5,
   "metadata": {},
   "outputs": [],
   "source": [
    "# output of inversion\n",
    "diorama_inversion = dict()"
   ]
  },
  {
   "cell_type": "code",
   "execution_count": 6,
   "metadata": {},
   "outputs": [],
   "source": [
    "diorama_inversion['xp'] = xp\n",
    "diorama_inversion['yp'] = yp\n",
    "diorama_inversion['zp'] = zp\n",
    "diorama_inversion['observed_data'] = dobs"
   ]
  },
  {
   "cell_type": "code",
   "execution_count": 7,
   "metadata": {
    "collapsed": false
   },
   "outputs": [],
   "source": [
    "#initial estimate\n",
    "M = 20 # number of vertices per prism\n",
    "L = 10 # number of prisms\n",
    "P = L*(M+2) + 1 # number of parameters\n",
    "\n",
    "incs = -71.41751\n",
    "decs = -23.39541\n",
    "z0 = 350.\n",
    "dz = 500.\n",
    "r = 1200.\n",
    "props = {'magnetization': utils.ang2vec(\n",
    "        10., incs, decs)}\n",
    "N = xp.size\n",
    "\n",
    "#m0 = np.zeros(P-1)\n",
    "#for i in range (1, L+1, 1):\n",
    "    #m0[i*(M+2):i*(M+2)+M] = 2000. + (i-10)*200. - (i+5)*200.\n",
    "    #m0[i*(M+2)+M:i*(M+2)+M+2] = np.array([8212500., 478200.])\n",
    "rin = np.zeros(M) + r\n",
    "m0 = np.hstack((rin, np.array([8212500., 478200.])))\n",
    "m0 = np.resize(m0, P - 1) # inicial parameters vector\n",
    "m0 = np.hstack((m0, dz))\n",
    "model0 = mfun.param2polyprism(m0, M, L, z0, props) # list of classes of prisms\n",
    "\n",
    "# main field\n",
    "inc = -19.5\n",
    "dec = -18.5\n",
    "\n",
    "# predict data\n",
    "d0 = polyprism.tf(xp, yp, zp, model0, inc, dec)\n",
    "\n",
    "# limits for parameters in meters\n",
    "rmin = 50.\n",
    "rmax = 3000.\n",
    "x0min = 8211000.\n",
    "x0max = 8214000.\n",
    "y0min = 477000.\n",
    "y0max = 479000.\n",
    "dzmin = 100.\n",
    "dzmax = 800.\n",
    "\n",
    "mmin, mmax = mfun.build_range_param(M, L, rmin, rmax, x0min, x0max, y0min, y0max, dzmin, dzmax)\n",
    "\n",
    "itmax = 30\n",
    "itmax_marq = 15\n",
    "epsilon = 1.0e-5     # stop criterion\n",
    "\n",
    "# increment for derivatives\n",
    "deltax = 0.01*np.max(x0max)\n",
    "deltay = 0.01*np.max(y0max)\n",
    "deltar = 0.01*np.max(rmax)\n",
    "deltaz = 0.01*np.max(dzmax)\n",
    "delta = np.array([deltax, deltay, deltar, deltaz])\n",
    "m_out = np.zeros(M + 2)  # outcropping body parameters"
   ]
  },
  {
   "cell_type": "code",
   "execution_count": 8,
   "metadata": {},
   "outputs": [],
   "source": [
    "diorama_inversion['inc_dec'] = [incs, decs]\n",
    "diorama_inversion['z0'] = z0\n",
    "diorama_inversion['initial_dz'] = dz\n",
    "diorama_inversion['intial_r'] = r\n",
    "diorama_inversion['initial_estimate'] = model0\n",
    "diorama_inversion['initial_data'] = d0\n",
    "diorama_inversion['limits'] = [rmin, rmax, x0min, x0max, y0min, y0max, dzmin, dzmax]\n",
    "diorama_inversion['tol'] = epsilon\n",
    "diorama_inversion['main_field'] = [inc, dec]"
   ]
  },
  {
   "cell_type": "code",
   "execution_count": 9,
   "metadata": {},
   "outputs": [],
   "source": [
    "mypath = 'diorama_tfa_inversion/diorama_tfa_r%d_int%d_z0%d_dz%d' % (rin[0], np.linalg.norm(props['magnetization']), z0, dz)\n",
    "if not os.path.isdir(mypath):\n",
    "   os.makedirs(mypath)"
   ]
  },
  {
   "cell_type": "markdown",
   "metadata": {},
   "source": [
    "### Regularization parameters"
   ]
  },
  {
   "cell_type": "code",
   "execution_count": 10,
   "metadata": {
    "collapsed": true
   },
   "outputs": [],
   "source": [
    "#lamb = th*0.01 # Marquadt's parameter\n",
    "lamb = 10.0\n",
    "dlamb = 10.      # step for Marquadt's parameter\n",
    "\n",
    "a1 = 0.0001   # adjacent radial distances within each prism\n",
    "a2 = 0.0001 # vertically adjacent radial distances\n",
    "a3 = 0.     # outcropping cross-section\n",
    "a4 = 0.     # outcropping origin\n",
    "a5 = 0.005     # vertically adjacent origins\n",
    "a6 = 0.00001   # zero order Tikhonov on adjacent radial distances\n",
    "a7 = 0.000001     # zero order Tikhonov on thickness of each prism"
   ]
  },
  {
   "cell_type": "code",
   "execution_count": 11,
   "metadata": {},
   "outputs": [],
   "source": [
    "alpha = np.array([a1, a2, a3, a4, a5, a6, a7])"
   ]
  },
  {
   "cell_type": "code",
   "execution_count": 12,
   "metadata": {},
   "outputs": [],
   "source": [
    "diorama_inversion['regularization'] = alpha"
   ]
  },
  {
   "cell_type": "markdown",
   "metadata": {},
   "source": [
    "### Inversion"
   ]
  },
  {
   "cell_type": "code",
   "execution_count": 13,
   "metadata": {},
   "outputs": [
    {
     "name": "stdout",
     "output_type": "stream",
     "text": [
      "it:  0   it_marq:  0   lambda: 1e+01   misfit: 1.43010e+05\n",
      "it:  1   it_marq:  0   lambda: 1e+00   misfit: 1.94272e+05\n",
      "it:  1   it_marq:  1   lambda: 1e+01   misfit: 1.24782e+05\n",
      "it:  2   it_marq:  0   lambda: 1e+00   misfit: 1.50177e+05\n",
      "it:  2   it_marq:  1   lambda: 1e+01   misfit: 1.17839e+05\n",
      "it:  3   it_marq:  0   lambda: 1e+00   misfit: 1.54411e+05\n",
      "it:  3   it_marq:  1   lambda: 1e+01   misfit: 1.09759e+05\n",
      "it:  4   it_marq:  0   lambda: 1e+00   misfit: 1.29598e+05\n",
      "it:  4   it_marq:  1   lambda: 1e+01   misfit: 1.04986e+05\n",
      "it:  5   it_marq:  0   lambda: 1e+00   misfit: 1.19447e+05\n",
      "it:  5   it_marq:  1   lambda: 1e+01   misfit: 1.01896e+05\n",
      "it:  6   it_marq:  0   lambda: 1e+00   misfit: 1.10017e+05\n",
      "it:  6   it_marq:  1   lambda: 1e+01   misfit: 1.01796e+05\n",
      "it:  7   it_marq:  0   lambda: 1e+00   misfit: 1.04536e+05\n",
      "it:  7   it_marq:  1   lambda: 1e+01   misfit: 9.96528e+04\n",
      "it:  8   it_marq:  0   lambda: 1e+00   misfit: 1.03705e+05\n",
      "it:  8   it_marq:  1   lambda: 1e+01   misfit: 1.01267e+05\n",
      "it:  8   it_marq:  2   lambda: 1e+02   misfit: 1.01253e+05\n",
      "it:  8   it_marq:  3   lambda: 1e+03   misfit: 1.00907e+05\n",
      "it:  8   it_marq:  4   lambda: 1e+04   misfit: 1.00713e+05\n",
      "it:  8   it_marq:  5   lambda: 1e+05   misfit: 9.96535e+04\n",
      "it:  8   it_marq:  6   lambda: 1e+06   misfit: 9.96533e+04\n",
      "it:  8   it_marq:  7   lambda: 1e+07   misfit: 9.96533e+04\n",
      "it:  8   it_marq:  8   lambda: 1e+08   misfit: 9.96533e+04\n",
      "it:  8   it_marq:  9   lambda: 1e+09   misfit: 9.96533e+04\n",
      "it:  8   it_marq: 10   lambda: 1e+10   misfit: 9.96533e+04\n",
      "it:  8   it_marq: 11   lambda: 1e+11   misfit: 9.96533e+04\n",
      "it:  8   it_marq: 12   lambda: 1e+12   misfit: 9.96533e+04\n",
      "it:  8   it_marq: 13   lambda: 1e+13   misfit: 9.96533e+04\n",
      "it:  8   it_marq: 14   lambda: 1e+14   misfit: 9.96533e+04\n"
     ]
    }
   ],
   "source": [
    "d_fit, m_est, model_est, phi_list = mfun.levmarq_tf(xp, yp, zp, m0, M, L, delta, itmax,\n",
    "                                                    itmax_marq, lamb, dlamb, epsilon,\n",
    "                                                    mmin, mmax, m_out, dobs, inc, dec,\n",
    "                                                    props, alpha, z0, dz)"
   ]
  },
  {
   "cell_type": "code",
   "execution_count": 14,
   "metadata": {},
   "outputs": [],
   "source": [
    "res = dobs - d_fit\n",
    "res_norm = (res - np.mean(res))/np.std(res) # residue normalization"
   ]
  },
  {
   "cell_type": "code",
   "execution_count": 15,
   "metadata": {},
   "outputs": [],
   "source": [
    "diorama_inversion['data_fit'] = d_fit\n",
    "diorama_inversion['estimate'] = m_est\n",
    "diorama_inversion['prisms'] = model_est\n",
    "diorama_inversion['objective'] = phi_list\n",
    "diorama_inversion['residual'] = res_norm"
   ]
  },
  {
   "cell_type": "code",
   "execution_count": 16,
   "metadata": {},
   "outputs": [],
   "source": [
    "file_name = mypath+'/diorama_tfa_inversion_r%d_int%d_z0%d_dz%d.pickle' % (rin[0], np.linalg.norm(props['magnetization']), z0, dz)\n",
    "with open(file_name, 'w') as f:\n",
    "    pickle.dump(diorama_inversion, f)"
   ]
  }
 ],
 "metadata": {
  "kernelspec": {
   "display_name": "Python 2",
   "language": "python",
   "name": "python2"
  },
  "language_info": {
   "codemirror_mode": {
    "name": "ipython",
    "version": 2
   },
   "file_extension": ".py",
   "mimetype": "text/x-python",
   "name": "python",
   "nbconvert_exporter": "python",
   "pygments_lexer": "ipython2",
   "version": "2.7.13"
  }
 },
 "nbformat": 4,
 "nbformat_minor": 2
}
