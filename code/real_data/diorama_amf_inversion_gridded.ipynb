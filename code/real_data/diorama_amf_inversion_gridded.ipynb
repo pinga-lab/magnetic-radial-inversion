{
 "cells": [
  {
   "cell_type": "markdown",
   "metadata": {},
   "source": [
    "# Diorama AMF inversion"
   ]
  },
  {
   "cell_type": "code",
   "execution_count": 1,
   "metadata": {},
   "outputs": [
    {
     "name": "stderr",
     "output_type": "stream",
     "text": [
      "/home/vital/anaconda2/lib/python2.7/site-packages/fatiando/vis/mpl.py:76: UserWarning: This module will be removed in v0.6. We recommend the use of matplotlib.pyplot module directly. Some of the fatiando specific functions will remain.\n",
      "  \"specific functions will remain.\")\n",
      "/home/vital/anaconda2/lib/python2.7/site-packages/fatiando/vis/myv.py:51: UserWarning: This module will be removed in v0.7.\n",
      "  warnings.warn(\"This module will be removed in v0.7.\")\n"
     ]
    }
   ],
   "source": [
    "import numpy as np\n",
    "import matplotlib.pyplot as plt\n",
    "import cPickle as pickle\n",
    "import os\n",
    "\n",
    "from fatiando import utils\n",
    "from fatiando.gravmag import polyprism\n",
    "from fatiando.mesher import PolygonalPrism\n",
    "from fatiando.vis import mpl, myv\n",
    "from matplotlib import colors, ticker, cm\n",
    "from IPython.display import Image as img\n",
    "from matplotlib.mlab import normpdf"
   ]
  },
  {
   "cell_type": "markdown",
   "metadata": {},
   "source": [
    "### Auxiliary functions"
   ]
  },
  {
   "cell_type": "code",
   "execution_count": 2,
   "metadata": {
    "collapsed": true
   },
   "outputs": [],
   "source": [
    "import sys\n",
    "sys.path.insert(0, '../../code')\n",
    "\n",
    "import mag_polyprism_functions as mfun\n",
    "import mag_sphere_functions as msf"
   ]
  },
  {
   "cell_type": "markdown",
   "metadata": {},
   "source": [
    "# Input"
   ]
  },
  {
   "cell_type": "markdown",
   "metadata": {},
   "source": [
    "### Importing Diorama AMF data"
   ]
  },
  {
   "cell_type": "code",
   "execution_count": 3,
   "metadata": {},
   "outputs": [],
   "source": [
    "mypath = 'diorama_tfa_inversion/diorama_tfa_r1200_int10_z0350_dz500/'"
   ]
  },
  {
   "cell_type": "code",
   "execution_count": 4,
   "metadata": {},
   "outputs": [],
   "source": [
    "with open(mypath+'diorama_eqlayer_depth250m.pickle') as w:\n",
    "        di = pickle.load(w)"
   ]
  },
  {
   "cell_type": "markdown",
   "metadata": {},
   "source": [
    "### Parameters for inversion"
   ]
  },
  {
   "cell_type": "code",
   "execution_count": 5,
   "metadata": {},
   "outputs": [],
   "source": [
    "# output of inversion\n",
    "diorama_inversion = dict()"
   ]
  },
  {
   "cell_type": "code",
   "execution_count": 6,
   "metadata": {},
   "outputs": [],
   "source": [
    "diorama_inversion['xp'] = di['x']\n",
    "diorama_inversion['yp'] = di['y']\n",
    "diorama_inversion['zp'] = di['z']\n",
    "diorama_inversion['observed_data'] = di['amf']"
   ]
  },
  {
   "cell_type": "code",
   "execution_count": 7,
   "metadata": {
    "collapsed": false
   },
   "outputs": [],
   "source": [
    "#initial estimate\n",
    "M = 20 # number of vertices per prism\n",
    "L = 10 # number of prisms\n",
    "P = L*(M+2) + 1 # number of parameters\n",
    "\n",
    "# main field\n",
    "inc = -19.5\n",
    "dec = -18.5\n",
    "\n",
    "incs = -71.41751\n",
    "decs = -23.39541\n",
    "\n",
    "z0 = 100.\n",
    "dz = 500.\n",
    "r = 1200.\n",
    "props = {'magnetization': utils.ang2vec(\n",
    "        10., inc, dec)}\n",
    "N = di['x'].size\n",
    "\n",
    "#m0 = np.zeros(P-1)\n",
    "#for i in range (1, L+1, 1):\n",
    "    #m0[i*(M+2):i*(M+2)+M] = 2000. + (i-10)*200. - (i+5)*200.\n",
    "    #m0[i*(M+2)+M:i*(M+2)+M+2] = np.array([8212500., 478200.])\n",
    "rin = np.zeros(M) + r\n",
    "m0 = np.hstack((rin, np.array([8212500., 478200.])))\n",
    "m0 = np.resize(m0, P - 1) # inicial parameters vector\n",
    "m0 = np.hstack((m0, dz))\n",
    "model0 = mfun.param2polyprism(m0, M, L, z0, props) # list of classes of prisms\n",
    "\n",
    "# predict data\n",
    "d0 = np.sqrt(polyprism.bx(di['x'], di['y'], di['z'], model0)**2. +\n",
    "            polyprism.by(di['x'], di['y'], di['z'], model0)**2. +\n",
    "            polyprism.bz(di['x'], di['y'], di['z'], model0)**2.)\n",
    "\n",
    "# limits for parameters in meters\n",
    "rmin = 50.\n",
    "rmax = 3000.\n",
    "x0min = 8211000.\n",
    "x0max = 8214000.\n",
    "y0min = 477000.\n",
    "y0max = 479000.\n",
    "dzmin = 100.\n",
    "dzmax = 800.\n",
    "\n",
    "mmin, mmax = mfun.build_range_param(M, L, rmin, rmax, x0min, x0max, y0min, y0max, dzmin, dzmax)\n",
    "\n",
    "itmax = 30\n",
    "itmax_marq = 15\n",
    "epsilon = 1.0e-5     # stop criterion\n",
    "\n",
    "# increment for derivatives\n",
    "deltax = 0.01*np.max(x0max)\n",
    "deltay = 0.01*np.max(y0max)\n",
    "deltar = 0.01*np.max(rmax)\n",
    "deltaz = 0.01*np.max(dzmax)\n",
    "delta = np.array([deltax, deltay, deltar, deltaz])\n",
    "m_out = np.zeros(M + 2)  # outcropping body parameters"
   ]
  },
  {
   "cell_type": "code",
   "execution_count": 8,
   "metadata": {},
   "outputs": [],
   "source": [
    "diorama_inversion['inc_dec'] = [incs, decs]\n",
    "diorama_inversion['z0'] = z0\n",
    "diorama_inversion['initial_dz'] = dz\n",
    "diorama_inversion['intial_r'] = r\n",
    "diorama_inversion['initial_estimate'] = model0\n",
    "diorama_inversion['initial_data'] = d0\n",
    "diorama_inversion['limits'] = [rmin, rmax, x0min, x0max, y0min, y0max, dzmin, dzmax]\n",
    "diorama_inversion['tol'] = epsilon\n",
    "diorama_inversion['main_field'] = [inc, dec]"
   ]
  },
  {
   "cell_type": "code",
   "execution_count": 9,
   "metadata": {},
   "outputs": [],
   "source": [
    "mypath = 'diorama_amf_inversion/diorama_r%d_int%d_z0%d_dz%d' % (rin[0], np.linalg.norm(props['magnetization']), z0, dz)\n",
    "if not os.path.isdir(mypath):\n",
    "   os.makedirs(mypath)"
   ]
  },
  {
   "cell_type": "markdown",
   "metadata": {},
   "source": [
    "### Regularization parameters"
   ]
  },
  {
   "cell_type": "code",
   "execution_count": 10,
   "metadata": {
    "collapsed": true
   },
   "outputs": [],
   "source": [
    "#lamb = th*0.01 # Marquadt's parameter\n",
    "lamb = 10.0\n",
    "dlamb = 10.      # step for Marquadt's parameter\n",
    "\n",
    "a1 = 0.0001   # adjacent radial distances within each prism\n",
    "a2 = 0.0001 # vertically adjacent radial distances\n",
    "a3 = 0.     # outcropping cross-section\n",
    "a4 = 0.     # outcropping origin\n",
    "a5 = 0.01     # vertically adjacent origins\n",
    "a6 = 0.00001   # zero order Tikhonov on adjacent radial distances\n",
    "a7 = 0.000001     # zero order Tikhonov on thickness of each prism"
   ]
  },
  {
   "cell_type": "code",
   "execution_count": 11,
   "metadata": {},
   "outputs": [],
   "source": [
    "alpha = np.array([a1, a2, a3, a4, a5, a6, a7])"
   ]
  },
  {
   "cell_type": "code",
   "execution_count": 12,
   "metadata": {},
   "outputs": [],
   "source": [
    "diorama_inversion['regularization'] = alpha"
   ]
  },
  {
   "cell_type": "markdown",
   "metadata": {},
   "source": [
    "### Inversion"
   ]
  },
  {
   "cell_type": "code",
   "execution_count": 13,
   "metadata": {},
   "outputs": [
    {
     "name": "stdout",
     "output_type": "stream",
     "text": [
      "it:  0   it_marq:  0   lambda: 1e+01   misfit: 2.6768e+05\n",
      "it:  1   it_marq:  0   lambda: 1e+00   misfit: 1.8314e+05\n",
      "it:  2   it_marq:  0   lambda: 1e-01   misfit: 6.8523e+04\n",
      "it:  3   it_marq:  0   lambda: 1e-02   misfit: 7.3339e+04\n",
      "it:  3   it_marq:  1   lambda: 1e-01   misfit: 8.2295e+04\n",
      "it:  3   it_marq:  2   lambda: 1e+00   misfit: 6.2681e+04\n",
      "it:  4   it_marq:  0   lambda: 1e-01   misfit: 1.2794e+05\n",
      "it:  4   it_marq:  1   lambda: 1e+00   misfit: 5.6505e+04\n",
      "it:  5   it_marq:  0   lambda: 1e-01   misfit: 1.7226e+05\n",
      "it:  5   it_marq:  1   lambda: 1e+00   misfit: 7.0480e+04\n",
      "it:  5   it_marq:  2   lambda: 1e+01   misfit: 3.9166e+04\n",
      "it:  6   it_marq:  0   lambda: 1e+00   misfit: 7.2842e+04\n",
      "it:  6   it_marq:  1   lambda: 1e+01   misfit: 3.4357e+04\n",
      "it:  7   it_marq:  0   lambda: 1e+00   misfit: 9.0207e+04\n",
      "it:  7   it_marq:  1   lambda: 1e+01   misfit: 3.3637e+04\n",
      "it:  8   it_marq:  0   lambda: 1e+00   misfit: 1.2123e+05\n",
      "it:  8   it_marq:  1   lambda: 1e+01   misfit: 3.4661e+04\n",
      "it:  8   it_marq:  2   lambda: 1e+02   misfit: 3.2587e+04\n",
      "it:  9   it_marq:  0   lambda: 1e+01   misfit: 3.4437e+04\n",
      "it:  9   it_marq:  1   lambda: 1e+02   misfit: 3.1791e+04\n",
      "it: 10   it_marq:  0   lambda: 1e+01   misfit: 3.4322e+04\n",
      "it: 10   it_marq:  1   lambda: 1e+02   misfit: 3.1186e+04\n",
      "it: 11   it_marq:  0   lambda: 1e+01   misfit: 3.4302e+04\n",
      "it: 11   it_marq:  1   lambda: 1e+02   misfit: 3.0732e+04\n",
      "it: 12   it_marq:  0   lambda: 1e+01   misfit: 3.4573e+04\n",
      "it: 12   it_marq:  1   lambda: 1e+02   misfit: 3.0400e+04\n",
      "it: 13   it_marq:  0   lambda: 1e+01   misfit: 3.5261e+04\n",
      "it: 13   it_marq:  1   lambda: 1e+02   misfit: 3.0163e+04\n",
      "it: 14   it_marq:  0   lambda: 1e+01   misfit: 3.5592e+04\n",
      "it: 14   it_marq:  1   lambda: 1e+02   misfit: 2.9999e+04\n",
      "it: 15   it_marq:  0   lambda: 1e+01   misfit: 3.5962e+04\n",
      "it: 15   it_marq:  1   lambda: 1e+02   misfit: 2.9893e+04\n",
      "it: 16   it_marq:  0   lambda: 1e+01   misfit: 3.7047e+04\n",
      "it: 16   it_marq:  1   lambda: 1e+02   misfit: 2.9837e+04\n",
      "it: 17   it_marq:  0   lambda: 1e+01   misfit: 4.1984e+04\n",
      "it: 17   it_marq:  1   lambda: 1e+02   misfit: 2.9821e+04\n",
      "it: 18   it_marq:  0   lambda: 1e+01   misfit: 5.7239e+04\n",
      "it: 18   it_marq:  1   lambda: 1e+02   misfit: 3.0090e+04\n",
      "it: 18   it_marq:  2   lambda: 1e+03   misfit: 2.9811e+04\n",
      "it: 19   it_marq:  0   lambda: 1e+02   misfit: 2.9841e+04\n",
      "it: 19   it_marq:  1   lambda: 1e+03   misfit: 2.9802e+04\n",
      "it: 20   it_marq:  0   lambda: 1e+02   misfit: 3.0071e+04\n",
      "it: 20   it_marq:  1   lambda: 1e+03   misfit: 2.9793e+04\n",
      "it: 21   it_marq:  0   lambda: 1e+02   misfit: 3.0062e+04\n",
      "it: 21   it_marq:  1   lambda: 1e+03   misfit: 2.9785e+04\n",
      "it: 22   it_marq:  0   lambda: 1e+02   misfit: 3.0055e+04\n",
      "it: 22   it_marq:  1   lambda: 1e+03   misfit: 2.9777e+04\n",
      "it: 23   it_marq:  0   lambda: 1e+02   misfit: 3.0047e+04\n",
      "it: 23   it_marq:  1   lambda: 1e+03   misfit: 2.9770e+04\n",
      "it: 24   it_marq:  0   lambda: 1e+02   misfit: 3.0041e+04\n",
      "it: 24   it_marq:  1   lambda: 1e+03   misfit: 2.9763e+04\n",
      "it: 25   it_marq:  0   lambda: 1e+02   misfit: 3.0035e+04\n",
      "it: 25   it_marq:  1   lambda: 1e+03   misfit: 2.9757e+04\n",
      "it: 26   it_marq:  0   lambda: 1e+02   misfit: 3.0030e+04\n",
      "it: 26   it_marq:  1   lambda: 1e+03   misfit: 2.9752e+04\n",
      "it: 27   it_marq:  0   lambda: 1e+02   misfit: 3.0026e+04\n",
      "it: 27   it_marq:  1   lambda: 1e+03   misfit: 2.9747e+04\n",
      "it: 28   it_marq:  0   lambda: 1e+02   misfit: 3.0023e+04\n",
      "it: 28   it_marq:  1   lambda: 1e+03   misfit: 2.9742e+04\n",
      "it: 29   it_marq:  0   lambda: 1e+02   misfit: 3.0020e+04\n",
      "it: 29   it_marq:  1   lambda: 1e+03   misfit: 2.9738e+04\n"
     ]
    }
   ],
   "source": [
    "d_fit, m_est, model_est, phi_list = mfun.levmarq_amf(di['x'], di['y'], di['z'], m0, M, L, delta, itmax,\n",
    "                                                    itmax_marq, lamb, dlamb, epsilon,\n",
    "                                                    mmin, mmax, m_out, di['amf'],\n",
    "                                                    props, alpha, z0, dz)"
   ]
  },
  {
   "cell_type": "code",
   "execution_count": 14,
   "metadata": {},
   "outputs": [],
   "source": [
    "diorama_inversion['residual'] = di['amf'] - d_fit\n",
    "diorama_inversion['residual_mean'] = np.mean(diorama_inversion['residual'])\n",
    "diorama_inversion['residual_std'] = np.std(diorama_inversion['residual'])\n",
    "diorama_inversion['residual_norm'] = (diorama_inversion['residual'] - diorama_inversion['residual_mean'])/diorama_inversion['residual_std'] # residue normalization"
   ]
  },
  {
   "cell_type": "code",
   "execution_count": 15,
   "metadata": {},
   "outputs": [],
   "source": [
    "diorama_inversion['data_fit'] = d_fit\n",
    "diorama_inversion['estimate'] = m_est\n",
    "diorama_inversion['prisms'] = model_est\n",
    "diorama_inversion['objective'] = phi_list"
   ]
  },
  {
   "cell_type": "code",
   "execution_count": 16,
   "metadata": {},
   "outputs": [],
   "source": [
    "file_name = mypath+'/diorama_inversion_r%d_int%d_z0%d_dz%d.pickle' % (rin[0], np.linalg.norm(props['magnetization']), z0, dz)\n",
    "with open(file_name, 'w') as f:\n",
    "    pickle.dump(diorama_inversion, f)"
   ]
  },
  {
   "cell_type": "code",
   "execution_count": null,
   "metadata": {},
   "outputs": [],
   "source": []
  }
 ],
 "metadata": {
  "kernelspec": {
   "display_name": "Python 2",
   "language": "python",
   "name": "python2"
  },
  "language_info": {
   "codemirror_mode": {
    "name": "ipython",
    "version": 2
   },
   "file_extension": ".py",
   "mimetype": "text/x-python",
   "name": "python",
   "nbconvert_exporter": "python",
   "pygments_lexer": "ipython2",
   "version": "2.7.13"
  }
 },
 "nbformat": 4,
 "nbformat_minor": 2
}
