{
 "cells": [
  {
   "cell_type": "markdown",
   "metadata": {},
   "source": [
    "# Diorama TFA inversion"
   ]
  },
  {
   "cell_type": "code",
   "execution_count": 1,
   "metadata": {},
   "outputs": [
    {
     "name": "stderr",
     "output_type": "stream",
     "text": [
      "/home/leonardo/anaconda2/lib/python2.7/site-packages/fatiando/vis/mpl.py:76: UserWarning: This module will be removed in v0.6. We recommend the use of matplotlib.pyplot module directly. Some of the fatiando specific functions will remain.\n",
      "  \"specific functions will remain.\")\n",
      "/home/leonardo/anaconda2/lib/python2.7/site-packages/fatiando/vis/myv.py:51: UserWarning: This module will be removed in v0.7.\n",
      "  warnings.warn(\"This module will be removed in v0.7.\")\n"
     ]
    }
   ],
   "source": [
    "import numpy as np\n",
    "import matplotlib.pyplot as plt\n",
    "import cPickle as pickle\n",
    "import os\n",
    "\n",
    "from fatiando import utils\n",
    "from fatiando.gravmag import polyprism\n",
    "from fatiando.mesher import PolygonalPrism\n",
    "from fatiando.vis import mpl, myv\n",
    "from matplotlib import colors, ticker, cm\n",
    "from IPython.display import Image as img\n",
    "from matplotlib.mlab import normpdf"
   ]
  },
  {
   "cell_type": "markdown",
   "metadata": {},
   "source": [
    "### Auxiliary functions"
   ]
  },
  {
   "cell_type": "code",
   "execution_count": 2,
   "metadata": {
    "collapsed": true
   },
   "outputs": [],
   "source": [
    "import sys\n",
    "sys.path.insert(0, '../../code')\n",
    "\n",
    "import mag_polyprism_functions as mfun\n",
    "import mag_sphere_functions as msf"
   ]
  },
  {
   "cell_type": "markdown",
   "metadata": {},
   "source": [
    "# Input"
   ]
  },
  {
   "cell_type": "markdown",
   "metadata": {},
   "source": [
    "### Importing Diorama TFA data"
   ]
  },
  {
   "cell_type": "code",
   "execution_count": 3,
   "metadata": {},
   "outputs": [],
   "source": [
    "xp, yp, zp, dobs = np.loadtxt('diorama_tfa.txt', usecols=(0,1,2,5), unpack=True)"
   ]
  },
  {
   "cell_type": "code",
   "execution_count": 4,
   "metadata": {},
   "outputs": [],
   "source": [
    "for i in range(3):\n",
    "    delete_rows = np.arange(0, dobs.size, 2)\n",
    "    xp = np.delete(xp, delete_rows, axis=0) \n",
    "    yp = np.delete(yp, delete_rows, axis=0)\n",
    "    zp = np.delete(zp, delete_rows, axis=0)\n",
    "    dobs = np.delete(dobs, delete_rows, axis=0)"
   ]
  },
  {
   "cell_type": "markdown",
   "metadata": {},
   "source": [
    "### Parameters for inversion"
   ]
  },
  {
   "cell_type": "code",
   "execution_count": 5,
   "metadata": {},
   "outputs": [],
   "source": [
    "# output of inversion\n",
    "diorama_inversion = dict()"
   ]
  },
  {
   "cell_type": "code",
   "execution_count": 6,
   "metadata": {},
   "outputs": [],
   "source": [
    "diorama_inversion['xp'] = xp\n",
    "diorama_inversion['yp'] = yp\n",
    "diorama_inversion['observed_data'] = dobs"
   ]
  },
  {
   "cell_type": "code",
   "execution_count": 7,
   "metadata": {
    "collapsed": false
   },
   "outputs": [],
   "source": [
    "#initial estimate\n",
    "M = 20 # number of vertices per prism\n",
    "L = 10 # number of prisms\n",
    "P = L*(M+2) + 1 # number of parameters\n",
    "\n",
    "incs = -71.41751\n",
    "decs = -23.39541\n",
    "z0 = 300.\n",
    "dz = 500.\n",
    "props = {'magnetization': utils.ang2vec(\n",
    "        10., incs, decs)}\n",
    "N = xp.size\n",
    "\n",
    "#m0 = np.zeros(P-1)\n",
    "#for i in range (1, L+1, 1):\n",
    "    #m0[i*(M+2):i*(M+2)+M] = 2000. + (i-10)*200. - (i+5)*200.\n",
    "    #m0[i*(M+2)+M:i*(M+2)+M+2] = np.array([8212500., 478200.])\n",
    "r = 1200.\n",
    "rin = np.zeros(M) + r\n",
    "m0 = np.hstack((rin, np.array([8212500., 478200.])))\n",
    "m0 = np.resize(m0, P - 1) # inicial parameters vector\n",
    "m0 = np.hstack((m0, dz))\n",
    "model0 = mfun.param2polyprism(m0, M, L, z0, props) # list of classes of prisms\n",
    "\n",
    "# main field\n",
    "inc = -19.5\n",
    "dec = -18.5\n",
    "\n",
    "# predict data\n",
    "d0 = polyprism.tf(xp, yp, zp, model0, inc, dec)\n",
    "\n",
    "# limits for parameters in meters\n",
    "rmin = 50.\n",
    "rmax = 3000.\n",
    "x0min = 8211000.\n",
    "x0max = 8214000.\n",
    "y0min = 477000.\n",
    "y0max = 479000.\n",
    "dzmin = 100.\n",
    "dzmax = 800.\n",
    "\n",
    "mmin, mmax = mfun.build_range_param(M, L, rmin, rmax, x0min, x0max, y0min, y0max, dzmin, dzmax)\n",
    "\n",
    "itmax = 30\n",
    "itmax_marq = 15\n",
    "epsilon = 1.0e-5     # stop criterion\n",
    "\n",
    "# increment for derivatives\n",
    "deltax = 0.01*np.max(x0max)\n",
    "deltay = 0.01*np.max(y0max)\n",
    "deltar = 0.01*np.max(rmax)\n",
    "deltaz = 0.01*np.max(dzmax)\n",
    "delta = np.array([deltax, deltay, deltar, deltaz])\n",
    "m_out = np.zeros(M + 2)  # outcropping body parameters"
   ]
  },
  {
   "cell_type": "code",
   "execution_count": 8,
   "metadata": {},
   "outputs": [],
   "source": [
    "diorama_inversion['inc_dec'] = [incs, decs]\n",
    "diorama_inversion['z0'] = z0\n",
    "diorama_inversion['initial_dz'] = dz\n",
    "diorama_inversion['intial_r'] = r\n",
    "diorama_inversion['initial_estimate'] = model0\n",
    "diorama_inversion['initial_data'] = d0\n",
    "diorama_inversion['limits'] = [rmin, rmax, x0min, x0max, y0min, y0max, dzmin, dzmax]\n",
    "diorama_inversion['tol'] = epsilon\n",
    "diorama_inversion['main_field'] = [inc, dec]"
   ]
  },
  {
   "cell_type": "code",
   "execution_count": 9,
   "metadata": {},
   "outputs": [],
   "source": [
    "mypath = 'diorama_r%d_int%d_z0%d_dz%d' % (rin[0], np.linalg.norm(props['magnetization']), z0, dz)\n",
    "if not os.path.isdir(mypath):\n",
    "   os.makedirs(mypath)"
   ]
  },
  {
   "cell_type": "markdown",
   "metadata": {},
   "source": [
    "### Regularization parameters"
   ]
  },
  {
   "cell_type": "code",
   "execution_count": 10,
   "metadata": {
    "collapsed": true
   },
   "outputs": [],
   "source": [
    "#lamb = th*0.01 # Marquadt's parameter\n",
    "lamb = 10.0\n",
    "dlamb = 10.      # step for Marquadt's parameter\n",
    "\n",
    "a1 = 0.001   # adjacent radial distances within each prism\n",
    "a2 = 0.001  # vertically adjacent radial distances\n",
    "a3 = 0.     # outcropping cross-section\n",
    "a4 = 0.     # outcropping origin\n",
    "a5 = 0.01     # vertically adjacent origins\n",
    "a6 = 0.00001   # zero order Tikhonov on adjacent radial distances\n",
    "a7 = 0.000001     # zero order Tikhonov on thickness of each prism"
   ]
  },
  {
   "cell_type": "code",
   "execution_count": 11,
   "metadata": {},
   "outputs": [],
   "source": [
    "alpha = np.array([a1, a2, a3, a4, a5, a6, a7])"
   ]
  },
  {
   "cell_type": "code",
   "execution_count": 12,
   "metadata": {},
   "outputs": [],
   "source": [
    "diorama_inversion['regularization'] = alpha"
   ]
  },
  {
   "cell_type": "markdown",
   "metadata": {},
   "source": [
    "### Inversion"
   ]
  },
  {
   "cell_type": "code",
   "execution_count": 13,
   "metadata": {},
   "outputs": [
    {
     "name": "stdout",
     "output_type": "stream",
     "text": [
      "it:  0   it_marq:  0   lambda: 1e+01   misfit: 1.3898e+05\n",
      "it:  1   it_marq:  0   lambda: 1e+00   misfit: 1.3366e+05\n",
      "it:  2   it_marq:  0   lambda: 1e-01   misfit: 2.0826e+05\n",
      "it:  2   it_marq:  1   lambda: 1e+00   misfit: 1.9886e+05\n",
      "it:  2   it_marq:  2   lambda: 1e+01   misfit: 1.6436e+05\n",
      "it:  2   it_marq:  3   lambda: 1e+02   misfit: 1.2727e+05\n",
      "it:  3   it_marq:  0   lambda: 1e+01   misfit: 1.0867e+05\n",
      "it:  4   it_marq:  0   lambda: 1e+00   misfit: 1.2345e+05\n",
      "it:  4   it_marq:  1   lambda: 1e+01   misfit: 9.7369e+04\n",
      "it:  5   it_marq:  0   lambda: 1e+00   misfit: 1.0827e+05\n",
      "it:  5   it_marq:  1   lambda: 1e+01   misfit: 9.2277e+04\n",
      "it:  6   it_marq:  0   lambda: 1e+00   misfit: 9.4267e+04\n",
      "it:  6   it_marq:  1   lambda: 1e+01   misfit: 8.9532e+04\n",
      "it:  7   it_marq:  0   lambda: 1e+00   misfit: 9.0846e+04\n",
      "it:  7   it_marq:  1   lambda: 1e+01   misfit: 8.7815e+04\n",
      "it:  8   it_marq:  0   lambda: 1e+00   misfit: 8.8057e+04\n",
      "it:  8   it_marq:  1   lambda: 1e+01   misfit: 8.6693e+04\n",
      "it:  9   it_marq:  0   lambda: 1e+00   misfit: 8.7212e+04\n",
      "it:  9   it_marq:  1   lambda: 1e+01   misfit: 8.5982e+04\n",
      "it: 10   it_marq:  0   lambda: 1e+00   misfit: 8.6702e+04\n",
      "it: 10   it_marq:  1   lambda: 1e+01   misfit: 8.5523e+04\n",
      "it: 11   it_marq:  0   lambda: 1e+00   misfit: 8.6172e+04\n",
      "it: 11   it_marq:  1   lambda: 1e+01   misfit: 8.5242e+04\n",
      "it: 12   it_marq:  0   lambda: 1e+00   misfit: 8.5804e+04\n",
      "it: 12   it_marq:  1   lambda: 1e+01   misfit: 8.5057e+04\n",
      "it: 13   it_marq:  0   lambda: 1e+00   misfit: 8.5647e+04\n",
      "it: 13   it_marq:  1   lambda: 1e+01   misfit: 8.4923e+04\n",
      "it: 14   it_marq:  0   lambda: 1e+00   misfit: 8.5749e+04\n",
      "it: 14   it_marq:  1   lambda: 1e+01   misfit: 8.4823e+04\n",
      "it: 15   it_marq:  0   lambda: 1e+00   misfit: 8.5981e+04\n",
      "it: 15   it_marq:  1   lambda: 1e+01   misfit: 8.4772e+04\n",
      "it: 16   it_marq:  0   lambda: 1e+00   misfit: 8.6206e+04\n",
      "it: 16   it_marq:  1   lambda: 1e+01   misfit: 8.4794e+04\n",
      "it: 16   it_marq:  2   lambda: 1e+02   misfit: 8.4847e+04\n",
      "it: 16   it_marq:  3   lambda: 1e+03   misfit: 8.4784e+04\n",
      "it: 16   it_marq:  4   lambda: 1e+04   misfit: 8.4775e+04\n",
      "it: 16   it_marq:  5   lambda: 1e+05   misfit: 8.4774e+04\n",
      "it: 16   it_marq:  6   lambda: 1e+06   misfit: 8.4774e+04\n",
      "it: 16   it_marq:  7   lambda: 1e+07   misfit: 8.4774e+04\n",
      "it: 16   it_marq:  8   lambda: 1e+08   misfit: 8.4774e+04\n",
      "it: 16   it_marq:  9   lambda: 1e+09   misfit: 8.4774e+04\n",
      "it: 16   it_marq: 10   lambda: 1e+10   misfit: 8.4774e+04\n",
      "it: 16   it_marq: 11   lambda: 1e+11   misfit: 8.4774e+04\n",
      "it: 16   it_marq: 12   lambda: 1e+12   misfit: 8.4774e+04\n",
      "it: 16   it_marq: 13   lambda: 1e+13   misfit: 8.4774e+04\n",
      "it: 16   it_marq: 14   lambda: 1e+14   misfit: 8.4774e+04\n",
      "it: 17   it_marq:  0   lambda: 1e+15   misfit: 8.4774e+04\n",
      "it: 17   it_marq:  1   lambda: 1e+16   misfit: 8.4774e+04\n",
      "it: 17   it_marq:  2   lambda: 1e+17   misfit: 8.4774e+04\n",
      "it: 17   it_marq:  3   lambda: 1e+18   misfit: 8.4774e+04\n",
      "it: 17   it_marq:  4   lambda: 1e+19   misfit: 8.4774e+04\n",
      "it: 17   it_marq:  5   lambda: 1e+20   misfit: 8.4774e+04\n",
      "it: 17   it_marq:  6   lambda: 1e+21   misfit: 8.4774e+04\n",
      "it: 17   it_marq:  7   lambda: 1e+22   misfit: 8.4774e+04\n",
      "it: 17   it_marq:  8   lambda: 1e+23   misfit: 8.4774e+04\n",
      "it: 17   it_marq:  9   lambda: 1e+24   misfit: 8.4774e+04\n",
      "it: 17   it_marq: 10   lambda: 1e+25   misfit: 8.4774e+04\n",
      "it: 17   it_marq: 11   lambda: 1e+26   misfit: 8.4774e+04\n",
      "it: 17   it_marq: 12   lambda: 1e+27   misfit: 8.4774e+04\n",
      "it: 17   it_marq: 13   lambda: 1e+28   misfit: 8.4774e+04\n",
      "it: 17   it_marq: 14   lambda: 1e+29   misfit: 8.4774e+04\n"
     ]
    }
   ],
   "source": [
    "d_fit, m_est, model_est, phi_list = mfun.levmarq_tf(xp, yp, zp, m0, M, L, delta, itmax,\n",
    "                                                    itmax_marq, lamb, dlamb, epsilon,\n",
    "                                                    mmin, mmax, m_out, dobs, inc, dec,\n",
    "                                                    props, alpha, z0, dz)"
   ]
  },
  {
   "cell_type": "code",
   "execution_count": 14,
   "metadata": {},
   "outputs": [],
   "source": [
    "res = dobs - d_fit\n",
    "res_norm = (res - np.mean(res))/np.std(res) # residue normalization"
   ]
  },
  {
   "cell_type": "code",
   "execution_count": 15,
   "metadata": {},
   "outputs": [],
   "source": [
    "diorama_inversion['data_fit'] = d_fit\n",
    "diorama_inversion['estimate'] = m_est\n",
    "diorama_inversion['prisms'] = model_est\n",
    "diorama_inversion['objective'] = phi_list\n",
    "diorama_inversion['residual'] = res_norm"
   ]
  },
  {
   "cell_type": "code",
   "execution_count": 16,
   "metadata": {},
   "outputs": [],
   "source": [
    "file_name = mypath+'/diorama_inversion_r%d_int%d_z0%d_dz%d.pickle' % (rin[0], np.linalg.norm(props['magnetization']), z0, dz)\n",
    "with open(file_name, 'w') as f:\n",
    "    pickle.dump(diorama_inversion, f)"
   ]
  },
  {
   "cell_type": "raw",
   "metadata": {},
   "source": [
    "h = np.zeros(xp.size) + 200  # layer depth\n",
    "A_tf = msf.sm_tf_sphere(xp, yp, zp, xp, yp, h ,inc,dec,incs,decs)"
   ]
  },
  {
   "cell_type": "raw",
   "metadata": {},
   "source": [
    "I = np.identity(xp.size)\n",
    "f0 = np.trace(np.dot(A_tf.T, A_tf))/xp.size\n",
    "u0 = 0.0001"
   ]
  },
  {
   "cell_type": "raw",
   "metadata": {},
   "source": [
    "vp = np.linalg.solve(np.dot(A_tf.T,A_tf) + u0*f0*I,np.dot(A_tf.T,res_norm))"
   ]
  },
  {
   "cell_type": "raw",
   "metadata": {},
   "source": [
    "tf = np.dot(A_tf,vp)"
   ]
  },
  {
   "cell_type": "raw",
   "metadata": {},
   "source": [
    "plt.figure(figsize=(10,7))\n",
    "plt.title('Magnetic intensity - EQlayer', fontsize=20)\n",
    "plt.tricontourf(yp, xp, -vp, 20, cmap='jet').ax.tick_params(labelsize=12)\n",
    "plt.xlabel('$y$(km)', fontsize=18)\n",
    "plt.ylabel('$x$(km)', fontsize=18)\n",
    "clb = plt.colorbar(pad=0.025, aspect=40, shrink=1)\n",
    "clb.ax.tick_params(labelsize=13)\n",
    "clb.ax.set_title('A/m')\n",
    "mpl.m2km()\n",
    "plt.legend(loc=0, fontsize=12, shadow=bool, framealpha=1, edgecolor='black')\n",
    "plt.savefig('momentum_mag_intensity.png', dpi=300)\n",
    "#plt.show()\n",
    "img(filename='momentum_mag_intensity.png', width=1000, height=1200)"
   ]
  }
 ],
 "metadata": {
  "kernelspec": {
   "display_name": "Python 2",
   "language": "python",
   "name": "python2"
  },
  "language_info": {
   "codemirror_mode": {
    "name": "ipython",
    "version": 2
   },
   "file_extension": ".py",
   "mimetype": "text/x-python",
   "name": "python",
   "nbconvert_exporter": "python",
   "pygments_lexer": "ipython2",
   "version": "2.7.13"
  }
 },
 "nbformat": 4,
 "nbformat_minor": 2
}
