{
 "cells": [
  {
   "cell_type": "markdown",
   "metadata": {},
   "source": [
    "# Synthetic model of a ten polygonal close to a cylinder with magnetization"
   ]
  },
  {
   "cell_type": "code",
   "execution_count": 1,
   "metadata": {},
   "outputs": [
    {
     "name": "stderr",
     "output_type": "stream",
     "text": [
      "/home/vital/anaconda2/envs/radial-mag/lib/python2.7/site-packages/fatiando/vis/mpl.py:76: UserWarning: This module will be removed in v0.6. We recommend the use of matplotlib.pyplot module directly. Some of the fatiando specific functions will remain.\n",
      "  \"specific functions will remain.\")\n",
      "/home/vital/anaconda2/envs/radial-mag/lib/python2.7/site-packages/fatiando/vis/myv.py:51: UserWarning: This module will be removed in v0.7.\n",
      "  warnings.warn(\"This module will be removed in v0.7.\")\n"
     ]
    }
   ],
   "source": [
    "import numpy as np\n",
    "import matplotlib.pyplot as plt\n",
    "import cPickle as pickle\n",
    "\n",
    "from copy import deepcopy\n",
    "from fatiando import utils\n",
    "from fatiando.mesher import PolygonalPrism\n",
    "from fatiando.vis import mpl, myv\n",
    "from matplotlib import colors, ticker, cm\n",
    "from IPython.display import Image as img\n",
    "import mag_polyprism_functions as mfun"
   ]
  },
  {
   "cell_type": "code",
   "execution_count": 2,
   "metadata": {
    "collapsed": true
   },
   "outputs": [],
   "source": [
    "rec_inc_model = dict()"
   ]
  },
  {
   "cell_type": "code",
   "execution_count": 3,
   "metadata": {},
   "outputs": [],
   "source": [
    "rec_inc_model['M'] = 4 # number of vertices per prism\n",
    "rec_inc_model['L'] = 5 # number of prisms\n",
    "rec_inc_model['P'] = rec_inc_model['L']*(rec_inc_model['M']+2) # number of parameters\n",
    "\n",
    "rec_inc_model['z0'] = 0.    # depth of the top the shallowest prism\n",
    "rec_inc_model['dz'] = 700.    # thickness of each prism\n",
    "\n",
    "rec_inc_model['inc'] = -60.  # inclination\n",
    "rec_inc_model['dec'] = 50.   # declination\n",
    "rec_inc_model['intensity'] = 3. # intensity\n",
    "\n",
    "rec_inc_model['props']={'magnetization': utils.ang2vec(\n",
    "    rec_inc_model['intensity'], rec_inc_model['inc'], rec_inc_model['dec'])} # physical property: magnetization\n",
    "\n",
    "r = np.zeros(rec_inc_model['M']) + 1000. # radial distance for each vertice\n",
    "\n",
    "# Cartesian coordinates of the origin of each prism\n",
    "x0 = np.linspace(-1000., 1000., rec_inc_model['L']) \n",
    "y0 = np.zeros(rec_inc_model['L'])\n",
    "\n",
    "l = []   # list of parameters of the prisms\n",
    "\n",
    "for i in range(rec_inc_model['L']):\n",
    "    l.append([r, x0[i], y0[i], rec_inc_model['z0'] + rec_inc_model['dz']*i,\\\n",
    "              rec_inc_model['z0'] + rec_inc_model['dz']*(i + 1), rec_inc_model['props']])\n",
    "    \n",
    "rec_inc_model['prisms'] = mfun.pol2cart(l, rec_inc_model['M'], rec_inc_model['L'])\n",
    "rec_inc_model['param_vec'] = mfun.param_vec(l, rec_inc_model['M'], rec_inc_model['L'])"
   ]
  },
  {
   "cell_type": "code",
   "execution_count": 4,
   "metadata": {
    "collapsed": true
   },
   "outputs": [],
   "source": [
    "file_name = '../data/rec_inc_model.pickle'\n",
    "with open(file_name, 'w') as f:\n",
    "    pickle.dump(rec_inc_model, f)"
   ]
  },
  {
   "cell_type": "code",
   "execution_count": null,
   "metadata": {
    "collapsed": true
   },
   "outputs": [],
   "source": []
  }
 ],
 "metadata": {
  "kernelspec": {
   "display_name": "Python 2",
   "language": "python",
   "name": "python2"
  },
  "language_info": {
   "codemirror_mode": {
    "name": "ipython",
    "version": 2
   },
   "file_extension": ".py",
   "mimetype": "text/x-python",
   "name": "python",
   "nbconvert_exporter": "python",
   "pygments_lexer": "ipython2",
   "version": "2.7.13"
  }
 },
 "nbformat": 4,
 "nbformat_minor": 2
}
