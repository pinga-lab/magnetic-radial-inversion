{
 "cells": [
  {
   "cell_type": "markdown",
   "metadata": {},
   "source": [
    "# Synthetic model of a ten polygonal close to a cylinder with magnetization"
   ]
  },
  {
   "cell_type": "code",
   "execution_count": 1,
   "metadata": {
    "collapsed": false
   },
   "outputs": [
    {
     "name": "stderr",
     "output_type": "stream",
     "text": [
      "/home/vital/anaconda2/lib/python2.7/site-packages/fatiando/vis/mpl.py:76: UserWarning: This module will be removed in v0.6. We recommend the use of matplotlib.pyplot module directly. Some of the fatiando specific functions will remain.\n",
      "  \"specific functions will remain.\")\n",
      "/home/vital/anaconda2/lib/python2.7/site-packages/fatiando/vis/myv.py:51: UserWarning: This module will be removed in v0.7.\n",
      "  warnings.warn(\"This module will be removed in v0.7.\")\n"
     ]
    }
   ],
   "source": [
    "import numpy as np\n",
    "import matplotlib.pyplot as plt\n",
    "import cPickle as pickle\n",
    "\n",
    "from copy import deepcopy\n",
    "from fatiando import utils\n",
    "from fatiando.mesher import PolygonalPrism\n",
    "from fatiando.vis import mpl, myv\n",
    "from matplotlib import colors, ticker, cm\n",
    "from IPython.display import Image as img\n",
    "import mag_polyprism_functions as mfun"
   ]
  },
  {
   "cell_type": "code",
   "execution_count": 2,
   "metadata": {
    "collapsed": true
   },
   "outputs": [],
   "source": [
    "cylinder_model = dict()"
   ]
  },
  {
   "cell_type": "code",
   "execution_count": 3,
   "metadata": {
    "collapsed": false
   },
   "outputs": [],
   "source": [
    "cylinder_model['M'] = 1000 # number of vertices per prism\n",
    "cylinder_model['L'] = 1 # number of prisms\n",
    "cylinder_model['P'] = cylinder_model['L']*(cylinder_model['M']+2) # number of parameters\n",
    "\n",
    "cylinder_model['z0'] = 0.    # depth of the top the shallowest prism\n",
    "cylinder_model['dz'] = 3000.    # thickness of each prism\n",
    "\n",
    "cylinder_model['inc'] = -60.  # inclination\n",
    "cylinder_model['dec'] = 50.   # declination\n",
    "\n",
    "cylinder_model['props']={'magnetization': 3.} # physical property: magnetization\n",
    "\n",
    "r = np.zeros(cylinder_model['M']) + 2000. # radial distance for each vertice\n",
    "\n",
    "# Cartesian coordinates of the origin of each prism\n",
    "x0 = np.zeros(cylinder_model['L']) \n",
    "y0 = np.zeros(cylinder_model['L'])\n",
    "\n",
    "l = []   # list of parameters of the prisms\n",
    "\n",
    "for i in range(cylinder_model['L']):\n",
    "    l.append([r, x0[i]+100., y0[i]+100., cylinder_model['z0'] + cylinder_model['dz']*i,\\\n",
    "              cylinder_model['z0'] + cylinder_model['dz']*(i + 1), cylinder_model['props']])\n",
    "    \n",
    "cylinder_model['prisms'] = mfun.pol2cart(l, cylinder_model['M'], cylinder_model['L'])\n",
    "cylinder_model['param_vec'] = mfun.param_vec(l, cylinder_model['M'], cylinder_model['L'])"
   ]
  },
  {
   "cell_type": "code",
   "execution_count": 4,
   "metadata": {
    "collapsed": true
   },
   "outputs": [],
   "source": [
    "file_name = '../data/cylinder_model.pickle'\n",
    "with open(file_name, 'w') as f:\n",
    "    pickle.dump(cylinder_model, f)"
   ]
  },
  {
   "cell_type": "code",
   "execution_count": null,
   "metadata": {
    "collapsed": true
   },
   "outputs": [],
   "source": []
  }
 ],
 "metadata": {
  "kernelspec": {
   "display_name": "Python 2",
   "language": "python",
   "name": "python2"
  },
  "language_info": {
   "codemirror_mode": {
    "name": "ipython",
    "version": 2
   },
   "file_extension": ".py",
   "mimetype": "text/x-python",
   "name": "python",
   "nbconvert_exporter": "python",
   "pygments_lexer": "ipython2",
   "version": "2.7.13"
  }
 },
 "nbformat": 4,
 "nbformat_minor": 2
}
