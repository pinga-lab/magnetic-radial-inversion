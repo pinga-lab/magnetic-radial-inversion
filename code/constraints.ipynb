{
 "cells": [
  {
   "cell_type": "markdown",
   "metadata": {},
   "source": [
    "# Inversion Constraints"
   ]
  },
  {
   "cell_type": "markdown",
   "metadata": {},
   "source": [
    "The constraints transform an ill-posed problem into a well-posed problem. So, we formulate a constrained non-linear inversion by summing constraints to the misfit function $\\Psi (\\textbf{m})$. "
   ]
  },
  {
   "cell_type": "markdown",
   "metadata": {},
   "source": [
    "\\begin{equation}\n",
    "\\Gamma (\\textbf{m}) = \\Psi (\\textbf{m}) + \\mu \\sum\\limits^{6}_{j=1}\\alpha_{j}\\varphi_{j}(\\textbf{m})$\n",
    "\\end{equation}"
   ]
  },
  {
   "cell_type": "markdown",
   "metadata": {},
   "source": [
    "where $\\textbf{m}$ is the parameter vector, $\\varphi_{j}$ is the $j$th constraint, $\\alpha_{j}$ is the $j$-th is a positive scalar that defines the weight of the $j$-th constraint and $\\mu$ is a positive scalar called regularization parameter. To solve this problem we will use the Levenberg-Marquadt method."
   ]
  },
  {
   "cell_type": "markdown",
   "metadata": {},
   "source": [
    "In this code, we impose six constraints to an Hessian matrix and parameter vector. The functions are tested in some special cases."
   ]
  },
  {
   "cell_type": "markdown",
   "metadata": {},
   "source": [
    "### Impor required library"
   ]
  },
  {
   "cell_type": "code",
   "execution_count": 33,
   "metadata": {
    "collapsed": false
   },
   "outputs": [],
   "source": [
    "import numpy as np\n",
    "import polyprism_tests as tests"
   ]
  },
  {
   "cell_type": "markdown",
   "metadata": {},
   "source": [
    "### Import my functions from an external file"
   ]
  },
  {
   "cell_type": "code",
   "execution_count": 34,
   "metadata": {
    "collapsed": true
   },
   "outputs": [],
   "source": [
    "import mag_polyprism_functions as mfun"
   ]
  },
  {
   "cell_type": "markdown",
   "metadata": {},
   "source": [
    "### Input"
   ]
  },
  {
   "cell_type": "code",
   "execution_count": 35,
   "metadata": {
    "collapsed": true
   },
   "outputs": [],
   "source": [
    "M = 3 # number of vertices\n",
    "L = 1 # number of prisms\n",
    "P = L*(M+2) # number of parameters"
   ]
  },
  {
   "cell_type": "code",
   "execution_count": 36,
   "metadata": {
    "collapsed": true
   },
   "outputs": [],
   "source": [
    "alpha = 1.0 # weight"
   ]
  },
  {
   "cell_type": "code",
   "execution_count": 37,
   "metadata": {
    "collapsed": true
   },
   "outputs": [],
   "source": [
    "H = np.zeros((P,P)) # Hessian matrix"
   ]
  },
  {
   "cell_type": "code",
   "execution_count": 38,
   "metadata": {
    "collapsed": true
   },
   "outputs": [],
   "source": [
    "m = np.ones(P) # gradient of parameter vector"
   ]
  },
  {
   "cell_type": "markdown",
   "metadata": {},
   "source": [
    "### Constraints"
   ]
  },
  {
   "cell_type": "markdown",
   "metadata": {},
   "source": [
    "Here we describe the constraints and the result from its functions."
   ]
  },
  {
   "cell_type": "markdown",
   "metadata": {},
   "source": [
    "### Smoothness constraint on the adjacent radial distances within each prism $\\varphi_{1}(\\textbf{m})$"
   ]
  },
  {
   "cell_type": "markdown",
   "metadata": {},
   "source": [
    "Smoothness constraint on the estimated radial distances within each prism. This constraint imposes that the $j$-th radial distance of the $k$-th prism $r^{k}_{j}$ must be close to the adjacent one $r^{k}_{j+1}$ within the same $k$-th prism. It prevents descontinuity on the estimated radial distances within each prism and imposes a cylindrical shape to the prisms. So, the squared Euclidian Norm of the difference between the adjacent radial distances must be minimun:"
   ]
  },
  {
   "cell_type": "markdown",
   "metadata": {},
   "source": [
    "\\begin{equation}\n",
    "\\varphi_{1}(\\textbf{m}) = \\sum\\limits^{L}_{k=1}\\left[\\left(r^{k}_{M}-r^{k}_{1}\\right)^2 + \\sum\\limits^{M-1}_{j=1}\\left(r^{k}_{j}-r^{k}_{j+1}\\right)^2\\right]\n",
    "\\end{equation}"
   ]
  },
  {
   "cell_type": "markdown",
   "metadata": {},
   "source": [
    "For simplicity we rewrite the equation above with matrix notation. This constraint will be:"
   ]
  },
  {
   "cell_type": "markdown",
   "metadata": {},
   "source": [
    "\\begin{equation}\n",
    "\\varphi_{1}(\\textbf{m}) = \\textbf{m}^{T}\\textbf{R}^{T}_{1}\\textbf{R}_{1}\\textbf{m}\n",
    "\\end{equation}"
   ]
  },
  {
   "cell_type": "markdown",
   "metadata": {},
   "source": [
    "where"
   ]
  },
  {
   "cell_type": "markdown",
   "metadata": {},
   "source": [
    "\\begin{equation}\n",
    "\\textbf{R}_{1} = \n",
    "\\begin{bmatrix}\n",
    "\\textbf{R}^{\\sharp} & 0 & \\cdots & 0 \\\\\n",
    "0 & \\textbf{R}^{\\sharp} &  \\cdots & 0 \\\\\n",
    "\\vdots & \\vdots & \\ddots & \\vdots \\\\\n",
    "0 & 0 &  \\cdots & \\textbf{R}^{\\sharp} \\\\\n",
    "\\end{bmatrix}_{ML\\times P}\n",
    "\\end{equation}"
   ]
  },
  {
   "cell_type": "markdown",
   "metadata": {},
   "source": [
    "while"
   ]
  },
  {
   "cell_type": "markdown",
   "metadata": {},
   "source": [
    "\\begin{equation}\n",
    "\\textbf{R}^{\\sharp} = \n",
    "\\begin{bmatrix}\n",
    "1 & -1 & 0 & \\cdots & 0 & 0 & 0 & 0 \\\\\n",
    "0 & 1 & -1 & \\cdots & 0 & 0 & 0 & 0 \\\\\n",
    "\\vdots & \\vdots & \\vdots & & \\vdots & \\vdots & \\vdots & \\vdots\\\\\n",
    "0 & 0 & 0 & \\cdots & 1 & -1 & 0 & 0 \\\\\n",
    "-1 & 0 & 0 & \\cdots & 0 & 1 & 0 & 0 \\\\\n",
    "\\end{bmatrix}_{M(L-1)\\times P}\n",
    "\\end{equation}"
   ]
  },
  {
   "cell_type": "markdown",
   "metadata": {},
   "source": [
    "To run the Levenberg-Marquadt algorithm we will need the Laplacian and the gradient of $\\varphi_{1}(\\textbf{m})$:"
   ]
  },
  {
   "cell_type": "markdown",
   "metadata": {},
   "source": [
    "\\begin{equation}\n",
    "\\nabla\\varphi_{1}(\\textbf{m}) = \\textbf{R}^{T}_{1}\\textbf{R}_{1}\\textbf{m}\n",
    "\\end{equation}\n",
    "\\begin{equation}\n",
    "\\nabla^2\\varphi_{1}(\\textbf{m}) = \\textbf{R}^{T}_{1}\\textbf{R}_{1}\n",
    "\\end{equation}"
   ]
  },
  {
   "cell_type": "code",
   "execution_count": 39,
   "metadata": {
    "collapsed": false
   },
   "outputs": [],
   "source": [
    "m1 = mfun.gradient_phi_1(M,L,m,alpha) # m1 = gradient input + gradient of phi1\n",
    "H1 = mfun.Hessian_phi_1(M,L,H,alpha) # H1 = Hessian input + Hessian of phi1"
   ]
  },
  {
   "cell_type": "code",
   "execution_count": 40,
   "metadata": {
    "collapsed": false
   },
   "outputs": [
    {
     "name": "stdout",
     "output_type": "stream",
     "text": [
      "[ 0.  0.  0.  1.  1.]\n"
     ]
    }
   ],
   "source": [
    "print m"
   ]
  },
  {
   "cell_type": "code",
   "execution_count": 41,
   "metadata": {
    "collapsed": false
   },
   "outputs": [
    {
     "name": "stdout",
     "output_type": "stream",
     "text": [
      "[[ 2. -1. -1.  0.  0.]\n",
      " [-1.  2. -1.  0.  0.]\n",
      " [-1. -1.  2.  0.  0.]\n",
      " [ 0.  0.  0.  0.  0.]\n",
      " [ 0.  0.  0.  0.  0.]]\n"
     ]
    }
   ],
   "source": [
    "print H"
   ]
  },
  {
   "cell_type": "code",
   "execution_count": 42,
   "metadata": {
    "collapsed": false
   },
   "outputs": [],
   "source": [
    "tests.test_Hessian_phi_1()"
   ]
  },
  {
   "cell_type": "code",
   "execution_count": null,
   "metadata": {
    "collapsed": true
   },
   "outputs": [],
   "source": []
  }
 ],
 "metadata": {
  "anaconda-cloud": {},
  "kernelspec": {
   "display_name": "Python [default]",
   "language": "python",
   "name": "python2"
  },
  "language_info": {
   "codemirror_mode": {
    "name": "ipython",
    "version": 2
   },
   "file_extension": ".py",
   "mimetype": "text/x-python",
   "name": "python",
   "nbconvert_exporter": "python",
   "pygments_lexer": "ipython2",
   "version": "2.7.12"
  }
 },
 "nbformat": 4,
 "nbformat_minor": 0
}
