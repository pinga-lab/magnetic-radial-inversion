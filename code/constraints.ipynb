{
 "cells": [
  {
   "cell_type": "markdown",
   "metadata": {},
   "source": [
    "# Constraints"
   ]
  },
  {
   "cell_type": "markdown",
   "metadata": {},
   "source": [
    "The constraints transform an ill-posed problem into a well-posed problem. So, we formulate a constrained non-linear inversion by summing constraints to the misfit function $\\Psi (\\textbf{m})$. "
   ]
  },
  {
   "cell_type": "markdown",
   "metadata": {},
   "source": [
    "\\begin{equation}\n",
    "\\Gamma (\\textbf{m}) = \\Psi (\\textbf{m}) + \\mu \\sum\\limits^{6}_{j=1}\\alpha_{j}\\varphi_{j}(\\textbf{m})\n",
    "\\end{equation}"
   ]
  },
  {
   "cell_type": "markdown",
   "metadata": {},
   "source": [
    "where $\\textbf{m}$ is the parameter vector, $\\varphi_{j}$ is the $j$th constraint, $\\alpha_{j}$ is the $j$-th is a positive scalar that defines the weight of the $j$-th constraint and $\\mu$ is a positive scalar called regularization parameter. To solve this problem we will use the Levenberg-Marquadt method.\n",
    "\n",
    "In this code, we impose six constraints to an Hessian matrix and parameter vector. The functions are tested in some special cases."
   ]
  },
  {
   "cell_type": "markdown",
   "metadata": {},
   "source": [
    "### Import required library"
   ]
  },
  {
   "cell_type": "code",
   "execution_count": 2,
   "metadata": {},
   "outputs": [
    {
     "name": "stderr",
     "output_type": "stream",
     "text": [
      "/home/vital/anaconda2/envs/radial-mag/lib/python2.7/site-packages/fatiando/vis/mpl.py:76: UserWarning: This module will be removed in v0.6. We recommend the use of matplotlib.pyplot module directly. Some of the fatiando specific functions will remain.\n",
      "  \"specific functions will remain.\")\n"
     ]
    }
   ],
   "source": [
    "import numpy as np\n",
    "import polyprism_tests as tests"
   ]
  },
  {
   "cell_type": "markdown",
   "metadata": {},
   "source": [
    "### Import my functions from an external file"
   ]
  },
  {
   "cell_type": "code",
   "execution_count": 3,
   "metadata": {
    "collapsed": true
   },
   "outputs": [],
   "source": [
    "import mag_polyprism_functions as mfun"
   ]
  },
  {
   "cell_type": "markdown",
   "metadata": {},
   "source": [
    "### Input"
   ]
  },
  {
   "cell_type": "code",
   "execution_count": 4,
   "metadata": {
    "collapsed": true
   },
   "outputs": [],
   "source": [
    "M = 4 # number of vertices\n",
    "L = 3 # number of prisms\n",
    "P = L*(M+2) # number of parameters"
   ]
  },
  {
   "cell_type": "code",
   "execution_count": 5,
   "metadata": {
    "collapsed": true
   },
   "outputs": [],
   "source": [
    "alpha = 1.0 # weight"
   ]
  },
  {
   "cell_type": "code",
   "execution_count": 6,
   "metadata": {
    "collapsed": true
   },
   "outputs": [],
   "source": [
    "H1 = np.zeros((P,P)) # Hessian matrix\n",
    "H2 = np.zeros_like(H1)\n",
    "H3 = np.zeros_like(H1)\n",
    "H4 = np.zeros_like(H1)\n",
    "H5 = np.zeros_like(H1)\n",
    "H6 = np.zeros_like(H1)"
   ]
  },
  {
   "cell_type": "code",
   "execution_count": 7,
   "metadata": {
    "collapsed": true
   },
   "outputs": [],
   "source": [
    "m1 = np.arange(1., P+1., 1.) # gradient of parameter vector\n",
    "m2 = np.copy(m1)\n",
    "m3 = np.copy(m1)\n",
    "m4 = np.copy(m1)\n",
    "m5 = np.copy(m1)\n",
    "m6 = np.copy(m1)"
   ]
  },
  {
   "cell_type": "code",
   "execution_count": 8,
   "metadata": {},
   "outputs": [
    {
     "name": "stdout",
     "output_type": "stream",
     "text": [
      "[  1.   2.   3.   4.   5.   6.   7.   8.   9.  10.  11.  12.  13.  14.  15.\n",
      "  16.  17.  18.]\n"
     ]
    }
   ],
   "source": [
    "print m1"
   ]
  },
  {
   "cell_type": "code",
   "execution_count": 9,
   "metadata": {
    "collapsed": true
   },
   "outputs": [],
   "source": [
    "ml = np.zeros(M+2) # constant vector input for phi3\n",
    "m2l = np.zeros(2) # constant vector input for phi4"
   ]
  },
  {
   "cell_type": "markdown",
   "metadata": {},
   "source": [
    "### Constraints"
   ]
  },
  {
   "cell_type": "markdown",
   "metadata": {},
   "source": [
    "Here we describe the constraints and the result from its functions."
   ]
  },
  {
   "cell_type": "markdown",
   "metadata": {},
   "source": [
    "### (1) Smoothness constraint on the adjacent radial distances within each prism $\\varphi_{1}(\\textbf{m})$"
   ]
  },
  {
   "cell_type": "markdown",
   "metadata": {},
   "source": [
    "Smoothness constraint on the estimated radial distances within each prism. This constraint imposes that the $j$-th radial distance of the $k$-th prism $r^{k}_{j}$ must be close to the adjacent one $r^{k}_{j+1}$ within the same $k$-th prism. It prevents descontinuities on the estimated radial distances within each prism and imposes a cylindrical shape to the prisms. So, the squared Euclidian Norm of the difference between the adjacent radial distances must be minimun. This constraint can be described by\n",
    "\n",
    "\\begin{equation}\n",
    "\\varphi_{1}(\\textbf{m}) = \\sum\\limits^{L}_{k=1}\\left[\\left(r^{k}_{M}-r^{k}_{1}\\right)^2 + \\sum\\limits^{M-1}_{j=1}\\left(r^{k}_{j}-r^{k}_{j+1}\\right)^2\\right]\n",
    "\\end{equation}"
   ]
  },
  {
   "cell_type": "markdown",
   "metadata": {},
   "source": [
    "The geometric representation of the constraint $\\varphi_{1}(\\textbf{m})$ is presented in the figure below:\n",
    "\n",
    "<img src=\"Constraint_phi1.png\",width=500>"
   ]
  },
  {
   "cell_type": "markdown",
   "metadata": {},
   "source": [
    "For simplicity we rewrite the equation above with matrix notation. This constraint will be:\n",
    "\n",
    "\\begin{equation}\n",
    "\\varphi_{1}(\\textbf{m}) = \\textbf{m}^{T}\\textbf{R}^{T}_{1}\\textbf{R}_{1}\\textbf{m}\n",
    "\\end{equation}\n",
    "\n",
    "where\n",
    "\n",
    "\\begin{equation}\n",
    "\\textbf{R}_{1} = \n",
    "\\begin{bmatrix}\n",
    "\\textbf{R}^{\\sharp} & 0 & \\cdots & 0 \\\\\n",
    "0 & \\textbf{R}^{\\sharp} &  \\cdots & 0 \\\\\n",
    "\\vdots & \\vdots & \\ddots & \\vdots \\\\\n",
    "0 & 0 &  \\cdots & \\textbf{R}^{\\sharp} \\\\\n",
    "\\end{bmatrix}_{ML\\times P}\n",
    "\\end{equation}\n",
    "\n",
    "while\n",
    "\n",
    "\\begin{equation}\n",
    "\\textbf{R}^{\\sharp} = \n",
    "\\begin{bmatrix}\n",
    "1 & -1 & 0 & \\cdots & 0 & 0 & 0 & 0 \\\\\n",
    "0 & 1 & -1 & \\cdots & 0 & 0 & 0 & 0 \\\\\n",
    "\\vdots & \\vdots & \\vdots & & \\vdots & \\vdots & \\vdots & \\vdots\\\\\n",
    "0 & 0 & 0 & \\cdots & 1 & -1 & 0 & 0 \\\\\n",
    "-1 & 0 & 0 & \\cdots & 0 & 1 & 0 & 0 \\\\\n",
    "\\end{bmatrix}_{M(L-1)\\times P}\n",
    "\\end{equation}"
   ]
  },
  {
   "cell_type": "markdown",
   "metadata": {},
   "source": [
    "To run the Levenberg-Marquadt algorithm we will need the Laplacian and the gradient of $\\varphi_{1}(\\textbf{m})$:\n",
    "\n",
    "\\begin{equation}\n",
    "\\nabla\\varphi_{1}(\\textbf{m}) = \\textbf{R}^{T}_{1}\\textbf{R}_{1}\\textbf{m}\n",
    "\\end{equation}\n",
    "\\begin{equation}\n",
    "\\nabla^2\\varphi_{1}(\\textbf{m}) = \\textbf{R}^{T}_{1}\\textbf{R}_{1}\n",
    "\\end{equation}"
   ]
  },
  {
   "cell_type": "code",
   "execution_count": 10,
   "metadata": {
    "collapsed": true
   },
   "outputs": [],
   "source": [
    "# m1 = gradient input + gradient of phi1\n",
    "grad1 = mfun.gradient_phi_1(M,L,m1,alpha)\n",
    "# H1 = Hessian input + Hessian of phi1\n",
    "H1 = mfun.Hessian_phi_1(M,L,H1,alpha)"
   ]
  },
  {
   "cell_type": "code",
   "execution_count": 11,
   "metadata": {},
   "outputs": [
    {
     "name": "stdout",
     "output_type": "stream",
     "text": [
      "[  1.   2.   3.   4.   5.   6.   7.   8.   9.  10.  11.  12.  13.  14.  15.\n",
      "  16.  17.  18.]\n"
     ]
    }
   ],
   "source": [
    "print m1"
   ]
  },
  {
   "cell_type": "code",
   "execution_count": 12,
   "metadata": {},
   "outputs": [
    {
     "name": "stdout",
     "output_type": "stream",
     "text": [
      "[ -3.   2.   3.   8.   5.   6.   3.   8.   9.  14.  11.  12.   9.  14.  15.\n",
      "  20.  17.  18.]\n"
     ]
    }
   ],
   "source": [
    "print grad1"
   ]
  },
  {
   "cell_type": "code",
   "execution_count": 13,
   "metadata": {},
   "outputs": [
    {
     "name": "stdout",
     "output_type": "stream",
     "text": [
      "[[ 2. -1.  0. -1.  0.  0.  0.  0.  0.  0.  0.  0.  0.  0.  0.  0.  0.  0.]\n",
      " [-1.  2. -1.  0.  0.  0.  0.  0.  0.  0.  0.  0.  0.  0.  0.  0.  0.  0.]\n",
      " [ 0. -1.  2. -1.  0.  0.  0.  0.  0.  0.  0.  0.  0.  0.  0.  0.  0.  0.]\n",
      " [-1.  0. -1.  2.  0.  0.  0.  0.  0.  0.  0.  0.  0.  0.  0.  0.  0.  0.]\n",
      " [ 0.  0.  0.  0.  0.  0.  0.  0.  0.  0.  0.  0.  0.  0.  0.  0.  0.  0.]\n",
      " [ 0.  0.  0.  0.  0.  0.  0.  0.  0.  0.  0.  0.  0.  0.  0.  0.  0.  0.]\n",
      " [ 0.  0.  0.  0.  0.  0.  2. -1.  0. -1.  0.  0.  0.  0.  0.  0.  0.  0.]\n",
      " [ 0.  0.  0.  0.  0.  0. -1.  2. -1.  0.  0.  0.  0.  0.  0.  0.  0.  0.]\n",
      " [ 0.  0.  0.  0.  0.  0.  0. -1.  2. -1.  0.  0.  0.  0.  0.  0.  0.  0.]\n",
      " [ 0.  0.  0.  0.  0.  0. -1.  0. -1.  2.  0.  0.  0.  0.  0.  0.  0.  0.]\n",
      " [ 0.  0.  0.  0.  0.  0.  0.  0.  0.  0.  0.  0.  0.  0.  0.  0.  0.  0.]\n",
      " [ 0.  0.  0.  0.  0.  0.  0.  0.  0.  0.  0.  0.  0.  0.  0.  0.  0.  0.]\n",
      " [ 0.  0.  0.  0.  0.  0.  0.  0.  0.  0.  0.  0.  2. -1.  0. -1.  0.  0.]\n",
      " [ 0.  0.  0.  0.  0.  0.  0.  0.  0.  0.  0.  0. -1.  2. -1.  0.  0.  0.]\n",
      " [ 0.  0.  0.  0.  0.  0.  0.  0.  0.  0.  0.  0.  0. -1.  2. -1.  0.  0.]\n",
      " [ 0.  0.  0.  0.  0.  0.  0.  0.  0.  0.  0.  0. -1.  0. -1.  2.  0.  0.]\n",
      " [ 0.  0.  0.  0.  0.  0.  0.  0.  0.  0.  0.  0.  0.  0.  0.  0.  0.  0.]\n",
      " [ 0.  0.  0.  0.  0.  0.  0.  0.  0.  0.  0.  0.  0.  0.  0.  0.  0.  0.]]\n"
     ]
    }
   ],
   "source": [
    "print H1"
   ]
  },
  {
   "cell_type": "code",
   "execution_count": 14,
   "metadata": {
    "collapsed": true
   },
   "outputs": [],
   "source": [
    "tests.test_Hessian_phi_1()"
   ]
  },
  {
   "cell_type": "code",
   "execution_count": 15,
   "metadata": {
    "collapsed": true
   },
   "outputs": [],
   "source": [
    "phi1 = np.dot(np.dot(H1,m1),m1)"
   ]
  },
  {
   "cell_type": "code",
   "execution_count": 16,
   "metadata": {},
   "outputs": [
    {
     "name": "stdout",
     "output_type": "stream",
     "text": [
      "36.0\n"
     ]
    }
   ],
   "source": [
    "print phi1"
   ]
  },
  {
   "cell_type": "markdown",
   "metadata": {
    "collapsed": true
   },
   "source": [
    "### (2) Smoothness constraint on the adjacent radial distances of adjacent prism $\\varphi_{2}(\\textbf{m})$"
   ]
  },
  {
   "cell_type": "markdown",
   "metadata": {},
   "source": [
    "This constraint imposes that the squared Euclidian norm of diference between adjacent radial distances ($r_j^k$ e $r_j^{k+1}$) within vertically adjacent prisms must be minimum. It prevents abrupt descontinuities on the estimated adjacent radial distances within adjacent prism that forces all estimated prism to have a similar shape. Mathematically, it can be described by\n",
    "\n",
    "\\begin{equation}\n",
    "\\varphi_{2}(\\textbf{m}) = \\sum\\limits^{L-1}_{k=1}\\left[\\sum\\limits^{M}_{j=1}\\left(r^{k+1}_{j}-r^{k}_{j}\\right)^2\\right]\n",
    "\\end{equation}"
   ]
  },
  {
   "cell_type": "markdown",
   "metadata": {},
   "source": [
    "The geometric representation of the constraint $\\varphi_{2}(\\textbf{m})$ is presented in the figure below:\n",
    "\n",
    "<img src=\"Constraint_phi2.png\",width=400>"
   ]
  },
  {
   "cell_type": "markdown",
   "metadata": {},
   "source": [
    "For simplicity we rewrite the equation above with matrix notation. This constraint will be:\n",
    "\n",
    "\\begin{equation}\n",
    "    \\varphi_{2}(\\textbf{m}) = \\textbf{m}^{T}\\textbf{R}^{T}_{2}\\textbf{R}_{2}\\textbf{m}\n",
    "\\end{equation}\n",
    "\n",
    "where\n",
    "\n",
    "\\begin{equation}\n",
    "    \\textbf{R}_{2} = \n",
    "    \\begin{bmatrix}\n",
    "        \\textbf{R}^{-}_{2} & \\textbf{R}^{+}_{2} & 0 & \\cdots & 0 & 0 \\\\\n",
    "        0 & \\textbf{R}^{-}_{2} & \\textbf{R}^{+}_{2} & \\cdots & 0 & 0 \\\\\n",
    "        \\vdots & \\vdots & \\vdots & & \\vdots & \\vdots \\\\\n",
    "        0 & 0 & 0 & \\cdots & \\textbf{R}^{-}_{2} & \\textbf{R}^{+}_{2} \\\\\n",
    "    \\end{bmatrix}_{M(L-1)\\times P}\n",
    "\\end{equation}\n",
    "\n",
    "while\n",
    "\n",
    "\\begin{equation}\n",
    "    \\textbf{R}^{-}_{2} = \n",
    "    \\begin{bmatrix}\n",
    "        -1 & 0 & \\cdots & 0 & 0 & 0 \\\\\n",
    "        0 & -1 & \\cdots & 0 & 0 & 0 \\\\\n",
    "        \\vdots & \\vdots & \\ddots & \\vdots & \\vdots & \\vdots \\\\\n",
    "        0 & 0 & \\cdots & -1 & 0  & 0 \\\\\n",
    "    \\end{bmatrix}_{M\\times (M+2)}\n",
    "\\end{equation}\n",
    "\n",
    "and\n",
    "\n",
    "\\begin{equation}\n",
    "    \\textbf{R}^{+}_{2} = \n",
    "     \\begin{bmatrix}\n",
    "        1 & 0 & \\cdots & 0 & 0 & 0 \\\\\n",
    "        0 & 1 & \\cdots & 0 & 0 & 0 \\\\\n",
    "        \\vdots & \\vdots & \\ddots & \\vdots & \\vdots & \\vdots \\\\\n",
    "        0 & 0 & \\cdots & 1 & 0 & 0 \\\\\n",
    "    \\end{bmatrix}_{M\\times (M+2)}\n",
    "\\end{equation}"
   ]
  },
  {
   "cell_type": "markdown",
   "metadata": {},
   "source": [
    "To run the Levenberg-Marquadt algorithm we will need the Laplacian and the gradient of $\\varphi_{2}(\\textbf{m})$:\n",
    "\n",
    "\\begin{equation}\n",
    "\\nabla\\varphi_{2}(\\textbf{m}) = \\textbf{R}^{T}_{2}\\textbf{R}_{2}\\textbf{m}\n",
    "\\end{equation}\n",
    "\\begin{equation}\n",
    "\\nabla^2\\varphi_{2}(\\textbf{m}) = \\textbf{R}^{T}_{2}\\textbf{R}_{2}\n",
    "\\end{equation}"
   ]
  },
  {
   "cell_type": "code",
   "execution_count": 17,
   "metadata": {
    "collapsed": true
   },
   "outputs": [],
   "source": [
    "# m2 = gradient input + gradient of phi2\n",
    "grad2 = mfun.gradient_phi_2(M,L,m2,alpha)\n",
    "# H2 = Hessian input + Hessian of phi2\n",
    "H2 = mfun.Hessian_phi_2(M,L,H2,alpha) "
   ]
  },
  {
   "cell_type": "code",
   "execution_count": 18,
   "metadata": {},
   "outputs": [
    {
     "name": "stdout",
     "output_type": "stream",
     "text": [
      "[ -5.  -4.  -3.  -2.   5.   6.   7.   8.   9.  10.  11.  12.  19.  20.  21.\n",
      "  22.  17.  18.]\n"
     ]
    }
   ],
   "source": [
    "print grad2"
   ]
  },
  {
   "cell_type": "code",
   "execution_count": 19,
   "metadata": {},
   "outputs": [
    {
     "name": "stdout",
     "output_type": "stream",
     "text": [
      "[[ 1.  0.  0.  0.  0.  0. -1.  0.  0.  0.  0.  0.  0.  0.  0.  0.  0.  0.]\n",
      " [ 0.  1.  0.  0.  0.  0.  0. -1.  0.  0.  0.  0.  0.  0.  0.  0.  0.  0.]\n",
      " [ 0.  0.  1.  0.  0.  0.  0.  0. -1.  0.  0.  0.  0.  0.  0.  0.  0.  0.]\n",
      " [ 0.  0.  0.  1.  0.  0.  0.  0.  0. -1.  0.  0.  0.  0.  0.  0.  0.  0.]\n",
      " [ 0.  0.  0.  0.  0.  0.  0.  0.  0.  0.  0.  0.  0.  0.  0.  0.  0.  0.]\n",
      " [ 0.  0.  0.  0.  0.  0.  0.  0.  0.  0.  0.  0.  0.  0.  0.  0.  0.  0.]\n",
      " [-1.  0.  0.  0.  0.  0.  2.  0.  0.  0.  0.  0. -1.  0.  0.  0.  0.  0.]\n",
      " [ 0. -1.  0.  0.  0.  0.  0.  2.  0.  0.  0.  0.  0. -1.  0.  0.  0.  0.]\n",
      " [ 0.  0. -1.  0.  0.  0.  0.  0.  2.  0.  0.  0.  0.  0. -1.  0.  0.  0.]\n",
      " [ 0.  0.  0. -1.  0.  0.  0.  0.  0.  2.  0.  0.  0.  0.  0. -1.  0.  0.]\n",
      " [ 0.  0.  0.  0.  0.  0.  0.  0.  0.  0.  0.  0.  0.  0.  0.  0.  0.  0.]\n",
      " [ 0.  0.  0.  0.  0.  0.  0.  0.  0.  0.  0.  0.  0.  0.  0.  0.  0.  0.]\n",
      " [ 0.  0.  0.  0.  0.  0. -1.  0.  0.  0.  0.  0.  1.  0.  0.  0.  0.  0.]\n",
      " [ 0.  0.  0.  0.  0.  0.  0. -1.  0.  0.  0.  0.  0.  1.  0.  0.  0.  0.]\n",
      " [ 0.  0.  0.  0.  0.  0.  0.  0. -1.  0.  0.  0.  0.  0.  1.  0.  0.  0.]\n",
      " [ 0.  0.  0.  0.  0.  0.  0.  0.  0. -1.  0.  0.  0.  0.  0.  1.  0.  0.]\n",
      " [ 0.  0.  0.  0.  0.  0.  0.  0.  0.  0.  0.  0.  0.  0.  0.  0.  0.  0.]\n",
      " [ 0.  0.  0.  0.  0.  0.  0.  0.  0.  0.  0.  0.  0.  0.  0.  0.  0.  0.]]\n"
     ]
    }
   ],
   "source": [
    "print H2"
   ]
  },
  {
   "cell_type": "code",
   "execution_count": 20,
   "metadata": {
    "collapsed": true
   },
   "outputs": [],
   "source": [
    "tests.test_Hessian_phi_2()"
   ]
  },
  {
   "cell_type": "code",
   "execution_count": 21,
   "metadata": {
    "collapsed": true
   },
   "outputs": [],
   "source": [
    "phi2 = np.dot(np.dot(H2,m2),m2)"
   ]
  },
  {
   "cell_type": "code",
   "execution_count": 22,
   "metadata": {},
   "outputs": [
    {
     "name": "stdout",
     "output_type": "stream",
     "text": [
      "288.0\n"
     ]
    }
   ],
   "source": [
    "print phi2"
   ]
  },
  {
   "cell_type": "markdown",
   "metadata": {},
   "source": [
    "### (3) The constraint of outcropping source $\\varphi_{3}(\\textbf{m})$"
   ]
  },
  {
   "cell_type": "markdown",
   "metadata": {},
   "source": [
    "This constraint imposes that the estimated horizontal face of the shallowest prism must be close to the known outcropping boundary. The outcropping boundary must be describe by a polygon, whose radial distances and the Cartesian coordinates of the origin are $r_j^0$, $x_0^0$ and $y_0^0$. The shallowest prism is described by $r_j^1$, $x_j^1$ and $y_j^0$. So, the constraint imposes that a minimum value to the squared Euclidian norm between $r_j^0$ and $r_j^1$ and the squared Euclidian norm between the horizontal coordinates ($x_0^1$,$y_0^1$) and ($x_0^0$,$y_0^0$):\n",
    "\n",
    "\\begin{equation}\n",
    "\\varphi_{3}(\\textbf{m}) = \\left[\\left(x_{0}^{1} - x_{0}^{0}\\right)^2 + \\left(y_{0}^{1} - y_{0}^{0}\\right)^2 + \\sum\\limits^{M}_{j=1}\\left(r^{1}_{j}-r^{0}_{j}\\right)^2\\right]\n",
    "\\end{equation}"
   ]
  },
  {
   "cell_type": "markdown",
   "metadata": {},
   "source": [
    "The geometric representation of the constraint $\\varphi_{3}(\\textbf{m})$ is presented in the figure below:\n",
    "\n",
    "<img src=\"Constraint_phi3.png\",width=400>"
   ]
  },
  {
   "cell_type": "markdown",
   "metadata": {},
   "source": [
    "For simplicity we rewrite the equation above with matrix notation. This constraint will be:\n",
    "\n",
    "\\begin{equation}\n",
    "\\varphi_{3}(\\textbf{m}) = \\left(\\textbf{A}\\textbf{m} - \\textbf{m}\"\\right)^{T}\\left(\\textbf{A}\\textbf{m} - \\textbf{m}\"\\right)\n",
    "\\end{equation}\n",
    "\n",
    "where\n",
    "\n",
    "\\begin{equation}\n",
    "\\textbf{m}\" = \n",
    "\\begin{bmatrix}\n",
    "r_{1}^{0} \\\\\n",
    "r_{2}^{0} \\\\\n",
    "\\vdots \\\\\n",
    "r_{M}^{0} \\\\\n",
    "x_{0}^{0} \\\\\n",
    "y_{0}^{0}\n",
    "\\end{bmatrix}_{P\\times 1}\n",
    "\\end{equation}\n",
    "\n",
    "and\n",
    "\n",
    "\\begin{equation}\n",
    "\\textbf{A} = \n",
    "\\begin{bmatrix}\n",
    "\\textbf{I} & 0 \\\\\n",
    "\\end{bmatrix}_{(M+2)\\times P}\n",
    "\\end{equation}\n",
    "\n",
    "while\n",
    "\n",
    "$\\textbf{I}$ is the identity of order $M+2$."
   ]
  },
  {
   "cell_type": "markdown",
   "metadata": {},
   "source": [
    "To run the Levenberg-Marquadt algorithm we will need the Laplacian and the gradient of $\\varphi_{3}(\\textbf{m})$:\n",
    "\n",
    "\\begin{equation}\n",
    "\\nabla\\varphi_{3}(\\textbf{m}) = \\textbf{A}^{T}\\left(\\textbf{A}\\textbf{m} - \\textbf{m}\"\\right)\n",
    "\\end{equation}\n",
    "\\begin{equation}\n",
    "\\nabla^2\\varphi_{3}(\\textbf{m}) = \\textbf{A}^{T}\\textbf{A}\n",
    "\\end{equation}"
   ]
  },
  {
   "cell_type": "code",
   "execution_count": 23,
   "metadata": {
    "collapsed": true
   },
   "outputs": [],
   "source": [
    "# grad = gradient input + gradient of phi3\n",
    "grad3 = mfun.gradient_phi_3(M,L,m3,ml,alpha)\n",
    "# H3 = Hessian input + Hessian of phi3\n",
    "H3 = mfun.Hessian_phi_3(M,L,H3,alpha) "
   ]
  },
  {
   "cell_type": "code",
   "execution_count": 24,
   "metadata": {},
   "outputs": [
    {
     "name": "stdout",
     "output_type": "stream",
     "text": [
      "[  2.   4.   6.   8.  10.  12.   7.   8.   9.  10.  11.  12.  13.  14.  15.\n",
      "  16.  17.  18.]\n"
     ]
    }
   ],
   "source": [
    "print grad3"
   ]
  },
  {
   "cell_type": "code",
   "execution_count": 25,
   "metadata": {},
   "outputs": [
    {
     "name": "stdout",
     "output_type": "stream",
     "text": [
      "[[ 1.  0.  0.  0.  0.  0.  0.  0.  0.  0.  0.  0.  0.  0.  0.  0.  0.  0.]\n",
      " [ 0.  1.  0.  0.  0.  0.  0.  0.  0.  0.  0.  0.  0.  0.  0.  0.  0.  0.]\n",
      " [ 0.  0.  1.  0.  0.  0.  0.  0.  0.  0.  0.  0.  0.  0.  0.  0.  0.  0.]\n",
      " [ 0.  0.  0.  1.  0.  0.  0.  0.  0.  0.  0.  0.  0.  0.  0.  0.  0.  0.]\n",
      " [ 0.  0.  0.  0.  1.  0.  0.  0.  0.  0.  0.  0.  0.  0.  0.  0.  0.  0.]\n",
      " [ 0.  0.  0.  0.  0.  1.  0.  0.  0.  0.  0.  0.  0.  0.  0.  0.  0.  0.]\n",
      " [ 0.  0.  0.  0.  0.  0.  0.  0.  0.  0.  0.  0.  0.  0.  0.  0.  0.  0.]\n",
      " [ 0.  0.  0.  0.  0.  0.  0.  0.  0.  0.  0.  0.  0.  0.  0.  0.  0.  0.]\n",
      " [ 0.  0.  0.  0.  0.  0.  0.  0.  0.  0.  0.  0.  0.  0.  0.  0.  0.  0.]\n",
      " [ 0.  0.  0.  0.  0.  0.  0.  0.  0.  0.  0.  0.  0.  0.  0.  0.  0.  0.]\n",
      " [ 0.  0.  0.  0.  0.  0.  0.  0.  0.  0.  0.  0.  0.  0.  0.  0.  0.  0.]\n",
      " [ 0.  0.  0.  0.  0.  0.  0.  0.  0.  0.  0.  0.  0.  0.  0.  0.  0.  0.]\n",
      " [ 0.  0.  0.  0.  0.  0.  0.  0.  0.  0.  0.  0.  0.  0.  0.  0.  0.  0.]\n",
      " [ 0.  0.  0.  0.  0.  0.  0.  0.  0.  0.  0.  0.  0.  0.  0.  0.  0.  0.]\n",
      " [ 0.  0.  0.  0.  0.  0.  0.  0.  0.  0.  0.  0.  0.  0.  0.  0.  0.  0.]\n",
      " [ 0.  0.  0.  0.  0.  0.  0.  0.  0.  0.  0.  0.  0.  0.  0.  0.  0.  0.]\n",
      " [ 0.  0.  0.  0.  0.  0.  0.  0.  0.  0.  0.  0.  0.  0.  0.  0.  0.  0.]\n",
      " [ 0.  0.  0.  0.  0.  0.  0.  0.  0.  0.  0.  0.  0.  0.  0.  0.  0.  0.]]\n"
     ]
    }
   ],
   "source": [
    "print H3"
   ]
  },
  {
   "cell_type": "code",
   "execution_count": 26,
   "metadata": {
    "collapsed": true
   },
   "outputs": [],
   "source": [
    "tests.test_Hessian_phi_3()"
   ]
  },
  {
   "cell_type": "code",
   "execution_count": 27,
   "metadata": {
    "collapsed": true
   },
   "outputs": [],
   "source": [
    "phi3 = np.dot(np.dot(H3,m3),m3)"
   ]
  },
  {
   "cell_type": "code",
   "execution_count": 28,
   "metadata": {},
   "outputs": [
    {
     "name": "stdout",
     "output_type": "stream",
     "text": [
      "364.0\n"
     ]
    }
   ],
   "source": [
    "print phi3"
   ]
  },
  {
   "cell_type": "markdown",
   "metadata": {},
   "source": [
    "### (4) The constraint of horizontal location of outcropping source $\\varphi_{4}(\\textbf{m})$"
   ]
  },
  {
   "cell_type": "markdown",
   "metadata": {},
   "source": [
    "This constraint is an special case from $\\varphi_{3}(\\textbf{m})$ that only the Cartesian coordinates of the origin of th outcropping body are known. So, this constraint imposes that the squared Euclidian norm between the ($x_0^1$,$y_0^1$) and ($x_0^0$,$y_0^0$):\n",
    "\n",
    "\\begin{equation}\n",
    "\\varphi_{4}(\\textbf{m}) = \\left[\\left(x_{0}^{1} - x_{0}^{0}\\right)^2 + \\left(y_{0}^{1} - y_0^0\\right)^2\\right]\n",
    "\\end{equation}"
   ]
  },
  {
   "cell_type": "markdown",
   "metadata": {},
   "source": [
    "The geometric representation of the constraint $\\varphi_{4}(\\textbf{m})$ is presented in the figure below:\n",
    "\n",
    "<img src=\"Constraint_phi4.png\",width=400>"
   ]
  },
  {
   "cell_type": "markdown",
   "metadata": {},
   "source": [
    "For simplicity we rewrite the equation above with matrix notation. This constraint will be:\n",
    "\n",
    "\\begin{equation}\n",
    "\\varphi_{4}(\\textbf{m}) = \\left(\\textbf{B}\\textbf{m} - \\textbf{m}'\\right)^{T}\\left(\\textbf{B}\\textbf{m} - \\textbf{m}'\\right)\n",
    "\\end{equation}\n",
    "\n",
    "where\n",
    "\\begin{equation}\n",
    "\\textbf{B} = \n",
    "\\begin{bmatrix}\n",
    "\\textbf{B}^{\\sharp} & 0 \\\\\n",
    "\\end{bmatrix}_{2\\times P}\n",
    "\\end{equation}\n",
    "\n",
    "while\n",
    "\n",
    "\\begin{equation}\n",
    "\\textbf{B}^{\\sharp} = \n",
    "\\begin{bmatrix}\n",
    "0 & \\cdots & 0 & 1 & 0 \\\\\n",
    "0 & \\cdots & 0 & 0 & 1\n",
    "\\end{bmatrix}_{2\\times (M+2)}\n",
    "\\end{equation}\n",
    "\n",
    "and\n",
    "\n",
    "\\begin{equation}\n",
    "\\textbf{m}' = \n",
    "\\begin{bmatrix}\n",
    "x^0_0 \\\\\n",
    "y^0_0\n",
    "\\end{bmatrix}_{2\\times 1}\n",
    "\\end{equation}"
   ]
  },
  {
   "cell_type": "markdown",
   "metadata": {},
   "source": [
    "To run the Levenberg-Marquadt algorithm we will need the Laplacian and the gradient of $\\varphi_{4}(\\textbf{m})$:\n",
    "\n",
    "\\begin{equation}\n",
    "\\nabla\\varphi_{4}(\\textbf{m}) = \\textbf{B}^{T}\\left(\\textbf{B}\\textbf{m} - \\textbf{m}'\\right)\n",
    "\\end{equation}\n",
    "\\begin{equation}\n",
    "\\nabla^2\\varphi_{4}(\\textbf{m}) = \\textbf{B}^{T}\\textbf{B}\n",
    "\\end{equation}"
   ]
  },
  {
   "cell_type": "code",
   "execution_count": 29,
   "metadata": {
    "collapsed": true
   },
   "outputs": [],
   "source": [
    "# grad4 = gradient input + gradient of phi4\n",
    "grad4 = mfun.gradient_phi_4(M,L,m4,m2l,alpha) \n",
    "# H4 = Hessian input + Hessian of phi4\n",
    "H4 = mfun.Hessian_phi_4(M,L,H4,alpha) "
   ]
  },
  {
   "cell_type": "code",
   "execution_count": 30,
   "metadata": {},
   "outputs": [
    {
     "name": "stdout",
     "output_type": "stream",
     "text": [
      "[  1.   2.   3.   4.  10.  12.   7.   8.   9.  10.  11.  12.  13.  14.  15.\n",
      "  16.  17.  18.]\n"
     ]
    }
   ],
   "source": [
    "print grad4"
   ]
  },
  {
   "cell_type": "code",
   "execution_count": 31,
   "metadata": {},
   "outputs": [
    {
     "name": "stdout",
     "output_type": "stream",
     "text": [
      "[[ 0.  0.  0.  0.  0.  0.  0.  0.  0.  0.  0.  0.  0.  0.  0.  0.  0.  0.]\n",
      " [ 0.  0.  0.  0.  0.  0.  0.  0.  0.  0.  0.  0.  0.  0.  0.  0.  0.  0.]\n",
      " [ 0.  0.  0.  0.  0.  0.  0.  0.  0.  0.  0.  0.  0.  0.  0.  0.  0.  0.]\n",
      " [ 0.  0.  0.  0.  0.  0.  0.  0.  0.  0.  0.  0.  0.  0.  0.  0.  0.  0.]\n",
      " [ 0.  0.  0.  0.  1.  0.  0.  0.  0.  0.  0.  0.  0.  0.  0.  0.  0.  0.]\n",
      " [ 0.  0.  0.  0.  0.  1.  0.  0.  0.  0.  0.  0.  0.  0.  0.  0.  0.  0.]\n",
      " [ 0.  0.  0.  0.  0.  0.  0.  0.  0.  0.  0.  0.  0.  0.  0.  0.  0.  0.]\n",
      " [ 0.  0.  0.  0.  0.  0.  0.  0.  0.  0.  0.  0.  0.  0.  0.  0.  0.  0.]\n",
      " [ 0.  0.  0.  0.  0.  0.  0.  0.  0.  0.  0.  0.  0.  0.  0.  0.  0.  0.]\n",
      " [ 0.  0.  0.  0.  0.  0.  0.  0.  0.  0.  0.  0.  0.  0.  0.  0.  0.  0.]\n",
      " [ 0.  0.  0.  0.  0.  0.  0.  0.  0.  0.  0.  0.  0.  0.  0.  0.  0.  0.]\n",
      " [ 0.  0.  0.  0.  0.  0.  0.  0.  0.  0.  0.  0.  0.  0.  0.  0.  0.  0.]\n",
      " [ 0.  0.  0.  0.  0.  0.  0.  0.  0.  0.  0.  0.  0.  0.  0.  0.  0.  0.]\n",
      " [ 0.  0.  0.  0.  0.  0.  0.  0.  0.  0.  0.  0.  0.  0.  0.  0.  0.  0.]\n",
      " [ 0.  0.  0.  0.  0.  0.  0.  0.  0.  0.  0.  0.  0.  0.  0.  0.  0.  0.]\n",
      " [ 0.  0.  0.  0.  0.  0.  0.  0.  0.  0.  0.  0.  0.  0.  0.  0.  0.  0.]\n",
      " [ 0.  0.  0.  0.  0.  0.  0.  0.  0.  0.  0.  0.  0.  0.  0.  0.  0.  0.]\n",
      " [ 0.  0.  0.  0.  0.  0.  0.  0.  0.  0.  0.  0.  0.  0.  0.  0.  0.  0.]]\n"
     ]
    }
   ],
   "source": [
    "print H4"
   ]
  },
  {
   "cell_type": "code",
   "execution_count": 32,
   "metadata": {
    "collapsed": true
   },
   "outputs": [],
   "source": [
    "tests.test_Hessian_phi_4()"
   ]
  },
  {
   "cell_type": "code",
   "execution_count": 33,
   "metadata": {
    "collapsed": true
   },
   "outputs": [],
   "source": [
    "phi4 = np.dot(np.dot(H4,m4),m4)"
   ]
  },
  {
   "cell_type": "code",
   "execution_count": 34,
   "metadata": {},
   "outputs": [
    {
     "name": "stdout",
     "output_type": "stream",
     "text": [
      "244.0\n"
     ]
    }
   ],
   "source": [
    "print phi4"
   ]
  },
  {
   "cell_type": "markdown",
   "metadata": {},
   "source": [
    "### (5) Smoothness constraint on the origins of adjacent prisms $\\varphi_{5}(\\textbf{m})$"
   ]
  },
  {
   "cell_type": "markdown",
   "metadata": {},
   "source": [
    "This constraint imposses a minimum value to the difference between horizontal Cartesian coordinates of vertically adjacent prisms. It prevents descontinuities between estimated horizontal Cartesian coordinates of vertically adjacent prisms. This constraint forces smooth horizontal displacements between all vertically adjacent prisms. It cand be described by\n",
    "\n",
    "\\begin{equation}\n",
    "\\varphi_{5}(\\textbf{m}) = \\sum\\limits^{L-1}_{k=1}\\left[\\left(x_{0}^{k+1} - x_{0}^{k}\\right)^2 + \\left(y_{0}^{k+1} - y_{0}^{k}\\right)^2 \\right]\n",
    "\\end{equation}"
   ]
  },
  {
   "cell_type": "markdown",
   "metadata": {},
   "source": [
    "The geometric representation of the constraint $\\varphi_{5}(\\textbf{m})$ is presented in the figure below:\n",
    "\n",
    "<img src=\"Constraint_phi5.png\",width=400>"
   ]
  },
  {
   "cell_type": "markdown",
   "metadata": {},
   "source": [
    "For simplicity we rewrite the equation above with matrix notation. This constraint will be:\n",
    "\n",
    "\\begin{equation}\n",
    "\\varphi_{5}(\\textbf{m}) = \\textbf{m}^{T}\\textbf{R}^{T}_{5}\\textbf{R}_{5}\\textbf{m}\n",
    "\\end{equation}\n",
    "\n",
    "where\n",
    "\\begin{equation}\n",
    "\\textbf{R}_{5} = \n",
    "\\begin{bmatrix}\n",
    "\\textbf{R}^{-}_{5} & \\textbf{R}^{+}_{5} & 0 & \\cdots & 0 & 0 \\\\\n",
    "0 & \\textbf{R}^{-}_{5} & \\textbf{R}^{+}_{5} & \\cdots & 0 & 0 \\\\\n",
    "\\vdots & \\vdots & \\vdots & & \\vdots & \\vdots \\\\\n",
    "0 & 0 & 0 & \\cdots & \\textbf{R}^{-}_{5} & \\textbf{R}^{+}_{5} \\\\\n",
    "\\end{bmatrix}_{2(L-1)\\times P}\n",
    "\\end{equation}\n",
    "\n",
    "while\n",
    "\n",
    "\\begin{equation}\n",
    "\\textbf{R}^{-}_{5} = \n",
    "\\begin{bmatrix}\n",
    "0 & 0 & \\cdots & 0 & -1 & 0 \\\\\n",
    "0 & 0 & \\cdots & 0 & 0 & -1 \\\\\n",
    "\\end{bmatrix}_{2\\times (M+2)}\n",
    "\\end{equation}\n",
    "\n",
    "and\n",
    "\n",
    "\\begin{equation}\n",
    "\\textbf{R}^{+}_{5} = \n",
    "\\begin{bmatrix}\n",
    "0 & 0 & \\cdots & 0 & 1 & 0 \\\\\n",
    "0 & 0 & \\cdots & 0 & 0 & 1 \\\\\n",
    "\\end{bmatrix}_{2\\times (M+2)}\n",
    "\\end{equation}"
   ]
  },
  {
   "cell_type": "markdown",
   "metadata": {},
   "source": [
    "To run the Levenberg-Marquadt algorithm we will need the Laplacian and the gradient of $\\varphi_{5}(\\textbf{m})$:"
   ]
  },
  {
   "cell_type": "markdown",
   "metadata": {},
   "source": [
    "\\begin{equation}\n",
    "\\nabla\\varphi_{5}(\\textbf{m}) = \\textbf{R}^{T}_{5}\\textbf{R}_{5}\\textbf{m}\n",
    "\\end{equation}\n",
    "\\begin{equation}\n",
    "\\nabla^2\\varphi_{5}(\\textbf{m}) = \\textbf{R}^{T}_{5}\\textbf{R}_{5}\n",
    "\\end{equation}"
   ]
  },
  {
   "cell_type": "code",
   "execution_count": 35,
   "metadata": {
    "collapsed": true
   },
   "outputs": [],
   "source": [
    "# grad5 = gradient input + gradient of phi5\n",
    "grad5 = mfun.gradient_phi_5(M,L,m5,alpha)\n",
    "# H5 = Hessian input + Hessian of phi5\n",
    "H5 = mfun.Hessian_phi_5(M,L,H5,alpha) "
   ]
  },
  {
   "cell_type": "code",
   "execution_count": 36,
   "metadata": {},
   "outputs": [
    {
     "name": "stdout",
     "output_type": "stream",
     "text": [
      "[  1.   2.   3.   4.  -1.   0.   7.   8.   9.  10.  11.  12.  13.  14.  15.\n",
      "  16.  23.  24.]\n"
     ]
    }
   ],
   "source": [
    "print grad5"
   ]
  },
  {
   "cell_type": "code",
   "execution_count": 37,
   "metadata": {},
   "outputs": [
    {
     "name": "stdout",
     "output_type": "stream",
     "text": [
      "[[ 0.  0.  0.  0.  0.  0.  0.  0.  0.  0.  0.  0.  0.  0.  0.  0.  0.  0.]\n",
      " [ 0.  0.  0.  0.  0.  0.  0.  0.  0.  0.  0.  0.  0.  0.  0.  0.  0.  0.]\n",
      " [ 0.  0.  0.  0.  0.  0.  0.  0.  0.  0.  0.  0.  0.  0.  0.  0.  0.  0.]\n",
      " [ 0.  0.  0.  0.  0.  0.  0.  0.  0.  0.  0.  0.  0.  0.  0.  0.  0.  0.]\n",
      " [ 0.  0.  0.  0.  1.  0.  0.  0.  0.  0. -1.  0.  0.  0.  0.  0.  0.  0.]\n",
      " [ 0.  0.  0.  0.  0.  1.  0.  0.  0.  0.  0. -1.  0.  0.  0.  0.  0.  0.]\n",
      " [ 0.  0.  0.  0.  0.  0.  0.  0.  0.  0.  0.  0.  0.  0.  0.  0.  0.  0.]\n",
      " [ 0.  0.  0.  0.  0.  0.  0.  0.  0.  0.  0.  0.  0.  0.  0.  0.  0.  0.]\n",
      " [ 0.  0.  0.  0.  0.  0.  0.  0.  0.  0.  0.  0.  0.  0.  0.  0.  0.  0.]\n",
      " [ 0.  0.  0.  0.  0.  0.  0.  0.  0.  0.  0.  0.  0.  0.  0.  0.  0.  0.]\n",
      " [ 0.  0.  0.  0. -1.  0.  0.  0.  0.  0.  2.  0.  0.  0.  0.  0. -1.  0.]\n",
      " [ 0.  0.  0.  0.  0. -1.  0.  0.  0.  0.  0.  2.  0.  0.  0.  0.  0. -1.]\n",
      " [ 0.  0.  0.  0.  0.  0.  0.  0.  0.  0.  0.  0.  0.  0.  0.  0.  0.  0.]\n",
      " [ 0.  0.  0.  0.  0.  0.  0.  0.  0.  0.  0.  0.  0.  0.  0.  0.  0.  0.]\n",
      " [ 0.  0.  0.  0.  0.  0.  0.  0.  0.  0.  0.  0.  0.  0.  0.  0.  0.  0.]\n",
      " [ 0.  0.  0.  0.  0.  0.  0.  0.  0.  0.  0.  0.  0.  0.  0.  0.  0.  0.]\n",
      " [ 0.  0.  0.  0.  0.  0.  0.  0.  0.  0. -1.  0.  0.  0.  0.  0.  1.  0.]\n",
      " [ 0.  0.  0.  0.  0.  0.  0.  0.  0.  0.  0. -1.  0.  0.  0.  0.  0.  1.]]\n"
     ]
    }
   ],
   "source": [
    "print H5"
   ]
  },
  {
   "cell_type": "code",
   "execution_count": 38,
   "metadata": {
    "collapsed": true
   },
   "outputs": [],
   "source": [
    "tests.test_Hessian_phi_5()"
   ]
  },
  {
   "cell_type": "code",
   "execution_count": 39,
   "metadata": {
    "collapsed": true
   },
   "outputs": [],
   "source": [
    "phi5 = np.dot(np.dot(H5,m5),m5)"
   ]
  },
  {
   "cell_type": "code",
   "execution_count": 40,
   "metadata": {},
   "outputs": [
    {
     "name": "stdout",
     "output_type": "stream",
     "text": [
      "144.0\n"
     ]
    }
   ],
   "source": [
    "print phi5"
   ]
  },
  {
   "cell_type": "markdown",
   "metadata": {},
   "source": [
    "### (6) Minimum Euclidian norm constraint on the adjacent radial distances within each prism $\\varphi_{6}(\\textbf{m})$"
   ]
  },
  {
   "cell_type": "markdown",
   "metadata": {
    "collapsed": true
   },
   "source": [
    "This constraint imposes that the squared Euclidian norm of the radial distances must be minimum. It implies that the estimated radial distances to be close to zero. Mathematically, it can be described as:\n",
    "\n",
    "\\begin{equation}\n",
    "\\varphi_{6}(\\textbf{m}) = \\sum\\limits^{L}_{k=1}\\sum\\limits^{M}_{j=1}\\left(r_{j}^{k}\\right)^2\n",
    "\\end{equation}"
   ]
  },
  {
   "cell_type": "markdown",
   "metadata": {},
   "source": [
    "The geometric representation of the constraint $\\varphi_{6}(\\textbf{m})$ is presented in the figure below:\n",
    "\n",
    "<img src=\"Constraint_phi6.png\",width=400>"
   ]
  },
  {
   "cell_type": "markdown",
   "metadata": {},
   "source": [
    "For simplicity we rewrite the equation above with matrix notation. This constraint will be:\n",
    "\n",
    "\\begin{equation}\n",
    "\\varphi_{6}(\\textbf{m}) = \\textbf{m}^{T}\\textbf{C}^{T}\\textbf{C}\\textbf{m}\n",
    "\\end{equation}\n",
    "\n",
    "where\n",
    "\n",
    "\\begin{equation}\n",
    "\\textbf{C} = \n",
    "\\begin{bmatrix}\n",
    "\\textbf{C}^{\\sharp} & 0 & \\cdots & 0 \\\\\n",
    "0 & \\textbf{C}^{\\sharp} &  \\cdots & 0 \\\\\n",
    "\\vdots & \\vdots & \\ddots & \\vdots \\\\\n",
    "0 & 0 &  \\cdots & \\textbf{C}^{\\sharp} \\\\\n",
    "\\end{bmatrix}_{P\\times P}\n",
    "\\end{equation}\n",
    "\n",
    "while\n",
    "\n",
    "\n",
    "\n",
    "\\begin{equation}\n",
    "\\textbf{C}^{\\sharp} = \n",
    "\\begin{bmatrix}\n",
    "1 & & & & \\\\\n",
    " & \\ddots &  & &  \\\\\n",
    " &  & 1 & & \\\\\n",
    " &  & & 0 &  \\\\\n",
    " &  & & & 0 \\\\\n",
    "\\end{bmatrix}_{(M+2)\\times (M+2)}\n",
    "\\end{equation}"
   ]
  },
  {
   "cell_type": "markdown",
   "metadata": {},
   "source": [
    "To run the Levenberg-Marquadt algorithm we will need the Laplacian and the gradient of $\\varphi_{6}(\\textbf{m})$:\n",
    "\n",
    "\\begin{equation}\n",
    "\\nabla\\varphi_{5}(\\textbf{m}) = \\textbf{C}^{T}\\textbf{C}\\textbf{m}\n",
    "\\end{equation}\n",
    "\\begin{equation}\n",
    "\\nabla^2\\varphi_{5}(\\textbf{m}) = \\textbf{C}^{T}\\textbf{C}\n",
    "\\end{equation}"
   ]
  },
  {
   "cell_type": "code",
   "execution_count": 41,
   "metadata": {
    "collapsed": true
   },
   "outputs": [],
   "source": [
    "# grad6 = gradient input + gradient of phi6\n",
    "grad6 = mfun.gradient_phi_6(M,L,m6,alpha)\n",
    "# H6 = Hessian input + Hessian of phi6\n",
    "H6 = mfun.Hessian_phi_6(M,L,H6,alpha) "
   ]
  },
  {
   "cell_type": "code",
   "execution_count": 42,
   "metadata": {},
   "outputs": [
    {
     "name": "stdout",
     "output_type": "stream",
     "text": [
      "[  2.   4.   6.   8.   5.   6.  14.  16.  18.  20.  11.  12.  26.  28.  30.\n",
      "  32.  17.  18.]\n"
     ]
    }
   ],
   "source": [
    "print grad6"
   ]
  },
  {
   "cell_type": "code",
   "execution_count": 43,
   "metadata": {},
   "outputs": [
    {
     "name": "stdout",
     "output_type": "stream",
     "text": [
      "[[ 1.  0.  0.  0.  0.  0.  0.  0.  0.  0.  0.  0.  0.  0.  0.  0.  0.  0.]\n",
      " [ 0.  1.  0.  0.  0.  0.  0.  0.  0.  0.  0.  0.  0.  0.  0.  0.  0.  0.]\n",
      " [ 0.  0.  1.  0.  0.  0.  0.  0.  0.  0.  0.  0.  0.  0.  0.  0.  0.  0.]\n",
      " [ 0.  0.  0.  1.  0.  0.  0.  0.  0.  0.  0.  0.  0.  0.  0.  0.  0.  0.]\n",
      " [ 0.  0.  0.  0.  0.  0.  0.  0.  0.  0.  0.  0.  0.  0.  0.  0.  0.  0.]\n",
      " [ 0.  0.  0.  0.  0.  0.  0.  0.  0.  0.  0.  0.  0.  0.  0.  0.  0.  0.]\n",
      " [ 0.  0.  0.  0.  0.  0.  1.  0.  0.  0.  0.  0.  0.  0.  0.  0.  0.  0.]\n",
      " [ 0.  0.  0.  0.  0.  0.  0.  1.  0.  0.  0.  0.  0.  0.  0.  0.  0.  0.]\n",
      " [ 0.  0.  0.  0.  0.  0.  0.  0.  1.  0.  0.  0.  0.  0.  0.  0.  0.  0.]\n",
      " [ 0.  0.  0.  0.  0.  0.  0.  0.  0.  1.  0.  0.  0.  0.  0.  0.  0.  0.]\n",
      " [ 0.  0.  0.  0.  0.  0.  0.  0.  0.  0.  0.  0.  0.  0.  0.  0.  0.  0.]\n",
      " [ 0.  0.  0.  0.  0.  0.  0.  0.  0.  0.  0.  0.  0.  0.  0.  0.  0.  0.]\n",
      " [ 0.  0.  0.  0.  0.  0.  0.  0.  0.  0.  0.  0.  1.  0.  0.  0.  0.  0.]\n",
      " [ 0.  0.  0.  0.  0.  0.  0.  0.  0.  0.  0.  0.  0.  1.  0.  0.  0.  0.]\n",
      " [ 0.  0.  0.  0.  0.  0.  0.  0.  0.  0.  0.  0.  0.  0.  1.  0.  0.  0.]\n",
      " [ 0.  0.  0.  0.  0.  0.  0.  0.  0.  0.  0.  0.  0.  0.  0.  1.  0.  0.]\n",
      " [ 0.  0.  0.  0.  0.  0.  0.  0.  0.  0.  0.  0.  0.  0.  0.  0.  0.  0.]\n",
      " [ 0.  0.  0.  0.  0.  0.  0.  0.  0.  0.  0.  0.  0.  0.  0.  0.  0.  0.]]\n"
     ]
    }
   ],
   "source": [
    "print H6"
   ]
  },
  {
   "cell_type": "code",
   "execution_count": 44,
   "metadata": {
    "collapsed": true
   },
   "outputs": [],
   "source": [
    "tests.test_Hessian_phi_6()"
   ]
  },
  {
   "cell_type": "code",
   "execution_count": 45,
   "metadata": {
    "collapsed": true
   },
   "outputs": [],
   "source": [
    "phi6 = np.dot(np.dot(H6,m6),m6)"
   ]
  },
  {
   "cell_type": "code",
   "execution_count": 46,
   "metadata": {},
   "outputs": [
    {
     "name": "stdout",
     "output_type": "stream",
     "text": [
      "1170.0\n"
     ]
    }
   ],
   "source": [
    "print phi6"
   ]
  },
  {
   "cell_type": "code",
   "execution_count": 47,
   "metadata": {
    "collapsed": true
   },
   "outputs": [],
   "source": [
    "fi6 = mfun.diags_phi_6(M,L,alpha)"
   ]
  },
  {
   "cell_type": "code",
   "execution_count": 48,
   "metadata": {},
   "outputs": [
    {
     "name": "stdout",
     "output_type": "stream",
     "text": [
      "[ 1.  1.  1.  1.  0.  0.  1.  1.  1.  1.  0.  0.  1.  1.  1.  1.  0.  0.]\n"
     ]
    }
   ],
   "source": [
    "print fi6"
   ]
  },
  {
   "cell_type": "code",
   "execution_count": null,
   "metadata": {
    "collapsed": true
   },
   "outputs": [],
   "source": []
  }
 ],
 "metadata": {
  "anaconda-cloud": {},
  "kernelspec": {
   "display_name": "Python 2",
   "language": "python",
   "name": "python2"
  },
  "language_info": {
   "codemirror_mode": {
    "name": "ipython",
    "version": 2
   },
   "file_extension": ".py",
   "mimetype": "text/x-python",
   "name": "python",
   "nbconvert_exporter": "python",
   "pygments_lexer": "ipython2",
   "version": "2.7.13"
  }
 },
 "nbformat": 4,
 "nbformat_minor": 1
}
