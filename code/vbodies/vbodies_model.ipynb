{
 "cells": [
  {
   "cell_type": "markdown",
   "metadata": {},
   "source": [
    "# Synthetic 2 vertical bodies"
   ]
  },
  {
   "cell_type": "markdown",
   "metadata": {},
   "source": [
    "This notebook creates 2 vertical bodies at different depths with magnetization using the polygonal prisms from fatiando and save its parameters in an outer file."
   ]
  },
  {
   "cell_type": "code",
   "execution_count": 30,
   "metadata": {
    "collapsed": false
   },
   "outputs": [],
   "source": [
    "import numpy as np\n",
    "import matplotlib.pyplot as plt\n",
    "import cPickle as pickle\n",
    "\n",
    "from fatiando import utils\n",
    "from fatiando.gridder import regular\n",
    "from fatiando.vis import myv\n",
    "from matplotlib import colors, ticker, cm\n",
    "from IPython.display import Image as img"
   ]
  },
  {
   "cell_type": "markdown",
   "metadata": {},
   "source": [
    "### Auxiliary functions"
   ]
  },
  {
   "cell_type": "code",
   "execution_count": 31,
   "metadata": {
    "collapsed": false
   },
   "outputs": [],
   "source": [
    "import sys\n",
    "sys.path.insert(0, '../../code')\n",
    "\n",
    "import mag_polyprism_functions as mfun"
   ]
  },
  {
   "cell_type": "markdown",
   "metadata": {},
   "source": [
    "### Creating the model"
   ]
  },
  {
   "cell_type": "code",
   "execution_count": 32,
   "metadata": {
    "collapsed": true
   },
   "outputs": [],
   "source": [
    "vbodies_model = dict()"
   ]
  },
  {
   "cell_type": "code",
   "execution_count": 33,
   "metadata": {
    "collapsed": true
   },
   "outputs": [],
   "source": [
    "# model parameters\n",
    "vbodies_model['M'] = 20 # number of vertices per prism\n",
    "vbodies_model['L'] = 2 # number of prisms\n",
    "vbodies_model['P'] = vbodies_model['L']*(vbodies_model['M']+2) # number of parameters\n",
    "\n",
    "vbodies_model['z0'] = 350.    # depth of the top the shallowest prism\n",
    "vbodies_model['dz'] = 1200.    # thickness of each prism\n",
    "\n",
    "vbodies_model['inc'] = -50.  # inclination\n",
    "vbodies_model['dec'] = -23.   # declination\n",
    "vbodies_model['intensity'] = 20. # intensity\n",
    "\n",
    "vbodies_model['props']={'magnetization': utils.ang2vec(\n",
    "    vbodies_model['intensity'], vbodies_model['inc'], vbodies_model['dec'])} # physical property: magnetization\n",
    "\n",
    "r = np.zeros(vbodies_model['M']) + 1000. # radial distance for each vertice\n",
    "\n",
    "# Cartesian coordinates of the origin of each prism\n",
    "x0 = np.zeros(vbodies_model['L']) \n",
    "y0 = np.zeros(vbodies_model['L'])\n",
    "\n",
    "l = []   # list of parameters of the prisms\n",
    "\n",
    "for i in range(vbodies_model['L']):\n",
    "    l.append([r + i*1000., x0[i] + i*500., y0[i] + i*500., vbodies_model['z0'] + (vbodies_model['dz'] + 2000.)*i,\\\n",
    "              vbodies_model['z0'] + (vbodies_model['dz'])*(i + 1)  + 4000.*i, vbodies_model['props']])\n",
    "    \n",
    "vbodies_model['prisms'] = mfun.pol2cart(l, vbodies_model['M'], vbodies_model['L'])\n",
    "vbodies_model['param_vec'] = mfun.param_vec(l, vbodies_model['M'], vbodies_model['L'])"
   ]
  },
  {
   "cell_type": "markdown",
   "metadata": {},
   "source": [
    "### Model ploting"
   ]
  },
  {
   "cell_type": "code",
   "execution_count": 34,
   "metadata": {
    "collapsed": false
   },
   "outputs": [
    {
     "data": {
      "image/png": "[encoded data removed]",
      "text/plain": [
       "<IPython.core.display.Image object>"
      ]
     },
     "execution_count": 34,
     "metadata": {},
     "output_type": "execute_result"
    }
   ],
   "source": [
    "bounds = [-5000., 5000., -5000., 5000., 50., 8000.]\n",
    "\n",
    "red, green, blue = (1, 0, 0), (0, 1, 0), (0, 0, 1)\n",
    "white, black = (1, 1, 1), (0, 0, 0),\n",
    "\n",
    "# Show the model\n",
    "scene = myv.figure()\n",
    "myv.polyprisms(vbodies_model['prisms'], 'magnetization', opacity=1., color=blue)\n",
    "\n",
    "ax = myv.axes(myv.outline(bounds), ranges=[i * 0.001 for i in bounds])\n",
    "ax.axes.x_label, ax.axes.y_label, ax.axes.z_label = 'x (km)', 'y (km)', 'z (km)'\n",
    "ax.axes.font_factor = 1.65\n",
    "scene.scene.camera.position = [-0.089204656936016313, -0.066107174155361687, -0.04083578885723696]\n",
    "scene.scene.camera.focal_point = [1.1820671636724554e-16, 1.3134079596360617e-17, -1.9701119394540926e-17]\n",
    "scene.scene.camera.view_angle = 30.0\n",
    "scene.scene.camera.view_up = [0.24683390337942718, 0.24593292331329802, -0.93733132955911114]\n",
    "scene.scene.camera.clipping_range = [0.057117737884348194, 0.1956040854922288]\n",
    "scene.scene.camera.compute_view_plane_normal()\n",
    "\n",
    "myv.wall_bottom(ax.axes.bounds, opacity=0.2)\n",
    "myv.wall_north(ax.axes.bounds)\n",
    "\n",
    "myv.savefig('../synthetic_data/vbodies/vbodies_true.png')\n",
    "myv.show()\n",
    "img(filename='../synthetic_data/vbodies/vbodies_true.png')"
   ]
  },
  {
   "cell_type": "markdown",
   "metadata": {},
   "source": [
    "### Saving in an outer file"
   ]
  },
  {
   "cell_type": "code",
   "execution_count": 35,
   "metadata": {
    "collapsed": true
   },
   "outputs": [],
   "source": [
    "file_name = '../synthetic_data/vbodies/vbodies_model.pickle'\n",
    "with open(file_name, 'w') as f:\n",
    "    pickle.dump(vbodies_model, f)"
   ]
  },
  {
   "cell_type": "code",
   "execution_count": null,
   "metadata": {},
   "outputs": [],
   "source": []
  }
 ],
 "metadata": {
  "kernelspec": {
   "display_name": "Python 2",
   "language": "python",
   "name": "python2"
  },
  "language_info": {
   "codemirror_mode": {
    "name": "ipython",
    "version": 2
   },
   "file_extension": ".py",
   "mimetype": "text/x-python",
   "name": "python",
   "nbconvert_exporter": "python",
   "pygments_lexer": "ipython2",
   "version": "2.7.15"
  }
 },
 "nbformat": 4,
 "nbformat_minor": 2
}
