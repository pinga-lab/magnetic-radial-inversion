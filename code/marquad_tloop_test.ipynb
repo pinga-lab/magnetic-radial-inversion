{
 "cells": [
  {
   "cell_type": "code",
   "execution_count": 1,
   "metadata": {
    "collapsed": false
   },
   "outputs": [
    {
     "name": "stderr",
     "output_type": "stream",
     "text": [
      "/home/vital/anaconda2/lib/python2.7/site-packages/fatiando/vis/mpl.py:76: UserWarning: This module will be removed in v0.6. We recommend the use of matplotlib.pyplot module directly. Some of the fatiando specific functions will remain.\n",
      "  \"specific functions will remain.\")\n",
      "/home/vital/anaconda2/lib/python2.7/site-packages/fatiando/vis/myv.py:51: UserWarning: This module will be removed in v0.7.\n",
      "  warnings.warn(\"This module will be removed in v0.7.\")\n"
     ]
    }
   ],
   "source": [
    "import numpy as np\n",
    "import matplotlib.pyplot as plt\n",
    "from copy import deepcopy\n",
    "from __future__ import division\n",
    "from fatiando import mesher, gridder, utils\n",
    "from fatiando.gravmag import polyprism\n",
    "from fatiando.mesher import PolygonalPrism\n",
    "from fatiando.gravmag import prism\n",
    "from fatiando.mesher import Prism\n",
    "from fatiando.vis import mpl, myv\n",
    "from fatiando.constants import CM, T2NT\n",
    "from matplotlib import colors, ticker, cm\n",
    "from IPython.display import Image as img\n",
    "import mag_polyprism_functions as mfun\n",
    "import polyprism_tests as tests\n",
    "% matplotlib inline"
   ]
  },
  {
   "cell_type": "code",
   "execution_count": 2,
   "metadata": {
    "collapsed": true
   },
   "outputs": [],
   "source": [
    "#x = np.arange(1., 14., 1.)\n",
    "x = np.linspace(1., 15., 20)"
   ]
  },
  {
   "cell_type": "code",
   "execution_count": 3,
   "metadata": {
    "collapsed": true
   },
   "outputs": [],
   "source": [
    "A = 10.\n",
    "B = -10.\n",
    "C = -1.\n",
    "D = 5."
   ]
  },
  {
   "cell_type": "code",
   "execution_count": 4,
   "metadata": {
    "collapsed": true
   },
   "outputs": [],
   "source": [
    "phi = A + B*(1./(1 + np.exp(C*(x - D))))"
   ]
  },
  {
   "cell_type": "code",
   "execution_count": 5,
   "metadata": {
    "collapsed": false
   },
   "outputs": [
    {
     "data": {
      "text/plain": [
       "[<matplotlib.lines.Line2D at 0x7f95da384a50>]"
      ]
     },
     "execution_count": 5,
     "metadata": {},
     "output_type": "execute_result"
    },
    {
     "data": {
      "image/png": "[encoded data removed]",
      "text/plain": [
       "<matplotlib.figure.Figure at 0x7f96047adb90>"
      ]
     },
     "metadata": {},
     "output_type": "display_data"
    }
   ],
   "source": [
    "plt.plot(x,phi)"
   ]
  },
  {
   "cell_type": "code",
   "execution_count": 6,
   "metadata": {
    "collapsed": false
   },
   "outputs": [],
   "source": [
    "phi[9] = 2.\n",
    "phi[10] = 3."
   ]
  },
  {
   "cell_type": "code",
   "execution_count": 7,
   "metadata": {
    "collapsed": false
   },
   "outputs": [
    {
     "data": {
      "text/plain": [
       "[<matplotlib.lines.Line2D at 0x7f95da288790>]"
      ]
     },
     "execution_count": 7,
     "metadata": {},
     "output_type": "execute_result"
    },
    {
     "data": {
      "image/png": "[encoded data removed]",
      "text/plain": [
       "<matplotlib.figure.Figure at 0x7f95da3c3a50>"
      ]
     },
     "metadata": {},
     "output_type": "display_data"
    }
   ],
   "source": [
    "plt.plot(x,phi)"
   ]
  },
  {
   "cell_type": "code",
   "execution_count": 8,
   "metadata": {
    "collapsed": false
   },
   "outputs": [
    {
     "name": "stdout",
     "output_type": "stream",
     "text": [
      "  0  9.82014e+00   0   0  1.00000e-03\n",
      "  1  9.63143e+00   1   0  2.00000e-04\n",
      "  2  9.25966e+00   2   0  4.00000e-05\n",
      "  3  8.56863e+00   3   0  8.00000e-06\n",
      "  4  7.41280e+00   4   0  1.60000e-06\n",
      "  5  5.78298e+00   5   0  3.20000e-07\n",
      "  6  3.96265e+00   6   0  6.40000e-08\n",
      "  7  2.39050e+00   7   0  1.28000e-08\n",
      "  8  1.30705e+00   8   0  2.56000e-09\n",
      "  9  2.00000e+00   9   0  5.12000e-10\n",
      "  9  3.00000e+00  10   1  2.56000e-09\n",
      "  9  1.62183e-01  11   2  1.28000e-08\n",
      " 10  7.82865e-02  12   0  2.56000e-09\n",
      " 11  3.76233e-02  13   0  5.12000e-10\n",
      " 12  1.80428e-02  14   0  1.02400e-10\n",
      " 13  8.64382e-03  15   0  2.04800e-11\n",
      " 14  4.13899e-03  16   0  4.09600e-12\n",
      " 15  1.98145e-03  17   0  8.19200e-13\n",
      " 16  9.48463e-04  18   0  1.63840e-13\n",
      " 17  4.53979e-04  19   0  3.27680e-14\n"
     ]
    }
   ],
   "source": [
    "phi0 = 10.\n",
    "itmax = 18\n",
    "itmax_marq = 12\n",
    "lamb = 0.001\n",
    "dlamb = 5.\n",
    "epsilon = 0.0001\n",
    "k = -1\n",
    "for it in range(itmax):\n",
    "    # gradient and hessian computation\n",
    "    for it_marq in range(itmax_marq):\n",
    "        k += 1 # solve the linear system and compute a new phi\n",
    "        dphi = phi[k] - phi0\n",
    "        print '%3d %12.5e %3d %3d %12.5e' % (it, phi[k], k, it_marq, lamb)\n",
    "        if (dphi > 0.):\n",
    "            lamb *= dlamb\n",
    "        else:\n",
    "            lamb /= dlamb\n",
    "            break\n",
    "    relative_variation = abs(dphi/phi0)\n",
    "    if (relative_variation > epsilon):\n",
    "        phi0 = phi[k]\n",
    "    else:\n",
    "        print 'convergence achieved'\n",
    "        break"
   ]
  },
  {
   "cell_type": "code",
   "execution_count": null,
   "metadata": {
    "collapsed": true
   },
   "outputs": [],
   "source": []
  },
  {
   "cell_type": "code",
   "execution_count": null,
   "metadata": {
    "collapsed": true
   },
   "outputs": [],
   "source": []
  },
  {
   "cell_type": "code",
   "execution_count": null,
   "metadata": {
    "collapsed": true
   },
   "outputs": [],
   "source": []
  }
 ],
 "metadata": {
  "kernelspec": {
   "display_name": "Python 2",
   "language": "python",
   "name": "python2"
  },
  "language_info": {
   "codemirror_mode": {
    "name": "ipython",
    "version": 2
   },
   "file_extension": ".py",
   "mimetype": "text/x-python",
   "name": "python",
   "nbconvert_exporter": "python",
   "pygments_lexer": "ipython2",
   "version": "2.7.13"
  }
 },
 "nbformat": 4,
 "nbformat_minor": 2
}
