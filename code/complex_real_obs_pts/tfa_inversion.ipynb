{
 "cells": [
  {
   "cell_type": "markdown",
   "metadata": {},
   "source": [
    "# Complex body TFA Inversion"
   ]
  },
  {
   "cell_type": "markdown",
   "metadata": {},
   "source": [
    "This notebook performs the inversion using Levenberg-Marquadt's algorithm of total field anomaly (TFA) data on a regular grid of a model with a complex geometry."
   ]
  },
  {
   "cell_type": "code",
   "execution_count": 43,
   "metadata": {},
   "outputs": [],
   "source": [
    "import numpy as np\n",
    "import matplotlib.pyplot as plt\n",
    "import cPickle as pickle\n",
    "import os\n",
    "\n",
    "from fatiando import utils\n",
    "from fatiando.gravmag import polyprism\n",
    "from fatiando.mesher import PolygonalPrism\n",
    "from fatiando.vis import mpl, myv\n",
    "from matplotlib import colors, ticker, cm\n",
    "from IPython.display import Image as img\n",
    "from matplotlib.mlab import normpdf"
   ]
  },
  {
   "cell_type": "markdown",
   "metadata": {},
   "source": [
    "### Auxiliary functions"
   ]
  },
  {
   "cell_type": "code",
   "execution_count": 44,
   "metadata": {
    "collapsed": true
   },
   "outputs": [],
   "source": [
    "import sys\n",
    "sys.path.insert(0, '../../code')\n",
    "\n",
    "import mag_polyprism_functions as mfun"
   ]
  },
  {
   "cell_type": "markdown",
   "metadata": {},
   "source": [
    "# Input"
   ]
  },
  {
   "cell_type": "markdown",
   "metadata": {},
   "source": [
    "### Importing model parameters"
   ]
  },
  {
   "cell_type": "code",
   "execution_count": 45,
   "metadata": {},
   "outputs": [],
   "source": [
    "model_dir = 'data/model_real_obs_pts.pickle'\n",
    "data_dir = 'data/real_obs_pts/data.pickle'"
   ]
  },
  {
   "cell_type": "code",
   "execution_count": 46,
   "metadata": {},
   "outputs": [],
   "source": [
    "with open(model_dir) as w:\n",
    "        model = pickle.load(w)"
   ]
  },
  {
   "cell_type": "markdown",
   "metadata": {},
   "source": [
    "### Observation points and observed data"
   ]
  },
  {
   "cell_type": "code",
   "execution_count": 47,
   "metadata": {
    "collapsed": true
   },
   "outputs": [],
   "source": [
    "with open(data_dir) as w:\n",
    "        data = pickle.load(w)"
   ]
  },
  {
   "cell_type": "code",
   "execution_count": 48,
   "metadata": {},
   "outputs": [],
   "source": [
    "# observed data and observation points\n",
    "dobs = data['tfa_obs']\n",
    "xp = data['grid'][0]\n",
    "yp = data['grid'][1]\n",
    "zp = data['grid'][2]\n",
    "N = data['grid'][3]"
   ]
  },
  {
   "cell_type": "markdown",
   "metadata": {},
   "source": [
    "### Parameters of the initial model"
   ]
  },
  {
   "cell_type": "code",
   "execution_count": 49,
   "metadata": {},
   "outputs": [],
   "source": [
    "M = 15 # number of vertices per prism\n",
    "L = 10 # number of prisms\n",
    "P = L*(M+2) + 1 # number of parameters\n",
    "\n",
    "# magnetization\n",
    "incs = model['inc']# - 25.\n",
    "decs = model['dec']# - 25.\n",
    "intensity = model['intensity']\n",
    "\n",
    "# depth to the top, thickness and radius\n",
    "z0 = model['z0']\n",
    "dz = 800.\n",
    "r = 650.\n",
    "\n",
    "# total magnetization\n",
    "props = {'magnetization': utils.ang2vec(\n",
    "        intensity, incs, decs)}\n",
    "rin = np.zeros(M) + r\n",
    "m0 = np.hstack((rin, np.zeros(2)))\n",
    "m0 = np.resize(m0, P - 1) \n",
    "m0 = np.hstack((m0, dz)) # inicial parameters vector\n",
    "model0 = mfun.param2polyprism(m0, M, L, z0, props) # list of classes of prisms\n",
    "\n",
    "# main field\n",
    "inc, dec = [-21.5, -18.7]\n",
    "\n",
    "# predict data\n",
    "d0 = polyprism.tf(xp, yp, zp, model0, inc, dec)"
   ]
  },
  {
   "cell_type": "markdown",
   "metadata": {},
   "source": [
    "### Limits"
   ]
  },
  {
   "cell_type": "code",
   "execution_count": 50,
   "metadata": {},
   "outputs": [],
   "source": [
    "# limits for parameters in meters\n",
    "rmin = 100.\n",
    "rmax = 2000.\n",
    "x0min = -1500.\n",
    "x0max = 1500.\n",
    "y0min = -1500.\n",
    "y0max = 1500.\n",
    "dzmin = 200.\n",
    "dzmax = 1000.\n",
    "\n",
    "mmin, mmax = mfun.build_range_param(M, L, rmin, rmax, x0min, x0max, y0min, y0max, dzmin, dzmax)"
   ]
  },
  {
   "cell_type": "markdown",
   "metadata": {},
   "source": [
    "### Variation"
   ]
  },
  {
   "cell_type": "code",
   "execution_count": 51,
   "metadata": {},
   "outputs": [],
   "source": [
    "# variation for derivatives\n",
    "deltax = 0.01*np.max(x0max)\n",
    "deltay = 0.01*np.max(y0max)\n",
    "deltar = 0.01*np.max(rmax)\n",
    "deltaz = 0.01*np.max(dzmax)"
   ]
  },
  {
   "cell_type": "markdown",
   "metadata": {},
   "source": [
    "### Outcropping parameters"
   ]
  },
  {
   "cell_type": "code",
   "execution_count": 52,
   "metadata": {},
   "outputs": [],
   "source": [
    "# outcropping body parameters\n",
    "m_out = np.zeros(M + 2)\n",
    "#m_out = model['param_vec'][:M+2]"
   ]
  },
  {
   "cell_type": "markdown",
   "metadata": {},
   "source": [
    "### Folder to save the results"
   ]
  },
  {
   "cell_type": "raw",
   "metadata": {},
   "source": [
    "if data['grid'][4] == 'flightlines':\n",
    "    if incs == model['inc'] and decs == model['dec']:\n",
    "        mypath = data_dir[:-11]+'tfa_inversion/inc%d_dec%d_r%d_int%d_z0%d_dz%d' % (incs, decs, rin[0], np.linalg.norm(props['magnetization']), z0, dz)\n",
    "        if not os.path.isdir(mypath):\n",
    "           os.makedirs(mypath)\n",
    "    else:\n",
    "        mypath = data_dir[:-11]+'tfa_inversion/inc%d_dec%d_r%d_int%d_z0%d_dz%d' % (incs, decs, rin[0], np.linalg.norm(props['magnetization']), z0, dz)\n",
    "        if not os.path.isdir(mypath):\n",
    "           os.makedirs(mypath)\n",
    "else:\n",
    "    if incs == model['inc'] and decs == model['dec']:\n",
    "        mypath = data_dir[:-11]+'tfa_inversion/inc%d_dec%d_r%d_int%d_z0%d_dz%d' % (incs, decs, rin[0], np.linalg.norm(props['magnetization']), z0, dz)\n",
    "        if not os.path.isdir(mypath):\n",
    "           os.makedirs(mypath)\n",
    "    else:\n",
    "        mypath = data_dir[:-11]+'tfa_inversion/inc%d_dec%d_r%d_int%d_z0%d_dz%d' % (incs, decs, rin[0], np.linalg.norm(props['magnetization']), z0, dz)\n",
    "        if not os.path.isdir(mypath):\n",
    "           os.makedirs(mypath)"
   ]
  },
  {
   "cell_type": "code",
   "execution_count": 53,
   "metadata": {},
   "outputs": [],
   "source": [
    "mypath = data_dir[:-11]+'tfa_inversion/inc%d_dec%d_r%d_int%d_z0%d_dz%d' % (incs, decs, rin[0], np.linalg.norm(props['magnetization']), z0, dz)\n",
    "if not os.path.isdir(mypath):\n",
    "    os.makedirs(mypath)"
   ]
  },
  {
   "cell_type": "code",
   "execution_count": 54,
   "metadata": {},
   "outputs": [],
   "source": [
    "# output of inversion\n",
    "inversion = dict()"
   ]
  },
  {
   "cell_type": "markdown",
   "metadata": {},
   "source": [
    "### Regularization parameters"
   ]
  },
  {
   "cell_type": "code",
   "execution_count": 55,
   "metadata": {
    "collapsed": true
   },
   "outputs": [],
   "source": [
    "#lamb = th*0.01 # Marquadt's parameter\n",
    "lamb = 1000.00\n",
    "dlamb = 10.      # step for Marquadt's parameter\n",
    "\n",
    "a1 = 0.00007  # adjacent radial distances within each prism\n",
    "a2 = 0.0001   # vertically adjacent radial distances\n",
    "a3 = 0.     # outcropping cross-section\n",
    "a4 = 0.     # outcropping origin\n",
    "a5 = 0.008     # vertically adjacent origins\n",
    "a6 = 0.0000001   # zero order Tikhonov on adjacent radial distances\n",
    "a7 = 0.0005     # zero order Tikhonov on thickness of each prism"
   ]
  },
  {
   "cell_type": "code",
   "execution_count": 56,
   "metadata": {},
   "outputs": [],
   "source": [
    "delta = np.array([deltax, deltay, deltar, deltaz])\n",
    "alpha = np.array([a1, a2, a3, a4, a5, a6, a7])"
   ]
  },
  {
   "cell_type": "code",
   "execution_count": 57,
   "metadata": {},
   "outputs": [],
   "source": [
    "itmax = 40\n",
    "itmax_marq = 10\n",
    "tol = 1.0e-4     # stop criterion"
   ]
  },
  {
   "cell_type": "code",
   "execution_count": 58,
   "metadata": {},
   "outputs": [],
   "source": [
    "inversion['x'] = xp\n",
    "inversion['y'] = yp\n",
    "inversion['z'] = zp\n",
    "inversion['observed_data'] = dobs"
   ]
  },
  {
   "cell_type": "code",
   "execution_count": 59,
   "metadata": {},
   "outputs": [],
   "source": [
    "inversion['inc_dec'] = [incs, decs]\n",
    "inversion['z0'] = z0\n",
    "inversion['initial_dz'] = dz\n",
    "inversion['intial_r'] = r\n",
    "inversion['initial_estimate'] = model0\n",
    "inversion['initial_data'] = d0\n",
    "inversion['limits'] = [rmin, rmax, x0min, x0max, y0min, y0max, dzmin, dzmax]\n",
    "inversion['regularization'] = alpha\n",
    "inversion['tol'] = tol\n",
    "inversion['main_field'] = [-21.5, -18.7]"
   ]
  },
  {
   "cell_type": "code",
   "execution_count": 60,
   "metadata": {},
   "outputs": [
    {
     "data": {
      "image/png": "[encoded data removed]",
      "text/plain": [
       "<Figure size 432x360 with 2 Axes>"
      ]
     },
     "metadata": {
      "needs_background": "light"
     },
     "output_type": "display_data"
    }
   ],
   "source": [
    "plt.figure(figsize=(6,5))\n",
    "plt.title('Predict TFA', fontsize=20)\n",
    "plt.tricontourf(yp, xp, dobs, 20, cmap='viridis').ax.tick_params(labelsize=12)\n",
    "plt.xlabel('$y$(km)', fontsize=18)\n",
    "plt.ylabel('$x$(km)', fontsize=18)\n",
    "clb = plt.colorbar(pad=0.025, aspect=40, shrink=1)\n",
    "clb.ax.tick_params(labelsize=13)\n",
    "#source = mpl.polygon(kimberlite_model['prisms'][0], '.-k', xy2ne=True)\n",
    "estimate = mpl.polygon(model0[0], '.-r', xy2ne=True)\n",
    "#source.set_label('Outcropping polygon')\n",
    "estimate.set_label('Initial estimate')\n",
    "clb.ax.set_title('nT')\n",
    "mpl.m2km()\n",
    "plt.legend(loc=0, fontsize=12, shadow=bool, framealpha=1)\n",
    "#plt.savefig(mypath+'diorama_tfa_pred_data_true_inital.png', dpi=300)\n",
    "plt.show()\n",
    "\n",
    "#img(filename=mypath+'diorama_tfa_pred_data_true_inital.png', width=1000, height=1200)"
   ]
  },
  {
   "cell_type": "code",
   "execution_count": 61,
   "metadata": {},
   "outputs": [
    {
     "data": {
      "image/png": "[encoded data removed]",
      "text/plain": [
       "<Figure size 432x360 with 2 Axes>"
      ]
     },
     "metadata": {
      "needs_background": "light"
     },
     "output_type": "display_data"
    }
   ],
   "source": [
    "plt.figure(figsize=(6,5))\n",
    "plt.title('Predict TFA', fontsize=20)\n",
    "plt.tricontourf(yp, xp, d0, 20, cmap='viridis').ax.tick_params(labelsize=12)\n",
    "plt.xlabel('$y$(km)', fontsize=18)\n",
    "plt.ylabel('$x$(km)', fontsize=18)\n",
    "clb = plt.colorbar(pad=0.025, aspect=40, shrink=1)\n",
    "clb.ax.tick_params(labelsize=13)\n",
    "#source = mpl.polygon(kimberlite_model['prisms'][0], '.-k', xy2ne=True)\n",
    "estimate = mpl.polygon(model0[0], '.-r', xy2ne=True)\n",
    "#source.set_label('Outcropping polygon')\n",
    "estimate.set_label('Initial estimate')\n",
    "clb.ax.set_title('nT')\n",
    "mpl.m2km()\n",
    "plt.legend(loc=0, fontsize=12, shadow=bool, framealpha=1)\n",
    "#plt.savefig(mypath+'diorama_tfa_pred_data_true_inital.png', dpi=300)\n",
    "plt.show()\n",
    "\n",
    "#img(filename=mypath+'diorama_tfa_pred_data_true_inital.png', width=1000, height=1200)"
   ]
  },
  {
   "cell_type": "markdown",
   "metadata": {},
   "source": [
    "### Inversion"
   ]
  },
  {
   "cell_type": "code",
   "execution_count": 62,
   "metadata": {},
   "outputs": [
    {
     "name": "stdout",
     "output_type": "stream",
     "text": [
      "it:  0   it_marq:  0   lambda: 1e+03   misfit: 8.80664e+04\n",
      "it:  1   it_marq:  0   lambda: 1e+02   misfit: 7.44561e+04\n",
      "it:  2   it_marq:  0   lambda: 1e+01   misfit: 3.34592e+04\n",
      "it:  3   it_marq:  0   lambda: 1e+00   misfit: 1.13408e+04\n",
      "it:  4   it_marq:  0   lambda: 1e-01   misfit: 2.15139e+03\n",
      "it:  5   it_marq:  0   lambda: 1e-02   misfit: 3.54270e+04\n",
      "it:  5   it_marq:  1   lambda: 1e-01   misfit: 3.54340e+04\n",
      "it:  5   it_marq:  2   lambda: 1e+00   misfit: 3.08807e+04\n",
      "it:  5   it_marq:  3   lambda: 1e+01   misfit: 2.64363e+04\n",
      "it:  5   it_marq:  4   lambda: 1e+02   misfit: 1.49383e+04\n",
      "it:  5   it_marq:  5   lambda: 1e+03   misfit: 2.11975e+03\n",
      "it:  6   it_marq:  0   lambda: 1e+02   misfit: 6.46426e+03\n",
      "it:  6   it_marq:  1   lambda: 1e+03   misfit: 2.08856e+03\n",
      "it:  7   it_marq:  0   lambda: 1e+02   misfit: 6.40580e+03\n",
      "it:  7   it_marq:  1   lambda: 1e+03   misfit: 2.05875e+03\n",
      "it:  8   it_marq:  0   lambda: 1e+02   misfit: 6.34879e+03\n",
      "it:  8   it_marq:  1   lambda: 1e+03   misfit: 2.03028e+03\n",
      "it:  9   it_marq:  0   lambda: 1e+02   misfit: 6.29276e+03\n",
      "it:  9   it_marq:  1   lambda: 1e+03   misfit: 2.00303e+03\n",
      "it: 10   it_marq:  0   lambda: 1e+02   misfit: 5.92024e+03\n",
      "it: 10   it_marq:  1   lambda: 1e+03   misfit: 1.97697e+03\n",
      "it: 11   it_marq:  0   lambda: 1e+02   misfit: 3.43918e+03\n",
      "it: 11   it_marq:  1   lambda: 1e+03   misfit: 1.95198e+03\n",
      "it: 12   it_marq:  0   lambda: 1e+02   misfit: 2.26686e+03\n",
      "it: 12   it_marq:  1   lambda: 1e+03   misfit: 1.92804e+03\n",
      "it: 13   it_marq:  0   lambda: 1e+02   misfit: 2.03365e+03\n",
      "it: 13   it_marq:  1   lambda: 1e+03   misfit: 1.90504e+03\n",
      "it: 14   it_marq:  0   lambda: 1e+02   misfit: 1.90933e+03\n",
      "it: 14   it_marq:  1   lambda: 1e+03   misfit: 1.88298e+03\n",
      "it: 15   it_marq:  0   lambda: 1e+02   misfit: 1.74261e+03\n",
      "it: 16   it_marq:  0   lambda: 1e+01   misfit: 1.15452e+03\n",
      "it: 17   it_marq:  0   lambda: 1e+00   misfit: 1.74898e+03\n",
      "it: 17   it_marq:  1   lambda: 1e+01   misfit: 1.81513e+03\n",
      "it: 17   it_marq:  2   lambda: 1e+02   misfit: 1.11364e+03\n",
      "it: 18   it_marq:  0   lambda: 1e+01   misfit: 1.77278e+03\n",
      "it: 18   it_marq:  1   lambda: 1e+02   misfit: 1.07885e+03\n",
      "it: 19   it_marq:  0   lambda: 1e+01   misfit: 1.73692e+03\n",
      "it: 19   it_marq:  1   lambda: 1e+02   misfit: 1.04847e+03\n",
      "it: 20   it_marq:  0   lambda: 1e+01   misfit: 1.67731e+03\n",
      "it: 20   it_marq:  1   lambda: 1e+02   misfit: 1.02129e+03\n",
      "it: 21   it_marq:  0   lambda: 1e+01   misfit: 1.06763e+03\n",
      "it: 21   it_marq:  1   lambda: 1e+02   misfit: 9.96553e+02\n",
      "it: 22   it_marq:  0   lambda: 1e+01   misfit: 8.36349e+02\n",
      "it: 23   it_marq:  0   lambda: 1e+00   misfit: 4.23976e+02\n",
      "it: 24   it_marq:  0   lambda: 1e-01   misfit: 8.64052e+02\n",
      "it: 24   it_marq:  1   lambda: 1e+00   misfit: 2.77267e+02\n",
      "it: 25   it_marq:  0   lambda: 1e-01   misfit: 8.90306e+02\n",
      "it: 25   it_marq:  1   lambda: 1e+00   misfit: 2.12466e+02\n",
      "it: 26   it_marq:  0   lambda: 1e-01   misfit: 6.55106e+02\n",
      "it: 26   it_marq:  1   lambda: 1e+00   misfit: 1.77002e+02\n",
      "it: 27   it_marq:  0   lambda: 1e-01   misfit: 9.03123e+02\n",
      "it: 27   it_marq:  1   lambda: 1e+00   misfit: 1.55462e+02\n",
      "it: 28   it_marq:  0   lambda: 1e-01   misfit: 7.39904e+02\n",
      "it: 28   it_marq:  1   lambda: 1e+00   misfit: 1.41411e+02\n",
      "it: 29   it_marq:  0   lambda: 1e-01   misfit: 5.17131e+02\n",
      "it: 29   it_marq:  1   lambda: 1e+00   misfit: 1.31744e+02\n",
      "it: 30   it_marq:  0   lambda: 1e-01   misfit: 3.73477e+02\n",
      "it: 30   it_marq:  1   lambda: 1e+00   misfit: 1.24814e+02\n",
      "it: 31   it_marq:  0   lambda: 1e-01   misfit: 2.42217e+02\n",
      "it: 31   it_marq:  1   lambda: 1e+00   misfit: 1.19681e+02\n",
      "it: 32   it_marq:  0   lambda: 1e-01   misfit: 1.45455e+02\n",
      "it: 32   it_marq:  1   lambda: 1e+00   misfit: 1.33898e+02\n",
      "it: 32   it_marq:  2   lambda: 1e+01   misfit: 1.19228e+02\n",
      "it: 33   it_marq:  0   lambda: 1e+00   misfit: 1.33542e+02\n",
      "it: 33   it_marq:  1   lambda: 1e+01   misfit: 1.18778e+02\n",
      "it: 34   it_marq:  0   lambda: 1e+00   misfit: 1.15064e+02\n",
      "it: 35   it_marq:  0   lambda: 1e-01   misfit: 1.02667e+02\n",
      "it: 36   it_marq:  0   lambda: 1e-02   misfit: 1.02853e+02\n",
      "it: 36   it_marq:  1   lambda: 1e-01   misfit: 9.74439e+01\n",
      "it: 37   it_marq:  0   lambda: 1e-02   misfit: 9.84107e+01\n",
      "it: 37   it_marq:  1   lambda: 1e-01   misfit: 9.51524e+01\n",
      "it: 38   it_marq:  0   lambda: 1e-02   misfit: 1.01078e+02\n",
      "it: 38   it_marq:  1   lambda: 1e-01   misfit: 9.36519e+01\n",
      "it: 39   it_marq:  0   lambda: 1e-02   misfit: 1.04071e+02\n",
      "it: 39   it_marq:  1   lambda: 1e-01   misfit: 9.22812e+01\n"
     ]
    }
   ],
   "source": [
    "d_fit, m_est, model_est, phi_list, model_list, res_list = mfun.levmarq_tf(\n",
    "    xp, yp, zp, m0, M, L, delta,\n",
    "    itmax, itmax_marq, lamb,\n",
    "    dlamb, tol, mmin, mmax,\n",
    "    m_out, dobs, inc, dec,\n",
    "    props, alpha, z0, dz\n",
    ")"
   ]
  },
  {
   "cell_type": "markdown",
   "metadata": {},
   "source": [
    "# Results"
   ]
  },
  {
   "cell_type": "code",
   "execution_count": 63,
   "metadata": {},
   "outputs": [],
   "source": [
    "inversion['data_fit'] = d_fit\n",
    "inversion['estimate'] = m_est\n",
    "inversion['prisms'] = model_est\n",
    "inversion['estimated_models'] = model_list\n",
    "inversion['objective'] = phi_list\n",
    "inversion['residual'] = dobs - d_fit\n",
    "inversion['residual_list'] = res_list"
   ]
  },
  {
   "cell_type": "code",
   "execution_count": 64,
   "metadata": {},
   "outputs": [],
   "source": [
    "file_name = mypath+'/inversion.pickle'\n",
    "with open(file_name, 'w') as f:\n",
    "    pickle.dump(inversion, f)"
   ]
  }
 ],
 "metadata": {
  "anaconda-cloud": {},
  "kernelspec": {
   "display_name": "Python 2",
   "language": "python",
   "name": "python2"
  },
  "language_info": {
   "codemirror_mode": {
    "name": "ipython",
    "version": 2
   },
   "file_extension": ".py",
   "mimetype": "text/x-python",
   "name": "python",
   "nbconvert_exporter": "python",
   "pygments_lexer": "ipython2",
   "version": "2.7.16"
  }
 },
 "nbformat": 4,
 "nbformat_minor": 2
}
