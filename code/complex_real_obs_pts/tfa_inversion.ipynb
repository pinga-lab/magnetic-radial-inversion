{
 "cells": [
  {
   "cell_type": "markdown",
   "metadata": {},
   "source": [
    "# Complex body TFA Inversion"
   ]
  },
  {
   "cell_type": "markdown",
   "metadata": {},
   "source": [
    "This notebook performs the inversion using Levenberg-Marquadt's algorithm of total field anomaly (TFA) data on a regular grid of a model with a complex geometry."
   ]
  },
  {
   "cell_type": "code",
   "execution_count": 155,
   "metadata": {},
   "outputs": [],
   "source": [
    "import numpy as np\n",
    "import matplotlib.pyplot as plt\n",
    "import cPickle as pickle\n",
    "import os\n",
    "\n",
    "from fatiando import utils\n",
    "from fatiando.gravmag import polyprism\n",
    "from fatiando.vis import mpl"
   ]
  },
  {
   "cell_type": "markdown",
   "metadata": {},
   "source": [
    "### Auxiliary functions"
   ]
  },
  {
   "cell_type": "code",
   "execution_count": 156,
   "metadata": {
    "collapsed": true
   },
   "outputs": [],
   "source": [
    "import sys\n",
    "sys.path.insert(0, '../../code')\n",
    "\n",
    "import mag_polyprism_functions as mfun"
   ]
  },
  {
   "cell_type": "markdown",
   "metadata": {},
   "source": [
    "# Input"
   ]
  },
  {
   "cell_type": "markdown",
   "metadata": {},
   "source": [
    "### Importing model parameters"
   ]
  },
  {
   "cell_type": "code",
   "execution_count": 157,
   "metadata": {},
   "outputs": [],
   "source": [
    "model_dir = 'data/model_real_obs_pts.pickle'\n",
    "data_dir = 'data/real_obs_pts/data.pickle'"
   ]
  },
  {
   "cell_type": "code",
   "execution_count": 158,
   "metadata": {},
   "outputs": [],
   "source": [
    "with open(model_dir) as w:\n",
    "        model = pickle.load(w)"
   ]
  },
  {
   "cell_type": "markdown",
   "metadata": {},
   "source": [
    "### Observation points and observed data"
   ]
  },
  {
   "cell_type": "code",
   "execution_count": 159,
   "metadata": {
    "collapsed": true
   },
   "outputs": [],
   "source": [
    "with open(data_dir) as w:\n",
    "        data = pickle.load(w)"
   ]
  },
  {
   "cell_type": "code",
   "execution_count": 160,
   "metadata": {},
   "outputs": [],
   "source": [
    "# observed data and observation points\n",
    "dobs = data['tfa_obs']\n",
    "xp = data['grid'][0]\n",
    "yp = data['grid'][1]\n",
    "zp = data['grid'][2]\n",
    "N = data['grid'][3]"
   ]
  },
  {
   "cell_type": "markdown",
   "metadata": {},
   "source": [
    "### Parameters of the initial model"
   ]
  },
  {
   "cell_type": "code",
   "execution_count": 161,
   "metadata": {},
   "outputs": [],
   "source": [
    "M = 20 # number of vertices per prism\n",
    "L = 10 # number of prisms\n",
    "P = L*(M+2) + 1 # number of parameters\n",
    "\n",
    "# depth to the top, thickness, origin, magnetization and radius\n",
    "incs = model['inc']\n",
    "decs = model['dec']\n",
    "intensity = model['intensity']\n",
    "z0 = model['z0']\n",
    "dz = 650.\n",
    "r = 800.\n",
    "x0 = -300.\n",
    "y0 = 300.\n",
    "\n",
    "# main field\n",
    "inc, dec = data['main_field']\n",
    "\n",
    "model0, m0 = mfun.initial_cylinder(M, L, x0,\n",
    "        y0, z0, dz, r, inc, dec, incs, decs, intensity)\n",
    "\n",
    "# predict data\n",
    "d0 = polyprism.tf(xp, yp, zp, model0, inc, dec)"
   ]
  },
  {
   "cell_type": "markdown",
   "metadata": {},
   "source": [
    "### Limits"
   ]
  },
  {
   "cell_type": "code",
   "execution_count": 162,
   "metadata": {},
   "outputs": [],
   "source": [
    "# limits for parameters in meters\n",
    "rmin = 10.\n",
    "rmax = 3000.\n",
    "x0min = -4000.\n",
    "x0max = 4000.\n",
    "y0min = -4000.\n",
    "y0max = 400.\n",
    "dzmin = 200.\n",
    "dzmax = 1000.\n",
    "\n",
    "mmin, mmax = mfun.build_range_param(M, L, rmin, rmax, x0min, x0max, y0min, y0max, dzmin, dzmax)"
   ]
  },
  {
   "cell_type": "markdown",
   "metadata": {},
   "source": [
    "### Variation"
   ]
  },
  {
   "cell_type": "code",
   "execution_count": 163,
   "metadata": {},
   "outputs": [],
   "source": [
    "# variation for derivatives\n",
    "deltax = 0.01*np.max(1000.)\n",
    "deltay = 0.01*np.max(1000.)\n",
    "deltar = 0.01*np.max(1000.)\n",
    "deltaz = 0.01*np.max(100.)"
   ]
  },
  {
   "cell_type": "markdown",
   "metadata": {},
   "source": [
    "### Outcropping parameters"
   ]
  },
  {
   "cell_type": "code",
   "execution_count": 164,
   "metadata": {},
   "outputs": [],
   "source": [
    "# outcropping body parameters\n",
    "m_out = np.zeros(M + 2)\n",
    "#m_out = model['param_vec'][:M+2]"
   ]
  },
  {
   "cell_type": "markdown",
   "metadata": {},
   "source": [
    "### Folder to save the results"
   ]
  },
  {
   "cell_type": "code",
   "execution_count": 165,
   "metadata": {},
   "outputs": [],
   "source": [
    "mypath = data_dir[:-11]+'tfa_inversion/inc%d_dec%d_r%d_int%d_z0%d_dz%d' % (incs, decs, r, intensity, z0, dz)\n",
    "if not os.path.isdir(mypath):\n",
    "    os.makedirs(mypath)"
   ]
  },
  {
   "cell_type": "code",
   "execution_count": 166,
   "metadata": {},
   "outputs": [],
   "source": [
    "# output of inversion\n",
    "inversion = dict()"
   ]
  },
  {
   "cell_type": "markdown",
   "metadata": {},
   "source": [
    "### Regularization parameters"
   ]
  },
  {
   "cell_type": "code",
   "execution_count": 167,
   "metadata": {
    "collapsed": true
   },
   "outputs": [],
   "source": [
    "#lamb = th*0.01 # Marquadt's parameter\n",
    "lamb = 10.0\n",
    "dlamb = 10.      # step for Marquadt's parameter\n",
    "\n",
    "a1 = 1.0e-4  # adjacent radial distances within each prism\n",
    "a2 = 1.0e-4   # vertically adjacent radial distances\n",
    "a3 = 0.     # outcropping cross-section\n",
    "a4 = 0.     # outcropping origin\n",
    "a5 = 1.0e-4     # vertically adjacent origins\n",
    "a6 = 1.0e-8   # zero order Tikhonov on adjacent radial distances\n",
    "a7 = 1.0e-4     # zero order Tikhonov on thickness of each prism"
   ]
  },
  {
   "cell_type": "code",
   "execution_count": 168,
   "metadata": {},
   "outputs": [],
   "source": [
    "delta = np.array([deltax, deltay, deltar, deltaz])\n",
    "alpha = np.array([a1, a2, a3, a4, a5, a6, a7])"
   ]
  },
  {
   "cell_type": "code",
   "execution_count": 169,
   "metadata": {},
   "outputs": [],
   "source": [
    "itmax = 30\n",
    "itmax_marq = 10\n",
    "tol = 1.0e-4     # stop criterion"
   ]
  },
  {
   "cell_type": "code",
   "execution_count": 170,
   "metadata": {},
   "outputs": [],
   "source": [
    "inversion['x'] = xp\n",
    "inversion['y'] = yp\n",
    "inversion['z'] = zp\n",
    "inversion['observed_data'] = dobs"
   ]
  },
  {
   "cell_type": "code",
   "execution_count": 171,
   "metadata": {},
   "outputs": [],
   "source": [
    "inversion['inc_dec'] = [incs, decs]\n",
    "inversion['z0'] = z0\n",
    "inversion['initial_dz'] = dz\n",
    "inversion['intial_r'] = r\n",
    "inversion['initial_estimate'] = model0\n",
    "inversion['initial_data'] = d0\n",
    "inversion['limits'] = [rmin, rmax, x0min, x0max, y0min, y0max, dzmin, dzmax]\n",
    "inversion['regularization'] = alpha\n",
    "inversion['tol'] = tol\n",
    "inversion['main_field'] = [-21.5, -18.7]"
   ]
  },
  {
   "cell_type": "code",
   "execution_count": 172,
   "metadata": {},
   "outputs": [
    {
     "data": {
      "image/png": "[encoded data removed]",
      "text/plain": [
       "<Figure size 432x360 with 2 Axes>"
      ]
     },
     "metadata": {
      "needs_background": "light"
     },
     "output_type": "display_data"
    }
   ],
   "source": [
    "plt.figure(figsize=(6,5))\n",
    "plt.title('Observed TFA', fontsize=20)\n",
    "plt.tricontourf(yp, xp, dobs, 20, cmap='RdBu_r').ax.tick_params(labelsize=12)\n",
    "plt.xlabel('$y$(km)', fontsize=18)\n",
    "plt.ylabel('$x$(km)', fontsize=18)\n",
    "clb = plt.colorbar(pad=0.025, aspect=40, shrink=1)\n",
    "clb.ax.tick_params(labelsize=13)\n",
    "source = mpl.polygon(model['prisms'][0], '.-k', xy2ne=True)\n",
    "estimate = mpl.polygon(model0[0], '.-y', xy2ne=True)\n",
    "#source.set_label('Outcropping polygon')\n",
    "estimate.set_label('Initial estimate')\n",
    "clb.ax.set_title('nT')\n",
    "mpl.m2km()\n",
    "plt.legend(loc=0, fontsize=12, shadow=bool, framealpha=1)\n",
    "#plt.savefig(mypath+'diorama_tfa_pred_data_true_inital.png', dpi=300)\n",
    "plt.show()\n",
    "\n",
    "#img(filename=mypath+'diorama_tfa_pred_data_true_inital.png', width=1000, height=1200)"
   ]
  },
  {
   "cell_type": "code",
   "execution_count": 173,
   "metadata": {},
   "outputs": [
    {
     "data": {
      "image/png": "[encoded data removed]",
      "text/plain": [
       "<Figure size 432x360 with 2 Axes>"
      ]
     },
     "metadata": {
      "needs_background": "light"
     },
     "output_type": "display_data"
    }
   ],
   "source": [
    "plt.figure(figsize=(6,5))\n",
    "plt.title('Predicted TFA', fontsize=20)\n",
    "plt.tricontourf(yp, xp, d0, 20, cmap='RdBu_r').ax.tick_params(labelsize=12)\n",
    "plt.xlabel('$y$(km)', fontsize=18)\n",
    "plt.ylabel('$x$(km)', fontsize=18)\n",
    "clb = plt.colorbar(pad=0.025, aspect=40, shrink=1)\n",
    "clb.ax.tick_params(labelsize=13)\n",
    "estimate = mpl.polygon(model0[0], '.-y', xy2ne=True)\n",
    "estimate.set_label('Initial estimate')\n",
    "clb.ax.set_title('nT')\n",
    "mpl.m2km()\n",
    "plt.legend(loc=0, fontsize=12, shadow=bool, framealpha=1)\n",
    "plt.show()"
   ]
  },
  {
   "cell_type": "markdown",
   "metadata": {},
   "source": [
    "### Inversion"
   ]
  },
  {
   "cell_type": "code",
   "execution_count": 174,
   "metadata": {},
   "outputs": [
    {
     "name": "stdout",
     "output_type": "stream",
     "text": [
      "it:  0   it_marq:  0   lambda: 1e+01   init obj.: 2.64172e+04  fin obj.: 1.10944e+04\n",
      "it:  1   it_marq:  0   lambda: 1e+00   init obj.: 1.10944e+04  fin obj.: 2.33617e+03\n",
      "it:  2   it_marq:  0   lambda: 1e-01   init obj.: 2.33617e+03  fin obj.: 4.76746e+02\n",
      "it:  3   it_marq:  0   lambda: 1e-02   init obj.: 4.76746e+02  fin obj.: 2.01806e+02\n",
      "it:  4   it_marq:  0   lambda: 1e-03   init obj.: 2.01806e+02  fin obj.: 9.66732e+01\n",
      "it:  5   it_marq:  0   lambda: 1e-04   init obj.: 9.66732e+01  fin obj.: 9.85015e+01\n",
      "it:  5   it_marq:  1   lambda: 1e-03   init obj.: 9.66732e+01  fin obj.: 9.83188e+01\n",
      "it:  5   it_marq:  2   lambda: 1e-02   init obj.: 9.66732e+01  fin obj.: 9.67282e+01\n",
      "it:  5   it_marq:  3   lambda: 1e-01   init obj.: 9.66732e+01  fin obj.: 9.56528e+01\n",
      "it:  6   it_marq:  0   lambda: 1e-02   init obj.: 9.56528e+01  fin obj.: 9.59301e+01\n",
      "it:  6   it_marq:  1   lambda: 1e-01   init obj.: 9.56528e+01  fin obj.: 9.50038e+01\n",
      "it:  7   it_marq:  0   lambda: 1e-02   init obj.: 9.50038e+01  fin obj.: 9.53446e+01\n",
      "it:  7   it_marq:  1   lambda: 1e-01   init obj.: 9.50038e+01  fin obj.: 9.45333e+01\n",
      "it:  8   it_marq:  0   lambda: 1e-02   init obj.: 9.45333e+01  fin obj.: 9.48842e+01\n",
      "it:  8   it_marq:  1   lambda: 1e-01   init obj.: 9.45333e+01  fin obj.: 9.41493e+01\n",
      "it:  9   it_marq:  0   lambda: 1e-02   init obj.: 9.41493e+01  fin obj.: 9.44939e+01\n",
      "it:  9   it_marq:  1   lambda: 1e-01   init obj.: 9.41493e+01  fin obj.: 9.38138e+01\n",
      "it: 10   it_marq:  0   lambda: 1e-02   init obj.: 9.38138e+01  fin obj.: 9.41494e+01\n",
      "it: 10   it_marq:  1   lambda: 1e-01   init obj.: 9.38138e+01  fin obj.: 9.35108e+01\n",
      "it: 11   it_marq:  0   lambda: 1e-02   init obj.: 9.35108e+01  fin obj.: 9.38379e+01\n",
      "it: 11   it_marq:  1   lambda: 1e-01   init obj.: 9.35108e+01  fin obj.: 9.32317e+01\n",
      "it: 12   it_marq:  0   lambda: 1e-02   init obj.: 9.32317e+01  fin obj.: 9.35518e+01\n",
      "it: 12   it_marq:  1   lambda: 1e-01   init obj.: 9.32317e+01  fin obj.: 9.29715e+01\n",
      "it: 13   it_marq:  0   lambda: 1e-02   init obj.: 9.29715e+01  fin obj.: 9.32859e+01\n",
      "it: 13   it_marq:  1   lambda: 1e-01   init obj.: 9.29715e+01  fin obj.: 9.27265e+01\n",
      "it: 14   it_marq:  0   lambda: 1e-02   init obj.: 9.27265e+01  fin obj.: 9.30366e+01\n",
      "it: 14   it_marq:  1   lambda: 1e-01   init obj.: 9.27265e+01  fin obj.: 9.24943e+01\n",
      "it: 15   it_marq:  0   lambda: 1e-02   init obj.: 9.24943e+01  fin obj.: 9.28011e+01\n",
      "it: 15   it_marq:  1   lambda: 1e-01   init obj.: 9.24943e+01  fin obj.: 9.22727e+01\n",
      "it: 16   it_marq:  0   lambda: 1e-02   init obj.: 9.22727e+01  fin obj.: 9.25771e+01\n",
      "it: 16   it_marq:  1   lambda: 1e-01   init obj.: 9.22727e+01  fin obj.: 9.20603e+01\n",
      "it: 17   it_marq:  0   lambda: 1e-02   init obj.: 9.20603e+01  fin obj.: 9.23630e+01\n",
      "it: 17   it_marq:  1   lambda: 1e-01   init obj.: 9.20603e+01  fin obj.: 9.18557e+01\n",
      "it: 18   it_marq:  0   lambda: 1e-02   init obj.: 9.18557e+01  fin obj.: 9.21573e+01\n",
      "it: 18   it_marq:  1   lambda: 1e-01   init obj.: 9.18557e+01  fin obj.: 9.16577e+01\n",
      "it: 19   it_marq:  0   lambda: 1e-02   init obj.: 9.16577e+01  fin obj.: 9.19589e+01\n",
      "it: 19   it_marq:  1   lambda: 1e-01   init obj.: 9.16577e+01  fin obj.: 9.14657e+01\n",
      "it: 20   it_marq:  0   lambda: 1e-02   init obj.: 9.14657e+01  fin obj.: 9.17668e+01\n",
      "it: 20   it_marq:  1   lambda: 1e-01   init obj.: 9.14657e+01  fin obj.: 9.12787e+01\n",
      "it: 21   it_marq:  0   lambda: 1e-02   init obj.: 9.12787e+01  fin obj.: 9.15801e+01\n",
      "it: 21   it_marq:  1   lambda: 1e-01   init obj.: 9.12787e+01  fin obj.: 9.10962e+01\n",
      "it: 22   it_marq:  0   lambda: 1e-02   init obj.: 9.10962e+01  fin obj.: 9.13982e+01\n",
      "it: 22   it_marq:  1   lambda: 1e-01   init obj.: 9.10962e+01  fin obj.: 9.09177e+01\n",
      "it: 23   it_marq:  0   lambda: 1e-02   init obj.: 9.09177e+01  fin obj.: 9.12205e+01\n",
      "it: 23   it_marq:  1   lambda: 1e-01   init obj.: 9.09177e+01  fin obj.: 9.07426e+01\n",
      "it: 24   it_marq:  0   lambda: 1e-02   init obj.: 9.07426e+01  fin obj.: 9.10466e+01\n",
      "it: 24   it_marq:  1   lambda: 1e-01   init obj.: 9.07426e+01  fin obj.: 9.05707e+01\n",
      "it: 25   it_marq:  0   lambda: 1e-02   init obj.: 9.05707e+01  fin obj.: 9.08761e+01\n",
      "it: 25   it_marq:  1   lambda: 1e-01   init obj.: 9.05707e+01  fin obj.: 9.04016e+01\n",
      "it: 26   it_marq:  0   lambda: 1e-02   init obj.: 9.04016e+01  fin obj.: 9.07085e+01\n",
      "it: 26   it_marq:  1   lambda: 1e-01   init obj.: 9.04016e+01  fin obj.: 9.02349e+01\n",
      "it: 27   it_marq:  0   lambda: 1e-02   init obj.: 9.02349e+01  fin obj.: 9.05436e+01\n",
      "it: 27   it_marq:  1   lambda: 1e-01   init obj.: 9.02349e+01  fin obj.: 9.00705e+01\n",
      "it: 28   it_marq:  0   lambda: 1e-02   init obj.: 9.00705e+01  fin obj.: 9.03811e+01\n",
      "it: 28   it_marq:  1   lambda: 1e-01   init obj.: 9.00705e+01  fin obj.: 8.99080e+01\n",
      "it: 29   it_marq:  0   lambda: 1e-02   init obj.: 8.99080e+01  fin obj.: 9.02208e+01\n",
      "it: 29   it_marq:  1   lambda: 1e-01   init obj.: 8.99080e+01  fin obj.: 8.97474e+01\n"
     ]
    }
   ],
   "source": [
    "d_fit, m_est, model_est, phi_list, model_list, res_list = mfun.levmarq_tf(\n",
    "    xp, yp, zp, m0, M, L, delta,\n",
    "    itmax, itmax_marq, lamb,\n",
    "    dlamb, tol, mmin, mmax,\n",
    "    m_out, dobs, inc, dec,\n",
    "    model0[0].props, alpha, z0, dz\n",
    ")"
   ]
  },
  {
   "cell_type": "markdown",
   "metadata": {},
   "source": [
    "# Results"
   ]
  },
  {
   "cell_type": "code",
   "execution_count": 175,
   "metadata": {},
   "outputs": [],
   "source": [
    "inversion['data_fit'] = d_fit\n",
    "inversion['estimate'] = m_est\n",
    "inversion['prisms'] = model_est\n",
    "inversion['estimated_models'] = model_list\n",
    "inversion['objective'] = phi_list\n",
    "inversion['residual'] = dobs - d_fit\n",
    "inversion['residual_list'] = res_list"
   ]
  },
  {
   "cell_type": "code",
   "execution_count": 176,
   "metadata": {},
   "outputs": [],
   "source": [
    "file_name = mypath+'/inversion.pickle'\n",
    "with open(file_name, 'w') as f:\n",
    "    pickle.dump(inversion, f)"
   ]
  }
 ],
 "metadata": {
  "anaconda-cloud": {},
  "kernelspec": {
   "display_name": "Python 2",
   "language": "python",
   "name": "python2"
  },
  "language_info": {
   "codemirror_mode": {
    "name": "ipython",
    "version": 2
   },
   "file_extension": ".py",
   "mimetype": "text/x-python",
   "name": "python",
   "nbconvert_exporter": "python",
   "pygments_lexer": "ipython2",
   "version": "2.7.16"
  }
 },
 "nbformat": 4,
 "nbformat_minor": 2
}
