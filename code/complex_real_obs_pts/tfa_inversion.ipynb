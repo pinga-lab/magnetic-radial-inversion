{
 "cells": [
  {
   "cell_type": "markdown",
   "metadata": {},
   "source": [
    "# Complex body TFA Inversion"
   ]
  },
  {
   "cell_type": "markdown",
   "metadata": {},
   "source": [
    "This notebook performs the inversion using Levenberg-Marquadt's algorithm of total field anomaly (TFA) data on a regular grid of a model with a complex geometry."
   ]
  },
  {
   "cell_type": "code",
   "execution_count": 306,
   "metadata": {},
   "outputs": [],
   "source": [
    "import numpy as np\n",
    "import matplotlib.pyplot as plt\n",
    "import cPickle as pickle\n",
    "import os\n",
    "\n",
    "from fatiando import utils\n",
    "from fatiando.gravmag import polyprism\n",
    "from fatiando.vis import mpl"
   ]
  },
  {
   "cell_type": "markdown",
   "metadata": {},
   "source": [
    "### Auxiliary functions"
   ]
  },
  {
   "cell_type": "code",
   "execution_count": 307,
   "metadata": {
    "collapsed": true
   },
   "outputs": [],
   "source": [
    "import sys\n",
    "sys.path.insert(0, '../../code')\n",
    "\n",
    "import mag_polyprism_functions as mfun"
   ]
  },
  {
   "cell_type": "markdown",
   "metadata": {},
   "source": [
    "# Input"
   ]
  },
  {
   "cell_type": "markdown",
   "metadata": {},
   "source": [
    "### Importing model parameters"
   ]
  },
  {
   "cell_type": "code",
   "execution_count": 308,
   "metadata": {},
   "outputs": [],
   "source": [
    "model_dir = 'data/model_real_obs_pts.pickle'\n",
    "data_dir = 'data/real_obs_pts/data.pickle'"
   ]
  },
  {
   "cell_type": "code",
   "execution_count": 309,
   "metadata": {},
   "outputs": [],
   "source": [
    "with open(model_dir) as w:\n",
    "        model = pickle.load(w)"
   ]
  },
  {
   "cell_type": "markdown",
   "metadata": {},
   "source": [
    "### Observation points and observed data"
   ]
  },
  {
   "cell_type": "code",
   "execution_count": 310,
   "metadata": {
    "collapsed": true
   },
   "outputs": [],
   "source": [
    "with open(data_dir) as w:\n",
    "        data = pickle.load(w)"
   ]
  },
  {
   "cell_type": "code",
   "execution_count": 311,
   "metadata": {},
   "outputs": [],
   "source": [
    "# observed data and observation points\n",
    "dobs = data['tfa_obs']\n",
    "xp = data['grid'][0]\n",
    "yp = data['grid'][1]\n",
    "zp = data['grid'][2]\n",
    "N = data['grid'][3]"
   ]
  },
  {
   "cell_type": "markdown",
   "metadata": {},
   "source": [
    "### Parameters of the initial model"
   ]
  },
  {
   "cell_type": "code",
   "execution_count": 312,
   "metadata": {},
   "outputs": [],
   "source": [
    "M = 20 # number of vertices per prism\n",
    "L = 10 # number of prisms\n",
    "P = L*(M+2) + 1 # number of parameters\n",
    "\n",
    "# depth to the top, thickness, origin, magnetization and radius\n",
    "incs = model['inc']\n",
    "decs = model['dec']\n",
    "intensity = model['intensity']\n",
    "z0 = model['z0']\n",
    "dz = 600.\n",
    "r = 800.\n",
    "x0 = -300.\n",
    "y0 = 300.\n",
    "\n",
    "# main field\n",
    "inc, dec = data['main_field']\n",
    "\n",
    "model0, m0 = mfun.initial_cylinder(M, L, x0,\n",
    "        y0, z0, dz, r, inc, dec, incs, decs, intensity)\n",
    "\n",
    "# predict data\n",
    "d0 = polyprism.tf(xp, yp, zp, model0, inc, dec)"
   ]
  },
  {
   "cell_type": "markdown",
   "metadata": {},
   "source": [
    "### Limits"
   ]
  },
  {
   "cell_type": "code",
   "execution_count": 313,
   "metadata": {},
   "outputs": [],
   "source": [
    "# limits for parameters in meters\n",
    "rmin = 10.\n",
    "rmax = 3000.\n",
    "x0min = -4000.\n",
    "x0max = 4000.\n",
    "y0min = -4000.\n",
    "y0max = 400.\n",
    "dzmin = 200.\n",
    "dzmax = 1000.\n",
    "\n",
    "mmin, mmax = mfun.build_range_param(M, L, rmin, rmax, x0min, x0max, y0min, y0max, dzmin, dzmax)"
   ]
  },
  {
   "cell_type": "markdown",
   "metadata": {},
   "source": [
    "### Variation"
   ]
  },
  {
   "cell_type": "code",
   "execution_count": 314,
   "metadata": {},
   "outputs": [],
   "source": [
    "# variation for derivatives\n",
    "deltax = 0.01*np.max(1000.)\n",
    "deltay = 0.01*np.max(1000.)\n",
    "deltar = 0.01*np.max(1000.)\n",
    "deltaz = 0.01*np.max(100.)"
   ]
  },
  {
   "cell_type": "markdown",
   "metadata": {},
   "source": [
    "### Outcropping parameters"
   ]
  },
  {
   "cell_type": "code",
   "execution_count": 315,
   "metadata": {},
   "outputs": [],
   "source": [
    "# outcropping body parameters\n",
    "m_out = np.zeros(M + 2)\n",
    "#m_out = model['param_vec'][:M+2]"
   ]
  },
  {
   "cell_type": "markdown",
   "metadata": {},
   "source": [
    "### Folder to save the results"
   ]
  },
  {
   "cell_type": "code",
   "execution_count": 316,
   "metadata": {},
   "outputs": [],
   "source": [
    "mypath = data_dir[:-11]+'tfa_inversion/inc%d_dec%d_r%d_int%d_z0%d_dz%d' % (incs, decs, r, intensity, z0, dz)\n",
    "if not os.path.isdir(mypath):\n",
    "    os.makedirs(mypath)"
   ]
  },
  {
   "cell_type": "code",
   "execution_count": 317,
   "metadata": {},
   "outputs": [],
   "source": [
    "# output of inversion\n",
    "inversion = dict()"
   ]
  },
  {
   "cell_type": "markdown",
   "metadata": {},
   "source": [
    "### Regularization parameters"
   ]
  },
  {
   "cell_type": "code",
   "execution_count": 318,
   "metadata": {
    "collapsed": true
   },
   "outputs": [],
   "source": [
    "#lamb = th*0.01 # Marquadt's parameter\n",
    "lamb = 10.0\n",
    "dlamb = 10.      # step for Marquadt's parameter\n",
    "\n",
    "a1 = 1.0e-4  # adjacent radial distances within each prism\n",
    "a2 = 1.0e-4   # vertically adjacent radial distances\n",
    "a3 = 0.     # outcropping cross-section\n",
    "a4 = 0.     # outcropping origin\n",
    "a5 = 1.0e-2     # vertically adjacent origins\n",
    "a6 = 1.0e-6   # zero order Tikhonov on adjacent radial distances\n",
    "a7 = 1.0e-5     # zero order Tikhonov on thickness of each prism"
   ]
  },
  {
   "cell_type": "code",
   "execution_count": 319,
   "metadata": {},
   "outputs": [],
   "source": [
    "delta = np.array([deltax, deltay, deltar, deltaz])\n",
    "alpha = np.array([a1, a2, a3, a4, a5, a6, a7])"
   ]
  },
  {
   "cell_type": "code",
   "execution_count": 320,
   "metadata": {},
   "outputs": [],
   "source": [
    "itmax = 30\n",
    "itmax_marq = 10\n",
    "tol = 1.0e-4     # stop criterion"
   ]
  },
  {
   "cell_type": "code",
   "execution_count": 321,
   "metadata": {},
   "outputs": [],
   "source": [
    "inversion['x'] = xp\n",
    "inversion['y'] = yp\n",
    "inversion['z'] = zp\n",
    "inversion['observed_data'] = dobs"
   ]
  },
  {
   "cell_type": "code",
   "execution_count": 322,
   "metadata": {},
   "outputs": [],
   "source": [
    "inversion['inc_dec'] = [incs, decs]\n",
    "inversion['z0'] = z0\n",
    "inversion['initial_dz'] = dz\n",
    "inversion['intial_r'] = r\n",
    "inversion['initial_estimate'] = model0\n",
    "inversion['initial_data'] = d0\n",
    "inversion['limits'] = [rmin, rmax, x0min, x0max, y0min, y0max, dzmin, dzmax]\n",
    "inversion['regularization'] = alpha\n",
    "inversion['tol'] = tol\n",
    "inversion['main_field'] = [-21.5, -18.7]"
   ]
  },
  {
   "cell_type": "code",
   "execution_count": 323,
   "metadata": {},
   "outputs": [
    {
     "data": {
      "image/png": "[encoded data removed]",
      "text/plain": [
       "<Figure size 432x360 with 2 Axes>"
      ]
     },
     "metadata": {
      "needs_background": "light"
     },
     "output_type": "display_data"
    }
   ],
   "source": [
    "plt.figure(figsize=(6,5))\n",
    "plt.title('Observed TFA', fontsize=20)\n",
    "plt.tricontourf(yp, xp, dobs, 20, cmap='RdBu_r').ax.tick_params(labelsize=12)\n",
    "plt.xlabel('$y$(km)', fontsize=18)\n",
    "plt.ylabel('$x$(km)', fontsize=18)\n",
    "clb = plt.colorbar(pad=0.025, aspect=40, shrink=1)\n",
    "clb.ax.tick_params(labelsize=13)\n",
    "source = mpl.polygon(model['prisms'][0], '.-k', xy2ne=True)\n",
    "estimate = mpl.polygon(model0[0], '.-y', xy2ne=True)\n",
    "#source.set_label('Outcropping polygon')\n",
    "estimate.set_label('Initial estimate')\n",
    "clb.ax.set_title('nT')\n",
    "mpl.m2km()\n",
    "plt.legend(loc=0, fontsize=12, shadow=bool, framealpha=1)\n",
    "#plt.savefig(mypath+'diorama_tfa_pred_data_true_inital.png', dpi=300)\n",
    "plt.show()\n",
    "\n",
    "#img(filename=mypath+'diorama_tfa_pred_data_true_inital.png', width=1000, height=1200)"
   ]
  },
  {
   "cell_type": "code",
   "execution_count": 324,
   "metadata": {},
   "outputs": [
    {
     "data": {
      "image/png": "[encoded data removed]",
      "text/plain": [
       "<Figure size 432x360 with 2 Axes>"
      ]
     },
     "metadata": {
      "needs_background": "light"
     },
     "output_type": "display_data"
    }
   ],
   "source": [
    "plt.figure(figsize=(6,5))\n",
    "plt.title('Predicted TFA', fontsize=20)\n",
    "plt.tricontourf(yp, xp, d0, 20, cmap='RdBu_r').ax.tick_params(labelsize=12)\n",
    "plt.xlabel('$y$(km)', fontsize=18)\n",
    "plt.ylabel('$x$(km)', fontsize=18)\n",
    "clb = plt.colorbar(pad=0.025, aspect=40, shrink=1)\n",
    "clb.ax.tick_params(labelsize=13)\n",
    "estimate = mpl.polygon(model0[0], '.-y', xy2ne=True)\n",
    "estimate.set_label('Initial estimate')\n",
    "clb.ax.set_title('nT')\n",
    "mpl.m2km()\n",
    "plt.legend(loc=0, fontsize=12, shadow=bool, framealpha=1)\n",
    "plt.show()"
   ]
  },
  {
   "cell_type": "markdown",
   "metadata": {},
   "source": [
    "### Inversion"
   ]
  },
  {
   "cell_type": "code",
   "execution_count": 325,
   "metadata": {},
   "outputs": [
    {
     "name": "stdout",
     "output_type": "stream",
     "text": [
      "it:  0   it_marq:  0   lambda: 1e+01   init obj.: 2.62078e+04  fin obj.: 4.32277e+03\n",
      "it:  1   it_marq:  0   lambda: 1e+00   init obj.: 4.32277e+03  fin obj.: 5.46475e+02\n",
      "it:  2   it_marq:  0   lambda: 1e-01   init obj.: 5.46475e+02  fin obj.: 2.70162e+02\n",
      "it:  3   it_marq:  0   lambda: 1e-02   init obj.: 2.70162e+02  fin obj.: 1.64975e+02\n",
      "it:  4   it_marq:  0   lambda: 1e-03   init obj.: 1.64975e+02  fin obj.: 2.05381e+02\n",
      "it:  4   it_marq:  1   lambda: 1e-02   init obj.: 1.64975e+02  fin obj.: 1.67002e+02\n",
      "it:  4   it_marq:  2   lambda: 1e-01   init obj.: 1.64975e+02  fin obj.: 1.59271e+02\n",
      "it:  5   it_marq:  0   lambda: 1e-02   init obj.: 1.59271e+02  fin obj.: 1.56700e+02\n",
      "it:  6   it_marq:  0   lambda: 1e-03   init obj.: 1.56700e+02  fin obj.: 1.50093e+02\n",
      "it:  7   it_marq:  0   lambda: 1e-04   init obj.: 1.50093e+02  fin obj.: 1.47558e+02\n",
      "it:  8   it_marq:  0   lambda: 1e-05   init obj.: 1.47558e+02  fin obj.: 1.40772e+02\n",
      "it:  9   it_marq:  0   lambda: 1e-06   init obj.: 1.40772e+02  fin obj.: 1.39803e+02\n",
      "it: 10   it_marq:  0   lambda: 1e-07   init obj.: 1.39803e+02  fin obj.: 1.40063e+02\n",
      "it: 10   it_marq:  1   lambda: 1e-06   init obj.: 1.39803e+02  fin obj.: 1.40060e+02\n",
      "it: 10   it_marq:  2   lambda: 1e-05   init obj.: 1.39803e+02  fin obj.: 1.40034e+02\n",
      "it: 10   it_marq:  3   lambda: 1e-04   init obj.: 1.39803e+02  fin obj.: 1.39822e+02\n",
      "it: 10   it_marq:  4   lambda: 1e-03   init obj.: 1.39803e+02  fin obj.: 1.39163e+02\n",
      "it: 11   it_marq:  0   lambda: 1e-04   init obj.: 1.39163e+02  fin obj.: 1.38999e+02\n",
      "it: 12   it_marq:  0   lambda: 1e-05   init obj.: 1.38999e+02  fin obj.: 1.39138e+02\n",
      "it: 12   it_marq:  1   lambda: 1e-04   init obj.: 1.38999e+02  fin obj.: 1.38956e+02\n",
      "it: 13   it_marq:  0   lambda: 1e-05   init obj.: 1.38956e+02  fin obj.: 1.39049e+02\n",
      "it: 13   it_marq:  1   lambda: 1e-04   init obj.: 1.38956e+02  fin obj.: 1.38876e+02\n",
      "it: 14   it_marq:  0   lambda: 1e-05   init obj.: 1.38876e+02  fin obj.: 1.38968e+02\n",
      "it: 14   it_marq:  1   lambda: 1e-04   init obj.: 1.38876e+02  fin obj.: 1.38801e+02\n",
      "it: 15   it_marq:  0   lambda: 1e-05   init obj.: 1.38801e+02  fin obj.: 1.38891e+02\n",
      "it: 15   it_marq:  1   lambda: 1e-04   init obj.: 1.38801e+02  fin obj.: 1.38724e+02\n",
      "it: 16   it_marq:  0   lambda: 1e-05   init obj.: 1.38724e+02  fin obj.: 1.38816e+02\n",
      "it: 16   it_marq:  1   lambda: 1e-04   init obj.: 1.38724e+02  fin obj.: 1.38646e+02\n",
      "it: 17   it_marq:  0   lambda: 1e-05   init obj.: 1.38646e+02  fin obj.: 1.38743e+02\n",
      "it: 17   it_marq:  1   lambda: 1e-04   init obj.: 1.38646e+02  fin obj.: 1.38567e+02\n",
      "it: 18   it_marq:  0   lambda: 1e-05   init obj.: 1.38567e+02  fin obj.: 1.38673e+02\n",
      "it: 18   it_marq:  1   lambda: 1e-04   init obj.: 1.38567e+02  fin obj.: 1.38489e+02\n",
      "it: 19   it_marq:  0   lambda: 1e-05   init obj.: 1.38489e+02  fin obj.: 1.38610e+02\n",
      "it: 19   it_marq:  1   lambda: 1e-04   init obj.: 1.38489e+02  fin obj.: 1.38417e+02\n",
      "it: 20   it_marq:  0   lambda: 1e-05   init obj.: 1.38417e+02  fin obj.: 1.38558e+02\n",
      "it: 20   it_marq:  1   lambda: 1e-04   init obj.: 1.38417e+02  fin obj.: 1.38356e+02\n",
      "it: 21   it_marq:  0   lambda: 1e-05   init obj.: 1.38356e+02  fin obj.: 1.38525e+02\n",
      "it: 21   it_marq:  1   lambda: 1e-04   init obj.: 1.38356e+02  fin obj.: 1.38312e+02\n",
      "it: 22   it_marq:  0   lambda: 1e-05   init obj.: 1.38312e+02  fin obj.: 1.38522e+02\n",
      "it: 22   it_marq:  1   lambda: 1e-04   init obj.: 1.38312e+02  fin obj.: 1.38296e+02\n",
      "it: 23   it_marq:  0   lambda: 1e-05   init obj.: 1.38296e+02  fin obj.: 1.38561e+02\n",
      "it: 23   it_marq:  1   lambda: 1e-04   init obj.: 1.38296e+02  fin obj.: 1.38320e+02\n",
      "it: 23   it_marq:  2   lambda: 1e-03   init obj.: 1.38296e+02  fin obj.: 1.37693e+02\n",
      "it: 24   it_marq:  0   lambda: 1e-04   init obj.: 1.37693e+02  fin obj.: 1.37744e+02\n",
      "it: 24   it_marq:  1   lambda: 1e-03   init obj.: 1.37693e+02  fin obj.: 1.37007e+02\n",
      "it: 25   it_marq:  0   lambda: 1e-04   init obj.: 1.37007e+02  fin obj.: 1.37138e+02\n",
      "it: 25   it_marq:  1   lambda: 1e-03   init obj.: 1.37007e+02  fin obj.: 1.36318e+02\n",
      "it: 26   it_marq:  0   lambda: 1e-04   init obj.: 1.36318e+02  fin obj.: 1.36541e+02\n",
      "it: 26   it_marq:  1   lambda: 1e-03   init obj.: 1.36318e+02  fin obj.: 1.35636e+02\n",
      "it: 27   it_marq:  0   lambda: 1e-04   init obj.: 1.35636e+02  fin obj.: 1.35974e+02\n",
      "it: 27   it_marq:  1   lambda: 1e-03   init obj.: 1.35636e+02  fin obj.: 1.34980e+02\n",
      "it: 28   it_marq:  0   lambda: 1e-04   init obj.: 1.34980e+02  fin obj.: 1.35463e+02\n",
      "it: 28   it_marq:  1   lambda: 1e-03   init obj.: 1.34980e+02  fin obj.: 1.34367e+02\n",
      "it: 29   it_marq:  0   lambda: 1e-04   init obj.: 1.34367e+02  fin obj.: 1.35035e+02\n",
      "it: 29   it_marq:  1   lambda: 1e-03   init obj.: 1.34367e+02  fin obj.: 1.33821e+02\n"
     ]
    }
   ],
   "source": [
    "d_fit, m_est, model_est, phi_list, model_list, res_list = mfun.levmarq_tf(\n",
    "    xp, yp, zp, m0, M, L, delta,\n",
    "    itmax, itmax_marq, lamb,\n",
    "    dlamb, tol, mmin, mmax,\n",
    "    m_out, dobs, inc, dec,\n",
    "    model0[0].props, alpha, z0, dz\n",
    ")"
   ]
  },
  {
   "cell_type": "markdown",
   "metadata": {},
   "source": [
    "# Results"
   ]
  },
  {
   "cell_type": "code",
   "execution_count": 326,
   "metadata": {},
   "outputs": [],
   "source": [
    "inversion['data_fit'] = d_fit\n",
    "inversion['estimate'] = m_est\n",
    "inversion['prisms'] = model_est\n",
    "inversion['estimated_models'] = model_list\n",
    "inversion['objective'] = phi_list\n",
    "inversion['residual'] = dobs - d_fit\n",
    "inversion['residual_list'] = res_list"
   ]
  },
  {
   "cell_type": "code",
   "execution_count": 327,
   "metadata": {},
   "outputs": [],
   "source": [
    "file_name = mypath+'/inversion.pickle'\n",
    "with open(file_name, 'w') as f:\n",
    "    pickle.dump(inversion, f)"
   ]
  }
 ],
 "metadata": {
  "anaconda-cloud": {},
  "kernelspec": {
   "display_name": "Python 2",
   "language": "python",
   "name": "python2"
  },
  "language_info": {
   "codemirror_mode": {
    "name": "ipython",
    "version": 2
   },
   "file_extension": ".py",
   "mimetype": "text/x-python",
   "name": "python",
   "nbconvert_exporter": "python",
   "pygments_lexer": "ipython2",
   "version": "2.7.16"
  }
 },
 "nbformat": 4,
 "nbformat_minor": 2
}
