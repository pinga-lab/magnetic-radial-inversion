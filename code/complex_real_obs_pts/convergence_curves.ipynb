{
 "cells": [
  {
   "cell_type": "markdown",
   "metadata": {},
   "source": [
    "# Plot convergence curves"
   ]
  },
  {
   "cell_type": "code",
   "execution_count": 1,
   "metadata": {},
   "outputs": [],
   "source": [
    "import matplotlib as mpb\n",
    "\n",
    "# show all the matplotlib backends \n",
    "mpb.rcsetup.all_backends \n",
    "\n",
    "# force matplotlib to use the 'Qt5Agg' backend \n",
    "mpb.use(arg='Qt5Agg', force=True)"
   ]
  },
  {
   "cell_type": "code",
   "execution_count": 2,
   "metadata": {},
   "outputs": [
    {
     "name": "stderr",
     "output_type": "stream",
     "text": [
      "/home/leo/anaconda2/lib/python2.7/site-packages/fatiando/vis/mpl.py:76: UserWarning: This module will be removed in v0.6. We recommend the use of matplotlib.pyplot module directly. Some of the fatiando specific functions will remain.\n",
      "  \"specific functions will remain.\")\n"
     ]
    }
   ],
   "source": [
    "import numpy as np\n",
    "import matplotlib.pyplot as plt\n",
    "import cPickle as pickle\n",
    "import scipy.stats as sp\n",
    "import os\n",
    "\n",
    "from mpl_toolkits.mplot3d import Axes3D\n",
    "from mpl_toolkits.mplot3d.art3d import Poly3DCollection\n",
    "from fatiando.vis import mpl\n",
    "from mpl_toolkits.axes_grid1.inset_locator import inset_axes"
   ]
  },
  {
   "cell_type": "code",
   "execution_count": 3,
   "metadata": {
    "collapsed": true
   },
   "outputs": [],
   "source": [
    "import sys\n",
    "sys.path.insert(0, '../../code')\n",
    "\n",
    "import mag_polyprism_functions as mfun\n",
    "import mag_sphere_functions as msf"
   ]
  },
  {
   "cell_type": "code",
   "execution_count": 4,
   "metadata": {},
   "outputs": [],
   "source": [
    "mypath = 'data/real_obs_pts/tfa_inversion/multiple_int_min9_int_max15_z0_min-400_z0_max-200_r800_dz650_V15_L10Feb-10-2020/'"
   ]
  },
  {
   "cell_type": "code",
   "execution_count": 5,
   "metadata": {},
   "outputs": [],
   "source": [
    "with open(mypath+'inversion.pickle') as w:\n",
    "        di = pickle.load(w)"
   ]
  },
  {
   "cell_type": "code",
   "execution_count": 6,
   "metadata": {},
   "outputs": [],
   "source": [
    "with open('data/model_real_obs_pts.pickle') as w:\n",
    "        model = pickle.load(w)"
   ]
  },
  {
   "cell_type": "code",
   "execution_count": 7,
   "metadata": {},
   "outputs": [],
   "source": [
    "plt.figure(figsize=(10,10))\n",
    "plt.title('Convergence', fontsize = 18)\n",
    "plt.xlabel('Iteration number')\n",
    "for i, phi in enumerate(di['results']):\n",
    "    plt.plot(phi[3], label='inversion%d' % (i+1))\n",
    "plt.legend(loc=0, fontsize=2.5, shadow=bool, framealpha=1)\n",
    "\n",
    "plt.savefig(mypath+'_tfa_convergence.png', dpi=300, bbox_inches=\"tight\")\n",
    "plt.show()"
   ]
  },
  {
   "cell_type": "code",
   "execution_count": 8,
   "metadata": {},
   "outputs": [],
   "source": [
    "z0 = di['z0']\n",
    "intensity = di['intensity']\n",
    "z0_plot, int_plot = np.meshgrid(z0, intensity)\n",
    "z0_plot = z0_plot.ravel()\n",
    "int_plot = int_plot.ravel()\n",
    "n = z0.size\n",
    "m = intensity.size\n",
    "N = di['x'].size"
   ]
  },
  {
   "cell_type": "code",
   "execution_count": 9,
   "metadata": {},
   "outputs": [],
   "source": [
    "matrix_gamma = np.zeros((n,m))\n",
    "for i in range(n):\n",
    "    for j in range(m):\n",
    "        matrix_gamma[i, j] = di['results'][i*n+j][3][-1]"
   ]
  },
  {
   "cell_type": "code",
   "execution_count": 10,
   "metadata": {},
   "outputs": [
    {
     "data": {
      "text/plain": [
       "array([1.e-04, 1.e-04, 0.e+00, 0.e+00, 1.e-04, 1.e-07, 1.e-04])"
      ]
     },
     "execution_count": 10,
     "metadata": {},
     "output_type": "execute_result"
    }
   ],
   "source": [
    "di['regularization']"
   ]
  },
  {
   "cell_type": "code",
   "execution_count": 11,
   "metadata": {},
   "outputs": [],
   "source": [
    "matrix_phi = np.zeros((n,m))\n",
    "for i in range(n):\n",
    "    for j in range(m):\n",
    "        matrix_phi[i, j] = np.linalg.norm(di['results'][i*n+j][6][-1], 2)**2./N"
   ]
  },
  {
   "cell_type": "code",
   "execution_count": 12,
   "metadata": {},
   "outputs": [],
   "source": [
    "fig, ax = fig, ax = plt.subplots(1,1)\n",
    "w = 3\n",
    "img = ax.imshow(matrix_gamma, vmin=0, vmax=2000, origin='lower',extent=[0,w,0,w])\n",
    "plt.ylabel('$z_0$ (m)')\n",
    "plt.xlabel('$m_0$ (A/m)')\n",
    "plt.plot(1.5, 1.5, '^r', markersize=12)\n",
    "plt.plot(1.25, 1.25, 'Dc', markersize=12, linewidth=2)\n",
    "x_label_list = []\n",
    "y_label_list = []\n",
    "for xl, yl in zip(intensity,z0):\n",
    "    x_label_list.append(str(xl))\n",
    "    y_label_list.append(str(yl)[:-2])\n",
    "ax.set_xticks(np.linspace(w/(2.*n), w - w/(2.*n), n))\n",
    "ax.set_yticks(np.linspace(w/(2.*m), w - w/(2.*m), m))\n",
    "ax.set_xticklabels(x_label_list)\n",
    "ax.set_yticklabels(y_label_list)\n",
    "# Minor ticks\n",
    "ax.set_xticks(np.linspace(0, w, n+1), minor=True);\n",
    "ax.set_yticks(np.linspace(0, w, m+1), minor=True);\n",
    "ax.grid(which='minor', color='k', linewidth=2)\n",
    "plt.colorbar(img)\n",
    "plt.savefig(mypath+'complex_obj_func_map.png', dpi=300, bbox_inches=\"tight\")\n",
    "plt.show()"
   ]
  },
  {
   "cell_type": "code",
   "execution_count": 13,
   "metadata": {},
   "outputs": [],
   "source": [
    "fig, ax = fig, ax = plt.subplots(1,1)\n",
    "w = 3\n",
    "img = ax.imshow(matrix_phi, vmin=0, vmax=2000, origin='lower',extent=[0,w,0,w])\n",
    "plt.ylabel('$z_0$ (m)')\n",
    "plt.xlabel('$m_0$ (A/m)')\n",
    "x_label_list = []\n",
    "y_label_list = []\n",
    "for xl, yl in zip(intensity,z0):\n",
    "    x_label_list.append(str(xl))\n",
    "    y_label_list.append(str(yl)[:-2])\n",
    "ax.set_xticks(np.linspace(w/(2.*n), w - w/(2.*n), n))\n",
    "ax.set_yticks(np.linspace(w/(2.*m), w - w/(2.*m), m))\n",
    "ax.set_xticklabels(x_label_list)\n",
    "ax.set_yticklabels(y_label_list)\n",
    "# Minor ticks\n",
    "ax.set_xticks(np.linspace(0, w, n+1), minor=True);\n",
    "ax.set_yticks(np.linspace(0, w, m+1), minor=True);\n",
    "ax.grid(which='minor', color='k', linewidth=2)\n",
    "plt.colorbar(img)\n",
    "plt.savefig(mypath+'complex_misfit_func_map.png', dpi=300, bbox_inches=\"tight\")\n",
    "plt.show()"
   ]
  },
  {
   "cell_type": "code",
   "execution_count": 14,
   "metadata": {},
   "outputs": [
    {
     "data": {
      "text/plain": [
       "array([[2, 2],\n",
       "       [3, 3]])"
      ]
     },
     "execution_count": 14,
     "metadata": {},
     "output_type": "execute_result"
    }
   ],
   "source": [
    "mindex = np.argwhere(matrix_gamma<150.)\n",
    "mindex"
   ]
  },
  {
   "cell_type": "code",
   "execution_count": 15,
   "metadata": {},
   "outputs": [
    {
     "name": "stdout",
     "output_type": "stream",
     "text": [
      "14\n",
      "117.58326245409552\n",
      "21\n",
      "86.18882630853872\n"
     ]
    }
   ],
   "source": [
    "for re in mindex:\n",
    "    print re[0]*6 + re[1]\n",
    "    print matrix_gamma[re[0], re[1]]"
   ]
  },
  {
   "cell_type": "code",
   "execution_count": 16,
   "metadata": {},
   "outputs": [
    {
     "data": {
      "text/plain": [
       "array([[3, 3],\n",
       "       [3, 4]])"
      ]
     },
     "execution_count": 16,
     "metadata": {},
     "output_type": "execute_result"
    }
   ],
   "source": [
    "misdex = np.argwhere(matrix_phi<100.)\n",
    "misdex"
   ]
  },
  {
   "cell_type": "code",
   "execution_count": 17,
   "metadata": {},
   "outputs": [
    {
     "name": "stdout",
     "output_type": "stream",
     "text": [
      "21\n",
      "47.728472327859336\n",
      "22\n",
      "40.62224303851419\n"
     ]
    }
   ],
   "source": [
    "for re in misdex:\n",
    "    print re[0]*6 + re[1]\n",
    "    print matrix_phi[re[0], re[1]]"
   ]
  },
  {
   "cell_type": "markdown",
   "metadata": {},
   "source": [
    "# Inversion 3"
   ]
  },
  {
   "cell_type": "code",
   "execution_count": 18,
   "metadata": {},
   "outputs": [],
   "source": [
    "model0, m0 = mfun.initial_cylinder(15, 10, -300., 300., -320., di['initial_dz'],\n",
    "                      800., di['main_field'][0], di['main_field'][1],\n",
    "                      di['main_field'][0], di['main_field'][1], 11.4)"
   ]
  },
  {
   "cell_type": "code",
   "execution_count": 19,
   "metadata": {},
   "outputs": [],
   "source": [
    "plt.figure(figsize=(6,5))\n",
    "plt.title('Convergence', fontsize = 18)\n",
    "plt.xlabel('Iteration number')\n",
    "plt.plot(di['results'][14][3], 'b-', label='Objective value')\n",
    "plt.legend(loc=0, fontsize=12, shadow=bool, framealpha=1)\n",
    "plt.show()"
   ]
  },
  {
   "cell_type": "code",
   "execution_count": 20,
   "metadata": {},
   "outputs": [],
   "source": [
    "x = di['x']/1000.\n",
    "y = di['y']/1000.\n",
    "z = di['z']/1000.\n",
    "\n",
    "for i in range(len(di['results'][14][2])):\n",
    "    di['results'][14][2][i].x /= 1000.\n",
    "    di['results'][14][2][i].y /= 1000.\n",
    "    di['results'][14][2][i].z1 /= 1000.\n",
    "    di['results'][14][2][i].z2 /= 1000.\n",
    "    model0[i].x /= 1000.\n",
    "    model0[i].y /= 1000.\n",
    "    model0[i].z1 /= 1000.\n",
    "    model0[i].z2 /= 1000.\n",
    "    \n",
    "for i in model['prisms']:\n",
    "    i.x /= 1000.\n",
    "    i.y /= 1000.\n",
    "    i.z1 /= 1000.\n",
    "    i.z2 /= 1000."
   ]
  },
  {
   "cell_type": "code",
   "execution_count": 21,
   "metadata": {},
   "outputs": [
    {
     "name": "stderr",
     "output_type": "stream",
     "text": [
      "/home/leo/anaconda2/lib/python2.7/site-packages/matplotlib/axes/_axes.py:6571: UserWarning: The 'normed' kwarg is deprecated, and has been replaced by the 'density' kwarg.\n",
      "  warnings.warn(\"The 'normed' kwarg is deprecated, and has been \"\n",
      "/home/leo/anaconda2/lib/python2.7/site-packages/matplotlib/figure.py:2299: UserWarning: This figure includes Axes that are not compatible with tight_layout, so results might be incorrect.\n",
      "  warnings.warn(\"This figure includes Axes that are not compatible \"\n"
     ]
    }
   ],
   "source": [
    "plt.figure(figsize=(10,10))\n",
    "ax=plt.subplot(2,2,1)\n",
    "#plt.title('Residual', fontsize=20)\n",
    "norm=mpb.colors.Normalize(vmin=np.min(di['results'][14][-2]), vmax=np.min(di['results'][14][-2])*(-1))\n",
    "plt.tricontourf(di['y'], di['x'], di['results'][14][-2], 20, cmap='RdBu_r', norm=norm).ax.tick_params(labelsize=12)\n",
    "plt.xlabel('$y$(m)', fontsize=10)\n",
    "plt.ylabel('$x$(m)', fontsize=10)\n",
    "clb = plt.colorbar(pad=0.01, aspect=20, shrink=1)\n",
    "clb.ax.set_title('nT', pad=-305)\n",
    "mpl.m2km()\n",
    "clb.ax.tick_params(labelsize=13)\n",
    "inset = inset_axes(ax, width=\"40%\", height=\"30%\", loc=1, borderpad=0.7)\n",
    "mean = np.mean(di['results'][14][-2])\n",
    "std = np.std(di['results'][14][-2])\n",
    "nbins=30\n",
    "n, bins, patches = plt.hist(di['results'][14][-2],bins=nbins, normed=True, facecolor='blue')\n",
    "props = dict(boxstyle='round', facecolor='wheat', alpha=0.5)\n",
    "inset.text(0.7, 0.95, \"$\\mu$ = {:.2f}\\n$\\sigma$ = {:.2f}\".format(mean, std),\n",
    "                transform=inset.transAxes, fontsize=6,\n",
    "            va='top', ha='left', bbox=props)\n",
    "gauss = sp.norm.pdf(bins, mean, std)\n",
    "plt.plot(bins, gauss, 'k--', linewidth=1., label='Gaussian')\n",
    "\n",
    "\n",
    "verts_initial = mfun.plot_prisms(model0)\n",
    "    \n",
    "verts_true = mfun.plot_prisms(model['prisms'])\n",
    "\n",
    "verts5 = mfun.plot_prisms(di['results'][14][2])\n",
    "\n",
    "ax = plt.subplot(2,2,2, projection='3d')\n",
    "\n",
    "# plot sides\n",
    "ax.add_collection3d(Poly3DCollection(verts_initial, alpha=0.3, \n",
    " facecolor='r', linewidths=0.5, edgecolors='k'))\n",
    "ax.add_collection3d(Poly3DCollection(verts_true, alpha=0.3, \n",
    " facecolor='b', linewidths=0.5, edgecolors='k'))\n",
    "\n",
    "ax.set_ylim(np.min(x), np.max(x), 100)\n",
    "ax.set_xlim(np.min(y), np.max(y), 100)\n",
    "ax.set_zlim(7, -1, 100)\n",
    "ax.tick_params(labelsize= 10)\n",
    "ax.set_ylabel('y (km)', fontsize= 10)\n",
    "ax.set_xlabel('x (km)', fontsize= 10)\n",
    "ax.set_zlabel('z (km)', fontsize= 10)\n",
    "#ax.set_xticklabels(np.linspace(-3, 3, 7))\n",
    "#ax.set_yticklabels(np.linspace(-3, 3, 7))\n",
    "#ax.set_zticklabels(np.linspace(0, 2, 9))\n",
    "#ax.yaxis.labelpad=8\n",
    "#ax.zaxis.labelpad=8\n",
    "#ax.xaxis.labelpad=8\n",
    "ax.view_init(10, 50)\n",
    "\n",
    "ax = plt.subplot(2,2,3, projection='3d')\n",
    "\n",
    "# plot sides\n",
    "ax.add_collection3d(Poly3DCollection(verts5, alpha=0.3, \n",
    " facecolor='r', linewidths=0.5, edgecolors='k'))\n",
    "ax.add_collection3d(Poly3DCollection(verts_true, alpha=0.3, \n",
    " facecolor='b', linewidths=0.5, edgecolors='k'))\n",
    "\n",
    "ax.set_ylim(np.min(x), np.max(x), 100)\n",
    "ax.set_xlim(np.min(y), np.max(y), 100)\n",
    "ax.set_zlim(7, -1, 100)\n",
    "ax.tick_params(labelsize= 10)\n",
    "ax.set_ylabel('y (km)', fontsize= 10)\n",
    "ax.set_xlabel('x (km)', fontsize= 10)\n",
    "ax.set_zlabel('z (km)', fontsize= 10)\n",
    "#ax.set_xticklabels(np.linspace(-3, 3, 7))\n",
    "#ax.set_yticklabels(np.linspace(-3, 3, 7))\n",
    "#ax.set_zticklabels(np.linspace(0, 2, 9))\n",
    "#ax.yaxis.labelpad=8\n",
    "#ax.zaxis.labelpad=8\n",
    "#ax.xaxis.labelpad=8\n",
    "ax.view_init(10, 50)\n",
    "\n",
    "ax = plt.subplot(2,2,4, projection='3d')\n",
    "\n",
    "# plot sides\n",
    "ax.add_collection3d(Poly3DCollection(verts5, alpha=0.3, \n",
    " facecolor='r', linewidths=0.5, edgecolors='k'))\n",
    "ax.add_collection3d(Poly3DCollection(verts_true, alpha=0.3, \n",
    " facecolor='b', linewidths=0.5, edgecolors='k'))\n",
    "\n",
    "ax.set_ylim(np.min(x), np.max(x), 100)\n",
    "ax.set_xlim(np.min(y), np.max(y), 100)\n",
    "ax.set_zlim(7, -1, 100)\n",
    "ax.tick_params(labelsize= 10)\n",
    "ax.set_ylabel('y (km)', fontsize= 10)\n",
    "ax.set_xlabel('x (km)', fontsize= 10)\n",
    "ax.set_zlabel('z (km)', fontsize= 10)\n",
    "#ax.set_xticklabels(np.linspace(-4, 4, 5))\n",
    "#ax.set_yticklabels(np.linspace(-3, 3, 7))\n",
    "#ax.set_zticklabels(np.linspace(0, 2, 9))\n",
    "ax.yaxis.labelpad=8\n",
    "ax.zaxis.labelpad=8\n",
    "ax.xaxis.labelpad=8\n",
    "ax.view_init(9, -158)\n",
    "\n",
    "#ax.autoscale_view()\n",
    "plt.tight_layout()\n",
    "\n",
    "plt.savefig(mypath+'results.png', dpi=300, bbox_inches='tight')\n",
    "\n",
    "plt.show()"
   ]
  },
  {
   "cell_type": "code",
   "execution_count": 34,
   "metadata": {},
   "outputs": [],
   "source": [
    "plt.figure(figsize=(10,10))\n",
    "ax=plt.subplot(2,2,1)\n",
    "#plt.title('Residual', fontsize=20)\n",
    "plt.tricontourf(di['y'], di['x'], di['observed_data'], 20,\n",
    "                cmap='RdBu_r', vmin=np.min(di['observed_data']),\n",
    "                vmax=-np.min(di['observed_data'])).ax.tick_params(labelsize=10)\n",
    "plt.xlabel('$y$(m)', fontsize=10)\n",
    "plt.ylabel('$x$(m)', fontsize=10)\n",
    "clb = plt.colorbar(pad=0.01, aspect=20, shrink=1)\n",
    "clb.ax.set_title('nT', pad=-315)\n",
    "mpl.m2km()\n",
    "clb.ax.tick_params(labelsize=13)\n",
    "plt.plot(di['y'], di['x'], 'ko', markersize=.3, label='Gaussian')\n",
    "\n",
    "# plot topography\n",
    "ax=plt.subplot(2,2,2)\n",
    "#plt.title('Residual', fontsize=20)\n",
    "plt.tricontourf(di['y'], di['x'], di['z'], 20,\n",
    "                cmap='inferno').ax.tick_params(labelsize=10)\n",
    "plt.xlabel('$y$(m)', fontsize=10)\n",
    "plt.ylabel('$x$(m)', fontsize=10)\n",
    "clb = plt.colorbar(pad=0.01, aspect=20, shrink=1)\n",
    "clb.ax.set_title('nT', pad=-315)\n",
    "mpl.m2km()\n",
    "clb.ax.tick_params(labelsize=13)\n",
    "plt.plot(di['y'], di['x'], 'ko', markersize=.3, label='Gaussian')\n",
    "\n",
    "# initial approximate\n",
    "ax = plt.subplot(2,2,3, projection='3d')\n",
    "\n",
    "# plot sides\n",
    "#ax.add_collection3d(Poly3DCollection(verts_initial, alpha=0.3, \n",
    "# facecolor='r', linewidths=0.5, edgecolors='k'))\n",
    "ax.add_collection3d(Poly3DCollection(verts_true, alpha=0.3, \n",
    " facecolor='b', linewidths=0.5, edgecolors='k'))\n",
    "\n",
    "ax.set_ylim(np.min(x), np.max(x), 100)\n",
    "ax.set_xlim(np.min(y), np.max(y), 100)\n",
    "ax.set_zlim(7, -1, 100)\n",
    "ax.tick_params(labelsize= 10)\n",
    "ax.set_ylabel('y (km)', fontsize= 10)\n",
    "ax.set_xlabel('x (km)', fontsize= 10)\n",
    "ax.set_zlabel('z (km)', fontsize= 10)\n",
    "#ax.yaxis.labelpad=8\n",
    "#ax.zaxis.labelpad=8\n",
    "#ax.xaxis.labelpad=8\n",
    "ax.view_init(0, 40)\n",
    "\n",
    "# inverse model view 1\n",
    "ax = plt.subplot(2,2,4, projection='3d')\n",
    "\n",
    "#plot sides\n",
    "#ax.add_collection3d(Poly3DCollection(verts, alpha=0.3, \n",
    "#facecolor='r', linewidths=0.5, edgecolors='k'))\n",
    "ax.add_collection3d(Poly3DCollection(verts_true, alpha=0.3, \n",
    " facecolor='b', linewidths=0.5, edgecolors='k'))\n",
    "\n",
    "ax.set_ylim(np.min(x), np.max(x), 100)\n",
    "ax.set_xlim(np.min(y), np.max(y), 100)\n",
    "ax.set_zlim(7, -1, 100)\n",
    "ax.tick_params(labelsize= 10)\n",
    "ax.set_ylabel('y (km)', fontsize= 10)\n",
    "ax.set_xlabel('x (km)', fontsize= 10)\n",
    "ax.set_zlabel('z (km)', fontsize= 10)\n",
    "#ax.yaxis.labelpad=8\n",
    "#ax.zaxis.labelpad=8\n",
    "#ax.xaxis.labelpad=8\n",
    "ax.view_init(20, 135)\n",
    "\n",
    "plt.tight_layout()\n",
    "\n",
    "plt.savefig(mypath+'model_data.png', dpi=300, bbox_inches='tight')\n",
    "\n",
    "plt.show()"
   ]
  },
  {
   "cell_type": "code",
   "execution_count": 23,
   "metadata": {},
   "outputs": [
    {
     "data": {
      "text/plain": [
       "array([-489.69, -488.82, -487.58, ..., -592.48, -598.91, -604.9 ])"
      ]
     },
     "execution_count": 23,
     "metadata": {},
     "output_type": "execute_result"
    }
   ],
   "source": [
    "di['z']"
   ]
  },
  {
   "cell_type": "markdown",
   "metadata": {},
   "source": [
    "# Inversion 6"
   ]
  },
  {
   "cell_type": "code",
   "execution_count": 24,
   "metadata": {},
   "outputs": [],
   "source": [
    "plt.figure(figsize=(6,5))\n",
    "ax=mpl.subplot(1,1,1)\n",
    "#plt.title('Residual', fontsize=20)\n",
    "norm=mpb.colors.Normalize(vmin=np.min(di['results'][21][-2]), vmax=np.min(di['results'][21][-2])*(-1))\n",
    "plt.tricontourf(di['y'], di['x'], di['results'][21][-2], 20, cmap='RdBu_r', norm=norm).ax.tick_params(labelsize=12)\n",
    "plt.xlabel('$y$(m)', fontsize=18)\n",
    "plt.ylabel('$x$(m)', fontsize=18)\n",
    "clb = plt.colorbar(pad=0.01, aspect=20, shrink=1)\n",
    "clb.ax.set_title('nT')\n",
    "mpl.m2km()\n",
    "clb.ax.tick_params(labelsize=13)\n",
    "inset = inset_axes(ax, width=\"40%\", height=\"30%\", loc=1, borderpad=0.7)\n",
    "mean = np.mean(di['results'][21][-2])\n",
    "std = np.std(di['results'][21][-2])\n",
    "nbins=30\n",
    "n, bins, patches = plt.hist(di['results'][21][-2],bins=nbins, normed=True, facecolor='blue')\n",
    "plt.text(0.4, 0.96, \"$\\mu$ = {:.2f}\\n$\\sigma$ = {:.2f}\".format(mean, std), \n",
    "         horizontalalignment='right',\n",
    "         verticalalignment='top',\n",
    "         transform = ax.transAxes, fontsize=10)\n",
    "gauss = sp.norm.pdf(bins, mean, std)\n",
    "plt.plot(bins, gauss, 'k--', linewidth=1., label='Gaussian')\n",
    "plt.show()"
   ]
  },
  {
   "cell_type": "code",
   "execution_count": 25,
   "metadata": {},
   "outputs": [],
   "source": [
    "plt.figure(figsize=(6,5))\n",
    "plt.title('Convergence', fontsize = 18)\n",
    "plt.xlabel('Iteration number')\n",
    "plt.plot(di['results'][21][3], 'b-', label='Misfit value')\n",
    "plt.legend(loc=0, fontsize=12, shadow=bool, framealpha=1)\n",
    "plt.show()"
   ]
  },
  {
   "cell_type": "code",
   "execution_count": 26,
   "metadata": {},
   "outputs": [],
   "source": [
    "x = di['x']/1000.\n",
    "y = di['y']/1000.\n",
    "z = di['z']/1000.\n",
    "\n",
    "for i in range(len(di['results'][21][2])):\n",
    "    di['results'][21][2][i].x /= 1000.\n",
    "    di['results'][21][2][i].y /= 1000.\n",
    "    di['results'][21][2][i].z1 /= 1000.\n",
    "    di['results'][21][2][i].z2 /= 1000.\n",
    "    "
   ]
  },
  {
   "cell_type": "code",
   "execution_count": 27,
   "metadata": {},
   "outputs": [],
   "source": [
    "verts6 = mfun.plot_prisms(di['results'][21][2])"
   ]
  },
  {
   "cell_type": "code",
   "execution_count": 28,
   "metadata": {},
   "outputs": [],
   "source": [
    "fig = plt.figure(figsize=(10,8))\n",
    "ax = fig.add_subplot(111, projection='3d')\n",
    "\n",
    "# plot sides\n",
    "ax.add_collection3d(Poly3DCollection(verts6, alpha=0.3, \n",
    " facecolor='r', linewidths=0, edgecolors='r'))\n",
    "ax.add_collection3d(Poly3DCollection(verts_true, alpha=0.3, \n",
    " facecolor='b', linewidths=0.5, edgecolors='k'))\n",
    "\n",
    "ax.set_ylim(np.min(x), np.max(x), 100)\n",
    "ax.set_xlim(np.min(y), np.max(y), 100)\n",
    "ax.set_zlim(5, -2, 100)\n",
    "ax.tick_params(labelsize= 13, pad=8)\n",
    "ax.set_ylabel('Y (km)', fontsize= 17)\n",
    "ax.set_xlabel('X (km)', fontsize= 17)\n",
    "ax.set_zlabel('Z (km)', fontsize= 17)\n",
    "#ax.set_xticklabels(np.linspace(-3, 3, 7))\n",
    "#ax.set_yticklabels(np.linspace(-3, 3, 7))\n",
    "#ax.set_zticklabels(np.linspace(0, 2, 9))\n",
    "ax.yaxis.labelpad=13\n",
    "ax.zaxis.labelpad=13\n",
    "ax.xaxis.labelpad=13\n",
    "ax.view_init(10, 120)\n",
    "ax.autoscale_view()\n",
    "\n",
    "plt.show()"
   ]
  },
  {
   "cell_type": "code",
   "execution_count": 29,
   "metadata": {},
   "outputs": [
    {
     "data": {
      "text/plain": [
       "9.0"
      ]
     },
     "execution_count": 29,
     "metadata": {},
     "output_type": "execute_result"
    }
   ],
   "source": [
    "np.linalg.norm(di['results'][6][2][0].props['magnetization'])"
   ]
  },
  {
   "cell_type": "code",
   "execution_count": 30,
   "metadata": {},
   "outputs": [
    {
     "data": {
      "text/plain": [
       "-360.0"
      ]
     },
     "execution_count": 30,
     "metadata": {},
     "output_type": "execute_result"
    }
   ],
   "source": [
    "di['results'][6][2][0].z1"
   ]
  },
  {
   "cell_type": "code",
   "execution_count": null,
   "metadata": {},
   "outputs": [],
   "source": []
  }
 ],
 "metadata": {
  "kernelspec": {
   "display_name": "Python 2",
   "language": "python",
   "name": "python2"
  },
  "language_info": {
   "codemirror_mode": {
    "name": "ipython",
    "version": 2
   },
   "file_extension": ".py",
   "mimetype": "text/x-python",
   "name": "python",
   "nbconvert_exporter": "python",
   "pygments_lexer": "ipython2",
   "version": "2.7.16"
  }
 },
 "nbformat": 4,
 "nbformat_minor": 2
}
