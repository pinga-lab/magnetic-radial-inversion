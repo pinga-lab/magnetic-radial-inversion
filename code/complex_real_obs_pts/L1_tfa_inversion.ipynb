{
 "cells": [
  {
   "cell_type": "markdown",
   "metadata": {},
   "source": [
    "# Complex body TFA Inversion"
   ]
  },
  {
   "cell_type": "markdown",
   "metadata": {},
   "source": [
    "This notebook performs the inversion using Levenberg-Marquadt's algorithm of total field anomaly (TFA) data on a regular grid of a model with a complex geometry."
   ]
  },
  {
   "cell_type": "code",
   "execution_count": 25,
   "metadata": {},
   "outputs": [],
   "source": [
    "import numpy as np\n",
    "import matplotlib.pyplot as plt\n",
    "import cPickle as pickle\n",
    "import os\n",
    "\n",
    "from fatiando import utils\n",
    "from fatiando.gravmag import polyprism\n",
    "from fatiando.vis import mpl"
   ]
  },
  {
   "cell_type": "markdown",
   "metadata": {},
   "source": [
    "### Auxiliary functions"
   ]
  },
  {
   "cell_type": "code",
   "execution_count": 26,
   "metadata": {
    "collapsed": true
   },
   "outputs": [],
   "source": [
    "import sys\n",
    "sys.path.insert(0, '../../code')\n",
    "\n",
    "import mag_polyprism_functions as mfun"
   ]
  },
  {
   "cell_type": "markdown",
   "metadata": {},
   "source": [
    "# Input"
   ]
  },
  {
   "cell_type": "markdown",
   "metadata": {},
   "source": [
    "### Importing model parameters"
   ]
  },
  {
   "cell_type": "code",
   "execution_count": 27,
   "metadata": {},
   "outputs": [],
   "source": [
    "model_dir = 'data/model_real_obs_pts.pickle'\n",
    "data_dir = 'data/real_obs_pts/data.pickle'"
   ]
  },
  {
   "cell_type": "code",
   "execution_count": 28,
   "metadata": {},
   "outputs": [],
   "source": [
    "with open(model_dir) as w:\n",
    "        model = pickle.load(w)"
   ]
  },
  {
   "cell_type": "markdown",
   "metadata": {},
   "source": [
    "### Observation points and observed data"
   ]
  },
  {
   "cell_type": "code",
   "execution_count": 29,
   "metadata": {
    "collapsed": true
   },
   "outputs": [],
   "source": [
    "with open(data_dir) as w:\n",
    "        data = pickle.load(w)"
   ]
  },
  {
   "cell_type": "code",
   "execution_count": 30,
   "metadata": {},
   "outputs": [],
   "source": [
    "# observed data and observation points\n",
    "dobs = data['tfa_obs']\n",
    "xp = data['grid'][0]\n",
    "yp = data['grid'][1]\n",
    "zp = data['grid'][2]\n",
    "N = data['grid'][3]"
   ]
  },
  {
   "cell_type": "markdown",
   "metadata": {},
   "source": [
    "### Parameters of the initial model"
   ]
  },
  {
   "cell_type": "code",
   "execution_count": 31,
   "metadata": {},
   "outputs": [],
   "source": [
    "M = 20 # number of vertices per prism\n",
    "L = 10 # number of prisms\n",
    "P = L*(M+2) + 1 # number of parameters\n",
    "\n",
    "# depth to the top, thickness, origin, magnetization and radius\n",
    "incs = model['inc']\n",
    "decs = model['dec']\n",
    "intensity = model['intensity'] -0.6\n",
    "z0 = model['z0'] - 20.\n",
    "dz = 650.\n",
    "r = 800.\n",
    "x0 = -300.\n",
    "y0 = 300.\n",
    "\n",
    "# main field\n",
    "inc, dec = data['main_field']\n",
    "\n",
    "model0, m0 = mfun.initial_cylinder(M, L, x0,\n",
    "        y0, z0, dz, r, inc, dec, incs, decs, intensity)\n",
    "\n",
    "# predict data\n",
    "d0 = polyprism.tf(xp, yp, zp, model0, inc, dec)"
   ]
  },
  {
   "cell_type": "code",
   "execution_count": 32,
   "metadata": {},
   "outputs": [
    {
     "data": {
      "text/plain": [
       "11.4"
      ]
     },
     "execution_count": 32,
     "metadata": {},
     "output_type": "execute_result"
    }
   ],
   "source": [
    "intensity"
   ]
  },
  {
   "cell_type": "code",
   "execution_count": 33,
   "metadata": {},
   "outputs": [
    {
     "data": {
      "text/plain": [
       "-320.0"
      ]
     },
     "execution_count": 33,
     "metadata": {},
     "output_type": "execute_result"
    }
   ],
   "source": [
    "z0"
   ]
  },
  {
   "cell_type": "markdown",
   "metadata": {},
   "source": [
    "### Limits"
   ]
  },
  {
   "cell_type": "code",
   "execution_count": 34,
   "metadata": {},
   "outputs": [],
   "source": [
    "# limits for parameters in meters\n",
    "rmin = 10.\n",
    "rmax = 3000.\n",
    "x0min = -4000.\n",
    "x0max = 4000.\n",
    "y0min = -4000.\n",
    "y0max = 400.\n",
    "dzmin = 200.\n",
    "dzmax = 1000.\n",
    "\n",
    "mmin, mmax = mfun.build_range_param(M, L, rmin, rmax, x0min, x0max, y0min, y0max, dzmin, dzmax)"
   ]
  },
  {
   "cell_type": "markdown",
   "metadata": {},
   "source": [
    "### Variation"
   ]
  },
  {
   "cell_type": "code",
   "execution_count": 35,
   "metadata": {},
   "outputs": [],
   "source": [
    "# variation for derivatives\n",
    "deltax = 0.01*np.max(1000.)\n",
    "deltay = 0.01*np.max(1000.)\n",
    "deltar = 0.01*np.max(1000.)\n",
    "deltaz = 0.01*np.max(100.)"
   ]
  },
  {
   "cell_type": "markdown",
   "metadata": {},
   "source": [
    "### Outcropping parameters"
   ]
  },
  {
   "cell_type": "code",
   "execution_count": 36,
   "metadata": {},
   "outputs": [],
   "source": [
    "# outcropping body parameters\n",
    "m_out = np.zeros(M + 2)\n",
    "#m_out = model['param_vec'][:M+2]"
   ]
  },
  {
   "cell_type": "markdown",
   "metadata": {},
   "source": [
    "### Folder to save the results"
   ]
  },
  {
   "cell_type": "code",
   "execution_count": 38,
   "metadata": {},
   "outputs": [],
   "source": [
    "mypath = data_dir[:-11]+'L1_tfa_inversion/V%d_L%d_inc%d_dec%d_r%d_int%d_z0%d_dz%d' % (M, L, incs, decs, r, intensity, z0, dz)\n",
    "if not os.path.isdir(mypath):\n",
    "    os.makedirs(mypath)"
   ]
  },
  {
   "cell_type": "code",
   "execution_count": 39,
   "metadata": {},
   "outputs": [],
   "source": [
    "# output of inversion\n",
    "inversion = dict()"
   ]
  },
  {
   "cell_type": "markdown",
   "metadata": {},
   "source": [
    "### Regularization parameters"
   ]
  },
  {
   "cell_type": "code",
   "execution_count": 40,
   "metadata": {
    "collapsed": true
   },
   "outputs": [],
   "source": [
    "#lamb = th*0.01 # Marquadt's parameter\n",
    "lamb = 10.0\n",
    "dlamb = 10.      # step for Marquadt's parameter\n",
    "\n",
    "a1 = 1.0e-5  # adjacent radial distances within each prism\n",
    "a2 = 1.0e-4   # vertically adjacent radial distances\n",
    "a3 = 0.     # outcropping cross-section\n",
    "a4 = 0.     # outcropping origin\n",
    "a5 = 1.0e-4    # vertically adjacent origins\n",
    "a6 = 1.0e-7   # zero order Tikhonov on adjacent radial distances\n",
    "a7 = 1.0e-5     # zero order Tikhonov on thickness of each prism"
   ]
  },
  {
   "cell_type": "code",
   "execution_count": 41,
   "metadata": {},
   "outputs": [],
   "source": [
    "delta = np.array([deltax, deltay, deltar, deltaz])\n",
    "alpha = np.array([a1, a2, a3, a4, a5, a6, a7])"
   ]
  },
  {
   "cell_type": "code",
   "execution_count": 42,
   "metadata": {},
   "outputs": [],
   "source": [
    "itmax = 30\n",
    "itmax_marq = 10\n",
    "tol = 1.0e-4     # stop criterion"
   ]
  },
  {
   "cell_type": "code",
   "execution_count": 43,
   "metadata": {},
   "outputs": [],
   "source": [
    "inversion['x'] = xp\n",
    "inversion['y'] = yp\n",
    "inversion['z'] = zp\n",
    "inversion['observed_data'] = dobs"
   ]
  },
  {
   "cell_type": "code",
   "execution_count": 44,
   "metadata": {},
   "outputs": [],
   "source": [
    "inversion['inc_dec'] = [incs, decs]\n",
    "inversion['z0'] = z0\n",
    "inversion['initial_dz'] = dz\n",
    "inversion['intial_r'] = r\n",
    "inversion['initial_estimate'] = model0\n",
    "inversion['initial_data'] = d0\n",
    "inversion['limits'] = [rmin, rmax, x0min, x0max, y0min, y0max, dzmin, dzmax]\n",
    "inversion['regularization'] = alpha\n",
    "inversion['tol'] = tol\n",
    "inversion['main_field'] = [-21.5, -18.7]"
   ]
  },
  {
   "cell_type": "code",
   "execution_count": 45,
   "metadata": {},
   "outputs": [
    {
     "data": {
      "image/png": "[encoded data removed]",
      "text/plain": [
       "<Figure size 432x360 with 2 Axes>"
      ]
     },
     "metadata": {
      "needs_background": "light"
     },
     "output_type": "display_data"
    }
   ],
   "source": [
    "plt.figure(figsize=(6,5))\n",
    "plt.title('Observed TFA', fontsize=20)\n",
    "plt.tricontourf(yp, xp, dobs, 20, cmap='RdBu_r').ax.tick_params(labelsize=12)\n",
    "plt.xlabel('$y$(km)', fontsize=18)\n",
    "plt.ylabel('$x$(km)', fontsize=18)\n",
    "clb = plt.colorbar(pad=0.025, aspect=40, shrink=1)\n",
    "clb.ax.tick_params(labelsize=13)\n",
    "source = mpl.polygon(model['prisms'][0], '.-k', xy2ne=True)\n",
    "estimate = mpl.polygon(model0[0], '.-y', xy2ne=True)\n",
    "#source.set_label('Outcropping polygon')\n",
    "estimate.set_label('Initial estimate')\n",
    "clb.ax.set_title('nT')\n",
    "mpl.m2km()\n",
    "plt.legend(loc=0, fontsize=12, shadow=bool, framealpha=1)\n",
    "#plt.savefig(mypath+'diorama_tfa_pred_data_true_inital.png', dpi=300)\n",
    "plt.show()\n",
    "\n",
    "#img(filename=mypath+'diorama_tfa_pred_data_true_inital.png', width=1000, height=1200)"
   ]
  },
  {
   "cell_type": "code",
   "execution_count": 46,
   "metadata": {},
   "outputs": [
    {
     "data": {
      "image/png": "[encoded data removed]",
      "text/plain": [
       "<Figure size 432x360 with 2 Axes>"
      ]
     },
     "metadata": {
      "needs_background": "light"
     },
     "output_type": "display_data"
    }
   ],
   "source": [
    "plt.figure(figsize=(6,5))\n",
    "plt.title('Predicted TFA', fontsize=20)\n",
    "plt.tricontourf(yp, xp, d0, 20, cmap='RdBu_r').ax.tick_params(labelsize=12)\n",
    "plt.xlabel('$y$(km)', fontsize=18)\n",
    "plt.ylabel('$x$(km)', fontsize=18)\n",
    "clb = plt.colorbar(pad=0.025, aspect=40, shrink=1)\n",
    "clb.ax.tick_params(labelsize=13)\n",
    "estimate = mpl.polygon(model0[0], '.-y', xy2ne=True)\n",
    "estimate.set_label('Initial estimate')\n",
    "clb.ax.set_title('nT')\n",
    "mpl.m2km()\n",
    "plt.legend(loc=0, fontsize=12, shadow=bool, framealpha=1)\n",
    "plt.show()"
   ]
  },
  {
   "cell_type": "markdown",
   "metadata": {},
   "source": [
    "### Inversion"
   ]
  },
  {
   "cell_type": "code",
   "execution_count": 47,
   "metadata": {},
   "outputs": [
    {
     "name": "stdout",
     "output_type": "stream",
     "text": [
      "it:  0   it_marq:  0   lambda: 1e+01   init obj.: 2.49493e+04  fin obj.: 2.06019e+04\n",
      "it:  1   it_marq:  0   lambda: 1e+00   init obj.: 2.06019e+04  fin obj.: 7.78841e+03\n",
      "it:  2   it_marq:  0   lambda: 1e-01   init obj.: 7.78841e+03  fin obj.: 1.44678e+03\n",
      "it:  3   it_marq:  0   lambda: 1e-02   init obj.: 1.44678e+03  fin obj.: 3.25880e+02\n",
      "it:  4   it_marq:  0   lambda: 1e-03   init obj.: 3.25880e+02  fin obj.: 1.63590e+02\n",
      "it:  5   it_marq:  0   lambda: 1e-04   init obj.: 1.63590e+02  fin obj.: 9.99537e+01\n",
      "it:  6   it_marq:  0   lambda: 1e-05   init obj.: 9.99537e+01  fin obj.: 8.63366e+01\n",
      "it:  7   it_marq:  0   lambda: 1e-06   init obj.: 8.63366e+01  fin obj.: 7.11411e+01\n",
      "it:  8   it_marq:  0   lambda: 1e-07   init obj.: 7.11411e+01  fin obj.: 6.07295e+01\n",
      "it:  9   it_marq:  0   lambda: 1e-08   init obj.: 6.07295e+01  fin obj.: 5.31586e+01\n",
      "it: 10   it_marq:  0   lambda: 1e-09   init obj.: 5.31586e+01  fin obj.: 5.07983e+01\n",
      "it: 11   it_marq:  0   lambda: 1e-10   init obj.: 5.07983e+01  fin obj.: 5.00788e+01\n",
      "it: 12   it_marq:  0   lambda: 1e-11   init obj.: 5.00788e+01  fin obj.: 4.89354e+01\n",
      "it: 13   it_marq:  0   lambda: 1e-12   init obj.: 4.89354e+01  fin obj.: 4.71271e+01\n",
      "it: 14   it_marq:  0   lambda: 1e-13   init obj.: 4.71271e+01  fin obj.: 4.60080e+01\n",
      "it: 15   it_marq:  0   lambda: 1e-14   init obj.: 4.60080e+01  fin obj.: 4.53990e+01\n",
      "it: 16   it_marq:  0   lambda: 1e-15   init obj.: 4.53990e+01  fin obj.: 4.52861e+01\n",
      "it: 17   it_marq:  0   lambda: 1e-15   init obj.: 4.52861e+01  fin obj.: 4.58787e+01\n",
      "it: 17   it_marq:  1   lambda: 1e-14   init obj.: 4.52861e+01  fin obj.: 4.58787e+01\n",
      "it: 17   it_marq:  2   lambda: 1e-13   init obj.: 4.52861e+01  fin obj.: 4.58787e+01\n",
      "it: 17   it_marq:  3   lambda: 1e-12   init obj.: 4.52861e+01  fin obj.: 4.58787e+01\n",
      "it: 17   it_marq:  4   lambda: 1e-11   init obj.: 4.52861e+01  fin obj.: 4.58787e+01\n",
      "it: 17   it_marq:  5   lambda: 1e-10   init obj.: 4.52861e+01  fin obj.: 4.58787e+01\n",
      "it: 17   it_marq:  6   lambda: 1e-09   init obj.: 4.52861e+01  fin obj.: 4.58787e+01\n",
      "it: 17   it_marq:  7   lambda: 1e-08   init obj.: 4.52861e+01  fin obj.: 4.58787e+01\n",
      "it: 17   it_marq:  8   lambda: 1e-07   init obj.: 4.52861e+01  fin obj.: 4.58786e+01\n",
      "it: 17   it_marq:  9   lambda: 1e-06   init obj.: 4.52861e+01  fin obj.: 4.58780e+01\n",
      "it: 18   it_marq:  0   lambda: 1e-05   init obj.: 4.52861e+01  fin obj.: 4.81819e+01\n",
      "it: 18   it_marq:  1   lambda: 1e-04   init obj.: 4.52861e+01  fin obj.: 4.79961e+01\n",
      "it: 18   it_marq:  2   lambda: 1e-03   init obj.: 4.52861e+01  fin obj.: 4.71793e+01\n",
      "it: 18   it_marq:  3   lambda: 1e-02   init obj.: 4.52861e+01  fin obj.: 4.58167e+01\n",
      "it: 18   it_marq:  4   lambda: 1e-01   init obj.: 4.52861e+01  fin obj.: 4.53141e+01\n",
      "it: 18   it_marq:  5   lambda: 1e+00   init obj.: 4.52861e+01  fin obj.: 4.54795e+01\n",
      "it: 18   it_marq:  6   lambda: 1e+01   init obj.: 4.52861e+01  fin obj.: 4.57050e+01\n",
      "it: 18   it_marq:  7   lambda: 1e+02   init obj.: 4.52861e+01  fin obj.: 4.58295e+01\n",
      "it: 18   it_marq:  8   lambda: 1e+03   init obj.: 4.52861e+01  fin obj.: 4.58647e+01\n",
      "it: 18   it_marq:  9   lambda: 1e+04   init obj.: 4.52861e+01  fin obj.: 4.58695e+01\n",
      "it: 19   it_marq:  0   lambda: 1e+05   init obj.: 4.52861e+01  fin obj.: 4.58618e+01\n",
      "it: 19   it_marq:  1   lambda: 1e+06   init obj.: 4.52861e+01  fin obj.: 4.58618e+01\n",
      "it: 19   it_marq:  2   lambda: 1e+07   init obj.: 4.52861e+01  fin obj.: 4.58618e+01\n",
      "it: 19   it_marq:  3   lambda: 1e+08   init obj.: 4.52861e+01  fin obj.: 4.58618e+01\n",
      "it: 19   it_marq:  4   lambda: 1e+09   init obj.: 4.52861e+01  fin obj.: 4.58618e+01\n",
      "it: 19   it_marq:  5   lambda: 1e+10   init obj.: 4.52861e+01  fin obj.: 4.58618e+01\n",
      "it: 19   it_marq:  6   lambda: 1e+11   init obj.: 4.52861e+01  fin obj.: 4.58618e+01\n",
      "it: 19   it_marq:  7   lambda: 1e+12   init obj.: 4.52861e+01  fin obj.: 4.58618e+01\n",
      "it: 19   it_marq:  8   lambda: 1e+13   init obj.: 4.52861e+01  fin obj.: 4.58618e+01\n",
      "it: 19   it_marq:  9   lambda: 1e+14   init obj.: 4.52861e+01  fin obj.: 4.58618e+01\n",
      "it: 20   it_marq:  0   lambda: 1e+15   init obj.: 4.52861e+01  fin obj.: 4.58543e+01\n",
      "it: 20   it_marq:  1   lambda: 1e+16   init obj.: 4.52861e+01  fin obj.: 4.58543e+01\n",
      "it: 20   it_marq:  2   lambda: 1e+17   init obj.: 4.52861e+01  fin obj.: 4.58543e+01\n",
      "it: 20   it_marq:  3   lambda: 1e+18   init obj.: 4.52861e+01  fin obj.: 4.58543e+01\n",
      "it: 20   it_marq:  4   lambda: 1e+19   init obj.: 4.52861e+01  fin obj.: 4.58543e+01\n",
      "it: 20   it_marq:  5   lambda: 1e+20   init obj.: 4.52861e+01  fin obj.: 4.58543e+01\n",
      "it: 20   it_marq:  6   lambda: 1e+21   init obj.: 4.52861e+01  fin obj.: 4.58543e+01\n",
      "it: 20   it_marq:  7   lambda: 1e+22   init obj.: 4.52861e+01  fin obj.: 4.58543e+01\n",
      "it: 20   it_marq:  8   lambda: 1e+23   init obj.: 4.52861e+01  fin obj.: 4.58543e+01\n",
      "it: 20   it_marq:  9   lambda: 1e+24   init obj.: 4.52861e+01  fin obj.: 4.58543e+01\n",
      "it: 21   it_marq:  0   lambda: 1e+25   init obj.: 4.52861e+01  fin obj.: 4.58471e+01\n",
      "it: 21   it_marq:  1   lambda: 1e+26   init obj.: 4.52861e+01  fin obj.: 4.58471e+01\n",
      "it: 21   it_marq:  2   lambda: 1e+27   init obj.: 4.52861e+01  fin obj.: 4.58471e+01\n",
      "it: 21   it_marq:  3   lambda: 1e+28   init obj.: 4.52861e+01  fin obj.: 4.58471e+01\n",
      "it: 21   it_marq:  4   lambda: 1e+29   init obj.: 4.52861e+01  fin obj.: 4.58471e+01\n",
      "it: 21   it_marq:  5   lambda: 1e+30   init obj.: 4.52861e+01  fin obj.: 4.58471e+01\n",
      "it: 21   it_marq:  6   lambda: 1e+31   init obj.: 4.52861e+01  fin obj.: 4.58471e+01\n",
      "it: 21   it_marq:  7   lambda: 1e+32   init obj.: 4.52861e+01  fin obj.: 4.58471e+01\n",
      "it: 21   it_marq:  8   lambda: 1e+33   init obj.: 4.52861e+01  fin obj.: 4.58471e+01\n",
      "it: 21   it_marq:  9   lambda: 1e+34   init obj.: 4.52861e+01  fin obj.: 4.58471e+01\n",
      "it: 22   it_marq:  0   lambda: 1e+35   init obj.: 4.52861e+01  fin obj.: 4.58400e+01\n",
      "it: 22   it_marq:  1   lambda: 1e+36   init obj.: 4.52861e+01  fin obj.: 4.58400e+01\n",
      "it: 22   it_marq:  2   lambda: 1e+37   init obj.: 4.52861e+01  fin obj.: 4.58400e+01\n",
      "it: 22   it_marq:  3   lambda: 1e+38   init obj.: 4.52861e+01  fin obj.: 4.58400e+01\n",
      "it: 22   it_marq:  4   lambda: 1e+39   init obj.: 4.52861e+01  fin obj.: 4.58400e+01\n",
      "it: 22   it_marq:  5   lambda: 1e+40   init obj.: 4.52861e+01  fin obj.: 4.58400e+01\n",
      "it: 22   it_marq:  6   lambda: 1e+41   init obj.: 4.52861e+01  fin obj.: 4.58400e+01\n",
      "it: 22   it_marq:  7   lambda: 1e+42   init obj.: 4.52861e+01  fin obj.: 4.58400e+01\n",
      "it: 22   it_marq:  8   lambda: 1e+43   init obj.: 4.52861e+01  fin obj.: 4.58400e+01\n",
      "it: 22   it_marq:  9   lambda: 1e+44   init obj.: 4.52861e+01  fin obj.: 4.58400e+01\n",
      "it: 23   it_marq:  0   lambda: 1e+45   init obj.: 4.52861e+01  fin obj.: 4.58332e+01\n",
      "it: 23   it_marq:  1   lambda: 1e+46   init obj.: 4.52861e+01  fin obj.: 4.58332e+01\n",
      "it: 23   it_marq:  2   lambda: 1e+47   init obj.: 4.52861e+01  fin obj.: 4.58332e+01\n",
      "it: 23   it_marq:  3   lambda: 1e+48   init obj.: 4.52861e+01  fin obj.: 4.58332e+01\n",
      "it: 23   it_marq:  4   lambda: 1e+49   init obj.: 4.52861e+01  fin obj.: 4.58332e+01\n",
      "it: 23   it_marq:  5   lambda: 1e+50   init obj.: 4.52861e+01  fin obj.: 4.58332e+01\n",
      "it: 23   it_marq:  6   lambda: 1e+51   init obj.: 4.52861e+01  fin obj.: 4.58332e+01\n",
      "it: 23   it_marq:  7   lambda: 1e+52   init obj.: 4.52861e+01  fin obj.: 4.58332e+01\n",
      "it: 23   it_marq:  8   lambda: 1e+53   init obj.: 4.52861e+01  fin obj.: 4.58332e+01\n",
      "it: 23   it_marq:  9   lambda: 1e+54   init obj.: 4.52861e+01  fin obj.: 4.58332e+01\n",
      "it: 24   it_marq:  0   lambda: 1e+55   init obj.: 4.52861e+01  fin obj.: 4.58265e+01\n",
      "it: 24   it_marq:  1   lambda: 1e+56   init obj.: 4.52861e+01  fin obj.: 4.58265e+01\n",
      "it: 24   it_marq:  2   lambda: 1e+57   init obj.: 4.52861e+01  fin obj.: 4.58265e+01\n",
      "it: 24   it_marq:  3   lambda: 1e+58   init obj.: 4.52861e+01  fin obj.: 4.58265e+01\n",
      "it: 24   it_marq:  4   lambda: 1e+59   init obj.: 4.52861e+01  fin obj.: 4.58265e+01\n",
      "it: 24   it_marq:  5   lambda: 1e+60   init obj.: 4.52861e+01  fin obj.: 4.58265e+01\n",
      "it: 24   it_marq:  6   lambda: 1e+61   init obj.: 4.52861e+01  fin obj.: 4.58265e+01\n",
      "it: 24   it_marq:  7   lambda: 1e+62   init obj.: 4.52861e+01  fin obj.: 4.58265e+01\n",
      "it: 24   it_marq:  8   lambda: 1e+63   init obj.: 4.52861e+01  fin obj.: 4.58265e+01\n",
      "it: 24   it_marq:  9   lambda: 1e+64   init obj.: 4.52861e+01  fin obj.: 4.58265e+01\n",
      "it: 25   it_marq:  0   lambda: 1e+65   init obj.: 4.52861e+01  fin obj.: 4.58201e+01\n",
      "it: 25   it_marq:  1   lambda: 1e+66   init obj.: 4.52861e+01  fin obj.: 4.58201e+01\n",
      "it: 25   it_marq:  2   lambda: 1e+67   init obj.: 4.52861e+01  fin obj.: 4.58201e+01\n",
      "it: 25   it_marq:  3   lambda: 1e+68   init obj.: 4.52861e+01  fin obj.: 4.58201e+01\n",
      "it: 25   it_marq:  4   lambda: 1e+69   init obj.: 4.52861e+01  fin obj.: 4.58201e+01\n",
      "it: 25   it_marq:  5   lambda: 1e+70   init obj.: 4.52861e+01  fin obj.: 4.58201e+01\n",
      "it: 25   it_marq:  6   lambda: 1e+71   init obj.: 4.52861e+01  fin obj.: 4.58201e+01\n",
      "it: 25   it_marq:  7   lambda: 1e+72   init obj.: 4.52861e+01  fin obj.: 4.58201e+01\n",
      "it: 25   it_marq:  8   lambda: 1e+73   init obj.: 4.52861e+01  fin obj.: 4.58201e+01\n",
      "it: 25   it_marq:  9   lambda: 1e+74   init obj.: 4.52861e+01  fin obj.: 4.58201e+01\n",
      "it: 26   it_marq:  0   lambda: 1e+75   init obj.: 4.52861e+01  fin obj.: 4.58139e+01\n",
      "it: 26   it_marq:  1   lambda: 1e+76   init obj.: 4.52861e+01  fin obj.: 4.58139e+01\n",
      "it: 26   it_marq:  2   lambda: 1e+77   init obj.: 4.52861e+01  fin obj.: 4.58139e+01\n",
      "it: 26   it_marq:  3   lambda: 1e+78   init obj.: 4.52861e+01  fin obj.: 4.58139e+01\n",
      "it: 26   it_marq:  4   lambda: 1e+79   init obj.: 4.52861e+01  fin obj.: 4.58139e+01\n",
      "it: 26   it_marq:  5   lambda: 1e+80   init obj.: 4.52861e+01  fin obj.: 4.58139e+01\n",
      "it: 26   it_marq:  6   lambda: 1e+81   init obj.: 4.52861e+01  fin obj.: 4.58139e+01\n",
      "it: 26   it_marq:  7   lambda: 1e+82   init obj.: 4.52861e+01  fin obj.: 4.58139e+01\n",
      "it: 26   it_marq:  8   lambda: 1e+83   init obj.: 4.52861e+01  fin obj.: 4.58139e+01\n",
      "it: 26   it_marq:  9   lambda: 1e+84   init obj.: 4.52861e+01  fin obj.: 4.58139e+01\n",
      "it: 27   it_marq:  0   lambda: 1e+85   init obj.: 4.52861e+01  fin obj.: 4.58078e+01\n",
      "it: 27   it_marq:  1   lambda: 1e+86   init obj.: 4.52861e+01  fin obj.: 4.58078e+01\n",
      "it: 27   it_marq:  2   lambda: 1e+87   init obj.: 4.52861e+01  fin obj.: 4.58078e+01\n",
      "it: 27   it_marq:  3   lambda: 1e+88   init obj.: 4.52861e+01  fin obj.: 4.58078e+01\n",
      "it: 27   it_marq:  4   lambda: 1e+89   init obj.: 4.52861e+01  fin obj.: 4.58078e+01\n",
      "it: 27   it_marq:  5   lambda: 1e+90   init obj.: 4.52861e+01  fin obj.: 4.58078e+01\n",
      "it: 27   it_marq:  6   lambda: 1e+91   init obj.: 4.52861e+01  fin obj.: 4.58078e+01\n",
      "it: 27   it_marq:  7   lambda: 1e+92   init obj.: 4.52861e+01  fin obj.: 4.58078e+01\n",
      "it: 27   it_marq:  8   lambda: 1e+93   init obj.: 4.52861e+01  fin obj.: 4.58078e+01\n",
      "it: 27   it_marq:  9   lambda: 1e+94   init obj.: 4.52861e+01  fin obj.: 4.58078e+01\n",
      "it: 28   it_marq:  0   lambda: 1e+95   init obj.: 4.52861e+01  fin obj.: 4.58020e+01\n",
      "it: 28   it_marq:  1   lambda: 1e+96   init obj.: 4.52861e+01  fin obj.: 4.58020e+01\n",
      "it: 28   it_marq:  2   lambda: 1e+97   init obj.: 4.52861e+01  fin obj.: 4.58020e+01\n",
      "it: 28   it_marq:  3   lambda: 1e+98   init obj.: 4.52861e+01  fin obj.: 4.58020e+01\n",
      "it: 28   it_marq:  4   lambda: 1e+99   init obj.: 4.52861e+01  fin obj.: 4.58020e+01\n",
      "it: 28   it_marq:  5   lambda: 1e+100   init obj.: 4.52861e+01  fin obj.: 4.58020e+01\n",
      "it: 28   it_marq:  6   lambda: 1e+101   init obj.: 4.52861e+01  fin obj.: 4.58020e+01\n",
      "it: 28   it_marq:  7   lambda: 1e+102   init obj.: 4.52861e+01  fin obj.: 4.58020e+01\n",
      "it: 28   it_marq:  8   lambda: 1e+103   init obj.: 4.52861e+01  fin obj.: 4.58020e+01\n",
      "it: 28   it_marq:  9   lambda: 1e+104   init obj.: 4.52861e+01  fin obj.: 4.58020e+01\n",
      "it: 29   it_marq:  0   lambda: 1e+105   init obj.: 4.52861e+01  fin obj.: 4.57964e+01\n",
      "it: 29   it_marq:  1   lambda: 1e+106   init obj.: 4.52861e+01  fin obj.: 4.57964e+01\n",
      "it: 29   it_marq:  2   lambda: 1e+107   init obj.: 4.52861e+01  fin obj.: 4.57964e+01\n",
      "it: 29   it_marq:  3   lambda: 1e+108   init obj.: 4.52861e+01  fin obj.: 4.57964e+01\n",
      "it: 29   it_marq:  4   lambda: 1e+109   init obj.: 4.52861e+01  fin obj.: 4.57964e+01\n",
      "it: 29   it_marq:  5   lambda: 1e+110   init obj.: 4.52861e+01  fin obj.: 4.57964e+01\n",
      "it: 29   it_marq:  6   lambda: 1e+111   init obj.: 4.52861e+01  fin obj.: 4.57964e+01\n",
      "it: 29   it_marq:  7   lambda: 1e+112   init obj.: 4.52861e+01  fin obj.: 4.57964e+01\n",
      "it: 29   it_marq:  8   lambda: 1e+113   init obj.: 4.52861e+01  fin obj.: 4.57964e+01\n",
      "it: 29   it_marq:  9   lambda: 1e+114   init obj.: 4.52861e+01  fin obj.: 4.57964e+01\n"
     ]
    }
   ],
   "source": [
    "d_fit, m_est, model_est, phi_list, model_list, res_list = mfun.l1_levmarq_tf(\n",
    "    xp, yp, zp, m0, M, L, delta,\n",
    "    itmax, itmax_marq, lamb,\n",
    "    dlamb, tol, mmin, mmax,\n",
    "    m_out, dobs, inc, dec,\n",
    "    model0[0].props, alpha, z0, dz\n",
    ")"
   ]
  },
  {
   "cell_type": "markdown",
   "metadata": {},
   "source": [
    "# Results"
   ]
  },
  {
   "cell_type": "code",
   "execution_count": 48,
   "metadata": {},
   "outputs": [],
   "source": [
    "inversion['data_fit'] = d_fit\n",
    "inversion['estimate'] = m_est\n",
    "inversion['prisms'] = model_est\n",
    "inversion['estimated_models'] = model_list\n",
    "inversion['objective'] = phi_list\n",
    "inversion['residual'] = dobs - d_fit\n",
    "inversion['residual_list'] = res_list"
   ]
  },
  {
   "cell_type": "code",
   "execution_count": 51,
   "metadata": {},
   "outputs": [],
   "source": [
    "file_name = mypath+'/inversion.pickle'\n",
    "with open(file_name, 'w') as f:\n",
    "    pickle.dump(inversion, f)"
   ]
  },
  {
   "cell_type": "code",
   "execution_count": 52,
   "metadata": {},
   "outputs": [
    {
     "data": {
      "text/plain": [
       "'data/real_obs_pts/L1_tfa_inversion/V20_L10_inc-50_dec9_r800_int11_z0-320_dz650'"
      ]
     },
     "execution_count": 52,
     "metadata": {},
     "output_type": "execute_result"
    }
   ],
   "source": [
    "mypath"
   ]
  },
  {
   "cell_type": "code",
   "execution_count": null,
   "metadata": {},
   "outputs": [],
   "source": []
  }
 ],
 "metadata": {
  "anaconda-cloud": {},
  "kernelspec": {
   "display_name": "Python 2",
   "language": "python",
   "name": "python2"
  },
  "language_info": {
   "codemirror_mode": {
    "name": "ipython",
    "version": 2
   },
   "file_extension": ".py",
   "mimetype": "text/x-python",
   "name": "python",
   "nbconvert_exporter": "python",
   "pygments_lexer": "ipython2",
   "version": "2.7.16"
  }
 },
 "nbformat": 4,
 "nbformat_minor": 2
}
