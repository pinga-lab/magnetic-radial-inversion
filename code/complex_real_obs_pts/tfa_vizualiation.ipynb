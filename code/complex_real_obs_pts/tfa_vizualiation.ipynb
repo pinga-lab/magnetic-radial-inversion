{
 "cells": [
  {
   "cell_type": "markdown",
   "metadata": {},
   "source": [
    "# Visualization of inversion - complex data"
   ]
  },
  {
   "cell_type": "code",
   "execution_count": 34,
   "metadata": {},
   "outputs": [],
   "source": [
    "import matplotlib as mpb\n",
    "\n",
    "# show all the matplotlib backends \n",
    "mpb.rcsetup.all_backends \n",
    "\n",
    "# force matplotlib to use the 'Qt5Agg' backend \n",
    "mpb.use(arg='Qt5Agg', force=True)"
   ]
  },
  {
   "cell_type": "code",
   "execution_count": 35,
   "metadata": {},
   "outputs": [],
   "source": [
    "import numpy as np\n",
    "import matplotlib.pyplot as plt\n",
    "import cPickle as pickle\n",
    "import os\n",
    "import scipy.stats as sp\n",
    "\n",
    "from fatiando.vis import mpl\n",
    "from mpl_toolkits.mplot3d import Axes3D\n",
    "from mpl_toolkits.mplot3d.art3d import Poly3DCollection\n",
    "from mpl_toolkits.axes_grid1.inset_locator import inset_axes"
   ]
  },
  {
   "cell_type": "code",
   "execution_count": 36,
   "metadata": {
    "collapsed": true
   },
   "outputs": [],
   "source": [
    "import sys\n",
    "sys.path.insert(0, '../../code')\n",
    "\n",
    "import mag_polyprism_functions as mfun"
   ]
  },
  {
   "cell_type": "raw",
   "metadata": {},
   "source": [
    "mypath = 'data/flightlines_grid_2100pts_100km2_-150m/tfa_inversion/upward_inc65_dec-40_r500_int10_z0200_dz600/'"
   ]
  },
  {
   "cell_type": "code",
   "execution_count": 37,
   "metadata": {},
   "outputs": [],
   "source": [
    "mypath = 'data/real_obs_pts/tfa_inversion/inc-50_dec9_r800_int11_z0-320_dz650/'"
   ]
  },
  {
   "cell_type": "code",
   "execution_count": 38,
   "metadata": {
    "collapsed": true
   },
   "outputs": [],
   "source": [
    "with open(mypath+'inversion.pickle') as w:\n",
    "        inversion = pickle.load(w)"
   ]
  },
  {
   "cell_type": "code",
   "execution_count": 39,
   "metadata": {},
   "outputs": [],
   "source": [
    "with open('data/model_real_obs_pts.pickle') as w:\n",
    "        model = pickle.load(w)"
   ]
  },
  {
   "cell_type": "code",
   "execution_count": 40,
   "metadata": {},
   "outputs": [
    {
     "data": {
      "text/plain": [
       "614.5120390555435"
      ]
     },
     "execution_count": 40,
     "metadata": {},
     "output_type": "execute_result"
    }
   ],
   "source": [
    "inversion['estimate'][-1]"
   ]
  },
  {
   "cell_type": "code",
   "execution_count": 41,
   "metadata": {},
   "outputs": [],
   "source": [
    "plt.figure(figsize=(6,5))\n",
    "#plt.title('Observed TFA', fontsize=20)\n",
    "norm=mpb.colors.Normalize(vmin=np.min(inversion['observed_data']), vmax=np.min(inversion['observed_data'])*(-1))\n",
    "plt.tricontour(inversion['y'], inversion['x'], inversion['observed_data'], 20, linewidths=0.2, colors='k')\n",
    "plt.tricontourf(inversion['y'], inversion['x'], inversion['observed_data'], 20, cmap='RdBu_r', norm=norm).ax.tick_params(labelsize=12)\n",
    "#plt.plot(inversion['y'], inversion['x'], 'ko', markersize=1.)\n",
    "plt.xlabel('$y$(km)', fontsize=18)\n",
    "plt.ylabel('$x$(km)', fontsize=18)\n",
    "clb = plt.colorbar(pad=0.025, aspect=40, shrink=1)\n",
    "clb.ax.tick_params(labelsize=13)\n",
    "clb.ax.set_title('nT')\n",
    "#clines = plt.tricontour(yp, xp, dobs, 20, colors='k', linewidths=0.2)\n",
    "#plt.clabel(clines, fontsize=4, fmt='%3d')\n",
    "mpl.m2km()\n",
    "#plt.legend(loc=0, fontsize=12, shadow=bool, framealpha=1, edgecolor='black')\n",
    "plt.savefig(mypath+'complex_tfa_data.png', dpi=300, bbox_inches=\"tight\")\n",
    "plt.show()\n",
    "#img(filename=mypath+'complex_real_data.png', width=1000, height=1200)"
   ]
  },
  {
   "cell_type": "code",
   "execution_count": 42,
   "metadata": {},
   "outputs": [],
   "source": [
    "plt.figure(figsize=(6,5))\n",
    "#plt.title('Predicted TFA', fontsize=20)\n",
    "plt.tricontour(inversion['y'], inversion['x'], inversion['initial_data'], 20, linewidths=0.2, colors='k')\n",
    "norm=mpb.colors.Normalize(vmin=np.min(inversion['initial_data']), vmax=np.min(inversion['initial_data'])*(-1))\n",
    "plt.tricontourf(inversion['y'], inversion['x'], inversion['initial_data'], 20, cmap='RdBu_r', norm=norm).ax.tick_params(labelsize=12)\n",
    "plt.xlabel('$y$(km)', fontsize=18)\n",
    "plt.ylabel('$x$(km)', fontsize=18)\n",
    "clb = plt.colorbar(pad=0.025, aspect=40, shrink=1)\n",
    "clb.ax.tick_params(labelsize=13)\n",
    "#source = mpl.polygon(model['prisms'][0], '.-k', xy2ne=True)\n",
    "estimate = mpl.polygon(inversion['initial_estimate'][0], '.-r', xy2ne=True)\n",
    "#source.set_label('Outcropping polygon')\n",
    "estimate.set_label('Initial estimate')\n",
    "clb.ax.set_title('nT')\n",
    "mpl.m2km()\n",
    "plt.legend(loc=0, fontsize=12, shadow=bool, framealpha=1)\n",
    "plt.savefig(mypath+'complex_tfa_pred_data_true_inital.png', dpi=300, bbox_inches=\"tight\")\n",
    "plt.show()\n",
    "\n",
    "#img(filename=mypath+'complex_tfa_pred_data_true_inital.png', width=1000, height=1200)"
   ]
  },
  {
   "cell_type": "code",
   "execution_count": 43,
   "metadata": {},
   "outputs": [],
   "source": [
    "plt.figure(figsize=(6,5))\n",
    "\n",
    "#plt.title('Observed TFA', fontsize=20)\n",
    "plt.tricontour(inversion['y'], inversion['x'], inversion['observed_data'], 20, linewidths=0.2, colors='k')\n",
    "norm=mpb.colors.Normalize(vmin=np.min(inversion['observed_data']), vmax=np.min(inversion['observed_data'])*(-1))\n",
    "plt.tricontourf(inversion['y'], inversion['x'], inversion['observed_data'], 20, cmap='RdBu_r', norm=norm).ax.tick_params(labelsize=12)\n",
    "plt.xlabel('$y$(km)', fontsize=18)\n",
    "plt.ylabel('$x$(km)', fontsize=18)\n",
    "clb = plt.colorbar(pad=0.025, aspect=40, shrink=1)\n",
    "clb.ax.tick_params(labelsize=13)\n",
    "#source = mpl.polygon(model['prisms'][0], '.-k', xy2ne=True)\n",
    "estimate = mpl.polygon(inversion['initial_estimate'][0], '.-r', xy2ne=True)\n",
    "#source.set_label('Outcropping polygon')\n",
    "estimate.set_label('Initial estimate')\n",
    "clb.ax.set_title('nT')\n",
    "mpl.m2km()\n",
    "plt.legend(loc=0, fontsize=12, shadow=bool, framealpha=1)\n",
    "plt.savefig(mypath+'complex_tfa_obs_data_true_inital.png', dpi=300, bbox_inches=\"tight\")\n",
    "plt.show()\n",
    "\n",
    "#img(filename=mypath+'complex_tfa_obs_data_true_inital.png', width=1000, height=1200)"
   ]
  },
  {
   "cell_type": "code",
   "execution_count": 44,
   "metadata": {},
   "outputs": [],
   "source": [
    "plt.figure(figsize=(6,5))\n",
    "ax=mpl.subplot(1,1,1)\n",
    "#plt.title('Residual', fontsize=20)\n",
    "norm=mpb.colors.Normalize(vmin=np.min(inversion['residual']), vmax=np.min(inversion['residual'])*(-1))\n",
    "plt.tricontourf(inversion['y'], inversion['x'], inversion['residual'], 20, cmap='RdBu_r', norm=norm).ax.tick_params(labelsize=12)\n",
    "plt.xlabel('$y$(km)', fontsize=18)\n",
    "plt.ylabel('$x$(km)', fontsize=18)\n",
    "#plt.xlim(np.min(inversion['x']), np.max(inversion['x']))\n",
    "#plt.ylim(np.min(inversion['y']), np.max(inversion['y']))\n",
    "clb = plt.colorbar(pad=0.01, aspect=20, shrink=1)\n",
    "mpl.m2km()\n",
    "clb.ax.set_title('nT')\n",
    "clb.ax.tick_params(labelsize=13)\n",
    "inset = inset_axes(ax, width=\"40%\", height=\"30%\", loc=1, borderpad=0.7)\n",
    "mean = np.mean(inversion['residual'])\n",
    "std = np.std(inversion['residual'])\n",
    "nbins=30\n",
    "n, bins, patches = plt.hist(inversion['residual'],bins=nbins, normed=True, facecolor='blue')\n",
    "props = dict(boxstyle='round', facecolor='wheat', alpha=0.5)\n",
    "inset.text(0.68, 0.95, \"$\\mu$ = {:.2f}\\n$\\sigma$ = {:.2f}\".format(mean, std),\n",
    "                transform=inset.transAxes, fontsize=7,\n",
    "            va='top', ha='left', bbox=props)\n",
    "gauss = sp.norm.pdf(bins, mean, std)\n",
    "plt.plot(bins, gauss, 'k--', linewidth=1., label='Gaussian')\n",
    "\n",
    "\n",
    "plt.savefig(mypath+'complex_tfa_residual.png', dpi=300, bbox_inches=\"tight\")\n",
    "plt.show()\n",
    "#img(filename=mypath+'diorama_tfa_residual.png', width=1600, height=400)"
   ]
  },
  {
   "cell_type": "code",
   "execution_count": 45,
   "metadata": {},
   "outputs": [],
   "source": [
    "plt.figure(figsize=(6,5))\n",
    "#plt.title('Predicted', fontsize=20)\n",
    "norm=mpb.colors.Normalize(vmin=np.min(inversion['data_fit']), vmax=np.min(inversion['data_fit'])*(-1))\n",
    "plt.tricontourf(inversion['y'], inversion['x'], inversion['data_fit'], 20, cmap='viridis', norm=norm).ax.tick_params(labelsize=12)\n",
    "plt.xlabel('$y$(m)', fontsize=18)\n",
    "plt.ylabel('$x$(m)', fontsize=18)\n",
    "#plt.xlim(np.min(inversion['x']), np.max(inversion['x']))\n",
    "#plt.ylim(np.min(inversion['y']), np.max(inversion['y']))\n",
    "clb = plt.colorbar(pad=0.01, aspect=20, shrink=1)\n",
    "clb.ax.set_title('nT')\n",
    "clb.ax.tick_params(labelsize=13)\n",
    "mpl.m2km()\n",
    "plt.savefig(mypath+'complex_tfa_predict.png', dpi=300, bbox_inches=\"tight\")\n",
    "plt.show()\n",
    "#img(filename=mypath+'complex_tfa_predict.png', width=1600, height=400)"
   ]
  },
  {
   "cell_type": "code",
   "execution_count": 46,
   "metadata": {},
   "outputs": [],
   "source": [
    "# plot\n",
    "plt.figure(figsize=(25,7))\n",
    "plt.subplot(1, 3, 1)\n",
    "plt.title('Predict', fontsize=20)\n",
    "norm=mpb.colors.Normalize(vmin=np.min(inversion['data_fit']), vmax=np.min(inversion['data_fit'])*(-1))\n",
    "plt.tricontourf(inversion['y'], inversion['x'], inversion['data_fit'],20, cmap='viridis', norm=norm).ax.tick_params(labelsize=12)\n",
    "plt.xlabel('$y$(m)', fontsize=18)\n",
    "plt.ylabel('$x$(m)', fontsize=18)\n",
    "plt.xlim(np.min(inversion['x']), np.max(inversion['x']))\n",
    "plt.ylim(np.min(inversion['y']), np.max(inversion['y']))\n",
    "clb = plt.colorbar(pad=0.01, aspect=20, shrink=1)\n",
    "clb.ax.tick_params(labelsize=13)\n",
    "clb.ax.set_title('nT')\n",
    "mpl.m2km()\n",
    "\n",
    "plt.subplot(1, 3, 2)\n",
    "plt.title('Observed', fontsize=20)\n",
    "norm=mpb.colors.Normalize(vmin=np.min(inversion['observed_data']), vmax=np.min(inversion['observed_data'])*(-1))\n",
    "plt.tricontourf(inversion['y'], inversion['x'], inversion['observed_data'], 20, cmap='viridis', norm=norm).ax.tick_params(labelsize=12)\n",
    "plt.xlabel('$y$(m)', fontsize=18)\n",
    "plt.ylabel('$x$(m)', fontsize=18)\n",
    "plt.xlim(np.min(inversion['x']), np.max(inversion['x']))\n",
    "plt.ylim(np.min(inversion['y']), np.max(inversion['y']))\n",
    "clb = plt.colorbar(pad=0.01, aspect=20, shrink=1)\n",
    "clb.ax.tick_params(labelsize=13)\n",
    "clb.ax.set_title('nT')\n",
    "mpl.m2km()\n",
    "\n",
    "plt.subplot(1, 3, 3)\n",
    "plt.title('Residual', fontsize=20)\n",
    "norm=mpb.colors.Normalize(vmin=np.min(inversion['residual']), vmax=np.min(inversion['residual'])*(-1))\n",
    "plt.tricontourf(inversion['y'], inversion['x'], inversion['residual'], 20, cmap='viridis', norm=norm).ax.tick_params(labelsize=12)\n",
    "plt.xlabel('$y$(m)', fontsize=18)\n",
    "plt.ylabel('$x$(m)', fontsize=18)\n",
    "plt.xlim(np.min(inversion['x']), np.max(inversion['x']))\n",
    "plt.ylim(np.min(inversion['y']), np.max(inversion['y']))\n",
    "clb = plt.colorbar(pad=0.01, aspect=20, shrink=1)\n",
    "clb.ax.set_title('nT')\n",
    "clb.ax.tick_params(labelsize=13)\n",
    "mpl.m2km()\n",
    "plt.savefig(mypath+'complex_tfa_fit.png', dpi=300, bbox_inches=\"tight\")\n",
    "plt.show()\n",
    "#img(filename=mypath+'complex_tfa_fit.png', width=1600, height=400)"
   ]
  },
  {
   "cell_type": "code",
   "execution_count": 47,
   "metadata": {},
   "outputs": [],
   "source": [
    "plt.figure(figsize=(6,5))\n",
    "plt.title('Convergence', fontsize = 18)\n",
    "plt.xlabel('Iteration number')\n",
    "plt.plot(inversion['objective'], 'b-', label='Misfit value')\n",
    "plt.legend(loc=0, fontsize=12, shadow=bool, framealpha=1)\n",
    "\n",
    "plt.savefig(mypath+'complex_tfa_convergence.png', dpi=300, bbox_inches=\"tight\")\n",
    "plt.show()\n",
    "\n",
    "#img(filename=mypath+'complex_tfa_convergence.png', width=400, height=400)"
   ]
  },
  {
   "cell_type": "code",
   "execution_count": 48,
   "metadata": {},
   "outputs": [],
   "source": [
    "x = inversion['x']/1000.\n",
    "y = inversion['y']/1000.\n",
    "z = inversion['z']/1000.\n",
    "\n",
    "for i in range(len(inversion['prisms'])):\n",
    "    inversion['prisms'][i].x /= 1000.\n",
    "    inversion['prisms'][i].y /= 1000.\n",
    "    inversion['prisms'][i].z1 /= 1000.\n",
    "    inversion['prisms'][i].z2 /= 1000.\n",
    "    inversion['initial_estimate'][i].x /= 1000.\n",
    "    inversion['initial_estimate'][i].y /= 1000.\n",
    "    inversion['initial_estimate'][i].z1 /= 1000.\n",
    "    inversion['initial_estimate'][i].z2 /= 1000.\n",
    "#     model['prisms'][i].x /= 1000.\n",
    "#     model['prisms'][i].y /= 1000.\n",
    "#     model['prisms'][i].z1 /= 1000.\n",
    "#     model['prisms'][i].z2 /= 1000.\n",
    "    \n",
    "for i in model['prisms']:\n",
    "    i.x /= 1000.\n",
    "    i.y /= 1000.\n",
    "    i.z1 /= 1000.\n",
    "    i.z2 /= 1000."
   ]
  },
  {
   "cell_type": "code",
   "execution_count": 49,
   "metadata": {},
   "outputs": [],
   "source": [
    "verts = mfun.plot_prisms(inversion['prisms'])\n",
    "verts_true = mfun.plot_prisms(model['prisms'])\n",
    "verts_initial = mfun.plot_prisms(inversion['initial_estimate'])"
   ]
  },
  {
   "cell_type": "code",
   "execution_count": 50,
   "metadata": {},
   "outputs": [],
   "source": [
    "fig = plt.figure(figsize=(10,8))\n",
    "ax = fig.add_subplot(111, projection='3d')\n",
    "\n",
    "# plot sides\n",
    "ax.add_collection3d(Poly3DCollection(verts_true, \n",
    "alpha=0, facecolor='b', linewidths=1., edgecolors='b'))\n",
    "ax.add_collection3d(Poly3DCollection(verts, alpha=0.3, \n",
    " facecolor='r', linewidths=1.0, edgecolors='r'))\n",
    "\n",
    "ax.set_xlim(-3, 3, 100)\n",
    "ax.set_ylim(-3, 3, 100)\n",
    "ax.set_zlim(7, -1, 100)\n",
    "ax.tick_params(labelsize= 13, pad=8)\n",
    "ax.set_xlabel('Y (km)', fontsize= 17)\n",
    "ax.set_ylabel('X (km)', fontsize= 17)\n",
    "ax.set_zlabel('Z (km)', fontsize= 17)\n",
    "ax.yaxis.labelpad=13\n",
    "ax.zaxis.labelpad=13\n",
    "ax.xaxis.labelpad=13\n",
    "ax.view_init(-10, 120)\n",
    "ax.autoscale_view()\n",
    "\n",
    "#norm=mpb.colors.Normalize(vmin=np.min(inversion['residual']), vmax=np.min(inversion['residual'])*(-1))\n",
    "#ax.tricontourf(inversion['y'], inversion['x'], inversion['residual'],\n",
    "#                zdir='z', offset=-1150, cmap='RdBu_r', norm=norm)\n",
    "\n",
    "plt.savefig(mypath+'complex_3d_estimate.png', dpi=300, bbox_inches=\"tight\")\n",
    "plt.show()\n",
    "\n",
    "#img(filename=mypath+'complex_3d_estimate.png', width=400, height=400)"
   ]
  },
  {
   "cell_type": "code",
   "execution_count": 51,
   "metadata": {},
   "outputs": [],
   "source": [
    "fig = plt.figure(figsize=(10,8))\n",
    "ax = fig.add_subplot(111, projection='3d')\n",
    "\n",
    "# plot sides\n",
    "ax.add_collection3d(Poly3DCollection(verts_true, \n",
    "alpha=0, facecolor='b', linewidths=1., edgecolors='b'))\n",
    "ax.add_collection3d(Poly3DCollection(verts, alpha=0.3, \n",
    " facecolor='r', linewidths=1.0, edgecolors='r'))\n",
    "\n",
    "ax.set_xlim(-3, 3, 100)\n",
    "ax.set_ylim(-3, 3, 100)\n",
    "ax.set_zlim(7, -1, 100)\n",
    "ax.tick_params(labelsize= 13, pad=8)\n",
    "ax.set_xlabel('Y (km)', fontsize= 17)\n",
    "ax.set_ylabel('X (km)', fontsize= 17)\n",
    "ax.set_zlabel('Z (km)', fontsize= 17)\n",
    "ax.set_xticklabels(np.linspace(-3, 3, 7))\n",
    "ax.set_yticklabels(np.linspace(-3, 3, 7))\n",
    "ax.set_zticklabels(np.linspace(-1, 7, 9))\n",
    "ax.yaxis.labelpad=13\n",
    "ax.zaxis.labelpad=13\n",
    "ax.xaxis.labelpad=13\n",
    "ax.view_init(20, -135)\n",
    "ax.autoscale_view()\n",
    "\n",
    "#norm=mpb.colors.Normalize(vmin=np.min(inversion['residual']), vmax=np.min(inversion['residual'])*(-1))\n",
    "#ax.tricontourf(inversion['y'], inversion['x'], inversion['residual'],\n",
    "#                zdir='z', offset=-1150, cmap='RdBu_r', norm=norm)\n",
    "\n",
    "plt.savefig(mypath+'complex_3d_estimate2.png', dpi=300, bbox_inches=\"tight\")\n",
    "plt.show()"
   ]
  },
  {
   "cell_type": "code",
   "execution_count": 52,
   "metadata": {},
   "outputs": [],
   "source": [
    "fig = plt.figure(figsize=(10,8))\n",
    "ax = fig.add_subplot(111, projection='3d')\n",
    "\n",
    "# plot sides\n",
    "ax.add_collection3d(Poly3DCollection(verts_true, \n",
    "alpha=0, facecolor='b', linewidths=1., edgecolors='b'))\n",
    "ax.add_collection3d(Poly3DCollection(verts, alpha=0.3, \n",
    " facecolor='r', linewidths=1.0, edgecolors='r'))\n",
    "\n",
    "ax.set_xlim(-3, 3, 100)\n",
    "ax.set_ylim(-3, 3, 100)\n",
    "ax.set_zlim(7, -1, 100)\n",
    "ax.tick_params(labelsize= 13, pad=8)\n",
    "ax.set_xlabel('Y (km)', fontsize= 17)\n",
    "ax.set_ylabel('X (km)', fontsize= 17)\n",
    "ax.set_zlabel('Z (km)', fontsize= 17)\n",
    "ax.set_xticklabels(np.linspace(-3, 3, 7))\n",
    "ax.set_yticklabels(np.linspace(-3, 3, 7))\n",
    "ax.set_zticklabels(np.linspace(-1, 7, 9))\n",
    "ax.yaxis.labelpad=20\n",
    "ax.zaxis.labelpad=15\n",
    "ax.xaxis.labelpad=15\n",
    "\n",
    "ax.view_init(-20, 45)\n",
    "ax.autoscale_view()\n",
    "\n",
    "#norm=mpb.colors.Normalize(vmin=np.min(inversion['residual']), vmax=np.min(inversion['residual'])*(-1))\n",
    "#ax.tricontourf(inversion['y'], inversion['x'], inversion['residual'],\n",
    "#                zdir='z', offset=-1150, cmap='RdBu_r', norm=norm)\n",
    "\n",
    "plt.savefig(mypath+'complex_3d_estimate3.png', dpi=300, bbox_inches=\"tight\")\n",
    "plt.show()"
   ]
  },
  {
   "cell_type": "code",
   "execution_count": 53,
   "metadata": {},
   "outputs": [],
   "source": [
    "fig = plt.figure(figsize=(10,8))\n",
    "ax = fig.add_subplot(111, projection='3d')\n",
    "\n",
    "# plot sides\n",
    "ax.add_collection3d(Poly3DCollection(verts_true, \n",
    "alpha=0.4, facecolor='b', linewidths=1., edgecolors='b'))\n",
    "ax.add_collection3d(Poly3DCollection(verts_initial, alpha=0.3, \n",
    " facecolor='r', linewidths=1., edgecolors='r'))\n",
    "\n",
    "ax.set_xlim(-3, 3, 100)\n",
    "ax.set_ylim(-3, 3, 100)\n",
    "ax.set_zlim(7, -1, 100)\n",
    "ax.tick_params(labelsize= 13, pad=8)\n",
    "ax.set_xlabel('Y (km)', fontsize= 17)\n",
    "ax.set_ylabel('X (km)', fontsize= 17)\n",
    "ax.set_zlabel('Z (km)', fontsize= 17)\n",
    "ax.set_xticklabels(np.linspace(-3, 3, 7))\n",
    "ax.set_yticklabels(np.linspace(-3, 3, 7))\n",
    "ax.set_zticklabels(np.linspace(-1, 7, 9))\n",
    "ax.yaxis.labelpad=20\n",
    "ax.zaxis.labelpad=20\n",
    "ax.xaxis.labelpad=20\n",
    "\n",
    "ax.view_init(20, -80)\n",
    "\n",
    "#norm=mpb.colors.Normalize(vmin=np.min(inversion['residual']), vmax=np.min(inversion['residual'])*(-1))\n",
    "#ax.tricontourf(inversion['y'], inversion['x'], inversion['residual'],\n",
    "#                zdir='z', offset=-150, cmap='RdBu_r', norm=norm)\n",
    "\n",
    "plt.savefig(mypath+'complex_3d_ini_estimate.png', dpi=300, bbox_inches=\"tight\")\n",
    "plt.show()\n",
    "\n",
    "#img(filename=mypath+'kimberlite_3d_estimate.png', width=400, height=400)"
   ]
  },
  {
   "cell_type": "code",
   "execution_count": 54,
   "metadata": {},
   "outputs": [
    {
     "data": {
      "text/plain": [
       "645.2365338813152"
      ]
     },
     "execution_count": 54,
     "metadata": {},
     "output_type": "execute_result"
    }
   ],
   "source": [
    "# calculate the momentum\n",
    "\n",
    "volume = 0.\n",
    "momentum = 0.\n",
    "for bolacha in model['prisms']:\n",
    "    area = mfun.area_polygon(bolacha.x, bolacha.y)\n",
    "    volume += area*(bolacha.z2 - bolacha.z1)\n",
    "    momentum += volume*model['intensity']\n",
    "    \n",
    "momentum"
   ]
  },
  {
   "cell_type": "code",
   "execution_count": 55,
   "metadata": {},
   "outputs": [
    {
     "data": {
      "text/plain": [
       "663.6102030021929"
      ]
     },
     "execution_count": 55,
     "metadata": {},
     "output_type": "execute_result"
    }
   ],
   "source": [
    "volume = 0.\n",
    "momentum = 0.\n",
    "for bolacha in inversion['prisms']:\n",
    "    area = mfun.area_polygon(bolacha.x, bolacha.y)\n",
    "    volume += area*(bolacha.z2 - bolacha.z1)\n",
    "    momentum += volume*np.linalg.norm(bolacha.props['magnetization'])\n",
    "    \n",
    "momentum"
   ]
  },
  {
   "cell_type": "code",
   "execution_count": null,
   "metadata": {},
   "outputs": [],
   "source": []
  },
  {
   "cell_type": "code",
   "execution_count": 56,
   "metadata": {},
   "outputs": [
    {
     "name": "stdout",
     "output_type": "stream",
     "text": [
      "1.2605866818679228e-08\n",
      "6.452365338813152e-07\n"
     ]
    }
   ],
   "source": [
    "# calculate the momentum\n",
    "\n",
    "volume_true = 0.\n",
    "momentum_true = 0.\n",
    "for bolacha in model['prisms']:\n",
    "    area_true = mfun.area_polygon(bolacha.x, bolacha.y)\n",
    "    volume_true += area_true*(bolacha.z2 - bolacha.z1)\n",
    "    momentum_true += volume_true*model['intensity']\n",
    "    \n",
    "print volume_true/10.**9.    \n",
    "print momentum_true/10.**9."
   ]
  },
  {
   "cell_type": "code",
   "execution_count": 57,
   "metadata": {},
   "outputs": [
    {
     "name": "stdout",
     "output_type": "stream",
     "text": [
      "1.2819023962184707e-08\n",
      "6.636102030021929e-07\n"
     ]
    }
   ],
   "source": [
    "volume = 0.\n",
    "momentum = 0.\n",
    "for bolacha in inversion['prisms']:\n",
    "    area = mfun.area_polygon(bolacha.x, bolacha.y)\n",
    "    volume += area*(bolacha.z2 - bolacha.z1)\n",
    "    momentum += volume*np.linalg.norm(bolacha.props['magnetization'])\n",
    "    \n",
    "print volume/10.**9.\n",
    "print momentum/10.**9."
   ]
  },
  {
   "cell_type": "code",
   "execution_count": 58,
   "metadata": {},
   "outputs": [
    {
     "data": {
      "text/plain": [
       "-1.6909360266255125"
      ]
     },
     "execution_count": 58,
     "metadata": {},
     "output_type": "execute_result"
    }
   ],
   "source": [
    "(volume_true - volume)*100./volume_true"
   ]
  },
  {
   "cell_type": "code",
   "execution_count": 59,
   "metadata": {},
   "outputs": [
    {
     "data": {
      "text/plain": [
       "-2.847586606783391"
      ]
     },
     "execution_count": 59,
     "metadata": {},
     "output_type": "execute_result"
    }
   ],
   "source": [
    "((momentum_true - momentum)*100./momentum_true)"
   ]
  },
  {
   "cell_type": "code",
   "execution_count": 60,
   "metadata": {},
   "outputs": [
    {
     "data": {
      "text/plain": [
       "6145.120390555435"
      ]
     },
     "execution_count": 60,
     "metadata": {},
     "output_type": "execute_result"
    }
   ],
   "source": [
    "inversion['estimate'][-1]*len(inversion['initial_estimate'])"
   ]
  },
  {
   "cell_type": "code",
   "execution_count": 61,
   "metadata": {},
   "outputs": [
    {
     "data": {
      "text/plain": [
       "6000.0"
      ]
     },
     "execution_count": 61,
     "metadata": {},
     "output_type": "execute_result"
    }
   ],
   "source": [
    "model['dz']*model['L']"
   ]
  },
  {
   "cell_type": "code",
   "execution_count": 62,
   "metadata": {},
   "outputs": [
    {
     "data": {
      "text/plain": [
       "1.1762530694730577"
      ]
     },
     "execution_count": 62,
     "metadata": {},
     "output_type": "execute_result"
    }
   ],
   "source": [
    "np.std(inversion['residual'])/np.std(inversion['observed_data'])*100"
   ]
  },
  {
   "cell_type": "code",
   "execution_count": 80,
   "metadata": {},
   "outputs": [],
   "source": [
    "plt.figure(figsize=(10,10))\n",
    "\n",
    "# residual data and histogram\n",
    "ax=plt.subplot(2,2,1)\n",
    "#plt.title('Residual', fontsize=20)\n",
    "plt.tricontourf(inversion['y'], inversion['x'], inversion['residual'], 20,\n",
    "                cmap='RdBu_r', vmin=np.min(inversion['residual']),\n",
    "                vmax=np.min(inversion['residual'])*(-1)).ax.tick_params(labelsize=10)\n",
    "plt.xlabel('$y$(m)', fontsize=10)\n",
    "plt.ylabel('$x$(m)', fontsize=10)\n",
    "clb = plt.colorbar(pad=0.01, aspect=20, shrink=1)\n",
    "clb.ax.set_title('nT', pad=-315)\n",
    "mpl.m2km()\n",
    "clb.ax.tick_params(labelsize=13)\n",
    "inset = inset_axes(ax, width=\"40%\", height=\"30%\", loc=1, borderpad=0.7)\n",
    "mean = np.mean(inversion['residual'])\n",
    "std = np.std(inversion['residual'])\n",
    "nbins=30\n",
    "n, bins, patches = plt.hist(inversion['residual'],bins=nbins, normed=True, facecolor='blue')\n",
    "props = dict(boxstyle='round', facecolor='wheat', alpha=0.5)\n",
    "inset.text(0.7, 0.95, \"$\\mu$ = {:.2f}\\n$\\sigma$ = {:.2f}\".format(mean, std),\n",
    "                transform=inset.transAxes, fontsize=6,\n",
    "            va='top', ha='left', bbox=props)\n",
    "gauss = sp.norm.pdf(bins, mean, std)\n",
    "plt.plot(bins, gauss, 'k--', linewidth=1., label='Gaussian')\n",
    "ax.text(-6000, 5500, '(a)', fontsize= 15)\n",
    "\n",
    "# initial approximate\n",
    "ax = plt.subplot(2,2,2, projection='3d')\n",
    "\n",
    "# plot sides\n",
    "ax.add_collection3d(Poly3DCollection(verts_initial, alpha=0.3, \n",
    " facecolor='r', linewidths=0.5, edgecolors='k'))\n",
    "ax.add_collection3d(Poly3DCollection(verts_true, alpha=0.3, \n",
    " facecolor='b', linewidths=0.5, edgecolors='k'))\n",
    "\n",
    "ax.set_xlim(-3, 3, 100)\n",
    "ax.set_ylim(-3, 3, 100)\n",
    "ax.set_zlim(7, -1, 100)\n",
    "ax.tick_params(labelsize= 10)\n",
    "ax.set_ylabel('y (km)', fontsize= 10)\n",
    "ax.set_xlabel('x (km)', fontsize= 10)\n",
    "ax.set_zlabel('z (km)', fontsize= 10)\n",
    "ax.view_init(10, 50)\n",
    "ax.text2D(-0.1, 0.07, '(b)', fontsize= 15)\n",
    "\n",
    "# inverse model view 1\n",
    "ax = plt.subplot(2,2,3, projection='3d')\n",
    "\n",
    "# plot sides\n",
    "ax.add_collection3d(Poly3DCollection(verts, alpha=0.3, \n",
    " facecolor='r', linewidths=0.5, edgecolors='k'))\n",
    "ax.add_collection3d(Poly3DCollection(verts_true, alpha=0.3, \n",
    " facecolor='b', linewidths=0.5, edgecolors='k'))\n",
    "\n",
    "ax.set_xlim(-3, 3, 100)\n",
    "ax.set_ylim(-3, 3, 100)\n",
    "ax.set_zlim(7, -1, 100)\n",
    "ax.tick_params(labelsize= 10)\n",
    "ax.set_ylabel('y (km)', fontsize= 10)\n",
    "ax.set_xlabel('x (km)', fontsize= 10)\n",
    "ax.set_zlabel('z (km)', fontsize= 10)\n",
    "ax.view_init(10, 50)\n",
    "ax.text2D(-0.11, 0.07, '(c)', fontsize= 15)\n",
    "\n",
    "# inverse model view 2\n",
    "ax = plt.subplot(2,2,4, projection='3d')\n",
    "\n",
    "# plot sides\n",
    "ax.add_collection3d(Poly3DCollection(verts, alpha=0.3, \n",
    " facecolor='r', linewidths=0.5, edgecolors='k'))\n",
    "ax.add_collection3d(Poly3DCollection(verts_true, alpha=0.3, \n",
    " facecolor='b', linewidths=0.5, edgecolors='k'))\n",
    "\n",
    "ax.set_xlim(-3, 3, 100)\n",
    "ax.set_ylim(-3, 3, 100)\n",
    "ax.set_zlim(7, -1, 100)\n",
    "ax.tick_params(labelsize= 10)\n",
    "ax.set_ylabel('y (km)', fontsize= 10)\n",
    "ax.set_xlabel('x (km)', fontsize= 10)\n",
    "ax.set_zlabel('z (km)', fontsize= 10)\n",
    "ax.view_init(20, 135)\n",
    "ax.text2D(-0.1, 0.1, '(d)', fontsize= 15)\n",
    "\n",
    "plt.tight_layout()\n",
    "plt.savefig(mypath+'results.png', dpi=300, bbox_inches='tight')\n",
    "plt.show()"
   ]
  },
  {
   "cell_type": "code",
   "execution_count": 78,
   "metadata": {},
   "outputs": [],
   "source": [
    "plt.figure(figsize=(10,10))\n",
    "\n",
    "# sinthetic data\n",
    "ax=plt.subplot(2,2,1)\n",
    "plt.tricontourf(inversion['y'], inversion['x'], inversion['observed_data'], 20,\n",
    "                cmap='RdBu_r', vmin=np.min(inversion['observed_data']),\n",
    "                vmax=-np.min(inversion['observed_data'])).ax.tick_params(labelsize=10)\n",
    "plt.xlabel('$y$(m)', fontsize=10)\n",
    "plt.ylabel('$x$(m)', fontsize=10)\n",
    "clb = plt.colorbar(pad=0.01, aspect=20, shrink=1)\n",
    "clb.ax.set_title('nT', pad=-315)\n",
    "mpl.m2km()\n",
    "clb.ax.tick_params(labelsize=13)\n",
    "plt.plot(inversion['y'], inversion['x'], 'ko', markersize=.25, label='Gaussian')\n",
    "plt.text(-5500, 3800, '(a)', fontsize= 15)\n",
    "\n",
    "# plot topography\n",
    "ax=plt.subplot(2,2,2)\n",
    "#plt.title('Residual', fontsize=20)\n",
    "plt.tricontourf(inversion['y'], inversion['x'], inversion['z'] + 150., 20,\n",
    "                cmap='inferno').ax.tick_params(labelsize=10)\n",
    "plt.xlabel('$y$(m)', fontsize=10)\n",
    "plt.ylabel('$x$(m)', fontsize=10)\n",
    "clb = plt.colorbar(pad=0.01, aspect=20, shrink=1)\n",
    "clb.ax.set_title('nT', pad=-315)\n",
    "mpl.m2km()\n",
    "clb.ax.tick_params(labelsize=13)\n",
    "plt.plot(inversion['y'], inversion['x'], 'ko', markersize=.25, label='Gaussian')\n",
    "plt.text(-5500, 3800, '(b)', fontsize= 15)\n",
    "\n",
    "# true model\n",
    "ax = plt.subplot(2,2,3, projection='3d')\n",
    "ax.add_collection3d(Poly3DCollection(verts_true, alpha=0.3, \n",
    " facecolor='b', linewidths=0.5, edgecolors='k'))\n",
    "\n",
    "ax.set_xlim(-3, 3, 100)\n",
    "ax.set_ylim(-3, 3, 100)\n",
    "ax.set_zlim(7, -1, 100)\n",
    "ax.tick_params(labelsize= 10)\n",
    "ax.set_ylabel('y (km)', fontsize= 10)\n",
    "ax.set_xlabel('x (km)', fontsize= 10)\n",
    "ax.set_zlabel('z (km)', fontsize= 10)\n",
    "#ax.yaxis.labelpad=8\n",
    "#ax.zaxis.labelpad=8\n",
    "#ax.xaxis.labelpad=8\n",
    "ax.view_init(0, 40)\n",
    "ax.text2D(-0.1, 0.07, '(c)', fontsize= 15)\n",
    "\n",
    "# true model\n",
    "ax = plt.subplot(2,2,4, projection='3d')\n",
    "ax.add_collection3d(Poly3DCollection(verts_true, alpha=0.3, \n",
    " facecolor='b', linewidths=0.5, edgecolors='k'))\n",
    "\n",
    "ax.set_xlim(-3, 3, 100)\n",
    "ax.set_ylim(-3, 3, 100)\n",
    "ax.set_zlim(7, -1, 100)\n",
    "ax.tick_params(labelsize= 10)\n",
    "ax.set_ylabel('y (km)', fontsize= 10)\n",
    "ax.set_xlabel('x (km)', fontsize= 10)\n",
    "ax.set_zlabel('z (km)', fontsize= 10)\n",
    "#ax.yaxis.labelpad=8\n",
    "#ax.zaxis.labelpad=8\n",
    "#ax.xaxis.labelpad=8\n",
    "ax.view_init(20, 135)\n",
    "ax.text2D(-0.1, 0.07, '(d)', fontsize= 15)\n",
    "\n",
    "plt.tight_layout()\n",
    "\n",
    "plt.savefig(mypath+'model_data.png', dpi=300, bbox_inches='tight')\n",
    "\n",
    "plt.show()"
   ]
  },
  {
   "cell_type": "code",
   "execution_count": null,
   "metadata": {},
   "outputs": [],
   "source": []
  }
 ],
 "metadata": {
  "kernelspec": {
   "display_name": "Python 2",
   "language": "python",
   "name": "python2"
  },
  "language_info": {
   "codemirror_mode": {
    "name": "ipython",
    "version": 2
   },
   "file_extension": ".py",
   "mimetype": "text/x-python",
   "name": "python",
   "nbconvert_exporter": "python",
   "pygments_lexer": "ipython2",
   "version": "2.7.16"
  }
 },
 "nbformat": 4,
 "nbformat_minor": 2
}
