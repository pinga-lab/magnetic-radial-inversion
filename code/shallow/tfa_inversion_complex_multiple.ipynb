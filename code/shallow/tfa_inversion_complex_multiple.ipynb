{
 "cells": [
  {
   "cell_type": "markdown",
   "metadata": {},
   "source": [
    "# Complex body TFA Inversion"
   ]
  },
  {
   "cell_type": "markdown",
   "metadata": {},
   "source": [
    "This notebook performs the inversion using Levenberg-Marquadt's algorithm of total field anomaly (TFA) data on a regular grid of a model with a complex geometry."
   ]
  },
  {
   "cell_type": "code",
   "execution_count": 64,
   "metadata": {},
   "outputs": [],
   "source": [
    "import numpy as np\n",
    "import matplotlib.pyplot as plt\n",
    "import cPickle as pickle\n",
    "import os\n",
    "\n",
    "from fatiando import utils\n",
    "from fatiando.gravmag import polyprism\n",
    "from fatiando.mesher import PolygonalPrism\n",
    "from fatiando.vis import mpl, myv\n",
    "from matplotlib import colors, ticker, cm\n",
    "from IPython.display import Image as img\n",
    "from matplotlib.mlab import normpdf"
   ]
  },
  {
   "cell_type": "markdown",
   "metadata": {},
   "source": [
    "### Auxiliary functions"
   ]
  },
  {
   "cell_type": "code",
   "execution_count": 65,
   "metadata": {
    "collapsed": true
   },
   "outputs": [],
   "source": [
    "import sys\n",
    "sys.path.insert(0, '../../code')\n",
    "\n",
    "import mag_polyprism_functions as mfun"
   ]
  },
  {
   "cell_type": "markdown",
   "metadata": {},
   "source": [
    "# Input"
   ]
  },
  {
   "cell_type": "markdown",
   "metadata": {},
   "source": [
    "### Importing model parameters"
   ]
  },
  {
   "cell_type": "code",
   "execution_count": 66,
   "metadata": {},
   "outputs": [],
   "source": [
    "model_dir = 'data/model.pickle'\n",
    "data_dir = 'data/data.pickle'\n",
    "#data_dir = 'eqlayer/direction_inc65_dec-40_h190m/eqlayer_depth190m.pickle'"
   ]
  },
  {
   "cell_type": "code",
   "execution_count": 67,
   "metadata": {},
   "outputs": [],
   "source": [
    "with open(model_dir) as w:\n",
    "        model = pickle.load(w)"
   ]
  },
  {
   "cell_type": "markdown",
   "metadata": {},
   "source": [
    "### Observation points and observed data"
   ]
  },
  {
   "cell_type": "code",
   "execution_count": 68,
   "metadata": {
    "collapsed": true
   },
   "outputs": [],
   "source": [
    "with open(data_dir) as w:\n",
    "        data = pickle.load(w)"
   ]
  },
  {
   "cell_type": "code",
   "execution_count": 69,
   "metadata": {},
   "outputs": [],
   "source": [
    "# observed data and observation points\n",
    "dobs = data['tfa_upward_obs']\n",
    "xp = data['grid'][0]\n",
    "yp = data['grid'][1]\n",
    "zp = data['grid'][2] - 1000.\n",
    "N = data['grid'][3]"
   ]
  },
  {
   "cell_type": "code",
   "execution_count": 70,
   "metadata": {},
   "outputs": [
    {
     "data": {
      "text/plain": [
       "2037"
      ]
     },
     "execution_count": 70,
     "metadata": {},
     "output_type": "execute_result"
    }
   ],
   "source": [
    "xp.size"
   ]
  },
  {
   "cell_type": "raw",
   "metadata": {},
   "source": [
    "# observed data and observation points\n",
    "dobs = data['upward']\n",
    "xp = data['x']\n",
    "yp = data['y']\n",
    "zp = data['z']\n",
    "N = data['x'].size"
   ]
  },
  {
   "cell_type": "markdown",
   "metadata": {},
   "source": [
    "### Parameters of the initial model"
   ]
  },
  {
   "cell_type": "code",
   "execution_count": 71,
   "metadata": {},
   "outputs": [],
   "source": [
    "M = 30 # number of vertices per prism\n",
    "L = 10 # number of prisms\n",
    "P = L*(M+2) + 1 # number of parameters\n",
    "\n",
    "# magnetization\n",
    "incs = model['inc']\n",
    "decs = model['dec']\n",
    "intensity = model['intensity']\n",
    "\n",
    "# depth to the top, thickness and radius\n",
    "z0 = model['z0']\n",
    "dz = 800.\n",
    "r = 600.\n",
    "\n",
    "# total magnetization\n",
    "props = {'magnetization': utils.ang2vec(\n",
    "        intensity, incs, decs)}\n",
    "rin = np.zeros(M) + r\n",
    "m0 = np.hstack((rin, np.zeros(2)))\n",
    "m0 = np.resize(m0, P - 1) \n",
    "m0 = np.hstack((m0, dz)) # inicial parameters vector\n",
    "model0 = mfun.param2polyprism(m0, M, L, z0, props) # list of classes of prisms\n",
    "\n",
    "# main field\n",
    "inc, dec = [-21.5, -18.7]\n",
    "\n",
    "# predict data\n",
    "d0 = polyprism.tf(xp, yp, zp, model0, inc, dec)"
   ]
  },
  {
   "cell_type": "markdown",
   "metadata": {},
   "source": [
    "### Limits"
   ]
  },
  {
   "cell_type": "code",
   "execution_count": 72,
   "metadata": {},
   "outputs": [],
   "source": [
    "# limits for parameters in meters\n",
    "rmin = 100.\n",
    "rmax = 3000.\n",
    "x0min = -1500.\n",
    "x0max = 1500.\n",
    "y0min = -1500.\n",
    "y0max = 1500.\n",
    "dzmin = 200.\n",
    "dzmax = 1000.\n",
    "\n",
    "mmin, mmax = mfun.build_range_param(M, L, rmin, rmax, x0min, x0max, y0min, y0max, dzmin, dzmax)"
   ]
  },
  {
   "cell_type": "markdown",
   "metadata": {},
   "source": [
    "### Variation"
   ]
  },
  {
   "cell_type": "code",
   "execution_count": 73,
   "metadata": {},
   "outputs": [],
   "source": [
    "# variation for derivatives\n",
    "deltax = 0.01*np.max(x0max)\n",
    "deltay = 0.01*np.max(y0max)\n",
    "deltar = 0.01*np.max(rmax)\n",
    "deltaz = 0.01*np.max(dzmax)"
   ]
  },
  {
   "cell_type": "markdown",
   "metadata": {},
   "source": [
    "### Outcropping parameters"
   ]
  },
  {
   "cell_type": "code",
   "execution_count": 74,
   "metadata": {},
   "outputs": [],
   "source": [
    "# outcropping body parameters\n",
    "m_out = np.zeros(M + 2)\n",
    "#m_out = model['param_vec'][:M+2]"
   ]
  },
  {
   "cell_type": "markdown",
   "metadata": {},
   "source": [
    "### Folder to save the results"
   ]
  },
  {
   "cell_type": "code",
   "execution_count": 75,
   "metadata": {},
   "outputs": [],
   "source": [
    "if data['grid'][4] == 'flightlines':\n",
    "    if incs == model['inc'] and decs == model['dec']:\n",
    "        mypath = data_dir[:-11]+'tfa_inversion/inc%d_dec%d_r%d_int%d_z0%d_dz%d' % (incs, decs, rin[0], np.linalg.norm(props['magnetization']), z0, dz)\n",
    "        if not os.path.isdir(mypath):\n",
    "           os.makedirs(mypath)\n",
    "    else:\n",
    "        mypath = data_dir[:-11]+'tfa_inversion/inc%d_dec%d_r%d_int%d_z0%d_dz%d' % (incs, decs, rin[0], np.linalg.norm(props['magnetization']), z0, dz)\n",
    "        if not os.path.isdir(mypath):\n",
    "           os.makedirs(mypath)\n",
    "else:\n",
    "    if incs == model['inc'] and decs == model['dec']:\n",
    "        mypath = data_dir[:-11]+'tfa_inversion/inc%d_dec%d_r%d_int%d_z0%d_dz%d' % (incs, decs, rin[0], np.linalg.norm(props['magnetization']), z0, dz)\n",
    "        if not os.path.isdir(mypath):\n",
    "           os.makedirs(mypath)\n",
    "    else:\n",
    "        mypath = data_dir[:-11]+'tfa_inversion/inc%d_dec%d_r%d_int%d_z0%d_dz%d' % (incs, decs, rin[0], np.linalg.norm(props['magnetization']), z0, dz)\n",
    "        if not os.path.isdir(mypath):\n",
    "           os.makedirs(mypath)"
   ]
  },
  {
   "cell_type": "raw",
   "metadata": {},
   "source": [
    "mypath = data_dir[:-11]+'upward_tfa_inversion/inc%d_dec%d_r%d_int%d_z0%d_dz%d' % (incs, decs, rin[0], np.linalg.norm(props['magnetization']), z0, dz)\n",
    "if not os.path.isdir(mypath):\n",
    "    os.makedirs(mypath)"
   ]
  },
  {
   "cell_type": "code",
   "execution_count": 76,
   "metadata": {},
   "outputs": [],
   "source": [
    "# output of inversion\n",
    "inversion = dict()"
   ]
  },
  {
   "cell_type": "markdown",
   "metadata": {},
   "source": [
    "### Regularization parameters"
   ]
  },
  {
   "cell_type": "code",
   "execution_count": 77,
   "metadata": {
    "collapsed": true
   },
   "outputs": [],
   "source": [
    "#lamb = th*0.01 # Marquadt's parameter\n",
    "lamb = 1000.00\n",
    "dlamb = 10.      # step for Marquadt's parameter\n",
    "\n",
    "a1 = 0.00000005  # adjacent radial distances within each prism\n",
    "a2 = 0.00000003   # vertically adjacent radial distances\n",
    "a3 = 0.     # outcropping cross-section\n",
    "a4 = 0.     # outcropping origin\n",
    "a5 = 0.000005     # vertically adjacent origins\n",
    "a6 = 0.00000000001   # zero order Tikhonov on adjacent radial distances\n",
    "a7 = 0.0000004     # zero order Tikhonov on thickness of each prism"
   ]
  },
  {
   "cell_type": "code",
   "execution_count": 78,
   "metadata": {},
   "outputs": [],
   "source": [
    "delta = np.array([deltax, deltay, deltar, deltaz])\n",
    "alpha = np.array([a1, a2, a3, a4, a5, a6, a7])"
   ]
  },
  {
   "cell_type": "code",
   "execution_count": 79,
   "metadata": {},
   "outputs": [],
   "source": [
    "itmax = 30\n",
    "itmax_marq = 10\n",
    "tol = 1.0e-4     # stop criterion"
   ]
  },
  {
   "cell_type": "code",
   "execution_count": 80,
   "metadata": {},
   "outputs": [],
   "source": [
    "inversion['x'] = xp\n",
    "inversion['y'] = yp\n",
    "inversion['z'] = zp\n",
    "inversion['observed_data'] = dobs"
   ]
  },
  {
   "cell_type": "code",
   "execution_count": 81,
   "metadata": {},
   "outputs": [],
   "source": [
    "inversion['inc_dec'] = [incs, decs]\n",
    "inversion['z0'] = z0\n",
    "inversion['initial_dz'] = dz\n",
    "inversion['intial_r'] = r\n",
    "inversion['initial_estimate'] = model0\n",
    "inversion['initial_data'] = d0\n",
    "inversion['limits'] = [rmin, rmax, x0min, x0max, y0min, y0max, dzmin, dzmax]\n",
    "inversion['regularization'] = alpha\n",
    "inversion['tol'] = tol\n",
    "inversion['main_field'] = [-21.5, -18.7]"
   ]
  },
  {
   "cell_type": "markdown",
   "metadata": {},
   "source": [
    "### Inversion"
   ]
  },
  {
   "cell_type": "code",
   "execution_count": 82,
   "metadata": {},
   "outputs": [
    {
     "name": "stdout",
     "output_type": "stream",
     "text": [
      "it:  0   it_marq:  0   lambda: 1e+03   misfit: 1.14496e+05\n",
      "it:  1   it_marq:  0   lambda: 1e+02   misfit: 3.23845e+04\n",
      "it:  2   it_marq:  0   lambda: 1e+01   misfit: 5.66543e+03\n",
      "it:  3   it_marq:  0   lambda: 1e+00   misfit: 3.04128e+03\n",
      "it:  4   it_marq:  0   lambda: 1e-01   misfit: 9.22787e+02\n",
      "it:  5   it_marq:  0   lambda: 1e-02   misfit: 2.80814e+03\n",
      "it:  5   it_marq:  1   lambda: 1e-01   misfit: 8.41671e+02\n",
      "it:  6   it_marq:  0   lambda: 1e-02   misfit: 1.34950e+03\n",
      "it:  6   it_marq:  1   lambda: 1e-01   misfit: 3.89199e+02\n",
      "it:  7   it_marq:  0   lambda: 1e-02   misfit: 1.61863e+04\n",
      "it:  7   it_marq:  1   lambda: 1e-01   misfit: 3.50226e+02\n",
      "it:  8   it_marq:  0   lambda: 1e-02   misfit: 1.84066e+04\n",
      "it:  8   it_marq:  1   lambda: 1e-01   misfit: 6.54509e+03\n",
      "it:  8   it_marq:  2   lambda: 1e+00   misfit: 3.88001e+03\n",
      "it:  8   it_marq:  3   lambda: 1e+01   misfit: 2.87188e+03\n",
      "it:  8   it_marq:  4   lambda: 1e+02   misfit: 2.20853e+03\n",
      "it:  8   it_marq:  5   lambda: 1e+03   misfit: 1.79505e+04\n",
      "it:  8   it_marq:  6   lambda: 1e+04   misfit: 1.90373e+04\n",
      "it:  8   it_marq:  7   lambda: 1e+05   misfit: 3.50323e+02\n",
      "it:  8   it_marq:  8   lambda: 1e+06   misfit: 3.50468e+02\n",
      "it:  8   it_marq:  9   lambda: 1e+07   misfit: 3.50129e+02\n",
      "it:  9   it_marq:  0   lambda: 1e+06   misfit: 3.50052e+02\n",
      "it: 10   it_marq:  0   lambda: 1e+05   misfit: 3.49882e+02\n",
      "it: 11   it_marq:  0   lambda: 1e+04   misfit: 3.48691e+02\n",
      "it: 12   it_marq:  0   lambda: 1e+03   misfit: 3.41336e+02\n",
      "it: 13   it_marq:  0   lambda: 1e+02   misfit: 3.12202e+02\n",
      "it: 14   it_marq:  0   lambda: 1e+01   misfit: 2.82817e+02\n",
      "it: 15   it_marq:  0   lambda: 1e+00   misfit: 3.09268e+03\n",
      "it: 15   it_marq:  1   lambda: 1e+01   misfit: 9.03487e+02\n",
      "it: 15   it_marq:  2   lambda: 1e+02   misfit: 2.66301e+02\n",
      "it: 16   it_marq:  0   lambda: 1e+01   misfit: 2.01175e+03\n",
      "it: 16   it_marq:  1   lambda: 1e+02   misfit: 2.58653e+02\n",
      "it: 17   it_marq:  0   lambda: 1e+01   misfit: 3.41383e+03\n",
      "it: 17   it_marq:  1   lambda: 1e+02   misfit: 8.45512e+02\n",
      "it: 17   it_marq:  2   lambda: 1e+03   misfit: 2.57934e+02\n",
      "it: 18   it_marq:  0   lambda: 1e+02   misfit: 1.04817e+03\n",
      "it: 18   it_marq:  1   lambda: 1e+03   misfit: 2.57300e+02\n",
      "it: 19   it_marq:  0   lambda: 1e+02   misfit: 1.95244e+03\n",
      "it: 19   it_marq:  1   lambda: 1e+03   misfit: 2.56737e+02\n",
      "it: 20   it_marq:  0   lambda: 1e+02   misfit: 2.55741e+03\n",
      "it: 20   it_marq:  1   lambda: 1e+03   misfit: 2.56232e+02\n",
      "it: 21   it_marq:  0   lambda: 1e+02   misfit: 3.42255e+03\n",
      "it: 21   it_marq:  1   lambda: 1e+03   misfit: 2.55773e+02\n",
      "it: 22   it_marq:  0   lambda: 1e+02   misfit: 4.06961e+03\n",
      "it: 22   it_marq:  1   lambda: 1e+03   misfit: 2.69448e+02\n",
      "it: 22   it_marq:  2   lambda: 1e+04   misfit: 2.55730e+02\n",
      "it: 23   it_marq:  0   lambda: 1e+03   misfit: 3.66795e+02\n",
      "it: 23   it_marq:  1   lambda: 1e+04   misfit: 2.55687e+02\n",
      "it: 24   it_marq:  0   lambda: 1e+03   misfit: 4.86593e+02\n",
      "it: 24   it_marq:  1   lambda: 1e+04   misfit: 2.55644e+02\n",
      "it: 25   it_marq:  0   lambda: 1e+03   misfit: 4.09699e+02\n",
      "it: 25   it_marq:  1   lambda: 1e+04   misfit: 2.55602e+02\n",
      "it: 26   it_marq:  0   lambda: 1e+03   misfit: 3.20989e+02\n",
      "it: 26   it_marq:  1   lambda: 1e+04   misfit: 2.55559e+02\n",
      "it: 27   it_marq:  0   lambda: 1e+03   misfit: 4.31069e+02\n",
      "it: 27   it_marq:  1   lambda: 1e+04   misfit: 2.55517e+02\n",
      "it: 28   it_marq:  0   lambda: 1e+03   misfit: 4.25852e+02\n",
      "it: 28   it_marq:  1   lambda: 1e+04   misfit: 2.55475e+02\n",
      "it: 29   it_marq:  0   lambda: 1e+03   misfit: 3.63743e+02\n",
      "it: 29   it_marq:  1   lambda: 1e+04   misfit: 2.55433e+02\n"
     ]
    }
   ],
   "source": [
    "d_fit, m_est, model_est, phi_list, model_list, res_list = mfun.levmarq_tf(\n",
    "    xp, yp, zp, m0, M, L, delta,\n",
    "    itmax, itmax_marq, lamb,\n",
    "    dlamb, tol, mmin, mmax,\n",
    "    m_out, dobs, inc, dec,\n",
    "    props, alpha, z0, dz\n",
    ")"
   ]
  },
  {
   "cell_type": "markdown",
   "metadata": {},
   "source": [
    "# Results"
   ]
  },
  {
   "cell_type": "code",
   "execution_count": 83,
   "metadata": {},
   "outputs": [],
   "source": [
    "inversion['data_fit'] = d_fit\n",
    "inversion['estimate'] = m_est\n",
    "inversion['prisms'] = model_est\n",
    "inversion['estimated_models'] = model_list\n",
    "inversion['objective'] = phi_list\n",
    "inversion['residual'] = dobs - d_fit\n",
    "inversion['residual_list'] = res_list"
   ]
  },
  {
   "cell_type": "code",
   "execution_count": 84,
   "metadata": {},
   "outputs": [],
   "source": [
    "file_name = mypath+'/inversion.pickle'\n",
    "with open(file_name, 'w') as f:\n",
    "    pickle.dump(inversion, f)"
   ]
  },
  {
   "cell_type": "markdown",
   "metadata": {},
   "source": [
    "### "
   ]
  }
 ],
 "metadata": {
  "anaconda-cloud": {},
  "kernelspec": {
   "display_name": "Python 2",
   "language": "python",
   "name": "python2"
  },
  "language_info": {
   "codemirror_mode": {
    "name": "ipython",
    "version": 2
   },
   "file_extension": ".py",
   "mimetype": "text/x-python",
   "name": "python",
   "nbconvert_exporter": "python",
   "pygments_lexer": "ipython2",
   "version": "2.7.15"
  }
 },
 "nbformat": 4,
 "nbformat_minor": 2
}
