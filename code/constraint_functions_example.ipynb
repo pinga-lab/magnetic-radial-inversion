{
 "cells": [
  {
   "cell_type": "markdown",
   "metadata": {},
   "source": [
    "# Constraints"
   ]
  },
  {
   "cell_type": "code",
   "execution_count": 1,
   "metadata": {},
   "outputs": [],
   "source": [
    "import numpy as np\n",
    "import matplotlib.pyplot as plt"
   ]
  },
  {
   "cell_type": "markdown",
   "metadata": {},
   "source": [
    "### Global variables"
   ]
  },
  {
   "cell_type": "code",
   "execution_count": 2,
   "metadata": {},
   "outputs": [],
   "source": [
    "# Number of vertices per prism\n",
    "V = 5\n",
    "\n",
    "# Number of prisms\n",
    "L = 3\n",
    "\n",
    "# Number of parameters\n",
    "M = L*(V + 2) + 1"
   ]
  },
  {
   "cell_type": "code",
   "execution_count": 3,
   "metadata": {},
   "outputs": [
    {
     "name": "stdout",
     "output_type": "stream",
     "text": [
      "22\n"
     ]
    }
   ],
   "source": [
    "print(M)"
   ]
  },
  {
   "cell_type": "markdown",
   "metadata": {},
   "source": [
    "### $\\varphi_{1}(\\mathbf{p})$"
   ]
  },
  {
   "cell_type": "code",
   "execution_count": 4,
   "metadata": {},
   "outputs": [],
   "source": [
    "# Identity matrix of order V\n",
    "IV = np.identity(V)\n",
    "\n",
    "# Identity matrix of order L\n",
    "IL = np.identity(L)"
   ]
  },
  {
   "cell_type": "code",
   "execution_count": 5,
   "metadata": {},
   "outputs": [],
   "source": [
    "# V x 2 matrix with null elements\n",
    "OVx2 = np.zeros((V,2))"
   ]
  },
  {
   "cell_type": "code",
   "execution_count": 6,
   "metadata": {},
   "outputs": [],
   "source": [
    "# LV x 1 vector with null elements\n",
    "OLVx1 = np.zeros((L*V,1))"
   ]
  },
  {
   "cell_type": "code",
   "execution_count": 7,
   "metadata": {},
   "outputs": [],
   "source": [
    "# Downshift permutation of order V\n",
    "DV = np.roll(IV, shift=1, axis=0)"
   ]
  },
  {
   "cell_type": "code",
   "execution_count": 8,
   "metadata": {},
   "outputs": [],
   "source": [
    "S1 = np.kron(IL, np.hstack([IV - DV.T, OVx2]))"
   ]
  },
  {
   "cell_type": "code",
   "execution_count": 9,
   "metadata": {},
   "outputs": [
    {
     "name": "stdout",
     "output_type": "stream",
     "text": [
      "[[ 1. -1.  0.  0.  0.  0.  0.  0. -0.  0.  0.  0.  0.  0.  0. -0.  0.  0.\n",
      "   0.  0.  0.]\n",
      " [ 0.  1. -1.  0.  0.  0.  0.  0.  0. -0.  0.  0.  0.  0.  0.  0. -0.  0.\n",
      "   0.  0.  0.]\n",
      " [ 0.  0.  1. -1.  0.  0.  0.  0.  0.  0. -0.  0.  0.  0.  0.  0.  0. -0.\n",
      "   0.  0.  0.]\n",
      " [ 0.  0.  0.  1. -1.  0.  0.  0.  0.  0.  0. -0.  0.  0.  0.  0.  0.  0.\n",
      "  -0.  0.  0.]\n",
      " [-1.  0.  0.  0.  1.  0.  0. -0.  0.  0.  0.  0.  0.  0. -0.  0.  0.  0.\n",
      "   0.  0.  0.]\n",
      " [ 0. -0.  0.  0.  0.  0.  0.  1. -1.  0.  0.  0.  0.  0.  0. -0.  0.  0.\n",
      "   0.  0.  0.]\n",
      " [ 0.  0. -0.  0.  0.  0.  0.  0.  1. -1.  0.  0.  0.  0.  0.  0. -0.  0.\n",
      "   0.  0.  0.]\n",
      " [ 0.  0.  0. -0.  0.  0.  0.  0.  0.  1. -1.  0.  0.  0.  0.  0.  0. -0.\n",
      "   0.  0.  0.]\n",
      " [ 0.  0.  0.  0. -0.  0.  0.  0.  0.  0.  1. -1.  0.  0.  0.  0.  0.  0.\n",
      "  -0.  0.  0.]\n",
      " [-0.  0.  0.  0.  0.  0.  0. -1.  0.  0.  0.  1.  0.  0. -0.  0.  0.  0.\n",
      "   0.  0.  0.]\n",
      " [ 0. -0.  0.  0.  0.  0.  0.  0. -0.  0.  0.  0.  0.  0.  1. -1.  0.  0.\n",
      "   0.  0.  0.]\n",
      " [ 0.  0. -0.  0.  0.  0.  0.  0.  0. -0.  0.  0.  0.  0.  0.  1. -1.  0.\n",
      "   0.  0.  0.]\n",
      " [ 0.  0.  0. -0.  0.  0.  0.  0.  0.  0. -0.  0.  0.  0.  0.  0.  1. -1.\n",
      "   0.  0.  0.]\n",
      " [ 0.  0.  0.  0. -0.  0.  0.  0.  0.  0.  0. -0.  0.  0.  0.  0.  0.  1.\n",
      "  -1.  0.  0.]\n",
      " [-0.  0.  0.  0.  0.  0.  0. -0.  0.  0.  0.  0.  0.  0. -1.  0.  0.  0.\n",
      "   1.  0.  0.]]\n"
     ]
    }
   ],
   "source": [
    "print(S1)"
   ]
  },
  {
   "cell_type": "code",
   "execution_count": 10,
   "metadata": {},
   "outputs": [],
   "source": [
    "R1 = np.hstack([S1, OLVx1])"
   ]
  },
  {
   "cell_type": "code",
   "execution_count": 11,
   "metadata": {},
   "outputs": [
    {
     "data": {
      "text/plain": [
       "(15, 22)"
      ]
     },
     "execution_count": 11,
     "metadata": {},
     "output_type": "execute_result"
    }
   ],
   "source": [
    "R1.shape"
   ]
  },
  {
   "cell_type": "code",
   "execution_count": 12,
   "metadata": {},
   "outputs": [
    {
     "name": "stdout",
     "output_type": "stream",
     "text": [
      "[[ 1. -1.  0.  0.  0.  0.  0.  0. -0.  0.  0.  0.  0.  0.  0. -0.  0.  0.\n",
      "   0.  0.  0.  0.]\n",
      " [ 0.  1. -1.  0.  0.  0.  0.  0.  0. -0.  0.  0.  0.  0.  0.  0. -0.  0.\n",
      "   0.  0.  0.  0.]\n",
      " [ 0.  0.  1. -1.  0.  0.  0.  0.  0.  0. -0.  0.  0.  0.  0.  0.  0. -0.\n",
      "   0.  0.  0.  0.]\n",
      " [ 0.  0.  0.  1. -1.  0.  0.  0.  0.  0.  0. -0.  0.  0.  0.  0.  0.  0.\n",
      "  -0.  0.  0.  0.]\n",
      " [-1.  0.  0.  0.  1.  0.  0. -0.  0.  0.  0.  0.  0.  0. -0.  0.  0.  0.\n",
      "   0.  0.  0.  0.]\n",
      " [ 0. -0.  0.  0.  0.  0.  0.  1. -1.  0.  0.  0.  0.  0.  0. -0.  0.  0.\n",
      "   0.  0.  0.  0.]\n",
      " [ 0.  0. -0.  0.  0.  0.  0.  0.  1. -1.  0.  0.  0.  0.  0.  0. -0.  0.\n",
      "   0.  0.  0.  0.]\n",
      " [ 0.  0.  0. -0.  0.  0.  0.  0.  0.  1. -1.  0.  0.  0.  0.  0.  0. -0.\n",
      "   0.  0.  0.  0.]\n",
      " [ 0.  0.  0.  0. -0.  0.  0.  0.  0.  0.  1. -1.  0.  0.  0.  0.  0.  0.\n",
      "  -0.  0.  0.  0.]\n",
      " [-0.  0.  0.  0.  0.  0.  0. -1.  0.  0.  0.  1.  0.  0. -0.  0.  0.  0.\n",
      "   0.  0.  0.  0.]\n",
      " [ 0. -0.  0.  0.  0.  0.  0.  0. -0.  0.  0.  0.  0.  0.  1. -1.  0.  0.\n",
      "   0.  0.  0.  0.]\n",
      " [ 0.  0. -0.  0.  0.  0.  0.  0.  0. -0.  0.  0.  0.  0.  0.  1. -1.  0.\n",
      "   0.  0.  0.  0.]\n",
      " [ 0.  0.  0. -0.  0.  0.  0.  0.  0.  0. -0.  0.  0.  0.  0.  0.  1. -1.\n",
      "   0.  0.  0.  0.]\n",
      " [ 0.  0.  0.  0. -0.  0.  0.  0.  0.  0.  0. -0.  0.  0.  0.  0.  0.  1.\n",
      "  -1.  0.  0.  0.]\n",
      " [-0.  0.  0.  0.  0.  0.  0. -0.  0.  0.  0.  0.  0.  0. -1.  0.  0.  0.\n",
      "   1.  0.  0.  0.]]\n"
     ]
    }
   ],
   "source": [
    "print(R1)"
   ]
  },
  {
   "cell_type": "code",
   "execution_count": 26,
   "metadata": {},
   "outputs": [
    {
     "data": {
      "image/png": "[encoded data removed]",
      "text/plain": [
       "<Figure size 422.4x288 with 1 Axes>"
      ]
     },
     "metadata": {},
     "output_type": "display_data"
    }
   ],
   "source": [
    "plt.matshow(R1, cmap=plt.get_cmap('RdBu'))\n",
    "plt.xticks(ticks=np.arange(M)-0.5, labels=np.arange(M)+1)\n",
    "plt.yticks(ticks=np.arange(L*V)-0.5, labels=np.arange(L*V)+1)\n",
    "plt.grid()\n",
    "plt.show()"
   ]
  },
  {
   "cell_type": "markdown",
   "metadata": {},
   "source": [
    "### $\\varphi_{2}(\\mathbf{p})$"
   ]
  },
  {
   "cell_type": "code",
   "execution_count": 14,
   "metadata": {},
   "outputs": [],
   "source": [
    "# Identity matrix of order V\n",
    "IV = np.identity(V)\n",
    "\n",
    "# Identity matrix of order L-1\n",
    "IL_1 = np.identity(L-1)"
   ]
  },
  {
   "cell_type": "code",
   "execution_count": 15,
   "metadata": {},
   "outputs": [],
   "source": [
    "# V x 2 matrix with null elements\n",
    "OVx2 = np.zeros((V,2))"
   ]
  },
  {
   "cell_type": "code",
   "execution_count": 16,
   "metadata": {},
   "outputs": [],
   "source": [
    "# (L-1)V x 1 vector with null elements\n",
    "OL_1Vx1 = np.zeros(((L-1)*V,1))"
   ]
  },
  {
   "cell_type": "code",
   "execution_count": 17,
   "metadata": {},
   "outputs": [],
   "source": [
    "# (L-1) x 1 vector with null elements\n",
    "OL_1x1 = np.zeros(((L-1),1))"
   ]
  },
  {
   "cell_type": "code",
   "execution_count": 19,
   "metadata": {},
   "outputs": [],
   "source": [
    "S2 = np.kron(np.hstack([IL_1, OL_1x1]), np.hstack([IV, OVx2])) - \\\n",
    "     np.kron(np.hstack([OL_1x1, IL_1]), np.hstack([IV, OVx2]))"
   ]
  },
  {
   "cell_type": "code",
   "execution_count": 20,
   "metadata": {},
   "outputs": [
    {
     "name": "stdout",
     "output_type": "stream",
     "text": [
      "[[ 1.  0.  0.  0.  0.  0.  0. -1.  0.  0.  0.  0.  0.  0.  0.  0.  0.  0.\n",
      "   0.  0.  0.]\n",
      " [ 0.  1.  0.  0.  0.  0.  0.  0. -1.  0.  0.  0.  0.  0.  0.  0.  0.  0.\n",
      "   0.  0.  0.]\n",
      " [ 0.  0.  1.  0.  0.  0.  0.  0.  0. -1.  0.  0.  0.  0.  0.  0.  0.  0.\n",
      "   0.  0.  0.]\n",
      " [ 0.  0.  0.  1.  0.  0.  0.  0.  0.  0. -1.  0.  0.  0.  0.  0.  0.  0.\n",
      "   0.  0.  0.]\n",
      " [ 0.  0.  0.  0.  1.  0.  0.  0.  0.  0.  0. -1.  0.  0.  0.  0.  0.  0.\n",
      "   0.  0.  0.]\n",
      " [ 0.  0.  0.  0.  0.  0.  0.  1.  0.  0.  0.  0.  0.  0. -1.  0.  0.  0.\n",
      "   0.  0.  0.]\n",
      " [ 0.  0.  0.  0.  0.  0.  0.  0.  1.  0.  0.  0.  0.  0.  0. -1.  0.  0.\n",
      "   0.  0.  0.]\n",
      " [ 0.  0.  0.  0.  0.  0.  0.  0.  0.  1.  0.  0.  0.  0.  0.  0. -1.  0.\n",
      "   0.  0.  0.]\n",
      " [ 0.  0.  0.  0.  0.  0.  0.  0.  0.  0.  1.  0.  0.  0.  0.  0.  0. -1.\n",
      "   0.  0.  0.]\n",
      " [ 0.  0.  0.  0.  0.  0.  0.  0.  0.  0.  0.  1.  0.  0.  0.  0.  0.  0.\n",
      "  -1.  0.  0.]]\n"
     ]
    }
   ],
   "source": [
    "print(S2)"
   ]
  },
  {
   "cell_type": "code",
   "execution_count": 21,
   "metadata": {},
   "outputs": [],
   "source": [
    "R2 = np.hstack([S2, OL_1Vx1])"
   ]
  },
  {
   "cell_type": "code",
   "execution_count": 22,
   "metadata": {},
   "outputs": [
    {
     "data": {
      "text/plain": [
       "(10, 22)"
      ]
     },
     "execution_count": 22,
     "metadata": {},
     "output_type": "execute_result"
    }
   ],
   "source": [
    "R2.shape"
   ]
  },
  {
   "cell_type": "code",
   "execution_count": 23,
   "metadata": {},
   "outputs": [
    {
     "name": "stdout",
     "output_type": "stream",
     "text": [
      "[[ 1.  0.  0.  0.  0.  0.  0. -1.  0.  0.  0.  0.  0.  0.  0.  0.  0.  0.\n",
      "   0.  0.  0.  0.]\n",
      " [ 0.  1.  0.  0.  0.  0.  0.  0. -1.  0.  0.  0.  0.  0.  0.  0.  0.  0.\n",
      "   0.  0.  0.  0.]\n",
      " [ 0.  0.  1.  0.  0.  0.  0.  0.  0. -1.  0.  0.  0.  0.  0.  0.  0.  0.\n",
      "   0.  0.  0.  0.]\n",
      " [ 0.  0.  0.  1.  0.  0.  0.  0.  0.  0. -1.  0.  0.  0.  0.  0.  0.  0.\n",
      "   0.  0.  0.  0.]\n",
      " [ 0.  0.  0.  0.  1.  0.  0.  0.  0.  0.  0. -1.  0.  0.  0.  0.  0.  0.\n",
      "   0.  0.  0.  0.]\n",
      " [ 0.  0.  0.  0.  0.  0.  0.  1.  0.  0.  0.  0.  0.  0. -1.  0.  0.  0.\n",
      "   0.  0.  0.  0.]\n",
      " [ 0.  0.  0.  0.  0.  0.  0.  0.  1.  0.  0.  0.  0.  0.  0. -1.  0.  0.\n",
      "   0.  0.  0.  0.]\n",
      " [ 0.  0.  0.  0.  0.  0.  0.  0.  0.  1.  0.  0.  0.  0.  0.  0. -1.  0.\n",
      "   0.  0.  0.  0.]\n",
      " [ 0.  0.  0.  0.  0.  0.  0.  0.  0.  0.  1.  0.  0.  0.  0.  0.  0. -1.\n",
      "   0.  0.  0.  0.]\n",
      " [ 0.  0.  0.  0.  0.  0.  0.  0.  0.  0.  0.  1.  0.  0.  0.  0.  0.  0.\n",
      "  -1.  0.  0.  0.]]\n"
     ]
    }
   ],
   "source": [
    "print(R2)"
   ]
  },
  {
   "cell_type": "code",
   "execution_count": 24,
   "metadata": {},
   "outputs": [
    {
     "data": {
      "image/png": "[encoded data removed]",
      "text/plain": [
       "<Figure size 633.6x288 with 1 Axes>"
      ]
     },
     "metadata": {},
     "output_type": "display_data"
    }
   ],
   "source": [
    "plt.matshow(R2, cmap=plt.get_cmap('RdBu'))\n",
    "plt.xticks(ticks=np.arange(M)-0.5, labels=np.arange(M)+1)\n",
    "plt.yticks(ticks=np.arange((L-1)*V)-0.5, labels=np.arange((L-1)*V)+1)\n",
    "plt.grid()\n",
    "plt.show()"
   ]
  },
  {
   "cell_type": "markdown",
   "metadata": {},
   "source": [
    "### $\\varphi_{3}(\\mathbf{p})$"
   ]
  },
  {
   "cell_type": "code",
   "execution_count": 27,
   "metadata": {},
   "outputs": [],
   "source": [
    "# Identity matrix of order 2\n",
    "I2 = np.identity(2)\n",
    "\n",
    "# Identity matrix of order L-1\n",
    "IL_1 = np.identity(L-1)"
   ]
  },
  {
   "cell_type": "code",
   "execution_count": 28,
   "metadata": {},
   "outputs": [],
   "source": [
    "# 2 x V matrix with null elements\n",
    "O2xV = np.zeros((2,V))"
   ]
  },
  {
   "cell_type": "code",
   "execution_count": 29,
   "metadata": {},
   "outputs": [],
   "source": [
    "# (L-1)2 x 1 vector with null elements\n",
    "OL_12x1 = np.zeros(((L-1)*2,1))"
   ]
  },
  {
   "cell_type": "code",
   "execution_count": 30,
   "metadata": {},
   "outputs": [],
   "source": [
    "# (L-1) x 1 vector with null elements\n",
    "OL_1x1 = np.zeros(((L-1),1))"
   ]
  },
  {
   "cell_type": "code",
   "execution_count": 31,
   "metadata": {},
   "outputs": [],
   "source": [
    "S3 = np.kron(np.hstack([IL_1, OL_1x1]), np.hstack([O2xV, I2])) - \\\n",
    "     np.kron(np.hstack([OL_1x1, IL_1]), np.hstack([O2xV, I2]))"
   ]
  },
  {
   "cell_type": "code",
   "execution_count": 32,
   "metadata": {},
   "outputs": [
    {
     "name": "stdout",
     "output_type": "stream",
     "text": [
      "[[ 0.  0.  0.  0.  0.  1.  0.  0.  0.  0.  0.  0. -1.  0.  0.  0.  0.  0.\n",
      "   0.  0.  0.]\n",
      " [ 0.  0.  0.  0.  0.  0.  1.  0.  0.  0.  0.  0.  0. -1.  0.  0.  0.  0.\n",
      "   0.  0.  0.]\n",
      " [ 0.  0.  0.  0.  0.  0.  0.  0.  0.  0.  0.  0.  1.  0.  0.  0.  0.  0.\n",
      "   0. -1.  0.]\n",
      " [ 0.  0.  0.  0.  0.  0.  0.  0.  0.  0.  0.  0.  0.  1.  0.  0.  0.  0.\n",
      "   0.  0. -1.]]\n"
     ]
    }
   ],
   "source": [
    "print(S3)"
   ]
  },
  {
   "cell_type": "code",
   "execution_count": 33,
   "metadata": {},
   "outputs": [],
   "source": [
    "R3 = np.hstack([S3, OL_12x1])"
   ]
  },
  {
   "cell_type": "code",
   "execution_count": 34,
   "metadata": {},
   "outputs": [
    {
     "data": {
      "text/plain": [
       "(4, 22)"
      ]
     },
     "execution_count": 34,
     "metadata": {},
     "output_type": "execute_result"
    }
   ],
   "source": [
    "R3.shape"
   ]
  },
  {
   "cell_type": "code",
   "execution_count": 35,
   "metadata": {},
   "outputs": [
    {
     "name": "stdout",
     "output_type": "stream",
     "text": [
      "[[ 0.  0.  0.  0.  0.  1.  0.  0.  0.  0.  0.  0. -1.  0.  0.  0.  0.  0.\n",
      "   0.  0.  0.  0.]\n",
      " [ 0.  0.  0.  0.  0.  0.  1.  0.  0.  0.  0.  0.  0. -1.  0.  0.  0.  0.\n",
      "   0.  0.  0.  0.]\n",
      " [ 0.  0.  0.  0.  0.  0.  0.  0.  0.  0.  0.  0.  1.  0.  0.  0.  0.  0.\n",
      "   0. -1.  0.  0.]\n",
      " [ 0.  0.  0.  0.  0.  0.  0.  0.  0.  0.  0.  0.  0.  1.  0.  0.  0.  0.\n",
      "   0.  0. -1.  0.]]\n"
     ]
    }
   ],
   "source": [
    "print(R3)"
   ]
  },
  {
   "cell_type": "code",
   "execution_count": 37,
   "metadata": {},
   "outputs": [
    {
     "data": {
      "image/png": "[encoded data removed]",
      "text/plain": [
       "<Figure size 1152x209.455 with 1 Axes>"
      ]
     },
     "metadata": {},
     "output_type": "display_data"
    }
   ],
   "source": [
    "plt.matshow(R3, cmap=plt.get_cmap('RdBu'))\n",
    "plt.xticks(ticks=np.arange(M)-0.5, labels=np.arange(M)+1)\n",
    "plt.yticks(ticks=np.arange((L-1)*2)-0.5, labels=np.arange((L-1)*2)+1)\n",
    "plt.grid()\n",
    "plt.show()"
   ]
  },
  {
   "cell_type": "code",
   "execution_count": null,
   "metadata": {},
   "outputs": [],
   "source": []
  }
 ],
 "metadata": {
  "kernelspec": {
   "display_name": "Python 3",
   "language": "python",
   "name": "python3"
  },
  "language_info": {
   "codemirror_mode": {
    "name": "ipython",
    "version": 3
   },
   "file_extension": ".py",
   "mimetype": "text/x-python",
   "name": "python",
   "nbconvert_exporter": "python",
   "pygments_lexer": "ipython3",
   "version": "3.6.8"
  }
 },
 "nbformat": 4,
 "nbformat_minor": 2
}
