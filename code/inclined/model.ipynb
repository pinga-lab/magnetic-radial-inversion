{
 "cells": [
  {
   "cell_type": "markdown",
   "metadata": {},
   "source": [
    "# Inclined model"
   ]
  },
  {
   "cell_type": "markdown",
   "metadata": {},
   "source": [
    "This notebook produces a set of inclined prisms."
   ]
  },
  {
   "cell_type": "code",
   "execution_count": 1,
   "metadata": {},
   "outputs": [],
   "source": [
    "import matplotlib as mpb\n",
    "# show the figures in windows\n",
    "\n",
    "# show all the matplotlib backends \n",
    "mpb.rcsetup.all_backends\n",
    "\n",
    "# force matplotlib to use the 'Qt5Agg' backend \n",
    "mpb.use(arg='Qt5Agg', force=True)"
   ]
  },
  {
   "cell_type": "code",
   "execution_count": 2,
   "metadata": {},
   "outputs": [],
   "source": [
    "import numpy as np\n",
    "import pandas as pd\n",
    "from copy import deepcopy\n",
    "import matplotlib.pyplot as plt\n",
    "import cPickle as pickle\n",
    "from fatiando import utils\n",
    "from mpl_toolkits.mplot3d import Axes3D\n",
    "from mpl_toolkits.mplot3d.art3d import Poly3DCollection"
   ]
  },
  {
   "cell_type": "code",
   "execution_count": 3,
   "metadata": {},
   "outputs": [
    {
     "name": "stderr",
     "output_type": "stream",
     "text": [
      "/home/leonardo/anaconda2/lib/python2.7/site-packages/fatiando/vis/mpl.py:76: UserWarning: This module will be removed in v0.6. We recommend the use of matplotlib.pyplot module directly. Some of the fatiando specific functions will remain.\n",
      "  \"specific functions will remain.\")\n"
     ]
    }
   ],
   "source": [
    "import sys\n",
    "sys.path.insert(0, '../../code')\n",
    "\n",
    "import mag_polyprism_functions as mfun"
   ]
  },
  {
   "cell_type": "code",
   "execution_count": 4,
   "metadata": {},
   "outputs": [],
   "source": [
    "model = dict()"
   ]
  },
  {
   "cell_type": "code",
   "execution_count": 5,
   "metadata": {},
   "outputs": [],
   "source": [
    "# importing the pickle file of results\n",
    "result_path = '../anitapolis/l2-tfa-inversion/multiple-l2-reg-43485/'\n",
    "\n",
    "with open(result_path+'inversion.pickle') as w:\n",
    "        inversion = pickle.load(w)"
   ]
  },
  {
   "cell_type": "code",
   "execution_count": 6,
   "metadata": {},
   "outputs": [],
   "source": [
    "model['prisms'] = inversion['results'][4][2][-1]"
   ]
  },
  {
   "cell_type": "code",
   "execution_count": 7,
   "metadata": {},
   "outputs": [],
   "source": [
    "d = pd.read_csv('../anitapolis/anitapolis_decimated_tfa_residual_cut.txt', header=0, sep=' ')"
   ]
  },
  {
   "cell_type": "code",
   "execution_count": 8,
   "metadata": {},
   "outputs": [],
   "source": [
    "x = d['X'] - np.mean(d['X'])\n",
    "y = d['Y'] - np.mean(d['Y'])"
   ]
  },
  {
   "cell_type": "code",
   "execution_count": 9,
   "metadata": {},
   "outputs": [],
   "source": [
    "for m in model['prisms']:\n",
    "    m.x -= np.mean(d['X'])\n",
    "    m.y -= np.mean(d['Y'])\n",
    "    m.x = np.sin(np.pi)*m.y + np.cos(np.pi)*m.x\n",
    "    m.y = np.cos(np.pi)*m.y - np.sin(np.pi)*m.x"
   ]
  },
  {
   "cell_type": "code",
   "execution_count": 10,
   "metadata": {},
   "outputs": [],
   "source": [
    "dz = model['prisms'][0].z2 - model['prisms'][0].z1"
   ]
  },
  {
   "cell_type": "code",
   "execution_count": 11,
   "metadata": {},
   "outputs": [],
   "source": [
    "new_model = model['prisms'][:-2]\n",
    "new_prism = deepcopy(model['prisms'][-2])\n",
    "new_prism.x -= 800.\n",
    "new_prism2 = deepcopy(model['prisms'][-1])\n",
    "new_prism2.x -= 1000."
   ]
  },
  {
   "cell_type": "code",
   "execution_count": 12,
   "metadata": {},
   "outputs": [
    {
     "data": {
      "text/plain": [
       "4"
      ]
     },
     "execution_count": 12,
     "metadata": {},
     "output_type": "execute_result"
    }
   ],
   "source": [
    "len(new_model)"
   ]
  },
  {
   "cell_type": "code",
   "execution_count": 13,
   "metadata": {},
   "outputs": [],
   "source": [
    "new_model.append(new_prism)"
   ]
  },
  {
   "cell_type": "code",
   "execution_count": 14,
   "metadata": {},
   "outputs": [
    {
     "data": {
      "text/plain": [
       "5"
      ]
     },
     "execution_count": 14,
     "metadata": {},
     "output_type": "execute_result"
    }
   ],
   "source": [
    "len(new_model)"
   ]
  },
  {
   "cell_type": "code",
   "execution_count": 15,
   "metadata": {},
   "outputs": [],
   "source": [
    "model['prisms'][-2].z1 += dz\n",
    "model['prisms'][-2].z2 += dz\n",
    "new_model.append(model['prisms'][-2])"
   ]
  },
  {
   "cell_type": "code",
   "execution_count": 16,
   "metadata": {},
   "outputs": [],
   "source": [
    "new_prism2.z1 += dz\n",
    "new_prism2.z2 += dz\n",
    "new_model.append(new_prism2)"
   ]
  },
  {
   "cell_type": "code",
   "execution_count": 17,
   "metadata": {},
   "outputs": [],
   "source": [
    "model['prisms'][-1].z1 += 2*dz\n",
    "model['prisms'][-1].z2 += 2*dz\n",
    "new_model.append(model['prisms'][-1])"
   ]
  },
  {
   "cell_type": "code",
   "execution_count": 18,
   "metadata": {},
   "outputs": [],
   "source": [
    "for i,n in enumerate(new_model):\n",
    "    n.z1 = i*380.\n",
    "    n.z2 = (i+1)*380."
   ]
  },
  {
   "cell_type": "code",
   "execution_count": 19,
   "metadata": {},
   "outputs": [],
   "source": [
    "model['prisms'] = new_model"
   ]
  },
  {
   "cell_type": "code",
   "execution_count": 20,
   "metadata": {},
   "outputs": [],
   "source": [
    "verts = mfun.plot_prisms(model['prisms'], scale=0.001)\n",
    "\n",
    "fig = plt.figure(figsize=(3.33,3.33))\n",
    "ax = fig.add_subplot(111, projection='3d')\n",
    "\n",
    "# plot sides\n",
    "ax.add_collection3d(Poly3DCollection(verts, \n",
    "alpha=0.4, facecolor='b', linewidths=1.5, edgecolors='k'))\n",
    "\n",
    "ax.set_xlim(-4, 3, 100)\n",
    "ax.set_ylim(-1, 6, 100)\n",
    "ax.set_zlim(3., 0, 100)\n",
    "ax.tick_params(labelsize= 8, pad=2)\n",
    "ax.set_xlabel('Y (km)', fontsize= 8, labelpad=0)\n",
    "ax.set_ylabel('X (km)', fontsize= 8, labelpad=0)\n",
    "ax.set_zlabel('Z (km)', fontsize= 8, labelpad=-2)\n",
    "#ax.set_xticks(np.arange(-2.5, 3.5, 2))\n",
    "#ax.set_yticks(np.arange(-2.5, 3.5, 2))\n",
    "ax.set_zticks(np.arange(0, 7, 1))\n",
    "ax\n",
    "\n",
    "ax.view_init(15, 20)\n",
    "\n",
    "plt.savefig('model.png', dpi=1200)\n",
    "plt.show()"
   ]
  },
  {
   "cell_type": "code",
   "execution_count": 21,
   "metadata": {},
   "outputs": [],
   "source": [
    "# model parameters\n",
    "model['M'] = len(model['prisms'][0].x) # number of vertices per prism\n",
    "model['L'] = len(model['prisms']) # number of prisms\n",
    "model['P'] = model['L']*(model['M']+2) # number of parameters\n",
    "\n",
    "model['z0'] = model['prisms'][0].z1    # depth of the top the shallowest prism\n",
    "model['dz'] = (model['z0'] + model['prisms'][-1].z2)/model['L']    # thickness of each prism\n",
    "\n",
    "model['inc'] = -50.  # inclination\n",
    "model['dec'] = 9.   # declination\n",
    "model['intensity'] = 12. # intensity\n",
    "\n",
    "model['props']={'magnetization': utils.ang2vec(\n",
    "    model['intensity'], model['inc'], model['dec'])} # physical property: magnetization\n",
    "\n",
    "for m in model['prisms']:\n",
    "    m.props = model['props']"
   ]
  },
  {
   "cell_type": "code",
   "execution_count": 22,
   "metadata": {},
   "outputs": [
    {
     "data": {
      "text/plain": [
       "0.0"
      ]
     },
     "execution_count": 22,
     "metadata": {},
     "output_type": "execute_result"
    }
   ],
   "source": [
    "model['prisms'][0].z1"
   ]
  },
  {
   "cell_type": "markdown",
   "metadata": {},
   "source": [
    "### Saving in an outer file"
   ]
  },
  {
   "cell_type": "code",
   "execution_count": 23,
   "metadata": {},
   "outputs": [],
   "source": [
    "file_name = 'model.pickle'\n",
    "with open(file_name, 'w') as f:\n",
    "    pickle.dump(model, f)"
   ]
  }
 ],
 "metadata": {
  "kernelspec": {
   "display_name": "Python 2",
   "language": "python",
   "name": "python2"
  },
  "language_info": {
   "codemirror_mode": {
    "name": "ipython",
    "version": 2
   },
   "file_extension": ".py",
   "mimetype": "text/x-python",
   "name": "python",
   "nbconvert_exporter": "python",
   "pygments_lexer": "ipython2",
   "version": "2.7.16"
  }
 },
 "nbformat": 4,
 "nbformat_minor": 2
}
