{
 "cells": [
  {
   "cell_type": "markdown",
   "metadata": {},
   "source": [
    "# Inclined TFA Inversion"
   ]
  },
  {
   "cell_type": "markdown",
   "metadata": {},
   "source": [
    "This notebook performs the inversion using Levenberg-Marquadt's algorithm of total field anomaly (TFA) data on a regular grid of a synthetic inclined model."
   ]
  },
  {
   "cell_type": "code",
   "execution_count": 1,
   "metadata": {},
   "outputs": [
    {
     "name": "stderr",
     "output_type": "stream",
     "text": [
      "/home/leo/anaconda2/lib/python2.7/site-packages/fatiando/vis/mpl.py:76: UserWarning: This module will be removed in v0.6. We recommend the use of matplotlib.pyplot module directly. Some of the fatiando specific functions will remain.\n",
      "  \"specific functions will remain.\")\n",
      "/home/leo/anaconda2/lib/python2.7/site-packages/fatiando/vis/myv.py:51: UserWarning: This module will be removed in v0.7.\n",
      "  warnings.warn(\"This module will be removed in v0.7.\")\n"
     ]
    }
   ],
   "source": [
    "import numpy as np\n",
    "import matplotlib.pyplot as plt\n",
    "import cPickle as pickle\n",
    "import os\n",
    "\n",
    "from fatiando import utils\n",
    "from fatiando.gravmag import polyprism\n",
    "from fatiando.mesher import PolygonalPrism\n",
    "from fatiando.vis import mpl, myv\n",
    "from matplotlib import colors, ticker, cm\n",
    "from IPython.display import Image as img\n",
    "from matplotlib.mlab import normpdf"
   ]
  },
  {
   "cell_type": "markdown",
   "metadata": {},
   "source": [
    "### Auxiliary functions"
   ]
  },
  {
   "cell_type": "code",
   "execution_count": 2,
   "metadata": {
    "collapsed": true
   },
   "outputs": [],
   "source": [
    "import sys\n",
    "sys.path.insert(0, '../../code')\n",
    "\n",
    "import mag_polyprism_functions as mfun"
   ]
  },
  {
   "cell_type": "markdown",
   "metadata": {},
   "source": [
    "# Input"
   ]
  },
  {
   "cell_type": "markdown",
   "metadata": {},
   "source": [
    "### Importing model parameters"
   ]
  },
  {
   "cell_type": "code",
   "execution_count": 3,
   "metadata": {},
   "outputs": [],
   "source": [
    "model_dir = 'data/model.pickle'\n",
    "grid_dir = '../grids/flightlines_grid_2100pts_100km2_-150m.pickle'\n",
    "data_dir = 'data/flightlines_grid_2100pts_100k/data.pickle'"
   ]
  },
  {
   "cell_type": "code",
   "execution_count": 4,
   "metadata": {},
   "outputs": [],
   "source": [
    "with open(model_dir) as w:\n",
    "        model = pickle.load(w)"
   ]
  },
  {
   "cell_type": "markdown",
   "metadata": {},
   "source": [
    "### Observation points and observed data"
   ]
  },
  {
   "cell_type": "code",
   "execution_count": 5,
   "metadata": {
    "collapsed": true
   },
   "outputs": [],
   "source": [
    "with open(grid_dir) as w:\n",
    "        grid = pickle.load(w)"
   ]
  },
  {
   "cell_type": "code",
   "execution_count": 6,
   "metadata": {
    "collapsed": true
   },
   "outputs": [],
   "source": [
    "with open(data_dir) as w:\n",
    "        data = pickle.load(w)"
   ]
  },
  {
   "cell_type": "code",
   "execution_count": 7,
   "metadata": {},
   "outputs": [],
   "source": [
    "# observed data and observation points\n",
    "dobs = data['tfa_obs']\n",
    "xp = grid['x']\n",
    "yp = grid['y']\n",
    "zp = grid['z']\n",
    "N = grid['N']"
   ]
  },
  {
   "cell_type": "markdown",
   "metadata": {},
   "source": [
    "### Parameters of the initial model"
   ]
  },
  {
   "cell_type": "code",
   "execution_count": 8,
   "metadata": {},
   "outputs": [],
   "source": [
    "M = 20 # number of vertices per prism\n",
    "L = 5 # number of prisms\n",
    "P = L*(M+2) + 1 # number of parameters\n",
    "\n",
    "# magnetization direction\n",
    "incs = model['inc']\n",
    "decs = model['dec']\n",
    "\n",
    "# depth to the top, thickness and radius\n",
    "z0 = model['z0']\n",
    "dz = 600.\n",
    "r = 2000.\n",
    "\n",
    "# total magnetization\n",
    "intensity = model['intensity']\n",
    "props = {'magnetization': utils.ang2vec(\n",
    "        intensity, incs, decs)}\n",
    "rin = np.zeros(M) + r\n",
    "m0 = np.hstack((rin, np.zeros(2)+1000.))\n",
    "m0 = np.resize(m0, P - 1) \n",
    "m0 = np.hstack((m0, dz)) # inicial parameters vector\n",
    "model0 = mfun.param2polyprism(m0, M, L, z0, props) # list of classes of prisms\n",
    "\n",
    "# main field\n",
    "inc, dec = data['main_field']\n",
    "\n",
    "# predict data\n",
    "d0 = polyprism.tf(xp, yp, zp, model0, inc, dec)"
   ]
  },
  {
   "cell_type": "markdown",
   "metadata": {},
   "source": [
    "### Limits"
   ]
  },
  {
   "cell_type": "code",
   "execution_count": 9,
   "metadata": {},
   "outputs": [],
   "source": [
    "# limits for parameters in meters\n",
    "rmin = 10.\n",
    "rmax = 3000.\n",
    "x0min = -4000.\n",
    "x0max = 4000.\n",
    "y0min = -4000.\n",
    "y0max = 4000.\n",
    "dzmin = 10.\n",
    "dzmax = 1000.\n",
    "\n",
    "mmin, mmax = mfun.build_range_param(M, L, rmin, rmax, x0min, x0max, y0min, y0max, dzmin, dzmax)"
   ]
  },
  {
   "cell_type": "markdown",
   "metadata": {},
   "source": [
    "### Variation"
   ]
  },
  {
   "cell_type": "code",
   "execution_count": 10,
   "metadata": {},
   "outputs": [],
   "source": [
    "# variation for derivatives\n",
    "deltax = 0.01*np.max(x0max)\n",
    "deltay = 0.01*np.max(y0max)\n",
    "deltar = 0.01*np.max(rmax)\n",
    "deltaz = 0.01*np.max(dzmax)"
   ]
  },
  {
   "cell_type": "markdown",
   "metadata": {},
   "source": [
    "### Outcropping parameters"
   ]
  },
  {
   "cell_type": "code",
   "execution_count": 11,
   "metadata": {},
   "outputs": [],
   "source": [
    "# outcropping body parameters\n",
    "#m_out = np.zeros(M + 2)\n",
    "m_out = model['param_vec'][:M+2]"
   ]
  },
  {
   "cell_type": "markdown",
   "metadata": {},
   "source": [
    "### Folder to save the results"
   ]
  },
  {
   "cell_type": "code",
   "execution_count": 12,
   "metadata": {},
   "outputs": [],
   "source": [
    "mypath = data_dir[:-11]+'tfa_inversion/inc%d_dec%d_r%d_int%d_z0%d_dz%d' % (incs, decs, rin[0], np.linalg.norm(props['magnetization']), z0, dz)\n",
    "if not os.path.isdir(mypath):\n",
    "    os.makedirs(mypath)"
   ]
  },
  {
   "cell_type": "code",
   "execution_count": 13,
   "metadata": {},
   "outputs": [],
   "source": [
    "# output of inversion\n",
    "inversion = dict()"
   ]
  },
  {
   "cell_type": "markdown",
   "metadata": {},
   "source": [
    "### Regularization parameters"
   ]
  },
  {
   "cell_type": "code",
   "execution_count": 14,
   "metadata": {
    "collapsed": true
   },
   "outputs": [],
   "source": [
    "#lamb = th*0.01 # Marquadt's parameter\n",
    "lamb = 10.1\n",
    "dlamb = 10.      # step for Marquadt's parameter\n",
    "\n",
    "a1 = 0.01  # adjacent radial distances within each prism\n",
    "a2 = 0.001  # vertically adjacent radial distances\n",
    "a3 = 0.000 # outcropping cross-section\n",
    "a4 = 0.     # outcropping origin\n",
    "a5 = 0.00001     # vertically adjacent origins\n",
    "a6 = 0.00005   # zero order Tikhonov on adjacent radial distances\n",
    "a7 = 0.0001  # zero order Tikhonov on thickness of each prism"
   ]
  },
  {
   "cell_type": "code",
   "execution_count": 15,
   "metadata": {},
   "outputs": [],
   "source": [
    "delta = np.array([deltax, deltay, deltar, deltaz])\n",
    "alpha = np.array([a1, a2, a3, a4, a5, a6, a7])"
   ]
  },
  {
   "cell_type": "code",
   "execution_count": 16,
   "metadata": {},
   "outputs": [],
   "source": [
    "itmax = 30\n",
    "itmax_marq = 10\n",
    "tol = 1.0e-4     # stop criterion"
   ]
  },
  {
   "cell_type": "code",
   "execution_count": 17,
   "metadata": {},
   "outputs": [],
   "source": [
    "inversion['x'] = xp\n",
    "inversion['y'] = yp\n",
    "inversion['z'] = zp\n",
    "inversion['observed_data'] = dobs"
   ]
  },
  {
   "cell_type": "code",
   "execution_count": 18,
   "metadata": {},
   "outputs": [],
   "source": [
    "inversion['inc_dec'] = [incs, decs]\n",
    "inversion['z0'] = z0\n",
    "inversion['initial_dz'] = dz\n",
    "inversion['intial_r'] = r\n",
    "inversion['initial_estimate'] = model0\n",
    "inversion['initial_data'] = d0\n",
    "inversion['limits'] = [rmin, rmax, x0min, x0max, y0min, y0max, dzmin, dzmax]\n",
    "inversion['regularization'] = alpha\n",
    "inversion['tol'] = tol\n",
    "inversion['main_field'] = [data['main_field'][0], data['main_field'][1]]"
   ]
  },
  {
   "cell_type": "code",
   "execution_count": 19,
   "metadata": {},
   "outputs": [
    {
     "data": {
      "image/png": "[encoded data removed]",
      "text/plain": [
       "<Figure size 432x360 with 2 Axes>"
      ]
     },
     "metadata": {
      "needs_background": "light"
     },
     "output_type": "display_data"
    }
   ],
   "source": [
    "plt.figure(figsize=(6,5))\n",
    "plt.title('Predict TFA', fontsize=20)\n",
    "plt.tricontourf(yp, xp, dobs, 20, cmap='viridis').ax.tick_params(labelsize=12)\n",
    "plt.xlabel('$y$(km)', fontsize=18)\n",
    "plt.ylabel('$x$(km)', fontsize=18)\n",
    "clb = plt.colorbar(pad=0.025, aspect=40, shrink=1)\n",
    "clb.ax.tick_params(labelsize=13)\n",
    "#source = mpl.polygon(kimberlite_model['prisms'][0], '.-k', xy2ne=True)\n",
    "estimate = mpl.polygon(model0[0], '.-r', xy2ne=True)\n",
    "#source.set_label('Outcropping polygon')\n",
    "estimate.set_label('Initial estimate')\n",
    "clb.ax.set_title('nT')\n",
    "mpl.m2km()\n",
    "plt.legend(loc=0, fontsize=12, shadow=bool, framealpha=1)\n",
    "#plt.savefig(mypath+'diorama_tfa_pred_data_true_inital.png', dpi=300)\n",
    "plt.show()\n",
    "\n",
    "#img(filename=mypath+'diorama_tfa_pred_data_true_inital.png', width=1000, height=1200)"
   ]
  },
  {
   "cell_type": "code",
   "execution_count": 20,
   "metadata": {},
   "outputs": [
    {
     "data": {
      "image/png": "[encoded data removed]",
      "text/plain": [
       "<Figure size 432x360 with 2 Axes>"
      ]
     },
     "metadata": {
      "needs_background": "light"
     },
     "output_type": "display_data"
    }
   ],
   "source": [
    "plt.figure(figsize=(6,5))\n",
    "plt.title('Predict TFA', fontsize=20)\n",
    "plt.tricontourf(yp, xp, d0, 20, cmap='viridis').ax.tick_params(labelsize=12)\n",
    "plt.xlabel('$y$(km)', fontsize=18)\n",
    "plt.ylabel('$x$(km)', fontsize=18)\n",
    "clb = plt.colorbar(pad=0.025, aspect=40, shrink=1)\n",
    "clb.ax.tick_params(labelsize=13)\n",
    "#source = mpl.polygon(kimberlite_model['prisms'][0], '.-k', xy2ne=True)\n",
    "estimate = mpl.polygon(model0[0], '.-r', xy2ne=True)\n",
    "#source.set_label('Outcropping polygon')\n",
    "estimate.set_label('Initial estimate')\n",
    "clb.ax.set_title('nT')\n",
    "mpl.m2km()\n",
    "plt.legend(loc=0, fontsize=12, shadow=bool, framealpha=1)\n",
    "#plt.savefig(mypath+'diorama_tfa_pred_data_true_inital.png', dpi=300)\n",
    "plt.show()\n",
    "\n",
    "#img(filename=mypath+'diorama_tfa_pred_data_true_inital.png', width=1000, height=1200)"
   ]
  },
  {
   "cell_type": "markdown",
   "metadata": {},
   "source": [
    "### Inversion"
   ]
  },
  {
   "cell_type": "code",
   "execution_count": 21,
   "metadata": {},
   "outputs": [
    {
     "name": "stdout",
     "output_type": "stream",
     "text": [
      "it:  0   it_marq:  0   lambda: 1e+01   misfit: 2.00096e+05\n",
      "it:  1   it_marq:  0   lambda: 1e+00   misfit: 1.01942e+05\n",
      "it:  2   it_marq:  0   lambda: 1e-01   misfit: 4.18356e+04\n",
      "it:  3   it_marq:  0   lambda: 1e-02   misfit: 3.42327e+05\n",
      "it:  3   it_marq:  1   lambda: 1e-01   misfit: 3.37316e+05\n",
      "it:  3   it_marq:  2   lambda: 1e+00   misfit: 3.05614e+05\n",
      "it:  3   it_marq:  3   lambda: 1e+01   misfit: 2.84465e+04\n",
      "it:  4   it_marq:  0   lambda: 1e+00   misfit: 1.54049e+04\n",
      "it:  5   it_marq:  0   lambda: 1e-01   misfit: 1.35374e+04\n",
      "it:  6   it_marq:  0   lambda: 1e-02   misfit: 1.51245e+04\n",
      "it:  6   it_marq:  1   lambda: 1e-01   misfit: 1.46704e+04\n",
      "it:  6   it_marq:  2   lambda: 1e+00   misfit: 9.36210e+03\n",
      "it:  7   it_marq:  0   lambda: 1e-01   misfit: 6.69984e+03\n",
      "it:  8   it_marq:  0   lambda: 1e-02   misfit: 1.67531e+04\n",
      "it:  8   it_marq:  1   lambda: 1e-01   misfit: 1.35451e+04\n",
      "it:  8   it_marq:  2   lambda: 1e+00   misfit: 6.14294e+03\n",
      "it:  9   it_marq:  0   lambda: 1e-01   misfit: 1.29719e+04\n",
      "it:  9   it_marq:  1   lambda: 1e+00   misfit: 5.72524e+03\n",
      "it: 10   it_marq:  0   lambda: 1e-01   misfit: 1.25758e+04\n",
      "it: 10   it_marq:  1   lambda: 1e+00   misfit: 1.30037e+04\n",
      "it: 10   it_marq:  2   lambda: 1e+01   misfit: 5.64236e+03\n",
      "it: 11   it_marq:  0   lambda: 1e+00   misfit: 1.29381e+04\n",
      "it: 11   it_marq:  1   lambda: 1e+01   misfit: 5.56642e+03\n",
      "it: 12   it_marq:  0   lambda: 1e+00   misfit: 1.28761e+04\n",
      "it: 12   it_marq:  1   lambda: 1e+01   misfit: 5.49589e+03\n",
      "it: 13   it_marq:  0   lambda: 1e+00   misfit: 1.27963e+04\n",
      "it: 13   it_marq:  1   lambda: 1e+01   misfit: 5.42988e+03\n",
      "it: 14   it_marq:  0   lambda: 1e+00   misfit: 1.19951e+04\n",
      "it: 14   it_marq:  1   lambda: 1e+01   misfit: 5.36776e+03\n",
      "it: 15   it_marq:  0   lambda: 1e+00   misfit: 7.47466e+03\n",
      "it: 15   it_marq:  1   lambda: 1e+01   misfit: 5.30910e+03\n",
      "it: 16   it_marq:  0   lambda: 1e+00   misfit: 5.14943e+03\n",
      "it: 17   it_marq:  0   lambda: 1e-01   misfit: 4.78486e+03\n",
      "it: 18   it_marq:  0   lambda: 1e-02   misfit: 4.12966e+03\n",
      "it: 19   it_marq:  0   lambda: 1e-03   misfit: 3.85045e+03\n",
      "it: 20   it_marq:  0   lambda: 1e-04   misfit: 3.66595e+03\n",
      "it: 21   it_marq:  0   lambda: 1e-05   misfit: 3.61394e+03\n",
      "it: 22   it_marq:  0   lambda: 1e-06   misfit: 3.58882e+03\n",
      "it: 23   it_marq:  0   lambda: 1e-07   misfit: 3.57574e+03\n",
      "it: 24   it_marq:  0   lambda: 1e-08   misfit: 3.56464e+03\n",
      "it: 25   it_marq:  0   lambda: 1e-09   misfit: 3.55455e+03\n",
      "it: 26   it_marq:  0   lambda: 1e-10   misfit: 3.54514e+03\n",
      "it: 27   it_marq:  0   lambda: 1e-11   misfit: 3.53628e+03\n",
      "it: 28   it_marq:  0   lambda: 1e-12   misfit: 3.52791e+03\n",
      "it: 29   it_marq:  0   lambda: 1e-13   misfit: 3.51998e+03\n"
     ]
    }
   ],
   "source": [
    "d_fit, m_est, model_est, phi_list, model_list, res_list = mfun.levmarq_tf(\n",
    "    xp, yp, zp, m0, M, L, delta,\n",
    "    itmax, itmax_marq, lamb,\n",
    "    dlamb, tol, mmin, mmax,\n",
    "    m_out, dobs, inc, dec,\n",
    "    props, alpha, z0, dz\n",
    ")"
   ]
  },
  {
   "cell_type": "markdown",
   "metadata": {},
   "source": [
    "# Results"
   ]
  },
  {
   "cell_type": "code",
   "execution_count": 22,
   "metadata": {},
   "outputs": [],
   "source": [
    "inversion['data_fit'] = d_fit\n",
    "inversion['estimate'] = m_est\n",
    "inversion['prisms'] = model_est\n",
    "inversion['estimated_models'] = model_list\n",
    "inversion['objective'] = phi_list\n",
    "inversion['residual'] = dobs - d_fit\n",
    "inversion['residual_list'] = res_list"
   ]
  },
  {
   "cell_type": "code",
   "execution_count": 23,
   "metadata": {},
   "outputs": [],
   "source": [
    "file_name = mypath+'/inversion.pickle'\n",
    "with open(file_name, 'w') as f:\n",
    "    pickle.dump(inversion, f)"
   ]
  }
 ],
 "metadata": {
  "anaconda-cloud": {},
  "kernelspec": {
   "display_name": "Python 2",
   "language": "python",
   "name": "python2"
  },
  "language_info": {
   "codemirror_mode": {
    "name": "ipython",
    "version": 2
   },
   "file_extension": ".py",
   "mimetype": "text/x-python",
   "name": "python",
   "nbconvert_exporter": "python",
   "pygments_lexer": "ipython2",
   "version": "2.7.16"
  }
 },
 "nbformat": 4,
 "nbformat_minor": 2
}
