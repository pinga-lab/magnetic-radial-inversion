{
 "cells": [
  {
   "cell_type": "markdown",
   "metadata": {},
   "source": [
    "# Roteiro Levenberg-Marquadt"
   ]
  },
  {
   "cell_type": "markdown",
   "metadata": {},
   "source": [
    "Esse código é um protótipo de função para a implementação do algoritmo de Levenberg-Marquadt, o qual é utilizado para estimar parâmetros não-lineares. "
   ]
  },
  {
   "cell_type": "markdown",
   "metadata": {},
   "source": [
    "\\begin{equation}\n",
    "\\Gamma (\\textbf{m}) = \\Psi (\\textbf{m}) + \\sum\\limits^{6}_{j=1}\\alpha_{j}\\varphi_{j}(\\textbf{m})\n",
    "\\end{equation}"
   ]
  },
  {
   "cell_type": "code",
   "execution_count": 1,
   "metadata": {
    "collapsed": false
   },
   "outputs": [],
   "source": [
    "%load_ext line_profiler"
   ]
  },
  {
   "cell_type": "code",
   "execution_count": 2,
   "metadata": {
    "collapsed": false
   },
   "outputs": [
    {
     "name": "stderr",
     "output_type": "stream",
     "text": [
      "/home/vital/anaconda2/lib/python2.7/site-packages/fatiando/vis/mpl.py:76: UserWarning: This module will be removed in v0.6. We recommend the use of matplotlib.pyplot module directly. Some of the fatiando specific functions will remain.\n",
      "  \"specific functions will remain.\")\n",
      "/home/vital/anaconda2/lib/python2.7/site-packages/fatiando/vis/myv.py:51: UserWarning: This module will be removed in v0.7.\n",
      "  warnings.warn(\"This module will be removed in v0.7.\")\n"
     ]
    }
   ],
   "source": [
    "import numpy as np\n",
    "import matplotlib.pyplot as plt\n",
    "import numpy.testing as npt\n",
    "import cPickle as pickle\n",
    "\n",
    "from fatiando.gridder import regular\n",
    "from copy import deepcopy\n",
    "from __future__ import division\n",
    "from fatiando import mesher, gridder, utils\n",
    "from fatiando.gravmag import polyprism\n",
    "from fatiando.mesher import PolygonalPrism\n",
    "from fatiando.gravmag import prism\n",
    "from fatiando.mesher import Prism\n",
    "from fatiando.vis import mpl, myv\n",
    "from fatiando.constants import CM, T2NT\n",
    "from matplotlib import colors, ticker, cm\n",
    "from IPython.display import Image as img\n",
    "import mag_polyprism_functions as mfun\n",
    "import polyprism_tests as tests\n",
    "#% matplotlib inline"
   ]
  },
  {
   "cell_type": "markdown",
   "metadata": {},
   "source": [
    "# Entrada"
   ]
  },
  {
   "cell_type": "markdown",
   "metadata": {},
   "source": [
    "### Gerando os parâmetros verdadeiros"
   ]
  },
  {
   "cell_type": "code",
   "execution_count": 3,
   "metadata": {
    "collapsed": true
   },
   "outputs": [],
   "source": [
    "with open('../data/sphere_model.pickle') as w:\n",
    "        sphere_model = pickle.load(w)\n",
    "        "
   ]
  },
  {
   "cell_type": "markdown",
   "metadata": {},
   "source": [
    "### Pontos de observação"
   ]
  },
  {
   "cell_type": "code",
   "execution_count": 4,
   "metadata": {
    "collapsed": true
   },
   "outputs": [],
   "source": [
    "with open('../data/regular_grid.pickle') as w:\n",
    "        regular_grid = pickle.load(w)\n",
    "        "
   ]
  },
  {
   "cell_type": "markdown",
   "metadata": {},
   "source": [
    "# Gerando os dados preditos"
   ]
  },
  {
   "cell_type": "code",
   "execution_count": 5,
   "metadata": {
    "collapsed": false
   },
   "outputs": [],
   "source": [
    "with open('../data/sphere_data.pickle') as w:\n",
    "        sphere_data = pickle.load(w)"
   ]
  },
  {
   "cell_type": "raw",
   "metadata": {
    "collapsed": true
   },
   "source": [
    "bounds = [-300., 300., -300., 300., -100.0, 400.]\n",
    "\n",
    "red, green, blue = (1, 0, 0), (0, 1, 0), (0, 0, 1)\n",
    "white, black = (1, 1, 1), (0, 0, 0),\n",
    "\n",
    "# Show the model\n",
    "scene = myv.figure()\n",
    "myv.points([sphere_model['x'],sphere_model['y'], sphere_model['z']], color=blue, size=100.0, opacity=1,\n",
    "           spherical=False)\n",
    "#myv.polyprisms(model_est, 'magnetization', opacity=.5, color=red)\n",
    "\n",
    "ax = myv.axes(myv.outline(bounds), ranges=[i * 0.001 for i in bounds])\n",
    "ax.axes.x_label, ax.axes.y_label, ax.axes.z_label = 'x (cm)', 'y (cm)', 'z (cm)'\n",
    "ax.axes.font_factor = 1.5\n",
    "scene.scene.camera.position = [-0.089204656936016313, -0.066107174155361687, -0.04083578885723696]\n",
    "scene.scene.camera.focal_point = [1.1820671636724554e-16, 1.3134079596360617e-17, -1.9701119394540926e-17]\n",
    "scene.scene.camera.view_angle = 30.0\n",
    "scene.scene.camera.view_up = [0.24683390337942718, 0.24593292331329802, -0.93733132955911114]\n",
    "scene.scene.camera.clipping_range = [0.057117737884348194, 0.1956040854922288]\n",
    "scene.scene.camera.compute_view_plane_normal()\n",
    "\n",
    "myv.wall_bottom(ax.axes.bounds, opacity=0.2)\n",
    "myv.wall_north(ax.axes.bounds)\n",
    "\n",
    "myv.savefig('sphere_verd.png')\n",
    "myv.show()\n",
    "img(filename='sphere_verd.png')"
   ]
  },
  {
   "cell_type": "markdown",
   "metadata": {},
   "source": [
    "### Parâmetros exigidos durante a inversão"
   ]
  },
  {
   "cell_type": "code",
   "execution_count": 6,
   "metadata": {
    "collapsed": true
   },
   "outputs": [],
   "source": [
    "a1 = 0.1   # adjacent radial distances within each prism\n",
    "a2 = 0.0    # vertically adjacent radial distances\n",
    "a3 = 0.     # outcropping cross-section\n",
    "a4 = 0.     # outcropping origin\n",
    "a5 = 0.1   # vertically adjacent origins\n",
    "a6 = 0.00001   # zero order Tikhonov on adjacent radial distances"
   ]
  },
  {
   "cell_type": "code",
   "execution_count": 7,
   "metadata": {
    "collapsed": false
   },
   "outputs": [],
   "source": [
    "M = 20 # number of vertices per prism\n",
    "L = 4 # number of prisms\n",
    "P = L*(M+2) # number of parameters\n",
    "dz = 25.\n",
    "\n",
    "# limits for parameters in meters\n",
    "rmin = 10.\n",
    "rmax = 900.\n",
    "x0min = -1000.\n",
    "x0max = 1000.\n",
    "y0min = -1000.\n",
    "y0max = 1000.\n",
    "\n",
    "mmin, mmax = mfun.build_range_param(M, L, rmin, rmax, x0min, x0max, y0min, y0max)\n",
    "\n",
    "itmax = 30\n",
    "itmax_marq = 10\n",
    "epsilon = 1.0e-5     # convergence criterion\n",
    "gamma = 1.0e-7\n",
    "\n",
    "delta = 1. # increment of derivatives\n",
    "m_out = np.zeros(M + 2)  # outcropping body parameters\n",
    "\n",
    "inc = sphere_model['inc']\n",
    "dec = sphere_model['dec']\n",
    "dobs = sphere_data['data_noise']\n",
    "xp = regular_grid['xp']\n",
    "yp = regular_grid['yp']\n",
    "zp = regular_grid['zp']\n",
    "N = regular_grid['N']\n",
    "\n",
    "rin = np.linspace(200.,200.,M)\n",
    "rin = np.hstack((rin, np.zeros(2)))\n",
    "m0 = np.resize(rin, P) # inicial parameters vector\n",
    "model0 = mfun.param2polyprism(m0, M, L, 50., dz, sphere_model['props']) # list of classes of prisms\n",
    "d0 = polyprism.tf(xp, yp, zp, model0, inc, dec) # predict data\n",
    "res = dobs - d0"
   ]
  },
  {
   "cell_type": "code",
   "execution_count": 8,
   "metadata": {
    "collapsed": false
   },
   "outputs": [
    {
     "name": "stdout",
     "output_type": "stream",
     "text": [
      "[ 200.  200.  200.  200.  200.  200.  200.  200.  200.  200.  200.  200.\n",
      "  200.  200.  200.  200.  200.  200.  200.  200.    0.    0.  200.  200.\n",
      "  200.  200.  200.  200.  200.  200.  200.  200.  200.  200.  200.  200.\n",
      "  200.  200.  200.  200.  200.  200.    0.    0.  200.  200.  200.  200.\n",
      "  200.  200.  200.  200.  200.  200.  200.  200.  200.  200.  200.  200.\n",
      "  200.  200.  200.  200.    0.    0.  200.  200.  200.  200.  200.  200.\n",
      "  200.  200.  200.  200.  200.  200.  200.  200.  200.  200.  200.  200.\n",
      "  200.  200.    0.    0.]\n"
     ]
    }
   ],
   "source": [
    "print m0"
   ]
  },
  {
   "cell_type": "code",
   "execution_count": 9,
   "metadata": {
    "collapsed": false
   },
   "outputs": [
    {
     "data": {
      "image/png": "[encoded data removed]",
      "text/plain": [
       "<matplotlib.figure.Figure at 0x7f7ca48883d0>"
      ]
     },
     "metadata": {},
     "output_type": "display_data"
    }
   ],
   "source": [
    "plt.title(\"Observed data (nT)\", fontsize = 18)\n",
    "plt.axis('scaled')\n",
    "nlevels = mpl.contourf(regular_grid['yp'], regular_grid['xp'], sphere_data['data_noise'],\\\n",
    "                       regular_grid['shape'], 15, cmap='RdBu_r')\n",
    "plt.xlabel('East y (km)')\n",
    "plt.ylabel('North x (km)')\n",
    "plt.colorbar(pad=0.01, aspect=20, shrink=1.).set_label('nT')\n",
    "#for p in sphere_model['prisms']:\n",
    "#    mpl.polygon(p, '.-b', xy2ne=True)\n",
    "for p in model0:\n",
    "    mpl.polygon(p, '.-r', xy2ne=True)\n",
    "mpl.m2km()\n",
    "plt.savefig('observed_sphere_data.png', dpi=300)\n",
    "plt.show()"
   ]
  },
  {
   "cell_type": "code",
   "execution_count": 10,
   "metadata": {
    "collapsed": false
   },
   "outputs": [],
   "source": [
    "G = mfun.Jacobian_tf(xp, yp, zp, model0, M, L, delta, delta, delta, inc, dec)\n",
    "H = 2*np.dot(G.T, G)/N\n",
    "th = np.trace(H)/P"
   ]
  },
  {
   "cell_type": "code",
   "execution_count": 11,
   "metadata": {
    "collapsed": false
   },
   "outputs": [],
   "source": [
    "%lprun -f mfun.Jacobian_tf mfun.Jacobian_tf(xp, yp, zp, model0, M, L, delta, delta, delta, inc, dec)"
   ]
  },
  {
   "cell_type": "code",
   "execution_count": 12,
   "metadata": {
    "collapsed": false
   },
   "outputs": [
    {
     "name": "stdout",
     "output_type": "stream",
     "text": [
      "3.87249538303e-05\n"
     ]
    }
   ],
   "source": [
    "print th"
   ]
  },
  {
   "cell_type": "code",
   "execution_count": 13,
   "metadata": {
    "collapsed": true
   },
   "outputs": [],
   "source": [
    "#lamb = th*0.01 # Marquadt's parameter\n",
    "lamb = 10000.*th\n",
    "dlamb = 10.      # step for Marquadt's parameter\n",
    "\n",
    "alpha1, alpha2, alpha3, alpha4, alpha5, alpha6 = mfun.norm_regul_param(M, L, th, m_out, a1, a2, a3, a4, a5, a6)\n",
    "#alpha1, alpha2, alpha3, alpha4, alpha5, alpha6 = mfun.norm_regul_param(M, L, 1., m_out, a1, a2, a3, a4, a5, a6)\n"
   ]
  },
  {
   "cell_type": "code",
   "execution_count": 14,
   "metadata": {
    "collapsed": false
   },
   "outputs": [
    {
     "name": "stdout",
     "output_type": "stream",
     "text": [
      "2.4203096144e-08\n",
      "0.0\n",
      "0.0\n",
      "0.0\n",
      "6.45415897172e-07\n",
      "4.84061922879e-12\n"
     ]
    }
   ],
   "source": [
    "print alpha1\n",
    "print alpha2\n",
    "print alpha3\n",
    "print alpha4\n",
    "print alpha5\n",
    "print alpha6"
   ]
  },
  {
   "cell_type": "code",
   "execution_count": 15,
   "metadata": {
    "collapsed": false
   },
   "outputs": [
    {
     "name": "stdout",
     "output_type": "stream",
     "text": [
      "  0 3.23046e-01   0 4e-01\n",
      "  1 1.17321e+03   0 4e-02\n",
      "  1 1.17321e+03   1 4e-01\n",
      "  1 1.17321e+03   2 4e+00\n",
      "  1 1.00713e+03   3 4e+01\n",
      "  1 1.56121e+00   4 4e+02\n",
      "  1 3.14141e-01   5 4e+03\n",
      "  2 1.38783e+00   0 4e+02\n",
      "  2 3.00903e-01   1 4e+03\n",
      "  3 1.17319e+00   0 4e+02\n",
      "  3 2.83374e-01   1 4e+03\n",
      "  4 1.03237e+00   0 4e+02\n",
      "  4 2.62626e-01   1 4e+03\n",
      "  5 8.59153e-01   0 4e+02\n",
      "  5 2.40024e-01   1 4e+03\n",
      "  6 7.34404e-01   0 4e+02\n",
      "  6 2.16556e-01   1 4e+03\n",
      "  7 6.11138e-01   0 4e+02\n",
      "  7 1.92781e-01   1 4e+03\n",
      "  8 4.38148e-01   0 4e+02\n",
      "  8 1.69252e-01   1 4e+03\n",
      "  9 2.69570e-01   0 4e+02\n",
      "  9 1.46805e-01   1 4e+03\n",
      " 10 1.54312e-01   0 4e+02\n",
      " 10 1.26351e-01   1 4e+03\n",
      " 11 9.02901e-02   0 4e+02\n",
      " 12 1.03657e-01   0 4e+01\n",
      " 12 3.13810e-02   1 4e+02\n",
      " 13 1.24904e+00   0 4e+01\n",
      " 13 2.02225e-02   1 4e+02\n",
      " 14 1.00314e+00   0 4e+01\n",
      " 14 1.46988e-02   1 4e+02\n",
      " 15 6.56687e-02   0 4e+01\n",
      " 15 1.16874e-02   1 4e+02\n",
      " 16 2.12915e-02   0 4e+01\n",
      " 16 9.89333e-03   1 4e+02\n",
      " 17 1.31974e-02   0 4e+01\n",
      " 17 8.78960e-03   1 4e+02\n",
      " 18 1.42715e-02   0 4e+01\n",
      " 18 8.23797e-03   1 4e+02\n",
      " 19 2.67354e-02   0 4e+01\n",
      " 19 8.52158e-03   1 4e+02\n",
      " 19 7.91102e-03   2 4e+03\n",
      " 20 7.58855e-03   0 4e+02\n",
      " 21 2.43051e-02   0 4e+01\n",
      " 21 7.97958e-03   1 4e+02\n",
      " 21 7.29567e-03   2 4e+03\n",
      " 22 7.11560e-03   0 4e+02\n",
      " 23 2.25795e-02   0 4e+01\n",
      " 23 7.54653e-03   1 4e+02\n",
      " 23 6.84750e-03   2 4e+03\n",
      " 24 6.74953e-03   0 4e+02\n",
      " 25 2.09995e-02   0 4e+01\n",
      " 25 7.20191e-03   1 4e+02\n",
      " 25 6.50614e-03   2 4e+03\n",
      " 26 6.46646e-03   0 4e+02\n",
      " 27 1.96007e-02   0 4e+01\n",
      " 27 6.90682e-03   1 4e+02\n",
      " 27 6.24183e-03   2 4e+03\n",
      " 28 6.23234e-03   0 4e+02\n",
      " 29 1.83108e-02   0 4e+01\n",
      " 29 6.66388e-03   1 4e+02\n",
      " 29 6.02859e-03   2 4e+03\n"
     ]
    }
   ],
   "source": [
    "phi0 = np.sum(res*res)/N\n",
    "phi0 += mfun.phi_1(M, L, m0, alpha1) + mfun.phi_2(M, L, m0, alpha2) + \\\n",
    "        mfun.phi_3(M, L, m0, m_out, alpha3) + mfun.phi_4(M, L, m0, m_out[-2:], alpha4) + \\\n",
    "        mfun.phi_5(M, L, m0, alpha5) + mfun.phi_6(M, L, m0, alpha6)\n",
    "phi_list = [phi0]\n",
    "    \n",
    "i,j = np.diag_indices(P)\n",
    "for it in range(itmax):\n",
    "    #bounds = [-3000., 3000., -3000., 3000., -1000.0, 4000.]\n",
    "\n",
    "    #red, green, blue = (1, 0, 0), (0, 1, 0), (0, 0, 1)\n",
    "    #white, black = (1, 1, 1), (0, 0, 0),\n",
    "    #scene = myv.figure()\n",
    "    #myv.polyprisms(sphere_model['prisms'], 'magnetization', color=blue, linewidth=1., style='wireframe', opacity=.3)\n",
    "    #myv.polyprisms(model0, 'magnetization', color=red, linewidth=3.5)\n",
    "\n",
    "    #ax = myv.axes(myv.outline(bounds), ranges=[t * 0.001 for t in bounds])\n",
    "    #ax.axes.x_label, ax.axes.y_label, ax.axes.z_label = 'x (cm)', 'y (cm)', 'z (cm)'\n",
    "    #ax.axes.font_factor = 1.5\n",
    "    #scene.scene.camera.position = [-0.089204656936016313, -0.066107174155361687, -0.04083578885723696]\n",
    "    #scene.scene.camera.focal_point = [1.1820671636724554e-16, 1.3134079596360617e-17, -1.9701119394540926e-17]\n",
    "    #scene.scene.camera.view_angle = 30.0\n",
    "    #scene.scene.camera.view_up = [0.24683390337942718, 0.24593292331329802, -0.93733132955911114]\n",
    "    #scene.scene.camera.clipping_range = [0.057117737884348194, 0.1956040854922288]\n",
    "    #scene.scene.camera.compute_view_plane_normal()\n",
    "\n",
    "    #myv.wall_bottom(ax.axes.bounds, opacity=0.2)\n",
    "    #myv.wall_north(ax.axes.bounds)\n",
    "        \n",
    "    #myv.savefig('bolacha'+`it`+'.png')\n",
    "    \n",
    "    mt = mfun.trans_parameter2(m0, M, L, mmax, mmin)\n",
    "        \n",
    "    # Jacobian matrix\n",
    "    G = mfun.Jacobian_tf(xp, yp, zp, model0, M, L, delta, delta, delta, inc, dec)\n",
    "    \n",
    "    # Hessian matrix\n",
    "    H = 2.*np.dot(G.T, G)/N\n",
    "\n",
    "    #prec = np.diagonal(H).copy()\n",
    "    #mask = prec < 1e-10\n",
    "    #prec[mask] = 1e-10\n",
    "    #H[:,j] /= prec    \n",
    "\n",
    "    H = mfun.Hessian_phi_1(M, L, H, alpha1)\n",
    "    H = mfun.Hessian_phi_2(M, L, H, alpha2)\n",
    "    H = mfun.Hessian_phi_3(M, L, H, alpha3)\n",
    "    H = mfun.Hessian_phi_4(M, L, H, alpha4)\n",
    "    H = mfun.Hessian_phi_5(M, L, H, alpha5)\n",
    "    H = mfun.Hessian_phi_6(M, L, H, alpha6)\n",
    "    \n",
    "    # gradient vector\n",
    "    grad = -2.*np.dot(G.T, res)/N\n",
    "\n",
    "    grad = mfun.gradient_phi_1(M, L, grad, alpha1)\n",
    "    grad = mfun.gradient_phi_2(M, L, grad, alpha2)\n",
    "    grad = mfun.gradient_phi_3(M, L, grad, m_out, alpha3)\n",
    "    grad = mfun.gradient_phi_4(M, L, grad, m_out[-2:], alpha4)\n",
    "    grad = mfun.gradient_phi_5(M, L, grad, alpha5)\n",
    "    grad = mfun.gradient_phi_6(M, L, grad, alpha6)\n",
    "    \n",
    "    # positivity matrix diagonal\n",
    "    T = ((mmax - m0 + 1e-10)*(m0 - mmin + 1e-10))/(mmax - mmin)\n",
    "    \n",
    "    for it_marq in range(itmax_marq): \n",
    "\n",
    "        #S = H.copy()\n",
    "        #S = H[:,:]\n",
    "        #S[i,:] *= T\n",
    "        #S[i,j] += lamb\n",
    "\n",
    "        delta_mt = np.linalg.solve(H*np.identity(P)*(T + lamb), -grad)\n",
    "        #print delta_mt.shape\n",
    "        #print np.min(delta_mt)\n",
    "        \n",
    "        # criar teste pra esta função\n",
    "        m_est = mfun.trans_inv_parameter2(mt + delta_mt, M, L, mmax, mmin)\n",
    "        #print m_est.shape\n",
    "        #m_est = m0 + delta_mt\n",
    "\n",
    "        model_est = mfun.param2polyprism(m_est, M, L, 50., dz, sphere_model['props'])\n",
    "\n",
    "        d_fit = polyprism.tf(xp, yp, zp, model_est, inc, dec)\n",
    "        res = dobs - d_fit\n",
    "        phi = np.sum(res*res)/N\n",
    "        phi += mfun.phi_1(M, L, m_est, alpha1) + mfun.phi_2(M, L, m_est, alpha2) + \\\n",
    "                mfun.phi_3(M, L, m_est, m_out, alpha3) + mfun.phi_4(M, L, m_est, m_out[-2:], alpha4) + \\\n",
    "                mfun.phi_5(M, L, m_est, alpha5) + mfun.phi_6(M, L, m_est, alpha6)\n",
    "        dphi = phi - phi0\n",
    "        \n",
    "        print '%3d %.5e %3d %.e' % (it, phi, it_marq, lamb)\n",
    "        \n",
    "        if (dphi > 0.):\n",
    "            lamb *= dlamb\n",
    "        else:\n",
    "            if lamb/dlamb < 1e-15:\n",
    "                lamb = 1e-15\n",
    "            else:\n",
    "                lamb /= dlamb\n",
    "            break\n",
    "            \n",
    "    if (abs(dphi)/phi0 < epsilon):\n",
    "        phi_list.append(phi)\n",
    "        break\n",
    "    else:\n",
    "        d0 = d_fit\n",
    "        m0 = m_est\n",
    "        model0 = model_est\n",
    "        phi0 = phi\n",
    "        phi_list.append(phi0)"
   ]
  },
  {
   "cell_type": "code",
   "execution_count": 16,
   "metadata": {
    "collapsed": false
   },
   "outputs": [
    {
     "name": "stdout",
     "output_type": "stream",
     "text": [
      "[-0.00120774  0.00307975  0.00895788  0.00940681  0.00505237  0.00460534\n",
      "  0.00198433  0.00134251  0.00148155  0.00258029  0.00530109  0.00602405\n",
      "  0.00956325  0.00820313  0.00161586 -0.00287485 -0.00216109 -0.00470675\n",
      " -0.00373117 -0.0021635  -0.0010415   0.0010029   0.00435616  0.00657996\n",
      "  0.0068496   0.00727009  0.00846935  0.00831636  0.00351341  0.00214695\n",
      "  0.00215877  0.00517057  0.0082223   0.00781896  0.00714873  0.00672952\n",
      "  0.0064302   0.00310751 -0.00268186 -0.00647434 -0.00474187 -0.00189894\n",
      " -0.0018173   0.00183867  0.00436238  0.00458261  0.00491674  0.00523774\n",
      "  0.00551762  0.00643934  0.00707228  0.00795773  0.00737749  0.00751046\n",
      "  0.00583614  0.00544047  0.00514612  0.00481604  0.00448555  0.00451406\n",
      "  0.00141726 -0.00322742 -0.00194918  0.00302285 -0.00119493  0.0012969\n",
      "  0.00326728  0.00349502  0.00374417  0.00398655  0.004199    0.00436701\n",
      "  0.00453449  0.00457176  0.00458364  0.00447621  0.00431986  0.00413729\n",
      "  0.00391292  0.00366512  0.0034191   0.00320476  0.00307731  0.00296467\n",
      "  0.00300572  0.00310423 -0.00041845  0.00046152]\n"
     ]
    }
   ],
   "source": [
    "print delta_mt"
   ]
  },
  {
   "cell_type": "code",
   "execution_count": 17,
   "metadata": {
    "collapsed": true
   },
   "outputs": [],
   "source": [
    "for i, (mv, mm) in enumerate(zip(m0,mmin)):\n",
    "    if mv<=mm:\n",
    "        print '%.15e,%.e' % (mv,i)"
   ]
  },
  {
   "cell_type": "raw",
   "metadata": {},
   "source": [
    "plt.figure(figsize=(15,10))\n",
    "plt.subplot(1,3,1)\n",
    "plt.title(\"Fitted data (nT)\", fontsize = 18)\n",
    "plt.axis('scaled')\n",
    "nlevels = mpl.contourf(yp, xp, d0,regular_grid['shape'], 15, cmap='RdBu_r')\n",
    "plt.xlabel('East y (km)')\n",
    "plt.ylabel('North x (km)')\n",
    "plt.colorbar(pad=0.01, aspect=20, shrink=0.4).set_label('nT')\n",
    "mpl.m2km()\n",
    "plt.savefig('predicted_data.png')\n",
    "plt.show()"
   ]
  },
  {
   "cell_type": "code",
   "execution_count": 18,
   "metadata": {
    "collapsed": false
   },
   "outputs": [
    {
     "name": "stdout",
     "output_type": "stream",
     "text": [
      "[-0.00120774  0.00307975  0.00895788  0.00940681  0.00505237  0.00460534\n",
      "  0.00198433  0.00134251  0.00148155  0.00258029  0.00530109  0.00602405\n",
      "  0.00956325  0.00820313  0.00161586 -0.00287485 -0.00216109 -0.00470675\n",
      " -0.00373117 -0.0021635  -0.0010415   0.0010029   0.00435616  0.00657996\n",
      "  0.0068496   0.00727009  0.00846935  0.00831636  0.00351341  0.00214695\n",
      "  0.00215877  0.00517057  0.0082223   0.00781896  0.00714873  0.00672952\n",
      "  0.0064302   0.00310751 -0.00268186 -0.00647434 -0.00474187 -0.00189894\n",
      " -0.0018173   0.00183867  0.00436238  0.00458261  0.00491674  0.00523774\n",
      "  0.00551762  0.00643934  0.00707228  0.00795773  0.00737749  0.00751046\n",
      "  0.00583614  0.00544047  0.00514612  0.00481604  0.00448555  0.00451406\n",
      "  0.00141726 -0.00322742 -0.00194918  0.00302285 -0.00119493  0.0012969\n",
      "  0.00326728  0.00349502  0.00374417  0.00398655  0.004199    0.00436701\n",
      "  0.00453449  0.00457176  0.00458364  0.00447621  0.00431986  0.00413729\n",
      "  0.00391292  0.00366512  0.0034191   0.00320476  0.00307731  0.00296467\n",
      "  0.00300572  0.00310423 -0.00041845  0.00046152]\n"
     ]
    }
   ],
   "source": [
    "print delta_mt"
   ]
  },
  {
   "cell_type": "code",
   "execution_count": 19,
   "metadata": {
    "collapsed": true
   },
   "outputs": [],
   "source": [
    "res_norm = (res - np.mean(res))/np.std(res)"
   ]
  },
  {
   "cell_type": "code",
   "execution_count": 20,
   "metadata": {
    "collapsed": false
   },
   "outputs": [
    {
     "data": {
      "text/plain": [
       "(2.6645352591003756e-17, 1.0)"
      ]
     },
     "execution_count": 20,
     "metadata": {},
     "output_type": "execute_result"
    }
   ],
   "source": [
    "np.mean(res_norm), np.std(res_norm)"
   ]
  },
  {
   "cell_type": "code",
   "execution_count": 21,
   "metadata": {
    "collapsed": false
   },
   "outputs": [
    {
     "data": {
      "image/png": "[encoded data removed]",
      "text/plain": [
       "<matplotlib.figure.Figure at 0x7f7ca4cf9d10>"
      ]
     },
     "metadata": {},
     "output_type": "display_data"
    }
   ],
   "source": [
    "#ddif = dobs - d0\n",
    "plt.figure(figsize=(15,5))\n",
    "plt.subplot(1,2,1)\n",
    "plt.title(\"Residual data (nT)\", fontsize = 18)\n",
    "plt.axis('scaled')\n",
    "nlevels = mpl.contourf(yp, xp, res_norm,regular_grid['shape'], 15, cmap='RdBu_r')\n",
    "plt.xlabel('East y (km)')\n",
    "plt.ylabel('North x (km)')\n",
    "plt.colorbar(pad=0.01, aspect=20, shrink=0.99).set_label('nT')\n",
    "#for p in sphere_model['prisms']:\n",
    "#    mpl.polygon(p, '.-b', xy2ne=True)\n",
    "for p in model_est:\n",
    "    mpl.polygon(p, '.-r', xy2ne=True)\n",
    "mpl.m2km()\n",
    "#plt.savefig('residual_data.png', dpi=300)\n",
    "plt.subplot(1,2,2)\n",
    "#plt.axis('auto')\n",
    "plt.title('Histogram', fontsize = 18)\n",
    "plt.xlabel('$\\mu$ = %.7f  $\\sigma$ = %.7f' % (np.mean(res_norm), np.std(res_norm)), fontsize=20)\n",
    "nbins = int((np.max(res_norm) - np.min(res_norm)))\n",
    "plt.hist(res_norm,bins=nbins, normed=True)\n",
    "plt.ylim(0.,0.5)\n",
    "plt.xlim(-10., 10.)\n",
    "plt.savefig('fit_hist.png', dpi=300)\n",
    "plt.show()"
   ]
  },
  {
   "cell_type": "code",
   "execution_count": null,
   "metadata": {
    "collapsed": true
   },
   "outputs": [],
   "source": []
  },
  {
   "cell_type": "code",
   "execution_count": 22,
   "metadata": {
    "collapsed": false
   },
   "outputs": [
    {
     "data": {
      "image/png": "[encoded data removed]",
      "text/plain": [
       "<matplotlib.figure.Figure at 0x7f7ca4d21d50>"
      ]
     },
     "metadata": {},
     "output_type": "display_data"
    }
   ],
   "source": [
    "plt.title('Convergence', fontsize = 18)\n",
    "plt.xlabel('Iteration number')\n",
    "plt.ylabel('Phi value')\n",
    "plt.plot(phi_list)\n",
    "plt.savefig('convergence_sphere.png', dpi=300)\n",
    "plt.show()"
   ]
  },
  {
   "cell_type": "code",
   "execution_count": 23,
   "metadata": {
    "collapsed": false
   },
   "outputs": [
    {
     "data": {
      "image/png": "[encoded data removed]",
      "text/plain": [
       "<IPython.core.display.Image object>"
      ]
     },
     "execution_count": 23,
     "metadata": {},
     "output_type": "execute_result"
    }
   ],
   "source": [
    "bounds = [-150., 150., -150., 150., -50., 200.]\n",
    "\n",
    "red, green, blue = (1, 0, 0), (0, 1, 0), (0, 0, 1)\n",
    "white, black = (1, 1, 1), (0, 0, 0),\n",
    "\n",
    "# Show the model\n",
    "scene = myv.figure()\n",
    "myv.points([sphere_model['x'],sphere_model['y'], sphere_model['z']], color=blue, size=50.0, opacity=0.5, \n",
    "           spherical=False)\n",
    "myv.polyprisms(model0, 'magnetization', color=red, linewidth=1.)\n",
    "\n",
    "ax = myv.axes(myv.outline(bounds), ranges=[i * 0.001 for i in bounds])\n",
    "ax.axes.x_label, ax.axes.y_label, ax.axes.z_label = 'x (m)', 'y (m)', 'z (m)'\n",
    "ax.axes.font_factor = 1.5\n",
    "scene.scene.camera.position = [-0.089204656936016313, -0.066107174155361687, -0.04083578885723696]\n",
    "scene.scene.camera.focal_point = [1.1820671636724554e-16, 1.3134079596360617e-17, -1.9701119394540926e-17]\n",
    "scene.scene.camera.view_angle = 30.0\n",
    "scene.scene.camera.view_up = [0.24683390337942718, 0.24593292331329802, -0.93733132955911114]\n",
    "scene.scene.camera.clipping_range = [0.057117737884348194, 0.1956040854922288]\n",
    "scene.scene.camera.compute_view_plane_normal()\n",
    "\n",
    "myv.wall_bottom(ax.axes.bounds, opacity=0.2)\n",
    "myv.wall_north(ax.axes.bounds)\n",
    "myv.savefig('bolacha_sphere.png')\n",
    "myv.show()\n",
    "\n",
    "img(filename='bolacha_sphere.png')"
   ]
  },
  {
   "cell_type": "code",
   "execution_count": 24,
   "metadata": {
    "collapsed": false
   },
   "outputs": [
    {
     "data": {
      "text/plain": [
       "array([[  1.        ,   0.        ,   0.        , ...,   0.        ,\n",
       "          0.        ,   0.        ],\n",
       "       [  0.        ,   2.02298851,   0.        , ...,   0.        ,\n",
       "          0.        ,   0.        ],\n",
       "       [  0.        ,   0.        ,   3.04597701, ...,   0.        ,\n",
       "          0.        ,   0.        ],\n",
       "       ..., \n",
       "       [  0.        ,   0.        ,   0.        , ...,  87.95402299,\n",
       "          0.        ,   0.        ],\n",
       "       [  0.        ,   0.        ,   0.        , ...,   0.        ,\n",
       "         88.97701149,   0.        ],\n",
       "       [  0.        ,   0.        ,   0.        , ...,   0.        ,\n",
       "          0.        ,  90.        ]])"
      ]
     },
     "execution_count": 24,
     "metadata": {},
     "output_type": "execute_result"
    }
   ],
   "source": [
    "np.identity(P)*np.linspace(1,P+2, P)"
   ]
  },
  {
   "cell_type": "code",
   "execution_count": 25,
   "metadata": {
    "collapsed": false
   },
   "outputs": [
    {
     "data": {
      "text/plain": [
       "array([  1.        ,   2.02298851,   3.04597701,   4.06896552,\n",
       "         5.09195402,   6.11494253,   7.13793103,   8.16091954,\n",
       "         9.18390805,  10.20689655,  11.22988506,  12.25287356,\n",
       "        13.27586207,  14.29885057,  15.32183908,  16.34482759,\n",
       "        17.36781609,  18.3908046 ,  19.4137931 ,  20.43678161,\n",
       "        21.45977011,  22.48275862,  23.50574713,  24.52873563,\n",
       "        25.55172414,  26.57471264,  27.59770115,  28.62068966,\n",
       "        29.64367816,  30.66666667,  31.68965517,  32.71264368,\n",
       "        33.73563218,  34.75862069,  35.7816092 ,  36.8045977 ,\n",
       "        37.82758621,  38.85057471,  39.87356322,  40.89655172,\n",
       "        41.91954023,  42.94252874,  43.96551724,  44.98850575,\n",
       "        46.01149425,  47.03448276,  48.05747126,  49.08045977,\n",
       "        50.10344828,  51.12643678,  52.14942529,  53.17241379,\n",
       "        54.1954023 ,  55.2183908 ,  56.24137931,  57.26436782,\n",
       "        58.28735632,  59.31034483,  60.33333333,  61.35632184,\n",
       "        62.37931034,  63.40229885,  64.42528736,  65.44827586,\n",
       "        66.47126437,  67.49425287,  68.51724138,  69.54022989,\n",
       "        70.56321839,  71.5862069 ,  72.6091954 ,  73.63218391,\n",
       "        74.65517241,  75.67816092,  76.70114943,  77.72413793,\n",
       "        78.74712644,  79.77011494,  80.79310345,  81.81609195,\n",
       "        82.83908046,  83.86206897,  84.88505747,  85.90804598,\n",
       "        86.93103448,  87.95402299,  88.97701149,  90.        ])"
      ]
     },
     "execution_count": 25,
     "metadata": {},
     "output_type": "execute_result"
    }
   ],
   "source": [
    "np.linspace(1,P+2, P)"
   ]
  },
  {
   "cell_type": "code",
   "execution_count": 26,
   "metadata": {
    "collapsed": true
   },
   "outputs": [],
   "source": [
    "# limits for parameters in meters\n",
    "rmin = 10.\n",
    "rmax = 6000.\n",
    "x0min = -5000.\n",
    "x0max = 5000.\n",
    "y0min = -5000.\n",
    "y0max = 5000.\n",
    "\n",
    "mmin, mmax = mfun.build_range_param(M, L, rmin, rmax, x0min, x0max, y0min, y0max)"
   ]
  },
  {
   "cell_type": "code",
   "execution_count": 27,
   "metadata": {
    "collapsed": true
   },
   "outputs": [],
   "source": [
    "print alpha6"
   ]
  },
  {
   "cell_type": "code",
   "execution_count": 28,
   "metadata": {
    "collapsed": true
   },
   "outputs": [],
   "source": [
    "p = np.linspace(-5000., 5000.,P)\n",
    "pt = - np.log((x0max - p)/(p - x0min))"
   ]
  },
  {
   "cell_type": "code",
   "execution_count": 29,
   "metadata": {
    "collapsed": true
   },
   "outputs": [],
   "source": [
    "print pt"
   ]
  },
  {
   "cell_type": "code",
   "execution_count": 30,
   "metadata": {
    "collapsed": true
   },
   "outputs": [],
   "source": [
    "pi = x0min + (x0max - x0min)/(1+np.exp(-pt))"
   ]
  },
  {
   "cell_type": "code",
   "execution_count": 31,
   "metadata": {
    "collapsed": false
   },
   "outputs": [
    {
     "data": {
      "image/png": "[encoded data removed]",
      "text/plain": [
       "<matplotlib.figure.Figure at 0x7f7c5627cb10>"
      ]
     },
     "metadata": {},
     "output_type": "display_data"
    }
   ],
   "source": [
    "plt.title('Barreira Logaritmica', fontsize = 18)\n",
    "plt.xlabel('Parametro', fontsize = 18)\n",
    "plt.ylabel('f(m)', fontsize = 18)\n",
    "plt.plot(pi,pt)\n",
    "plt.plot(np.zeros(P)+5000., pt, 'r--')\n",
    "plt.plot(np.zeros(P)-5000., pt, 'r--')\n",
    "plt.savefig('bar_t.png', dpi=300)\n",
    "plt.show()"
   ]
  },
  {
   "cell_type": "code",
   "execution_count": 32,
   "metadata": {
    "collapsed": true
   },
   "outputs": [],
   "source": [
    "print pi"
   ]
  },
  {
   "cell_type": "code",
   "execution_count": 33,
   "metadata": {
    "collapsed": false
   },
   "outputs": [
    {
     "data": {
      "image/png": "[encoded data removed]",
      "text/plain": [
       "<matplotlib.figure.Figure at 0x7f7cd117cc10>"
      ]
     },
     "metadata": {},
     "output_type": "display_data"
    }
   ],
   "source": [
    "plt.title('Barreira Logaritmica', fontsize = 18)\n",
    "plt.xlabel('Parametro transformado', fontsize=18)\n",
    "plt.ylabel('f(m) inv', fontsize=18)\n",
    "plt.plot(pt,p)\n",
    "plt.plot(pt, np.zeros(P)+5000., 'r--')\n",
    "plt.plot(pt, np.zeros(P)-5000., 'r--')\n",
    "plt.savefig('bar_ti.png', dpi=300)\n",
    "plt.show()"
   ]
  },
  {
   "cell_type": "code",
   "execution_count": 34,
   "metadata": {
    "collapsed": false
   },
   "outputs": [],
   "source": [
    "c = mfun.Hessian_phi_6(3, 2, np.zeros((10,10)), 1.)"
   ]
  },
  {
   "cell_type": "code",
   "execution_count": 35,
   "metadata": {
    "collapsed": false
   },
   "outputs": [],
   "source": [
    "c = np.dot(c,c)"
   ]
  },
  {
   "cell_type": "code",
   "execution_count": 36,
   "metadata": {
    "collapsed": false
   },
   "outputs": [
    {
     "data": {
      "text/plain": [
       "array([ 1.,  1.,  1.,  0.,  0.,  1.,  1.,  1.,  0.,  0.])"
      ]
     },
     "execution_count": 36,
     "metadata": {},
     "output_type": "execute_result"
    }
   ],
   "source": [
    "np.dot(c, np.ones(10))"
   ]
  },
  {
   "cell_type": "code",
   "execution_count": 37,
   "metadata": {
    "collapsed": true
   },
   "outputs": [],
   "source": [
    "m = np.ones(15)"
   ]
  },
  {
   "cell_type": "code",
   "execution_count": 38,
   "metadata": {
    "collapsed": false
   },
   "outputs": [],
   "source": [
    "P = 3*(3 + 2)\n",
    "\n",
    "m6 = m.copy()\n",
    "\n",
    "# extracting the non-zero diagonals\n",
    "d0 = mfun.diags_phi_6(3, 3, .5)\n",
    "\n",
    "# calculating the product between the diagonals and the slices of m\n",
    "m6 = m*d0\n",
    "print m6, m\n",
    "phi_6 = np.dot(m6, m)\n",
    "print phi_6"
   ]
  },
  {
   "cell_type": "code",
   "execution_count": 39,
   "metadata": {
    "collapsed": false
   },
   "outputs": [
    {
     "data": {
      "text/plain": [
       "7881299347898368.0"
      ]
     },
     "execution_count": 39,
     "metadata": {},
     "output_type": "execute_result"
    }
   ],
   "source": [
    "w = 3.\n",
    "o = w - 1e-15\n",
    "(10.-w)/(w - o)"
   ]
  },
  {
   "cell_type": "code",
   "execution_count": 40,
   "metadata": {
    "collapsed": true
   },
   "outputs": [],
   "source": [
    "u = -np.log((10.-w)/(w - o))"
   ]
  },
  {
   "cell_type": "code",
   "execution_count": 41,
   "metadata": {
    "collapsed": false
   },
   "outputs": [
    {
     "data": {
      "text/plain": [
       "1.2688263138573182e-16"
      ]
     },
     "execution_count": 41,
     "metadata": {},
     "output_type": "execute_result"
    }
   ],
   "source": [
    "1./np.exp(-u)"
   ]
  },
  {
   "cell_type": "markdown",
   "metadata": {},
   "source": [
    "# Algoritmo Levenberg-Marquadt"
   ]
  },
  {
   "cell_type": "markdown",
   "metadata": {},
   "source": [
    "1- Iteração $k=0$: chute inicial $\\mathbf{m}_0$ em que todos os elementos satisfaçam os vínculos de desigualdade e um valor real positivo grande para $\\lambda$"
   ]
  },
  {
   "cell_type": "markdown",
   "metadata": {},
   "source": [
    "2) Calcula os parâmetros transformados $\\breve{\\mathbf{m}}_k$"
   ]
  },
  {
   "cell_type": "markdown",
   "metadata": {},
   "source": [
    "Os parâmetros transformados são calculados a partir da equação:\n",
    "\n",
    "\\begin{equation}\n",
    "\\breve{m}_i = f(m_i) = - \\ln\\left(\\frac{m_{i\\, max} - m_i}{m_i - m_{i\\, min}}\\right)\n",
    "\\end{equation}"
   ]
  },
  {
   "cell_type": "markdown",
   "metadata": {},
   "source": [
    "A transformação inversa dos parâmetros é dada pela equação:\n",
    "\n",
    "\\begin{equation}\n",
    "m_i = f^{-1}(\\breve{m}_i) = m_{i\\, min} + \\left(\\frac{m_{i\\, max} - m_{i\\, min}}{1 + e^{-\\breve{m}_i}}\\right)\n",
    "\\end{equation}"
   ]
  },
  {
   "cell_type": "markdown",
   "metadata": {},
   "source": [
    "3) laço externo: calcula $\\nabla^2\\Gamma (\\hat{\\mathbf{m}}_k)$, $\\nabla\\Gamma (\\hat{\\mathbf{m}}_k)$ e $T(\\hat{\\mathbf{m}}_k)$:"
   ]
  },
  {
   "cell_type": "markdown",
   "metadata": {},
   "source": [
    "a) laço interno: calcula $\\Delta \\breve{\\mathbf{m}}_k$ solucionando o sistema linear abaixo\n",
    "\n",
    "\\begin{equation}\n",
    "\\left[\\nabla^2\\Gamma (\\hat{\\mathbf{m}}_k)\\mathbf{T}(\\hat{\\mathbf{m}}_k) + \\lambda \\mathbf{I} \\right] \\Delta\\breve{\\mathbf{m}}_k \\approx - \\nabla \\Gamma (\\hat{\\mathbf{m}}_k)\n",
    "\\end{equation}\n",
    "\n",
    "onde $\\mathbf{T}(\\hat{\\mathbf{m}}_k)$ é uma matriz diagonal\n",
    "\\begin{equation}\n",
    "[\\mathbf{T}(\\hat{\\mathbf{m}}_k)]_{ii} = \\frac{(m_{i\\, max} - m_i)(m_i - m_{i\\, min})}{(m_{i\\, max} - m_{i\\, min})}\n",
    "\\end{equation}"
   ]
  },
  {
   "cell_type": "markdown",
   "metadata": {},
   "source": [
    "b) calcula $\\breve{\\mathbf{m}}_{k+1} = \\breve{\\mathbf{m}}_k + \\Delta\\breve{\\mathbf{m}}_k$"
   ]
  },
  {
   "cell_type": "markdown",
   "metadata": {},
   "source": [
    "c) computa $\\hat{\\mathbf{m}}_{k+1}$"
   ]
  },
  {
   "cell_type": "markdown",
   "metadata": {},
   "source": [
    "d) Enquanto $\\Gamma (\\hat{\\mathbf{m}}_{k+1})<\\Gamma (\\hat{\\mathbf{m}}_k)$ \n",
    "\n",
    "   i $\\lambda = \\lambda\\cdot d\\lambda$\n",
    "\n",
    "   ii retorne para 3)a)"
   ]
  },
  {
   "cell_type": "markdown",
   "metadata": {},
   "source": [
    "e) $\\lambda = \\lambda/d\\lambda$"
   ]
  },
  {
   "cell_type": "markdown",
   "metadata": {},
   "source": [
    "4) Enquanto $\\Gamma (\\hat{\\mathbf{m}}_{k+1})<\\Gamma (\\hat{\\mathbf{m}}_k)$ e $\\frac{|\\Gamma (\\hat{\\mathbf{m}}_{k+1})- \\Gamma (\\hat{\\mathbf{m}}_k)|}{|\\Gamma (\\hat{\\mathbf{m}}_k)|}>\\varepsilon$\n",
    "\n",
    "a) $k=k+1$\n",
    "\n",
    "b) Retorne para etapa 2)"
   ]
  }
 ],
 "metadata": {
  "anaconda-cloud": {},
  "kernelspec": {
   "display_name": "Python 2",
   "language": "python",
   "name": "python2"
  },
  "language_info": {
   "codemirror_mode": {
    "name": "ipython",
    "version": 2
   },
   "file_extension": ".py",
   "mimetype": "text/x-python",
   "name": "python",
   "nbconvert_exporter": "python",
   "pygments_lexer": "ipython2",
   "version": "2.7.13"
  }
 },
 "nbformat": 4,
 "nbformat_minor": 1
}
