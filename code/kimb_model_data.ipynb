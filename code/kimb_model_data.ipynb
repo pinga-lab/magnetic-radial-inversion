{
 "cells": [
  {
   "cell_type": "markdown",
   "metadata": {},
   "source": [
    "# Data of a kimberlite model with induced magnetization"
   ]
  },
  {
   "cell_type": "code",
   "execution_count": 16,
   "metadata": {
    "collapsed": false
   },
   "outputs": [],
   "source": [
    "import numpy as np\n",
    "import matplotlib.pyplot as plt\n",
    "import cPickle as pickle\n",
    "\n",
    "from copy import deepcopy\n",
    "from fatiando import utils\n",
    "from fatiando.mesher import PolygonalPrism\n",
    "from fatiando.vis import mpl, myv\n",
    "from matplotlib import colors, ticker, cm\n",
    "from IPython.display import Image as img\n",
    "from fatiando.gridder import regular\n",
    "from fatiando.gravmag import polyprism\n",
    "\n",
    "import mag_polyprism_functions as mfun"
   ]
  },
  {
   "cell_type": "code",
   "execution_count": 17,
   "metadata": {
    "collapsed": true
   },
   "outputs": [],
   "source": [
    "with open('../data/kimb_model.pickle') as w:\n",
    "        kimb_model = pickle.load(w)\n",
    "with open('../data/regular_grid.pickle') as w:\n",
    "        regular_grid = pickle.load(w)"
   ]
  },
  {
   "cell_type": "code",
   "execution_count": 18,
   "metadata": {
    "collapsed": true
   },
   "outputs": [],
   "source": [
    "kimb_data = dict()"
   ]
  },
  {
   "cell_type": "code",
   "execution_count": 19,
   "metadata": {
    "collapsed": true
   },
   "outputs": [],
   "source": [
    "kimb_data['data'] = polyprism.tf(regular_grid['xp'], regular_grid['yp'], regular_grid['zp'],\n",
    "                           kimb_model['prisms'], kimb_model['inc'], kimb_model['dec']) # predict data\n",
    "\n",
    "amp_noise = 0.02*np.max(kimb_data['data'])\n",
    "kimb_data['data_noise'] = kimb_data['data'] + np.random.normal(loc=0., scale=amp_noise,\n",
    "                               size=regular_grid['shape'][0]*regular_grid['shape'][1]) # noise corrupted data"
   ]
  },
  {
   "cell_type": "code",
   "execution_count": 20,
   "metadata": {
    "collapsed": true
   },
   "outputs": [],
   "source": [
    "file_name = '../data/kimb_data.pickle'\n",
    "with open(file_name, 'w') as f:\n",
    "    pickle.dump(kimb_data, f)"
   ]
  },
  {
   "cell_type": "code",
   "execution_count": null,
   "metadata": {
    "collapsed": true
   },
   "outputs": [],
   "source": []
  }
 ],
 "metadata": {
  "kernelspec": {
   "display_name": "Python 2",
   "language": "python",
   "name": "python2"
  },
  "language_info": {
   "codemirror_mode": {
    "name": "ipython",
    "version": 2
   },
   "file_extension": ".py",
   "mimetype": "text/x-python",
   "name": "python",
   "nbconvert_exporter": "python",
   "pygments_lexer": "ipython2",
   "version": "2.7.13"
  }
 },
 "nbformat": 4,
 "nbformat_minor": 2
}
