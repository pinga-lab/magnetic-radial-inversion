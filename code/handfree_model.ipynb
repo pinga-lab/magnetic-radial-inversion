{
 "cells": [
  {
   "cell_type": "markdown",
   "metadata": {},
   "source": [
    "# Synthetic model of a ten polygonal close to a cylinder with magnetization"
   ]
  },
  {
   "cell_type": "code",
   "execution_count": 1,
   "metadata": {
    "collapsed": true
   },
   "outputs": [],
   "source": [
    "import matplotlib"
   ]
  },
  {
   "cell_type": "code",
   "execution_count": 2,
   "metadata": {
    "collapsed": true
   },
   "outputs": [],
   "source": [
    "matplotlib.use('TkAgg', force=True)"
   ]
  },
  {
   "cell_type": "code",
   "execution_count": 3,
   "metadata": {},
   "outputs": [
    {
     "name": "stderr",
     "output_type": "stream",
     "text": [
      "/home/vital/anaconda2/envs/radial-mag/lib/python2.7/site-packages/fatiando/vis/mpl.py:76: UserWarning: This module will be removed in v0.6. We recommend the use of matplotlib.pyplot module directly. Some of the fatiando specific functions will remain.\n",
      "  \"specific functions will remain.\")\n",
      "/home/vital/anaconda2/envs/radial-mag/lib/python2.7/site-packages/fatiando/vis/myv.py:51: UserWarning: This module will be removed in v0.7.\n",
      "  warnings.warn(\"This module will be removed in v0.7.\")\n"
     ]
    }
   ],
   "source": [
    "import numpy as np\n",
    "import cPickle as pickle\n",
    "\n",
    "from copy import deepcopy\n",
    "from fatiando import utils, mesher\n",
    "from fatiando.mesher import PolygonalPrism\n",
    "from fatiando.vis import mpl, myv\n",
    "from matplotlib import colors, ticker, cm\n",
    "from IPython.display import Image as img\n",
    "import mag_polyprism_functions as mfun"
   ]
  },
  {
   "cell_type": "code",
   "execution_count": 4,
   "metadata": {
    "collapsed": true
   },
   "outputs": [],
   "source": [
    "handfree_model = dict()"
   ]
  },
  {
   "cell_type": "code",
   "execution_count": 5,
   "metadata": {
    "collapsed": true
   },
   "outputs": [],
   "source": [
    "handfree_model['z0'] = 0.    # depth of the top the shallowest prism\n",
    "handfree_model['dz'] = 3000.    # thickness of each prism\n",
    "\n",
    "handfree_model['inc'] = -60.  # inclination\n",
    "handfree_model['dec'] = 50.   # declination\n",
    "handfree_model['intensity'] = 3. # intensity\n",
    "\n",
    "handfree_model['props']={'magnetization': utils.ang2vec(\n",
    "    handfree_model['intensity'], handfree_model['inc'], handfree_model['dec'])} # physical property: magnetization"
   ]
  },
  {
   "cell_type": "code",
   "execution_count": 6,
   "metadata": {},
   "outputs": [],
   "source": [
    "bounds = [-10000, 10000, -10000, 10000, 0, 5000]\n",
    "area = bounds[:4]\n",
    "depths = [handfree_model['z0'], handfree_model['dz']]\n",
    "model = []\n",
    "for i in range(1, len(depths)):\n",
    "    axes = mpl.figure().gca()\n",
    "    mpl.axis('scaled')\n",
    "    for p in model:\n",
    "        mpl.polygon(p, '.-k', xy2ne=True)\n",
    "    model.append(\n",
    "        mesher.PolygonalPrism(\n",
    "            mpl.draw_polygon(area, axes, xy2ne=True),\n",
    "            depths[i - 1], depths[i], handfree_model['props']))"
   ]
  },
  {
   "cell_type": "code",
   "execution_count": 7,
   "metadata": {
    "collapsed": true
   },
   "outputs": [],
   "source": [
    "handfree_model['prisms'] = model"
   ]
  },
  {
   "cell_type": "code",
   "execution_count": 8,
   "metadata": {},
   "outputs": [
    {
     "ename": "AttributeError",
     "evalue": "'dict' object has no attribute 'type'",
     "output_type": "error",
     "traceback": [
      "\u001b[0;31m---------------------------------------------------------------------------\u001b[0m",
      "\u001b[0;31mAttributeError\u001b[0m                            Traceback (most recent call last)",
      "\u001b[0;32m<ipython-input-8-d68293e312de>\u001b[0m in \u001b[0;36m<module>\u001b[0;34m()\u001b[0m\n\u001b[0;32m----> 1\u001b[0;31m \u001b[0mhandfree_model\u001b[0m\u001b[0;34m[\u001b[0m\u001b[0;34m'props'\u001b[0m\u001b[0;34m]\u001b[0m\u001b[0;34m.\u001b[0m\u001b[0mtype\u001b[0m\u001b[0;34m\u001b[0m\u001b[0m\n\u001b[0m",
      "\u001b[0;31mAttributeError\u001b[0m: 'dict' object has no attribute 'type'"
     ]
    }
   ],
   "source": [
    "handfree_model['props'].type"
   ]
  },
  {
   "cell_type": "code",
   "execution_count": 15,
   "metadata": {},
   "outputs": [],
   "source": [
    "M = model[0].x.size\n",
    "L = len(model)\n",
    "P = L*(M+2)\n",
    "m = np.zeros(P)\n",
    "for i, mod in enumerate(model):\n",
    "        x = np.asanyarray(mod.x)\n",
    "        y = np.asanyarray(mod.y)\n",
    "        n = len(x)\n",
    "        shift_up = np.arange(-n+1, 1)\n",
    "        shift_down = np.arange(-1, n-1)\n",
    "        area = -(x * (y.take(shift_up) - y.take(shift_down))).sum() / 2.0\n",
    "        cx = ((x + x.take(shift_up))*x*(y.take(shift_up) - y.take(shift_down))).sum()\n",
    "        cx /= 6.*area\n",
    "        cy = (y + y.take(shift_up)*x*(y.take(shift_up) - y.take(shift_down))).sum()\n",
    "        cy /= 6.*area\n",
    "        m[i*(M+2):i*(M+2)+M] = np.sqrt((x - cx)*(x - cx) + (y - cy)*(y - cy))\n",
    "        m[i*M+M] = cx\n",
    "        m[i*M+M+1] = cy"
   ]
  },
  {
   "cell_type": "code",
   "execution_count": 16,
   "metadata": {},
   "outputs": [
    {
     "name": "stdout",
     "output_type": "stream",
     "text": [
      "[  890.96886745  5744.6616419   4603.9154344   3670.92833157  4252.38450167\n",
      "   573.61375205  -209.50794662]\n"
     ]
    }
   ],
   "source": [
    "print m"
   ]
  },
  {
   "cell_type": "code",
   "execution_count": 17,
   "metadata": {},
   "outputs": [],
   "source": [
    "handfree_model['M'] = handfree_model['prisms'][0].x.size # number of vertices per prism\n",
    "handfree_model['L'] = len(handfree_model['prisms']) # number of prisms\n",
    "handfree_model['P'] = handfree_model['L']*(handfree_model['M']+2) # number of parameters"
   ]
  },
  {
   "cell_type": "code",
   "execution_count": 18,
   "metadata": {},
   "outputs": [],
   "source": [
    "mi = mfun.param2polyprism(m, handfree_model['M'], handfree_model['L'], handfree_model['z0'], handfree_model['dz'], handfree_model['props'])"
   ]
  },
  {
   "cell_type": "code",
   "execution_count": 19,
   "metadata": {},
   "outputs": [],
   "source": [
    "# Show the model\n",
    "myv.figure()\n",
    "myv.polyprisms(handfree_model['prisms'], 'magnetization', opacity=1., style='wireframe')\n",
    "myv.polyprisms(mi, 'magnetization', opacity=.5, linewidth=0.5)\n",
    "myv.axes(myv.outline(bounds), ranges=[i * 0.001 for i in bounds])\n",
    "myv.show()"
   ]
  },
  {
   "cell_type": "code",
   "execution_count": 20,
   "metadata": {},
   "outputs": [
    {
     "ename": "NameError",
     "evalue": "name 'cylinder_model' is not defined",
     "output_type": "error",
     "traceback": [
      "\u001b[0;31m---------------------------------------------------------------------------\u001b[0m",
      "\u001b[0;31mNameError\u001b[0m                                 Traceback (most recent call last)",
      "\u001b[0;32m<ipython-input-20-0c01d9b19a1c>\u001b[0m in \u001b[0;36m<module>\u001b[0;34m()\u001b[0m\n\u001b[1;32m      1\u001b[0m \u001b[0;31m# Cartesian coordinates of the origin of each prism\u001b[0m\u001b[0;34m\u001b[0m\u001b[0;34m\u001b[0m\u001b[0m\n\u001b[0;32m----> 2\u001b[0;31m \u001b[0mx0\u001b[0m \u001b[0;34m=\u001b[0m \u001b[0mnp\u001b[0m\u001b[0;34m.\u001b[0m\u001b[0mzeros\u001b[0m\u001b[0;34m(\u001b[0m\u001b[0mcylinder_model\u001b[0m\u001b[0;34m[\u001b[0m\u001b[0;34m'L'\u001b[0m\u001b[0;34m]\u001b[0m\u001b[0;34m)\u001b[0m\u001b[0;34m\u001b[0m\u001b[0m\n\u001b[0m\u001b[1;32m      3\u001b[0m \u001b[0my0\u001b[0m \u001b[0;34m=\u001b[0m \u001b[0mnp\u001b[0m\u001b[0;34m.\u001b[0m\u001b[0mzeros\u001b[0m\u001b[0;34m(\u001b[0m\u001b[0mcylinder_model\u001b[0m\u001b[0;34m[\u001b[0m\u001b[0;34m'L'\u001b[0m\u001b[0;34m]\u001b[0m\u001b[0;34m)\u001b[0m\u001b[0;34m\u001b[0m\u001b[0m\n\u001b[1;32m      4\u001b[0m \u001b[0;34m\u001b[0m\u001b[0m\n\u001b[1;32m      5\u001b[0m \u001b[0ml\u001b[0m \u001b[0;34m=\u001b[0m \u001b[0;34m[\u001b[0m\u001b[0;34m]\u001b[0m   \u001b[0;31m# list of parameters of the prisms\u001b[0m\u001b[0;34m\u001b[0m\u001b[0m\n",
      "\u001b[0;31mNameError\u001b[0m: name 'cylinder_model' is not defined"
     ]
    }
   ],
   "source": [
    "# Cartesian coordinates of the origin of each prism\n",
    "x0 = np.zeros(cylinder_model['L']) \n",
    "y0 = np.zeros(cylinder_model['L'])\n",
    "\n",
    "l = []   # list of parameters of the prisms\n",
    "\n",
    "for i in range(cylinder_model['L']):\n",
    "    l.append([r, x0[i]+100., y0[i]+100., cylinder_model['z0'] + cylinder_model['dz']*i,\\\n",
    "              cylinder_model['z0'] + cylinder_model['dz']*(i + 1), cylinder_model['props']])\n",
    "    \n",
    "cylinder_model['prisms'] = mfun.pol2cart(l, cylinder_model['M'], cylinder_model['L'])\n",
    "cylinder_model['param_vec'] = mfun.param_vec(l, cylinder_model['M'], cylinder_model['L'])"
   ]
  },
  {
   "cell_type": "code",
   "execution_count": null,
   "metadata": {
    "collapsed": true
   },
   "outputs": [],
   "source": [
    "file_name = '../data/handfree_model.pickle'\n",
    "with open(file_name, 'w') as f:\n",
    "    pickle.dump(handfree_model, f)"
   ]
  },
  {
   "cell_type": "code",
   "execution_count": null,
   "metadata": {
    "collapsed": true
   },
   "outputs": [],
   "source": []
  }
 ],
 "metadata": {
  "kernelspec": {
   "display_name": "Python 2",
   "language": "python",
   "name": "python2"
  },
  "language_info": {
   "codemirror_mode": {
    "name": "ipython",
    "version": 2
   },
   "file_extension": ".py",
   "mimetype": "text/x-python",
   "name": "python",
   "nbconvert_exporter": "python",
   "pygments_lexer": "ipython2",
   "version": "2.7.13"
  }
 },
 "nbformat": 4,
 "nbformat_minor": 2
}
