{
 "cells": [
  {
   "cell_type": "markdown",
   "metadata": {},
   "source": [
    "# Figure of RTP anomaly and $\\Gamma$ map"
   ]
  },
  {
   "cell_type": "code",
   "execution_count": 1,
   "metadata": {},
   "outputs": [
    {
     "name": "stderr",
     "output_type": "stream",
     "text": [
      "/home/leo/anaconda2/lib/python2.7/site-packages/fatiando/vis/mpl.py:76: UserWarning: This module will be removed in v0.6. We recommend the use of matplotlib.pyplot module directly. Some of the fatiando specific functions will remain.\n",
      "  \"specific functions will remain.\")\n"
     ]
    }
   ],
   "source": [
    "import numpy as np\n",
    "import matplotlib.pyplot as plt\n",
    "import cPickle as pickle\n",
    "\n",
    "from fatiando import utils\n",
    "from fatiando.gravmag import polyprism\n",
    "from fatiando.vis import mpl"
   ]
  },
  {
   "cell_type": "markdown",
   "metadata": {},
   "source": [
    "### Auxiliary functions"
   ]
  },
  {
   "cell_type": "code",
   "execution_count": 2,
   "metadata": {
    "collapsed": true
   },
   "outputs": [],
   "source": [
    "import sys\n",
    "sys.path.insert(0, '../../code')\n",
    "\n",
    "import mag_polyprism_functions as mfun\n",
    "import plot_functions as pf"
   ]
  },
  {
   "cell_type": "markdown",
   "metadata": {},
   "source": [
    "# Input"
   ]
  },
  {
   "cell_type": "code",
   "execution_count": 3,
   "metadata": {
    "collapsed": true
   },
   "outputs": [
    {
     "ename": "IOError",
     "evalue": "[Errno 2] No such file or directory: 'model.pickle'",
     "output_type": "error",
     "traceback": [
      "\u001b[0;31m---------------------------------------------------------------------------\u001b[0m",
      "\u001b[0;31mIOError\u001b[0m                                   Traceback (most recent call last)",
      "\u001b[0;32m<ipython-input-3-f1ec60af8370>\u001b[0m in \u001b[0;36m<module>\u001b[0;34m()\u001b[0m\n\u001b[0;32m----> 1\u001b[0;31m \u001b[0;32mwith\u001b[0m \u001b[0mopen\u001b[0m\u001b[0;34m(\u001b[0m\u001b[0;34m'model.pickle'\u001b[0m\u001b[0;34m)\u001b[0m \u001b[0;32mas\u001b[0m \u001b[0mw\u001b[0m\u001b[0;34m:\u001b[0m\u001b[0;34m\u001b[0m\u001b[0m\n\u001b[0m\u001b[1;32m      2\u001b[0m         \u001b[0mmodel\u001b[0m \u001b[0;34m=\u001b[0m \u001b[0mpickle\u001b[0m\u001b[0;34m.\u001b[0m\u001b[0mload\u001b[0m\u001b[0;34m(\u001b[0m\u001b[0mw\u001b[0m\u001b[0;34m)\u001b[0m\u001b[0;34m\u001b[0m\u001b[0m\n",
      "\u001b[0;31mIOError\u001b[0m: [Errno 2] No such file or directory: 'model.pickle'"
     ]
    }
   ],
   "source": [
    "with open('model.pickle') as w:\n",
    "        model = pickle.load(w)"
   ]
  },
  {
   "cell_type": "code",
   "execution_count": null,
   "metadata": {
    "collapsed": true
   },
   "outputs": [],
   "source": [
    "with open('data.pickle') as w:\n",
    "        data = pickle.load(w)"
   ]
  },
  {
   "cell_type": "code",
   "execution_count": null,
   "metadata": {},
   "outputs": [],
   "source": [
    "# importing the pickle file of results\n",
    "result_path = 'results/multiple-outcrop-3366665/'\n",
    "\n",
    "with open(result_path+'inversion.pickle') as w:\n",
    "        inversion = pickle.load(w)"
   ]
  },
  {
   "cell_type": "code",
   "execution_count": null,
   "metadata": {},
   "outputs": [],
   "source": [
    "z0 = inversion['z0']\n",
    "intensity = inversion['intensity']\n",
    "z0_plot, int_plot = np.meshgrid(z0, intensity)\n",
    "z0_plot = z0_plot.ravel()\n",
    "int_plot = int_plot.ravel()\n",
    "n = z0.size\n",
    "m = intensity.size\n",
    "N = inversion['x'].size\n",
    "yp = inversion['y']\n",
    "xp = inversion['x']\n",
    "obs = inversion['observed_data']\n",
    "initial = inversion['results'][9][2][0][0]\n",
    "solution = [1,2]\n",
    "truevalues = [0,2]\n",
    "x0 = -200.\n",
    "y0 = 0."
   ]
  },
  {
   "cell_type": "code",
   "execution_count": null,
   "metadata": {},
   "outputs": [],
   "source": [
    "# building the matrix of the goal function\n",
    "gamma_matrix = mfun.goal_matrix(n, m, inversion['results'])"
   ]
  },
  {
   "cell_type": "code",
   "execution_count": null,
   "metadata": {},
   "outputs": [],
   "source": [
    "plt.figure(figsize=(12,5))\n",
    "\n",
    "ax2 = plt.subplot(121)\n",
    "circle1 = plt.Circle((x0, y0), 700, color='r', linewidth=2., fill=False)\n",
    "#plt.title('Predicted data['rtp']', fontsize=20)\n",
    "plt.tricontour(yp, xp, data['rtp'], 20, colors='k', linewidths=0.5)\n",
    "plt.tricontourf(yp, xp, data['rtp'], 20, cmap='RdBu_r', vmin=-np.max(data['rtp']), vmax=np.max(data['rtp'])).ax.tick_params(labelsize=14)\n",
    "plt.plot(yp, xp, '.k', markersize=0.2)\n",
    "plt.xlabel('$y$(km)', fontsize=14, labelpad=0)\n",
    "plt.ylabel('$x$(km)', fontsize=14, labelpad=0)\n",
    "clb = plt.colorbar(pad=0.025, aspect=40, shrink=1)\n",
    "clb.ax.tick_params(labelsize=14)\n",
    "clb.ax.set_title('nT', pad=-292, fontsize=14)\n",
    "mpl.polygon(model['prisms'][0], '-b', linewidth=2., xy2ne=True)\n",
    "ax2.add_artist(circle1)\n",
    "plt.text(np.min(yp)-500, np.max(xp)+500, '(a)', fontsize=20)\n",
    "mpl.m2km()\n",
    "\n",
    "ax2 = plt.subplot(1,2,2)\n",
    "w = 3\n",
    "img = ax2.imshow(gamma_matrix, vmin=np.min(gamma_matrix),\n",
    "                vmax=800, origin='lower',extent=[0,w,0,w])\n",
    "clb = plt.colorbar(img, pad=0.012, shrink=1)\n",
    "clb.ax.set_title('nT$^2$', pad=-292, fontsize=14)\n",
    "clb.ax.tick_params(labelsize=14)\n",
    "img.axes.tick_params(labelsize=14)\n",
    "plt.ylabel('$z_0 (m)$', fontsize=14)\n",
    "plt.xlabel('$m_0 (A/m)$', fontsize=14)\n",
    "ax2.text(-0.4, 3.1, '(b)', fontsize=20)\n",
    "plt.plot((2.*truevalues[1]+1.)*w/(2.*m), (2.*truevalues[0]+1.)*w/(2.*n), '^r', markersize=10)\n",
    "plt.plot((2.*solution[1]+1.)*w/(2.*m), (2.*solution[0]+1.)*w/(2.*n), 'Dw', markersize=10)\n",
    "x_label_list = []\n",
    "y_label_list = []\n",
    "for xl, yl in zip(intensity,z0):\n",
    "    x_label_list.append(str(xl)[:])\n",
    "    y_label_list.append(str(yl)[:-2])\n",
    "ax2.set_xticks(np.linspace(w/(2.*n), w - w/(2.*n), n))\n",
    "ax2.set_yticks(np.linspace(w/(2.*m), w - w/(2.*m), m))\n",
    "ax2.set_xticklabels(x_label_list)\n",
    "ax2.set_yticklabels(y_label_list)\n",
    "# Minor ticks\n",
    "ax2.set_xticks(np.linspace(0, w, n+1), minor=True)\n",
    "ax2.set_yticks(np.linspace(0, w, m+1), minor=True)\n",
    "ax2.grid(which='minor', color='k', linewidth=1.5)\n",
    "\n",
    "plt.tight_layout(pad = 2.)\n",
    "plt.savefig('../../manuscript/figures/regional_rtp.png', dpi=300, bbox_inches='tight')\n",
    "plt.show()"
   ]
  },
  {
   "cell_type": "markdown",
   "metadata": {},
   "source": [
    "Dipping model with regional field simulation. (a) Residual total-field\n",
    "    anomaly to be inverted over the area delimited by the  magenta rectangle \n",
    "    in data figure. \n",
    "    (b) Differences between the total-field anomaly produced by the dipping model and the residual total-field anomaly (shown in\n",
    "    panel (a)) after a regional-residual separation using a least-squares polynomial\n",
    "    fitting. \n",
    "    (c) RTP anomaly of the  residual total-field anomaly shown in panel (a). \n",
    "    (d) Discrete map of the goal function $\\Gamma(\\mathbf{p}, m_0, z_0)$ produced by the estimates $\\hat{\\mathbf{p}}_{(f)}$ obtained with\n",
    "    a $6 \\times 6$ grid of tentative values for depth to the top $z_0$ and\n",
    "    total-magnetization intensity $m_0$.\n",
    "    The red triangle  and white diamond pinpoint, respectively, the true and\n",
    "    retrieved values of $m_0$  and $z_0$.\n",
    "    In the panels (a)-(c), the red circle and the blue polygon represent the\n",
    "    horizontal projections of the initial approximation $\\hat{\\mathbf{p}}_{(0)}$ \n",
    "    and the simulated dipping source, respectively."
   ]
  }
 ],
 "metadata": {
  "kernelspec": {
   "display_name": "Python 2",
   "language": "python",
   "name": "python2"
  },
  "language_info": {
   "codemirror_mode": {
    "name": "ipython",
    "version": 2
   },
   "file_extension": ".py",
   "mimetype": "text/x-python",
   "name": "python",
   "nbconvert_exporter": "python",
   "pygments_lexer": "ipython2",
   "version": "2.7.16"
  }
 },
 "nbformat": 4,
 "nbformat_minor": 2
}
