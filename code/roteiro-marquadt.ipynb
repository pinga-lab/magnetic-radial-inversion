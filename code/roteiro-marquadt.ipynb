{
 "cells": [
  {
   "cell_type": "markdown",
   "metadata": {},
   "source": [
    "# Roteiro Levenberg-Marquadt"
   ]
  },
  {
   "cell_type": "markdown",
   "metadata": {},
   "source": [
    "Esse código é um protótipo de função para a implementação do algoritmo de Levenberg-Marquadt, o qual é utilizado para estimar parâmetros não-lineares. "
   ]
  },
  {
   "cell_type": "markdown",
   "metadata": {},
   "source": [
    "\\begin{equation}\n",
    "\\Gamma (\\textbf{m}) = \\Psi (\\textbf{m}) + \\sum\\limits^{6}_{j=1}\\alpha_{j}\\varphi_{j}(\\textbf{m})\n",
    "\\end{equation}"
   ]
  },
  {
   "cell_type": "code",
   "execution_count": 1,
   "metadata": {
    "collapsed": false
   },
   "outputs": [
    {
     "name": "stderr",
     "output_type": "stream",
     "text": [
      "/home/vital/anaconda2/lib/python2.7/site-packages/fatiando/vis/mpl.py:76: UserWarning: This module will be removed in v0.6. We recommend the use of matplotlib.pyplot module directly. Some of the fatiando specific functions will remain.\n",
      "  \"specific functions will remain.\")\n",
      "/home/vital/anaconda2/lib/python2.7/site-packages/fatiando/vis/myv.py:51: UserWarning: This module will be removed in v0.7.\n",
      "  warnings.warn(\"This module will be removed in v0.7.\")\n"
     ]
    }
   ],
   "source": [
    "import numpy as np\n",
    "import matplotlib.pyplot as plt\n",
    "from copy import deepcopy\n",
    "from __future__ import division\n",
    "from fatiando import mesher, gridder, utils\n",
    "from fatiando.gravmag import polyprism\n",
    "from fatiando.mesher import PolygonalPrism\n",
    "from fatiando.gravmag import prism\n",
    "from fatiando.mesher import Prism\n",
    "from fatiando.vis import mpl, myv\n",
    "from fatiando.constants import CM, T2NT\n",
    "from matplotlib import colors, ticker, cm\n",
    "import mag_polyprism_functions as mfun\n",
    "import polyprism_tests as tests\n",
    "% matplotlib inline"
   ]
  },
  {
   "cell_type": "markdown",
   "metadata": {},
   "source": [
    "# Entrada"
   ]
  },
  {
   "cell_type": "markdown",
   "metadata": {},
   "source": [
    "### Parâmetros para o modelo direto"
   ]
  },
  {
   "cell_type": "code",
   "execution_count": 2,
   "metadata": {
    "collapsed": true
   },
   "outputs": [],
   "source": [
    "M = 4 # number of vertices per prism\n",
    "L = 3 # number of prisms\n",
    "P = L*(M+2) # number of parameters\n",
    "\n",
    "inc, dec = -60., 50. # inclination and declination of regional field\n",
    "incs, decs = 70., -50.      # wrong direction or remanent\n",
    "\n",
    "r = np.zeros(M) + 2000. # radial distance for each vertice\n",
    "#r = np.zeros(M)\n",
    "#r[::2] = 3000.\n",
    "#r[1::2] = np.sqrt(2.)*3000.\n",
    "\n",
    "# Cartesian coordinates of the origin of each prism\n",
    "x0 = np.zeros(L) \n",
    "y0 = np.zeros(L)\n",
    "\n",
    "dz = 100.0    # thickness of each prism"
   ]
  },
  {
   "cell_type": "code",
   "execution_count": 3,
   "metadata": {
    "collapsed": true
   },
   "outputs": [],
   "source": [
    "props={'magnetization': utils.ang2vec(3., inc, dec)} # physical property\n",
    "\n",
    "z0 = 0.    # depth of the top the shallowest prism\n",
    "\n",
    "l = []   # list of prisms\n",
    "\n",
    "### creating the lis of prisms\n",
    "\n",
    "for i in range(L):\n",
    "    l.append([r, x0[i], y0[i], z0 + dz*i, z0 + dz*(i + 1), props])"
   ]
  },
  {
   "cell_type": "markdown",
   "metadata": {},
   "source": [
    "### Pontos de observação"
   ]
  },
  {
   "cell_type": "code",
   "execution_count": 4,
   "metadata": {
    "collapsed": true
   },
   "outputs": [],
   "source": [
    "#area over which the data are calculated\n",
    "#x minimum, x maximum, y minimum and y maximum\n",
    "area = [-10000, 10000, -10000, 10000] \n",
    "\n",
    "#number of data along the y and x directions\n",
    "shape = (80,80)\n",
    "\n",
    "#total number of data\n",
    "N = shape[0]*shape[1]\n",
    "\n",
    "#coordinates x and y of the data\n",
    "x = np.linspace(area[0],area[1],shape[0]) # points in x\n",
    "y = np.linspace(area[2],area[3],shape[0]) # points in y\n",
    "xp,yp = np.meshgrid(x,y)    # creating mesh points\n",
    "xp = xp.ravel()\n",
    "yp = yp.ravel()\n",
    "\n",
    "#vertical coordinates of the data\n",
    "zp = -350. - 500.*utils.gaussian2d(xp, yp, 17000, 21000, 21000, 18500, angle=21) # relief"
   ]
  },
  {
   "cell_type": "markdown",
   "metadata": {},
   "source": [
    "### Parâmetros exigidos durante a inversão"
   ]
  },
  {
   "cell_type": "code",
   "execution_count": 5,
   "metadata": {
    "collapsed": true
   },
   "outputs": [],
   "source": [
    "lamb = 0.001 # Marquadt's parameter\n",
    "dlamb = 5.  # step for Marquadt's parameter\n",
    "\n",
    "# limits for parameters in meters\n",
    "rmin = -1.\n",
    "rmax = 4000.\n",
    "x0min = -4000.\n",
    "x0max = 4000.\n",
    "y0min = -4000.\n",
    "y0max = 4000."
   ]
  },
  {
   "cell_type": "code",
   "execution_count": 6,
   "metadata": {
    "collapsed": false
   },
   "outputs": [
    {
     "name": "stdout",
     "output_type": "stream",
     "text": [
      "[ 4000.  4000.  4000.  4000.  4000.  4000.]\n",
      "[ -1.00000000e+00  -1.00000000e+00  -1.00000000e+00  -1.00000000e+00\n",
      "  -4.00000000e+03  -4.00000000e+03]\n",
      "[ 4000.  4000.  4000.  4000.  4000.  4000.  4000.  4000.  4000.  4000.\n",
      "  4000.  4000.  4000.  4000.  4000.  4000.  4000.  4000.]\n",
      "[ -1.00000000e+00  -1.00000000e+00  -1.00000000e+00  -1.00000000e+00\n",
      "  -4.00000000e+03  -4.00000000e+03  -1.00000000e+00  -1.00000000e+00\n",
      "  -1.00000000e+00  -1.00000000e+00  -4.00000000e+03  -4.00000000e+03\n",
      "  -1.00000000e+00  -1.00000000e+00  -1.00000000e+00  -1.00000000e+00\n",
      "  -4.00000000e+03  -4.00000000e+03]\n"
     ]
    }
   ],
   "source": [
    "mmax = np.zeros(M+2)\n",
    "mmin = np.zeros(M+2)\n",
    "\n",
    "mmax[:M] = rmax\n",
    "mmax[M] = x0max\n",
    "mmax[M+1] = y0max\n",
    "mmin[:M] = rmin\n",
    "mmin[M] = x0min\n",
    "mmin[M+1] = y0min\n",
    "\n",
    "print mmax\n",
    "print mmin\n",
    "\n",
    "mmax = np.resize(mmax, P)\n",
    "mmin = np.resize(mmin, P)\n",
    "\n",
    "print mmax\n",
    "print mmin"
   ]
  },
  {
   "cell_type": "code",
   "execution_count": 7,
   "metadata": {
    "collapsed": false
   },
   "outputs": [],
   "source": [
    "delta = 10. # increment of derivatives\n",
    "\n",
    "m_out = np.zeros(M + 2)  # outcropping body parameters\n",
    "\n",
    "preg = 0.1000 # regularization parameter"
   ]
  },
  {
   "cell_type": "markdown",
   "metadata": {
    "collapsed": false
   },
   "source": [
    "# Gerando os dados preditos"
   ]
  },
  {
   "cell_type": "code",
   "execution_count": 8,
   "metadata": {
    "collapsed": false
   },
   "outputs": [],
   "source": [
    "m = mfun.param_vec(l, M, L) # true parameters vector"
   ]
  },
  {
   "cell_type": "code",
   "execution_count": 9,
   "metadata": {
    "collapsed": false
   },
   "outputs": [
    {
     "data": {
      "text/plain": [
       "18"
      ]
     },
     "execution_count": 9,
     "metadata": {},
     "output_type": "execute_result"
    }
   ],
   "source": [
    "mmax.size"
   ]
  },
  {
   "cell_type": "code",
   "execution_count": 10,
   "metadata": {
    "collapsed": true
   },
   "outputs": [],
   "source": [
    "model = mfun.pol2cart(l, M, L) # list of classes of prisms"
   ]
  },
  {
   "cell_type": "code",
   "execution_count": 11,
   "metadata": {
    "collapsed": false
   },
   "outputs": [],
   "source": [
    "d = polyprism.tf(xp, yp, zp, model, inc, dec) # predict data"
   ]
  },
  {
   "cell_type": "code",
   "execution_count": 12,
   "metadata": {
    "collapsed": false
   },
   "outputs": [
    {
     "data": {
      "image/png": "[encoded data removed]",
      "text/plain": [
       "<matplotlib.figure.Figure at 0x7f084a9b4a10>"
      ]
     },
     "metadata": {},
     "output_type": "display_data"
    }
   ],
   "source": [
    "plt.figure(figsize=(15,10))\n",
    "plt.subplot(1,3,1)\n",
    "plt.title(\"Predicted data (nT)\", fontsize = 18)\n",
    "plt.axis('scaled')\n",
    "nlevels = mpl.contourf(yp, xp, d,shape, 15, cmap='RdBu_r')\n",
    "plt.xlabel('East y (km)')\n",
    "plt.ylabel('North x (km)')\n",
    "plt.colorbar(pad=0.01, aspect=20, shrink=0.4).set_label('nT')\n",
    "for p in model:\n",
    "    mpl.polygon(p, '.-k', xy2ne=True)\n",
    "mpl.m2km()\n",
    "plt.show()"
   ]
  },
  {
   "cell_type": "markdown",
   "metadata": {},
   "source": [
    "# Algoritmo Levenberg-Marquadt"
   ]
  },
  {
   "cell_type": "markdown",
   "metadata": {},
   "source": [
    "1- Iteração $k=0$: chute inicial $\\mathbf{m}_0$ em que todos os elementos satisfaçam os vínculos de desigualdade e um valor real positivo grande para $\\lambda$"
   ]
  },
  {
   "cell_type": "markdown",
   "metadata": {},
   "source": [
    "2) Calcula os parâmetros transformados $\\breve{\\mathbf{m}}_k$"
   ]
  },
  {
   "cell_type": "markdown",
   "metadata": {},
   "source": [
    "Os parâmetros transformados são calculados a partir da equação:\n",
    "\n",
    "\\begin{equation}\n",
    "\\breve{m}_i = f(m_i) = - \\ln\\left(\\frac{m_{i\\, max} - m_i}{m_i - m_{i\\, min}}\\right)\n",
    "\\end{equation}"
   ]
  },
  {
   "cell_type": "markdown",
   "metadata": {},
   "source": [
    "A transformação inversa dos parâmetros é dada pela equação:\n",
    "\n",
    "\\begin{equation}\n",
    "m_i = f^{-1}(\\breve{m}_i) = m_{i\\, min} + \\left(\\frac{m_{i\\, max} - m_{i\\, min}}{1 + e^{-\\breve{m}_i}}\\right)\n",
    "\\end{equation}"
   ]
  },
  {
   "cell_type": "markdown",
   "metadata": {},
   "source": [
    "3) laço externo: calcula $\\nabla^2\\Gamma (\\hat{\\mathbf{m}}_k)$, $\\nabla\\Gamma (\\hat{\\mathbf{m}}_k)$ e $T(\\hat{\\mathbf{m}}_k)$:"
   ]
  },
  {
   "cell_type": "code",
   "execution_count": 13,
   "metadata": {
    "collapsed": false
   },
   "outputs": [],
   "source": [
    "#props={'magnetization': utils.ang2vec(3, inc, dec)} # physical property\n",
    "\n",
    "#z0 = 0.    # depth of the top the shallowest prism\n",
    "\n",
    "rini = np.full((M),(3000.))\n",
    "\n",
    "lini = []   # list of parameters of each prisms\n",
    "\n",
    "### creating the list of prisms\n",
    "for i in range(L):\n",
    "    lini.append([rini, x0[i], y0[i], z0 + dz*i, z0 + dz*(i + 1), props])"
   ]
  },
  {
   "cell_type": "code",
   "execution_count": 21,
   "metadata": {
    "collapsed": true
   },
   "outputs": [],
   "source": [
    "alpha1 = 0.001\n",
    "alpha2 = alpha1\n",
    "alpha3 = 0.\n",
    "alpha4 = 0.\n",
    "alpha5 = alpha1\n",
    "alpha6 = alpha1"
   ]
  },
  {
   "cell_type": "code",
   "execution_count": 22,
   "metadata": {
    "collapsed": false
   },
   "outputs": [
    {
     "name": "stdout",
     "output_type": "stream",
     "text": [
      "0 1540.0570917 0 100114.705719 0.001\n",
      "0 1540.0570917 1 100149.128914 0.005\n",
      "0 1540.0570917 2 100317.536362 0.025\n",
      "0 1540.0570917 3 101076.330831 0.125\n",
      "0 1540.0570917 4 103542.169777 0.625\n",
      "0 1540.0570917 5 107096.188817 3.125\n",
      "0 1540.0570917 6 108922.651992 15.625\n",
      "0 1540.0570917 7 109409.672748 78.125\n",
      "0 1540.0570917 8 109513.684488 390.625\n",
      "0 1540.0570917 9 109534.770571 1953.125\n",
      "1 109534.770571 0 109533.537801 9765.625\n",
      "1 109534.770571 1 109529.308955 1953.125\n",
      "1 109534.770571 2 109508.222318 390.625\n",
      "1 109534.770571 3 109404.207924 78.125\n",
      "1 109534.770571 4 108917.176358 15.625\n",
      "1 109534.770571 5 107090.695337 3.125\n",
      "1 109534.770571 6 103536.73944 0.625\n",
      "1 109534.770571 7 101071.01798 0.125\n",
      "1 109534.770571 8 100312.271608 0.025\n",
      "1 109534.770571 9 100143.875592 0.005\n",
      "2 100143.875592 0 90904.5001068 0.001\n",
      "2 100143.875592 1 90898.4230885 0.0002\n",
      "2 100143.875592 2 90897.2066904 4e-05\n",
      "2 100143.875592 3 90896.963371 8e-06\n",
      "2 100143.875592 4 90896.9147055 1.6e-06\n",
      "2 100143.875592 5 90896.9049723 3.2e-07\n",
      "2 100143.875592 6 90896.9030257 6.4e-08\n",
      "2 100143.875592 7 90896.9026364 1.28e-08\n",
      "2 100143.875592 8 90896.9025585 2.56e-09\n",
      "2 100143.875592 9 90896.9025429 5.12e-10\n",
      "3 90896.9025429 0 82407.9893887 1.024e-10\n",
      "3 90896.9025429 1 82407.9893882 2.048e-11\n",
      "3 90896.9025429 2 82407.9893881 4.096e-12\n",
      "3 90896.9025429 3 82407.9893881 8.192e-13\n",
      "3 90896.9025429 4 82407.9893881 1.6384e-13\n",
      "3 90896.9025429 5 82407.9893881 3.2768e-14\n",
      "3 90896.9025429 6 82407.9893881 6.5536e-15\n",
      "3 90896.9025429 7 82407.9893881 1.31072e-15\n",
      "3 90896.9025429 8 82407.9893881 2.62144e-16\n",
      "3 90896.9025429 9 82407.9893881 5.24288e-17\n",
      "4 82407.9893881 0 74962.4478315 1.048576e-17\n",
      "4 82407.9893881 1 74962.4478315 2.097152e-18\n",
      "4 82407.9893881 2 74962.4478315 4.194304e-19\n",
      "4 82407.9893881 3 74962.4478315 8.388608e-20\n",
      "4 82407.9893881 4 74962.4478315 1.6777216e-20\n",
      "4 82407.9893881 5 74962.4478315 3.3554432e-21\n",
      "4 82407.9893881 6 74962.4478315 6.7108864e-22\n",
      "4 82407.9893881 7 74962.4478315 1.34217728e-22\n",
      "4 82407.9893881 8 74962.4478315 2.68435456e-23\n",
      "4 82407.9893881 9 74962.4478315 5.36870912e-24\n",
      "5 74962.4478315 0 68776.559832 1.073741824e-24\n",
      "5 74962.4478315 1 68776.559832 2.147483648e-25\n",
      "5 74962.4478315 2 68776.559832 4.294967296e-26\n",
      "5 74962.4478315 3 68776.559832 8.589934592e-27\n",
      "5 74962.4478315 4 68776.559832 1.7179869184e-27\n",
      "5 74962.4478315 5 68776.559832 3.4359738368e-28\n",
      "5 74962.4478315 6 68776.559832 6.8719476736e-29\n",
      "5 74962.4478315 7 68776.559832 1.37438953472e-29\n",
      "5 74962.4478315 8 68776.559832 2.74877906944e-30\n",
      "5 74962.4478315 9 68776.559832 5.49755813888e-31\n",
      "6 68776.559832 0 63915.0067178 1.09951162778e-31\n",
      "6 68776.559832 1 63915.0067178 2.19902325555e-32\n",
      "6 68776.559832 2 63915.0067178 4.3980465111e-33\n",
      "6 68776.559832 3 63915.0067178 8.79609302221e-34\n",
      "6 68776.559832 4 63915.0067178 1.75921860444e-34\n",
      "6 68776.559832 5 63915.0067178 3.51843720888e-35\n",
      "6 68776.559832 6 63915.0067178 7.03687441777e-36\n",
      "6 68776.559832 7 63915.0067178 1.40737488355e-36\n",
      "6 68776.559832 8 63915.0067178 2.81474976711e-37\n",
      "6 68776.559832 9 63915.0067178 5.62949953421e-38\n",
      "7 63915.0067178 0 60256.0175472 1.12589990684e-38\n",
      "7 63915.0067178 1 60256.0175472 2.25179981369e-39\n",
      "7 63915.0067178 2 60256.0175472 4.50359962737e-40\n",
      "7 63915.0067178 3 60256.0175472 9.00719925474e-41\n",
      "7 63915.0067178 4 60256.0175472 1.80143985095e-41\n",
      "7 63915.0067178 5 60256.0175472 3.6028797019e-42\n",
      "7 63915.0067178 6 60256.0175472 7.20575940379e-43\n",
      "7 63915.0067178 7 60256.0175472 1.44115188076e-43\n",
      "7 63915.0067178 8 60256.0175472 2.88230376152e-44\n",
      "7 63915.0067178 9 60256.0175472 5.76460752303e-45\n",
      "8 60256.0175472 0 57538.082597 1.15292150461e-45\n",
      "8 60256.0175472 1 57538.082597 2.30584300921e-46\n",
      "8 60256.0175472 2 57538.082597 4.61168601843e-47\n",
      "8 60256.0175472 3 57538.082597 9.22337203685e-48\n",
      "8 60256.0175472 4 57538.082597 1.84467440737e-48\n",
      "8 60256.0175472 5 57538.082597 3.68934881474e-49\n",
      "8 60256.0175472 6 57538.082597 7.37869762948e-50\n",
      "8 60256.0175472 7 57538.082597 1.4757395259e-50\n",
      "8 60256.0175472 8 57538.082597 2.95147905179e-51\n",
      "8 60256.0175472 9 57538.082597 5.90295810359e-52\n",
      "9 57538.082597 0 55503.857518 1.18059162072e-52\n",
      "9 57538.082597 1 55503.857518 2.36118324143e-53\n",
      "9 57538.082597 2 55503.857518 4.72236648287e-54\n",
      "9 57538.082597 3 55503.857518 9.44473296574e-55\n",
      "9 57538.082597 4 55503.857518 1.88894659315e-55\n",
      "9 57538.082597 5 55503.857518 3.7778931863e-56\n",
      "9 57538.082597 6 55503.857518 7.55578637259e-57\n",
      "9 57538.082597 7 55503.857518 1.51115727452e-57\n",
      "9 57538.082597 8 55503.857518 3.02231454904e-58\n",
      "9 57538.082597 9 55503.857518 6.04462909807e-59\n",
      "10 55503.857518 0 53968.1397635 1.20892581961e-59\n",
      "10 55503.857518 1 53968.1397635 2.41785163923e-60\n",
      "10 55503.857518 2 53968.1397635 4.83570327846e-61\n",
      "10 55503.857518 3 53968.1397635 9.67140655692e-62\n",
      "10 55503.857518 4 53968.1397635 1.93428131138e-62\n",
      "10 55503.857518 5 53968.1397635 3.86856262277e-63\n",
      "10 55503.857518 6 53968.1397635 7.73712524553e-64\n",
      "10 55503.857518 7 53968.1397635 1.54742504911e-64\n",
      "10 55503.857518 8 53968.1397635 3.09485009821e-65\n",
      "10 55503.857518 9 53968.1397635 6.18970019643e-66\n",
      "11 53968.1397635 0 52803.2887119 1.23794003929e-66\n",
      "11 53968.1397635 1 52803.2887119 2.47588007857e-67\n",
      "11 53968.1397635 2 52803.2887119 4.95176015714e-68\n",
      "11 53968.1397635 3 52803.2887119 9.90352031428e-69\n",
      "11 53968.1397635 4 52803.2887119 1.98070406286e-69\n",
      "11 53968.1397635 5 52803.2887119 3.96140812571e-70\n",
      "11 53968.1397635 6 52803.2887119 7.92281625143e-71\n",
      "11 53968.1397635 7 52803.2887119 1.58456325029e-71\n",
      "11 53968.1397635 8 52803.2887119 3.16912650057e-72\n",
      "11 53968.1397635 9 52803.2887119 6.33825300114e-73\n",
      "12 52803.2887119 0 51917.6360508 1.26765060023e-73\n",
      "12 52803.2887119 1 51917.6360508 2.53530120046e-74\n",
      "12 52803.2887119 2 51917.6360508 5.07060240091e-75\n",
      "12 52803.2887119 3 51917.6360508 1.01412048018e-75\n",
      "12 52803.2887119 4 51917.6360508 2.02824096037e-76\n",
      "12 52803.2887119 5 51917.6360508 4.05648192073e-77\n",
      "12 52803.2887119 6 51917.6360508 8.11296384146e-78\n",
      "12 52803.2887119 7 51917.6360508 1.62259276829e-78\n",
      "12 52803.2887119 8 51917.6360508 3.24518553658e-79\n",
      "12 52803.2887119 9 51917.6360508 6.49037107317e-80\n",
      "13 51917.6360508 0 51243.1553735 1.29807421463e-80\n",
      "13 51917.6360508 1 51243.1553735 2.59614842927e-81\n",
      "13 51917.6360508 2 51243.1553735 5.19229685853e-82\n",
      "13 51917.6360508 3 51243.1553735 1.03845937171e-82\n",
      "13 51917.6360508 4 51243.1553735 2.07691874341e-83\n",
      "13 51917.6360508 5 51243.1553735 4.15383748683e-84\n",
      "13 51917.6360508 6 51243.1553735 8.30767497366e-85\n",
      "13 51917.6360508 7 51243.1553735 1.66153499473e-85\n",
      "13 51917.6360508 8 51243.1553735 3.32306998946e-86\n",
      "13 51917.6360508 9 51243.1553735 6.64613997892e-87\n",
      "14 51243.1553735 0 50728.6511327 1.32922799578e-87\n",
      "14 51243.1553735 1 50728.6511327 2.65845599157e-88\n",
      "14 51243.1553735 2 50728.6511327 5.31691198314e-89\n",
      "14 51243.1553735 3 50728.6511327 1.06338239663e-89\n",
      "14 51243.1553735 4 50728.6511327 2.12676479326e-90\n",
      "14 51243.1553735 5 50728.6511327 4.25352958651e-91\n",
      "14 51243.1553735 6 50728.6511327 8.50705917302e-92\n",
      "14 51243.1553735 7 50728.6511327 1.7014118346e-92\n",
      "14 51243.1553735 8 50728.6511327 3.40282366921e-93\n",
      "14 51243.1553735 9 50728.6511327 6.80564733842e-94\n",
      "15 50728.6511327 0 50335.4420268 1.36112946768e-94\n",
      "15 50728.6511327 1 50335.4420268 2.72225893537e-95\n",
      "15 50728.6511327 2 50335.4420268 5.44451787074e-96\n",
      "15 50728.6511327 3 50335.4420268 1.08890357415e-96\n",
      "15 50728.6511327 4 50335.4420268 2.17780714829e-97\n",
      "15 50728.6511327 5 50335.4420268 4.35561429659e-98\n",
      "15 50728.6511327 6 50335.4420268 8.71122859318e-99\n",
      "15 50728.6511327 7 50335.4420268 1.74224571864e-99\n",
      "15 50728.6511327 8 50335.4420268 3.48449143727e-100\n",
      "15 50728.6511327 9 50335.4420268 6.96898287454e-101\n",
      "16 50335.4420268 0 50034.2806206 1.39379657491e-101\n",
      "16 50335.4420268 1 50034.2806206 2.78759314982e-102\n",
      "16 50335.4420268 2 50034.2806206 5.57518629963e-103\n",
      "16 50335.4420268 3 50034.2806206 1.11503725993e-103\n",
      "16 50335.4420268 4 50034.2806206 2.23007451985e-104\n",
      "16 50335.4420268 5 50034.2806206 4.46014903971e-105\n",
      "16 50335.4420268 6 50034.2806206 8.92029807941e-106\n",
      "16 50335.4420268 7 50034.2806206 1.78405961588e-106\n",
      "16 50335.4420268 8 50034.2806206 3.56811923176e-107\n",
      "16 50335.4420268 9 50034.2806206 7.13623846353e-108\n",
      "17 50034.2806206 0 49803.0439426 1.42724769271e-108\n",
      "17 50034.2806206 1 49803.0439426 2.85449538541e-109\n",
      "17 50034.2806206 2 49803.0439426 5.70899077082e-110\n",
      "17 50034.2806206 3 49803.0439426 1.14179815416e-110\n",
      "17 50034.2806206 4 49803.0439426 2.28359630833e-111\n",
      "17 50034.2806206 5 49803.0439426 4.56719261666e-112\n",
      "17 50034.2806206 6 49803.0439426 9.13438523332e-113\n",
      "17 50034.2806206 7 49803.0439426 1.82687704666e-113\n",
      "17 50034.2806206 8 49803.0439426 3.65375409333e-114\n",
      "17 50034.2806206 9 49803.0439426 7.30750818665e-115\n",
      "18 49803.0439426 0 49624.985558 1.46150163733e-115\n",
      "18 49803.0439426 1 49624.985558 2.92300327466e-116\n",
      "18 49803.0439426 2 49624.985558 5.84600654932e-117\n",
      "18 49803.0439426 3 49624.985558 1.16920130986e-117\n",
      "18 49803.0439426 4 49624.985558 2.33840261973e-118\n",
      "18 49803.0439426 5 49624.985558 4.67680523946e-119\n",
      "18 49803.0439426 6 49624.985558 9.35361047892e-120\n",
      "18 49803.0439426 7 49624.985558 1.87072209578e-120\n",
      "18 49803.0439426 8 49624.985558 3.74144419157e-121\n",
      "18 49803.0439426 9 49624.985558 7.48288838313e-122\n",
      "19 49624.985558 0 49487.4155243 1.49657767663e-122\n",
      "19 49624.985558 1 49487.4155243 2.99315535325e-123\n",
      "19 49624.985558 2 49487.4155243 5.98631070651e-124\n",
      "19 49624.985558 3 49487.4155243 1.1972621413e-124\n",
      "19 49624.985558 4 49487.4155243 2.3945242826e-125\n",
      "19 49624.985558 5 49487.4155243 4.78904856521e-126\n",
      "19 49624.985558 6 49487.4155243 9.57809713041e-127\n",
      "19 49624.985558 7 49487.4155243 1.91561942608e-127\n",
      "19 49624.985558 8 49487.4155243 3.83123885216e-128\n",
      "19 49624.985558 9 49487.4155243 7.66247770433e-129\n",
      "20 49487.4155243 0 49380.7063699 1.53249554087e-129\n",
      "20 49487.4155243 1 49380.7063699 3.06499108173e-130\n",
      "20 49487.4155243 2 49380.7063699 6.12998216346e-131\n",
      "20 49487.4155243 3 49380.7063699 1.22599643269e-131\n",
      "20 49487.4155243 4 49380.7063699 2.45199286539e-132\n",
      "20 49487.4155243 5 49380.7063699 4.90398573077e-133\n",
      "20 49487.4155243 6 49380.7063699 9.80797146154e-134\n",
      "20 49487.4155243 7 49380.7063699 1.96159429231e-134\n",
      "20 49487.4155243 8 49380.7063699 3.92318858462e-135\n",
      "20 49487.4155243 9 49380.7063699 7.84637716923e-136\n",
      "21 49380.7063699 0 49297.5454097 1.56927543385e-136\n",
      "21 49380.7063699 1 49297.5454097 3.13855086769e-137\n",
      "21 49380.7063699 2 49297.5454097 6.27710173539e-138\n",
      "21 49380.7063699 3 49297.5454097 1.25542034708e-138\n",
      "21 49380.7063699 4 49297.5454097 2.51084069415e-139\n",
      "21 49380.7063699 5 49297.5454097 5.02168138831e-140\n",
      "21 49380.7063699 6 49297.5454097 1.00433627766e-140\n",
      "21 49380.7063699 7 49297.5454097 2.00867255532e-141\n",
      "21 49380.7063699 8 49297.5454097 4.01734511065e-142\n",
      "21 49380.7063699 9 49297.5454097 8.03469022129e-143\n",
      "22 49297.5454097 0 49232.3720789 1.60693804426e-143\n",
      "22 49297.5454097 1 49232.3720789 3.21387608852e-144\n",
      "22 49297.5454097 2 49232.3720789 6.42775217704e-145\n",
      "22 49297.5454097 3 49232.3720789 1.28555043541e-145\n",
      "22 49297.5454097 4 49232.3720789 2.57110087081e-146\n",
      "22 49297.5454097 5 49232.3720789 5.14220174163e-147\n",
      "22 49297.5454097 6 49232.3720789 1.02844034833e-147\n",
      "22 49297.5454097 7 49232.3720789 2.05688069665e-148\n",
      "22 49297.5454097 8 49232.3720789 4.1137613933e-149\n",
      "22 49297.5454097 9 49232.3720789 8.22752278661e-150\n",
      "23 49232.3720789 0 49180.9539129 1.64550455732e-150\n",
      "23 49232.3720789 1 49180.9539129 3.29100911464e-151\n",
      "23 49232.3720789 2 49180.9539129 6.58201822928e-152\n",
      "23 49232.3720789 3 49180.9539129 1.31640364586e-152\n",
      "23 49232.3720789 4 49180.9539129 2.63280729171e-153\n",
      "23 49232.3720789 5 49180.9539129 5.26561458343e-154\n",
      "23 49232.3720789 6 49180.9539129 1.05312291669e-154\n",
      "23 49232.3720789 7 49180.9539129 2.10624583337e-155\n",
      "23 49232.3720789 8 49180.9539129 4.21249166674e-156\n",
      "23 49232.3720789 9 49180.9539129 8.42498333348e-157\n",
      "24 49180.9539129 0 49140.0664458 1.6849966667e-157\n",
      "24 49180.9539129 1 49140.0664458 3.36999333339e-158\n",
      "24 49180.9539129 2 49140.0664458 6.73998666679e-159\n",
      "24 49180.9539129 3 49140.0664458 1.34799733336e-159\n",
      "24 49180.9539129 4 49140.0664458 2.69599466672e-160\n",
      "24 49180.9539129 5 49140.0664458 5.39198933343e-161\n",
      "24 49180.9539129 6 49140.0664458 1.07839786669e-161\n",
      "24 49180.9539129 7 49140.0664458 2.15679573337e-162\n",
      "24 49180.9539129 8 49140.0664458 4.31359146674e-163\n",
      "24 49180.9539129 9 49140.0664458 8.62718293349e-164\n",
      "25 49140.0664458 0 49107.25113 1.7254365867e-164\n",
      "25 49140.0664458 1 49107.25113 3.4508731734e-165\n",
      "25 49140.0664458 2 49107.25113 6.90174634679e-166\n",
      "25 49140.0664458 3 49107.25113 1.38034926936e-166\n",
      "25 49140.0664458 4 49107.25113 2.76069853872e-167\n",
      "25 49140.0664458 5 49107.25113 5.52139707743e-168\n",
      "25 49140.0664458 6 49107.25113 1.10427941549e-168\n",
      "25 49140.0664458 7 49107.25113 2.20855883097e-169\n",
      "25 49140.0664458 8 49107.25113 4.41711766195e-170\n",
      "25 49140.0664458 9 49107.25113 8.83423532389e-171\n",
      "26 49107.25113 0 49080.6319622 1.76684706478e-171\n",
      "26 49107.25113 1 49080.6319622 3.53369412956e-172\n",
      "26 49107.25113 2 49080.6319622 7.06738825911e-173\n",
      "26 49107.25113 3 49080.6319622 1.41347765182e-173\n",
      "26 49107.25113 4 49080.6319622 2.82695530365e-174\n",
      "26 49107.25113 5 49080.6319622 5.65391060729e-175\n",
      "26 49107.25113 6 49080.6319622 1.13078212146e-175\n",
      "26 49107.25113 7 49080.6319622 2.26156424292e-176\n",
      "26 49107.25113 8 49080.6319622 4.52312848583e-177\n",
      "26 49107.25113 9 49080.6319622 9.04625697167e-178\n",
      "27 49080.6319622 0 49058.7763861 1.80925139433e-178\n",
      "27 49080.6319622 1 49058.7763861 3.61850278867e-179\n",
      "27 49080.6319622 2 49058.7763861 7.23700557733e-180\n",
      "27 49080.6319622 3 49058.7763861 1.44740111547e-180\n",
      "27 49080.6319622 4 49058.7763861 2.89480223093e-181\n",
      "27 49080.6319622 5 49058.7763861 5.78960446187e-182\n",
      "27 49080.6319622 6 49058.7763861 1.15792089237e-182\n",
      "27 49080.6319622 7 49058.7763861 2.31584178475e-183\n",
      "27 49080.6319622 8 49058.7763861 4.63168356949e-184\n",
      "27 49080.6319622 9 49058.7763861 9.26336713899e-185\n",
      "28 49058.7763861 0 49040.5896563 1.8526734278e-185\n",
      "28 49058.7763861 1 49040.5896563 3.70534685559e-186\n",
      "28 49058.7763861 2 49040.5896563 7.41069371119e-187\n",
      "28 49058.7763861 3 49040.5896563 1.48213874224e-187\n",
      "28 49058.7763861 4 49040.5896563 2.96427748448e-188\n",
      "28 49058.7763861 5 49040.5896563 5.92855496895e-189\n",
      "28 49058.7763861 6 49040.5896563 1.18571099379e-189\n",
      "28 49058.7763861 7 49040.5896563 2.37142198758e-190\n",
      "28 49058.7763861 8 49040.5896563 4.74284397516e-191\n",
      "28 49058.7763861 9 49040.5896563 9.48568795032e-192\n",
      "29 49040.5896563 0 49025.2345363 1.89713759006e-192\n",
      "29 49040.5896563 1 49025.2345363 3.79427518013e-193\n",
      "29 49040.5896563 2 49025.2345363 7.58855036026e-194\n",
      "29 49040.5896563 3 49025.2345363 1.51771007205e-194\n",
      "29 49040.5896563 4 49025.2345363 3.0354201441e-195\n",
      "29 49040.5896563 5 49025.2345363 6.07084028821e-196\n",
      "29 49040.5896563 6 49025.2345363 1.21416805764e-196\n",
      "29 49040.5896563 7 49025.2345363 2.42833611528e-197\n",
      "29 49040.5896563 8 49025.2345363 4.85667223056e-198\n",
      "29 49040.5896563 9 49025.2345363 9.71334446113e-199\n",
      "30 49025.2345363 0 49012.0702076 1.94266889223e-199\n",
      "30 49025.2345363 1 49012.0702076 3.88533778445e-200\n",
      "30 49025.2345363 2 49012.0702076 7.7706755689e-201\n",
      "30 49025.2345363 3 49012.0702076 1.55413511378e-201\n",
      "30 49025.2345363 4 49012.0702076 3.10827022756e-202\n",
      "30 49025.2345363 5 49012.0702076 6.21654045512e-203\n",
      "30 49025.2345363 6 49012.0702076 1.24330809102e-203\n",
      "30 49025.2345363 7 49012.0702076 2.48661618205e-204\n",
      "30 49025.2345363 8 49012.0702076 4.9732323641e-205\n",
      "30 49025.2345363 9 49012.0702076 9.9464647282e-206\n",
      "31 49012.0702076 0 49000.60576 1.98929294564e-206\n",
      "31 49012.0702076 1 49000.60576 3.97858589128e-207\n",
      "31 49012.0702076 2 49000.60576 7.95717178256e-208\n",
      "31 49012.0702076 3 49000.60576 1.59143435651e-208\n",
      "31 49012.0702076 4 49000.60576 3.18286871302e-209\n",
      "31 49012.0702076 5 49000.60576 6.36573742605e-210\n",
      "31 49012.0702076 6 49000.60576 1.27314748521e-210\n",
      "31 49012.0702076 7 49000.60576 2.54629497042e-211\n",
      "31 49012.0702076 8 49000.60576 5.09258994084e-212\n",
      "31 49012.0702076 9 49000.60576 1.01851798817e-212\n",
      "32 49000.60576 0 48990.464765 2.03703597633e-213\n",
      "32 49000.60576 1 48990.464765 4.07407195267e-214\n",
      "32 49000.60576 2 48990.464765 8.14814390534e-215\n",
      "32 49000.60576 3 48990.464765 1.62962878107e-215\n",
      "32 49000.60576 4 48990.464765 3.25925756214e-216\n",
      "32 49000.60576 5 48990.464765 6.51851512427e-217\n",
      "32 49000.60576 6 48990.464765 1.30370302485e-217\n",
      "32 49000.60576 7 48990.464765 2.60740604971e-218\n",
      "32 49000.60576 8 48990.464765 5.21481209942e-219\n",
      "32 49000.60576 9 48990.464765 1.04296241988e-219\n",
      "33 48990.464765 0 48981.358274 2.08592483977e-220\n",
      "33 48990.464765 1 48981.358274 4.17184967953e-221\n",
      "33 48990.464765 2 48981.358274 8.34369935907e-222\n",
      "33 48990.464765 3 48981.358274 1.66873987181e-222\n",
      "33 48990.464765 4 48981.358274 3.33747974363e-223\n",
      "33 48990.464765 5 48981.358274 6.67495948725e-224\n",
      "33 48990.464765 6 48981.358274 1.33499189745e-224\n",
      "33 48990.464765 7 48981.358274 2.6699837949e-225\n",
      "33 48990.464765 8 48981.358274 5.3399675898e-226\n",
      "33 48990.464765 9 48981.358274 1.06799351796e-226\n",
      "34 48981.358274 0 48973.0642296 2.13598703592e-227\n",
      "34 48981.358274 1 48973.0642296 4.27197407184e-228\n",
      "34 48981.358274 2 48973.0642296 8.54394814368e-229\n",
      "34 48981.358274 3 48973.0642296 1.70878962874e-229\n",
      "34 48981.358274 4 48973.0642296 3.41757925747e-230\n",
      "34 48981.358274 5 48973.0642296 6.83515851495e-231\n",
      "34 48981.358274 6 48973.0642296 1.36703170299e-231\n",
      "34 48981.358274 7 48973.0642296 2.73406340598e-232\n",
      "34 48981.358274 8 48973.0642296 5.46812681196e-233\n",
      "34 48981.358274 9 48973.0642296 1.09362536239e-233\n",
      "35 48973.0642296 0 48965.4117583 2.18725072478e-234\n",
      "35 48973.0642296 1 48965.4117583 4.37450144957e-235\n",
      "35 48973.0642296 2 48965.4117583 8.74900289913e-236\n",
      "35 48973.0642296 3 48965.4117583 1.74980057983e-236\n",
      "35 48973.0642296 4 48965.4117583 3.49960115965e-237\n",
      "35 48973.0642296 5 48965.4117583 6.99920231931e-238\n",
      "35 48973.0642296 6 48965.4117583 1.39984046386e-238\n",
      "35 48973.0642296 7 48965.4117583 2.79968092772e-239\n",
      "35 48973.0642296 8 48965.4117583 5.59936185544e-240\n",
      "35 48973.0642296 9 48965.4117583 1.11987237109e-240\n",
      "36 48965.4117583 0 48958.269181 2.23974474218e-241\n",
      "36 48965.4117583 1 48958.269181 4.47948948436e-242\n",
      "36 48965.4117583 2 48958.269181 8.95897896871e-243\n",
      "36 48965.4117583 3 48958.269181 1.79179579374e-243\n",
      "36 48965.4117583 4 48958.269181 3.58359158748e-244\n",
      "36 48965.4117583 5 48958.269181 7.16718317497e-245\n",
      "36 48965.4117583 6 48958.269181 1.43343663499e-245\n",
      "36 48965.4117583 7 48958.269181 2.86687326999e-246\n",
      "36 48965.4117583 8 48958.269181 5.73374653998e-247\n",
      "36 48965.4117583 9 48958.269181 1.146749308e-247\n",
      "37 48958.269181 0 48951.5348566 2.29349861599e-248\n",
      "37 48958.269181 1 48951.5348566 4.58699723198e-249\n",
      "37 48958.269181 2 48951.5348566 9.17399446396e-250\n",
      "37 48958.269181 3 48951.5348566 1.83479889279e-250\n",
      "37 48958.269181 4 48951.5348566 3.66959778558e-251\n",
      "37 48958.269181 5 48951.5348566 7.33919557117e-252\n",
      "37 48958.269181 6 48951.5348566 1.46783911423e-252\n",
      "37 48958.269181 7 48951.5348566 2.93567822847e-253\n",
      "37 48958.269181 8 48951.5348566 5.87135645693e-254\n",
      "37 48958.269181 9 48951.5348566 1.17427129139e-254\n",
      "38 48951.5348566 0 48945.1301859 2.34854258277e-255\n",
      "38 48951.5348566 1 48945.1301859 4.69708516555e-256\n",
      "38 48951.5348566 2 48945.1301859 9.3941703311e-257\n",
      "38 48951.5348566 3 48945.1301859 1.87883406622e-257\n",
      "38 48951.5348566 4 48945.1301859 3.75766813244e-258\n",
      "38 48951.5348566 5 48945.1301859 7.51533626488e-259\n",
      "38 48951.5348566 6 48945.1301859 1.50306725298e-259\n",
      "38 48951.5348566 7 48945.1301859 3.00613450595e-260\n",
      "38 48951.5348566 8 48945.1301859 6.0122690119e-261\n",
      "38 48951.5348566 9 48945.1301859 1.20245380238e-261\n",
      "39 48945.1301859 0 48938.9942616 2.40490760476e-262\n",
      "39 48945.1301859 1 48938.9942616 4.80981520952e-263\n",
      "39 48945.1301859 2 48938.9942616 9.61963041904e-264\n",
      "39 48945.1301859 3 48938.9942616 1.92392608381e-264\n",
      "39 48945.1301859 4 48938.9942616 3.84785216762e-265\n",
      "39 48945.1301859 5 48938.9942616 7.69570433523e-266\n",
      "39 48945.1301859 6 48938.9942616 1.53914086705e-266\n",
      "39 48945.1301859 7 48938.9942616 3.07828173409e-267\n",
      "39 48945.1301859 8 48938.9942616 6.15656346819e-268\n",
      "39 48945.1301859 9 48938.9942616 1.23131269364e-268\n",
      "40 48938.9942616 0 48933.0797761 2.46262538727e-269\n",
      "40 48938.9942616 1 48933.0797761 4.92525077455e-270\n",
      "40 48938.9942616 2 48933.0797761 9.8505015491e-271\n",
      "40 48938.9942616 3 48933.0797761 1.97010030982e-271\n",
      "40 48938.9942616 4 48933.0797761 3.94020061964e-272\n",
      "40 48938.9942616 5 48933.0797761 7.88040123928e-273\n",
      "40 48938.9942616 6 48933.0797761 1.57608024786e-273\n",
      "40 48938.9942616 7 48933.0797761 3.15216049571e-274\n",
      "40 48938.9942616 8 48933.0797761 6.30432099142e-275\n",
      "40 48938.9942616 9 48933.0797761 1.26086419828e-275\n",
      "41 48933.0797761 0 48927.3498868 2.52172839657e-276\n",
      "41 48933.0797761 1 48927.3498868 5.04345679314e-277\n",
      "41 48933.0797761 2 48927.3498868 1.00869135863e-277\n",
      "41 48933.0797761 3 48927.3498868 2.01738271726e-278\n",
      "41 48933.0797761 4 48927.3498868 4.03476543451e-279\n",
      "41 48933.0797761 5 48927.3498868 8.06953086902e-280\n",
      "41 48933.0797761 6 48927.3498868 1.6139061738e-280\n",
      "41 48933.0797761 7 48927.3498868 3.22781234761e-281\n",
      "41 48933.0797761 8 48927.3498868 6.45562469522e-282\n",
      "41 48933.0797761 9 48927.3498868 1.29112493904e-282\n",
      "42 48927.3498868 0 48921.7758157 2.58224987809e-283\n",
      "42 48927.3498868 1 48921.7758157 5.16449975617e-284\n",
      "42 48927.3498868 2 48921.7758157 1.03289995123e-284\n",
      "42 48927.3498868 3 48921.7758157 2.06579990247e-285\n",
      "42 48927.3498868 4 48921.7758157 4.13159980494e-286\n",
      "42 48927.3498868 5 48921.7758157 8.26319960988e-287\n",
      "42 48927.3498868 6 48921.7758157 1.65263992198e-287\n",
      "42 48927.3498868 7 48921.7758157 3.30527984395e-288\n",
      "42 48927.3498868 8 48921.7758157 6.6105596879e-289\n",
      "42 48927.3498868 9 48921.7758157 1.32211193758e-289\n",
      "43 48921.7758157 0 48916.3350073 2.64422387516e-290\n",
      "43 48921.7758157 1 48916.3350073 5.28844775032e-291\n",
      "43 48921.7758157 2 48916.3350073 1.05768955006e-291\n",
      "43 48921.7758157 3 48916.3350073 2.11537910013e-292\n",
      "43 48921.7758157 4 48916.3350073 4.23075820026e-293\n",
      "43 48921.7758157 5 48916.3350073 8.46151640052e-294\n",
      "43 48921.7758157 6 48916.3350073 1.6923032801e-294\n",
      "43 48921.7758157 7 48916.3350073 3.38460656021e-295\n",
      "43 48921.7758157 8 48916.3350073 6.76921312041e-296\n",
      "43 48921.7758157 9 48916.3350073 1.35384262408e-296\n",
      "44 48916.3350073 0 48911.009715 2.70768524816e-297\n",
      "44 48916.3350073 1 48911.009715 5.41537049633e-298\n",
      "44 48916.3350073 2 48911.009715 1.08307409927e-298\n",
      "44 48916.3350073 3 48911.009715 2.16614819853e-299\n",
      "44 48916.3350073 4 48911.009715 4.33229639706e-300\n",
      "44 48916.3350073 5 48911.009715 8.66459279413e-301\n",
      "44 48916.3350073 6 48911.009715 1.73291855883e-301\n",
      "44 48916.3350073 7 48911.009715 3.46583711765e-302\n",
      "44 48916.3350073 8 48911.009715 6.9316742353e-303\n",
      "44 48916.3350073 9 48911.009715 1.38633484706e-303\n",
      "45 48911.009715 0 48905.7859147 2.77266969412e-304\n",
      "45 48911.009715 1 48905.7859147 5.54533938824e-305\n",
      "45 48911.009715 2 48905.7859147 1.10906787765e-305\n",
      "45 48911.009715 3 48905.7859147 2.2181357553e-306\n",
      "45 48911.009715 4 48905.7859147 4.43627151059e-307\n",
      "45 48911.009715 5 48905.7859147 8.87254302119e-308\n",
      "45 48911.009715 6 48905.7859147 1.77450860424e-308\n",
      "45 48911.009715 7 48905.7859147 3.54901720847e-309\n",
      "45 48911.009715 8 48905.7859147 7.09803441695e-310\n",
      "45 48911.009715 9 48905.7859147 1.41960688339e-310\n",
      "46 48905.7859147 0 48900.6524695 2.83921376678e-311\n",
      "46 48905.7859147 1 48900.6524695 5.67842753356e-312\n",
      "46 48905.7859147 2 48900.6524695 1.13568550671e-312\n",
      "46 48905.7859147 3 48900.6524695 2.2713710134e-313\n",
      "46 48905.7859147 4 48900.6524695 4.54274202671e-314\n",
      "46 48905.7859147 5 48900.6524695 9.08548405441e-315\n",
      "46 48905.7859147 6 48900.6524695 1.81709681088e-315\n",
      "46 48905.7859147 7 48900.6524695 3.63419363164e-316\n",
      "46 48905.7859147 8 48900.6524695 7.26838746092e-317\n",
      "46 48905.7859147 9 48900.6524695 1.45367749218e-317\n",
      "47 48900.6524695 0 48895.6004854 2.90735399624e-318\n",
      "47 48900.6524695 1 48895.6004854 5.81470799247e-319\n",
      "47 48900.6524695 2 48895.6004854 1.16293171718e-319\n",
      "47 48900.6524695 3 48895.6004854 2.32606106062e-320\n",
      "47 48900.6524695 4 48895.6004854 4.65409838382e-321\n",
      "47 48900.6524695 5 48895.6004854 9.28843414182e-322\n",
      "47 48900.6524695 6 48895.6004854 1.8774494542e-322\n",
      "47 48900.6524695 7 48895.6004854 3.95252516673e-323\n",
      "47 48900.6524695 8 48895.6004854 9.88131291682e-324\n",
      "47 48900.6524695 9 48895.6004854 0.0\n",
      "48 48895.6004854 0 48890.6228155 0.0\n",
      "48 48895.6004854 1 48890.6228155 0.0\n",
      "48 48895.6004854 2 48890.6228155 0.0\n",
      "48 48895.6004854 3 48890.6228155 0.0\n",
      "48 48895.6004854 4 48890.6228155 0.0\n",
      "48 48895.6004854 5 48890.6228155 0.0\n",
      "48 48895.6004854 6 48890.6228155 0.0\n",
      "48 48895.6004854 7 48890.6228155 0.0\n",
      "48 48895.6004854 8 48890.6228155 0.0\n",
      "48 48895.6004854 9 48890.6228155 0.0\n",
      "49 48890.6228155 0 48885.7136765 0.0\n",
      "49 48890.6228155 1 48885.7136765 0.0\n",
      "49 48890.6228155 2 48885.7136765 0.0\n",
      "49 48890.6228155 3 48885.7136765 0.0\n",
      "49 48890.6228155 4 48885.7136765 0.0\n",
      "49 48890.6228155 5 48885.7136765 0.0\n",
      "49 48890.6228155 6 48885.7136765 0.0\n",
      "49 48890.6228155 7 48885.7136765 0.0\n",
      "49 48890.6228155 8 48885.7136765 0.0\n",
      "49 48890.6228155 9 48885.7136765 0.0\n"
     ]
    }
   ],
   "source": [
    "itmax = 50\n",
    "itmax_marq = 10\n",
    "epsilon = 0.0001\n",
    "lamb = 0.001\n",
    "dlamb = 5.\n",
    "l0 = deepcopy(lini)\n",
    "m0 = mfun.param_vec(l0, M, L) # inicial parameters vector\n",
    "model0 = mfun.pol2cart(l0, M, L) # list of classes of prisms\n",
    "d0 = polyprism.tf(xp, yp, zp, model0, inc, dec) # predict data\n",
    "dif = d - d0\n",
    "phi0 = np.sum(dif*dif)/xp.size\n",
    "phi_list = [phi0]\n",
    "\n",
    "i,j = np.diag_indices(P)\n",
    "\n",
    "for it in range(itmax):\n",
    "    #mt = mfun.trans_parameter(m0, M, L, rmin, rmax, x0min, x0max, y0min, y0max) # transformated parameters vector\n",
    "    mt = mfun.trans_parameter2(m0, M, L, mmax, mmin)\n",
    "    \n",
    "    grad = mfun.gradient_data(xp, yp, zp, l0, M, L, d, delta, delta, delta, inc, dec)\n",
    "    grad = mfun.gradient_phi_1(M, L, grad, alpha1)\n",
    "    grad = mfun.gradient_phi_2(M, L, grad, alpha2)\n",
    "    grad = mfun.gradient_phi_3(M, L, grad, m_out, alpha3)\n",
    "    grad = mfun.gradient_phi_4(M, L, grad, m_out[-2:], alpha4)\n",
    "    grad = mfun.gradient_phi_5(M, L, grad, alpha5)\n",
    "    grad = mfun.gradient_phi_6(M, L, grad, alpha6)\n",
    "    \n",
    "    H = mfun.Hessian_data(xp, yp, zp, l0, M, L, delta, delta, delta, inc, dec)\n",
    "    H = mfun.Hessian_phi_1(M, L, H, alpha1)\n",
    "    H = mfun.Hessian_phi_2(M, L, H, alpha2)\n",
    "    H = mfun.Hessian_phi_3(M, L, H, alpha3)\n",
    "    H = mfun.Hessian_phi_4(M, L, H, alpha4)\n",
    "    H = mfun.Hessian_phi_5(M, L, H, alpha5)\n",
    "    H = mfun.Hessian_phi_6(M, L, H, alpha6)\n",
    "    \n",
    "    # Diagonal da matriz de positividade\n",
    "    T = ((mmax - m0)*(m0 - mmin))/(mmax - mmin)\n",
    "    \n",
    "    for it_marq in range(itmax_marq): \n",
    "        \n",
    "        S = H.copy()\n",
    "        S[i,:] *= T\n",
    "        S[i,j] += lamb\n",
    "    \n",
    "        delta_mt = np.linalg.solve(S, -grad)\n",
    "        m_est = mfun.trans_inv_parameter2(mt + delta_mt, M, L, mmax, mmin)\n",
    "        l_est = mfun.param2model(m_est, M, L, z0, dz, props)\n",
    "        model_est = mfun.pol2cart(l_est, M, L)\n",
    "        d_est = polyprism.tf(xp, yp, zp, model_est, inc, dec)\n",
    "        res = d - d0\n",
    "        phi = np.sum(res*res)/xp.size\n",
    "        phi += (mfun.phi_1(M, L, m_est, alpha1) + mfun.phi_2(M, L, m_est, alpha2) + \\\n",
    "                mfun.phi_3(M, L, m_est, m_out, alpha3) + mfun.phi_4(M, L, m_est, m_out[-2:], alpha4) + \\\n",
    "                mfun.phi_5(M, L, m_est, alpha5) + mfun.phi_6(M, L, m_est, alpha6))\n",
    "        \n",
    "        dphi = phi - phi0\n",
    "\n",
    "        #print it, phi0, it_marq, phi, lamb\n",
    "        \n",
    "        if (dphi > 0.):\n",
    "            lamb *= dlamb\n",
    "        else:\n",
    "            lamb /= dlamb\n",
    "            \n",
    "    if (abs((phi0 - phi)/phi0) > epsilon):\n",
    "        d0 = d_est\n",
    "        m0 = m_est\n",
    "        l0 = l_est\n",
    "        phi0 = phi\n",
    "        phi_list.append(phi0)\n",
    "    else:\n",
    "        break"
   ]
  },
  {
   "cell_type": "code",
   "execution_count": 23,
   "metadata": {
    "collapsed": false
   },
   "outputs": [
    {
     "data": {
      "text/plain": [
       "array([  1.93271791e+03,   1.93209139e+03,   1.93052563e+03,\n",
       "         1.93144070e+03,  -3.89315250e+00,  -1.74530341e+00,\n",
       "         2.01389648e+03,   2.01355160e+03,   2.01440196e+03,\n",
       "         2.01517204e+03,  -3.88148359e+00,  -4.21240888e+00,\n",
       "         2.10238915e+03,   2.10244648e+03,   2.10112309e+03,\n",
       "         2.10175633e+03,   1.01284332e+01,   8.37128530e+00])"
      ]
     },
     "execution_count": 23,
     "metadata": {},
     "output_type": "execute_result"
    }
   ],
   "source": [
    "m0"
   ]
  },
  {
   "cell_type": "code",
   "execution_count": 24,
   "metadata": {
    "collapsed": false
   },
   "outputs": [
    {
     "data": {
      "image/png": "[encoded data removed]",
      "text/plain": [
       "<matplotlib.figure.Figure at 0x7f0847f4cd10>"
      ]
     },
     "metadata": {},
     "output_type": "display_data"
    }
   ],
   "source": [
    "mpl.figure(figsize=(15,10))\n",
    "mpl.subplot(1,3,1)\n",
    "mpl.title(\"Predicted data (nT)\", fontsize = 18)\n",
    "mpl.axis('scaled')\n",
    "nlevels = mpl.contourf(yp, xp, d0,shape, 15, cmap='RdBu_r')\n",
    "mpl.xlabel('East y (km)')\n",
    "mpl.ylabel('North x (km)')\n",
    "mpl.colorbar(pad=0.01, aspect=20, shrink=0.4).set_label('nT')\n",
    "mpl.m2km()\n",
    "mpl.show()"
   ]
  },
  {
   "cell_type": "code",
   "execution_count": 25,
   "metadata": {
    "collapsed": false
   },
   "outputs": [
    {
     "data": {
      "image/png": "[encoded data removed]",
      "text/plain": [
       "<matplotlib.figure.Figure at 0x7f0848568890>"
      ]
     },
     "metadata": {},
     "output_type": "display_data"
    }
   ],
   "source": [
    "ddif = d - d0\n",
    "mpl.figure(figsize=(15,10))\n",
    "mpl.subplot(1,3,1)\n",
    "mpl.title(\"Residual data (nT)\", fontsize = 18)\n",
    "mpl.axis('scaled')\n",
    "nlevels = mpl.contourf(yp, xp, ddif,shape, 15, cmap='RdBu_r')\n",
    "mpl.xlabel('East y (km)')\n",
    "mpl.ylabel('North x (km)')\n",
    "mpl.colorbar(pad=0.01, aspect=20, shrink=0.4).set_label('nT')\n",
    "mpl.m2km()\n",
    "mpl.show()"
   ]
  },
  {
   "cell_type": "code",
   "execution_count": 19,
   "metadata": {
    "collapsed": false
   },
   "outputs": [],
   "source": [
    "#m_volta = mfun.trans_inv_parameter(mt, M, L, rmin, rmax, x0min, x0max, y0min, y0max) # inverse transformation\n",
    "\n",
    "#np.allclose(m_volta, m0) # validation test\n",
    "\n",
    "# creating a model from the transformated parameters vector\n",
    "\n",
    "#ltrans = [] # list of parameters of each prisms\n",
    "\n",
    "#ii = i*(M+2)\n",
    "\n",
    "### creating the list of prisms\n",
    "#for i in range(L):\n",
    "#    ltrans.append([mt[ii:ii+M], mt[ii+M], mt[ii+(M+1)], z0 + dz*i, z0 + dz*(i + 1), props])\n",
    "\n",
    "#modeltrans = mfun.pol2cart(ltrans, M, L)"
   ]
  },
  {
   "cell_type": "code",
   "execution_count": 20,
   "metadata": {
    "collapsed": false
   },
   "outputs": [
    {
     "name": "stdout",
     "output_type": "stream",
     "text": [
      "[ 2004.94769288  2009.82807097  2014.17997712  2024.50212279     2.80089795\n",
      "     4.18337426  1963.93093878  1941.08319809  1959.63431401  1964.8177279\n",
      "    -2.30208604     6.708554    2038.51218273  2060.84315631  2027.42888717\n",
      "  2000.48680684    -2.28241089   -17.34423197]\n",
      "[ 2000.  2000.  2000.  2000.     0.     0.  2000.  2000.  2000.  2000.\n",
      "     0.     0.  2000.  2000.  2000.  2000.     0.     0.]\n"
     ]
    }
   ],
   "source": [
    "print m0\n",
    "print m"
   ]
  },
  {
   "cell_type": "markdown",
   "metadata": {},
   "source": [
    "a) laço interno: calcula $\\Delta \\breve{\\mathbf{m}}_k$ solucionando o sistema linear abaixo\n",
    "\n",
    "\\begin{equation}\n",
    "\\left[\\nabla^2\\Gamma (\\hat{\\mathbf{m}}_k) + \\lambda \\mathbf{I} \\right]\\mathbf{T}(\\hat{\\mathbf{m}}_k) \\Delta\\breve{\\mathbf{m}}_k \\approx - \\nabla \\Gamma (\\hat{\\mathbf{m}}_k)\n",
    "\\end{equation}\n",
    "\n",
    "onde $\\mathbf{T}(\\hat{\\mathbf{m}}_k)$ é uma matriz diagonal\n",
    "\\begin{equation}\n",
    "[\\mathbf{T}(\\hat{\\mathbf{m}}_k)]_{ii} = \\frac{(m_{i\\, max} - m_i)(m_i - m_{i\\, min})}{(m_{i\\, max} - m_{i\\, min})}\n",
    "\\end{equation}"
   ]
  },
  {
   "cell_type": "markdown",
   "metadata": {},
   "source": [
    "b) calcula $\\breve{\\mathbf{m}}_{k+1} = \\breve{\\mathbf{m}}_k + \\Delta\\breve{\\mathbf{m}}_k$"
   ]
  },
  {
   "cell_type": "markdown",
   "metadata": {},
   "source": [
    "c) computa $\\hat{\\mathbf{m}}_{k+1}$"
   ]
  },
  {
   "cell_type": "markdown",
   "metadata": {},
   "source": [
    "d) Enquanto $\\Gamma (\\hat{\\mathbf{m}}_{k+1})<\\Gamma (\\hat{\\mathbf{m}}_k)$ \n",
    "\n",
    "   i $\\lambda = \\lambda\\cdot d\\lambda$\n",
    "\n",
    "   ii retorne para 3)a)"
   ]
  },
  {
   "cell_type": "markdown",
   "metadata": {},
   "source": [
    "e) $\\lambda = \\lambda/d\\lambda$"
   ]
  },
  {
   "cell_type": "markdown",
   "metadata": {},
   "source": [
    "4) Enquanto $\\Gamma (\\hat{\\mathbf{m}}_{k+1})<\\Gamma (\\hat{\\mathbf{m}}_k)$ e $\\frac{|\\Gamma (\\hat{\\mathbf{m}}_{k+1})- \\Gamma (\\hat{\\mathbf{m}}_k)|}{|\\Gamma (\\hat{\\mathbf{m}}_k)|}>\\varepsilon$\n",
    "\n",
    "a) $k=k+1$\n",
    "\n",
    "b) Retorne para etapa 2)"
   ]
  }
 ],
 "metadata": {
  "anaconda-cloud": {},
  "kernelspec": {
   "display_name": "Python [default]",
   "language": "python",
   "name": "python2"
  },
  "language_info": {
   "codemirror_mode": {
    "name": "ipython",
    "version": 2
   },
   "file_extension": ".py",
   "mimetype": "text/x-python",
   "name": "python",
   "nbconvert_exporter": "python",
   "pygments_lexer": "ipython2",
   "version": "2.7.12"
  }
 },
 "nbformat": 4,
 "nbformat_minor": 1
}
