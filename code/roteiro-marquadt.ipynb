{
 "cells": [
  {
   "cell_type": "markdown",
   "metadata": {},
   "source": [
    "# Roteiro Levenberg-Marquadt"
   ]
  },
  {
   "cell_type": "markdown",
   "metadata": {},
   "source": [
    "Esse código é um protótipo de função para a implementação do algoritmo de Levenberg-Marquadt, o qual é utilizado para estimar parâmetros não-lineares. "
   ]
  },
  {
   "cell_type": "markdown",
   "metadata": {},
   "source": [
    "\\begin{equation}\n",
    "\\Gamma (\\textbf{m}) = \\Psi (\\textbf{m}) + \\sum\\limits^{6}_{j=1}\\alpha_{j}\\varphi_{j}(\\textbf{m})\n",
    "\\end{equation}"
   ]
  },
  {
   "cell_type": "code",
   "execution_count": 1,
   "metadata": {
    "collapsed": true
   },
   "outputs": [],
   "source": [
    "%load_ext line_profiler"
   ]
  },
  {
   "cell_type": "code",
   "execution_count": 2,
   "metadata": {
    "collapsed": false
   },
   "outputs": [
    {
     "name": "stderr",
     "output_type": "stream",
     "text": [
      "/home/vital/anaconda2/lib/python2.7/site-packages/fatiando/vis/mpl.py:76: UserWarning: This module will be removed in v0.6. We recommend the use of matplotlib.pyplot module directly. Some of the fatiando specific functions will remain.\n",
      "  \"specific functions will remain.\")\n",
      "/home/vital/anaconda2/lib/python2.7/site-packages/fatiando/vis/myv.py:51: UserWarning: This module will be removed in v0.7.\n",
      "  warnings.warn(\"This module will be removed in v0.7.\")\n"
     ]
    }
   ],
   "source": [
    "import numpy as np\n",
    "import matplotlib.pyplot as plt\n",
    "from copy import deepcopy\n",
    "from __future__ import division\n",
    "from fatiando import mesher, gridder, utils\n",
    "from fatiando.gravmag import polyprism\n",
    "from fatiando.mesher import PolygonalPrism\n",
    "from fatiando.gravmag import prism\n",
    "from fatiando.mesher import Prism\n",
    "from fatiando.vis import mpl, myv\n",
    "from fatiando.constants import CM, T2NT\n",
    "from matplotlib import colors, ticker, cm\n",
    "from IPython.display import Image as img\n",
    "import mag_polyprism_functions as mfun\n",
    "import polyprism_tests as tests\n",
    "% matplotlib inline"
   ]
  },
  {
   "cell_type": "markdown",
   "metadata": {},
   "source": [
    "# Entrada"
   ]
  },
  {
   "cell_type": "markdown",
   "metadata": {},
   "source": [
    "### Parâmetros para o modelo direto"
   ]
  },
  {
   "cell_type": "code",
   "execution_count": 3,
   "metadata": {
    "collapsed": true
   },
   "outputs": [],
   "source": [
    "M = 8 # number of vertices per prism\n",
    "L = 10 # number of prisms\n",
    "P = L*(M+2) # number of parameters\n",
    "\n",
    "inc, dec = -60., 50. # inclination and declination of regional field\n",
    "incs, decs = 70., -50.      # wrong direction or remanent\n",
    "\n",
    "r = np.zeros(M) + 2000. # radial distance for each vertice\n",
    "#r = np.zeros(M)\n",
    "#r[::2] = 3000.\n",
    "#r[1::2] = np.sqrt(2.)*3000.\n",
    "\n",
    "# Cartesian coordinates of the origin of each prism\n",
    "x0 = np.zeros(L) \n",
    "y0 = np.zeros(L)\n",
    "\n",
    "dz = 100.0    # thickness of each prism"
   ]
  },
  {
   "cell_type": "code",
   "execution_count": 4,
   "metadata": {
    "collapsed": true
   },
   "outputs": [],
   "source": [
    "props={'magnetization': utils.ang2vec(3., inc, dec)} # physical property\n",
    "\n",
    "z0 = 0.    # depth of the top the shallowest prism\n",
    "\n",
    "l = []   # list of prisms\n",
    "\n",
    "### creating the lis of prisms\n",
    "\n",
    "for i in range(L):\n",
    "    l.append([r, x0[i], y0[i], z0 + dz*i, z0 + dz*(i + 1), props])"
   ]
  },
  {
   "cell_type": "markdown",
   "metadata": {},
   "source": [
    "### Pontos de observação"
   ]
  },
  {
   "cell_type": "code",
   "execution_count": 5,
   "metadata": {
    "collapsed": true
   },
   "outputs": [],
   "source": [
    "#area over which the data are calculated\n",
    "#x minimum, x maximum, y minimum and y maximum\n",
    "area = [-10000, 10000, -10000, 10000] \n",
    "\n",
    "#number of data along the y and x directions\n",
    "shape = (80,80)\n",
    "\n",
    "#total number of data\n",
    "N = shape[0]*shape[1]\n",
    "\n",
    "#coordinates x and y of the data\n",
    "x = np.linspace(area[0],area[1],shape[0]) # points in x\n",
    "y = np.linspace(area[2],area[3],shape[0]) # points in y\n",
    "xp,yp = np.meshgrid(x,y)    # creating mesh points\n",
    "xp = xp.ravel()\n",
    "yp = yp.ravel()\n",
    "\n",
    "#vertical coordinates of the data\n",
    "zp = -350. - 500.*utils.gaussian2d(xp, yp, 17000, 21000, 21000, 18500, angle=21) # relief"
   ]
  },
  {
   "cell_type": "markdown",
   "metadata": {},
   "source": [
    "### Parâmetros exigidos durante a inversão"
   ]
  },
  {
   "cell_type": "code",
   "execution_count": 6,
   "metadata": {
    "collapsed": true
   },
   "outputs": [],
   "source": [
    "lamb = 0.001 # Marquadt's parameter\n",
    "dlamb = 5.  # step for Marquadt's parameter\n",
    "\n",
    "# limits for parameters in meters\n",
    "rmin = -1.\n",
    "rmax = 4000.\n",
    "x0min = -4000.\n",
    "x0max = 4000.\n",
    "y0min = -4000.\n",
    "y0max = 4000."
   ]
  },
  {
   "cell_type": "code",
   "execution_count": 7,
   "metadata": {
    "collapsed": false
   },
   "outputs": [
    {
     "name": "stdout",
     "output_type": "stream",
     "text": [
      "[ 4000.  4000.  4000.  4000.  4000.  4000.  4000.  4000.  4000.  4000.]\n",
      "[ -1.00000000e+00  -1.00000000e+00  -1.00000000e+00  -1.00000000e+00\n",
      "  -1.00000000e+00  -1.00000000e+00  -1.00000000e+00  -1.00000000e+00\n",
      "  -4.00000000e+03  -4.00000000e+03]\n",
      "[ 4000.  4000.  4000.  4000.  4000.  4000.  4000.  4000.  4000.  4000.\n",
      "  4000.  4000.  4000.  4000.  4000.  4000.  4000.  4000.  4000.  4000.\n",
      "  4000.  4000.  4000.  4000.  4000.  4000.  4000.  4000.  4000.  4000.\n",
      "  4000.  4000.  4000.  4000.  4000.  4000.  4000.  4000.  4000.  4000.\n",
      "  4000.  4000.  4000.  4000.  4000.  4000.  4000.  4000.  4000.  4000.\n",
      "  4000.  4000.  4000.  4000.  4000.  4000.  4000.  4000.  4000.  4000.\n",
      "  4000.  4000.  4000.  4000.  4000.  4000.  4000.  4000.  4000.  4000.\n",
      "  4000.  4000.  4000.  4000.  4000.  4000.  4000.  4000.  4000.  4000.\n",
      "  4000.  4000.  4000.  4000.  4000.  4000.  4000.  4000.  4000.  4000.\n",
      "  4000.  4000.  4000.  4000.  4000.  4000.  4000.  4000.  4000.  4000.]\n",
      "[ -1.00000000e+00  -1.00000000e+00  -1.00000000e+00  -1.00000000e+00\n",
      "  -1.00000000e+00  -1.00000000e+00  -1.00000000e+00  -1.00000000e+00\n",
      "  -4.00000000e+03  -4.00000000e+03  -1.00000000e+00  -1.00000000e+00\n",
      "  -1.00000000e+00  -1.00000000e+00  -1.00000000e+00  -1.00000000e+00\n",
      "  -1.00000000e+00  -1.00000000e+00  -4.00000000e+03  -4.00000000e+03\n",
      "  -1.00000000e+00  -1.00000000e+00  -1.00000000e+00  -1.00000000e+00\n",
      "  -1.00000000e+00  -1.00000000e+00  -1.00000000e+00  -1.00000000e+00\n",
      "  -4.00000000e+03  -4.00000000e+03  -1.00000000e+00  -1.00000000e+00\n",
      "  -1.00000000e+00  -1.00000000e+00  -1.00000000e+00  -1.00000000e+00\n",
      "  -1.00000000e+00  -1.00000000e+00  -4.00000000e+03  -4.00000000e+03\n",
      "  -1.00000000e+00  -1.00000000e+00  -1.00000000e+00  -1.00000000e+00\n",
      "  -1.00000000e+00  -1.00000000e+00  -1.00000000e+00  -1.00000000e+00\n",
      "  -4.00000000e+03  -4.00000000e+03  -1.00000000e+00  -1.00000000e+00\n",
      "  -1.00000000e+00  -1.00000000e+00  -1.00000000e+00  -1.00000000e+00\n",
      "  -1.00000000e+00  -1.00000000e+00  -4.00000000e+03  -4.00000000e+03\n",
      "  -1.00000000e+00  -1.00000000e+00  -1.00000000e+00  -1.00000000e+00\n",
      "  -1.00000000e+00  -1.00000000e+00  -1.00000000e+00  -1.00000000e+00\n",
      "  -4.00000000e+03  -4.00000000e+03  -1.00000000e+00  -1.00000000e+00\n",
      "  -1.00000000e+00  -1.00000000e+00  -1.00000000e+00  -1.00000000e+00\n",
      "  -1.00000000e+00  -1.00000000e+00  -4.00000000e+03  -4.00000000e+03\n",
      "  -1.00000000e+00  -1.00000000e+00  -1.00000000e+00  -1.00000000e+00\n",
      "  -1.00000000e+00  -1.00000000e+00  -1.00000000e+00  -1.00000000e+00\n",
      "  -4.00000000e+03  -4.00000000e+03  -1.00000000e+00  -1.00000000e+00\n",
      "  -1.00000000e+00  -1.00000000e+00  -1.00000000e+00  -1.00000000e+00\n",
      "  -1.00000000e+00  -1.00000000e+00  -4.00000000e+03  -4.00000000e+03]\n"
     ]
    }
   ],
   "source": [
    "mmax = np.zeros(M+2)\n",
    "mmin = np.zeros(M+2)\n",
    "\n",
    "mmax[:M] = rmax\n",
    "mmax[M] = x0max\n",
    "mmax[M+1] = y0max\n",
    "mmin[:M] = rmin\n",
    "mmin[M] = x0min\n",
    "mmin[M+1] = y0min\n",
    "\n",
    "print mmax\n",
    "print mmin\n",
    "\n",
    "mmax = np.resize(mmax, P)\n",
    "mmin = np.resize(mmin, P)\n",
    "\n",
    "print mmax\n",
    "print mmin"
   ]
  },
  {
   "cell_type": "code",
   "execution_count": 8,
   "metadata": {
    "collapsed": false
   },
   "outputs": [],
   "source": [
    "delta = 10. # increment of derivatives\n",
    "\n",
    "m_out = np.zeros(M + 2)  # outcropping body parameters\n",
    "\n",
    "preg = 0.1000 # regularization parameter"
   ]
  },
  {
   "cell_type": "markdown",
   "metadata": {
    "collapsed": false
   },
   "source": [
    "# Gerando os dados preditos"
   ]
  },
  {
   "cell_type": "code",
   "execution_count": 9,
   "metadata": {
    "collapsed": false
   },
   "outputs": [],
   "source": [
    "m = mfun.param_vec(l, M, L) # true parameters vector"
   ]
  },
  {
   "cell_type": "code",
   "execution_count": 10,
   "metadata": {
    "collapsed": false
   },
   "outputs": [
    {
     "data": {
      "text/plain": [
       "100"
      ]
     },
     "execution_count": 10,
     "metadata": {},
     "output_type": "execute_result"
    }
   ],
   "source": [
    "mmax.size"
   ]
  },
  {
   "cell_type": "code",
   "execution_count": 11,
   "metadata": {
    "collapsed": true
   },
   "outputs": [],
   "source": [
    "model = mfun.pol2cart(l, M, L) # list of classes of prisms"
   ]
  },
  {
   "cell_type": "code",
   "execution_count": 12,
   "metadata": {
    "collapsed": false
   },
   "outputs": [],
   "source": [
    "d = polyprism.tf(xp, yp, zp, model, inc, dec) # predict data"
   ]
  },
  {
   "cell_type": "code",
   "execution_count": 13,
   "metadata": {
    "collapsed": false
   },
   "outputs": [],
   "source": [
    "noise = np.random.normal(loc=0., scale=5., size=shape[0]*shape[0]) "
   ]
  },
  {
   "cell_type": "code",
   "execution_count": 14,
   "metadata": {
    "collapsed": true
   },
   "outputs": [],
   "source": [
    "d += noise"
   ]
  },
  {
   "cell_type": "code",
   "execution_count": 15,
   "metadata": {
    "collapsed": false
   },
   "outputs": [
    {
     "data": {
      "image/png": "[encoded data removed]",
      "text/plain": [
       "<matplotlib.figure.Figure at 0x7f1b6d432890>"
      ]
     },
     "metadata": {},
     "output_type": "display_data"
    }
   ],
   "source": [
    "plt.figure(figsize=(15,10))\n",
    "plt.subplot(1,3,1)\n",
    "plt.title(\"Predicted data (nT)\", fontsize = 18)\n",
    "plt.axis('scaled')\n",
    "nlevels = mpl.contourf(yp, xp, d,shape, 15, cmap='RdBu_r')\n",
    "plt.xlabel('East y (km)')\n",
    "plt.ylabel('North x (km)')\n",
    "plt.colorbar(pad=0.01, aspect=20, shrink=0.4).set_label('nT')\n",
    "for p in model:\n",
    "    mpl.polygon(p, '.-k', xy2ne=True)\n",
    "mpl.m2km()\n",
    "plt.show()"
   ]
  },
  {
   "cell_type": "markdown",
   "metadata": {},
   "source": [
    "# Algoritmo Levenberg-Marquadt"
   ]
  },
  {
   "cell_type": "markdown",
   "metadata": {},
   "source": [
    "1- Iteração $k=0$: chute inicial $\\mathbf{m}_0$ em que todos os elementos satisfaçam os vínculos de desigualdade e um valor real positivo grande para $\\lambda$"
   ]
  },
  {
   "cell_type": "markdown",
   "metadata": {},
   "source": [
    "2) Calcula os parâmetros transformados $\\breve{\\mathbf{m}}_k$"
   ]
  },
  {
   "cell_type": "markdown",
   "metadata": {},
   "source": [
    "Os parâmetros transformados são calculados a partir da equação:\n",
    "\n",
    "\\begin{equation}\n",
    "\\breve{m}_i = f(m_i) = - \\ln\\left(\\frac{m_{i\\, max} - m_i}{m_i - m_{i\\, min}}\\right)\n",
    "\\end{equation}"
   ]
  },
  {
   "cell_type": "markdown",
   "metadata": {},
   "source": [
    "A transformação inversa dos parâmetros é dada pela equação:\n",
    "\n",
    "\\begin{equation}\n",
    "m_i = f^{-1}(\\breve{m}_i) = m_{i\\, min} + \\left(\\frac{m_{i\\, max} - m_{i\\, min}}{1 + e^{-\\breve{m}_i}}\\right)\n",
    "\\end{equation}"
   ]
  },
  {
   "cell_type": "markdown",
   "metadata": {},
   "source": [
    "3) laço externo: calcula $\\nabla^2\\Gamma (\\hat{\\mathbf{m}}_k)$, $\\nabla\\Gamma (\\hat{\\mathbf{m}}_k)$ e $T(\\hat{\\mathbf{m}}_k)$:"
   ]
  },
  {
   "cell_type": "code",
   "execution_count": 16,
   "metadata": {
    "collapsed": false
   },
   "outputs": [],
   "source": [
    "#props={'magnetization': utils.ang2vec(3, inc, dec)} # physical property\n",
    "\n",
    "#z0 = 0.    # depth of the top the shallowest prism\n",
    "\n",
    "rini = np.full((M),(3000.))\n",
    "\n",
    "lini = []   # list of parameters of each prisms\n",
    "\n",
    "### creating the list of prisms\n",
    "for i in range(L):\n",
    "    lini.append([rini, x0[i], y0[i], z0 + dz*i, z0 + dz*(i + 1), props])"
   ]
  },
  {
   "cell_type": "code",
   "execution_count": 17,
   "metadata": {
    "collapsed": true
   },
   "outputs": [],
   "source": [
    "alpha1 = 0.001\n",
    "alpha2 = 0.001\n",
    "alpha3 = 0.\n",
    "alpha4 = 0.\n",
    "alpha5 = alpha1\n",
    "alpha6 = 0.0001"
   ]
  },
  {
   "cell_type": "code",
   "execution_count": null,
   "metadata": {
    "collapsed": true
   },
   "outputs": [],
   "source": []
  },
  {
   "cell_type": "code",
   "execution_count": 18,
   "metadata": {
    "collapsed": false
   },
   "outputs": [],
   "source": [
    "def mq():\n",
    "    itmax = 50\n",
    "    itmax_marq = 20\n",
    "    epsilon = 0.0001\n",
    "    lamb = 0.001\n",
    "    dlamb = 5.\n",
    "    l0 = deepcopy(lini)\n",
    "    m0 = mfun.param_vec(l0, M, L) # inicial parameters vector\n",
    "    model0 = mfun.pol2cart(l0, M, L) # list of classes of prisms\n",
    "    d0 = polyprism.tf(xp, yp, zp, model0, inc, dec) # predict data\n",
    "    dif = d - d0\n",
    "    phi0 = np.sum(dif*dif)/xp.size\n",
    "    phi_list = [phi0]\n",
    "\n",
    "    i,j = np.diag_indices(P)\n",
    "\n",
    "    for it in range(itmax):\n",
    "        #mt = mfun.trans_parameter(m0, M, L, rmin, rmax, x0min, x0max, y0min, y0max) # transformated parameters vector\n",
    "        mt = mfun.trans_parameter2(m0, M, L, mmax, mmin)\n",
    "\n",
    "        grad = mfun.gradient_data(xp, yp, zp, l0, M, L, d, delta, delta, delta, inc, dec)\n",
    "        grad = mfun.gradient_phi_1(M, L, grad, alpha1)\n",
    "        grad = mfun.gradient_phi_2(M, L, grad, alpha2)\n",
    "        grad = mfun.gradient_phi_3(M, L, grad, m_out, alpha3)\n",
    "        grad = mfun.gradient_phi_4(M, L, grad, m_out[-2:], alpha4)\n",
    "        grad = mfun.gradient_phi_5(M, L, grad, alpha5)\n",
    "        grad = mfun.gradient_phi_6(M, L, grad, alpha6)\n",
    "\n",
    "        H = mfun.Hessian_data(xp, yp, zp, l0, M, L, delta, delta, delta, inc, dec)\n",
    "        H = mfun.Hessian_phi_1(M, L, H, alpha1)\n",
    "        H = mfun.Hessian_phi_2(M, L, H, alpha2)\n",
    "        H = mfun.Hessian_phi_3(M, L, H, alpha3)\n",
    "        H = mfun.Hessian_phi_4(M, L, H, alpha4)\n",
    "        H = mfun.Hessian_phi_5(M, L, H, alpha5)\n",
    "        H = mfun.Hessian_phi_6(M, L, H, alpha6)\n",
    "\n",
    "        # Diagonal da matriz de positividade\n",
    "        T = ((mmax - m0)*(m0 - mmin))/(mmax - mmin)\n",
    "\n",
    "        for it_marq in range(itmax_marq): \n",
    "\n",
    "            S = H.copy()\n",
    "            S[i,:] *= T\n",
    "            S[i,j] += lamb\n",
    "\n",
    "            delta_mt = np.linalg.solve(S, -grad)\n",
    "            m_est = mfun.trans_inv_parameter2(mt + delta_mt, M, L, mmax, mmin)\n",
    "            l_est = mfun.param2model(m_est, M, L, z0, dz, props)\n",
    "            model_est = mfun.pol2cart(l_est, M, L)\n",
    "            d_est = polyprism.tf(xp, yp, zp, model_est, inc, dec)\n",
    "            res = d - d0\n",
    "            phi = np.sum(res*res)/xp.size\n",
    "            phi += (mfun.phi_1(M, L, m_est, alpha1) + mfun.phi_2(M, L, m_est, alpha2) + \\\n",
    "                    mfun.phi_3(M, L, m_est, m_out, alpha3) + mfun.phi_4(M, L, m_est, m_out[-2:], alpha4) + \\\n",
    "                    mfun.phi_5(M, L, m_est, alpha5) + mfun.phi_6(M, L, m_est, alpha6))\n",
    "\n",
    "            dphi = phi - phi0\n",
    "\n",
    "            #print it, phi0, it_marq, phi, lamb\n",
    "\n",
    "            if (dphi > 0.):\n",
    "                lamb *= dlamb\n",
    "            else:\n",
    "                lamb /= dlamb\n",
    "\n",
    "        if (abs((phi0 - phi)/phi0) > epsilon):\n",
    "            d0 = d_est\n",
    "            m0 = m_est\n",
    "            l0 = l_est\n",
    "            phi0 = phi\n",
    "            phi_list.append(phi0)\n",
    "        else:\n",
    "            break"
   ]
  },
  {
   "cell_type": "code",
   "execution_count": 19,
   "metadata": {
    "collapsed": true
   },
   "outputs": [],
   "source": [
    "%lprun -f mq mq()"
   ]
  },
  {
   "cell_type": "code",
   "execution_count": 20,
   "metadata": {
    "collapsed": false
   },
   "outputs": [
    {
     "ename": "NameError",
     "evalue": "name 'd0' is not defined",
     "output_type": "error",
     "traceback": [
      "\u001b[0;31m---------------------------------------------------------------------------\u001b[0m",
      "\u001b[0;31mNameError\u001b[0m                                 Traceback (most recent call last)",
      "\u001b[0;32m<ipython-input-20-d4bd1ce66eb7>\u001b[0m in \u001b[0;36m<module>\u001b[0;34m()\u001b[0m\n\u001b[1;32m      3\u001b[0m \u001b[0mmpl\u001b[0m\u001b[0;34m.\u001b[0m\u001b[0mtitle\u001b[0m\u001b[0;34m(\u001b[0m\u001b[0;34m\"Predicted data (nT)\"\u001b[0m\u001b[0;34m,\u001b[0m \u001b[0mfontsize\u001b[0m \u001b[0;34m=\u001b[0m \u001b[0;36m18\u001b[0m\u001b[0;34m)\u001b[0m\u001b[0;34m\u001b[0m\u001b[0m\n\u001b[1;32m      4\u001b[0m \u001b[0mmpl\u001b[0m\u001b[0;34m.\u001b[0m\u001b[0maxis\u001b[0m\u001b[0;34m(\u001b[0m\u001b[0;34m'scaled'\u001b[0m\u001b[0;34m)\u001b[0m\u001b[0;34m\u001b[0m\u001b[0m\n\u001b[0;32m----> 5\u001b[0;31m \u001b[0mnlevels\u001b[0m \u001b[0;34m=\u001b[0m \u001b[0mmpl\u001b[0m\u001b[0;34m.\u001b[0m\u001b[0mcontourf\u001b[0m\u001b[0;34m(\u001b[0m\u001b[0myp\u001b[0m\u001b[0;34m,\u001b[0m \u001b[0mxp\u001b[0m\u001b[0;34m,\u001b[0m \u001b[0md0\u001b[0m\u001b[0;34m,\u001b[0m\u001b[0mshape\u001b[0m\u001b[0;34m,\u001b[0m \u001b[0;36m15\u001b[0m\u001b[0;34m,\u001b[0m \u001b[0mcmap\u001b[0m\u001b[0;34m=\u001b[0m\u001b[0;34m'RdBu_r'\u001b[0m\u001b[0;34m)\u001b[0m\u001b[0;34m\u001b[0m\u001b[0m\n\u001b[0m\u001b[1;32m      6\u001b[0m \u001b[0mmpl\u001b[0m\u001b[0;34m.\u001b[0m\u001b[0mxlabel\u001b[0m\u001b[0;34m(\u001b[0m\u001b[0;34m'East y (km)'\u001b[0m\u001b[0;34m)\u001b[0m\u001b[0;34m\u001b[0m\u001b[0m\n\u001b[1;32m      7\u001b[0m \u001b[0mmpl\u001b[0m\u001b[0;34m.\u001b[0m\u001b[0mylabel\u001b[0m\u001b[0;34m(\u001b[0m\u001b[0;34m'North x (km)'\u001b[0m\u001b[0;34m)\u001b[0m\u001b[0;34m\u001b[0m\u001b[0m\n",
      "\u001b[0;31mNameError\u001b[0m: name 'd0' is not defined"
     ]
    },
    {
     "data": {
      "image/png": "[encoded data removed]",
      "text/plain": [
       "<matplotlib.figure.Figure at 0x7f1b6aa8aed0>"
      ]
     },
     "metadata": {},
     "output_type": "display_data"
    }
   ],
   "source": [
    "mpl.figure(figsize=(15,10))\n",
    "mpl.subplot(1,3,1)\n",
    "mpl.title(\"Predicted data (nT)\", fontsize = 18)\n",
    "mpl.axis('scaled')\n",
    "nlevels = mpl.contourf(yp, xp, d0,shape, 15, cmap='RdBu_r')\n",
    "mpl.xlabel('East y (km)')\n",
    "mpl.ylabel('North x (km)')\n",
    "mpl.colorbar(pad=0.01, aspect=20, shrink=0.4).set_label('nT')\n",
    "mpl.m2km()\n",
    "mpl.show()"
   ]
  },
  {
   "cell_type": "code",
   "execution_count": null,
   "metadata": {
    "collapsed": false
   },
   "outputs": [],
   "source": [
    "ddif = d - d0\n",
    "mpl.figure(figsize=(15,10))\n",
    "mpl.subplot(1,3,1)\n",
    "mpl.title(\"Residual data (nT)\", fontsize = 18)\n",
    "mpl.axis('scaled')\n",
    "nlevels = mpl.contourf(yp, xp, ddif,shape, 15, cmap='RdBu_r')\n",
    "mpl.xlabel('East y (km)')\n",
    "mpl.ylabel('North x (km)')\n",
    "mpl.colorbar(pad=0.01, aspect=20, shrink=0.4).set_label('nT')\n",
    "mpl.m2km()\n",
    "mpl.show()"
   ]
  },
  {
   "cell_type": "code",
   "execution_count": null,
   "metadata": {
    "collapsed": false
   },
   "outputs": [],
   "source": [
    "#m_volta = mfun.trans_inv_parameter(mt, M, L, rmin, rmax, x0min, x0max, y0min, y0max) # inverse transformation\n",
    "\n",
    "#np.allclose(m_volta, m0) # validation test\n",
    "\n",
    "# creating a model from the transformated parameters vector\n",
    "\n",
    "#ltrans = [] # list of parameters of each prisms\n",
    "\n",
    "#ii = i*(M+2)\n",
    "\n",
    "### creating the list of prisms\n",
    "#for i in range(L):\n",
    "#    ltrans.append([mt[ii:ii+M], mt[ii+M], mt[ii+(M+1)], z0 + dz*i, z0 + dz*(i + 1), props])\n",
    "\n",
    "#modeltrans = mfun.pol2cart(ltrans, M, L)"
   ]
  },
  {
   "cell_type": "code",
   "execution_count": null,
   "metadata": {
    "collapsed": false
   },
   "outputs": [],
   "source": [
    "np.mean(d - d0), np.std(d - d0)"
   ]
  },
  {
   "cell_type": "code",
   "execution_count": null,
   "metadata": {
    "collapsed": false
   },
   "outputs": [],
   "source": [
    "print m0\n",
    "print m"
   ]
  },
  {
   "cell_type": "code",
   "execution_count": null,
   "metadata": {
    "collapsed": false
   },
   "outputs": [],
   "source": [
    "bounds = [-3000., 3000., -3000., 3000., -1000.0, 1000.]\n",
    "\n",
    "red, green, blue = (1, 0, 0), (0, 1, 0), (0, 0, 1)\n",
    "white, black = (1, 1, 1), (0, 0, 0),\n",
    "\n",
    "# Show the model\n",
    "scene = myv.figure()\n",
    "myv.polyprisms(model, 'magnetization', opacity=1., color=blue)\n",
    "myv.polyprisms(model_est, 'magnetization', opacity=.5, color=red)\n",
    "\n",
    "myv.axes(myv.outline(bounds), ranges=[i * 0.001 for i in bounds])\n",
    "\n",
    "scene.scene.camera.position = [-7807.4452530978979, -7807.4452530979024, -4486.7908303696386]\n",
    "scene.scene.camera.focal_point = [0.0, 0.0, 600.0]\n",
    "scene.scene.camera.view_angle = 30.0\n",
    "scene.scene.camera.view_up = [0.0, 0.0, -1.0]\n",
    "scene.scene.camera.clipping_range = [6256.115234984627, 19992.338744856861]\n",
    "scene.scene.camera.compute_view_plane_normal()\n",
    "scene.scene.render()\n",
    "\n",
    "myv.savefig('bolacha.png')\n",
    "myv.show()\n",
    "img(filename='bolacha.png')"
   ]
  },
  {
   "cell_type": "markdown",
   "metadata": {},
   "source": [
    "a) laço interno: calcula $\\Delta \\breve{\\mathbf{m}}_k$ solucionando o sistema linear abaixo\n",
    "\n",
    "\\begin{equation}\n",
    "\\left[\\nabla^2\\Gamma (\\hat{\\mathbf{m}}_k) + \\lambda \\mathbf{I} \\right]\\mathbf{T}(\\hat{\\mathbf{m}}_k) \\Delta\\breve{\\mathbf{m}}_k \\approx - \\nabla \\Gamma (\\hat{\\mathbf{m}}_k)\n",
    "\\end{equation}\n",
    "\n",
    "onde $\\mathbf{T}(\\hat{\\mathbf{m}}_k)$ é uma matriz diagonal\n",
    "\\begin{equation}\n",
    "[\\mathbf{T}(\\hat{\\mathbf{m}}_k)]_{ii} = \\frac{(m_{i\\, max} - m_i)(m_i - m_{i\\, min})}{(m_{i\\, max} - m_{i\\, min})}\n",
    "\\end{equation}"
   ]
  },
  {
   "cell_type": "markdown",
   "metadata": {},
   "source": [
    "b) calcula $\\breve{\\mathbf{m}}_{k+1} = \\breve{\\mathbf{m}}_k + \\Delta\\breve{\\mathbf{m}}_k$"
   ]
  },
  {
   "cell_type": "markdown",
   "metadata": {},
   "source": [
    "c) computa $\\hat{\\mathbf{m}}_{k+1}$"
   ]
  },
  {
   "cell_type": "markdown",
   "metadata": {},
   "source": [
    "d) Enquanto $\\Gamma (\\hat{\\mathbf{m}}_{k+1})<\\Gamma (\\hat{\\mathbf{m}}_k)$ \n",
    "\n",
    "   i $\\lambda = \\lambda\\cdot d\\lambda$\n",
    "\n",
    "   ii retorne para 3)a)"
   ]
  },
  {
   "cell_type": "markdown",
   "metadata": {},
   "source": [
    "e) $\\lambda = \\lambda/d\\lambda$"
   ]
  },
  {
   "cell_type": "markdown",
   "metadata": {},
   "source": [
    "4) Enquanto $\\Gamma (\\hat{\\mathbf{m}}_{k+1})<\\Gamma (\\hat{\\mathbf{m}}_k)$ e $\\frac{|\\Gamma (\\hat{\\mathbf{m}}_{k+1})- \\Gamma (\\hat{\\mathbf{m}}_k)|}{|\\Gamma (\\hat{\\mathbf{m}}_k)|}>\\varepsilon$\n",
    "\n",
    "a) $k=k+1$\n",
    "\n",
    "b) Retorne para etapa 2)"
   ]
  }
 ],
 "metadata": {
  "anaconda-cloud": {},
  "kernelspec": {
   "display_name": "Python 2",
   "language": "python",
   "name": "python2"
  },
  "language_info": {
   "codemirror_mode": {
    "name": "ipython",
    "version": 2
   },
   "file_extension": ".py",
   "mimetype": "text/x-python",
   "name": "python",
   "nbconvert_exporter": "python",
   "pygments_lexer": "ipython2",
   "version": "2.7.13"
  }
 },
 "nbformat": 4,
 "nbformat_minor": 1
}
