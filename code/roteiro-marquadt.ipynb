{
 "cells": [
  {
   "cell_type": "markdown",
   "metadata": {},
   "source": [
    "# Roteiro Levenberg-Marquadt"
   ]
  },
  {
   "cell_type": "markdown",
   "metadata": {},
   "source": [
    "Esse código é um protótipo de função para a implementação do algoritmo de Levenberg-Marquadt, o qual é utilizado para estimar parâmetros não-lineares. "
   ]
  },
  {
   "cell_type": "markdown",
   "metadata": {},
   "source": [
    "\\begin{equation}\n",
    "\\Gamma (\\textbf{m}) = \\Psi (\\textbf{m}) + \\mu \\sum\\limits^{6}_{j=1}\\alpha_{j}\\varphi_{j}(\\textbf{m})\n",
    "\\end{equation}"
   ]
  },
  {
   "cell_type": "code",
   "execution_count": 1,
   "metadata": {
    "collapsed": false
   },
   "outputs": [
    {
     "name": "stderr",
     "output_type": "stream",
     "text": [
      "/home/vital/anaconda2/lib/python2.7/site-packages/fatiando/vis/mpl.py:76: UserWarning: This module will be removed in v0.6. We recommend the use of matplotlib.pyplot module directly. Some of the fatiando specific functions will remain.\n",
      "  \"specific functions will remain.\")\n",
      "/home/vital/anaconda2/lib/python2.7/site-packages/fatiando/vis/myv.py:51: UserWarning: This module will be removed in v0.7.\n",
      "  warnings.warn(\"This module will be removed in v0.7.\")\n"
     ]
    }
   ],
   "source": [
    "import numpy as np\n",
    "import matplotlib.pyplot as plt\n",
    "from __future__ import division\n",
    "from fatiando import mesher, gridder, utils\n",
    "from fatiando.gravmag import polyprism\n",
    "from fatiando.mesher import PolygonalPrism\n",
    "from fatiando.gravmag import prism\n",
    "from fatiando.mesher import Prism\n",
    "from fatiando.vis import mpl, myv\n",
    "from fatiando.constants import CM, T2NT\n",
    "from matplotlib import colors, ticker, cm\n",
    "import mag_polyprism_functions as mfun\n",
    "import polyprism_tests as tests\n",
    "% matplotlib inline"
   ]
  },
  {
   "cell_type": "markdown",
   "metadata": {},
   "source": [
    "# Entrada"
   ]
  },
  {
   "cell_type": "markdown",
   "metadata": {},
   "source": [
    "### Parâmetros para o modelo direto"
   ]
  },
  {
   "cell_type": "code",
   "execution_count": 2,
   "metadata": {
    "collapsed": true
   },
   "outputs": [],
   "source": [
    "M = 3 # number of vertices per prism\n",
    "L = 3 # number of prisms\n",
    "P = L*(M+2) # number of parameters\n",
    "\n",
    "inc, dec = -60., 50. # inclination and declination of regional field\n",
    "incs, decs = 70., -50.      # wrong direction or remanent\n",
    "\n",
    "#r = 1000. # radial distance for each vertice\n",
    "r = np.zeros(M)\n",
    "r[::2] = 3000.\n",
    "r[1::2] = np.sqrt(2.)*3000.\n",
    "\n",
    "# Cartesian coordinates of the origin of each prism\n",
    "x0 = np.zeros(L) \n",
    "y0 = np.zeros(L)\n",
    "\n",
    "dz = 100.0    # thickness of each prism"
   ]
  },
  {
   "cell_type": "code",
   "execution_count": 3,
   "metadata": {
    "collapsed": true
   },
   "outputs": [],
   "source": [
    "props={'magnetization': utils.ang2vec(3, inc, dec)} # physical property\n",
    "\n",
    "z0 = 0.    # depth of the top the shallowest prism\n",
    "\n",
    "l = []   # list of prisms\n",
    "\n",
    "### creating the lis of prisms\n",
    "\n",
    "for i in range(L):\n",
    "    l.append([r, x0[i], y0[i], z0 + dz*i, z0 + dz*(i + 1), props])"
   ]
  },
  {
   "cell_type": "markdown",
   "metadata": {},
   "source": [
    "### Pontos de observação"
   ]
  },
  {
   "cell_type": "code",
   "execution_count": 4,
   "metadata": {
    "collapsed": true
   },
   "outputs": [],
   "source": [
    "#area over which the data are calculated\n",
    "#x minimum, x maximum, y minimum and y maximum\n",
    "area = [-10000, 10000, -10000, 10000] \n",
    "\n",
    "#number of data along the y and x directions\n",
    "shape = (80,80)\n",
    "\n",
    "#total number of data\n",
    "N = shape[0]*shape[1]\n",
    "\n",
    "#coordinates x and y of the data\n",
    "x = np.linspace(area[0],area[1],shape[0]) # points in x\n",
    "y = np.linspace(area[2],area[3],shape[0]) # points in y\n",
    "xp,yp = np.meshgrid(x,y)    # creating mesh points\n",
    "xp = xp.ravel()\n",
    "yp = yp.ravel()\n",
    "\n",
    "#vertical coordinates of the data\n",
    "zp = -350. - 500.*utils.gaussian2d(xp, yp, 17000, 21000, 21000, 18500, angle=21) # relief"
   ]
  },
  {
   "cell_type": "markdown",
   "metadata": {},
   "source": [
    "### Parâmetros exigidos durante a inversão"
   ]
  },
  {
   "cell_type": "code",
   "execution_count": 5,
   "metadata": {
    "collapsed": false
   },
   "outputs": [],
   "source": [
    "lamb = 0.001 # Marquadt's parameter\n",
    "dlamb = 10.  # step for Marquadt's parameter\n",
    "\n",
    "# limits for parameters in meters\n",
    "rmin = 100.\n",
    "rmax = 8000.\n",
    "x0min = -5000.\n",
    "x0max = 5000.\n",
    "y0min = -5000.\n",
    "y0max = 5000.\n",
    "\n",
    "delta = 10. # increment of derivatives\n",
    "\n",
    "m_out = np.zeros(M + 2)  # outcropping body parameters\n",
    "\n",
    "preg = 0.001 # regularization parameter"
   ]
  },
  {
   "cell_type": "markdown",
   "metadata": {
    "collapsed": false
   },
   "source": [
    "# Gerando os dados preditos"
   ]
  },
  {
   "cell_type": "code",
   "execution_count": 6,
   "metadata": {
    "collapsed": false
   },
   "outputs": [],
   "source": [
    "m = mfun.param_vec(l, M, L) # true parameters vector"
   ]
  },
  {
   "cell_type": "code",
   "execution_count": 7,
   "metadata": {
    "collapsed": true
   },
   "outputs": [],
   "source": [
    "model = mfun.pol2cart(l, M, L) # list of classes of prisms"
   ]
  },
  {
   "cell_type": "code",
   "execution_count": 8,
   "metadata": {
    "collapsed": false
   },
   "outputs": [],
   "source": [
    "d = polyprism.tf(xp, yp, zp, model, inc, dec) # predict data"
   ]
  },
  {
   "cell_type": "code",
   "execution_count": 9,
   "metadata": {
    "collapsed": false
   },
   "outputs": [
    {
     "data": {
      "image/png": "[encoded data removed]",
      "text/plain": [
       "<matplotlib.figure.Figure at 0x7f4bb5c19d50>"
      ]
     },
     "metadata": {},
     "output_type": "display_data"
    }
   ],
   "source": [
    "mpl.figure(figsize=(15,10))\n",
    "mpl.subplot(1,3,1)\n",
    "mpl.title(\"Predicted data (nT)\", fontsize = 18)\n",
    "mpl.axis('scaled')\n",
    "nlevels = mpl.contourf(yp, xp, d,shape, 15, cmap='RdBu_r')\n",
    "mpl.xlabel('East y (km)')\n",
    "mpl.ylabel('North x (km)')\n",
    "mpl.colorbar(pad=0.01, aspect=20, shrink=0.4).set_label('nT')\n",
    "mpl.m2km()\n",
    "mpl.show()"
   ]
  },
  {
   "cell_type": "markdown",
   "metadata": {},
   "source": [
    "# Algoritmo Levenberg-Marquadt"
   ]
  },
  {
   "cell_type": "markdown",
   "metadata": {},
   "source": [
    "1- Iteração $k=0$: chute inicial $\\mathbf{m}_0$ em que todos os elementos satisfaçam os vínculos de desigualdade e um valor real positivo grande para $\\lambda$"
   ]
  },
  {
   "cell_type": "code",
   "execution_count": 10,
   "metadata": {
    "collapsed": false
   },
   "outputs": [],
   "source": [
    "#props={'magnetization': utils.ang2vec(3, inc, dec)} # physical property\n",
    "\n",
    "#z0 = 0.    # depth of the top the shallowest prism\n",
    "\n",
    "rini = np.full((M),(5000.))\n",
    "\n",
    "lini = []   # list of parameters of each prisms\n",
    "\n",
    "### creating the list of prisms\n",
    "for i in range(L):\n",
    "    lini.append([rini, x0[i], y0[i], z0 + dz*i, z0 + dz*(i + 1), props])"
   ]
  },
  {
   "cell_type": "code",
   "execution_count": 11,
   "metadata": {
    "collapsed": false
   },
   "outputs": [],
   "source": [
    "m0 = mfun.param_vec(lini, M, L) # inicial parameters vector"
   ]
  },
  {
   "cell_type": "code",
   "execution_count": 12,
   "metadata": {
    "collapsed": true
   },
   "outputs": [],
   "source": [
    "model0 = mfun.pol2cart(lini, M, L) # list of classes of prisms"
   ]
  },
  {
   "cell_type": "code",
   "execution_count": 13,
   "metadata": {
    "collapsed": false
   },
   "outputs": [
    {
     "data": {
      "text/plain": [
       "3"
      ]
     },
     "execution_count": 13,
     "metadata": {},
     "output_type": "execute_result"
    }
   ],
   "source": [
    "len(model0)"
   ]
  },
  {
   "cell_type": "markdown",
   "metadata": {},
   "source": [
    "2) Calcula os parâmetros transformados $\\breve{\\mathbf{m}}_k$"
   ]
  },
  {
   "cell_type": "markdown",
   "metadata": {},
   "source": [
    "Os parâmetros transformados são calculados a partir da equação:\n",
    "\n",
    "\\begin{equation}\n",
    "\\breve{m}_i = f(m_i) = - \\ln\\left(\\frac{m_{i\\, max} - m_{i\\, min}}{m_i - m_{i\\, min}}\\right)\n",
    "\\end{equation}"
   ]
  },
  {
   "cell_type": "markdown",
   "metadata": {},
   "source": [
    "A transformação inversa dos parâmetros é dada pela equação:\n",
    "\n",
    "\\begin{equation}\n",
    "m_i = f^{-1}(\\breve{m}_i) = m_{i\\, min} + \\left(\\frac{m_{i\\, max} - m_{i\\, min}}{1 + e^{-\\breve{m}_i}}\\right)\n",
    "\\end{equation}"
   ]
  },
  {
   "cell_type": "markdown",
   "metadata": {},
   "source": [
    "3) laço externo: calcula $\\nabla^2\\Gamma (\\hat{\\mathbf{m}}_k)$, $\\nabla\\Gamma (\\hat{\\mathbf{m}}_k)$ e $T(\\hat{\\mathbf{m}}_k)$:"
   ]
  },
  {
   "cell_type": "code",
   "execution_count": 19,
   "metadata": {
    "collapsed": false
   },
   "outputs": [
    {
     "name": "stderr",
     "output_type": "stream",
     "text": [
      "mag_polyprism_functions.py:1105: RuntimeWarning: invalid value encountered in log\n",
      "  mt[i:M+i] = - np.log((rmax - m[i:M+i])/(m[i:M+i] - rmin))\n"
     ]
    }
   ],
   "source": [
    "itmax = 50\n",
    "itmax_marq = 15\n",
    "epsilon = 0.001\n",
    "m0 = mfun.param_vec(lini, M, L) # inicial parameters vector\n",
    "model0 = mfun.pol2cart(lini, M, L) # list of classes of prisms\n",
    "d0 = polyprism.tf(xp, yp, zp, model0, inc, dec) # predict data\n",
    "dif = d - d0\n",
    "phi0 = np.sum(dif*dif)\n",
    "phi_list = [phi0]\n",
    "\n",
    "for it in range(itmax):\n",
    "    mt = mfun.trans_parameter(m0, M, L, rmin, rmax, x0min, x0max, y0min, y0max) # transformated parameters vector\n",
    "\n",
    "    grad = mfun.gradient_data(xp, yp, zp, lini, M, L, d0, delta, delta, delta, inc, dec)\n",
    "    grad = mfun.gradient_phi_1(M, L, grad, preg)\n",
    "    grad = mfun.gradient_phi_2(M, L, grad, preg)\n",
    "    grad = mfun.gradient_phi_3(M, L, grad, m_out, preg)\n",
    "    grad = mfun.gradient_phi_4(M, L, grad, m_out[-2:], preg)\n",
    "    grad = mfun.gradient_phi_5(M, L, grad, preg)\n",
    "    grad = mfun.gradient_phi_6(M, L, grad, preg)\n",
    "    \n",
    "    H = mfun.Hessian_data(xp, yp, zp, lini, M, L, delta, delta, delta, inc, dec)\n",
    "    H = mfun.Hessian_phi_1(M, L, H, preg)\n",
    "    H = mfun.Hessian_phi_2(M, L, H, preg)\n",
    "    H = mfun.Hessian_phi_3(M, L, H, preg)\n",
    "    H = mfun.Hessian_phi_4(M, L, H, preg)\n",
    "    H = mfun.Hessian_phi_5(M, L, H, preg)\n",
    "    H = mfun.Hessian_phi_6(M, L, H, preg)\n",
    "    \n",
    "    T = np.zeros(P)\n",
    "    \n",
    "    for i in range(0, L*(M+2), M+2):\n",
    "        T[i:M+i] = (rmax - m0[i:M+i])*(m0[i:M+i] - rmin)/(rmax - rmin)\n",
    "        T[M+i] = (rmax - m0[M+i])*(m0[M+i] - rmin)/(rmax - rmin)\n",
    "        T[M+i+1] = (rmax - m0[M+i+1])*(m0[M+i+1] - rmin)/(rmax - rmin)\n",
    "    \n",
    "    i,j = np.diag_indices_from(H)\n",
    "    H[i,j] += lamb\n",
    "    H[i,:] *= T\n",
    "    \n",
    "    for it_marq in range(itmax_marq):\n",
    "        \n",
    "        delta_mt = np.linalg.solve(H, -grad)\n",
    "        mt += delta_mt\n",
    "        m_est = mfun.trans_inv_parameter(mt, M, L, rmin, rmax, x0min, x0max, y0min, y0max)\n",
    "        model_est = mfun.param2model(m_est, M, L, z0, dz, props)\n",
    "        d_est = polyprism.tf(xp, yp, zp, model_est, inc, dec)\n",
    "        res = d - d0\n",
    "        phi = np.sum(res*res)/xp.size\n",
    "        phi += preg*(mfun.phi_1(M, L, m_est, preg) + mfun.phi_2(M, L, m_est, preg) + \\\n",
    "                     mfun.phi_3(M, L, m_est, m_out, preg) + mfun.phi_4(M, L, m_est, m_out[-2:], preg) + \\\n",
    "                     mfun.phi_5(M, L, m_est, preg) + mfun.phi_6(M, L, m_est, preg))\n",
    "        \n",
    "        dphi = phi - phi0\n",
    "        \n",
    "        if (dphi > 0.):\n",
    "            lamb *= dlamb\n",
    "        else:\n",
    "            lamb /= dlamb\n",
    "            \n",
    "    if ((phi0 - phi)/phi0 > epsilon):\n",
    "        d0 = d_est\n",
    "        m0 = m_est\n",
    "        phi0 = phi\n",
    "        phi_list.append(phi0)\n",
    "    else:\n",
    "        break"
   ]
  },
  {
   "cell_type": "code",
   "execution_count": 15,
   "metadata": {
    "collapsed": false
   },
   "outputs": [
    {
     "data": {
      "image/png": "[encoded data removed]",
      "text/plain": [
       "<matplotlib.figure.Figure at 0x7f4bb2ca3f10>"
      ]
     },
     "metadata": {},
     "output_type": "display_data"
    }
   ],
   "source": [
    "mpl.figure(figsize=(15,10))\n",
    "mpl.subplot(1,3,1)\n",
    "mpl.title(\"Predicted data (nT)\", fontsize = 18)\n",
    "mpl.axis('scaled')\n",
    "nlevels = mpl.contourf(yp, xp, d_est,shape, 15, cmap='RdBu_r')\n",
    "mpl.xlabel('East y (km)')\n",
    "mpl.ylabel('North x (km)')\n",
    "mpl.colorbar(pad=0.01, aspect=20, shrink=0.4).set_label('nT')\n",
    "mpl.m2km()\n",
    "mpl.show()"
   ]
  },
  {
   "cell_type": "code",
   "execution_count": 16,
   "metadata": {
    "collapsed": false
   },
   "outputs": [
    {
     "data": {
      "image/png": "[encoded data removed]",
      "text/plain": [
       "<matplotlib.figure.Figure at 0x7f4bb35b3050>"
      ]
     },
     "metadata": {},
     "output_type": "display_data"
    }
   ],
   "source": [
    "ddif = d - d_est\n",
    "mpl.figure(figsize=(15,10))\n",
    "mpl.subplot(1,3,1)\n",
    "mpl.title(\"Predicted data (nT)\", fontsize = 18)\n",
    "mpl.axis('scaled')\n",
    "nlevels = mpl.contourf(yp, xp, ddif,shape, 15, cmap='RdBu_r')\n",
    "mpl.xlabel('East y (km)')\n",
    "mpl.ylabel('North x (km)')\n",
    "mpl.colorbar(pad=0.01, aspect=20, shrink=0.4).set_label('nT')\n",
    "mpl.m2km()\n",
    "mpl.show()"
   ]
  },
  {
   "cell_type": "code",
   "execution_count": 17,
   "metadata": {
    "collapsed": false
   },
   "outputs": [],
   "source": [
    "#m_volta = mfun.trans_inv_parameter(mt, M, L, rmin, rmax, x0min, x0max, y0min, y0max) # inverse transformation\n",
    "\n",
    "#np.allclose(m_volta, m0) # validation test\n",
    "\n",
    "# creating a model from the transformated parameters vector\n",
    "\n",
    "#ltrans = [] # list of parameters of each prisms\n",
    "\n",
    "#ii = i*(M+2)\n",
    "\n",
    "### creating the list of prisms\n",
    "#for i in range(L):\n",
    "#    ltrans.append([mt[ii:ii+M], mt[ii+M], mt[ii+(M+1)], z0 + dz*i, z0 + dz*(i + 1), props])\n",
    "\n",
    "#modeltrans = mfun.pol2cart(ltrans, M, L)"
   ]
  },
  {
   "cell_type": "code",
   "execution_count": 21,
   "metadata": {
    "collapsed": false
   },
   "outputs": [
    {
     "data": {
      "text/plain": [
       "array([-0., -0., -0., -0., -0.,  0.,  0.,  0., -0., -0.,  0.,  0.,  0.,\n",
       "       -0., -0.])"
      ]
     },
     "execution_count": 21,
     "metadata": {},
     "output_type": "execute_result"
    }
   ],
   "source": [
    "delta_mt"
   ]
  },
  {
   "cell_type": "markdown",
   "metadata": {},
   "source": [
    "a) laço interno: calcula $\\Delta \\breve{\\mathbf{m}}_k$ solucionando o sistema linear abaixo\n",
    "\n",
    "\\begin{equation}\n",
    "\\left[\\nabla^2\\Gamma (\\hat{\\mathbf{m}}_k) + \\lambda \\mathbf{I} \\right]\\mathbf{T}(\\hat{\\mathbf{m}}_k) \\Delta\\breve{\\mathbf{m}}_k \\approx - \\nabla \\Gamma (\\hat{\\mathbf{m}}_k)\n",
    "\\end{equation}\n",
    "\n",
    "onde $\\mathbf{T}(\\hat{\\mathbf{m}}_k)$ é uma matriz diagonal\n",
    "\\begin{equation}\n",
    "[\\mathbf{T}(\\hat{\\mathbf{m}}_k)]_{ii} = \\frac{(m_{i\\, max} - m_i)(m_i - m_{i\\, min})}{(m_{i\\, max} - m_{i\\, min})}\n",
    "\\end{equation}"
   ]
  },
  {
   "cell_type": "markdown",
   "metadata": {},
   "source": [
    "b) calcula $\\breve{\\mathbf{m}}_{k+1} = \\breve{\\mathbf{m}}_k + \\Delta\\breve{\\mathbf{m}}_k$"
   ]
  },
  {
   "cell_type": "markdown",
   "metadata": {},
   "source": [
    "c) computa $\\hat{\\mathbf{m}}_{k+1}$"
   ]
  },
  {
   "cell_type": "markdown",
   "metadata": {},
   "source": [
    "d) Enquanto $\\Gamma (\\hat{\\mathbf{m}}_{k+1})<\\Gamma (\\hat{\\mathbf{m}}_k)$ \n",
    "\n",
    "   i $\\lambda = \\lambda\\cdot d\\lambda$\n",
    "\n",
    "   ii retorne para 3)a)"
   ]
  },
  {
   "cell_type": "markdown",
   "metadata": {},
   "source": [
    "e) $\\lambda = \\lambda/d\\lambda$"
   ]
  },
  {
   "cell_type": "markdown",
   "metadata": {},
   "source": [
    "4) Enquanto $\\Gamma (\\hat{\\mathbf{m}}_{k+1})<\\Gamma (\\hat{\\mathbf{m}}_k)$ e $\\frac{|\\Gamma (\\hat{\\mathbf{m}}_{k+1})- \\Gamma (\\hat{\\mathbf{m}}_k)|}{|\\Gamma (\\hat{\\mathbf{m}}_k)|}>\\varepsilon$\n",
    "\n",
    "a) $k=k+1$\n",
    "\n",
    "b) Retorne para etapa 2)"
   ]
  },
  {
   "cell_type": "code",
   "execution_count": null,
   "metadata": {
    "collapsed": true
   },
   "outputs": [],
   "source": []
  }
 ],
 "metadata": {
  "anaconda-cloud": {},
  "kernelspec": {
   "display_name": "Python [default]",
   "language": "python",
   "name": "python2"
  },
  "language_info": {
   "codemirror_mode": {
    "name": "ipython",
    "version": 2
   },
   "file_extension": ".py",
   "mimetype": "text/x-python",
   "name": "python",
   "nbconvert_exporter": "python",
   "pygments_lexer": "ipython2",
   "version": "2.7.12"
  }
 },
 "nbformat": 4,
 "nbformat_minor": 1
}
