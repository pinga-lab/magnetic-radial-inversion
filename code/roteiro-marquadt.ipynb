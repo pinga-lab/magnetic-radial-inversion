{
 "cells": [
  {
   "cell_type": "markdown",
   "metadata": {},
   "source": [
    "# Roteiro Levenberg-Marquadt"
   ]
  },
  {
   "cell_type": "markdown",
   "metadata": {},
   "source": [
    "Esse código é um protótipo de função para a implementação do algoritmo de Levenberg-Marquadt, o qual é utilizado para estimar parâmetros não-lineares. "
   ]
  },
  {
   "cell_type": "markdown",
   "metadata": {},
   "source": [
    "\\begin{equation}\n",
    "\\Gamma (\\textbf{m}) = \\Psi (\\textbf{m}) + \\sum\\limits^{6}_{j=1}\\alpha_{j}\\varphi_{j}(\\textbf{m})\n",
    "\\end{equation}"
   ]
  },
  {
   "cell_type": "code",
   "execution_count": 1,
   "metadata": {
    "collapsed": false
   },
   "outputs": [],
   "source": [
    "%load_ext line_profiler"
   ]
  },
  {
   "cell_type": "code",
   "execution_count": 2,
   "metadata": {
    "collapsed": false
   },
   "outputs": [
    {
     "name": "stderr",
     "output_type": "stream",
     "text": [
      "C:\\Users\\Vanderlei\\Documents\\fatiando\\fatiando\\vis\\mpl.py:70: UserWarning: This module will be removed in v0.6. We recommend the use of matplotlib.pyplot module directly. Some of the fatiando specific functions will remain.\n",
      "  \"specific functions will remain.\")\n",
      "C:\\Users\\Vanderlei\\Documents\\fatiando\\fatiando\\vis\\myv.py:53: UserWarning: This module will be removed in v0.7.\n",
      "  warnings.warn(\"This module will be removed in v0.7.\")\n"
     ]
    }
   ],
   "source": [
    "import numpy as np\n",
    "import matplotlib.pyplot as plt\n",
    "from copy import deepcopy\n",
    "from __future__ import division\n",
    "from fatiando import mesher, gridder, utils\n",
    "from fatiando.gravmag import polyprism\n",
    "from fatiando.mesher import PolygonalPrism\n",
    "from fatiando.gravmag import prism\n",
    "from fatiando.mesher import Prism\n",
    "from fatiando.vis import mpl, myv\n",
    "from fatiando.constants import CM, T2NT\n",
    "from matplotlib import colors, ticker, cm\n",
    "from IPython.display import Image as img\n",
    "import mag_polyprism_functions as mfun\n",
    "import polyprism_tests as tests\n",
    "% matplotlib inline"
   ]
  },
  {
   "cell_type": "markdown",
   "metadata": {},
   "source": [
    "# Entrada"
   ]
  },
  {
   "cell_type": "markdown",
   "metadata": {},
   "source": [
    "### Parâmetros para o modelo direto"
   ]
  },
  {
   "cell_type": "code",
   "execution_count": 3,
   "metadata": {
    "collapsed": true
   },
   "outputs": [],
   "source": [
    "M = 10 # number of vertices per prism\n",
    "L = 5 # number of prisms\n",
    "P = L*(M+2) # number of parameters\n",
    "\n",
    "inc, dec = -60., 50. # inclination and declination of regional field\n",
    "incs, decs = 70., -50.      # wrong direction or remanent\n",
    "\n",
    "r = np.zeros(M) + 2000. # radial distance for each vertice\n",
    "#r = np.zeros(M)\n",
    "#r[::2] = 3000.\n",
    "#r[1::2] = np.sqrt(2.)*3000.\n",
    "\n",
    "# Cartesian coordinates of the origin of each prism\n",
    "x0 = np.zeros(L) \n",
    "y0 = np.zeros(L)\n",
    "\n",
    "dz = 100.0    # thickness of each prism"
   ]
  },
  {
   "cell_type": "code",
   "execution_count": 4,
   "metadata": {
    "collapsed": true
   },
   "outputs": [],
   "source": [
    "props={'magnetization': utils.ang2vec(3., inc, dec)} # physical property\n",
    "\n",
    "z0 = 0.    # depth of the top the shallowest prism\n",
    "\n",
    "l = []   # list of prisms\n",
    "\n",
    "### creating the lis of prisms\n",
    "\n",
    "for i in range(L):\n",
    "    l.append([r, x0[i], y0[i], z0 + dz*i, z0 + dz*(i + 1), props])"
   ]
  },
  {
   "cell_type": "markdown",
   "metadata": {},
   "source": [
    "### Pontos de observação"
   ]
  },
  {
   "cell_type": "code",
   "execution_count": 5,
   "metadata": {
    "collapsed": true
   },
   "outputs": [],
   "source": [
    "#area over which the data are calculated\n",
    "#x minimum, x maximum, y minimum and y maximum\n",
    "area = [-10000, 10000, -10000, 10000] \n",
    "\n",
    "#number of data along the y and x directions\n",
    "shape = (80,80)\n",
    "\n",
    "#total number of data\n",
    "N = shape[0]*shape[1]\n",
    "\n",
    "#coordinates x and y of the data\n",
    "x = np.linspace(area[0],area[1],shape[0]) # points in x\n",
    "y = np.linspace(area[2],area[3],shape[0]) # points in y\n",
    "xp,yp = np.meshgrid(x,y)    # creating mesh points\n",
    "xp = xp.ravel()\n",
    "yp = yp.ravel()\n",
    "\n",
    "#vertical coordinates of the data\n",
    "zp = -350. - 500.*utils.gaussian2d(xp, yp, 17000, 21000, 21000, 18500, angle=21) # relief"
   ]
  },
  {
   "cell_type": "markdown",
   "metadata": {
    "collapsed": false
   },
   "source": [
    "# Gerando os dados preditos"
   ]
  },
  {
   "cell_type": "code",
   "execution_count": 6,
   "metadata": {
    "collapsed": false
   },
   "outputs": [],
   "source": [
    "m = mfun.param_vec(l, M, L) # true parameters vector"
   ]
  },
  {
   "cell_type": "code",
   "execution_count": 7,
   "metadata": {
    "collapsed": true
   },
   "outputs": [],
   "source": [
    "model = mfun.pol2cart(l, M, L) # list of classes of prisms"
   ]
  },
  {
   "cell_type": "code",
   "execution_count": 8,
   "metadata": {
    "collapsed": false
   },
   "outputs": [],
   "source": [
    "dobs = polyprism.tf(xp, yp, zp, model, inc, dec) # predict data"
   ]
  },
  {
   "cell_type": "code",
   "execution_count": 9,
   "metadata": {
    "collapsed": false
   },
   "outputs": [],
   "source": [
    "noise = np.random.normal(loc=0., scale=5., size=shape[0]*shape[0]) "
   ]
  },
  {
   "cell_type": "code",
   "execution_count": 10,
   "metadata": {
    "collapsed": false
   },
   "outputs": [],
   "source": [
    "dobs += noise"
   ]
  },
  {
   "cell_type": "code",
   "execution_count": 11,
   "metadata": {
    "collapsed": false
   },
   "outputs": [
    {
     "data": {
      "image/png": "[encoded data removed]",
      "text/plain": [
       "<matplotlib.figure.Figure at 0x167db080>"
      ]
     },
     "metadata": {},
     "output_type": "display_data"
    }
   ],
   "source": [
    "plt.figure(figsize=(15,10))\n",
    "plt.subplot(1,3,1)\n",
    "plt.title(\"Predicted data (nT)\", fontsize = 18)\n",
    "plt.axis('scaled')\n",
    "nlevels = mpl.contourf(yp, xp, dobs,shape, 15, cmap='RdBu_r')\n",
    "plt.xlabel('East y (km)')\n",
    "plt.ylabel('North x (km)')\n",
    "plt.colorbar(pad=0.01, aspect=20, shrink=0.4).set_label('nT')\n",
    "for p in model:\n",
    "    mpl.polygon(p, '.-k', xy2ne=True)\n",
    "mpl.m2km()\n",
    "plt.show()"
   ]
  },
  {
   "cell_type": "markdown",
   "metadata": {},
   "source": [
    "# Algoritmo Levenberg-Marquadt"
   ]
  },
  {
   "cell_type": "markdown",
   "metadata": {},
   "source": [
    "1- Iteração $k=0$: chute inicial $\\mathbf{m}_0$ em que todos os elementos satisfaçam os vínculos de desigualdade e um valor real positivo grande para $\\lambda$"
   ]
  },
  {
   "cell_type": "markdown",
   "metadata": {},
   "source": [
    "2) Calcula os parâmetros transformados $\\breve{\\mathbf{m}}_k$"
   ]
  },
  {
   "cell_type": "markdown",
   "metadata": {},
   "source": [
    "Os parâmetros transformados são calculados a partir da equação:\n",
    "\n",
    "\\begin{equation}\n",
    "\\breve{m}_i = f(m_i) = - \\ln\\left(\\frac{m_{i\\, max} - m_i}{m_i - m_{i\\, min}}\\right)\n",
    "\\end{equation}"
   ]
  },
  {
   "cell_type": "markdown",
   "metadata": {},
   "source": [
    "A transformação inversa dos parâmetros é dada pela equação:\n",
    "\n",
    "\\begin{equation}\n",
    "m_i = f^{-1}(\\breve{m}_i) = m_{i\\, min} + \\left(\\frac{m_{i\\, max} - m_{i\\, min}}{1 + e^{-\\breve{m}_i}}\\right)\n",
    "\\end{equation}"
   ]
  },
  {
   "cell_type": "markdown",
   "metadata": {},
   "source": [
    "3) laço externo: calcula $\\nabla^2\\Gamma (\\hat{\\mathbf{m}}_k)$, $\\nabla\\Gamma (\\hat{\\mathbf{m}}_k)$ e $T(\\hat{\\mathbf{m}}_k)$:"
   ]
  },
  {
   "cell_type": "markdown",
   "metadata": {},
   "source": [
    "### Parâmetros exigidos durante a inversão"
   ]
  },
  {
   "cell_type": "code",
   "execution_count": 12,
   "metadata": {
    "collapsed": true
   },
   "outputs": [],
   "source": [
    "lamb = 0.001 # Marquadt's parameter\n",
    "dlamb = 5.  # step for Marquadt's parameter\n",
    "\n",
    "# limits for parameters in meters\n",
    "rmin = -1.\n",
    "rmax = 4000.\n",
    "x0min = -4000.\n",
    "x0max = 4000.\n",
    "y0min = -4000.\n",
    "y0max = 4000."
   ]
  },
  {
   "cell_type": "code",
   "execution_count": 13,
   "metadata": {
    "collapsed": false
   },
   "outputs": [],
   "source": [
    "mmax = np.zeros(M+2)\n",
    "mmin = np.zeros(M+2)\n",
    "\n",
    "mmax[:M] = rmax\n",
    "mmax[M] = x0max\n",
    "mmax[M+1] = y0max\n",
    "mmin[:M] = rmin\n",
    "mmin[M] = x0min\n",
    "mmin[M+1] = y0min\n",
    "\n",
    "mmax = np.resize(mmax, P)\n",
    "mmin = np.resize(mmin, P)"
   ]
  },
  {
   "cell_type": "code",
   "execution_count": 14,
   "metadata": {
    "collapsed": false
   },
   "outputs": [],
   "source": [
    "delta = 10. # increment of derivatives\n",
    "\n",
    "m_out = np.zeros(M + 2)  # outcropping body parameters\n",
    "\n",
    "preg = 0.1000 # regularization parameter"
   ]
  },
  {
   "cell_type": "code",
   "execution_count": 15,
   "metadata": {
    "collapsed": false
   },
   "outputs": [],
   "source": [
    "#props={'magnetization': utils.ang2vec(3, inc, dec)} # physical property\n",
    "\n",
    "#z0 = 0.    # depth of the top the shallowest prism\n",
    "\n",
    "rini = np.full((M),(3000.))\n",
    "\n",
    "lini = []   # list of parameters of each prisms\n",
    "\n",
    "### creating the list of prisms\n",
    "for i in range(L):\n",
    "    lini.append([rini, x0[i], y0[i], z0 + dz*i, z0 + dz*(i + 1), props])"
   ]
  },
  {
   "cell_type": "code",
   "execution_count": 16,
   "metadata": {
    "collapsed": true
   },
   "outputs": [],
   "source": [
    "alpha1 = 0.001\n",
    "alpha2 = 0.001\n",
    "alpha3 = 0.\n",
    "alpha4 = 0.\n",
    "alpha5 = alpha1\n",
    "alpha6 = 0.0001"
   ]
  },
  {
   "cell_type": "code",
   "execution_count": 17,
   "metadata": {
    "collapsed": false
   },
   "outputs": [
    {
     "ename": "SyntaxError",
     "evalue": "invalid syntax (<ipython-input-17-669df948a201>, line 1)",
     "output_type": "error",
     "traceback": [
      "\u001b[1;36m  File \u001b[1;32m\"<ipython-input-17-669df948a201>\"\u001b[1;36m, line \u001b[1;32m1\u001b[0m\n\u001b[1;33m    xcfh cbr235347 4jj=-0- v\u001b[0m\n\u001b[1;37m                 ^\u001b[0m\n\u001b[1;31mSyntaxError\u001b[0m\u001b[1;31m:\u001b[0m invalid syntax\n"
     ]
    }
   ],
   "source": [
    "xcfh cbr235347 4jj=-0- v"
   ]
  },
  {
   "cell_type": "code",
   "execution_count": 20,
   "metadata": {
    "collapsed": false
   },
   "outputs": [],
   "source": [
    "def mq():\n",
    "    itmax = 30\n",
    "    itmax_marq = 10\n",
    "    epsilon = 0.0001\n",
    "    gamma = 1.0e-7\n",
    "    \n",
    "    lamb = 0.001\n",
    "    dlamb = 10\n",
    "    l0 = deepcopy(lini)\n",
    "    m0 = mfun.param_vec(l0, M, L) # inicial parameters vector\n",
    "    model0 = mfun.pol2cart(l0, M, L) # list of classes of prisms\n",
    "    d0 = polyprism.tf(xp, yp, zp, model0, inc, dec) # predict data\n",
    "    res = dobs - d0\n",
    "    phi0 = np.sum(res*res)/N\n",
    "    phi0 += mfun.phi_1(M, L, m0, alpha1) + mfun.phi_2(M, L, m0, alpha2) + \\\n",
    "            mfun.phi_3(M, L, m0, m_out, alpha3) + mfun.phi_4(M, L, m0, m_out[-2:], alpha4) + \\\n",
    "            mfun.phi_5(M, L, m0, alpha5) + mfun.phi_6(M, L, m0, alpha6)\n",
    "    phi_list = [phi0]\n",
    "    \n",
    "    print '  0 %.5e' % (phi0)\n",
    "\n",
    "    i,j = np.diag_indices(P)\n",
    "\n",
    "    for it in range(itmax):\n",
    "        mt = mfun.trans_parameter2(m0, M, L, mmax, mmin)\n",
    "        \n",
    "        #Jacobian matrix\n",
    "        G = mfun.fd_tf_sm_polyprism(xp, yp, zp, l0, M, L, delta, delta, delta, inc, dec)\n",
    "\n",
    "        grad = -2*np.dot(G.T, res)/N\n",
    "        grad = mfun.gradient_phi_1(M, L, grad, alpha1)\n",
    "        grad = mfun.gradient_phi_2(M, L, grad, alpha2)\n",
    "        grad = mfun.gradient_phi_3(M, L, grad, m_out, alpha3)\n",
    "        grad = mfun.gradient_phi_4(M, L, grad, m_out[-2:], alpha4)\n",
    "        grad = mfun.gradient_phi_5(M, L, grad, alpha5)\n",
    "        grad = mfun.gradient_phi_6(M, L, grad, alpha6)\n",
    "\n",
    "        H = 2*np.dot(G.T, G)/N\n",
    "        H = mfun.Hessian_phi_1(M, L, H, alpha1)\n",
    "        H = mfun.Hessian_phi_2(M, L, H, alpha2)\n",
    "        H = mfun.Hessian_phi_3(M, L, H, alpha3)\n",
    "        H = mfun.Hessian_phi_4(M, L, H, alpha4)\n",
    "        H = mfun.Hessian_phi_5(M, L, H, alpha5)\n",
    "        H = mfun.Hessian_phi_6(M, L, H, alpha6)\n",
    "\n",
    "        # Diagonal da matriz de positividade\n",
    "        T = ((mmax - m0)*(m0 - mmin))/(mmax - mmin)\n",
    "\n",
    "        for it_marq in range(itmax_marq): \n",
    "\n",
    "            S = H.copy()\n",
    "            S[i,:] *= T\n",
    "            S[i,j] += lamb\n",
    "\n",
    "            delta_mt = np.linalg.solve(S, -grad)\n",
    "            m_est = mfun.trans_inv_parameter2(mt + delta_mt, M, L, mmax, mmin)\n",
    "            l_est = mfun.param2model(m_est, M, L, z0, dz, props)\n",
    "            model_est = mfun.pol2cart(l_est, M, L)\n",
    "            d_est = polyprism.tf(xp, yp, zp, model_est, inc, dec)\n",
    "            res = dobs - d_est\n",
    "            phi = np.sum(res*res)/N\n",
    "            phi += (mfun.phi_1(M, L, m_est, alpha1) + mfun.phi_2(M, L, m_est, alpha2) + \\\n",
    "                    mfun.phi_3(M, L, m_est, m_out, alpha3) + mfun.phi_4(M, L, m_est, m_out[-2:], alpha4) + \\\n",
    "                    mfun.phi_5(M, L, m_est, alpha5) + mfun.phi_6(M, L, m_est, alpha6))\n",
    "\n",
    "            dphi = phi - phi0\n",
    "\n",
    "            #print it, phi0, it_marq, phi, lamb\n",
    "\n",
    "            if (dphi >= gamma):\n",
    "                lamb *= dlamb\n",
    "            else:\n",
    "                lamb /= dlamb\n",
    "\n",
    "            print '%3d %.5e %3d %.3e' % (it, phi, it_marq, lamb)\n",
    "\n",
    "        if (abs((phi0 - phi)/phi0) > epsilon):\n",
    "            d0 = d_est\n",
    "            m0 = m_est\n",
    "            l0 = l_est\n",
    "            phi0 = phi\n",
    "            phi_list.append(phi0)\n",
    "        else:\n",
    "            break"
   ]
  },
  {
   "cell_type": "code",
   "execution_count": 21,
   "metadata": {
    "collapsed": false
   },
   "outputs": [
    {
     "name": "stdout",
     "output_type": "stream",
     "text": [
      "  0 1.03921e+05\n",
      "  0 9.03519e+04   0 1.000e-04\n",
      "  0 9.03235e+04   1 1.000e-05\n",
      "  0 9.03206e+04   2 1.000e-06\n",
      "  0 9.03203e+04   3 1.000e-07\n",
      "  0 9.03203e+04   4 1.000e-08\n",
      "  0 9.03203e+04   5 1.000e-09\n",
      "  0 9.03203e+04   6 1.000e-10\n",
      "  0 9.03203e+04   7 1.000e-11\n",
      "  0 9.03203e+04   8 1.000e-12\n",
      "  0 9.03203e+04   9 1.000e-13\n",
      "  1 7.79366e+04   0 1.000e-14\n",
      "  1 7.79366e+04   1 1.000e-15\n",
      "  1 7.79366e+04   2 1.000e-16\n",
      "  1 7.79366e+04   3 1.000e-17\n",
      "  1 7.79366e+04   4 1.000e-18\n",
      "  1 7.79366e+04   5 1.000e-19\n",
      "  1 7.79366e+04   6 1.000e-20\n",
      "  1 7.79366e+04   7 1.000e-21\n",
      "  1 7.79366e+04   8 1.000e-22\n",
      "  1 7.79366e+04   9 1.000e-23\n",
      "  2 6.87816e+04   0 1.000e-24\n",
      "  2 6.87816e+04   1 1.000e-25\n",
      "  2 6.87816e+04   2 1.000e-26\n",
      "  2 6.87816e+04   3 1.000e-27\n",
      "  2 6.87816e+04   4 1.000e-28\n",
      "  2 6.87816e+04   5 1.000e-29\n",
      "  2 6.87816e+04   6 1.000e-30\n",
      "  2 6.87816e+04   7 1.000e-31\n",
      "  2 6.87816e+04   8 1.000e-32\n",
      "  2 6.87816e+04   9 1.000e-33\n",
      "  3 6.40301e+04   0 1.000e-34\n",
      "  3 6.40301e+04   1 1.000e-35\n",
      "  3 6.40301e+04   2 1.000e-36\n",
      "  3 6.40301e+04   3 1.000e-37\n",
      "  3 6.40301e+04   4 1.000e-38\n",
      "  3 6.40301e+04   5 1.000e-39\n",
      "  3 6.40301e+04   6 1.000e-40\n",
      "  3 6.40301e+04   7 1.000e-41\n",
      "  3 6.40301e+04   8 1.000e-42\n",
      "  3 6.40301e+04   9 1.000e-43\n",
      "  4 6.22151e+04   0 1.000e-44\n",
      "  4 6.22151e+04   1 1.000e-45\n",
      "  4 6.22151e+04   2 1.000e-46\n",
      "  4 6.22151e+04   3 1.000e-47\n",
      "  4 6.22151e+04   4 1.000e-48\n",
      "  4 6.22151e+04   5 1.000e-49\n",
      "  4 6.22151e+04   6 1.000e-50\n",
      "  4 6.22151e+04   7 1.000e-51\n",
      "  4 6.22151e+04   8 1.000e-52\n",
      "  4 6.22151e+04   9 1.000e-53\n",
      "  5 6.14583e+04   0 1.000e-54\n",
      "  5 6.14583e+04   1 1.000e-55\n",
      "  5 6.14583e+04   2 1.000e-56\n",
      "  5 6.14583e+04   3 1.000e-57\n",
      "  5 6.14583e+04   4 1.000e-58\n",
      "  5 6.14583e+04   5 1.000e-59\n",
      "  5 6.14583e+04   6 1.000e-60\n",
      "  5 6.14583e+04   7 1.000e-61\n",
      "  5 6.14583e+04   8 1.000e-62\n",
      "  5 6.14583e+04   9 1.000e-63\n",
      "  6 6.10278e+04   0 1.000e-64\n",
      "  6 6.10278e+04   1 1.000e-65\n",
      "  6 6.10278e+04   2 1.000e-66\n",
      "  6 6.10278e+04   3 1.000e-67\n",
      "  6 6.10278e+04   4 1.000e-68\n",
      "  6 6.10278e+04   5 1.000e-69\n",
      "  6 6.10278e+04   6 1.000e-70\n",
      "  6 6.10278e+04   7 1.000e-71\n",
      "  6 6.10278e+04   8 1.000e-72\n",
      "  6 6.10278e+04   9 1.000e-73\n",
      "  7 6.07073e+04   0 1.000e-74\n",
      "  7 6.07073e+04   1 1.000e-75\n",
      "  7 6.07073e+04   2 1.000e-76\n",
      "  7 6.07073e+04   3 1.000e-77\n",
      "  7 6.07073e+04   4 1.000e-78\n",
      "  7 6.07073e+04   5 1.000e-79\n",
      "  7 6.07073e+04   6 1.000e-80\n",
      "  7 6.07073e+04   7 1.000e-81\n",
      "  7 6.07073e+04   8 1.000e-82\n",
      "  7 6.07073e+04   9 1.000e-83\n",
      "  8 6.04334e+04   0 1.000e-84\n",
      "  8 6.04334e+04   1 1.000e-85\n",
      "  8 6.04334e+04   2 1.000e-86\n",
      "  8 6.04334e+04   3 1.000e-87\n",
      "  8 6.04334e+04   4 1.000e-88\n",
      "  8 6.04334e+04   5 1.000e-89\n",
      "  8 6.04334e+04   6 1.000e-90\n",
      "  8 6.04334e+04   7 1.000e-91\n",
      "  8 6.04334e+04   8 1.000e-92\n",
      "  8 6.04334e+04   9 1.000e-93\n",
      "  9 6.01855e+04   0 1.000e-94\n",
      "  9 6.01855e+04   1 1.000e-95\n",
      "  9 6.01855e+04   2 1.000e-96\n",
      "  9 6.01855e+04   3 1.000e-97\n",
      "  9 6.01855e+04   4 1.000e-98\n",
      "  9 6.01855e+04   5 1.000e-99\n",
      "  9 6.01855e+04   6 1.000e-100\n",
      "  9 6.01855e+04   7 1.000e-101\n",
      "  9 6.01855e+04   8 1.000e-102\n",
      "  9 6.01855e+04   9 1.000e-103\n",
      " 10 5.99564e+04   0 1.000e-104\n",
      " 10 5.99564e+04   1 1.000e-105\n",
      " 10 5.99564e+04   2 1.000e-106\n",
      " 10 5.99564e+04   3 1.000e-107\n",
      " 10 5.99564e+04   4 1.000e-108\n",
      " 10 5.99564e+04   5 1.000e-109\n",
      " 10 5.99564e+04   6 1.000e-110\n",
      " 10 5.99564e+04   7 1.000e-111\n",
      " 10 5.99564e+04   8 1.000e-112\n",
      " 10 5.99564e+04   9 1.000e-113\n",
      " 11 5.97426e+04   0 1.000e-114\n",
      " 11 5.97426e+04   1 1.000e-115\n",
      " 11 5.97426e+04   2 1.000e-116\n",
      " 11 5.97426e+04   3 1.000e-117\n",
      " 11 5.97426e+04   4 1.000e-118\n",
      " 11 5.97426e+04   5 1.000e-119\n",
      " 11 5.97426e+04   6 1.000e-120\n",
      " 11 5.97426e+04   7 1.000e-121\n",
      " 11 5.97426e+04   8 1.000e-122\n",
      " 11 5.97426e+04   9 1.000e-123\n",
      " 12 5.95422e+04   0 1.000e-124\n",
      " 12 5.95422e+04   1 1.000e-125\n",
      " 12 5.95422e+04   2 1.000e-126\n",
      " 12 5.95422e+04   3 1.000e-127\n",
      " 12 5.95422e+04   4 1.000e-128\n",
      " 12 5.95422e+04   5 1.000e-129\n",
      " 12 5.95422e+04   6 1.000e-130\n",
      " 12 5.95422e+04   7 1.000e-131\n",
      " 12 5.95422e+04   8 1.000e-132\n",
      " 12 5.95422e+04   9 1.000e-133\n",
      " 13 5.93536e+04   0 1.000e-134\n",
      " 13 5.93536e+04   1 1.000e-135\n",
      " 13 5.93536e+04   2 1.000e-136\n",
      " 13 5.93536e+04   3 1.000e-137\n",
      " 13 5.93536e+04   4 1.000e-138\n",
      " 13 5.93536e+04   5 1.000e-139\n",
      " 13 5.93536e+04   6 1.000e-140\n",
      " 13 5.93536e+04   7 1.000e-141\n",
      " 13 5.93536e+04   8 1.000e-142\n",
      " 13 5.93536e+04   9 1.000e-143\n",
      " 14 5.91758e+04   0 1.000e-144\n",
      " 14 5.91758e+04   1 1.000e-145\n",
      " 14 5.91758e+04   2 1.000e-146\n",
      " 14 5.91758e+04   3 1.000e-147\n",
      " 14 5.91758e+04   4 1.000e-148\n",
      " 14 5.91758e+04   5 1.000e-149\n",
      " 14 5.91758e+04   6 1.000e-150\n",
      " 14 5.91758e+04   7 1.000e-151\n",
      " 14 5.91758e+04   8 1.000e-152\n",
      " 14 5.91758e+04   9 1.000e-153\n",
      "*** KeyboardInterrupt exception caught in code being profiled."
     ]
    }
   ],
   "source": [
    "%lprun -f mq mq()"
   ]
  },
  {
   "cell_type": "raw",
   "metadata": {
    "collapsed": false
   },
   "source": [
    "d0, m0, l0, phi_list = mfun.levmq(xp, yp, zp, lini, M, L, delta, lamb, mmin, mmax, mout, dobs, inc, dec)"
   ]
  },
  {
   "cell_type": "raw",
   "metadata": {
    "collapsed": true
   },
   "source": [
    "%lprun -f mfun.levmq mfun.levmq(xp, yp, zp, lini, M, L, delta, lamb, mmin, mmax, mout, dobs, inc, dec)"
   ]
  },
  {
   "cell_type": "code",
   "execution_count": null,
   "metadata": {
    "collapsed": false
   },
   "outputs": [],
   "source": [
    "mpl.figure(figsize=(15,10))\n",
    "mpl.subplot(1,3,1)\n",
    "mpl.title(\"Predicted data (nT)\", fontsize = 18)\n",
    "mpl.axis('scaled')\n",
    "nlevels = mpl.contourf(yp, xp, d0,shape, 15, cmap='RdBu_r')\n",
    "mpl.xlabel('East y (km)')\n",
    "mpl.ylabel('North x (km)')\n",
    "mpl.colorbar(pad=0.01, aspect=20, shrink=0.4).set_label('nT')\n",
    "mpl.m2km()\n",
    "mpl.show()"
   ]
  },
  {
   "cell_type": "code",
   "execution_count": null,
   "metadata": {
    "collapsed": false
   },
   "outputs": [],
   "source": [
    "ddif = d - d0\n",
    "mpl.figure(figsize=(15,10))\n",
    "mpl.subplot(1,3,1)\n",
    "mpl.title(\"Residual data (nT)\", fontsize = 18)\n",
    "mpl.axis('scaled')\n",
    "nlevels = mpl.contourf(yp, xp, ddif,shape, 15, cmap='RdBu_r')\n",
    "mpl.xlabel('East y (km)')\n",
    "mpl.ylabel('North x (km)')\n",
    "mpl.colorbar(pad=0.01, aspect=20, shrink=0.4).set_label('nT')\n",
    "mpl.m2km()\n",
    "mpl.show()"
   ]
  },
  {
   "cell_type": "code",
   "execution_count": null,
   "metadata": {
    "collapsed": false
   },
   "outputs": [],
   "source": [
    "#m_volta = mfun.trans_inv_parameter(mt, M, L, rmin, rmax, x0min, x0max, y0min, y0max) # inverse transformation\n",
    "\n",
    "#np.allclose(m_volta, m0) # validation test\n",
    "\n",
    "# creating a model from the transformated parameters vector\n",
    "\n",
    "#ltrans = [] # list of parameters of each prisms\n",
    "\n",
    "#ii = i*(M+2)\n",
    "\n",
    "### creating the list of prisms\n",
    "#for i in range(L):\n",
    "#    ltrans.append([mt[ii:ii+M], mt[ii+M], mt[ii+(M+1)], z0 + dz*i, z0 + dz*(i + 1), props])\n",
    "\n",
    "#modeltrans = mfun.pol2cart(ltrans, M, L)"
   ]
  },
  {
   "cell_type": "code",
   "execution_count": null,
   "metadata": {
    "collapsed": false
   },
   "outputs": [],
   "source": [
    "np.mean(d - d0), np.std(d - d0)"
   ]
  },
  {
   "cell_type": "code",
   "execution_count": null,
   "metadata": {
    "collapsed": false
   },
   "outputs": [],
   "source": [
    "print m0\n",
    "print m"
   ]
  },
  {
   "cell_type": "code",
   "execution_count": null,
   "metadata": {
    "collapsed": false
   },
   "outputs": [],
   "source": [
    "bounds = [-3000., 3000., -3000., 3000., -1000.0, 1000.]\n",
    "\n",
    "red, green, blue = (1, 0, 0), (0, 1, 0), (0, 0, 1)\n",
    "white, black = (1, 1, 1), (0, 0, 0),\n",
    "\n",
    "# Show the model\n",
    "scene = myv.figure()\n",
    "myv.polyprisms(model, 'magnetization', opacity=1., color=blue)\n",
    "myv.polyprisms(model_est, 'magnetization', opacity=.5, color=red)\n",
    "\n",
    "myv.axes(myv.outline(bounds), ranges=[i * 0.001 for i in bounds])\n",
    "\n",
    "scene.scene.camera.position = [-7807.4452530978979, -7807.4452530979024, -4486.7908303696386]\n",
    "scene.scene.camera.focal_point = [0.0, 0.0, 600.0]\n",
    "scene.scene.camera.view_angle = 30.0\n",
    "scene.scene.camera.view_up = [0.0, 0.0, -1.0]\n",
    "scene.scene.camera.clipping_range = [6256.115234984627, 19992.338744856861]\n",
    "scene.scene.camera.compute_view_plane_normal()\n",
    "scene.scene.render()\n",
    "\n",
    "myv.savefig('bolacha.png')\n",
    "myv.show()\n",
    "img(filename='bolacha.png')"
   ]
  },
  {
   "cell_type": "markdown",
   "metadata": {},
   "source": [
    "a) laço interno: calcula $\\Delta \\breve{\\mathbf{m}}_k$ solucionando o sistema linear abaixo\n",
    "\n",
    "\\begin{equation}\n",
    "\\left[\\nabla^2\\Gamma (\\hat{\\mathbf{m}}_k) + \\lambda \\mathbf{I} \\right]\\mathbf{T}(\\hat{\\mathbf{m}}_k) \\Delta\\breve{\\mathbf{m}}_k \\approx - \\nabla \\Gamma (\\hat{\\mathbf{m}}_k)\n",
    "\\end{equation}\n",
    "\n",
    "onde $\\mathbf{T}(\\hat{\\mathbf{m}}_k)$ é uma matriz diagonal\n",
    "\\begin{equation}\n",
    "[\\mathbf{T}(\\hat{\\mathbf{m}}_k)]_{ii} = \\frac{(m_{i\\, max} - m_i)(m_i - m_{i\\, min})}{(m_{i\\, max} - m_{i\\, min})}\n",
    "\\end{equation}"
   ]
  },
  {
   "cell_type": "markdown",
   "metadata": {},
   "source": [
    "b) calcula $\\breve{\\mathbf{m}}_{k+1} = \\breve{\\mathbf{m}}_k + \\Delta\\breve{\\mathbf{m}}_k$"
   ]
  },
  {
   "cell_type": "markdown",
   "metadata": {},
   "source": [
    "c) computa $\\hat{\\mathbf{m}}_{k+1}$"
   ]
  },
  {
   "cell_type": "markdown",
   "metadata": {},
   "source": [
    "d) Enquanto $\\Gamma (\\hat{\\mathbf{m}}_{k+1})<\\Gamma (\\hat{\\mathbf{m}}_k)$ \n",
    "\n",
    "   i $\\lambda = \\lambda\\cdot d\\lambda$\n",
    "\n",
    "   ii retorne para 3)a)"
   ]
  },
  {
   "cell_type": "markdown",
   "metadata": {},
   "source": [
    "e) $\\lambda = \\lambda/d\\lambda$"
   ]
  },
  {
   "cell_type": "markdown",
   "metadata": {},
   "source": [
    "4) Enquanto $\\Gamma (\\hat{\\mathbf{m}}_{k+1})<\\Gamma (\\hat{\\mathbf{m}}_k)$ e $\\frac{|\\Gamma (\\hat{\\mathbf{m}}_{k+1})- \\Gamma (\\hat{\\mathbf{m}}_k)|}{|\\Gamma (\\hat{\\mathbf{m}}_k)|}>\\varepsilon$\n",
    "\n",
    "a) $k=k+1$\n",
    "\n",
    "b) Retorne para etapa 2)"
   ]
  }
 ],
 "metadata": {
  "anaconda-cloud": {},
  "kernelspec": {
   "display_name": "Python [default]",
   "language": "python",
   "name": "python2"
  },
  "language_info": {
   "codemirror_mode": {
    "name": "ipython",
    "version": 2
   },
   "file_extension": ".py",
   "mimetype": "text/x-python",
   "name": "python",
   "nbconvert_exporter": "python",
   "pygments_lexer": "ipython2",
   "version": "2.7.10"
  }
 },
 "nbformat": 4,
 "nbformat_minor": 1
}
