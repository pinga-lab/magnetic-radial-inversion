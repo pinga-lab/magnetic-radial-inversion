{
 "cells": [
  {
   "cell_type": "markdown",
   "metadata": {},
   "source": [
    "# Roteiro Levenberg-Marquadt"
   ]
  },
  {
   "cell_type": "markdown",
   "metadata": {},
   "source": [
    "Esse código é um protótipo de função para a implementação do algoritmo de Levenberg-Marquadt, o qual é utilizado para estimar parâmetros não-lineares. "
   ]
  },
  {
   "cell_type": "markdown",
   "metadata": {},
   "source": [
    "\\begin{equation}\n",
    "\\Gamma (\\textbf{m}) = \\Psi (\\textbf{m}) + \\sum\\limits^{6}_{j=1}\\alpha_{j}\\varphi_{j}(\\textbf{m})\n",
    "\\end{equation}"
   ]
  },
  {
   "cell_type": "code",
   "execution_count": 1,
   "metadata": {
    "collapsed": true
   },
   "outputs": [],
   "source": [
    "#%load_ext line_profiler"
   ]
  },
  {
   "cell_type": "code",
   "execution_count": 2,
   "metadata": {
    "collapsed": false
   },
   "outputs": [
    {
     "name": "stderr",
     "output_type": "stream",
     "text": [
      "/home/vital/anaconda2/lib/python2.7/site-packages/fatiando/vis/mpl.py:76: UserWarning: This module will be removed in v0.6. We recommend the use of matplotlib.pyplot module directly. Some of the fatiando specific functions will remain.\n",
      "  \"specific functions will remain.\")\n",
      "/home/vital/anaconda2/lib/python2.7/site-packages/fatiando/vis/myv.py:51: UserWarning: This module will be removed in v0.7.\n",
      "  warnings.warn(\"This module will be removed in v0.7.\")\n"
     ]
    }
   ],
   "source": [
    "import numpy as np\n",
    "import matplotlib.pyplot as plt\n",
    "import numpy.testing as npt\n",
    "import cPickle as pickle\n",
    "\n",
    "from fatiando.gridder import regular\n",
    "from copy import deepcopy\n",
    "from __future__ import division\n",
    "from fatiando import mesher, gridder, utils\n",
    "from fatiando.gravmag import polyprism\n",
    "from fatiando.mesher import PolygonalPrism\n",
    "from fatiando.gravmag import prism\n",
    "from fatiando.mesher import Prism\n",
    "from fatiando.vis import mpl, myv\n",
    "from fatiando.constants import CM, T2NT\n",
    "from matplotlib import colors, ticker, cm\n",
    "from IPython.display import Image as img\n",
    "import mag_polyprism_functions as mfun\n",
    "import polyprism_tests as tests\n",
    "#% matplotlib inline"
   ]
  },
  {
   "cell_type": "markdown",
   "metadata": {},
   "source": [
    "# Entrada"
   ]
  },
  {
   "cell_type": "markdown",
   "metadata": {},
   "source": [
    "### Gerando os parâmetros verdadeiros"
   ]
  },
  {
   "cell_type": "code",
   "execution_count": 3,
   "metadata": {
    "collapsed": true
   },
   "outputs": [],
   "source": [
    "with open('../data/kimb_model.pickle') as w:\n",
    "        kimb_model = pickle.load(w)\n",
    "        "
   ]
  },
  {
   "cell_type": "markdown",
   "metadata": {},
   "source": [
    "### Pontos de observação"
   ]
  },
  {
   "cell_type": "code",
   "execution_count": 4,
   "metadata": {
    "collapsed": true
   },
   "outputs": [],
   "source": [
    "with open('../data/regular_grid.pickle') as w:\n",
    "        regular_grid = pickle.load(w)\n",
    "        "
   ]
  },
  {
   "cell_type": "markdown",
   "metadata": {},
   "source": [
    "# Gerando os dados preditos"
   ]
  },
  {
   "cell_type": "code",
   "execution_count": 5,
   "metadata": {
    "collapsed": true
   },
   "outputs": [],
   "source": [
    "with open('../data/kimb_data.pickle') as w:\n",
    "        kimb_data = pickle.load(w)"
   ]
  },
  {
   "cell_type": "raw",
   "metadata": {},
   "source": [
    "plt.title(\"Observed data (nT)\", fontsize = 18)\n",
    "plt.axis('scaled')\n",
    "nlevels = mpl.contourf(regular_grid['yp'], regular_grid['xp'], kimb_data['data_noise'],\\\n",
    "                       regular_grid['shape'], 15, cmap='RdBu_r')\n",
    "plt.xlabel('East y (km)')\n",
    "plt.ylabel('North x (km)')\n",
    "plt.colorbar(pad=0.01, aspect=20, shrink=1.).set_label('nT')\n",
    "for p in kimb_model['prisms']:\n",
    "    mpl.polygon(p, '.-b', xy2ne=True)\n",
    "for p in model0:\n",
    "    mpl.polygon(p, '.-r', xy2ne=True)\n",
    "mpl.m2km()\n",
    "plt.savefig('observed_kimb_data.png', dpi=300)\n",
    "plt.show()"
   ]
  },
  {
   "cell_type": "raw",
   "metadata": {},
   "source": [
    "bounds = [-6000., 6000., -6000., 6000., -1000.0, 4000.]\n",
    "\n",
    "red, green, blue = (1, 0, 0), (0, 1, 0), (0, 0, 1)\n",
    "white, black = (1, 1, 1), (0, 0, 0),\n",
    "\n",
    "# Show the model\n",
    "scene = myv.figure()\n",
    "myv.polyprisms(kimb_model['prisms'], 'magnetization', opacity=1., color=blue)\n",
    "#myv.polyprisms(model_est, 'magnetization', opacity=.5, color=red)\n",
    "\n",
    "ax = myv.axes(myv.outline(bounds), ranges=[i * 0.001 for i in bounds])\n",
    "ax.axes.x_label, ax.axes.y_label, ax.axes.z_label = 'x (cm)', 'y (cm)', 'z (cm)'\n",
    "ax.axes.font_factor = 1.5\n",
    "scene.scene.camera.position = [-30007.6639888957, -15394.684156638621, -4038.5651946983317]\n",
    "scene.scene.camera.focal_point = [-3.7945141121672764e-12, 2.6561598785170938e-11, 1500.000000000005]\n",
    "scene.scene.camera.view_angle = 30.0\n",
    "scene.scene.camera.view_up = [0.11836620088545378, 0.12373554686435338, -0.98523040804175532]\n",
    "scene.scene.camera.clipping_range = [17168.738216379563, 55671.470479150623]\n",
    "scene.scene.camera.compute_view_plane_normal()\n",
    "scene.scene.render()\n",
    "\n",
    "myv.wall_bottom(ax.axes.bounds, opacity=0.2)\n",
    "myv.wall_north(ax.axes.bounds)\n",
    "\n",
    "myv.savefig('bolacha_kimb_verd.png')\n",
    "myv.show()\n",
    "img(filename='bolacha_kimb_verd.png')"
   ]
  },
  {
   "cell_type": "markdown",
   "metadata": {},
   "source": [
    "### Parâmetros exigidos durante a inversão"
   ]
  },
  {
   "cell_type": "code",
   "execution_count": 6,
   "metadata": {
    "collapsed": true
   },
   "outputs": [],
   "source": [
    "a1 = 100000.1   # adjacent radial distances within each prism\n",
    "a2 = 0.    # vertically adjacent radial distances\n",
    "a3 = 0.     # outcropping cross-section\n",
    "a4 = 0.     # outcropping origin\n",
    "a5 = 1000.1  # vertically adjacent origins\n",
    "a6 = 0.000001   # zero order Tikhonov on adjacent radial distances"
   ]
  },
  {
   "cell_type": "code",
   "execution_count": 7,
   "metadata": {
    "collapsed": true
   },
   "outputs": [],
   "source": [
    "M = 50 # number of vertices per prism\n",
    "L = 3 # number of prisms\n",
    "P = L*(M+2) # number of parameters\n",
    "dz = 100.\n",
    "\n",
    "# limits for parameters in meters\n",
    "rmin = 10.\n",
    "rmax = 700.\n",
    "x0min = -700.\n",
    "x0max = 700.\n",
    "y0min = -700.\n",
    "y0max = 700.\n",
    "\n",
    "mmin, mmax = mfun.build_range_param(M, L, rmin, rmax, x0min, x0max, y0min, y0max)\n",
    "\n",
    "itmax = 30\n",
    "itmax_marq = 10\n",
    "epsilon = 1.0e-4     # convergence criterion\n",
    "gamma = 1.0e-7\n",
    "\n",
    "delta = 1. # increment of derivatives\n",
    "m_out = np.zeros(M + 2)  # outcropping body parameters\n",
    "\n",
    "inc = kimb_model['inc']\n",
    "dec = kimb_model['dec']\n",
    "dobs = kimb_data['data_noise']\n",
    "xp = regular_grid['xp']\n",
    "yp = regular_grid['yp']\n",
    "zp = regular_grid['zp']\n",
    "N = regular_grid['N']\n",
    "\n",
    "rin = np.linspace(40.,50.,M)\n",
    "rin = np.hstack((rin, np.zeros(2)))\n",
    "m0 = np.resize(rin, P) # inicial parameters vector\n",
    "model0 = mfun.param2polyprism(m0, M, L, kimb_model['z0'], dz, kimb_model['props']) # list of classes of prisms\n",
    "d0 = polyprism.tf(xp, yp, zp, model0, inc, dec) # predict data\n",
    "res = dobs - d0"
   ]
  },
  {
   "cell_type": "code",
   "execution_count": 8,
   "metadata": {
    "collapsed": false
   },
   "outputs": [],
   "source": [
    "G = mfun.Jacobian_tf(xp, yp, zp, model0, M, L, delta, delta, delta, inc, dec)\n",
    "H = 2.*np.dot(G.T, G)/N\n",
    "th = np.trace(H)/P"
   ]
  },
  {
   "cell_type": "code",
   "execution_count": 9,
   "metadata": {
    "collapsed": false
   },
   "outputs": [
    {
     "name": "stdout",
     "output_type": "stream",
     "text": [
      "7.18572690814e-06\n"
     ]
    }
   ],
   "source": [
    "print th"
   ]
  },
  {
   "cell_type": "code",
   "execution_count": 10,
   "metadata": {
    "collapsed": false
   },
   "outputs": [
    {
     "name": "stdout",
     "output_type": "stream",
     "text": [
      "3.92695629411e-07\n"
     ]
    }
   ],
   "source": [
    "print np.median(np.diag(H))"
   ]
  },
  {
   "cell_type": "code",
   "execution_count": 11,
   "metadata": {
    "collapsed": true
   },
   "outputs": [],
   "source": [
    "#lamb = th*0.01 # Marquadt's parameter\n",
    "lamb = 100000000.*th\n",
    "dlamb = 10.       # step for Marquadt's parameter\n",
    "\n",
    "alpha1, alpha2, alpha3, alpha4, alpha5, alpha6 = mfun.norm_regul_param(M, L, th, m_out, a1, a2, a3, a4, a5, a6)\n",
    "#alpha1, alpha2, alpha3, alpha4, alpha5, alpha6 = mfun.norm_regul_param(M, L, 1., m_out, a1, a2, a3, a4, a5, a6)\n"
   ]
  },
  {
   "cell_type": "code",
   "execution_count": 12,
   "metadata": {
    "collapsed": false
   },
   "outputs": [
    {
     "name": "stdout",
     "output_type": "stream",
     "text": [
      "0.00239524469796\n",
      "0.0\n",
      "0.0\n",
      "0.0\n",
      "0.00179661137021\n",
      "4.79048460543e-14\n"
     ]
    }
   ],
   "source": [
    "print alpha1\n",
    "print alpha2\n",
    "print alpha3\n",
    "print alpha4\n",
    "print alpha5\n",
    "print alpha6"
   ]
  },
  {
   "cell_type": "code",
   "execution_count": 13,
   "metadata": {
    "collapsed": false
   },
   "outputs": [
    {
     "name": "stdout",
     "output_type": "stream",
     "text": [
      "  0 2.06119e+03   0 7e+02\n",
      "  1 2.05793e+03   0 7e+01\n",
      "  2 2.04870e+03   0 7e+00\n",
      "  3 2.03649e+03   0 7e-01\n",
      "  4 2.02268e+03   0 7e-02\n",
      "  5 2.00747e+03   0 7e-03\n",
      "  6 1.99092e+03   0 7e-04\n",
      "  7 1.97307e+03   0 7e-05\n",
      "  8 1.95398e+03   0 7e-06\n",
      "  9 1.93375e+03   0 7e-07\n",
      " 10 1.91244e+03   0 7e-08\n",
      " 11 1.89028e+03   0 7e-09\n",
      " 12 1.86786e+03   0 7e-10\n",
      " 13 1.84704e+03   0 7e-11\n",
      " 14 1.83299e+03   0 7e-12\n",
      " 15 1.83080e+03   0 7e-13\n",
      " 16 1.82001e+03   0 7e-14\n",
      " 17 1.78034e+03   0 7e-15\n",
      " 18 1.72835e+03   0 1e-15\n",
      " 19 1.67318e+03   0 1e-15\n",
      " 20 1.61581e+03   0 1e-15\n",
      " 21 1.55687e+03   0 1e-15\n",
      " 22 1.49684e+03   0 1e-15\n",
      " 23 1.43609e+03   0 1e-15\n",
      " 24 1.37489e+03   0 1e-15\n",
      " 25 1.31359e+03   0 1e-15\n",
      " 26 1.25266e+03   0 1e-15\n",
      " 27 1.19286e+03   0 1e-15\n",
      " 28 1.13523e+03   0 1e-15\n",
      " 29 1.08105e+03   0 1e-15\n"
     ]
    }
   ],
   "source": [
    "phi0 = np.sum(res*res)/N\n",
    "phi0 += mfun.phi_1(M, L, m0, alpha1) + mfun.phi_2(M, L, m0, alpha2) + \\\n",
    "        mfun.phi_3(M, L, m0, m_out, alpha3) + mfun.phi_4(M, L, m0, m_out[-2:], alpha4) + \\\n",
    "        mfun.phi_5(M, L, m0, alpha5) + mfun.phi_6(M, L, m0, alpha6)\n",
    "phi_list = [phi0]\n",
    "    \n",
    "i,j = np.diag_indices(P)\n",
    "for it in range(itmax):\n",
    "    #bounds = [-3000., 3000., -3000., 3000., -1000.0, 4000.]\n",
    "\n",
    "    #red, green, blue = (1, 0, 0), (0, 1, 0), (0, 0, 1)\n",
    "    #white, black = (1, 1, 1), (0, 0, 0),\n",
    "    #scene = myv.figure()\n",
    "    #myv.polyprisms(kimb_model['prisms'], 'magnetization', color=blue, linewidth=1.8, style='wireframe', opacity=.3)\n",
    "    #myv.polyprisms(model0, 'magnetization', color=red, linewidth=3.5)\n",
    "\n",
    "    #ax = myv.axes(myv.outline(bounds), ranges=[t * 0.001 for t in bounds])\n",
    "    #ax.axes.x_label, ax.axes.y_label, ax.axes.z_label = 'x (cm)', 'y (cm)', 'z (cm)'\n",
    "    #ax.axes.font_factor = 1.5\n",
    "    #scene.scene.camera.position = [-0.089204656936016313, -0.066107174155361687, -0.04083578885723696]\n",
    "    #scene.scene.camera.focal_point = [1.1820671636724554e-16, 1.3134079596360617e-17, -1.9701119394540926e-17]\n",
    "    #scene.scene.camera.view_angle = 30.0\n",
    "    #scene.scene.camera.view_up = [0.24683390337942718, 0.24593292331329802, -0.93733132955911114]\n",
    "    #scene.scene.camera.clipping_range = [0.057117737884348194, 0.1956040854922288]\n",
    "    #scene.scene.camera.compute_view_plane_normal()\n",
    "\n",
    "    #myv.wall_bottom(ax.axes.bounds, opacity=0.2)\n",
    "    #myv.wall_north(ax.axes.bounds)\n",
    "        \n",
    "    #myv.savefig('bolacha'+`it`+'.png')\n",
    "    \n",
    "    mt = mfun.trans_parameter2(m0, M, L, mmax, mmin)\n",
    "        \n",
    "    # Jacobian matrix\n",
    "    G = mfun.Jacobian_tf(xp, yp, zp, model0, M, L, delta, delta, delta, inc, dec)\n",
    "    \n",
    "    # Hessian matrix\n",
    "    H = 2.*np.dot(G.T, G)/N\n",
    "\n",
    "    #prec = np.diagonal(H).copy()\n",
    "    #mask = prec < 1e-10\n",
    "    #prec[mask] = 1e-10\n",
    "    #H[:,j] /= prec    \n",
    "\n",
    "    H = mfun.Hessian_phi_1(M, L, H, alpha1)\n",
    "    H = mfun.Hessian_phi_2(M, L, H, alpha2)\n",
    "    H = mfun.Hessian_phi_3(M, L, H, alpha3)\n",
    "    H = mfun.Hessian_phi_4(M, L, H, alpha4)\n",
    "    H = mfun.Hessian_phi_5(M, L, H, alpha5)\n",
    "    H = mfun.Hessian_phi_6(M, L, H, alpha6)\n",
    "    \n",
    "    # gradient vector\n",
    "    grad = -2.*np.dot(G.T, res)/N\n",
    "\n",
    "    #grad /= prec \n",
    "\n",
    "    grad = mfun.gradient_phi_1(M, L, grad, alpha1)\n",
    "    grad = mfun.gradient_phi_2(M, L, grad, alpha2)\n",
    "    grad = mfun.gradient_phi_3(M, L, grad, m_out, alpha3)\n",
    "    grad = mfun.gradient_phi_4(M, L, grad, m_out[-2:], alpha4)\n",
    "    grad = mfun.gradient_phi_5(M, L, grad, alpha5)\n",
    "    grad = mfun.gradient_phi_6(M, L, grad, alpha6)\n",
    "\n",
    "    # positivity matrix diagonal\n",
    "    T = ((mmax - m0 + 1e-10)*(m0 - mmin + 1e-10))/(mmax - mmin)\n",
    "    \n",
    "    for it_marq in range(itmax_marq): \n",
    "\n",
    "        #S = H.copy()\n",
    "        #S = H[:,:]\n",
    "        #S[i,:] *= T\n",
    "        #S[i,j] += lamb\n",
    "\n",
    "        delta_mt = np.linalg.solve(H*np.identity(P)*(T + lamb), -grad)\n",
    "        #print np.min(delta_mt)\n",
    "        \n",
    "        # criar teste pra esta função\n",
    "        m_est = mfun.trans_inv_parameter2(mt + delta_mt, M, L, mmax, mmin)\n",
    "        #m_est = m0 + delta_mt\n",
    "\n",
    "        model_est = mfun.param2polyprism(m_est, M, L, kimb_model['z0'], dz, kimb_model['props'])\n",
    "\n",
    "        d_fit = polyprism.tf(xp, yp, zp, model_est, inc, dec)\n",
    "        res = dobs - d_fit\n",
    "        phi = np.sum(res*res)/N\n",
    "        phi += mfun.phi_1(M, L, m_est, alpha1) + mfun.phi_2(M, L, m_est, alpha2) + \\\n",
    "                mfun.phi_3(M, L, m_est, m_out, alpha3) + mfun.phi_4(M, L, m_est, m_out[-2:], alpha4) + \\\n",
    "                mfun.phi_5(M, L, m_est, alpha5) + mfun.phi_6(M, L, m_est, alpha6)\n",
    "        dphi = phi - phi0\n",
    "        \n",
    "        print '%3d %.5e %3d %.e' % (it, phi, it_marq, lamb)\n",
    "        \n",
    "        if (dphi > 0.):\n",
    "            lamb *= dlamb\n",
    "        else:\n",
    "            if lamb/dlamb < 1e-15:\n",
    "                lamb = 1e-15\n",
    "            else:\n",
    "                lamb /= dlamb\n",
    "            break\n",
    "            \n",
    "    if (abs(dphi/phi0) < epsilon):\n",
    "        break\n",
    "    else:\n",
    "        d0 = d_fit\n",
    "        m0 = m_est\n",
    "        model0 = model_est\n",
    "        phi0 = phi\n",
    "        phi_list.append(phi0)"
   ]
  },
  {
   "cell_type": "code",
   "execution_count": 14,
   "metadata": {
    "collapsed": false
   },
   "outputs": [],
   "source": [
    "for i, (mv, mm) in enumerate(zip(m0,mmin)):\n",
    "    if mv<=mm:\n",
    "        print '%.15e,%3d' % (mv,i)"
   ]
  },
  {
   "cell_type": "raw",
   "metadata": {},
   "source": [
    "plt.figure(figsize=(15,10))\n",
    "plt.subplot(1,3,1)\n",
    "plt.title(\"Fitted data (nT)\", fontsize = 18)\n",
    "plt.axis('scaled')\n",
    "nlevels = mpl.contourf(yp, xp, d0,regular_grid['shape'], 15, cmap='RdBu_r')\n",
    "plt.xlabel('East y (km)')\n",
    "plt.ylabel('North x (km)')\n",
    "plt.colorbar(pad=0.01, aspect=20, shrink=0.4).set_label('nT')\n",
    "mpl.m2km()\n",
    "plt.savefig('predicted_data.png')\n",
    "plt.show()"
   ]
  },
  {
   "cell_type": "code",
   "execution_count": 15,
   "metadata": {
    "collapsed": false
   },
   "outputs": [
    {
     "name": "stdout",
     "output_type": "stream",
     "text": [
      "[  5.87027484e-02   6.94259597e-02   7.71745089e-02   8.31740568e-02\n",
      "   8.75802575e-02   9.03590978e-02   9.17036536e-02   9.17688032e-02\n",
      "   9.07782371e-02   8.91334823e-02   8.67374032e-02   8.30439460e-02\n",
      "   7.82713137e-02   7.36694387e-02   7.07541400e-02   7.06625374e-02\n",
      "   7.39012709e-02   7.85015364e-02   8.10815716e-02   8.04149361e-02\n",
      "   7.67931579e-02   7.21566950e-02   7.01305323e-02   7.20389587e-02\n",
      "   7.63856648e-02   8.10664232e-02   8.50495670e-02   8.81420332e-02\n",
      "   9.01600678e-02   9.09644214e-02   9.02885195e-02   8.78201923e-02\n",
      "   8.36041308e-02   7.79415633e-02   7.12209624e-02   6.37776299e-02\n",
      "   5.57988987e-02   4.74998752e-02   3.96248716e-02   3.43362383e-02\n",
      "   3.63215333e-02   5.35092176e-02   9.18058388e-02   1.36712382e-01\n",
      "   1.53526237e-01   1.27132868e-01   8.11317683e-02   4.89532898e-02\n",
      "   4.02218979e-02   4.62778746e-02   2.10578310e-02  -3.35017695e-03\n",
      "   6.18158597e-02   6.12062989e-02   5.92541533e-02   5.71886226e-02\n",
      "   5.52207353e-02   5.33686524e-02   5.17410663e-02   5.04646204e-02\n",
      "   4.96153148e-02   4.92013137e-02   4.91737504e-02   4.94496343e-02\n",
      "   4.99355380e-02   5.05416313e-02   5.11836012e-02   5.17799505e-02\n",
      "   5.22535636e-02   5.25399254e-02   5.25983637e-02   5.24216876e-02\n",
      "   5.20415276e-02   5.15280787e-02   5.09830198e-02   5.05248738e-02\n",
      "   5.02685216e-02   5.03033875e-02   5.06750191e-02   5.13733065e-02\n",
      "   5.23306047e-02   5.34336936e-02   5.45508484e-02   5.55661665e-02\n",
      "   5.64024997e-02   5.70185907e-02   5.73894618e-02   5.74954276e-02\n",
      "   5.73316662e-02   5.69245496e-02   5.63354125e-02   5.56494615e-02\n",
      "   5.49620931e-02   5.43708942e-02   5.39697228e-02   5.38390039e-02\n",
      "   5.40337158e-02   5.45746401e-02   5.54473314e-02   5.66199683e-02\n",
      "   5.80981924e-02   5.99628584e-02   5.32314281e-03   5.00556237e-06\n",
      "   3.63526428e-02   3.61367805e-02   3.59276196e-02   3.61522258e-02\n",
      "   3.66145860e-02   3.71663698e-02   3.77474504e-02   3.83243714e-02\n",
      "   3.88701819e-02   3.93630132e-02   3.97876094e-02   4.01360457e-02\n",
      "   4.04072333e-02   4.06055399e-02   4.07389833e-02   4.08173764e-02\n",
      "   4.08506603e-02   4.08475444e-02   4.08145218e-02   4.07553054e-02\n",
      "   4.06707167e-02   4.05590229e-02   4.04166598e-02   4.02392244e-02\n",
      "   4.00225800e-02   3.97639183e-02   3.94626502e-02   3.91210551e-02\n",
      "   3.87446631e-02   3.83423801e-02   3.79263584e-02   3.75115888e-02\n",
      "   3.71151274e-02   3.67548487e-02   3.64476712e-02   3.62073982e-02\n",
      "   3.60425622e-02   3.59548341e-02   3.59384968e-02   3.59812131e-02\n",
      "   3.60659682e-02   3.61738006e-02   3.62868394e-02   3.63911709e-02\n",
      "   3.64787996e-02   3.65455956e-02   3.65715256e-02   3.64574520e-02\n",
      "   3.60170889e-02   3.55538218e-02  -3.68499488e-02   4.91733619e-02]\n"
     ]
    }
   ],
   "source": [
    "print delta_mt"
   ]
  },
  {
   "cell_type": "code",
   "execution_count": 16,
   "metadata": {
    "collapsed": true
   },
   "outputs": [],
   "source": [
    "res_norm = (res - np.mean(res))/np.std(res)"
   ]
  },
  {
   "cell_type": "code",
   "execution_count": 17,
   "metadata": {
    "collapsed": false
   },
   "outputs": [
    {
     "data": {
      "text/plain": [
       "(-3.552713678800501e-17, 0.99999999999999989)"
      ]
     },
     "execution_count": 17,
     "metadata": {},
     "output_type": "execute_result"
    }
   ],
   "source": [
    "np.mean(res_norm), np.std(res_norm)"
   ]
  },
  {
   "cell_type": "code",
   "execution_count": 18,
   "metadata": {
    "collapsed": false
   },
   "outputs": [
    {
     "data": {
      "image/png": "[encoded data removed]",
      "text/plain": [
       "<matplotlib.figure.Figure at 0x7fa137703dd0>"
      ]
     },
     "metadata": {},
     "output_type": "display_data"
    }
   ],
   "source": [
    "#ddif = dobs - d0\n",
    "plt.figure(figsize=(15,5))\n",
    "plt.subplot(1,2,1)\n",
    "plt.title(\"Residual data (nT)\", fontsize = 18)\n",
    "plt.axis('scaled')\n",
    "nlevels = mpl.contourf(yp, xp, res_norm,regular_grid['shape'], 15, cmap='RdBu_r')\n",
    "plt.xlabel('East y (km)')\n",
    "plt.ylabel('North x (km)')\n",
    "plt.colorbar(pad=0.01, aspect=20, shrink=0.99).set_label('nT')\n",
    "for p in kimb_model['prisms']:\n",
    "    mpl.polygon(p, '.-b', xy2ne=True)\n",
    "for p in model_est:\n",
    "    mpl.polygon(p, '.-k', xy2ne=True)\n",
    "mpl.m2km()\n",
    "#plt.savefig('residual_data.png', dpi=300)\n",
    "plt.subplot(1,2,2)\n",
    "#plt.axis('auto')\n",
    "plt.title('Histogram', fontsize = 18)\n",
    "plt.xlabel('$\\mu$ = %.7f  $\\sigma$ = %.7f' % (np.mean(res_norm), np.std(res_norm)), fontsize=20)\n",
    "nbins = int((np.max(res_norm) - np.min(res_norm)))\n",
    "plt.hist(res_norm,bins=nbins, normed=True)\n",
    "plt.ylim(0.,0.5)\n",
    "plt.xlim(-10., 10.)\n",
    "plt.savefig('fit_hist_kimb.png', dpi=300)\n",
    "plt.show()"
   ]
  },
  {
   "cell_type": "code",
   "execution_count": 19,
   "metadata": {
    "collapsed": false
   },
   "outputs": [
    {
     "data": {
      "image/png": "[encoded data removed]",
      "text/plain": [
       "<matplotlib.figure.Figure at 0x7fa13bd9c4d0>"
      ]
     },
     "metadata": {},
     "output_type": "display_data"
    }
   ],
   "source": [
    "plt.title('Convergence', fontsize = 18)\n",
    "plt.xlabel('Iteration number')\n",
    "plt.ylabel('Phi value')\n",
    "plt.plot(phi_list)\n",
    "plt.savefig('convergence_kimb.png', dpi=300)\n",
    "plt.show()"
   ]
  },
  {
   "cell_type": "code",
   "execution_count": 20,
   "metadata": {
    "collapsed": false
   },
   "outputs": [
    {
     "data": {
      "image/png": "[encoded data removed]",
      "text/plain": [
       "<IPython.core.display.Image object>"
      ]
     },
     "execution_count": 20,
     "metadata": {},
     "output_type": "execute_result"
    }
   ],
   "source": [
    "bounds = [-700., 700., -700., 700., -100.0, 400.]\n",
    "\n",
    "red, green, blue = (1, 0, 0), (0, 1, 0), (0, 0, 1)\n",
    "white, black = (1, 1, 1), (0, 0, 0),\n",
    "\n",
    "# Show the model\n",
    "scene = myv.figure()\n",
    "myv.polyprisms(kimb_model['prisms'], 'magnetization', color=blue, linewidth=1.8, style='wireframe', opacity=.3)\n",
    "myv.polyprisms(model_est, 'magnetization', color=red, linewidth=3.5)\n",
    "\n",
    "ax = myv.axes(myv.outline(bounds), ranges=[i * 0.001 for i in bounds])\n",
    "ax.axes.x_label, ax.axes.y_label, ax.axes.z_label = 'x (m)', 'y (m)', 'z (m)'\n",
    "ax.axes.font_factor = 1.5\n",
    "scene.scene.camera.position = [-426.1652158049385, 29316.998394339513, 1083.75267621392]\n",
    "scene.scene.camera.focal_point = [64.94969726337861, 49.999999999996696, 1499.9999999999914]\n",
    "scene.scene.camera.view_angle = 30.0\n",
    "scene.scene.camera.view_up = [-0.38164378203997201, -0.019547144902791823, -0.92410277175018563]\n",
    "scene.scene.camera.clipping_range = [18694.43440446123, 42662.280709919083]\n",
    "scene.scene.camera.compute_view_plane_normal()\n",
    "scene.scene.render()\n",
    "\n",
    "myv.wall_bottom(ax.axes.bounds, opacity=0.2)\n",
    "myv.wall_north(ax.axes.bounds)\n",
    "myv.savefig('bolacha_kimb.png')\n",
    "myv.show()\n",
    "\n",
    "img(filename='bolacha_kimb.png')"
   ]
  },
  {
   "cell_type": "markdown",
   "metadata": {},
   "source": [
    "# Algoritmo Levenberg-Marquadt"
   ]
  },
  {
   "cell_type": "markdown",
   "metadata": {},
   "source": [
    "1- Iteração $k=0$: chute inicial $\\mathbf{m}_0$ em que todos os elementos satisfaçam os vínculos de desigualdade e um valor real positivo grande para $\\lambda$"
   ]
  },
  {
   "cell_type": "markdown",
   "metadata": {},
   "source": [
    "2) Calcula os parâmetros transformados $\\breve{\\mathbf{m}}_k$"
   ]
  },
  {
   "cell_type": "markdown",
   "metadata": {},
   "source": [
    "Os parâmetros transformados são calculados a partir da equação:\n",
    "\n",
    "\\begin{equation}\n",
    "\\breve{m}_i = f(m_i) = - \\ln\\left(\\frac{m_{i\\, max} - m_i}{m_i - m_{i\\, min}}\\right)\n",
    "\\end{equation}"
   ]
  },
  {
   "cell_type": "markdown",
   "metadata": {},
   "source": [
    "A transformação inversa dos parâmetros é dada pela equação:\n",
    "\n",
    "\\begin{equation}\n",
    "m_i = f^{-1}(\\breve{m}_i) = m_{i\\, min} + \\left(\\frac{m_{i\\, max} - m_{i\\, min}}{1 + e^{-\\breve{m}_i}}\\right)\n",
    "\\end{equation}"
   ]
  },
  {
   "cell_type": "markdown",
   "metadata": {},
   "source": [
    "3) laço externo: calcula $\\nabla^2\\Gamma (\\hat{\\mathbf{m}}_k)$, $\\nabla\\Gamma (\\hat{\\mathbf{m}}_k)$ e $T(\\hat{\\mathbf{m}}_k)$:"
   ]
  },
  {
   "cell_type": "markdown",
   "metadata": {},
   "source": [
    "a) laço interno: calcula $\\Delta \\breve{\\mathbf{m}}_k$ solucionando o sistema linear abaixo\n",
    "\n",
    "\\begin{equation}\n",
    "\\left[\\nabla^2\\Gamma (\\hat{\\mathbf{m}}_k)\\mathbf{T}(\\hat{\\mathbf{m}}_k) + \\lambda \\mathbf{I} \\right] \\Delta\\breve{\\mathbf{m}}_k \\approx - \\nabla \\Gamma (\\hat{\\mathbf{m}}_k)\n",
    "\\end{equation}\n",
    "\n",
    "onde $\\mathbf{T}(\\hat{\\mathbf{m}}_k)$ é uma matriz diagonal\n",
    "\\begin{equation}\n",
    "[\\mathbf{T}(\\hat{\\mathbf{m}}_k)]_{ii} = \\frac{(m_{i\\, max} - m_i)(m_i - m_{i\\, min})}{(m_{i\\, max} - m_{i\\, min})}\n",
    "\\end{equation}"
   ]
  },
  {
   "cell_type": "markdown",
   "metadata": {},
   "source": [
    "b) calcula $\\breve{\\mathbf{m}}_{k+1} = \\breve{\\mathbf{m}}_k + \\Delta\\breve{\\mathbf{m}}_k$"
   ]
  },
  {
   "cell_type": "markdown",
   "metadata": {},
   "source": [
    "c) computa $\\hat{\\mathbf{m}}_{k+1}$"
   ]
  },
  {
   "cell_type": "markdown",
   "metadata": {},
   "source": [
    "d) Enquanto $\\Gamma (\\hat{\\mathbf{m}}_{k+1})<\\Gamma (\\hat{\\mathbf{m}}_k)$ \n",
    "\n",
    "   i $\\lambda = \\lambda\\cdot d\\lambda$\n",
    "\n",
    "   ii retorne para 3)a)"
   ]
  },
  {
   "cell_type": "markdown",
   "metadata": {},
   "source": [
    "e) $\\lambda = \\lambda/d\\lambda$"
   ]
  },
  {
   "cell_type": "markdown",
   "metadata": {},
   "source": [
    "4) Enquanto $\\Gamma (\\hat{\\mathbf{m}}_{k+1})<\\Gamma (\\hat{\\mathbf{m}}_k)$ e $\\frac{|\\Gamma (\\hat{\\mathbf{m}}_{k+1})- \\Gamma (\\hat{\\mathbf{m}}_k)|}{|\\Gamma (\\hat{\\mathbf{m}}_k)|}>\\varepsilon$\n",
    "\n",
    "a) $k=k+1$\n",
    "\n",
    "b) Retorne para etapa 2)"
   ]
  }
 ],
 "metadata": {
  "anaconda-cloud": {},
  "kernelspec": {
   "display_name": "Python 2",
   "language": "python",
   "name": "python2"
  },
  "language_info": {
   "codemirror_mode": {
    "name": "ipython",
    "version": 2
   },
   "file_extension": ".py",
   "mimetype": "text/x-python",
   "name": "python",
   "nbconvert_exporter": "python",
   "pygments_lexer": "ipython2",
   "version": "2.7.13"
  }
 },
 "nbformat": 4,
 "nbformat_minor": 1
}
