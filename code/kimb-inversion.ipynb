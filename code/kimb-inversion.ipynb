{
 "cells": [
  {
   "cell_type": "markdown",
   "metadata": {},
   "source": [
    "# Roteiro Levenberg-Marquadt"
   ]
  },
  {
   "cell_type": "markdown",
   "metadata": {},
   "source": [
    "Esse código é um protótipo de função para a implementação do algoritmo de Levenberg-Marquadt, o qual é utilizado para estimar parâmetros não-lineares. "
   ]
  },
  {
   "cell_type": "markdown",
   "metadata": {},
   "source": [
    "\\begin{equation}\n",
    "\\Gamma (\\textbf{m}) = \\Psi (\\textbf{m}) + \\sum\\limits^{6}_{j=1}\\alpha_{j}\\varphi_{j}(\\textbf{m})\n",
    "\\end{equation}"
   ]
  },
  {
   "cell_type": "code",
   "execution_count": 1,
   "metadata": {
    "collapsed": true
   },
   "outputs": [],
   "source": [
    "#%load_ext line_profiler"
   ]
  },
  {
   "cell_type": "code",
   "execution_count": 2,
   "metadata": {
    "collapsed": false
   },
   "outputs": [
    {
     "name": "stderr",
     "output_type": "stream",
     "text": [
      "/home/vital/anaconda2/lib/python2.7/site-packages/fatiando/vis/mpl.py:76: UserWarning: This module will be removed in v0.6. We recommend the use of matplotlib.pyplot module directly. Some of the fatiando specific functions will remain.\n",
      "  \"specific functions will remain.\")\n",
      "/home/vital/anaconda2/lib/python2.7/site-packages/fatiando/vis/myv.py:51: UserWarning: This module will be removed in v0.7.\n",
      "  warnings.warn(\"This module will be removed in v0.7.\")\n"
     ]
    }
   ],
   "source": [
    "import numpy as np\n",
    "import matplotlib.pyplot as plt\n",
    "import numpy.testing as npt\n",
    "import cPickle as pickle\n",
    "\n",
    "from fatiando.gridder import regular\n",
    "from copy import deepcopy\n",
    "from __future__ import division\n",
    "from fatiando import mesher, gridder, utils\n",
    "from fatiando.gravmag import polyprism\n",
    "from fatiando.mesher import PolygonalPrism\n",
    "from fatiando.gravmag import prism\n",
    "from fatiando.mesher import Prism\n",
    "from fatiando.vis import mpl, myv\n",
    "from fatiando.constants import CM, T2NT\n",
    "from matplotlib import colors, ticker, cm\n",
    "from IPython.display import Image as img\n",
    "import mag_polyprism_functions as mfun\n",
    "import polyprism_tests as tests\n",
    "#% matplotlib inline"
   ]
  },
  {
   "cell_type": "markdown",
   "metadata": {},
   "source": [
    "# Entrada"
   ]
  },
  {
   "cell_type": "markdown",
   "metadata": {},
   "source": [
    "### Gerando os parâmetros verdadeiros"
   ]
  },
  {
   "cell_type": "code",
   "execution_count": 3,
   "metadata": {
    "collapsed": true
   },
   "outputs": [],
   "source": [
    "with open('../data/kimb_model.pickle') as w:\n",
    "        kimb_model = pickle.load(w)\n",
    "        "
   ]
  },
  {
   "cell_type": "markdown",
   "metadata": {},
   "source": [
    "### Pontos de observação"
   ]
  },
  {
   "cell_type": "code",
   "execution_count": 4,
   "metadata": {
    "collapsed": true
   },
   "outputs": [],
   "source": [
    "with open('../data/regular_grid.pickle') as w:\n",
    "        regular_grid = pickle.load(w)\n",
    "        "
   ]
  },
  {
   "cell_type": "markdown",
   "metadata": {},
   "source": [
    "# Gerando os dados preditos"
   ]
  },
  {
   "cell_type": "code",
   "execution_count": 5,
   "metadata": {
    "collapsed": true
   },
   "outputs": [],
   "source": [
    "with open('../data/kimb_data.pickle') as w:\n",
    "        kimb_data = pickle.load(w)"
   ]
  },
  {
   "cell_type": "raw",
   "metadata": {},
   "source": [
    "plt.title(\"Observed data (nT)\", fontsize = 18)\n",
    "plt.axis('scaled')\n",
    "nlevels = mpl.contourf(regular_grid['yp'], regular_grid['xp'], kimb_data['data_noise'],\\\n",
    "                       regular_grid['shape'], 15, cmap='RdBu_r')\n",
    "plt.xlabel('East y (km)')\n",
    "plt.ylabel('North x (km)')\n",
    "plt.colorbar(pad=0.01, aspect=20, shrink=1.).set_label('nT')\n",
    "for p in kimb_model['prisms']:\n",
    "    mpl.polygon(p, '.-b', xy2ne=True)\n",
    "for p in model0:\n",
    "    mpl.polygon(p, '.-r', xy2ne=True)\n",
    "mpl.m2km()\n",
    "plt.savefig('observed_kimb_data.png', dpi=300)\n",
    "plt.show()"
   ]
  },
  {
   "cell_type": "raw",
   "metadata": {},
   "source": [
    "bounds = [-6000., 6000., -6000., 6000., -1000.0, 4000.]\n",
    "\n",
    "red, green, blue = (1, 0, 0), (0, 1, 0), (0, 0, 1)\n",
    "white, black = (1, 1, 1), (0, 0, 0),\n",
    "\n",
    "# Show the model\n",
    "scene = myv.figure()\n",
    "myv.polyprisms(kimb_model['prisms'], 'magnetization', opacity=1., color=blue)\n",
    "#myv.polyprisms(model_est, 'magnetization', opacity=.5, color=red)\n",
    "\n",
    "ax = myv.axes(myv.outline(bounds), ranges=[i * 0.001 for i in bounds])\n",
    "ax.axes.x_label, ax.axes.y_label, ax.axes.z_label = 'x (cm)', 'y (cm)', 'z (cm)'\n",
    "ax.axes.font_factor = 1.5\n",
    "scene.scene.camera.position = [-30007.6639888957, -15394.684156638621, -4038.5651946983317]\n",
    "scene.scene.camera.focal_point = [-3.7945141121672764e-12, 2.6561598785170938e-11, 1500.000000000005]\n",
    "scene.scene.camera.view_angle = 30.0\n",
    "scene.scene.camera.view_up = [0.11836620088545378, 0.12373554686435338, -0.98523040804175532]\n",
    "scene.scene.camera.clipping_range = [17168.738216379563, 55671.470479150623]\n",
    "scene.scene.camera.compute_view_plane_normal()\n",
    "scene.scene.render()\n",
    "\n",
    "myv.wall_bottom(ax.axes.bounds, opacity=0.2)\n",
    "myv.wall_north(ax.axes.bounds)\n",
    "\n",
    "myv.savefig('bolacha_kimb_verd.png')\n",
    "myv.show()\n",
    "img(filename='bolacha_kimb_verd.png')"
   ]
  },
  {
   "cell_type": "markdown",
   "metadata": {},
   "source": [
    "### Parâmetros exigidos durante a inversão"
   ]
  },
  {
   "cell_type": "code",
   "execution_count": 6,
   "metadata": {
    "collapsed": true
   },
   "outputs": [],
   "source": [
    "a1 = 100000.1   # adjacent radial distances within each prism\n",
    "a2 = 0.    # vertically adjacent radial distances\n",
    "a3 = 0.     # outcropping cross-section\n",
    "a4 = 0.     # outcropping origin\n",
    "a5 = 1000.1  # vertically adjacent origins\n",
    "a6 = 0.000001   # zero order Tikhonov on adjacent radial distances"
   ]
  },
  {
   "cell_type": "code",
   "execution_count": 7,
   "metadata": {
    "collapsed": true
   },
   "outputs": [],
   "source": [
    "M = 50 # number of vertices per prism\n",
    "L = 3 # number of prisms\n",
    "P = L*(M+2) # number of parameters\n",
    "dz = 100.\n",
    "\n",
    "# limits for parameters in meters\n",
    "rmin = 1.\n",
    "rmax = 700.\n",
    "x0min = -700.\n",
    "x0max = 700.\n",
    "y0min = -700.\n",
    "y0max = 700.\n",
    "\n",
    "mmin, mmax = mfun.build_range_param(M, L, rmin, rmax, x0min, x0max, y0min, y0max)\n",
    "\n",
    "itmax = 30\n",
    "itmax_marq = 10\n",
    "epsilon = 1.0e-4     # convergence criterion\n",
    "gamma = 1.0e-7\n",
    "\n",
    "delta = 1. # increment of derivatives\n",
    "m_out = np.zeros(M + 2)  # outcropping body parameters\n",
    "\n",
    "inc = kimb_model['inc']\n",
    "dec = kimb_model['dec']\n",
    "dobs = kimb_data['data_noise']\n",
    "xp = regular_grid['xp']\n",
    "yp = regular_grid['yp']\n",
    "zp = regular_grid['zp']\n",
    "N = regular_grid['N']\n",
    "\n",
    "rin = np.linspace(40.,50.,M)\n",
    "rin = np.hstack((rin, np.zeros(2)))\n",
    "m0 = np.resize(rin, P) # inicial parameters vector\n",
    "model0 = mfun.param2polyprism(m0, M, L, kimb_model['z0'], dz, kimb_model['props']) # list of classes of prisms\n",
    "d0 = polyprism.tf(xp, yp, zp, model0, inc, dec) # predict data\n",
    "res = dobs - d0"
   ]
  },
  {
   "cell_type": "code",
   "execution_count": 8,
   "metadata": {
    "collapsed": false
   },
   "outputs": [],
   "source": [
    "G = mfun.Jacobian_tf(xp, yp, zp, model0, M, L, delta, delta, delta, inc, dec)\n",
    "H = 2.*np.dot(G.T, G)/N\n",
    "th = np.trace(H)/P"
   ]
  },
  {
   "cell_type": "code",
   "execution_count": 9,
   "metadata": {
    "collapsed": false
   },
   "outputs": [
    {
     "name": "stdout",
     "output_type": "stream",
     "text": [
      "1.45505266813e-06\n"
     ]
    }
   ],
   "source": [
    "print th"
   ]
  },
  {
   "cell_type": "code",
   "execution_count": 10,
   "metadata": {
    "collapsed": false
   },
   "outputs": [
    {
     "name": "stdout",
     "output_type": "stream",
     "text": [
      "1.84797790488e-07\n"
     ]
    }
   ],
   "source": [
    "print np.median(np.diag(H))"
   ]
  },
  {
   "cell_type": "code",
   "execution_count": 11,
   "metadata": {
    "collapsed": true
   },
   "outputs": [],
   "source": [
    "#lamb = th*0.01 # Marquadt's parameter\n",
    "lamb = 100000000.*th\n",
    "dlamb = 10.       # step for Marquadt's parameter\n",
    "\n",
    "alpha1, alpha2, alpha3, alpha4, alpha5, alpha6 = mfun.norm_regul_param(M, L, th, m_out, a1, a2, a3, a4, a5, a6)\n",
    "#alpha1, alpha2, alpha3, alpha4, alpha5, alpha6 = mfun.norm_regul_param(M, L, 1., m_out, a1, a2, a3, a4, a5, a6)\n"
   ]
  },
  {
   "cell_type": "code",
   "execution_count": 12,
   "metadata": {
    "collapsed": false
   },
   "outputs": [
    {
     "name": "stdout",
     "output_type": "stream",
     "text": [
      "0.145505412319\n",
      "0.0\n",
      "0.0\n",
      "0.0\n",
      "0.0014551981734\n",
      "1.45505266813e-12\n"
     ]
    }
   ],
   "source": [
    "print alpha1\n",
    "print alpha2\n",
    "print alpha3\n",
    "print alpha4\n",
    "print alpha5\n",
    "print alpha6"
   ]
  },
  {
   "cell_type": "code",
   "execution_count": 13,
   "metadata": {
    "collapsed": false
   },
   "outputs": [
    {
     "name": "stdout",
     "output_type": "stream",
     "text": [
      "[]\n",
      "  0 1.45625e+03   0 1e+02\n"
     ]
    }
   ],
   "source": [
    "phi0 = np.sum(res*res)/N\n",
    "phi0 += mfun.phi_1(M, L, m0, alpha1) + mfun.phi_2(M, L, m0, alpha2) + \\\n",
    "        mfun.phi_3(M, L, m0, m_out, alpha3) + mfun.phi_4(M, L, m0, m_out[-2:], alpha4) + \\\n",
    "        mfun.phi_5(M, L, m0, alpha5) + mfun.phi_6(M, L, m0, alpha6)\n",
    "phi_list = [phi0]\n",
    "    \n",
    "i,j = np.diag_indices(P)\n",
    "for it in range(itmax):\n",
    "    #bounds = [-3000., 3000., -3000., 3000., -1000.0, 4000.]\n",
    "\n",
    "    #red, green, blue = (1, 0, 0), (0, 1, 0), (0, 0, 1)\n",
    "    #white, black = (1, 1, 1), (0, 0, 0),\n",
    "    #scene = myv.figure()\n",
    "    #myv.polyprisms(kimb_model['prisms'], 'magnetization', color=blue, linewidth=1.8, style='wireframe', opacity=.3)\n",
    "    #myv.polyprisms(model0, 'magnetization', color=red, linewidth=3.5)\n",
    "\n",
    "    #ax = myv.axes(myv.outline(bounds), ranges=[t * 0.001 for t in bounds])\n",
    "    #ax.axes.x_label, ax.axes.y_label, ax.axes.z_label = 'x (cm)', 'y (cm)', 'z (cm)'\n",
    "    #ax.axes.font_factor = 1.5\n",
    "    #scene.scene.camera.position = [-0.089204656936016313, -0.066107174155361687, -0.04083578885723696]\n",
    "    #scene.scene.camera.focal_point = [1.1820671636724554e-16, 1.3134079596360617e-17, -1.9701119394540926e-17]\n",
    "    #scene.scene.camera.view_angle = 30.0\n",
    "    #scene.scene.camera.view_up = [0.24683390337942718, 0.24593292331329802, -0.93733132955911114]\n",
    "    #scene.scene.camera.clipping_range = [0.057117737884348194, 0.1956040854922288]\n",
    "    #scene.scene.camera.compute_view_plane_normal()\n",
    "\n",
    "    #myv.wall_bottom(ax.axes.bounds, opacity=0.2)\n",
    "    #myv.wall_north(ax.axes.bounds)\n",
    "        \n",
    "    #myv.savefig('bolacha'+`it`+'.png')\n",
    "    \n",
    "    mt = mfun.trans_parameter2(m0, M, L, mmax, mmin)\n",
    "        \n",
    "    # Jacobian matrix\n",
    "    G = mfun.Jacobian_tf(xp, yp, zp, model0, M, L, delta, delta, delta, inc, dec)\n",
    "    \n",
    "    # Hessian matrix\n",
    "    H = 2.*np.dot(G.T, G)/N\n",
    "\n",
    "    #prec = np.diagonal(H).copy()\n",
    "    #mask = prec < 1e-10\n",
    "    #prec[mask] = 1e-10\n",
    "    #H[:,j] /= prec    \n",
    "\n",
    "    H = mfun.Hessian_phi_1(M, L, H, alpha1)\n",
    "    H = mfun.Hessian_phi_2(M, L, H, alpha2)\n",
    "    H = mfun.Hessian_phi_3(M, L, H, alpha3)\n",
    "    H = mfun.Hessian_phi_4(M, L, H, alpha4)\n",
    "    H = mfun.Hessian_phi_5(M, L, H, alpha5)\n",
    "    H = mfun.Hessian_phi_6(M, L, H, alpha6)\n",
    "    \n",
    "    # gradient vector\n",
    "    grad = -2.*np.dot(G.T, res)/N\n",
    "\n",
    "    #grad /= prec \n",
    "\n",
    "    grad = mfun.gradient_phi_1(M, L, grad, alpha1)\n",
    "    grad = mfun.gradient_phi_2(M, L, grad, alpha2)\n",
    "    grad = mfun.gradient_phi_3(M, L, grad, m_out, alpha3)\n",
    "    grad = mfun.gradient_phi_4(M, L, grad, m_out[-2:], alpha4)\n",
    "    grad = mfun.gradient_phi_5(M, L, grad, alpha5)\n",
    "    grad = mfun.gradient_phi_6(M, L, grad, alpha6)\n",
    "\n",
    "    # positivity matrix diagonal\n",
    "    T = ((mmax - m0 + 1e-10)*(m0 - mmin + 1e-10))/(mmax - mmin)\n",
    "    \n",
    "    for it_marq in range(itmax_marq): \n",
    "\n",
    "        #S = H.copy()\n",
    "        #S = H[:,:]\n",
    "        #S[i,:] *= T\n",
    "        #S[i,j] += lamb\n",
    "\n",
    "        delta_mt = np.linalg.solve(H*np.identity(P)*(T + lamb), -grad)\n",
    "        #print np.min(delta_mt)\n",
    "        \n",
    "        # criar teste pra esta função\n",
    "        m_est = mfun.trans_inv_parameter2(mt + delta_mt, M, L, mmax, mmin)\n",
    "        #m_est = m0 + delta_mt\n",
    "\n",
    "        model_est = mfun.param2polyprism(m_est, M, L, kimb_model['z0'], dz, kimb_model['props'])\n",
    "\n",
    "        d_fit = polyprism.tf(xp, yp, zp, model_est, inc, dec)\n",
    "        res = dobs - d_fit\n",
    "        phi = np.sum(res*res)/N\n",
    "        phi += mfun.phi_1(M, L, m_est, alpha1) + mfun.phi_2(M, L, m_est, alpha2) + \\\n",
    "                mfun.phi_3(M, L, m_est, m_out, alpha3) + mfun.phi_4(M, L, m_est, m_out[-2:], alpha4) + \\\n",
    "                mfun.phi_5(M, L, m_est, alpha5) + mfun.phi_6(M, L, m_est, alpha6)\n",
    "        dphi = phi - phi0\n",
    "        \n",
    "        print '%3d %.5e %3d %.e' % (it, phi, it_marq, lamb)\n",
    "        \n",
    "        if (dphi > 0.):\n",
    "            lamb *= dlamb\n",
    "        else:\n",
    "            if lamb/dlamb < 1e-15:\n",
    "                lamb = 1e-15\n",
    "            else:\n",
    "                lamb /= dlamb\n",
    "            break\n",
    "            \n",
    "    if (abs(dphi/phi0) < epsilon):\n",
    "        break\n",
    "    else:\n",
    "        d0 = d_fit\n",
    "        m0 = m_est\n",
    "        model0 = model_est\n",
    "        phi0 = phi\n",
    "        phi_list.append(phi0)"
   ]
  },
  {
   "cell_type": "code",
   "execution_count": 14,
   "metadata": {
    "collapsed": false
   },
   "outputs": [],
   "source": [
    "for i, (mv, mm) in enumerate(zip(m0,mmin)):\n",
    "    if mv<=mm:\n",
    "        print '%.15e,%3d' % (mv,i)"
   ]
  },
  {
   "cell_type": "raw",
   "metadata": {},
   "source": [
    "plt.figure(figsize=(15,10))\n",
    "plt.subplot(1,3,1)\n",
    "plt.title(\"Fitted data (nT)\", fontsize = 18)\n",
    "plt.axis('scaled')\n",
    "nlevels = mpl.contourf(yp, xp, d0,regular_grid['shape'], 15, cmap='RdBu_r')\n",
    "plt.xlabel('East y (km)')\n",
    "plt.ylabel('North x (km)')\n",
    "plt.colorbar(pad=0.01, aspect=20, shrink=0.4).set_label('nT')\n",
    "mpl.m2km()\n",
    "plt.savefig('predicted_data.png')\n",
    "plt.show()"
   ]
  },
  {
   "cell_type": "code",
   "execution_count": 15,
   "metadata": {
    "collapsed": false
   },
   "outputs": [
    {
     "name": "stdout",
     "output_type": "stream",
     "text": [
      "[ 0.00033907  0.00029189  0.00029892  0.00030042  0.00030187  0.00030326\n",
      "  0.00030461  0.0003059   0.00030712  0.00030829  0.0003094   0.00031045\n",
      "  0.00031144  0.00031237  0.00031326  0.0003141   0.00031489  0.00031565\n",
      "  0.00031638  0.00031709  0.00031778  0.00031846  0.00031913  0.00031981\n",
      "  0.0003205   0.0003212   0.00032193  0.00032269  0.00032348  0.00032431\n",
      "  0.00032519  0.00032613  0.00032711  0.00032816  0.00032928  0.00033046\n",
      "  0.00033171  0.00033303  0.00033443  0.00033588  0.00033741  0.00033899\n",
      "  0.00034063  0.00034231  0.00034403  0.00034577  0.00034753  0.0003493\n",
      "  0.00035631  0.00031151  0.00406637  0.00629636  0.00025056  0.00021587\n",
      "  0.00022117  0.00022237  0.00022353  0.00022462  0.00022565  0.0002266\n",
      "  0.00022748  0.00022829  0.00022902  0.00022969  0.00023029  0.00023085\n",
      "  0.00023137  0.00023187  0.00023234  0.00023281  0.00023329  0.00023378\n",
      "  0.00023429  0.00023482  0.00023537  0.00023595  0.00023656  0.00023719\n",
      "  0.00023784  0.0002385   0.00023917  0.00023985  0.00024053  0.00024122\n",
      "  0.00024192  0.00024262  0.00024334  0.00024408  0.00024485  0.00024566\n",
      "  0.00024651  0.00024742  0.00024839  0.00024944  0.00025056  0.00025175\n",
      "  0.00025301  0.00025435  0.00025574  0.00025717  0.00026251  0.00022971\n",
      "  0.00151357  0.00275783  0.00018132  0.00015626  0.00016012  0.00016102\n",
      "  0.00016187  0.00016268  0.00016343  0.00016413  0.00016476  0.00016533\n",
      "  0.00016584  0.0001663   0.00016671  0.00016708  0.00016743  0.00016776\n",
      "  0.00016808  0.0001684   0.00016873  0.00016908  0.00016944  0.00016983\n",
      "  0.00017025  0.00017069  0.00017115  0.00017163  0.00017212  0.00017262\n",
      "  0.00017313  0.00017363  0.00017413  0.00017463  0.00017512  0.00017561\n",
      "  0.00017611  0.00017661  0.00017713  0.00017767  0.00017824  0.00017886\n",
      "  0.00017952  0.00018025  0.00018104  0.00018189  0.0001828   0.00018378\n",
      "  0.00018481  0.00018588  0.00018978  0.00016611  0.00214288  0.00416286]\n"
     ]
    }
   ],
   "source": [
    "print delta_mt"
   ]
  },
  {
   "cell_type": "code",
   "execution_count": 16,
   "metadata": {
    "collapsed": true
   },
   "outputs": [],
   "source": [
    "res_norm = (res - np.mean(res))/np.std(res)"
   ]
  },
  {
   "cell_type": "code",
   "execution_count": 17,
   "metadata": {
    "collapsed": false
   },
   "outputs": [
    {
     "data": {
      "text/plain": [
       "(0.0, 1.0)"
      ]
     },
     "execution_count": 17,
     "metadata": {},
     "output_type": "execute_result"
    }
   ],
   "source": [
    "np.mean(res_norm), np.std(res_norm)"
   ]
  },
  {
   "cell_type": "code",
   "execution_count": 18,
   "metadata": {
    "collapsed": false
   },
   "outputs": [
    {
     "data": {
      "image/png": "[encoded data removed]",
      "text/plain": [
       "<matplotlib.figure.Figure at 0x7fbc4c9a8e10>"
      ]
     },
     "metadata": {},
     "output_type": "display_data"
    }
   ],
   "source": [
    "#ddif = dobs - d0\n",
    "plt.figure(figsize=(15,5))\n",
    "plt.subplot(1,2,1)\n",
    "plt.title(\"Residual data (nT)\", fontsize = 18)\n",
    "plt.axis('scaled')\n",
    "nlevels = mpl.contourf(yp, xp, res_norm,regular_grid['shape'], 15, cmap='RdBu_r')\n",
    "plt.xlabel('East y (km)')\n",
    "plt.ylabel('North x (km)')\n",
    "plt.colorbar(pad=0.01, aspect=20, shrink=0.99).set_label('nT')\n",
    "for p in kimb_model['prisms']:\n",
    "    mpl.polygon(p, '.-b', xy2ne=True)\n",
    "for p in model_est:\n",
    "    mpl.polygon(p, '.-k', xy2ne=True)\n",
    "mpl.m2km()\n",
    "#plt.savefig('residual_data.png', dpi=300)\n",
    "plt.subplot(1,2,2)\n",
    "#plt.axis('auto')\n",
    "plt.title('Histogram', fontsize = 18)\n",
    "plt.xlabel('$\\mu$ = %.7f  $\\sigma$ = %.7f' % (np.mean(res_norm), np.std(res_norm)), fontsize=20)\n",
    "nbins = int((np.max(res_norm) - np.min(res_norm)))\n",
    "plt.hist(res_norm,bins=nbins, normed=True)\n",
    "plt.ylim(0.,0.5)\n",
    "plt.xlim(-10., 10.)\n",
    "plt.savefig('fit_hist_kimb.png', dpi=300)\n",
    "plt.show()"
   ]
  },
  {
   "cell_type": "code",
   "execution_count": 19,
   "metadata": {
    "collapsed": false
   },
   "outputs": [
    {
     "data": {
      "image/png": "[encoded data removed]",
      "text/plain": [
       "<matplotlib.figure.Figure at 0x7fbc503b70d0>"
      ]
     },
     "metadata": {},
     "output_type": "display_data"
    }
   ],
   "source": [
    "plt.title('Convergence', fontsize = 18)\n",
    "plt.xlabel('Iteration number')\n",
    "plt.ylabel('Phi value')\n",
    "plt.plot(phi_list)\n",
    "plt.savefig('convergence_kimb.png', dpi=300)\n",
    "plt.show()"
   ]
  },
  {
   "cell_type": "code",
   "execution_count": 20,
   "metadata": {
    "collapsed": false
   },
   "outputs": [
    {
     "data": {
      "image/png": "[encoded data removed]",
      "text/plain": [
       "<IPython.core.display.Image object>"
      ]
     },
     "execution_count": 20,
     "metadata": {},
     "output_type": "execute_result"
    }
   ],
   "source": [
    "bounds = [-700., 700., -700., 700., -100.0, 400.]\n",
    "\n",
    "red, green, blue = (1, 0, 0), (0, 1, 0), (0, 0, 1)\n",
    "white, black = (1, 1, 1), (0, 0, 0),\n",
    "\n",
    "# Show the model\n",
    "scene = myv.figure()\n",
    "myv.polyprisms(kimb_model['prisms'], 'magnetization', color=blue, linewidth=1.8, style='wireframe', opacity=.3)\n",
    "myv.polyprisms(model_est, 'magnetization', color=red, linewidth=3.5)\n",
    "\n",
    "ax = myv.axes(myv.outline(bounds), ranges=[i * 0.001 for i in bounds])\n",
    "ax.axes.x_label, ax.axes.y_label, ax.axes.z_label = 'x (m)', 'y (m)', 'z (m)'\n",
    "ax.axes.font_factor = 1.5\n",
    "scene.scene.camera.position = [-426.1652158049385, 29316.998394339513, 1083.75267621392]\n",
    "scene.scene.camera.focal_point = [64.94969726337861, 49.999999999996696, 1499.9999999999914]\n",
    "scene.scene.camera.view_angle = 30.0\n",
    "scene.scene.camera.view_up = [-0.38164378203997201, -0.019547144902791823, -0.92410277175018563]\n",
    "scene.scene.camera.clipping_range = [18694.43440446123, 42662.280709919083]\n",
    "scene.scene.camera.compute_view_plane_normal()\n",
    "scene.scene.render()\n",
    "\n",
    "myv.wall_bottom(ax.axes.bounds, opacity=0.2)\n",
    "myv.wall_north(ax.axes.bounds)\n",
    "myv.savefig('bolacha_kimb.png')\n",
    "myv.show()\n",
    "\n",
    "img(filename='bolacha_kimb.png')"
   ]
  },
  {
   "cell_type": "markdown",
   "metadata": {},
   "source": [
    "# Algoritmo Levenberg-Marquadt"
   ]
  },
  {
   "cell_type": "markdown",
   "metadata": {},
   "source": [
    "1- Iteração $k=0$: chute inicial $\\mathbf{m}_0$ em que todos os elementos satisfaçam os vínculos de desigualdade e um valor real positivo grande para $\\lambda$"
   ]
  },
  {
   "cell_type": "markdown",
   "metadata": {},
   "source": [
    "2) Calcula os parâmetros transformados $\\breve{\\mathbf{m}}_k$"
   ]
  },
  {
   "cell_type": "markdown",
   "metadata": {},
   "source": [
    "Os parâmetros transformados são calculados a partir da equação:\n",
    "\n",
    "\\begin{equation}\n",
    "\\breve{m}_i = f(m_i) = - \\ln\\left(\\frac{m_{i\\, max} - m_i}{m_i - m_{i\\, min}}\\right)\n",
    "\\end{equation}"
   ]
  },
  {
   "cell_type": "markdown",
   "metadata": {},
   "source": [
    "A transformação inversa dos parâmetros é dada pela equação:\n",
    "\n",
    "\\begin{equation}\n",
    "m_i = f^{-1}(\\breve{m}_i) = m_{i\\, min} + \\left(\\frac{m_{i\\, max} - m_{i\\, min}}{1 + e^{-\\breve{m}_i}}\\right)\n",
    "\\end{equation}"
   ]
  },
  {
   "cell_type": "markdown",
   "metadata": {},
   "source": [
    "3) laço externo: calcula $\\nabla^2\\Gamma (\\hat{\\mathbf{m}}_k)$, $\\nabla\\Gamma (\\hat{\\mathbf{m}}_k)$ e $T(\\hat{\\mathbf{m}}_k)$:"
   ]
  },
  {
   "cell_type": "markdown",
   "metadata": {},
   "source": [
    "a) laço interno: calcula $\\Delta \\breve{\\mathbf{m}}_k$ solucionando o sistema linear abaixo\n",
    "\n",
    "\\begin{equation}\n",
    "\\left[\\nabla^2\\Gamma (\\hat{\\mathbf{m}}_k)\\mathbf{T}(\\hat{\\mathbf{m}}_k) + \\lambda \\mathbf{I} \\right] \\Delta\\breve{\\mathbf{m}}_k \\approx - \\nabla \\Gamma (\\hat{\\mathbf{m}}_k)\n",
    "\\end{equation}\n",
    "\n",
    "onde $\\mathbf{T}(\\hat{\\mathbf{m}}_k)$ é uma matriz diagonal\n",
    "\\begin{equation}\n",
    "[\\mathbf{T}(\\hat{\\mathbf{m}}_k)]_{ii} = \\frac{(m_{i\\, max} - m_i)(m_i - m_{i\\, min})}{(m_{i\\, max} - m_{i\\, min})}\n",
    "\\end{equation}"
   ]
  },
  {
   "cell_type": "markdown",
   "metadata": {},
   "source": [
    "b) calcula $\\breve{\\mathbf{m}}_{k+1} = \\breve{\\mathbf{m}}_k + \\Delta\\breve{\\mathbf{m}}_k$"
   ]
  },
  {
   "cell_type": "markdown",
   "metadata": {},
   "source": [
    "c) computa $\\hat{\\mathbf{m}}_{k+1}$"
   ]
  },
  {
   "cell_type": "markdown",
   "metadata": {},
   "source": [
    "d) Enquanto $\\Gamma (\\hat{\\mathbf{m}}_{k+1})<\\Gamma (\\hat{\\mathbf{m}}_k)$ \n",
    "\n",
    "   i $\\lambda = \\lambda\\cdot d\\lambda$\n",
    "\n",
    "   ii retorne para 3)a)"
   ]
  },
  {
   "cell_type": "markdown",
   "metadata": {},
   "source": [
    "e) $\\lambda = \\lambda/d\\lambda$"
   ]
  },
  {
   "cell_type": "markdown",
   "metadata": {},
   "source": [
    "4) Enquanto $\\Gamma (\\hat{\\mathbf{m}}_{k+1})<\\Gamma (\\hat{\\mathbf{m}}_k)$ e $\\frac{|\\Gamma (\\hat{\\mathbf{m}}_{k+1})- \\Gamma (\\hat{\\mathbf{m}}_k)|}{|\\Gamma (\\hat{\\mathbf{m}}_k)|}>\\varepsilon$\n",
    "\n",
    "a) $k=k+1$\n",
    "\n",
    "b) Retorne para etapa 2)"
   ]
  }
 ],
 "metadata": {
  "anaconda-cloud": {},
  "kernelspec": {
   "display_name": "Python 2",
   "language": "python",
   "name": "python2"
  },
  "language_info": {
   "codemirror_mode": {
    "name": "ipython",
    "version": 2
   },
   "file_extension": ".py",
   "mimetype": "text/x-python",
   "name": "python",
   "nbconvert_exporter": "python",
   "pygments_lexer": "ipython2",
   "version": "2.7.13"
  }
 },
 "nbformat": 4,
 "nbformat_minor": 1
}
