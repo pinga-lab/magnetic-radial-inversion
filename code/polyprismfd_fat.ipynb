{
 "cells": [
  {
   "cell_type": "markdown",
   "metadata": {},
   "source": [
    "# Polygonal Prisms"
   ]
  },
  {
   "cell_type": "markdown",
   "metadata": {},
   "source": [
    "This code transform a list of prisms with vertices in polar coordinates into a list of classes of polygonal prisms using fatiando."
   ]
  },
  {
   "cell_type": "code",
   "execution_count": 1,
   "metadata": {
    "collapsed": true
   },
   "outputs": [],
   "source": [
    "# Set PySide compatible APIs.\n",
    "import sip\n",
    "sip.setapi('QString', 2)\n",
    "sip.setapi('QVariant', 2)"
   ]
  },
  {
   "cell_type": "code",
   "execution_count": 2,
   "metadata": {
    "collapsed": false
   },
   "outputs": [
    {
     "name": "stderr",
     "output_type": "stream",
     "text": [
      "/home/vital/anaconda2/lib/python2.7/site-packages/fatiando/vis/mpl.py:76: UserWarning: This module will be removed in v0.6. We recommend the use of matplotlib.pyplot module directly. Some of the fatiando specific functions will remain.\n",
      "  \"specific functions will remain.\")\n",
      "/home/vital/anaconda2/lib/python2.7/site-packages/fatiando/vis/myv.py:51: UserWarning: This module will be removed in v0.7.\n",
      "  warnings.warn(\"This module will be removed in v0.7.\")\n"
     ]
    }
   ],
   "source": [
    "import numpy as np\n",
    "import matplotlib.pyplot as plt\n",
    "from __future__ import division\n",
    "from fatiando import mesher, gridder, utils\n",
    "from fatiando.gravmag import polyprism\n",
    "from fatiando.mesher import PolygonalPrism\n",
    "from fatiando.gravmag import prism\n",
    "from fatiando.mesher import Prism\n",
    "from fatiando.vis import mpl, myv\n",
    "from fatiando.constants import CM, T2NT\n",
    "from matplotlib import colors, ticker, cm\n",
    "import mag_polyprism_functions as mfun\n",
    "import polyprism_tests as tests\n",
    "% matplotlib inline"
   ]
  },
  {
   "cell_type": "markdown",
   "metadata": {},
   "source": [
    "### Polygonal prisms"
   ]
  },
  {
   "cell_type": "code",
   "execution_count": 3,
   "metadata": {
    "collapsed": true
   },
   "outputs": [],
   "source": [
    "inc, dec = -60., 50. # inclination and declination of regional field\n",
    "incs, decs = 70., -50.      # wrong direction or remanent"
   ]
  },
  {
   "cell_type": "code",
   "execution_count": 4,
   "metadata": {
    "collapsed": true
   },
   "outputs": [],
   "source": [
    "Np = 10 # number of prisms\n",
    "Nv = 8 # number of vertices\n",
    "\n",
    "#r = 1000. # radial distance for each vertice\n",
    "r = np.zeros(Nv)\n",
    "r[::2] = 3000.\n",
    "r[1::2] = np.sqrt(2.)*3000.\n",
    "\n",
    "# Cartesian coordinates of the origin of each prism\n",
    "x0 = np.zeros(Np) \n",
    "y0 = np.zeros(Np)\n",
    "\n",
    "dz = 300.0    # thickness of each prism"
   ]
  },
  {
   "cell_type": "code",
   "execution_count": 5,
   "metadata": {
    "collapsed": false
   },
   "outputs": [],
   "source": [
    "tests.test_volume()"
   ]
  },
  {
   "cell_type": "code",
   "execution_count": 6,
   "metadata": {
    "collapsed": false
   },
   "outputs": [],
   "source": [
    "props={'magnetization': utils.ang2vec(3, inc, dec)} # physical property\n",
    "\n",
    "z0 = 100.0    # depth of the top the shallowest prism\n",
    "\n",
    "m = []   # list of prisms\n",
    "\n",
    "### creating the lis of prisms\n",
    "\n",
    "for i in range(Np):\n",
    "    m.append([r, x0[i], y0[i], z0 + dz*i, z0 + dz*(i + 1), props])"
   ]
  },
  {
   "cell_type": "code",
   "execution_count": 7,
   "metadata": {
    "collapsed": false
   },
   "outputs": [],
   "source": [
    "model = mfun.pol2cart(m, Np, Nv)"
   ]
  },
  {
   "cell_type": "markdown",
   "metadata": {},
   "source": [
    "# Observation points"
   ]
  },
  {
   "cell_type": "code",
   "execution_count": 8,
   "metadata": {
    "collapsed": true
   },
   "outputs": [],
   "source": [
    "#area over which the data are calculated\n",
    "#x minimum, x maximum, y minimum and y maximum\n",
    "area = [-10000, 10000, -10000, 10000] \n",
    "\n",
    "#number of data along the y and x directions\n",
    "shape = (80,80)\n",
    "\n",
    "#total number of data\n",
    "N = shape[0]*shape[1]\n",
    "\n",
    "#coordinates x and y of the data\n",
    "x = np.linspace(area[0],area[1],shape[0]) # points in x\n",
    "y = np.linspace(area[2],area[3],shape[0]) # points in y\n",
    "xp,yp = np.meshgrid(x,y)    # creating mesh points\n",
    "xp = xp.ravel()\n",
    "yp = yp.ravel()\n",
    "\n",
    "#vertical coordinates of the data\n",
    "zp = -350. - 500.*utils.gaussian2d(xp, yp, 17000, 21000, 21000, 18500, angle=21) # relief"
   ]
  },
  {
   "cell_type": "markdown",
   "metadata": {},
   "source": [
    "### Total field anomaly (TFA) for polygonal prisms (fatiando)"
   ]
  },
  {
   "cell_type": "code",
   "execution_count": 9,
   "metadata": {
    "collapsed": true
   },
   "outputs": [],
   "source": [
    "tfat = polyprism.tf(xp, yp, zp, model, inc, dec)"
   ]
  },
  {
   "cell_type": "code",
   "execution_count": 10,
   "metadata": {
    "collapsed": false
   },
   "outputs": [],
   "source": [
    "model_recprism = [mesher.Prism(-3000, 3000, -3000, 3000, 100, 3100, props)]\n",
    "    \n",
    "tfat_recprism = prism.tf(xp, yp, zp, model_recprism, inc, dec)"
   ]
  },
  {
   "cell_type": "code",
   "execution_count": 11,
   "metadata": {
    "collapsed": false
   },
   "outputs": [
    {
     "data": {
      "image/png": "[encoded data removed]",
      "text/plain": [
       "<matplotlib.figure.Figure at 0x7f94ff3b2b90>"
      ]
     },
     "metadata": {},
     "output_type": "display_data"
    }
   ],
   "source": [
    "mpl.figure(figsize=(15,10))\n",
    "mpl.subplot(1,3,1)\n",
    "mpl.title(\"Predicted data (nT)\", fontsize = 18)\n",
    "mpl.axis('scaled')\n",
    "nlevels = mpl.contourf(yp, xp, tfat,shape, 15, cmap='RdBu_r')\n",
    "mpl.xlabel('East y (km)')\n",
    "mpl.ylabel('North x (km)')\n",
    "mpl.colorbar(pad=0.01, aspect=20, shrink=0.4).set_label('nT')\n",
    "mpl.m2km()\n",
    "mpl.show()\n"
   ]
  },
  {
   "cell_type": "code",
   "execution_count": 12,
   "metadata": {
    "collapsed": false
   },
   "outputs": [],
   "source": [
    "delta = 10.\n",
    "df_x = mfun.fd_tf_x0_polyprism(xp, yp, zp, m[4], Nv, delta, inc, dec)"
   ]
  },
  {
   "cell_type": "code",
   "execution_count": 13,
   "metadata": {
    "collapsed": false
   },
   "outputs": [],
   "source": [
    "df_y = mfun.fd_tf_y0_polyprism(xp, yp, zp, m[4], Nv, delta, inc, dec)"
   ]
  },
  {
   "cell_type": "code",
   "execution_count": 14,
   "metadata": {
    "collapsed": false
   },
   "outputs": [],
   "source": [
    "nv = 2\n",
    "df_r = mfun.fd_tf_radial_polyprism(xp, yp, zp, m[4], Nv, nv, delta, inc, dec)"
   ]
  },
  {
   "cell_type": "code",
   "execution_count": 15,
   "metadata": {
    "collapsed": true
   },
   "outputs": [],
   "source": [
    "G = mfun.fd_tf_sm_polyprism  #sensibility matrix"
   ]
  },
  {
   "cell_type": "markdown",
   "metadata": {},
   "source": [
    "### Tests for TFA functions with finite differences"
   ]
  },
  {
   "cell_type": "code",
   "execution_count": 16,
   "metadata": {
    "collapsed": true
   },
   "outputs": [],
   "source": [
    "tests.test_volume()"
   ]
  },
  {
   "cell_type": "code",
   "execution_count": 17,
   "metadata": {
    "collapsed": false
   },
   "outputs": [],
   "source": [
    "tests.test_tfa_data()"
   ]
  },
  {
   "cell_type": "code",
   "execution_count": 18,
   "metadata": {
    "collapsed": false
   },
   "outputs": [],
   "source": [
    "tests.test_tfa_fd_x0_data()"
   ]
  },
  {
   "cell_type": "code",
   "execution_count": 19,
   "metadata": {
    "collapsed": false
   },
   "outputs": [],
   "source": [
    "tests.test_tfa_fd_y0_data()"
   ]
  },
  {
   "cell_type": "code",
   "execution_count": 20,
   "metadata": {
    "collapsed": false
   },
   "outputs": [],
   "source": [
    "#tests.test_tfa_fd_radial_data()"
   ]
  },
  {
   "cell_type": "code",
   "execution_count": 21,
   "metadata": {
    "collapsed": false
   },
   "outputs": [],
   "source": [
    "#bounds = [-5000., 5000., -5000., 5000., 0.0, 1000.]\n",
    "\n",
    "# Show the model\n",
    "#scene = myv.figure()\n",
    "#myv.polyprisms(model, 'magnetization')\n",
    "#myv.axes(myv.outline(bounds), ranges=[i * 0.001 for i in bounds])\n",
    "\n",
    "#scene.scene.camera.position = [-7807.4452530978979, -7807.4452530979024, -4486.7908303696386]\n",
    "#scene.scene.camera.focal_point = [0.0, 0.0, 600.0]\n",
    "#scene.scene.camera.view_angle = 30.0\n",
    "#scene.scene.camera.view_up = [0.0, 0.0, -1.0]\n",
    "#scene.scene.camera.clipping_range = [6256.115234984627, 19992.338744856861]\n",
    "#scene.scene.camera.compute_view_plane_normal()\n",
    "#scene.scene.render()\n",
    "\n",
    "#myv.show()"
   ]
  },
  {
   "cell_type": "code",
   "execution_count": null,
   "metadata": {
    "collapsed": true
   },
   "outputs": [],
   "source": []
  }
 ],
 "metadata": {
  "anaconda-cloud": {},
  "kernelspec": {
   "display_name": "Python [default]",
   "language": "python",
   "name": "python2"
  },
  "language_info": {
   "codemirror_mode": {
    "name": "ipython",
    "version": 2
   },
   "file_extension": ".py",
   "mimetype": "text/x-python",
   "name": "python",
   "nbconvert_exporter": "python",
   "pygments_lexer": "ipython2",
   "version": "2.7.12"
  }
 },
 "nbformat": 4,
 "nbformat_minor": 0
}
