{
 "cells": [
  {
   "cell_type": "code",
   "execution_count": 1,
   "metadata": {
    "collapsed": true
   },
   "outputs": [],
   "source": [
    "import matplotlib"
   ]
  },
  {
   "cell_type": "code",
   "execution_count": 2,
   "metadata": {},
   "outputs": [
    {
     "data": {
      "text/plain": [
       "[u'GTK',\n",
       " u'GTKAgg',\n",
       " u'GTKCairo',\n",
       " u'MacOSX',\n",
       " u'Qt4Agg',\n",
       " u'Qt5Agg',\n",
       " u'TkAgg',\n",
       " u'WX',\n",
       " u'WXAgg',\n",
       " u'CocoaAgg',\n",
       " u'GTK3Cairo',\n",
       " u'GTK3Agg',\n",
       " u'WebAgg',\n",
       " u'nbAgg',\n",
       " u'agg',\n",
       " u'cairo',\n",
       " u'emf',\n",
       " u'gdk',\n",
       " u'pdf',\n",
       " u'pgf',\n",
       " u'ps',\n",
       " u'svg',\n",
       " u'template']"
      ]
     },
     "execution_count": 2,
     "metadata": {},
     "output_type": "execute_result"
    }
   ],
   "source": [
    "matplotlib.rcsetup.all_backends"
   ]
  },
  {
   "cell_type": "code",
   "execution_count": 3,
   "metadata": {
    "collapsed": true
   },
   "outputs": [],
   "source": [
    "matplotlib.use('TkAgg', force=True)"
   ]
  },
  {
   "cell_type": "code",
   "execution_count": 4,
   "metadata": {},
   "outputs": [
    {
     "data": {
      "text/plain": [
       "u'TkAgg'"
      ]
     },
     "execution_count": 4,
     "metadata": {},
     "output_type": "execute_result"
    }
   ],
   "source": [
    "matplotlib.get_backend()"
   ]
  },
  {
   "cell_type": "code",
   "execution_count": 5,
   "metadata": {},
   "outputs": [
    {
     "name": "stderr",
     "output_type": "stream",
     "text": [
      "/home/vital/anaconda2/envs/radial-mag/lib/python2.7/site-packages/matplotlib/font_manager.py:273: UserWarning: Matplotlib is building the font cache using fc-list. This may take a moment.\n",
      "  warnings.warn('Matplotlib is building the font cache using fc-list. This may take a moment.')\n",
      "/home/vital/anaconda2/envs/radial-mag/lib/python2.7/site-packages/fatiando/vis/mpl.py:76: UserWarning: This module will be removed in v0.6. We recommend the use of matplotlib.pyplot module directly. Some of the fatiando specific functions will remain.\n",
      "  \"specific functions will remain.\")\n",
      "/home/vital/anaconda2/envs/radial-mag/lib/python2.7/site-packages/fatiando/vis/myv.py:51: UserWarning: This module will be removed in v0.7.\n",
      "  warnings.warn(\"This module will be removed in v0.7.\")\n"
     ]
    }
   ],
   "source": [
    "\"\"\"\n",
    "GravMag: Forward gravity modeling using a stack of 3D polygonal model\n",
    "\"\"\"\n",
    "from fatiando import mesher, gridder\n",
    "from fatiando.gravmag import polyprism\n",
    "from fatiando.vis import mpl, myv"
   ]
  },
  {
   "cell_type": "code",
   "execution_count": 8,
   "metadata": {},
   "outputs": [],
   "source": [
    "bounds = [-10000, 10000, -10000, 10000, 0, 5000]\n",
    "area = bounds[:4]\n",
    "depths = [0, 1000]\n",
    "model = []\n",
    "for i in range(1, len(depths)):\n",
    "    axes = mpl.figure().gca()\n",
    "    mpl.axis('scaled')\n",
    "    for p in model:\n",
    "        mpl.polygon(p, '.-k', xy2ne=True)\n",
    "    model.append(\n",
    "        mesher.PolygonalPrism(\n",
    "            mpl.draw_polygon(area, axes, xy2ne=True),\n",
    "            depths[i - 1], depths[i], {'density': 500}))\n",
    "# Calculate the effect\n",
    "shape = (100, 100)\n",
    "xp, yp, zp = gridder.regular(area, shape, z=-1)\n",
    "gz = polyprism.gz(xp, yp, zp, model)"
   ]
  },
  {
   "cell_type": "code",
   "execution_count": 9,
   "metadata": {
    "collapsed": true
   },
   "outputs": [],
   "source": [
    "# and plot it\n",
    "mpl.figure()\n",
    "mpl.axis('scaled')\n",
    "mpl.title(\"gz produced by prism model (mGal)\")\n",
    "mpl.contourf(yp, xp, gz, shape, 20)\n",
    "mpl.colorbar()\n",
    "for p in model:\n",
    "    mpl.polygon(p, '.-k', xy2ne=True)\n",
    "mpl.set_area(area)\n",
    "mpl.show()"
   ]
  },
  {
   "cell_type": "code",
   "execution_count": 10,
   "metadata": {
    "collapsed": true
   },
   "outputs": [],
   "source": [
    "# Show the model\n",
    "myv.figure()\n",
    "myv.polyprisms(model, 'density')\n",
    "myv.axes(myv.outline(bounds), ranges=[i * 0.001 for i in bounds])\n",
    "myv.show()"
   ]
  },
  {
   "cell_type": "code",
   "execution_count": null,
   "metadata": {
    "collapsed": true
   },
   "outputs": [],
   "source": []
  }
 ],
 "metadata": {
  "kernelspec": {
   "display_name": "Python 2",
   "language": "python",
   "name": "python2"
  },
  "language_info": {
   "codemirror_mode": {
    "name": "ipython",
    "version": 2
   },
   "file_extension": ".py",
   "mimetype": "text/x-python",
   "name": "python",
   "nbconvert_exporter": "python",
   "pygments_lexer": "ipython2",
   "version": "2.7.13"
  }
 },
 "nbformat": 4,
 "nbformat_minor": 2
}
