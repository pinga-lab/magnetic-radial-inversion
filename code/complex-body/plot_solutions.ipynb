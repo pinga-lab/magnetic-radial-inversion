{
 "cells": [
  {
   "cell_type": "markdown",
   "metadata": {},
   "source": [
    "# Plot of complex model solutions"
   ]
  },
  {
   "cell_type": "markdown",
   "metadata": {},
   "source": [
    "This notebook plots the solution figure for a specific solution from the set of results of the multiple inversion notebook for the data produced by the complex model."
   ]
  },
  {
   "cell_type": "code",
   "execution_count": 1,
   "metadata": {},
   "outputs": [],
   "source": [
    "import matplotlib as mpb\n",
    "\n",
    "# show the figures in windows\n",
    "\n",
    "# show all the matplotlib backends \n",
    "mpb.rcsetup.all_backends \n",
    "\n",
    "# force matplotlib to use the 'Qt5Agg' backend \n",
    "mpb.use(arg='Qt5Agg', force=True)"
   ]
  },
  {
   "cell_type": "code",
   "execution_count": 2,
   "metadata": {},
   "outputs": [
    {
     "name": "stderr",
     "output_type": "stream",
     "text": [
      "/home/leonardo/anaconda2/lib/python2.7/site-packages/fatiando/vis/mpl.py:76: UserWarning: This module will be removed in v0.6. We recommend the use of matplotlib.pyplot module directly. Some of the fatiando specific functions will remain.\n",
      "  \"specific functions will remain.\")\n"
     ]
    }
   ],
   "source": [
    "import cPickle as pickle\n",
    "import matplotlib.pyplot as plt\n",
    "# importing my functions\n",
    "import sys\n",
    "sys.path.insert(0, '../../code')\n",
    "\n",
    "import mag_polyprism_functions as mfun"
   ]
  },
  {
   "cell_type": "code",
   "execution_count": 3,
   "metadata": {},
   "outputs": [],
   "source": [
    "# importing the pickle file of results\n",
    "result_path = 'l2-tfa-inversion/multiple-54476/'\n",
    "\n",
    "with open(result_path+'inversion.pickle') as w:\n",
    "        inversion = pickle.load(w)\n",
    "\n",
    "# importing the true model\n",
    "with open('model.pickle') as w:\n",
    "        model = pickle.load(w)"
   ]
  },
  {
   "cell_type": "code",
   "execution_count": 4,
   "metadata": {},
   "outputs": [
    {
     "data": {
      "text/plain": [
       "array([1.e-05, 1.e-04, 0.e+00, 0.e+00, 1.e-04, 1.e-07, 1.e-06])"
      ]
     },
     "execution_count": 4,
     "metadata": {},
     "output_type": "execute_result"
    }
   ],
   "source": [
    "inversion['regularization']"
   ]
  },
  {
   "cell_type": "code",
   "execution_count": 7,
   "metadata": {},
   "outputs": [
    {
     "data": {
      "text/plain": [
       "5904.447170619288"
      ]
     },
     "execution_count": 7,
     "metadata": {},
     "output_type": "execute_result"
    }
   ],
   "source": [
    "inversion['results'][21][0][-1]*10 +150"
   ]
  },
  {
   "cell_type": "code",
   "execution_count": 8,
   "metadata": {},
   "outputs": [
    {
     "name": "stdout",
     "output_type": "stream",
     "text": [
      "11.187365733606004\n"
     ]
    }
   ],
   "source": [
    "v = 0.\n",
    "for i in inversion['results'][21][2][-1]:\n",
    "    v += mfun.volume_polygon([i])\n",
    "print v*1e-9"
   ]
  },
  {
   "cell_type": "code",
   "execution_count": 6,
   "metadata": {},
   "outputs": [],
   "source": [
    "# directory to save the figures and filename\n",
    "#filename = '../../l1-manuscript/figures/'+data_path[5:10]+'-l2-solution.png'\n",
    "filename = ''"
   ]
  },
  {
   "cell_type": "markdown",
   "metadata": {},
   "source": [
    "# Results"
   ]
  },
  {
   "cell_type": "code",
   "execution_count": 7,
   "metadata": {},
   "outputs": [],
   "source": [
    "mfun.plot_solution(inversion['x'], inversion['y'],\n",
    "                            inversion['z'], inversion['results'][21][3],\n",
    "                            inversion['results'][21][2][-1],\n",
    "                            inversion['results'][21][2][0], (13, 10), 1200,\n",
    "                            (0.5, 0.95), [0, 50, 10, -70, 0, 130], [-2.5,2.5,-2.5,2.5],\n",
    "                            model['prisms'], filename)"
   ]
  },
  {
   "cell_type": "markdown",
   "metadata": {},
   "source": [
    "Application to complex model data. (a) residual data given by the difference between the noise-corrupted data and the predicted data (not shown) produced by the estimated model. The inset in (a) shows the histogram of the residuals and the Gaussian curve (dashed line) whose mean and standard deviation are, respectively, $\\mu = 0.09$ nT and $\\sigma=6.66$ nT. (b) perspective view of the initial approximate (red prisms) and the true model (blue prisms). (c) and (d) comparison between the estimated source (red prisms) and the true model (blue prisms) in perspective views."
   ]
  },
  {
   "cell_type": "code",
   "execution_count": 8,
   "metadata": {},
   "outputs": [
    {
     "name": "stdout",
     "output_type": "stream",
     "text": [
      "[0.0, 0.027300925663424423, 0.07603357862023213, 0.19733274740667567, 0.2428941448381825, 0.24361095566777552, 0.24372061479893758, 0.2467746275761918, 0.24537564321009003, 0.2458086450054329, 0.24570468987874416, 0.24562264600440384]\n",
      "[0.0, 0.6487065078945347, 0.9836487932944499, 2.092114231233809, 2.787975239396016, 3.0825470114385194, 3.4604159552742475, 3.876216941948793, 3.9529609439225126, 4.059195030973687, 4.154113763229618, 4.245786012749395]\n",
      "[0.0, 0.0, 0.0, 0.0, 0.0, 0.0, 0.0, 0.0, 0.0, 0.0, 0.0, 0.0]\n",
      "[0.0, 0.0, 0.0, 0.0, 0.0, 0.0, 0.0, 0.0, 0.0, 0.0, 0.0, 0.0]\n",
      "[0.0, 0.13308634132883335, 0.43925007717892256, 1.1049204455420722, 0.8815145013135327, 0.8088596200504531, 0.7513778324365163, 0.715904068325603, 0.7150083782593579, 0.7022419129195127, 0.685451596748409, 0.6695391849871151]\n",
      "[0.16987841856462654, 0.1544375172449835, 0.15386647729435082, 0.15837122274023896, 0.16101334167220588, 0.16089071106806546, 0.16396437425759874, 0.16653547367593208, 0.16679448492955667, 0.16748923025234522, 0.1682121295475243, 0.16886274083122904]\n",
      "[0.5607314987777712, 0.5802036204477997, 0.5923640405737355, 0.5718851394681281, 0.5257617024353455, 0.5008717156674726, 0.478670654752394, 0.45779296500673167, 0.45321638820748544, 0.44948674519278153, 0.4460205680158092, 0.44269815578412947]\n"
     ]
    }
   ],
   "source": [
    "plt.figure(figsize=(6,5))\n",
    "plt.title('Convergence', fontsize = 18)\n",
    "plt.xlabel('Iteration number')\n",
    "legend = ['misfit', 'phi1', 'phi2', 'phi3', 'phi4', 'phi5', 'phi6', 'phi7']\n",
    "for f, l in zip(inversion['results'][21][1][1:], legend[1:]):\n",
    "    print f\n",
    "    plt.plot(f, '-', label=l)\n",
    "#plt.plot(inversion['results'][35][1][0], 'b-', label='objective function')\n",
    "plt.legend(loc=0, fontsize=12, shadow=bool, framealpha=1)\n",
    "\n",
    "plt.savefig('complex-constraints.png', dpi=300, bbox_inches=\"tight\")\n",
    "#plt.savefig('complex-convergence.png', dpi=300, bbox_inches=\"tight\")\n",
    "plt.show()\n",
    "\n",
    "#img(filename=mypath+'complex_tfa_convergence.png', width=400, height=400)"
   ]
  },
  {
   "cell_type": "code",
   "execution_count": 9,
   "metadata": {},
   "outputs": [],
   "source": [
    "plt.figure(figsize=(6,5))\n",
    "plt.title('Convergence', fontsize = 18)\n",
    "plt.xlabel('Iteration number')\n",
    "legend = ['misfit', 'phi1', 'phi2', 'phi3', 'phi4', 'phi5', 'phi6', 'phi7']\n",
    "f = inversion['results'][21][1][1:]\n",
    "plt.plot(f[0], '-', label=legend[1])\n",
    "plt.plot(f[1], '-', label=legend[2])\n",
    "plt.plot(f[4], '-', label=legend[3])\n",
    "plt.plot(f[2], '-', label=legend[4])\n",
    "plt.plot(f[3], '-', label=legend[5])\n",
    "plt.plot(f[5], '-', label=legend[6])\n",
    "plt.plot(f[6], '-', label=legend[7])\n",
    "#plt.plot(inversion['results'][9][1][0], 'b-', label='objective function')\n",
    "plt.legend(loc=0, fontsize=12, shadow=bool, framealpha=1)\n",
    "\n",
    "plt.savefig('simple-constraints.png', dpi=300, bbox_inches=\"tight\")\n",
    "plt.show()\n",
    "\n",
    "#img(filename=mypath+'complex_tfa_convergence.png', width=400, height=400)"
   ]
  },
  {
   "cell_type": "code",
   "execution_count": null,
   "metadata": {},
   "outputs": [],
   "source": []
  },
  {
   "cell_type": "code",
   "execution_count": 23,
   "metadata": {},
   "outputs": [
    {
     "name": "stdout",
     "output_type": "stream",
     "text": [
      "0 11497.06464981498 24912.6287878112 0.5385045573576701\n",
      "1 2834.6883793726856 11497.06464981498 0.7534424250264347\n",
      "2 747.2156494649446 2834.6883793726856 0.7364028953227294\n",
      "3 149.87623418849398 747.2156494649446 0.7994203757699465\n",
      "4 69.5912488611151 149.87623418849398 0.53567522404124\n",
      "5 53.07134170767371 69.5912488611151 0.2373848353607012\n",
      "6 48.15949753483325 53.07134170767371 0.09255172405279977\n",
      "7 42.34317915664269 48.15949753483325 0.12077199048814158\n",
      "8 42.14987552579997 42.34317915664269 0.004565165740806109\n",
      "9 42.14987552579997 42.14987552579997 0.0\n",
      "10 42.14987552579997 42.14987552579997 0.0\n",
      "11 42.14987552579997 42.14987552579997 0.0\n",
      "12 42.14987552579997 42.14987552579997 0.0\n",
      "13 42.14987552579997 42.14987552579997 0.0\n",
      "14 42.14987552579997 42.14987552579997 0.0\n",
      "15 42.14987552579997 42.14987552579997 0.0\n",
      "16 42.14987552579997 42.14987552579997 0.0\n",
      "17 42.14987552579997 42.14987552579997 0.0\n",
      "18 42.14987552579997 42.14987552579997 0.0\n",
      "19 42.14987552579997 42.14987552579997 0.0\n",
      "20 42.14987552579997 42.14987552579997 0.0\n",
      "21 42.14987552579997 42.14987552579997 0.0\n",
      "22 42.14987552579997 42.14987552579997 0.0\n",
      "23 42.14987552579997 42.14987552579997 0.0\n",
      "24 42.14987552579997 42.14987552579997 0.0\n",
      "25 42.14987552579997 42.14987552579997 0.0\n",
      "26 42.14987552579997 42.14987552579997 0.0\n",
      "27 42.14987552579997 42.14987552579997 0.0\n",
      "28 42.14987552579997 42.14987552579997 0.0\n",
      "29 42.14987552579997 42.14987552579997 0.0\n"
     ]
    }
   ],
   "source": [
    "phi = inversion['results'][14][1][0]\n",
    "dphi = []\n",
    "for i in range(len(phi)-1):\n",
    "    dphi.append(abs(phi[i+1]-phi[i])/phi[i])\n",
    "    print i, phi[i+1], phi[i], dphi[i]"
   ]
  },
  {
   "cell_type": "code",
   "execution_count": 24,
   "metadata": {},
   "outputs": [],
   "source": [
    "plt.figure(figsize=(6,5))\n",
    "plt.title('Convergence', fontsize = 18)\n",
    "plt.xlabel('Iteration number')\n",
    "plt.plot(dphi, '-', label='l')\n",
    "#plt.plot(inversion['objective'], 'b-', label='Misfit value')\n",
    "plt.legend(loc=0, fontsize=12, shadow=bool, framealpha=1)\n",
    "\n",
    "#plt.savefig(mypath+'complex_tfa_convergence.png', dpi=300, bbox_inches=\"tight\")\n",
    "plt.show()\n",
    "\n",
    "#img(filename=mypath+'complex_tfa_convergence.png', width=400, height=400)"
   ]
  },
  {
   "cell_type": "code",
   "execution_count": null,
   "metadata": {},
   "outputs": [],
   "source": [
    "inversion['regularization']"
   ]
  }
 ],
 "metadata": {
  "kernelspec": {
   "display_name": "Python 2",
   "language": "python",
   "name": "python2"
  },
  "language_info": {
   "codemirror_mode": {
    "name": "ipython",
    "version": 2
   },
   "file_extension": ".py",
   "mimetype": "text/x-python",
   "name": "python",
   "nbconvert_exporter": "python",
   "pygments_lexer": "ipython2",
   "version": "2.7.16"
  }
 },
 "nbformat": 4,
 "nbformat_minor": 2
}
