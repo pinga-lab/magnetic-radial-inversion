{
 "cells": [
  {
   "cell_type": "markdown",
   "metadata": {},
   "source": [
    "# Plot of complex model solutions"
   ]
  },
  {
   "cell_type": "markdown",
   "metadata": {},
   "source": [
    "This notebook plots the solution figure for a specific solution from the set of results of the multiple inversion notebook for the data produced by the complex model."
   ]
  },
  {
   "cell_type": "code",
   "execution_count": 1,
   "metadata": {},
   "outputs": [],
   "source": [
    "import matplotlib as mpb\n",
    "\n",
    "# show the figures in windows\n",
    "\n",
    "# show all the matplotlib backends \n",
    "mpb.rcsetup.all_backends \n",
    "\n",
    "# force matplotlib to use the 'Qt5Agg' backend \n",
    "mpb.use(arg='Qt5Agg', force=True)"
   ]
  },
  {
   "cell_type": "code",
   "execution_count": 2,
   "metadata": {},
   "outputs": [
    {
     "name": "stderr",
     "output_type": "stream",
     "text": [
      "/home/leo/anaconda2/lib/python2.7/site-packages/fatiando/vis/mpl.py:76: UserWarning: This module will be removed in v0.6. We recommend the use of matplotlib.pyplot module directly. Some of the fatiando specific functions will remain.\n",
      "  \"specific functions will remain.\")\n"
     ]
    }
   ],
   "source": [
    "import cPickle as pickle\n",
    "import matplotlib.pyplot as plt\n",
    "# importing my functions\n",
    "import sys\n",
    "sys.path.insert(0, '../../code')\n",
    "\n",
    "import mag_polyprism_functions as mfun"
   ]
  },
  {
   "cell_type": "code",
   "execution_count": 13,
   "metadata": {},
   "outputs": [],
   "source": [
    "# importing the pickle file of results\n",
    "result_path = 'l2-tfa-inversion/multiple-54475/'\n",
    "\n",
    "with open(result_path+'inversion.pickle') as w:\n",
    "        inversion = pickle.load(w)\n",
    "\n",
    "# importing the true model\n",
    "with open('model.pickle') as w:\n",
    "        model = pickle.load(w)"
   ]
  },
  {
   "cell_type": "code",
   "execution_count": 14,
   "metadata": {},
   "outputs": [
    {
     "data": {
      "text/plain": [
       "221"
      ]
     },
     "execution_count": 14,
     "metadata": {},
     "output_type": "execute_result"
    }
   ],
   "source": [
    "inversion['results'][0][0].size"
   ]
  },
  {
   "cell_type": "code",
   "execution_count": 15,
   "metadata": {},
   "outputs": [],
   "source": [
    "# directory to save the figures and filename\n",
    "#filename = '../../l1-manuscript/figures/'+data_path[5:10]+'-l2-solution.png'\n",
    "filename = ''"
   ]
  },
  {
   "cell_type": "markdown",
   "metadata": {},
   "source": [
    "# Results"
   ]
  },
  {
   "cell_type": "code",
   "execution_count": 17,
   "metadata": {},
   "outputs": [],
   "source": [
    "mfun.plot_solution(inversion['x'], inversion['y'],\n",
    "                            inversion['z'], inversion['results'][21][3],\n",
    "                            inversion['results'][21][2][-1],\n",
    "                            inversion['results'][21][2][0], (13, 10), 1200,\n",
    "                            (0.5, 0.95), [0, 50, 10, -70, 0, 130], [-2.5,2.5,-2.5,2.5],\n",
    "                            model['prisms'], filename)"
   ]
  },
  {
   "cell_type": "markdown",
   "metadata": {},
   "source": [
    "Application to complex model data. (a) residual data given by the difference between the noise-corrupted data and the predicted data (not shown) produced by the estimated model. The inset in (a) shows the histogram of the residuals and the Gaussian curve (dashed line) whose mean and standard deviation are, respectively, $\\mu = 0.09$ nT and $\\sigma=6.66$ nT. (b) perspective view of the initial approximate (red prisms) and the true model (blue prisms). (c) and (d) comparison between the estimated source (red prisms) and the true model (blue prisms) in perspective views."
   ]
  },
  {
   "cell_type": "code",
   "execution_count": 14,
   "metadata": {},
   "outputs": [],
   "source": [
    "plt.figure(figsize=(6,5))\n",
    "plt.title('Convergence', fontsize = 18)\n",
    "plt.xlabel('Iteration number')\n",
    "legend = ['misfit', 'phi1', 'phi2', 'phi3', 'phi4', 'phi5', 'phi6', 'phi7']\n",
    "for f, l in zip(inversion['results'][14][1], legend):\n",
    "    plt.plot(f, '-', label=l)\n",
    "#plt.plot(inversion['objective'], 'b-', label='Misfit value')\n",
    "plt.legend(loc=0, fontsize=12, shadow=bool, framealpha=1)\n",
    "\n",
    "#plt.savefig(mypath+'complex_tfa_convergence.png', dpi=300, bbox_inches=\"tight\")\n",
    "plt.show()\n",
    "\n",
    "#img(filename=mypath+'complex_tfa_convergence.png', width=400, height=400)"
   ]
  },
  {
   "cell_type": "code",
   "execution_count": 44,
   "metadata": {},
   "outputs": [
    {
     "name": "stdout",
     "output_type": "stream",
     "text": [
      "0 11496.891432449425 24912.6287878112 0.5385115103519539\n",
      "1 2834.674505846997 11496.891432449425 0.7534399169982362\n",
      "2 747.9889361958832 2834.674505846997 0.7361288096206358\n",
      "3 149.8374463461332 747.9889361958832 0.7996795953852266\n",
      "4 69.43563502928633 149.8374463461332 0.5365935770896283\n",
      "5 52.90021652602682 69.43563502928633 0.23814023586426855\n",
      "6 48.02354568750545 52.90021652602682 0.09218621697175959\n",
      "7 42.16759284134036 48.02354568750545 0.12193920216283956\n",
      "8 41.97446594951608 42.16759284134036 0.00457998379350077\n",
      "9 41.97446594951608 41.97446594951608 0.0\n",
      "10 41.97446594951608 41.97446594951608 0.0\n",
      "11 41.97446594951608 41.97446594951608 0.0\n",
      "12 41.97446594951608 41.97446594951608 0.0\n",
      "13 41.97446594951608 41.97446594951608 0.0\n",
      "14 41.97446594951608 41.97446594951608 0.0\n",
      "15 41.97446594951608 41.97446594951608 0.0\n",
      "16 41.97446594951608 41.97446594951608 0.0\n",
      "17 41.97446594951608 41.97446594951608 0.0\n",
      "18 41.97446594951608 41.97446594951608 0.0\n",
      "19 41.97446594951608 41.97446594951608 0.0\n",
      "20 41.97446594951608 41.97446594951608 0.0\n",
      "21 41.97446594951608 41.97446594951608 0.0\n",
      "22 41.97446594951608 41.97446594951608 0.0\n",
      "23 41.97446594951608 41.97446594951608 0.0\n",
      "24 41.97446594951608 41.97446594951608 0.0\n",
      "25 41.97446594951608 41.97446594951608 0.0\n",
      "26 41.97446594951608 41.97446594951608 0.0\n",
      "27 41.97446594951608 41.97446594951608 0.0\n",
      "28 41.97446594951608 41.97446594951608 0.0\n",
      "29 41.97446594951608 41.97446594951608 0.0\n"
     ]
    }
   ],
   "source": [
    "phi = inversion['results'][14][1][0]\n",
    "dphi = []\n",
    "for i in range(len(phi)-1):\n",
    "    dphi.append(abs(phi[i+1]-phi[i])/phi[i])\n",
    "    print i, phi[i+1], phi[i], dphi[i]"
   ]
  },
  {
   "cell_type": "code",
   "execution_count": 43,
   "metadata": {},
   "outputs": [],
   "source": [
    "plt.figure(figsize=(6,5))\n",
    "plt.title('Convergence', fontsize = 18)\n",
    "plt.xlabel('Iteration number')\n",
    "plt.plot(dphi, '-', label=l)\n",
    "#plt.plot(inversion['objective'], 'b-', label='Misfit value')\n",
    "plt.legend(loc=0, fontsize=12, shadow=bool, framealpha=1)\n",
    "\n",
    "#plt.savefig(mypath+'complex_tfa_convergence.png', dpi=300, bbox_inches=\"tight\")\n",
    "plt.show()\n",
    "\n",
    "#img(filename=mypath+'complex_tfa_convergence.png', width=400, height=400)"
   ]
  },
  {
   "cell_type": "code",
   "execution_count": 13,
   "metadata": {},
   "outputs": [
    {
     "data": {
      "text/plain": [
       "array([1.e-05, 1.e-04, 0.e+00, 0.e+00, 1.e-04, 1.e-08, 1.e-06])"
      ]
     },
     "execution_count": 13,
     "metadata": {},
     "output_type": "execute_result"
    }
   ],
   "source": [
    "inversion['regularization']"
   ]
  }
 ],
 "metadata": {
  "kernelspec": {
   "display_name": "Python 2",
   "language": "python",
   "name": "python2"
  },
  "language_info": {
   "codemirror_mode": {
    "name": "ipython",
    "version": 2
   },
   "file_extension": ".py",
   "mimetype": "text/x-python",
   "name": "python",
   "nbconvert_exporter": "python",
   "pygments_lexer": "ipython2",
   "version": "2.7.16"
  }
 },
 "nbformat": 4,
 "nbformat_minor": 2
}
