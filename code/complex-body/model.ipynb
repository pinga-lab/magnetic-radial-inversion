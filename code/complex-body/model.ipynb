{
 "cells": [
  {
   "cell_type": "markdown",
   "metadata": {},
   "source": [
    "# Synthetic complex model"
   ]
  },
  {
   "cell_type": "markdown",
   "metadata": {},
   "source": [
    "This notebook creates a model simulating an complex with magnetization using the poligonal prisms from fatiando and save its parameters in an outer file."
   ]
  },
  {
   "cell_type": "code",
   "execution_count": 1,
   "metadata": {},
   "outputs": [],
   "source": [
    "import numpy as np\n",
    "import matplotlib.pyplot as plt\n",
    "import cPickle as pickle\n",
    "from fatiando import utils\n",
    "from mpl_toolkits.mplot3d import Axes3D\n",
    "from mpl_toolkits.mplot3d.art3d import Poly3DCollection"
   ]
  },
  {
   "cell_type": "markdown",
   "metadata": {},
   "source": [
    "### Auxiliary functions"
   ]
  },
  {
   "cell_type": "code",
   "execution_count": 2,
   "metadata": {},
   "outputs": [
    {
     "name": "stderr",
     "output_type": "stream",
     "text": [
      "/home/leonardo/anaconda2/lib/python2.7/site-packages/fatiando/vis/mpl.py:76: UserWarning: This module will be removed in v0.6. We recommend the use of matplotlib.pyplot module directly. Some of the fatiando specific functions will remain.\n",
      "  \"specific functions will remain.\")\n"
     ]
    }
   ],
   "source": [
    "import sys\n",
    "sys.path.insert(0, '../../code')\n",
    "\n",
    "import mag_polyprism_functions as mfun"
   ]
  },
  {
   "cell_type": "markdown",
   "metadata": {},
   "source": [
    "### Creating the model"
   ]
  },
  {
   "cell_type": "code",
   "execution_count": 3,
   "metadata": {
    "collapsed": true
   },
   "outputs": [],
   "source": [
    "model = dict()"
   ]
  },
  {
   "cell_type": "code",
   "execution_count": 4,
   "metadata": {},
   "outputs": [],
   "source": [
    "# model parameters\n",
    "model['M'] = 30 # number of vertices per prism\n",
    "model['L'] = 10 # number of prisms\n",
    "model['P'] = model['L']*(model['M']+2) # number of parameters\n",
    "\n",
    "model['z0'] = 130.    # depth of the top the shallowest prism\n",
    "model['dz'] = 600.    # thickness of each prism\n",
    "\n",
    "model['inc'] = -50.  # inclination\n",
    "model['dec'] = 9.   # declination\n",
    "model['intensity'] = 12. # intensity\n",
    "\n",
    "model['props']={'magnetization': utils.ang2vec(\n",
    "    model['intensity'], model['inc'], model['dec'])} # physical property: magnetization\n",
    "\n",
    "#ri = np.linspace(1000., 200., model['M']*model['L']) # radial distance for each vertice\n",
    "#rand = np.random.uniform(0.8, 1., model['M']*model['L'])\n",
    "#r = ri*rand\n",
    "\n",
    "#r = np.random.uniform(low=400., high=700., size=model['M'])\n",
    "r = np.array([ 513.8863825 ,  608.66242761,  608.66242761,  639.21917548,\n",
    "                554.40019092,  651.54224441,  666.06947764,  666.06947764,\n",
    "                568.66501881,  568.66501881,  625.57161505,  625.57161505,\n",
    "                522.11037285,  522.11037285,  542.90744237,  542.90744237,\n",
    "                405.92270651,  405.92270651,  549.6901502 ,  636.54706803,\n",
    "                551.61570786,  582.77644177,  582.77644177,  582.77644177,\n",
    "                464.08301193,  464.08301193,  407.89472325,  407.98706731,\n",
    "                407.98706731,  407.98706731])\n",
    "rs = []\n",
    "#r = np.zeros((model['L'],1),dtype=r.dtype) + r\n",
    "#r = np.repeat(r[None],model['M'],axis=0)\n",
    "\n",
    "scale = np.array([1.2, 1.4, 1.6, 1., 1.,\n",
    "                  0.7, 0.6, 2., 2.2, 2.2])\n",
    "\n",
    "for i in range(model['L']):\n",
    "    rs.append(r*scale[i])"
   ]
  },
  {
   "cell_type": "code",
   "execution_count": 5,
   "metadata": {},
   "outputs": [],
   "source": [
    "# Cartesian coordinates of the origin of each prism\n",
    "x0 = np.linspace(-250., 750., model['L'])\n",
    "y0 = np.linspace(250., -750., model['L'])\n",
    "#y0 = np.sqrt(1500.**2. - (x0 - 1000.)**2.) - 500.\n",
    "l = []   # list of parameters of the prisms\n",
    "\n",
    "for i, (r, x, y) in enumerate(zip(rs, x0, y0)):\n",
    "    l.append([r, x, y,\n",
    "             model['z0'] + model['dz']*i,\n",
    "             model['z0'] + model['dz']*(i + 1),\n",
    "              model['props']])\n",
    "\n",
    "#for i in range(model['L']):\n",
    "#    l.append([r*(-150.*i*i/11. + 3150.*i/11. + 500.), x0[i], y0[i], model['z0'] + model['dz']*i,\\\n",
    "#          model['z0'] + model['dz']*(i + 1), model['props']])\n",
    "\n",
    "model['prisms'] = mfun.pol2cart(l, model['M'], model['L'])\n",
    "model['param_vec'] = mfun.param_vec(l, model['M'], model['L'])"
   ]
  },
  {
   "cell_type": "markdown",
   "metadata": {},
   "source": [
    "### Model ploting"
   ]
  },
  {
   "cell_type": "code",
   "execution_count": 7,
   "metadata": {},
   "outputs": [
    {
     "data": {
      "image/png": "[encoded data removed]",
      "text/plain": [
       "<Figure size 239.76x239.76 with 1 Axes>"
      ]
     },
     "metadata": {
      "needs_background": "light"
     },
     "output_type": "display_data"
    }
   ],
   "source": [
    "verts = mfun.plot_prisms(model['prisms'], scale=0.001)\n",
    "\n",
    "fig = plt.figure(figsize=(3.33,3.33))\n",
    "ax = fig.add_subplot(111, projection='3d')\n",
    "\n",
    "# plot sides\n",
    "ax.add_collection3d(Poly3DCollection(verts, \n",
    "alpha=0.4, facecolor='b', linewidths=1.5, edgecolors='k'))\n",
    "\n",
    "ax.set_xlim(-2.5, 2.5, 100)\n",
    "ax.set_ylim(-2.5, 2.5, 100)\n",
    "ax.set_zlim(model['prisms'][-1].z2/1000.+0.5, -0.1, 100)\n",
    "ax.tick_params(labelsize= 8, pad=2)\n",
    "ax.set_xlabel('Y (km)', fontsize= 8, labelpad=0)\n",
    "ax.set_ylabel('X (km)', fontsize= 8, labelpad=0)\n",
    "ax.set_zlabel('Z (km)', fontsize= 8, labelpad=-2)\n",
    "ax.set_xticks(np.arange(-2.5, 3.5, 2))\n",
    "ax.set_yticks(np.arange(-2.5, 3.5, 2))\n",
    "ax.set_zticks(np.arange(0, 7, 1))\n",
    "ax\n",
    "\n",
    "ax.view_init(15, 20)\n",
    "\n",
    "plt.savefig('model.png', dpi=1200)\n",
    "plt.show()"
   ]
  },
  {
   "cell_type": "markdown",
   "metadata": {},
   "source": [
    "### Saving in an outer file"
   ]
  },
  {
   "cell_type": "code",
   "execution_count": 8,
   "metadata": {},
   "outputs": [],
   "source": [
    "file_name = 'model.pickle'\n",
    "with open(file_name, 'w') as f:\n",
    "    pickle.dump(model, f)"
   ]
  }
 ],
 "metadata": {
  "kernelspec": {
   "display_name": "Python 2",
   "language": "python",
   "name": "python2"
  },
  "language_info": {
   "codemirror_mode": {
    "name": "ipython",
    "version": 2
   },
   "file_extension": ".py",
   "mimetype": "text/x-python",
   "name": "python",
   "nbconvert_exporter": "python",
   "pygments_lexer": "ipython2",
   "version": "2.7.16"
  }
 },
 "nbformat": 4,
 "nbformat_minor": 2
}
