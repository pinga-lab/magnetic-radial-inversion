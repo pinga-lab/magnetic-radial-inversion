{
 "cells": [
  {
   "cell_type": "markdown",
   "metadata": {},
   "source": [
    "# Complex body TFA Inversion"
   ]
  },
  {
   "cell_type": "markdown",
   "metadata": {},
   "source": [
    "This notebook performs the inversion using Levenberg-Marquadt's algorithm of total field anomaly (TFA) data on a regular grid of a model with a complex geometry."
   ]
  },
  {
   "cell_type": "code",
   "execution_count": 1,
   "metadata": {},
   "outputs": [
    {
     "name": "stderr",
     "output_type": "stream",
     "text": [
      "/home/leonardo/anaconda2/lib/python2.7/site-packages/fatiando/vis/mpl.py:76: UserWarning: This module will be removed in v0.6. We recommend the use of matplotlib.pyplot module directly. Some of the fatiando specific functions will remain.\n",
      "  \"specific functions will remain.\")\n"
     ]
    }
   ],
   "source": [
    "import numpy as np\n",
    "import matplotlib.pyplot as plt\n",
    "import cPickle as pickle\n",
    "import os\n",
    "\n",
    "from fatiando import utils\n",
    "from fatiando.gravmag import polyprism\n",
    "from fatiando.vis import mpl"
   ]
  },
  {
   "cell_type": "markdown",
   "metadata": {},
   "source": [
    "### Auxiliary functions"
   ]
  },
  {
   "cell_type": "code",
   "execution_count": 2,
   "metadata": {
    "collapsed": true
   },
   "outputs": [],
   "source": [
    "import sys\n",
    "sys.path.insert(0, '../../code')\n",
    "\n",
    "import mag_polyprism_functions as mfun"
   ]
  },
  {
   "cell_type": "markdown",
   "metadata": {},
   "source": [
    "# Input"
   ]
  },
  {
   "cell_type": "markdown",
   "metadata": {},
   "source": [
    "### Importing model parameters"
   ]
  },
  {
   "cell_type": "code",
   "execution_count": 3,
   "metadata": {},
   "outputs": [],
   "source": [
    "model_dir = 'data/model_ib_z00.pickle'\n",
    "data_dir = 'data/real_obs_pts/data_ib_z00.pickle'"
   ]
  },
  {
   "cell_type": "code",
   "execution_count": 4,
   "metadata": {},
   "outputs": [],
   "source": [
    "with open(model_dir) as w:\n",
    "        model = pickle.load(w)"
   ]
  },
  {
   "cell_type": "markdown",
   "metadata": {},
   "source": [
    "### Observation points and observed data"
   ]
  },
  {
   "cell_type": "code",
   "execution_count": 5,
   "metadata": {
    "collapsed": true
   },
   "outputs": [],
   "source": [
    "with open(data_dir) as w:\n",
    "        data = pickle.load(w)"
   ]
  },
  {
   "cell_type": "code",
   "execution_count": 6,
   "metadata": {},
   "outputs": [],
   "source": [
    "# observed data and observation points\n",
    "dobs = data['tfa_obs']\n",
    "xp = data['grid'][0]\n",
    "yp = data['grid'][1]\n",
    "zp = data['grid'][2]\n",
    "N = data['grid'][3]"
   ]
  },
  {
   "cell_type": "markdown",
   "metadata": {},
   "source": [
    "### Parameters of the initial model"
   ]
  },
  {
   "cell_type": "code",
   "execution_count": 7,
   "metadata": {},
   "outputs": [],
   "source": [
    "M = 20 # number of vertices per prism\n",
    "L = 10 # number of prisms\n",
    "P = L*(M+2) + 1 # number of parameters\n",
    "\n",
    "# depth to the top, thickness, origin, magnetization and radius\n",
    "incs = model['inc']\n",
    "decs = model['dec']\n",
    "intensity = model['intensity']\n",
    "z0 = 130.\n",
    "dz = 650.\n",
    "r = 800.\n",
    "x0 = -300.\n",
    "y0 = 300.\n",
    "\n",
    "# main field\n",
    "inc, dec = data['main_field']\n",
    "\n",
    "model0, m0 = mfun.initial_cylinder(M, L, x0,\n",
    "        y0, z0, dz, r, inc, dec, incs, decs, intensity)\n",
    "\n",
    "# predict data\n",
    "d0 = polyprism.tf(xp, yp, zp, model0, inc, dec)"
   ]
  },
  {
   "cell_type": "code",
   "execution_count": 8,
   "metadata": {},
   "outputs": [
    {
     "data": {
      "text/plain": [
       "12.0"
      ]
     },
     "execution_count": 8,
     "metadata": {},
     "output_type": "execute_result"
    }
   ],
   "source": [
    "intensity"
   ]
  },
  {
   "cell_type": "code",
   "execution_count": 9,
   "metadata": {},
   "outputs": [
    {
     "data": {
      "text/plain": [
       "130.0"
      ]
     },
     "execution_count": 9,
     "metadata": {},
     "output_type": "execute_result"
    }
   ],
   "source": [
    "z0"
   ]
  },
  {
   "cell_type": "markdown",
   "metadata": {},
   "source": [
    "### Limits"
   ]
  },
  {
   "cell_type": "code",
   "execution_count": 10,
   "metadata": {},
   "outputs": [],
   "source": [
    "# limits for parameters in meters\n",
    "rmin = 10.\n",
    "rmax = 3000.\n",
    "x0min = -4000.\n",
    "x0max = 4000.\n",
    "y0min = -4000.\n",
    "y0max = 400.\n",
    "dzmin = 200.\n",
    "dzmax = 1000.\n",
    "\n",
    "mmin, mmax = mfun.build_range_param(M, L, rmin, rmax, x0min, x0max, y0min, y0max, dzmin, dzmax)"
   ]
  },
  {
   "cell_type": "markdown",
   "metadata": {},
   "source": [
    "### Variation"
   ]
  },
  {
   "cell_type": "code",
   "execution_count": 11,
   "metadata": {},
   "outputs": [],
   "source": [
    "# variation for derivatives\n",
    "deltax = 0.01*np.max(1000.)\n",
    "deltay = 0.01*np.max(1000.)\n",
    "deltar = 0.01*np.max(1000.)\n",
    "deltaz = 0.01*np.max(100.)"
   ]
  },
  {
   "cell_type": "markdown",
   "metadata": {},
   "source": [
    "### Outcropping parameters"
   ]
  },
  {
   "cell_type": "code",
   "execution_count": 12,
   "metadata": {},
   "outputs": [],
   "source": [
    "# outcropping body parameters\n",
    "m_out = np.zeros(M + 2)\n",
    "#m_out = model['param_vec'][:M+2]"
   ]
  },
  {
   "cell_type": "markdown",
   "metadata": {},
   "source": [
    "### Folder to save the results"
   ]
  },
  {
   "cell_type": "code",
   "execution_count": 13,
   "metadata": {},
   "outputs": [],
   "source": [
    "mypath = data_dir[:-14]+'tfa_inversion/upper_inter_body/V%d_L%d_inc%d_dec%d_r%d_int%d_z0%d_dz%d' % (M, L, incs, decs, r, intensity, z0, dz)\n",
    "if not os.path.isdir(mypath):\n",
    "    os.makedirs(mypath)"
   ]
  },
  {
   "cell_type": "code",
   "execution_count": 14,
   "metadata": {},
   "outputs": [
    {
     "data": {
      "text/plain": [
       "'data/real_obs_pts/datatfa_inversion/upper_inter_body/V20_L10_inc-50_dec9_r800_int12_z0130_dz650'"
      ]
     },
     "execution_count": 14,
     "metadata": {},
     "output_type": "execute_result"
    }
   ],
   "source": [
    "mypath"
   ]
  },
  {
   "cell_type": "code",
   "execution_count": 15,
   "metadata": {},
   "outputs": [],
   "source": [
    "# output of inversion\n",
    "inversion = dict()"
   ]
  },
  {
   "cell_type": "markdown",
   "metadata": {},
   "source": [
    "### Regularization parameters"
   ]
  },
  {
   "cell_type": "code",
   "execution_count": 16,
   "metadata": {
    "collapsed": true
   },
   "outputs": [],
   "source": [
    "#lamb = th*0.01 # Marquadt's parameter\n",
    "lamb = 10.0\n",
    "dlamb = 10.      # step for Marquadt's parameter\n",
    "\n",
    "a1 = 1.0e-3  # adjacent radial distances within each prism\n",
    "a2 = 1.0e-3   # vertically adjacent radial distances\n",
    "a3 = 0.     # outcropping cross-section\n",
    "a4 = 0.     # outcropping origin\n",
    "a5 = 1.0e-4    # vertically adjacent origins\n",
    "a6 = 1.0e-7   # zero order Tikhonov on adjacent radial distances\n",
    "a7 = 1.0e-4     # zero order Tikhonov on thickness of each prism"
   ]
  },
  {
   "cell_type": "code",
   "execution_count": 17,
   "metadata": {},
   "outputs": [],
   "source": [
    "delta = np.array([deltax, deltay, deltar, deltaz])\n",
    "alpha = np.array([a1, a2, a3, a4, a5, a6, a7])"
   ]
  },
  {
   "cell_type": "code",
   "execution_count": 18,
   "metadata": {},
   "outputs": [
    {
     "data": {
      "text/plain": [
       "array([1.e-03, 1.e-03, 0.e+00, 0.e+00, 1.e-04, 1.e-07, 1.e-04])"
      ]
     },
     "execution_count": 18,
     "metadata": {},
     "output_type": "execute_result"
    }
   ],
   "source": [
    "alpha"
   ]
  },
  {
   "cell_type": "code",
   "execution_count": 19,
   "metadata": {},
   "outputs": [],
   "source": [
    "itmax = 30\n",
    "itmax_marq = 10\n",
    "tol = 1.0e-4     # stop criterion"
   ]
  },
  {
   "cell_type": "code",
   "execution_count": 20,
   "metadata": {},
   "outputs": [],
   "source": [
    "inversion['x'] = xp\n",
    "inversion['y'] = yp\n",
    "inversion['z'] = zp\n",
    "inversion['observed_data'] = dobs"
   ]
  },
  {
   "cell_type": "code",
   "execution_count": 21,
   "metadata": {},
   "outputs": [],
   "source": [
    "inversion['inc_dec'] = [incs, decs]\n",
    "inversion['z0'] = z0\n",
    "inversion['initial_dz'] = dz\n",
    "inversion['intial_r'] = r\n",
    "inversion['initial_estimate'] = model0\n",
    "inversion['initial_data'] = d0\n",
    "inversion['limits'] = [rmin, rmax, x0min, x0max, y0min, y0max, dzmin, dzmax]\n",
    "inversion['regularization'] = alpha\n",
    "inversion['tol'] = tol\n",
    "inversion['main_field'] = [-21.5, -18.7]"
   ]
  },
  {
   "cell_type": "code",
   "execution_count": 22,
   "metadata": {},
   "outputs": [
    {
     "data": {
      "image/png": "[encoded data removed]",
      "text/plain": [
       "<Figure size 432x360 with 2 Axes>"
      ]
     },
     "metadata": {
      "needs_background": "light"
     },
     "output_type": "display_data"
    }
   ],
   "source": [
    "plt.figure(figsize=(6,5))\n",
    "plt.title('Observed TFA', fontsize=20)\n",
    "plt.tricontourf(yp, xp, dobs, 20, cmap='RdBu_r').ax.tick_params(labelsize=12)\n",
    "plt.xlabel('$y$(km)', fontsize=18)\n",
    "plt.ylabel('$x$(km)', fontsize=18)\n",
    "clb = plt.colorbar(pad=0.025, aspect=40, shrink=1)\n",
    "clb.ax.tick_params(labelsize=13)\n",
    "source = mpl.polygon(model['prisms'][0], '.-k', xy2ne=True)\n",
    "source = mpl.polygon(model['prisms'][-1], '.-m', xy2ne=True)\n",
    "estimate = mpl.polygon(model0[0], '.-y', xy2ne=True)\n",
    "#source.set_label('Outcropping polygon')\n",
    "estimate.set_label('Initial estimate')\n",
    "clb.ax.set_title('nT')\n",
    "mpl.m2km()\n",
    "plt.legend(loc=0, fontsize=12, shadow=bool, framealpha=1)\n",
    "#plt.savefig(mypath+'diorama_tfa_pred_data_true_inital.png', dpi=300)\n",
    "plt.show()\n",
    "\n",
    "#img(filename=mypath+'diorama_tfa_pred_data_true_inital.png', width=1000, height=1200)"
   ]
  },
  {
   "cell_type": "code",
   "execution_count": 23,
   "metadata": {},
   "outputs": [
    {
     "data": {
      "image/png": "[encoded data removed]",
      "text/plain": [
       "<Figure size 432x360 with 2 Axes>"
      ]
     },
     "metadata": {
      "needs_background": "light"
     },
     "output_type": "display_data"
    }
   ],
   "source": [
    "plt.figure(figsize=(6,5))\n",
    "plt.title('Predicted TFA', fontsize=20)\n",
    "plt.tricontourf(yp, xp, d0, 20, cmap='RdBu_r').ax.tick_params(labelsize=12)\n",
    "plt.xlabel('$y$(km)', fontsize=18)\n",
    "plt.ylabel('$x$(km)', fontsize=18)\n",
    "clb = plt.colorbar(pad=0.025, aspect=40, shrink=1)\n",
    "clb.ax.tick_params(labelsize=13)\n",
    "estimate = mpl.polygon(model0[0], '.-y', xy2ne=True)\n",
    "estimate.set_label('Initial estimate')\n",
    "clb.ax.set_title('nT')\n",
    "mpl.m2km()\n",
    "plt.legend(loc=0, fontsize=12, shadow=bool, framealpha=1)\n",
    "plt.show()"
   ]
  },
  {
   "cell_type": "markdown",
   "metadata": {},
   "source": [
    "### Inversion"
   ]
  },
  {
   "cell_type": "code",
   "execution_count": 24,
   "metadata": {},
   "outputs": [
    {
     "name": "stdout",
     "output_type": "stream",
     "text": [
      "it:  0   it_marq:  0   lambda: 1e+01   init obj.: 3.91676e+04  fin obj.: 2.17516e+04\n",
      "it:  1   it_marq:  0   lambda: 1e+00   init obj.: 2.17516e+04  fin obj.: 1.00006e+04\n",
      "it:  2   it_marq:  0   lambda: 1e-01   init obj.: 1.00006e+04  fin obj.: 1.32157e+04\n",
      "it:  2   it_marq:  1   lambda: 1e+00   init obj.: 1.00006e+04  fin obj.: 6.97737e+03\n",
      "it:  3   it_marq:  0   lambda: 1e-01   init obj.: 6.97737e+03  fin obj.: 8.85492e+03\n",
      "it:  3   it_marq:  1   lambda: 1e+00   init obj.: 6.97737e+03  fin obj.: 6.18034e+03\n",
      "it:  4   it_marq:  0   lambda: 1e-01   init obj.: 6.18034e+03  fin obj.: 7.56140e+03\n",
      "it:  4   it_marq:  1   lambda: 1e+00   init obj.: 6.18034e+03  fin obj.: 5.69009e+03\n",
      "it:  5   it_marq:  0   lambda: 1e-01   init obj.: 5.69009e+03  fin obj.: 7.04200e+03\n",
      "it:  5   it_marq:  1   lambda: 1e+00   init obj.: 5.69009e+03  fin obj.: 5.30769e+03\n",
      "it:  6   it_marq:  0   lambda: 1e-01   init obj.: 5.30769e+03  fin obj.: 6.79953e+03\n",
      "it:  6   it_marq:  1   lambda: 1e+00   init obj.: 5.30769e+03  fin obj.: 4.96414e+03\n",
      "it:  7   it_marq:  0   lambda: 1e-01   init obj.: 4.96414e+03  fin obj.: 6.76928e+03\n",
      "it:  7   it_marq:  1   lambda: 1e+00   init obj.: 4.96414e+03  fin obj.: 4.64228e+03\n",
      "it:  8   it_marq:  0   lambda: 1e-01   init obj.: 4.64228e+03  fin obj.: 6.81201e+03\n",
      "it:  8   it_marq:  1   lambda: 1e+00   init obj.: 4.64228e+03  fin obj.: 4.33954e+03\n",
      "it:  9   it_marq:  0   lambda: 1e-01   init obj.: 4.33954e+03  fin obj.: 6.74216e+03\n",
      "it:  9   it_marq:  1   lambda: 1e+00   init obj.: 4.33954e+03  fin obj.: 4.05745e+03\n",
      "it: 10   it_marq:  0   lambda: 1e-01   init obj.: 4.05745e+03  fin obj.: 6.49043e+03\n",
      "it: 10   it_marq:  1   lambda: 1e+00   init obj.: 4.05745e+03  fin obj.: 3.79602e+03\n",
      "it: 11   it_marq:  0   lambda: 1e-01   init obj.: 3.79602e+03  fin obj.: 6.12211e+03\n",
      "it: 11   it_marq:  1   lambda: 1e+00   init obj.: 3.79602e+03  fin obj.: 3.55252e+03\n",
      "it: 12   it_marq:  0   lambda: 1e-01   init obj.: 3.55252e+03  fin obj.: 5.75265e+03\n",
      "it: 12   it_marq:  1   lambda: 1e+00   init obj.: 3.55252e+03  fin obj.: 3.32765e+03\n",
      "it: 13   it_marq:  0   lambda: 1e-01   init obj.: 3.32765e+03  fin obj.: 5.45459e+03\n",
      "it: 13   it_marq:  1   lambda: 1e+00   init obj.: 3.32765e+03  fin obj.: 3.12518e+03\n",
      "it: 14   it_marq:  0   lambda: 1e-01   init obj.: 3.12518e+03  fin obj.: 5.18716e+03\n",
      "it: 14   it_marq:  1   lambda: 1e+00   init obj.: 3.12518e+03  fin obj.: 2.94530e+03\n",
      "it: 15   it_marq:  0   lambda: 1e-01   init obj.: 2.94530e+03  fin obj.: 4.95669e+03\n",
      "it: 15   it_marq:  1   lambda: 1e+00   init obj.: 2.94530e+03  fin obj.: 2.78488e+03\n",
      "it: 16   it_marq:  0   lambda: 1e-01   init obj.: 2.78488e+03  fin obj.: 4.77107e+03\n",
      "it: 16   it_marq:  1   lambda: 1e+00   init obj.: 2.78488e+03  fin obj.: 2.64165e+03\n",
      "it: 17   it_marq:  0   lambda: 1e-01   init obj.: 2.64165e+03  fin obj.: 4.55034e+03\n",
      "it: 17   it_marq:  1   lambda: 1e+00   init obj.: 2.64165e+03  fin obj.: 2.51467e+03\n",
      "it: 18   it_marq:  0   lambda: 1e-01   init obj.: 2.51467e+03  fin obj.: 4.30397e+03\n",
      "it: 18   it_marq:  1   lambda: 1e+00   init obj.: 2.51467e+03  fin obj.: 2.40332e+03\n",
      "it: 19   it_marq:  0   lambda: 1e-01   init obj.: 2.40332e+03  fin obj.: 4.05511e+03\n",
      "it: 19   it_marq:  1   lambda: 1e+00   init obj.: 2.40332e+03  fin obj.: 2.30760e+03\n",
      "it: 20   it_marq:  0   lambda: 1e-01   init obj.: 2.30760e+03  fin obj.: 3.81413e+03\n",
      "it: 20   it_marq:  1   lambda: 1e+00   init obj.: 2.30760e+03  fin obj.: 2.22625e+03\n",
      "it: 21   it_marq:  0   lambda: 1e-01   init obj.: 2.22625e+03  fin obj.: 3.58848e+03\n",
      "it: 21   it_marq:  1   lambda: 1e+00   init obj.: 2.22625e+03  fin obj.: 2.15668e+03\n",
      "it: 22   it_marq:  0   lambda: 1e-01   init obj.: 2.15668e+03  fin obj.: 3.41171e+03\n",
      "it: 22   it_marq:  1   lambda: 1e+00   init obj.: 2.15668e+03  fin obj.: 2.09818e+03\n",
      "it: 23   it_marq:  0   lambda: 1e-01   init obj.: 2.09818e+03  fin obj.: 3.32553e+03\n",
      "it: 23   it_marq:  1   lambda: 1e+00   init obj.: 2.09818e+03  fin obj.: 2.06751e+03\n",
      "it: 24   it_marq:  0   lambda: 1e-01   init obj.: 2.06751e+03  fin obj.: 3.33967e+03\n",
      "it: 24   it_marq:  1   lambda: 1e+00   init obj.: 2.06751e+03  fin obj.: 2.06902e+03\n",
      "it: 24   it_marq:  2   lambda: 1e+01   init obj.: 2.06751e+03  fin obj.: 2.03043e+03\n",
      "it: 25   it_marq:  0   lambda: 1e+00   init obj.: 2.03043e+03  fin obj.: 2.06572e+03\n",
      "it: 25   it_marq:  1   lambda: 1e+01   init obj.: 2.03043e+03  fin obj.: 2.02276e+03\n",
      "it: 26   it_marq:  0   lambda: 1e+00   init obj.: 2.02276e+03  fin obj.: 2.06363e+03\n",
      "it: 26   it_marq:  1   lambda: 1e+01   init obj.: 2.02276e+03  fin obj.: 2.02081e+03\n",
      "it: 27   it_marq:  0   lambda: 1e+00   init obj.: 2.02081e+03  fin obj.: 2.06346e+03\n",
      "it: 27   it_marq:  1   lambda: 1e+01   init obj.: 2.02081e+03  fin obj.: 2.01964e+03\n",
      "it: 28   it_marq:  0   lambda: 1e+00   init obj.: 2.01964e+03  fin obj.: 2.06297e+03\n",
      "it: 28   it_marq:  1   lambda: 1e+01   init obj.: 2.01964e+03  fin obj.: 2.02003e+03\n",
      "it: 28   it_marq:  2   lambda: 1e+02   init obj.: 2.01964e+03  fin obj.: 2.01982e+03\n",
      "it: 28   it_marq:  3   lambda: 1e+03   init obj.: 2.01964e+03  fin obj.: 2.02012e+03\n",
      "it: 28   it_marq:  4   lambda: 1e+04   init obj.: 2.01964e+03  fin obj.: 2.02017e+03\n",
      "it: 28   it_marq:  5   lambda: 1e+05   init obj.: 2.01964e+03  fin obj.: 2.02017e+03\n",
      "it: 28   it_marq:  6   lambda: 1e+06   init obj.: 2.01964e+03  fin obj.: 2.02017e+03\n",
      "it: 28   it_marq:  7   lambda: 1e+07   init obj.: 2.01964e+03  fin obj.: 2.02017e+03\n",
      "it: 28   it_marq:  8   lambda: 1e+08   init obj.: 2.01964e+03  fin obj.: 2.01963e+03\n"
     ]
    }
   ],
   "source": [
    "d_fit, m_est, model_est, phi_list, model_list, res_list = mfun.levmarq_tf(\n",
    "    xp, yp, zp, m0, M, L, delta,\n",
    "    itmax, itmax_marq, lamb,\n",
    "    dlamb, tol, mmin, mmax,\n",
    "    m_out, dobs, inc, dec,\n",
    "    model0[0].props, alpha, z0, dz\n",
    ")"
   ]
  },
  {
   "cell_type": "markdown",
   "metadata": {},
   "source": [
    "# Results"
   ]
  },
  {
   "cell_type": "code",
   "execution_count": 25,
   "metadata": {},
   "outputs": [],
   "source": [
    "inversion['data_fit'] = d_fit\n",
    "inversion['estimate'] = m_est\n",
    "inversion['prisms'] = model_est\n",
    "inversion['estimated_models'] = model_list\n",
    "inversion['objective'] = phi_list\n",
    "inversion['residual'] = dobs - d_fit\n",
    "inversion['residual_list'] = res_list"
   ]
  },
  {
   "cell_type": "code",
   "execution_count": 26,
   "metadata": {},
   "outputs": [],
   "source": [
    "file_name = mypath+'/inversion.pickle'\n",
    "with open(file_name, 'w') as f:\n",
    "    pickle.dump(inversion, f)"
   ]
  },
  {
   "cell_type": "code",
   "execution_count": 27,
   "metadata": {},
   "outputs": [
    {
     "data": {
      "text/plain": [
       "'data/real_obs_pts/datatfa_inversion/upper_inter_body/V20_L10_inc-50_dec9_r800_int12_z0130_dz650'"
      ]
     },
     "execution_count": 27,
     "metadata": {},
     "output_type": "execute_result"
    }
   ],
   "source": [
    "mypath"
   ]
  },
  {
   "cell_type": "code",
   "execution_count": null,
   "metadata": {},
   "outputs": [],
   "source": []
  }
 ],
 "metadata": {
  "anaconda-cloud": {},
  "kernelspec": {
   "display_name": "Python 2",
   "language": "python",
   "name": "python2"
  },
  "language_info": {
   "codemirror_mode": {
    "name": "ipython",
    "version": 2
   },
   "file_extension": ".py",
   "mimetype": "text/x-python",
   "name": "python",
   "nbconvert_exporter": "python",
   "pygments_lexer": "ipython2",
   "version": "2.7.16"
  }
 },
 "nbformat": 4,
 "nbformat_minor": 2
}
