{
 "cells": [
  {
   "cell_type": "markdown",
   "metadata": {},
   "source": [
    "# Complex body TFA Inversion"
   ]
  },
  {
   "cell_type": "markdown",
   "metadata": {},
   "source": [
    "This notebook performs the inversion using Levenberg-Marquadt's algorithm of total field anomaly (TFA) data on a regular grid of a model with a complex geometry."
   ]
  },
  {
   "cell_type": "code",
   "execution_count": 17,
   "metadata": {},
   "outputs": [],
   "source": [
    "import numpy as np\n",
    "import matplotlib.pyplot as plt\n",
    "import cPickle as pickle\n",
    "import os\n",
    "\n",
    "from fatiando import utils\n",
    "from fatiando.gravmag import polyprism\n",
    "from fatiando.vis import mpl"
   ]
  },
  {
   "cell_type": "code",
   "execution_count": 18,
   "metadata": {},
   "outputs": [],
   "source": [
    "from datetime import datetime\n",
    "today = datetime.today()\n",
    "# dd/mm/YY\n",
    "d4 = today.strftime(\"%d-%b-%Y-%Hh:%Mm\")"
   ]
  },
  {
   "cell_type": "markdown",
   "metadata": {},
   "source": [
    "### Auxiliary functions"
   ]
  },
  {
   "cell_type": "code",
   "execution_count": 19,
   "metadata": {
    "collapsed": true
   },
   "outputs": [],
   "source": [
    "import sys\n",
    "sys.path.insert(0, '../../code')\n",
    "\n",
    "import mag_polyprism_functions as mfun"
   ]
  },
  {
   "cell_type": "markdown",
   "metadata": {},
   "source": [
    "# Input"
   ]
  },
  {
   "cell_type": "markdown",
   "metadata": {},
   "source": [
    "### Importing model parameters"
   ]
  },
  {
   "cell_type": "code",
   "execution_count": 20,
   "metadata": {},
   "outputs": [],
   "source": [
    "model_dir = 'data/thick_inter_body/model.pickle'\n",
    "data_dir = 'data/thick_inter_body/data.pickle'"
   ]
  },
  {
   "cell_type": "code",
   "execution_count": 21,
   "metadata": {},
   "outputs": [],
   "source": [
    "with open(model_dir) as w:\n",
    "        model = pickle.load(w)"
   ]
  },
  {
   "cell_type": "markdown",
   "metadata": {},
   "source": [
    "### Observation points and observed data"
   ]
  },
  {
   "cell_type": "code",
   "execution_count": 22,
   "metadata": {
    "collapsed": true
   },
   "outputs": [],
   "source": [
    "with open(data_dir) as w:\n",
    "        data = pickle.load(w)"
   ]
  },
  {
   "cell_type": "code",
   "execution_count": 23,
   "metadata": {},
   "outputs": [],
   "source": [
    "# observed data and observation points\n",
    "dobs = data['tfa_obs']\n",
    "xp = data['grid'][0]\n",
    "yp = data['grid'][1]\n",
    "zp = data['grid'][2]\n",
    "N = data['grid'][3]"
   ]
  },
  {
   "cell_type": "markdown",
   "metadata": {},
   "source": [
    "### Parameters of the initial model"
   ]
  },
  {
   "cell_type": "code",
   "execution_count": 54,
   "metadata": {},
   "outputs": [],
   "source": [
    "M = 20 # number of vertices per prism\n",
    "L = 10 # number of prisms\n",
    "P = L*(M+2) + 1 # number of parameters\n",
    "\n",
    "# depth to the top, thickness, origin, magnetization and radius\n",
    "incs = model['inc']\n",
    "decs = model['dec']\n",
    "intensity = model['intensity']\n",
    "z0 = model['z0']\n",
    "dz = 650.\n",
    "r = 800.\n",
    "x0 = -300.\n",
    "y0 = 300.\n",
    "\n",
    "# main field\n",
    "inc, dec = data['main_field']\n",
    "\n",
    "model0, m0 = mfun.initial_cylinder(M, L, x0,\n",
    "        y0, z0, dz, r, inc, dec, incs, decs, intensity)\n",
    "\n",
    "# predict data\n",
    "d0 = polyprism.tf(xp, yp, zp, model0, inc, dec)"
   ]
  },
  {
   "cell_type": "code",
   "execution_count": 55,
   "metadata": {},
   "outputs": [
    {
     "data": {
      "text/plain": [
       "12.0"
      ]
     },
     "execution_count": 55,
     "metadata": {},
     "output_type": "execute_result"
    }
   ],
   "source": [
    "intensity"
   ]
  },
  {
   "cell_type": "code",
   "execution_count": 56,
   "metadata": {},
   "outputs": [
    {
     "data": {
      "text/plain": [
       "12.0"
      ]
     },
     "execution_count": 56,
     "metadata": {},
     "output_type": "execute_result"
    }
   ],
   "source": [
    "model['intensity']"
   ]
  },
  {
   "cell_type": "markdown",
   "metadata": {},
   "source": [
    "### Limits"
   ]
  },
  {
   "cell_type": "code",
   "execution_count": 57,
   "metadata": {},
   "outputs": [],
   "source": [
    "# limits for parameters in meters\n",
    "rmin = 10.\n",
    "rmax = 3000.\n",
    "x0min = -4000.\n",
    "x0max = 4000.\n",
    "y0min = -4000.\n",
    "y0max = 4000.\n",
    "dzmin = 200.\n",
    "dzmax = 1000.\n",
    "\n",
    "mmin, mmax = mfun.build_range_param(M, L, rmin, rmax, x0min, x0max, y0min, y0max, dzmin, dzmax)"
   ]
  },
  {
   "cell_type": "markdown",
   "metadata": {},
   "source": [
    "### Variation"
   ]
  },
  {
   "cell_type": "code",
   "execution_count": 58,
   "metadata": {},
   "outputs": [],
   "source": [
    "# variation for derivatives\n",
    "deltax = 0.01*np.max(100.)\n",
    "deltay = 0.01*np.max(100.)\n",
    "deltar = 0.01*np.max(100.)\n",
    "deltaz = 0.01*np.max(100.)"
   ]
  },
  {
   "cell_type": "markdown",
   "metadata": {},
   "source": [
    "### Outcropping parameters"
   ]
  },
  {
   "cell_type": "code",
   "execution_count": 45,
   "metadata": {},
   "outputs": [],
   "source": [
    "# outcropping body parameters\n",
    "m_out = np.zeros(M + 2)\n",
    "#m_out = model['param_vec'][:M+2]"
   ]
  },
  {
   "cell_type": "code",
   "execution_count": 31,
   "metadata": {},
   "outputs": [],
   "source": [
    "# output of inversion\n",
    "inversion = dict()"
   ]
  },
  {
   "cell_type": "markdown",
   "metadata": {},
   "source": [
    "### Regularization parameters"
   ]
  },
  {
   "cell_type": "code",
   "execution_count": 59,
   "metadata": {
    "collapsed": true
   },
   "outputs": [],
   "source": [
    "#lamb = th*0.01 # Marquadt's parameter\n",
    "lamb = 10.0\n",
    "dlamb = 10.      # step for Marquadt's parameter\n",
    "\n",
    "a1 = 1.0e-4  # adjacent radial distances within each prism\n",
    "a2 = 1.0e-4   # vertically adjacent radial distances\n",
    "a3 = 0.     # outcropping cross-section\n",
    "a4 = 0.     # outcropping origin\n",
    "a5 = 1.0e-4    # vertically adjacent origins\n",
    "a6 = 1.0e-8   # zero order Tikhonov on adjacent radial distances\n",
    "a7 = 1.0e-7     # zero order Tikhonov on thickness of each prism"
   ]
  },
  {
   "cell_type": "code",
   "execution_count": 60,
   "metadata": {},
   "outputs": [],
   "source": [
    "delta = np.array([deltax, deltay, deltar, deltaz])\n",
    "alpha = np.array([a1, a2, a3, a4, a5, a6, a7])"
   ]
  },
  {
   "cell_type": "code",
   "execution_count": 61,
   "metadata": {},
   "outputs": [],
   "source": [
    "itmax = 30\n",
    "itmax_marq = 10\n",
    "tol = 1.0e-4     # stop criterion"
   ]
  },
  {
   "cell_type": "code",
   "execution_count": 62,
   "metadata": {},
   "outputs": [],
   "source": [
    "inversion['x'] = xp\n",
    "inversion['y'] = yp\n",
    "inversion['z'] = zp\n",
    "inversion['observed_data'] = dobs"
   ]
  },
  {
   "cell_type": "code",
   "execution_count": 63,
   "metadata": {},
   "outputs": [],
   "source": [
    "inversion['inc_dec'] = [incs, decs]\n",
    "inversion['z0'] = z0\n",
    "inversion['initial_dz'] = dz\n",
    "inversion['intial_r'] = r\n",
    "inversion['initial_estimate'] = model0\n",
    "inversion['initial_data'] = d0\n",
    "inversion['limits'] = [rmin, rmax, x0min, x0max, y0min, y0max, dzmin, dzmax]\n",
    "inversion['regularization'] = np.array([a1, a2, a3, a4, a5, a6, a7])\n",
    "inversion['tol'] = tol\n",
    "inversion['main_field'] = [-21.5, -18.7]"
   ]
  },
  {
   "cell_type": "code",
   "execution_count": 64,
   "metadata": {},
   "outputs": [
    {
     "data": {
      "image/png": "[encoded data removed]",
      "text/plain": [
       "<Figure size 432x360 with 2 Axes>"
      ]
     },
     "metadata": {
      "needs_background": "light"
     },
     "output_type": "display_data"
    }
   ],
   "source": [
    "plt.figure(figsize=(6,5))\n",
    "plt.title('Observed TFA', fontsize=20)\n",
    "plt.tricontourf(yp, xp, dobs, 20, cmap='RdBu_r').ax.tick_params(labelsize=12)\n",
    "plt.xlabel('$y$(km)', fontsize=18)\n",
    "plt.ylabel('$x$(km)', fontsize=18)\n",
    "clb = plt.colorbar(pad=0.025, aspect=40, shrink=1)\n",
    "clb.ax.tick_params(labelsize=13)\n",
    "source = mpl.polygon(model['prisms'][0], '.-k', xy2ne=True)\n",
    "estimate = mpl.polygon(model0[0], '.-y', xy2ne=True)\n",
    "#source.set_label('Outcropping polygon')\n",
    "estimate.set_label('Initial estimate')\n",
    "clb.ax.set_title('nT')\n",
    "mpl.m2km()\n",
    "plt.legend(loc=0, fontsize=12, shadow=bool, framealpha=1)\n",
    "#plt.savefig(mypath+'diorama_tfa_pred_data_true_inital.png', dpi=300)\n",
    "plt.show()\n",
    "\n",
    "#img(filename=mypath+'diorama_tfa_pred_data_true_inital.png', width=1000, height=1200)"
   ]
  },
  {
   "cell_type": "code",
   "execution_count": 65,
   "metadata": {},
   "outputs": [
    {
     "data": {
      "text/plain": [
       "8722.610267935834"
      ]
     },
     "execution_count": 65,
     "metadata": {},
     "output_type": "execute_result"
    }
   ],
   "source": [
    "np.sum(dobs)"
   ]
  },
  {
   "cell_type": "code",
   "execution_count": 66,
   "metadata": {},
   "outputs": [
    {
     "data": {
      "image/png": "[encoded data removed]",
      "text/plain": [
       "<Figure size 432x360 with 2 Axes>"
      ]
     },
     "metadata": {
      "needs_background": "light"
     },
     "output_type": "display_data"
    }
   ],
   "source": [
    "plt.figure(figsize=(6,5))\n",
    "plt.title('Predicted TFA', fontsize=20)\n",
    "plt.tricontourf(yp, xp, d0, 20, cmap='RdBu_r').ax.tick_params(labelsize=12)\n",
    "plt.xlabel('$y$(km)', fontsize=18)\n",
    "plt.ylabel('$x$(km)', fontsize=18)\n",
    "clb = plt.colorbar(pad=0.025, aspect=40, shrink=1)\n",
    "clb.ax.tick_params(labelsize=13)\n",
    "estimate = mpl.polygon(model0[0], '.-y', xy2ne=True)\n",
    "estimate.set_label('Initial estimate')\n",
    "clb.ax.set_title('nT')\n",
    "mpl.m2km()\n",
    "plt.legend(loc=0, fontsize=12, shadow=bool, framealpha=1)\n",
    "plt.show()"
   ]
  },
  {
   "cell_type": "markdown",
   "metadata": {},
   "source": [
    "### Inversion"
   ]
  },
  {
   "cell_type": "code",
   "execution_count": 67,
   "metadata": {},
   "outputs": [
    {
     "name": "stdout",
     "output_type": "stream",
     "text": [
      "it:  0   it_marq:  0   lambda: 1e+01   init obj.: 8.49303e+01  fin obj.: 7.17077e+01\n",
      "it:  1   it_marq:  0   lambda: 1e+00   init obj.: 7.17077e+01  fin obj.: 4.97591e+01\n",
      "it:  2   it_marq:  0   lambda: 1e-01   init obj.: 4.97591e+01  fin obj.: 3.23126e+01\n",
      "it:  3   it_marq:  0   lambda: 1e-02   init obj.: 3.23126e+01  fin obj.: 2.67426e+01\n",
      "it:  4   it_marq:  0   lambda: 1e-03   init obj.: 2.67426e+01  fin obj.: 2.61999e+01\n",
      "it:  5   it_marq:  0   lambda: 1e-04   init obj.: 2.61999e+01  fin obj.: 2.66515e+01\n",
      "it:  5   it_marq:  1   lambda: 1e-03   init obj.: 2.61999e+01  fin obj.: 2.66791e+01\n",
      "it:  5   it_marq:  2   lambda: 1e-02   init obj.: 2.61999e+01  fin obj.: 2.59237e+01\n",
      "it:  6   it_marq:  0   lambda: 1e-03   init obj.: 2.59237e+01  fin obj.: 2.76873e+01\n",
      "it:  6   it_marq:  1   lambda: 1e-02   init obj.: 2.59237e+01  fin obj.: 2.67985e+01\n",
      "it:  6   it_marq:  2   lambda: 1e-01   init obj.: 2.59237e+01  fin obj.: 2.56014e+01\n",
      "it:  7   it_marq:  0   lambda: 1e-02   init obj.: 2.56014e+01  fin obj.: 2.64636e+01\n",
      "it:  7   it_marq:  1   lambda: 1e-01   init obj.: 2.56014e+01  fin obj.: 2.56084e+01\n",
      "it:  7   it_marq:  2   lambda: 1e+00   init obj.: 2.56014e+01  fin obj.: 2.55101e+01\n",
      "it:  8   it_marq:  0   lambda: 1e-01   init obj.: 2.55101e+01  fin obj.: 2.55487e+01\n",
      "it:  8   it_marq:  1   lambda: 1e+00   init obj.: 2.55101e+01  fin obj.: 2.54488e+01\n",
      "it:  9   it_marq:  0   lambda: 1e-01   init obj.: 2.54488e+01  fin obj.: 2.55291e+01\n",
      "it:  9   it_marq:  1   lambda: 1e+00   init obj.: 2.54488e+01  fin obj.: 2.53840e+01\n",
      "it: 10   it_marq:  0   lambda: 1e-01   init obj.: 2.53840e+01  fin obj.: 2.54584e+01\n",
      "it: 10   it_marq:  1   lambda: 1e+00   init obj.: 2.53840e+01  fin obj.: 2.53716e+01\n",
      "it: 11   it_marq:  0   lambda: 1e-01   init obj.: 2.53716e+01  fin obj.: 2.54233e+01\n",
      "it: 11   it_marq:  1   lambda: 1e+00   init obj.: 2.53716e+01  fin obj.: 2.53514e+01\n",
      "it: 12   it_marq:  0   lambda: 1e-01   init obj.: 2.53514e+01  fin obj.: 2.53862e+01\n",
      "it: 12   it_marq:  1   lambda: 1e+00   init obj.: 2.53514e+01  fin obj.: 2.53469e+01\n",
      "it: 13   it_marq:  0   lambda: 1e-01   init obj.: 2.53469e+01  fin obj.: 2.54373e+01\n",
      "it: 13   it_marq:  1   lambda: 1e+00   init obj.: 2.53469e+01  fin obj.: 2.53578e+01\n",
      "it: 13   it_marq:  2   lambda: 1e+01   init obj.: 2.53469e+01  fin obj.: 2.53422e+01\n",
      "it: 14   it_marq:  0   lambda: 1e+00   init obj.: 2.53422e+01  fin obj.: 2.53569e+01\n",
      "it: 14   it_marq:  1   lambda: 1e+01   init obj.: 2.53422e+01  fin obj.: 2.53380e+01\n",
      "it: 15   it_marq:  0   lambda: 1e+00   init obj.: 2.53380e+01  fin obj.: 2.53466e+01\n",
      "it: 15   it_marq:  1   lambda: 1e+01   init obj.: 2.53380e+01  fin obj.: 2.53319e+01\n",
      "it: 16   it_marq:  0   lambda: 1e+00   init obj.: 2.53319e+01  fin obj.: 2.53342e+01\n",
      "it: 16   it_marq:  1   lambda: 1e+01   init obj.: 2.53319e+01  fin obj.: 2.53263e+01\n",
      "it: 17   it_marq:  0   lambda: 1e+00   init obj.: 2.53263e+01  fin obj.: 2.53365e+01\n",
      "it: 17   it_marq:  1   lambda: 1e+01   init obj.: 2.53263e+01  fin obj.: 2.53190e+01\n",
      "it: 18   it_marq:  0   lambda: 1e+00   init obj.: 2.53190e+01  fin obj.: 2.53288e+01\n",
      "it: 18   it_marq:  1   lambda: 1e+01   init obj.: 2.53190e+01  fin obj.: 2.53138e+01\n",
      "it: 19   it_marq:  0   lambda: 1e+00   init obj.: 2.53138e+01  fin obj.: 2.53073e+01\n",
      "it: 20   it_marq:  0   lambda: 1e-01   init obj.: 2.53073e+01  fin obj.: 2.54808e+01\n",
      "it: 20   it_marq:  1   lambda: 1e+00   init obj.: 2.53073e+01  fin obj.: 2.53210e+01\n",
      "it: 20   it_marq:  2   lambda: 1e+01   init obj.: 2.53073e+01  fin obj.: 2.53006e+01\n",
      "it: 21   it_marq:  0   lambda: 1e+00   init obj.: 2.53006e+01  fin obj.: 2.53159e+01\n",
      "it: 21   it_marq:  1   lambda: 1e+01   init obj.: 2.53006e+01  fin obj.: 2.52960e+01\n",
      "it: 22   it_marq:  0   lambda: 1e+00   init obj.: 2.52960e+01  fin obj.: 2.53137e+01\n",
      "it: 22   it_marq:  1   lambda: 1e+01   init obj.: 2.52960e+01  fin obj.: 2.52937e+01\n"
     ]
    }
   ],
   "source": [
    "d_fit, m_est, model_est, phi_list, model_list, res_list = mfun.l1_levmarq_tf(\n",
    "    xp, yp, zp, m0, M, L, delta,\n",
    "    itmax, itmax_marq, lamb,\n",
    "    dlamb, tol, mmin, mmax,\n",
    "    m_out, dobs, inc, dec,\n",
    "    model0[0].props, alpha, z0, dz\n",
    ")"
   ]
  },
  {
   "cell_type": "markdown",
   "metadata": {},
   "source": [
    "# Results"
   ]
  },
  {
   "cell_type": "code",
   "execution_count": 68,
   "metadata": {},
   "outputs": [],
   "source": [
    "inversion['data_fit'] = d_fit\n",
    "inversion['estimate'] = m_est\n",
    "inversion['prisms'] = model_est\n",
    "inversion['estimated_models'] = model_list\n",
    "inversion['objective'] = phi_list\n",
    "inversion['residual'] = dobs - d_fit\n",
    "inversion['residual_list'] = res_list"
   ]
  },
  {
   "cell_type": "markdown",
   "metadata": {},
   "source": [
    "### Folder to save the results"
   ]
  },
  {
   "cell_type": "code",
   "execution_count": 69,
   "metadata": {},
   "outputs": [],
   "source": [
    "mypath = data_dir[:-11]+'l1_tfa_inversion/single-'+d4 #default folder name\n",
    "# mypath = data_dir[:-11]+'l2_tfa_inversion/name_folder' #defined folder name\n",
    "if not os.path.isdir(mypath):\n",
    "   os.makedirs(mypath)"
   ]
  },
  {
   "cell_type": "code",
   "execution_count": 70,
   "metadata": {},
   "outputs": [],
   "source": [
    "file_name = mypath+'/inversion.pickle'\n",
    "with open(file_name, 'w') as f:\n",
    "    pickle.dump(inversion, f)"
   ]
  },
  {
   "cell_type": "code",
   "execution_count": 71,
   "metadata": {},
   "outputs": [
    {
     "data": {
      "text/plain": [
       "'data/thick_inter_body/l1_tfa_inversion/single-11-Jul-2020-10h:23m'"
      ]
     },
     "execution_count": 71,
     "metadata": {},
     "output_type": "execute_result"
    }
   ],
   "source": [
    "mypath"
   ]
  },
  {
   "cell_type": "code",
   "execution_count": null,
   "metadata": {},
   "outputs": [],
   "source": []
  }
 ],
 "metadata": {
  "anaconda-cloud": {},
  "kernelspec": {
   "display_name": "Python 2",
   "language": "python",
   "name": "python2"
  },
  "language_info": {
   "codemirror_mode": {
    "name": "ipython",
    "version": 2
   },
   "file_extension": ".py",
   "mimetype": "text/x-python",
   "name": "python",
   "nbconvert_exporter": "python",
   "pygments_lexer": "ipython2",
   "version": "2.7.16"
  }
 },
 "nbformat": 4,
 "nbformat_minor": 2
}
