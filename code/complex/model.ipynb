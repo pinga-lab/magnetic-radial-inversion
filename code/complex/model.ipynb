{
 "cells": [
  {
   "cell_type": "markdown",
   "metadata": {},
   "source": [
    "# complex model"
   ]
  },
  {
   "cell_type": "markdown",
   "metadata": {},
   "source": [
    "This notebook creates a model simulating an complex with magnetization using the poligonal prisms from fatiando and save its parameters in an outer file."
   ]
  },
  {
   "cell_type": "code",
   "execution_count": 46,
   "metadata": {},
   "outputs": [],
   "source": [
    "import numpy as np\n",
    "import matplotlib.pyplot as plt\n",
    "import cPickle as pickle\n",
    "import os\n",
    "from scipy import signal\n",
    "\n",
    "from fatiando import utils\n",
    "from fatiando.gridder import regular\n",
    "from fatiando.vis import myv\n",
    "from matplotlib import colors, ticker, cm\n",
    "from IPython.display import Image as img"
   ]
  },
  {
   "cell_type": "markdown",
   "metadata": {},
   "source": [
    "### Auxiliary functions"
   ]
  },
  {
   "cell_type": "code",
   "execution_count": 47,
   "metadata": {},
   "outputs": [],
   "source": [
    "import sys\n",
    "sys.path.insert(0, '../../code')\n",
    "\n",
    "import mag_polyprism_functions as mfun"
   ]
  },
  {
   "cell_type": "markdown",
   "metadata": {},
   "source": [
    "### Creating the model"
   ]
  },
  {
   "cell_type": "code",
   "execution_count": 48,
   "metadata": {
    "collapsed": true
   },
   "outputs": [],
   "source": [
    "complex_model = dict()"
   ]
  },
  {
   "cell_type": "code",
   "execution_count": 49,
   "metadata": {},
   "outputs": [],
   "source": [
    "# model parameters\n",
    "complex_model['M'] = 30 # number of vertices per prism\n",
    "complex_model['L'] = 10 # number of prisms\n",
    "complex_model['P'] = complex_model['L']*(complex_model['M']+2) # number of parameters\n",
    "\n",
    "complex_model['z0'] = 200.    # depth of the top the shallowest prism\n",
    "complex_model['dz'] = 400.    # thickness of each prism\n",
    "\n",
    "complex_model['inc'] = 65.  # inclination\n",
    "complex_model['dec'] = -40.5   # declination\n",
    "complex_model['intensity'] = 10. # intensity\n",
    "\n",
    "complex_model['props']={'magnetization': utils.ang2vec(\n",
    "    complex_model['intensity'], complex_model['inc'], complex_model['dec'])} # physical property: magnetization\n",
    "\n",
    "#ri = np.linspace(1000., 200., complex_model['M']*complex_model['L']) # radial distance for each vertice\n",
    "#rand = np.random.uniform(0.8, 1., complex_model['M']*complex_model['L'])\n",
    "#r = ri*rand\n",
    "\n",
    "#r = np.random.uniform(low=400., high=700., size=complex_model['M'])\n",
    "#r = signal.medfilt(r)\n",
    "r = np.array([ 513.8863825 ,  608.66242761,  608.66242761,  639.21917548,\n",
    "                554.40019092,  651.54224441,  666.06947764,  666.06947764,\n",
    "                568.66501881,  568.66501881,  625.57161505,  625.57161505,\n",
    "                522.11037285,  522.11037285,  542.90744237,  542.90744237,\n",
    "                405.92270651,  405.92270651,  549.6901502 ,  636.54706803,\n",
    "                551.61570786,  582.77644177,  582.77644177,  582.77644177,\n",
    "                464.08301193,  464.08301193,  407.89472325,  407.98706731,\n",
    "                407.98706731,  407.98706731])\n",
    "rs = []\n",
    "#r = np.zeros((complex_model['L'],1),dtype=r.dtype) + r\n",
    "#r = np.repeat(r[None],complex_model['M'],axis=0)\n",
    "\n",
    "scale = np.array([1.2, 1.4, 1.6, 1., 1.,\n",
    "                  0.7, 0.6, 2., 2.2, 2.2])\n",
    "\n",
    "for i in range(complex_model['L']):\n",
    "    rs.append(r*scale[i])"
   ]
  },
  {
   "cell_type": "code",
   "execution_count": 50,
   "metadata": {},
   "outputs": [],
   "source": [
    "# Cartesian coordinates of the origin of each prism\n",
    "x0 = np.linspace(-250., 750., complex_model['L'])\n",
    "y0 = np.linspace(250., -750., complex_model['L'])\n",
    "#y0 = np.sqrt(1500.**2. - (x0 - 1000.)**2.) - 500.\n",
    "l = []   # list of parameters of the prisms\n",
    "\n",
    "for i, (r, x, y) in enumerate(zip(rs, x0, y0)):\n",
    "    l.append([r, x, y,\n",
    "             complex_model['z0'] + complex_model['dz']*i,\n",
    "             complex_model['z0'] + complex_model['dz']*(i + 1),\n",
    "              complex_model['props']])\n",
    "\n",
    "#for i in range(complex_model['L']):\n",
    "#    l.append([r*(-150.*i*i/11. + 3150.*i/11. + 500.), x0[i], y0[i], complex_model['z0'] + complex_model['dz']*i,\\\n",
    "#          complex_model['z0'] + complex_model['dz']*(i + 1), complex_model['props']])\n",
    "\n",
    "complex_model['prisms'] = mfun.pol2cart(l, complex_model['M'], complex_model['L'])\n",
    "complex_model['param_vec'] = mfun.param_vec(l, complex_model['M'], complex_model['L'])"
   ]
  },
  {
   "cell_type": "markdown",
   "metadata": {},
   "source": [
    "### Model ploting"
   ]
  },
  {
   "cell_type": "code",
   "execution_count": 59,
   "metadata": {},
   "outputs": [
    {
     "data": {
      "image/png": "[encoded data removed]",
      "text/plain": [
       "<IPython.core.display.Image object>"
      ]
     },
     "execution_count": 59,
     "metadata": {},
     "output_type": "execute_result"
    }
   ],
   "source": [
    "bounds = [-3000., 3000., -3000., 3000., -1000., 5000.]\n",
    "\n",
    "red, green, blue = (1, 0, 0), (0, 1, 0), (0, 0, 1)\n",
    "white, black = (1, 1, 1), (0, 0, 0),\n",
    "\n",
    "# Show the model\n",
    "scene = myv.figure()\n",
    "myv.polyprisms(complex_model['prisms'], 'magnetization', opacity=1., color=blue)\n",
    "\n",
    "ax = myv.axes(myv.outline(bounds), ranges=[i * 0.001 for i in bounds])\n",
    "ax.axes.x_label, ax.axes.y_label, ax.axes.z_label = 'x (km)', 'y (km)', 'z (km)'\n",
    "ax.axes.font_factor = 1.65\n",
    "scene.scene.camera.position = [-19720.084347792294, 3126.0282215632014, -99.45423654954331]\n",
    "scene.scene.camera.focal_point = [8.9157087444868358e-12, 8.9157087444868358e-12, 2000.000000000007]\n",
    "scene.scene.camera.view_angle = 30.0\n",
    "scene.scene.camera.view_up = [0.11349207190424904, 0.04951185123848318, -0.99230445237427956]\n",
    "scene.scene.camera.clipping_range = [12457.708903204115, 29715.168202460649]\n",
    "scene.scene.camera.compute_view_plane_normal()\n",
    "scene.scene.camera.compute_view_plane_normal()\n",
    "\n",
    "myv.wall_bottom(ax.axes.bounds, opacity=0.2)\n",
    "myv.wall_north(ax.axes.bounds)\n",
    "\n",
    "myv.savefig('complex_data/complex_true.png')\n",
    "myv.show()\n",
    "img(filename='complex_data/complex_true.png')"
   ]
  },
  {
   "cell_type": "markdown",
   "metadata": {},
   "source": [
    "### Saving in an outer file"
   ]
  },
  {
   "cell_type": "code",
   "execution_count": 60,
   "metadata": {},
   "outputs": [],
   "source": [
    "file_name = 'complex_data/complex_model.pickle'\n",
    "with open(file_name, 'w') as f:\n",
    "    pickle.dump(complex_model, f)"
   ]
  },
  {
   "cell_type": "code",
   "execution_count": 65,
   "metadata": {},
   "outputs": [],
   "source": [
    "for g in rs:\n",
    "    print np.max(g)"
   ]
  },
  {
   "cell_type": "code",
   "execution_count": 62,
   "metadata": {},
   "outputs": [
    {
     "data": {
      "text/plain": [
       "-750.0"
      ]
     },
     "execution_count": 62,
     "metadata": {},
     "output_type": "execute_result"
    }
   ],
   "source": [
    "np.min(y0)"
   ]
  },
  {
   "cell_type": "code",
   "execution_count": 63,
   "metadata": {},
   "outputs": [
    {
     "data": {
      "text/plain": [
       "250.0"
      ]
     },
     "execution_count": 63,
     "metadata": {},
     "output_type": "execute_result"
    }
   ],
   "source": [
    "np.max(y0)"
   ]
  },
  {
   "cell_type": "code",
   "execution_count": 56,
   "metadata": {},
   "outputs": [
    {
     "data": {
      "text/plain": [
       "array([ 250.        ,  138.88888889,   27.77777778,  -83.33333333,\n",
       "       -194.44444444, -305.55555556, -416.66666667, -527.77777778,\n",
       "       -638.88888889, -750.        ])"
      ]
     },
     "execution_count": 56,
     "metadata": {},
     "output_type": "execute_result"
    }
   ],
   "source": [
    "y0"
   ]
  },
  {
   "cell_type": "code",
   "execution_count": null,
   "metadata": {},
   "outputs": [],
   "source": []
  },
  {
   "cell_type": "code",
   "execution_count": null,
   "metadata": {},
   "outputs": [],
   "source": []
  },
  {
   "cell_type": "code",
   "execution_count": null,
   "metadata": {},
   "outputs": [],
   "source": []
  }
 ],
 "metadata": {
  "kernelspec": {
   "display_name": "Python 2",
   "language": "python",
   "name": "python2"
  },
  "language_info": {
   "codemirror_mode": {
    "name": "ipython",
    "version": 2
   },
   "file_extension": ".py",
   "mimetype": "text/x-python",
   "name": "python",
   "nbconvert_exporter": "python",
   "pygments_lexer": "ipython2",
   "version": "2.7.15"
  }
 },
 "nbformat": 4,
 "nbformat_minor": 2
}
