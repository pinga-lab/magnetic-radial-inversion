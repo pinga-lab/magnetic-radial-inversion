{
 "cells": [
  {
   "cell_type": "markdown",
   "metadata": {},
   "source": [
    "# Synthetic complex model"
   ]
  },
  {
   "cell_type": "markdown",
   "metadata": {},
   "source": [
    "This notebook creates a model simulating an complex with magnetization using the poligonal prisms from fatiando and save its parameters in an outer file."
   ]
  },
  {
   "cell_type": "code",
   "execution_count": 1,
   "metadata": {},
   "outputs": [
    {
     "name": "stderr",
     "output_type": "stream",
     "text": [
      "/home/leonardo/anaconda2/lib/python2.7/site-packages/fatiando/vis/myv.py:51: UserWarning: This module will be removed in v0.7.\n",
      "  warnings.warn(\"This module will be removed in v0.7.\")\n"
     ]
    }
   ],
   "source": [
    "import numpy as np\n",
    "import matplotlib.pyplot as plt\n",
    "import cPickle as pickle\n",
    "import os\n",
    "from scipy import signal\n",
    "\n",
    "from fatiando import utils\n",
    "from fatiando.gridder import regular\n",
    "from fatiando.vis import myv"
   ]
  },
  {
   "cell_type": "markdown",
   "metadata": {},
   "source": [
    "### Auxiliary functions"
   ]
  },
  {
   "cell_type": "code",
   "execution_count": 2,
   "metadata": {},
   "outputs": [
    {
     "name": "stderr",
     "output_type": "stream",
     "text": [
      "/home/leonardo/anaconda2/lib/python2.7/site-packages/fatiando/vis/mpl.py:76: UserWarning: This module will be removed in v0.6. We recommend the use of matplotlib.pyplot module directly. Some of the fatiando specific functions will remain.\n",
      "  \"specific functions will remain.\")\n"
     ]
    }
   ],
   "source": [
    "import sys\n",
    "sys.path.insert(0, '../../code')\n",
    "\n",
    "import mag_polyprism_functions as mfun"
   ]
  },
  {
   "cell_type": "markdown",
   "metadata": {},
   "source": [
    "### Creating the model"
   ]
  },
  {
   "cell_type": "code",
   "execution_count": 3,
   "metadata": {
    "collapsed": true
   },
   "outputs": [],
   "source": [
    "model = dict()"
   ]
  },
  {
   "cell_type": "code",
   "execution_count": 4,
   "metadata": {},
   "outputs": [],
   "source": [
    "# model parameters\n",
    "model['M'] = 30 # number of vertices per prism\n",
    "model['L'] = 10 # number of prisms\n",
    "model['P'] = model['L']*(model['M']+2) # number of parameters\n",
    "\n",
    "model['z0'] = 300.    # depth of the top the shallowest prism\n",
    "model['dz'] = 600.    # thickness of each prism\n",
    "\n",
    "model['inc'] = -50.  # inclination\n",
    "model['dec'] = 9.   # declination\n",
    "model['intensity'] = 12. # intensity\n",
    "\n",
    "model['props']={'magnetization': utils.ang2vec(\n",
    "    model['intensity'], model['inc'], model['dec'])} # physical property: magnetization\n",
    "\n",
    "#ri = np.linspace(1000., 200., model['M']*model['L']) # radial distance for each vertice\n",
    "#rand = np.random.uniform(0.8, 1., model['M']*model['L'])\n",
    "#r = ri*rand\n",
    "\n",
    "#r = np.random.uniform(low=400., high=700., size=model['M'])\n",
    "#r = signal.medfilt(r)\n",
    "r = np.array([ 513.8863825 ,  608.66242761,  608.66242761,  639.21917548,\n",
    "                554.40019092,  651.54224441,  666.06947764,  666.06947764,\n",
    "                568.66501881,  568.66501881,  625.57161505,  625.57161505,\n",
    "                522.11037285,  522.11037285,  542.90744237,  542.90744237,\n",
    "                405.92270651,  405.92270651,  549.6901502 ,  636.54706803,\n",
    "                551.61570786,  582.77644177,  582.77644177,  582.77644177,\n",
    "                464.08301193,  464.08301193,  407.89472325,  407.98706731,\n",
    "                407.98706731,  407.98706731])\n",
    "rs = []\n",
    "#r = np.zeros((model['L'],1),dtype=r.dtype) + r\n",
    "#r = np.repeat(r[None],model['M'],axis=0)\n",
    "\n",
    "scale = np.array([1.2, 1.4, 1.6, 1., 1.,\n",
    "                  0.7, 0.6, 2., 2.2, 2.2])\n",
    "\n",
    "for i in range(model['L']):\n",
    "    rs.append(r*scale[i])"
   ]
  },
  {
   "cell_type": "code",
   "execution_count": 5,
   "metadata": {},
   "outputs": [],
   "source": [
    "# Cartesian coordinates of the origin of each prism\n",
    "x0 = np.linspace(-250., 750., model['L'])\n",
    "y0 = np.linspace(250., -750., model['L'])\n",
    "#y0 = np.sqrt(1500.**2. - (x0 - 1000.)**2.) - 500.\n",
    "l = []   # list of parameters of the prisms\n",
    "\n",
    "for i, (r, x, y) in enumerate(zip(rs, x0, y0)):\n",
    "    l.append([r, x, y,\n",
    "             model['z0'] + model['dz']*i,\n",
    "             model['z0'] + model['dz']*(i + 1),\n",
    "              model['props']])\n",
    "\n",
    "#for i in range(model['L']):\n",
    "#    l.append([r*(-150.*i*i/11. + 3150.*i/11. + 500.), x0[i], y0[i], model['z0'] + model['dz']*i,\\\n",
    "#          model['z0'] + model['dz']*(i + 1), model['props']])\n",
    "\n",
    "model['prisms'] = mfun.pol2cart(l, model['M'], model['L'])\n",
    "model['param_vec'] = mfun.param_vec(l, model['M'], model['L'])"
   ]
  },
  {
   "cell_type": "code",
   "execution_count": 6,
   "metadata": {},
   "outputs": [
    {
     "data": {
      "text/plain": [
       "[<fatiando.mesher.PolygonalPrism at 0x7fb2008dc990>,\n",
       " <fatiando.mesher.PolygonalPrism at 0x7fb2008dc9d0>,\n",
       " <fatiando.mesher.PolygonalPrism at 0x7fb2008dca10>,\n",
       " <fatiando.mesher.PolygonalPrism at 0x7fb2008dca50>,\n",
       " <fatiando.mesher.PolygonalPrism at 0x7fb2008dca90>,\n",
       " <fatiando.mesher.PolygonalPrism at 0x7fb2008dcad0>,\n",
       " <fatiando.mesher.PolygonalPrism at 0x7fb2008dcb10>,\n",
       " <fatiando.mesher.PolygonalPrism at 0x7fb2008dcb50>,\n",
       " <fatiando.mesher.PolygonalPrism at 0x7fb2008dcb90>,\n",
       " <fatiando.mesher.PolygonalPrism at 0x7fb2008dcbd0>,\n",
       " <fatiando.mesher.PolygonalPrism at 0x7fb2008dc450>]"
      ]
     },
     "execution_count": 6,
     "metadata": {},
     "output_type": "execute_result"
    }
   ],
   "source": [
    "# interfering body\n",
    "#ri = np.random.uniform(low=200., high=300., size=15)\n",
    "\n",
    "ri = np.array([271.73471463, 278.61158313, 278.68568553, 276.50102288,\n",
    "               254.16415317, 277.73043811, 283.95953863, 296.49928136,\n",
    "               228.92328143, 295.14483121, 276.81495276, 290.54063945,\n",
    "               273.79161776, 236.72775967, 287.56456328])*3.5\n",
    "\n",
    "x0i = -250.\n",
    "y0i = 250.\n",
    "\n",
    "inci = -50  # inclination\n",
    "deci = 9.   # declination\n",
    "inti = 4. # intensity\n",
    "propi = {'magnetization': utils.ang2vec(inti, inci, deci)}\n",
    "\n",
    "li = [[ri, x0i, y0i, 0., 200., propi]]\n",
    "prismi = mfun.pol2cart(li, 15, 1)\n",
    "model['prisms'].append(prismi[0])\n",
    "model['prisms']"
   ]
  },
  {
   "cell_type": "markdown",
   "metadata": {},
   "source": [
    "### Model ploting"
   ]
  },
  {
   "cell_type": "code",
   "execution_count": 7,
   "metadata": {},
   "outputs": [],
   "source": [
    "bounds = [-3000., 3000., -3000., 3000., -1000., 6000.]\n",
    "\n",
    "red, green, blue = (1, 0, 0), (0, 1, 0), (0, 0, 1)\n",
    "white, black = (1, 1, 1), (0, 0, 0),\n",
    "\n",
    "# Show the model\n",
    "scene = myv.figure(size=(500,400))\n",
    "myv.polyprisms(model['prisms'][:-1], 'magnetization', opacity=1., color=blue)\n",
    "myv.polyprisms([model['prisms'][-1]], 'magnetization', opacity=1., color=green)\n",
    "\n",
    "ax = myv.axes(myv.outline(bounds), ranges=[i * 0.001 for i in bounds])\n",
    "ax.axes.x_label, ax.axes.y_label, ax.axes.z_label = 'x (km)', 'y (km)', 'z (km)'\n",
    "ax.axes.font_factor = 1.8\n",
    "ax.axes.label_format = '%-#.1f'\n",
    "\n",
    "scene.scene.camera.position = [-19605.307990832091, 3535.8637185321036, -488.18278388495798]\n",
    "scene.scene.camera.focal_point = [1.1144635930608546e-11, -2.7861589826521362e-13, 1999.999999999998]\n",
    "scene.scene.camera.view_angle = 30.0\n",
    "scene.scene.camera.view_up = [0.12277735145860294, -0.017502360377677363, -0.99227989466179378]\n",
    "scene.scene.camera.clipping_range = [12254.374925771437, 29971.123787119483]\n",
    "scene.scene.camera.compute_view_plane_normal()\n",
    "scene.scene.render()\n",
    "\n",
    "myv.wall_bottom(ax.axes.bounds, opacity=0.2)\n",
    "myv.wall_north(ax.axes.bounds)\n",
    "\n",
    "myv.savefig('data/complex_ibgu.png')\n",
    "myv.show()"
   ]
  },
  {
   "cell_type": "markdown",
   "metadata": {},
   "source": [
    "### Saving in an outer file"
   ]
  },
  {
   "cell_type": "code",
   "execution_count": 8,
   "metadata": {},
   "outputs": [],
   "source": [
    "file_name = 'data/model_4igub.pickle'\n",
    "with open(file_name, 'w') as f:\n",
    "    pickle.dump(model, f)"
   ]
  },
  {
   "cell_type": "code",
   "execution_count": null,
   "metadata": {},
   "outputs": [],
   "source": []
  }
 ],
 "metadata": {
  "kernelspec": {
   "display_name": "Python 2",
   "language": "python",
   "name": "python2"
  },
  "language_info": {
   "codemirror_mode": {
    "name": "ipython",
    "version": 2
   },
   "file_extension": ".py",
   "mimetype": "text/x-python",
   "name": "python",
   "nbconvert_exporter": "python",
   "pygments_lexer": "ipython2",
   "version": "2.7.16"
  }
 },
 "nbformat": 4,
 "nbformat_minor": 2
}
