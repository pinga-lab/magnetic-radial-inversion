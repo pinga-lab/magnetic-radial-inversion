{
 "cells": [
  {
   "cell_type": "markdown",
   "metadata": {},
   "source": [
    "# Complex body TFA Inversion"
   ]
  },
  {
   "cell_type": "markdown",
   "metadata": {},
   "source": [
    "This notebook performs the inversion using Levenberg-Marquadt's algorithm of total field anomaly (TFA) data on a regular grid of a model with a complex geometry."
   ]
  },
  {
   "cell_type": "code",
   "execution_count": 81,
   "metadata": {},
   "outputs": [],
   "source": [
    "import numpy as np\n",
    "import matplotlib.pyplot as plt\n",
    "import cPickle as pickle\n",
    "import os\n",
    "\n",
    "from fatiando import utils\n",
    "from fatiando.gravmag import polyprism\n",
    "from fatiando.mesher import PolygonalPrism\n",
    "from fatiando.vis import mpl, myv\n",
    "from matplotlib import colors, ticker, cm\n",
    "from IPython.display import Image as img\n",
    "from matplotlib.mlab import normpdf"
   ]
  },
  {
   "cell_type": "markdown",
   "metadata": {},
   "source": [
    "### Auxiliary functions"
   ]
  },
  {
   "cell_type": "code",
   "execution_count": 82,
   "metadata": {
    "collapsed": true
   },
   "outputs": [],
   "source": [
    "import sys\n",
    "sys.path.insert(0, '../../code')\n",
    "\n",
    "import mag_polyprism_functions as mfun"
   ]
  },
  {
   "cell_type": "markdown",
   "metadata": {},
   "source": [
    "# Input"
   ]
  },
  {
   "cell_type": "markdown",
   "metadata": {},
   "source": [
    "### Importing model parameters"
   ]
  },
  {
   "cell_type": "code",
   "execution_count": 83,
   "metadata": {},
   "outputs": [],
   "source": [
    "model = 'complex_data/complex_model.pickle'\n",
    "data = 'complex_data/flightlines_grid_1300pts_100k/data.pickle'"
   ]
  },
  {
   "cell_type": "code",
   "execution_count": 84,
   "metadata": {},
   "outputs": [],
   "source": [
    "with open(model) as w:\n",
    "        complex_model = pickle.load(w)"
   ]
  },
  {
   "cell_type": "markdown",
   "metadata": {},
   "source": [
    "### Observed data"
   ]
  },
  {
   "cell_type": "code",
   "execution_count": 85,
   "metadata": {
    "collapsed": true
   },
   "outputs": [],
   "source": [
    "with open(data) as w:\n",
    "        complex_data = pickle.load(w)"
   ]
  },
  {
   "cell_type": "code",
   "execution_count": 86,
   "metadata": {},
   "outputs": [],
   "source": [
    "# observed data and observation points\n",
    "dobs = complex_data['tfa_obs']\n",
    "xp = complex_data['grid'][0]\n",
    "yp = complex_data['grid'][1]\n",
    "zp = complex_data['grid'][2]\n",
    "N = complex_data['grid'][3]"
   ]
  },
  {
   "cell_type": "markdown",
   "metadata": {},
   "source": [
    "### Parameters of the initial model"
   ]
  },
  {
   "cell_type": "code",
   "execution_count": 87,
   "metadata": {},
   "outputs": [],
   "source": [
    "M = 15 # number of vertices per prism\n",
    "L = 8 # number of prisms\n",
    "P = L*(M+2) + 1 # number of parameters\n",
    "\n",
    "# magnetization direction\n",
    "# incs = complex_model['inc']\n",
    "# decs = complex_model['dec']\n",
    "#intensity = complex_model['intensity']\n",
    "incs = 45.\n",
    "decs = -10\n",
    "intensity = 10.\n",
    "\n",
    "# depth to the top, thickness and radius\n",
    "z0 = complex_model['z0']\n",
    "dz = 600.\n",
    "r = 500.\n",
    "\n",
    "# total magnetization\n",
    "props = {'magnetization': utils.ang2vec(\n",
    "        intensity, incs, decs)}\n",
    "rin = np.zeros(M) + r\n",
    "m0 = np.hstack((rin, np.zeros(2)))\n",
    "m0 = np.resize(m0, P - 1) \n",
    "m0 = np.hstack((m0, dz)) # inicial parameters vector\n",
    "model0 = mfun.param2polyprism(m0, M, L, z0, props) # list of classes of prisms\n",
    "\n",
    "# main field\n",
    "inc, dec = complex_data['main_field']\n",
    "\n",
    "# predict data\n",
    "d0 = polyprism.tf(xp, yp, zp, model0, inc, dec)"
   ]
  },
  {
   "cell_type": "markdown",
   "metadata": {},
   "source": [
    "### Limits"
   ]
  },
  {
   "cell_type": "code",
   "execution_count": 88,
   "metadata": {},
   "outputs": [],
   "source": [
    "# limits for parameters in meters\n",
    "rmin = 100.\n",
    "rmax = 2000.\n",
    "x0min = -1500.\n",
    "x0max = 1500.\n",
    "y0min = -1500.\n",
    "y0max = 1500.\n",
    "dzmin = 200.\n",
    "dzmax = 700.\n",
    "\n",
    "mmin, mmax = mfun.build_range_param(M, L, rmin, rmax, x0min, x0max, y0min, y0max, dzmin, dzmax)"
   ]
  },
  {
   "cell_type": "markdown",
   "metadata": {},
   "source": [
    "### Variation"
   ]
  },
  {
   "cell_type": "code",
   "execution_count": 89,
   "metadata": {},
   "outputs": [],
   "source": [
    "# variation for derivatives\n",
    "deltax = 0.01*np.max(x0max)\n",
    "deltay = 0.01*np.max(y0max)\n",
    "deltar = 0.01*np.max(rmax)\n",
    "deltaz = 0.01*np.max(dzmax)"
   ]
  },
  {
   "cell_type": "markdown",
   "metadata": {},
   "source": [
    "### Outcropping parameters"
   ]
  },
  {
   "cell_type": "code",
   "execution_count": 90,
   "metadata": {},
   "outputs": [],
   "source": [
    "# outcropping body parameters\n",
    "m_out = np.zeros(M + 2)\n",
    "#m_out = complex_model['param_vec'][:M+2]"
   ]
  },
  {
   "cell_type": "markdown",
   "metadata": {},
   "source": [
    "### Folder to save the results"
   ]
  },
  {
   "cell_type": "code",
   "execution_count": 91,
   "metadata": {},
   "outputs": [],
   "source": [
    "if complex_data['grid'][4] == 'flightlines':\n",
    "    if incs == complex_model['inc'] and decs == complex_model['dec']:\n",
    "        mypath = 'tfa_inversion/true_direction_flightlines/r%d_int%d_z0%d_dz%d' % (rin[0], np.linalg.norm(props['magnetization']), z0, dz)\n",
    "        if not os.path.isdir(mypath):\n",
    "           os.makedirs(mypath)\n",
    "    else:\n",
    "        mypath = 'tfa_inversion/wrong_direction_flightlines/inc%d_dec%d_r%d_int%d_z0%d_dz%d' % (incs, decs, rin[0], np.linalg.norm(props['magnetization']), z0, dz)\n",
    "        if not os.path.isdir(mypath):\n",
    "           os.makedirs(mypath)\n",
    "else:\n",
    "    if incs == complex_model['inc'] and decs == complex_model['dec']:\n",
    "        mypath = 'tfa_inversion/true_direction_regular/r%d_int%d_z0%d_dz%d' % (rin[0], np.linalg.norm(props['magnetization']), z0, dz)\n",
    "        if not os.path.isdir(mypath):\n",
    "           os.makedirs(mypath)\n",
    "    else:\n",
    "        mypath = 'tfa_inversion/wrong_direction_regular/inc%d_dec%d_r%d_int%d_z0%d_dz%d' % (incs, decs, rin[0], np.linalg.norm(props['magnetization']), z0, dz)\n",
    "        if not os.path.isdir(mypath):\n",
    "           os.makedirs(mypath)"
   ]
  },
  {
   "cell_type": "code",
   "execution_count": 92,
   "metadata": {},
   "outputs": [],
   "source": [
    "# output of inversion\n",
    "complex_inversion = dict()"
   ]
  },
  {
   "cell_type": "markdown",
   "metadata": {},
   "source": [
    "### Regularization parameters"
   ]
  },
  {
   "cell_type": "code",
   "execution_count": 93,
   "metadata": {
    "collapsed": true
   },
   "outputs": [],
   "source": [
    "#lamb = th*0.01 # Marquadt's parameter\n",
    "lamb = 1000.00\n",
    "dlamb = 10.      # step for Marquadt's parameter\n",
    "\n",
    "a1 = 0.0001  # adjacent radial distances within each prism\n",
    "a2 = 0.0001   # vertically adjacent radial distances\n",
    "a3 = 0.     # outcropping cross-section\n",
    "a4 = 0.     # outcropping origin\n",
    "a5 = 0.001     # vertically adjacent origins\n",
    "a6 = 0.0000001   # zero order Tikhonov on adjacent radial distances\n",
    "a7 = 0.0000001     # zero order Tikhonov on thickness of each prism"
   ]
  },
  {
   "cell_type": "code",
   "execution_count": 94,
   "metadata": {},
   "outputs": [],
   "source": [
    "delta = np.array([deltax, deltay, deltar, deltaz])\n",
    "alpha = np.array([a1, a2, a3, a4, a5, a6, a7])"
   ]
  },
  {
   "cell_type": "code",
   "execution_count": 95,
   "metadata": {},
   "outputs": [],
   "source": [
    "itmax = 30\n",
    "itmax_marq = 10\n",
    "tol = 1.0e-5     # stop criterion"
   ]
  },
  {
   "cell_type": "code",
   "execution_count": 96,
   "metadata": {},
   "outputs": [],
   "source": [
    "complex_inversion['x'] = xp\n",
    "complex_inversion['y'] = yp\n",
    "complex_inversion['z'] = zp\n",
    "complex_inversion['observed_data'] = dobs"
   ]
  },
  {
   "cell_type": "code",
   "execution_count": 97,
   "metadata": {},
   "outputs": [],
   "source": [
    "complex_inversion['inc_dec'] = [incs, decs]\n",
    "complex_inversion['z0'] = z0\n",
    "complex_inversion['initial_dz'] = dz\n",
    "complex_inversion['intial_r'] = r\n",
    "complex_inversion['initial_estimate'] = model0\n",
    "complex_inversion['initial_data'] = d0\n",
    "complex_inversion['limits'] = [rmin, rmax, x0min, x0max, y0min, y0max, dzmin, dzmax]\n",
    "complex_inversion['regularization'] = alpha\n",
    "complex_inversion['tol'] = tol\n",
    "complex_inversion['main_field'] = [complex_data['main_field'][0], complex_data['main_field'][1]]"
   ]
  },
  {
   "cell_type": "markdown",
   "metadata": {},
   "source": [
    "### Inversion"
   ]
  },
  {
   "cell_type": "code",
   "execution_count": 98,
   "metadata": {},
   "outputs": [
    {
     "name": "stdout",
     "output_type": "stream",
     "text": [
      "it:  0   it_marq:  0   lambda: 1e+03   misfit: 1.80974e+04\n",
      "it:  1   it_marq:  0   lambda: 1e+02   misfit: 1.02696e+04\n",
      "it:  2   it_marq:  0   lambda: 1e+01   misfit: 4.06179e+03\n",
      "it:  3   it_marq:  0   lambda: 1e+00   misfit: 1.60924e+03\n",
      "it:  4   it_marq:  0   lambda: 1e-01   misfit: 5.57715e+02\n",
      "it:  5   it_marq:  0   lambda: 1e-02   misfit: 9.47716e+02\n",
      "it:  5   it_marq:  1   lambda: 1e-01   misfit: 2.66903e+02\n",
      "it:  6   it_marq:  0   lambda: 1e-02   misfit: 1.24160e+03\n",
      "it:  6   it_marq:  1   lambda: 1e-01   misfit: 3.17498e+02\n",
      "it:  6   it_marq:  2   lambda: 1e+00   misfit: 8.22517e+02\n",
      "it:  6   it_marq:  3   lambda: 1e+01   misfit: 1.12120e+03\n",
      "it:  6   it_marq:  4   lambda: 1e+02   misfit: 4.97622e+02\n",
      "it:  6   it_marq:  5   lambda: 1e+03   misfit: 2.61155e+02\n",
      "it:  7   it_marq:  0   lambda: 1e+02   misfit: 2.27210e+02\n",
      "it:  8   it_marq:  0   lambda: 1e+01   misfit: 1.62047e+02\n",
      "it:  9   it_marq:  0   lambda: 1e+00   misfit: 1.20489e+02\n",
      "it: 10   it_marq:  0   lambda: 1e-01   misfit: 3.87195e+02\n",
      "it: 10   it_marq:  1   lambda: 1e+00   misfit: 2.76619e+02\n",
      "it: 10   it_marq:  2   lambda: 1e+01   misfit: 1.24813e+02\n",
      "it: 10   it_marq:  3   lambda: 1e+02   misfit: 1.18669e+02\n",
      "it: 11   it_marq:  0   lambda: 1e+01   misfit: 1.23982e+02\n",
      "it: 11   it_marq:  1   lambda: 1e+02   misfit: 1.17166e+02\n",
      "it: 12   it_marq:  0   lambda: 1e+01   misfit: 1.23243e+02\n",
      "it: 12   it_marq:  1   lambda: 1e+02   misfit: 1.15878e+02\n",
      "it: 13   it_marq:  0   lambda: 1e+01   misfit: 1.22630e+02\n",
      "it: 13   it_marq:  1   lambda: 1e+02   misfit: 1.14762e+02\n",
      "it: 14   it_marq:  0   lambda: 1e+01   misfit: 2.77289e+02\n",
      "it: 14   it_marq:  1   lambda: 1e+02   misfit: 1.13780e+02\n",
      "it: 15   it_marq:  0   lambda: 1e+01   misfit: 2.75529e+02\n",
      "it: 15   it_marq:  1   lambda: 1e+02   misfit: 1.12909e+02\n",
      "it: 16   it_marq:  0   lambda: 1e+01   misfit: 2.75407e+02\n",
      "it: 16   it_marq:  1   lambda: 1e+02   misfit: 1.12132e+02\n",
      "it: 17   it_marq:  0   lambda: 1e+01   misfit: 2.74640e+02\n",
      "it: 17   it_marq:  1   lambda: 1e+02   misfit: 1.11445e+02\n",
      "it: 18   it_marq:  0   lambda: 1e+01   misfit: 2.73927e+02\n",
      "it: 18   it_marq:  1   lambda: 1e+02   misfit: 1.10849e+02\n",
      "it: 19   it_marq:  0   lambda: 1e+01   misfit: 2.73300e+02\n",
      "it: 19   it_marq:  1   lambda: 1e+02   misfit: 1.21204e+02\n",
      "it: 19   it_marq:  2   lambda: 1e+03   misfit: 1.10769e+02\n",
      "it: 20   it_marq:  0   lambda: 1e+02   misfit: 1.10255e+02\n",
      "it: 21   it_marq:  0   lambda: 1e+01   misfit: 2.72663e+02\n",
      "it: 21   it_marq:  1   lambda: 1e+02   misfit: 1.09764e+02\n",
      "it: 22   it_marq:  0   lambda: 1e+01   misfit: 2.72141e+02\n",
      "it: 22   it_marq:  1   lambda: 1e+02   misfit: 1.09308e+02\n",
      "it: 23   it_marq:  0   lambda: 1e+01   misfit: 2.67347e+02\n",
      "it: 23   it_marq:  1   lambda: 1e+02   misfit: 1.08885e+02\n",
      "it: 24   it_marq:  0   lambda: 1e+01   misfit: 2.01975e+02\n",
      "it: 24   it_marq:  1   lambda: 1e+02   misfit: 1.08491e+02\n",
      "it: 25   it_marq:  0   lambda: 1e+01   misfit: 1.37042e+02\n",
      "it: 25   it_marq:  1   lambda: 1e+02   misfit: 1.08128e+02\n",
      "it: 26   it_marq:  0   lambda: 1e+01   misfit: 1.23088e+02\n",
      "it: 26   it_marq:  1   lambda: 1e+02   misfit: 1.07796e+02\n",
      "it: 27   it_marq:  0   lambda: 1e+01   misfit: 1.19829e+02\n",
      "it: 27   it_marq:  1   lambda: 1e+02   misfit: 1.07511e+02\n",
      "it: 28   it_marq:  0   lambda: 1e+01   misfit: 1.18567e+02\n",
      "it: 28   it_marq:  1   lambda: 1e+02   misfit: 1.07261e+02\n",
      "it: 29   it_marq:  0   lambda: 1e+01   misfit: 1.17905e+02\n",
      "it: 29   it_marq:  1   lambda: 1e+02   misfit: 1.07023e+02\n"
     ]
    }
   ],
   "source": [
    "d_fit, m_est, model_est, phi_list = mfun.levmarq_tf(\n",
    "    xp, yp, zp, m0, M, L, delta,\n",
    "    itmax, itmax_marq, lamb,\n",
    "    dlamb, tol, mmin, mmax,\n",
    "    m_out, dobs, inc, dec,\n",
    "    props, alpha, z0, dz\n",
    ")"
   ]
  },
  {
   "cell_type": "markdown",
   "metadata": {},
   "source": [
    "# Results"
   ]
  },
  {
   "cell_type": "code",
   "execution_count": 99,
   "metadata": {},
   "outputs": [],
   "source": [
    "complex_inversion['data_fit'] = d_fit\n",
    "complex_inversion['estimate'] = m_est\n",
    "complex_inversion['prisms'] = model_est\n",
    "complex_inversion['objective'] = phi_list\n",
    "complex_inversion['residual'] = dobs - d_fit"
   ]
  },
  {
   "cell_type": "code",
   "execution_count": 100,
   "metadata": {},
   "outputs": [],
   "source": [
    "file_name = mypath+'/inversion.pickle'\n",
    "with open(file_name, 'w') as f:\n",
    "    pickle.dump(complex_inversion, f)"
   ]
  },
  {
   "cell_type": "code",
   "execution_count": null,
   "metadata": {},
   "outputs": [],
   "source": []
  }
 ],
 "metadata": {
  "anaconda-cloud": {},
  "kernelspec": {
   "display_name": "Python 2",
   "language": "python",
   "name": "python2"
  },
  "language_info": {
   "codemirror_mode": {
    "name": "ipython",
    "version": 2
   },
   "file_extension": ".py",
   "mimetype": "text/x-python",
   "name": "python",
   "nbconvert_exporter": "python",
   "pygments_lexer": "ipython2",
   "version": "2.7.15"
  }
 },
 "nbformat": 4,
 "nbformat_minor": 2
}
