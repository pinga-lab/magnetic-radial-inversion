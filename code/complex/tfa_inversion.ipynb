{
 "cells": [
  {
   "cell_type": "markdown",
   "metadata": {},
   "source": [
    "# Complex body TFA Inversion"
   ]
  },
  {
   "cell_type": "markdown",
   "metadata": {},
   "source": [
    "This notebook performs the inversion using Levenberg-Marquadt's algorithm of total field anomaly (TFA) data on a regular grid of a model with a complex geometry."
   ]
  },
  {
   "cell_type": "code",
   "execution_count": 119,
   "metadata": {},
   "outputs": [],
   "source": [
    "import numpy as np\n",
    "import matplotlib.pyplot as plt\n",
    "import cPickle as pickle\n",
    "import os\n",
    "\n",
    "from fatiando import utils\n",
    "from fatiando.gravmag import polyprism\n",
    "from fatiando.mesher import PolygonalPrism\n",
    "from fatiando.vis import mpl, myv\n",
    "from matplotlib import colors, ticker, cm\n",
    "from IPython.display import Image as img\n",
    "from matplotlib.mlab import normpdf"
   ]
  },
  {
   "cell_type": "markdown",
   "metadata": {},
   "source": [
    "### Auxiliary functions"
   ]
  },
  {
   "cell_type": "code",
   "execution_count": 120,
   "metadata": {
    "collapsed": true
   },
   "outputs": [],
   "source": [
    "import sys\n",
    "sys.path.insert(0, '../../code')\n",
    "\n",
    "import mag_polyprism_functions as mfun"
   ]
  },
  {
   "cell_type": "markdown",
   "metadata": {},
   "source": [
    "# Input"
   ]
  },
  {
   "cell_type": "markdown",
   "metadata": {},
   "source": [
    "### Importing model parameters"
   ]
  },
  {
   "cell_type": "code",
   "execution_count": 121,
   "metadata": {},
   "outputs": [],
   "source": [
    "model_dir = 'data/model.pickle'\n",
    "data_dir = 'data/flightlines_grid_2100pts_100km2_-150m/data.pickle'"
   ]
  },
  {
   "cell_type": "code",
   "execution_count": 122,
   "metadata": {},
   "outputs": [],
   "source": [
    "with open(model_dir) as w:\n",
    "        model = pickle.load(w)"
   ]
  },
  {
   "cell_type": "markdown",
   "metadata": {},
   "source": [
    "### Observation points and observed data"
   ]
  },
  {
   "cell_type": "code",
   "execution_count": 123,
   "metadata": {
    "collapsed": true
   },
   "outputs": [],
   "source": [
    "with open(data_dir) as w:\n",
    "        data = pickle.load(w)"
   ]
  },
  {
   "cell_type": "code",
   "execution_count": 124,
   "metadata": {},
   "outputs": [],
   "source": [
    "# observed data and observation points\n",
    "dobs = data['tfa_obs']\n",
    "xp = data['grid'][0]\n",
    "yp = data['grid'][1]\n",
    "zp = data['grid'][2]\n",
    "N = data['grid'][3]"
   ]
  },
  {
   "cell_type": "markdown",
   "metadata": {},
   "source": [
    "### Parameters of the initial model"
   ]
  },
  {
   "cell_type": "code",
   "execution_count": 125,
   "metadata": {},
   "outputs": [],
   "source": [
    "M = 15 # number of vertices per prism\n",
    "L = 8 # number of prisms\n",
    "P = L*(M+2) + 1 # number of parameters\n",
    "\n",
    "# magnetization\n",
    "incs = model['inc']# - 10.\n",
    "decs = model['dec']# - 10.\n",
    "intensity = model['intensity']# - 3.\n",
    "\n",
    "# depth to the top, thickness and radius\n",
    "z0 = model['z0']# + 100.\n",
    "dz = 600.\n",
    "r = 500.\n",
    "\n",
    "# total magnetization\n",
    "props = {'magnetization': utils.ang2vec(\n",
    "        intensity, incs, decs)}\n",
    "rin = np.zeros(M) + r\n",
    "m0 = np.hstack((rin, np.zeros(2)))\n",
    "m0 = np.resize(m0, P - 1) \n",
    "m0 = np.hstack((m0, dz)) # inicial parameters vector\n",
    "model0 = mfun.param2polyprism(m0, M, L, z0, props) # list of classes of prisms\n",
    "\n",
    "# main field\n",
    "inc, dec = data['main_field']\n",
    "\n",
    "# predict data\n",
    "d0 = polyprism.tf(xp, yp, zp, model0, inc, dec)"
   ]
  },
  {
   "cell_type": "markdown",
   "metadata": {},
   "source": [
    "### Limits"
   ]
  },
  {
   "cell_type": "code",
   "execution_count": 126,
   "metadata": {},
   "outputs": [],
   "source": [
    "# limits for parameters in meters\n",
    "rmin = 100.\n",
    "rmax = 2000.\n",
    "x0min = -1500.\n",
    "x0max = 1500.\n",
    "y0min = -1500.\n",
    "y0max = 1500.\n",
    "dzmin = 200.\n",
    "dzmax = 700.\n",
    "\n",
    "mmin, mmax = mfun.build_range_param(M, L, rmin, rmax, x0min, x0max, y0min, y0max, dzmin, dzmax)"
   ]
  },
  {
   "cell_type": "markdown",
   "metadata": {},
   "source": [
    "### Variation"
   ]
  },
  {
   "cell_type": "code",
   "execution_count": 127,
   "metadata": {},
   "outputs": [],
   "source": [
    "# variation for derivatives\n",
    "deltax = 0.01*np.max(x0max)\n",
    "deltay = 0.01*np.max(y0max)\n",
    "deltar = 0.01*np.max(rmax)\n",
    "deltaz = 0.01*np.max(dzmax)"
   ]
  },
  {
   "cell_type": "markdown",
   "metadata": {},
   "source": [
    "### Outcropping parameters"
   ]
  },
  {
   "cell_type": "code",
   "execution_count": 128,
   "metadata": {},
   "outputs": [],
   "source": [
    "# outcropping body parameters\n",
    "m_out = np.zeros(M + 2)\n",
    "#m_out = model['param_vec'][:M+2]"
   ]
  },
  {
   "cell_type": "markdown",
   "metadata": {},
   "source": [
    "### Folder to save the results"
   ]
  },
  {
   "cell_type": "code",
   "execution_count": 129,
   "metadata": {},
   "outputs": [],
   "source": [
    "if data['grid'][4] == 'flightlines':\n",
    "    if incs == model['inc'] and decs == model['dec']:\n",
    "        mypath = data_dir[:-11]+'tfa_inversion/inc%d_dec%d_r%d_int%d_z0%d_dz%d' % (incs, decs, rin[0], np.linalg.norm(props['magnetization']), z0, dz)\n",
    "        if not os.path.isdir(mypath):\n",
    "           os.makedirs(mypath)\n",
    "    else:\n",
    "        mypath = data_dir[:-11]+'tfa_inversion/inc%d_dec%d_r%d_int%d_z0%d_dz%d' % (incs, decs, rin[0], np.linalg.norm(props['magnetization']), z0, dz)\n",
    "        if not os.path.isdir(mypath):\n",
    "           os.makedirs(mypath)\n",
    "else:\n",
    "    if incs == model['inc'] and decs == model['dec']:\n",
    "        mypath = data_dir[:-11]+'tfa_inversion/inc%d_dec%d_r%d_int%d_z0%d_dz%d' % (incs, decs, rin[0], np.linalg.norm(props['magnetization']), z0, dz)\n",
    "        if not os.path.isdir(mypath):\n",
    "           os.makedirs(mypath)\n",
    "    else:\n",
    "        mypath = data_dir[:-11]+'tfa_inversion/inc%d_dec%d_r%d_int%d_z0%d_dz%d' % (incs, decs, rin[0], np.linalg.norm(props['magnetization']), z0, dz)\n",
    "        if not os.path.isdir(mypath):\n",
    "           os.makedirs(mypath)"
   ]
  },
  {
   "cell_type": "code",
   "execution_count": 130,
   "metadata": {},
   "outputs": [],
   "source": [
    "# output of inversion\n",
    "inversion = dict()"
   ]
  },
  {
   "cell_type": "markdown",
   "metadata": {},
   "source": [
    "### Regularization parameters"
   ]
  },
  {
   "cell_type": "code",
   "execution_count": 131,
   "metadata": {
    "collapsed": true
   },
   "outputs": [],
   "source": [
    "#lamb = th*0.01 # Marquadt's parameter\n",
    "lamb = 1000.00\n",
    "dlamb = 10.      # step for Marquadt's parameter\n",
    "\n",
    "a1 = 0.0005  # adjacent radial distances within each prism\n",
    "a2 = 0.003   # vertically adjacent radial distances\n",
    "a3 = 0.     # outcropping cross-section\n",
    "a4 = 0.     # outcropping origin\n",
    "a5 = 0.05     # vertically adjacent origins\n",
    "a6 = 0.00001   # zero order Tikhonov on adjacent radial distances\n",
    "a7 = 0.04     # zero order Tikhonov on thickness of each prism"
   ]
  },
  {
   "cell_type": "code",
   "execution_count": 132,
   "metadata": {},
   "outputs": [],
   "source": [
    "delta = np.array([deltax, deltay, deltar, deltaz])\n",
    "alpha = np.array([a1, a2, a3, a4, a5, a6, a7])"
   ]
  },
  {
   "cell_type": "code",
   "execution_count": 133,
   "metadata": {},
   "outputs": [],
   "source": [
    "itmax = 100\n",
    "itmax_marq = 10\n",
    "tol = 1.0e-4     # stop criterion"
   ]
  },
  {
   "cell_type": "code",
   "execution_count": 134,
   "metadata": {},
   "outputs": [],
   "source": [
    "inversion['x'] = xp\n",
    "inversion['y'] = yp\n",
    "inversion['z'] = zp\n",
    "inversion['observed_data'] = dobs"
   ]
  },
  {
   "cell_type": "code",
   "execution_count": 135,
   "metadata": {},
   "outputs": [],
   "source": [
    "inversion['inc_dec'] = [incs, decs]\n",
    "inversion['z0'] = z0\n",
    "inversion['initial_dz'] = dz\n",
    "inversion['intial_r'] = r\n",
    "inversion['initial_estimate'] = model0\n",
    "inversion['initial_data'] = d0\n",
    "inversion['limits'] = [rmin, rmax, x0min, x0max, y0min, y0max, dzmin, dzmax]\n",
    "inversion['regularization'] = alpha\n",
    "inversion['tol'] = tol\n",
    "inversion['main_field'] = [data['main_field'][0], data['main_field'][1]]"
   ]
  },
  {
   "cell_type": "markdown",
   "metadata": {},
   "source": [
    "### Inversion"
   ]
  },
  {
   "cell_type": "code",
   "execution_count": 136,
   "metadata": {},
   "outputs": [
    {
     "name": "stdout",
     "output_type": "stream",
     "text": [
      "it:  0   it_marq:  0   lambda: 1e+03   misfit: 1.99477e+04\n",
      "it:  1   it_marq:  0   lambda: 1e+02   misfit: 1.38389e+04\n",
      "it:  2   it_marq:  0   lambda: 1e+01   misfit: 3.60589e+03\n",
      "it:  3   it_marq:  0   lambda: 1e+00   misfit: 7.69966e+02\n",
      "it:  4   it_marq:  0   lambda: 1e-01   misfit: 2.17001e+02\n",
      "it:  5   it_marq:  0   lambda: 1e-02   misfit: 1.54306e+02\n",
      "it:  6   it_marq:  0   lambda: 1e-03   misfit: 1.20177e+02\n",
      "it:  7   it_marq:  0   lambda: 1e-04   misfit: 1.19148e+02\n",
      "it:  8   it_marq:  0   lambda: 1e-05   misfit: 1.19315e+02\n",
      "it:  8   it_marq:  1   lambda: 1e-04   misfit: 1.19340e+02\n",
      "it:  8   it_marq:  2   lambda: 1e-03   misfit: 1.19289e+02\n",
      "it:  8   it_marq:  3   lambda: 1e-02   misfit: 1.18825e+02\n",
      "it:  9   it_marq:  0   lambda: 1e-03   misfit: 1.19283e+02\n",
      "it:  9   it_marq:  1   lambda: 1e-02   misfit: 1.18783e+02\n",
      "it: 10   it_marq:  0   lambda: 1e-03   misfit: 1.19243e+02\n",
      "it: 10   it_marq:  1   lambda: 1e-02   misfit: 1.18710e+02\n",
      "it: 11   it_marq:  0   lambda: 1e-03   misfit: 1.19192e+02\n",
      "it: 11   it_marq:  1   lambda: 1e-02   misfit: 1.18636e+02\n",
      "it: 12   it_marq:  0   lambda: 1e-03   misfit: 1.19094e+02\n",
      "it: 12   it_marq:  1   lambda: 1e-02   misfit: 1.18543e+02\n",
      "it: 13   it_marq:  0   lambda: 1e-03   misfit: 1.18958e+02\n",
      "it: 13   it_marq:  1   lambda: 1e-02   misfit: 1.18433e+02\n",
      "it: 14   it_marq:  0   lambda: 1e-03   misfit: 1.18795e+02\n",
      "it: 14   it_marq:  1   lambda: 1e-02   misfit: 1.18307e+02\n",
      "it: 15   it_marq:  0   lambda: 1e-03   misfit: 1.18620e+02\n",
      "it: 15   it_marq:  1   lambda: 1e-02   misfit: 1.18175e+02\n",
      "it: 16   it_marq:  0   lambda: 1e-03   misfit: 1.18450e+02\n",
      "it: 16   it_marq:  1   lambda: 1e-02   misfit: 1.18051e+02\n",
      "it: 17   it_marq:  0   lambda: 1e-03   misfit: 1.18313e+02\n",
      "it: 17   it_marq:  1   lambda: 1e-02   misfit: 1.17960e+02\n",
      "it: 18   it_marq:  0   lambda: 1e-03   misfit: 1.18236e+02\n",
      "it: 18   it_marq:  1   lambda: 1e-02   misfit: 1.17928e+02\n",
      "it: 19   it_marq:  0   lambda: 1e-03   misfit: 1.18250e+02\n",
      "it: 19   it_marq:  1   lambda: 1e-02   misfit: 1.17984e+02\n",
      "it: 19   it_marq:  2   lambda: 1e-01   misfit: 1.17155e+02\n",
      "it: 20   it_marq:  0   lambda: 1e-02   misfit: 1.18084e+02\n",
      "it: 20   it_marq:  1   lambda: 1e-01   misfit: 1.17487e+02\n",
      "it: 20   it_marq:  2   lambda: 1e+00   misfit: 1.17109e+02\n",
      "it: 21   it_marq:  0   lambda: 1e-01   misfit: 1.17690e+02\n",
      "it: 21   it_marq:  1   lambda: 1e+00   misfit: 1.17384e+02\n",
      "it: 21   it_marq:  2   lambda: 1e+01   misfit: 1.17199e+02\n",
      "it: 21   it_marq:  3   lambda: 1e+02   misfit: 1.17192e+02\n",
      "it: 21   it_marq:  4   lambda: 1e+03   misfit: 1.17197e+02\n",
      "it: 21   it_marq:  5   lambda: 1e+04   misfit: 1.17197e+02\n",
      "it: 21   it_marq:  6   lambda: 1e+05   misfit: 1.17197e+02\n",
      "it: 21   it_marq:  7   lambda: 1e+06   misfit: 1.17197e+02\n",
      "it: 21   it_marq:  8   lambda: 1e+07   misfit: 1.17197e+02\n",
      "it: 21   it_marq:  9   lambda: 1e+08   misfit: 1.17197e+02\n",
      "it: 22   it_marq:  0   lambda: 1e+09   misfit: 1.17198e+02\n",
      "it: 22   it_marq:  1   lambda: 1e+10   misfit: 1.17198e+02\n",
      "it: 22   it_marq:  2   lambda: 1e+11   misfit: 1.17198e+02\n",
      "it: 22   it_marq:  3   lambda: 1e+12   misfit: 1.17198e+02\n",
      "it: 22   it_marq:  4   lambda: 1e+13   misfit: 1.17198e+02\n",
      "it: 22   it_marq:  5   lambda: 1e+14   misfit: 1.17198e+02\n",
      "it: 22   it_marq:  6   lambda: 1e+15   misfit: 1.17198e+02\n",
      "it: 22   it_marq:  7   lambda: 1e+16   misfit: 1.17198e+02\n",
      "it: 22   it_marq:  8   lambda: 1e+17   misfit: 1.17198e+02\n",
      "it: 22   it_marq:  9   lambda: 1e+18   misfit: 1.17198e+02\n"
     ]
    }
   ],
   "source": [
    "d_fit, m_est, model_est, phi_list, model_list, res_list = mfun.levmarq_tf(\n",
    "    xp, yp, zp, m0, M, L, delta,\n",
    "    itmax, itmax_marq, lamb,\n",
    "    dlamb, tol, mmin, mmax,\n",
    "    m_out, dobs, inc, dec,\n",
    "    props, alpha, z0, dz\n",
    ")"
   ]
  },
  {
   "cell_type": "markdown",
   "metadata": {},
   "source": [
    "# Results"
   ]
  },
  {
   "cell_type": "code",
   "execution_count": 137,
   "metadata": {},
   "outputs": [],
   "source": [
    "inversion['data_fit'] = d_fit\n",
    "inversion['estimate'] = m_est\n",
    "inversion['prisms'] = model_est\n",
    "inversion['estimated_models'] = model_list\n",
    "inversion['objective'] = phi_list\n",
    "inversion['residual'] = dobs - d_fit\n",
    "inversion['residual_list'] = res_list"
   ]
  },
  {
   "cell_type": "code",
   "execution_count": 138,
   "metadata": {},
   "outputs": [],
   "source": [
    "file_name = mypath+'/inversion.pickle'\n",
    "with open(file_name, 'w') as f:\n",
    "    pickle.dump(inversion, f)"
   ]
  },
  {
   "cell_type": "markdown",
   "metadata": {},
   "source": [
    "### "
   ]
  }
 ],
 "metadata": {
  "anaconda-cloud": {},
  "kernelspec": {
   "display_name": "Python 2",
   "language": "python",
   "name": "python2"
  },
  "language_info": {
   "codemirror_mode": {
    "name": "ipython",
    "version": 2
   },
   "file_extension": ".py",
   "mimetype": "text/x-python",
   "name": "python",
   "nbconvert_exporter": "python",
   "pygments_lexer": "ipython2",
   "version": "2.7.15"
  }
 },
 "nbformat": 4,
 "nbformat_minor": 2
}
