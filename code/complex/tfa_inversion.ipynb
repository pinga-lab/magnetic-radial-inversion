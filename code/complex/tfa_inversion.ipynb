{
 "cells": [
  {
   "cell_type": "markdown",
   "metadata": {},
   "source": [
    "# Complex body TFA Inversion"
   ]
  },
  {
   "cell_type": "markdown",
   "metadata": {},
   "source": [
    "This notebook performs the inversion using Levenberg-Marquadt's algorithm of total field anomaly (TFA) data on a regular grid of a model with a complex geometry."
   ]
  },
  {
   "cell_type": "code",
   "execution_count": 21,
   "metadata": {},
   "outputs": [],
   "source": [
    "import numpy as np\n",
    "import matplotlib.pyplot as plt\n",
    "import cPickle as pickle\n",
    "import os\n",
    "\n",
    "from fatiando import utils\n",
    "from fatiando.gravmag import polyprism\n",
    "from fatiando.mesher import PolygonalPrism\n",
    "from fatiando.vis import mpl, myv\n",
    "from matplotlib import colors, ticker, cm\n",
    "from IPython.display import Image as img\n",
    "from matplotlib.mlab import normpdf"
   ]
  },
  {
   "cell_type": "markdown",
   "metadata": {},
   "source": [
    "### Auxiliary functions"
   ]
  },
  {
   "cell_type": "code",
   "execution_count": 22,
   "metadata": {
    "collapsed": true
   },
   "outputs": [],
   "source": [
    "import sys\n",
    "sys.path.insert(0, '../../code')\n",
    "\n",
    "import mag_polyprism_functions as mfun"
   ]
  },
  {
   "cell_type": "markdown",
   "metadata": {},
   "source": [
    "# Input"
   ]
  },
  {
   "cell_type": "markdown",
   "metadata": {},
   "source": [
    "### Importing model parameters"
   ]
  },
  {
   "cell_type": "code",
   "execution_count": 23,
   "metadata": {},
   "outputs": [],
   "source": [
    "model = 'complex_data/complex_model.pickle'\n",
    "data = 'complex_data/regular_grid_50x50_100km/tfa_data.pickle'"
   ]
  },
  {
   "cell_type": "code",
   "execution_count": 24,
   "metadata": {},
   "outputs": [],
   "source": [
    "with open(model) as w:\n",
    "        complex_model = pickle.load(w)"
   ]
  },
  {
   "cell_type": "markdown",
   "metadata": {},
   "source": [
    "### Observed data"
   ]
  },
  {
   "cell_type": "code",
   "execution_count": 25,
   "metadata": {
    "collapsed": true
   },
   "outputs": [],
   "source": [
    "with open(data) as w:\n",
    "        complex_data = pickle.load(w)"
   ]
  },
  {
   "cell_type": "code",
   "execution_count": 26,
   "metadata": {},
   "outputs": [],
   "source": [
    "# observed data and observation points\n",
    "dobs = complex_data['tfa_obs']\n",
    "xp = complex_data['grid'][0]\n",
    "yp = complex_data['grid'][1]\n",
    "zp = complex_data['grid'][2]\n",
    "N = complex_data['grid'][3]"
   ]
  },
  {
   "cell_type": "markdown",
   "metadata": {},
   "source": [
    "### Parameters of the initial model"
   ]
  },
  {
   "cell_type": "code",
   "execution_count": 27,
   "metadata": {},
   "outputs": [],
   "source": [
    "M = 30 # number of vertices per prism\n",
    "L = 10 # number of prisms\n",
    "P = L*(M+2) + 1 # number of parameters\n",
    "\n",
    "# magnetization direction\n",
    "incs = complex_model['inc']\n",
    "decs = complex_model['dec']\n",
    "\n",
    "# depth to the top, thickness and radius\n",
    "z0 = complex_model['z0']\n",
    "dz = 300.\n",
    "r = 1000.\n",
    "\n",
    "# total magnetization\n",
    "props = {'magnetization': utils.ang2vec(\n",
    "        complex_model['intensity'], incs, decs)}\n",
    "rin = np.zeros(M) + r\n",
    "m0 = np.hstack((rin, np.array([1000., 1000.])))\n",
    "m0 = np.resize(m0, P - 1) \n",
    "m0 = np.hstack((m0, dz)) # inicial parameters vector\n",
    "model0 = mfun.param2polyprism(m0, M, L, z0, props) # list of classes of prisms\n",
    "\n",
    "# main field\n",
    "inc, dec = complex_data['main_field']\n",
    "\n",
    "# predict data\n",
    "d0 = polyprism.tf(xp, yp, zp, model0, inc, dec)"
   ]
  },
  {
   "cell_type": "markdown",
   "metadata": {},
   "source": [
    "### Limits"
   ]
  },
  {
   "cell_type": "code",
   "execution_count": 28,
   "metadata": {},
   "outputs": [],
   "source": [
    "# limits for parameters in meters\n",
    "rmin = 100.\n",
    "rmax = 3000.\n",
    "x0min = -3000.\n",
    "x0max = 3000.\n",
    "y0min = -3000.\n",
    "y0max = 3000.\n",
    "dzmin = 100.\n",
    "dzmax = 500.\n",
    "\n",
    "mmin, mmax = mfun.build_range_param(M, L, rmin, rmax, x0min, x0max, y0min, y0max, dzmin, dzmax)"
   ]
  },
  {
   "cell_type": "markdown",
   "metadata": {},
   "source": [
    "### Variation"
   ]
  },
  {
   "cell_type": "code",
   "execution_count": 29,
   "metadata": {},
   "outputs": [],
   "source": [
    "# variation for derivatives\n",
    "deltax = 0.01*np.max(x0max)\n",
    "deltay = 0.01*np.max(y0max)\n",
    "deltar = 0.01*np.max(rmax)\n",
    "deltaz = 0.01*np.max(dzmax)"
   ]
  },
  {
   "cell_type": "markdown",
   "metadata": {},
   "source": [
    "### Outcropping parameters"
   ]
  },
  {
   "cell_type": "code",
   "execution_count": 30,
   "metadata": {},
   "outputs": [],
   "source": [
    "# outcropping body parameters\n",
    "m_out = np.zeros(M + 2)\n",
    "#m_out = complex_model['param_vec'][:M+2]"
   ]
  },
  {
   "cell_type": "markdown",
   "metadata": {},
   "source": [
    "### Folder to save the results"
   ]
  },
  {
   "cell_type": "code",
   "execution_count": 31,
   "metadata": {},
   "outputs": [],
   "source": [
    "if complex_data['grid'][4] == 'flightlines':\n",
    "    if incs == complex_model['inc'] and decs == complex_model['dec']:\n",
    "        mypath = 'tfa_inversion/true_direction_flightlines/r%d_int%d_z0%d_dz%d' % (rin[0], np.linalg.norm(props['magnetization']), z0, dz)\n",
    "        if not os.path.isdir(mypath):\n",
    "           os.makedirs(mypath)\n",
    "    else:\n",
    "        mypath = 'tfa_inversion/wrong_direction_flightlines/inc%d_dec%d_r%d_int%d_z0%d_dz%d' % (incs, decs, rin[0], np.linalg.norm(props['magnetization']), z0, dz)\n",
    "        if not os.path.isdir(mypath):\n",
    "           os.makedirs(mypath)\n",
    "else:\n",
    "    if incs == complex_model['inc'] and decs == complex_model['dec']:\n",
    "        mypath = 'tfa_inversion/true_direction_regular/r%d_int%d_z0%d_dz%d' % (rin[0], np.linalg.norm(props['magnetization']), z0, dz)\n",
    "        if not os.path.isdir(mypath):\n",
    "           os.makedirs(mypath)\n",
    "    else:\n",
    "        mypath = 'tfa_inversion/wrong_direction_regular/inc%d_dec%d_r%d_int%d_z0%d_dz%d' % (incs, decs, rin[0], np.linalg.norm(props['magnetization']), z0, dz)\n",
    "        if not os.path.isdir(mypath):\n",
    "           os.makedirs(mypath)"
   ]
  },
  {
   "cell_type": "code",
   "execution_count": 32,
   "metadata": {},
   "outputs": [],
   "source": [
    "# output of inversion\n",
    "complex_inversion = dict()"
   ]
  },
  {
   "cell_type": "markdown",
   "metadata": {},
   "source": [
    "### Regularization parameters"
   ]
  },
  {
   "cell_type": "code",
   "execution_count": 33,
   "metadata": {
    "collapsed": true
   },
   "outputs": [],
   "source": [
    "#lamb = th*0.01 # Marquadt's parameter\n",
    "lamb = 1000.\n",
    "dlamb = 10.      # step for Marquadt's parameter\n",
    "\n",
    "a1 = 0.001  # adjacent radial distances within each prism\n",
    "a2 = 0.01   # vertically adjacent radial distances\n",
    "a3 = 0.     # outcropping cross-section\n",
    "a4 = 0.     # outcropping origin\n",
    "a5 = 0.01     # vertically adjacent origins\n",
    "a6 = 0.001   # zero order Tikhonov on adjacent radial distances\n",
    "a7 = 0.00001     # zero order Tikhonov on thickness of each prism"
   ]
  },
  {
   "cell_type": "code",
   "execution_count": 34,
   "metadata": {},
   "outputs": [],
   "source": [
    "delta = np.array([deltax, deltay, deltar, deltaz])\n",
    "alpha = np.array([a1, a2, a3, a4, a5, a6, a7])"
   ]
  },
  {
   "cell_type": "code",
   "execution_count": 35,
   "metadata": {},
   "outputs": [],
   "source": [
    "itmax = 30\n",
    "itmax_marq = 10\n",
    "tol = 1.0e-5     # stop criterion"
   ]
  },
  {
   "cell_type": "code",
   "execution_count": 36,
   "metadata": {},
   "outputs": [],
   "source": [
    "complex_inversion['x'] = xp\n",
    "complex_inversion['y'] = yp\n",
    "complex_inversion['z'] = zp\n",
    "complex_inversion['observed_data'] = dobs"
   ]
  },
  {
   "cell_type": "code",
   "execution_count": 37,
   "metadata": {},
   "outputs": [],
   "source": [
    "complex_inversion['inc_dec'] = [incs, decs]\n",
    "complex_inversion['z0'] = z0\n",
    "complex_inversion['initial_dz'] = dz\n",
    "complex_inversion['intial_r'] = r\n",
    "complex_inversion['initial_estimate'] = model0\n",
    "complex_inversion['initial_data'] = d0\n",
    "complex_inversion['limits'] = [rmin, rmax, x0min, x0max, y0min, y0max, dzmin, dzmax]\n",
    "complex_inversion['tol'] = tol\n",
    "complex_inversion['main_field'] = [complex_data['main_field'][0], complex_data['main_field'][1]]"
   ]
  },
  {
   "cell_type": "markdown",
   "metadata": {},
   "source": [
    "### Inversion"
   ]
  },
  {
   "cell_type": "code",
   "execution_count": 38,
   "metadata": {},
   "outputs": [
    {
     "name": "stdout",
     "output_type": "stream",
     "text": [
      "it:  0   it_marq:  0   lambda: 1e+03   misfit: 1.81361e+05\n",
      "it:  1   it_marq:  0   lambda: 1e+02   misfit: 1.47053e+05\n",
      "it:  2   it_marq:  0   lambda: 1e+01   misfit: 8.19744e+04\n",
      "it:  3   it_marq:  0   lambda: 1e+00   misfit: 6.47988e+04\n",
      "it:  4   it_marq:  0   lambda: 1e-01   misfit: 5.54295e+04\n",
      "it:  5   it_marq:  0   lambda: 1e-02   misfit: 5.72813e+04\n",
      "it:  5   it_marq:  1   lambda: 1e-01   misfit: 7.51382e+04\n",
      "it:  5   it_marq:  2   lambda: 1e+00   misfit: 1.39817e+05\n",
      "it:  5   it_marq:  3   lambda: 1e+01   misfit: 1.78756e+05\n",
      "it:  5   it_marq:  4   lambda: 1e+02   misfit: 1.33150e+05\n",
      "it:  5   it_marq:  5   lambda: 1e+03   misfit: 1.26715e+05\n",
      "it:  5   it_marq:  6   lambda: 1e+04   misfit: 5.78021e+04\n",
      "it:  5   it_marq:  7   lambda: 1e+05   misfit: 6.10223e+04\n",
      "it:  5   it_marq:  8   lambda: 1e+06   misfit: 6.27867e+04\n",
      "it:  5   it_marq:  9   lambda: 1e+07   misfit: 6.29258e+04\n",
      "it:  6   it_marq:  0   lambda: 1e+08   misfit: 6.30495e+04\n",
      "it:  6   it_marq:  1   lambda: 1e+09   misfit: 6.30495e+04\n",
      "it:  6   it_marq:  2   lambda: 1e+10   misfit: 6.30495e+04\n",
      "it:  6   it_marq:  3   lambda: 1e+11   misfit: 6.30495e+04\n",
      "it:  6   it_marq:  4   lambda: 1e+12   misfit: 6.30495e+04\n",
      "it:  6   it_marq:  5   lambda: 1e+13   misfit: 6.30495e+04\n",
      "it:  6   it_marq:  6   lambda: 1e+14   misfit: 6.30495e+04\n",
      "it:  6   it_marq:  7   lambda: 1e+15   misfit: 6.30495e+04\n",
      "it:  6   it_marq:  8   lambda: 1e+16   misfit: 6.30495e+04\n",
      "it:  6   it_marq:  9   lambda: 1e+17   misfit: 6.30495e+04\n",
      "it:  7   it_marq:  0   lambda: 1e+18   misfit: 6.30503e+04\n",
      "it:  7   it_marq:  1   lambda: 1e+19   misfit: 6.30503e+04\n",
      "it:  7   it_marq:  2   lambda: 1e+20   misfit: 6.30503e+04\n",
      "it:  7   it_marq:  3   lambda: 1e+21   misfit: 6.30503e+04\n",
      "it:  7   it_marq:  4   lambda: 1e+22   misfit: 6.30503e+04\n",
      "it:  7   it_marq:  5   lambda: 1e+23   misfit: 6.30503e+04\n",
      "it:  7   it_marq:  6   lambda: 1e+24   misfit: 6.30503e+04\n",
      "it:  7   it_marq:  7   lambda: 1e+25   misfit: 6.30503e+04\n",
      "it:  7   it_marq:  8   lambda: 1e+26   misfit: 6.30503e+04\n",
      "it:  7   it_marq:  9   lambda: 1e+27   misfit: 6.30503e+04\n",
      "it:  8   it_marq:  0   lambda: 1e+28   misfit: 6.30511e+04\n",
      "it:  8   it_marq:  1   lambda: 1e+29   misfit: 6.30511e+04\n",
      "it:  8   it_marq:  2   lambda: 1e+30   misfit: 6.30511e+04\n",
      "it:  8   it_marq:  3   lambda: 1e+31   misfit: 6.30511e+04\n",
      "it:  8   it_marq:  4   lambda: 1e+32   misfit: 6.30511e+04\n",
      "it:  8   it_marq:  5   lambda: 1e+33   misfit: 6.30511e+04\n",
      "it:  8   it_marq:  6   lambda: 1e+34   misfit: 6.30511e+04\n",
      "it:  8   it_marq:  7   lambda: 1e+35   misfit: 6.30511e+04\n",
      "it:  8   it_marq:  8   lambda: 1e+36   misfit: 6.30511e+04\n",
      "it:  8   it_marq:  9   lambda: 1e+37   misfit: 6.30511e+04\n",
      "it:  9   it_marq:  0   lambda: 1e+38   misfit: 6.30519e+04\n",
      "it:  9   it_marq:  1   lambda: 1e+39   misfit: 6.30519e+04\n",
      "it:  9   it_marq:  2   lambda: 1e+40   misfit: 6.30519e+04\n",
      "it:  9   it_marq:  3   lambda: 1e+41   misfit: 6.30519e+04\n",
      "it:  9   it_marq:  4   lambda: 1e+42   misfit: 6.30519e+04\n",
      "it:  9   it_marq:  5   lambda: 1e+43   misfit: 6.30519e+04\n",
      "it:  9   it_marq:  6   lambda: 1e+44   misfit: 6.30519e+04\n",
      "it:  9   it_marq:  7   lambda: 1e+45   misfit: 6.30519e+04\n",
      "it:  9   it_marq:  8   lambda: 1e+46   misfit: 6.30519e+04\n",
      "it:  9   it_marq:  9   lambda: 1e+47   misfit: 6.30519e+04\n",
      "it: 10   it_marq:  0   lambda: 1e+48   misfit: 6.30527e+04\n",
      "it: 10   it_marq:  1   lambda: 1e+49   misfit: 6.30527e+04\n",
      "it: 10   it_marq:  2   lambda: 1e+50   misfit: 6.30527e+04\n",
      "it: 10   it_marq:  3   lambda: 1e+51   misfit: 6.30527e+04\n",
      "it: 10   it_marq:  4   lambda: 1e+52   misfit: 6.30527e+04\n",
      "it: 10   it_marq:  5   lambda: 1e+53   misfit: 6.30527e+04\n",
      "it: 10   it_marq:  6   lambda: 1e+54   misfit: 6.30527e+04\n",
      "it: 10   it_marq:  7   lambda: 1e+55   misfit: 6.30527e+04\n",
      "it: 10   it_marq:  8   lambda: 1e+56   misfit: 6.30527e+04\n",
      "it: 10   it_marq:  9   lambda: 1e+57   misfit: 6.30527e+04\n",
      "it: 11   it_marq:  0   lambda: 1e+58   misfit: 6.30535e+04\n",
      "it: 11   it_marq:  1   lambda: 1e+59   misfit: 6.30535e+04\n",
      "it: 11   it_marq:  2   lambda: 1e+60   misfit: 6.30535e+04\n",
      "it: 11   it_marq:  3   lambda: 1e+61   misfit: 6.30535e+04\n",
      "it: 11   it_marq:  4   lambda: 1e+62   misfit: 6.30535e+04\n",
      "it: 11   it_marq:  5   lambda: 1e+63   misfit: 6.30535e+04\n",
      "it: 11   it_marq:  6   lambda: 1e+64   misfit: 6.30535e+04\n",
      "it: 11   it_marq:  7   lambda: 1e+65   misfit: 6.30535e+04\n",
      "it: 11   it_marq:  8   lambda: 1e+66   misfit: 6.30535e+04\n",
      "it: 11   it_marq:  9   lambda: 1e+67   misfit: 6.30535e+04\n",
      "it: 12   it_marq:  0   lambda: 1e+68   misfit: 6.30543e+04\n",
      "it: 12   it_marq:  1   lambda: 1e+69   misfit: 6.30543e+04\n",
      "it: 12   it_marq:  2   lambda: 1e+70   misfit: 6.30543e+04\n",
      "it: 12   it_marq:  3   lambda: 1e+71   misfit: 6.30543e+04\n",
      "it: 12   it_marq:  4   lambda: 1e+72   misfit: 6.30543e+04\n",
      "it: 12   it_marq:  5   lambda: 1e+73   misfit: 6.30543e+04\n",
      "it: 12   it_marq:  6   lambda: 1e+74   misfit: 6.30543e+04\n",
      "it: 12   it_marq:  7   lambda: 1e+75   misfit: 6.30543e+04\n",
      "it: 12   it_marq:  8   lambda: 1e+76   misfit: 6.30543e+04\n",
      "it: 12   it_marq:  9   lambda: 1e+77   misfit: 6.30543e+04\n",
      "it: 13   it_marq:  0   lambda: 1e+78   misfit: 6.30551e+04\n",
      "it: 13   it_marq:  1   lambda: 1e+79   misfit: 6.30551e+04\n",
      "it: 13   it_marq:  2   lambda: 1e+80   misfit: 6.30551e+04\n",
      "it: 13   it_marq:  3   lambda: 1e+81   misfit: 6.30551e+04\n",
      "it: 13   it_marq:  4   lambda: 1e+82   misfit: 6.30551e+04\n",
      "it: 13   it_marq:  5   lambda: 1e+83   misfit: 6.30551e+04\n",
      "it: 13   it_marq:  6   lambda: 1e+84   misfit: 6.30551e+04\n",
      "it: 13   it_marq:  7   lambda: 1e+85   misfit: 6.30551e+04\n",
      "it: 13   it_marq:  8   lambda: 1e+86   misfit: 6.30551e+04\n",
      "it: 13   it_marq:  9   lambda: 1e+87   misfit: 6.30551e+04\n",
      "it: 14   it_marq:  0   lambda: 1e+88   misfit: 6.30559e+04\n",
      "it: 14   it_marq:  1   lambda: 1e+89   misfit: 6.30559e+04\n",
      "it: 14   it_marq:  2   lambda: 1e+90   misfit: 6.30559e+04\n",
      "it: 14   it_marq:  3   lambda: 1e+91   misfit: 6.30559e+04\n",
      "it: 14   it_marq:  4   lambda: 1e+92   misfit: 6.30559e+04\n",
      "it: 14   it_marq:  5   lambda: 1e+93   misfit: 6.30559e+04\n",
      "it: 14   it_marq:  6   lambda: 1e+94   misfit: 6.30559e+04\n",
      "it: 14   it_marq:  7   lambda: 1e+95   misfit: 6.30559e+04\n",
      "it: 14   it_marq:  8   lambda: 1e+96   misfit: 6.30559e+04\n",
      "it: 14   it_marq:  9   lambda: 1e+97   misfit: 6.30559e+04\n",
      "it: 15   it_marq:  0   lambda: 1e+98   misfit: 6.30568e+04\n",
      "it: 15   it_marq:  1   lambda: 1e+99   misfit: 6.30568e+04\n",
      "it: 15   it_marq:  2   lambda: 1e+100   misfit: 6.30568e+04\n",
      "it: 15   it_marq:  3   lambda: 1e+101   misfit: 6.30568e+04\n",
      "it: 15   it_marq:  4   lambda: 1e+102   misfit: 6.30568e+04\n",
      "it: 15   it_marq:  5   lambda: 1e+103   misfit: 6.30568e+04\n",
      "it: 15   it_marq:  6   lambda: 1e+104   misfit: 6.30568e+04\n",
      "it: 15   it_marq:  7   lambda: 1e+105   misfit: 6.30568e+04\n",
      "it: 15   it_marq:  8   lambda: 1e+106   misfit: 6.30568e+04\n",
      "it: 15   it_marq:  9   lambda: 1e+107   misfit: 6.30568e+04\n",
      "it: 16   it_marq:  0   lambda: 1e+108   misfit: 6.30576e+04\n",
      "it: 16   it_marq:  1   lambda: 1e+109   misfit: 6.30576e+04\n",
      "it: 16   it_marq:  2   lambda: 1e+110   misfit: 6.30576e+04\n",
      "it: 16   it_marq:  3   lambda: 1e+111   misfit: 6.30576e+04\n",
      "it: 16   it_marq:  4   lambda: 1e+112   misfit: 6.30576e+04\n",
      "it: 16   it_marq:  5   lambda: 1e+113   misfit: 6.30576e+04\n",
      "it: 16   it_marq:  6   lambda: 1e+114   misfit: 6.30576e+04\n",
      "it: 16   it_marq:  7   lambda: 1e+115   misfit: 6.30576e+04\n",
      "it: 16   it_marq:  8   lambda: 1e+116   misfit: 6.30576e+04\n",
      "it: 16   it_marq:  9   lambda: 1e+117   misfit: 6.30576e+04\n",
      "it: 17   it_marq:  0   lambda: 1e+118   misfit: 6.30584e+04\n",
      "it: 17   it_marq:  1   lambda: 1e+119   misfit: 6.30584e+04\n",
      "it: 17   it_marq:  2   lambda: 1e+120   misfit: 6.30584e+04\n",
      "it: 17   it_marq:  3   lambda: 1e+121   misfit: 6.30584e+04\n",
      "it: 17   it_marq:  4   lambda: 1e+122   misfit: 6.30584e+04\n",
      "it: 17   it_marq:  5   lambda: 1e+123   misfit: 6.30584e+04\n",
      "it: 17   it_marq:  6   lambda: 1e+124   misfit: 6.30584e+04\n",
      "it: 17   it_marq:  7   lambda: 1e+125   misfit: 6.30584e+04\n",
      "it: 17   it_marq:  8   lambda: 1e+126   misfit: 6.30584e+04\n",
      "it: 17   it_marq:  9   lambda: 1e+127   misfit: 6.30584e+04\n",
      "it: 18   it_marq:  0   lambda: 1e+128   misfit: 6.30592e+04\n",
      "it: 18   it_marq:  1   lambda: 1e+129   misfit: 6.30592e+04\n",
      "it: 18   it_marq:  2   lambda: 1e+130   misfit: 6.30592e+04\n",
      "it: 18   it_marq:  3   lambda: 1e+131   misfit: 6.30592e+04\n",
      "it: 18   it_marq:  4   lambda: 1e+132   misfit: 6.30592e+04\n",
      "it: 18   it_marq:  5   lambda: 1e+133   misfit: 6.30592e+04\n",
      "it: 18   it_marq:  6   lambda: 1e+134   misfit: 6.30592e+04\n",
      "it: 18   it_marq:  7   lambda: 1e+135   misfit: 6.30592e+04\n",
      "it: 18   it_marq:  8   lambda: 1e+136   misfit: 6.30592e+04\n",
      "it: 18   it_marq:  9   lambda: 1e+137   misfit: 6.30592e+04\n",
      "it: 19   it_marq:  0   lambda: 1e+138   misfit: 6.30600e+04\n",
      "it: 19   it_marq:  1   lambda: 1e+139   misfit: 6.30600e+04\n",
      "it: 19   it_marq:  2   lambda: 1e+140   misfit: 6.30600e+04\n",
      "it: 19   it_marq:  3   lambda: 1e+141   misfit: 6.30600e+04\n",
      "it: 19   it_marq:  4   lambda: 1e+142   misfit: 6.30600e+04\n",
      "it: 19   it_marq:  5   lambda: 1e+143   misfit: 6.30600e+04\n",
      "it: 19   it_marq:  6   lambda: 1e+144   misfit: 6.30600e+04\n",
      "it: 19   it_marq:  7   lambda: 1e+145   misfit: 6.30600e+04\n",
      "it: 19   it_marq:  8   lambda: 1e+146   misfit: 6.30600e+04\n",
      "it: 19   it_marq:  9   lambda: 1e+147   misfit: 6.30600e+04\n",
      "it: 20   it_marq:  0   lambda: 1e+148   misfit: 6.30608e+04\n",
      "it: 20   it_marq:  1   lambda: 1e+149   misfit: 6.30608e+04\n",
      "it: 20   it_marq:  2   lambda: 1e+150   misfit: 6.30608e+04\n",
      "it: 20   it_marq:  3   lambda: 1e+151   misfit: 6.30608e+04\n",
      "it: 20   it_marq:  4   lambda: 1e+152   misfit: 6.30608e+04\n",
      "it: 20   it_marq:  5   lambda: 1e+153   misfit: 6.30608e+04\n",
      "it: 20   it_marq:  6   lambda: 1e+154   misfit: 6.30608e+04\n",
      "it: 20   it_marq:  7   lambda: 1e+155   misfit: 6.30608e+04\n",
      "it: 20   it_marq:  8   lambda: 1e+156   misfit: 6.30608e+04\n",
      "it: 20   it_marq:  9   lambda: 1e+157   misfit: 6.30608e+04\n",
      "it: 21   it_marq:  0   lambda: 1e+158   misfit: 6.30616e+04\n",
      "it: 21   it_marq:  1   lambda: 1e+159   misfit: 6.30616e+04\n",
      "it: 21   it_marq:  2   lambda: 1e+160   misfit: 6.30616e+04\n",
      "it: 21   it_marq:  3   lambda: 1e+161   misfit: 6.30616e+04\n",
      "it: 21   it_marq:  4   lambda: 1e+162   misfit: 6.30616e+04\n",
      "it: 21   it_marq:  5   lambda: 1e+163   misfit: 6.30616e+04\n",
      "it: 21   it_marq:  6   lambda: 1e+164   misfit: 6.30616e+04\n",
      "it: 21   it_marq:  7   lambda: 1e+165   misfit: 6.30616e+04\n",
      "it: 21   it_marq:  8   lambda: 1e+166   misfit: 6.30616e+04\n",
      "it: 21   it_marq:  9   lambda: 1e+167   misfit: 6.30616e+04\n",
      "it: 22   it_marq:  0   lambda: 1e+168   misfit: 6.30624e+04\n",
      "it: 22   it_marq:  1   lambda: 1e+169   misfit: 6.30624e+04\n",
      "it: 22   it_marq:  2   lambda: 1e+170   misfit: 6.30624e+04\n",
      "it: 22   it_marq:  3   lambda: 1e+171   misfit: 6.30624e+04\n",
      "it: 22   it_marq:  4   lambda: 1e+172   misfit: 6.30624e+04\n",
      "it: 22   it_marq:  5   lambda: 1e+173   misfit: 6.30624e+04\n",
      "it: 22   it_marq:  6   lambda: 1e+174   misfit: 6.30624e+04\n",
      "it: 22   it_marq:  7   lambda: 1e+175   misfit: 6.30624e+04\n",
      "it: 22   it_marq:  8   lambda: 1e+176   misfit: 6.30624e+04\n",
      "it: 22   it_marq:  9   lambda: 1e+177   misfit: 6.30624e+04\n",
      "it: 23   it_marq:  0   lambda: 1e+178   misfit: 6.30632e+04\n",
      "it: 23   it_marq:  1   lambda: 1e+179   misfit: 6.30632e+04\n",
      "it: 23   it_marq:  2   lambda: 1e+180   misfit: 6.30632e+04\n",
      "it: 23   it_marq:  3   lambda: 1e+181   misfit: 6.30632e+04\n",
      "it: 23   it_marq:  4   lambda: 1e+182   misfit: 6.30632e+04\n",
      "it: 23   it_marq:  5   lambda: 1e+183   misfit: 6.30632e+04\n",
      "it: 23   it_marq:  6   lambda: 1e+184   misfit: 6.30632e+04\n",
      "it: 23   it_marq:  7   lambda: 1e+185   misfit: 6.30632e+04\n",
      "it: 23   it_marq:  8   lambda: 1e+186   misfit: 6.30632e+04\n",
      "it: 23   it_marq:  9   lambda: 1e+187   misfit: 6.30632e+04\n",
      "it: 24   it_marq:  0   lambda: 1e+188   misfit: 6.30640e+04\n",
      "it: 24   it_marq:  1   lambda: 1e+189   misfit: 6.30640e+04\n",
      "it: 24   it_marq:  2   lambda: 1e+190   misfit: 6.30640e+04\n",
      "it: 24   it_marq:  3   lambda: 1e+191   misfit: 6.30640e+04\n",
      "it: 24   it_marq:  4   lambda: 1e+192   misfit: 6.30640e+04\n",
      "it: 24   it_marq:  5   lambda: 1e+193   misfit: 6.30640e+04\n",
      "it: 24   it_marq:  6   lambda: 1e+194   misfit: 6.30640e+04\n",
      "it: 24   it_marq:  7   lambda: 1e+195   misfit: 6.30640e+04\n",
      "it: 24   it_marq:  8   lambda: 1e+196   misfit: 6.30640e+04\n",
      "it: 24   it_marq:  9   lambda: 1e+197   misfit: 6.30640e+04\n",
      "it: 25   it_marq:  0   lambda: 1e+198   misfit: 6.30648e+04\n",
      "it: 25   it_marq:  1   lambda: 1e+199   misfit: 6.30648e+04\n",
      "it: 25   it_marq:  2   lambda: 1e+200   misfit: 6.30648e+04\n",
      "it: 25   it_marq:  3   lambda: 1e+201   misfit: 6.30648e+04\n",
      "it: 25   it_marq:  4   lambda: 1e+202   misfit: 6.30648e+04\n",
      "it: 25   it_marq:  5   lambda: 1e+203   misfit: 6.30648e+04\n",
      "it: 25   it_marq:  6   lambda: 1e+204   misfit: 6.30648e+04\n",
      "it: 25   it_marq:  7   lambda: 1e+205   misfit: 6.30648e+04\n",
      "it: 25   it_marq:  8   lambda: 1e+206   misfit: 6.30648e+04\n",
      "it: 25   it_marq:  9   lambda: 1e+207   misfit: 6.30648e+04\n",
      "it: 26   it_marq:  0   lambda: 1e+208   misfit: 6.30656e+04\n",
      "it: 26   it_marq:  1   lambda: 1e+209   misfit: 6.30656e+04\n",
      "it: 26   it_marq:  2   lambda: 1e+210   misfit: 6.30656e+04\n",
      "it: 26   it_marq:  3   lambda: 1e+211   misfit: 6.30656e+04\n",
      "it: 26   it_marq:  4   lambda: 1e+212   misfit: 6.30656e+04\n",
      "it: 26   it_marq:  5   lambda: 1e+213   misfit: 6.30656e+04\n",
      "it: 26   it_marq:  6   lambda: 1e+214   misfit: 6.30656e+04\n",
      "it: 26   it_marq:  7   lambda: 1e+215   misfit: 6.30656e+04\n",
      "it: 26   it_marq:  8   lambda: 1e+216   misfit: 6.30656e+04\n",
      "it: 26   it_marq:  9   lambda: 1e+217   misfit: 6.30656e+04\n",
      "it: 27   it_marq:  0   lambda: 1e+218   misfit: 6.30665e+04\n",
      "it: 27   it_marq:  1   lambda: 1e+219   misfit: 6.30665e+04\n",
      "it: 27   it_marq:  2   lambda: 1e+220   misfit: 6.30665e+04\n",
      "it: 27   it_marq:  3   lambda: 1e+221   misfit: 6.30665e+04\n",
      "it: 27   it_marq:  4   lambda: 1e+222   misfit: 6.30665e+04\n",
      "it: 27   it_marq:  5   lambda: 1e+223   misfit: 6.30665e+04\n",
      "it: 27   it_marq:  6   lambda: 1e+224   misfit: 6.30665e+04\n",
      "it: 27   it_marq:  7   lambda: 1e+225   misfit: 6.30665e+04\n",
      "it: 27   it_marq:  8   lambda: 1e+226   misfit: 6.30665e+04\n",
      "it: 27   it_marq:  9   lambda: 1e+227   misfit: 6.30665e+04\n",
      "it: 28   it_marq:  0   lambda: 1e+228   misfit: 6.30673e+04\n",
      "it: 28   it_marq:  1   lambda: 1e+229   misfit: 6.30673e+04\n",
      "it: 28   it_marq:  2   lambda: 1e+230   misfit: 6.30673e+04\n",
      "it: 28   it_marq:  3   lambda: 1e+231   misfit: 6.30673e+04\n",
      "it: 28   it_marq:  4   lambda: 1e+232   misfit: 6.30673e+04\n",
      "it: 28   it_marq:  5   lambda: 1e+233   misfit: 6.30673e+04\n",
      "it: 28   it_marq:  6   lambda: 1e+234   misfit: 6.30673e+04\n",
      "it: 28   it_marq:  7   lambda: 1e+235   misfit: 6.30673e+04\n",
      "it: 28   it_marq:  8   lambda: 1e+236   misfit: 6.30673e+04\n",
      "it: 28   it_marq:  9   lambda: 1e+237   misfit: 6.30673e+04\n",
      "it: 29   it_marq:  0   lambda: 1e+238   misfit: 6.30681e+04\n",
      "it: 29   it_marq:  1   lambda: 1e+239   misfit: 6.30681e+04\n",
      "it: 29   it_marq:  2   lambda: 1e+240   misfit: 6.30681e+04\n",
      "it: 29   it_marq:  3   lambda: 1e+241   misfit: 6.30681e+04\n",
      "it: 29   it_marq:  4   lambda: 1e+242   misfit: 6.30681e+04\n",
      "it: 29   it_marq:  5   lambda: 1e+243   misfit: 6.30681e+04\n",
      "it: 29   it_marq:  6   lambda: 1e+244   misfit: 6.30681e+04\n",
      "it: 29   it_marq:  7   lambda: 1e+245   misfit: 6.30681e+04\n",
      "it: 29   it_marq:  8   lambda: 1e+246   misfit: 6.30681e+04\n",
      "it: 29   it_marq:  9   lambda: 1e+247   misfit: 6.30681e+04\n"
     ]
    }
   ],
   "source": [
    "d_fit, m_est, model_est, phi_list = mfun.levmarq_tf(\n",
    "    xp, yp, zp, m0, M, L, delta,\n",
    "    itmax, itmax_marq, lamb,\n",
    "    dlamb, tol, mmin, mmax,\n",
    "    m_out, dobs, inc, dec,\n",
    "    props, alpha, z0, dz\n",
    ")"
   ]
  },
  {
   "cell_type": "markdown",
   "metadata": {},
   "source": [
    "# Results"
   ]
  },
  {
   "cell_type": "code",
   "execution_count": 39,
   "metadata": {},
   "outputs": [],
   "source": [
    "complex_inversion['data_fit'] = d_fit\n",
    "complex_inversion['estimate'] = m_est\n",
    "complex_inversion['prisms'] = model_est\n",
    "complex_inversion['objective'] = phi_list\n",
    "complex_inversion['residual'] = dobs - d_fit"
   ]
  },
  {
   "cell_type": "code",
   "execution_count": 40,
   "metadata": {},
   "outputs": [],
   "source": [
    "file_name = mypath+'/inversion.pickle'\n",
    "with open(file_name, 'w') as f:\n",
    "    pickle.dump(complex_inversion, f)"
   ]
  },
  {
   "cell_type": "code",
   "execution_count": null,
   "metadata": {},
   "outputs": [],
   "source": []
  }
 ],
 "metadata": {
  "anaconda-cloud": {},
  "kernelspec": {
   "display_name": "Python 2",
   "language": "python",
   "name": "python2"
  },
  "language_info": {
   "codemirror_mode": {
    "name": "ipython",
    "version": 2
   },
   "file_extension": ".py",
   "mimetype": "text/x-python",
   "name": "python",
   "nbconvert_exporter": "python",
   "pygments_lexer": "ipython2",
   "version": "2.7.15"
  }
 },
 "nbformat": 4,
 "nbformat_minor": 2
}
