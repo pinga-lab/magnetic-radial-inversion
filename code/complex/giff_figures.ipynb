{
 "cells": [
  {
   "cell_type": "code",
   "execution_count": 1,
   "metadata": {},
   "outputs": [],
   "source": [
    "import matplotlib as mpb\n",
    "\n",
    "# show all the matplotlib backends \n",
    "mpb.rcsetup.all_backends \n",
    "\n",
    "# force matplotlib to use the 'Qt5Agg' backend \n",
    "mpb.use(arg='Qt5Agg', force=True)"
   ]
  },
  {
   "cell_type": "code",
   "execution_count": 2,
   "metadata": {
    "collapsed": true
   },
   "outputs": [
    {
     "name": "stderr",
     "output_type": "stream",
     "text": [
      "/home/leo/anaconda2/lib/python2.7/site-packages/fatiando/vis/mpl.py:76: UserWarning: This module will be removed in v0.6. We recommend the use of matplotlib.pyplot module directly. Some of the fatiando specific functions will remain.\n",
      "  \"specific functions will remain.\")\n"
     ]
    }
   ],
   "source": [
    "import numpy as np\n",
    "import matplotlib.pyplot as plt\n",
    "import cPickle as pickle\n",
    "import os\n",
    "import scipy.stats as sp\n",
    "\n",
    "from fatiando.vis import mpl\n",
    "from mpl_toolkits.mplot3d import Axes3D\n",
    "from mpl_toolkits.mplot3d.art3d import Poly3DCollection\n",
    "from mpl_toolkits.axes_grid1.inset_locator import inset_axes"
   ]
  },
  {
   "cell_type": "code",
   "execution_count": 3,
   "metadata": {},
   "outputs": [],
   "source": [
    "import cPickle as pickle\n",
    "\n",
    "# importing my functions\n",
    "import sys\n",
    "sys.path.insert(0, '../../code')\n",
    "\n",
    "import mag_polyprism_functions as mfun"
   ]
  },
  {
   "cell_type": "code",
   "execution_count": 4,
   "metadata": {},
   "outputs": [],
   "source": [
    "# importing the pickle file of results\n",
    "result_path = 'l2-tfa-inversion/multiple-54475/'\n",
    "\n",
    "with open(result_path+'inversion.pickle') as w:\n",
    "        inversion = pickle.load(w)\n",
    "\n",
    "# importing the true model\n",
    "with open('model.pickle') as w:\n",
    "        model = pickle.load(w)"
   ]
  },
  {
   "cell_type": "code",
   "execution_count": 5,
   "metadata": {},
   "outputs": [],
   "source": [
    "x = inversion['x']/1000.\n",
    "y = inversion['y']/1000.\n",
    "z = inversion['z']/1000.\n",
    "\n",
    "for i in model['prisms']:\n",
    "    i.x /= 1000.\n",
    "    i.y /= 1000.\n",
    "    i.z1 /= 1000.\n",
    "    i.z2 /= 1000.\n",
    "    \n",
    "verts_true = mfun.plot_prisms(model['prisms'])"
   ]
  },
  {
   "cell_type": "code",
   "execution_count": 6,
   "metadata": {},
   "outputs": [],
   "source": [
    "for j, m in enumerate(inversion['results'][21][2]):\n",
    "    for k in range(len(inversion['results'][21][2][0])):\n",
    "        m[k].x /= 1000.\n",
    "        m[k].y /= 1000.\n",
    "        m[k].z1 /= 1000.\n",
    "        m[k].z2 /= 1000.\n",
    "    \n",
    "    verts = mfun.plot_prisms(m)\n",
    "    \n",
    "    fig = plt.figure(figsize=(10,8))\n",
    "    ax = fig.add_subplot(111, projection='3d')\n",
    "\n",
    "    # plot sides\n",
    "    ax.add_collection3d(Poly3DCollection(verts_true, \n",
    "    alpha=0.3, facecolor='b', linewidths=1., edgecolors='b'))\n",
    "    ax.add_collection3d(Poly3DCollection(verts, alpha=0.3, \n",
    "     facecolor='r', linewidths=1.0, edgecolors='r'))\n",
    "\n",
    "    ax.set_xlim(-3, 3, 100)\n",
    "    ax.set_ylim(-3, 3, 100)\n",
    "    ax.set_zlim(7, -1, 100)\n",
    "    ax.tick_params(labelsize= 13, pad=8)\n",
    "    ax.set_xlabel('Y (km)', fontsize= 17)\n",
    "    ax.set_ylabel('X (km)', fontsize= 17)\n",
    "    ax.set_zlabel('Z (km)', fontsize= 17)\n",
    "    ax.yaxis.labelpad=13\n",
    "    ax.zaxis.labelpad=13\n",
    "    ax.xaxis.labelpad=13\n",
    "    ax.view_init(20, 70)\n",
    "    ax.autoscale_view()\n",
    "    \n",
    "    plt.savefig('complex_%2d.png' % (j), dpi=300, bbox_inches=\"tight\")\n",
    "    plt.show()"
   ]
  }
 ],
 "metadata": {
  "kernelspec": {
   "display_name": "Python 2",
   "language": "python",
   "name": "python2"
  },
  "language_info": {
   "codemirror_mode": {
    "name": "ipython",
    "version": 2
   },
   "file_extension": ".py",
   "mimetype": "text/x-python",
   "name": "python",
   "nbconvert_exporter": "python",
   "pygments_lexer": "ipython2",
   "version": "2.7.16"
  }
 },
 "nbformat": 4,
 "nbformat_minor": 2
}
