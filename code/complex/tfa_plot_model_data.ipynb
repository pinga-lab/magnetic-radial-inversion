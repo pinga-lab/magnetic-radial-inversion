{
 "cells": [
  {
   "cell_type": "markdown",
   "metadata": {},
   "source": [
    "# Plot of model and data"
   ]
  },
  {
   "cell_type": "markdown",
   "metadata": {},
   "source": [
    "This notebook plots the synthetic data produced by the simple model and the true model. Also it plots the projection of the initial appoximate."
   ]
  },
  {
   "cell_type": "code",
   "execution_count": 1,
   "metadata": {},
   "outputs": [],
   "source": [
    "import matplotlib as mpb\n",
    "\n",
    "# show the figures in windows\n",
    "\n",
    "# show all the matplotlib backends \n",
    "mpb.rcsetup.all_backends \n",
    "\n",
    "# force matplotlib to use the 'Qt5Agg' backend \n",
    "mpb.use(arg='Qt5Agg', force=True)"
   ]
  },
  {
   "cell_type": "code",
   "execution_count": 2,
   "metadata": {},
   "outputs": [
    {
     "name": "stderr",
     "output_type": "stream",
     "text": [
      "/home/leonardo/anaconda2/lib/python2.7/site-packages/fatiando/vis/mpl.py:76: UserWarning: This module will be removed in v0.6. We recommend the use of matplotlib.pyplot module directly. Some of the fatiando specific functions will remain.\n",
      "  \"specific functions will remain.\")\n"
     ]
    }
   ],
   "source": [
    "import cPickle as pickle\n",
    "import numpy as np\n",
    "\n",
    "# importing my functions\n",
    "import sys\n",
    "sys.path.insert(0, '../../code')\n",
    "\n",
    "import mag_polyprism_functions as mfun"
   ]
  },
  {
   "cell_type": "code",
   "execution_count": 3,
   "metadata": {},
   "outputs": [],
   "source": [
    "# importing the pickle file of results\n",
    "resultpath = 'data/thick-inter-body/l2-tfa-inversion/multiple-36-54487/'\n",
    "\n",
    "with open(resultpath+'inversion.pickle') as w:\n",
    "        inversion = pickle.load(w)\n",
    "\n",
    "# importing the true model\n",
    "with open('data/thick-inter-body/model.pickle') as w:\n",
    "        model = pickle.load(w)"
   ]
  },
  {
   "cell_type": "code",
   "execution_count": 4,
   "metadata": {},
   "outputs": [],
   "source": [
    "# directory to save the figure and filename\n",
    "#filename = '../../manuscript/figures/complex_model_data.png'\n",
    "filename = '../../l1-manuscript/figures/thick_model_data.png'\n",
    "#filename = ''"
   ]
  },
  {
   "cell_type": "markdown",
   "metadata": {},
   "source": [
    "# Data and model"
   ]
  },
  {
   "cell_type": "raw",
   "metadata": {},
   "source": [
    "mfun.plot_complex_model_data(inversion['x'], inversion['y'], inversion['observed_data'],\n",
    "                             inversion['z'], inversion['results'][0][2][0][0],\n",
    "                             model['prisms'], filename)"
   ]
  },
  {
   "cell_type": "code",
   "execution_count": 5,
   "metadata": {},
   "outputs": [],
   "source": [
    "mfun.plot_inter_model_data(\n",
    "    inversion['x'], inversion['y'], inversion['z'], inversion['observed_data'],\n",
    "    inversion['results'][0][2][0][0], model['prisms'], -21.5, -18.7,\n",
    "    [45., ], [], filename\n",
    ")"
   ]
  },
  {
   "cell_type": "markdown",
   "metadata": {},
   "source": [
    "Complex model simulation. (a) noise-corrupted total-field anomaly with a pseudoramdom Gaussian distribution having mean $\\mu_0 = 0$ nT and standard deviation $\\sigma_0 = 5$ nT produced by the complex model, the black dots represent the observation points. The connected red dots are the vertices of the initial approximate horizontally projected at the data map. (b) elevation of the observations simulating an airborne survey. (c) and (d) perspective views of the complex model represented by the blue prisms."
   ]
  }
 ],
 "metadata": {
  "kernelspec": {
   "display_name": "Python 2",
   "language": "python",
   "name": "python2"
  },
  "language_info": {
   "codemirror_mode": {
    "name": "ipython",
    "version": 2
   },
   "file_extension": ".py",
   "mimetype": "text/x-python",
   "name": "python",
   "nbconvert_exporter": "python",
   "pygments_lexer": "ipython2",
   "version": "2.7.16"
  }
 },
 "nbformat": 4,
 "nbformat_minor": 2
}
