{
 "cells": [
  {
   "cell_type": "code",
   "execution_count": 11,
   "metadata": {
    "collapsed": true
   },
   "outputs": [],
   "source": [
    "import numpy as np"
   ]
  },
  {
   "cell_type": "code",
   "execution_count": 12,
   "metadata": {
    "collapsed": false
   },
   "outputs": [
    {
     "name": "stdout",
     "output_type": "stream",
     "text": [
      "[[ 0.41258404 -0.20542644 -1.23279582 -0.75888768 -0.90286927]\n",
      " [-0.4598616   0.63643978 -1.17175839  0.97815087 -0.03711415]\n",
      " [-0.82008072 -1.30232578 -0.09943544  0.59427989  0.22602939]\n",
      " [ 2.67057734 -0.18071991  0.33267293  0.00787444 -2.16068362]\n",
      " [-0.07347611  0.4124793   0.0714828   1.93687578 -0.59885202]]\n"
     ]
    }
   ],
   "source": [
    "A = np.random.randn(5,5)\n",
    "print A"
   ]
  },
  {
   "cell_type": "code",
   "execution_count": 13,
   "metadata": {
    "collapsed": false
   },
   "outputs": [
    {
     "name": "stdout",
     "output_type": "stream",
     "text": [
      "[[  1.00000000e+03   0.00000000e+00   0.00000000e+00   0.00000000e+00\n",
      "    0.00000000e+00]\n",
      " [  0.00000000e+00   1.00000000e-02   0.00000000e+00   0.00000000e+00\n",
      "    0.00000000e+00]\n",
      " [  0.00000000e+00   0.00000000e+00   1.00000000e-01   0.00000000e+00\n",
      "    0.00000000e+00]\n",
      " [  0.00000000e+00   0.00000000e+00   0.00000000e+00   1.00000000e+03\n",
      "    0.00000000e+00]\n",
      " [  0.00000000e+00   0.00000000e+00   0.00000000e+00   0.00000000e+00\n",
      "    5.00000000e+01]]\n"
     ]
    }
   ],
   "source": [
    "T = np.diag(np.array([1000., 0.01, 0.1, 1000., 50.]))\n",
    "print T"
   ]
  },
  {
   "cell_type": "code",
   "execution_count": 14,
   "metadata": {
    "collapsed": false
   },
   "outputs": [
    {
     "name": "stdout",
     "output_type": "stream",
     "text": [
      "[[  4.12584038e+02  -2.05426437e-03  -1.23279582e-01  -7.58887677e+02\n",
      "   -4.51434635e+01]\n",
      " [ -4.59861605e+02   6.36439784e-03  -1.17175839e-01   9.78150871e+02\n",
      "   -1.85570732e+00]\n",
      " [ -8.20080720e+02  -1.30232578e-02  -9.94354420e-03   5.94279890e+02\n",
      "    1.13014696e+01]\n",
      " [  2.67057734e+03  -1.80719909e-03   3.32672933e-02   7.87443517e+00\n",
      "   -1.08034181e+02]\n",
      " [ -7.34761105e+01   4.12479297e-03   7.14827976e-03   1.93687578e+03\n",
      "   -2.99426011e+01]]\n"
     ]
    }
   ],
   "source": [
    "B = np.dot(A, T)\n",
    "print B"
   ]
  },
  {
   "cell_type": "code",
   "execution_count": 19,
   "metadata": {
    "collapsed": false
   },
   "outputs": [
    {
     "name": "stdout",
     "output_type": "stream",
     "text": [
      "[ 0.51250861 -2.12276928 -0.95843872 -0.37544444 -1.06926797]\n"
     ]
    }
   ],
   "source": [
    "x = np.random.randn(5)\n",
    "print x"
   ]
  },
  {
   "cell_type": "code",
   "execution_count": 20,
   "metadata": {
    "collapsed": false
   },
   "outputs": [
    {
     "name": "stdout",
     "output_type": "stream",
     "text": [
      "[  544.76600557  -600.84129207  -655.4646314   1481.22689577  -732.84532575]\n"
     ]
    }
   ],
   "source": [
    "y = np.dot(B, x)\n",
    "print y"
   ]
  },
  {
   "cell_type": "code",
   "execution_count": 21,
   "metadata": {
    "collapsed": false
   },
   "outputs": [
    {
     "name": "stdout",
     "output_type": "stream",
     "text": [
      "[ 0.51241861  0.01389832 -0.39210257 -0.37547516 -1.07129425]\n"
     ]
    }
   ],
   "source": [
    "mu = 0.01\n",
    "H1 = np.dot(B.T, B) + mu*np.identity(5)\n",
    "x1 = np.linalg.solve(H1, np.dot(B.T, y))\n",
    "print x1"
   ]
  },
  {
   "cell_type": "code",
   "execution_count": 23,
   "metadata": {
    "collapsed": false
   },
   "outputs": [
    {
     "name": "stdout",
     "output_type": "stream",
     "text": [
      "[[ 0.00242375  0.          0.          0.          0.        ]\n",
      " [ 0.          0.00102234  0.          0.          0.        ]\n",
      " [ 0.          0.          0.00168271  0.          0.        ]\n",
      " [ 0.          0.          0.          0.00037445  0.        ]\n",
      " [ 0.          0.          0.          0.          0.0005163 ]]\n"
     ]
    }
   ],
   "source": [
    "P = np.diag(np.array([1./np.max(B[0,:]), 1./np.max(B[1,:]), 1./np.max(B[2,:]), 1./np.max(B[3,:]), 1./np.max(B[4,:]), ]))\n",
    "print P"
   ]
  },
  {
   "cell_type": "code",
   "execution_count": 32,
   "metadata": {
    "collapsed": false
   },
   "outputs": [
    {
     "name": "stdout",
     "output_type": "stream",
     "text": [
      "[  795.53700021    -1.21699532     8.08638311   -39.7064926   1133.99611555]\n"
     ]
    }
   ],
   "source": [
    "PB = np.dot(P, B)\n",
    "Py = np.dot(P.T, y)\n",
    "H2 = np.dot(PB.T, PB) + mu*np.identity(5)\n",
    "x2 = np.linalg.solve(H2, np.dot(B.T, Py))\n",
    "print x2"
   ]
  },
  {
   "cell_type": "code",
   "execution_count": 33,
   "metadata": {
    "collapsed": false
   },
   "outputs": [
    {
     "name": "stdout",
     "output_type": "stream",
     "text": [
      "[  795.53700021    -1.21699532     8.08638311   -39.7064926   1133.99611555]\n"
     ]
    }
   ],
   "source": [
    "print x2"
   ]
  },
  {
   "cell_type": "code",
   "execution_count": null,
   "metadata": {
    "collapsed": true
   },
   "outputs": [],
   "source": []
  }
 ],
 "metadata": {
  "kernelspec": {
   "display_name": "Python 2",
   "language": "python",
   "name": "python2"
  },
  "language_info": {
   "codemirror_mode": {
    "name": "ipython",
    "version": 2
   },
   "file_extension": ".py",
   "mimetype": "text/x-python",
   "name": "python",
   "nbconvert_exporter": "python",
   "pygments_lexer": "ipython2",
   "version": "2.7.13"
  }
 },
 "nbformat": 4,
 "nbformat_minor": 2
}
