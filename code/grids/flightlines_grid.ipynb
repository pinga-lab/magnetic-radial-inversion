{
 "cells": [
  {
   "cell_type": "markdown",
   "metadata": {},
   "source": [
    "# Flightlines"
   ]
  },
  {
   "cell_type": "code",
   "execution_count": 7,
   "metadata": {
    "collapsed": true
   },
   "outputs": [],
   "source": [
    "import cPickle as pickle\n",
    "from fatiando import gridder\n",
    "import numpy as np\n",
    "import matplotlib.pyplot as plt"
   ]
  },
  {
   "cell_type": "code",
   "execution_count": 8,
   "metadata": {
    "collapsed": false
   },
   "outputs": [],
   "source": [
    "shape = (10, 100)\n",
    "area = [-5000, 5000, -5000, 5000]\n",
    "h = -150\n",
    "x, y, z = gridder.regular(area, shape, z=h)\n",
    "shape2 = (100, 3)\n",
    "x2, y2, z2 = gridder.regular(area, shape2, z=h)"
   ]
  },
  {
   "cell_type": "code",
   "execution_count": 9,
   "metadata": {},
   "outputs": [],
   "source": [
    "x = np.hstack((x,x2))\n",
    "y = np.hstack((y,y2))\n",
    "z = np.hstack((z,z2))"
   ]
  },
  {
   "cell_type": "code",
   "execution_count": 10,
   "metadata": {},
   "outputs": [
    {
     "data": {
      "image/png": "[encoded data removed]",
      "text/plain": [
       "<matplotlib.figure.Figure at 0x4b39908>"
      ]
     },
     "metadata": {
      "needs_background": "light"
     },
     "output_type": "display_data"
    }
   ],
   "source": [
    "plt.figure(figsize=(6,5))\n",
    "plt.title('Flightlines', fontsize=20)\n",
    "#plt.tricontourf(regular_grid['yp'], regular_grid['xp'],\n",
    "#                d0, 40, cmap='jet').ax.tick_params(labelsize=12)\n",
    "plt.plot(x, y, 'bo', markersize=1)\n",
    "plt.xlabel('$y$(m)', fontsize=18)\n",
    "plt.ylabel('$x$(m)', fontsize=18)\n",
    "\n",
    "plt.show()"
   ]
  },
  {
   "cell_type": "code",
   "execution_count": 11,
   "metadata": {
    "collapsed": true
   },
   "outputs": [],
   "source": [
    "flightlines_grid = dict()\n",
    "flightlines_grid['N'] = x.size\n",
    "flightlines_grid['area'] = area\n",
    "flightlines_grid['x'] = x\n",
    "flightlines_grid['y'] = y\n",
    "flightlines_grid['z'] = z"
   ]
  },
  {
   "cell_type": "code",
   "execution_count": 12,
   "metadata": {
    "collapsed": false
   },
   "outputs": [],
   "source": [
    "a = (abs(area[0]) + abs(area[1]))*(abs(area[2]) + abs(area[3]))/1000000.\n",
    "file_name = 'flightlines_grid_%dpts_%dkm2_%dm.pickle' % (x.size, a, h)\n",
    "with open(file_name, 'w') as f:\n",
    "    pickle.dump(flightlines_grid, f)"
   ]
  },
  {
   "cell_type": "code",
   "execution_count": null,
   "metadata": {
    "collapsed": true
   },
   "outputs": [],
   "source": []
  }
 ],
 "metadata": {
  "kernelspec": {
   "display_name": "Python 2",
   "language": "python",
   "name": "python2"
  },
  "language_info": {
   "codemirror_mode": {
    "name": "ipython",
    "version": 2
   },
   "file_extension": ".py",
   "mimetype": "text/x-python",
   "name": "python",
   "nbconvert_exporter": "python",
   "pygments_lexer": "ipython2",
   "version": "2.7.15"
  }
 },
 "nbformat": 4,
 "nbformat_minor": 2
}
