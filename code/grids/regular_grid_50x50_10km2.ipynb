{
 "cells": [
  {
   "cell_type": "markdown",
   "metadata": {},
   "source": [
    "# Regular grid"
   ]
  },
  {
   "cell_type": "code",
   "execution_count": 6,
   "metadata": {
    "collapsed": true
   },
   "outputs": [],
   "source": [
    "import cPickle as pickle\n",
    "from fatiando import gridder"
   ]
  },
  {
   "cell_type": "code",
   "execution_count": 7,
   "metadata": {
    "collapsed": false
   },
   "outputs": [],
   "source": [
    "shape = (50, 50)\n",
    "area = [-2000, 2000, -2000, 2000]\n",
    "x, y, z = gridder.regular(area, shape, z=-150)"
   ]
  },
  {
   "cell_type": "code",
   "execution_count": 8,
   "metadata": {
    "collapsed": true
   },
   "outputs": [],
   "source": [
    "regular_grid = dict()\n",
    "regular_grid['shape'] = shape\n",
    "regular_grid['N'] = shape[0]*shape[1]\n",
    "regular_grid['area'] = area\n",
    "regular_grid['x'] = x\n",
    "regular_grid['y'] = y\n",
    "regular_grid['z'] = z"
   ]
  },
  {
   "cell_type": "code",
   "execution_count": 9,
   "metadata": {
    "collapsed": false
   },
   "outputs": [],
   "source": [
    "a = (abs(area[0]) + abs(area[1]))*(abs(area[2]) + abs(area[3]))/1000000.\n",
    "file_name = '../grids/regular_grid_%dx%d_%dkm2.pickle' % (shape[0], shape[1], a)\n",
    "with open(file_name, 'w') as f:\n",
    "    pickle.dump(regular_grid, f)"
   ]
  },
  {
   "cell_type": "code",
   "execution_count": null,
   "metadata": {
    "collapsed": true
   },
   "outputs": [],
   "source": []
  }
 ],
 "metadata": {
  "kernelspec": {
   "display_name": "Python 2",
   "language": "python",
   "name": "python2"
  },
  "language_info": {
   "codemirror_mode": {
    "name": "ipython",
    "version": 2
   },
   "file_extension": ".py",
   "mimetype": "text/x-python",
   "name": "python",
   "nbconvert_exporter": "python",
   "pygments_lexer": "ipython2",
   "version": "2.7.15"
  }
 },
 "nbformat": 4,
 "nbformat_minor": 2
}
