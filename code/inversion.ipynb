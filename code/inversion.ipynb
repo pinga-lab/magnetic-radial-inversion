{
 "cells": [
  {
   "cell_type": "markdown",
   "metadata": {},
   "source": [
    "# Magnetized Spheres"
   ]
  },
  {
   "cell_type": "markdown",
   "metadata": {},
   "source": [
    "This code calculates some magnetical problems with a spherical simetry."
   ]
  },
  {
   "cell_type": "code",
   "execution_count": null,
   "metadata": {
    "collapsed": false
   },
   "outputs": [],
   "source": [
    "import numpy as np\n",
    "import matplotlib.pyplot as plt\n",
    "from __future__ import division\n",
    "from fatiando import mesher, gridder, utils\n",
    "from fatiando.gravmag import sphere\n",
    "from fatiando.mesher import Sphere\n",
    "from fatiando.vis import mpl\n",
    "from fatiando.constants import CM, T2NT\n",
    "from matplotlib import colors, ticker, cm\n",
    "import mag_sphere_functions as mfun\n",
    "% matplotlib inline"
   ]
  },
  {
   "cell_type": "markdown",
   "metadata": {},
   "source": [
    "## Spheres"
   ]
  },
  {
   "cell_type": "code",
   "execution_count": null,
   "metadata": {
    "collapsed": true
   },
   "outputs": [],
   "source": [
    "inc, dec = -60., 50. # inclination and declination of regional field\n",
    "incs, decs = 70., -50.      # wrong direction or remanent\n",
    "\n",
    "# creating the list of spheres\n",
    "props1 = {'magnetization':utils.ang2vec(10., inc, dec)} # defining induced magnetization\n",
    "\n",
    "model = [\n",
    "    [17000, 22000, 3000, 1200,props1],\n",
    "    [13000, 18000, 3000, 1200,props1]] # list of sphere models [x0,y0,z0,R,props]"
   ]
  },
  {
   "cell_type": "markdown",
   "metadata": {},
   "source": [
    "## Observation Points"
   ]
  },
  {
   "cell_type": "code",
   "execution_count": null,
   "metadata": {
    "collapsed": false
   },
   "outputs": [],
   "source": [
    "#area over which the data are calculated\n",
    "#x minimum, x maximum, y minimum and y maximum\n",
    "area = [0, 30000, 5000, 35000] \n",
    "\n",
    "#number of data along the y and x directions\n",
    "shape = (80,80)\n",
    "\n",
    "#total number of data\n",
    "N = shape[0]*shape[1]\n",
    "\n",
    "#coordinates x and y of the data\n",
    "x = np.linspace(area[0],area[1],shape[0]) # points in x\n",
    "y = np.linspace(area[2],area[3],shape[0]) # points in y\n",
    "xp,yp = np.meshgrid(x,y)    # creating mesh points\n",
    "xp = xp.ravel()\n",
    "yp = yp.ravel()\n",
    "\n",
    "#vertical coordinates of the data\n",
    "zp = -350. - 500.*utils.gaussian2d(xp, yp, 17000, 21000, 21000, 18500, angle=21)"
   ]
  },
  {
   "cell_type": "code",
   "execution_count": null,
   "metadata": {
    "collapsed": false
   },
   "outputs": [],
   "source": [
    "mpl.figure(figsize=(10,10))\n",
    "mpl.title(\"Relief (m)\")\n",
    "mpl.axis('scaled')\n",
    "mpl.contourf(yp, xp, zp, shape, 30, cmap=mpl.cm.Greens_r)\n",
    "mpl.xlabel('East y (km)')\n",
    "mpl.ylabel('North x (km)')\n",
    "mpl.colorbar(pad=0.01, aspect=20, shrink=1.0).set_label('nT')\n",
    "mpl.m2km()\n",
    "mpl.show()"
   ]
  },
  {
   "cell_type": "markdown",
   "metadata": {},
   "source": [
    "### Result for magnetic induction of my function"
   ]
  },
  {
   "cell_type": "code",
   "execution_count": null,
   "metadata": {
    "collapsed": false
   },
   "outputs": [],
   "source": [
    "Bx = mfun.bx_sphere(xp, yp, zp, model)\n",
    "By = mfun.by_sphere(xp, yp, zp, model)\n",
    "Bz = mfun.bz_sphere(xp, yp, zp, model)"
   ]
  },
  {
   "cell_type": "markdown",
   "metadata": {},
   "source": [
    "### Result for total field anomaly of my function"
   ]
  },
  {
   "cell_type": "code",
   "execution_count": null,
   "metadata": {
    "collapsed": true
   },
   "outputs": [],
   "source": [
    "tf = mfun.tf_sphere(xp, yp, zp, model, inc, dec)"
   ]
  },
  {
   "cell_type": "markdown",
   "metadata": {},
   "source": [
    "### Ploting results"
   ]
  },
  {
   "cell_type": "code",
   "execution_count": null,
   "metadata": {
    "collapsed": false
   },
   "outputs": [],
   "source": [
    "mpl.figure(figsize=(15,15))\n",
    "mpl.axis('scaled')\n",
    "\n",
    "mpl.subplot(2,2,1)\n",
    "mpl.axis('scaled')\n",
    "mpl.title(\"TFA (nT)\")\n",
    "mpl.contourf(yp, xp, tf,shape, 15)\n",
    "mpl.xlabel('East y (km)')\n",
    "mpl.ylabel('North x (km)')\n",
    "mpl.colorbar()\n",
    "mpl.m2km()\n",
    "\n",
    "mpl.subplot(2,2,2)\n",
    "mpl.axis('scaled')\n",
    "mpl.title(\"Bx (nT)\")\n",
    "mpl.contourf(yp, xp, Bx,shape, 15)\n",
    "mpl.xlabel('East y (km)')\n",
    "mpl.ylabel('North x (km)')\n",
    "mpl.colorbar()\n",
    "mpl.m2km()\n",
    "\n",
    "mpl.subplot(2,2,3)\n",
    "mpl.axis('scaled')\n",
    "mpl.title(\"By (nT)\")\n",
    "mpl.contourf(yp, xp, By,shape, 15)\n",
    "mpl.xlabel('East y (km)')\n",
    "mpl.ylabel('North x (km)')\n",
    "mpl.colorbar()\n",
    "mpl.m2km()\n",
    "\n",
    "mpl.subplot(2,2,4)\n",
    "mpl.axis('scaled')\n",
    "mpl.title(\"Bz (nT)\")\n",
    "mpl.contourf(yp, xp, Bz,shape, 15)\n",
    "mpl.xlabel('East y (km)')\n",
    "mpl.ylabel('North x (km)')\n",
    "mpl.colorbar()\n",
    "mpl.m2km()\n",
    "\n",
    "\n",
    "mpl.show()"
   ]
  },
  {
   "cell_type": "markdown",
   "metadata": {},
   "source": [
    "### Parameters for layer"
   ]
  },
  {
   "cell_type": "code",
   "execution_count": null,
   "metadata": {
    "collapsed": false
   },
   "outputs": [],
   "source": [
    "R = (3./(4.*np.pi))**(1./3)\n",
    "h = np.zeros(N) - 100.                   # layer height\n"
   ]
  },
  {
   "cell_type": "markdown",
   "metadata": {},
   "source": [
    "### Result for foward problem"
   ]
  },
  {
   "cell_type": "code",
   "execution_count": null,
   "metadata": {
    "collapsed": false
   },
   "outputs": [],
   "source": [
    "A = mfun.sm_tf_sphere(xp, yp, zp, xp, yp, h ,inc,dec,inc,dec)"
   ]
  },
  {
   "cell_type": "code",
   "execution_count": null,
   "metadata": {
    "collapsed": true
   },
   "outputs": [],
   "source": [
    "I = np.identity(xp.size)"
   ]
  },
  {
   "cell_type": "code",
   "execution_count": null,
   "metadata": {
    "collapsed": true
   },
   "outputs": [],
   "source": [
    "f0 = np.trace(np.dot(A.T, A))/xp.size"
   ]
  },
  {
   "cell_type": "code",
   "execution_count": null,
   "metadata": {
    "collapsed": true
   },
   "outputs": [],
   "source": [
    "u0 = 0.001"
   ]
  },
  {
   "cell_type": "code",
   "execution_count": null,
   "metadata": {
    "collapsed": false
   },
   "outputs": [],
   "source": [
    "vp = np.linalg.solve(np.dot(A.T,A) + u0*f0*I,np.dot(A.T,tf))"
   ]
  },
  {
   "cell_type": "code",
   "execution_count": null,
   "metadata": {
    "collapsed": false
   },
   "outputs": [],
   "source": [
    "#model_layer = []\n",
    "#for xm, ym, hm, Rm, magm in zip(xp,yp,h,np.zeros(N)+R,vp):\n",
    "#    model_layer.append([xm, ym, hm, Rm, {'magnetization': utils.ang2vec(magm,inc,dec)}])"
   ]
  },
  {
   "cell_type": "code",
   "execution_count": null,
   "metadata": {
    "collapsed": false
   },
   "outputs": [],
   "source": [
    "tf_layer_fd = np.dot(A,vp)"
   ]
  },
  {
   "cell_type": "markdown",
   "metadata": {},
   "source": [
    "### Comparison with TFA function"
   ]
  },
  {
   "cell_type": "code",
   "execution_count": null,
   "metadata": {
    "collapsed": false
   },
   "outputs": [],
   "source": [
    "np.allclose(tf,tf_layer_fd)"
   ]
  },
  {
   "cell_type": "code",
   "execution_count": null,
   "metadata": {
    "collapsed": false
   },
   "outputs": [],
   "source": [
    "r = tf-tf_layer_fd\n",
    "\n",
    "np.mean(r), np.std(r)"
   ]
  },
  {
   "cell_type": "code",
   "execution_count": null,
   "metadata": {
    "collapsed": false
   },
   "outputs": [],
   "source": [
    "mpl.figure(figsize=(15,10))\n",
    "mpl.subplot(1,3,1)\n",
    "mpl.title(\"TFA (nT)\")\n",
    "mpl.axis('scaled')\n",
    "mpl.contourf(yp, xp, tf,shape, 15)\n",
    "mpl.xlabel('East y (km)')\n",
    "mpl.ylabel('North x (km)')\n",
    "mpl.colorbar(pad=0.01, aspect=20, shrink=0.4).set_label('nT')\n",
    "mpl.m2km()\n",
    "mpl.subplot(1,3,2)\n",
    "mpl.title(\"TFA_fd (nT)\")\n",
    "mpl.axis('scaled')\n",
    "mpl.contourf(yp, xp, tf_layer_fd,shape, 15)\n",
    "mpl.xlabel('East y (km)')\n",
    "mpl.ylabel('North x (km)')\n",
    "mpl.m2km()\n",
    "mpl.colorbar(pad=0.01, aspect=20, shrink=0.4).set_label('nT')\n",
    "mpl.subplot(1,3,3)\n",
    "mpl.title(\"vp (A/m)\")\n",
    "mpl.axis('scaled')\n",
    "mpl.contourf(yp, xp, vp,shape, 15)\n",
    "mpl.xlabel('East y (km)')\n",
    "mpl.ylabel('North x (km)')\n",
    "mpl.m2km()\n",
    "mpl.colorbar(pad=0.01, aspect=20, shrink=0.4).set_label('A/m')\n",
    "mpl.show()"
   ]
  },
  {
   "cell_type": "code",
   "execution_count": null,
   "metadata": {
    "collapsed": true
   },
   "outputs": [],
   "source": [
    "A_bx = mfun.sm_bx_sphere(xp, yp, zp, xp, yp, h, incs, decs)"
   ]
  },
  {
   "cell_type": "code",
   "execution_count": null,
   "metadata": {
    "collapsed": true
   },
   "outputs": [],
   "source": [
    "Bx_layer_fd = np.dot(A_bx,vp)"
   ]
  },
  {
   "cell_type": "code",
   "execution_count": null,
   "metadata": {
    "collapsed": false
   },
   "outputs": [],
   "source": [
    "np.allclose(Bx,Bx_layer_fd)"
   ]
  },
  {
   "cell_type": "code",
   "execution_count": null,
   "metadata": {
    "collapsed": true
   },
   "outputs": [],
   "source": [
    "A_by = mfun.sm_by_sphere(xp, yp, zp, xp, yp, h, incs, decs)"
   ]
  },
  {
   "cell_type": "code",
   "execution_count": null,
   "metadata": {
    "collapsed": true
   },
   "outputs": [],
   "source": [
    "By_layer_fd = np.dot(A_by,vp)"
   ]
  },
  {
   "cell_type": "code",
   "execution_count": null,
   "metadata": {
    "collapsed": false
   },
   "outputs": [],
   "source": [
    "np.allclose(By,By_layer_fd)"
   ]
  },
  {
   "cell_type": "code",
   "execution_count": null,
   "metadata": {
    "collapsed": true
   },
   "outputs": [],
   "source": [
    "A_bz = mfun.sm_bz_sphere(xp, yp, zp, xp, yp, h, incs, decs)"
   ]
  },
  {
   "cell_type": "code",
   "execution_count": null,
   "metadata": {
    "collapsed": true
   },
   "outputs": [],
   "source": [
    "Bz_layer_fd = np.dot(A_bz,vp)"
   ]
  },
  {
   "cell_type": "code",
   "execution_count": null,
   "metadata": {
    "collapsed": false
   },
   "outputs": [],
   "source": [
    "np.allclose(Bz,Bz_layer_fd)"
   ]
  },
  {
   "cell_type": "code",
   "execution_count": null,
   "metadata": {
    "collapsed": false
   },
   "outputs": [],
   "source": [
    "#H = np.dot(np.vstack([A, A_bx, A_by, A_bz]).T, np.vstack([A, A_bx, A_by, A_bz]))\n",
    "#h = np.dot(np.vstack([A, A_bx, A_by, A_bz]).T, np.hstack([tf, Bx, By, Bz]))"
   ]
  },
  {
   "cell_type": "code",
   "execution_count": null,
   "metadata": {
    "collapsed": false
   },
   "outputs": [],
   "source": [
    "#np.hstack([tf, Bx, By, Bz]).shape"
   ]
  },
  {
   "cell_type": "code",
   "execution_count": null,
   "metadata": {
    "collapsed": false
   },
   "outputs": [],
   "source": [
    "#vp_joint = np.linalg.solve(H,h)"
   ]
  },
  {
   "cell_type": "code",
   "execution_count": null,
   "metadata": {
    "collapsed": true
   },
   "outputs": [],
   "source": [
    "#Bx_layer_fd_joint = np.dot(A_bx, vp_joint)\n",
    "#By_layer_fd_joint = np.dot(A_by, vp_joint)\n",
    "#Bz_layer_fd_joint = np.dot(A_bz, vp_joint)\n",
    "#tf_layer_fd_joint = np.dot(A, vp_joint)"
   ]
  },
  {
   "cell_type": "code",
   "execution_count": null,
   "metadata": {
    "collapsed": false
   },
   "outputs": [],
   "source": [
    "mpl.figure(figsize=(15,15))\n",
    "mpl.axis('scaled')\n",
    "\n",
    "mpl.subplot(3,2,1)\n",
    "mpl.axis('scaled')\n",
    "mpl.title(\"Bx - regional direction (nT)\")\n",
    "mpl.contourf(yp, xp, Bx,shape, 15)\n",
    "mpl.xlabel('East y (km)')\n",
    "mpl.ylabel('North x (km)')\n",
    "mpl.colorbar()\n",
    "mpl.m2km()\n",
    "\n",
    "mpl.subplot(3,2,2)\n",
    "mpl.axis('scaled')\n",
    "mpl.title(\"Bx - wrong direction (nT)\")\n",
    "mpl.contourf(yp, xp, Bx_layer_fd,shape, 15)\n",
    "mpl.xlabel('East y (km)')\n",
    "mpl.ylabel('North x (km)')\n",
    "mpl.colorbar()\n",
    "mpl.m2km()\n",
    "\n",
    "mpl.subplot(3,2,3)\n",
    "mpl.axis('scaled')\n",
    "mpl.title(\"By - regional direction (nT)\")\n",
    "mpl.contourf(yp, xp, By,shape, 15)\n",
    "mpl.xlabel('East y (km)')\n",
    "mpl.ylabel('North x (km)')\n",
    "mpl.colorbar()\n",
    "mpl.m2km()\n",
    "\n",
    "mpl.subplot(3,2,4)\n",
    "mpl.axis('scaled')\n",
    "mpl.title(\"By - wrong direction (nT)\")\n",
    "mpl.contourf(yp, xp, By_layer_fd,shape, 15)\n",
    "mpl.xlabel('East y (km)')\n",
    "mpl.ylabel('North x (km)')\n",
    "mpl.colorbar()\n",
    "mpl.m2km()\n",
    "\n",
    "mpl.subplot(3,2,5)\n",
    "mpl.axis('scaled')\n",
    "mpl.title(\"Bz - regional direction (nT)\")\n",
    "mpl.contourf(yp, xp, Bz,shape, 15)\n",
    "mpl.xlabel('East y (km)')\n",
    "mpl.ylabel('North x (km)')\n",
    "mpl.colorbar()\n",
    "mpl.m2km()\n",
    "\n",
    "mpl.subplot(3,2,6)\n",
    "mpl.axis('scaled')\n",
    "mpl.title(\"Bz - wrong direction (nT)\")\n",
    "mpl.contourf(yp, xp, Bz_layer_fd,shape, 15)\n",
    "mpl.xlabel('East y (km)')\n",
    "mpl.ylabel('North x (km)')\n",
    "mpl.colorbar()\n",
    "mpl.m2km()\n",
    "\n",
    "mpl.show()"
   ]
  },
  {
   "cell_type": "code",
   "execution_count": null,
   "metadata": {
    "collapsed": false
   },
   "outputs": [],
   "source": [
    "A_btb = mfun.sm_btb_sphere(xp, yp, zp, xp, yp, h, inc, dec)"
   ]
  },
  {
   "cell_type": "code",
   "execution_count": null,
   "metadata": {
    "collapsed": true
   },
   "outputs": [],
   "source": [
    "btb = np.dot(A_btb,vp)"
   ]
  },
  {
   "cell_type": "code",
   "execution_count": null,
   "metadata": {
    "collapsed": true
   },
   "outputs": [],
   "source": [
    "BTB_true = np.sqrt(Bx**2 + By**2 + Bz**2)"
   ]
  },
  {
   "cell_type": "code",
   "execution_count": null,
   "metadata": {
    "collapsed": true
   },
   "outputs": [],
   "source": [
    "BTB_layer_fd = np.sqrt(Bx_layer_fd**2 + By_layer_fd**2 + Bz_layer_fd**2)"
   ]
  },
  {
   "cell_type": "code",
   "execution_count": null,
   "metadata": {
    "collapsed": true
   },
   "outputs": [],
   "source": [
    "#A_btbw = mfun.sm_btb_sphere(xp, yp, zp, xp, yp, h, incs, decs)"
   ]
  },
  {
   "cell_type": "code",
   "execution_count": null,
   "metadata": {
    "collapsed": false
   },
   "outputs": [],
   "source": [
    "#btbw = np.dot(A_btbw,vp)"
   ]
  },
  {
   "cell_type": "code",
   "execution_count": null,
   "metadata": {
    "collapsed": false
   },
   "outputs": [],
   "source": [
    "mpl.figure(figsize=(15,15))\n",
    "\n",
    "mpl.subplot(1,3,1)\n",
    "mpl.title(\"BTB true (nT)\")\n",
    "mpl.axis('scaled')\n",
    "mpl.contourf(yp, xp, BTB_true,shape, 15)\n",
    "mpl.xlabel('East y (km)')\n",
    "mpl.ylabel('North x (km)')\n",
    "mpl.colorbar(pad=0.01, aspect=20, shrink=0.4).set_label('nT')\n",
    "mpl.m2km()\n",
    "\n",
    "mpl.subplot(1,3,2)\n",
    "mpl.title(\"BTB layer (nT)\")\n",
    "mpl.axis('scaled')\n",
    "mpl.contourf(yp, xp, BTB_layer_fd,shape, 15)\n",
    "mpl.xlabel('East y (km)')\n",
    "mpl.ylabel('North x (km)')\n",
    "mpl.m2km()\n",
    "mpl.colorbar(pad=0.01, aspect=20, shrink=0.4).set_label('nT')\n",
    "\n",
    "mpl.subplot(1,3,3)\n",
    "mpl.title(\"BTB layer fd (nT)\")\n",
    "mpl.axis('scaled')\n",
    "mpl.contourf(yp, xp, btb,shape, 15)\n",
    "mpl.xlabel('East y (km)')\n",
    "mpl.ylabel('North x (km)')\n",
    "mpl.m2km()\n",
    "mpl.colorbar(pad=0.01, aspect=20, shrink=0.4).set_label('nT')\n",
    "\n",
    "mpl.show()"
   ]
  },
  {
   "cell_type": "code",
   "execution_count": null,
   "metadata": {
    "collapsed": true
   },
   "outputs": [],
   "source": []
  }
 ],
 "metadata": {
  "kernelspec": {
   "display_name": "Python 2",
   "language": "python",
   "name": "python2"
  },
  "language_info": {
   "codemirror_mode": {
    "name": "ipython",
    "version": 2
   },
   "file_extension": ".py",
   "mimetype": "text/x-python",
   "name": "python",
   "nbconvert_exporter": "python",
   "pygments_lexer": "ipython2",
   "version": "2.7.11"
  }
 },
 "nbformat": 4,
 "nbformat_minor": 0
}
