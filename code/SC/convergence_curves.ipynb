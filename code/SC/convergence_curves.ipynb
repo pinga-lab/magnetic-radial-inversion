{
 "cells": [
  {
   "cell_type": "markdown",
   "metadata": {},
   "source": [
    "# Plot convergence curves"
   ]
  },
  {
   "cell_type": "code",
   "execution_count": 60,
   "metadata": {},
   "outputs": [],
   "source": [
    "import matplotlib as mpb\n",
    "\n",
    "# show all the matplotlib backends \n",
    "mpb.rcsetup.all_backends \n",
    "\n",
    "# force matplotlib to use the 'Qt5Agg' backend \n",
    "mpb.use(arg='Qt5Agg', force=True)"
   ]
  },
  {
   "cell_type": "code",
   "execution_count": 61,
   "metadata": {},
   "outputs": [],
   "source": [
    "import numpy as np\n",
    "import matplotlib.pyplot as plt\n",
    "import cPickle as pickle\n",
    "import scipy.stats as sp\n",
    "import os\n",
    "\n",
    "from fatiando.gravmag import polyprism\n",
    "from mpl_toolkits.mplot3d import Axes3D\n",
    "from mpl_toolkits.mplot3d.art3d import Poly3DCollection\n",
    "from fatiando.vis import mpl\n",
    "from mpl_toolkits.axes_grid1.inset_locator import inset_axes"
   ]
  },
  {
   "cell_type": "code",
   "execution_count": 62,
   "metadata": {
    "collapsed": true
   },
   "outputs": [],
   "source": [
    "import sys\n",
    "sys.path.insert(0, '../../code')\n",
    "\n",
    "import mag_polyprism_functions as mfun\n",
    "import mag_sphere_functions as msf"
   ]
  },
  {
   "cell_type": "code",
   "execution_count": 63,
   "metadata": {},
   "outputs": [],
   "source": [
    "mypath = 'tfa_inversion/upward_multiple_int_min3_int_max6_z0_min-900_z0_max-750_r1500_dz600_V30_L10Feb-06-2020/'"
   ]
  },
  {
   "cell_type": "code",
   "execution_count": 64,
   "metadata": {},
   "outputs": [],
   "source": [
    "with open(mypath+'inversion.pickle') as w:\n",
    "        di = pickle.load(w)"
   ]
  },
  {
   "cell_type": "code",
   "execution_count": 65,
   "metadata": {},
   "outputs": [],
   "source": [
    "plt.figure(figsize=(10,10))\n",
    "plt.title('Convergence', fontsize = 18)\n",
    "plt.xlabel('Iteration number')\n",
    "for i, phi in enumerate(di['results']):\n",
    "    plt.plot(phi[3], label='inversion%d' % (i+1))\n",
    "plt.legend(loc=0, fontsize=2.5, shadow=bool, framealpha=1)\n",
    "\n",
    "plt.savefig(mypath+'_tfa_convergence.png', dpi=300)\n",
    "plt.show()"
   ]
  },
  {
   "cell_type": "code",
   "execution_count": 66,
   "metadata": {},
   "outputs": [],
   "source": [
    "z0 = di['z0']\n",
    "intensity = di['intensity']\n",
    "z0_plot, int_plot = np.meshgrid(z0, intensity)\n",
    "z0_plot = z0_plot.ravel()\n",
    "int_plot = int_plot.ravel()\n",
    "n = z0.size\n",
    "m = intensity.size\n",
    "N = di['x'].size"
   ]
  },
  {
   "cell_type": "code",
   "execution_count": 67,
   "metadata": {},
   "outputs": [],
   "source": [
    "matrix_gamma = np.zeros((n,m))\n",
    "for i in range(n):\n",
    "    for j in range(m):\n",
    "        matrix_gamma[i, j] = di['results'][i*n+j][3][-1]"
   ]
  },
  {
   "cell_type": "code",
   "execution_count": 68,
   "metadata": {},
   "outputs": [],
   "source": [
    "matrix_phi = np.zeros((n,m))\n",
    "for i in range(n):\n",
    "    for j in range(m):\n",
    "        matrix_phi[i, j] = np.linalg.norm(di['results'][i*n+j][6][-1], 2)**2./N"
   ]
  },
  {
   "cell_type": "code",
   "execution_count": 69,
   "metadata": {},
   "outputs": [
    {
     "data": {
      "text/plain": [
       "array([[0, 2],\n",
       "       [1, 3],\n",
       "       [2, 3],\n",
       "       [2, 4],\n",
       "       [3, 4],\n",
       "       [4, 5]])"
      ]
     },
     "execution_count": 69,
     "metadata": {},
     "output_type": "execute_result"
    }
   ],
   "source": [
    "mindex = np.argwhere(matrix_gamma<60.)\n",
    "mindex"
   ]
  },
  {
   "cell_type": "code",
   "execution_count": 70,
   "metadata": {},
   "outputs": [
    {
     "name": "stdout",
     "output_type": "stream",
     "text": [
      "2\n",
      "52.09623318713226\n",
      "13\n",
      "51.0955405846368\n",
      "23\n",
      "57.93191893209328\n",
      "24\n",
      "57.79674708043074\n",
      "34\n",
      "56.41521633763493\n",
      "45\n",
      "57.60944370440586\n"
     ]
    }
   ],
   "source": [
    "dots_z0 = []\n",
    "dots_int = []\n",
    "for re in mindex:\n",
    "    print re[0]*10 + re[1]\n",
    "    print matrix_gamma[re[0], re[1]]\n",
    "    dots_int.append(np.linalg.norm(di['results'][re[0]*n + re[1]][2][0].props['magnetization']))\n",
    "    dots_z0.append(di['results'][re[0]*n + re[1]][2][0].z1)"
   ]
  },
  {
   "cell_type": "code",
   "execution_count": 71,
   "metadata": {},
   "outputs": [
    {
     "data": {
      "text/plain": [
       "array([[0, 2],\n",
       "       [2, 4],\n",
       "       [4, 5]])"
      ]
     },
     "execution_count": 71,
     "metadata": {},
     "output_type": "execute_result"
    }
   ],
   "source": [
    "misdex = np.argwhere(matrix_phi<60.)\n",
    "misdex"
   ]
  },
  {
   "cell_type": "code",
   "execution_count": 72,
   "metadata": {},
   "outputs": [
    {
     "name": "stdout",
     "output_type": "stream",
     "text": [
      "2\n",
      "48.08842032580277\n",
      "24\n",
      "55.471704704031666\n",
      "45\n",
      "54.255309415487645\n"
     ]
    }
   ],
   "source": [
    "for re in misdex:\n",
    "    print re[0]*10 + re[1]\n",
    "    print matrix_phi[re[0], re[1]]"
   ]
  },
  {
   "cell_type": "code",
   "execution_count": 73,
   "metadata": {},
   "outputs": [],
   "source": [
    "fig, ax = fig, ax = plt.subplots(1,1)\n",
    "img = ax.imshow(matrix_gamma, vmin=40, vmax=100, origin='lower',extent=[0,1,0,1])\n",
    "plt.ylabel('$z_0$ (m)')\n",
    "plt.xlabel('$m_0$ (A/m)')\n",
    "x_label_list = []\n",
    "y_label_list = []\n",
    "for xl, yl in zip(intensity,z0):\n",
    "    x_label_list.append(str(xl))\n",
    "    y_label_list.append(str(yl)[:-2])\n",
    "ax.set_xticks(np.linspace(1./(2.*n), 1 - 1./(2.*n), n))\n",
    "ax.set_yticks(np.linspace(1./(2.*m), 1 - 1./(2.*m), m))\n",
    "ax.set_xticklabels(x_label_list)\n",
    "ax.set_yticklabels(y_label_list)\n",
    "# Minor ticks\n",
    "ax.set_xticks(np.linspace(0, 1, n+1), minor=True);\n",
    "ax.set_yticks(np.linspace(0, 1, m+1), minor=True);\n",
    "ax.grid(which='minor', color='k', linewidth=1)\n",
    "plt.colorbar(img)\n",
    "plt.show()"
   ]
  },
  {
   "cell_type": "code",
   "execution_count": 74,
   "metadata": {},
   "outputs": [],
   "source": [
    "fig, ax = fig, ax = plt.subplots(1,1)\n",
    "img = ax.imshow(matrix_phi, vmin=40, vmax=100, origin='lower',extent=[0,1,0,1], aspect='equal')\n",
    "plt.ylabel('$z_0$ (m)')\n",
    "plt.xlabel('$m_0$ (A/m)')\n",
    "x_label_list = []\n",
    "y_label_list = []\n",
    "for xl, yl in zip(intensity,z0):\n",
    "    x_label_list.append(str(xl))\n",
    "    y_label_list.append(str(yl)[:-2])\n",
    "ax.set_xticks(np.linspace(1./(2.*n), 1 - 1./(2.*n), n))\n",
    "ax.set_yticks(np.linspace(1./(2.*m), 1 - 1./(2.*m), m))\n",
    "ax.set_xticklabels(x_label_list)\n",
    "ax.set_yticklabels(y_label_list)\n",
    "# Minor ticks\n",
    "ax.set_xticks(np.linspace(0, 1, n+1), minor=True);\n",
    "ax.set_yticks(np.linspace(0, 1, m+1), minor=True);\n",
    "ax.grid(which='minor', color='k', linewidth=1)\n",
    "plt.colorbar(img)\n",
    "plt.show()"
   ]
  },
  {
   "cell_type": "markdown",
   "metadata": {},
   "source": [
    "# Inversion 13"
   ]
  },
  {
   "cell_type": "code",
   "execution_count": 58,
   "metadata": {},
   "outputs": [
    {
     "ename": "IndexError",
     "evalue": "list index out of range",
     "output_type": "error",
     "traceback": [
      "\u001b[0;31m---------------------------------------------------------------------------\u001b[0m",
      "\u001b[0;31mIndexError\u001b[0m                                Traceback (most recent call last)",
      "\u001b[0;32m<ipython-input-58-1ae6aef88268>\u001b[0m in \u001b[0;36m<module>\u001b[0;34m()\u001b[0m\n\u001b[1;32m      4\u001b[0m     \u001b[0max\u001b[0m\u001b[0;34m=\u001b[0m\u001b[0mmpl\u001b[0m\u001b[0;34m.\u001b[0m\u001b[0msubplot\u001b[0m\u001b[0;34m(\u001b[0m\u001b[0;36m1\u001b[0m\u001b[0;34m,\u001b[0m\u001b[0;36m1\u001b[0m\u001b[0;34m,\u001b[0m\u001b[0;36m1\u001b[0m\u001b[0;34m)\u001b[0m\u001b[0;34m\u001b[0m\u001b[0m\n\u001b[1;32m      5\u001b[0m     \u001b[0;31m#plt.title('Residual', fontsize=20)\u001b[0m\u001b[0;34m\u001b[0m\u001b[0;34m\u001b[0m\u001b[0m\n\u001b[0;32m----> 6\u001b[0;31m     \u001b[0mnorm\u001b[0m\u001b[0;34m=\u001b[0m\u001b[0mmpb\u001b[0m\u001b[0;34m.\u001b[0m\u001b[0mcolors\u001b[0m\u001b[0;34m.\u001b[0m\u001b[0mNormalize\u001b[0m\u001b[0;34m(\u001b[0m\u001b[0mvmin\u001b[0m\u001b[0;34m=\u001b[0m\u001b[0mnp\u001b[0m\u001b[0;34m.\u001b[0m\u001b[0mmin\u001b[0m\u001b[0;34m(\u001b[0m\u001b[0mdi\u001b[0m\u001b[0;34m[\u001b[0m\u001b[0;34m'results'\u001b[0m\u001b[0;34m]\u001b[0m\u001b[0;34m[\u001b[0m\u001b[0mre\u001b[0m\u001b[0;34m[\u001b[0m\u001b[0;36m0\u001b[0m\u001b[0;34m]\u001b[0m\u001b[0;34m*\u001b[0m\u001b[0;36m10\u001b[0m \u001b[0;34m+\u001b[0m \u001b[0mre\u001b[0m\u001b[0;34m[\u001b[0m\u001b[0;36m1\u001b[0m\u001b[0;34m]\u001b[0m\u001b[0;34m]\u001b[0m\u001b[0;34m[\u001b[0m\u001b[0;34m-\u001b[0m\u001b[0;36m2\u001b[0m\u001b[0;34m]\u001b[0m\u001b[0;34m)\u001b[0m\u001b[0;34m,\u001b[0m \u001b[0mvmax\u001b[0m\u001b[0;34m=\u001b[0m\u001b[0mnp\u001b[0m\u001b[0;34m.\u001b[0m\u001b[0mmin\u001b[0m\u001b[0;34m(\u001b[0m\u001b[0mdi\u001b[0m\u001b[0;34m[\u001b[0m\u001b[0;34m'results'\u001b[0m\u001b[0;34m]\u001b[0m\u001b[0;34m[\u001b[0m\u001b[0mre\u001b[0m\u001b[0;34m[\u001b[0m\u001b[0;36m0\u001b[0m\u001b[0;34m]\u001b[0m\u001b[0;34m*\u001b[0m\u001b[0;36m10\u001b[0m \u001b[0;34m+\u001b[0m \u001b[0mre\u001b[0m\u001b[0;34m[\u001b[0m\u001b[0;36m1\u001b[0m\u001b[0;34m]\u001b[0m\u001b[0;34m]\u001b[0m\u001b[0;34m[\u001b[0m\u001b[0;34m-\u001b[0m\u001b[0;36m2\u001b[0m\u001b[0;34m]\u001b[0m\u001b[0;34m)\u001b[0m\u001b[0;34m*\u001b[0m\u001b[0;34m(\u001b[0m\u001b[0;34m-\u001b[0m\u001b[0;36m1\u001b[0m\u001b[0;34m)\u001b[0m\u001b[0;34m)\u001b[0m\u001b[0;34m\u001b[0m\u001b[0m\n\u001b[0m\u001b[1;32m      7\u001b[0m     \u001b[0mplt\u001b[0m\u001b[0;34m.\u001b[0m\u001b[0mtricontourf\u001b[0m\u001b[0;34m(\u001b[0m\u001b[0mdi\u001b[0m\u001b[0;34m[\u001b[0m\u001b[0;34m'y'\u001b[0m\u001b[0;34m]\u001b[0m\u001b[0;34m,\u001b[0m \u001b[0mdi\u001b[0m\u001b[0;34m[\u001b[0m\u001b[0;34m'x'\u001b[0m\u001b[0;34m]\u001b[0m\u001b[0;34m,\u001b[0m \u001b[0mdi\u001b[0m\u001b[0;34m[\u001b[0m\u001b[0;34m'results'\u001b[0m\u001b[0;34m]\u001b[0m\u001b[0;34m[\u001b[0m\u001b[0mre\u001b[0m\u001b[0;34m[\u001b[0m\u001b[0;36m0\u001b[0m\u001b[0;34m]\u001b[0m\u001b[0;34m*\u001b[0m\u001b[0;36m10\u001b[0m \u001b[0;34m+\u001b[0m \u001b[0mre\u001b[0m\u001b[0;34m[\u001b[0m\u001b[0;36m1\u001b[0m\u001b[0;34m]\u001b[0m\u001b[0;34m]\u001b[0m\u001b[0;34m[\u001b[0m\u001b[0;34m-\u001b[0m\u001b[0;36m2\u001b[0m\u001b[0;34m]\u001b[0m\u001b[0;34m,\u001b[0m \u001b[0;36m20\u001b[0m\u001b[0;34m,\u001b[0m \u001b[0mcmap\u001b[0m\u001b[0;34m=\u001b[0m\u001b[0;34m'RdBu_r'\u001b[0m\u001b[0;34m,\u001b[0m \u001b[0mnorm\u001b[0m\u001b[0;34m=\u001b[0m\u001b[0mnorm\u001b[0m\u001b[0;34m)\u001b[0m\u001b[0;34m.\u001b[0m\u001b[0max\u001b[0m\u001b[0;34m.\u001b[0m\u001b[0mtick_params\u001b[0m\u001b[0;34m(\u001b[0m\u001b[0mlabelsize\u001b[0m\u001b[0;34m=\u001b[0m\u001b[0;36m12\u001b[0m\u001b[0;34m)\u001b[0m\u001b[0;34m\u001b[0m\u001b[0m\n\u001b[1;32m      8\u001b[0m     \u001b[0mplt\u001b[0m\u001b[0;34m.\u001b[0m\u001b[0mxlabel\u001b[0m\u001b[0;34m(\u001b[0m\u001b[0;34m'$y$(m)'\u001b[0m\u001b[0;34m,\u001b[0m \u001b[0mfontsize\u001b[0m\u001b[0;34m=\u001b[0m\u001b[0;36m18\u001b[0m\u001b[0;34m)\u001b[0m\u001b[0;34m\u001b[0m\u001b[0m\n",
      "\u001b[0;31mIndexError\u001b[0m: list index out of range"
     ]
    }
   ],
   "source": [
    "for re in mindex:\n",
    "\n",
    "    plt.figure(figsize=(6,5))\n",
    "    ax=mpl.subplot(1,1,1)\n",
    "    #plt.title('Residual', fontsize=20)\n",
    "    norm=mpb.colors.Normalize(vmin=np.min(di['results'][re[0]*10 + re[1]][-2]), vmax=np.min(di['results'][re[0]*10 + re[1]][-2])*(-1))\n",
    "    plt.tricontourf(di['y'], di['x'], di['results'][re[0]*10 + re[1]][-2], 20, cmap='RdBu_r', norm=norm).ax.tick_params(labelsize=12)\n",
    "    plt.xlabel('$y$(m)', fontsize=18)\n",
    "    plt.ylabel('$x$(m)', fontsize=18)\n",
    "    clb = plt.colorbar(pad=0.01, aspect=20, shrink=1)\n",
    "    clb.ax.set_title('nT')\n",
    "    mpl.m2km()\n",
    "    clb.ax.tick_params(labelsize=13)\n",
    "    inset = inset_axes(ax, width=\"40%\", height=\"30%\", loc=1, borderpad=0.7)\n",
    "    mean = np.mean(di['results'][re[0]*10 + re[1]][-2])\n",
    "    std = np.std(di['results'][re[0]*10 + re[1]][-2])\n",
    "    nbins=30\n",
    "    n, bins, patches = plt.hist(di['results'][re[0]*10 + re[1]][-2],bins=nbins, normed=True, facecolor='blue')\n",
    "    plt.text(0.4, 0.96, \"$\\mu$ = {:.2f}\\n$\\sigma$ = {:.2f}\".format(mean, std), \n",
    "             horizontalalignment='right',\n",
    "             verticalalignment='top',\n",
    "             transform = ax.transAxes, fontsize=10)\n",
    "    gauss = sp.norm.pdf(bins, mean, std)\n",
    "    plt.plot(bins, gauss, 'k--', linewidth=1., label='Gaussian')\n",
    "    plt.show()\n",
    "\n",
    "    plt.figure(figsize=(6,5))\n",
    "    plt.title('Convergence', fontsize = 18)\n",
    "    plt.xlabel('Iteration number')\n",
    "    plt.plot(di['results'][re[0]*10 + re[1]][3], 'b-', label='Misfit value')\n",
    "    plt.legend(loc=0, fontsize=12, shadow=bool, framealpha=1)\n",
    "    plt.show()\n",
    "\n",
    "    x = di['x']/1000.\n",
    "    y = di['y']/1000.\n",
    "    z = di['z']/1000.\n",
    "\n",
    "    for i in range(len(di['results'][re[0]*10 + re[1]][2])):\n",
    "        di['results'][re[0]*10 + re[1]][2][i].x /= 1000.\n",
    "        di['results'][re[0]*10 + re[1]][2][i].y /= 1000.\n",
    "        di['results'][re[0]*10 + re[1]][2][i].z1 /= 1000.\n",
    "        di['results'][re[0]*10 + re[1]][2][i].z2 /= 1000.\n",
    "\n",
    "\n",
    "    verts13 = mfun.plot_prisms(di['results'][re[0]*10 + re[1]][2])\n",
    "\n",
    "    fig = plt.figure(figsize=(10,8))\n",
    "    ax = fig.add_subplot(111, projection='3d')\n",
    "\n",
    "    # plot sides\n",
    "    ax.add_collection3d(Poly3DCollection(verts13, alpha=0.3, \n",
    "     facecolor='r', linewidths=0.5, edgecolors='k'))\n",
    "\n",
    "    ax.set_ylim(np.min(x), np.max(x), 100)\n",
    "    ax.set_xlim(np.min(y), np.max(y), 100)\n",
    "    ax.set_zlim(5, -2, 100)\n",
    "    ax.tick_params(labelsize= 13, pad=8)\n",
    "    ax.set_ylabel('Y (km)', fontsize= 17)\n",
    "    ax.set_xlabel('X (km)', fontsize= 17)\n",
    "    ax.set_zlabel('Z (km)', fontsize= 17)\n",
    "    #ax.set_xticklabels(np.linspace(-3, 3, 7))\n",
    "    #ax.set_yticklabels(np.linspace(-3, 3, 7))\n",
    "    #ax.set_zticklabels(np.linspace(0, 2, 9))\n",
    "    ax.yaxis.labelpad=13\n",
    "    ax.zaxis.labelpad=13\n",
    "    ax.xaxis.labelpad=13\n",
    "    ax.view_init(10, 120)\n",
    "    ax.autoscale_view()\n",
    "    ax.plot_trisurf(di['yt']/1000., di['xt']/1000., -di['topography']/1000., linewidth=0.2, antialiased=True, cmap='inferno')\n",
    "\n",
    "\n",
    "    plt.show()"
   ]
  },
  {
   "cell_type": "markdown",
   "metadata": {},
   "source": [
    "# Inversion 6"
   ]
  },
  {
   "cell_type": "code",
   "execution_count": 49,
   "metadata": {},
   "outputs": [],
   "source": [
    "plt.figure(figsize=(6,5))\n",
    "ax=mpl.subplot(1,1,1)\n",
    "#plt.title('Residual', fontsize=20)\n",
    "norm=mpb.colors.Normalize(vmin=-np.max(di['results'][13][-2]), vmax=np.max(di['results'][13][-2]))\n",
    "plt.tricontourf(di['y'], di['x'], di['results'][13][-2], 20, cmap='RdBu_r', norm=norm).ax.tick_params(labelsize=12)\n",
    "plt.xlabel('$y$(m)', fontsize=18)\n",
    "plt.ylabel('$x$(m)', fontsize=18)\n",
    "clb = plt.colorbar(pad=0.01, aspect=20, shrink=1)\n",
    "clb.ax.set_title('nT')\n",
    "mpl.m2km()\n",
    "clb.ax.tick_params(labelsize=13)\n",
    "inset = inset_axes(ax, width=\"40%\", height=\"30%\", loc=1, borderpad=0.7)\n",
    "mean = np.mean(di['results'][13][-2])\n",
    "std = np.std(di['results'][13][-2])\n",
    "nbins=30\n",
    "n, bins, patches = plt.hist(di['results'][13][-2],bins=nbins, normed=True, facecolor='blue')\n",
    "plt.text(0.4, 0.96, \"$\\mu$ = {:.2f}\\n$\\sigma$ = {:.2f}\".format(mean, std), \n",
    "         horizontalalignment='right',\n",
    "         verticalalignment='top',\n",
    "         transform = ax.transAxes, fontsize=10)\n",
    "gauss = sp.norm.pdf(bins, mean, std)\n",
    "plt.plot(bins, gauss, 'k--', linewidth=1., label='Gaussian')\n",
    "plt.show()"
   ]
  },
  {
   "cell_type": "code",
   "execution_count": 50,
   "metadata": {},
   "outputs": [],
   "source": [
    "plt.figure(figsize=(6,5))\n",
    "plt.title('Convergence', fontsize = 18)\n",
    "plt.xlabel('Iteration number')\n",
    "plt.plot(di['results'][13][3], 'b-', label='Misfit value')\n",
    "plt.legend(loc=0, fontsize=12, shadow=bool, framealpha=1)\n",
    "plt.show()"
   ]
  },
  {
   "cell_type": "code",
   "execution_count": 51,
   "metadata": {},
   "outputs": [],
   "source": [
    "x = di['x']/1000.\n",
    "y = di['y']/1000.\n",
    "z = di['z']/1000.\n",
    "\n",
    "for i in range(len(di['results'][13][2])):\n",
    "    di['results'][13][2][i].x /= 1000.\n",
    "    di['results'][13][2][i].y /= 1000.\n",
    "    di['results'][13][2][i].z1 /= 1000.\n",
    "    di['results'][13][2][i].z2 /= 1000.\n",
    "    "
   ]
  },
  {
   "cell_type": "code",
   "execution_count": 52,
   "metadata": {},
   "outputs": [],
   "source": [
    "verts6 = mfun.plot_prisms(di['results'][13][2])"
   ]
  },
  {
   "cell_type": "code",
   "execution_count": 53,
   "metadata": {},
   "outputs": [],
   "source": [
    "fig = plt.figure(figsize=(10,8))\n",
    "ax = fig.add_subplot(111, projection='3d')\n",
    "\n",
    "# plot sides\n",
    "ax.add_collection3d(Poly3DCollection(verts6, alpha=0.3, \n",
    " facecolor='r', linewidths=0.3, edgecolors='k'))\n",
    "\n",
    "ax.set_ylim(np.min(x), np.max(x), 100)\n",
    "ax.set_xlim(np.min(y), np.max(y), 100)\n",
    "ax.set_zlim(5, -2, 100)\n",
    "ax.tick_params(labelsize= 13, pad=8)\n",
    "ax.set_ylabel('Y (km)', fontsize= 17)\n",
    "ax.set_xlabel('X (km)', fontsize= 17)\n",
    "ax.set_zlabel('Z (km)', fontsize= 17)\n",
    "#ax.set_xticklabels(np.linspace(-3, 3, 7))\n",
    "#ax.set_yticklabels(np.linspace(-3, 3, 7))\n",
    "#ax.set_zticklabels(np.linspace(0, 2, 9))\n",
    "ax.yaxis.labelpad=13\n",
    "ax.zaxis.labelpad=13\n",
    "ax.xaxis.labelpad=13\n",
    "ax.view_init(10, 120)\n",
    "ax.autoscale_view()\n",
    "\n",
    "plt.show()"
   ]
  },
  {
   "cell_type": "code",
   "execution_count": 102,
   "metadata": {},
   "outputs": [
    {
     "data": {
      "text/plain": [
       "6.499999999999999"
      ]
     },
     "execution_count": 102,
     "metadata": {},
     "output_type": "execute_result"
    }
   ],
   "source": [
    "np.linalg.norm(di['results'][6][2][0].props['magnetization'])"
   ]
  },
  {
   "cell_type": "code",
   "execution_count": 103,
   "metadata": {},
   "outputs": [
    {
     "data": {
      "text/plain": [
       "-900.0"
      ]
     },
     "execution_count": 103,
     "metadata": {},
     "output_type": "execute_result"
    }
   ],
   "source": [
    "di['results'][6][2][0].z1"
   ]
  },
  {
   "cell_type": "code",
   "execution_count": 204,
   "metadata": {},
   "outputs": [
    {
     "ename": "ValueError",
     "evalue": "Input arrays xp, yp, and zp must have same shape!",
     "output_type": "error",
     "traceback": [
      "\u001b[0;31m---------------------------------------------------------------------------\u001b[0m",
      "\u001b[0;31mValueError\u001b[0m                                Traceback (most recent call last)",
      "\u001b[0;32m<ipython-input-204-6e0b78ef06fe>\u001b[0m in \u001b[0;36m<module>\u001b[0;34m()\u001b[0m\n\u001b[1;32m      3\u001b[0m                 polyprism.tf(di['y'], di['xp'], di['z'], [di['results'][14][2][-1]],\n\u001b[1;32m      4\u001b[0m              \u001b[0mdi\u001b[0m\u001b[0;34m[\u001b[0m\u001b[0;34m'main_field'\u001b[0m\u001b[0;34m]\u001b[0m\u001b[0;34m[\u001b[0m\u001b[0;36m0\u001b[0m\u001b[0;34m]\u001b[0m\u001b[0;34m,\u001b[0m \u001b[0mdi\u001b[0m\u001b[0;34m[\u001b[0m\u001b[0;34m'main_field'\u001b[0m\u001b[0;34m]\u001b[0m\u001b[0;34m[\u001b[0m\u001b[0;36m1\u001b[0m\u001b[0;34m]\u001b[0m\u001b[0;34m,\u001b[0m\u001b[0;34m\u001b[0m\u001b[0m\n\u001b[0;32m----> 5\u001b[0;31m             di['results'][14][2][0].props['magnetization']), 20, cmp='RdBu_r')\n\u001b[0m\u001b[1;32m      6\u001b[0m \u001b[0mclb\u001b[0m \u001b[0;34m=\u001b[0m \u001b[0mplt\u001b[0m\u001b[0;34m.\u001b[0m\u001b[0mcolorbar\u001b[0m\u001b[0;34m(\u001b[0m\u001b[0mpad\u001b[0m\u001b[0;34m=\u001b[0m\u001b[0;36m0.01\u001b[0m\u001b[0;34m,\u001b[0m \u001b[0maspect\u001b[0m\u001b[0;34m=\u001b[0m\u001b[0;36m20\u001b[0m\u001b[0;34m,\u001b[0m \u001b[0mshrink\u001b[0m\u001b[0;34m=\u001b[0m\u001b[0;36m1\u001b[0m\u001b[0;34m)\u001b[0m\u001b[0;34m\u001b[0m\u001b[0m\n\u001b[1;32m      7\u001b[0m \u001b[0mclb\u001b[0m\u001b[0;34m.\u001b[0m\u001b[0max\u001b[0m\u001b[0;34m.\u001b[0m\u001b[0mset_title\u001b[0m\u001b[0;34m(\u001b[0m\u001b[0;34m'nT'\u001b[0m\u001b[0;34m)\u001b[0m\u001b[0;34m\u001b[0m\u001b[0m\n",
      "\u001b[0;32m/home/leo/anaconda2/lib/python2.7/site-packages/fatiando/gravmag/polyprism.pyc\u001b[0m in \u001b[0;36mtf\u001b[0;34m(xp, yp, zp, prisms, inc, dec, pmag)\u001b[0m\n\u001b[1;32m    108\u001b[0m     \"\"\"\n\u001b[1;32m    109\u001b[0m     \u001b[0;32mif\u001b[0m \u001b[0mxp\u001b[0m\u001b[0;34m.\u001b[0m\u001b[0mshape\u001b[0m \u001b[0;34m!=\u001b[0m \u001b[0myp\u001b[0m\u001b[0;34m.\u001b[0m\u001b[0mshape\u001b[0m \u001b[0;34m!=\u001b[0m \u001b[0mzp\u001b[0m\u001b[0;34m.\u001b[0m\u001b[0mshape\u001b[0m\u001b[0;34m:\u001b[0m\u001b[0;34m\u001b[0m\u001b[0m\n\u001b[0;32m--> 110\u001b[0;31m         \u001b[0;32mraise\u001b[0m \u001b[0mValueError\u001b[0m\u001b[0;34m(\u001b[0m\u001b[0;34m\"Input arrays xp, yp, and zp must have same shape!\"\u001b[0m\u001b[0;34m)\u001b[0m\u001b[0;34m\u001b[0m\u001b[0m\n\u001b[0m\u001b[1;32m    111\u001b[0m     \u001b[0;31m# Calculate the 3 components of the unit vector in the direction of the\u001b[0m\u001b[0;34m\u001b[0m\u001b[0;34m\u001b[0m\u001b[0m\n\u001b[1;32m    112\u001b[0m     \u001b[0;31m# regional field\u001b[0m\u001b[0;34m\u001b[0m\u001b[0;34m\u001b[0m\u001b[0m\n",
      "\u001b[0;31mValueError\u001b[0m: Input arrays xp, yp, and zp must have same shape!"
     ]
    }
   ],
   "source": [
    "plt.figure(figsize=(6,5))\n",
    "plt.tricontourf(di['yp'], di['xp'],\n",
    "                polyprism.tf(di['y'], di['xp'], di['zp'], [di['results'][14][2][-1]],\n",
    "             di['main_field'][0], di['main_field'][1],\n",
    "            di['results'][14][2][0].props['magnetization']), 20, cmp='RdBu_r')\n",
    "clb = plt.colorbar(pad=0.01, aspect=20, shrink=1)\n",
    "clb.ax.set_title('nT')\n",
    "mpl.m2km()\n",
    "plt.show()"
   ]
  },
  {
   "cell_type": "code",
   "execution_count": 202,
   "metadata": {},
   "outputs": [
    {
     "data": {
      "text/plain": [
       "array([683000.        , 683204.08163265, 683408.16326531, ...,\n",
       "       692591.83673469, 692795.91836735, 693000.        ])"
      ]
     },
     "execution_count": 202,
     "metadata": {},
     "output_type": "execute_result"
    }
   ],
   "source": [
    "di['y']"
   ]
  },
  {
   "cell_type": "code",
   "execution_count": null,
   "metadata": {},
   "outputs": [],
   "source": []
  }
 ],
 "metadata": {
  "kernelspec": {
   "display_name": "Python 2",
   "language": "python",
   "name": "python2"
  },
  "language_info": {
   "codemirror_mode": {
    "name": "ipython",
    "version": 2
   },
   "file_extension": ".py",
   "mimetype": "text/x-python",
   "name": "python",
   "nbconvert_exporter": "python",
   "pygments_lexer": "ipython2",
   "version": "2.7.16"
  }
 },
 "nbformat": 4,
 "nbformat_minor": 2
}
