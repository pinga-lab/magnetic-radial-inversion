{
 "cells": [
  {
   "cell_type": "markdown",
   "metadata": {},
   "source": [
    "# Visualization of inversion - Santa Catarina data"
   ]
  },
  {
   "cell_type": "code",
   "execution_count": 1,
   "metadata": {},
   "outputs": [],
   "source": [
    "import matplotlib as mpb\n",
    "\n",
    "# show all the matplotlib backends \n",
    "mpb.rcsetup.all_backends \n",
    "\n",
    "# force matplotlib to use the 'Qt5Agg' backend \n",
    "mpb.use(arg='Qt5Agg', force=True)"
   ]
  },
  {
   "cell_type": "code",
   "execution_count": 2,
   "metadata": {},
   "outputs": [
    {
     "name": "stderr",
     "output_type": "stream",
     "text": [
      "/home/leonardo/anaconda2/lib/python2.7/site-packages/fatiando/vis/mpl.py:76: UserWarning: This module will be removed in v0.6. We recommend the use of matplotlib.pyplot module directly. Some of the fatiando specific functions will remain.\n",
      "  \"specific functions will remain.\")\n"
     ]
    }
   ],
   "source": [
    "import numpy as np\n",
    "import matplotlib.pyplot as plt\n",
    "import cPickle as pickle\n",
    "import os\n",
    "import scipy.stats as sp\n",
    "import pandas as pd\n",
    "\n",
    "from mpl_toolkits.mplot3d import Axes3D\n",
    "from mpl_toolkits.mplot3d.art3d import Poly3DCollection\n",
    "from fatiando.vis import mpl\n",
    "from matplotlib import colors, ticker, cm\n",
    "from mpl_toolkits.axes_grid1.inset_locator import inset_axes\n",
    "from fatiando.gravmag import polyprism"
   ]
  },
  {
   "cell_type": "code",
   "execution_count": 3,
   "metadata": {
    "collapsed": true
   },
   "outputs": [],
   "source": [
    "import sys\n",
    "sys.path.insert(0, '../../code')\n",
    "\n",
    "import mag_polyprism_functions as mfun"
   ]
  },
  {
   "cell_type": "code",
   "execution_count": 4,
   "metadata": {},
   "outputs": [],
   "source": [
    "mypath = 'tfa_inversion/multiple_int_min8_int_max13_z0_min0_z0_max150_r700_dz800_V20_L10Apr-23-2020/'"
   ]
  },
  {
   "cell_type": "code",
   "execution_count": 5,
   "metadata": {},
   "outputs": [],
   "source": [
    "with open(mypath+'inversion.pickle') as w:\n",
    "        di = pickle.load(w)"
   ]
  },
  {
   "cell_type": "code",
   "execution_count": 6,
   "metadata": {},
   "outputs": [],
   "source": [
    "data = pd.read_csv('anitapolis_decimated_tfa_residual_cut.txt', skipinitialspace=True, delim_whitespace=True)"
   ]
  },
  {
   "cell_type": "code",
   "execution_count": 7,
   "metadata": {},
   "outputs": [],
   "source": [
    "data['GPSALT'] = - data['GPSALT'] + 800"
   ]
  },
  {
   "cell_type": "code",
   "execution_count": 8,
   "metadata": {},
   "outputs": [],
   "source": [
    "xp = data['X'].get_values()/1000.\n",
    "yp = data['Y'].get_values()/1000.\n",
    "zp = data['GPSALT'].get_values()/1000.\n",
    "alt = data['ALTURA'].get_values()/1000.\n",
    "dobs = data['mag_res1'].get_values()"
   ]
  },
  {
   "cell_type": "markdown",
   "metadata": {},
   "source": [
    "# inversion 4"
   ]
  },
  {
   "cell_type": "code",
   "execution_count": 9,
   "metadata": {},
   "outputs": [],
   "source": [
    "inversion15 = di['results'][4]"
   ]
  },
  {
   "cell_type": "code",
   "execution_count": 10,
   "metadata": {},
   "outputs": [],
   "source": [
    "x = di['x']/1000.\n",
    "y = di['y']/1000.\n",
    "z = di['z']/1000."
   ]
  },
  {
   "cell_type": "code",
   "execution_count": 11,
   "metadata": {},
   "outputs": [],
   "source": [
    "for i in range(len(inversion15[2][-1])):\n",
    "    inversion15[2][-1][i].x /= 1000.\n",
    "    inversion15[2][-1][i].y /= 1000.\n",
    "    inversion15[2][-1][i].z1 /= 1000.\n",
    "    inversion15[2][-1][i].z2 /= 1000.\n",
    "verts = mfun.plot_prisms(inversion15[2][-1])\n",
    "\n",
    "\n",
    "for i in range(len(inversion15[2][0])):\n",
    "    inversion15[2][0][i].x /= 1000.\n",
    "    inversion15[2][0][i].y /= 1000.\n",
    "    inversion15[2][0][i].z1 /= 1000.\n",
    "    inversion15[2][0][i].z2 /= 1000.\n",
    "verts_initial = mfun.plot_prisms(inversion15[2][0])"
   ]
  },
  {
   "cell_type": "code",
   "execution_count": 12,
   "metadata": {},
   "outputs": [],
   "source": [
    "fig = plt.figure(figsize=(10,8))\n",
    "ax = fig.gca(projection='3d')\n",
    "\n",
    "# plot sides\n",
    "ax.add_collection3d(Poly3DCollection(verts, alpha=0.3, \n",
    " facecolor='r', linewidths=0.5, edgecolors='k'))\n",
    "#ax.add_collection3d(Poly3DCollection(verts_initial, alpha=1, \n",
    "# facecolor='b', linewidths=0, edgecolors='k'))\n",
    "\n",
    "ax.set_ylim(np.min(x), np.max(x), 100)\n",
    "ax.set_xlim(np.min(y), np.max(y), 100)\n",
    "ax.set_zlim(8, -8, 100)\n",
    "ax.set_ylabel('X (km)')\n",
    "ax.set_xlabel('Y (km)')\n",
    "ax.set_zlabel('Z (km)')\n",
    "ax.view_init(20, 200)\n",
    "#ax.set_xticks(np.linspace(np.min(x), np.max(x)-2, 4), minor=True)\n",
    "#ax.set_yticks(np.linspace(np.min(y)+2, np.max(y)-1, 5), minor=True)\n",
    "#ax.set_zticks(np.linspace(6, 0, 6), minor=True)\n",
    "\n",
    "#norm=mpb.colors.Normalize(vmin=np.min(di['residual']), vmax=np.min(di['residual'])*(-1))\n",
    "#ax.tricontourf(y, x, di['residual'],\n",
    "#                zdir='z', offset=-2.00, cmap='RdBu_r', norm=norm)\n",
    "\n",
    "ax.plot_trisurf(y, x, zp + alt,\n",
    "                linewidth=0.2, antialiased=True, cmap='terrain_r', vmax=0.3)\n",
    "\n",
    "plt.savefig(mypath+'diorama_3d_estimate3.png', dpi=300, bbox_inches=\"tight\")\n",
    "plt.show()\n",
    "\n",
    "#img(filename=mypath+'complex_3d_estimate.png', width=400, height=400)"
   ]
  },
  {
   "cell_type": "code",
   "execution_count": null,
   "metadata": {},
   "outputs": [],
   "source": [
    "ax=plt.subplot(111)\n",
    "plt.tricontourf(y, x, inversion15[3], 20,\n",
    "                cmap='RdBu_r').ax.tick_params(labelsize=12)\n",
    "plt.ylim(6918, 6926)\n",
    "# horizontal projections of the estimated prisms\n",
    "for prism_i in inversion15[2][-1]:\n",
    "    mpl.polygon(prism_i.topolygon(), linewidth=0, fill='k',\n",
    "                alpha=0.09, xy2ne=True)\n",
    "plt.xlabel('$y$(m)', fontsize=12)\n",
    "plt.ylabel('$x$(m)', fontsize=12)\n",
    "clb = plt.colorbar(pad=0.01, aspect=20, shrink=1)\n",
    "clb.ax.set_title('nT', pad=-285)\n",
    "clb.ax.tick_params(labelsize=13)\n",
    "# histogram in the inset\n",
    "inset = inset_axes(ax, width=\"40%\", height=\"30%\", loc=1, borderpad=0.7)\n",
    "mean = np.mean(inversion15[3])\n",
    "std = np.std(inversion15[3])\n",
    "nbins=30\n",
    "n, bins, patches = plt.hist(inversion15[3],bins=nbins,\n",
    "                            normed=True, facecolor='blue')\n",
    "props = dict(boxstyle='round', facecolor='wheat', alpha=0.5)\n",
    "inset.text(0.6, 0.95,\n",
    "           \"$\\mu$ = {:.2f}\\n$\\sigma$ = {:.2f}\".format(mean,std),\n",
    "            transform=inset.transAxes, fontsize=8,\n",
    "            va='top', ha='left', bbox=props)\n",
    "gauss = sp.norm.pdf(bins, mean, std)\n",
    "plt.plot(bins, gauss, 'k--', linewidth=1., label='Gaussian')\n",
    "plt.show()"
   ]
  },
  {
   "cell_type": "code",
   "execution_count": null,
   "metadata": {},
   "outputs": [],
   "source": [
    "np.max((zp + alt)/1000.)"
   ]
  },
  {
   "cell_type": "markdown",
   "metadata": {},
   "source": [
    "# inversion 58"
   ]
  },
  {
   "cell_type": "code",
   "execution_count": null,
   "metadata": {},
   "outputs": [],
   "source": [
    "inversion58 = di['results'][57]"
   ]
  },
  {
   "cell_type": "code",
   "execution_count": null,
   "metadata": {},
   "outputs": [],
   "source": [
    "for i in range(len(inversion58[2][-1])):\n",
    "    inversion58[2][-1][i].x /= 1000.\n",
    "    inversion58[2][-1][i].y /= 1000.\n",
    "    inversion58[2][-1][i].z1 /= 1000.\n",
    "    inversion58[2][-1][i].z2 /= 1000.\n",
    "verts = mfun.plot_prisms(inversion58[2][-1])\n",
    "\n",
    "\n",
    "for i in range(len(inversion58[2][0])):\n",
    "    inversion58[2][0][i].x /= 1000.\n",
    "    inversion58[2][0][i].y /= 1000.\n",
    "    inversion58[2][0][i].z1 /= 1000.\n",
    "    inversion58[2][0][i].z2 /= 1000.\n",
    "verts_initial = mfun.plot_prisms(inversion58[2][0])"
   ]
  },
  {
   "cell_type": "code",
   "execution_count": null,
   "metadata": {},
   "outputs": [],
   "source": [
    "fig = plt.figure(figsize=(10,8))\n",
    "ax = fig.gca(projection='3d')\n",
    "\n",
    "# plot sides\n",
    "ax.add_collection3d(Poly3DCollection(verts, alpha=0.3, \n",
    " facecolor='r', linewidths=0.5, edgecolors='k'))\n",
    "#ax.add_collection3d(Poly3DCollection(verts_initial, alpha=1, \n",
    "# facecolor='b', linewidths=0, edgecolors='k'))\n",
    "\n",
    "ax.set_ylim(np.min(x), np.max(x), 100)\n",
    "ax.set_xlim(np.min(y), np.max(y), 100)\n",
    "ax.set_zlim(8, -8, 100)\n",
    "ax.set_ylabel('X (km)')\n",
    "ax.set_xlabel('Y (km)')\n",
    "ax.set_zlabel('Z (km)')\n",
    "ax.view_init(20, 200)\n",
    "#ax.set_xticks(np.linspace(np.min(x), np.max(x)-2, 4), minor=True)\n",
    "#ax.set_yticks(np.linspace(np.min(y)+2, np.max(y)-1, 5), minor=True)\n",
    "#ax.set_zticks(np.linspace(6, 0, 6), minor=True)\n",
    "\n",
    "#norm=mpb.colors.Normalize(vmin=np.min(di['residual']), vmax=np.min(di['residual'])*(-1))\n",
    "#ax.tricontourf(y, x, di['residual'],\n",
    "#                zdir='z', offset=-2.00, cmap='RdBu_r', norm=norm)\n",
    "\n",
    "#ax.plot_trisurf(di['yt']/1000., di['xt']/1000., (eqlayer['topography'])/1000.,\n",
    "#                linewidth=0.2, antialiased=True, cmap='terrain_r', vmax=0)\n",
    "ax.scatter(yt, xt, (eqlayer['topography'])/1000.)\n",
    "\n",
    "plt.savefig(mypath+'diorama_3d_estimate3.png', dpi=300, bbox_inches=\"tight\")\n",
    "plt.show()\n",
    "\n",
    "#img(filename=mypath+'complex_3d_estimate.png', width=400, height=400)"
   ]
  },
  {
   "cell_type": "code",
   "execution_count": null,
   "metadata": {},
   "outputs": [],
   "source": [
    "fig, ax = plt.subplots(1, figsize=(6,5))\n",
    "plt.tricontourf(yt, xt, eqlayer['topography'], 10, cmap='terrain_r').ax.tick_params(labelsize=12)\n",
    "plt.xlabel('$y$(km)', fontsize=18)\n",
    "plt.ylabel('$x$(km)', fontsize=18)\n",
    "clb = plt.colorbar(pad=0.025, aspect=40, shrink=1)\n",
    "clb.ax.tick_params(labelsize=13)\n",
    "clb.ax.set_title('m', pad=-285)\n",
    "for i in di['results']:\n",
    "    i[2][-1][0].x /= 1000.\n",
    "    i[2][-1][0].y /= 1000.\n",
    "    i[2][-1][0].z1 /= 1000.\n",
    "    i[2][-1][0].z2 /= 1000.\n",
    "    mpl.polygon(i[2][-1][0], '.-r', xy2ne=True)\n",
    "mpl.m2km()\n",
    "plt.show()"
   ]
  },
  {
   "cell_type": "code",
   "execution_count": null,
   "metadata": {},
   "outputs": [],
   "source": [
    "zl - "
   ]
  }
 ],
 "metadata": {
  "kernelspec": {
   "display_name": "Python 2",
   "language": "python",
   "name": "python2"
  },
  "language_info": {
   "codemirror_mode": {
    "name": "ipython",
    "version": 2
   },
   "file_extension": ".py",
   "mimetype": "text/x-python",
   "name": "python",
   "nbconvert_exporter": "python",
   "pygments_lexer": "ipython2",
   "version": "2.7.16"
  }
 },
 "nbformat": 4,
 "nbformat_minor": 2
}
