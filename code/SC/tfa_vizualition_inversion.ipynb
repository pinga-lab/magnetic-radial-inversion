{
 "cells": [
  {
   "cell_type": "markdown",
   "metadata": {},
   "source": [
    "# Visualization of inversion - Santa Catarina data"
   ]
  },
  {
   "cell_type": "code",
   "execution_count": 1228,
   "metadata": {},
   "outputs": [],
   "source": [
    "import matplotlib as mpb\n",
    "\n",
    "# show all the matplotlib backends \n",
    "mpb.rcsetup.all_backends \n",
    "\n",
    "# force matplotlib to use the 'Qt5Agg' backend \n",
    "mpb.use(arg='Qt5Agg', force=True)"
   ]
  },
  {
   "cell_type": "code",
   "execution_count": 1229,
   "metadata": {},
   "outputs": [],
   "source": [
    "import numpy as np\n",
    "import matplotlib.pyplot as plt\n",
    "import cPickle as pickle\n",
    "import os\n",
    "import scipy.stats as sp\n",
    "\n",
    "from mpl_toolkits.mplot3d import Axes3D\n",
    "from mpl_toolkits.mplot3d.art3d import Poly3DCollection\n",
    "from fatiando.vis import mpl\n",
    "from matplotlib import colors, ticker, cm\n",
    "from mpl_toolkits.axes_grid1.inset_locator import inset_axes\n",
    "from fatiando.gravmag import polyprism"
   ]
  },
  {
   "cell_type": "code",
   "execution_count": 1230,
   "metadata": {
    "collapsed": true
   },
   "outputs": [],
   "source": [
    "import sys\n",
    "sys.path.insert(0, '../../code')\n",
    "\n",
    "import mag_polyprism_functions as mfun"
   ]
  },
  {
   "cell_type": "code",
   "execution_count": 1231,
   "metadata": {},
   "outputs": [],
   "source": [
    "mypath = 'up_tfa_inversion/V30_L8_inc-37_dec-18_r1500_int5_z0-900_dz700/'"
   ]
  },
  {
   "cell_type": "raw",
   "metadata": {},
   "source": [
    "mypath = 'diorama_tfa_inversion/direction_inc-59_dec-114/diorama_tfa_r1000_int20_z0350_dz450/'"
   ]
  },
  {
   "cell_type": "code",
   "execution_count": 1232,
   "metadata": {},
   "outputs": [],
   "source": [
    "with open(mypath+'inversion.pickle') as w:\n",
    "        di = pickle.load(w)"
   ]
  },
  {
   "cell_type": "code",
   "execution_count": 1233,
   "metadata": {},
   "outputs": [],
   "source": [
    "plt.figure(figsize=(6,5))\n",
    "plt.title('Observed TFA', fontsize=20)\n",
    "norm=mpb.colors.Normalize(vmin=np.max(di['observed_data'])*(-1), vmax=np.max(di['observed_data']))\n",
    "plt.tricontourf(di['yp'], di['xp'], di['observed_data'], 20, cmap='RdBu_r', norm=norm).ax.tick_params(labelsize=12)\n",
    "plt.xlabel('$y$(km)', fontsize=18)\n",
    "plt.ylabel('$x$(km)', fontsize=18)\n",
    "clb = plt.colorbar(pad=0.025, aspect=40, shrink=1)\n",
    "clb.ax.tick_params(labelsize=13)\n",
    "clb.ax.set_title('nT')\n",
    "plt.plot(di['yp'], di['xp'], 'ok', markersize=1)\n",
    "#clines = plt.tricontour(yp, xp, dobs, 20, colors='k', linewidths=0.2)\n",
    "#plt.clabel(clines, fontsize=4, fmt='%3d')\n",
    "mpl.m2km()\n",
    "#plt.legend(loc=0, fontsize=12, shadow=bool, framealpha=1, edgecolor='black')\n",
    "plt.savefig(mypath+'diorama_real_data.png', dpi=300, bbox_inches=\"tight\")\n",
    "plt.show()\n",
    "#img(filename=mypath+'diorama_real_data.png', width=1000, height=1200)"
   ]
  },
  {
   "cell_type": "code",
   "execution_count": 1234,
   "metadata": {},
   "outputs": [],
   "source": [
    "plt.figure(figsize=(6,5))\n",
    "plt.title('Predict TFA', fontsize=20)\n",
    "norm=mpb.colors.Normalize(vmin=np.max(di['initial_data'])*(-1), vmax=np.max(di['initial_data']))\n",
    "plt.tricontourf(di['yp'], di['xp'], di['initial_data'], 20, cmap='RdBu_r', norm=norm).ax.tick_params(labelsize=12)\n",
    "plt.xlabel('$y$(km)', fontsize=18)\n",
    "plt.ylabel('$x$(km)', fontsize=18)\n",
    "clb = plt.colorbar(pad=0.025, aspect=40, shrink=1)\n",
    "clb.ax.tick_params(labelsize=13)\n",
    "#source = mpl.polygon(kimberlite_model['prisms'][0], '.-k', xy2ne=True)\n",
    "estimate = mpl.polygon(di['initial_estimate'][0], '.-r', xy2ne=True)\n",
    "#source.set_label('Outcropping polygon')\n",
    "estimate.set_label('Initial estimate')\n",
    "clb.ax.set_title('nT')\n",
    "mpl.m2km()\n",
    "plt.legend(loc=0, fontsize=12, shadow=bool, framealpha=1)\n",
    "plt.savefig(mypath+'diorama_tfa_pred_data_true_inital.png', dpi=300, bbox_inches=\"tight\")\n",
    "plt.show()\n",
    "\n",
    "#img(filename=mypath+'diorama_tfa_pred_data_true_inital.png', width=1000, height=1200)"
   ]
  },
  {
   "cell_type": "code",
   "execution_count": 1235,
   "metadata": {},
   "outputs": [],
   "source": [
    "plt.figure(figsize=(6,5))\n",
    "plt.title('Observed TFA', fontsize=20)\n",
    "norm=mpb.colors.Normalize(vmin=np.max(di['observed_data'])*(-1), vmax=np.max(di['observed_data']))\n",
    "plt.tricontourf(di['yp'], di['xp'], di['observed_data'], 20, cmap='bwr', norm=norm).ax.tick_params(labelsize=12)\n",
    "plt.xlabel('$y$(km)', fontsize=18)\n",
    "plt.ylabel('$x$(km)', fontsize=18)\n",
    "clb = plt.colorbar(pad=0.025, aspect=40, shrink=1)\n",
    "clb.ax.tick_params(labelsize=13)\n",
    "#source = mpl.polygon(kimberlite_model['prisms'][0], '.-k', xy2ne=True)\n",
    "estimate = mpl.polygon(di['initial_estimate'][0], '.-r', xy2ne=True)\n",
    "#source.set_label('Outcropping polygon')\n",
    "estimate.set_label('Initial estimate')\n",
    "clb.ax.set_title('nT')\n",
    "mpl.m2km()\n",
    "plt.legend(loc=0, fontsize=12, shadow=bool, framealpha=1)\n",
    "plt.savefig(mypath+'diorama_tfa_obs_data_true_inital.png', dpi=300, bbox_inches=\"tight\")\n",
    "plt.show()\n",
    "\n",
    "#img(filename=mypath+'diorama_tfa_obs_data_true_inital.png', width=1000, height=1200)"
   ]
  },
  {
   "cell_type": "code",
   "execution_count": 1236,
   "metadata": {},
   "outputs": [],
   "source": [
    "plt.figure(figsize=(6,5))\n",
    "ax=mpl.subplot(1,1,1)\n",
    "plt.title('Residual', fontsize=20)\n",
    "norm=mpb.colors.Normalize(vmin=np.max(di['residual'])*(-1), vmax=np.max(di['residual']))\n",
    "plt.tricontourf(di['yp'], di['xp'], di['residual'], 20, cmap='RdBu_r', norm=norm).ax.tick_params(labelsize=12)\n",
    "plt.xlabel('$y$(km)', fontsize=18)\n",
    "plt.ylabel('$x$(km)', fontsize=18)\n",
    "clb = plt.colorbar(pad=0.01, aspect=20, shrink=1)\n",
    "clb.ax.set_title('nT')\n",
    "clb.ax.tick_params(labelsize=13)\n",
    "mpl.m2km()\n",
    "inset = inset_axes(ax, width=\"40%\", height=\"30%\", loc=1, borderpad=0.7)\n",
    "mean = np.mean(di['residual'])\n",
    "std = np.std(di['residual'])\n",
    "nbins=30\n",
    "n, bins, patches = plt.hist(di['residual'],bins=nbins, normed=True, facecolor='blue')\n",
    "props = dict(boxstyle='round', facecolor='wheat', alpha=0.5)\n",
    "inset.text(0.7, 0.95, \"$\\mu$ = {:.2f}\\n$\\sigma$ = {:.2f}\".format(mean, std),\n",
    "                transform=inset.transAxes, fontsize=6,\n",
    "            va='top', ha='left', bbox=props)\n",
    "gauss = sp.norm.pdf(bins, mean, std)\n",
    "plt.plot(bins, gauss, 'k--', linewidth=1., label='Gaussian')\n",
    "plt.savefig(mypath+'diorama_tfa_residual.png', dpi=300, bbox_inches=\"tight\")\n",
    "plt.show()\n",
    "#img(filename=mypath+'diorama_tfa_residual.png', width=1600, height=400)"
   ]
  },
  {
   "cell_type": "code",
   "execution_count": 1237,
   "metadata": {},
   "outputs": [],
   "source": [
    "# plot\n",
    "plt.figure(figsize=(25,7))\n",
    "plt.subplot(1, 3, 1)\n",
    "plt.title('Predict', fontsize=20)\n",
    "norm=mpb.colors.Normalize(vmin=np.max(di['observed_data'])*(-1), vmax=np.max(di['observed_data']))\n",
    "plt.tricontourf(di['yp'], di['xp'], di['data_fit'],20, cmap='RdBu_r', norm=norm).ax.tick_params(labelsize=12)\n",
    "plt.xlabel('$y$(km)', fontsize=18)\n",
    "plt.ylabel('$x$(km)', fontsize=18)\n",
    "clb = plt.colorbar(pad=0.01, aspect=20, shrink=1)\n",
    "clb.ax.tick_params(labelsize=13)\n",
    "clb.ax.set_title('nT')\n",
    "mpl.m2km()\n",
    "\n",
    "plt.subplot(1, 3, 2)\n",
    "plt.title('Observed', fontsize=20)\n",
    "plt.tricontourf(di['yp'], di['xp'], di['observed_data'], 20, cmap='RdBu_r', norm=norm).ax.tick_params(labelsize=12)\n",
    "plt.xlabel('$y$(km)', fontsize=18)\n",
    "plt.ylabel('$x$(km)', fontsize=18)\n",
    "clb = plt.colorbar(pad=0.01, aspect=20, shrink=1)\n",
    "clb.ax.tick_params(labelsize=13)\n",
    "clb.ax.set_title('nT')\n",
    "mpl.m2km()\n",
    "\n",
    "plt.subplot(1, 3, 3)\n",
    "plt.title('Residual', fontsize=20)\n",
    "norm=mpb.colors.Normalize(vmin=np.max(di['residual'])*(-1), vmax=np.max(di['residual']))\n",
    "plt.tricontourf(di['yp'], di['xp'], di['residual'], 20, cmap='RdBu_r', norm=norm).ax.tick_params(labelsize=12)\n",
    "plt.xlabel('$y$(km)', fontsize=18)\n",
    "plt.ylabel('$x$(km)', fontsize=18)\n",
    "clb = plt.colorbar(pad=0.01, aspect=20, shrink=1)\n",
    "clb.ax.set_title('nT')\n",
    "clb.ax.tick_params(labelsize=13)\n",
    "mpl.m2km()\n",
    "plt.savefig(mypath+'diorama_tfa_fit.png', dpi=300)\n",
    "plt.show()\n",
    "#img(filename=mypath+'diorama_tfa_fit.png', width=1600, height=400)"
   ]
  },
  {
   "cell_type": "code",
   "execution_count": 1238,
   "metadata": {},
   "outputs": [],
   "source": [
    "mean = np.mean(di['residual'])\n",
    "std = np.std(di['residual'])\n",
    "plt.figure(figsize=(6,5))\n",
    "plt.title('Histogram', fontsize = 20)\n",
    "plt.xlabel('$\\mu$ = %.7f  $\\sigma$ = %.7f' % (mean, std), fontsize=20)\n",
    "nbins=30\n",
    "n, bins, patches = plt.hist(di['residual'],bins=nbins, normed=True, color='blue')\n",
    "gauss = sp.norm.pdf(bins, mean, std)\n",
    "plt.plot(bins, gauss, 'k--', linewidth=2., label='Gaussian')\n",
    "plt.legend(loc=0, fontsize=12, shadow=bool, framealpha=1)\n",
    "plt.savefig(mypath+'diorama_tfa_hist.png', dpi=300)\n",
    "plt.show()\n",
    "\n",
    "#img(filename=mypath+'diorama_tfa_hist.png', width=400, height=400)"
   ]
  },
  {
   "cell_type": "code",
   "execution_count": 1239,
   "metadata": {},
   "outputs": [],
   "source": [
    "plt.figure(figsize=(6,5))\n",
    "plt.title('Convergence', fontsize = 18)\n",
    "plt.xlabel('Iteration number')\n",
    "plt.plot(di['objective'], 'b-', label='Misfit value')\n",
    "plt.legend(loc=0, fontsize=12, shadow=bool, framealpha=1)\n",
    "\n",
    "plt.savefig(mypath+'diorama_tfa_convergence.png', dpi=300)\n",
    "plt.show()\n",
    "\n",
    "#img(filename=mypath+'diorama_tfa_convergence.png', width=400, height=400)"
   ]
  },
  {
   "cell_type": "raw",
   "metadata": {},
   "source": [
    "dp = []\n",
    "for i in range(10):\n",
    "    dp.append(polyprism.tf(di['xp'], di['yp'], di['zp'], [di['prisms'][i]], di['inc_dec'][0], di['inc_dec'][1]))"
   ]
  },
  {
   "cell_type": "raw",
   "metadata": {},
   "source": [
    "plt.figure(figsize=(6,5))\n",
    "plt.title('Last prism data', fontsize=20)\n",
    "#norm=mpb.colors.Normalize(vmin=np.max(di['initial_data'])*(-1), vmax=np.max(di['initial_data']))\n",
    "plt.tricontourf(di['yp'], di['xp'], dp[1], 20, cmap='RdBu_r').ax.tick_params(labelsize=12)\n",
    "plt.xlabel('$y$(km)', fontsize=18)\n",
    "plt.ylabel('$x$(km)', fontsize=18)\n",
    "clb = plt.colorbar(pad=0.025, aspect=40, shrink=1)\n",
    "clb.ax.tick_params(labelsize=13)\n",
    "#source = mpl.polygon(kimberlite_model['prisms'][0], '.-k', xy2ne=True)\n",
    "estimate = mpl.polygon(di['prisms'][1], '.-r', xy2ne=True)\n",
    "#source.set_label('Outcropping polygon')\n",
    "estimate.set_label('prism')\n",
    "clb.ax.set_title('nT')\n",
    "mpl.m2km()\n",
    "plt.legend(loc=0, fontsize=12, shadow=bool, framealpha=1)\n",
    "plt.savefig(mypath+'diorama_tfa_pred_data_true_inital.png', dpi=300, bbox_inches=\"tight\")\n",
    "plt.show()\n",
    "\n",
    "#img(filename=mypath+'diorama_tfa_pred_data_true_inital.png', width=1000, height=1200)"
   ]
  },
  {
   "cell_type": "raw",
   "metadata": {},
   "source": [
    "# plot\n",
    "plt.figure(figsize=(25,7))\n",
    "plt.subplot(1, 3, 1)\n",
    "plt.title('Lasts prisms', fontsize=20)\n",
    "plt.tricontourf(di['yp'], di['xp'], dp[-1] + dp[-2], 20, cmap='RdBu_r').ax.tick_params(labelsize=12)\n",
    "plt.xlabel('$y$(km)', fontsize=18)\n",
    "plt.ylabel('$x$(km)', fontsize=18)\n",
    "clb = plt.colorbar(pad=0.01, aspect=20, shrink=1)\n",
    "clb.ax.tick_params(labelsize=13)\n",
    "clb.ax.set_title('nT')\n",
    "mpl.m2km()\n",
    "\n",
    "plt.subplot(1, 3, 2)\n",
    "plt.title('Predicted', fontsize=20)\n",
    "plt.tricontourf(di['yp'], di['xp'], di['data_fit'], 20, cmap='RdBu_r').ax.tick_params(labelsize=12)\n",
    "plt.xlabel('$y$(km)', fontsize=18)\n",
    "plt.ylabel('$x$(km)', fontsize=18)\n",
    "clb = plt.colorbar(pad=0.01, aspect=20, shrink=1)\n",
    "clb.ax.tick_params(labelsize=13)\n",
    "clb.ax.set_title('nT')\n",
    "mpl.m2km()\n",
    "\n",
    "plt.subplot(1, 3, 3)\n",
    "plt.title('Residual', fontsize=20)\n",
    "plt.tricontourf(di['yp'], di['xp'], di['data_fit'] - (dp[-1] + dp[-2] + dp[-3]), 20, cmap='RdBu_r').ax.tick_params(labelsize=12)\n",
    "plt.xlabel('$y$(km)', fontsize=18)\n",
    "plt.ylabel('$x$(km)', fontsize=18)\n",
    "clb = plt.colorbar(pad=0.01, aspect=20, shrink=1)\n",
    "clb.ax.set_title('nT')\n",
    "clb.ax.tick_params(labelsize=13)\n",
    "mpl.m2km()\n",
    "plt.show()\n",
    "#img(filename=mypath+'diorama_tfa_fit.png', width=1600, height=400)"
   ]
  },
  {
   "cell_type": "code",
   "execution_count": 1240,
   "metadata": {},
   "outputs": [],
   "source": [
    "x = di['xp']/1000.\n",
    "y = di['yp']/1000.\n",
    "z = di['zp']/1000.\n",
    "\n",
    "xt = di['xt']/1000.\n",
    "yt = di['yt']/1000.\n",
    "\n",
    "for i in range(len(di['prisms'])):\n",
    "    di['prisms'][i].x /= 1000.\n",
    "    di['prisms'][i].y /= 1000.\n",
    "    di['prisms'][i].z1 /= 1000.\n",
    "    di['prisms'][i].z2 /= 1000.\n",
    "verts = mfun.plot_prisms(di['prisms'])\n",
    "\n",
    "\n",
    "for i in range(len(di['initial_estimate'])):\n",
    "    di['initial_estimate'][i].x /= 1000.\n",
    "    di['initial_estimate'][i].y /= 1000.\n",
    "    di['initial_estimate'][i].z1 /= 1000.\n",
    "    di['initial_estimate'][i].z2 /= 1000.\n",
    "verts_initial = mfun.plot_prisms(di['initial_estimate'])"
   ]
  },
  {
   "cell_type": "code",
   "execution_count": 1241,
   "metadata": {},
   "outputs": [],
   "source": [
    "fig = plt.figure(figsize=(10,8))\n",
    "ax = fig.add_subplot(111, projection='3d')\n",
    "\n",
    "# plot sides\n",
    "ax.add_collection3d(Poly3DCollection(verts_initial, alpha=1, \n",
    " facecolor='b', linewidths=0, edgecolors='k'))\n",
    "\n",
    "ax.set_ylim(np.min(x), np.max(x), 100)\n",
    "ax.set_xlim(np.min(y), np.max(y), 100)\n",
    "ax.set_zlim(8, -2, 100)\n",
    "ax.set_ylabel('X (km)')\n",
    "ax.set_xlabel('Y (km)')\n",
    "ax.set_zlabel('Z (km)')\n",
    "ax.view_init(10, 150)\n",
    "#ax.set_xticks(np.linspace(np.min(x), np.max(x), 5), minor=True)\n",
    "#ax.set_yticks(np.linspace(np.min(y), np.max(y), 5), minor=True)\n",
    "#ax.set_zticks(np.linspace(6, 0, 6), minor=True)\n",
    "\n",
    "#norm=mpb.colors.Normalize(vmin=np.min(di['residual']), vmax=np.min(di['residual'])*(-1))\n",
    "#ax.tricontourf(x, y, di['residual'],\n",
    "#                zdir='z', offset=-0.100, cmap='RdBu_r', norm=norm)\n",
    "\n",
    "plt.savefig(mypath+'diorama_3d_initial_estimate.png', dpi=300, bbox_inches=\"tight\")\n",
    "plt.show()\n",
    "\n",
    "#img(filename=mypath+'complex_3d_estimate.png', width=400, height=400)"
   ]
  },
  {
   "cell_type": "code",
   "execution_count": 1242,
   "metadata": {},
   "outputs": [],
   "source": [
    "fig = plt.figure(figsize=(10,8))\n",
    "ax = fig.add_subplot(111, projection='3d')\n",
    "\n",
    "# plot sides\n",
    "ax.add_collection3d(Poly3DCollection(verts, alpha=0.3, \n",
    " facecolor='r', linewidths=0.5, edgecolors='k'))\n",
    "ax.add_collection3d(Poly3DCollection(verts_initial, alpha=1, \n",
    " facecolor='b', linewidths=0, edgecolors='k'))\n",
    "\n",
    "ax.set_ylim(np.min(x), np.max(x), 100)\n",
    "ax.set_xlim(np.min(y), np.max(y), 100)\n",
    "ax.set_zlim(8, -2, 100)\n",
    "ax.set_ylabel('X (km)')\n",
    "ax.set_xlabel('Y (km)')\n",
    "ax.set_zlabel('Z (km)')\n",
    "ax.view_init(10, 150)\n",
    "#ax.set_xticks(np.linspace(np.min(x), np.max(x)-2, 5), minor=True)\n",
    "#ax.set_yticks(np.linspace(np.min(y)+2, np.max(y)-1, 5), minor=True)\n",
    "#ax.set_zticks(np.linspace(6, 0, 6), minor=True)\n",
    "\n",
    "#norm=mpb.colors.Normalize(vmin=np.min(di['residual']), vmax=np.min(di['residual'])*(-1))\n",
    "#ax.tricontourf(x, y, di['residual'],\n",
    "#                zdir='z', offset=-0.100, cmap='RdBu_r', norm=norm)\n",
    "\n",
    "plt.savefig(mypath+'diorama_3d_estimate.png', dpi=300, bbox_inches=\"tight\")\n",
    "plt.show()\n",
    "\n",
    "#img(filename=mypath+'complex_3d_estimate.png', width=400, height=400)"
   ]
  },
  {
   "cell_type": "code",
   "execution_count": 1243,
   "metadata": {},
   "outputs": [],
   "source": [
    "fig = plt.figure(figsize=(10,8))\n",
    "ax = fig.add_subplot(111, projection='3d')\n",
    "\n",
    "# plot sides\n",
    "ax.add_collection3d(Poly3DCollection(verts, alpha=0.3, \n",
    " facecolor='r', linewidths=0.5, edgecolors='k'))\n",
    "ax.add_collection3d(Poly3DCollection(verts_initial, alpha=0.3, \n",
    " facecolor='b', linewidths=0, edgecolors='k'))\n",
    "\n",
    "ax.set_ylim(np.min(x), np.max(x), 100)\n",
    "ax.set_xlim(np.min(y), np.max(y), 100)\n",
    "ax.set_zlim(8, -2, 100)\n",
    "ax.set_ylabel('X (km)')\n",
    "ax.set_xlabel('Y (km)')\n",
    "ax.set_zlabel('Z (km)')\n",
    "ax.view_init(-10, 30)\n",
    "#ax.set_xticks(np.linspace(np.min(x), np.max(x)-2, 5), minor=True)\n",
    "#ax.set_yticks(np.linspace(np.min(y)+2, np.max(y)-1, 5), minor=True)\n",
    "#ax.set_zticks(np.linspace(6, 0, 6), minor=True)\n",
    "\n",
    "#norm=mpb.colors.Normalize(vmin=np.min(di['residual']), vmax=np.min(di['residual'])*(-1))\n",
    "#ax.tricontourf(x, y, di['residual'],\n",
    "#                zdir='z', offset=-0.100, cmap='RdBu_r', norm=norm)\n",
    "\n",
    "plt.savefig(mypath+'diorama_3d_estimate2.png', dpi=300, bbox_inches=\"tight\")\n",
    "plt.show()\n",
    "\n",
    "#img(filename=mypath+'complex_3d_estimate.png', width=400, height=400)"
   ]
  },
  {
   "cell_type": "code",
   "execution_count": 1244,
   "metadata": {},
   "outputs": [],
   "source": [
    "fig = plt.figure(figsize=(10,8))\n",
    "ax = fig.gca(projection='3d')\n",
    "\n",
    "# plot sides\n",
    "ax.add_collection3d(Poly3DCollection(verts, alpha=0.3, \n",
    " facecolor='r', linewidths=0.5, edgecolors='k'))\n",
    "#ax.add_collection3d(Poly3DCollection(verts_initial, alpha=1, \n",
    "# facecolor='b', linewidths=0, edgecolors='k'))\n",
    "\n",
    "ax.set_ylim(np.min(x), np.max(x), 100)\n",
    "ax.set_xlim(np.min(y), np.max(y), 100)\n",
    "ax.set_zlim(8, -2, 100)\n",
    "ax.set_ylabel('X (km)')\n",
    "ax.set_xlabel('Y (km)')\n",
    "ax.set_zlabel('Z (km)')\n",
    "ax.view_init(20, 200)\n",
    "#ax.set_xticks(np.linspace(np.min(x), np.max(x)-2, 4), minor=True)\n",
    "#ax.set_yticks(np.linspace(np.min(y)+2, np.max(y)-1, 5), minor=True)\n",
    "#ax.set_zticks(np.linspace(6, 0, 6), minor=True)\n",
    "\n",
    "#norm=mpb.colors.Normalize(vmin=np.min(di['residual']), vmax=np.min(di['residual'])*(-1))\n",
    "#ax.tricontourf(y, x, di['residual'],\n",
    "#                zdir='z', offset=-2.00, cmap='RdBu_r', norm=norm)\n",
    "\n",
    "#ax.plot_trisurf(yt, xt, -di['topography']/1000., linewidth=0.2, antialiased=True, cmap='inferno')\n",
    "\n",
    "plt.savefig(mypath+'diorama_3d_estimate3.png', dpi=300, bbox_inches=\"tight\")\n",
    "plt.show()\n",
    "\n",
    "#img(filename=mypath+'complex_3d_estimate.png', width=400, height=400)"
   ]
  },
  {
   "cell_type": "code",
   "execution_count": 1245,
   "metadata": {},
   "outputs": [],
   "source": [
    "o = np.ones((5,5))\n",
    "q = np.linspace(1,5,5)\n",
    "Q = np.diag(q)"
   ]
  },
  {
   "cell_type": "code",
   "execution_count": 1246,
   "metadata": {},
   "outputs": [
    {
     "data": {
      "text/plain": [
       "array([[1., 2., 3., 4., 5.],\n",
       "       [1., 2., 3., 4., 5.],\n",
       "       [1., 2., 3., 4., 5.],\n",
       "       [1., 2., 3., 4., 5.],\n",
       "       [1., 2., 3., 4., 5.]])"
      ]
     },
     "execution_count": 1246,
     "metadata": {},
     "output_type": "execute_result"
    }
   ],
   "source": [
    "np.dot(o,Q)"
   ]
  },
  {
   "cell_type": "code",
   "execution_count": 1247,
   "metadata": {},
   "outputs": [
    {
     "data": {
      "text/plain": [
       "array([[1., 0., 0., 0., 0.],\n",
       "       [0., 2., 0., 0., 0.],\n",
       "       [0., 0., 3., 0., 0.],\n",
       "       [0., 0., 0., 4., 0.],\n",
       "       [0., 0., 0., 0., 5.]])"
      ]
     },
     "execution_count": 1247,
     "metadata": {},
     "output_type": "execute_result"
    }
   ],
   "source": [
    "o*Q.T"
   ]
  },
  {
   "cell_type": "code",
   "execution_count": 1248,
   "metadata": {},
   "outputs": [
    {
     "data": {
      "text/plain": [
       "array([[1., 1., 1., 1., 1.],\n",
       "       [2., 2., 2., 2., 2.],\n",
       "       [3., 3., 3., 3., 3.],\n",
       "       [4., 4., 4., 4., 4.],\n",
       "       [5., 5., 5., 5., 5.]])"
      ]
     },
     "execution_count": 1248,
     "metadata": {},
     "output_type": "execute_result"
    }
   ],
   "source": [
    "np.dot(Q,o)"
   ]
  },
  {
   "cell_type": "code",
   "execution_count": 1249,
   "metadata": {},
   "outputs": [
    {
     "data": {
      "text/plain": [
       "array([[1., 2., 3., 4., 5.],\n",
       "       [1., 2., 3., 4., 5.],\n",
       "       [1., 2., 3., 4., 5.],\n",
       "       [1., 2., 3., 4., 5.],\n",
       "       [1., 2., 3., 4., 5.]])"
      ]
     },
     "execution_count": 1249,
     "metadata": {},
     "output_type": "execute_result"
    }
   ],
   "source": [
    "o.T*q"
   ]
  },
  {
   "cell_type": "code",
   "execution_count": 1250,
   "metadata": {},
   "outputs": [
    {
     "data": {
      "text/plain": [
       "array([1., 1., 1., 1., 1.])"
      ]
     },
     "execution_count": 1250,
     "metadata": {},
     "output_type": "execute_result"
    }
   ],
   "source": [
    "np.linalg.solve(Q, q)"
   ]
  },
  {
   "cell_type": "code",
   "execution_count": null,
   "metadata": {},
   "outputs": [],
   "source": []
  }
 ],
 "metadata": {
  "kernelspec": {
   "display_name": "Python 2",
   "language": "python",
   "name": "python2"
  },
  "language_info": {
   "codemirror_mode": {
    "name": "ipython",
    "version": 2
   },
   "file_extension": ".py",
   "mimetype": "text/x-python",
   "name": "python",
   "nbconvert_exporter": "python",
   "pygments_lexer": "ipython2",
   "version": "2.7.16"
  }
 },
 "nbformat": 4,
 "nbformat_minor": 2
}
