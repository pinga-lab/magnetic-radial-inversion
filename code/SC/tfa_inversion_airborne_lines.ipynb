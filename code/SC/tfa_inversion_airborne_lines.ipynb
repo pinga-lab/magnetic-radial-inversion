{
 "cells": [
  {
   "cell_type": "markdown",
   "metadata": {},
   "source": [
    "# Santa Catarina TFA inversion"
   ]
  },
  {
   "cell_type": "code",
   "execution_count": 321,
   "metadata": {},
   "outputs": [],
   "source": [
    "import numpy as np\n",
    "import matplotlib.pyplot as plt\n",
    "import cPickle as pickle\n",
    "import os\n",
    "import pandas as pd\n",
    "\n",
    "from fatiando import utils\n",
    "from fatiando.gravmag import polyprism\n",
    "from fatiando.mesher import PolygonalPrism\n",
    "from fatiando.vis import mpl, myv\n",
    "from matplotlib import colors, ticker, cm\n",
    "from IPython.display import Image as img\n",
    "from matplotlib.mlab import normpdf"
   ]
  },
  {
   "cell_type": "markdown",
   "metadata": {},
   "source": [
    "### Auxiliary functions"
   ]
  },
  {
   "cell_type": "code",
   "execution_count": 322,
   "metadata": {
    "collapsed": true
   },
   "outputs": [],
   "source": [
    "import sys\n",
    "sys.path.insert(0, '../../code')\n",
    "\n",
    "import mag_polyprism_functions as mfun\n",
    "import mag_sphere_functions as msf"
   ]
  },
  {
   "cell_type": "markdown",
   "metadata": {},
   "source": [
    "# Input"
   ]
  },
  {
   "cell_type": "markdown",
   "metadata": {},
   "source": [
    "### Importing Diorama TFA data"
   ]
  },
  {
   "cell_type": "code",
   "execution_count": 323,
   "metadata": {},
   "outputs": [],
   "source": [
    "dataset = pd.read_csv('mag_y_x_tmi_cortado.dat', skipinitialspace=True, delim_whitespace=True)"
   ]
  },
  {
   "cell_type": "code",
   "execution_count": 324,
   "metadata": {},
   "outputs": [],
   "source": [
    "mask = (dataset['Y'] <= 695000.) & (dataset['Y'] >= 680000.) & (dataset['X'] <= 6930000.) & (dataset['X'] >= 6915000.)\n",
    "data = dataset[mask].iloc[range(0, dataset[mask].shape[0], 6)]"
   ]
  },
  {
   "cell_type": "code",
   "execution_count": 325,
   "metadata": {},
   "outputs": [],
   "source": [
    "xp = data['X'].get_values()\n",
    "yp = data['Y'].get_values()\n",
    "zp = np.zeros(xp.size) - 100.\n",
    "dobs = data['MAGIGRF'].get_values()"
   ]
  },
  {
   "cell_type": "markdown",
   "metadata": {},
   "source": [
    "### Parameters for inversion"
   ]
  },
  {
   "cell_type": "code",
   "execution_count": 326,
   "metadata": {},
   "outputs": [],
   "source": [
    "# output of inversion\n",
    "inversion = dict()"
   ]
  },
  {
   "cell_type": "code",
   "execution_count": 327,
   "metadata": {},
   "outputs": [
    {
     "data": {
      "text/plain": [
       "2400"
      ]
     },
     "execution_count": 327,
     "metadata": {},
     "output_type": "execute_result"
    }
   ],
   "source": [
    "inversion['xp'] = xp\n",
    "inversion['yp'] = yp\n",
    "inversion['zp'] = zp\n",
    "inversion['observed_data'] = dobs\n",
    "N = xp.size\n",
    "N"
   ]
  },
  {
   "cell_type": "code",
   "execution_count": 328,
   "metadata": {
    "collapsed": false
   },
   "outputs": [],
   "source": [
    "#initial estimate\n",
    "M = 20 # number of vertices per prism\n",
    "L = 10 # number of prisms\n",
    "P = L*(M+2) + 1 # number of parameters\n",
    "\n",
    "#figura\n",
    "#incs = -37.05\n",
    "#decs = -18.17\n",
    "#intensity = 20.\n",
    "\n",
    "# andré\n",
    "incs = -22.35\n",
    "decs = -18.59\n",
    "intensity = 5.\n",
    "\n",
    "#figura\n",
    "z0 = 400.\n",
    "dz = 400.\n",
    "r = 200.\n",
    "props = {'magnetization': utils.ang2vec(\n",
    "        intensity, incs, decs)}\n",
    "\n",
    "rin = np.zeros(M) + r\n",
    "m0 = np.hstack((rin, np.array([6921250., 688000.])))\n",
    "m0 = np.resize(m0, P - 1) # inicial parameters vector\n",
    "m0 = np.hstack((m0, dz))\n",
    "model0 = mfun.param2polyprism(m0, M, L, z0, props) # list of classes of prisms\n",
    "\n",
    "# main field\n",
    "inc = -37.05\n",
    "dec = -18.17\n",
    "\n",
    "# predict data\n",
    "d0 = polyprism.tf(xp, yp, zp, model0, inc, dec)"
   ]
  },
  {
   "cell_type": "code",
   "execution_count": 329,
   "metadata": {},
   "outputs": [
    {
     "data": {
      "image/png": "[encoded data removed]",
      "text/plain": [
       "<Figure size 720x504 with 2 Axes>"
      ]
     },
     "metadata": {
      "needs_background": "light"
     },
     "output_type": "display_data"
    }
   ],
   "source": [
    "plt.figure(figsize=(10,7))\n",
    "plt.title('Predict TFA', fontsize=20)\n",
    "plt.tricontourf(yp, xp, d0, 20, cmap='RdBu_r').ax.tick_params(labelsize=12)\n",
    "plt.xlabel('$y$(km)', fontsize=18)\n",
    "plt.ylabel('$x$(km)', fontsize=18)\n",
    "clb = plt.colorbar(pad=0.025, aspect=40, shrink=1)\n",
    "clb.ax.tick_params(labelsize=13)\n",
    "estimate = mpl.polygon(model0[0], '.-r', xy2ne=True)\n",
    "estimate.set_label('Initial estimate')\n",
    "clb.ax.set_title('nT')\n",
    "mpl.m2km()\n",
    "plt.legend(loc=0, fontsize=12, shadow=bool, framealpha=1)\n",
    "plt.show()"
   ]
  },
  {
   "cell_type": "code",
   "execution_count": 330,
   "metadata": {},
   "outputs": [],
   "source": [
    "# limits for parameters in meters\n",
    "rmin = 50.\n",
    "rmax = 3000.\n",
    "y0min = 686931.\n",
    "y0max = 690931.\n",
    "x0min = 6918250.\n",
    "x0max = 6923250.\n",
    "dzmin = 10.\n",
    "dzmax = 1000.\n",
    "\n",
    "mmin, mmax = mfun.build_range_param(M, L, rmin, rmax, x0min, x0max, y0min, y0max, dzmin, dzmax)"
   ]
  },
  {
   "cell_type": "code",
   "execution_count": 331,
   "metadata": {},
   "outputs": [],
   "source": [
    "# variation for derivatives\n",
    "deltax = 0.01*np.max(x0max)\n",
    "deltay = 0.01*np.max(y0max)\n",
    "deltar = 0.01*np.max(rmax)\n",
    "deltaz = 0.01*np.max(dzmax)\n",
    "delta = np.array([deltax, deltay, deltar, deltaz])"
   ]
  },
  {
   "cell_type": "code",
   "execution_count": 332,
   "metadata": {},
   "outputs": [],
   "source": [
    "m_out = np.zeros(M + 2)  # outcropping body parameters"
   ]
  },
  {
   "cell_type": "markdown",
   "metadata": {},
   "source": [
    "### Regularization parameters"
   ]
  },
  {
   "cell_type": "code",
   "execution_count": 333,
   "metadata": {
    "collapsed": true
   },
   "outputs": [],
   "source": [
    "#lamb = th*0.01 # Marquadt's parameter\n",
    "lamb = 1000.0\n",
    "dlamb = 10.      # step for Marquadt's parameter\n",
    "\n",
    "a1 = 0.000001   # adjacent radial distances within each prism\n",
    "a2 = 0.000001 # vertically adjacent radial distances\n",
    "a3 = 0.    # outcropping cross-section\n",
    "a4 = 0.     # outcropping origin\n",
    "a5 = 0.0001     # vertically adjacent origins\n",
    "a6 = 0.0000001   # zero order Tikhonov on adjacent radial distances\n",
    "a7 = 0.0001     # zero order Tikhonov on thickness of each prism"
   ]
  },
  {
   "cell_type": "code",
   "execution_count": 334,
   "metadata": {},
   "outputs": [],
   "source": [
    "alpha = np.array([a1, a2, a3, a4, a5, a6, a7])"
   ]
  },
  {
   "cell_type": "code",
   "execution_count": 335,
   "metadata": {},
   "outputs": [],
   "source": [
    "itmax = 100\n",
    "itmax_marq = 15\n",
    "tol = 1.0e-4     # stop criterion"
   ]
  },
  {
   "cell_type": "markdown",
   "metadata": {},
   "source": [
    "### Inversion"
   ]
  },
  {
   "cell_type": "code",
   "execution_count": 336,
   "metadata": {},
   "outputs": [
    {
     "name": "stdout",
     "output_type": "stream",
     "text": [
      "it:  0   it_marq:  0   lambda: 1e+03   misfit: 1.56050e+04\n",
      "it:  1   it_marq:  0   lambda: 1e+02   misfit: 6.66191e+03\n",
      "it:  2   it_marq:  0   lambda: 1e+01   misfit: 4.79781e+03\n",
      "it:  3   it_marq:  0   lambda: 1e+00   misfit: 8.34001e+03\n",
      "it:  3   it_marq:  1   lambda: 1e+01   misfit: 4.21281e+03\n",
      "it:  4   it_marq:  0   lambda: 1e+00   misfit: 7.97764e+03\n",
      "it:  4   it_marq:  1   lambda: 1e+01   misfit: 4.06451e+03\n",
      "it:  5   it_marq:  0   lambda: 1e+00   misfit: 7.00000e+03\n",
      "it:  5   it_marq:  1   lambda: 1e+01   misfit: 4.15311e+03\n",
      "it:  5   it_marq:  2   lambda: 1e+02   misfit: 3.98665e+03\n",
      "it:  6   it_marq:  0   lambda: 1e+01   misfit: 3.86582e+03\n",
      "it:  7   it_marq:  0   lambda: 1e+00   misfit: 6.97156e+03\n",
      "it:  7   it_marq:  1   lambda: 1e+01   misfit: 3.79348e+03\n",
      "it:  8   it_marq:  0   lambda: 1e+00   misfit: 6.15493e+03\n",
      "it:  8   it_marq:  1   lambda: 1e+01   misfit: 3.85105e+03\n",
      "it:  8   it_marq:  2   lambda: 1e+02   misfit: 3.75809e+03\n",
      "it:  9   it_marq:  0   lambda: 1e+01   misfit: 4.83298e+03\n",
      "it:  9   it_marq:  1   lambda: 1e+02   misfit: 3.73954e+03\n",
      "it: 10   it_marq:  0   lambda: 1e+01   misfit: 4.94199e+03\n",
      "it: 10   it_marq:  1   lambda: 1e+02   misfit: 3.73777e+03\n",
      "it: 11   it_marq:  0   lambda: 1e+01   misfit: 4.88081e+03\n",
      "it: 11   it_marq:  1   lambda: 1e+02   misfit: 3.73049e+03\n",
      "it: 12   it_marq:  0   lambda: 1e+01   misfit: 5.10844e+03\n",
      "it: 12   it_marq:  1   lambda: 1e+02   misfit: 3.72826e+03\n",
      "it: 13   it_marq:  0   lambda: 1e+01   misfit: 5.47866e+03\n",
      "it: 13   it_marq:  1   lambda: 1e+02   misfit: 3.72233e+03\n",
      "it: 14   it_marq:  0   lambda: 1e+01   misfit: 6.43642e+03\n",
      "it: 14   it_marq:  1   lambda: 1e+02   misfit: 3.71823e+03\n",
      "it: 15   it_marq:  0   lambda: 1e+01   misfit: 6.52974e+03\n",
      "it: 15   it_marq:  1   lambda: 1e+02   misfit: 3.71536e+03\n",
      "it: 16   it_marq:  0   lambda: 1e+01   misfit: 6.67335e+03\n",
      "it: 16   it_marq:  1   lambda: 1e+02   misfit: 3.71198e+03\n",
      "it: 17   it_marq:  0   lambda: 1e+01   misfit: 6.63596e+03\n",
      "it: 17   it_marq:  1   lambda: 1e+02   misfit: 3.71143e+03\n",
      "it: 18   it_marq:  0   lambda: 1e+01   misfit: 6.86570e+03\n",
      "it: 18   it_marq:  1   lambda: 1e+02   misfit: 3.77850e+03\n",
      "it: 18   it_marq:  2   lambda: 1e+03   misfit: 3.70938e+03\n",
      "it: 19   it_marq:  0   lambda: 1e+02   misfit: 3.70801e+03\n",
      "it: 20   it_marq:  0   lambda: 1e+01   misfit: 7.09613e+03\n",
      "it: 20   it_marq:  1   lambda: 1e+02   misfit: 3.70706e+03\n",
      "it: 21   it_marq:  0   lambda: 1e+01   misfit: 7.39132e+03\n",
      "it: 21   it_marq:  1   lambda: 1e+02   misfit: 3.70852e+03\n",
      "it: 21   it_marq:  2   lambda: 1e+03   misfit: 3.70686e+03\n"
     ]
    }
   ],
   "source": [
    "d_fit, m_est, model_est, phi_list, model_list, res_list = mfun.levmarq_tf(xp, yp, zp, m0, M, L, delta, itmax,\n",
    "                                                    itmax_marq, lamb, dlamb, tol,\n",
    "                                                    mmin, mmax, m_out, dobs, inc, dec,\n",
    "                                                    props, alpha, z0, dz)"
   ]
  },
  {
   "cell_type": "code",
   "execution_count": 337,
   "metadata": {},
   "outputs": [],
   "source": [
    "inversion['inc_dec'] = [incs, decs]\n",
    "inversion['z0'] = z0\n",
    "inversion['initial_dz'] = dz\n",
    "inversion['intial_r'] = r\n",
    "inversion['initial_estimate'] = model0\n",
    "inversion['initial_data'] = d0\n",
    "inversion['limits'] = [rmin, rmax, x0min, x0max, y0min, y0max, dzmin, dzmax]\n",
    "inversion['regularization'] = alpha\n",
    "inversion['tol'] = tol\n",
    "inversion['main_field'] = [inc, dec]"
   ]
  },
  {
   "cell_type": "code",
   "execution_count": 338,
   "metadata": {},
   "outputs": [],
   "source": [
    "mypath = 'tfa_inversion/inc%d_dec%d_r%d_int%d_z0%d_dz%d' % (incs, decs, rin[0], np.linalg.norm(props['magnetization']), z0, dz)\n",
    "if not os.path.isdir(mypath):\n",
    "   os.makedirs(mypath)"
   ]
  },
  {
   "cell_type": "code",
   "execution_count": 339,
   "metadata": {},
   "outputs": [],
   "source": [
    "inversion['data_fit'] = d_fit\n",
    "inversion['estimate'] = m_est\n",
    "inversion['prisms'] = model_est\n",
    "inversion['objective'] = phi_list\n",
    "inversion['residual'] = dobs - d_fit"
   ]
  },
  {
   "cell_type": "code",
   "execution_count": 340,
   "metadata": {},
   "outputs": [],
   "source": [
    "file_name = mypath+'/inversion.pickle'\n",
    "with open(file_name, 'w') as f:\n",
    "    pickle.dump(inversion, f)"
   ]
  }
 ],
 "metadata": {
  "kernelspec": {
   "display_name": "Python 2",
   "language": "python",
   "name": "python2"
  },
  "language_info": {
   "codemirror_mode": {
    "name": "ipython",
    "version": 2
   },
   "file_extension": ".py",
   "mimetype": "text/x-python",
   "name": "python",
   "nbconvert_exporter": "python",
   "pygments_lexer": "ipython2",
   "version": "2.7.15"
  }
 },
 "nbformat": 4,
 "nbformat_minor": 2
}
