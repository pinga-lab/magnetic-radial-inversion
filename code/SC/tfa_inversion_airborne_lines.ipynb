{
 "cells": [
  {
   "cell_type": "markdown",
   "metadata": {},
   "source": [
    "# Santa Catarina TFA inversion"
   ]
  },
  {
   "cell_type": "code",
   "execution_count": 93,
   "metadata": {},
   "outputs": [],
   "source": [
    "import numpy as np\n",
    "import matplotlib.pyplot as plt\n",
    "import cPickle as pickle\n",
    "import os\n",
    "import pandas as pd\n",
    "\n",
    "from fatiando import utils\n",
    "from fatiando.gravmag import polyprism\n",
    "from fatiando.mesher import PolygonalPrism\n",
    "from fatiando.vis import mpl, myv\n",
    "from matplotlib import colors, ticker, cm\n",
    "from IPython.display import Image as img\n",
    "from matplotlib.mlab import normpdf"
   ]
  },
  {
   "cell_type": "markdown",
   "metadata": {},
   "source": [
    "### Auxiliary functions"
   ]
  },
  {
   "cell_type": "code",
   "execution_count": 94,
   "metadata": {
    "collapsed": true
   },
   "outputs": [],
   "source": [
    "import sys\n",
    "sys.path.insert(0, '../../code')\n",
    "\n",
    "import mag_polyprism_functions as mfun\n",
    "import mag_sphere_functions as msf"
   ]
  },
  {
   "cell_type": "markdown",
   "metadata": {},
   "source": [
    "# Input"
   ]
  },
  {
   "cell_type": "markdown",
   "metadata": {},
   "source": [
    "### Importing Diorama TFA data"
   ]
  },
  {
   "cell_type": "code",
   "execution_count": 95,
   "metadata": {},
   "outputs": [],
   "source": [
    "dataset = pd.read_csv('mag_y_x_tmi_cortado.dat', skipinitialspace=True, delim_whitespace=True)"
   ]
  },
  {
   "cell_type": "code",
   "execution_count": 96,
   "metadata": {},
   "outputs": [],
   "source": [
    "mask = (dataset['Y'] <= 695000.) & (dataset['Y'] >= 680000.) & (dataset['X'] <= 6930000.) & (dataset['X'] >= 6915000.)\n",
    "data = dataset[mask].iloc[range(0, dataset[mask].shape[0], 6)]"
   ]
  },
  {
   "cell_type": "code",
   "execution_count": 97,
   "metadata": {},
   "outputs": [],
   "source": [
    "xp = data['X'].get_values()\n",
    "yp = data['Y'].get_values()\n",
    "zp = np.zeros(xp.size) - 100.\n",
    "dobs = data['MAGIGRF'].get_values()"
   ]
  },
  {
   "cell_type": "markdown",
   "metadata": {},
   "source": [
    "### Parameters for inversion"
   ]
  },
  {
   "cell_type": "code",
   "execution_count": 98,
   "metadata": {},
   "outputs": [],
   "source": [
    "# output of inversion\n",
    "inversion = dict()"
   ]
  },
  {
   "cell_type": "code",
   "execution_count": 99,
   "metadata": {},
   "outputs": [],
   "source": [
    "inversion['xp'] = xp\n",
    "inversion['yp'] = yp\n",
    "inversion['zp'] = zp\n",
    "inversion['observed_data'] = dobs\n",
    "N = xp.size"
   ]
  },
  {
   "cell_type": "code",
   "execution_count": 100,
   "metadata": {
    "collapsed": false
   },
   "outputs": [],
   "source": [
    "#initial estimate\n",
    "M = 20 # number of vertices per prism\n",
    "L = 10 # number of prisms\n",
    "P = L*(M+2) + 1 # number of parameters\n",
    "\n",
    "#figura\n",
    "incs = -37.05\n",
    "decs = -18.17\n",
    "intensity = 20.\n",
    "\n",
    "# andré\n",
    "#incs = -22.35\n",
    "#decs = -18.59\n",
    "#intensity = 10.\n",
    "\n",
    "#figura\n",
    "z0 = 700.\n",
    "dz = 450.\n",
    "r = 500.\n",
    "props = {'magnetization': utils.ang2vec(\n",
    "        intensity, incs, decs)}\n",
    "\n",
    "rin = np.zeros(M) + r\n",
    "m0 = np.hstack((rin, np.array([6921250., 688000.])))\n",
    "m0 = np.resize(m0, P - 1) # inicial parameters vector\n",
    "m0 = np.hstack((m0, dz))\n",
    "model0 = mfun.param2polyprism(m0, M, L, z0, props) # list of classes of prisms\n",
    "\n",
    "# main field\n",
    "inc = -37.05\n",
    "dec = -18.17\n",
    "\n",
    "# predict data\n",
    "d0 = polyprism.tf(xp, yp, zp, model0, inc, dec)"
   ]
  },
  {
   "cell_type": "code",
   "execution_count": 101,
   "metadata": {},
   "outputs": [
    {
     "data": {
      "image/png": "[encoded data removed]",
      "text/plain": [
       "<matplotlib.figure.Figure at 0xd042438>"
      ]
     },
     "metadata": {
      "needs_background": "light"
     },
     "output_type": "display_data"
    }
   ],
   "source": [
    "plt.figure(figsize=(10,7))\n",
    "plt.title('Predict TFA', fontsize=20)\n",
    "plt.tricontourf(yp, xp, d0, 20, cmap='RdBu_r').ax.tick_params(labelsize=12)\n",
    "plt.xlabel('$y$(km)', fontsize=18)\n",
    "plt.ylabel('$x$(km)', fontsize=18)\n",
    "clb = plt.colorbar(pad=0.025, aspect=40, shrink=1)\n",
    "clb.ax.tick_params(labelsize=13)\n",
    "estimate = mpl.polygon(model0[0], '.-r', xy2ne=True)\n",
    "estimate.set_label('Initial estimate')\n",
    "clb.ax.set_title('nT')\n",
    "mpl.m2km()\n",
    "plt.legend(loc=0, fontsize=12, shadow=bool, framealpha=1)\n",
    "plt.show()"
   ]
  },
  {
   "cell_type": "code",
   "execution_count": 102,
   "metadata": {},
   "outputs": [],
   "source": [
    "# limits for parameters in meters\n",
    "rmin = 50.\n",
    "rmax = 3000.\n",
    "y0min = 686931.\n",
    "y0max = 690931.\n",
    "x0min = 6918250.\n",
    "x0max = 6923250.\n",
    "dzmin = 10.\n",
    "dzmax = 1000.\n",
    "\n",
    "mmin, mmax = mfun.build_range_param(M, L, rmin, rmax, x0min, x0max, y0min, y0max, dzmin, dzmax)"
   ]
  },
  {
   "cell_type": "code",
   "execution_count": 103,
   "metadata": {},
   "outputs": [],
   "source": [
    "# variation for derivatives\n",
    "deltax = 0.01*np.max(x0max)\n",
    "deltay = 0.01*np.max(y0max)\n",
    "deltar = 0.01*np.max(rmax)\n",
    "deltaz = 0.01*np.max(dzmax)\n",
    "delta = np.array([deltax, deltay, deltar, deltaz])"
   ]
  },
  {
   "cell_type": "code",
   "execution_count": 104,
   "metadata": {},
   "outputs": [],
   "source": [
    "m_out = np.zeros(M + 2)  # outcropping body parameters"
   ]
  },
  {
   "cell_type": "markdown",
   "metadata": {},
   "source": [
    "### Regularization parameters"
   ]
  },
  {
   "cell_type": "code",
   "execution_count": 105,
   "metadata": {
    "collapsed": true
   },
   "outputs": [],
   "source": [
    "#lamb = th*0.01 # Marquadt's parameter\n",
    "lamb = 1000.0\n",
    "dlamb = 10.      # step for Marquadt's parameter\n",
    "\n",
    "a1 = 0.000001   # adjacent radial distances within each prism\n",
    "a2 = 0.000001 # vertically adjacent radial distances\n",
    "a3 = 0.    # outcropping cross-section\n",
    "a4 = 0.     # outcropping origin\n",
    "a5 = 0.0001     # vertically adjacent origins\n",
    "a6 = 0.0000001   # zero order Tikhonov on adjacent radial distances\n",
    "a7 = 0.0001     # zero order Tikhonov on thickness of each prism"
   ]
  },
  {
   "cell_type": "code",
   "execution_count": 106,
   "metadata": {},
   "outputs": [],
   "source": [
    "alpha = np.array([a1, a2, a3, a4, a5, a6, a7])"
   ]
  },
  {
   "cell_type": "code",
   "execution_count": 107,
   "metadata": {},
   "outputs": [],
   "source": [
    "itmax = 100\n",
    "itmax_marq = 15\n",
    "tol = 1.0e-4     # stop criterion"
   ]
  },
  {
   "cell_type": "markdown",
   "metadata": {},
   "source": [
    "### Inversion"
   ]
  },
  {
   "cell_type": "code",
   "execution_count": 108,
   "metadata": {},
   "outputs": [
    {
     "name": "stdout",
     "output_type": "stream",
     "text": [
      "it:  0   it_marq:  0   lambda: 1e+03   misfit: 4.67235e+03\n",
      "it:  1   it_marq:  0   lambda: 1e+02   misfit: 4.18299e+03\n",
      "it:  2   it_marq:  0   lambda: 1e+01   misfit: 3.96361e+03\n",
      "it:  3   it_marq:  0   lambda: 1e+00   misfit: 7.14470e+03\n",
      "it:  3   it_marq:  1   lambda: 1e+01   misfit: 3.84603e+03\n",
      "it:  4   it_marq:  0   lambda: 1e+00   misfit: 5.75958e+03\n",
      "it:  4   it_marq:  1   lambda: 1e+01   misfit: 3.78564e+03\n",
      "it:  5   it_marq:  0   lambda: 1e+00   misfit: 4.95802e+03\n",
      "it:  5   it_marq:  1   lambda: 1e+01   misfit: 3.74187e+03\n",
      "it:  6   it_marq:  0   lambda: 1e+00   misfit: 4.58151e+03\n",
      "it:  6   it_marq:  1   lambda: 1e+01   misfit: 3.70012e+03\n",
      "it:  7   it_marq:  0   lambda: 1e+00   misfit: 4.42214e+03\n",
      "it:  7   it_marq:  1   lambda: 1e+01   misfit: 3.66174e+03\n",
      "it:  8   it_marq:  0   lambda: 1e+00   misfit: 4.34567e+03\n",
      "it:  8   it_marq:  1   lambda: 1e+01   misfit: 3.62794e+03\n",
      "it:  9   it_marq:  0   lambda: 1e+00   misfit: 4.30969e+03\n",
      "it:  9   it_marq:  1   lambda: 1e+01   misfit: 3.59985e+03\n",
      "it: 10   it_marq:  0   lambda: 1e+00   misfit: 1.01565e+04\n",
      "it: 10   it_marq:  1   lambda: 1e+01   misfit: 3.56535e+03\n",
      "it: 11   it_marq:  0   lambda: 1e+00   misfit: 1.95179e+04\n",
      "it: 11   it_marq:  1   lambda: 1e+01   misfit: 3.52753e+03\n",
      "it: 12   it_marq:  0   lambda: 1e+00   misfit: 2.03898e+04\n",
      "it: 12   it_marq:  1   lambda: 1e+01   misfit: 3.49228e+03\n",
      "it: 13   it_marq:  0   lambda: 1e+00   misfit: 1.90038e+04\n",
      "it: 13   it_marq:  1   lambda: 1e+01   misfit: 3.45782e+03\n",
      "it: 14   it_marq:  0   lambda: 1e+00   misfit: 1.88585e+04\n",
      "it: 14   it_marq:  1   lambda: 1e+01   misfit: 3.42601e+03\n",
      "it: 15   it_marq:  0   lambda: 1e+00   misfit: 1.91257e+04\n",
      "it: 15   it_marq:  1   lambda: 1e+01   misfit: 3.39951e+03\n",
      "it: 16   it_marq:  0   lambda: 1e+00   misfit: 1.97539e+04\n",
      "it: 16   it_marq:  1   lambda: 1e+01   misfit: 3.37821e+03\n",
      "it: 17   it_marq:  0   lambda: 1e+00   misfit: 1.85759e+04\n",
      "it: 17   it_marq:  1   lambda: 1e+01   misfit: 3.36414e+03\n",
      "it: 18   it_marq:  0   lambda: 1e+00   misfit: 2.01085e+04\n",
      "it: 18   it_marq:  1   lambda: 1e+01   misfit: 3.35517e+03\n",
      "it: 19   it_marq:  0   lambda: 1e+00   misfit: 1.43231e+04\n",
      "it: 19   it_marq:  1   lambda: 1e+01   misfit: 3.36144e+03\n",
      "it: 19   it_marq:  2   lambda: 1e+02   misfit: 3.32910e+03\n",
      "it: 20   it_marq:  0   lambda: 1e+01   misfit: 3.34568e+03\n",
      "it: 20   it_marq:  1   lambda: 1e+02   misfit: 3.31139e+03\n",
      "it: 21   it_marq:  0   lambda: 1e+01   misfit: 3.33337e+03\n",
      "it: 21   it_marq:  1   lambda: 1e+02   misfit: 3.29848e+03\n",
      "it: 22   it_marq:  0   lambda: 1e+01   misfit: 3.54405e+03\n",
      "it: 22   it_marq:  1   lambda: 1e+02   misfit: 3.28894e+03\n",
      "it: 23   it_marq:  0   lambda: 1e+01   misfit: 3.82464e+03\n",
      "it: 23   it_marq:  1   lambda: 1e+02   misfit: 3.28185e+03\n",
      "it: 24   it_marq:  0   lambda: 1e+01   misfit: 3.99922e+03\n",
      "it: 24   it_marq:  1   lambda: 1e+02   misfit: 3.27657e+03\n",
      "it: 25   it_marq:  0   lambda: 1e+01   misfit: 4.19454e+03\n",
      "it: 25   it_marq:  1   lambda: 1e+02   misfit: 3.27255e+03\n",
      "it: 26   it_marq:  0   lambda: 1e+01   misfit: 4.63528e+03\n",
      "it: 26   it_marq:  1   lambda: 1e+02   misfit: 3.26950e+03\n",
      "it: 27   it_marq:  0   lambda: 1e+01   misfit: 5.07517e+03\n",
      "it: 27   it_marq:  1   lambda: 1e+02   misfit: 3.26735e+03\n",
      "it: 28   it_marq:  0   lambda: 1e+01   misfit: 5.06549e+03\n",
      "it: 28   it_marq:  1   lambda: 1e+02   misfit: 3.26587e+03\n",
      "it: 29   it_marq:  0   lambda: 1e+01   misfit: 5.05632e+03\n",
      "it: 29   it_marq:  1   lambda: 1e+02   misfit: 3.26481e+03\n",
      "it: 30   it_marq:  0   lambda: 1e+01   misfit: 5.04906e+03\n",
      "it: 30   it_marq:  1   lambda: 1e+02   misfit: 3.26396e+03\n",
      "it: 31   it_marq:  0   lambda: 1e+01   misfit: 5.04616e+03\n",
      "it: 31   it_marq:  1   lambda: 1e+02   misfit: 3.26325e+03\n",
      "it: 32   it_marq:  0   lambda: 1e+01   misfit: 5.06033e+03\n",
      "it: 32   it_marq:  1   lambda: 1e+02   misfit: 3.26266e+03\n",
      "it: 33   it_marq:  0   lambda: 1e+01   misfit: 5.24661e+03\n",
      "it: 33   it_marq:  1   lambda: 1e+02   misfit: 3.26219e+03\n",
      "it: 34   it_marq:  0   lambda: 1e+01   misfit: 6.19099e+03\n",
      "it: 34   it_marq:  1   lambda: 1e+02   misfit: 3.26185e+03\n",
      "it: 35   it_marq:  0   lambda: 1e+01   misfit: 7.26284e+03\n",
      "it: 35   it_marq:  1   lambda: 1e+02   misfit: 3.26166e+03\n"
     ]
    }
   ],
   "source": [
    "d_fit, m_est, model_est, phi_list, model_list, res_list = mfun.levmarq_tf(xp, yp, zp, m0, M, L, delta, itmax,\n",
    "                                                    itmax_marq, lamb, dlamb, tol,\n",
    "                                                    mmin, mmax, m_out, dobs, inc, dec,\n",
    "                                                    props, alpha, z0, dz)"
   ]
  },
  {
   "cell_type": "code",
   "execution_count": 109,
   "metadata": {},
   "outputs": [],
   "source": [
    "inversion['inc_dec'] = [incs, decs]\n",
    "inversion['z0'] = z0\n",
    "inversion['initial_dz'] = dz\n",
    "inversion['intial_r'] = r\n",
    "inversion['initial_estimate'] = model0\n",
    "inversion['initial_data'] = d0\n",
    "inversion['limits'] = [rmin, rmax, x0min, x0max, y0min, y0max, dzmin, dzmax]\n",
    "inversion['regularization'] = alpha\n",
    "inversion['tol'] = tol\n",
    "inversion['main_field'] = [inc, dec]"
   ]
  },
  {
   "cell_type": "code",
   "execution_count": 110,
   "metadata": {},
   "outputs": [],
   "source": [
    "mypath = 'tfa_inversion/inc%d_dec%d_r%d_int%d_z0%d_dz%d' % (incs, decs, rin[0], np.linalg.norm(props['magnetization']), z0, dz)\n",
    "if not os.path.isdir(mypath):\n",
    "   os.makedirs(mypath)"
   ]
  },
  {
   "cell_type": "code",
   "execution_count": 111,
   "metadata": {},
   "outputs": [],
   "source": [
    "inversion['data_fit'] = d_fit\n",
    "inversion['estimate'] = m_est\n",
    "inversion['prisms'] = model_est\n",
    "inversion['objective'] = phi_list\n",
    "inversion['residual'] = dobs - d_fit"
   ]
  },
  {
   "cell_type": "code",
   "execution_count": 112,
   "metadata": {},
   "outputs": [],
   "source": [
    "file_name = mypath+'/inversion.pickle'\n",
    "with open(file_name, 'w') as f:\n",
    "    pickle.dump(inversion, f)"
   ]
  }
 ],
 "metadata": {
  "kernelspec": {
   "display_name": "Python 2",
   "language": "python",
   "name": "python2"
  },
  "language_info": {
   "codemirror_mode": {
    "name": "ipython",
    "version": 2
   },
   "file_extension": ".py",
   "mimetype": "text/x-python",
   "name": "python",
   "nbconvert_exporter": "python",
   "pygments_lexer": "ipython2",
   "version": "2.7.15"
  }
 },
 "nbformat": 4,
 "nbformat_minor": 2
}
